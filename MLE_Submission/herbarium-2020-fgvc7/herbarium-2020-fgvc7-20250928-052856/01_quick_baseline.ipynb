{
  "cells": [
    {
      "id": "8f0aa914-4587-4822-aa58-aa07ff0cf46a",
      "cell_type": "code",
      "metadata": {},
      "source": [
        "import subprocess\n",
        "import sys\n",
        "import os\n",
        "import shutil\n",
        "from pathlib import Path\n",
        "\n",
        "# Always start with environment check\n",
        "print(subprocess.run(['bash', '-lc', 'nvidia-smi || true'], capture_output=True, text=True).stdout)\n",
        "\n",
        "# Sanity check first: try to import and verify torch\n",
        "try:\n",
        "    import torch\n",
        "    print('torch:', torch.__version__, 'built CUDA:', getattr(torch.version, 'cuda', None))\n",
        "    print('CUDA available:', torch.cuda.is_available())\n",
        "    assert str(getattr(torch.version,'cuda','')).startswith('12.1'), f'Wrong CUDA build: {torch.version.cuda}'\n",
        "    assert torch.cuda.is_available(), 'CUDA not available'\n",
        "    print('GPU:', torch.cuda.get_device_name(0))\n",
        "    \n",
        "    import torchvision\n",
        "    print('torchvision version:', torchvision.__version__)\n",
        "    assert torchvision.__version__.startswith('0.19.1+cu121'), f'Wrong torchvision version: {torchvision.__version__}'\n",
        "    \n",
        "    print('Environment already correctly set up, skipping installation.')\n",
        "    skip_install = True\n",
        "except (ImportError, AssertionError) as e:\n",
        "    print(f'Environment check failed: {e}. Proceeding with clean install.')\n",
        "    skip_install = False\n",
        "\n",
        "def pip(*args):\n",
        "    if skip_install:\n",
        "        print('Skipping pip command due to good environment.')\n",
        "        return\n",
        "    print('>', *args, flush=True)\n",
        "    subprocess.run([sys.executable, '-m', 'pip', *args], check=True)\n",
        "\n",
        "# Only do clean install if needed\n",
        "if not skip_install:\n",
        "    # 0) Hard reset any prior torch stacks (and possible duplicates under PIP_TARGET)\n",
        "    for pkg in ('torch','torchvision','torchaudio'):\n",
        "        subprocess.run([sys.executable, '-m', 'pip', 'uninstall', '-y', pkg], check=False)\n",
        "\n",
        "    # Clean stray site dirs that can shadow correct wheels (idempotent)\n",
        "    for d in (\n",
        "        '/app/.pip-target/torch',\n",
        "        '/app/.pip-target/torch-2.8.0.dist-info',\n",
        "        '/app/.pip-target/torch-2.4.1.dist-info',\n",
        "        '/app/.pip-target/torchvision',\n",
        "        '/app/.pip-target/torchvision-0.23.0.dist-info',\n",
        "        '/app/.pip-target/torchvision-0.19.1.dist-info',\n",
        "        '/app/.pip-target/torchaudio',\n",
        "        '/app/.pip-target/torchaudio-2.8.0.dist-info',\n",
        "        '/app/.pip-target/torchaudio-2.4.1.dist-info',\n",
        "        '/app/.pip-target/torchgen',\n",
        "        '/app/.pip-target/functorch',\n",
        "    ):\n",
        "        if os.path.exists(d):\n",
        "            print('Removing', d)\n",
        "            shutil.rmtree(d, ignore_errors=True)\n",
        "\n",
        "    # 1) Install the EXACT cu121 torch stack FIRST (matches your CUDA 12.1 container)\n",
        "    pip('install',\n",
        "        '--index-url', 'https://download.pytorch.org/whl/cu121',\n",
        "        '--extra-index-url', 'https://pypi.org/simple',\n",
        "        'torch==2.4.1', 'torchvision==0.19.1', 'torchaudio==2.4.1')\n",
        "\n",
        "    # 2) Create a constraints file to freeze torch versions for all later installs\n",
        "    Path('constraints.txt').write_text(\n",
        "        'torch==2.4.1\\n'\n",
        "        'torchvision==0.19.1\\n'\n",
        "        'torchaudio==2.4.1\\n'\n",
        "    )\n",
        "\n",
        "    # Skip timm for baseline to avoid conflicts; use torchvision models\n",
        "    print('Skipping timm installation for torchvision-only baseline')\n",
        "\n",
        "    # 3) Now install NON-torch deps, honoring constraints, and avoid upgrading torch\n",
        "    pip('install', '-c', 'constraints.txt',\n",
        "        'numpy', 'scipy', 'pandas', 'Pillow', 'opencv-python-headless',\n",
        "        '--upgrade-strategy', 'only-if-needed')\n",
        "\n",
        "# 4) Final sanity gate (hard fail on drift) - run always\n",
        "import torch\n",
        "print('torch:', torch.__version__, 'built CUDA:', getattr(torch.version, 'cuda', None))\n",
        "print('CUDA available:', torch.cuda.is_available())\n",
        "assert str(getattr(torch.version,'cuda','')).startswith('12.1'), f'Wrong CUDA build: {torch.version.cuda}'\n",
        "assert torch.cuda.is_available(), 'CUDA not available'\n",
        "print('GPU:', torch.cuda.get_device_name(0))\n",
        "\n",
        "import torchvision\n",
        "print('torchvision version:', torchvision.__version__)\n",
        "\n",
        "# Fix for OpenCV if needed (headless to avoid libGL dependency)\n",
        "try:\n",
        "    import cv2\n",
        "    print('OpenCV imported successfully:', cv2.__version__)\n",
        "except ImportError as e:\n",
        "    print(f'OpenCV import failed: {e}. Installing headless version.')\n",
        "    subprocess.run([sys.executable, '-m', 'pip', 'uninstall', '-y', 'opencv-python', 'opencv-contrib-python'], check=False)\n",
        "    subprocess.run([sys.executable, '-m', 'pip', 'install', '-c', 'constraints.txt', 'opencv-python-headless'], check=True)\n",
        "    import cv2\n",
        "    print('OpenCV headless installed and imported:', cv2.__version__)"
      ],
      "execution_count": 3,
      "outputs": [
        {
          "output_type": "stream",
          "name": "stdout",
          "text": [
            "Sun Sep 28 06:26:39 2025       \n+-----------------------------------------------------------------------------------------+\n| NVIDIA-SMI 550.144.06             Driver Version: 550.144.06     CUDA Version: 12.4     |\n|-----------------------------------------+------------------------+----------------------+\n| GPU  Name                 Persistence-M | Bus-Id          Disp.A | Volatile Uncorr. ECC |\n| Fan  Temp   Perf          Pwr:Usage/Cap |           Memory-Usage | GPU-Util  Compute M. |\n|                                         |                        |               MIG M. |\n|=========================================+========================+======================|\n|   0  NVIDIA A10-24Q                 On  |   00000002:00:00.0 Off |                    0 |\n| N/A   N/A    P0             N/A /  N/A  |     414MiB /  24512MiB |      0%      Default |\n|                                         |                        |                  N/A |\n+-----------------------------------------+------------------------+----------------------+\n                                                                                         \n+-----------------------------------------------------------------------------------------+\n| Processes:                                                                              |\n|  GPU   GI   CI        PID   Type   Process name                              GPU Memory |\n|        ID   ID                                                               Usage      |\n|=========================================================================================|\n+-----------------------------------------------------------------------------------------+\n\ntorch: 2.4.1+cu121 built CUDA: 12.1\nCUDA available: True\nGPU: NVIDIA A10-24Q\ntorchvision version: 0.19.1+cu121\nEnvironment already correctly set up, skipping installation.\ntorch: 2.4.1+cu121 built CUDA: 12.1\nCUDA available: True\nGPU: NVIDIA A10-24Q\ntorchvision version: 0.19.1+cu121\nOpenCV import failed: libGL.so.1: cannot open shared object file: No such file or directory. Installing headless version.\n"
          ]
        },
        {
          "output_type": "stream",
          "name": "stdout",
          "text": [
            "Found existing installation: opencv-python 4.11.0.86\nUninstalling opencv-python-4.11.0.86:\n  Successfully uninstalled opencv-python-4.11.0.86\n"
          ]
        },
        {
          "output_type": "stream",
          "name": "stderr",
          "text": [
            "WARNING: Skipping opencv-contrib-python as it is not installed.\n"
          ]
        },
        {
          "output_type": "stream",
          "name": "stdout",
          "text": [
            "Collecting opencv-python-headless\n  Downloading opencv_python_headless-4.12.0.88-cp37-abi3-manylinux2014_x86_64.manylinux_2_17_x86_64.whl (54.0 MB)\n"
          ]
        },
        {
          "output_type": "stream",
          "name": "stdout",
          "text": [
            "     \u2501\u2501\u2501\u2501\u2501\u2501\u2501\u2501\u2501\u2501\u2501\u2501\u2501\u2501\u2501\u2501\u2501\u2501\u2501\u2501\u2501\u2501\u2501\u2501\u2501\u2501\u2501\u2501\u2501\u2501\u2501\u2501\u2501\u2501\u2501\u2501\u2501\u2501\u2501 54.0/54.0 MB 275.9 MB/s eta 0:00:00\n"
          ]
        },
        {
          "output_type": "stream",
          "name": "stdout",
          "text": [
            "  Downloading opencv_python_headless-4.11.0.86-cp37-abi3-manylinux_2_17_x86_64.manylinux2014_x86_64.whl (50.0 MB)\n     \u2501\u2501\u2501\u2501\u2501\u2501\u2501\u2501\u2501\u2501\u2501\u2501\u2501\u2501\u2501\u2501\u2501\u2501\u2501\u2501\u2501\u2501\u2501\u2501\u2501\u2501\u2501\u2501\u2501\u2501\u2501\u2501\u2501\u2501\u2501\u2501\u2501\u2501\u2501 50.0/50.0 MB 241.3 MB/s eta 0:00:00\n"
          ]
        },
        {
          "output_type": "stream",
          "name": "stdout",
          "text": [
            "Collecting numpy>=1.17.0\n  Downloading numpy-1.26.4-cp311-cp311-manylinux_2_17_x86_64.manylinux2014_x86_64.whl (18.3 MB)\n     \u2501\u2501\u2501\u2501\u2501\u2501\u2501\u2501\u2501\u2501\u2501\u2501\u2501\u2501\u2501\u2501\u2501\u2501\u2501\u2501\u2501\u2501\u2501\u2501\u2501\u2501\u2501\u2501\u2501\u2501\u2501\u2501\u2501\u2501\u2501\u2501\u2501\u2501\u2501 18.3/18.3 MB 218.4 MB/s eta 0:00:00\n"
          ]
        },
        {
          "output_type": "stream",
          "name": "stdout",
          "text": [
            "Installing collected packages: numpy, opencv-python-headless\n"
          ]
        },
        {
          "output_type": "stream",
          "name": "stdout",
          "text": [
            "Successfully installed numpy-1.26.4 opencv-python-headless-4.11.0.86\nOpenCV headless installed and imported: 4.11.0\n"
          ]
        }
      ]
    },
    {
      "id": "e44e78ff-f530-4d43-bd7b-7842896e0b04",
      "cell_type": "code",
      "metadata": {},
      "source": [
        "import json\n",
        "import pandas as pd\n",
        "import numpy as np\n",
        "from collections import Counter\n",
        "import torch\n",
        "from torch.utils.data import Dataset, DataLoader\n",
        "import torchvision.transforms as T\n",
        "from PIL import Image\n",
        "import cv2\n",
        "import os\n",
        "from tqdm import tqdm\n",
        "\n",
        "# Load train and test metadata\n",
        "with open('nybg2020/train/metadata.json', 'r') as f:\n",
        "    train_meta = json.load(f)\n",
        "train_images = train_meta['images']\n",
        "train_annotations = train_meta['annotations']\n",
        "train_df = pd.DataFrame(train_images)\n",
        "annotations_df = pd.DataFrame(train_annotations)\n",
        "train_df = train_df.merge(annotations_df, left_on='id', right_on='image_id', how='left')\n",
        "# Fix column name after merge: rename 'id_x' to 'id'\n",
        "train_df = train_df.rename(columns={'id_x': 'id'})\n",
        "print('Train shape:', train_df.shape)\n",
        "print('Train columns:', list(train_df.columns))\n",
        "\n",
        "with open('nybg2020/test/metadata.json', 'r') as f:\n",
        "    test_meta = json.load(f)\n",
        "test_images = test_meta['images']\n",
        "test_df = pd.DataFrame(test_images)\n",
        "print('Test shape:', test_df.shape)\n",
        "print('Test columns:', list(test_df.columns))\n",
        "\n",
        "# Tight crop function (expert fix: non-white, pad, BGR2RGB, fallback)\n",
        "def tight_crop(path_or_img, white_thresh=240, pad_ratio=0.02):\n",
        "    import cv2, numpy as np\n",
        "    if isinstance(path_or_img, str):\n",
        "        img = cv2.imread(path_or_img)  # BGR\n",
        "    else:\n",
        "        img = path_or_img\n",
        "    if img is None:\n",
        "        # safe fallback\n",
        "        return np.zeros((100, 100, 3), dtype=np.uint8)\n",
        "    gray = cv2.cvtColor(img, cv2.COLOR_BGR2GRAY)\n",
        "    _, mask = cv2.threshold(gray, white_thresh, 255, cv2.THRESH_BINARY_INV)\n",
        "    coords = cv2.findNonZero(mask)\n",
        "    if coords is not None:\n",
        "        x, y, w, h = cv2.boundingRect(coords)\n",
        "        pad = int(round(pad_ratio * min(img.shape[:2])))\n",
        "        x0 = max(0, x - pad); y0 = max(0, y - pad)\n",
        "        x1 = min(img.shape[1], x + w + pad); y1 = min(img.shape[0], y + h + pad)\n",
        "        crop = img[y0:y1, x0:x1]\n",
        "    else:\n",
        "        crop = img\n",
        "    crop = cv2.cvtColor(crop, cv2.COLOR_BGR2RGB)\n",
        "    return crop\n",
        "\n",
        "# Transforms (updated to 384px for speed per expert advice)\n",
        "transform = T.Compose([\n",
        "    T.Lambda(lambda p: tight_crop(p)),\n",
        "    T.ToPILImage(),\n",
        "    T.Resize(416),\n",
        "    T.CenterCrop(384),\n",
        "    T.ToTensor(),\n",
        "    T.Normalize(mean=[0.485, 0.456, 0.406], std=[0.229, 0.224, 0.225]),\n",
        "])\n",
        "\n",
        "flip_transform = T.Compose([\n",
        "    T.Lambda(lambda p: tight_crop(p)),\n",
        "    T.ToPILImage(),\n",
        "    T.Resize(416),\n",
        "    T.CenterCrop(384),\n",
        "    T.RandomHorizontalFlip(p=1.0),  # deterministic flip\n",
        "    T.ToTensor(),\n",
        "    T.Normalize(mean=[0.485, 0.456, 0.406], std=[0.229, 0.224, 0.225]),\n",
        "])\n",
        "\n",
        "# Custom Dataset (expert fix: self.ids = df['id'].values)\n",
        "class HerbariumDataset(Dataset):\n",
        "    def __init__(self, df, root_dir, transform=None):\n",
        "        self.df = df\n",
        "        self.root_dir = root_dir\n",
        "        self.transform = transform\n",
        "        self.file_names = df['file_name'].values\n",
        "        self.ids = df['id'].values\n",
        "        self.category_ids = df['category_id'].values if 'category_id' in df.columns else None\n",
        "\n",
        "    def __len__(self):\n",
        "        return len(self.df)\n",
        "\n",
        "    def __getitem__(self, idx):\n",
        "        file_name = self.file_names[idx]\n",
        "        img_path = os.path.join(self.root_dir, file_name)\n",
        "        image = img_path  # Pass path for tight_crop in Lambda\n",
        "        if self.transform:\n",
        "            image = self.transform(image)\n",
        "        if self.category_ids is not None:\n",
        "            label = self.category_ids[idx]\n",
        "            return image, label, self.ids[idx]\n",
        "        else:\n",
        "            return image, self.ids[idx]\n",
        "\n",
        "# Create datasets\n",
        "train_dataset = HerbariumDataset(train_df, 'nybg2020/train', transform=transform)\n",
        "test_dataset = HerbariumDataset(test_df, 'nybg2020/test', transform=transform)\n",
        "\n",
        "print('Train dataset size:', len(train_dataset))\n",
        "print('Test dataset size:', len(test_dataset))\n",
        "\n",
        "# DataLoaders (for later use)\n",
        "# train_loader = DataLoader(train_dataset, batch_size=64, shuffle=False, num_workers=4, pin_memory=True)  # reduced workers per expert\n",
        "# test_loader = DataLoader(test_dataset, batch_size=64, shuffle=False, num_workers=4, pin_memory=True)"
      ],
      "execution_count": 5,
      "outputs": [
        {
          "output_type": "stream",
          "name": "stdout",
          "text": [
            "Train shape: (811623, 9)\nTrain columns: ['file_name', 'height', 'id', 'license', 'width', 'category_id', 'id_y', 'image_id', 'region_id']\n"
          ]
        },
        {
          "output_type": "stream",
          "name": "stdout",
          "text": [
            "Test shape: (219124, 5)\nTest columns: ['file_name', 'height', 'id', 'license', 'width']\nTrain dataset size: 811623\nTest dataset size: 219124\n"
          ]
        }
      ]
    },
    {
      "id": "06f451e9-9e3a-4b55-b68b-b46c2e140a94",
      "cell_type": "code",
      "metadata": {},
      "source": [
        "import torch.nn as nn\n",
        "import torch.nn.functional as F\n",
        "from torchvision import models\n",
        "from torch.utils.data import DataLoader\n",
        "from torch.amp import autocast\n",
        "from tqdm import tqdm\n",
        "import numpy as np\n",
        "import pandas as pd\n",
        "import pickle\n",
        "import os\n",
        "\n",
        "# Enable cuDNN benchmark for speed\n",
        "torch.backends.cudnn.benchmark = True\n",
        "\n",
        "# Load model for embedding extraction (switch to v2_s for speed per expert)\n",
        "model = models.efficientnet_v2_s(weights='DEFAULT')\n",
        "model.classifier = nn.Identity()\n",
        "model = model.cuda().eval()\n",
        "print('Model loaded: efficientnet_v2_s with Identity classifier for embeddings')\n",
        "\n",
        "# Check if prototypes already extracted\n",
        "if os.path.exists('prototypes.pkl'):\n",
        "    with open('prototypes.pkl', 'rb') as f:\n",
        "        proto_data = pickle.load(f)\n",
        "    prototypes_norm = proto_data['prototypes']\n",
        "    unique_classes = proto_data['unique_classes']\n",
        "    print('Loaded existing prototypes.pkl')\n",
        "    print(f'Prototypes shape: {prototypes_norm.shape}')\n",
        "else:\n",
        "    # Subsample train for prototypes (up to 3 per class for faster baseline)\n",
        "    class_samples = train_df.groupby('category_id').apply(lambda x: x.sample(n=min(3, len(x)), random_state=42)).reset_index(drop=True)\n",
        "    print(f'Subsampled train for prototypes: {len(class_samples)} images across {class_samples[\"category_id\"].nunique()} classes')\n",
        "\n",
        "    # Create DataLoader for prototypes (larger batch for speed)\n",
        "    proto_dataset = HerbariumDataset(class_samples, 'nybg2020/train', transform=transform)\n",
        "    proto_loader = DataLoader(proto_dataset, batch_size=128, shuffle=False, num_workers=4, pin_memory=True)\n",
        "\n",
        "    # Extract train prototypes embeddings with AMP\n",
        "    proto_embeddings = []\n",
        "    proto_labels = []\n",
        "    with torch.no_grad():\n",
        "        for images, labels, _ in tqdm(proto_loader, desc='Extracting proto embeddings'):\n",
        "            images = images.cuda()\n",
        "            with autocast('cuda'):\n",
        "                emb = model(images)\n",
        "                emb = emb.float()  # Convert to float32 after autocast\n",
        "            emb = F.normalize(emb, dim=1).cpu()\n",
        "            proto_embeddings.append(emb)\n",
        "            proto_labels.extend(labels)\n",
        "    proto_embeddings = torch.cat(proto_embeddings, dim=0).numpy()\n",
        "    proto_labels = np.array(proto_labels)\n",
        "    print(f'Proto embeddings shape: {proto_embeddings.shape}')\n",
        "\n",
        "    # Compute prototypes: mean embedding per class\n",
        "    unique_classes = np.unique(proto_labels)\n",
        "    num_classes = len(unique_classes)\n",
        "    class_to_idx = {cls: i for i, cls in enumerate(unique_classes)}\n",
        "    prototypes = np.zeros((num_classes, proto_embeddings.shape[1]))\n",
        "    counts = np.zeros(num_classes)\n",
        "    for i in range(len(proto_labels)):\n",
        "        cls = proto_labels[i]\n",
        "        idx = class_to_idx[cls]\n",
        "        prototypes[idx] += proto_embeddings[i]\n",
        "        counts[idx] += 1\n",
        "    prototypes /= counts[:, np.newaxis]\n",
        "    print(f'Prototypes shape: {prototypes.shape}')\n",
        "\n",
        "    # Normalize prototypes for cosine similarity\n",
        "    prototypes_torch = torch.from_numpy(prototypes).float().cuda()\n",
        "    prototypes_norm = F.normalize(prototypes_torch, dim=1).cpu().numpy()\n",
        "\n",
        "    # Save prototypes\n",
        "    with open('prototypes.pkl', 'wb') as f:\n",
        "        pickle.dump({'prototypes': prototypes_norm, 'unique_classes': unique_classes}, f)\n",
        "\n",
        "# Create test DataLoader (larger batch)\n",
        "test_loader = DataLoader(test_dataset, batch_size=128, shuffle=False, num_workers=4, pin_memory=True)\n",
        "\n",
        "# Extract test embeddings (original) with AMP\n",
        "test_embeddings = []\n",
        "test_ids_list = []\n",
        "with torch.no_grad():\n",
        "    for images, ids in tqdm(test_loader, desc='Extracting test embeddings (orig)'):\n",
        "        images = images.cuda()\n",
        "        with autocast('cuda'):\n",
        "            emb = model(images)\n",
        "            emb = emb.float()  # Convert to float32 after autocast\n",
        "        emb = F.normalize(emb, dim=1).cpu()\n",
        "        test_embeddings.append(emb)\n",
        "        test_ids_list.extend(ids)\n",
        "test_embeddings = torch.cat(test_embeddings, dim=0).numpy()\n",
        "test_ids = np.array(test_ids_list)\n",
        "print(f'Test embeddings shape: {test_embeddings.shape}')\n",
        "\n",
        "# TTA: horizontal flip with AMP\n",
        "test_dataset_flip = HerbariumDataset(test_df, 'nybg2020/test', transform=flip_transform)\n",
        "test_loader_flip = DataLoader(test_dataset_flip, batch_size=128, shuffle=False, num_workers=4, pin_memory=True)\n",
        "\n",
        "# Extract flipped test embeddings\n",
        "test_embeddings_flip = []\n",
        "with torch.no_grad():\n",
        "    for images, _ in tqdm(test_loader_flip, desc='Extracting test embeddings (flip)'):\n",
        "        images = images.cuda()\n",
        "        with autocast('cuda'):\n",
        "            emb = model(images)\n",
        "            emb = emb.float()  # Convert to float32 after autocast\n",
        "        emb = F.normalize(emb, dim=1).cpu()\n",
        "        test_embeddings_flip.append(emb)\n",
        "test_embeddings_flip = torch.cat(test_embeddings_flip, dim=0).numpy()\n",
        "\n",
        "# Average original and flipped embeddings, then normalize\n",
        "test_embeddings_avg_torch = (torch.from_numpy(test_embeddings).float() + torch.from_numpy(test_embeddings_flip).float()) / 2\n",
        "test_embeddings_norm = F.normalize(test_embeddings_avg_torch, dim=1).float().numpy()\n",
        "\n",
        "# GPU-based cosine similarity (batched to avoid OOM)\n",
        "proto_emb_gpu = torch.from_numpy(prototypes_norm).float().cuda()\n",
        "pred_indices = np.zeros(len(test_embeddings_norm), dtype=int)\n",
        "batch_size = 10000  # Adjust based on GPU memory; 10k x 32k ~1.3GB\n",
        "for i in tqdm(range(0, len(test_embeddings_norm), batch_size), desc='Computing similarities (batched)'):\n",
        "    end = min(i + batch_size, len(test_embeddings_norm))\n",
        "    chunk = test_embeddings_norm[i:end]\n",
        "    chunk_gpu = torch.from_numpy(chunk).float().cuda()\n",
        "    sim_chunk = torch.mm(chunk_gpu, proto_emb_gpu.t()).cpu().numpy()\n",
        "    pred_indices[i:end] = np.argmax(sim_chunk, axis=1)\n",
        "print('Cosine similarities computed on GPU (batched)')\n",
        "\n",
        "# Map to original class ids\n",
        "pred_classes = unique_classes[pred_indices]\n",
        "\n",
        "# Create submission\n",
        "submission = pd.DataFrame({'Id': test_ids, 'Predicted': pred_classes})\n",
        "submission = submission.sort_values('Id').reset_index(drop=True)\n",
        "submission.to_csv('submission_retrieval.csv', index=False)\n",
        "print('Submission saved as submission_retrieval.csv')\n",
        "print(submission.head())\n",
        "\n",
        "# Quick check: number of classes predicted\n",
        "print(f'Number of unique predicted classes: {len(np.unique(pred_classes))}')"
      ],
      "execution_count": 13,
      "outputs": [
        {
          "output_type": "stream",
          "name": "stdout",
          "text": [
            "Model loaded: efficientnet_v2_s with Identity classifier for embeddings\n"
          ]
        },
        {
          "output_type": "stream",
          "name": "stdout",
          "text": [
            "Loaded existing prototypes.pkl\nPrototypes shape: (32093, 1280)\n"
          ]
        },
        {
          "output_type": "stream",
          "name": "stderr",
          "text": [
            "\rExtracting test embeddings (orig):   0%|          | 0/1712 [00:00<?, ?it/s]"
          ]
        },
        {
          "output_type": "stream",
          "name": "stderr",
          "text": [
            "\rExtracting test embeddings (orig):   0%|          | 1/1712 [00:02<1:20:02,  2.81s/it]"
          ]
        },
        {
          "output_type": "stream",
          "name": "stderr",
          "text": [
            "\rExtracting test embeddings (orig):   0%|          | 2/1712 [00:03<37:58,  1.33s/it]  "
          ]
        },
        {
          "output_type": "stream",
          "name": "stderr",
          "text": [
            "\rExtracting test embeddings (orig):   0%|          | 3/1712 [00:03<24:36,  1.16it/s]"
          ]
        },
        {
          "output_type": "stream",
          "name": "stderr",
          "text": [
            "\rExtracting test embeddings (orig):   0%|          | 4/1712 [00:03<18:16,  1.56it/s]"
          ]
        },
        {
          "output_type": "stream",
          "name": "stderr",
          "text": [
            "\rExtracting test embeddings (orig):   0%|          | 6/1712 [00:05<17:42,  1.61it/s]"
          ]
        },
        {
          "output_type": "stream",
          "name": "stderr",
          "text": [
            "\rExtracting test embeddings (orig):   0%|          | 7/1712 [00:05<14:44,  1.93it/s]"
          ]
        },
        {
          "output_type": "stream",
          "name": "stderr",
          "text": [
            "\rExtracting test embeddings (orig):   0%|          | 8/1712 [00:05<12:47,  2.22it/s]"
          ]
        },
        {
          "output_type": "stream",
          "name": "stderr",
          "text": [
            "\rExtracting test embeddings (orig):   1%|          | 9/1712 [00:06<15:17,  1.86it/s]"
          ]
        },
        {
          "output_type": "stream",
          "name": "stderr",
          "text": [
            "\rExtracting test embeddings (orig):   1%|          | 10/1712 [00:06<13:11,  2.15it/s]"
          ]
        },
        {
          "output_type": "stream",
          "name": "stderr",
          "text": [
            "\rExtracting test embeddings (orig):   1%|          | 11/1712 [00:07<11:47,  2.40it/s]"
          ]
        },
        {
          "output_type": "stream",
          "name": "stderr",
          "text": [
            "\rExtracting test embeddings (orig):   1%|          | 12/1712 [00:07<10:49,  2.62it/s]"
          ]
        },
        {
          "output_type": "stream",
          "name": "stderr",
          "text": [
            "\rExtracting test embeddings (orig):   1%|          | 13/1712 [00:08<13:28,  2.10it/s]"
          ]
        },
        {
          "output_type": "stream",
          "name": "stderr",
          "text": [
            "\rExtracting test embeddings (orig):   1%|          | 14/1712 [00:08<11:58,  2.36it/s]"
          ]
        },
        {
          "output_type": "stream",
          "name": "stderr",
          "text": [
            "\rExtracting test embeddings (orig):   1%|          | 15/1712 [00:08<10:57,  2.58it/s]"
          ]
        },
        {
          "output_type": "stream",
          "name": "stderr",
          "text": [
            "\rExtracting test embeddings (orig):   1%|          | 16/1712 [00:08<10:14,  2.76it/s]"
          ]
        },
        {
          "output_type": "stream",
          "name": "stderr",
          "text": [
            "\rExtracting test embeddings (orig):   1%|          | 17/1712 [00:09<13:27,  2.10it/s]"
          ]
        },
        {
          "output_type": "stream",
          "name": "stderr",
          "text": [
            "\rExtracting test embeddings (orig):   1%|          | 18/1712 [00:09<11:58,  2.36it/s]"
          ]
        },
        {
          "output_type": "stream",
          "name": "stderr",
          "text": [
            "\rExtracting test embeddings (orig):   1%|          | 19/1712 [00:10<10:56,  2.58it/s]"
          ]
        },
        {
          "output_type": "stream",
          "name": "stderr",
          "text": [
            "\rExtracting test embeddings (orig):   1%|          | 20/1712 [00:10<10:12,  2.76it/s]"
          ]
        },
        {
          "output_type": "stream",
          "name": "stderr",
          "text": [
            "\rExtracting test embeddings (orig):   1%|          | 21/1712 [00:11<13:23,  2.11it/s]"
          ]
        },
        {
          "output_type": "stream",
          "name": "stderr",
          "text": [
            "\rExtracting test embeddings (orig):   1%|\u258f         | 22/1712 [00:11<11:54,  2.37it/s]"
          ]
        },
        {
          "output_type": "stream",
          "name": "stderr",
          "text": [
            "\rExtracting test embeddings (orig):   1%|\u258f         | 23/1712 [00:11<10:54,  2.58it/s]"
          ]
        },
        {
          "output_type": "stream",
          "name": "stderr",
          "text": [
            "\rExtracting test embeddings (orig):   1%|\u258f         | 24/1712 [00:12<10:11,  2.76it/s]"
          ]
        },
        {
          "output_type": "stream",
          "name": "stderr",
          "text": [
            "\rExtracting test embeddings (orig):   1%|\u258f         | 25/1712 [00:13<14:29,  1.94it/s]"
          ]
        },
        {
          "output_type": "stream",
          "name": "stderr",
          "text": [
            "\rExtracting test embeddings (orig):   2%|\u258f         | 26/1712 [00:13<12:39,  2.22it/s]"
          ]
        },
        {
          "output_type": "stream",
          "name": "stderr",
          "text": [
            "\rExtracting test embeddings (orig):   2%|\u258f         | 27/1712 [00:13<11:25,  2.46it/s]"
          ]
        },
        {
          "output_type": "stream",
          "name": "stderr",
          "text": [
            "\rExtracting test embeddings (orig):   2%|\u258f         | 28/1712 [00:13<10:32,  2.66it/s]"
          ]
        },
        {
          "output_type": "stream",
          "name": "stderr",
          "text": [
            "\rExtracting test embeddings (orig):   2%|\u258f         | 29/1712 [00:15<16:14,  1.73it/s]"
          ]
        },
        {
          "output_type": "stream",
          "name": "stderr",
          "text": [
            "\rExtracting test embeddings (orig):   2%|\u258f         | 30/1712 [00:15<13:53,  2.02it/s]"
          ]
        },
        {
          "output_type": "stream",
          "name": "stderr",
          "text": [
            "\rExtracting test embeddings (orig):   2%|\u258f         | 31/1712 [00:15<12:16,  2.28it/s]"
          ]
        },
        {
          "output_type": "stream",
          "name": "stderr",
          "text": [
            "\rExtracting test embeddings (orig):   2%|\u258f         | 32/1712 [00:15<11:08,  2.51it/s]"
          ]
        },
        {
          "output_type": "stream",
          "name": "stderr",
          "text": [
            "\rExtracting test embeddings (orig):   2%|\u258f         | 33/1712 [00:16<15:26,  1.81it/s]"
          ]
        },
        {
          "output_type": "stream",
          "name": "stderr",
          "text": [
            "\rExtracting test embeddings (orig):   2%|\u258f         | 34/1712 [00:17<13:19,  2.10it/s]"
          ]
        },
        {
          "output_type": "stream",
          "name": "stderr",
          "text": [
            "\rExtracting test embeddings (orig):   2%|\u258f         | 35/1712 [00:17<11:52,  2.35it/s]"
          ]
        },
        {
          "output_type": "stream",
          "name": "stderr",
          "text": [
            "\rExtracting test embeddings (orig):   2%|\u258f         | 36/1712 [00:17<10:52,  2.57it/s]"
          ]
        },
        {
          "output_type": "stream",
          "name": "stderr",
          "text": [
            "\rExtracting test embeddings (orig):   2%|\u258f         | 37/1712 [00:18<16:54,  1.65it/s]"
          ]
        },
        {
          "output_type": "stream",
          "name": "stderr",
          "text": [
            "\rExtracting test embeddings (orig):   2%|\u258f         | 38/1712 [00:19<14:22,  1.94it/s]"
          ]
        },
        {
          "output_type": "stream",
          "name": "stderr",
          "text": [
            "\rExtracting test embeddings (orig):   2%|\u258f         | 39/1712 [00:19<12:37,  2.21it/s]"
          ]
        },
        {
          "output_type": "stream",
          "name": "stderr",
          "text": [
            "\rExtracting test embeddings (orig):   2%|\u258f         | 40/1712 [00:19<11:21,  2.45it/s]"
          ]
        },
        {
          "output_type": "stream",
          "name": "stderr",
          "text": [
            "\rExtracting test embeddings (orig):   2%|\u258f         | 41/1712 [00:20<15:56,  1.75it/s]"
          ]
        },
        {
          "output_type": "stream",
          "name": "stderr",
          "text": [
            "\rExtracting test embeddings (orig):   2%|\u258f         | 42/1712 [00:21<13:39,  2.04it/s]"
          ]
        },
        {
          "output_type": "stream",
          "name": "stderr",
          "text": [
            "\rExtracting test embeddings (orig):   3%|\u258e         | 43/1712 [00:21<12:05,  2.30it/s]"
          ]
        },
        {
          "output_type": "stream",
          "name": "stderr",
          "text": [
            "\rExtracting test embeddings (orig):   3%|\u258e         | 44/1712 [00:21<10:58,  2.53it/s]"
          ]
        },
        {
          "output_type": "stream",
          "name": "stderr",
          "text": [
            "\rExtracting test embeddings (orig):   3%|\u258e         | 45/1712 [00:22<15:08,  1.84it/s]"
          ]
        },
        {
          "output_type": "stream",
          "name": "stderr",
          "text": [
            "\rExtracting test embeddings (orig):   3%|\u258e         | 46/1712 [00:22<13:05,  2.12it/s]"
          ]
        },
        {
          "output_type": "stream",
          "name": "stderr",
          "text": [
            "\rExtracting test embeddings (orig):   3%|\u258e         | 47/1712 [00:23<11:42,  2.37it/s]"
          ]
        },
        {
          "output_type": "stream",
          "name": "stderr",
          "text": [
            "\rExtracting test embeddings (orig):   3%|\u258e         | 48/1712 [00:23<10:42,  2.59it/s]"
          ]
        },
        {
          "output_type": "stream",
          "name": "stderr",
          "text": [
            "\rExtracting test embeddings (orig):   3%|\u258e         | 49/1712 [00:24<14:29,  1.91it/s]"
          ]
        },
        {
          "output_type": "stream",
          "name": "stderr",
          "text": [
            "\rExtracting test embeddings (orig):   3%|\u258e         | 50/1712 [00:24<12:40,  2.19it/s]"
          ]
        },
        {
          "output_type": "stream",
          "name": "stderr",
          "text": [
            "\rExtracting test embeddings (orig):   3%|\u258e         | 51/1712 [00:24<11:24,  2.43it/s]"
          ]
        },
        {
          "output_type": "stream",
          "name": "stderr",
          "text": [
            "\rExtracting test embeddings (orig):   3%|\u258e         | 52/1712 [00:25<10:29,  2.64it/s]"
          ]
        },
        {
          "output_type": "stream",
          "name": "stderr",
          "text": [
            "\rExtracting test embeddings (orig):   3%|\u258e         | 53/1712 [00:26<15:18,  1.81it/s]"
          ]
        },
        {
          "output_type": "stream",
          "name": "stderr",
          "text": [
            "\rExtracting test embeddings (orig):   3%|\u258e         | 54/1712 [00:26<13:12,  2.09it/s]"
          ]
        },
        {
          "output_type": "stream",
          "name": "stderr",
          "text": [
            "\rExtracting test embeddings (orig):   3%|\u258e         | 55/1712 [00:26<11:48,  2.34it/s]"
          ]
        },
        {
          "output_type": "stream",
          "name": "stderr",
          "text": [
            "\rExtracting test embeddings (orig):   3%|\u258e         | 56/1712 [00:27<10:46,  2.56it/s]"
          ]
        },
        {
          "output_type": "stream",
          "name": "stderr",
          "text": [
            "\rExtracting test embeddings (orig):   3%|\u258e         | 57/1712 [00:28<15:47,  1.75it/s]"
          ]
        },
        {
          "output_type": "stream",
          "name": "stderr",
          "text": [
            "\rExtracting test embeddings (orig):   3%|\u258e         | 58/1712 [00:28<13:32,  2.04it/s]"
          ]
        },
        {
          "output_type": "stream",
          "name": "stderr",
          "text": [
            "\rExtracting test embeddings (orig):   3%|\u258e         | 59/1712 [00:28<12:00,  2.29it/s]"
          ]
        },
        {
          "output_type": "stream",
          "name": "stderr",
          "text": [
            "\rExtracting test embeddings (orig):   4%|\u258e         | 60/1712 [00:29<10:55,  2.52it/s]"
          ]
        },
        {
          "output_type": "stream",
          "name": "stderr",
          "text": [
            "\rExtracting test embeddings (orig):   4%|\u258e         | 61/1712 [00:29<14:12,  1.94it/s]"
          ]
        },
        {
          "output_type": "stream",
          "name": "stderr",
          "text": [
            "\rExtracting test embeddings (orig):   4%|\u258e         | 62/1712 [00:30<12:27,  2.21it/s]"
          ]
        },
        {
          "output_type": "stream",
          "name": "stderr",
          "text": [
            "\rExtracting test embeddings (orig):   4%|\u258e         | 63/1712 [00:30<11:15,  2.44it/s]"
          ]
        },
        {
          "output_type": "stream",
          "name": "stderr",
          "text": [
            "\rExtracting test embeddings (orig):   4%|\u258e         | 64/1712 [00:30<10:22,  2.65it/s]"
          ]
        },
        {
          "output_type": "stream",
          "name": "stderr",
          "text": [
            "\rExtracting test embeddings (orig):   4%|\u258d         | 65/1712 [00:31<14:26,  1.90it/s]"
          ]
        },
        {
          "output_type": "stream",
          "name": "stderr",
          "text": [
            "\rExtracting test embeddings (orig):   4%|\u258d         | 66/1712 [00:31<12:35,  2.18it/s]"
          ]
        },
        {
          "output_type": "stream",
          "name": "stderr",
          "text": [
            "\rExtracting test embeddings (orig):   4%|\u258d         | 67/1712 [00:32<11:19,  2.42it/s]"
          ]
        },
        {
          "output_type": "stream",
          "name": "stderr",
          "text": [
            "\rExtracting test embeddings (orig):   4%|\u258d         | 68/1712 [00:32<10:26,  2.62it/s]"
          ]
        },
        {
          "output_type": "stream",
          "name": "stderr",
          "text": [
            "\rExtracting test embeddings (orig):   4%|\u258d         | 69/1712 [00:33<14:54,  1.84it/s]"
          ]
        },
        {
          "output_type": "stream",
          "name": "stderr",
          "text": [
            "\rExtracting test embeddings (orig):   4%|\u258d         | 70/1712 [00:33<12:54,  2.12it/s]"
          ]
        },
        {
          "output_type": "stream",
          "name": "stderr",
          "text": [
            "\rExtracting test embeddings (orig):   4%|\u258d         | 71/1712 [00:34<11:32,  2.37it/s]"
          ]
        },
        {
          "output_type": "stream",
          "name": "stderr",
          "text": [
            "\rExtracting test embeddings (orig):   4%|\u258d         | 72/1712 [00:34<10:34,  2.58it/s]"
          ]
        },
        {
          "output_type": "stream",
          "name": "stderr",
          "text": [
            "\rExtracting test embeddings (orig):   4%|\u258d         | 73/1712 [00:35<14:22,  1.90it/s]"
          ]
        },
        {
          "output_type": "stream",
          "name": "stderr",
          "text": [
            "\rExtracting test embeddings (orig):   4%|\u258d         | 74/1712 [00:35<12:32,  2.18it/s]"
          ]
        },
        {
          "output_type": "stream",
          "name": "stderr",
          "text": [
            "\rExtracting test embeddings (orig):   4%|\u258d         | 75/1712 [00:35<11:17,  2.42it/s]"
          ]
        },
        {
          "output_type": "stream",
          "name": "stderr",
          "text": [
            "\rExtracting test embeddings (orig):   4%|\u258d         | 76/1712 [00:36<10:22,  2.63it/s]"
          ]
        },
        {
          "output_type": "stream",
          "name": "stderr",
          "text": [
            "\rExtracting test embeddings (orig):   4%|\u258d         | 77/1712 [00:36<13:53,  1.96it/s]"
          ]
        },
        {
          "output_type": "stream",
          "name": "stderr",
          "text": [
            "\rExtracting test embeddings (orig):   5%|\u258d         | 78/1712 [00:37<12:11,  2.23it/s]"
          ]
        },
        {
          "output_type": "stream",
          "name": "stderr",
          "text": [
            "\rExtracting test embeddings (orig):   5%|\u258d         | 79/1712 [00:37<11:03,  2.46it/s]"
          ]
        },
        {
          "output_type": "stream",
          "name": "stderr",
          "text": [
            "\rExtracting test embeddings (orig):   5%|\u258d         | 80/1712 [00:37<10:12,  2.66it/s]"
          ]
        },
        {
          "output_type": "stream",
          "name": "stderr",
          "text": [
            "\rExtracting test embeddings (orig):   5%|\u258d         | 81/1712 [00:38<12:28,  2.18it/s]"
          ]
        },
        {
          "output_type": "stream",
          "name": "stderr",
          "text": [
            "\rExtracting test embeddings (orig):   5%|\u258d         | 82/1712 [00:38<11:11,  2.43it/s]"
          ]
        },
        {
          "output_type": "stream",
          "name": "stderr",
          "text": [
            "\rExtracting test embeddings (orig):   5%|\u258d         | 83/1712 [00:39<10:20,  2.63it/s]"
          ]
        },
        {
          "output_type": "stream",
          "name": "stderr",
          "text": [
            "\rExtracting test embeddings (orig):   5%|\u258d         | 84/1712 [00:39<09:44,  2.79it/s]"
          ]
        },
        {
          "output_type": "stream",
          "name": "stderr",
          "text": [
            "\rExtracting test embeddings (orig):   5%|\u258d         | 85/1712 [00:40<12:47,  2.12it/s]"
          ]
        },
        {
          "output_type": "stream",
          "name": "stderr",
          "text": [
            "\rExtracting test embeddings (orig):   5%|\u258c         | 86/1712 [00:40<11:25,  2.37it/s]"
          ]
        },
        {
          "output_type": "stream",
          "name": "stderr",
          "text": [
            "\rExtracting test embeddings (orig):   5%|\u258c         | 87/1712 [00:40<10:28,  2.58it/s]"
          ]
        },
        {
          "output_type": "stream",
          "name": "stderr",
          "text": [
            "\rExtracting test embeddings (orig):   5%|\u258c         | 88/1712 [00:41<09:48,  2.76it/s]"
          ]
        },
        {
          "output_type": "stream",
          "name": "stderr",
          "text": [
            "\rExtracting test embeddings (orig):   5%|\u258c         | 89/1712 [00:41<11:56,  2.26it/s]"
          ]
        },
        {
          "output_type": "stream",
          "name": "stderr",
          "text": [
            "\rExtracting test embeddings (orig):   5%|\u258c         | 90/1712 [00:41<10:48,  2.50it/s]"
          ]
        },
        {
          "output_type": "stream",
          "name": "stderr",
          "text": [
            "\rExtracting test embeddings (orig):   5%|\u258c         | 91/1712 [00:42<10:02,  2.69it/s]"
          ]
        },
        {
          "output_type": "stream",
          "name": "stderr",
          "text": [
            "\rExtracting test embeddings (orig):   5%|\u258c         | 92/1712 [00:42<09:29,  2.85it/s]"
          ]
        },
        {
          "output_type": "stream",
          "name": "stderr",
          "text": [
            "\rExtracting test embeddings (orig):   5%|\u258c         | 93/1712 [00:43<13:26,  2.01it/s]"
          ]
        },
        {
          "output_type": "stream",
          "name": "stderr",
          "text": [
            "\rExtracting test embeddings (orig):   5%|\u258c         | 94/1712 [00:43<11:51,  2.27it/s]"
          ]
        },
        {
          "output_type": "stream",
          "name": "stderr",
          "text": [
            "\rExtracting test embeddings (orig):   6%|\u258c         | 95/1712 [00:44<10:48,  2.49it/s]"
          ]
        },
        {
          "output_type": "stream",
          "name": "stderr",
          "text": [
            "\rExtracting test embeddings (orig):   6%|\u258c         | 96/1712 [00:44<10:00,  2.69it/s]"
          ]
        },
        {
          "output_type": "stream",
          "name": "stderr",
          "text": [
            "\rExtracting test embeddings (orig):   6%|\u258c         | 97/1712 [00:45<12:51,  2.09it/s]"
          ]
        },
        {
          "output_type": "stream",
          "name": "stderr",
          "text": [
            "\rExtracting test embeddings (orig):   6%|\u258c         | 98/1712 [00:45<11:27,  2.35it/s]"
          ]
        },
        {
          "output_type": "stream",
          "name": "stderr",
          "text": [
            "\rExtracting test embeddings (orig):   6%|\u258c         | 99/1712 [00:45<10:29,  2.56it/s]"
          ]
        },
        {
          "output_type": "stream",
          "name": "stderr",
          "text": [
            "\rExtracting test embeddings (orig):   6%|\u258c         | 100/1712 [00:46<09:47,  2.74it/s]"
          ]
        },
        {
          "output_type": "stream",
          "name": "stderr",
          "text": [
            "\rExtracting test embeddings (orig):   6%|\u258c         | 101/1712 [00:46<11:45,  2.28it/s]"
          ]
        },
        {
          "output_type": "stream",
          "name": "stderr",
          "text": [
            "\rExtracting test embeddings (orig):   6%|\u258c         | 102/1712 [00:46<10:39,  2.52it/s]"
          ]
        },
        {
          "output_type": "stream",
          "name": "stderr",
          "text": [
            "\rExtracting test embeddings (orig):   6%|\u258c         | 103/1712 [00:47<09:55,  2.70it/s]"
          ]
        },
        {
          "output_type": "stream",
          "name": "stderr",
          "text": [
            "\rExtracting test embeddings (orig):   6%|\u258c         | 104/1712 [00:47<09:25,  2.84it/s]"
          ]
        },
        {
          "output_type": "stream",
          "name": "stderr",
          "text": [
            "\rExtracting test embeddings (orig):   6%|\u258c         | 105/1712 [00:48<11:49,  2.26it/s]"
          ]
        },
        {
          "output_type": "stream",
          "name": "stderr",
          "text": [
            "\rExtracting test embeddings (orig):   6%|\u258c         | 106/1712 [00:48<10:43,  2.49it/s]"
          ]
        },
        {
          "output_type": "stream",
          "name": "stderr",
          "text": [
            "\rExtracting test embeddings (orig):   6%|\u258b         | 107/1712 [00:48<09:59,  2.68it/s]"
          ]
        },
        {
          "output_type": "stream",
          "name": "stderr",
          "text": [
            "\rExtracting test embeddings (orig):   6%|\u258b         | 108/1712 [00:49<09:26,  2.83it/s]"
          ]
        },
        {
          "output_type": "stream",
          "name": "stderr",
          "text": [
            "\rExtracting test embeddings (orig):   6%|\u258b         | 109/1712 [00:49<11:03,  2.42it/s]"
          ]
        },
        {
          "output_type": "stream",
          "name": "stderr",
          "text": [
            "\rExtracting test embeddings (orig):   6%|\u258b         | 110/1712 [00:49<10:11,  2.62it/s]"
          ]
        },
        {
          "output_type": "stream",
          "name": "stderr",
          "text": [
            "\rExtracting test embeddings (orig):   6%|\u258b         | 111/1712 [00:50<09:36,  2.78it/s]"
          ]
        },
        {
          "output_type": "stream",
          "name": "stderr",
          "text": [
            "\rExtracting test embeddings (orig):   7%|\u258b         | 112/1712 [00:50<09:09,  2.91it/s]"
          ]
        },
        {
          "output_type": "stream",
          "name": "stderr",
          "text": [
            "\rExtracting test embeddings (orig):   7%|\u258b         | 113/1712 [00:51<10:54,  2.44it/s]"
          ]
        },
        {
          "output_type": "stream",
          "name": "stderr",
          "text": [
            "\rExtracting test embeddings (orig):   7%|\u258b         | 114/1712 [00:51<10:03,  2.65it/s]"
          ]
        },
        {
          "output_type": "stream",
          "name": "stderr",
          "text": [
            "\rExtracting test embeddings (orig):   7%|\u258b         | 115/1712 [00:51<09:30,  2.80it/s]"
          ]
        },
        {
          "output_type": "stream",
          "name": "stderr",
          "text": [
            "\rExtracting test embeddings (orig):   7%|\u258b         | 116/1712 [00:52<09:05,  2.93it/s]"
          ]
        },
        {
          "output_type": "stream",
          "name": "stderr",
          "text": [
            "\rExtracting test embeddings (orig):   7%|\u258b         | 117/1712 [00:52<10:44,  2.47it/s]"
          ]
        },
        {
          "output_type": "stream",
          "name": "stderr",
          "text": [
            "\rExtracting test embeddings (orig):   7%|\u258b         | 118/1712 [00:52<09:55,  2.68it/s]"
          ]
        },
        {
          "output_type": "stream",
          "name": "stderr",
          "text": [
            "\rExtracting test embeddings (orig):   7%|\u258b         | 119/1712 [00:53<09:24,  2.82it/s]"
          ]
        },
        {
          "output_type": "stream",
          "name": "stderr",
          "text": [
            "\rExtracting test embeddings (orig):   7%|\u258b         | 120/1712 [00:53<09:01,  2.94it/s]"
          ]
        },
        {
          "output_type": "stream",
          "name": "stderr",
          "text": [
            "\rExtracting test embeddings (orig):   7%|\u258b         | 121/1712 [00:54<10:53,  2.44it/s]"
          ]
        },
        {
          "output_type": "stream",
          "name": "stderr",
          "text": [
            "\rExtracting test embeddings (orig):   7%|\u258b         | 122/1712 [00:54<10:01,  2.64it/s]"
          ]
        },
        {
          "output_type": "stream",
          "name": "stderr",
          "text": [
            "\rExtracting test embeddings (orig):   7%|\u258b         | 123/1712 [00:54<09:27,  2.80it/s]"
          ]
        },
        {
          "output_type": "stream",
          "name": "stderr",
          "text": [
            "\rExtracting test embeddings (orig):   7%|\u258b         | 124/1712 [00:55<09:02,  2.93it/s]"
          ]
        },
        {
          "output_type": "stream",
          "name": "stderr",
          "text": [
            "\rExtracting test embeddings (orig):   7%|\u258b         | 125/1712 [00:55<11:19,  2.34it/s]"
          ]
        },
        {
          "output_type": "stream",
          "name": "stderr",
          "text": [
            "\rExtracting test embeddings (orig):   7%|\u258b         | 126/1712 [00:55<10:19,  2.56it/s]"
          ]
        },
        {
          "output_type": "stream",
          "name": "stderr",
          "text": [
            "\rExtracting test embeddings (orig):   7%|\u258b         | 127/1712 [00:56<09:41,  2.73it/s]"
          ]
        },
        {
          "output_type": "stream",
          "name": "stderr",
          "text": [
            "\rExtracting test embeddings (orig):   7%|\u258b         | 128/1712 [00:56<09:11,  2.87it/s]"
          ]
        },
        {
          "output_type": "stream",
          "name": "stderr",
          "text": [
            "\rExtracting test embeddings (orig):   8%|\u258a         | 129/1712 [00:57<11:14,  2.35it/s]"
          ]
        },
        {
          "output_type": "stream",
          "name": "stderr",
          "text": [
            "\rExtracting test embeddings (orig):   8%|\u258a         | 130/1712 [00:57<10:16,  2.56it/s]"
          ]
        },
        {
          "output_type": "stream",
          "name": "stderr",
          "text": [
            "\rExtracting test embeddings (orig):   8%|\u258a         | 131/1712 [00:57<09:39,  2.73it/s]"
          ]
        },
        {
          "output_type": "stream",
          "name": "stderr",
          "text": [
            "\rExtracting test embeddings (orig):   8%|\u258a         | 132/1712 [00:58<09:09,  2.87it/s]"
          ]
        },
        {
          "output_type": "stream",
          "name": "stderr",
          "text": [
            "\rExtracting test embeddings (orig):   8%|\u258a         | 133/1712 [00:58<11:06,  2.37it/s]"
          ]
        },
        {
          "output_type": "stream",
          "name": "stderr",
          "text": [
            "\rExtracting test embeddings (orig):   8%|\u258a         | 134/1712 [00:59<10:10,  2.58it/s]"
          ]
        },
        {
          "output_type": "stream",
          "name": "stderr",
          "text": [
            "\rExtracting test embeddings (orig):   8%|\u258a         | 135/1712 [00:59<09:34,  2.75it/s]"
          ]
        },
        {
          "output_type": "stream",
          "name": "stderr",
          "text": [
            "\rExtracting test embeddings (orig):   8%|\u258a         | 136/1712 [00:59<09:05,  2.89it/s]"
          ]
        },
        {
          "output_type": "stream",
          "name": "stderr",
          "text": [
            "\rExtracting test embeddings (orig):   8%|\u258a         | 137/1712 [01:00<11:14,  2.34it/s]"
          ]
        },
        {
          "output_type": "stream",
          "name": "stderr",
          "text": [
            "\rExtracting test embeddings (orig):   8%|\u258a         | 138/1712 [01:00<10:14,  2.56it/s]"
          ]
        },
        {
          "output_type": "stream",
          "name": "stderr",
          "text": [
            "\rExtracting test embeddings (orig):   8%|\u258a         | 139/1712 [01:00<09:38,  2.72it/s]"
          ]
        },
        {
          "output_type": "stream",
          "name": "stderr",
          "text": [
            "\rExtracting test embeddings (orig):   8%|\u258a         | 140/1712 [01:01<09:08,  2.87it/s]"
          ]
        },
        {
          "output_type": "stream",
          "name": "stderr",
          "text": [
            "\rExtracting test embeddings (orig):   8%|\u258a         | 141/1712 [01:01<11:15,  2.32it/s]"
          ]
        },
        {
          "output_type": "stream",
          "name": "stderr",
          "text": [
            "\rExtracting test embeddings (orig):   8%|\u258a         | 142/1712 [01:02<10:16,  2.55it/s]"
          ]
        },
        {
          "output_type": "stream",
          "name": "stderr",
          "text": [
            "\rExtracting test embeddings (orig):   8%|\u258a         | 143/1712 [01:02<09:38,  2.71it/s]"
          ]
        },
        {
          "output_type": "stream",
          "name": "stderr",
          "text": [
            "\rExtracting test embeddings (orig):   8%|\u258a         | 144/1712 [01:02<09:08,  2.86it/s]"
          ]
        },
        {
          "output_type": "stream",
          "name": "stderr",
          "text": [
            "\rExtracting test embeddings (orig):   8%|\u258a         | 145/1712 [01:03<09:33,  2.73it/s]"
          ]
        },
        {
          "output_type": "stream",
          "name": "stderr",
          "text": [
            "\rExtracting test embeddings (orig):   9%|\u258a         | 146/1712 [01:03<09:03,  2.88it/s]"
          ]
        },
        {
          "output_type": "stream",
          "name": "stderr",
          "text": [
            "\rExtracting test embeddings (orig):   9%|\u258a         | 147/1712 [01:03<08:45,  2.98it/s]"
          ]
        },
        {
          "output_type": "stream",
          "name": "stderr",
          "text": [
            "\rExtracting test embeddings (orig):   9%|\u258a         | 148/1712 [01:04<08:32,  3.05it/s]"
          ]
        },
        {
          "output_type": "stream",
          "name": "stderr",
          "text": [
            "\rExtracting test embeddings (orig):   9%|\u258a         | 149/1712 [01:04<10:28,  2.49it/s]"
          ]
        },
        {
          "output_type": "stream",
          "name": "stderr",
          "text": [
            "\rExtracting test embeddings (orig):   9%|\u2589         | 150/1712 [01:04<09:42,  2.68it/s]"
          ]
        },
        {
          "output_type": "stream",
          "name": "stderr",
          "text": [
            "\rExtracting test embeddings (orig):   9%|\u2589         | 151/1712 [01:05<09:12,  2.83it/s]"
          ]
        },
        {
          "output_type": "stream",
          "name": "stderr",
          "text": [
            "\rExtracting test embeddings (orig):   9%|\u2589         | 152/1712 [01:05<08:49,  2.94it/s]"
          ]
        },
        {
          "output_type": "stream",
          "name": "stderr",
          "text": [
            "\rExtracting test embeddings (orig):   9%|\u2589         | 153/1712 [01:06<10:25,  2.49it/s]"
          ]
        },
        {
          "output_type": "stream",
          "name": "stderr",
          "text": [
            "\rExtracting test embeddings (orig):   9%|\u2589         | 154/1712 [01:06<09:38,  2.69it/s]"
          ]
        },
        {
          "output_type": "stream",
          "name": "stderr",
          "text": [
            "\rExtracting test embeddings (orig):   9%|\u2589         | 155/1712 [01:06<09:09,  2.83it/s]"
          ]
        },
        {
          "output_type": "stream",
          "name": "stderr",
          "text": [
            "\rExtracting test embeddings (orig):   9%|\u2589         | 156/1712 [01:06<08:48,  2.95it/s]"
          ]
        },
        {
          "output_type": "stream",
          "name": "stderr",
          "text": [
            "\rExtracting test embeddings (orig):   9%|\u2589         | 157/1712 [01:07<10:47,  2.40it/s]"
          ]
        },
        {
          "output_type": "stream",
          "name": "stderr",
          "text": [
            "\rExtracting test embeddings (orig):   9%|\u2589         | 158/1712 [01:07<09:55,  2.61it/s]"
          ]
        },
        {
          "output_type": "stream",
          "name": "stderr",
          "text": [
            "\rExtracting test embeddings (orig):   9%|\u2589         | 159/1712 [01:08<09:21,  2.77it/s]"
          ]
        },
        {
          "output_type": "stream",
          "name": "stderr",
          "text": [
            "\rExtracting test embeddings (orig):   9%|\u2589         | 160/1712 [01:08<08:55,  2.90it/s]"
          ]
        },
        {
          "output_type": "stream",
          "name": "stderr",
          "text": [
            "\rExtracting test embeddings (orig):   9%|\u2589         | 161/1712 [01:09<10:47,  2.39it/s]"
          ]
        },
        {
          "output_type": "stream",
          "name": "stderr",
          "text": [
            "\rExtracting test embeddings (orig):   9%|\u2589         | 162/1712 [01:09<09:54,  2.61it/s]"
          ]
        },
        {
          "output_type": "stream",
          "name": "stderr",
          "text": [
            "\rExtracting test embeddings (orig):  10%|\u2589         | 163/1712 [01:09<09:22,  2.75it/s]"
          ]
        },
        {
          "output_type": "stream",
          "name": "stderr",
          "text": [
            "\rExtracting test embeddings (orig):  10%|\u2589         | 164/1712 [01:10<08:55,  2.89it/s]"
          ]
        },
        {
          "output_type": "stream",
          "name": "stderr",
          "text": [
            "\rExtracting test embeddings (orig):  10%|\u2589         | 165/1712 [01:10<10:43,  2.41it/s]"
          ]
        },
        {
          "output_type": "stream",
          "name": "stderr",
          "text": [
            "\rExtracting test embeddings (orig):  10%|\u2589         | 166/1712 [01:10<09:52,  2.61it/s]"
          ]
        },
        {
          "output_type": "stream",
          "name": "stderr",
          "text": [
            "\rExtracting test embeddings (orig):  10%|\u2589         | 167/1712 [01:11<09:17,  2.77it/s]"
          ]
        },
        {
          "output_type": "stream",
          "name": "stderr",
          "text": [
            "\rExtracting test embeddings (orig):  10%|\u2589         | 168/1712 [01:11<08:52,  2.90it/s]"
          ]
        },
        {
          "output_type": "stream",
          "name": "stderr",
          "text": [
            "\rExtracting test embeddings (orig):  10%|\u2589         | 169/1712 [01:12<10:42,  2.40it/s]"
          ]
        },
        {
          "output_type": "stream",
          "name": "stderr",
          "text": [
            "\rExtracting test embeddings (orig):  10%|\u2589         | 170/1712 [01:12<09:49,  2.62it/s]"
          ]
        },
        {
          "output_type": "stream",
          "name": "stderr",
          "text": [
            "\rExtracting test embeddings (orig):  10%|\u2589         | 171/1712 [01:12<09:15,  2.77it/s]"
          ]
        },
        {
          "output_type": "stream",
          "name": "stderr",
          "text": [
            "\rExtracting test embeddings (orig):  10%|\u2588         | 172/1712 [01:13<08:50,  2.90it/s]"
          ]
        },
        {
          "output_type": "stream",
          "name": "stderr",
          "text": [
            "\rExtracting test embeddings (orig):  10%|\u2588         | 173/1712 [01:13<11:09,  2.30it/s]"
          ]
        },
        {
          "output_type": "stream",
          "name": "stderr",
          "text": [
            "\rExtracting test embeddings (orig):  10%|\u2588         | 174/1712 [01:13<10:09,  2.52it/s]"
          ]
        },
        {
          "output_type": "stream",
          "name": "stderr",
          "text": [
            "\rExtracting test embeddings (orig):  10%|\u2588         | 175/1712 [01:14<09:31,  2.69it/s]"
          ]
        },
        {
          "output_type": "stream",
          "name": "stderr",
          "text": [
            "\rExtracting test embeddings (orig):  10%|\u2588         | 176/1712 [01:14<09:01,  2.84it/s]"
          ]
        },
        {
          "output_type": "stream",
          "name": "stderr",
          "text": [
            "\rExtracting test embeddings (orig):  10%|\u2588         | 177/1712 [01:15<12:12,  2.09it/s]"
          ]
        },
        {
          "output_type": "stream",
          "name": "stderr",
          "text": [
            "\rExtracting test embeddings (orig):  10%|\u2588         | 178/1712 [01:15<10:53,  2.35it/s]"
          ]
        },
        {
          "output_type": "stream",
          "name": "stderr",
          "text": [
            "\rExtracting test embeddings (orig):  10%|\u2588         | 179/1712 [01:15<10:02,  2.54it/s]"
          ]
        },
        {
          "output_type": "stream",
          "name": "stderr",
          "text": [
            "\rExtracting test embeddings (orig):  11%|\u2588         | 180/1712 [01:16<09:22,  2.72it/s]"
          ]
        },
        {
          "output_type": "stream",
          "name": "stderr",
          "text": [
            "\rExtracting test embeddings (orig):  11%|\u2588         | 181/1712 [01:16<11:04,  2.31it/s]"
          ]
        },
        {
          "output_type": "stream",
          "name": "stderr",
          "text": [
            "\rExtracting test embeddings (orig):  11%|\u2588         | 182/1712 [01:17<10:03,  2.53it/s]"
          ]
        },
        {
          "output_type": "stream",
          "name": "stderr",
          "text": [
            "\rExtracting test embeddings (orig):  11%|\u2588         | 183/1712 [01:17<09:26,  2.70it/s]"
          ]
        },
        {
          "output_type": "stream",
          "name": "stderr",
          "text": [
            "\rExtracting test embeddings (orig):  11%|\u2588         | 184/1712 [01:17<08:55,  2.85it/s]"
          ]
        },
        {
          "output_type": "stream",
          "name": "stderr",
          "text": [
            "\rExtracting test embeddings (orig):  11%|\u2588         | 185/1712 [01:18<09:18,  2.74it/s]"
          ]
        },
        {
          "output_type": "stream",
          "name": "stderr",
          "text": [
            "\rExtracting test embeddings (orig):  11%|\u2588         | 186/1712 [01:18<08:49,  2.88it/s]"
          ]
        },
        {
          "output_type": "stream",
          "name": "stderr",
          "text": [
            "\rExtracting test embeddings (orig):  11%|\u2588         | 187/1712 [01:18<08:36,  2.95it/s]"
          ]
        },
        {
          "output_type": "stream",
          "name": "stderr",
          "text": [
            "\rExtracting test embeddings (orig):  11%|\u2588         | 188/1712 [01:19<08:21,  3.04it/s]"
          ]
        },
        {
          "output_type": "stream",
          "name": "stderr",
          "text": [
            "\rExtracting test embeddings (orig):  11%|\u2588         | 189/1712 [01:19<10:08,  2.50it/s]"
          ]
        },
        {
          "output_type": "stream",
          "name": "stderr",
          "text": [
            "\rExtracting test embeddings (orig):  11%|\u2588         | 190/1712 [01:20<09:23,  2.70it/s]"
          ]
        },
        {
          "output_type": "stream",
          "name": "stderr",
          "text": [
            "\rExtracting test embeddings (orig):  11%|\u2588         | 191/1712 [01:20<08:56,  2.83it/s]"
          ]
        },
        {
          "output_type": "stream",
          "name": "stderr",
          "text": [
            "\rExtracting test embeddings (orig):  11%|\u2588         | 192/1712 [01:20<08:35,  2.95it/s]"
          ]
        },
        {
          "output_type": "stream",
          "name": "stderr",
          "text": [
            "\rExtracting test embeddings (orig):  11%|\u2588\u258f        | 193/1712 [01:21<10:09,  2.49it/s]"
          ]
        },
        {
          "output_type": "stream",
          "name": "stderr",
          "text": [
            "\rExtracting test embeddings (orig):  11%|\u2588\u258f        | 194/1712 [01:21<09:24,  2.69it/s]"
          ]
        },
        {
          "output_type": "stream",
          "name": "stderr",
          "text": [
            "\rExtracting test embeddings (orig):  11%|\u2588\u258f        | 195/1712 [01:21<08:57,  2.82it/s]"
          ]
        },
        {
          "output_type": "stream",
          "name": "stderr",
          "text": [
            "\rExtracting test embeddings (orig):  11%|\u2588\u258f        | 196/1712 [01:22<08:33,  2.95it/s]"
          ]
        },
        {
          "output_type": "stream",
          "name": "stderr",
          "text": [
            "\rExtracting test embeddings (orig):  12%|\u2588\u258f        | 197/1712 [01:22<10:28,  2.41it/s]"
          ]
        },
        {
          "output_type": "stream",
          "name": "stderr",
          "text": [
            "\rExtracting test embeddings (orig):  12%|\u2588\u258f        | 198/1712 [01:22<09:37,  2.62it/s]"
          ]
        },
        {
          "output_type": "stream",
          "name": "stderr",
          "text": [
            "\rExtracting test embeddings (orig):  12%|\u2588\u258f        | 199/1712 [01:23<09:05,  2.78it/s]"
          ]
        },
        {
          "output_type": "stream",
          "name": "stderr",
          "text": [
            "\rExtracting test embeddings (orig):  12%|\u2588\u258f        | 200/1712 [01:23<08:40,  2.91it/s]"
          ]
        },
        {
          "output_type": "stream",
          "name": "stderr",
          "text": [
            "\rExtracting test embeddings (orig):  12%|\u2588\u258f        | 201/1712 [01:24<10:38,  2.37it/s]"
          ]
        },
        {
          "output_type": "stream",
          "name": "stderr",
          "text": [
            "\rExtracting test embeddings (orig):  12%|\u2588\u258f        | 202/1712 [01:24<09:44,  2.58it/s]"
          ]
        },
        {
          "output_type": "stream",
          "name": "stderr",
          "text": [
            "\rExtracting test embeddings (orig):  12%|\u2588\u258f        | 203/1712 [01:24<09:11,  2.74it/s]"
          ]
        },
        {
          "output_type": "stream",
          "name": "stderr",
          "text": [
            "\rExtracting test embeddings (orig):  12%|\u2588\u258f        | 204/1712 [01:25<08:42,  2.88it/s]"
          ]
        },
        {
          "output_type": "stream",
          "name": "stderr",
          "text": [
            "\rExtracting test embeddings (orig):  12%|\u2588\u258f        | 205/1712 [01:25<10:23,  2.42it/s]"
          ]
        },
        {
          "output_type": "stream",
          "name": "stderr",
          "text": [
            "\rExtracting test embeddings (orig):  12%|\u2588\u258f        | 206/1712 [01:26<09:32,  2.63it/s]"
          ]
        },
        {
          "output_type": "stream",
          "name": "stderr",
          "text": [
            "\rExtracting test embeddings (orig):  12%|\u2588\u258f        | 207/1712 [01:26<08:59,  2.79it/s]"
          ]
        },
        {
          "output_type": "stream",
          "name": "stderr",
          "text": [
            "\rExtracting test embeddings (orig):  12%|\u2588\u258f        | 208/1712 [01:26<08:36,  2.91it/s]"
          ]
        },
        {
          "output_type": "stream",
          "name": "stderr",
          "text": [
            "\rExtracting test embeddings (orig):  12%|\u2588\u258f        | 209/1712 [01:27<10:24,  2.41it/s]"
          ]
        },
        {
          "output_type": "stream",
          "name": "stderr",
          "text": [
            "\rExtracting test embeddings (orig):  12%|\u2588\u258f        | 210/1712 [01:27<09:32,  2.62it/s]"
          ]
        },
        {
          "output_type": "stream",
          "name": "stderr",
          "text": [
            "\rExtracting test embeddings (orig):  12%|\u2588\u258f        | 211/1712 [01:27<08:59,  2.78it/s]"
          ]
        },
        {
          "output_type": "stream",
          "name": "stderr",
          "text": [
            "\rExtracting test embeddings (orig):  12%|\u2588\u258f        | 212/1712 [01:28<08:35,  2.91it/s]"
          ]
        },
        {
          "output_type": "stream",
          "name": "stderr",
          "text": [
            "\rExtracting test embeddings (orig):  12%|\u2588\u258f        | 213/1712 [01:28<10:40,  2.34it/s]"
          ]
        },
        {
          "output_type": "stream",
          "name": "stderr",
          "text": [
            "\rExtracting test embeddings (orig):  12%|\u2588\u258e        | 214/1712 [01:29<09:43,  2.57it/s]"
          ]
        },
        {
          "output_type": "stream",
          "name": "stderr",
          "text": [
            "\rExtracting test embeddings (orig):  13%|\u2588\u258e        | 215/1712 [01:29<09:07,  2.73it/s]"
          ]
        },
        {
          "output_type": "stream",
          "name": "stderr",
          "text": [
            "\rExtracting test embeddings (orig):  13%|\u2588\u258e        | 216/1712 [01:29<08:40,  2.87it/s]"
          ]
        },
        {
          "output_type": "stream",
          "name": "stderr",
          "text": [
            "\rExtracting test embeddings (orig):  13%|\u2588\u258e        | 217/1712 [01:30<10:19,  2.41it/s]"
          ]
        },
        {
          "output_type": "stream",
          "name": "stderr",
          "text": [
            "\rExtracting test embeddings (orig):  13%|\u2588\u258e        | 218/1712 [01:30<09:30,  2.62it/s]"
          ]
        },
        {
          "output_type": "stream",
          "name": "stderr",
          "text": [
            "\rExtracting test embeddings (orig):  13%|\u2588\u258e        | 219/1712 [01:30<08:58,  2.77it/s]"
          ]
        },
        {
          "output_type": "stream",
          "name": "stderr",
          "text": [
            "\rExtracting test embeddings (orig):  13%|\u2588\u258e        | 220/1712 [01:31<08:33,  2.91it/s]"
          ]
        },
        {
          "output_type": "stream",
          "name": "stderr",
          "text": [
            "\rExtracting test embeddings (orig):  13%|\u2588\u258e        | 221/1712 [01:31<10:21,  2.40it/s]"
          ]
        },
        {
          "output_type": "stream",
          "name": "stderr",
          "text": [
            "\rExtracting test embeddings (orig):  13%|\u2588\u258e        | 222/1712 [01:32<09:29,  2.62it/s]"
          ]
        },
        {
          "output_type": "stream",
          "name": "stderr",
          "text": [
            "\rExtracting test embeddings (orig):  13%|\u2588\u258e        | 223/1712 [01:32<08:56,  2.78it/s]"
          ]
        },
        {
          "output_type": "stream",
          "name": "stderr",
          "text": [
            "\rExtracting test embeddings (orig):  13%|\u2588\u258e        | 224/1712 [01:32<08:33,  2.90it/s]"
          ]
        },
        {
          "output_type": "stream",
          "name": "stderr",
          "text": [
            "\rExtracting test embeddings (orig):  13%|\u2588\u258e        | 225/1712 [01:33<10:18,  2.40it/s]"
          ]
        },
        {
          "output_type": "stream",
          "name": "stderr",
          "text": [
            "\rExtracting test embeddings (orig):  13%|\u2588\u258e        | 226/1712 [01:33<09:27,  2.62it/s]"
          ]
        },
        {
          "output_type": "stream",
          "name": "stderr",
          "text": [
            "\rExtracting test embeddings (orig):  13%|\u2588\u258e        | 227/1712 [01:33<08:54,  2.78it/s]"
          ]
        },
        {
          "output_type": "stream",
          "name": "stderr",
          "text": [
            "\rExtracting test embeddings (orig):  13%|\u2588\u258e        | 228/1712 [01:34<08:30,  2.91it/s]"
          ]
        },
        {
          "output_type": "stream",
          "name": "stderr",
          "text": [
            "\rExtracting test embeddings (orig):  13%|\u2588\u258e        | 229/1712 [01:34<10:18,  2.40it/s]"
          ]
        },
        {
          "output_type": "stream",
          "name": "stderr",
          "text": [
            "\rExtracting test embeddings (orig):  13%|\u2588\u258e        | 230/1712 [01:35<09:27,  2.61it/s]"
          ]
        },
        {
          "output_type": "stream",
          "name": "stderr",
          "text": [
            "\rExtracting test embeddings (orig):  13%|\u2588\u258e        | 231/1712 [01:35<08:57,  2.76it/s]"
          ]
        },
        {
          "output_type": "stream",
          "name": "stderr",
          "text": [
            "\rExtracting test embeddings (orig):  14%|\u2588\u258e        | 232/1712 [01:35<08:30,  2.90it/s]"
          ]
        },
        {
          "output_type": "stream",
          "name": "stderr",
          "text": [
            "\rExtracting test embeddings (orig):  14%|\u2588\u258e        | 233/1712 [01:36<10:19,  2.39it/s]"
          ]
        },
        {
          "output_type": "stream",
          "name": "stderr",
          "text": [
            "\rExtracting test embeddings (orig):  14%|\u2588\u258e        | 234/1712 [01:36<09:27,  2.60it/s]"
          ]
        },
        {
          "output_type": "stream",
          "name": "stderr",
          "text": [
            "\rExtracting test embeddings (orig):  14%|\u2588\u258e        | 235/1712 [01:36<08:54,  2.77it/s]"
          ]
        },
        {
          "output_type": "stream",
          "name": "stderr",
          "text": [
            "\rExtracting test embeddings (orig):  14%|\u2588\u258d        | 236/1712 [01:37<08:29,  2.90it/s]"
          ]
        },
        {
          "output_type": "stream",
          "name": "stderr",
          "text": [
            "\rExtracting test embeddings (orig):  14%|\u2588\u258d        | 237/1712 [01:37<10:24,  2.36it/s]"
          ]
        },
        {
          "output_type": "stream",
          "name": "stderr",
          "text": [
            "\rExtracting test embeddings (orig):  14%|\u2588\u258d        | 238/1712 [01:38<09:31,  2.58it/s]"
          ]
        },
        {
          "output_type": "stream",
          "name": "stderr",
          "text": [
            "\rExtracting test embeddings (orig):  14%|\u2588\u258d        | 239/1712 [01:38<09:00,  2.73it/s]"
          ]
        },
        {
          "output_type": "stream",
          "name": "stderr",
          "text": [
            "\rExtracting test embeddings (orig):  14%|\u2588\u258d        | 240/1712 [01:38<08:34,  2.86it/s]"
          ]
        },
        {
          "output_type": "stream",
          "name": "stderr",
          "text": [
            "\rExtracting test embeddings (orig):  14%|\u2588\u258d        | 241/1712 [01:39<08:58,  2.73it/s]"
          ]
        },
        {
          "output_type": "stream",
          "name": "stderr",
          "text": [
            "\rExtracting test embeddings (orig):  14%|\u2588\u258d        | 242/1712 [01:39<08:30,  2.88it/s]"
          ]
        },
        {
          "output_type": "stream",
          "name": "stderr",
          "text": [
            "\rExtracting test embeddings (orig):  14%|\u2588\u258d        | 243/1712 [01:39<08:14,  2.97it/s]"
          ]
        },
        {
          "output_type": "stream",
          "name": "stderr",
          "text": [
            "\rExtracting test embeddings (orig):  14%|\u2588\u258d        | 244/1712 [01:40<08:00,  3.06it/s]"
          ]
        },
        {
          "output_type": "stream",
          "name": "stderr",
          "text": [
            "\rExtracting test embeddings (orig):  14%|\u2588\u258d        | 245/1712 [01:40<09:42,  2.52it/s]"
          ]
        },
        {
          "output_type": "stream",
          "name": "stderr",
          "text": [
            "\rExtracting test embeddings (orig):  14%|\u2588\u258d        | 246/1712 [01:40<09:00,  2.71it/s]"
          ]
        },
        {
          "output_type": "stream",
          "name": "stderr",
          "text": [
            "\rExtracting test embeddings (orig):  14%|\u2588\u258d        | 247/1712 [01:41<08:37,  2.83it/s]"
          ]
        },
        {
          "output_type": "stream",
          "name": "stderr",
          "text": [
            "\rExtracting test embeddings (orig):  14%|\u2588\u258d        | 248/1712 [01:41<08:15,  2.96it/s]"
          ]
        },
        {
          "output_type": "stream",
          "name": "stderr",
          "text": [
            "\rExtracting test embeddings (orig):  15%|\u2588\u258d        | 249/1712 [01:42<09:53,  2.47it/s]"
          ]
        },
        {
          "output_type": "stream",
          "name": "stderr",
          "text": [
            "\rExtracting test embeddings (orig):  15%|\u2588\u258d        | 250/1712 [01:42<09:08,  2.66it/s]"
          ]
        },
        {
          "output_type": "stream",
          "name": "stderr",
          "text": [
            "\rExtracting test embeddings (orig):  15%|\u2588\u258d        | 251/1712 [01:42<08:41,  2.80it/s]"
          ]
        },
        {
          "output_type": "stream",
          "name": "stderr",
          "text": [
            "\rExtracting test embeddings (orig):  15%|\u2588\u258d        | 252/1712 [01:43<08:18,  2.93it/s]"
          ]
        },
        {
          "output_type": "stream",
          "name": "stderr",
          "text": [
            "\rExtracting test embeddings (orig):  15%|\u2588\u258d        | 253/1712 [01:43<09:56,  2.45it/s]"
          ]
        },
        {
          "output_type": "stream",
          "name": "stderr",
          "text": [
            "\rExtracting test embeddings (orig):  15%|\u2588\u258d        | 254/1712 [01:43<09:09,  2.65it/s]"
          ]
        },
        {
          "output_type": "stream",
          "name": "stderr",
          "text": [
            "\rExtracting test embeddings (orig):  15%|\u2588\u258d        | 255/1712 [01:44<08:40,  2.80it/s]"
          ]
        },
        {
          "output_type": "stream",
          "name": "stderr",
          "text": [
            "\rExtracting test embeddings (orig):  15%|\u2588\u258d        | 256/1712 [01:44<08:18,  2.92it/s]"
          ]
        },
        {
          "output_type": "stream",
          "name": "stderr",
          "text": [
            "\rExtracting test embeddings (orig):  15%|\u2588\u258c        | 257/1712 [01:45<09:56,  2.44it/s]"
          ]
        },
        {
          "output_type": "stream",
          "name": "stderr",
          "text": [
            "\rExtracting test embeddings (orig):  15%|\u2588\u258c        | 258/1712 [01:45<09:11,  2.64it/s]"
          ]
        },
        {
          "output_type": "stream",
          "name": "stderr",
          "text": [
            "\rExtracting test embeddings (orig):  15%|\u2588\u258c        | 259/1712 [01:45<08:41,  2.79it/s]"
          ]
        },
        {
          "output_type": "stream",
          "name": "stderr",
          "text": [
            "\rExtracting test embeddings (orig):  15%|\u2588\u258c        | 260/1712 [01:45<08:19,  2.91it/s]"
          ]
        },
        {
          "output_type": "stream",
          "name": "stderr",
          "text": [
            "\rExtracting test embeddings (orig):  15%|\u2588\u258c        | 261/1712 [01:46<09:51,  2.45it/s]"
          ]
        },
        {
          "output_type": "stream",
          "name": "stderr",
          "text": [
            "\rExtracting test embeddings (orig):  15%|\u2588\u258c        | 262/1712 [01:46<09:06,  2.65it/s]"
          ]
        },
        {
          "output_type": "stream",
          "name": "stderr",
          "text": [
            "\rExtracting test embeddings (orig):  15%|\u2588\u258c        | 263/1712 [01:47<08:37,  2.80it/s]"
          ]
        },
        {
          "output_type": "stream",
          "name": "stderr",
          "text": [
            "\rExtracting test embeddings (orig):  15%|\u2588\u258c        | 264/1712 [01:47<08:16,  2.92it/s]"
          ]
        },
        {
          "output_type": "stream",
          "name": "stderr",
          "text": [
            "\rExtracting test embeddings (orig):  15%|\u2588\u258c        | 265/1712 [01:48<09:43,  2.48it/s]"
          ]
        },
        {
          "output_type": "stream",
          "name": "stderr",
          "text": [
            "\rExtracting test embeddings (orig):  16%|\u2588\u258c        | 266/1712 [01:48<08:59,  2.68it/s]"
          ]
        },
        {
          "output_type": "stream",
          "name": "stderr",
          "text": [
            "\rExtracting test embeddings (orig):  16%|\u2588\u258c        | 267/1712 [01:48<08:35,  2.81it/s]"
          ]
        },
        {
          "output_type": "stream",
          "name": "stderr",
          "text": [
            "\rExtracting test embeddings (orig):  16%|\u2588\u258c        | 268/1712 [01:48<08:13,  2.93it/s]"
          ]
        },
        {
          "output_type": "stream",
          "name": "stderr",
          "text": [
            "\rExtracting test embeddings (orig):  16%|\u2588\u258c        | 269/1712 [01:49<09:47,  2.46it/s]"
          ]
        },
        {
          "output_type": "stream",
          "name": "stderr",
          "text": [
            "\rExtracting test embeddings (orig):  16%|\u2588\u258c        | 270/1712 [01:49<09:03,  2.65it/s]"
          ]
        },
        {
          "output_type": "stream",
          "name": "stderr",
          "text": [
            "\rExtracting test embeddings (orig):  16%|\u2588\u258c        | 271/1712 [01:50<08:34,  2.80it/s]"
          ]
        },
        {
          "output_type": "stream",
          "name": "stderr",
          "text": [
            "\rExtracting test embeddings (orig):  16%|\u2588\u258c        | 272/1712 [01:50<08:13,  2.92it/s]"
          ]
        },
        {
          "output_type": "stream",
          "name": "stderr",
          "text": [
            "\rExtracting test embeddings (orig):  16%|\u2588\u258c        | 273/1712 [01:50<09:47,  2.45it/s]"
          ]
        },
        {
          "output_type": "stream",
          "name": "stderr",
          "text": [
            "\rExtracting test embeddings (orig):  16%|\u2588\u258c        | 274/1712 [01:51<09:02,  2.65it/s]"
          ]
        },
        {
          "output_type": "stream",
          "name": "stderr",
          "text": [
            "\rExtracting test embeddings (orig):  16%|\u2588\u258c        | 275/1712 [01:51<08:34,  2.79it/s]"
          ]
        },
        {
          "output_type": "stream",
          "name": "stderr",
          "text": [
            "\rExtracting test embeddings (orig):  16%|\u2588\u258c        | 276/1712 [01:51<08:11,  2.92it/s]"
          ]
        },
        {
          "output_type": "stream",
          "name": "stderr",
          "text": [
            "\rExtracting test embeddings (orig):  16%|\u2588\u258c        | 277/1712 [01:52<09:25,  2.54it/s]"
          ]
        },
        {
          "output_type": "stream",
          "name": "stderr",
          "text": [
            "\rExtracting test embeddings (orig):  16%|\u2588\u258c        | 278/1712 [01:52<08:45,  2.73it/s]"
          ]
        },
        {
          "output_type": "stream",
          "name": "stderr",
          "text": [
            "\rExtracting test embeddings (orig):  16%|\u2588\u258b        | 279/1712 [01:53<08:22,  2.85it/s]"
          ]
        },
        {
          "output_type": "stream",
          "name": "stderr",
          "text": [
            "\rExtracting test embeddings (orig):  16%|\u2588\u258b        | 280/1712 [01:53<08:02,  2.97it/s]"
          ]
        },
        {
          "output_type": "stream",
          "name": "stderr",
          "text": [
            "\rExtracting test embeddings (orig):  16%|\u2588\u258b        | 281/1712 [01:53<09:52,  2.42it/s]"
          ]
        },
        {
          "output_type": "stream",
          "name": "stderr",
          "text": [
            "\rExtracting test embeddings (orig):  16%|\u2588\u258b        | 282/1712 [01:54<09:05,  2.62it/s]"
          ]
        },
        {
          "output_type": "stream",
          "name": "stderr",
          "text": [
            "\rExtracting test embeddings (orig):  17%|\u2588\u258b        | 283/1712 [01:54<08:34,  2.78it/s]"
          ]
        },
        {
          "output_type": "stream",
          "name": "stderr",
          "text": [
            "\rExtracting test embeddings (orig):  17%|\u2588\u258b        | 284/1712 [01:54<08:12,  2.90it/s]"
          ]
        },
        {
          "output_type": "stream",
          "name": "stderr",
          "text": [
            "\rExtracting test embeddings (orig):  17%|\u2588\u258b        | 285/1712 [01:55<09:43,  2.45it/s]"
          ]
        },
        {
          "output_type": "stream",
          "name": "stderr",
          "text": [
            "\rExtracting test embeddings (orig):  17%|\u2588\u258b        | 286/1712 [01:55<08:57,  2.65it/s]"
          ]
        },
        {
          "output_type": "stream",
          "name": "stderr",
          "text": [
            "\rExtracting test embeddings (orig):  17%|\u2588\u258b        | 287/1712 [01:56<08:33,  2.77it/s]"
          ]
        },
        {
          "output_type": "stream",
          "name": "stderr",
          "text": [
            "\rExtracting test embeddings (orig):  17%|\u2588\u258b        | 288/1712 [01:56<08:09,  2.91it/s]"
          ]
        },
        {
          "output_type": "stream",
          "name": "stderr",
          "text": [
            "\rExtracting test embeddings (orig):  17%|\u2588\u258b        | 289/1712 [01:56<09:45,  2.43it/s]"
          ]
        },
        {
          "output_type": "stream",
          "name": "stderr",
          "text": [
            "\rExtracting test embeddings (orig):  17%|\u2588\u258b        | 290/1712 [01:57<08:58,  2.64it/s]"
          ]
        },
        {
          "output_type": "stream",
          "name": "stderr",
          "text": [
            "\rExtracting test embeddings (orig):  17%|\u2588\u258b        | 291/1712 [01:57<08:41,  2.72it/s]"
          ]
        },
        {
          "output_type": "stream",
          "name": "stderr",
          "text": [
            "\rExtracting test embeddings (orig):  17%|\u2588\u258b        | 292/1712 [01:57<08:24,  2.82it/s]"
          ]
        },
        {
          "output_type": "stream",
          "name": "stderr",
          "text": [
            "\rExtracting test embeddings (orig):  17%|\u2588\u258b        | 293/1712 [01:58<09:32,  2.48it/s]"
          ]
        },
        {
          "output_type": "stream",
          "name": "stderr",
          "text": [
            "\rExtracting test embeddings (orig):  17%|\u2588\u258b        | 294/1712 [01:58<08:49,  2.68it/s]"
          ]
        },
        {
          "output_type": "stream",
          "name": "stderr",
          "text": [
            "\rExtracting test embeddings (orig):  17%|\u2588\u258b        | 295/1712 [01:59<08:57,  2.63it/s]"
          ]
        },
        {
          "output_type": "stream",
          "name": "stderr",
          "text": [
            "\rExtracting test embeddings (orig):  17%|\u2588\u258b        | 296/1712 [01:59<08:24,  2.80it/s]"
          ]
        },
        {
          "output_type": "stream",
          "name": "stderr",
          "text": [
            "\rExtracting test embeddings (orig):  17%|\u2588\u258b        | 297/1712 [01:59<09:39,  2.44it/s]"
          ]
        },
        {
          "output_type": "stream",
          "name": "stderr",
          "text": [
            "\rExtracting test embeddings (orig):  17%|\u2588\u258b        | 298/1712 [02:00<08:53,  2.65it/s]"
          ]
        },
        {
          "output_type": "stream",
          "name": "stderr",
          "text": [
            "\rExtracting test embeddings (orig):  17%|\u2588\u258b        | 299/1712 [02:00<08:47,  2.68it/s]"
          ]
        },
        {
          "output_type": "stream",
          "name": "stderr",
          "text": [
            "\rExtracting test embeddings (orig):  18%|\u2588\u258a        | 300/1712 [02:01<09:07,  2.58it/s]"
          ]
        },
        {
          "output_type": "stream",
          "name": "stderr",
          "text": [
            "\rExtracting test embeddings (orig):  18%|\u2588\u258a        | 301/1712 [02:01<09:11,  2.56it/s]"
          ]
        },
        {
          "output_type": "stream",
          "name": "stderr",
          "text": [
            "\rExtracting test embeddings (orig):  18%|\u2588\u258a        | 302/1712 [02:01<08:33,  2.75it/s]"
          ]
        },
        {
          "output_type": "stream",
          "name": "stderr",
          "text": [
            "\rExtracting test embeddings (orig):  18%|\u2588\u258a        | 303/1712 [02:02<08:42,  2.70it/s]"
          ]
        },
        {
          "output_type": "stream",
          "name": "stderr",
          "text": [
            "\rExtracting test embeddings (orig):  18%|\u2588\u258a        | 304/1712 [02:02<09:02,  2.60it/s]"
          ]
        },
        {
          "output_type": "stream",
          "name": "stderr",
          "text": [
            "\rExtracting test embeddings (orig):  18%|\u2588\u258a        | 305/1712 [02:02<09:11,  2.55it/s]"
          ]
        },
        {
          "output_type": "stream",
          "name": "stderr",
          "text": [
            "\rExtracting test embeddings (orig):  18%|\u2588\u258a        | 306/1712 [02:03<08:34,  2.73it/s]"
          ]
        },
        {
          "output_type": "stream",
          "name": "stderr",
          "text": [
            "\rExtracting test embeddings (orig):  18%|\u2588\u258a        | 307/1712 [02:03<08:48,  2.66it/s]"
          ]
        },
        {
          "output_type": "stream",
          "name": "stderr",
          "text": [
            "\rExtracting test embeddings (orig):  18%|\u2588\u258a        | 308/1712 [02:04<08:49,  2.65it/s]"
          ]
        },
        {
          "output_type": "stream",
          "name": "stderr",
          "text": [
            "\rExtracting test embeddings (orig):  18%|\u2588\u258a        | 309/1712 [02:04<09:02,  2.58it/s]"
          ]
        },
        {
          "output_type": "stream",
          "name": "stderr",
          "text": [
            "\rExtracting test embeddings (orig):  18%|\u2588\u258a        | 310/1712 [02:04<08:28,  2.76it/s]"
          ]
        },
        {
          "output_type": "stream",
          "name": "stderr",
          "text": [
            "\rExtracting test embeddings (orig):  18%|\u2588\u258a        | 311/1712 [02:05<09:02,  2.58it/s]"
          ]
        },
        {
          "output_type": "stream",
          "name": "stderr",
          "text": [
            "\rExtracting test embeddings (orig):  18%|\u2588\u258a        | 312/1712 [02:05<08:41,  2.68it/s]"
          ]
        },
        {
          "output_type": "stream",
          "name": "stderr",
          "text": [
            "\rExtracting test embeddings (orig):  18%|\u2588\u258a        | 313/1712 [02:05<08:51,  2.63it/s]"
          ]
        },
        {
          "output_type": "stream",
          "name": "stderr",
          "text": [
            "\rExtracting test embeddings (orig):  18%|\u2588\u258a        | 314/1712 [02:06<08:18,  2.80it/s]"
          ]
        },
        {
          "output_type": "stream",
          "name": "stderr",
          "text": [
            "\rExtracting test embeddings (orig):  18%|\u2588\u258a        | 315/1712 [02:06<09:20,  2.49it/s]"
          ]
        },
        {
          "output_type": "stream",
          "name": "stderr",
          "text": [
            "\rExtracting test embeddings (orig):  18%|\u2588\u258a        | 316/1712 [02:07<08:50,  2.63it/s]"
          ]
        },
        {
          "output_type": "stream",
          "name": "stderr",
          "text": [
            "\rExtracting test embeddings (orig):  19%|\u2588\u258a        | 317/1712 [02:07<08:28,  2.74it/s]"
          ]
        },
        {
          "output_type": "stream",
          "name": "stderr",
          "text": [
            "\rExtracting test embeddings (orig):  19%|\u2588\u258a        | 318/1712 [02:07<08:04,  2.88it/s]"
          ]
        },
        {
          "output_type": "stream",
          "name": "stderr",
          "text": [
            "\rExtracting test embeddings (orig):  19%|\u2588\u258a        | 319/1712 [02:08<09:45,  2.38it/s]"
          ]
        },
        {
          "output_type": "stream",
          "name": "stderr",
          "text": [
            "\rExtracting test embeddings (orig):  19%|\u2588\u258a        | 320/1712 [02:08<08:56,  2.59it/s]"
          ]
        },
        {
          "output_type": "stream",
          "name": "stderr",
          "text": [
            "\rExtracting test embeddings (orig):  19%|\u2588\u2589        | 321/1712 [02:08<08:27,  2.74it/s]"
          ]
        },
        {
          "output_type": "stream",
          "name": "stderr",
          "text": [
            "\rExtracting test embeddings (orig):  19%|\u2588\u2589        | 322/1712 [02:09<08:03,  2.88it/s]"
          ]
        },
        {
          "output_type": "stream",
          "name": "stderr",
          "text": [
            "\rExtracting test embeddings (orig):  19%|\u2588\u2589        | 323/1712 [02:09<09:41,  2.39it/s]"
          ]
        },
        {
          "output_type": "stream",
          "name": "stderr",
          "text": [
            "\rExtracting test embeddings (orig):  19%|\u2588\u2589        | 324/1712 [02:10<08:52,  2.61it/s]"
          ]
        },
        {
          "output_type": "stream",
          "name": "stderr",
          "text": [
            "\rExtracting test embeddings (orig):  19%|\u2588\u2589        | 325/1712 [02:10<08:22,  2.76it/s]"
          ]
        },
        {
          "output_type": "stream",
          "name": "stderr",
          "text": [
            "\rExtracting test embeddings (orig):  19%|\u2588\u2589        | 326/1712 [02:10<07:58,  2.89it/s]"
          ]
        },
        {
          "output_type": "stream",
          "name": "stderr",
          "text": [
            "\rExtracting test embeddings (orig):  19%|\u2588\u2589        | 327/1712 [02:11<09:43,  2.37it/s]"
          ]
        },
        {
          "output_type": "stream",
          "name": "stderr",
          "text": [
            "\rExtracting test embeddings (orig):  19%|\u2588\u2589        | 328/1712 [02:11<08:54,  2.59it/s]"
          ]
        },
        {
          "output_type": "stream",
          "name": "stderr",
          "text": [
            "\rExtracting test embeddings (orig):  19%|\u2588\u2589        | 329/1712 [02:11<08:23,  2.75it/s]"
          ]
        },
        {
          "output_type": "stream",
          "name": "stderr",
          "text": [
            "\rExtracting test embeddings (orig):  19%|\u2588\u2589        | 330/1712 [02:12<07:58,  2.89it/s]"
          ]
        },
        {
          "output_type": "stream",
          "name": "stderr",
          "text": [
            "\rExtracting test embeddings (orig):  19%|\u2588\u2589        | 331/1712 [02:12<09:37,  2.39it/s]"
          ]
        },
        {
          "output_type": "stream",
          "name": "stderr",
          "text": [
            "\rExtracting test embeddings (orig):  19%|\u2588\u2589        | 332/1712 [02:13<08:50,  2.60it/s]"
          ]
        },
        {
          "output_type": "stream",
          "name": "stderr",
          "text": [
            "\rExtracting test embeddings (orig):  19%|\u2588\u2589        | 333/1712 [02:13<08:22,  2.74it/s]"
          ]
        },
        {
          "output_type": "stream",
          "name": "stderr",
          "text": [
            "\rExtracting test embeddings (orig):  20%|\u2588\u2589        | 334/1712 [02:13<07:58,  2.88it/s]"
          ]
        },
        {
          "output_type": "stream",
          "name": "stderr",
          "text": [
            "\rExtracting test embeddings (orig):  20%|\u2588\u2589        | 335/1712 [02:14<10:29,  2.19it/s]"
          ]
        },
        {
          "output_type": "stream",
          "name": "stderr",
          "text": [
            "\rExtracting test embeddings (orig):  20%|\u2588\u2589        | 336/1712 [02:14<09:26,  2.43it/s]"
          ]
        },
        {
          "output_type": "stream",
          "name": "stderr",
          "text": [
            "\rExtracting test embeddings (orig):  20%|\u2588\u2589        | 337/1712 [02:15<08:45,  2.62it/s]"
          ]
        },
        {
          "output_type": "stream",
          "name": "stderr",
          "text": [
            "\rExtracting test embeddings (orig):  20%|\u2588\u2589        | 338/1712 [02:15<08:14,  2.78it/s]"
          ]
        },
        {
          "output_type": "stream",
          "name": "stderr",
          "text": [
            "\rExtracting test embeddings (orig):  20%|\u2588\u2589        | 339/1712 [02:15<09:49,  2.33it/s]"
          ]
        },
        {
          "output_type": "stream",
          "name": "stderr",
          "text": [
            "\rExtracting test embeddings (orig):  20%|\u2588\u2589        | 340/1712 [02:16<08:59,  2.55it/s]"
          ]
        },
        {
          "output_type": "stream",
          "name": "stderr",
          "text": [
            "\rExtracting test embeddings (orig):  20%|\u2588\u2589        | 341/1712 [02:16<08:24,  2.72it/s]"
          ]
        },
        {
          "output_type": "stream",
          "name": "stderr",
          "text": [
            "\rExtracting test embeddings (orig):  20%|\u2588\u2589        | 342/1712 [02:16<07:59,  2.86it/s]"
          ]
        },
        {
          "output_type": "stream",
          "name": "stderr",
          "text": [
            "\rExtracting test embeddings (orig):  20%|\u2588\u2588        | 343/1712 [02:17<09:22,  2.43it/s]"
          ]
        },
        {
          "output_type": "stream",
          "name": "stderr",
          "text": [
            "\rExtracting test embeddings (orig):  20%|\u2588\u2588        | 344/1712 [02:17<08:40,  2.63it/s]"
          ]
        },
        {
          "output_type": "stream",
          "name": "stderr",
          "text": [
            "\rExtracting test embeddings (orig):  20%|\u2588\u2588        | 345/1712 [02:18<08:11,  2.78it/s]"
          ]
        },
        {
          "output_type": "stream",
          "name": "stderr",
          "text": [
            "\rExtracting test embeddings (orig):  20%|\u2588\u2588        | 346/1712 [02:18<07:49,  2.91it/s]"
          ]
        },
        {
          "output_type": "stream",
          "name": "stderr",
          "text": [
            "\rExtracting test embeddings (orig):  20%|\u2588\u2588        | 347/1712 [02:18<09:25,  2.42it/s]"
          ]
        },
        {
          "output_type": "stream",
          "name": "stderr",
          "text": [
            "\rExtracting test embeddings (orig):  20%|\u2588\u2588        | 348/1712 [02:19<08:39,  2.62it/s]"
          ]
        },
        {
          "output_type": "stream",
          "name": "stderr",
          "text": [
            "\rExtracting test embeddings (orig):  20%|\u2588\u2588        | 349/1712 [02:19<08:10,  2.78it/s]"
          ]
        },
        {
          "output_type": "stream",
          "name": "stderr",
          "text": [
            "\rExtracting test embeddings (orig):  20%|\u2588\u2588        | 350/1712 [02:19<07:49,  2.90it/s]"
          ]
        },
        {
          "output_type": "stream",
          "name": "stderr",
          "text": [
            "\rExtracting test embeddings (orig):  21%|\u2588\u2588        | 351/1712 [02:20<09:47,  2.32it/s]"
          ]
        },
        {
          "output_type": "stream",
          "name": "stderr",
          "text": [
            "\rExtracting test embeddings (orig):  21%|\u2588\u2588        | 352/1712 [02:20<08:55,  2.54it/s]"
          ]
        },
        {
          "output_type": "stream",
          "name": "stderr",
          "text": [
            "\rExtracting test embeddings (orig):  21%|\u2588\u2588        | 353/1712 [02:21<08:21,  2.71it/s]"
          ]
        },
        {
          "output_type": "stream",
          "name": "stderr",
          "text": [
            "\rExtracting test embeddings (orig):  21%|\u2588\u2588        | 354/1712 [02:21<07:56,  2.85it/s]"
          ]
        },
        {
          "output_type": "stream",
          "name": "stderr",
          "text": [
            "\rExtracting test embeddings (orig):  21%|\u2588\u2588        | 355/1712 [02:22<10:46,  2.10it/s]"
          ]
        },
        {
          "output_type": "stream",
          "name": "stderr",
          "text": [
            "\rExtracting test embeddings (orig):  21%|\u2588\u2588        | 356/1712 [02:22<09:35,  2.35it/s]"
          ]
        },
        {
          "output_type": "stream",
          "name": "stderr",
          "text": [
            "\rExtracting test embeddings (orig):  21%|\u2588\u2588        | 357/1712 [02:22<08:51,  2.55it/s]"
          ]
        },
        {
          "output_type": "stream",
          "name": "stderr",
          "text": [
            "\rExtracting test embeddings (orig):  21%|\u2588\u2588        | 358/1712 [02:23<08:16,  2.73it/s]"
          ]
        },
        {
          "output_type": "stream",
          "name": "stderr",
          "text": [
            "\rExtracting test embeddings (orig):  21%|\u2588\u2588        | 359/1712 [02:23<09:43,  2.32it/s]"
          ]
        },
        {
          "output_type": "stream",
          "name": "stderr",
          "text": [
            "\rExtracting test embeddings (orig):  21%|\u2588\u2588        | 360/1712 [02:24<08:51,  2.55it/s]"
          ]
        },
        {
          "output_type": "stream",
          "name": "stderr",
          "text": [
            "\rExtracting test embeddings (orig):  21%|\u2588\u2588        | 361/1712 [02:24<08:16,  2.72it/s]"
          ]
        },
        {
          "output_type": "stream",
          "name": "stderr",
          "text": [
            "\rExtracting test embeddings (orig):  21%|\u2588\u2588        | 362/1712 [02:24<07:52,  2.86it/s]"
          ]
        },
        {
          "output_type": "stream",
          "name": "stderr",
          "text": [
            "\rExtracting test embeddings (orig):  21%|\u2588\u2588        | 363/1712 [02:25<08:21,  2.69it/s]"
          ]
        },
        {
          "output_type": "stream",
          "name": "stderr",
          "text": [
            "\rExtracting test embeddings (orig):  21%|\u2588\u2588\u258f       | 364/1712 [02:25<07:53,  2.85it/s]"
          ]
        },
        {
          "output_type": "stream",
          "name": "stderr",
          "text": [
            "\rExtracting test embeddings (orig):  21%|\u2588\u2588\u258f       | 365/1712 [02:25<07:38,  2.94it/s]"
          ]
        },
        {
          "output_type": "stream",
          "name": "stderr",
          "text": [
            "\rExtracting test embeddings (orig):  21%|\u2588\u2588\u258f       | 366/1712 [02:26<07:24,  3.03it/s]"
          ]
        },
        {
          "output_type": "stream",
          "name": "stderr",
          "text": [
            "\rExtracting test embeddings (orig):  21%|\u2588\u2588\u258f       | 367/1712 [02:26<09:08,  2.45it/s]"
          ]
        },
        {
          "output_type": "stream",
          "name": "stderr",
          "text": [
            "\rExtracting test embeddings (orig):  21%|\u2588\u2588\u258f       | 368/1712 [02:26<08:26,  2.65it/s]"
          ]
        },
        {
          "output_type": "stream",
          "name": "stderr",
          "text": [
            "\rExtracting test embeddings (orig):  22%|\u2588\u2588\u258f       | 369/1712 [02:27<08:00,  2.79it/s]"
          ]
        },
        {
          "output_type": "stream",
          "name": "stderr",
          "text": [
            "\rExtracting test embeddings (orig):  22%|\u2588\u2588\u258f       | 370/1712 [02:27<07:39,  2.92it/s]"
          ]
        },
        {
          "output_type": "stream",
          "name": "stderr",
          "text": [
            "\rExtracting test embeddings (orig):  22%|\u2588\u2588\u258f       | 371/1712 [02:28<09:12,  2.43it/s]"
          ]
        },
        {
          "output_type": "stream",
          "name": "stderr",
          "text": [
            "\rExtracting test embeddings (orig):  22%|\u2588\u2588\u258f       | 372/1712 [02:28<08:29,  2.63it/s]"
          ]
        },
        {
          "output_type": "stream",
          "name": "stderr",
          "text": [
            "\rExtracting test embeddings (orig):  22%|\u2588\u2588\u258f       | 373/1712 [02:28<08:01,  2.78it/s]"
          ]
        },
        {
          "output_type": "stream",
          "name": "stderr",
          "text": [
            "\rExtracting test embeddings (orig):  22%|\u2588\u2588\u258f       | 374/1712 [02:29<07:40,  2.91it/s]"
          ]
        },
        {
          "output_type": "stream",
          "name": "stderr",
          "text": [
            "\rExtracting test embeddings (orig):  22%|\u2588\u2588\u258f       | 375/1712 [02:29<09:18,  2.39it/s]"
          ]
        },
        {
          "output_type": "stream",
          "name": "stderr",
          "text": [
            "\rExtracting test embeddings (orig):  22%|\u2588\u2588\u258f       | 376/1712 [02:29<08:34,  2.60it/s]"
          ]
        },
        {
          "output_type": "stream",
          "name": "stderr",
          "text": [
            "\rExtracting test embeddings (orig):  22%|\u2588\u2588\u258f       | 377/1712 [02:30<08:04,  2.76it/s]"
          ]
        },
        {
          "output_type": "stream",
          "name": "stderr",
          "text": [
            "\rExtracting test embeddings (orig):  22%|\u2588\u2588\u258f       | 378/1712 [02:30<07:42,  2.88it/s]"
          ]
        },
        {
          "output_type": "stream",
          "name": "stderr",
          "text": [
            "\rExtracting test embeddings (orig):  22%|\u2588\u2588\u258f       | 379/1712 [02:31<09:20,  2.38it/s]"
          ]
        },
        {
          "output_type": "stream",
          "name": "stderr",
          "text": [
            "\rExtracting test embeddings (orig):  22%|\u2588\u2588\u258f       | 380/1712 [02:31<08:34,  2.59it/s]"
          ]
        },
        {
          "output_type": "stream",
          "name": "stderr",
          "text": [
            "\rExtracting test embeddings (orig):  22%|\u2588\u2588\u258f       | 381/1712 [02:31<08:03,  2.75it/s]"
          ]
        },
        {
          "output_type": "stream",
          "name": "stderr",
          "text": [
            "\rExtracting test embeddings (orig):  22%|\u2588\u2588\u258f       | 382/1712 [02:32<07:41,  2.88it/s]"
          ]
        },
        {
          "output_type": "stream",
          "name": "stderr",
          "text": [
            "\rExtracting test embeddings (orig):  22%|\u2588\u2588\u258f       | 383/1712 [02:32<09:14,  2.40it/s]"
          ]
        },
        {
          "output_type": "stream",
          "name": "stderr",
          "text": [
            "\rExtracting test embeddings (orig):  22%|\u2588\u2588\u258f       | 384/1712 [02:32<08:29,  2.61it/s]"
          ]
        },
        {
          "output_type": "stream",
          "name": "stderr",
          "text": [
            "\rExtracting test embeddings (orig):  22%|\u2588\u2588\u258f       | 385/1712 [02:33<08:00,  2.76it/s]"
          ]
        },
        {
          "output_type": "stream",
          "name": "stderr",
          "text": [
            "\rExtracting test embeddings (orig):  23%|\u2588\u2588\u258e       | 386/1712 [02:33<07:37,  2.90it/s]"
          ]
        },
        {
          "output_type": "stream",
          "name": "stderr",
          "text": [
            "\rExtracting test embeddings (orig):  23%|\u2588\u2588\u258e       | 387/1712 [02:34<09:18,  2.37it/s]"
          ]
        },
        {
          "output_type": "stream",
          "name": "stderr",
          "text": [
            "\rExtracting test embeddings (orig):  23%|\u2588\u2588\u258e       | 388/1712 [02:34<08:31,  2.59it/s]"
          ]
        },
        {
          "output_type": "stream",
          "name": "stderr",
          "text": [
            "\rExtracting test embeddings (orig):  23%|\u2588\u2588\u258e       | 389/1712 [02:34<08:02,  2.74it/s]"
          ]
        },
        {
          "output_type": "stream",
          "name": "stderr",
          "text": [
            "\rExtracting test embeddings (orig):  23%|\u2588\u2588\u258e       | 390/1712 [02:35<07:37,  2.89it/s]"
          ]
        },
        {
          "output_type": "stream",
          "name": "stderr",
          "text": [
            "\rExtracting test embeddings (orig):  23%|\u2588\u2588\u258e       | 391/1712 [02:35<09:15,  2.38it/s]"
          ]
        },
        {
          "output_type": "stream",
          "name": "stderr",
          "text": [
            "\rExtracting test embeddings (orig):  23%|\u2588\u2588\u258e       | 392/1712 [02:35<08:28,  2.59it/s]"
          ]
        },
        {
          "output_type": "stream",
          "name": "stderr",
          "text": [
            "\rExtracting test embeddings (orig):  23%|\u2588\u2588\u258e       | 393/1712 [02:36<07:58,  2.75it/s]"
          ]
        },
        {
          "output_type": "stream",
          "name": "stderr",
          "text": [
            "\rExtracting test embeddings (orig):  23%|\u2588\u2588\u258e       | 394/1712 [02:36<07:37,  2.88it/s]"
          ]
        },
        {
          "output_type": "stream",
          "name": "stderr",
          "text": [
            "\rExtracting test embeddings (orig):  23%|\u2588\u2588\u258e       | 395/1712 [02:37<09:10,  2.39it/s]"
          ]
        },
        {
          "output_type": "stream",
          "name": "stderr",
          "text": [
            "\rExtracting test embeddings (orig):  23%|\u2588\u2588\u258e       | 396/1712 [02:37<08:26,  2.60it/s]"
          ]
        },
        {
          "output_type": "stream",
          "name": "stderr",
          "text": [
            "\rExtracting test embeddings (orig):  23%|\u2588\u2588\u258e       | 397/1712 [02:37<07:58,  2.75it/s]"
          ]
        },
        {
          "output_type": "stream",
          "name": "stderr",
          "text": [
            "\rExtracting test embeddings (orig):  23%|\u2588\u2588\u258e       | 398/1712 [02:38<07:35,  2.89it/s]"
          ]
        },
        {
          "output_type": "stream",
          "name": "stderr",
          "text": [
            "\rExtracting test embeddings (orig):  23%|\u2588\u2588\u258e       | 399/1712 [02:38<09:04,  2.41it/s]"
          ]
        },
        {
          "output_type": "stream",
          "name": "stderr",
          "text": [
            "\rExtracting test embeddings (orig):  23%|\u2588\u2588\u258e       | 400/1712 [02:38<08:21,  2.61it/s]"
          ]
        },
        {
          "output_type": "stream",
          "name": "stderr",
          "text": [
            "\rExtracting test embeddings (orig):  23%|\u2588\u2588\u258e       | 401/1712 [02:39<07:55,  2.76it/s]"
          ]
        },
        {
          "output_type": "stream",
          "name": "stderr",
          "text": [
            "\rExtracting test embeddings (orig):  23%|\u2588\u2588\u258e       | 402/1712 [02:39<07:33,  2.89it/s]"
          ]
        },
        {
          "output_type": "stream",
          "name": "stderr",
          "text": [
            "\rExtracting test embeddings (orig):  24%|\u2588\u2588\u258e       | 403/1712 [02:40<09:01,  2.42it/s]"
          ]
        },
        {
          "output_type": "stream",
          "name": "stderr",
          "text": [
            "\rExtracting test embeddings (orig):  24%|\u2588\u2588\u258e       | 404/1712 [02:40<08:20,  2.62it/s]"
          ]
        },
        {
          "output_type": "stream",
          "name": "stderr",
          "text": [
            "\rExtracting test embeddings (orig):  24%|\u2588\u2588\u258e       | 405/1712 [02:40<07:51,  2.77it/s]"
          ]
        },
        {
          "output_type": "stream",
          "name": "stderr",
          "text": [
            "\rExtracting test embeddings (orig):  24%|\u2588\u2588\u258e       | 406/1712 [02:41<07:30,  2.90it/s]"
          ]
        },
        {
          "output_type": "stream",
          "name": "stderr",
          "text": [
            "\rExtracting test embeddings (orig):  24%|\u2588\u2588\u258d       | 407/1712 [02:41<09:50,  2.21it/s]"
          ]
        },
        {
          "output_type": "stream",
          "name": "stderr",
          "text": [
            "\rExtracting test embeddings (orig):  24%|\u2588\u2588\u258d       | 408/1712 [02:42<08:52,  2.45it/s]"
          ]
        },
        {
          "output_type": "stream",
          "name": "stderr",
          "text": [
            "\rExtracting test embeddings (orig):  24%|\u2588\u2588\u258d       | 409/1712 [02:42<08:15,  2.63it/s]"
          ]
        },
        {
          "output_type": "stream",
          "name": "stderr",
          "text": [
            "\rExtracting test embeddings (orig):  24%|\u2588\u2588\u258d       | 410/1712 [02:42<07:45,  2.80it/s]"
          ]
        },
        {
          "output_type": "stream",
          "name": "stderr",
          "text": [
            "\rExtracting test embeddings (orig):  24%|\u2588\u2588\u258d       | 411/1712 [02:43<08:55,  2.43it/s]"
          ]
        },
        {
          "output_type": "stream",
          "name": "stderr",
          "text": [
            "\rExtracting test embeddings (orig):  24%|\u2588\u2588\u258d       | 412/1712 [02:43<08:13,  2.63it/s]"
          ]
        },
        {
          "output_type": "stream",
          "name": "stderr",
          "text": [
            "\rExtracting test embeddings (orig):  24%|\u2588\u2588\u258d       | 413/1712 [02:43<07:48,  2.78it/s]"
          ]
        },
        {
          "output_type": "stream",
          "name": "stderr",
          "text": [
            "\rExtracting test embeddings (orig):  24%|\u2588\u2588\u258d       | 414/1712 [02:44<07:26,  2.91it/s]"
          ]
        },
        {
          "output_type": "stream",
          "name": "stderr",
          "text": [
            "\rExtracting test embeddings (orig):  24%|\u2588\u2588\u258d       | 415/1712 [02:44<08:53,  2.43it/s]"
          ]
        },
        {
          "output_type": "stream",
          "name": "stderr",
          "text": [
            "\rExtracting test embeddings (orig):  24%|\u2588\u2588\u258d       | 416/1712 [02:45<08:11,  2.64it/s]"
          ]
        },
        {
          "output_type": "stream",
          "name": "stderr",
          "text": [
            "\rExtracting test embeddings (orig):  24%|\u2588\u2588\u258d       | 417/1712 [02:45<07:46,  2.78it/s]"
          ]
        },
        {
          "output_type": "stream",
          "name": "stderr",
          "text": [
            "\rExtracting test embeddings (orig):  24%|\u2588\u2588\u258d       | 418/1712 [02:45<07:24,  2.91it/s]"
          ]
        },
        {
          "output_type": "stream",
          "name": "stderr",
          "text": [
            "\rExtracting test embeddings (orig):  24%|\u2588\u2588\u258d       | 419/1712 [02:46<09:50,  2.19it/s]"
          ]
        },
        {
          "output_type": "stream",
          "name": "stderr",
          "text": [
            "\rExtracting test embeddings (orig):  25%|\u2588\u2588\u258d       | 420/1712 [02:46<08:51,  2.43it/s]"
          ]
        },
        {
          "output_type": "stream",
          "name": "stderr",
          "text": [
            "\rExtracting test embeddings (orig):  25%|\u2588\u2588\u258d       | 421/1712 [02:47<08:14,  2.61it/s]"
          ]
        },
        {
          "output_type": "stream",
          "name": "stderr",
          "text": [
            "\rExtracting test embeddings (orig):  25%|\u2588\u2588\u258d       | 422/1712 [02:47<07:45,  2.77it/s]"
          ]
        },
        {
          "output_type": "stream",
          "name": "stderr",
          "text": [
            "\rExtracting test embeddings (orig):  25%|\u2588\u2588\u258d       | 423/1712 [02:47<08:54,  2.41it/s]"
          ]
        },
        {
          "output_type": "stream",
          "name": "stderr",
          "text": [
            "\rExtracting test embeddings (orig):  25%|\u2588\u2588\u258d       | 424/1712 [02:48<08:11,  2.62it/s]"
          ]
        },
        {
          "output_type": "stream",
          "name": "stderr",
          "text": [
            "\rExtracting test embeddings (orig):  25%|\u2588\u2588\u258d       | 425/1712 [02:48<07:45,  2.76it/s]"
          ]
        },
        {
          "output_type": "stream",
          "name": "stderr",
          "text": [
            "\rExtracting test embeddings (orig):  25%|\u2588\u2588\u258d       | 426/1712 [02:48<07:23,  2.90it/s]"
          ]
        },
        {
          "output_type": "stream",
          "name": "stderr",
          "text": [
            "\rExtracting test embeddings (orig):  25%|\u2588\u2588\u258d       | 427/1712 [02:49<08:54,  2.40it/s]"
          ]
        },
        {
          "output_type": "stream",
          "name": "stderr",
          "text": [
            "\rExtracting test embeddings (orig):  25%|\u2588\u2588\u258c       | 428/1712 [02:49<08:11,  2.61it/s]"
          ]
        },
        {
          "output_type": "stream",
          "name": "stderr",
          "text": [
            "\rExtracting test embeddings (orig):  25%|\u2588\u2588\u258c       | 429/1712 [02:50<07:45,  2.76it/s]"
          ]
        },
        {
          "output_type": "stream",
          "name": "stderr",
          "text": [
            "\rExtracting test embeddings (orig):  25%|\u2588\u2588\u258c       | 430/1712 [02:50<07:24,  2.88it/s]"
          ]
        },
        {
          "output_type": "stream",
          "name": "stderr",
          "text": [
            "\rExtracting test embeddings (orig):  25%|\u2588\u2588\u258c       | 431/1712 [02:50<09:09,  2.33it/s]"
          ]
        },
        {
          "output_type": "stream",
          "name": "stderr",
          "text": [
            "\rExtracting test embeddings (orig):  25%|\u2588\u2588\u258c       | 432/1712 [02:51<08:20,  2.56it/s]"
          ]
        },
        {
          "output_type": "stream",
          "name": "stderr",
          "text": [
            "\rExtracting test embeddings (orig):  25%|\u2588\u2588\u258c       | 433/1712 [02:51<07:51,  2.71it/s]"
          ]
        },
        {
          "output_type": "stream",
          "name": "stderr",
          "text": [
            "\rExtracting test embeddings (orig):  25%|\u2588\u2588\u258c       | 434/1712 [02:51<07:27,  2.85it/s]"
          ]
        },
        {
          "output_type": "stream",
          "name": "stderr",
          "text": [
            "\rExtracting test embeddings (orig):  25%|\u2588\u2588\u258c       | 435/1712 [02:52<09:02,  2.35it/s]"
          ]
        },
        {
          "output_type": "stream",
          "name": "stderr",
          "text": [
            "\rExtracting test embeddings (orig):  25%|\u2588\u2588\u258c       | 436/1712 [02:52<08:17,  2.56it/s]"
          ]
        },
        {
          "output_type": "stream",
          "name": "stderr",
          "text": [
            "\rExtracting test embeddings (orig):  26%|\u2588\u2588\u258c       | 437/1712 [02:53<07:49,  2.72it/s]"
          ]
        },
        {
          "output_type": "stream",
          "name": "stderr",
          "text": [
            "\rExtracting test embeddings (orig):  26%|\u2588\u2588\u258c       | 438/1712 [02:53<07:25,  2.86it/s]"
          ]
        },
        {
          "output_type": "stream",
          "name": "stderr",
          "text": [
            "\rExtracting test embeddings (orig):  26%|\u2588\u2588\u258c       | 439/1712 [02:53<08:34,  2.47it/s]"
          ]
        },
        {
          "output_type": "stream",
          "name": "stderr",
          "text": [
            "\rExtracting test embeddings (orig):  26%|\u2588\u2588\u258c       | 440/1712 [02:54<07:57,  2.66it/s]"
          ]
        },
        {
          "output_type": "stream",
          "name": "stderr",
          "text": [
            "\rExtracting test embeddings (orig):  26%|\u2588\u2588\u258c       | 441/1712 [02:54<07:33,  2.80it/s]"
          ]
        },
        {
          "output_type": "stream",
          "name": "stderr",
          "text": [
            "\rExtracting test embeddings (orig):  26%|\u2588\u2588\u258c       | 442/1712 [02:54<07:14,  2.92it/s]"
          ]
        },
        {
          "output_type": "stream",
          "name": "stderr",
          "text": [
            "\rExtracting test embeddings (orig):  26%|\u2588\u2588\u258c       | 443/1712 [02:55<08:51,  2.39it/s]"
          ]
        },
        {
          "output_type": "stream",
          "name": "stderr",
          "text": [
            "\rExtracting test embeddings (orig):  26%|\u2588\u2588\u258c       | 444/1712 [02:55<08:07,  2.60it/s]"
          ]
        },
        {
          "output_type": "stream",
          "name": "stderr",
          "text": [
            "\rExtracting test embeddings (orig):  26%|\u2588\u2588\u258c       | 445/1712 [02:56<07:41,  2.75it/s]"
          ]
        },
        {
          "output_type": "stream",
          "name": "stderr",
          "text": [
            "\rExtracting test embeddings (orig):  26%|\u2588\u2588\u258c       | 446/1712 [02:56<07:18,  2.89it/s]"
          ]
        },
        {
          "output_type": "stream",
          "name": "stderr",
          "text": [
            "\rExtracting test embeddings (orig):  26%|\u2588\u2588\u258c       | 447/1712 [02:56<08:39,  2.43it/s]"
          ]
        },
        {
          "output_type": "stream",
          "name": "stderr",
          "text": [
            "\rExtracting test embeddings (orig):  26%|\u2588\u2588\u258c       | 448/1712 [02:57<08:00,  2.63it/s]"
          ]
        },
        {
          "output_type": "stream",
          "name": "stderr",
          "text": [
            "\rExtracting test embeddings (orig):  26%|\u2588\u2588\u258c       | 449/1712 [02:57<07:35,  2.77it/s]"
          ]
        },
        {
          "output_type": "stream",
          "name": "stderr",
          "text": [
            "\rExtracting test embeddings (orig):  26%|\u2588\u2588\u258b       | 450/1712 [02:57<07:15,  2.90it/s]"
          ]
        },
        {
          "output_type": "stream",
          "name": "stderr",
          "text": [
            "\rExtracting test embeddings (orig):  26%|\u2588\u2588\u258b       | 451/1712 [02:58<08:45,  2.40it/s]"
          ]
        },
        {
          "output_type": "stream",
          "name": "stderr",
          "text": [
            "\rExtracting test embeddings (orig):  26%|\u2588\u2588\u258b       | 452/1712 [02:58<08:04,  2.60it/s]"
          ]
        },
        {
          "output_type": "stream",
          "name": "stderr",
          "text": [
            "\rExtracting test embeddings (orig):  26%|\u2588\u2588\u258b       | 453/1712 [02:59<07:37,  2.75it/s]"
          ]
        },
        {
          "output_type": "stream",
          "name": "stderr",
          "text": [
            "\rExtracting test embeddings (orig):  27%|\u2588\u2588\u258b       | 454/1712 [02:59<07:15,  2.89it/s]"
          ]
        },
        {
          "output_type": "stream",
          "name": "stderr",
          "text": [
            "\rExtracting test embeddings (orig):  27%|\u2588\u2588\u258b       | 455/1712 [02:59<08:45,  2.39it/s]"
          ]
        },
        {
          "output_type": "stream",
          "name": "stderr",
          "text": [
            "\rExtracting test embeddings (orig):  27%|\u2588\u2588\u258b       | 456/1712 [03:00<08:02,  2.60it/s]"
          ]
        },
        {
          "output_type": "stream",
          "name": "stderr",
          "text": [
            "\rExtracting test embeddings (orig):  27%|\u2588\u2588\u258b       | 457/1712 [03:00<07:35,  2.75it/s]"
          ]
        },
        {
          "output_type": "stream",
          "name": "stderr",
          "text": [
            "\rExtracting test embeddings (orig):  27%|\u2588\u2588\u258b       | 458/1712 [03:00<07:14,  2.89it/s]"
          ]
        },
        {
          "output_type": "stream",
          "name": "stderr",
          "text": [
            "\rExtracting test embeddings (orig):  27%|\u2588\u2588\u258b       | 459/1712 [03:01<08:31,  2.45it/s]"
          ]
        },
        {
          "output_type": "stream",
          "name": "stderr",
          "text": [
            "\rExtracting test embeddings (orig):  27%|\u2588\u2588\u258b       | 460/1712 [03:01<07:52,  2.65it/s]"
          ]
        },
        {
          "output_type": "stream",
          "name": "stderr",
          "text": [
            "\rExtracting test embeddings (orig):  27%|\u2588\u2588\u258b       | 461/1712 [03:02<07:28,  2.79it/s]"
          ]
        },
        {
          "output_type": "stream",
          "name": "stderr",
          "text": [
            "\rExtracting test embeddings (orig):  27%|\u2588\u2588\u258b       | 462/1712 [03:02<07:07,  2.92it/s]"
          ]
        },
        {
          "output_type": "stream",
          "name": "stderr",
          "text": [
            "\rExtracting test embeddings (orig):  27%|\u2588\u2588\u258b       | 463/1712 [03:03<08:45,  2.38it/s]"
          ]
        },
        {
          "output_type": "stream",
          "name": "stderr",
          "text": [
            "\rExtracting test embeddings (orig):  27%|\u2588\u2588\u258b       | 464/1712 [03:03<08:02,  2.59it/s]"
          ]
        },
        {
          "output_type": "stream",
          "name": "stderr",
          "text": [
            "\rExtracting test embeddings (orig):  27%|\u2588\u2588\u258b       | 465/1712 [03:03<07:35,  2.74it/s]"
          ]
        },
        {
          "output_type": "stream",
          "name": "stderr",
          "text": [
            "\rExtracting test embeddings (orig):  27%|\u2588\u2588\u258b       | 466/1712 [03:03<07:14,  2.87it/s]"
          ]
        },
        {
          "output_type": "stream",
          "name": "stderr",
          "text": [
            "\rExtracting test embeddings (orig):  27%|\u2588\u2588\u258b       | 467/1712 [03:04<08:40,  2.39it/s]"
          ]
        },
        {
          "output_type": "stream",
          "name": "stderr",
          "text": [
            "\rExtracting test embeddings (orig):  27%|\u2588\u2588\u258b       | 468/1712 [03:04<07:57,  2.60it/s]"
          ]
        },
        {
          "output_type": "stream",
          "name": "stderr",
          "text": [
            "\rExtracting test embeddings (orig):  27%|\u2588\u2588\u258b       | 469/1712 [03:05<07:31,  2.75it/s]"
          ]
        },
        {
          "output_type": "stream",
          "name": "stderr",
          "text": [
            "\rExtracting test embeddings (orig):  27%|\u2588\u2588\u258b       | 470/1712 [03:05<07:09,  2.89it/s]"
          ]
        },
        {
          "output_type": "stream",
          "name": "stderr",
          "text": [
            "\rExtracting test embeddings (orig):  28%|\u2588\u2588\u258a       | 471/1712 [03:06<08:38,  2.39it/s]"
          ]
        },
        {
          "output_type": "stream",
          "name": "stderr",
          "text": [
            "\rExtracting test embeddings (orig):  28%|\u2588\u2588\u258a       | 472/1712 [03:06<07:57,  2.60it/s]"
          ]
        },
        {
          "output_type": "stream",
          "name": "stderr",
          "text": [
            "\rExtracting test embeddings (orig):  28%|\u2588\u2588\u258a       | 473/1712 [03:06<07:30,  2.75it/s]"
          ]
        },
        {
          "output_type": "stream",
          "name": "stderr",
          "text": [
            "\rExtracting test embeddings (orig):  28%|\u2588\u2588\u258a       | 474/1712 [03:06<07:09,  2.88it/s]"
          ]
        },
        {
          "output_type": "stream",
          "name": "stderr",
          "text": [
            "\rExtracting test embeddings (orig):  28%|\u2588\u2588\u258a       | 475/1712 [03:07<08:38,  2.39it/s]"
          ]
        },
        {
          "output_type": "stream",
          "name": "stderr",
          "text": [
            "\rExtracting test embeddings (orig):  28%|\u2588\u2588\u258a       | 476/1712 [03:07<07:56,  2.59it/s]"
          ]
        },
        {
          "output_type": "stream",
          "name": "stderr",
          "text": [
            "\rExtracting test embeddings (orig):  28%|\u2588\u2588\u258a       | 477/1712 [03:08<07:30,  2.74it/s]"
          ]
        },
        {
          "output_type": "stream",
          "name": "stderr",
          "text": [
            "\rExtracting test embeddings (orig):  28%|\u2588\u2588\u258a       | 478/1712 [03:08<07:08,  2.88it/s]"
          ]
        },
        {
          "output_type": "stream",
          "name": "stderr",
          "text": [
            "\rExtracting test embeddings (orig):  28%|\u2588\u2588\u258a       | 479/1712 [03:09<08:45,  2.35it/s]"
          ]
        },
        {
          "output_type": "stream",
          "name": "stderr",
          "text": [
            "\rExtracting test embeddings (orig):  28%|\u2588\u2588\u258a       | 480/1712 [03:09<08:01,  2.56it/s]"
          ]
        },
        {
          "output_type": "stream",
          "name": "stderr",
          "text": [
            "\rExtracting test embeddings (orig):  28%|\u2588\u2588\u258a       | 481/1712 [03:09<07:31,  2.72it/s]"
          ]
        },
        {
          "output_type": "stream",
          "name": "stderr",
          "text": [
            "\rExtracting test embeddings (orig):  28%|\u2588\u2588\u258a       | 482/1712 [03:10<07:10,  2.86it/s]"
          ]
        },
        {
          "output_type": "stream",
          "name": "stderr",
          "text": [
            "\rExtracting test embeddings (orig):  28%|\u2588\u2588\u258a       | 483/1712 [03:10<08:52,  2.31it/s]"
          ]
        },
        {
          "output_type": "stream",
          "name": "stderr",
          "text": [
            "\rExtracting test embeddings (orig):  28%|\u2588\u2588\u258a       | 484/1712 [03:10<08:06,  2.53it/s]"
          ]
        },
        {
          "output_type": "stream",
          "name": "stderr",
          "text": [
            "\rExtracting test embeddings (orig):  28%|\u2588\u2588\u258a       | 485/1712 [03:11<07:34,  2.70it/s]"
          ]
        },
        {
          "output_type": "stream",
          "name": "stderr",
          "text": [
            "\rExtracting test embeddings (orig):  28%|\u2588\u2588\u258a       | 486/1712 [03:11<07:11,  2.84it/s]"
          ]
        },
        {
          "output_type": "stream",
          "name": "stderr",
          "text": [
            "\rExtracting test embeddings (orig):  28%|\u2588\u2588\u258a       | 487/1712 [03:12<08:58,  2.27it/s]"
          ]
        },
        {
          "output_type": "stream",
          "name": "stderr",
          "text": [
            "\rExtracting test embeddings (orig):  29%|\u2588\u2588\u258a       | 488/1712 [03:12<08:08,  2.51it/s]"
          ]
        },
        {
          "output_type": "stream",
          "name": "stderr",
          "text": [
            "\rExtracting test embeddings (orig):  29%|\u2588\u2588\u258a       | 489/1712 [03:12<07:38,  2.67it/s]"
          ]
        },
        {
          "output_type": "stream",
          "name": "stderr",
          "text": [
            "\rExtracting test embeddings (orig):  29%|\u2588\u2588\u258a       | 490/1712 [03:13<07:13,  2.82it/s]"
          ]
        },
        {
          "output_type": "stream",
          "name": "stderr",
          "text": [
            "\rExtracting test embeddings (orig):  29%|\u2588\u2588\u258a       | 491/1712 [03:13<08:44,  2.33it/s]"
          ]
        },
        {
          "output_type": "stream",
          "name": "stderr",
          "text": [
            "\rExtracting test embeddings (orig):  29%|\u2588\u2588\u258a       | 492/1712 [03:14<07:57,  2.55it/s]"
          ]
        },
        {
          "output_type": "stream",
          "name": "stderr",
          "text": [
            "\rExtracting test embeddings (orig):  29%|\u2588\u2588\u2589       | 493/1712 [03:14<07:28,  2.72it/s]"
          ]
        },
        {
          "output_type": "stream",
          "name": "stderr",
          "text": [
            "\rExtracting test embeddings (orig):  29%|\u2588\u2588\u2589       | 494/1712 [03:14<07:05,  2.86it/s]"
          ]
        },
        {
          "output_type": "stream",
          "name": "stderr",
          "text": [
            "\rExtracting test embeddings (orig):  29%|\u2588\u2588\u2589       | 495/1712 [03:15<08:44,  2.32it/s]"
          ]
        },
        {
          "output_type": "stream",
          "name": "stderr",
          "text": [
            "\rExtracting test embeddings (orig):  29%|\u2588\u2588\u2589       | 496/1712 [03:15<07:58,  2.54it/s]"
          ]
        },
        {
          "output_type": "stream",
          "name": "stderr",
          "text": [
            "\rExtracting test embeddings (orig):  29%|\u2588\u2588\u2589       | 497/1712 [03:15<07:31,  2.69it/s]"
          ]
        },
        {
          "output_type": "stream",
          "name": "stderr",
          "text": [
            "\rExtracting test embeddings (orig):  29%|\u2588\u2588\u2589       | 498/1712 [03:16<07:08,  2.84it/s]"
          ]
        },
        {
          "output_type": "stream",
          "name": "stderr",
          "text": [
            "\rExtracting test embeddings (orig):  29%|\u2588\u2588\u2589       | 499/1712 [03:16<08:45,  2.31it/s]"
          ]
        },
        {
          "output_type": "stream",
          "name": "stderr",
          "text": [
            "\rExtracting test embeddings (orig):  29%|\u2588\u2588\u2589       | 500/1712 [03:17<07:57,  2.54it/s]"
          ]
        },
        {
          "output_type": "stream",
          "name": "stderr",
          "text": [
            "\rExtracting test embeddings (orig):  29%|\u2588\u2588\u2589       | 501/1712 [03:17<07:28,  2.70it/s]"
          ]
        },
        {
          "output_type": "stream",
          "name": "stderr",
          "text": [
            "\rExtracting test embeddings (orig):  29%|\u2588\u2588\u2589       | 502/1712 [03:17<07:04,  2.85it/s]"
          ]
        },
        {
          "output_type": "stream",
          "name": "stderr",
          "text": [
            "\rExtracting test embeddings (orig):  29%|\u2588\u2588\u2589       | 503/1712 [03:18<08:35,  2.34it/s]"
          ]
        },
        {
          "output_type": "stream",
          "name": "stderr",
          "text": [
            "\rExtracting test embeddings (orig):  29%|\u2588\u2588\u2589       | 504/1712 [03:18<07:51,  2.56it/s]"
          ]
        },
        {
          "output_type": "stream",
          "name": "stderr",
          "text": [
            "\rExtracting test embeddings (orig):  29%|\u2588\u2588\u2589       | 505/1712 [03:18<07:25,  2.71it/s]"
          ]
        },
        {
          "output_type": "stream",
          "name": "stderr",
          "text": [
            "\rExtracting test embeddings (orig):  30%|\u2588\u2588\u2589       | 506/1712 [03:19<07:03,  2.85it/s]"
          ]
        },
        {
          "output_type": "stream",
          "name": "stderr",
          "text": [
            "\rExtracting test embeddings (orig):  30%|\u2588\u2588\u2589       | 507/1712 [03:19<08:36,  2.33it/s]"
          ]
        },
        {
          "output_type": "stream",
          "name": "stderr",
          "text": [
            "\rExtracting test embeddings (orig):  30%|\u2588\u2588\u2589       | 508/1712 [03:20<07:52,  2.55it/s]"
          ]
        },
        {
          "output_type": "stream",
          "name": "stderr",
          "text": [
            "\rExtracting test embeddings (orig):  30%|\u2588\u2588\u2589       | 509/1712 [03:20<07:23,  2.71it/s]"
          ]
        },
        {
          "output_type": "stream",
          "name": "stderr",
          "text": [
            "\rExtracting test embeddings (orig):  30%|\u2588\u2588\u2589       | 510/1712 [03:20<07:01,  2.85it/s]"
          ]
        },
        {
          "output_type": "stream",
          "name": "stderr",
          "text": [
            "\rExtracting test embeddings (orig):  30%|\u2588\u2588\u2589       | 511/1712 [03:21<08:29,  2.36it/s]"
          ]
        },
        {
          "output_type": "stream",
          "name": "stderr",
          "text": [
            "\rExtracting test embeddings (orig):  30%|\u2588\u2588\u2589       | 512/1712 [03:21<07:45,  2.58it/s]"
          ]
        },
        {
          "output_type": "stream",
          "name": "stderr",
          "text": [
            "\rExtracting test embeddings (orig):  30%|\u2588\u2588\u2589       | 513/1712 [03:22<07:17,  2.74it/s]"
          ]
        },
        {
          "output_type": "stream",
          "name": "stderr",
          "text": [
            "\rExtracting test embeddings (orig):  30%|\u2588\u2588\u2588       | 514/1712 [03:22<06:57,  2.87it/s]"
          ]
        },
        {
          "output_type": "stream",
          "name": "stderr",
          "text": [
            "\rExtracting test embeddings (orig):  30%|\u2588\u2588\u2588       | 515/1712 [03:22<08:30,  2.34it/s]"
          ]
        },
        {
          "output_type": "stream",
          "name": "stderr",
          "text": [
            "\rExtracting test embeddings (orig):  30%|\u2588\u2588\u2588       | 516/1712 [03:23<07:47,  2.56it/s]"
          ]
        },
        {
          "output_type": "stream",
          "name": "stderr",
          "text": [
            "\rExtracting test embeddings (orig):  30%|\u2588\u2588\u2588       | 517/1712 [03:23<07:19,  2.72it/s]"
          ]
        },
        {
          "output_type": "stream",
          "name": "stderr",
          "text": [
            "\rExtracting test embeddings (orig):  30%|\u2588\u2588\u2588       | 518/1712 [03:23<06:57,  2.86it/s]"
          ]
        },
        {
          "output_type": "stream",
          "name": "stderr",
          "text": [
            "\rExtracting test embeddings (orig):  30%|\u2588\u2588\u2588       | 519/1712 [03:24<08:33,  2.32it/s]"
          ]
        },
        {
          "output_type": "stream",
          "name": "stderr",
          "text": [
            "\rExtracting test embeddings (orig):  30%|\u2588\u2588\u2588       | 520/1712 [03:24<07:47,  2.55it/s]"
          ]
        },
        {
          "output_type": "stream",
          "name": "stderr",
          "text": [
            "\rExtracting test embeddings (orig):  30%|\u2588\u2588\u2588       | 521/1712 [03:25<07:20,  2.70it/s]"
          ]
        },
        {
          "output_type": "stream",
          "name": "stderr",
          "text": [
            "\rExtracting test embeddings (orig):  30%|\u2588\u2588\u2588       | 522/1712 [03:25<06:57,  2.85it/s]"
          ]
        },
        {
          "output_type": "stream",
          "name": "stderr",
          "text": [
            "\rExtracting test embeddings (orig):  31%|\u2588\u2588\u2588       | 523/1712 [03:26<08:30,  2.33it/s]"
          ]
        },
        {
          "output_type": "stream",
          "name": "stderr",
          "text": [
            "\rExtracting test embeddings (orig):  31%|\u2588\u2588\u2588       | 524/1712 [03:26<07:45,  2.55it/s]"
          ]
        },
        {
          "output_type": "stream",
          "name": "stderr",
          "text": [
            "\rExtracting test embeddings (orig):  31%|\u2588\u2588\u2588       | 525/1712 [03:26<07:17,  2.71it/s]"
          ]
        },
        {
          "output_type": "stream",
          "name": "stderr",
          "text": [
            "\rExtracting test embeddings (orig):  31%|\u2588\u2588\u2588       | 526/1712 [03:26<06:54,  2.86it/s]"
          ]
        },
        {
          "output_type": "stream",
          "name": "stderr",
          "text": [
            "\rExtracting test embeddings (orig):  31%|\u2588\u2588\u2588       | 527/1712 [03:27<08:29,  2.33it/s]"
          ]
        },
        {
          "output_type": "stream",
          "name": "stderr",
          "text": [
            "\rExtracting test embeddings (orig):  31%|\u2588\u2588\u2588       | 528/1712 [03:27<07:44,  2.55it/s]"
          ]
        },
        {
          "output_type": "stream",
          "name": "stderr",
          "text": [
            "\rExtracting test embeddings (orig):  31%|\u2588\u2588\u2588       | 529/1712 [03:28<07:16,  2.71it/s]"
          ]
        },
        {
          "output_type": "stream",
          "name": "stderr",
          "text": [
            "\rExtracting test embeddings (orig):  31%|\u2588\u2588\u2588       | 530/1712 [03:28<06:54,  2.86it/s]"
          ]
        },
        {
          "output_type": "stream",
          "name": "stderr",
          "text": [
            "\rExtracting test embeddings (orig):  31%|\u2588\u2588\u2588       | 531/1712 [03:29<08:25,  2.34it/s]"
          ]
        },
        {
          "output_type": "stream",
          "name": "stderr",
          "text": [
            "\rExtracting test embeddings (orig):  31%|\u2588\u2588\u2588       | 532/1712 [03:29<07:41,  2.56it/s]"
          ]
        },
        {
          "output_type": "stream",
          "name": "stderr",
          "text": [
            "\rExtracting test embeddings (orig):  31%|\u2588\u2588\u2588       | 533/1712 [03:29<07:13,  2.72it/s]"
          ]
        },
        {
          "output_type": "stream",
          "name": "stderr",
          "text": [
            "\rExtracting test embeddings (orig):  31%|\u2588\u2588\u2588       | 534/1712 [03:30<06:51,  2.86it/s]"
          ]
        },
        {
          "output_type": "stream",
          "name": "stderr",
          "text": [
            "\rExtracting test embeddings (orig):  31%|\u2588\u2588\u2588\u258f      | 535/1712 [03:30<08:32,  2.29it/s]"
          ]
        },
        {
          "output_type": "stream",
          "name": "stderr",
          "text": [
            "\rExtracting test embeddings (orig):  31%|\u2588\u2588\u2588\u258f      | 536/1712 [03:31<07:46,  2.52it/s]"
          ]
        },
        {
          "output_type": "stream",
          "name": "stderr",
          "text": [
            "\rExtracting test embeddings (orig):  31%|\u2588\u2588\u2588\u258f      | 537/1712 [03:31<07:17,  2.69it/s]"
          ]
        },
        {
          "output_type": "stream",
          "name": "stderr",
          "text": [
            "\rExtracting test embeddings (orig):  31%|\u2588\u2588\u2588\u258f      | 538/1712 [03:31<06:53,  2.84it/s]"
          ]
        },
        {
          "output_type": "stream",
          "name": "stderr",
          "text": [
            "\rExtracting test embeddings (orig):  31%|\u2588\u2588\u2588\u258f      | 539/1712 [03:32<08:38,  2.26it/s]"
          ]
        },
        {
          "output_type": "stream",
          "name": "stderr",
          "text": [
            "\rExtracting test embeddings (orig):  32%|\u2588\u2588\u2588\u258f      | 540/1712 [03:32<07:50,  2.49it/s]"
          ]
        },
        {
          "output_type": "stream",
          "name": "stderr",
          "text": [
            "\rExtracting test embeddings (orig):  32%|\u2588\u2588\u2588\u258f      | 541/1712 [03:32<07:19,  2.67it/s]"
          ]
        },
        {
          "output_type": "stream",
          "name": "stderr",
          "text": [
            "\rExtracting test embeddings (orig):  32%|\u2588\u2588\u2588\u258f      | 542/1712 [03:33<06:54,  2.82it/s]"
          ]
        },
        {
          "output_type": "stream",
          "name": "stderr",
          "text": [
            "\rExtracting test embeddings (orig):  32%|\u2588\u2588\u2588\u258f      | 543/1712 [03:33<07:20,  2.65it/s]"
          ]
        },
        {
          "output_type": "stream",
          "name": "stderr",
          "text": [
            "\rExtracting test embeddings (orig):  32%|\u2588\u2588\u2588\u258f      | 544/1712 [03:33<06:55,  2.81it/s]"
          ]
        },
        {
          "output_type": "stream",
          "name": "stderr",
          "text": [
            "\rExtracting test embeddings (orig):  32%|\u2588\u2588\u2588\u258f      | 545/1712 [03:34<06:40,  2.92it/s]"
          ]
        },
        {
          "output_type": "stream",
          "name": "stderr",
          "text": [
            "\rExtracting test embeddings (orig):  32%|\u2588\u2588\u2588\u258f      | 546/1712 [03:34<06:27,  3.01it/s]"
          ]
        },
        {
          "output_type": "stream",
          "name": "stderr",
          "text": [
            "\rExtracting test embeddings (orig):  32%|\u2588\u2588\u2588\u258f      | 547/1712 [03:35<08:00,  2.42it/s]"
          ]
        },
        {
          "output_type": "stream",
          "name": "stderr",
          "text": [
            "\rExtracting test embeddings (orig):  32%|\u2588\u2588\u2588\u258f      | 548/1712 [03:35<07:23,  2.63it/s]"
          ]
        },
        {
          "output_type": "stream",
          "name": "stderr",
          "text": [
            "\rExtracting test embeddings (orig):  32%|\u2588\u2588\u2588\u258f      | 549/1712 [03:35<07:01,  2.76it/s]"
          ]
        },
        {
          "output_type": "stream",
          "name": "stderr",
          "text": [
            "\rExtracting test embeddings (orig):  32%|\u2588\u2588\u2588\u258f      | 550/1712 [03:36<06:41,  2.89it/s]"
          ]
        },
        {
          "output_type": "stream",
          "name": "stderr",
          "text": [
            "\rExtracting test embeddings (orig):  32%|\u2588\u2588\u2588\u258f      | 551/1712 [03:36<07:58,  2.43it/s]"
          ]
        },
        {
          "output_type": "stream",
          "name": "stderr",
          "text": [
            "\rExtracting test embeddings (orig):  32%|\u2588\u2588\u2588\u258f      | 552/1712 [03:36<07:21,  2.63it/s]"
          ]
        },
        {
          "output_type": "stream",
          "name": "stderr",
          "text": [
            "\rExtracting test embeddings (orig):  32%|\u2588\u2588\u2588\u258f      | 553/1712 [03:37<06:58,  2.77it/s]"
          ]
        },
        {
          "output_type": "stream",
          "name": "stderr",
          "text": [
            "\rExtracting test embeddings (orig):  32%|\u2588\u2588\u2588\u258f      | 554/1712 [03:37<06:39,  2.90it/s]"
          ]
        },
        {
          "output_type": "stream",
          "name": "stderr",
          "text": [
            "\rExtracting test embeddings (orig):  32%|\u2588\u2588\u2588\u258f      | 555/1712 [03:38<08:03,  2.39it/s]"
          ]
        },
        {
          "output_type": "stream",
          "name": "stderr",
          "text": [
            "\rExtracting test embeddings (orig):  32%|\u2588\u2588\u2588\u258f      | 556/1712 [03:38<07:23,  2.61it/s]"
          ]
        },
        {
          "output_type": "stream",
          "name": "stderr",
          "text": [
            "\rExtracting test embeddings (orig):  33%|\u2588\u2588\u2588\u258e      | 557/1712 [03:38<06:59,  2.76it/s]"
          ]
        },
        {
          "output_type": "stream",
          "name": "stderr",
          "text": [
            "\rExtracting test embeddings (orig):  33%|\u2588\u2588\u2588\u258e      | 558/1712 [03:39<06:39,  2.89it/s]"
          ]
        },
        {
          "output_type": "stream",
          "name": "stderr",
          "text": [
            "\rExtracting test embeddings (orig):  33%|\u2588\u2588\u2588\u258e      | 559/1712 [03:39<08:05,  2.37it/s]"
          ]
        },
        {
          "output_type": "stream",
          "name": "stderr",
          "text": [
            "\rExtracting test embeddings (orig):  33%|\u2588\u2588\u2588\u258e      | 560/1712 [03:40<07:25,  2.59it/s]"
          ]
        },
        {
          "output_type": "stream",
          "name": "stderr",
          "text": [
            "\rExtracting test embeddings (orig):  33%|\u2588\u2588\u2588\u258e      | 561/1712 [03:40<07:00,  2.74it/s]"
          ]
        },
        {
          "output_type": "stream",
          "name": "stderr",
          "text": [
            "\rExtracting test embeddings (orig):  33%|\u2588\u2588\u2588\u258e      | 562/1712 [03:40<06:39,  2.88it/s]"
          ]
        },
        {
          "output_type": "stream",
          "name": "stderr",
          "text": [
            "\rExtracting test embeddings (orig):  33%|\u2588\u2588\u2588\u258e      | 563/1712 [03:41<08:17,  2.31it/s]"
          ]
        },
        {
          "output_type": "stream",
          "name": "stderr",
          "text": [
            "\rExtracting test embeddings (orig):  33%|\u2588\u2588\u2588\u258e      | 564/1712 [03:41<07:33,  2.53it/s]"
          ]
        },
        {
          "output_type": "stream",
          "name": "stderr",
          "text": [
            "\rExtracting test embeddings (orig):  33%|\u2588\u2588\u2588\u258e      | 565/1712 [03:41<07:07,  2.69it/s]"
          ]
        },
        {
          "output_type": "stream",
          "name": "stderr",
          "text": [
            "\rExtracting test embeddings (orig):  33%|\u2588\u2588\u2588\u258e      | 566/1712 [03:42<06:45,  2.83it/s]"
          ]
        },
        {
          "output_type": "stream",
          "name": "stderr",
          "text": [
            "\rExtracting test embeddings (orig):  33%|\u2588\u2588\u2588\u258e      | 567/1712 [03:42<08:12,  2.32it/s]"
          ]
        },
        {
          "output_type": "stream",
          "name": "stderr",
          "text": [
            "\rExtracting test embeddings (orig):  33%|\u2588\u2588\u2588\u258e      | 568/1712 [03:43<07:29,  2.55it/s]"
          ]
        },
        {
          "output_type": "stream",
          "name": "stderr",
          "text": [
            "\rExtracting test embeddings (orig):  33%|\u2588\u2588\u2588\u258e      | 569/1712 [03:43<07:04,  2.70it/s]"
          ]
        },
        {
          "output_type": "stream",
          "name": "stderr",
          "text": [
            "\rExtracting test embeddings (orig):  33%|\u2588\u2588\u2588\u258e      | 570/1712 [03:43<06:42,  2.84it/s]"
          ]
        },
        {
          "output_type": "stream",
          "name": "stderr",
          "text": [
            "\rExtracting test embeddings (orig):  33%|\u2588\u2588\u2588\u258e      | 571/1712 [03:44<08:26,  2.25it/s]"
          ]
        },
        {
          "output_type": "stream",
          "name": "stderr",
          "text": [
            "\rExtracting test embeddings (orig):  33%|\u2588\u2588\u2588\u258e      | 572/1712 [03:44<07:38,  2.48it/s]"
          ]
        },
        {
          "output_type": "stream",
          "name": "stderr",
          "text": [
            "\rExtracting test embeddings (orig):  33%|\u2588\u2588\u2588\u258e      | 573/1712 [03:45<07:08,  2.66it/s]"
          ]
        },
        {
          "output_type": "stream",
          "name": "stderr",
          "text": [
            "\rExtracting test embeddings (orig):  34%|\u2588\u2588\u2588\u258e      | 574/1712 [03:45<06:43,  2.82it/s]"
          ]
        },
        {
          "output_type": "stream",
          "name": "stderr",
          "text": [
            "\rExtracting test embeddings (orig):  34%|\u2588\u2588\u2588\u258e      | 575/1712 [03:45<08:05,  2.34it/s]"
          ]
        },
        {
          "output_type": "stream",
          "name": "stderr",
          "text": [
            "\rExtracting test embeddings (orig):  34%|\u2588\u2588\u2588\u258e      | 576/1712 [03:46<07:23,  2.56it/s]"
          ]
        },
        {
          "output_type": "stream",
          "name": "stderr",
          "text": [
            "\rExtracting test embeddings (orig):  34%|\u2588\u2588\u2588\u258e      | 577/1712 [03:46<06:57,  2.72it/s]"
          ]
        },
        {
          "output_type": "stream",
          "name": "stderr",
          "text": [
            "\rExtracting test embeddings (orig):  34%|\u2588\u2588\u2588\u258d      | 578/1712 [03:46<06:35,  2.86it/s]"
          ]
        },
        {
          "output_type": "stream",
          "name": "stderr",
          "text": [
            "\rExtracting test embeddings (orig):  34%|\u2588\u2588\u2588\u258d      | 579/1712 [03:47<09:00,  2.10it/s]"
          ]
        },
        {
          "output_type": "stream",
          "name": "stderr",
          "text": [
            "\rExtracting test embeddings (orig):  34%|\u2588\u2588\u2588\u258d      | 580/1712 [03:47<08:01,  2.35it/s]"
          ]
        },
        {
          "output_type": "stream",
          "name": "stderr",
          "text": [
            "\rExtracting test embeddings (orig):  34%|\u2588\u2588\u2588\u258d      | 581/1712 [03:48<07:23,  2.55it/s]"
          ]
        },
        {
          "output_type": "stream",
          "name": "stderr",
          "text": [
            "\rExtracting test embeddings (orig):  34%|\u2588\u2588\u2588\u258d      | 582/1712 [03:48<06:54,  2.73it/s]"
          ]
        },
        {
          "output_type": "stream",
          "name": "stderr",
          "text": [
            "\rExtracting test embeddings (orig):  34%|\u2588\u2588\u2588\u258d      | 583/1712 [03:49<08:16,  2.27it/s]"
          ]
        },
        {
          "output_type": "stream",
          "name": "stderr",
          "text": [
            "\rExtracting test embeddings (orig):  34%|\u2588\u2588\u2588\u258d      | 584/1712 [03:49<07:29,  2.51it/s]"
          ]
        },
        {
          "output_type": "stream",
          "name": "stderr",
          "text": [
            "\rExtracting test embeddings (orig):  34%|\u2588\u2588\u2588\u258d      | 585/1712 [03:49<07:00,  2.68it/s]"
          ]
        },
        {
          "output_type": "stream",
          "name": "stderr",
          "text": [
            "\rExtracting test embeddings (orig):  34%|\u2588\u2588\u2588\u258d      | 586/1712 [03:50<06:37,  2.83it/s]"
          ]
        },
        {
          "output_type": "stream",
          "name": "stderr",
          "text": [
            "\rExtracting test embeddings (orig):  34%|\u2588\u2588\u2588\u258d      | 587/1712 [03:50<07:59,  2.35it/s]"
          ]
        },
        {
          "output_type": "stream",
          "name": "stderr",
          "text": [
            "\rExtracting test embeddings (orig):  34%|\u2588\u2588\u2588\u258d      | 588/1712 [03:50<07:17,  2.57it/s]"
          ]
        },
        {
          "output_type": "stream",
          "name": "stderr",
          "text": [
            "\rExtracting test embeddings (orig):  34%|\u2588\u2588\u2588\u258d      | 589/1712 [03:51<06:50,  2.74it/s]"
          ]
        },
        {
          "output_type": "stream",
          "name": "stderr",
          "text": [
            "\rExtracting test embeddings (orig):  34%|\u2588\u2588\u2588\u258d      | 590/1712 [03:51<06:30,  2.87it/s]"
          ]
        },
        {
          "output_type": "stream",
          "name": "stderr",
          "text": [
            "\rExtracting test embeddings (orig):  35%|\u2588\u2588\u2588\u258d      | 591/1712 [03:52<07:53,  2.37it/s]"
          ]
        },
        {
          "output_type": "stream",
          "name": "stderr",
          "text": [
            "\rExtracting test embeddings (orig):  35%|\u2588\u2588\u2588\u258d      | 592/1712 [03:52<07:13,  2.58it/s]"
          ]
        },
        {
          "output_type": "stream",
          "name": "stderr",
          "text": [
            "\rExtracting test embeddings (orig):  35%|\u2588\u2588\u2588\u258d      | 593/1712 [03:52<06:48,  2.74it/s]"
          ]
        },
        {
          "output_type": "stream",
          "name": "stderr",
          "text": [
            "\rExtracting test embeddings (orig):  35%|\u2588\u2588\u2588\u258d      | 594/1712 [03:53<06:28,  2.87it/s]"
          ]
        },
        {
          "output_type": "stream",
          "name": "stderr",
          "text": [
            "\rExtracting test embeddings (orig):  35%|\u2588\u2588\u2588\u258d      | 595/1712 [03:53<07:54,  2.36it/s]"
          ]
        },
        {
          "output_type": "stream",
          "name": "stderr",
          "text": [
            "\rExtracting test embeddings (orig):  35%|\u2588\u2588\u2588\u258d      | 596/1712 [03:54<07:13,  2.57it/s]"
          ]
        },
        {
          "output_type": "stream",
          "name": "stderr",
          "text": [
            "\rExtracting test embeddings (orig):  35%|\u2588\u2588\u2588\u258d      | 597/1712 [03:54<06:49,  2.72it/s]"
          ]
        },
        {
          "output_type": "stream",
          "name": "stderr",
          "text": [
            "\rExtracting test embeddings (orig):  35%|\u2588\u2588\u2588\u258d      | 598/1712 [03:54<06:30,  2.86it/s]"
          ]
        },
        {
          "output_type": "stream",
          "name": "stderr",
          "text": [
            "\rExtracting test embeddings (orig):  35%|\u2588\u2588\u2588\u258d      | 599/1712 [03:55<07:27,  2.49it/s]"
          ]
        },
        {
          "output_type": "stream",
          "name": "stderr",
          "text": [
            "\rExtracting test embeddings (orig):  35%|\u2588\u2588\u2588\u258c      | 600/1712 [03:55<06:54,  2.68it/s]"
          ]
        },
        {
          "output_type": "stream",
          "name": "stderr",
          "text": [
            "\rExtracting test embeddings (orig):  35%|\u2588\u2588\u2588\u258c      | 601/1712 [03:55<06:34,  2.82it/s]"
          ]
        },
        {
          "output_type": "stream",
          "name": "stderr",
          "text": [
            "\rExtracting test embeddings (orig):  35%|\u2588\u2588\u2588\u258c      | 602/1712 [03:56<06:17,  2.94it/s]"
          ]
        },
        {
          "output_type": "stream",
          "name": "stderr",
          "text": [
            "\rExtracting test embeddings (orig):  35%|\u2588\u2588\u2588\u258c      | 603/1712 [03:56<07:46,  2.38it/s]"
          ]
        },
        {
          "output_type": "stream",
          "name": "stderr",
          "text": [
            "\rExtracting test embeddings (orig):  35%|\u2588\u2588\u2588\u258c      | 604/1712 [03:57<07:07,  2.59it/s]"
          ]
        },
        {
          "output_type": "stream",
          "name": "stderr",
          "text": [
            "\rExtracting test embeddings (orig):  35%|\u2588\u2588\u2588\u258c      | 605/1712 [03:57<06:42,  2.75it/s]"
          ]
        },
        {
          "output_type": "stream",
          "name": "stderr",
          "text": [
            "\rExtracting test embeddings (orig):  35%|\u2588\u2588\u2588\u258c      | 606/1712 [03:57<06:23,  2.88it/s]"
          ]
        },
        {
          "output_type": "stream",
          "name": "stderr",
          "text": [
            "\rExtracting test embeddings (orig):  35%|\u2588\u2588\u2588\u258c      | 607/1712 [03:58<07:40,  2.40it/s]"
          ]
        },
        {
          "output_type": "stream",
          "name": "stderr",
          "text": [
            "\rExtracting test embeddings (orig):  36%|\u2588\u2588\u2588\u258c      | 608/1712 [03:58<07:02,  2.61it/s]"
          ]
        },
        {
          "output_type": "stream",
          "name": "stderr",
          "text": [
            "\rExtracting test embeddings (orig):  36%|\u2588\u2588\u2588\u258c      | 609/1712 [03:58<06:40,  2.75it/s]"
          ]
        },
        {
          "output_type": "stream",
          "name": "stderr",
          "text": [
            "\rExtracting test embeddings (orig):  36%|\u2588\u2588\u2588\u258c      | 610/1712 [03:59<06:20,  2.89it/s]"
          ]
        },
        {
          "output_type": "stream",
          "name": "stderr",
          "text": [
            "\rExtracting test embeddings (orig):  36%|\u2588\u2588\u2588\u258c      | 611/1712 [03:59<07:42,  2.38it/s]"
          ]
        },
        {
          "output_type": "stream",
          "name": "stderr",
          "text": [
            "\rExtracting test embeddings (orig):  36%|\u2588\u2588\u2588\u258c      | 612/1712 [04:00<07:03,  2.60it/s]"
          ]
        },
        {
          "output_type": "stream",
          "name": "stderr",
          "text": [
            "\rExtracting test embeddings (orig):  36%|\u2588\u2588\u2588\u258c      | 613/1712 [04:00<06:39,  2.75it/s]"
          ]
        },
        {
          "output_type": "stream",
          "name": "stderr",
          "text": [
            "\rExtracting test embeddings (orig):  36%|\u2588\u2588\u2588\u258c      | 614/1712 [04:00<06:19,  2.89it/s]"
          ]
        },
        {
          "output_type": "stream",
          "name": "stderr",
          "text": [
            "\rExtracting test embeddings (orig):  36%|\u2588\u2588\u2588\u258c      | 615/1712 [04:01<07:38,  2.39it/s]"
          ]
        },
        {
          "output_type": "stream",
          "name": "stderr",
          "text": [
            "\rExtracting test embeddings (orig):  36%|\u2588\u2588\u2588\u258c      | 616/1712 [04:01<07:01,  2.60it/s]"
          ]
        },
        {
          "output_type": "stream",
          "name": "stderr",
          "text": [
            "\rExtracting test embeddings (orig):  36%|\u2588\u2588\u2588\u258c      | 617/1712 [04:01<06:38,  2.75it/s]"
          ]
        },
        {
          "output_type": "stream",
          "name": "stderr",
          "text": [
            "\rExtracting test embeddings (orig):  36%|\u2588\u2588\u2588\u258c      | 618/1712 [04:02<06:19,  2.88it/s]"
          ]
        },
        {
          "output_type": "stream",
          "name": "stderr",
          "text": [
            "\rExtracting test embeddings (orig):  36%|\u2588\u2588\u2588\u258c      | 619/1712 [04:02<07:38,  2.38it/s]"
          ]
        },
        {
          "output_type": "stream",
          "name": "stderr",
          "text": [
            "\rExtracting test embeddings (orig):  36%|\u2588\u2588\u2588\u258c      | 620/1712 [04:03<07:00,  2.60it/s]"
          ]
        },
        {
          "output_type": "stream",
          "name": "stderr",
          "text": [
            "\rExtracting test embeddings (orig):  36%|\u2588\u2588\u2588\u258b      | 621/1712 [04:03<06:37,  2.74it/s]"
          ]
        },
        {
          "output_type": "stream",
          "name": "stderr",
          "text": [
            "\rExtracting test embeddings (orig):  36%|\u2588\u2588\u2588\u258b      | 622/1712 [04:03<06:19,  2.88it/s]"
          ]
        },
        {
          "output_type": "stream",
          "name": "stderr",
          "text": [
            "\rExtracting test embeddings (orig):  36%|\u2588\u2588\u2588\u258b      | 623/1712 [04:04<07:35,  2.39it/s]"
          ]
        },
        {
          "output_type": "stream",
          "name": "stderr",
          "text": [
            "\rExtracting test embeddings (orig):  36%|\u2588\u2588\u2588\u258b      | 624/1712 [04:04<06:57,  2.61it/s]"
          ]
        },
        {
          "output_type": "stream",
          "name": "stderr",
          "text": [
            "\rExtracting test embeddings (orig):  37%|\u2588\u2588\u2588\u258b      | 625/1712 [04:04<06:34,  2.76it/s]"
          ]
        },
        {
          "output_type": "stream",
          "name": "stderr",
          "text": [
            "\rExtracting test embeddings (orig):  37%|\u2588\u2588\u2588\u258b      | 626/1712 [04:05<06:15,  2.90it/s]"
          ]
        },
        {
          "output_type": "stream",
          "name": "stderr",
          "text": [
            "\rExtracting test embeddings (orig):  37%|\u2588\u2588\u2588\u258b      | 627/1712 [04:05<08:00,  2.26it/s]"
          ]
        },
        {
          "output_type": "stream",
          "name": "stderr",
          "text": [
            "\rExtracting test embeddings (orig):  37%|\u2588\u2588\u2588\u258b      | 628/1712 [04:06<07:16,  2.49it/s]"
          ]
        },
        {
          "output_type": "stream",
          "name": "stderr",
          "text": [
            "\rExtracting test embeddings (orig):  37%|\u2588\u2588\u2588\u258b      | 629/1712 [04:06<06:46,  2.66it/s]"
          ]
        },
        {
          "output_type": "stream",
          "name": "stderr",
          "text": [
            "\rExtracting test embeddings (orig):  37%|\u2588\u2588\u2588\u258b      | 630/1712 [04:06<06:24,  2.82it/s]"
          ]
        },
        {
          "output_type": "stream",
          "name": "stderr",
          "text": [
            "\rExtracting test embeddings (orig):  37%|\u2588\u2588\u2588\u258b      | 631/1712 [04:07<07:49,  2.30it/s]"
          ]
        },
        {
          "output_type": "stream",
          "name": "stderr",
          "text": [
            "\rExtracting test embeddings (orig):  37%|\u2588\u2588\u2588\u258b      | 632/1712 [04:07<07:07,  2.53it/s]"
          ]
        },
        {
          "output_type": "stream",
          "name": "stderr",
          "text": [
            "\rExtracting test embeddings (orig):  37%|\u2588\u2588\u2588\u258b      | 633/1712 [04:08<06:41,  2.69it/s]"
          ]
        },
        {
          "output_type": "stream",
          "name": "stderr",
          "text": [
            "\rExtracting test embeddings (orig):  37%|\u2588\u2588\u2588\u258b      | 634/1712 [04:08<06:19,  2.84it/s]"
          ]
        },
        {
          "output_type": "stream",
          "name": "stderr",
          "text": [
            "\rExtracting test embeddings (orig):  37%|\u2588\u2588\u2588\u258b      | 635/1712 [04:08<07:49,  2.30it/s]"
          ]
        },
        {
          "output_type": "stream",
          "name": "stderr",
          "text": [
            "\rExtracting test embeddings (orig):  37%|\u2588\u2588\u2588\u258b      | 636/1712 [04:09<07:06,  2.52it/s]"
          ]
        },
        {
          "output_type": "stream",
          "name": "stderr",
          "text": [
            "\rExtracting test embeddings (orig):  37%|\u2588\u2588\u2588\u258b      | 637/1712 [04:09<06:40,  2.69it/s]"
          ]
        },
        {
          "output_type": "stream",
          "name": "stderr",
          "text": [
            "\rExtracting test embeddings (orig):  37%|\u2588\u2588\u2588\u258b      | 638/1712 [04:09<06:18,  2.84it/s]"
          ]
        },
        {
          "output_type": "stream",
          "name": "stderr",
          "text": [
            "\rExtracting test embeddings (orig):  37%|\u2588\u2588\u2588\u258b      | 639/1712 [04:10<06:46,  2.64it/s]"
          ]
        },
        {
          "output_type": "stream",
          "name": "stderr",
          "text": [
            "\rExtracting test embeddings (orig):  37%|\u2588\u2588\u2588\u258b      | 640/1712 [04:10<06:22,  2.80it/s]"
          ]
        },
        {
          "output_type": "stream",
          "name": "stderr",
          "text": [
            "\rExtracting test embeddings (orig):  37%|\u2588\u2588\u2588\u258b      | 641/1712 [04:10<06:11,  2.88it/s]"
          ]
        },
        {
          "output_type": "stream",
          "name": "stderr",
          "text": [
            "\rExtracting test embeddings (orig):  38%|\u2588\u2588\u2588\u258a      | 642/1712 [04:11<05:57,  2.99it/s]"
          ]
        },
        {
          "output_type": "stream",
          "name": "stderr",
          "text": [
            "\rExtracting test embeddings (orig):  38%|\u2588\u2588\u2588\u258a      | 643/1712 [04:11<07:19,  2.43it/s]"
          ]
        },
        {
          "output_type": "stream",
          "name": "stderr",
          "text": [
            "\rExtracting test embeddings (orig):  38%|\u2588\u2588\u2588\u258a      | 644/1712 [04:12<06:46,  2.63it/s]"
          ]
        },
        {
          "output_type": "stream",
          "name": "stderr",
          "text": [
            "\rExtracting test embeddings (orig):  38%|\u2588\u2588\u2588\u258a      | 645/1712 [04:12<06:24,  2.78it/s]"
          ]
        },
        {
          "output_type": "stream",
          "name": "stderr",
          "text": [
            "\rExtracting test embeddings (orig):  38%|\u2588\u2588\u2588\u258a      | 646/1712 [04:12<06:06,  2.91it/s]"
          ]
        },
        {
          "output_type": "stream",
          "name": "stderr",
          "text": [
            "\rExtracting test embeddings (orig):  38%|\u2588\u2588\u2588\u258a      | 647/1712 [04:13<07:28,  2.37it/s]"
          ]
        },
        {
          "output_type": "stream",
          "name": "stderr",
          "text": [
            "\rExtracting test embeddings (orig):  38%|\u2588\u2588\u2588\u258a      | 648/1712 [04:13<06:50,  2.59it/s]"
          ]
        },
        {
          "output_type": "stream",
          "name": "stderr",
          "text": [
            "\rExtracting test embeddings (orig):  38%|\u2588\u2588\u2588\u258a      | 649/1712 [04:14<06:29,  2.73it/s]"
          ]
        },
        {
          "output_type": "stream",
          "name": "stderr",
          "text": [
            "\rExtracting test embeddings (orig):  38%|\u2588\u2588\u2588\u258a      | 650/1712 [04:14<06:11,  2.86it/s]"
          ]
        },
        {
          "output_type": "stream",
          "name": "stderr",
          "text": [
            "\rExtracting test embeddings (orig):  38%|\u2588\u2588\u2588\u258a      | 651/1712 [04:14<07:28,  2.36it/s]"
          ]
        },
        {
          "output_type": "stream",
          "name": "stderr",
          "text": [
            "\rExtracting test embeddings (orig):  38%|\u2588\u2588\u2588\u258a      | 652/1712 [04:15<06:51,  2.58it/s]"
          ]
        },
        {
          "output_type": "stream",
          "name": "stderr",
          "text": [
            "\rExtracting test embeddings (orig):  38%|\u2588\u2588\u2588\u258a      | 653/1712 [04:15<06:27,  2.73it/s]"
          ]
        },
        {
          "output_type": "stream",
          "name": "stderr",
          "text": [
            "\rExtracting test embeddings (orig):  38%|\u2588\u2588\u2588\u258a      | 654/1712 [04:15<06:08,  2.87it/s]"
          ]
        },
        {
          "output_type": "stream",
          "name": "stderr",
          "text": [
            "\rExtracting test embeddings (orig):  38%|\u2588\u2588\u2588\u258a      | 655/1712 [04:16<07:35,  2.32it/s]"
          ]
        },
        {
          "output_type": "stream",
          "name": "stderr",
          "text": [
            "\rExtracting test embeddings (orig):  38%|\u2588\u2588\u2588\u258a      | 656/1712 [04:16<06:55,  2.54it/s]"
          ]
        },
        {
          "output_type": "stream",
          "name": "stderr",
          "text": [
            "\rExtracting test embeddings (orig):  38%|\u2588\u2588\u2588\u258a      | 657/1712 [04:17<06:31,  2.70it/s]"
          ]
        },
        {
          "output_type": "stream",
          "name": "stderr",
          "text": [
            "\rExtracting test embeddings (orig):  38%|\u2588\u2588\u2588\u258a      | 658/1712 [04:17<06:11,  2.84it/s]"
          ]
        },
        {
          "output_type": "stream",
          "name": "stderr",
          "text": [
            "\rExtracting test embeddings (orig):  38%|\u2588\u2588\u2588\u258a      | 659/1712 [04:17<07:16,  2.41it/s]"
          ]
        },
        {
          "output_type": "stream",
          "name": "stderr",
          "text": [
            "\rExtracting test embeddings (orig):  39%|\u2588\u2588\u2588\u258a      | 660/1712 [04:18<06:41,  2.62it/s]"
          ]
        },
        {
          "output_type": "stream",
          "name": "stderr",
          "text": [
            "\rExtracting test embeddings (orig):  39%|\u2588\u2588\u2588\u258a      | 661/1712 [04:18<06:19,  2.77it/s]"
          ]
        },
        {
          "output_type": "stream",
          "name": "stderr",
          "text": [
            "\rExtracting test embeddings (orig):  39%|\u2588\u2588\u2588\u258a      | 662/1712 [04:18<06:01,  2.90it/s]"
          ]
        },
        {
          "output_type": "stream",
          "name": "stderr",
          "text": [
            "\rExtracting test embeddings (orig):  39%|\u2588\u2588\u2588\u258a      | 663/1712 [04:19<08:01,  2.18it/s]"
          ]
        },
        {
          "output_type": "stream",
          "name": "stderr",
          "text": [
            "\rExtracting test embeddings (orig):  39%|\u2588\u2588\u2588\u2589      | 664/1712 [04:19<07:13,  2.42it/s]"
          ]
        },
        {
          "output_type": "stream",
          "name": "stderr",
          "text": [
            "\rExtracting test embeddings (orig):  39%|\u2588\u2588\u2588\u2589      | 665/1712 [04:20<06:42,  2.60it/s]"
          ]
        },
        {
          "output_type": "stream",
          "name": "stderr",
          "text": [
            "\rExtracting test embeddings (orig):  39%|\u2588\u2588\u2588\u2589      | 666/1712 [04:20<06:17,  2.77it/s]"
          ]
        },
        {
          "output_type": "stream",
          "name": "stderr",
          "text": [
            "\rExtracting test embeddings (orig):  39%|\u2588\u2588\u2588\u2589      | 667/1712 [04:21<07:26,  2.34it/s]"
          ]
        },
        {
          "output_type": "stream",
          "name": "stderr",
          "text": [
            "\rExtracting test embeddings (orig):  39%|\u2588\u2588\u2588\u2589      | 668/1712 [04:21<06:46,  2.57it/s]"
          ]
        },
        {
          "output_type": "stream",
          "name": "stderr",
          "text": [
            "\rExtracting test embeddings (orig):  39%|\u2588\u2588\u2588\u2589      | 669/1712 [04:21<06:23,  2.72it/s]"
          ]
        },
        {
          "output_type": "stream",
          "name": "stderr",
          "text": [
            "\rExtracting test embeddings (orig):  39%|\u2588\u2588\u2588\u2589      | 670/1712 [04:22<06:03,  2.87it/s]"
          ]
        },
        {
          "output_type": "stream",
          "name": "stderr",
          "text": [
            "\rExtracting test embeddings (orig):  39%|\u2588\u2588\u2588\u2589      | 671/1712 [04:22<07:44,  2.24it/s]"
          ]
        },
        {
          "output_type": "stream",
          "name": "stderr",
          "text": [
            "\rExtracting test embeddings (orig):  39%|\u2588\u2588\u2588\u2589      | 672/1712 [04:23<06:59,  2.48it/s]"
          ]
        },
        {
          "output_type": "stream",
          "name": "stderr",
          "text": [
            "\rExtracting test embeddings (orig):  39%|\u2588\u2588\u2588\u2589      | 673/1712 [04:23<06:31,  2.65it/s]"
          ]
        },
        {
          "output_type": "stream",
          "name": "stderr",
          "text": [
            "\rExtracting test embeddings (orig):  39%|\u2588\u2588\u2588\u2589      | 674/1712 [04:23<06:08,  2.82it/s]"
          ]
        },
        {
          "output_type": "stream",
          "name": "stderr",
          "text": [
            "\rExtracting test embeddings (orig):  39%|\u2588\u2588\u2588\u2589      | 675/1712 [04:24<07:22,  2.34it/s]"
          ]
        },
        {
          "output_type": "stream",
          "name": "stderr",
          "text": [
            "\rExtracting test embeddings (orig):  39%|\u2588\u2588\u2588\u2589      | 676/1712 [04:24<06:44,  2.56it/s]"
          ]
        },
        {
          "output_type": "stream",
          "name": "stderr",
          "text": [
            "\rExtracting test embeddings (orig):  40%|\u2588\u2588\u2588\u2589      | 677/1712 [04:24<06:20,  2.72it/s]"
          ]
        },
        {
          "output_type": "stream",
          "name": "stderr",
          "text": [
            "\rExtracting test embeddings (orig):  40%|\u2588\u2588\u2588\u2589      | 678/1712 [04:25<06:00,  2.87it/s]"
          ]
        },
        {
          "output_type": "stream",
          "name": "stderr",
          "text": [
            "\rExtracting test embeddings (orig):  40%|\u2588\u2588\u2588\u2589      | 679/1712 [04:25<07:22,  2.34it/s]"
          ]
        },
        {
          "output_type": "stream",
          "name": "stderr",
          "text": [
            "\rExtracting test embeddings (orig):  40%|\u2588\u2588\u2588\u2589      | 680/1712 [04:26<06:44,  2.55it/s]"
          ]
        },
        {
          "output_type": "stream",
          "name": "stderr",
          "text": [
            "\rExtracting test embeddings (orig):  40%|\u2588\u2588\u2588\u2589      | 681/1712 [04:26<06:19,  2.72it/s]"
          ]
        },
        {
          "output_type": "stream",
          "name": "stderr",
          "text": [
            "\rExtracting test embeddings (orig):  40%|\u2588\u2588\u2588\u2589      | 682/1712 [04:26<06:00,  2.86it/s]"
          ]
        },
        {
          "output_type": "stream",
          "name": "stderr",
          "text": [
            "\rExtracting test embeddings (orig):  40%|\u2588\u2588\u2588\u2589      | 683/1712 [04:27<06:55,  2.48it/s]"
          ]
        },
        {
          "output_type": "stream",
          "name": "stderr",
          "text": [
            "\rExtracting test embeddings (orig):  40%|\u2588\u2588\u2588\u2589      | 684/1712 [04:27<06:25,  2.66it/s]"
          ]
        },
        {
          "output_type": "stream",
          "name": "stderr",
          "text": [
            "\rExtracting test embeddings (orig):  40%|\u2588\u2588\u2588\u2588      | 685/1712 [04:27<06:05,  2.81it/s]"
          ]
        },
        {
          "output_type": "stream",
          "name": "stderr",
          "text": [
            "\rExtracting test embeddings (orig):  40%|\u2588\u2588\u2588\u2588      | 686/1712 [04:28<05:50,  2.93it/s]"
          ]
        },
        {
          "output_type": "stream",
          "name": "stderr",
          "text": [
            "\rExtracting test embeddings (orig):  40%|\u2588\u2588\u2588\u2588      | 687/1712 [04:28<07:04,  2.41it/s]"
          ]
        },
        {
          "output_type": "stream",
          "name": "stderr",
          "text": [
            "\rExtracting test embeddings (orig):  40%|\u2588\u2588\u2588\u2588      | 688/1712 [04:29<06:30,  2.62it/s]"
          ]
        },
        {
          "output_type": "stream",
          "name": "stderr",
          "text": [
            "\rExtracting test embeddings (orig):  40%|\u2588\u2588\u2588\u2588      | 689/1712 [04:29<06:11,  2.76it/s]"
          ]
        },
        {
          "output_type": "stream",
          "name": "stderr",
          "text": [
            "\rExtracting test embeddings (orig):  40%|\u2588\u2588\u2588\u2588      | 690/1712 [04:29<05:54,  2.88it/s]"
          ]
        },
        {
          "output_type": "stream",
          "name": "stderr",
          "text": [
            "\rExtracting test embeddings (orig):  40%|\u2588\u2588\u2588\u2588      | 691/1712 [04:30<07:01,  2.42it/s]"
          ]
        },
        {
          "output_type": "stream",
          "name": "stderr",
          "text": [
            "\rExtracting test embeddings (orig):  40%|\u2588\u2588\u2588\u2588      | 692/1712 [04:30<06:27,  2.63it/s]"
          ]
        },
        {
          "output_type": "stream",
          "name": "stderr",
          "text": [
            "\rExtracting test embeddings (orig):  40%|\u2588\u2588\u2588\u2588      | 693/1712 [04:30<06:10,  2.75it/s]"
          ]
        },
        {
          "output_type": "stream",
          "name": "stderr",
          "text": [
            "\rExtracting test embeddings (orig):  41%|\u2588\u2588\u2588\u2588      | 694/1712 [04:31<05:52,  2.89it/s]"
          ]
        },
        {
          "output_type": "stream",
          "name": "stderr",
          "text": [
            "\rExtracting test embeddings (orig):  41%|\u2588\u2588\u2588\u2588      | 695/1712 [04:31<07:14,  2.34it/s]"
          ]
        },
        {
          "output_type": "stream",
          "name": "stderr",
          "text": [
            "\rExtracting test embeddings (orig):  41%|\u2588\u2588\u2588\u2588      | 696/1712 [04:32<06:36,  2.56it/s]"
          ]
        },
        {
          "output_type": "stream",
          "name": "stderr",
          "text": [
            "\rExtracting test embeddings (orig):  41%|\u2588\u2588\u2588\u2588      | 697/1712 [04:32<06:12,  2.72it/s]"
          ]
        },
        {
          "output_type": "stream",
          "name": "stderr",
          "text": [
            "\rExtracting test embeddings (orig):  41%|\u2588\u2588\u2588\u2588      | 698/1712 [04:32<05:53,  2.87it/s]"
          ]
        },
        {
          "output_type": "stream",
          "name": "stderr",
          "text": [
            "\rExtracting test embeddings (orig):  41%|\u2588\u2588\u2588\u2588      | 699/1712 [04:33<07:03,  2.39it/s]"
          ]
        },
        {
          "output_type": "stream",
          "name": "stderr",
          "text": [
            "\rExtracting test embeddings (orig):  41%|\u2588\u2588\u2588\u2588      | 700/1712 [04:33<06:28,  2.60it/s]"
          ]
        },
        {
          "output_type": "stream",
          "name": "stderr",
          "text": [
            "\rExtracting test embeddings (orig):  41%|\u2588\u2588\u2588\u2588      | 701/1712 [04:33<06:07,  2.75it/s]"
          ]
        },
        {
          "output_type": "stream",
          "name": "stderr",
          "text": [
            "\rExtracting test embeddings (orig):  41%|\u2588\u2588\u2588\u2588      | 702/1712 [04:34<05:49,  2.89it/s]"
          ]
        },
        {
          "output_type": "stream",
          "name": "stderr",
          "text": [
            "\rExtracting test embeddings (orig):  41%|\u2588\u2588\u2588\u2588      | 703/1712 [04:34<07:25,  2.26it/s]"
          ]
        },
        {
          "output_type": "stream",
          "name": "stderr",
          "text": [
            "\rExtracting test embeddings (orig):  41%|\u2588\u2588\u2588\u2588      | 704/1712 [04:35<06:44,  2.49it/s]"
          ]
        },
        {
          "output_type": "stream",
          "name": "stderr",
          "text": [
            "\rExtracting test embeddings (orig):  41%|\u2588\u2588\u2588\u2588      | 705/1712 [04:35<06:17,  2.67it/s]"
          ]
        },
        {
          "output_type": "stream",
          "name": "stderr",
          "text": [
            "\rExtracting test embeddings (orig):  41%|\u2588\u2588\u2588\u2588      | 706/1712 [04:35<05:56,  2.82it/s]"
          ]
        },
        {
          "output_type": "stream",
          "name": "stderr",
          "text": [
            "\rExtracting test embeddings (orig):  41%|\u2588\u2588\u2588\u2588\u258f     | 707/1712 [04:36<06:35,  2.54it/s]"
          ]
        },
        {
          "output_type": "stream",
          "name": "stderr",
          "text": [
            "\rExtracting test embeddings (orig):  41%|\u2588\u2588\u2588\u2588\u258f     | 708/1712 [04:36<06:08,  2.72it/s]"
          ]
        },
        {
          "output_type": "stream",
          "name": "stderr",
          "text": [
            "\rExtracting test embeddings (orig):  41%|\u2588\u2588\u2588\u2588\u258f     | 709/1712 [04:36<05:54,  2.83it/s]"
          ]
        },
        {
          "output_type": "stream",
          "name": "stderr",
          "text": [
            "\rExtracting test embeddings (orig):  41%|\u2588\u2588\u2588\u2588\u258f     | 710/1712 [04:37<05:40,  2.94it/s]"
          ]
        },
        {
          "output_type": "stream",
          "name": "stderr",
          "text": [
            "\rExtracting test embeddings (orig):  42%|\u2588\u2588\u2588\u2588\u258f     | 711/1712 [04:37<07:22,  2.26it/s]"
          ]
        },
        {
          "output_type": "stream",
          "name": "stderr",
          "text": [
            "\rExtracting test embeddings (orig):  42%|\u2588\u2588\u2588\u2588\u258f     | 712/1712 [04:38<06:40,  2.50it/s]"
          ]
        },
        {
          "output_type": "stream",
          "name": "stderr",
          "text": [
            "\rExtracting test embeddings (orig):  42%|\u2588\u2588\u2588\u2588\u258f     | 713/1712 [04:38<06:14,  2.67it/s]"
          ]
        },
        {
          "output_type": "stream",
          "name": "stderr",
          "text": [
            "\rExtracting test embeddings (orig):  42%|\u2588\u2588\u2588\u2588\u258f     | 714/1712 [04:38<05:52,  2.83it/s]"
          ]
        },
        {
          "output_type": "stream",
          "name": "stderr",
          "text": [
            "\rExtracting test embeddings (orig):  42%|\u2588\u2588\u2588\u2588\u258f     | 715/1712 [04:39<07:08,  2.33it/s]"
          ]
        },
        {
          "output_type": "stream",
          "name": "stderr",
          "text": [
            "\rExtracting test embeddings (orig):  42%|\u2588\u2588\u2588\u2588\u258f     | 716/1712 [04:39<06:31,  2.54it/s]"
          ]
        },
        {
          "output_type": "stream",
          "name": "stderr",
          "text": [
            "\rExtracting test embeddings (orig):  42%|\u2588\u2588\u2588\u2588\u258f     | 717/1712 [04:40<06:07,  2.71it/s]"
          ]
        },
        {
          "output_type": "stream",
          "name": "stderr",
          "text": [
            "\rExtracting test embeddings (orig):  42%|\u2588\u2588\u2588\u2588\u258f     | 718/1712 [04:40<05:48,  2.85it/s]"
          ]
        },
        {
          "output_type": "stream",
          "name": "stderr",
          "text": [
            "\rExtracting test embeddings (orig):  42%|\u2588\u2588\u2588\u2588\u258f     | 719/1712 [04:40<07:02,  2.35it/s]"
          ]
        },
        {
          "output_type": "stream",
          "name": "stderr",
          "text": [
            "\rExtracting test embeddings (orig):  42%|\u2588\u2588\u2588\u2588\u258f     | 720/1712 [04:41<06:25,  2.57it/s]"
          ]
        },
        {
          "output_type": "stream",
          "name": "stderr",
          "text": [
            "\rExtracting test embeddings (orig):  42%|\u2588\u2588\u2588\u2588\u258f     | 721/1712 [04:41<06:03,  2.73it/s]"
          ]
        },
        {
          "output_type": "stream",
          "name": "stderr",
          "text": [
            "\rExtracting test embeddings (orig):  42%|\u2588\u2588\u2588\u2588\u258f     | 722/1712 [04:41<05:44,  2.87it/s]"
          ]
        },
        {
          "output_type": "stream",
          "name": "stderr",
          "text": [
            "\rExtracting test embeddings (orig):  42%|\u2588\u2588\u2588\u2588\u258f     | 723/1712 [04:42<07:02,  2.34it/s]"
          ]
        },
        {
          "output_type": "stream",
          "name": "stderr",
          "text": [
            "\rExtracting test embeddings (orig):  42%|\u2588\u2588\u2588\u2588\u258f     | 724/1712 [04:42<06:26,  2.56it/s]"
          ]
        },
        {
          "output_type": "stream",
          "name": "stderr",
          "text": [
            "\rExtracting test embeddings (orig):  42%|\u2588\u2588\u2588\u2588\u258f     | 725/1712 [04:43<06:03,  2.72it/s]"
          ]
        },
        {
          "output_type": "stream",
          "name": "stderr",
          "text": [
            "\rExtracting test embeddings (orig):  42%|\u2588\u2588\u2588\u2588\u258f     | 726/1712 [04:43<05:44,  2.86it/s]"
          ]
        },
        {
          "output_type": "stream",
          "name": "stderr",
          "text": [
            "\rExtracting test embeddings (orig):  42%|\u2588\u2588\u2588\u2588\u258f     | 727/1712 [04:43<06:04,  2.70it/s]"
          ]
        },
        {
          "output_type": "stream",
          "name": "stderr",
          "text": [
            "\rExtracting test embeddings (orig):  43%|\u2588\u2588\u2588\u2588\u258e     | 728/1712 [04:44<05:44,  2.86it/s]"
          ]
        },
        {
          "output_type": "stream",
          "name": "stderr",
          "text": [
            "\rExtracting test embeddings (orig):  43%|\u2588\u2588\u2588\u2588\u258e     | 729/1712 [04:44<05:34,  2.94it/s]"
          ]
        },
        {
          "output_type": "stream",
          "name": "stderr",
          "text": [
            "\rExtracting test embeddings (orig):  43%|\u2588\u2588\u2588\u2588\u258e     | 730/1712 [04:44<05:24,  3.03it/s]"
          ]
        },
        {
          "output_type": "stream",
          "name": "stderr",
          "text": [
            "\rExtracting test embeddings (orig):  43%|\u2588\u2588\u2588\u2588\u258e     | 731/1712 [04:45<06:34,  2.49it/s]"
          ]
        },
        {
          "output_type": "stream",
          "name": "stderr",
          "text": [
            "\rExtracting test embeddings (orig):  43%|\u2588\u2588\u2588\u2588\u258e     | 732/1712 [04:45<06:05,  2.68it/s]"
          ]
        },
        {
          "output_type": "stream",
          "name": "stderr",
          "text": [
            "\rExtracting test embeddings (orig):  43%|\u2588\u2588\u2588\u2588\u258e     | 733/1712 [04:45<05:47,  2.82it/s]"
          ]
        },
        {
          "output_type": "stream",
          "name": "stderr",
          "text": [
            "\rExtracting test embeddings (orig):  43%|\u2588\u2588\u2588\u2588\u258e     | 734/1712 [04:46<05:32,  2.94it/s]"
          ]
        },
        {
          "output_type": "stream",
          "name": "stderr",
          "text": [
            "\rExtracting test embeddings (orig):  43%|\u2588\u2588\u2588\u2588\u258e     | 735/1712 [04:46<07:02,  2.31it/s]"
          ]
        },
        {
          "output_type": "stream",
          "name": "stderr",
          "text": [
            "\rExtracting test embeddings (orig):  43%|\u2588\u2588\u2588\u2588\u258e     | 736/1712 [04:47<06:25,  2.53it/s]"
          ]
        },
        {
          "output_type": "stream",
          "name": "stderr",
          "text": [
            "\rExtracting test embeddings (orig):  43%|\u2588\u2588\u2588\u2588\u258e     | 737/1712 [04:47<06:01,  2.69it/s]"
          ]
        },
        {
          "output_type": "stream",
          "name": "stderr",
          "text": [
            "\rExtracting test embeddings (orig):  43%|\u2588\u2588\u2588\u2588\u258e     | 738/1712 [04:47<05:42,  2.84it/s]"
          ]
        },
        {
          "output_type": "stream",
          "name": "stderr",
          "text": [
            "\rExtracting test embeddings (orig):  43%|\u2588\u2588\u2588\u2588\u258e     | 739/1712 [04:48<06:37,  2.45it/s]"
          ]
        },
        {
          "output_type": "stream",
          "name": "stderr",
          "text": [
            "\rExtracting test embeddings (orig):  43%|\u2588\u2588\u2588\u2588\u258e     | 740/1712 [04:48<06:06,  2.65it/s]"
          ]
        },
        {
          "output_type": "stream",
          "name": "stderr",
          "text": [
            "\rExtracting test embeddings (orig):  43%|\u2588\u2588\u2588\u2588\u258e     | 741/1712 [04:49<05:48,  2.79it/s]"
          ]
        },
        {
          "output_type": "stream",
          "name": "stderr",
          "text": [
            "\rExtracting test embeddings (orig):  43%|\u2588\u2588\u2588\u2588\u258e     | 742/1712 [04:49<05:32,  2.92it/s]"
          ]
        },
        {
          "output_type": "stream",
          "name": "stderr",
          "text": [
            "\rExtracting test embeddings (orig):  43%|\u2588\u2588\u2588\u2588\u258e     | 743/1712 [04:49<06:33,  2.46it/s]"
          ]
        },
        {
          "output_type": "stream",
          "name": "stderr",
          "text": [
            "\rExtracting test embeddings (orig):  43%|\u2588\u2588\u2588\u2588\u258e     | 744/1712 [04:50<06:03,  2.66it/s]"
          ]
        },
        {
          "output_type": "stream",
          "name": "stderr",
          "text": [
            "\rExtracting test embeddings (orig):  44%|\u2588\u2588\u2588\u2588\u258e     | 745/1712 [04:50<05:46,  2.79it/s]"
          ]
        },
        {
          "output_type": "stream",
          "name": "stderr",
          "text": [
            "\rExtracting test embeddings (orig):  44%|\u2588\u2588\u2588\u2588\u258e     | 746/1712 [04:50<05:31,  2.92it/s]"
          ]
        },
        {
          "output_type": "stream",
          "name": "stderr",
          "text": [
            "\rExtracting test embeddings (orig):  44%|\u2588\u2588\u2588\u2588\u258e     | 747/1712 [04:51<06:30,  2.47it/s]"
          ]
        },
        {
          "output_type": "stream",
          "name": "stderr",
          "text": [
            "\rExtracting test embeddings (orig):  44%|\u2588\u2588\u2588\u2588\u258e     | 748/1712 [04:51<06:01,  2.67it/s]"
          ]
        },
        {
          "output_type": "stream",
          "name": "stderr",
          "text": [
            "\rExtracting test embeddings (orig):  44%|\u2588\u2588\u2588\u2588\u258d     | 749/1712 [04:51<05:43,  2.80it/s]"
          ]
        },
        {
          "output_type": "stream",
          "name": "stderr",
          "text": [
            "\rExtracting test embeddings (orig):  44%|\u2588\u2588\u2588\u2588\u258d     | 750/1712 [04:52<05:28,  2.93it/s]"
          ]
        },
        {
          "output_type": "stream",
          "name": "stderr",
          "text": [
            "\rExtracting test embeddings (orig):  44%|\u2588\u2588\u2588\u2588\u258d     | 751/1712 [04:52<06:29,  2.47it/s]"
          ]
        },
        {
          "output_type": "stream",
          "name": "stderr",
          "text": [
            "\rExtracting test embeddings (orig):  44%|\u2588\u2588\u2588\u2588\u258d     | 752/1712 [04:53<06:00,  2.67it/s]"
          ]
        },
        {
          "output_type": "stream",
          "name": "stderr",
          "text": [
            "\rExtracting test embeddings (orig):  44%|\u2588\u2588\u2588\u2588\u258d     | 753/1712 [04:53<05:42,  2.80it/s]"
          ]
        },
        {
          "output_type": "stream",
          "name": "stderr",
          "text": [
            "\rExtracting test embeddings (orig):  44%|\u2588\u2588\u2588\u2588\u258d     | 754/1712 [04:53<05:27,  2.93it/s]"
          ]
        },
        {
          "output_type": "stream",
          "name": "stderr",
          "text": [
            "\rExtracting test embeddings (orig):  44%|\u2588\u2588\u2588\u2588\u258d     | 755/1712 [04:54<06:30,  2.45it/s]"
          ]
        },
        {
          "output_type": "stream",
          "name": "stderr",
          "text": [
            "\rExtracting test embeddings (orig):  44%|\u2588\u2588\u2588\u2588\u258d     | 756/1712 [04:54<06:01,  2.64it/s]"
          ]
        },
        {
          "output_type": "stream",
          "name": "stderr",
          "text": [
            "\rExtracting test embeddings (orig):  44%|\u2588\u2588\u2588\u2588\u258d     | 757/1712 [04:54<05:43,  2.78it/s]"
          ]
        },
        {
          "output_type": "stream",
          "name": "stderr",
          "text": [
            "\rExtracting test embeddings (orig):  44%|\u2588\u2588\u2588\u2588\u258d     | 758/1712 [04:55<05:27,  2.91it/s]"
          ]
        },
        {
          "output_type": "stream",
          "name": "stderr",
          "text": [
            "\rExtracting test embeddings (orig):  44%|\u2588\u2588\u2588\u2588\u258d     | 759/1712 [04:55<06:57,  2.28it/s]"
          ]
        },
        {
          "output_type": "stream",
          "name": "stderr",
          "text": [
            "\rExtracting test embeddings (orig):  44%|\u2588\u2588\u2588\u2588\u258d     | 760/1712 [04:56<06:19,  2.51it/s]"
          ]
        },
        {
          "output_type": "stream",
          "name": "stderr",
          "text": [
            "\rExtracting test embeddings (orig):  44%|\u2588\u2588\u2588\u2588\u258d     | 761/1712 [04:56<05:55,  2.68it/s]"
          ]
        },
        {
          "output_type": "stream",
          "name": "stderr",
          "text": [
            "\rExtracting test embeddings (orig):  45%|\u2588\u2588\u2588\u2588\u258d     | 762/1712 [04:56<05:35,  2.83it/s]"
          ]
        },
        {
          "output_type": "stream",
          "name": "stderr",
          "text": [
            "\rExtracting test embeddings (orig):  45%|\u2588\u2588\u2588\u2588\u258d     | 763/1712 [04:57<06:37,  2.39it/s]"
          ]
        },
        {
          "output_type": "stream",
          "name": "stderr",
          "text": [
            "\rExtracting test embeddings (orig):  45%|\u2588\u2588\u2588\u2588\u258d     | 764/1712 [04:57<06:04,  2.60it/s]"
          ]
        },
        {
          "output_type": "stream",
          "name": "stderr",
          "text": [
            "\rExtracting test embeddings (orig):  45%|\u2588\u2588\u2588\u2588\u258d     | 765/1712 [04:58<05:45,  2.74it/s]"
          ]
        },
        {
          "output_type": "stream",
          "name": "stderr",
          "text": [
            "\rExtracting test embeddings (orig):  45%|\u2588\u2588\u2588\u2588\u258d     | 766/1712 [04:58<05:27,  2.88it/s]"
          ]
        },
        {
          "output_type": "stream",
          "name": "stderr",
          "text": [
            "\rExtracting test embeddings (orig):  45%|\u2588\u2588\u2588\u2588\u258d     | 767/1712 [04:58<06:42,  2.35it/s]"
          ]
        },
        {
          "output_type": "stream",
          "name": "stderr",
          "text": [
            "\rExtracting test embeddings (orig):  45%|\u2588\u2588\u2588\u2588\u258d     | 768/1712 [04:59<06:08,  2.56it/s]"
          ]
        },
        {
          "output_type": "stream",
          "name": "stderr",
          "text": [
            "\rExtracting test embeddings (orig):  45%|\u2588\u2588\u2588\u2588\u258d     | 769/1712 [04:59<05:47,  2.72it/s]"
          ]
        },
        {
          "output_type": "stream",
          "name": "stderr",
          "text": [
            "\rExtracting test embeddings (orig):  45%|\u2588\u2588\u2588\u2588\u258d     | 770/1712 [04:59<05:29,  2.86it/s]"
          ]
        },
        {
          "output_type": "stream",
          "name": "stderr",
          "text": [
            "\rExtracting test embeddings (orig):  45%|\u2588\u2588\u2588\u2588\u258c     | 771/1712 [05:00<06:48,  2.31it/s]"
          ]
        },
        {
          "output_type": "stream",
          "name": "stderr",
          "text": [
            "\rExtracting test embeddings (orig):  45%|\u2588\u2588\u2588\u2588\u258c     | 772/1712 [05:00<06:10,  2.53it/s]"
          ]
        },
        {
          "output_type": "stream",
          "name": "stderr",
          "text": [
            "\rExtracting test embeddings (orig):  45%|\u2588\u2588\u2588\u2588\u258c     | 773/1712 [05:01<05:49,  2.69it/s]"
          ]
        },
        {
          "output_type": "stream",
          "name": "stderr",
          "text": [
            "\rExtracting test embeddings (orig):  45%|\u2588\u2588\u2588\u2588\u258c     | 774/1712 [05:01<05:30,  2.84it/s]"
          ]
        },
        {
          "output_type": "stream",
          "name": "stderr",
          "text": [
            "\rExtracting test embeddings (orig):  45%|\u2588\u2588\u2588\u2588\u258c     | 775/1712 [05:02<06:31,  2.39it/s]"
          ]
        },
        {
          "output_type": "stream",
          "name": "stderr",
          "text": [
            "\rExtracting test embeddings (orig):  45%|\u2588\u2588\u2588\u2588\u258c     | 776/1712 [05:02<05:59,  2.60it/s]"
          ]
        },
        {
          "output_type": "stream",
          "name": "stderr",
          "text": [
            "\rExtracting test embeddings (orig):  45%|\u2588\u2588\u2588\u2588\u258c     | 777/1712 [05:02<05:40,  2.74it/s]"
          ]
        },
        {
          "output_type": "stream",
          "name": "stderr",
          "text": [
            "\rExtracting test embeddings (orig):  45%|\u2588\u2588\u2588\u2588\u258c     | 778/1712 [05:02<05:24,  2.88it/s]"
          ]
        },
        {
          "output_type": "stream",
          "name": "stderr",
          "text": [
            "\rExtracting test embeddings (orig):  46%|\u2588\u2588\u2588\u2588\u258c     | 779/1712 [05:03<06:27,  2.41it/s]"
          ]
        },
        {
          "output_type": "stream",
          "name": "stderr",
          "text": [
            "\rExtracting test embeddings (orig):  46%|\u2588\u2588\u2588\u2588\u258c     | 780/1712 [05:03<05:56,  2.61it/s]"
          ]
        },
        {
          "output_type": "stream",
          "name": "stderr",
          "text": [
            "\rExtracting test embeddings (orig):  46%|\u2588\u2588\u2588\u2588\u258c     | 781/1712 [05:04<05:39,  2.74it/s]"
          ]
        },
        {
          "output_type": "stream",
          "name": "stderr",
          "text": [
            "\rExtracting test embeddings (orig):  46%|\u2588\u2588\u2588\u2588\u258c     | 782/1712 [05:04<05:23,  2.88it/s]"
          ]
        },
        {
          "output_type": "stream",
          "name": "stderr",
          "text": [
            "\rExtracting test embeddings (orig):  46%|\u2588\u2588\u2588\u2588\u258c     | 783/1712 [05:04<06:10,  2.51it/s]"
          ]
        },
        {
          "output_type": "stream",
          "name": "stderr",
          "text": [
            "\rExtracting test embeddings (orig):  46%|\u2588\u2588\u2588\u2588\u258c     | 784/1712 [05:05<05:43,  2.70it/s]"
          ]
        },
        {
          "output_type": "stream",
          "name": "stderr",
          "text": [
            "\rExtracting test embeddings (orig):  46%|\u2588\u2588\u2588\u2588\u258c     | 785/1712 [05:05<05:28,  2.82it/s]"
          ]
        },
        {
          "output_type": "stream",
          "name": "stderr",
          "text": [
            "\rExtracting test embeddings (orig):  46%|\u2588\u2588\u2588\u2588\u258c     | 786/1712 [05:05<05:15,  2.94it/s]"
          ]
        },
        {
          "output_type": "stream",
          "name": "stderr",
          "text": [
            "\rExtracting test embeddings (orig):  46%|\u2588\u2588\u2588\u2588\u258c     | 787/1712 [05:06<06:12,  2.48it/s]"
          ]
        },
        {
          "output_type": "stream",
          "name": "stderr",
          "text": [
            "\rExtracting test embeddings (orig):  46%|\u2588\u2588\u2588\u2588\u258c     | 788/1712 [05:06<05:44,  2.68it/s]"
          ]
        },
        {
          "output_type": "stream",
          "name": "stderr",
          "text": [
            "\rExtracting test embeddings (orig):  46%|\u2588\u2588\u2588\u2588\u258c     | 789/1712 [05:07<05:28,  2.81it/s]"
          ]
        },
        {
          "output_type": "stream",
          "name": "stderr",
          "text": [
            "\rExtracting test embeddings (orig):  46%|\u2588\u2588\u2588\u2588\u258c     | 790/1712 [05:07<05:14,  2.93it/s]"
          ]
        },
        {
          "output_type": "stream",
          "name": "stderr",
          "text": [
            "\rExtracting test embeddings (orig):  46%|\u2588\u2588\u2588\u2588\u258c     | 791/1712 [05:07<06:14,  2.46it/s]"
          ]
        },
        {
          "output_type": "stream",
          "name": "stderr",
          "text": [
            "\rExtracting test embeddings (orig):  46%|\u2588\u2588\u2588\u2588\u258b     | 792/1712 [05:08<05:46,  2.65it/s]"
          ]
        },
        {
          "output_type": "stream",
          "name": "stderr",
          "text": [
            "\rExtracting test embeddings (orig):  46%|\u2588\u2588\u2588\u2588\u258b     | 793/1712 [05:08<05:30,  2.78it/s]"
          ]
        },
        {
          "output_type": "stream",
          "name": "stderr",
          "text": [
            "\rExtracting test embeddings (orig):  46%|\u2588\u2588\u2588\u2588\u258b     | 794/1712 [05:08<05:15,  2.91it/s]"
          ]
        },
        {
          "output_type": "stream",
          "name": "stderr",
          "text": [
            "\rExtracting test embeddings (orig):  46%|\u2588\u2588\u2588\u2588\u258b     | 795/1712 [05:09<06:30,  2.35it/s]"
          ]
        },
        {
          "output_type": "stream",
          "name": "stderr",
          "text": [
            "\rExtracting test embeddings (orig):  46%|\u2588\u2588\u2588\u2588\u258b     | 796/1712 [05:09<05:57,  2.56it/s]"
          ]
        },
        {
          "output_type": "stream",
          "name": "stderr",
          "text": [
            "\rExtracting test embeddings (orig):  47%|\u2588\u2588\u2588\u2588\u258b     | 797/1712 [05:10<05:36,  2.72it/s]"
          ]
        },
        {
          "output_type": "stream",
          "name": "stderr",
          "text": [
            "\rExtracting test embeddings (orig):  47%|\u2588\u2588\u2588\u2588\u258b     | 798/1712 [05:10<05:19,  2.86it/s]"
          ]
        },
        {
          "output_type": "stream",
          "name": "stderr",
          "text": [
            "\rExtracting test embeddings (orig):  47%|\u2588\u2588\u2588\u2588\u258b     | 799/1712 [05:11<06:26,  2.36it/s]"
          ]
        },
        {
          "output_type": "stream",
          "name": "stderr",
          "text": [
            "\rExtracting test embeddings (orig):  47%|\u2588\u2588\u2588\u2588\u258b     | 800/1712 [05:11<05:53,  2.58it/s]"
          ]
        },
        {
          "output_type": "stream",
          "name": "stderr",
          "text": [
            "\rExtracting test embeddings (orig):  47%|\u2588\u2588\u2588\u2588\u258b     | 801/1712 [05:11<05:35,  2.72it/s]"
          ]
        },
        {
          "output_type": "stream",
          "name": "stderr",
          "text": [
            "\rExtracting test embeddings (orig):  47%|\u2588\u2588\u2588\u2588\u258b     | 802/1712 [05:11<05:18,  2.86it/s]"
          ]
        },
        {
          "output_type": "stream",
          "name": "stderr",
          "text": [
            "\rExtracting test embeddings (orig):  47%|\u2588\u2588\u2588\u2588\u258b     | 803/1712 [05:12<06:16,  2.41it/s]"
          ]
        },
        {
          "output_type": "stream",
          "name": "stderr",
          "text": [
            "\rExtracting test embeddings (orig):  47%|\u2588\u2588\u2588\u2588\u258b     | 804/1712 [05:12<05:46,  2.62it/s]"
          ]
        },
        {
          "output_type": "stream",
          "name": "stderr",
          "text": [
            "\rExtracting test embeddings (orig):  47%|\u2588\u2588\u2588\u2588\u258b     | 805/1712 [05:13<05:29,  2.75it/s]"
          ]
        },
        {
          "output_type": "stream",
          "name": "stderr",
          "text": [
            "\rExtracting test embeddings (orig):  47%|\u2588\u2588\u2588\u2588\u258b     | 806/1712 [05:13<05:14,  2.88it/s]"
          ]
        },
        {
          "output_type": "stream",
          "name": "stderr",
          "text": [
            "\rExtracting test embeddings (orig):  47%|\u2588\u2588\u2588\u2588\u258b     | 807/1712 [05:14<06:09,  2.45it/s]"
          ]
        },
        {
          "output_type": "stream",
          "name": "stderr",
          "text": [
            "\rExtracting test embeddings (orig):  47%|\u2588\u2588\u2588\u2588\u258b     | 808/1712 [05:14<05:41,  2.64it/s]"
          ]
        },
        {
          "output_type": "stream",
          "name": "stderr",
          "text": [
            "\rExtracting test embeddings (orig):  47%|\u2588\u2588\u2588\u2588\u258b     | 809/1712 [05:14<05:24,  2.78it/s]"
          ]
        },
        {
          "output_type": "stream",
          "name": "stderr",
          "text": [
            "\rExtracting test embeddings (orig):  47%|\u2588\u2588\u2588\u2588\u258b     | 810/1712 [05:14<05:10,  2.90it/s]"
          ]
        },
        {
          "output_type": "stream",
          "name": "stderr",
          "text": [
            "\rExtracting test embeddings (orig):  47%|\u2588\u2588\u2588\u2588\u258b     | 811/1712 [05:15<06:08,  2.45it/s]"
          ]
        },
        {
          "output_type": "stream",
          "name": "stderr",
          "text": [
            "\rExtracting test embeddings (orig):  47%|\u2588\u2588\u2588\u2588\u258b     | 812/1712 [05:15<05:40,  2.65it/s]"
          ]
        },
        {
          "output_type": "stream",
          "name": "stderr",
          "text": [
            "\rExtracting test embeddings (orig):  47%|\u2588\u2588\u2588\u2588\u258b     | 813/1712 [05:16<05:23,  2.78it/s]"
          ]
        },
        {
          "output_type": "stream",
          "name": "stderr",
          "text": [
            "\rExtracting test embeddings (orig):  48%|\u2588\u2588\u2588\u2588\u258a     | 814/1712 [05:16<05:09,  2.90it/s]"
          ]
        },
        {
          "output_type": "stream",
          "name": "stderr",
          "text": [
            "\rExtracting test embeddings (orig):  48%|\u2588\u2588\u2588\u2588\u258a     | 815/1712 [05:16<06:08,  2.43it/s]"
          ]
        },
        {
          "output_type": "stream",
          "name": "stderr",
          "text": [
            "\rExtracting test embeddings (orig):  48%|\u2588\u2588\u2588\u2588\u258a     | 816/1712 [05:17<05:39,  2.64it/s]"
          ]
        },
        {
          "output_type": "stream",
          "name": "stderr",
          "text": [
            "\rExtracting test embeddings (orig):  48%|\u2588\u2588\u2588\u2588\u258a     | 817/1712 [05:17<05:22,  2.78it/s]"
          ]
        },
        {
          "output_type": "stream",
          "name": "stderr",
          "text": [
            "\rExtracting test embeddings (orig):  48%|\u2588\u2588\u2588\u2588\u258a     | 818/1712 [05:17<05:07,  2.91it/s]"
          ]
        },
        {
          "output_type": "stream",
          "name": "stderr",
          "text": [
            "\rExtracting test embeddings (orig):  48%|\u2588\u2588\u2588\u2588\u258a     | 819/1712 [05:18<06:13,  2.39it/s]"
          ]
        },
        {
          "output_type": "stream",
          "name": "stderr",
          "text": [
            "\rExtracting test embeddings (orig):  48%|\u2588\u2588\u2588\u2588\u258a     | 820/1712 [05:18<05:42,  2.61it/s]"
          ]
        },
        {
          "output_type": "stream",
          "name": "stderr",
          "text": [
            "\rExtracting test embeddings (orig):  48%|\u2588\u2588\u2588\u2588\u258a     | 821/1712 [05:19<05:23,  2.76it/s]"
          ]
        },
        {
          "output_type": "stream",
          "name": "stderr",
          "text": [
            "\rExtracting test embeddings (orig):  48%|\u2588\u2588\u2588\u2588\u258a     | 822/1712 [05:19<05:07,  2.89it/s]"
          ]
        },
        {
          "output_type": "stream",
          "name": "stderr",
          "text": [
            "\rExtracting test embeddings (orig):  48%|\u2588\u2588\u2588\u2588\u258a     | 823/1712 [05:19<05:31,  2.68it/s]"
          ]
        },
        {
          "output_type": "stream",
          "name": "stderr",
          "text": [
            "\rExtracting test embeddings (orig):  48%|\u2588\u2588\u2588\u2588\u258a     | 824/1712 [05:20<05:12,  2.84it/s]"
          ]
        },
        {
          "output_type": "stream",
          "name": "stderr",
          "text": [
            "\rExtracting test embeddings (orig):  48%|\u2588\u2588\u2588\u2588\u258a     | 825/1712 [05:20<05:02,  2.93it/s]"
          ]
        },
        {
          "output_type": "stream",
          "name": "stderr",
          "text": [
            "\rExtracting test embeddings (orig):  48%|\u2588\u2588\u2588\u2588\u258a     | 826/1712 [05:20<04:52,  3.03it/s]"
          ]
        },
        {
          "output_type": "stream",
          "name": "stderr",
          "text": [
            "\rExtracting test embeddings (orig):  48%|\u2588\u2588\u2588\u2588\u258a     | 827/1712 [05:21<05:34,  2.64it/s]"
          ]
        },
        {
          "output_type": "stream",
          "name": "stderr",
          "text": [
            "\rExtracting test embeddings (orig):  48%|\u2588\u2588\u2588\u2588\u258a     | 828/1712 [05:21<05:43,  2.57it/s]"
          ]
        },
        {
          "output_type": "stream",
          "name": "stderr",
          "text": [
            "\rExtracting test embeddings (orig):  48%|\u2588\u2588\u2588\u2588\u258a     | 829/1712 [05:22<05:21,  2.75it/s]"
          ]
        },
        {
          "output_type": "stream",
          "name": "stderr",
          "text": [
            "\rExtracting test embeddings (orig):  48%|\u2588\u2588\u2588\u2588\u258a     | 830/1712 [05:22<05:08,  2.86it/s]"
          ]
        },
        {
          "output_type": "stream",
          "name": "stderr",
          "text": [
            "\rExtracting test embeddings (orig):  49%|\u2588\u2588\u2588\u2588\u258a     | 831/1712 [05:23<07:19,  2.00it/s]"
          ]
        },
        {
          "output_type": "stream",
          "name": "stderr",
          "text": [
            "\rExtracting test embeddings (orig):  49%|\u2588\u2588\u2588\u2588\u258a     | 832/1712 [05:23<06:27,  2.27it/s]"
          ]
        },
        {
          "output_type": "stream",
          "name": "stderr",
          "text": [
            "\rExtracting test embeddings (orig):  49%|\u2588\u2588\u2588\u2588\u258a     | 833/1712 [05:23<05:54,  2.48it/s]"
          ]
        },
        {
          "output_type": "stream",
          "name": "stderr",
          "text": [
            "\rExtracting test embeddings (orig):  49%|\u2588\u2588\u2588\u2588\u258a     | 834/1712 [05:24<05:28,  2.67it/s]"
          ]
        },
        {
          "output_type": "stream",
          "name": "stderr",
          "text": [
            "\rExtracting test embeddings (orig):  49%|\u2588\u2588\u2588\u2588\u2589     | 835/1712 [05:24<06:10,  2.37it/s]"
          ]
        },
        {
          "output_type": "stream",
          "name": "stderr",
          "text": [
            "\rExtracting test embeddings (orig):  49%|\u2588\u2588\u2588\u2588\u2589     | 836/1712 [05:24<05:39,  2.58it/s]"
          ]
        },
        {
          "output_type": "stream",
          "name": "stderr",
          "text": [
            "\rExtracting test embeddings (orig):  49%|\u2588\u2588\u2588\u2588\u2589     | 837/1712 [05:25<05:20,  2.73it/s]"
          ]
        },
        {
          "output_type": "stream",
          "name": "stderr",
          "text": [
            "\rExtracting test embeddings (orig):  49%|\u2588\u2588\u2588\u2588\u2589     | 838/1712 [05:25<05:04,  2.87it/s]"
          ]
        },
        {
          "output_type": "stream",
          "name": "stderr",
          "text": [
            "\rExtracting test embeddings (orig):  49%|\u2588\u2588\u2588\u2588\u2589     | 839/1712 [05:26<06:11,  2.35it/s]"
          ]
        },
        {
          "output_type": "stream",
          "name": "stderr",
          "text": [
            "\rExtracting test embeddings (orig):  49%|\u2588\u2588\u2588\u2588\u2589     | 840/1712 [05:26<05:39,  2.57it/s]"
          ]
        },
        {
          "output_type": "stream",
          "name": "stderr",
          "text": [
            "\rExtracting test embeddings (orig):  49%|\u2588\u2588\u2588\u2588\u2589     | 841/1712 [05:26<05:19,  2.72it/s]"
          ]
        },
        {
          "output_type": "stream",
          "name": "stderr",
          "text": [
            "\rExtracting test embeddings (orig):  49%|\u2588\u2588\u2588\u2588\u2589     | 842/1712 [05:27<05:03,  2.87it/s]"
          ]
        },
        {
          "output_type": "stream",
          "name": "stderr",
          "text": [
            "\rExtracting test embeddings (orig):  49%|\u2588\u2588\u2588\u2588\u2589     | 843/1712 [05:27<05:58,  2.43it/s]"
          ]
        },
        {
          "output_type": "stream",
          "name": "stderr",
          "text": [
            "\rExtracting test embeddings (orig):  49%|\u2588\u2588\u2588\u2588\u2589     | 844/1712 [05:27<05:29,  2.63it/s]"
          ]
        },
        {
          "output_type": "stream",
          "name": "stderr",
          "text": [
            "\rExtracting test embeddings (orig):  49%|\u2588\u2588\u2588\u2588\u2589     | 845/1712 [05:28<05:14,  2.76it/s]"
          ]
        },
        {
          "output_type": "stream",
          "name": "stderr",
          "text": [
            "\rExtracting test embeddings (orig):  49%|\u2588\u2588\u2588\u2588\u2589     | 846/1712 [05:28<05:00,  2.88it/s]"
          ]
        },
        {
          "output_type": "stream",
          "name": "stderr",
          "text": [
            "\rExtracting test embeddings (orig):  49%|\u2588\u2588\u2588\u2588\u2589     | 847/1712 [05:29<05:22,  2.68it/s]"
          ]
        },
        {
          "output_type": "stream",
          "name": "stderr",
          "text": [
            "\rExtracting test embeddings (orig):  50%|\u2588\u2588\u2588\u2588\u2589     | 848/1712 [05:29<05:04,  2.83it/s]"
          ]
        },
        {
          "output_type": "stream",
          "name": "stderr",
          "text": [
            "\rExtracting test embeddings (orig):  50%|\u2588\u2588\u2588\u2588\u2589     | 849/1712 [05:29<04:54,  2.93it/s]"
          ]
        },
        {
          "output_type": "stream",
          "name": "stderr",
          "text": [
            "\rExtracting test embeddings (orig):  50%|\u2588\u2588\u2588\u2588\u2589     | 850/1712 [05:29<04:45,  3.02it/s]"
          ]
        },
        {
          "output_type": "stream",
          "name": "stderr",
          "text": [
            "\rExtracting test embeddings (orig):  50%|\u2588\u2588\u2588\u2588\u2589     | 851/1712 [05:30<05:44,  2.50it/s]"
          ]
        },
        {
          "output_type": "stream",
          "name": "stderr",
          "text": [
            "\rExtracting test embeddings (orig):  50%|\u2588\u2588\u2588\u2588\u2589     | 852/1712 [05:30<05:19,  2.69it/s]"
          ]
        },
        {
          "output_type": "stream",
          "name": "stderr",
          "text": [
            "\rExtracting test embeddings (orig):  50%|\u2588\u2588\u2588\u2588\u2589     | 853/1712 [05:31<05:05,  2.81it/s]"
          ]
        },
        {
          "output_type": "stream",
          "name": "stderr",
          "text": [
            "\rExtracting test embeddings (orig):  50%|\u2588\u2588\u2588\u2588\u2589     | 854/1712 [05:31<04:52,  2.93it/s]"
          ]
        },
        {
          "output_type": "stream",
          "name": "stderr",
          "text": [
            "\rExtracting test embeddings (orig):  50%|\u2588\u2588\u2588\u2588\u2589     | 855/1712 [05:31<05:48,  2.46it/s]"
          ]
        },
        {
          "output_type": "stream",
          "name": "stderr",
          "text": [
            "\rExtracting test embeddings (orig):  50%|\u2588\u2588\u2588\u2588\u2588     | 856/1712 [05:32<05:22,  2.65it/s]"
          ]
        },
        {
          "output_type": "stream",
          "name": "stderr",
          "text": [
            "\rExtracting test embeddings (orig):  50%|\u2588\u2588\u2588\u2588\u2588     | 857/1712 [05:32<05:06,  2.79it/s]"
          ]
        },
        {
          "output_type": "stream",
          "name": "stderr",
          "text": [
            "\rExtracting test embeddings (orig):  50%|\u2588\u2588\u2588\u2588\u2588     | 858/1712 [05:32<04:52,  2.92it/s]"
          ]
        },
        {
          "output_type": "stream",
          "name": "stderr",
          "text": [
            "\rExtracting test embeddings (orig):  50%|\u2588\u2588\u2588\u2588\u2588     | 859/1712 [05:33<05:58,  2.38it/s]"
          ]
        },
        {
          "output_type": "stream",
          "name": "stderr",
          "text": [
            "\rExtracting test embeddings (orig):  50%|\u2588\u2588\u2588\u2588\u2588     | 860/1712 [05:33<05:28,  2.60it/s]"
          ]
        },
        {
          "output_type": "stream",
          "name": "stderr",
          "text": [
            "\rExtracting test embeddings (orig):  50%|\u2588\u2588\u2588\u2588\u2588     | 861/1712 [05:34<05:10,  2.74it/s]"
          ]
        },
        {
          "output_type": "stream",
          "name": "stderr",
          "text": [
            "\rExtracting test embeddings (orig):  50%|\u2588\u2588\u2588\u2588\u2588     | 862/1712 [05:34<04:55,  2.88it/s]"
          ]
        },
        {
          "output_type": "stream",
          "name": "stderr",
          "text": [
            "\rExtracting test embeddings (orig):  50%|\u2588\u2588\u2588\u2588\u2588     | 863/1712 [05:34<05:19,  2.66it/s]"
          ]
        },
        {
          "output_type": "stream",
          "name": "stderr",
          "text": [
            "\rExtracting test embeddings (orig):  50%|\u2588\u2588\u2588\u2588\u2588     | 864/1712 [05:35<05:01,  2.81it/s]"
          ]
        },
        {
          "output_type": "stream",
          "name": "stderr",
          "text": [
            "\rExtracting test embeddings (orig):  51%|\u2588\u2588\u2588\u2588\u2588     | 865/1712 [05:35<04:50,  2.92it/s]"
          ]
        },
        {
          "output_type": "stream",
          "name": "stderr",
          "text": [
            "\rExtracting test embeddings (orig):  51%|\u2588\u2588\u2588\u2588\u2588     | 866/1712 [05:35<04:40,  3.01it/s]"
          ]
        },
        {
          "output_type": "stream",
          "name": "stderr",
          "text": [
            "\rExtracting test embeddings (orig):  51%|\u2588\u2588\u2588\u2588\u2588     | 867/1712 [05:36<05:12,  2.70it/s]"
          ]
        },
        {
          "output_type": "stream",
          "name": "stderr",
          "text": [
            "\rExtracting test embeddings (orig):  51%|\u2588\u2588\u2588\u2588\u2588     | 868/1712 [05:36<04:55,  2.86it/s]"
          ]
        },
        {
          "output_type": "stream",
          "name": "stderr",
          "text": [
            "\rExtracting test embeddings (orig):  51%|\u2588\u2588\u2588\u2588\u2588     | 869/1712 [05:36<04:45,  2.95it/s]"
          ]
        },
        {
          "output_type": "stream",
          "name": "stderr",
          "text": [
            "\rExtracting test embeddings (orig):  51%|\u2588\u2588\u2588\u2588\u2588     | 870/1712 [05:37<04:36,  3.04it/s]"
          ]
        },
        {
          "output_type": "stream",
          "name": "stderr",
          "text": [
            "\rExtracting test embeddings (orig):  51%|\u2588\u2588\u2588\u2588\u2588     | 871/1712 [05:37<05:35,  2.51it/s]"
          ]
        },
        {
          "output_type": "stream",
          "name": "stderr",
          "text": [
            "\rExtracting test embeddings (orig):  51%|\u2588\u2588\u2588\u2588\u2588     | 872/1712 [05:38<05:11,  2.70it/s]"
          ]
        },
        {
          "output_type": "stream",
          "name": "stderr",
          "text": [
            "\rExtracting test embeddings (orig):  51%|\u2588\u2588\u2588\u2588\u2588     | 873/1712 [05:38<04:58,  2.81it/s]"
          ]
        },
        {
          "output_type": "stream",
          "name": "stderr",
          "text": [
            "\rExtracting test embeddings (orig):  51%|\u2588\u2588\u2588\u2588\u2588     | 874/1712 [05:38<04:46,  2.93it/s]"
          ]
        },
        {
          "output_type": "stream",
          "name": "stderr",
          "text": [
            "\rExtracting test embeddings (orig):  51%|\u2588\u2588\u2588\u2588\u2588     | 875/1712 [05:39<05:36,  2.49it/s]"
          ]
        },
        {
          "output_type": "stream",
          "name": "stderr",
          "text": [
            "\rExtracting test embeddings (orig):  51%|\u2588\u2588\u2588\u2588\u2588     | 876/1712 [05:39<05:11,  2.69it/s]"
          ]
        },
        {
          "output_type": "stream",
          "name": "stderr",
          "text": [
            "\rExtracting test embeddings (orig):  51%|\u2588\u2588\u2588\u2588\u2588     | 877/1712 [05:39<04:56,  2.82it/s]"
          ]
        },
        {
          "output_type": "stream",
          "name": "stderr",
          "text": [
            "\rExtracting test embeddings (orig):  51%|\u2588\u2588\u2588\u2588\u2588\u258f    | 878/1712 [05:40<04:43,  2.94it/s]"
          ]
        },
        {
          "output_type": "stream",
          "name": "stderr",
          "text": [
            "\rExtracting test embeddings (orig):  51%|\u2588\u2588\u2588\u2588\u2588\u258f    | 879/1712 [05:40<05:36,  2.47it/s]"
          ]
        },
        {
          "output_type": "stream",
          "name": "stderr",
          "text": [
            "\rExtracting test embeddings (orig):  51%|\u2588\u2588\u2588\u2588\u2588\u258f    | 880/1712 [05:41<05:11,  2.67it/s]"
          ]
        },
        {
          "output_type": "stream",
          "name": "stderr",
          "text": [
            "\rExtracting test embeddings (orig):  51%|\u2588\u2588\u2588\u2588\u2588\u258f    | 881/1712 [05:41<04:55,  2.81it/s]"
          ]
        },
        {
          "output_type": "stream",
          "name": "stderr",
          "text": [
            "\rExtracting test embeddings (orig):  52%|\u2588\u2588\u2588\u2588\u2588\u258f    | 882/1712 [05:41<04:42,  2.93it/s]"
          ]
        },
        {
          "output_type": "stream",
          "name": "stderr",
          "text": [
            "\rExtracting test embeddings (orig):  52%|\u2588\u2588\u2588\u2588\u2588\u258f    | 883/1712 [05:42<05:36,  2.46it/s]"
          ]
        },
        {
          "output_type": "stream",
          "name": "stderr",
          "text": [
            "\rExtracting test embeddings (orig):  52%|\u2588\u2588\u2588\u2588\u2588\u258f    | 884/1712 [05:42<05:11,  2.66it/s]"
          ]
        },
        {
          "output_type": "stream",
          "name": "stderr",
          "text": [
            "\rExtracting test embeddings (orig):  52%|\u2588\u2588\u2588\u2588\u2588\u258f    | 885/1712 [05:42<04:55,  2.80it/s]"
          ]
        },
        {
          "output_type": "stream",
          "name": "stderr",
          "text": [
            "\rExtracting test embeddings (orig):  52%|\u2588\u2588\u2588\u2588\u2588\u258f    | 886/1712 [05:43<04:42,  2.93it/s]"
          ]
        },
        {
          "output_type": "stream",
          "name": "stderr",
          "text": [
            "\rExtracting test embeddings (orig):  52%|\u2588\u2588\u2588\u2588\u2588\u258f    | 887/1712 [05:43<05:24,  2.54it/s]"
          ]
        },
        {
          "output_type": "stream",
          "name": "stderr",
          "text": [
            "\rExtracting test embeddings (orig):  52%|\u2588\u2588\u2588\u2588\u2588\u258f    | 888/1712 [05:43<05:02,  2.72it/s]"
          ]
        },
        {
          "output_type": "stream",
          "name": "stderr",
          "text": [
            "\rExtracting test embeddings (orig):  52%|\u2588\u2588\u2588\u2588\u2588\u258f    | 889/1712 [05:44<04:50,  2.84it/s]"
          ]
        },
        {
          "output_type": "stream",
          "name": "stderr",
          "text": [
            "\rExtracting test embeddings (orig):  52%|\u2588\u2588\u2588\u2588\u2588\u258f    | 890/1712 [05:44<04:38,  2.95it/s]"
          ]
        },
        {
          "output_type": "stream",
          "name": "stderr",
          "text": [
            "\rExtracting test embeddings (orig):  52%|\u2588\u2588\u2588\u2588\u2588\u258f    | 891/1712 [05:45<05:29,  2.49it/s]"
          ]
        },
        {
          "output_type": "stream",
          "name": "stderr",
          "text": [
            "\rExtracting test embeddings (orig):  52%|\u2588\u2588\u2588\u2588\u2588\u258f    | 892/1712 [05:45<05:05,  2.68it/s]"
          ]
        },
        {
          "output_type": "stream",
          "name": "stderr",
          "text": [
            "\rExtracting test embeddings (orig):  52%|\u2588\u2588\u2588\u2588\u2588\u258f    | 893/1712 [05:45<04:51,  2.80it/s]"
          ]
        },
        {
          "output_type": "stream",
          "name": "stderr",
          "text": [
            "\rExtracting test embeddings (orig):  52%|\u2588\u2588\u2588\u2588\u2588\u258f    | 894/1712 [05:46<04:47,  2.85it/s]"
          ]
        },
        {
          "output_type": "stream",
          "name": "stderr",
          "text": [
            "\rExtracting test embeddings (orig):  52%|\u2588\u2588\u2588\u2588\u2588\u258f    | 895/1712 [05:46<05:32,  2.46it/s]"
          ]
        },
        {
          "output_type": "stream",
          "name": "stderr",
          "text": [
            "\rExtracting test embeddings (orig):  52%|\u2588\u2588\u2588\u2588\u2588\u258f    | 896/1712 [05:46<05:06,  2.66it/s]"
          ]
        },
        {
          "output_type": "stream",
          "name": "stderr",
          "text": [
            "\rExtracting test embeddings (orig):  52%|\u2588\u2588\u2588\u2588\u2588\u258f    | 897/1712 [05:47<04:51,  2.80it/s]"
          ]
        },
        {
          "output_type": "stream",
          "name": "stderr",
          "text": [
            "\rExtracting test embeddings (orig):  52%|\u2588\u2588\u2588\u2588\u2588\u258f    | 898/1712 [05:47<04:42,  2.88it/s]"
          ]
        },
        {
          "output_type": "stream",
          "name": "stderr",
          "text": [
            "\rExtracting test embeddings (orig):  53%|\u2588\u2588\u2588\u2588\u2588\u258e    | 899/1712 [05:48<05:32,  2.45it/s]"
          ]
        },
        {
          "output_type": "stream",
          "name": "stderr",
          "text": [
            "\rExtracting test embeddings (orig):  53%|\u2588\u2588\u2588\u2588\u2588\u258e    | 900/1712 [05:48<05:06,  2.65it/s]"
          ]
        },
        {
          "output_type": "stream",
          "name": "stderr",
          "text": [
            "\rExtracting test embeddings (orig):  53%|\u2588\u2588\u2588\u2588\u2588\u258e    | 901/1712 [05:48<04:50,  2.79it/s]"
          ]
        },
        {
          "output_type": "stream",
          "name": "stderr",
          "text": [
            "\rExtracting test embeddings (orig):  53%|\u2588\u2588\u2588\u2588\u2588\u258e    | 902/1712 [05:49<04:37,  2.91it/s]"
          ]
        },
        {
          "output_type": "stream",
          "name": "stderr",
          "text": [
            "\rExtracting test embeddings (orig):  53%|\u2588\u2588\u2588\u2588\u2588\u258e    | 903/1712 [05:49<05:33,  2.43it/s]"
          ]
        },
        {
          "output_type": "stream",
          "name": "stderr",
          "text": [
            "\rExtracting test embeddings (orig):  53%|\u2588\u2588\u2588\u2588\u2588\u258e    | 904/1712 [05:49<05:07,  2.63it/s]"
          ]
        },
        {
          "output_type": "stream",
          "name": "stderr",
          "text": [
            "\rExtracting test embeddings (orig):  53%|\u2588\u2588\u2588\u2588\u2588\u258e    | 905/1712 [05:50<04:50,  2.78it/s]"
          ]
        },
        {
          "output_type": "stream",
          "name": "stderr",
          "text": [
            "\rExtracting test embeddings (orig):  53%|\u2588\u2588\u2588\u2588\u2588\u258e    | 906/1712 [05:50<04:37,  2.90it/s]"
          ]
        },
        {
          "output_type": "stream",
          "name": "stderr",
          "text": [
            "\rExtracting test embeddings (orig):  53%|\u2588\u2588\u2588\u2588\u2588\u258e    | 907/1712 [05:51<05:27,  2.46it/s]"
          ]
        },
        {
          "output_type": "stream",
          "name": "stderr",
          "text": [
            "\rExtracting test embeddings (orig):  53%|\u2588\u2588\u2588\u2588\u2588\u258e    | 908/1712 [05:51<05:02,  2.65it/s]"
          ]
        },
        {
          "output_type": "stream",
          "name": "stderr",
          "text": [
            "\rExtracting test embeddings (orig):  53%|\u2588\u2588\u2588\u2588\u2588\u258e    | 909/1712 [05:51<04:47,  2.79it/s]"
          ]
        },
        {
          "output_type": "stream",
          "name": "stderr",
          "text": [
            "\rExtracting test embeddings (orig):  53%|\u2588\u2588\u2588\u2588\u2588\u258e    | 910/1712 [05:52<04:34,  2.92it/s]"
          ]
        },
        {
          "output_type": "stream",
          "name": "stderr",
          "text": [
            "\rExtracting test embeddings (orig):  53%|\u2588\u2588\u2588\u2588\u2588\u258e    | 911/1712 [05:52<06:40,  2.00it/s]"
          ]
        },
        {
          "output_type": "stream",
          "name": "stderr",
          "text": [
            "\rExtracting test embeddings (orig):  53%|\u2588\u2588\u2588\u2588\u2588\u258e    | 912/1712 [05:53<05:53,  2.27it/s]"
          ]
        },
        {
          "output_type": "stream",
          "name": "stderr",
          "text": [
            "\rExtracting test embeddings (orig):  53%|\u2588\u2588\u2588\u2588\u2588\u258e    | 913/1712 [05:53<05:23,  2.47it/s]"
          ]
        },
        {
          "output_type": "stream",
          "name": "stderr",
          "text": [
            "\rExtracting test embeddings (orig):  53%|\u2588\u2588\u2588\u2588\u2588\u258e    | 914/1712 [05:53<04:59,  2.66it/s]"
          ]
        },
        {
          "output_type": "stream",
          "name": "stderr",
          "text": [
            "\rExtracting test embeddings (orig):  53%|\u2588\u2588\u2588\u2588\u2588\u258e    | 915/1712 [05:54<05:41,  2.34it/s]"
          ]
        },
        {
          "output_type": "stream",
          "name": "stderr",
          "text": [
            "\rExtracting test embeddings (orig):  54%|\u2588\u2588\u2588\u2588\u2588\u258e    | 916/1712 [05:54<05:12,  2.55it/s]"
          ]
        },
        {
          "output_type": "stream",
          "name": "stderr",
          "text": [
            "\rExtracting test embeddings (orig):  54%|\u2588\u2588\u2588\u2588\u2588\u258e    | 917/1712 [05:54<04:53,  2.71it/s]"
          ]
        },
        {
          "output_type": "stream",
          "name": "stderr",
          "text": [
            "\rExtracting test embeddings (orig):  54%|\u2588\u2588\u2588\u2588\u2588\u258e    | 918/1712 [05:55<04:38,  2.86it/s]"
          ]
        },
        {
          "output_type": "stream",
          "name": "stderr",
          "text": [
            "\rExtracting test embeddings (orig):  54%|\u2588\u2588\u2588\u2588\u2588\u258e    | 919/1712 [05:55<05:28,  2.42it/s]"
          ]
        },
        {
          "output_type": "stream",
          "name": "stderr",
          "text": [
            "\rExtracting test embeddings (orig):  54%|\u2588\u2588\u2588\u2588\u2588\u258e    | 920/1712 [05:56<05:01,  2.62it/s]"
          ]
        },
        {
          "output_type": "stream",
          "name": "stderr",
          "text": [
            "\rExtracting test embeddings (orig):  54%|\u2588\u2588\u2588\u2588\u2588\u258d    | 921/1712 [05:56<04:46,  2.76it/s]"
          ]
        },
        {
          "output_type": "stream",
          "name": "stderr",
          "text": [
            "\rExtracting test embeddings (orig):  54%|\u2588\u2588\u2588\u2588\u2588\u258d    | 922/1712 [05:56<04:34,  2.88it/s]"
          ]
        },
        {
          "output_type": "stream",
          "name": "stderr",
          "text": [
            "\rExtracting test embeddings (orig):  54%|\u2588\u2588\u2588\u2588\u2588\u258d    | 923/1712 [05:57<05:35,  2.35it/s]"
          ]
        },
        {
          "output_type": "stream",
          "name": "stderr",
          "text": [
            "\rExtracting test embeddings (orig):  54%|\u2588\u2588\u2588\u2588\u2588\u258d    | 924/1712 [05:57<05:06,  2.57it/s]"
          ]
        },
        {
          "output_type": "stream",
          "name": "stderr",
          "text": [
            "\rExtracting test embeddings (orig):  54%|\u2588\u2588\u2588\u2588\u2588\u258d    | 925/1712 [05:58<04:50,  2.71it/s]"
          ]
        },
        {
          "output_type": "stream",
          "name": "stderr",
          "text": [
            "\rExtracting test embeddings (orig):  54%|\u2588\u2588\u2588\u2588\u2588\u258d    | 926/1712 [05:58<04:35,  2.85it/s]"
          ]
        },
        {
          "output_type": "stream",
          "name": "stderr",
          "text": [
            "\rExtracting test embeddings (orig):  54%|\u2588\u2588\u2588\u2588\u2588\u258d    | 927/1712 [05:58<04:54,  2.67it/s]"
          ]
        },
        {
          "output_type": "stream",
          "name": "stderr",
          "text": [
            "\rExtracting test embeddings (orig):  54%|\u2588\u2588\u2588\u2588\u2588\u258d    | 928/1712 [05:59<04:37,  2.82it/s]"
          ]
        },
        {
          "output_type": "stream",
          "name": "stderr",
          "text": [
            "\rExtracting test embeddings (orig):  54%|\u2588\u2588\u2588\u2588\u2588\u258d    | 929/1712 [05:59<04:28,  2.92it/s]"
          ]
        },
        {
          "output_type": "stream",
          "name": "stderr",
          "text": [
            "\rExtracting test embeddings (orig):  54%|\u2588\u2588\u2588\u2588\u2588\u258d    | 930/1712 [05:59<04:36,  2.83it/s]"
          ]
        },
        {
          "output_type": "stream",
          "name": "stderr",
          "text": [
            "\rExtracting test embeddings (orig):  54%|\u2588\u2588\u2588\u2588\u2588\u258d    | 931/1712 [06:00<05:14,  2.48it/s]"
          ]
        },
        {
          "output_type": "stream",
          "name": "stderr",
          "text": [
            "\rExtracting test embeddings (orig):  54%|\u2588\u2588\u2588\u2588\u2588\u258d    | 932/1712 [06:00<04:51,  2.67it/s]"
          ]
        },
        {
          "output_type": "stream",
          "name": "stderr",
          "text": [
            "\rExtracting test embeddings (orig):  54%|\u2588\u2588\u2588\u2588\u2588\u258d    | 933/1712 [06:00<04:37,  2.81it/s]"
          ]
        },
        {
          "output_type": "stream",
          "name": "stderr",
          "text": [
            "\rExtracting test embeddings (orig):  55%|\u2588\u2588\u2588\u2588\u2588\u258d    | 934/1712 [06:01<04:35,  2.82it/s]"
          ]
        },
        {
          "output_type": "stream",
          "name": "stderr",
          "text": [
            "\rExtracting test embeddings (orig):  55%|\u2588\u2588\u2588\u2588\u2588\u258d    | 935/1712 [06:01<04:40,  2.77it/s]"
          ]
        },
        {
          "output_type": "stream",
          "name": "stderr",
          "text": [
            "\rExtracting test embeddings (orig):  55%|\u2588\u2588\u2588\u2588\u2588\u258d    | 936/1712 [06:01<04:32,  2.85it/s]"
          ]
        },
        {
          "output_type": "stream",
          "name": "stderr",
          "text": [
            "\rExtracting test embeddings (orig):  55%|\u2588\u2588\u2588\u2588\u2588\u258d    | 937/1712 [06:02<04:23,  2.94it/s]"
          ]
        },
        {
          "output_type": "stream",
          "name": "stderr",
          "text": [
            "\rExtracting test embeddings (orig):  55%|\u2588\u2588\u2588\u2588\u2588\u258d    | 938/1712 [06:02<05:23,  2.39it/s]"
          ]
        },
        {
          "output_type": "stream",
          "name": "stderr",
          "text": [
            "\rExtracting test embeddings (orig):  55%|\u2588\u2588\u2588\u2588\u2588\u258d    | 939/1712 [06:03<04:56,  2.61it/s]"
          ]
        },
        {
          "output_type": "stream",
          "name": "stderr",
          "text": [
            "\rExtracting test embeddings (orig):  55%|\u2588\u2588\u2588\u2588\u2588\u258d    | 940/1712 [06:03<04:40,  2.75it/s]"
          ]
        },
        {
          "output_type": "stream",
          "name": "stderr",
          "text": [
            "\rExtracting test embeddings (orig):  55%|\u2588\u2588\u2588\u2588\u2588\u258d    | 941/1712 [06:03<04:27,  2.88it/s]"
          ]
        },
        {
          "output_type": "stream",
          "name": "stderr",
          "text": [
            "\rExtracting test embeddings (orig):  55%|\u2588\u2588\u2588\u2588\u2588\u258c    | 942/1712 [06:04<05:30,  2.33it/s]"
          ]
        },
        {
          "output_type": "stream",
          "name": "stderr",
          "text": [
            "\rExtracting test embeddings (orig):  55%|\u2588\u2588\u2588\u2588\u2588\u258c    | 943/1712 [06:04<05:01,  2.55it/s]"
          ]
        },
        {
          "output_type": "stream",
          "name": "stderr",
          "text": [
            "\rExtracting test embeddings (orig):  55%|\u2588\u2588\u2588\u2588\u2588\u258c    | 944/1712 [06:05<04:43,  2.71it/s]"
          ]
        },
        {
          "output_type": "stream",
          "name": "stderr",
          "text": [
            "\rExtracting test embeddings (orig):  55%|\u2588\u2588\u2588\u2588\u2588\u258c    | 945/1712 [06:05<04:28,  2.85it/s]"
          ]
        },
        {
          "output_type": "stream",
          "name": "stderr",
          "text": [
            "\rExtracting test embeddings (orig):  55%|\u2588\u2588\u2588\u2588\u2588\u258c    | 946/1712 [06:05<05:16,  2.42it/s]"
          ]
        },
        {
          "output_type": "stream",
          "name": "stderr",
          "text": [
            "\rExtracting test embeddings (orig):  55%|\u2588\u2588\u2588\u2588\u2588\u258c    | 947/1712 [06:06<05:12,  2.45it/s]"
          ]
        },
        {
          "output_type": "stream",
          "name": "stderr",
          "text": [
            "\rExtracting test embeddings (orig):  55%|\u2588\u2588\u2588\u2588\u2588\u258c    | 948/1712 [06:06<04:48,  2.65it/s]"
          ]
        },
        {
          "output_type": "stream",
          "name": "stderr",
          "text": [
            "\rExtracting test embeddings (orig):  55%|\u2588\u2588\u2588\u2588\u2588\u258c    | 949/1712 [06:06<04:32,  2.80it/s]"
          ]
        },
        {
          "output_type": "stream",
          "name": "stderr",
          "text": [
            "\rExtracting test embeddings (orig):  55%|\u2588\u2588\u2588\u2588\u2588\u258c    | 950/1712 [06:07<05:00,  2.54it/s]"
          ]
        },
        {
          "output_type": "stream",
          "name": "stderr",
          "text": [
            "\rExtracting test embeddings (orig):  56%|\u2588\u2588\u2588\u2588\u2588\u258c    | 951/1712 [06:07<04:39,  2.72it/s]"
          ]
        },
        {
          "output_type": "stream",
          "name": "stderr",
          "text": [
            "\rExtracting test embeddings (orig):  56%|\u2588\u2588\u2588\u2588\u2588\u258c    | 952/1712 [06:08<04:27,  2.84it/s]"
          ]
        },
        {
          "output_type": "stream",
          "name": "stderr",
          "text": [
            "\rExtracting test embeddings (orig):  56%|\u2588\u2588\u2588\u2588\u2588\u258c    | 953/1712 [06:08<04:16,  2.96it/s]"
          ]
        },
        {
          "output_type": "stream",
          "name": "stderr",
          "text": [
            "\rExtracting test embeddings (orig):  56%|\u2588\u2588\u2588\u2588\u2588\u258c    | 954/1712 [06:09<05:34,  2.27it/s]"
          ]
        },
        {
          "output_type": "stream",
          "name": "stderr",
          "text": [
            "\rExtracting test embeddings (orig):  56%|\u2588\u2588\u2588\u2588\u2588\u258c    | 955/1712 [06:09<05:02,  2.50it/s]"
          ]
        },
        {
          "output_type": "stream",
          "name": "stderr",
          "text": [
            "\rExtracting test embeddings (orig):  56%|\u2588\u2588\u2588\u2588\u2588\u258c    | 956/1712 [06:09<04:44,  2.66it/s]"
          ]
        },
        {
          "output_type": "stream",
          "name": "stderr",
          "text": [
            "\rExtracting test embeddings (orig):  56%|\u2588\u2588\u2588\u2588\u2588\u258c    | 957/1712 [06:09<04:28,  2.81it/s]"
          ]
        },
        {
          "output_type": "stream",
          "name": "stderr",
          "text": [
            "\rExtracting test embeddings (orig):  56%|\u2588\u2588\u2588\u2588\u2588\u258c    | 958/1712 [06:10<05:16,  2.38it/s]"
          ]
        },
        {
          "output_type": "stream",
          "name": "stderr",
          "text": [
            "\rExtracting test embeddings (orig):  56%|\u2588\u2588\u2588\u2588\u2588\u258c    | 959/1712 [06:10<04:50,  2.59it/s]"
          ]
        },
        {
          "output_type": "stream",
          "name": "stderr",
          "text": [
            "\rExtracting test embeddings (orig):  56%|\u2588\u2588\u2588\u2588\u2588\u258c    | 960/1712 [06:11<04:35,  2.73it/s]"
          ]
        },
        {
          "output_type": "stream",
          "name": "stderr",
          "text": [
            "\rExtracting test embeddings (orig):  56%|\u2588\u2588\u2588\u2588\u2588\u258c    | 961/1712 [06:11<04:21,  2.87it/s]"
          ]
        },
        {
          "output_type": "stream",
          "name": "stderr",
          "text": [
            "\rExtracting test embeddings (orig):  56%|\u2588\u2588\u2588\u2588\u2588\u258c    | 962/1712 [06:11<05:01,  2.49it/s]"
          ]
        },
        {
          "output_type": "stream",
          "name": "stderr",
          "text": [
            "\rExtracting test embeddings (orig):  56%|\u2588\u2588\u2588\u2588\u2588\u258b    | 963/1712 [06:12<04:39,  2.68it/s]"
          ]
        },
        {
          "output_type": "stream",
          "name": "stderr",
          "text": [
            "\rExtracting test embeddings (orig):  56%|\u2588\u2588\u2588\u2588\u2588\u258b    | 964/1712 [06:12<04:27,  2.80it/s]"
          ]
        },
        {
          "output_type": "stream",
          "name": "stderr",
          "text": [
            "\rExtracting test embeddings (orig):  56%|\u2588\u2588\u2588\u2588\u2588\u258b    | 965/1712 [06:12<04:15,  2.92it/s]"
          ]
        },
        {
          "output_type": "stream",
          "name": "stderr",
          "text": [
            "\rExtracting test embeddings (orig):  56%|\u2588\u2588\u2588\u2588\u2588\u258b    | 966/1712 [06:13<05:07,  2.43it/s]"
          ]
        },
        {
          "output_type": "stream",
          "name": "stderr",
          "text": [
            "\rExtracting test embeddings (orig):  56%|\u2588\u2588\u2588\u2588\u2588\u258b    | 967/1712 [06:13<04:42,  2.63it/s]"
          ]
        },
        {
          "output_type": "stream",
          "name": "stderr",
          "text": [
            "\rExtracting test embeddings (orig):  57%|\u2588\u2588\u2588\u2588\u2588\u258b    | 968/1712 [06:14<04:27,  2.78it/s]"
          ]
        },
        {
          "output_type": "stream",
          "name": "stderr",
          "text": [
            "\rExtracting test embeddings (orig):  57%|\u2588\u2588\u2588\u2588\u2588\u258b    | 969/1712 [06:14<04:15,  2.90it/s]"
          ]
        },
        {
          "output_type": "stream",
          "name": "stderr",
          "text": [
            "\rExtracting test embeddings (orig):  57%|\u2588\u2588\u2588\u2588\u2588\u258b    | 970/1712 [06:15<05:12,  2.38it/s]"
          ]
        },
        {
          "output_type": "stream",
          "name": "stderr",
          "text": [
            "\rExtracting test embeddings (orig):  57%|\u2588\u2588\u2588\u2588\u2588\u258b    | 971/1712 [06:15<04:45,  2.59it/s]"
          ]
        },
        {
          "output_type": "stream",
          "name": "stderr",
          "text": [
            "\rExtracting test embeddings (orig):  57%|\u2588\u2588\u2588\u2588\u2588\u258b    | 972/1712 [06:15<04:29,  2.74it/s]"
          ]
        },
        {
          "output_type": "stream",
          "name": "stderr",
          "text": [
            "\rExtracting test embeddings (orig):  57%|\u2588\u2588\u2588\u2588\u2588\u258b    | 973/1712 [06:15<04:16,  2.88it/s]"
          ]
        },
        {
          "output_type": "stream",
          "name": "stderr",
          "text": [
            "\rExtracting test embeddings (orig):  57%|\u2588\u2588\u2588\u2588\u2588\u258b    | 974/1712 [06:16<06:17,  1.96it/s]"
          ]
        },
        {
          "output_type": "stream",
          "name": "stderr",
          "text": [
            "\rExtracting test embeddings (orig):  57%|\u2588\u2588\u2588\u2588\u2588\u258b    | 975/1712 [06:17<05:30,  2.23it/s]"
          ]
        },
        {
          "output_type": "stream",
          "name": "stderr",
          "text": [
            "\rExtracting test embeddings (orig):  57%|\u2588\u2588\u2588\u2588\u2588\u258b    | 976/1712 [06:17<05:01,  2.44it/s]"
          ]
        },
        {
          "output_type": "stream",
          "name": "stderr",
          "text": [
            "\rExtracting test embeddings (orig):  57%|\u2588\u2588\u2588\u2588\u2588\u258b    | 977/1712 [06:17<04:38,  2.64it/s]"
          ]
        },
        {
          "output_type": "stream",
          "name": "stderr",
          "text": [
            "\rExtracting test embeddings (orig):  57%|\u2588\u2588\u2588\u2588\u2588\u258b    | 978/1712 [06:18<05:12,  2.35it/s]"
          ]
        },
        {
          "output_type": "stream",
          "name": "stderr",
          "text": [
            "\rExtracting test embeddings (orig):  57%|\u2588\u2588\u2588\u2588\u2588\u258b    | 979/1712 [06:18<04:45,  2.56it/s]"
          ]
        },
        {
          "output_type": "stream",
          "name": "stderr",
          "text": [
            "\rExtracting test embeddings (orig):  57%|\u2588\u2588\u2588\u2588\u2588\u258b    | 980/1712 [06:18<04:30,  2.71it/s]"
          ]
        },
        {
          "output_type": "stream",
          "name": "stderr",
          "text": [
            "\rExtracting test embeddings (orig):  57%|\u2588\u2588\u2588\u2588\u2588\u258b    | 981/1712 [06:19<04:16,  2.85it/s]"
          ]
        },
        {
          "output_type": "stream",
          "name": "stderr",
          "text": [
            "\rExtracting test embeddings (orig):  57%|\u2588\u2588\u2588\u2588\u2588\u258b    | 982/1712 [06:19<05:10,  2.35it/s]"
          ]
        },
        {
          "output_type": "stream",
          "name": "stderr",
          "text": [
            "\rExtracting test embeddings (orig):  57%|\u2588\u2588\u2588\u2588\u2588\u258b    | 983/1712 [06:20<04:43,  2.57it/s]"
          ]
        },
        {
          "output_type": "stream",
          "name": "stderr",
          "text": [
            "\rExtracting test embeddings (orig):  57%|\u2588\u2588\u2588\u2588\u2588\u258b    | 984/1712 [06:20<04:27,  2.72it/s]"
          ]
        },
        {
          "output_type": "stream",
          "name": "stderr",
          "text": [
            "\rExtracting test embeddings (orig):  58%|\u2588\u2588\u2588\u2588\u2588\u258a    | 985/1712 [06:20<04:14,  2.86it/s]"
          ]
        },
        {
          "output_type": "stream",
          "name": "stderr",
          "text": [
            "\rExtracting test embeddings (orig):  58%|\u2588\u2588\u2588\u2588\u2588\u258a    | 986/1712 [06:21<04:59,  2.43it/s]"
          ]
        },
        {
          "output_type": "stream",
          "name": "stderr",
          "text": [
            "\rExtracting test embeddings (orig):  58%|\u2588\u2588\u2588\u2588\u2588\u258a    | 987/1712 [06:21<04:35,  2.63it/s]"
          ]
        },
        {
          "output_type": "stream",
          "name": "stderr",
          "text": [
            "\rExtracting test embeddings (orig):  58%|\u2588\u2588\u2588\u2588\u2588\u258a    | 988/1712 [06:21<04:21,  2.77it/s]"
          ]
        },
        {
          "output_type": "stream",
          "name": "stderr",
          "text": [
            "\rExtracting test embeddings (orig):  58%|\u2588\u2588\u2588\u2588\u2588\u258a    | 989/1712 [06:22<04:09,  2.90it/s]"
          ]
        },
        {
          "output_type": "stream",
          "name": "stderr",
          "text": [
            "\rExtracting test embeddings (orig):  58%|\u2588\u2588\u2588\u2588\u2588\u258a    | 990/1712 [06:22<05:01,  2.39it/s]"
          ]
        },
        {
          "output_type": "stream",
          "name": "stderr",
          "text": [
            "\rExtracting test embeddings (orig):  58%|\u2588\u2588\u2588\u2588\u2588\u258a    | 991/1712 [06:23<04:36,  2.60it/s]"
          ]
        },
        {
          "output_type": "stream",
          "name": "stderr",
          "text": [
            "\rExtracting test embeddings (orig):  58%|\u2588\u2588\u2588\u2588\u2588\u258a    | 992/1712 [06:23<04:22,  2.74it/s]"
          ]
        },
        {
          "output_type": "stream",
          "name": "stderr",
          "text": [
            "\rExtracting test embeddings (orig):  58%|\u2588\u2588\u2588\u2588\u2588\u258a    | 993/1712 [06:23<04:09,  2.88it/s]"
          ]
        },
        {
          "output_type": "stream",
          "name": "stderr",
          "text": [
            "\rExtracting test embeddings (orig):  58%|\u2588\u2588\u2588\u2588\u2588\u258a    | 994/1712 [06:24<04:16,  2.80it/s]"
          ]
        },
        {
          "output_type": "stream",
          "name": "stderr",
          "text": [
            "\rExtracting test embeddings (orig):  58%|\u2588\u2588\u2588\u2588\u2588\u258a    | 995/1712 [06:24<04:04,  2.93it/s]"
          ]
        },
        {
          "output_type": "stream",
          "name": "stderr",
          "text": [
            "\rExtracting test embeddings (orig):  58%|\u2588\u2588\u2588\u2588\u2588\u258a    | 996/1712 [06:24<03:58,  3.00it/s]"
          ]
        },
        {
          "output_type": "stream",
          "name": "stderr",
          "text": [
            "\rExtracting test embeddings (orig):  58%|\u2588\u2588\u2588\u2588\u2588\u258a    | 997/1712 [06:25<03:52,  3.07it/s]"
          ]
        },
        {
          "output_type": "stream",
          "name": "stderr",
          "text": [
            "\rExtracting test embeddings (orig):  58%|\u2588\u2588\u2588\u2588\u2588\u258a    | 998/1712 [06:25<04:51,  2.45it/s]"
          ]
        },
        {
          "output_type": "stream",
          "name": "stderr",
          "text": [
            "\rExtracting test embeddings (orig):  58%|\u2588\u2588\u2588\u2588\u2588\u258a    | 999/1712 [06:25<04:29,  2.65it/s]"
          ]
        },
        {
          "output_type": "stream",
          "name": "stderr",
          "text": [
            "\rExtracting test embeddings (orig):  58%|\u2588\u2588\u2588\u2588\u2588\u258a    | 1000/1712 [06:26<04:16,  2.78it/s]"
          ]
        },
        {
          "output_type": "stream",
          "name": "stderr",
          "text": [
            "\rExtracting test embeddings (orig):  58%|\u2588\u2588\u2588\u2588\u2588\u258a    | 1001/1712 [06:26<04:04,  2.91it/s]"
          ]
        },
        {
          "output_type": "stream",
          "name": "stderr",
          "text": [
            "\rExtracting test embeddings (orig):  59%|\u2588\u2588\u2588\u2588\u2588\u258a    | 1002/1712 [06:27<04:19,  2.74it/s]"
          ]
        },
        {
          "output_type": "stream",
          "name": "stderr",
          "text": [
            "\rExtracting test embeddings (orig):  59%|\u2588\u2588\u2588\u2588\u2588\u258a    | 1003/1712 [06:27<04:10,  2.83it/s]"
          ]
        },
        {
          "output_type": "stream",
          "name": "stderr",
          "text": [
            "\rExtracting test embeddings (orig):  59%|\u2588\u2588\u2588\u2588\u2588\u258a    | 1004/1712 [06:27<04:00,  2.95it/s]"
          ]
        },
        {
          "output_type": "stream",
          "name": "stderr",
          "text": [
            "\rExtracting test embeddings (orig):  59%|\u2588\u2588\u2588\u2588\u2588\u258a    | 1005/1712 [06:27<03:54,  3.02it/s]"
          ]
        },
        {
          "output_type": "stream",
          "name": "stderr",
          "text": [
            "\rExtracting test embeddings (orig):  59%|\u2588\u2588\u2588\u2588\u2588\u2589    | 1006/1712 [06:28<04:50,  2.43it/s]"
          ]
        },
        {
          "output_type": "stream",
          "name": "stderr",
          "text": [
            "\rExtracting test embeddings (orig):  59%|\u2588\u2588\u2588\u2588\u2588\u2589    | 1007/1712 [06:28<04:29,  2.62it/s]"
          ]
        },
        {
          "output_type": "stream",
          "name": "stderr",
          "text": [
            "\rExtracting test embeddings (orig):  59%|\u2588\u2588\u2588\u2588\u2588\u2589    | 1008/1712 [06:29<04:14,  2.77it/s]"
          ]
        },
        {
          "output_type": "stream",
          "name": "stderr",
          "text": [
            "\rExtracting test embeddings (orig):  59%|\u2588\u2588\u2588\u2588\u2588\u2589    | 1009/1712 [06:29<04:03,  2.89it/s]"
          ]
        },
        {
          "output_type": "stream",
          "name": "stderr",
          "text": [
            "\rExtracting test embeddings (orig):  59%|\u2588\u2588\u2588\u2588\u2588\u2589    | 1010/1712 [06:30<05:18,  2.21it/s]"
          ]
        },
        {
          "output_type": "stream",
          "name": "stderr",
          "text": [
            "\rExtracting test embeddings (orig):  59%|\u2588\u2588\u2588\u2588\u2588\u2589    | 1011/1712 [06:30<04:46,  2.45it/s]"
          ]
        },
        {
          "output_type": "stream",
          "name": "stderr",
          "text": [
            "\rExtracting test embeddings (orig):  59%|\u2588\u2588\u2588\u2588\u2588\u2589    | 1012/1712 [06:30<04:26,  2.63it/s]"
          ]
        },
        {
          "output_type": "stream",
          "name": "stderr",
          "text": [
            "\rExtracting test embeddings (orig):  59%|\u2588\u2588\u2588\u2588\u2588\u2589    | 1013/1712 [06:31<04:10,  2.79it/s]"
          ]
        },
        {
          "output_type": "stream",
          "name": "stderr",
          "text": [
            "\rExtracting test embeddings (orig):  59%|\u2588\u2588\u2588\u2588\u2588\u2589    | 1014/1712 [06:31<05:46,  2.01it/s]"
          ]
        },
        {
          "output_type": "stream",
          "name": "stderr",
          "text": [
            "\rExtracting test embeddings (orig):  59%|\u2588\u2588\u2588\u2588\u2588\u2589    | 1015/1712 [06:32<05:06,  2.28it/s]"
          ]
        },
        {
          "output_type": "stream",
          "name": "stderr",
          "text": [
            "\rExtracting test embeddings (orig):  59%|\u2588\u2588\u2588\u2588\u2588\u2589    | 1016/1712 [06:32<04:40,  2.48it/s]"
          ]
        },
        {
          "output_type": "stream",
          "name": "stderr",
          "text": [
            "\rExtracting test embeddings (orig):  59%|\u2588\u2588\u2588\u2588\u2588\u2589    | 1017/1712 [06:32<04:20,  2.67it/s]"
          ]
        },
        {
          "output_type": "stream",
          "name": "stderr",
          "text": [
            "\rExtracting test embeddings (orig):  59%|\u2588\u2588\u2588\u2588\u2588\u2589    | 1018/1712 [06:33<04:56,  2.34it/s]"
          ]
        },
        {
          "output_type": "stream",
          "name": "stderr",
          "text": [
            "\rExtracting test embeddings (orig):  60%|\u2588\u2588\u2588\u2588\u2588\u2589    | 1019/1712 [06:33<04:31,  2.55it/s]"
          ]
        },
        {
          "output_type": "stream",
          "name": "stderr",
          "text": [
            "\rExtracting test embeddings (orig):  60%|\u2588\u2588\u2588\u2588\u2588\u2589    | 1020/1712 [06:34<04:14,  2.72it/s]"
          ]
        },
        {
          "output_type": "stream",
          "name": "stderr",
          "text": [
            "\rExtracting test embeddings (orig):  60%|\u2588\u2588\u2588\u2588\u2588\u2589    | 1021/1712 [06:34<04:01,  2.86it/s]"
          ]
        },
        {
          "output_type": "stream",
          "name": "stderr",
          "text": [
            "\rExtracting test embeddings (orig):  60%|\u2588\u2588\u2588\u2588\u2588\u2589    | 1022/1712 [06:34<04:12,  2.74it/s]"
          ]
        },
        {
          "output_type": "stream",
          "name": "stderr",
          "text": [
            "\rExtracting test embeddings (orig):  60%|\u2588\u2588\u2588\u2588\u2588\u2589    | 1023/1712 [06:35<03:59,  2.88it/s]"
          ]
        },
        {
          "output_type": "stream",
          "name": "stderr",
          "text": [
            "\rExtracting test embeddings (orig):  60%|\u2588\u2588\u2588\u2588\u2588\u2589    | 1024/1712 [06:35<03:52,  2.96it/s]"
          ]
        },
        {
          "output_type": "stream",
          "name": "stderr",
          "text": [
            "\rExtracting test embeddings (orig):  60%|\u2588\u2588\u2588\u2588\u2588\u2589    | 1025/1712 [06:35<03:46,  3.04it/s]"
          ]
        },
        {
          "output_type": "stream",
          "name": "stderr",
          "text": [
            "\rExtracting test embeddings (orig):  60%|\u2588\u2588\u2588\u2588\u2588\u2589    | 1026/1712 [06:36<04:34,  2.50it/s]"
          ]
        },
        {
          "output_type": "stream",
          "name": "stderr",
          "text": [
            "\rExtracting test embeddings (orig):  60%|\u2588\u2588\u2588\u2588\u2588\u2589    | 1027/1712 [06:36<04:14,  2.69it/s]"
          ]
        },
        {
          "output_type": "stream",
          "name": "stderr",
          "text": [
            "\rExtracting test embeddings (orig):  60%|\u2588\u2588\u2588\u2588\u2588\u2588    | 1028/1712 [06:36<04:02,  2.82it/s]"
          ]
        },
        {
          "output_type": "stream",
          "name": "stderr",
          "text": [
            "\rExtracting test embeddings (orig):  60%|\u2588\u2588\u2588\u2588\u2588\u2588    | 1029/1712 [06:37<03:52,  2.94it/s]"
          ]
        },
        {
          "output_type": "stream",
          "name": "stderr",
          "text": [
            "\rExtracting test embeddings (orig):  60%|\u2588\u2588\u2588\u2588\u2588\u2588    | 1030/1712 [06:37<04:05,  2.78it/s]"
          ]
        },
        {
          "output_type": "stream",
          "name": "stderr",
          "text": [
            "\rExtracting test embeddings (orig):  60%|\u2588\u2588\u2588\u2588\u2588\u2588    | 1031/1712 [06:37<03:54,  2.91it/s]"
          ]
        },
        {
          "output_type": "stream",
          "name": "stderr",
          "text": [
            "\rExtracting test embeddings (orig):  60%|\u2588\u2588\u2588\u2588\u2588\u2588    | 1032/1712 [06:38<03:47,  2.99it/s]"
          ]
        },
        {
          "output_type": "stream",
          "name": "stderr",
          "text": [
            "\rExtracting test embeddings (orig):  60%|\u2588\u2588\u2588\u2588\u2588\u2588    | 1033/1712 [06:38<03:41,  3.06it/s]"
          ]
        },
        {
          "output_type": "stream",
          "name": "stderr",
          "text": [
            "\rExtracting test embeddings (orig):  60%|\u2588\u2588\u2588\u2588\u2588\u2588    | 1034/1712 [06:39<04:27,  2.53it/s]"
          ]
        },
        {
          "output_type": "stream",
          "name": "stderr",
          "text": [
            "\rExtracting test embeddings (orig):  60%|\u2588\u2588\u2588\u2588\u2588\u2588    | 1035/1712 [06:39<04:13,  2.67it/s]"
          ]
        },
        {
          "output_type": "stream",
          "name": "stderr",
          "text": [
            "\rExtracting test embeddings (orig):  61%|\u2588\u2588\u2588\u2588\u2588\u2588    | 1036/1712 [06:39<03:59,  2.82it/s]"
          ]
        },
        {
          "output_type": "stream",
          "name": "stderr",
          "text": [
            "\rExtracting test embeddings (orig):  61%|\u2588\u2588\u2588\u2588\u2588\u2588    | 1037/1712 [06:40<03:50,  2.93it/s]"
          ]
        },
        {
          "output_type": "stream",
          "name": "stderr",
          "text": [
            "\rExtracting test embeddings (orig):  61%|\u2588\u2588\u2588\u2588\u2588\u2588    | 1038/1712 [06:40<05:03,  2.22it/s]"
          ]
        },
        {
          "output_type": "stream",
          "name": "stderr",
          "text": [
            "\rExtracting test embeddings (orig):  61%|\u2588\u2588\u2588\u2588\u2588\u2588    | 1039/1712 [06:41<04:33,  2.46it/s]"
          ]
        },
        {
          "output_type": "stream",
          "name": "stderr",
          "text": [
            "\rExtracting test embeddings (orig):  61%|\u2588\u2588\u2588\u2588\u2588\u2588    | 1040/1712 [06:41<04:15,  2.63it/s]"
          ]
        },
        {
          "output_type": "stream",
          "name": "stderr",
          "text": [
            "\rExtracting test embeddings (orig):  61%|\u2588\u2588\u2588\u2588\u2588\u2588    | 1041/1712 [06:41<04:01,  2.78it/s]"
          ]
        },
        {
          "output_type": "stream",
          "name": "stderr",
          "text": [
            "\rExtracting test embeddings (orig):  61%|\u2588\u2588\u2588\u2588\u2588\u2588    | 1042/1712 [06:42<04:09,  2.69it/s]"
          ]
        },
        {
          "output_type": "stream",
          "name": "stderr",
          "text": [
            "\rExtracting test embeddings (orig):  61%|\u2588\u2588\u2588\u2588\u2588\u2588    | 1043/1712 [06:42<03:58,  2.80it/s]"
          ]
        },
        {
          "output_type": "stream",
          "name": "stderr",
          "text": [
            "\rExtracting test embeddings (orig):  61%|\u2588\u2588\u2588\u2588\u2588\u2588    | 1044/1712 [06:42<03:48,  2.92it/s]"
          ]
        },
        {
          "output_type": "stream",
          "name": "stderr",
          "text": [
            "\rExtracting test embeddings (orig):  61%|\u2588\u2588\u2588\u2588\u2588\u2588    | 1045/1712 [06:43<03:42,  3.00it/s]"
          ]
        },
        {
          "output_type": "stream",
          "name": "stderr",
          "text": [
            "\rExtracting test embeddings (orig):  61%|\u2588\u2588\u2588\u2588\u2588\u2588    | 1046/1712 [06:43<05:30,  2.01it/s]"
          ]
        },
        {
          "output_type": "stream",
          "name": "stderr",
          "text": [
            "\rExtracting test embeddings (orig):  61%|\u2588\u2588\u2588\u2588\u2588\u2588    | 1047/1712 [06:44<04:51,  2.28it/s]"
          ]
        },
        {
          "output_type": "stream",
          "name": "stderr",
          "text": [
            "\rExtracting test embeddings (orig):  61%|\u2588\u2588\u2588\u2588\u2588\u2588    | 1048/1712 [06:44<04:27,  2.48it/s]"
          ]
        },
        {
          "output_type": "stream",
          "name": "stderr",
          "text": [
            "\rExtracting test embeddings (orig):  61%|\u2588\u2588\u2588\u2588\u2588\u2588\u258f   | 1049/1712 [06:44<04:07,  2.68it/s]"
          ]
        },
        {
          "output_type": "stream",
          "name": "stderr",
          "text": [
            "\rExtracting test embeddings (orig):  61%|\u2588\u2588\u2588\u2588\u2588\u2588\u258f   | 1050/1712 [06:45<04:42,  2.34it/s]"
          ]
        },
        {
          "output_type": "stream",
          "name": "stderr",
          "text": [
            "\rExtracting test embeddings (orig):  61%|\u2588\u2588\u2588\u2588\u2588\u2588\u258f   | 1051/1712 [06:45<04:17,  2.56it/s]"
          ]
        },
        {
          "output_type": "stream",
          "name": "stderr",
          "text": [
            "\rExtracting test embeddings (orig):  61%|\u2588\u2588\u2588\u2588\u2588\u2588\u258f   | 1052/1712 [06:45<04:02,  2.72it/s]"
          ]
        },
        {
          "output_type": "stream",
          "name": "stderr",
          "text": [
            "\rExtracting test embeddings (orig):  62%|\u2588\u2588\u2588\u2588\u2588\u2588\u258f   | 1053/1712 [06:46<03:49,  2.87it/s]"
          ]
        },
        {
          "output_type": "stream",
          "name": "stderr",
          "text": [
            "\rExtracting test embeddings (orig):  62%|\u2588\u2588\u2588\u2588\u2588\u2588\u258f   | 1054/1712 [06:46<04:34,  2.39it/s]"
          ]
        },
        {
          "output_type": "stream",
          "name": "stderr",
          "text": [
            "\rExtracting test embeddings (orig):  62%|\u2588\u2588\u2588\u2588\u2588\u2588\u258f   | 1055/1712 [06:47<04:12,  2.61it/s]"
          ]
        },
        {
          "output_type": "stream",
          "name": "stderr",
          "text": [
            "\rExtracting test embeddings (orig):  62%|\u2588\u2588\u2588\u2588\u2588\u2588\u258f   | 1056/1712 [06:47<03:59,  2.74it/s]"
          ]
        },
        {
          "output_type": "stream",
          "name": "stderr",
          "text": [
            "\rExtracting test embeddings (orig):  62%|\u2588\u2588\u2588\u2588\u2588\u2588\u258f   | 1057/1712 [06:47<03:47,  2.87it/s]"
          ]
        },
        {
          "output_type": "stream",
          "name": "stderr",
          "text": [
            "\rExtracting test embeddings (orig):  62%|\u2588\u2588\u2588\u2588\u2588\u2588\u258f   | 1058/1712 [06:48<04:25,  2.46it/s]"
          ]
        },
        {
          "output_type": "stream",
          "name": "stderr",
          "text": [
            "\rExtracting test embeddings (orig):  62%|\u2588\u2588\u2588\u2588\u2588\u2588\u258f   | 1059/1712 [06:48<04:05,  2.66it/s]"
          ]
        },
        {
          "output_type": "stream",
          "name": "stderr",
          "text": [
            "\rExtracting test embeddings (orig):  62%|\u2588\u2588\u2588\u2588\u2588\u2588\u258f   | 1060/1712 [06:48<03:53,  2.79it/s]"
          ]
        },
        {
          "output_type": "stream",
          "name": "stderr",
          "text": [
            "\rExtracting test embeddings (orig):  62%|\u2588\u2588\u2588\u2588\u2588\u2588\u258f   | 1061/1712 [06:49<03:42,  2.92it/s]"
          ]
        },
        {
          "output_type": "stream",
          "name": "stderr",
          "text": [
            "\rExtracting test embeddings (orig):  62%|\u2588\u2588\u2588\u2588\u2588\u2588\u258f   | 1062/1712 [06:49<04:08,  2.61it/s]"
          ]
        },
        {
          "output_type": "stream",
          "name": "stderr",
          "text": [
            "\rExtracting test embeddings (orig):  62%|\u2588\u2588\u2588\u2588\u2588\u2588\u258f   | 1063/1712 [06:50<03:52,  2.79it/s]"
          ]
        },
        {
          "output_type": "stream",
          "name": "stderr",
          "text": [
            "\rExtracting test embeddings (orig):  62%|\u2588\u2588\u2588\u2588\u2588\u2588\u258f   | 1064/1712 [06:50<03:43,  2.89it/s]"
          ]
        },
        {
          "output_type": "stream",
          "name": "stderr",
          "text": [
            "\rExtracting test embeddings (orig):  62%|\u2588\u2588\u2588\u2588\u2588\u2588\u258f   | 1065/1712 [06:50<03:35,  3.00it/s]"
          ]
        },
        {
          "output_type": "stream",
          "name": "stderr",
          "text": [
            "\rExtracting test embeddings (orig):  62%|\u2588\u2588\u2588\u2588\u2588\u2588\u258f   | 1066/1712 [06:51<04:21,  2.47it/s]"
          ]
        },
        {
          "output_type": "stream",
          "name": "stderr",
          "text": [
            "\rExtracting test embeddings (orig):  62%|\u2588\u2588\u2588\u2588\u2588\u2588\u258f   | 1067/1712 [06:51<04:01,  2.67it/s]"
          ]
        },
        {
          "output_type": "stream",
          "name": "stderr",
          "text": [
            "\rExtracting test embeddings (orig):  62%|\u2588\u2588\u2588\u2588\u2588\u2588\u258f   | 1068/1712 [06:51<03:49,  2.81it/s]"
          ]
        },
        {
          "output_type": "stream",
          "name": "stderr",
          "text": [
            "\rExtracting test embeddings (orig):  62%|\u2588\u2588\u2588\u2588\u2588\u2588\u258f   | 1069/1712 [06:52<03:39,  2.93it/s]"
          ]
        },
        {
          "output_type": "stream",
          "name": "stderr",
          "text": [
            "\rExtracting test embeddings (orig):  62%|\u2588\u2588\u2588\u2588\u2588\u2588\u258e   | 1070/1712 [06:52<04:22,  2.45it/s]"
          ]
        },
        {
          "output_type": "stream",
          "name": "stderr",
          "text": [
            "\rExtracting test embeddings (orig):  63%|\u2588\u2588\u2588\u2588\u2588\u2588\u258e   | 1071/1712 [06:53<04:02,  2.65it/s]"
          ]
        },
        {
          "output_type": "stream",
          "name": "stderr",
          "text": [
            "\rExtracting test embeddings (orig):  63%|\u2588\u2588\u2588\u2588\u2588\u2588\u258e   | 1072/1712 [06:53<03:50,  2.78it/s]"
          ]
        },
        {
          "output_type": "stream",
          "name": "stderr",
          "text": [
            "\rExtracting test embeddings (orig):  63%|\u2588\u2588\u2588\u2588\u2588\u2588\u258e   | 1073/1712 [06:53<03:39,  2.91it/s]"
          ]
        },
        {
          "output_type": "stream",
          "name": "stderr",
          "text": [
            "\rExtracting test embeddings (orig):  63%|\u2588\u2588\u2588\u2588\u2588\u2588\u258e   | 1074/1712 [06:54<04:20,  2.44it/s]"
          ]
        },
        {
          "output_type": "stream",
          "name": "stderr",
          "text": [
            "\rExtracting test embeddings (orig):  63%|\u2588\u2588\u2588\u2588\u2588\u2588\u258e   | 1075/1712 [06:54<04:00,  2.65it/s]"
          ]
        },
        {
          "output_type": "stream",
          "name": "stderr",
          "text": [
            "\rExtracting test embeddings (orig):  63%|\u2588\u2588\u2588\u2588\u2588\u2588\u258e   | 1076/1712 [06:54<03:48,  2.79it/s]"
          ]
        },
        {
          "output_type": "stream",
          "name": "stderr",
          "text": [
            "\rExtracting test embeddings (orig):  63%|\u2588\u2588\u2588\u2588\u2588\u2588\u258e   | 1077/1712 [06:55<03:37,  2.92it/s]"
          ]
        },
        {
          "output_type": "stream",
          "name": "stderr",
          "text": [
            "\rExtracting test embeddings (orig):  63%|\u2588\u2588\u2588\u2588\u2588\u2588\u258e   | 1078/1712 [06:55<04:21,  2.42it/s]"
          ]
        },
        {
          "output_type": "stream",
          "name": "stderr",
          "text": [
            "\rExtracting test embeddings (orig):  63%|\u2588\u2588\u2588\u2588\u2588\u2588\u258e   | 1079/1712 [06:56<04:01,  2.63it/s]"
          ]
        },
        {
          "output_type": "stream",
          "name": "stderr",
          "text": [
            "\rExtracting test embeddings (orig):  63%|\u2588\u2588\u2588\u2588\u2588\u2588\u258e   | 1080/1712 [06:56<03:48,  2.77it/s]"
          ]
        },
        {
          "output_type": "stream",
          "name": "stderr",
          "text": [
            "\rExtracting test embeddings (orig):  63%|\u2588\u2588\u2588\u2588\u2588\u2588\u258e   | 1081/1712 [06:56<03:37,  2.90it/s]"
          ]
        },
        {
          "output_type": "stream",
          "name": "stderr",
          "text": [
            "\rExtracting test embeddings (orig):  63%|\u2588\u2588\u2588\u2588\u2588\u2588\u258e   | 1082/1712 [06:57<04:28,  2.35it/s]"
          ]
        },
        {
          "output_type": "stream",
          "name": "stderr",
          "text": [
            "\rExtracting test embeddings (orig):  63%|\u2588\u2588\u2588\u2588\u2588\u2588\u258e   | 1083/1712 [06:57<04:04,  2.57it/s]"
          ]
        },
        {
          "output_type": "stream",
          "name": "stderr",
          "text": [
            "\rExtracting test embeddings (orig):  63%|\u2588\u2588\u2588\u2588\u2588\u2588\u258e   | 1084/1712 [06:57<03:51,  2.71it/s]"
          ]
        },
        {
          "output_type": "stream",
          "name": "stderr",
          "text": [
            "\rExtracting test embeddings (orig):  63%|\u2588\u2588\u2588\u2588\u2588\u2588\u258e   | 1085/1712 [06:58<03:39,  2.85it/s]"
          ]
        },
        {
          "output_type": "stream",
          "name": "stderr",
          "text": [
            "\rExtracting test embeddings (orig):  63%|\u2588\u2588\u2588\u2588\u2588\u2588\u258e   | 1086/1712 [06:58<04:22,  2.38it/s]"
          ]
        },
        {
          "output_type": "stream",
          "name": "stderr",
          "text": [
            "\rExtracting test embeddings (orig):  63%|\u2588\u2588\u2588\u2588\u2588\u2588\u258e   | 1087/1712 [06:59<04:00,  2.60it/s]"
          ]
        },
        {
          "output_type": "stream",
          "name": "stderr",
          "text": [
            "\rExtracting test embeddings (orig):  64%|\u2588\u2588\u2588\u2588\u2588\u2588\u258e   | 1088/1712 [06:59<03:47,  2.74it/s]"
          ]
        },
        {
          "output_type": "stream",
          "name": "stderr",
          "text": [
            "\rExtracting test embeddings (orig):  64%|\u2588\u2588\u2588\u2588\u2588\u2588\u258e   | 1089/1712 [06:59<03:36,  2.88it/s]"
          ]
        },
        {
          "output_type": "stream",
          "name": "stderr",
          "text": [
            "\rExtracting test embeddings (orig):  64%|\u2588\u2588\u2588\u2588\u2588\u2588\u258e   | 1090/1712 [07:00<04:51,  2.14it/s]"
          ]
        },
        {
          "output_type": "stream",
          "name": "stderr",
          "text": [
            "\rExtracting test embeddings (orig):  64%|\u2588\u2588\u2588\u2588\u2588\u2588\u258e   | 1091/1712 [07:00<04:20,  2.39it/s]"
          ]
        },
        {
          "output_type": "stream",
          "name": "stderr",
          "text": [
            "\rExtracting test embeddings (orig):  64%|\u2588\u2588\u2588\u2588\u2588\u2588\u258d   | 1092/1712 [07:01<04:00,  2.58it/s]"
          ]
        },
        {
          "output_type": "stream",
          "name": "stderr",
          "text": [
            "\rExtracting test embeddings (orig):  64%|\u2588\u2588\u2588\u2588\u2588\u2588\u258d   | 1093/1712 [07:01<03:44,  2.75it/s]"
          ]
        },
        {
          "output_type": "stream",
          "name": "stderr",
          "text": [
            "\rExtracting test embeddings (orig):  64%|\u2588\u2588\u2588\u2588\u2588\u2588\u258d   | 1094/1712 [07:01<04:20,  2.37it/s]"
          ]
        },
        {
          "output_type": "stream",
          "name": "stderr",
          "text": [
            "\rExtracting test embeddings (orig):  64%|\u2588\u2588\u2588\u2588\u2588\u2588\u258d   | 1095/1712 [07:02<03:58,  2.58it/s]"
          ]
        },
        {
          "output_type": "stream",
          "name": "stderr",
          "text": [
            "\rExtracting test embeddings (orig):  64%|\u2588\u2588\u2588\u2588\u2588\u2588\u258d   | 1096/1712 [07:02<03:45,  2.73it/s]"
          ]
        },
        {
          "output_type": "stream",
          "name": "stderr",
          "text": [
            "\rExtracting test embeddings (orig):  64%|\u2588\u2588\u2588\u2588\u2588\u2588\u258d   | 1097/1712 [07:02<03:34,  2.86it/s]"
          ]
        },
        {
          "output_type": "stream",
          "name": "stderr",
          "text": [
            "\rExtracting test embeddings (orig):  64%|\u2588\u2588\u2588\u2588\u2588\u2588\u258d   | 1098/1712 [07:03<04:20,  2.35it/s]"
          ]
        },
        {
          "output_type": "stream",
          "name": "stderr",
          "text": [
            "\rExtracting test embeddings (orig):  64%|\u2588\u2588\u2588\u2588\u2588\u2588\u258d   | 1099/1712 [07:03<03:58,  2.58it/s]"
          ]
        },
        {
          "output_type": "stream",
          "name": "stderr",
          "text": [
            "\rExtracting test embeddings (orig):  64%|\u2588\u2588\u2588\u2588\u2588\u2588\u258d   | 1100/1712 [07:04<03:43,  2.73it/s]"
          ]
        },
        {
          "output_type": "stream",
          "name": "stderr",
          "text": [
            "\rExtracting test embeddings (orig):  64%|\u2588\u2588\u2588\u2588\u2588\u2588\u258d   | 1101/1712 [07:04<03:32,  2.87it/s]"
          ]
        },
        {
          "output_type": "stream",
          "name": "stderr",
          "text": [
            "\rExtracting test embeddings (orig):  64%|\u2588\u2588\u2588\u2588\u2588\u2588\u258d   | 1102/1712 [07:04<04:11,  2.43it/s]"
          ]
        },
        {
          "output_type": "stream",
          "name": "stderr",
          "text": [
            "\rExtracting test embeddings (orig):  64%|\u2588\u2588\u2588\u2588\u2588\u2588\u258d   | 1103/1712 [07:05<03:51,  2.63it/s]"
          ]
        },
        {
          "output_type": "stream",
          "name": "stderr",
          "text": [
            "\rExtracting test embeddings (orig):  64%|\u2588\u2588\u2588\u2588\u2588\u2588\u258d   | 1104/1712 [07:05<03:39,  2.77it/s]"
          ]
        },
        {
          "output_type": "stream",
          "name": "stderr",
          "text": [
            "\rExtracting test embeddings (orig):  65%|\u2588\u2588\u2588\u2588\u2588\u2588\u258d   | 1105/1712 [07:05<03:29,  2.89it/s]"
          ]
        },
        {
          "output_type": "stream",
          "name": "stderr",
          "text": [
            "\rExtracting test embeddings (orig):  65%|\u2588\u2588\u2588\u2588\u2588\u2588\u258d   | 1106/1712 [07:06<03:31,  2.87it/s]"
          ]
        },
        {
          "output_type": "stream",
          "name": "stderr",
          "text": [
            "\rExtracting test embeddings (orig):  65%|\u2588\u2588\u2588\u2588\u2588\u2588\u258d   | 1107/1712 [07:06<03:23,  2.97it/s]"
          ]
        },
        {
          "output_type": "stream",
          "name": "stderr",
          "text": [
            "\rExtracting test embeddings (orig):  65%|\u2588\u2588\u2588\u2588\u2588\u2588\u258d   | 1108/1712 [07:06<03:18,  3.04it/s]"
          ]
        },
        {
          "output_type": "stream",
          "name": "stderr",
          "text": [
            "\rExtracting test embeddings (orig):  65%|\u2588\u2588\u2588\u2588\u2588\u2588\u258d   | 1109/1712 [07:07<03:14,  3.10it/s]"
          ]
        },
        {
          "output_type": "stream",
          "name": "stderr",
          "text": [
            "\rExtracting test embeddings (orig):  65%|\u2588\u2588\u2588\u2588\u2588\u2588\u258d   | 1110/1712 [07:07<03:55,  2.55it/s]"
          ]
        },
        {
          "output_type": "stream",
          "name": "stderr",
          "text": [
            "\rExtracting test embeddings (orig):  65%|\u2588\u2588\u2588\u2588\u2588\u2588\u258d   | 1111/1712 [07:08<03:40,  2.73it/s]"
          ]
        },
        {
          "output_type": "stream",
          "name": "stderr",
          "text": [
            "\rExtracting test embeddings (orig):  65%|\u2588\u2588\u2588\u2588\u2588\u2588\u258d   | 1112/1712 [07:08<03:30,  2.86it/s]"
          ]
        },
        {
          "output_type": "stream",
          "name": "stderr",
          "text": [
            "\rExtracting test embeddings (orig):  65%|\u2588\u2588\u2588\u2588\u2588\u2588\u258c   | 1113/1712 [07:08<03:22,  2.96it/s]"
          ]
        },
        {
          "output_type": "stream",
          "name": "stderr",
          "text": [
            "\rExtracting test embeddings (orig):  65%|\u2588\u2588\u2588\u2588\u2588\u2588\u258c   | 1114/1712 [07:09<04:01,  2.48it/s]"
          ]
        },
        {
          "output_type": "stream",
          "name": "stderr",
          "text": [
            "\rExtracting test embeddings (orig):  65%|\u2588\u2588\u2588\u2588\u2588\u2588\u258c   | 1115/1712 [07:09<03:43,  2.68it/s]"
          ]
        },
        {
          "output_type": "stream",
          "name": "stderr",
          "text": [
            "\rExtracting test embeddings (orig):  65%|\u2588\u2588\u2588\u2588\u2588\u2588\u258c   | 1116/1712 [07:09<03:31,  2.81it/s]"
          ]
        },
        {
          "output_type": "stream",
          "name": "stderr",
          "text": [
            "\rExtracting test embeddings (orig):  65%|\u2588\u2588\u2588\u2588\u2588\u2588\u258c   | 1117/1712 [07:10<03:22,  2.94it/s]"
          ]
        },
        {
          "output_type": "stream",
          "name": "stderr",
          "text": [
            "\rExtracting test embeddings (orig):  65%|\u2588\u2588\u2588\u2588\u2588\u2588\u258c   | 1118/1712 [07:10<04:02,  2.45it/s]"
          ]
        },
        {
          "output_type": "stream",
          "name": "stderr",
          "text": [
            "\rExtracting test embeddings (orig):  65%|\u2588\u2588\u2588\u2588\u2588\u2588\u258c   | 1119/1712 [07:11<03:44,  2.64it/s]"
          ]
        },
        {
          "output_type": "stream",
          "name": "stderr",
          "text": [
            "\rExtracting test embeddings (orig):  65%|\u2588\u2588\u2588\u2588\u2588\u2588\u258c   | 1120/1712 [07:11<03:32,  2.79it/s]"
          ]
        },
        {
          "output_type": "stream",
          "name": "stderr",
          "text": [
            "\rExtracting test embeddings (orig):  65%|\u2588\u2588\u2588\u2588\u2588\u2588\u258c   | 1121/1712 [07:11<03:23,  2.91it/s]"
          ]
        },
        {
          "output_type": "stream",
          "name": "stderr",
          "text": [
            "\rExtracting test embeddings (orig):  66%|\u2588\u2588\u2588\u2588\u2588\u2588\u258c   | 1122/1712 [07:12<04:02,  2.43it/s]"
          ]
        },
        {
          "output_type": "stream",
          "name": "stderr",
          "text": [
            "\rExtracting test embeddings (orig):  66%|\u2588\u2588\u2588\u2588\u2588\u2588\u258c   | 1123/1712 [07:12<03:43,  2.64it/s]"
          ]
        },
        {
          "output_type": "stream",
          "name": "stderr",
          "text": [
            "\rExtracting test embeddings (orig):  66%|\u2588\u2588\u2588\u2588\u2588\u2588\u258c   | 1124/1712 [07:12<03:32,  2.76it/s]"
          ]
        },
        {
          "output_type": "stream",
          "name": "stderr",
          "text": [
            "\rExtracting test embeddings (orig):  66%|\u2588\u2588\u2588\u2588\u2588\u2588\u258c   | 1125/1712 [07:13<03:22,  2.89it/s]"
          ]
        },
        {
          "output_type": "stream",
          "name": "stderr",
          "text": [
            "\rExtracting test embeddings (orig):  66%|\u2588\u2588\u2588\u2588\u2588\u2588\u258c   | 1126/1712 [07:13<03:56,  2.48it/s]"
          ]
        },
        {
          "output_type": "stream",
          "name": "stderr",
          "text": [
            "\rExtracting test embeddings (orig):  66%|\u2588\u2588\u2588\u2588\u2588\u2588\u258c   | 1127/1712 [07:13<03:38,  2.68it/s]"
          ]
        },
        {
          "output_type": "stream",
          "name": "stderr",
          "text": [
            "\rExtracting test embeddings (orig):  66%|\u2588\u2588\u2588\u2588\u2588\u2588\u258c   | 1128/1712 [07:14<03:27,  2.81it/s]"
          ]
        },
        {
          "output_type": "stream",
          "name": "stderr",
          "text": [
            "\rExtracting test embeddings (orig):  66%|\u2588\u2588\u2588\u2588\u2588\u2588\u258c   | 1129/1712 [07:14<03:18,  2.93it/s]"
          ]
        },
        {
          "output_type": "stream",
          "name": "stderr",
          "text": [
            "\rExtracting test embeddings (orig):  66%|\u2588\u2588\u2588\u2588\u2588\u2588\u258c   | 1130/1712 [07:15<03:56,  2.46it/s]"
          ]
        },
        {
          "output_type": "stream",
          "name": "stderr",
          "text": [
            "\rExtracting test embeddings (orig):  66%|\u2588\u2588\u2588\u2588\u2588\u2588\u258c   | 1131/1712 [07:15<03:38,  2.66it/s]"
          ]
        },
        {
          "output_type": "stream",
          "name": "stderr",
          "text": [
            "\rExtracting test embeddings (orig):  66%|\u2588\u2588\u2588\u2588\u2588\u2588\u258c   | 1132/1712 [07:15<03:28,  2.78it/s]"
          ]
        },
        {
          "output_type": "stream",
          "name": "stderr",
          "text": [
            "\rExtracting test embeddings (orig):  66%|\u2588\u2588\u2588\u2588\u2588\u2588\u258c   | 1133/1712 [07:16<03:19,  2.90it/s]"
          ]
        },
        {
          "output_type": "stream",
          "name": "stderr",
          "text": [
            "\rExtracting test embeddings (orig):  66%|\u2588\u2588\u2588\u2588\u2588\u2588\u258c   | 1134/1712 [07:16<03:56,  2.44it/s]"
          ]
        },
        {
          "output_type": "stream",
          "name": "stderr",
          "text": [
            "\rExtracting test embeddings (orig):  66%|\u2588\u2588\u2588\u2588\u2588\u2588\u258b   | 1135/1712 [07:16<03:38,  2.64it/s]"
          ]
        },
        {
          "output_type": "stream",
          "name": "stderr",
          "text": [
            "\rExtracting test embeddings (orig):  66%|\u2588\u2588\u2588\u2588\u2588\u2588\u258b   | 1136/1712 [07:17<03:27,  2.78it/s]"
          ]
        },
        {
          "output_type": "stream",
          "name": "stderr",
          "text": [
            "\rExtracting test embeddings (orig):  66%|\u2588\u2588\u2588\u2588\u2588\u2588\u258b   | 1137/1712 [07:17<03:17,  2.91it/s]"
          ]
        },
        {
          "output_type": "stream",
          "name": "stderr",
          "text": [
            "\rExtracting test embeddings (orig):  66%|\u2588\u2588\u2588\u2588\u2588\u2588\u258b   | 1138/1712 [07:18<03:54,  2.45it/s]"
          ]
        },
        {
          "output_type": "stream",
          "name": "stderr",
          "text": [
            "\rExtracting test embeddings (orig):  67%|\u2588\u2588\u2588\u2588\u2588\u2588\u258b   | 1139/1712 [07:18<03:37,  2.64it/s]"
          ]
        },
        {
          "output_type": "stream",
          "name": "stderr",
          "text": [
            "\rExtracting test embeddings (orig):  67%|\u2588\u2588\u2588\u2588\u2588\u2588\u258b   | 1140/1712 [07:18<03:26,  2.78it/s]"
          ]
        },
        {
          "output_type": "stream",
          "name": "stderr",
          "text": [
            "\rExtracting test embeddings (orig):  67%|\u2588\u2588\u2588\u2588\u2588\u2588\u258b   | 1141/1712 [07:19<03:16,  2.91it/s]"
          ]
        },
        {
          "output_type": "stream",
          "name": "stderr",
          "text": [
            "\rExtracting test embeddings (orig):  67%|\u2588\u2588\u2588\u2588\u2588\u2588\u258b   | 1142/1712 [07:19<03:29,  2.72it/s]"
          ]
        },
        {
          "output_type": "stream",
          "name": "stderr",
          "text": [
            "\rExtracting test embeddings (orig):  67%|\u2588\u2588\u2588\u2588\u2588\u2588\u258b   | 1143/1712 [07:19<03:18,  2.86it/s]"
          ]
        },
        {
          "output_type": "stream",
          "name": "stderr",
          "text": [
            "\rExtracting test embeddings (orig):  67%|\u2588\u2588\u2588\u2588\u2588\u2588\u258b   | 1144/1712 [07:20<03:13,  2.93it/s]"
          ]
        },
        {
          "output_type": "stream",
          "name": "stderr",
          "text": [
            "\rExtracting test embeddings (orig):  67%|\u2588\u2588\u2588\u2588\u2588\u2588\u258b   | 1145/1712 [07:20<03:07,  3.02it/s]"
          ]
        },
        {
          "output_type": "stream",
          "name": "stderr",
          "text": [
            "\rExtracting test embeddings (orig):  67%|\u2588\u2588\u2588\u2588\u2588\u2588\u258b   | 1146/1712 [07:20<03:22,  2.80it/s]"
          ]
        },
        {
          "output_type": "stream",
          "name": "stderr",
          "text": [
            "\rExtracting test embeddings (orig):  67%|\u2588\u2588\u2588\u2588\u2588\u2588\u258b   | 1147/1712 [07:21<03:13,  2.93it/s]"
          ]
        },
        {
          "output_type": "stream",
          "name": "stderr",
          "text": [
            "\rExtracting test embeddings (orig):  67%|\u2588\u2588\u2588\u2588\u2588\u2588\u258b   | 1148/1712 [07:21<03:08,  2.99it/s]"
          ]
        },
        {
          "output_type": "stream",
          "name": "stderr",
          "text": [
            "\rExtracting test embeddings (orig):  67%|\u2588\u2588\u2588\u2588\u2588\u2588\u258b   | 1149/1712 [07:21<03:03,  3.06it/s]"
          ]
        },
        {
          "output_type": "stream",
          "name": "stderr",
          "text": [
            "\rExtracting test embeddings (orig):  67%|\u2588\u2588\u2588\u2588\u2588\u2588\u258b   | 1150/1712 [07:22<04:07,  2.27it/s]"
          ]
        },
        {
          "output_type": "stream",
          "name": "stderr",
          "text": [
            "\rExtracting test embeddings (orig):  67%|\u2588\u2588\u2588\u2588\u2588\u2588\u258b   | 1151/1712 [07:22<03:44,  2.50it/s]"
          ]
        },
        {
          "output_type": "stream",
          "name": "stderr",
          "text": [
            "\rExtracting test embeddings (orig):  67%|\u2588\u2588\u2588\u2588\u2588\u2588\u258b   | 1152/1712 [07:23<03:30,  2.66it/s]"
          ]
        },
        {
          "output_type": "stream",
          "name": "stderr",
          "text": [
            "\rExtracting test embeddings (orig):  67%|\u2588\u2588\u2588\u2588\u2588\u2588\u258b   | 1153/1712 [07:23<03:18,  2.81it/s]"
          ]
        },
        {
          "output_type": "stream",
          "name": "stderr",
          "text": [
            "\rExtracting test embeddings (orig):  67%|\u2588\u2588\u2588\u2588\u2588\u2588\u258b   | 1154/1712 [07:23<03:29,  2.67it/s]"
          ]
        },
        {
          "output_type": "stream",
          "name": "stderr",
          "text": [
            "\rExtracting test embeddings (orig):  67%|\u2588\u2588\u2588\u2588\u2588\u2588\u258b   | 1155/1712 [07:24<03:17,  2.82it/s]"
          ]
        },
        {
          "output_type": "stream",
          "name": "stderr",
          "text": [
            "\rExtracting test embeddings (orig):  68%|\u2588\u2588\u2588\u2588\u2588\u2588\u258a   | 1156/1712 [07:24<03:10,  2.92it/s]"
          ]
        },
        {
          "output_type": "stream",
          "name": "stderr",
          "text": [
            "\rExtracting test embeddings (orig):  68%|\u2588\u2588\u2588\u2588\u2588\u2588\u258a   | 1157/1712 [07:24<03:04,  3.01it/s]"
          ]
        },
        {
          "output_type": "stream",
          "name": "stderr",
          "text": [
            "\rExtracting test embeddings (orig):  68%|\u2588\u2588\u2588\u2588\u2588\u2588\u258a   | 1158/1712 [07:25<04:04,  2.26it/s]"
          ]
        },
        {
          "output_type": "stream",
          "name": "stderr",
          "text": [
            "\rExtracting test embeddings (orig):  68%|\u2588\u2588\u2588\u2588\u2588\u2588\u258a   | 1159/1712 [07:25<03:41,  2.49it/s]"
          ]
        },
        {
          "output_type": "stream",
          "name": "stderr",
          "text": [
            "\rExtracting test embeddings (orig):  68%|\u2588\u2588\u2588\u2588\u2588\u2588\u258a   | 1160/1712 [07:26<03:27,  2.66it/s]"
          ]
        },
        {
          "output_type": "stream",
          "name": "stderr",
          "text": [
            "\rExtracting test embeddings (orig):  68%|\u2588\u2588\u2588\u2588\u2588\u2588\u258a   | 1161/1712 [07:26<03:16,  2.81it/s]"
          ]
        },
        {
          "output_type": "stream",
          "name": "stderr",
          "text": [
            "\rExtracting test embeddings (orig):  68%|\u2588\u2588\u2588\u2588\u2588\u2588\u258a   | 1162/1712 [07:26<03:28,  2.64it/s]"
          ]
        },
        {
          "output_type": "stream",
          "name": "stderr",
          "text": [
            "\rExtracting test embeddings (orig):  68%|\u2588\u2588\u2588\u2588\u2588\u2588\u258a   | 1163/1712 [07:27<03:16,  2.80it/s]"
          ]
        },
        {
          "output_type": "stream",
          "name": "stderr",
          "text": [
            "\rExtracting test embeddings (orig):  68%|\u2588\u2588\u2588\u2588\u2588\u2588\u258a   | 1164/1712 [07:27<03:09,  2.89it/s]"
          ]
        },
        {
          "output_type": "stream",
          "name": "stderr",
          "text": [
            "\rExtracting test embeddings (orig):  68%|\u2588\u2588\u2588\u2588\u2588\u2588\u258a   | 1165/1712 [07:27<03:03,  2.99it/s]"
          ]
        },
        {
          "output_type": "stream",
          "name": "stderr",
          "text": [
            "\rExtracting test embeddings (orig):  68%|\u2588\u2588\u2588\u2588\u2588\u2588\u258a   | 1166/1712 [07:28<03:40,  2.48it/s]"
          ]
        },
        {
          "output_type": "stream",
          "name": "stderr",
          "text": [
            "\rExtracting test embeddings (orig):  68%|\u2588\u2588\u2588\u2588\u2588\u2588\u258a   | 1167/1712 [07:28<03:24,  2.66it/s]"
          ]
        },
        {
          "output_type": "stream",
          "name": "stderr",
          "text": [
            "\rExtracting test embeddings (orig):  68%|\u2588\u2588\u2588\u2588\u2588\u2588\u258a   | 1168/1712 [07:28<03:14,  2.79it/s]"
          ]
        },
        {
          "output_type": "stream",
          "name": "stderr",
          "text": [
            "\rExtracting test embeddings (orig):  68%|\u2588\u2588\u2588\u2588\u2588\u2588\u258a   | 1169/1712 [07:29<03:06,  2.92it/s]"
          ]
        },
        {
          "output_type": "stream",
          "name": "stderr",
          "text": [
            "\rExtracting test embeddings (orig):  68%|\u2588\u2588\u2588\u2588\u2588\u2588\u258a   | 1170/1712 [07:29<03:41,  2.45it/s]"
          ]
        },
        {
          "output_type": "stream",
          "name": "stderr",
          "text": [
            "\rExtracting test embeddings (orig):  68%|\u2588\u2588\u2588\u2588\u2588\u2588\u258a   | 1171/1712 [07:30<03:24,  2.65it/s]"
          ]
        },
        {
          "output_type": "stream",
          "name": "stderr",
          "text": [
            "\rExtracting test embeddings (orig):  68%|\u2588\u2588\u2588\u2588\u2588\u2588\u258a   | 1172/1712 [07:30<03:14,  2.77it/s]"
          ]
        },
        {
          "output_type": "stream",
          "name": "stderr",
          "text": [
            "\rExtracting test embeddings (orig):  69%|\u2588\u2588\u2588\u2588\u2588\u2588\u258a   | 1173/1712 [07:30<03:06,  2.89it/s]"
          ]
        },
        {
          "output_type": "stream",
          "name": "stderr",
          "text": [
            "\rExtracting test embeddings (orig):  69%|\u2588\u2588\u2588\u2588\u2588\u2588\u258a   | 1174/1712 [07:31<03:43,  2.40it/s]"
          ]
        },
        {
          "output_type": "stream",
          "name": "stderr",
          "text": [
            "\rExtracting test embeddings (orig):  69%|\u2588\u2588\u2588\u2588\u2588\u2588\u258a   | 1175/1712 [07:31<03:25,  2.61it/s]"
          ]
        },
        {
          "output_type": "stream",
          "name": "stderr",
          "text": [
            "\rExtracting test embeddings (orig):  69%|\u2588\u2588\u2588\u2588\u2588\u2588\u258a   | 1176/1712 [07:31<03:15,  2.75it/s]"
          ]
        },
        {
          "output_type": "stream",
          "name": "stderr",
          "text": [
            "\rExtracting test embeddings (orig):  69%|\u2588\u2588\u2588\u2588\u2588\u2588\u2589   | 1177/1712 [07:32<03:05,  2.88it/s]"
          ]
        },
        {
          "output_type": "stream",
          "name": "stderr",
          "text": [
            "\rExtracting test embeddings (orig):  69%|\u2588\u2588\u2588\u2588\u2588\u2588\u2589   | 1178/1712 [07:32<03:35,  2.48it/s]"
          ]
        },
        {
          "output_type": "stream",
          "name": "stderr",
          "text": [
            "\rExtracting test embeddings (orig):  69%|\u2588\u2588\u2588\u2588\u2588\u2588\u2589   | 1179/1712 [07:33<03:20,  2.66it/s]"
          ]
        },
        {
          "output_type": "stream",
          "name": "stderr",
          "text": [
            "\rExtracting test embeddings (orig):  69%|\u2588\u2588\u2588\u2588\u2588\u2588\u2589   | 1180/1712 [07:33<03:10,  2.80it/s]"
          ]
        },
        {
          "output_type": "stream",
          "name": "stderr",
          "text": [
            "\rExtracting test embeddings (orig):  69%|\u2588\u2588\u2588\u2588\u2588\u2588\u2589   | 1181/1712 [07:33<03:01,  2.92it/s]"
          ]
        },
        {
          "output_type": "stream",
          "name": "stderr",
          "text": [
            "\rExtracting test embeddings (orig):  69%|\u2588\u2588\u2588\u2588\u2588\u2588\u2589   | 1182/1712 [07:34<03:38,  2.42it/s]"
          ]
        },
        {
          "output_type": "stream",
          "name": "stderr",
          "text": [
            "\rExtracting test embeddings (orig):  69%|\u2588\u2588\u2588\u2588\u2588\u2588\u2589   | 1183/1712 [07:34<03:21,  2.62it/s]"
          ]
        },
        {
          "output_type": "stream",
          "name": "stderr",
          "text": [
            "\rExtracting test embeddings (orig):  69%|\u2588\u2588\u2588\u2588\u2588\u2588\u2589   | 1184/1712 [07:34<03:11,  2.76it/s]"
          ]
        },
        {
          "output_type": "stream",
          "name": "stderr",
          "text": [
            "\rExtracting test embeddings (orig):  69%|\u2588\u2588\u2588\u2588\u2588\u2588\u2589   | 1185/1712 [07:35<03:02,  2.88it/s]"
          ]
        },
        {
          "output_type": "stream",
          "name": "stderr",
          "text": [
            "\rExtracting test embeddings (orig):  69%|\u2588\u2588\u2588\u2588\u2588\u2588\u2589   | 1186/1712 [07:35<03:36,  2.43it/s]"
          ]
        },
        {
          "output_type": "stream",
          "name": "stderr",
          "text": [
            "\rExtracting test embeddings (orig):  69%|\u2588\u2588\u2588\u2588\u2588\u2588\u2589   | 1187/1712 [07:36<03:23,  2.59it/s]"
          ]
        },
        {
          "output_type": "stream",
          "name": "stderr",
          "text": [
            "\rExtracting test embeddings (orig):  69%|\u2588\u2588\u2588\u2588\u2588\u2588\u2589   | 1188/1712 [07:36<03:11,  2.73it/s]"
          ]
        },
        {
          "output_type": "stream",
          "name": "stderr",
          "text": [
            "\rExtracting test embeddings (orig):  69%|\u2588\u2588\u2588\u2588\u2588\u2588\u2589   | 1189/1712 [07:36<03:03,  2.85it/s]"
          ]
        },
        {
          "output_type": "stream",
          "name": "stderr",
          "text": [
            "\rExtracting test embeddings (orig):  70%|\u2588\u2588\u2588\u2588\u2588\u2588\u2589   | 1190/1712 [07:37<03:30,  2.48it/s]"
          ]
        },
        {
          "output_type": "stream",
          "name": "stderr",
          "text": [
            "\rExtracting test embeddings (orig):  70%|\u2588\u2588\u2588\u2588\u2588\u2588\u2589   | 1191/1712 [07:37<03:17,  2.64it/s]"
          ]
        },
        {
          "output_type": "stream",
          "name": "stderr",
          "text": [
            "\rExtracting test embeddings (orig):  70%|\u2588\u2588\u2588\u2588\u2588\u2588\u2589   | 1192/1712 [07:37<03:07,  2.77it/s]"
          ]
        },
        {
          "output_type": "stream",
          "name": "stderr",
          "text": [
            "\rExtracting test embeddings (orig):  70%|\u2588\u2588\u2588\u2588\u2588\u2588\u2589   | 1193/1712 [07:38<02:59,  2.89it/s]"
          ]
        },
        {
          "output_type": "stream",
          "name": "stderr",
          "text": [
            "\rExtracting test embeddings (orig):  70%|\u2588\u2588\u2588\u2588\u2588\u2588\u2589   | 1194/1712 [07:38<03:26,  2.51it/s]"
          ]
        },
        {
          "output_type": "stream",
          "name": "stderr",
          "text": [
            "\rExtracting test embeddings (orig):  70%|\u2588\u2588\u2588\u2588\u2588\u2588\u2589   | 1195/1712 [07:39<03:13,  2.67it/s]"
          ]
        },
        {
          "output_type": "stream",
          "name": "stderr",
          "text": [
            "\rExtracting test embeddings (orig):  70%|\u2588\u2588\u2588\u2588\u2588\u2588\u2589   | 1196/1712 [07:39<03:03,  2.81it/s]"
          ]
        },
        {
          "output_type": "stream",
          "name": "stderr",
          "text": [
            "\rExtracting test embeddings (orig):  70%|\u2588\u2588\u2588\u2588\u2588\u2588\u2589   | 1197/1712 [07:39<02:56,  2.92it/s]"
          ]
        },
        {
          "output_type": "stream",
          "name": "stderr",
          "text": [
            "\rExtracting test embeddings (orig):  70%|\u2588\u2588\u2588\u2588\u2588\u2588\u2589   | 1198/1712 [07:40<03:25,  2.50it/s]"
          ]
        },
        {
          "output_type": "stream",
          "name": "stderr",
          "text": [
            "\rExtracting test embeddings (orig):  70%|\u2588\u2588\u2588\u2588\u2588\u2588\u2588   | 1199/1712 [07:40<03:13,  2.65it/s]"
          ]
        },
        {
          "output_type": "stream",
          "name": "stderr",
          "text": [
            "\rExtracting test embeddings (orig):  70%|\u2588\u2588\u2588\u2588\u2588\u2588\u2588   | 1200/1712 [07:40<03:03,  2.79it/s]"
          ]
        },
        {
          "output_type": "stream",
          "name": "stderr",
          "text": [
            "\rExtracting test embeddings (orig):  70%|\u2588\u2588\u2588\u2588\u2588\u2588\u2588   | 1201/1712 [07:41<02:55,  2.91it/s]"
          ]
        },
        {
          "output_type": "stream",
          "name": "stderr",
          "text": [
            "\rExtracting test embeddings (orig):  70%|\u2588\u2588\u2588\u2588\u2588\u2588\u2588   | 1202/1712 [07:41<03:20,  2.54it/s]"
          ]
        },
        {
          "output_type": "stream",
          "name": "stderr",
          "text": [
            "\rExtracting test embeddings (orig):  70%|\u2588\u2588\u2588\u2588\u2588\u2588\u2588   | 1203/1712 [07:42<03:08,  2.70it/s]"
          ]
        },
        {
          "output_type": "stream",
          "name": "stderr",
          "text": [
            "\rExtracting test embeddings (orig):  70%|\u2588\u2588\u2588\u2588\u2588\u2588\u2588   | 1204/1712 [07:42<02:59,  2.82it/s]"
          ]
        },
        {
          "output_type": "stream",
          "name": "stderr",
          "text": [
            "\rExtracting test embeddings (orig):  70%|\u2588\u2588\u2588\u2588\u2588\u2588\u2588   | 1205/1712 [07:42<02:53,  2.93it/s]"
          ]
        },
        {
          "output_type": "stream",
          "name": "stderr",
          "text": [
            "\rExtracting test embeddings (orig):  70%|\u2588\u2588\u2588\u2588\u2588\u2588\u2588   | 1206/1712 [07:43<03:23,  2.48it/s]"
          ]
        },
        {
          "output_type": "stream",
          "name": "stderr",
          "text": [
            "\rExtracting test embeddings (orig):  71%|\u2588\u2588\u2588\u2588\u2588\u2588\u2588   | 1207/1712 [07:43<03:11,  2.64it/s]"
          ]
        },
        {
          "output_type": "stream",
          "name": "stderr",
          "text": [
            "\rExtracting test embeddings (orig):  71%|\u2588\u2588\u2588\u2588\u2588\u2588\u2588   | 1208/1712 [07:43<03:01,  2.78it/s]"
          ]
        },
        {
          "output_type": "stream",
          "name": "stderr",
          "text": [
            "\rExtracting test embeddings (orig):  71%|\u2588\u2588\u2588\u2588\u2588\u2588\u2588   | 1209/1712 [07:44<02:53,  2.89it/s]"
          ]
        },
        {
          "output_type": "stream",
          "name": "stderr",
          "text": [
            "\rExtracting test embeddings (orig):  71%|\u2588\u2588\u2588\u2588\u2588\u2588\u2588   | 1210/1712 [07:44<03:23,  2.47it/s]"
          ]
        },
        {
          "output_type": "stream",
          "name": "stderr",
          "text": [
            "\rExtracting test embeddings (orig):  71%|\u2588\u2588\u2588\u2588\u2588\u2588\u2588   | 1211/1712 [07:45<03:08,  2.66it/s]"
          ]
        },
        {
          "output_type": "stream",
          "name": "stderr",
          "text": [
            "\rExtracting test embeddings (orig):  71%|\u2588\u2588\u2588\u2588\u2588\u2588\u2588   | 1212/1712 [07:45<02:59,  2.78it/s]"
          ]
        },
        {
          "output_type": "stream",
          "name": "stderr",
          "text": [
            "\rExtracting test embeddings (orig):  71%|\u2588\u2588\u2588\u2588\u2588\u2588\u2588   | 1213/1712 [07:45<02:51,  2.90it/s]"
          ]
        },
        {
          "output_type": "stream",
          "name": "stderr",
          "text": [
            "\rExtracting test embeddings (orig):  71%|\u2588\u2588\u2588\u2588\u2588\u2588\u2588   | 1214/1712 [07:46<03:19,  2.49it/s]"
          ]
        },
        {
          "output_type": "stream",
          "name": "stderr",
          "text": [
            "\rExtracting test embeddings (orig):  71%|\u2588\u2588\u2588\u2588\u2588\u2588\u2588   | 1215/1712 [07:46<03:05,  2.68it/s]"
          ]
        },
        {
          "output_type": "stream",
          "name": "stderr",
          "text": [
            "\rExtracting test embeddings (orig):  71%|\u2588\u2588\u2588\u2588\u2588\u2588\u2588   | 1216/1712 [07:46<02:56,  2.81it/s]"
          ]
        },
        {
          "output_type": "stream",
          "name": "stderr",
          "text": [
            "\rExtracting test embeddings (orig):  71%|\u2588\u2588\u2588\u2588\u2588\u2588\u2588   | 1217/1712 [07:47<02:48,  2.94it/s]"
          ]
        },
        {
          "output_type": "stream",
          "name": "stderr",
          "text": [
            "\rExtracting test embeddings (orig):  71%|\u2588\u2588\u2588\u2588\u2588\u2588\u2588   | 1218/1712 [07:47<03:18,  2.48it/s]"
          ]
        },
        {
          "output_type": "stream",
          "name": "stderr",
          "text": [
            "\rExtracting test embeddings (orig):  71%|\u2588\u2588\u2588\u2588\u2588\u2588\u2588   | 1219/1712 [07:47<03:04,  2.67it/s]"
          ]
        },
        {
          "output_type": "stream",
          "name": "stderr",
          "text": [
            "\rExtracting test embeddings (orig):  71%|\u2588\u2588\u2588\u2588\u2588\u2588\u2588\u258f  | 1220/1712 [07:48<02:55,  2.80it/s]"
          ]
        },
        {
          "output_type": "stream",
          "name": "stderr",
          "text": [
            "\rExtracting test embeddings (orig):  71%|\u2588\u2588\u2588\u2588\u2588\u2588\u2588\u258f  | 1221/1712 [07:48<02:47,  2.92it/s]"
          ]
        },
        {
          "output_type": "stream",
          "name": "stderr",
          "text": [
            "\rExtracting test embeddings (orig):  71%|\u2588\u2588\u2588\u2588\u2588\u2588\u2588\u258f  | 1222/1712 [07:49<03:16,  2.49it/s]"
          ]
        },
        {
          "output_type": "stream",
          "name": "stderr",
          "text": [
            "\rExtracting test embeddings (orig):  71%|\u2588\u2588\u2588\u2588\u2588\u2588\u2588\u258f  | 1223/1712 [07:49<03:02,  2.69it/s]"
          ]
        },
        {
          "output_type": "stream",
          "name": "stderr",
          "text": [
            "\rExtracting test embeddings (orig):  71%|\u2588\u2588\u2588\u2588\u2588\u2588\u2588\u258f  | 1224/1712 [07:49<02:53,  2.81it/s]"
          ]
        },
        {
          "output_type": "stream",
          "name": "stderr",
          "text": [
            "\rExtracting test embeddings (orig):  72%|\u2588\u2588\u2588\u2588\u2588\u2588\u2588\u258f  | 1225/1712 [07:50<02:46,  2.92it/s]"
          ]
        },
        {
          "output_type": "stream",
          "name": "stderr",
          "text": [
            "\rExtracting test embeddings (orig):  72%|\u2588\u2588\u2588\u2588\u2588\u2588\u2588\u258f  | 1226/1712 [07:50<03:17,  2.46it/s]"
          ]
        },
        {
          "output_type": "stream",
          "name": "stderr",
          "text": [
            "\rExtracting test embeddings (orig):  72%|\u2588\u2588\u2588\u2588\u2588\u2588\u2588\u258f  | 1227/1712 [07:50<03:02,  2.66it/s]"
          ]
        },
        {
          "output_type": "stream",
          "name": "stderr",
          "text": [
            "\rExtracting test embeddings (orig):  72%|\u2588\u2588\u2588\u2588\u2588\u2588\u2588\u258f  | 1228/1712 [07:51<02:53,  2.78it/s]"
          ]
        },
        {
          "output_type": "stream",
          "name": "stderr",
          "text": [
            "\rExtracting test embeddings (orig):  72%|\u2588\u2588\u2588\u2588\u2588\u2588\u2588\u258f  | 1229/1712 [07:51<02:45,  2.91it/s]"
          ]
        },
        {
          "output_type": "stream",
          "name": "stderr",
          "text": [
            "\rExtracting test embeddings (orig):  72%|\u2588\u2588\u2588\u2588\u2588\u2588\u2588\u258f  | 1230/1712 [07:52<03:11,  2.52it/s]"
          ]
        },
        {
          "output_type": "stream",
          "name": "stderr",
          "text": [
            "\rExtracting test embeddings (orig):  72%|\u2588\u2588\u2588\u2588\u2588\u2588\u2588\u258f  | 1231/1712 [07:52<02:57,  2.71it/s]"
          ]
        },
        {
          "output_type": "stream",
          "name": "stderr",
          "text": [
            "\rExtracting test embeddings (orig):  72%|\u2588\u2588\u2588\u2588\u2588\u2588\u2588\u258f  | 1232/1712 [07:52<02:49,  2.83it/s]"
          ]
        },
        {
          "output_type": "stream",
          "name": "stderr",
          "text": [
            "\rExtracting test embeddings (orig):  72%|\u2588\u2588\u2588\u2588\u2588\u2588\u2588\u258f  | 1233/1712 [07:53<02:43,  2.94it/s]"
          ]
        },
        {
          "output_type": "stream",
          "name": "stderr",
          "text": [
            "\rExtracting test embeddings (orig):  72%|\u2588\u2588\u2588\u2588\u2588\u2588\u2588\u258f  | 1234/1712 [07:53<03:09,  2.52it/s]"
          ]
        },
        {
          "output_type": "stream",
          "name": "stderr",
          "text": [
            "\rExtracting test embeddings (orig):  72%|\u2588\u2588\u2588\u2588\u2588\u2588\u2588\u258f  | 1235/1712 [07:53<02:59,  2.66it/s]"
          ]
        },
        {
          "output_type": "stream",
          "name": "stderr",
          "text": [
            "\rExtracting test embeddings (orig):  72%|\u2588\u2588\u2588\u2588\u2588\u2588\u2588\u258f  | 1236/1712 [07:54<02:50,  2.80it/s]"
          ]
        },
        {
          "output_type": "stream",
          "name": "stderr",
          "text": [
            "\rExtracting test embeddings (orig):  72%|\u2588\u2588\u2588\u2588\u2588\u2588\u2588\u258f  | 1237/1712 [07:54<02:43,  2.91it/s]"
          ]
        },
        {
          "output_type": "stream",
          "name": "stderr",
          "text": [
            "\rExtracting test embeddings (orig):  72%|\u2588\u2588\u2588\u2588\u2588\u2588\u2588\u258f  | 1238/1712 [07:55<03:08,  2.51it/s]"
          ]
        },
        {
          "output_type": "stream",
          "name": "stderr",
          "text": [
            "\rExtracting test embeddings (orig):  72%|\u2588\u2588\u2588\u2588\u2588\u2588\u2588\u258f  | 1239/1712 [07:55<03:02,  2.59it/s]"
          ]
        },
        {
          "output_type": "stream",
          "name": "stderr",
          "text": [
            "\rExtracting test embeddings (orig):  72%|\u2588\u2588\u2588\u2588\u2588\u2588\u2588\u258f  | 1240/1712 [07:55<02:50,  2.77it/s]"
          ]
        },
        {
          "output_type": "stream",
          "name": "stderr",
          "text": [
            "\rExtracting test embeddings (orig):  72%|\u2588\u2588\u2588\u2588\u2588\u2588\u2588\u258f  | 1241/1712 [07:55<02:43,  2.88it/s]"
          ]
        },
        {
          "output_type": "stream",
          "name": "stderr",
          "text": [
            "\rExtracting test embeddings (orig):  73%|\u2588\u2588\u2588\u2588\u2588\u2588\u2588\u258e  | 1242/1712 [07:56<03:06,  2.53it/s]"
          ]
        },
        {
          "output_type": "stream",
          "name": "stderr",
          "text": [
            "\rExtracting test embeddings (orig):  73%|\u2588\u2588\u2588\u2588\u2588\u2588\u2588\u258e  | 1243/1712 [07:56<03:03,  2.56it/s]"
          ]
        },
        {
          "output_type": "stream",
          "name": "stderr",
          "text": [
            "\rExtracting test embeddings (orig):  73%|\u2588\u2588\u2588\u2588\u2588\u2588\u2588\u258e  | 1244/1712 [07:57<02:51,  2.73it/s]"
          ]
        },
        {
          "output_type": "stream",
          "name": "stderr",
          "text": [
            "\rExtracting test embeddings (orig):  73%|\u2588\u2588\u2588\u2588\u2588\u2588\u2588\u258e  | 1245/1712 [07:57<02:43,  2.85it/s]"
          ]
        },
        {
          "output_type": "stream",
          "name": "stderr",
          "text": [
            "\rExtracting test embeddings (orig):  73%|\u2588\u2588\u2588\u2588\u2588\u2588\u2588\u258e  | 1246/1712 [07:58<03:05,  2.51it/s]"
          ]
        },
        {
          "output_type": "stream",
          "name": "stderr",
          "text": [
            "\rExtracting test embeddings (orig):  73%|\u2588\u2588\u2588\u2588\u2588\u2588\u2588\u258e  | 1247/1712 [07:58<02:58,  2.60it/s]"
          ]
        },
        {
          "output_type": "stream",
          "name": "stderr",
          "text": [
            "\rExtracting test embeddings (orig):  73%|\u2588\u2588\u2588\u2588\u2588\u2588\u2588\u258e  | 1248/1712 [07:58<02:47,  2.77it/s]"
          ]
        },
        {
          "output_type": "stream",
          "name": "stderr",
          "text": [
            "\rExtracting test embeddings (orig):  73%|\u2588\u2588\u2588\u2588\u2588\u2588\u2588\u258e  | 1249/1712 [07:58<02:40,  2.88it/s]"
          ]
        },
        {
          "output_type": "stream",
          "name": "stderr",
          "text": [
            "\rExtracting test embeddings (orig):  73%|\u2588\u2588\u2588\u2588\u2588\u2588\u2588\u258e  | 1250/1712 [07:59<03:05,  2.49it/s]"
          ]
        },
        {
          "output_type": "stream",
          "name": "stderr",
          "text": [
            "\rExtracting test embeddings (orig):  73%|\u2588\u2588\u2588\u2588\u2588\u2588\u2588\u258e  | 1251/1712 [07:59<02:58,  2.58it/s]"
          ]
        },
        {
          "output_type": "stream",
          "name": "stderr",
          "text": [
            "\rExtracting test embeddings (orig):  73%|\u2588\u2588\u2588\u2588\u2588\u2588\u2588\u258e  | 1252/1712 [08:00<02:46,  2.76it/s]"
          ]
        },
        {
          "output_type": "stream",
          "name": "stderr",
          "text": [
            "\rExtracting test embeddings (orig):  73%|\u2588\u2588\u2588\u2588\u2588\u2588\u2588\u258e  | 1253/1712 [08:00<02:39,  2.87it/s]"
          ]
        },
        {
          "output_type": "stream",
          "name": "stderr",
          "text": [
            "\rExtracting test embeddings (orig):  73%|\u2588\u2588\u2588\u2588\u2588\u2588\u2588\u258e  | 1254/1712 [08:01<03:03,  2.50it/s]"
          ]
        },
        {
          "output_type": "stream",
          "name": "stderr",
          "text": [
            "\rExtracting test embeddings (orig):  73%|\u2588\u2588\u2588\u2588\u2588\u2588\u2588\u258e  | 1255/1712 [08:01<02:57,  2.57it/s]"
          ]
        },
        {
          "output_type": "stream",
          "name": "stderr",
          "text": [
            "\rExtracting test embeddings (orig):  73%|\u2588\u2588\u2588\u2588\u2588\u2588\u2588\u258e  | 1256/1712 [08:01<02:45,  2.75it/s]"
          ]
        },
        {
          "output_type": "stream",
          "name": "stderr",
          "text": [
            "\rExtracting test embeddings (orig):  73%|\u2588\u2588\u2588\u2588\u2588\u2588\u2588\u258e  | 1257/1712 [08:01<02:38,  2.87it/s]"
          ]
        },
        {
          "output_type": "stream",
          "name": "stderr",
          "text": [
            "\rExtracting test embeddings (orig):  73%|\u2588\u2588\u2588\u2588\u2588\u2588\u2588\u258e  | 1258/1712 [08:02<03:07,  2.42it/s]"
          ]
        },
        {
          "output_type": "stream",
          "name": "stderr",
          "text": [
            "\rExtracting test embeddings (orig):  74%|\u2588\u2588\u2588\u2588\u2588\u2588\u2588\u258e  | 1259/1712 [08:02<02:53,  2.61it/s]"
          ]
        },
        {
          "output_type": "stream",
          "name": "stderr",
          "text": [
            "\rExtracting test embeddings (orig):  74%|\u2588\u2588\u2588\u2588\u2588\u2588\u2588\u258e  | 1260/1712 [08:03<02:43,  2.76it/s]"
          ]
        },
        {
          "output_type": "stream",
          "name": "stderr",
          "text": [
            "\rExtracting test embeddings (orig):  74%|\u2588\u2588\u2588\u2588\u2588\u2588\u2588\u258e  | 1261/1712 [08:03<02:36,  2.89it/s]"
          ]
        },
        {
          "output_type": "stream",
          "name": "stderr",
          "text": [
            "\rExtracting test embeddings (orig):  74%|\u2588\u2588\u2588\u2588\u2588\u2588\u2588\u258e  | 1262/1712 [08:04<03:18,  2.27it/s]"
          ]
        },
        {
          "output_type": "stream",
          "name": "stderr",
          "text": [
            "\rExtracting test embeddings (orig):  74%|\u2588\u2588\u2588\u2588\u2588\u2588\u2588\u258d  | 1263/1712 [08:04<02:59,  2.50it/s]"
          ]
        },
        {
          "output_type": "stream",
          "name": "stderr",
          "text": [
            "\rExtracting test embeddings (orig):  74%|\u2588\u2588\u2588\u2588\u2588\u2588\u2588\u258d  | 1264/1712 [08:04<02:47,  2.67it/s]"
          ]
        },
        {
          "output_type": "stream",
          "name": "stderr",
          "text": [
            "\rExtracting test embeddings (orig):  74%|\u2588\u2588\u2588\u2588\u2588\u2588\u2588\u258d  | 1265/1712 [08:05<02:38,  2.82it/s]"
          ]
        },
        {
          "output_type": "stream",
          "name": "stderr",
          "text": [
            "\rExtracting test embeddings (orig):  74%|\u2588\u2588\u2588\u2588\u2588\u2588\u2588\u258d  | 1266/1712 [08:05<03:05,  2.41it/s]"
          ]
        },
        {
          "output_type": "stream",
          "name": "stderr",
          "text": [
            "\rExtracting test embeddings (orig):  74%|\u2588\u2588\u2588\u2588\u2588\u2588\u2588\u258d  | 1267/1712 [08:05<02:50,  2.61it/s]"
          ]
        },
        {
          "output_type": "stream",
          "name": "stderr",
          "text": [
            "\rExtracting test embeddings (orig):  74%|\u2588\u2588\u2588\u2588\u2588\u2588\u2588\u258d  | 1268/1712 [08:06<02:41,  2.75it/s]"
          ]
        },
        {
          "output_type": "stream",
          "name": "stderr",
          "text": [
            "\rExtracting test embeddings (orig):  74%|\u2588\u2588\u2588\u2588\u2588\u2588\u2588\u258d  | 1269/1712 [08:06<02:33,  2.88it/s]"
          ]
        },
        {
          "output_type": "stream",
          "name": "stderr",
          "text": [
            "\rExtracting test embeddings (orig):  74%|\u2588\u2588\u2588\u2588\u2588\u2588\u2588\u258d  | 1270/1712 [08:07<03:02,  2.42it/s]"
          ]
        },
        {
          "output_type": "stream",
          "name": "stderr",
          "text": [
            "\rExtracting test embeddings (orig):  74%|\u2588\u2588\u2588\u2588\u2588\u2588\u2588\u258d  | 1271/1712 [08:07<02:48,  2.62it/s]"
          ]
        },
        {
          "output_type": "stream",
          "name": "stderr",
          "text": [
            "\rExtracting test embeddings (orig):  74%|\u2588\u2588\u2588\u2588\u2588\u2588\u2588\u258d  | 1272/1712 [08:07<02:39,  2.76it/s]"
          ]
        },
        {
          "output_type": "stream",
          "name": "stderr",
          "text": [
            "\rExtracting test embeddings (orig):  74%|\u2588\u2588\u2588\u2588\u2588\u2588\u2588\u258d  | 1273/1712 [08:08<02:31,  2.89it/s]"
          ]
        },
        {
          "output_type": "stream",
          "name": "stderr",
          "text": [
            "\rExtracting test embeddings (orig):  74%|\u2588\u2588\u2588\u2588\u2588\u2588\u2588\u258d  | 1274/1712 [08:08<02:45,  2.65it/s]"
          ]
        },
        {
          "output_type": "stream",
          "name": "stderr",
          "text": [
            "\rExtracting test embeddings (orig):  74%|\u2588\u2588\u2588\u2588\u2588\u2588\u2588\u258d  | 1275/1712 [08:08<02:35,  2.81it/s]"
          ]
        },
        {
          "output_type": "stream",
          "name": "stderr",
          "text": [
            "\rExtracting test embeddings (orig):  75%|\u2588\u2588\u2588\u2588\u2588\u2588\u2588\u258d  | 1276/1712 [08:09<02:29,  2.91it/s]"
          ]
        },
        {
          "output_type": "stream",
          "name": "stderr",
          "text": [
            "\rExtracting test embeddings (orig):  75%|\u2588\u2588\u2588\u2588\u2588\u2588\u2588\u258d  | 1277/1712 [08:09<02:24,  3.01it/s]"
          ]
        },
        {
          "output_type": "stream",
          "name": "stderr",
          "text": [
            "\rExtracting test embeddings (orig):  75%|\u2588\u2588\u2588\u2588\u2588\u2588\u2588\u258d  | 1278/1712 [08:10<03:05,  2.34it/s]"
          ]
        },
        {
          "output_type": "stream",
          "name": "stderr",
          "text": [
            "\rExtracting test embeddings (orig):  75%|\u2588\u2588\u2588\u2588\u2588\u2588\u2588\u258d  | 1279/1712 [08:10<02:49,  2.55it/s]"
          ]
        },
        {
          "output_type": "stream",
          "name": "stderr",
          "text": [
            "\rExtracting test embeddings (orig):  75%|\u2588\u2588\u2588\u2588\u2588\u2588\u2588\u258d  | 1280/1712 [08:10<02:39,  2.71it/s]"
          ]
        },
        {
          "output_type": "stream",
          "name": "stderr",
          "text": [
            "\rExtracting test embeddings (orig):  75%|\u2588\u2588\u2588\u2588\u2588\u2588\u2588\u258d  | 1281/1712 [08:11<02:30,  2.86it/s]"
          ]
        },
        {
          "output_type": "stream",
          "name": "stderr",
          "text": [
            "\rExtracting test embeddings (orig):  75%|\u2588\u2588\u2588\u2588\u2588\u2588\u2588\u258d  | 1282/1712 [08:11<02:44,  2.61it/s]"
          ]
        },
        {
          "output_type": "stream",
          "name": "stderr",
          "text": [
            "\rExtracting test embeddings (orig):  75%|\u2588\u2588\u2588\u2588\u2588\u2588\u2588\u258d  | 1283/1712 [08:11<02:34,  2.78it/s]"
          ]
        },
        {
          "output_type": "stream",
          "name": "stderr",
          "text": [
            "\rExtracting test embeddings (orig):  75%|\u2588\u2588\u2588\u2588\u2588\u2588\u2588\u258c  | 1284/1712 [08:12<02:28,  2.88it/s]"
          ]
        },
        {
          "output_type": "stream",
          "name": "stderr",
          "text": [
            "\rExtracting test embeddings (orig):  75%|\u2588\u2588\u2588\u2588\u2588\u2588\u2588\u258c  | 1285/1712 [08:12<02:22,  2.99it/s]"
          ]
        },
        {
          "output_type": "stream",
          "name": "stderr",
          "text": [
            "\rExtracting test embeddings (orig):  75%|\u2588\u2588\u2588\u2588\u2588\u2588\u2588\u258c  | 1286/1712 [08:13<03:03,  2.33it/s]"
          ]
        },
        {
          "output_type": "stream",
          "name": "stderr",
          "text": [
            "\rExtracting test embeddings (orig):  75%|\u2588\u2588\u2588\u2588\u2588\u2588\u2588\u258c  | 1287/1712 [08:13<02:46,  2.55it/s]"
          ]
        },
        {
          "output_type": "stream",
          "name": "stderr",
          "text": [
            "\rExtracting test embeddings (orig):  75%|\u2588\u2588\u2588\u2588\u2588\u2588\u2588\u258c  | 1288/1712 [08:13<02:36,  2.71it/s]"
          ]
        },
        {
          "output_type": "stream",
          "name": "stderr",
          "text": [
            "\rExtracting test embeddings (orig):  75%|\u2588\u2588\u2588\u2588\u2588\u2588\u2588\u258c  | 1289/1712 [08:13<02:28,  2.85it/s]"
          ]
        },
        {
          "output_type": "stream",
          "name": "stderr",
          "text": [
            "\rExtracting test embeddings (orig):  75%|\u2588\u2588\u2588\u2588\u2588\u2588\u2588\u258c  | 1290/1712 [08:14<02:54,  2.42it/s]"
          ]
        },
        {
          "output_type": "stream",
          "name": "stderr",
          "text": [
            "\rExtracting test embeddings (orig):  75%|\u2588\u2588\u2588\u2588\u2588\u2588\u2588\u258c  | 1291/1712 [08:14<02:40,  2.63it/s]"
          ]
        },
        {
          "output_type": "stream",
          "name": "stderr",
          "text": [
            "\rExtracting test embeddings (orig):  75%|\u2588\u2588\u2588\u2588\u2588\u2588\u2588\u258c  | 1292/1712 [08:15<02:32,  2.76it/s]"
          ]
        },
        {
          "output_type": "stream",
          "name": "stderr",
          "text": [
            "\rExtracting test embeddings (orig):  76%|\u2588\u2588\u2588\u2588\u2588\u2588\u2588\u258c  | 1293/1712 [08:15<02:25,  2.89it/s]"
          ]
        },
        {
          "output_type": "stream",
          "name": "stderr",
          "text": [
            "\rExtracting test embeddings (orig):  76%|\u2588\u2588\u2588\u2588\u2588\u2588\u2588\u258c  | 1294/1712 [08:16<02:47,  2.50it/s]"
          ]
        },
        {
          "output_type": "stream",
          "name": "stderr",
          "text": [
            "\rExtracting test embeddings (orig):  76%|\u2588\u2588\u2588\u2588\u2588\u2588\u2588\u258c  | 1295/1712 [08:16<02:35,  2.69it/s]"
          ]
        },
        {
          "output_type": "stream",
          "name": "stderr",
          "text": [
            "\rExtracting test embeddings (orig):  76%|\u2588\u2588\u2588\u2588\u2588\u2588\u2588\u258c  | 1296/1712 [08:16<02:28,  2.80it/s]"
          ]
        },
        {
          "output_type": "stream",
          "name": "stderr",
          "text": [
            "\rExtracting test embeddings (orig):  76%|\u2588\u2588\u2588\u2588\u2588\u2588\u2588\u258c  | 1297/1712 [08:16<02:21,  2.93it/s]"
          ]
        },
        {
          "output_type": "stream",
          "name": "stderr",
          "text": [
            "\rExtracting test embeddings (orig):  76%|\u2588\u2588\u2588\u2588\u2588\u2588\u2588\u258c  | 1298/1712 [08:17<02:46,  2.48it/s]"
          ]
        },
        {
          "output_type": "stream",
          "name": "stderr",
          "text": [
            "\rExtracting test embeddings (orig):  76%|\u2588\u2588\u2588\u2588\u2588\u2588\u2588\u258c  | 1299/1712 [08:17<02:34,  2.67it/s]"
          ]
        },
        {
          "output_type": "stream",
          "name": "stderr",
          "text": [
            "\rExtracting test embeddings (orig):  76%|\u2588\u2588\u2588\u2588\u2588\u2588\u2588\u258c  | 1300/1712 [08:18<02:27,  2.80it/s]"
          ]
        },
        {
          "output_type": "stream",
          "name": "stderr",
          "text": [
            "\rExtracting test embeddings (orig):  76%|\u2588\u2588\u2588\u2588\u2588\u2588\u2588\u258c  | 1301/1712 [08:18<02:20,  2.92it/s]"
          ]
        },
        {
          "output_type": "stream",
          "name": "stderr",
          "text": [
            "\rExtracting test embeddings (orig):  76%|\u2588\u2588\u2588\u2588\u2588\u2588\u2588\u258c  | 1302/1712 [08:18<02:44,  2.49it/s]"
          ]
        },
        {
          "output_type": "stream",
          "name": "stderr",
          "text": [
            "\rExtracting test embeddings (orig):  76%|\u2588\u2588\u2588\u2588\u2588\u2588\u2588\u258c  | 1303/1712 [08:19<02:32,  2.68it/s]"
          ]
        },
        {
          "output_type": "stream",
          "name": "stderr",
          "text": [
            "\rExtracting test embeddings (orig):  76%|\u2588\u2588\u2588\u2588\u2588\u2588\u2588\u258c  | 1304/1712 [08:19<02:25,  2.81it/s]"
          ]
        },
        {
          "output_type": "stream",
          "name": "stderr",
          "text": [
            "\rExtracting test embeddings (orig):  76%|\u2588\u2588\u2588\u2588\u2588\u2588\u2588\u258c  | 1305/1712 [08:19<02:18,  2.93it/s]"
          ]
        },
        {
          "output_type": "stream",
          "name": "stderr",
          "text": [
            "\rExtracting test embeddings (orig):  76%|\u2588\u2588\u2588\u2588\u2588\u2588\u2588\u258b  | 1306/1712 [08:20<02:46,  2.44it/s]"
          ]
        },
        {
          "output_type": "stream",
          "name": "stderr",
          "text": [
            "\rExtracting test embeddings (orig):  76%|\u2588\u2588\u2588\u2588\u2588\u2588\u2588\u258b  | 1307/1712 [08:20<02:33,  2.64it/s]"
          ]
        },
        {
          "output_type": "stream",
          "name": "stderr",
          "text": [
            "\rExtracting test embeddings (orig):  76%|\u2588\u2588\u2588\u2588\u2588\u2588\u2588\u258b  | 1308/1712 [08:21<02:25,  2.78it/s]"
          ]
        },
        {
          "output_type": "stream",
          "name": "stderr",
          "text": [
            "\rExtracting test embeddings (orig):  76%|\u2588\u2588\u2588\u2588\u2588\u2588\u2588\u258b  | 1309/1712 [08:21<02:18,  2.91it/s]"
          ]
        },
        {
          "output_type": "stream",
          "name": "stderr",
          "text": [
            "\rExtracting test embeddings (orig):  77%|\u2588\u2588\u2588\u2588\u2588\u2588\u2588\u258b  | 1310/1712 [08:21<02:42,  2.47it/s]"
          ]
        },
        {
          "output_type": "stream",
          "name": "stderr",
          "text": [
            "\rExtracting test embeddings (orig):  77%|\u2588\u2588\u2588\u2588\u2588\u2588\u2588\u258b  | 1311/1712 [08:22<02:30,  2.67it/s]"
          ]
        },
        {
          "output_type": "stream",
          "name": "stderr",
          "text": [
            "\rExtracting test embeddings (orig):  77%|\u2588\u2588\u2588\u2588\u2588\u2588\u2588\u258b  | 1312/1712 [08:22<02:22,  2.80it/s]"
          ]
        },
        {
          "output_type": "stream",
          "name": "stderr",
          "text": [
            "\rExtracting test embeddings (orig):  77%|\u2588\u2588\u2588\u2588\u2588\u2588\u2588\u258b  | 1313/1712 [08:22<02:16,  2.93it/s]"
          ]
        },
        {
          "output_type": "stream",
          "name": "stderr",
          "text": [
            "\rExtracting test embeddings (orig):  77%|\u2588\u2588\u2588\u2588\u2588\u2588\u2588\u258b  | 1314/1712 [08:23<02:40,  2.48it/s]"
          ]
        },
        {
          "output_type": "stream",
          "name": "stderr",
          "text": [
            "\rExtracting test embeddings (orig):  77%|\u2588\u2588\u2588\u2588\u2588\u2588\u2588\u258b  | 1315/1712 [08:23<02:45,  2.40it/s]"
          ]
        },
        {
          "output_type": "stream",
          "name": "stderr",
          "text": [
            "\rExtracting test embeddings (orig):  77%|\u2588\u2588\u2588\u2588\u2588\u2588\u2588\u258b  | 1316/1712 [08:24<02:31,  2.61it/s]"
          ]
        },
        {
          "output_type": "stream",
          "name": "stderr",
          "text": [
            "\rExtracting test embeddings (orig):  77%|\u2588\u2588\u2588\u2588\u2588\u2588\u2588\u258b  | 1317/1712 [08:24<02:23,  2.75it/s]"
          ]
        },
        {
          "output_type": "stream",
          "name": "stderr",
          "text": [
            "\rExtracting test embeddings (orig):  77%|\u2588\u2588\u2588\u2588\u2588\u2588\u2588\u258b  | 1318/1712 [08:24<02:31,  2.60it/s]"
          ]
        },
        {
          "output_type": "stream",
          "name": "stderr",
          "text": [
            "\rExtracting test embeddings (orig):  77%|\u2588\u2588\u2588\u2588\u2588\u2588\u2588\u258b  | 1319/1712 [08:25<02:35,  2.53it/s]"
          ]
        },
        {
          "output_type": "stream",
          "name": "stderr",
          "text": [
            "\rExtracting test embeddings (orig):  77%|\u2588\u2588\u2588\u2588\u2588\u2588\u2588\u258b  | 1320/1712 [08:25<02:24,  2.72it/s]"
          ]
        },
        {
          "output_type": "stream",
          "name": "stderr",
          "text": [
            "\rExtracting test embeddings (orig):  77%|\u2588\u2588\u2588\u2588\u2588\u2588\u2588\u258b  | 1321/1712 [08:25<02:17,  2.84it/s]"
          ]
        },
        {
          "output_type": "stream",
          "name": "stderr",
          "text": [
            "\rExtracting test embeddings (orig):  77%|\u2588\u2588\u2588\u2588\u2588\u2588\u2588\u258b  | 1322/1712 [08:26<02:28,  2.63it/s]"
          ]
        },
        {
          "output_type": "stream",
          "name": "stderr",
          "text": [
            "\rExtracting test embeddings (orig):  77%|\u2588\u2588\u2588\u2588\u2588\u2588\u2588\u258b  | 1323/1712 [08:26<02:33,  2.53it/s]"
          ]
        },
        {
          "output_type": "stream",
          "name": "stderr",
          "text": [
            "\rExtracting test embeddings (orig):  77%|\u2588\u2588\u2588\u2588\u2588\u2588\u2588\u258b  | 1324/1712 [08:27<02:23,  2.71it/s]"
          ]
        },
        {
          "output_type": "stream",
          "name": "stderr",
          "text": [
            "\rExtracting test embeddings (orig):  77%|\u2588\u2588\u2588\u2588\u2588\u2588\u2588\u258b  | 1325/1712 [08:27<02:16,  2.84it/s]"
          ]
        },
        {
          "output_type": "stream",
          "name": "stderr",
          "text": [
            "\rExtracting test embeddings (orig):  77%|\u2588\u2588\u2588\u2588\u2588\u2588\u2588\u258b  | 1326/1712 [08:27<02:26,  2.63it/s]"
          ]
        },
        {
          "output_type": "stream",
          "name": "stderr",
          "text": [
            "\rExtracting test embeddings (orig):  78%|\u2588\u2588\u2588\u2588\u2588\u2588\u2588\u258a  | 1327/1712 [08:28<02:31,  2.54it/s]"
          ]
        },
        {
          "output_type": "stream",
          "name": "stderr",
          "text": [
            "\rExtracting test embeddings (orig):  78%|\u2588\u2588\u2588\u2588\u2588\u2588\u2588\u258a  | 1328/1712 [08:28<02:20,  2.73it/s]"
          ]
        },
        {
          "output_type": "stream",
          "name": "stderr",
          "text": [
            "\rExtracting test embeddings (orig):  78%|\u2588\u2588\u2588\u2588\u2588\u2588\u2588\u258a  | 1329/1712 [08:28<02:14,  2.84it/s]"
          ]
        },
        {
          "output_type": "stream",
          "name": "stderr",
          "text": [
            "\rExtracting test embeddings (orig):  78%|\u2588\u2588\u2588\u2588\u2588\u2588\u2588\u258a  | 1330/1712 [08:29<02:24,  2.65it/s]"
          ]
        },
        {
          "output_type": "stream",
          "name": "stderr",
          "text": [
            "\rExtracting test embeddings (orig):  78%|\u2588\u2588\u2588\u2588\u2588\u2588\u2588\u258a  | 1331/1712 [08:29<02:21,  2.69it/s]"
          ]
        },
        {
          "output_type": "stream",
          "name": "stderr",
          "text": [
            "\rExtracting test embeddings (orig):  78%|\u2588\u2588\u2588\u2588\u2588\u2588\u2588\u258a  | 1332/1712 [08:30<02:13,  2.85it/s]"
          ]
        },
        {
          "output_type": "stream",
          "name": "stderr",
          "text": [
            "\rExtracting test embeddings (orig):  78%|\u2588\u2588\u2588\u2588\u2588\u2588\u2588\u258a  | 1333/1712 [08:30<02:08,  2.95it/s]"
          ]
        },
        {
          "output_type": "stream",
          "name": "stderr",
          "text": [
            "\rExtracting test embeddings (orig):  78%|\u2588\u2588\u2588\u2588\u2588\u2588\u2588\u258a  | 1334/1712 [08:30<02:29,  2.52it/s]"
          ]
        },
        {
          "output_type": "stream",
          "name": "stderr",
          "text": [
            "\rExtracting test embeddings (orig):  78%|\u2588\u2588\u2588\u2588\u2588\u2588\u2588\u258a  | 1335/1712 [08:31<02:24,  2.60it/s]"
          ]
        },
        {
          "output_type": "stream",
          "name": "stderr",
          "text": [
            "\rExtracting test embeddings (orig):  78%|\u2588\u2588\u2588\u2588\u2588\u2588\u2588\u258a  | 1336/1712 [08:31<02:15,  2.77it/s]"
          ]
        },
        {
          "output_type": "stream",
          "name": "stderr",
          "text": [
            "\rExtracting test embeddings (orig):  78%|\u2588\u2588\u2588\u2588\u2588\u2588\u2588\u258a  | 1337/1712 [08:31<02:09,  2.89it/s]"
          ]
        },
        {
          "output_type": "stream",
          "name": "stderr",
          "text": [
            "\rExtracting test embeddings (orig):  78%|\u2588\u2588\u2588\u2588\u2588\u2588\u2588\u258a  | 1338/1712 [08:32<02:31,  2.47it/s]"
          ]
        },
        {
          "output_type": "stream",
          "name": "stderr",
          "text": [
            "\rExtracting test embeddings (orig):  78%|\u2588\u2588\u2588\u2588\u2588\u2588\u2588\u258a  | 1339/1712 [08:32<02:24,  2.58it/s]"
          ]
        },
        {
          "output_type": "stream",
          "name": "stderr",
          "text": [
            "\rExtracting test embeddings (orig):  78%|\u2588\u2588\u2588\u2588\u2588\u2588\u2588\u258a  | 1340/1712 [08:33<02:15,  2.75it/s]"
          ]
        },
        {
          "output_type": "stream",
          "name": "stderr",
          "text": [
            "\rExtracting test embeddings (orig):  78%|\u2588\u2588\u2588\u2588\u2588\u2588\u2588\u258a  | 1341/1712 [08:33<02:09,  2.87it/s]"
          ]
        },
        {
          "output_type": "stream",
          "name": "stderr",
          "text": [
            "\rExtracting test embeddings (orig):  78%|\u2588\u2588\u2588\u2588\u2588\u2588\u2588\u258a  | 1342/1712 [08:33<02:17,  2.69it/s]"
          ]
        },
        {
          "output_type": "stream",
          "name": "stderr",
          "text": [
            "\rExtracting test embeddings (orig):  78%|\u2588\u2588\u2588\u2588\u2588\u2588\u2588\u258a  | 1343/1712 [08:34<02:24,  2.56it/s]"
          ]
        },
        {
          "output_type": "stream",
          "name": "stderr",
          "text": [
            "\rExtracting test embeddings (orig):  79%|\u2588\u2588\u2588\u2588\u2588\u2588\u2588\u258a  | 1344/1712 [08:34<02:14,  2.73it/s]"
          ]
        },
        {
          "output_type": "stream",
          "name": "stderr",
          "text": [
            "\rExtracting test embeddings (orig):  79%|\u2588\u2588\u2588\u2588\u2588\u2588\u2588\u258a  | 1345/1712 [08:34<02:08,  2.85it/s]"
          ]
        },
        {
          "output_type": "stream",
          "name": "stderr",
          "text": [
            "\rExtracting test embeddings (orig):  79%|\u2588\u2588\u2588\u2588\u2588\u2588\u2588\u258a  | 1346/1712 [08:35<02:16,  2.68it/s]"
          ]
        },
        {
          "output_type": "stream",
          "name": "stderr",
          "text": [
            "\rExtracting test embeddings (orig):  79%|\u2588\u2588\u2588\u2588\u2588\u2588\u2588\u258a  | 1347/1712 [08:35<02:23,  2.54it/s]"
          ]
        },
        {
          "output_type": "stream",
          "name": "stderr",
          "text": [
            "\rExtracting test embeddings (orig):  79%|\u2588\u2588\u2588\u2588\u2588\u2588\u2588\u258a  | 1348/1712 [08:36<02:13,  2.73it/s]"
          ]
        },
        {
          "output_type": "stream",
          "name": "stderr",
          "text": [
            "\rExtracting test embeddings (orig):  79%|\u2588\u2588\u2588\u2588\u2588\u2588\u2588\u2589  | 1349/1712 [08:36<02:07,  2.85it/s]"
          ]
        },
        {
          "output_type": "stream",
          "name": "stderr",
          "text": [
            "\rExtracting test embeddings (orig):  79%|\u2588\u2588\u2588\u2588\u2588\u2588\u2588\u2589  | 1350/1712 [08:36<02:14,  2.68it/s]"
          ]
        },
        {
          "output_type": "stream",
          "name": "stderr",
          "text": [
            "\rExtracting test embeddings (orig):  79%|\u2588\u2588\u2588\u2588\u2588\u2588\u2588\u2589  | 1351/1712 [08:37<02:36,  2.30it/s]"
          ]
        },
        {
          "output_type": "stream",
          "name": "stderr",
          "text": [
            "\rExtracting test embeddings (orig):  79%|\u2588\u2588\u2588\u2588\u2588\u2588\u2588\u2589  | 1352/1712 [08:37<02:22,  2.53it/s]"
          ]
        },
        {
          "output_type": "stream",
          "name": "stderr",
          "text": [
            "\rExtracting test embeddings (orig):  79%|\u2588\u2588\u2588\u2588\u2588\u2588\u2588\u2589  | 1353/1712 [08:37<02:13,  2.70it/s]"
          ]
        },
        {
          "output_type": "stream",
          "name": "stderr",
          "text": [
            "\rExtracting test embeddings (orig):  79%|\u2588\u2588\u2588\u2588\u2588\u2588\u2588\u2589  | 1354/1712 [08:38<02:05,  2.85it/s]"
          ]
        },
        {
          "output_type": "stream",
          "name": "stderr",
          "text": [
            "\rExtracting test embeddings (orig):  79%|\u2588\u2588\u2588\u2588\u2588\u2588\u2588\u2589  | 1355/1712 [08:38<02:25,  2.45it/s]"
          ]
        },
        {
          "output_type": "stream",
          "name": "stderr",
          "text": [
            "\rExtracting test embeddings (orig):  79%|\u2588\u2588\u2588\u2588\u2588\u2588\u2588\u2589  | 1356/1712 [08:39<02:14,  2.65it/s]"
          ]
        },
        {
          "output_type": "stream",
          "name": "stderr",
          "text": [
            "\rExtracting test embeddings (orig):  79%|\u2588\u2588\u2588\u2588\u2588\u2588\u2588\u2589  | 1357/1712 [08:39<02:08,  2.77it/s]"
          ]
        },
        {
          "output_type": "stream",
          "name": "stderr",
          "text": [
            "\rExtracting test embeddings (orig):  79%|\u2588\u2588\u2588\u2588\u2588\u2588\u2588\u2589  | 1358/1712 [08:39<02:02,  2.90it/s]"
          ]
        },
        {
          "output_type": "stream",
          "name": "stderr",
          "text": [
            "\rExtracting test embeddings (orig):  79%|\u2588\u2588\u2588\u2588\u2588\u2588\u2588\u2589  | 1359/1712 [08:40<02:22,  2.48it/s]"
          ]
        },
        {
          "output_type": "stream",
          "name": "stderr",
          "text": [
            "\rExtracting test embeddings (orig):  79%|\u2588\u2588\u2588\u2588\u2588\u2588\u2588\u2589  | 1360/1712 [08:40<02:11,  2.68it/s]"
          ]
        },
        {
          "output_type": "stream",
          "name": "stderr",
          "text": [
            "\rExtracting test embeddings (orig):  79%|\u2588\u2588\u2588\u2588\u2588\u2588\u2588\u2589  | 1361/1712 [08:40<02:05,  2.80it/s]"
          ]
        },
        {
          "output_type": "stream",
          "name": "stderr",
          "text": [
            "\rExtracting test embeddings (orig):  80%|\u2588\u2588\u2588\u2588\u2588\u2588\u2588\u2589  | 1362/1712 [08:41<01:59,  2.93it/s]"
          ]
        },
        {
          "output_type": "stream",
          "name": "stderr",
          "text": [
            "\rExtracting test embeddings (orig):  80%|\u2588\u2588\u2588\u2588\u2588\u2588\u2588\u2589  | 1363/1712 [08:41<02:23,  2.44it/s]"
          ]
        },
        {
          "output_type": "stream",
          "name": "stderr",
          "text": [
            "\rExtracting test embeddings (orig):  80%|\u2588\u2588\u2588\u2588\u2588\u2588\u2588\u2589  | 1364/1712 [08:42<02:11,  2.65it/s]"
          ]
        },
        {
          "output_type": "stream",
          "name": "stderr",
          "text": [
            "\rExtracting test embeddings (orig):  80%|\u2588\u2588\u2588\u2588\u2588\u2588\u2588\u2589  | 1365/1712 [08:42<02:04,  2.79it/s]"
          ]
        },
        {
          "output_type": "stream",
          "name": "stderr",
          "text": [
            "\rExtracting test embeddings (orig):  80%|\u2588\u2588\u2588\u2588\u2588\u2588\u2588\u2589  | 1366/1712 [08:42<01:58,  2.92it/s]"
          ]
        },
        {
          "output_type": "stream",
          "name": "stderr",
          "text": [
            "\rExtracting test embeddings (orig):  80%|\u2588\u2588\u2588\u2588\u2588\u2588\u2588\u2589  | 1367/1712 [08:43<02:10,  2.65it/s]"
          ]
        },
        {
          "output_type": "stream",
          "name": "stderr",
          "text": [
            "\rExtracting test embeddings (orig):  80%|\u2588\u2588\u2588\u2588\u2588\u2588\u2588\u2589  | 1368/1712 [08:43<02:02,  2.81it/s]"
          ]
        },
        {
          "output_type": "stream",
          "name": "stderr",
          "text": [
            "\rExtracting test embeddings (orig):  80%|\u2588\u2588\u2588\u2588\u2588\u2588\u2588\u2589  | 1369/1712 [08:43<01:57,  2.91it/s]"
          ]
        },
        {
          "output_type": "stream",
          "name": "stderr",
          "text": [
            "\rExtracting test embeddings (orig):  80%|\u2588\u2588\u2588\u2588\u2588\u2588\u2588\u2588  | 1370/1712 [08:44<01:59,  2.87it/s]"
          ]
        },
        {
          "output_type": "stream",
          "name": "stderr",
          "text": [
            "\rExtracting test embeddings (orig):  80%|\u2588\u2588\u2588\u2588\u2588\u2588\u2588\u2588  | 1371/1712 [08:44<02:14,  2.54it/s]"
          ]
        },
        {
          "output_type": "stream",
          "name": "stderr",
          "text": [
            "\rExtracting test embeddings (orig):  80%|\u2588\u2588\u2588\u2588\u2588\u2588\u2588\u2588  | 1372/1712 [08:44<02:04,  2.73it/s]"
          ]
        },
        {
          "output_type": "stream",
          "name": "stderr",
          "text": [
            "\rExtracting test embeddings (orig):  80%|\u2588\u2588\u2588\u2588\u2588\u2588\u2588\u2588  | 1373/1712 [08:45<01:59,  2.84it/s]"
          ]
        },
        {
          "output_type": "stream",
          "name": "stderr",
          "text": [
            "\rExtracting test embeddings (orig):  80%|\u2588\u2588\u2588\u2588\u2588\u2588\u2588\u2588  | 1374/1712 [08:45<02:11,  2.58it/s]"
          ]
        },
        {
          "output_type": "stream",
          "name": "stderr",
          "text": [
            "\rExtracting test embeddings (orig):  80%|\u2588\u2588\u2588\u2588\u2588\u2588\u2588\u2588  | 1375/1712 [08:46<02:20,  2.40it/s]"
          ]
        },
        {
          "output_type": "stream",
          "name": "stderr",
          "text": [
            "\rExtracting test embeddings (orig):  80%|\u2588\u2588\u2588\u2588\u2588\u2588\u2588\u2588  | 1376/1712 [08:46<02:08,  2.61it/s]"
          ]
        },
        {
          "output_type": "stream",
          "name": "stderr",
          "text": [
            "\rExtracting test embeddings (orig):  80%|\u2588\u2588\u2588\u2588\u2588\u2588\u2588\u2588  | 1377/1712 [08:46<02:01,  2.76it/s]"
          ]
        },
        {
          "output_type": "stream",
          "name": "stderr",
          "text": [
            "\rExtracting test embeddings (orig):  80%|\u2588\u2588\u2588\u2588\u2588\u2588\u2588\u2588  | 1378/1712 [08:47<01:55,  2.89it/s]"
          ]
        },
        {
          "output_type": "stream",
          "name": "stderr",
          "text": [
            "\rExtracting test embeddings (orig):  81%|\u2588\u2588\u2588\u2588\u2588\u2588\u2588\u2588  | 1379/1712 [08:47<02:07,  2.60it/s]"
          ]
        },
        {
          "output_type": "stream",
          "name": "stderr",
          "text": [
            "\rExtracting test embeddings (orig):  81%|\u2588\u2588\u2588\u2588\u2588\u2588\u2588\u2588  | 1380/1712 [08:47<01:59,  2.78it/s]"
          ]
        },
        {
          "output_type": "stream",
          "name": "stderr",
          "text": [
            "\rExtracting test embeddings (orig):  81%|\u2588\u2588\u2588\u2588\u2588\u2588\u2588\u2588  | 1381/1712 [08:48<01:54,  2.89it/s]"
          ]
        },
        {
          "output_type": "stream",
          "name": "stderr",
          "text": [
            "\rExtracting test embeddings (orig):  81%|\u2588\u2588\u2588\u2588\u2588\u2588\u2588\u2588  | 1382/1712 [08:48<01:52,  2.92it/s]"
          ]
        },
        {
          "output_type": "stream",
          "name": "stderr",
          "text": [
            "\rExtracting test embeddings (orig):  81%|\u2588\u2588\u2588\u2588\u2588\u2588\u2588\u2588  | 1383/1712 [08:49<02:10,  2.53it/s]"
          ]
        },
        {
          "output_type": "stream",
          "name": "stderr",
          "text": [
            "\rExtracting test embeddings (orig):  81%|\u2588\u2588\u2588\u2588\u2588\u2588\u2588\u2588  | 1384/1712 [08:49<02:00,  2.71it/s]"
          ]
        },
        {
          "output_type": "stream",
          "name": "stderr",
          "text": [
            "\rExtracting test embeddings (orig):  81%|\u2588\u2588\u2588\u2588\u2588\u2588\u2588\u2588  | 1385/1712 [08:49<01:55,  2.83it/s]"
          ]
        },
        {
          "output_type": "stream",
          "name": "stderr",
          "text": [
            "\rExtracting test embeddings (orig):  81%|\u2588\u2588\u2588\u2588\u2588\u2588\u2588\u2588  | 1386/1712 [08:50<01:51,  2.93it/s]"
          ]
        },
        {
          "output_type": "stream",
          "name": "stderr",
          "text": [
            "\rExtracting test embeddings (orig):  81%|\u2588\u2588\u2588\u2588\u2588\u2588\u2588\u2588  | 1387/1712 [08:50<02:20,  2.32it/s]"
          ]
        },
        {
          "output_type": "stream",
          "name": "stderr",
          "text": [
            "\rExtracting test embeddings (orig):  81%|\u2588\u2588\u2588\u2588\u2588\u2588\u2588\u2588  | 1388/1712 [08:50<02:07,  2.54it/s]"
          ]
        },
        {
          "output_type": "stream",
          "name": "stderr",
          "text": [
            "\rExtracting test embeddings (orig):  81%|\u2588\u2588\u2588\u2588\u2588\u2588\u2588\u2588  | 1389/1712 [08:51<01:59,  2.70it/s]"
          ]
        },
        {
          "output_type": "stream",
          "name": "stderr",
          "text": [
            "\rExtracting test embeddings (orig):  81%|\u2588\u2588\u2588\u2588\u2588\u2588\u2588\u2588  | 1390/1712 [08:51<01:53,  2.84it/s]"
          ]
        },
        {
          "output_type": "stream",
          "name": "stderr",
          "text": [
            "\rExtracting test embeddings (orig):  81%|\u2588\u2588\u2588\u2588\u2588\u2588\u2588\u2588\u258f | 1391/1712 [08:52<02:11,  2.44it/s]"
          ]
        },
        {
          "output_type": "stream",
          "name": "stderr",
          "text": [
            "\rExtracting test embeddings (orig):  81%|\u2588\u2588\u2588\u2588\u2588\u2588\u2588\u2588\u258f | 1392/1712 [08:52<02:00,  2.65it/s]"
          ]
        },
        {
          "output_type": "stream",
          "name": "stderr",
          "text": [
            "\rExtracting test embeddings (orig):  81%|\u2588\u2588\u2588\u2588\u2588\u2588\u2588\u2588\u258f | 1393/1712 [08:52<01:54,  2.78it/s]"
          ]
        },
        {
          "output_type": "stream",
          "name": "stderr",
          "text": [
            "\rExtracting test embeddings (orig):  81%|\u2588\u2588\u2588\u2588\u2588\u2588\u2588\u2588\u258f | 1394/1712 [08:53<01:49,  2.91it/s]"
          ]
        },
        {
          "output_type": "stream",
          "name": "stderr",
          "text": [
            "\rExtracting test embeddings (orig):  81%|\u2588\u2588\u2588\u2588\u2588\u2588\u2588\u2588\u258f | 1395/1712 [08:53<02:08,  2.47it/s]"
          ]
        },
        {
          "output_type": "stream",
          "name": "stderr",
          "text": [
            "\rExtracting test embeddings (orig):  82%|\u2588\u2588\u2588\u2588\u2588\u2588\u2588\u2588\u258f | 1396/1712 [08:53<01:58,  2.67it/s]"
          ]
        },
        {
          "output_type": "stream",
          "name": "stderr",
          "text": [
            "\rExtracting test embeddings (orig):  82%|\u2588\u2588\u2588\u2588\u2588\u2588\u2588\u2588\u258f | 1397/1712 [08:54<01:52,  2.80it/s]"
          ]
        },
        {
          "output_type": "stream",
          "name": "stderr",
          "text": [
            "\rExtracting test embeddings (orig):  82%|\u2588\u2588\u2588\u2588\u2588\u2588\u2588\u2588\u258f | 1398/1712 [08:54<01:47,  2.93it/s]"
          ]
        },
        {
          "output_type": "stream",
          "name": "stderr",
          "text": [
            "\rExtracting test embeddings (orig):  82%|\u2588\u2588\u2588\u2588\u2588\u2588\u2588\u2588\u258f | 1399/1712 [08:55<02:09,  2.41it/s]"
          ]
        },
        {
          "output_type": "stream",
          "name": "stderr",
          "text": [
            "\rExtracting test embeddings (orig):  82%|\u2588\u2588\u2588\u2588\u2588\u2588\u2588\u2588\u258f | 1400/1712 [08:55<01:59,  2.61it/s]"
          ]
        },
        {
          "output_type": "stream",
          "name": "stderr",
          "text": [
            "\rExtracting test embeddings (orig):  82%|\u2588\u2588\u2588\u2588\u2588\u2588\u2588\u2588\u258f | 1401/1712 [08:55<01:52,  2.76it/s]"
          ]
        },
        {
          "output_type": "stream",
          "name": "stderr",
          "text": [
            "\rExtracting test embeddings (orig):  82%|\u2588\u2588\u2588\u2588\u2588\u2588\u2588\u2588\u258f | 1402/1712 [08:56<01:47,  2.89it/s]"
          ]
        },
        {
          "output_type": "stream",
          "name": "stderr",
          "text": [
            "\rExtracting test embeddings (orig):  82%|\u2588\u2588\u2588\u2588\u2588\u2588\u2588\u2588\u258f | 1403/1712 [08:56<02:07,  2.42it/s]"
          ]
        },
        {
          "output_type": "stream",
          "name": "stderr",
          "text": [
            "\rExtracting test embeddings (orig):  82%|\u2588\u2588\u2588\u2588\u2588\u2588\u2588\u2588\u258f | 1404/1712 [08:56<01:57,  2.62it/s]"
          ]
        },
        {
          "output_type": "stream",
          "name": "stderr",
          "text": [
            "\rExtracting test embeddings (orig):  82%|\u2588\u2588\u2588\u2588\u2588\u2588\u2588\u2588\u258f | 1405/1712 [08:57<01:51,  2.77it/s]"
          ]
        },
        {
          "output_type": "stream",
          "name": "stderr",
          "text": [
            "\rExtracting test embeddings (orig):  82%|\u2588\u2588\u2588\u2588\u2588\u2588\u2588\u2588\u258f | 1406/1712 [08:57<01:45,  2.90it/s]"
          ]
        },
        {
          "output_type": "stream",
          "name": "stderr",
          "text": [
            "\rExtracting test embeddings (orig):  82%|\u2588\u2588\u2588\u2588\u2588\u2588\u2588\u2588\u258f | 1407/1712 [08:58<01:58,  2.58it/s]"
          ]
        },
        {
          "output_type": "stream",
          "name": "stderr",
          "text": [
            "\rExtracting test embeddings (orig):  82%|\u2588\u2588\u2588\u2588\u2588\u2588\u2588\u2588\u258f | 1408/1712 [08:58<01:50,  2.76it/s]"
          ]
        },
        {
          "output_type": "stream",
          "name": "stderr",
          "text": [
            "\rExtracting test embeddings (orig):  82%|\u2588\u2588\u2588\u2588\u2588\u2588\u2588\u2588\u258f | 1409/1712 [08:58<01:45,  2.86it/s]"
          ]
        },
        {
          "output_type": "stream",
          "name": "stderr",
          "text": [
            "\rExtracting test embeddings (orig):  82%|\u2588\u2588\u2588\u2588\u2588\u2588\u2588\u2588\u258f | 1410/1712 [08:58<01:41,  2.96it/s]"
          ]
        },
        {
          "output_type": "stream",
          "name": "stderr",
          "text": [
            "\rExtracting test embeddings (orig):  82%|\u2588\u2588\u2588\u2588\u2588\u2588\u2588\u2588\u258f | 1411/1712 [08:59<02:00,  2.49it/s]"
          ]
        },
        {
          "output_type": "stream",
          "name": "stderr",
          "text": [
            "\rExtracting test embeddings (orig):  82%|\u2588\u2588\u2588\u2588\u2588\u2588\u2588\u2588\u258f | 1412/1712 [08:59<01:51,  2.68it/s]"
          ]
        },
        {
          "output_type": "stream",
          "name": "stderr",
          "text": [
            "\rExtracting test embeddings (orig):  83%|\u2588\u2588\u2588\u2588\u2588\u2588\u2588\u2588\u258e | 1413/1712 [09:00<01:46,  2.81it/s]"
          ]
        },
        {
          "output_type": "stream",
          "name": "stderr",
          "text": [
            "\rExtracting test embeddings (orig):  83%|\u2588\u2588\u2588\u2588\u2588\u2588\u2588\u2588\u258e | 1414/1712 [09:00<01:41,  2.93it/s]"
          ]
        },
        {
          "output_type": "stream",
          "name": "stderr",
          "text": [
            "\rExtracting test embeddings (orig):  83%|\u2588\u2588\u2588\u2588\u2588\u2588\u2588\u2588\u258e | 1415/1712 [09:00<02:00,  2.47it/s]"
          ]
        },
        {
          "output_type": "stream",
          "name": "stderr",
          "text": [
            "\rExtracting test embeddings (orig):  83%|\u2588\u2588\u2588\u2588\u2588\u2588\u2588\u2588\u258e | 1416/1712 [09:01<01:51,  2.66it/s]"
          ]
        },
        {
          "output_type": "stream",
          "name": "stderr",
          "text": [
            "\rExtracting test embeddings (orig):  83%|\u2588\u2588\u2588\u2588\u2588\u2588\u2588\u2588\u258e | 1417/1712 [09:01<01:45,  2.80it/s]"
          ]
        },
        {
          "output_type": "stream",
          "name": "stderr",
          "text": [
            "\rExtracting test embeddings (orig):  83%|\u2588\u2588\u2588\u2588\u2588\u2588\u2588\u2588\u258e | 1418/1712 [09:01<01:40,  2.93it/s]"
          ]
        },
        {
          "output_type": "stream",
          "name": "stderr",
          "text": [
            "\rExtracting test embeddings (orig):  83%|\u2588\u2588\u2588\u2588\u2588\u2588\u2588\u2588\u258e | 1419/1712 [09:02<01:58,  2.47it/s]"
          ]
        },
        {
          "output_type": "stream",
          "name": "stderr",
          "text": [
            "\rExtracting test embeddings (orig):  83%|\u2588\u2588\u2588\u2588\u2588\u2588\u2588\u2588\u258e | 1420/1712 [09:02<01:49,  2.66it/s]"
          ]
        },
        {
          "output_type": "stream",
          "name": "stderr",
          "text": [
            "\rExtracting test embeddings (orig):  83%|\u2588\u2588\u2588\u2588\u2588\u2588\u2588\u2588\u258e | 1421/1712 [09:03<01:43,  2.80it/s]"
          ]
        },
        {
          "output_type": "stream",
          "name": "stderr",
          "text": [
            "\rExtracting test embeddings (orig):  83%|\u2588\u2588\u2588\u2588\u2588\u2588\u2588\u2588\u258e | 1422/1712 [09:03<01:39,  2.92it/s]"
          ]
        },
        {
          "output_type": "stream",
          "name": "stderr",
          "text": [
            "\rExtracting test embeddings (orig):  83%|\u2588\u2588\u2588\u2588\u2588\u2588\u2588\u2588\u258e | 1423/1712 [09:03<01:58,  2.43it/s]"
          ]
        },
        {
          "output_type": "stream",
          "name": "stderr",
          "text": [
            "\rExtracting test embeddings (orig):  83%|\u2588\u2588\u2588\u2588\u2588\u2588\u2588\u2588\u258e | 1424/1712 [09:04<01:49,  2.63it/s]"
          ]
        },
        {
          "output_type": "stream",
          "name": "stderr",
          "text": [
            "\rExtracting test embeddings (orig):  83%|\u2588\u2588\u2588\u2588\u2588\u2588\u2588\u2588\u258e | 1425/1712 [09:04<01:43,  2.77it/s]"
          ]
        },
        {
          "output_type": "stream",
          "name": "stderr",
          "text": [
            "\rExtracting test embeddings (orig):  83%|\u2588\u2588\u2588\u2588\u2588\u2588\u2588\u2588\u258e | 1426/1712 [09:04<01:38,  2.91it/s]"
          ]
        },
        {
          "output_type": "stream",
          "name": "stderr",
          "text": [
            "\rExtracting test embeddings (orig):  83%|\u2588\u2588\u2588\u2588\u2588\u2588\u2588\u2588\u258e | 1427/1712 [09:05<01:55,  2.46it/s]"
          ]
        },
        {
          "output_type": "stream",
          "name": "stderr",
          "text": [
            "\rExtracting test embeddings (orig):  83%|\u2588\u2588\u2588\u2588\u2588\u2588\u2588\u2588\u258e | 1428/1712 [09:05<01:46,  2.66it/s]"
          ]
        },
        {
          "output_type": "stream",
          "name": "stderr",
          "text": [
            "\rExtracting test embeddings (orig):  83%|\u2588\u2588\u2588\u2588\u2588\u2588\u2588\u2588\u258e | 1429/1712 [09:06<01:41,  2.79it/s]"
          ]
        },
        {
          "output_type": "stream",
          "name": "stderr",
          "text": [
            "\rExtracting test embeddings (orig):  84%|\u2588\u2588\u2588\u2588\u2588\u2588\u2588\u2588\u258e | 1430/1712 [09:06<01:36,  2.92it/s]"
          ]
        },
        {
          "output_type": "stream",
          "name": "stderr",
          "text": [
            "\rExtracting test embeddings (orig):  84%|\u2588\u2588\u2588\u2588\u2588\u2588\u2588\u2588\u258e | 1431/1712 [09:06<01:54,  2.45it/s]"
          ]
        },
        {
          "output_type": "stream",
          "name": "stderr",
          "text": [
            "\rExtracting test embeddings (orig):  84%|\u2588\u2588\u2588\u2588\u2588\u2588\u2588\u2588\u258e | 1432/1712 [09:07<01:45,  2.65it/s]"
          ]
        },
        {
          "output_type": "stream",
          "name": "stderr",
          "text": [
            "\rExtracting test embeddings (orig):  84%|\u2588\u2588\u2588\u2588\u2588\u2588\u2588\u2588\u258e | 1433/1712 [09:07<01:40,  2.77it/s]"
          ]
        },
        {
          "output_type": "stream",
          "name": "stderr",
          "text": [
            "\rExtracting test embeddings (orig):  84%|\u2588\u2588\u2588\u2588\u2588\u2588\u2588\u2588\u258d | 1434/1712 [09:07<01:35,  2.90it/s]"
          ]
        },
        {
          "output_type": "stream",
          "name": "stderr",
          "text": [
            "\rExtracting test embeddings (orig):  84%|\u2588\u2588\u2588\u2588\u2588\u2588\u2588\u2588\u258d | 1435/1712 [09:08<01:53,  2.44it/s]"
          ]
        },
        {
          "output_type": "stream",
          "name": "stderr",
          "text": [
            "\rExtracting test embeddings (orig):  84%|\u2588\u2588\u2588\u2588\u2588\u2588\u2588\u2588\u258d | 1436/1712 [09:08<01:44,  2.64it/s]"
          ]
        },
        {
          "output_type": "stream",
          "name": "stderr",
          "text": [
            "\rExtracting test embeddings (orig):  84%|\u2588\u2588\u2588\u2588\u2588\u2588\u2588\u2588\u258d | 1437/1712 [09:09<01:39,  2.78it/s]"
          ]
        },
        {
          "output_type": "stream",
          "name": "stderr",
          "text": [
            "\rExtracting test embeddings (orig):  84%|\u2588\u2588\u2588\u2588\u2588\u2588\u2588\u2588\u258d | 1438/1712 [09:09<01:34,  2.90it/s]"
          ]
        },
        {
          "output_type": "stream",
          "name": "stderr",
          "text": [
            "\rExtracting test embeddings (orig):  84%|\u2588\u2588\u2588\u2588\u2588\u2588\u2588\u2588\u258d | 1439/1712 [09:09<01:51,  2.45it/s]"
          ]
        },
        {
          "output_type": "stream",
          "name": "stderr",
          "text": [
            "\rExtracting test embeddings (orig):  84%|\u2588\u2588\u2588\u2588\u2588\u2588\u2588\u2588\u258d | 1440/1712 [09:10<01:43,  2.64it/s]"
          ]
        },
        {
          "output_type": "stream",
          "name": "stderr",
          "text": [
            "\rExtracting test embeddings (orig):  84%|\u2588\u2588\u2588\u2588\u2588\u2588\u2588\u2588\u258d | 1441/1712 [09:10<01:37,  2.79it/s]"
          ]
        },
        {
          "output_type": "stream",
          "name": "stderr",
          "text": [
            "\rExtracting test embeddings (orig):  84%|\u2588\u2588\u2588\u2588\u2588\u2588\u2588\u2588\u258d | 1442/1712 [09:10<01:32,  2.91it/s]"
          ]
        },
        {
          "output_type": "stream",
          "name": "stderr",
          "text": [
            "\rExtracting test embeddings (orig):  84%|\u2588\u2588\u2588\u2588\u2588\u2588\u2588\u2588\u258d | 1443/1712 [09:11<01:49,  2.45it/s]"
          ]
        },
        {
          "output_type": "stream",
          "name": "stderr",
          "text": [
            "\rExtracting test embeddings (orig):  84%|\u2588\u2588\u2588\u2588\u2588\u2588\u2588\u2588\u258d | 1444/1712 [09:11<01:41,  2.65it/s]"
          ]
        },
        {
          "output_type": "stream",
          "name": "stderr",
          "text": [
            "\rExtracting test embeddings (orig):  84%|\u2588\u2588\u2588\u2588\u2588\u2588\u2588\u2588\u258d | 1445/1712 [09:12<01:36,  2.78it/s]"
          ]
        },
        {
          "output_type": "stream",
          "name": "stderr",
          "text": [
            "\rExtracting test embeddings (orig):  84%|\u2588\u2588\u2588\u2588\u2588\u2588\u2588\u2588\u258d | 1446/1712 [09:12<01:31,  2.90it/s]"
          ]
        },
        {
          "output_type": "stream",
          "name": "stderr",
          "text": [
            "\rExtracting test embeddings (orig):  85%|\u2588\u2588\u2588\u2588\u2588\u2588\u2588\u2588\u258d | 1447/1712 [09:12<01:47,  2.46it/s]"
          ]
        },
        {
          "output_type": "stream",
          "name": "stderr",
          "text": [
            "\rExtracting test embeddings (orig):  85%|\u2588\u2588\u2588\u2588\u2588\u2588\u2588\u2588\u258d | 1448/1712 [09:13<01:39,  2.66it/s]"
          ]
        },
        {
          "output_type": "stream",
          "name": "stderr",
          "text": [
            "\rExtracting test embeddings (orig):  85%|\u2588\u2588\u2588\u2588\u2588\u2588\u2588\u2588\u258d | 1449/1712 [09:13<01:34,  2.78it/s]"
          ]
        },
        {
          "output_type": "stream",
          "name": "stderr",
          "text": [
            "\rExtracting test embeddings (orig):  85%|\u2588\u2588\u2588\u2588\u2588\u2588\u2588\u2588\u258d | 1450/1712 [09:13<01:30,  2.90it/s]"
          ]
        },
        {
          "output_type": "stream",
          "name": "stderr",
          "text": [
            "\rExtracting test embeddings (orig):  85%|\u2588\u2588\u2588\u2588\u2588\u2588\u2588\u2588\u258d | 1451/1712 [09:14<01:46,  2.44it/s]"
          ]
        },
        {
          "output_type": "stream",
          "name": "stderr",
          "text": [
            "\rExtracting test embeddings (orig):  85%|\u2588\u2588\u2588\u2588\u2588\u2588\u2588\u2588\u258d | 1452/1712 [09:14<01:38,  2.65it/s]"
          ]
        },
        {
          "output_type": "stream",
          "name": "stderr",
          "text": [
            "\rExtracting test embeddings (orig):  85%|\u2588\u2588\u2588\u2588\u2588\u2588\u2588\u2588\u258d | 1453/1712 [09:15<01:33,  2.77it/s]"
          ]
        },
        {
          "output_type": "stream",
          "name": "stderr",
          "text": [
            "\rExtracting test embeddings (orig):  85%|\u2588\u2588\u2588\u2588\u2588\u2588\u2588\u2588\u258d | 1454/1712 [09:15<01:29,  2.89it/s]"
          ]
        },
        {
          "output_type": "stream",
          "name": "stderr",
          "text": [
            "\rExtracting test embeddings (orig):  85%|\u2588\u2588\u2588\u2588\u2588\u2588\u2588\u2588\u258d | 1455/1712 [09:15<01:44,  2.45it/s]"
          ]
        },
        {
          "output_type": "stream",
          "name": "stderr",
          "text": [
            "\rExtracting test embeddings (orig):  85%|\u2588\u2588\u2588\u2588\u2588\u2588\u2588\u2588\u258c | 1456/1712 [09:16<01:36,  2.65it/s]"
          ]
        },
        {
          "output_type": "stream",
          "name": "stderr",
          "text": [
            "\rExtracting test embeddings (orig):  85%|\u2588\u2588\u2588\u2588\u2588\u2588\u2588\u2588\u258c | 1457/1712 [09:16<01:31,  2.79it/s]"
          ]
        },
        {
          "output_type": "stream",
          "name": "stderr",
          "text": [
            "\rExtracting test embeddings (orig):  85%|\u2588\u2588\u2588\u2588\u2588\u2588\u2588\u2588\u258c | 1458/1712 [09:16<01:27,  2.91it/s]"
          ]
        },
        {
          "output_type": "stream",
          "name": "stderr",
          "text": [
            "\rExtracting test embeddings (orig):  85%|\u2588\u2588\u2588\u2588\u2588\u2588\u2588\u2588\u258c | 1459/1712 [09:17<01:43,  2.44it/s]"
          ]
        },
        {
          "output_type": "stream",
          "name": "stderr",
          "text": [
            "\rExtracting test embeddings (orig):  85%|\u2588\u2588\u2588\u2588\u2588\u2588\u2588\u2588\u258c | 1460/1712 [09:17<01:35,  2.64it/s]"
          ]
        },
        {
          "output_type": "stream",
          "name": "stderr",
          "text": [
            "\rExtracting test embeddings (orig):  85%|\u2588\u2588\u2588\u2588\u2588\u2588\u2588\u2588\u258c | 1461/1712 [09:18<01:30,  2.77it/s]"
          ]
        },
        {
          "output_type": "stream",
          "name": "stderr",
          "text": [
            "\rExtracting test embeddings (orig):  85%|\u2588\u2588\u2588\u2588\u2588\u2588\u2588\u2588\u258c | 1462/1712 [09:18<01:26,  2.90it/s]"
          ]
        },
        {
          "output_type": "stream",
          "name": "stderr",
          "text": [
            "\rExtracting test embeddings (orig):  85%|\u2588\u2588\u2588\u2588\u2588\u2588\u2588\u2588\u258c | 1463/1712 [09:18<01:48,  2.29it/s]"
          ]
        },
        {
          "output_type": "stream",
          "name": "stderr",
          "text": [
            "\rExtracting test embeddings (orig):  86%|\u2588\u2588\u2588\u2588\u2588\u2588\u2588\u2588\u258c | 1464/1712 [09:19<01:38,  2.51it/s]"
          ]
        },
        {
          "output_type": "stream",
          "name": "stderr",
          "text": [
            "\rExtracting test embeddings (orig):  86%|\u2588\u2588\u2588\u2588\u2588\u2588\u2588\u2588\u258c | 1465/1712 [09:19<01:32,  2.68it/s]"
          ]
        },
        {
          "output_type": "stream",
          "name": "stderr",
          "text": [
            "\rExtracting test embeddings (orig):  86%|\u2588\u2588\u2588\u2588\u2588\u2588\u2588\u2588\u258c | 1466/1712 [09:19<01:26,  2.83it/s]"
          ]
        },
        {
          "output_type": "stream",
          "name": "stderr",
          "text": [
            "\rExtracting test embeddings (orig):  86%|\u2588\u2588\u2588\u2588\u2588\u2588\u2588\u2588\u258c | 1467/1712 [09:20<01:41,  2.40it/s]"
          ]
        },
        {
          "output_type": "stream",
          "name": "stderr",
          "text": [
            "\rExtracting test embeddings (orig):  86%|\u2588\u2588\u2588\u2588\u2588\u2588\u2588\u2588\u258c | 1468/1712 [09:20<01:33,  2.61it/s]"
          ]
        },
        {
          "output_type": "stream",
          "name": "stderr",
          "text": [
            "\rExtracting test embeddings (orig):  86%|\u2588\u2588\u2588\u2588\u2588\u2588\u2588\u2588\u258c | 1469/1712 [09:21<01:28,  2.74it/s]"
          ]
        },
        {
          "output_type": "stream",
          "name": "stderr",
          "text": [
            "\rExtracting test embeddings (orig):  86%|\u2588\u2588\u2588\u2588\u2588\u2588\u2588\u2588\u258c | 1470/1712 [09:21<01:24,  2.88it/s]"
          ]
        },
        {
          "output_type": "stream",
          "name": "stderr",
          "text": [
            "\rExtracting test embeddings (orig):  86%|\u2588\u2588\u2588\u2588\u2588\u2588\u2588\u2588\u258c | 1471/1712 [09:21<01:40,  2.40it/s]"
          ]
        },
        {
          "output_type": "stream",
          "name": "stderr",
          "text": [
            "\rExtracting test embeddings (orig):  86%|\u2588\u2588\u2588\u2588\u2588\u2588\u2588\u2588\u258c | 1472/1712 [09:22<01:32,  2.61it/s]"
          ]
        },
        {
          "output_type": "stream",
          "name": "stderr",
          "text": [
            "\rExtracting test embeddings (orig):  86%|\u2588\u2588\u2588\u2588\u2588\u2588\u2588\u2588\u258c | 1473/1712 [09:22<01:27,  2.74it/s]"
          ]
        },
        {
          "output_type": "stream",
          "name": "stderr",
          "text": [
            "\rExtracting test embeddings (orig):  86%|\u2588\u2588\u2588\u2588\u2588\u2588\u2588\u2588\u258c | 1474/1712 [09:22<01:22,  2.87it/s]"
          ]
        },
        {
          "output_type": "stream",
          "name": "stderr",
          "text": [
            "\rExtracting test embeddings (orig):  86%|\u2588\u2588\u2588\u2588\u2588\u2588\u2588\u2588\u258c | 1475/1712 [09:23<01:37,  2.42it/s]"
          ]
        },
        {
          "output_type": "stream",
          "name": "stderr",
          "text": [
            "\rExtracting test embeddings (orig):  86%|\u2588\u2588\u2588\u2588\u2588\u2588\u2588\u2588\u258c | 1476/1712 [09:23<01:29,  2.62it/s]"
          ]
        },
        {
          "output_type": "stream",
          "name": "stderr",
          "text": [
            "\rExtracting test embeddings (orig):  86%|\u2588\u2588\u2588\u2588\u2588\u2588\u2588\u2588\u258b | 1477/1712 [09:24<01:25,  2.75it/s]"
          ]
        },
        {
          "output_type": "stream",
          "name": "stderr",
          "text": [
            "\rExtracting test embeddings (orig):  86%|\u2588\u2588\u2588\u2588\u2588\u2588\u2588\u2588\u258b | 1478/1712 [09:24<01:21,  2.88it/s]"
          ]
        },
        {
          "output_type": "stream",
          "name": "stderr",
          "text": [
            "\rExtracting test embeddings (orig):  86%|\u2588\u2588\u2588\u2588\u2588\u2588\u2588\u2588\u258b | 1479/1712 [09:24<01:37,  2.39it/s]"
          ]
        },
        {
          "output_type": "stream",
          "name": "stderr",
          "text": [
            "\rExtracting test embeddings (orig):  86%|\u2588\u2588\u2588\u2588\u2588\u2588\u2588\u2588\u258b | 1480/1712 [09:25<01:29,  2.60it/s]"
          ]
        },
        {
          "output_type": "stream",
          "name": "stderr",
          "text": [
            "\rExtracting test embeddings (orig):  87%|\u2588\u2588\u2588\u2588\u2588\u2588\u2588\u2588\u258b | 1481/1712 [09:25<01:24,  2.74it/s]"
          ]
        },
        {
          "output_type": "stream",
          "name": "stderr",
          "text": [
            "\rExtracting test embeddings (orig):  87%|\u2588\u2588\u2588\u2588\u2588\u2588\u2588\u2588\u258b | 1482/1712 [09:25<01:20,  2.87it/s]"
          ]
        },
        {
          "output_type": "stream",
          "name": "stderr",
          "text": [
            "\rExtracting test embeddings (orig):  87%|\u2588\u2588\u2588\u2588\u2588\u2588\u2588\u2588\u258b | 1483/1712 [09:26<01:33,  2.45it/s]"
          ]
        },
        {
          "output_type": "stream",
          "name": "stderr",
          "text": [
            "\rExtracting test embeddings (orig):  87%|\u2588\u2588\u2588\u2588\u2588\u2588\u2588\u2588\u258b | 1484/1712 [09:26<01:26,  2.64it/s]"
          ]
        },
        {
          "output_type": "stream",
          "name": "stderr",
          "text": [
            "\rExtracting test embeddings (orig):  87%|\u2588\u2588\u2588\u2588\u2588\u2588\u2588\u2588\u258b | 1485/1712 [09:27<01:21,  2.78it/s]"
          ]
        },
        {
          "output_type": "stream",
          "name": "stderr",
          "text": [
            "\rExtracting test embeddings (orig):  87%|\u2588\u2588\u2588\u2588\u2588\u2588\u2588\u2588\u258b | 1486/1712 [09:27<01:17,  2.91it/s]"
          ]
        },
        {
          "output_type": "stream",
          "name": "stderr",
          "text": [
            "\rExtracting test embeddings (orig):  87%|\u2588\u2588\u2588\u2588\u2588\u2588\u2588\u2588\u258b | 1487/1712 [09:27<01:31,  2.45it/s]"
          ]
        },
        {
          "output_type": "stream",
          "name": "stderr",
          "text": [
            "\rExtracting test embeddings (orig):  87%|\u2588\u2588\u2588\u2588\u2588\u2588\u2588\u2588\u258b | 1488/1712 [09:28<01:24,  2.65it/s]"
          ]
        },
        {
          "output_type": "stream",
          "name": "stderr",
          "text": [
            "\rExtracting test embeddings (orig):  87%|\u2588\u2588\u2588\u2588\u2588\u2588\u2588\u2588\u258b | 1489/1712 [09:28<01:20,  2.77it/s]"
          ]
        },
        {
          "output_type": "stream",
          "name": "stderr",
          "text": [
            "\rExtracting test embeddings (orig):  87%|\u2588\u2588\u2588\u2588\u2588\u2588\u2588\u2588\u258b | 1490/1712 [09:28<01:16,  2.90it/s]"
          ]
        },
        {
          "output_type": "stream",
          "name": "stderr",
          "text": [
            "\rExtracting test embeddings (orig):  87%|\u2588\u2588\u2588\u2588\u2588\u2588\u2588\u2588\u258b | 1491/1712 [09:29<01:31,  2.42it/s]"
          ]
        },
        {
          "output_type": "stream",
          "name": "stderr",
          "text": [
            "\rExtracting test embeddings (orig):  87%|\u2588\u2588\u2588\u2588\u2588\u2588\u2588\u2588\u258b | 1492/1712 [09:29<01:23,  2.62it/s]"
          ]
        },
        {
          "output_type": "stream",
          "name": "stderr",
          "text": [
            "\rExtracting test embeddings (orig):  87%|\u2588\u2588\u2588\u2588\u2588\u2588\u2588\u2588\u258b | 1493/1712 [09:30<01:19,  2.75it/s]"
          ]
        },
        {
          "output_type": "stream",
          "name": "stderr",
          "text": [
            "\rExtracting test embeddings (orig):  87%|\u2588\u2588\u2588\u2588\u2588\u2588\u2588\u2588\u258b | 1494/1712 [09:30<01:15,  2.89it/s]"
          ]
        },
        {
          "output_type": "stream",
          "name": "stderr",
          "text": [
            "\rExtracting test embeddings (orig):  87%|\u2588\u2588\u2588\u2588\u2588\u2588\u2588\u2588\u258b | 1495/1712 [09:30<01:29,  2.42it/s]"
          ]
        },
        {
          "output_type": "stream",
          "name": "stderr",
          "text": [
            "\rExtracting test embeddings (orig):  87%|\u2588\u2588\u2588\u2588\u2588\u2588\u2588\u2588\u258b | 1496/1712 [09:31<01:22,  2.62it/s]"
          ]
        },
        {
          "output_type": "stream",
          "name": "stderr",
          "text": [
            "\rExtracting test embeddings (orig):  87%|\u2588\u2588\u2588\u2588\u2588\u2588\u2588\u2588\u258b | 1497/1712 [09:31<01:17,  2.76it/s]"
          ]
        },
        {
          "output_type": "stream",
          "name": "stderr",
          "text": [
            "\rExtracting test embeddings (orig):  88%|\u2588\u2588\u2588\u2588\u2588\u2588\u2588\u2588\u258a | 1498/1712 [09:31<01:13,  2.90it/s]"
          ]
        },
        {
          "output_type": "stream",
          "name": "stderr",
          "text": [
            "\rExtracting test embeddings (orig):  88%|\u2588\u2588\u2588\u2588\u2588\u2588\u2588\u2588\u258a | 1499/1712 [09:32<01:28,  2.41it/s]"
          ]
        },
        {
          "output_type": "stream",
          "name": "stderr",
          "text": [
            "\rExtracting test embeddings (orig):  88%|\u2588\u2588\u2588\u2588\u2588\u2588\u2588\u2588\u258a | 1500/1712 [09:32<01:20,  2.62it/s]"
          ]
        },
        {
          "output_type": "stream",
          "name": "stderr",
          "text": [
            "\rExtracting test embeddings (orig):  88%|\u2588\u2588\u2588\u2588\u2588\u2588\u2588\u2588\u258a | 1501/1712 [09:33<01:16,  2.76it/s]"
          ]
        },
        {
          "output_type": "stream",
          "name": "stderr",
          "text": [
            "\rExtracting test embeddings (orig):  88%|\u2588\u2588\u2588\u2588\u2588\u2588\u2588\u2588\u258a | 1502/1712 [09:33<01:12,  2.89it/s]"
          ]
        },
        {
          "output_type": "stream",
          "name": "stderr",
          "text": [
            "\rExtracting test embeddings (orig):  88%|\u2588\u2588\u2588\u2588\u2588\u2588\u2588\u2588\u258a | 1503/1712 [09:33<01:24,  2.47it/s]"
          ]
        },
        {
          "output_type": "stream",
          "name": "stderr",
          "text": [
            "\rExtracting test embeddings (orig):  88%|\u2588\u2588\u2588\u2588\u2588\u2588\u2588\u2588\u258a | 1504/1712 [09:34<01:18,  2.66it/s]"
          ]
        },
        {
          "output_type": "stream",
          "name": "stderr",
          "text": [
            "\rExtracting test embeddings (orig):  88%|\u2588\u2588\u2588\u2588\u2588\u2588\u2588\u2588\u258a | 1505/1712 [09:34<01:14,  2.79it/s]"
          ]
        },
        {
          "output_type": "stream",
          "name": "stderr",
          "text": [
            "\rExtracting test embeddings (orig):  88%|\u2588\u2588\u2588\u2588\u2588\u2588\u2588\u2588\u258a | 1506/1712 [09:34<01:10,  2.92it/s]"
          ]
        },
        {
          "output_type": "stream",
          "name": "stderr",
          "text": [
            "\rExtracting test embeddings (orig):  88%|\u2588\u2588\u2588\u2588\u2588\u2588\u2588\u2588\u258a | 1507/1712 [09:35<01:22,  2.49it/s]"
          ]
        },
        {
          "output_type": "stream",
          "name": "stderr",
          "text": [
            "\rExtracting test embeddings (orig):  88%|\u2588\u2588\u2588\u2588\u2588\u2588\u2588\u2588\u258a | 1508/1712 [09:35<01:15,  2.68it/s]"
          ]
        },
        {
          "output_type": "stream",
          "name": "stderr",
          "text": [
            "\rExtracting test embeddings (orig):  88%|\u2588\u2588\u2588\u2588\u2588\u2588\u2588\u2588\u258a | 1509/1712 [09:36<01:12,  2.80it/s]"
          ]
        },
        {
          "output_type": "stream",
          "name": "stderr",
          "text": [
            "\rExtracting test embeddings (orig):  88%|\u2588\u2588\u2588\u2588\u2588\u2588\u2588\u2588\u258a | 1510/1712 [09:36<01:09,  2.92it/s]"
          ]
        },
        {
          "output_type": "stream",
          "name": "stderr",
          "text": [
            "\rExtracting test embeddings (orig):  88%|\u2588\u2588\u2588\u2588\u2588\u2588\u2588\u2588\u258a | 1511/1712 [09:36<01:20,  2.50it/s]"
          ]
        },
        {
          "output_type": "stream",
          "name": "stderr",
          "text": [
            "\rExtracting test embeddings (orig):  88%|\u2588\u2588\u2588\u2588\u2588\u2588\u2588\u2588\u258a | 1512/1712 [09:37<01:14,  2.69it/s]"
          ]
        },
        {
          "output_type": "stream",
          "name": "stderr",
          "text": [
            "\rExtracting test embeddings (orig):  88%|\u2588\u2588\u2588\u2588\u2588\u2588\u2588\u2588\u258a | 1513/1712 [09:37<01:10,  2.81it/s]"
          ]
        },
        {
          "output_type": "stream",
          "name": "stderr",
          "text": [
            "\rExtracting test embeddings (orig):  88%|\u2588\u2588\u2588\u2588\u2588\u2588\u2588\u2588\u258a | 1514/1712 [09:37<01:07,  2.93it/s]"
          ]
        },
        {
          "output_type": "stream",
          "name": "stderr",
          "text": [
            "\rExtracting test embeddings (orig):  88%|\u2588\u2588\u2588\u2588\u2588\u2588\u2588\u2588\u258a | 1515/1712 [09:38<01:19,  2.48it/s]"
          ]
        },
        {
          "output_type": "stream",
          "name": "stderr",
          "text": [
            "\rExtracting test embeddings (orig):  89%|\u2588\u2588\u2588\u2588\u2588\u2588\u2588\u2588\u258a | 1516/1712 [09:38<01:13,  2.67it/s]"
          ]
        },
        {
          "output_type": "stream",
          "name": "stderr",
          "text": [
            "\rExtracting test embeddings (orig):  89%|\u2588\u2588\u2588\u2588\u2588\u2588\u2588\u2588\u258a | 1517/1712 [09:39<01:09,  2.79it/s]"
          ]
        },
        {
          "output_type": "stream",
          "name": "stderr",
          "text": [
            "\rExtracting test embeddings (orig):  89%|\u2588\u2588\u2588\u2588\u2588\u2588\u2588\u2588\u258a | 1518/1712 [09:39<01:06,  2.92it/s]"
          ]
        },
        {
          "output_type": "stream",
          "name": "stderr",
          "text": [
            "\rExtracting test embeddings (orig):  89%|\u2588\u2588\u2588\u2588\u2588\u2588\u2588\u2588\u258a | 1519/1712 [09:39<01:19,  2.44it/s]"
          ]
        },
        {
          "output_type": "stream",
          "name": "stderr",
          "text": [
            "\rExtracting test embeddings (orig):  89%|\u2588\u2588\u2588\u2588\u2588\u2588\u2588\u2588\u2589 | 1520/1712 [09:40<01:12,  2.64it/s]"
          ]
        },
        {
          "output_type": "stream",
          "name": "stderr",
          "text": [
            "\rExtracting test embeddings (orig):  89%|\u2588\u2588\u2588\u2588\u2588\u2588\u2588\u2588\u2589 | 1521/1712 [09:40<01:08,  2.77it/s]"
          ]
        },
        {
          "output_type": "stream",
          "name": "stderr",
          "text": [
            "\rExtracting test embeddings (orig):  89%|\u2588\u2588\u2588\u2588\u2588\u2588\u2588\u2588\u2589 | 1522/1712 [09:40<01:05,  2.90it/s]"
          ]
        },
        {
          "output_type": "stream",
          "name": "stderr",
          "text": [
            "\rExtracting test embeddings (orig):  89%|\u2588\u2588\u2588\u2588\u2588\u2588\u2588\u2588\u2589 | 1523/1712 [09:41<01:16,  2.47it/s]"
          ]
        },
        {
          "output_type": "stream",
          "name": "stderr",
          "text": [
            "\rExtracting test embeddings (orig):  89%|\u2588\u2588\u2588\u2588\u2588\u2588\u2588\u2588\u2589 | 1524/1712 [09:41<01:10,  2.66it/s]"
          ]
        },
        {
          "output_type": "stream",
          "name": "stderr",
          "text": [
            "\rExtracting test embeddings (orig):  89%|\u2588\u2588\u2588\u2588\u2588\u2588\u2588\u2588\u2589 | 1525/1712 [09:41<01:07,  2.79it/s]"
          ]
        },
        {
          "output_type": "stream",
          "name": "stderr",
          "text": [
            "\rExtracting test embeddings (orig):  89%|\u2588\u2588\u2588\u2588\u2588\u2588\u2588\u2588\u2589 | 1526/1712 [09:42<01:03,  2.92it/s]"
          ]
        },
        {
          "output_type": "stream",
          "name": "stderr",
          "text": [
            "\rExtracting test embeddings (orig):  89%|\u2588\u2588\u2588\u2588\u2588\u2588\u2588\u2588\u2589 | 1527/1712 [09:42<01:15,  2.45it/s]"
          ]
        },
        {
          "output_type": "stream",
          "name": "stderr",
          "text": [
            "\rExtracting test embeddings (orig):  89%|\u2588\u2588\u2588\u2588\u2588\u2588\u2588\u2588\u2589 | 1528/1712 [09:43<01:09,  2.65it/s]"
          ]
        },
        {
          "output_type": "stream",
          "name": "stderr",
          "text": [
            "\rExtracting test embeddings (orig):  89%|\u2588\u2588\u2588\u2588\u2588\u2588\u2588\u2588\u2589 | 1529/1712 [09:43<01:06,  2.77it/s]"
          ]
        },
        {
          "output_type": "stream",
          "name": "stderr",
          "text": [
            "\rExtracting test embeddings (orig):  89%|\u2588\u2588\u2588\u2588\u2588\u2588\u2588\u2588\u2589 | 1530/1712 [09:43<01:02,  2.90it/s]"
          ]
        },
        {
          "output_type": "stream",
          "name": "stderr",
          "text": [
            "\rExtracting test embeddings (orig):  89%|\u2588\u2588\u2588\u2588\u2588\u2588\u2588\u2588\u2589 | 1531/1712 [09:44<01:14,  2.43it/s]"
          ]
        },
        {
          "output_type": "stream",
          "name": "stderr",
          "text": [
            "\rExtracting test embeddings (orig):  89%|\u2588\u2588\u2588\u2588\u2588\u2588\u2588\u2588\u2589 | 1532/1712 [09:44<01:08,  2.63it/s]"
          ]
        },
        {
          "output_type": "stream",
          "name": "stderr",
          "text": [
            "\rExtracting test embeddings (orig):  90%|\u2588\u2588\u2588\u2588\u2588\u2588\u2588\u2588\u2589 | 1533/1712 [09:44<01:04,  2.76it/s]"
          ]
        },
        {
          "output_type": "stream",
          "name": "stderr",
          "text": [
            "\rExtracting test embeddings (orig):  90%|\u2588\u2588\u2588\u2588\u2588\u2588\u2588\u2588\u2589 | 1534/1712 [09:45<01:01,  2.89it/s]"
          ]
        },
        {
          "output_type": "stream",
          "name": "stderr",
          "text": [
            "\rExtracting test embeddings (orig):  90%|\u2588\u2588\u2588\u2588\u2588\u2588\u2588\u2588\u2589 | 1535/1712 [09:45<01:11,  2.46it/s]"
          ]
        },
        {
          "output_type": "stream",
          "name": "stderr",
          "text": [
            "\rExtracting test embeddings (orig):  90%|\u2588\u2588\u2588\u2588\u2588\u2588\u2588\u2588\u2589 | 1536/1712 [09:46<01:06,  2.65it/s]"
          ]
        },
        {
          "output_type": "stream",
          "name": "stderr",
          "text": [
            "\rExtracting test embeddings (orig):  90%|\u2588\u2588\u2588\u2588\u2588\u2588\u2588\u2588\u2589 | 1537/1712 [09:46<01:02,  2.79it/s]"
          ]
        },
        {
          "output_type": "stream",
          "name": "stderr",
          "text": [
            "\rExtracting test embeddings (orig):  90%|\u2588\u2588\u2588\u2588\u2588\u2588\u2588\u2588\u2589 | 1538/1712 [09:46<00:59,  2.92it/s]"
          ]
        },
        {
          "output_type": "stream",
          "name": "stderr",
          "text": [
            "\rExtracting test embeddings (orig):  90%|\u2588\u2588\u2588\u2588\u2588\u2588\u2588\u2588\u2589 | 1539/1712 [09:47<01:11,  2.42it/s]"
          ]
        },
        {
          "output_type": "stream",
          "name": "stderr",
          "text": [
            "\rExtracting test embeddings (orig):  90%|\u2588\u2588\u2588\u2588\u2588\u2588\u2588\u2588\u2589 | 1540/1712 [09:47<01:05,  2.62it/s]"
          ]
        },
        {
          "output_type": "stream",
          "name": "stderr",
          "text": [
            "\rExtracting test embeddings (orig):  90%|\u2588\u2588\u2588\u2588\u2588\u2588\u2588\u2588\u2588 | 1541/1712 [09:47<01:02,  2.75it/s]"
          ]
        },
        {
          "output_type": "stream",
          "name": "stderr",
          "text": [
            "\rExtracting test embeddings (orig):  90%|\u2588\u2588\u2588\u2588\u2588\u2588\u2588\u2588\u2588 | 1542/1712 [09:48<00:59,  2.88it/s]"
          ]
        },
        {
          "output_type": "stream",
          "name": "stderr",
          "text": [
            "\rExtracting test embeddings (orig):  90%|\u2588\u2588\u2588\u2588\u2588\u2588\u2588\u2588\u2588 | 1543/1712 [09:48<01:08,  2.46it/s]"
          ]
        },
        {
          "output_type": "stream",
          "name": "stderr",
          "text": [
            "\rExtracting test embeddings (orig):  90%|\u2588\u2588\u2588\u2588\u2588\u2588\u2588\u2588\u2588 | 1544/1712 [09:49<01:03,  2.66it/s]"
          ]
        },
        {
          "output_type": "stream",
          "name": "stderr",
          "text": [
            "\rExtracting test embeddings (orig):  90%|\u2588\u2588\u2588\u2588\u2588\u2588\u2588\u2588\u2588 | 1545/1712 [09:49<01:00,  2.77it/s]"
          ]
        },
        {
          "output_type": "stream",
          "name": "stderr",
          "text": [
            "\rExtracting test embeddings (orig):  90%|\u2588\u2588\u2588\u2588\u2588\u2588\u2588\u2588\u2588 | 1546/1712 [09:49<00:57,  2.90it/s]"
          ]
        },
        {
          "output_type": "stream",
          "name": "stderr",
          "text": [
            "\rExtracting test embeddings (orig):  90%|\u2588\u2588\u2588\u2588\u2588\u2588\u2588\u2588\u2588 | 1547/1712 [09:50<01:07,  2.44it/s]"
          ]
        },
        {
          "output_type": "stream",
          "name": "stderr",
          "text": [
            "\rExtracting test embeddings (orig):  90%|\u2588\u2588\u2588\u2588\u2588\u2588\u2588\u2588\u2588 | 1548/1712 [09:50<01:01,  2.65it/s]"
          ]
        },
        {
          "output_type": "stream",
          "name": "stderr",
          "text": [
            "\rExtracting test embeddings (orig):  90%|\u2588\u2588\u2588\u2588\u2588\u2588\u2588\u2588\u2588 | 1549/1712 [09:50<00:58,  2.77it/s]"
          ]
        },
        {
          "output_type": "stream",
          "name": "stderr",
          "text": [
            "\rExtracting test embeddings (orig):  91%|\u2588\u2588\u2588\u2588\u2588\u2588\u2588\u2588\u2588 | 1550/1712 [09:51<00:56,  2.89it/s]"
          ]
        },
        {
          "output_type": "stream",
          "name": "stderr",
          "text": [
            "\rExtracting test embeddings (orig):  91%|\u2588\u2588\u2588\u2588\u2588\u2588\u2588\u2588\u2588 | 1551/1712 [09:51<01:06,  2.44it/s]"
          ]
        },
        {
          "output_type": "stream",
          "name": "stderr",
          "text": [
            "\rExtracting test embeddings (orig):  91%|\u2588\u2588\u2588\u2588\u2588\u2588\u2588\u2588\u2588 | 1552/1712 [09:52<01:00,  2.64it/s]"
          ]
        },
        {
          "output_type": "stream",
          "name": "stderr",
          "text": [
            "\rExtracting test embeddings (orig):  91%|\u2588\u2588\u2588\u2588\u2588\u2588\u2588\u2588\u2588 | 1553/1712 [09:52<00:57,  2.77it/s]"
          ]
        },
        {
          "output_type": "stream",
          "name": "stderr",
          "text": [
            "\rExtracting test embeddings (orig):  91%|\u2588\u2588\u2588\u2588\u2588\u2588\u2588\u2588\u2588 | 1554/1712 [09:52<00:54,  2.90it/s]"
          ]
        },
        {
          "output_type": "stream",
          "name": "stderr",
          "text": [
            "\rExtracting test embeddings (orig):  91%|\u2588\u2588\u2588\u2588\u2588\u2588\u2588\u2588\u2588 | 1555/1712 [09:53<01:04,  2.44it/s]"
          ]
        },
        {
          "output_type": "stream",
          "name": "stderr",
          "text": [
            "\rExtracting test embeddings (orig):  91%|\u2588\u2588\u2588\u2588\u2588\u2588\u2588\u2588\u2588 | 1556/1712 [09:53<00:59,  2.64it/s]"
          ]
        },
        {
          "output_type": "stream",
          "name": "stderr",
          "text": [
            "\rExtracting test embeddings (orig):  91%|\u2588\u2588\u2588\u2588\u2588\u2588\u2588\u2588\u2588 | 1557/1712 [09:53<00:55,  2.78it/s]"
          ]
        },
        {
          "output_type": "stream",
          "name": "stderr",
          "text": [
            "\rExtracting test embeddings (orig):  91%|\u2588\u2588\u2588\u2588\u2588\u2588\u2588\u2588\u2588 | 1558/1712 [09:54<00:52,  2.91it/s]"
          ]
        },
        {
          "output_type": "stream",
          "name": "stderr",
          "text": [
            "\rExtracting test embeddings (orig):  91%|\u2588\u2588\u2588\u2588\u2588\u2588\u2588\u2588\u2588 | 1559/1712 [09:54<01:04,  2.38it/s]"
          ]
        },
        {
          "output_type": "stream",
          "name": "stderr",
          "text": [
            "\rExtracting test embeddings (orig):  91%|\u2588\u2588\u2588\u2588\u2588\u2588\u2588\u2588\u2588 | 1560/1712 [09:55<00:58,  2.60it/s]"
          ]
        },
        {
          "output_type": "stream",
          "name": "stderr",
          "text": [
            "\rExtracting test embeddings (orig):  91%|\u2588\u2588\u2588\u2588\u2588\u2588\u2588\u2588\u2588 | 1561/1712 [09:55<00:55,  2.74it/s]"
          ]
        },
        {
          "output_type": "stream",
          "name": "stderr",
          "text": [
            "\rExtracting test embeddings (orig):  91%|\u2588\u2588\u2588\u2588\u2588\u2588\u2588\u2588\u2588 | 1562/1712 [09:55<00:52,  2.87it/s]"
          ]
        },
        {
          "output_type": "stream",
          "name": "stderr",
          "text": [
            "\rExtracting test embeddings (orig):  91%|\u2588\u2588\u2588\u2588\u2588\u2588\u2588\u2588\u2588\u258f| 1563/1712 [09:56<01:02,  2.38it/s]"
          ]
        },
        {
          "output_type": "stream",
          "name": "stderr",
          "text": [
            "\rExtracting test embeddings (orig):  91%|\u2588\u2588\u2588\u2588\u2588\u2588\u2588\u2588\u2588\u258f| 1564/1712 [09:56<00:57,  2.59it/s]"
          ]
        },
        {
          "output_type": "stream",
          "name": "stderr",
          "text": [
            "\rExtracting test embeddings (orig):  91%|\u2588\u2588\u2588\u2588\u2588\u2588\u2588\u2588\u2588\u258f| 1565/1712 [09:56<00:53,  2.73it/s]"
          ]
        },
        {
          "output_type": "stream",
          "name": "stderr",
          "text": [
            "\rExtracting test embeddings (orig):  91%|\u2588\u2588\u2588\u2588\u2588\u2588\u2588\u2588\u2588\u258f| 1566/1712 [09:57<00:51,  2.86it/s]"
          ]
        },
        {
          "output_type": "stream",
          "name": "stderr",
          "text": [
            "\rExtracting test embeddings (orig):  92%|\u2588\u2588\u2588\u2588\u2588\u2588\u2588\u2588\u2588\u258f| 1567/1712 [09:57<01:00,  2.42it/s]"
          ]
        },
        {
          "output_type": "stream",
          "name": "stderr",
          "text": [
            "\rExtracting test embeddings (orig):  92%|\u2588\u2588\u2588\u2588\u2588\u2588\u2588\u2588\u2588\u258f| 1568/1712 [09:58<00:54,  2.62it/s]"
          ]
        },
        {
          "output_type": "stream",
          "name": "stderr",
          "text": [
            "\rExtracting test embeddings (orig):  92%|\u2588\u2588\u2588\u2588\u2588\u2588\u2588\u2588\u2588\u258f| 1569/1712 [09:58<00:52,  2.75it/s]"
          ]
        },
        {
          "output_type": "stream",
          "name": "stderr",
          "text": [
            "\rExtracting test embeddings (orig):  92%|\u2588\u2588\u2588\u2588\u2588\u2588\u2588\u2588\u2588\u258f| 1570/1712 [09:58<00:49,  2.88it/s]"
          ]
        },
        {
          "output_type": "stream",
          "name": "stderr",
          "text": [
            "\rExtracting test embeddings (orig):  92%|\u2588\u2588\u2588\u2588\u2588\u2588\u2588\u2588\u2588\u258f| 1571/1712 [09:59<00:57,  2.47it/s]"
          ]
        },
        {
          "output_type": "stream",
          "name": "stderr",
          "text": [
            "\rExtracting test embeddings (orig):  92%|\u2588\u2588\u2588\u2588\u2588\u2588\u2588\u2588\u2588\u258f| 1572/1712 [09:59<00:52,  2.66it/s]"
          ]
        },
        {
          "output_type": "stream",
          "name": "stderr",
          "text": [
            "\rExtracting test embeddings (orig):  92%|\u2588\u2588\u2588\u2588\u2588\u2588\u2588\u2588\u2588\u258f| 1573/1712 [09:59<00:49,  2.79it/s]"
          ]
        },
        {
          "output_type": "stream",
          "name": "stderr",
          "text": [
            "\rExtracting test embeddings (orig):  92%|\u2588\u2588\u2588\u2588\u2588\u2588\u2588\u2588\u2588\u258f| 1574/1712 [10:00<00:47,  2.91it/s]"
          ]
        },
        {
          "output_type": "stream",
          "name": "stderr",
          "text": [
            "\rExtracting test embeddings (orig):  92%|\u2588\u2588\u2588\u2588\u2588\u2588\u2588\u2588\u2588\u258f| 1575/1712 [10:00<00:55,  2.48it/s]"
          ]
        },
        {
          "output_type": "stream",
          "name": "stderr",
          "text": [
            "\rExtracting test embeddings (orig):  92%|\u2588\u2588\u2588\u2588\u2588\u2588\u2588\u2588\u2588\u258f| 1576/1712 [10:01<00:50,  2.68it/s]"
          ]
        },
        {
          "output_type": "stream",
          "name": "stderr",
          "text": [
            "\rExtracting test embeddings (orig):  92%|\u2588\u2588\u2588\u2588\u2588\u2588\u2588\u2588\u2588\u258f| 1577/1712 [10:01<00:48,  2.80it/s]"
          ]
        },
        {
          "output_type": "stream",
          "name": "stderr",
          "text": [
            "\rExtracting test embeddings (orig):  92%|\u2588\u2588\u2588\u2588\u2588\u2588\u2588\u2588\u2588\u258f| 1578/1712 [10:01<00:45,  2.92it/s]"
          ]
        },
        {
          "output_type": "stream",
          "name": "stderr",
          "text": [
            "\rExtracting test embeddings (orig):  92%|\u2588\u2588\u2588\u2588\u2588\u2588\u2588\u2588\u2588\u258f| 1579/1712 [10:02<00:49,  2.66it/s]"
          ]
        },
        {
          "output_type": "stream",
          "name": "stderr",
          "text": [
            "\rExtracting test embeddings (orig):  92%|\u2588\u2588\u2588\u2588\u2588\u2588\u2588\u2588\u2588\u258f| 1580/1712 [10:02<00:46,  2.82it/s]"
          ]
        },
        {
          "output_type": "stream",
          "name": "stderr",
          "text": [
            "\rExtracting test embeddings (orig):  92%|\u2588\u2588\u2588\u2588\u2588\u2588\u2588\u2588\u2588\u258f| 1581/1712 [10:02<00:45,  2.89it/s]"
          ]
        },
        {
          "output_type": "stream",
          "name": "stderr",
          "text": [
            "\rExtracting test embeddings (orig):  92%|\u2588\u2588\u2588\u2588\u2588\u2588\u2588\u2588\u2588\u258f| 1582/1712 [10:03<00:43,  2.99it/s]"
          ]
        },
        {
          "output_type": "stream",
          "name": "stderr",
          "text": [
            "\rExtracting test embeddings (orig):  92%|\u2588\u2588\u2588\u2588\u2588\u2588\u2588\u2588\u2588\u258f| 1583/1712 [10:03<00:51,  2.53it/s]"
          ]
        },
        {
          "output_type": "stream",
          "name": "stderr",
          "text": [
            "\rExtracting test embeddings (orig):  93%|\u2588\u2588\u2588\u2588\u2588\u2588\u2588\u2588\u2588\u258e| 1584/1712 [10:03<00:47,  2.71it/s]"
          ]
        },
        {
          "output_type": "stream",
          "name": "stderr",
          "text": [
            "\rExtracting test embeddings (orig):  93%|\u2588\u2588\u2588\u2588\u2588\u2588\u2588\u2588\u2588\u258e| 1585/1712 [10:04<00:45,  2.82it/s]"
          ]
        },
        {
          "output_type": "stream",
          "name": "stderr",
          "text": [
            "\rExtracting test embeddings (orig):  93%|\u2588\u2588\u2588\u2588\u2588\u2588\u2588\u2588\u2588\u258e| 1586/1712 [10:04<00:43,  2.93it/s]"
          ]
        },
        {
          "output_type": "stream",
          "name": "stderr",
          "text": [
            "\rExtracting test embeddings (orig):  93%|\u2588\u2588\u2588\u2588\u2588\u2588\u2588\u2588\u2588\u258e| 1587/1712 [10:05<00:50,  2.49it/s]"
          ]
        },
        {
          "output_type": "stream",
          "name": "stderr",
          "text": [
            "\rExtracting test embeddings (orig):  93%|\u2588\u2588\u2588\u2588\u2588\u2588\u2588\u2588\u2588\u258e| 1588/1712 [10:05<00:46,  2.69it/s]"
          ]
        },
        {
          "output_type": "stream",
          "name": "stderr",
          "text": [
            "\rExtracting test embeddings (orig):  93%|\u2588\u2588\u2588\u2588\u2588\u2588\u2588\u2588\u2588\u258e| 1589/1712 [10:05<00:43,  2.80it/s]"
          ]
        },
        {
          "output_type": "stream",
          "name": "stderr",
          "text": [
            "\rExtracting test embeddings (orig):  93%|\u2588\u2588\u2588\u2588\u2588\u2588\u2588\u2588\u2588\u258e| 1590/1712 [10:06<00:41,  2.92it/s]"
          ]
        },
        {
          "output_type": "stream",
          "name": "stderr",
          "text": [
            "\rExtracting test embeddings (orig):  93%|\u2588\u2588\u2588\u2588\u2588\u2588\u2588\u2588\u2588\u258e| 1591/1712 [10:06<00:48,  2.52it/s]"
          ]
        },
        {
          "output_type": "stream",
          "name": "stderr",
          "text": [
            "\rExtracting test embeddings (orig):  93%|\u2588\u2588\u2588\u2588\u2588\u2588\u2588\u2588\u2588\u258e| 1592/1712 [10:06<00:44,  2.71it/s]"
          ]
        },
        {
          "output_type": "stream",
          "name": "stderr",
          "text": [
            "\rExtracting test embeddings (orig):  93%|\u2588\u2588\u2588\u2588\u2588\u2588\u2588\u2588\u2588\u258e| 1593/1712 [10:07<00:42,  2.83it/s]"
          ]
        },
        {
          "output_type": "stream",
          "name": "stderr",
          "text": [
            "\rExtracting test embeddings (orig):  93%|\u2588\u2588\u2588\u2588\u2588\u2588\u2588\u2588\u2588\u258e| 1594/1712 [10:07<00:40,  2.94it/s]"
          ]
        },
        {
          "output_type": "stream",
          "name": "stderr",
          "text": [
            "\rExtracting test embeddings (orig):  93%|\u2588\u2588\u2588\u2588\u2588\u2588\u2588\u2588\u2588\u258e| 1595/1712 [10:08<00:47,  2.48it/s]"
          ]
        },
        {
          "output_type": "stream",
          "name": "stderr",
          "text": [
            "\rExtracting test embeddings (orig):  93%|\u2588\u2588\u2588\u2588\u2588\u2588\u2588\u2588\u2588\u258e| 1596/1712 [10:08<00:43,  2.68it/s]"
          ]
        },
        {
          "output_type": "stream",
          "name": "stderr",
          "text": [
            "\rExtracting test embeddings (orig):  93%|\u2588\u2588\u2588\u2588\u2588\u2588\u2588\u2588\u2588\u258e| 1597/1712 [10:08<00:41,  2.80it/s]"
          ]
        },
        {
          "output_type": "stream",
          "name": "stderr",
          "text": [
            "\rExtracting test embeddings (orig):  93%|\u2588\u2588\u2588\u2588\u2588\u2588\u2588\u2588\u2588\u258e| 1598/1712 [10:09<00:38,  2.93it/s]"
          ]
        },
        {
          "output_type": "stream",
          "name": "stderr",
          "text": [
            "\rExtracting test embeddings (orig):  93%|\u2588\u2588\u2588\u2588\u2588\u2588\u2588\u2588\u2588\u258e| 1599/1712 [10:09<00:44,  2.51it/s]"
          ]
        },
        {
          "output_type": "stream",
          "name": "stderr",
          "text": [
            "\rExtracting test embeddings (orig):  93%|\u2588\u2588\u2588\u2588\u2588\u2588\u2588\u2588\u2588\u258e| 1600/1712 [10:09<00:41,  2.70it/s]"
          ]
        },
        {
          "output_type": "stream",
          "name": "stderr",
          "text": [
            "\rExtracting test embeddings (orig):  94%|\u2588\u2588\u2588\u2588\u2588\u2588\u2588\u2588\u2588\u258e| 1601/1712 [10:10<00:39,  2.82it/s]"
          ]
        },
        {
          "output_type": "stream",
          "name": "stderr",
          "text": [
            "\rExtracting test embeddings (orig):  94%|\u2588\u2588\u2588\u2588\u2588\u2588\u2588\u2588\u2588\u258e| 1602/1712 [10:10<00:37,  2.94it/s]"
          ]
        },
        {
          "output_type": "stream",
          "name": "stderr",
          "text": [
            "\rExtracting test embeddings (orig):  94%|\u2588\u2588\u2588\u2588\u2588\u2588\u2588\u2588\u2588\u258e| 1603/1712 [10:11<00:44,  2.47it/s]"
          ]
        },
        {
          "output_type": "stream",
          "name": "stderr",
          "text": [
            "\rExtracting test embeddings (orig):  94%|\u2588\u2588\u2588\u2588\u2588\u2588\u2588\u2588\u2588\u258e| 1604/1712 [10:11<00:40,  2.67it/s]"
          ]
        },
        {
          "output_type": "stream",
          "name": "stderr",
          "text": [
            "\rExtracting test embeddings (orig):  94%|\u2588\u2588\u2588\u2588\u2588\u2588\u2588\u2588\u2588\u258d| 1605/1712 [10:11<00:38,  2.78it/s]"
          ]
        },
        {
          "output_type": "stream",
          "name": "stderr",
          "text": [
            "\rExtracting test embeddings (orig):  94%|\u2588\u2588\u2588\u2588\u2588\u2588\u2588\u2588\u2588\u258d| 1606/1712 [10:11<00:36,  2.91it/s]"
          ]
        },
        {
          "output_type": "stream",
          "name": "stderr",
          "text": [
            "\rExtracting test embeddings (orig):  94%|\u2588\u2588\u2588\u2588\u2588\u2588\u2588\u2588\u2588\u258d| 1607/1712 [10:12<00:42,  2.48it/s]"
          ]
        },
        {
          "output_type": "stream",
          "name": "stderr",
          "text": [
            "\rExtracting test embeddings (orig):  94%|\u2588\u2588\u2588\u2588\u2588\u2588\u2588\u2588\u2588\u258d| 1608/1712 [10:12<00:38,  2.67it/s]"
          ]
        },
        {
          "output_type": "stream",
          "name": "stderr",
          "text": [
            "\rExtracting test embeddings (orig):  94%|\u2588\u2588\u2588\u2588\u2588\u2588\u2588\u2588\u2588\u258d| 1609/1712 [10:13<00:36,  2.79it/s]"
          ]
        },
        {
          "output_type": "stream",
          "name": "stderr",
          "text": [
            "\rExtracting test embeddings (orig):  94%|\u2588\u2588\u2588\u2588\u2588\u2588\u2588\u2588\u2588\u258d| 1610/1712 [10:13<00:34,  2.91it/s]"
          ]
        },
        {
          "output_type": "stream",
          "name": "stderr",
          "text": [
            "\rExtracting test embeddings (orig):  94%|\u2588\u2588\u2588\u2588\u2588\u2588\u2588\u2588\u2588\u258d| 1611/1712 [10:14<00:41,  2.45it/s]"
          ]
        },
        {
          "output_type": "stream",
          "name": "stderr",
          "text": [
            "\rExtracting test embeddings (orig):  94%|\u2588\u2588\u2588\u2588\u2588\u2588\u2588\u2588\u2588\u258d| 1612/1712 [10:14<00:37,  2.66it/s]"
          ]
        },
        {
          "output_type": "stream",
          "name": "stderr",
          "text": [
            "\rExtracting test embeddings (orig):  94%|\u2588\u2588\u2588\u2588\u2588\u2588\u2588\u2588\u2588\u258d| 1613/1712 [10:14<00:35,  2.79it/s]"
          ]
        },
        {
          "output_type": "stream",
          "name": "stderr",
          "text": [
            "\rExtracting test embeddings (orig):  94%|\u2588\u2588\u2588\u2588\u2588\u2588\u2588\u2588\u2588\u258d| 1614/1712 [10:14<00:33,  2.91it/s]"
          ]
        },
        {
          "output_type": "stream",
          "name": "stderr",
          "text": [
            "\rExtracting test embeddings (orig):  94%|\u2588\u2588\u2588\u2588\u2588\u2588\u2588\u2588\u2588\u258d| 1615/1712 [10:15<00:42,  2.29it/s]"
          ]
        },
        {
          "output_type": "stream",
          "name": "stderr",
          "text": [
            "\rExtracting test embeddings (orig):  94%|\u2588\u2588\u2588\u2588\u2588\u2588\u2588\u2588\u2588\u258d| 1616/1712 [10:15<00:38,  2.52it/s]"
          ]
        },
        {
          "output_type": "stream",
          "name": "stderr",
          "text": [
            "\rExtracting test embeddings (orig):  94%|\u2588\u2588\u2588\u2588\u2588\u2588\u2588\u2588\u2588\u258d| 1617/1712 [10:16<00:35,  2.68it/s]"
          ]
        },
        {
          "output_type": "stream",
          "name": "stderr",
          "text": [
            "\rExtracting test embeddings (orig):  95%|\u2588\u2588\u2588\u2588\u2588\u2588\u2588\u2588\u2588\u258d| 1618/1712 [10:16<00:33,  2.82it/s]"
          ]
        },
        {
          "output_type": "stream",
          "name": "stderr",
          "text": [
            "\rExtracting test embeddings (orig):  95%|\u2588\u2588\u2588\u2588\u2588\u2588\u2588\u2588\u2588\u258d| 1619/1712 [10:17<00:38,  2.40it/s]"
          ]
        },
        {
          "output_type": "stream",
          "name": "stderr",
          "text": [
            "\rExtracting test embeddings (orig):  95%|\u2588\u2588\u2588\u2588\u2588\u2588\u2588\u2588\u2588\u258d| 1620/1712 [10:17<00:35,  2.61it/s]"
          ]
        },
        {
          "output_type": "stream",
          "name": "stderr",
          "text": [
            "\rExtracting test embeddings (orig):  95%|\u2588\u2588\u2588\u2588\u2588\u2588\u2588\u2588\u2588\u258d| 1621/1712 [10:17<00:33,  2.75it/s]"
          ]
        },
        {
          "output_type": "stream",
          "name": "stderr",
          "text": [
            "\rExtracting test embeddings (orig):  95%|\u2588\u2588\u2588\u2588\u2588\u2588\u2588\u2588\u2588\u258d| 1622/1712 [10:18<00:31,  2.89it/s]"
          ]
        },
        {
          "output_type": "stream",
          "name": "stderr",
          "text": [
            "\rExtracting test embeddings (orig):  95%|\u2588\u2588\u2588\u2588\u2588\u2588\u2588\u2588\u2588\u258d| 1623/1712 [10:18<00:39,  2.26it/s]"
          ]
        },
        {
          "output_type": "stream",
          "name": "stderr",
          "text": [
            "\rExtracting test embeddings (orig):  95%|\u2588\u2588\u2588\u2588\u2588\u2588\u2588\u2588\u2588\u258d| 1624/1712 [10:18<00:35,  2.49it/s]"
          ]
        },
        {
          "output_type": "stream",
          "name": "stderr",
          "text": [
            "\rExtracting test embeddings (orig):  95%|\u2588\u2588\u2588\u2588\u2588\u2588\u2588\u2588\u2588\u258d| 1625/1712 [10:19<00:32,  2.66it/s]"
          ]
        },
        {
          "output_type": "stream",
          "name": "stderr",
          "text": [
            "\rExtracting test embeddings (orig):  95%|\u2588\u2588\u2588\u2588\u2588\u2588\u2588\u2588\u2588\u258d| 1626/1712 [10:19<00:30,  2.82it/s]"
          ]
        },
        {
          "output_type": "stream",
          "name": "stderr",
          "text": [
            "\rExtracting test embeddings (orig):  95%|\u2588\u2588\u2588\u2588\u2588\u2588\u2588\u2588\u2588\u258c| 1627/1712 [10:20<00:35,  2.41it/s]"
          ]
        },
        {
          "output_type": "stream",
          "name": "stderr",
          "text": [
            "\rExtracting test embeddings (orig):  95%|\u2588\u2588\u2588\u2588\u2588\u2588\u2588\u2588\u2588\u258c| 1628/1712 [10:20<00:32,  2.62it/s]"
          ]
        },
        {
          "output_type": "stream",
          "name": "stderr",
          "text": [
            "\rExtracting test embeddings (orig):  95%|\u2588\u2588\u2588\u2588\u2588\u2588\u2588\u2588\u2588\u258c| 1629/1712 [10:20<00:30,  2.76it/s]"
          ]
        },
        {
          "output_type": "stream",
          "name": "stderr",
          "text": [
            "\rExtracting test embeddings (orig):  95%|\u2588\u2588\u2588\u2588\u2588\u2588\u2588\u2588\u2588\u258c| 1630/1712 [10:21<00:28,  2.89it/s]"
          ]
        },
        {
          "output_type": "stream",
          "name": "stderr",
          "text": [
            "\rExtracting test embeddings (orig):  95%|\u2588\u2588\u2588\u2588\u2588\u2588\u2588\u2588\u2588\u258c| 1631/1712 [10:21<00:32,  2.48it/s]"
          ]
        },
        {
          "output_type": "stream",
          "name": "stderr",
          "text": [
            "\rExtracting test embeddings (orig):  95%|\u2588\u2588\u2588\u2588\u2588\u2588\u2588\u2588\u2588\u258c| 1632/1712 [10:21<00:30,  2.67it/s]"
          ]
        },
        {
          "output_type": "stream",
          "name": "stderr",
          "text": [
            "\rExtracting test embeddings (orig):  95%|\u2588\u2588\u2588\u2588\u2588\u2588\u2588\u2588\u2588\u258c| 1633/1712 [10:22<00:28,  2.79it/s]"
          ]
        },
        {
          "output_type": "stream",
          "name": "stderr",
          "text": [
            "\rExtracting test embeddings (orig):  95%|\u2588\u2588\u2588\u2588\u2588\u2588\u2588\u2588\u2588\u258c| 1634/1712 [10:22<00:26,  2.92it/s]"
          ]
        },
        {
          "output_type": "stream",
          "name": "stderr",
          "text": [
            "\rExtracting test embeddings (orig):  96%|\u2588\u2588\u2588\u2588\u2588\u2588\u2588\u2588\u2588\u258c| 1635/1712 [10:23<00:31,  2.45it/s]"
          ]
        },
        {
          "output_type": "stream",
          "name": "stderr",
          "text": [
            "\rExtracting test embeddings (orig):  96%|\u2588\u2588\u2588\u2588\u2588\u2588\u2588\u2588\u2588\u258c| 1636/1712 [10:23<00:28,  2.65it/s]"
          ]
        },
        {
          "output_type": "stream",
          "name": "stderr",
          "text": [
            "\rExtracting test embeddings (orig):  96%|\u2588\u2588\u2588\u2588\u2588\u2588\u2588\u2588\u2588\u258c| 1637/1712 [10:23<00:27,  2.77it/s]"
          ]
        },
        {
          "output_type": "stream",
          "name": "stderr",
          "text": [
            "\rExtracting test embeddings (orig):  96%|\u2588\u2588\u2588\u2588\u2588\u2588\u2588\u2588\u2588\u258c| 1638/1712 [10:24<00:25,  2.90it/s]"
          ]
        },
        {
          "output_type": "stream",
          "name": "stderr",
          "text": [
            "\rExtracting test embeddings (orig):  96%|\u2588\u2588\u2588\u2588\u2588\u2588\u2588\u2588\u2588\u258c| 1639/1712 [10:24<00:29,  2.47it/s]"
          ]
        },
        {
          "output_type": "stream",
          "name": "stderr",
          "text": [
            "\rExtracting test embeddings (orig):  96%|\u2588\u2588\u2588\u2588\u2588\u2588\u2588\u2588\u2588\u258c| 1640/1712 [10:24<00:26,  2.67it/s]"
          ]
        },
        {
          "output_type": "stream",
          "name": "stderr",
          "text": [
            "\rExtracting test embeddings (orig):  96%|\u2588\u2588\u2588\u2588\u2588\u2588\u2588\u2588\u2588\u258c| 1641/1712 [10:25<00:25,  2.78it/s]"
          ]
        },
        {
          "output_type": "stream",
          "name": "stderr",
          "text": [
            "\rExtracting test embeddings (orig):  96%|\u2588\u2588\u2588\u2588\u2588\u2588\u2588\u2588\u2588\u258c| 1642/1712 [10:25<00:24,  2.90it/s]"
          ]
        },
        {
          "output_type": "stream",
          "name": "stderr",
          "text": [
            "\rExtracting test embeddings (orig):  96%|\u2588\u2588\u2588\u2588\u2588\u2588\u2588\u2588\u2588\u258c| 1643/1712 [10:26<00:27,  2.48it/s]"
          ]
        },
        {
          "output_type": "stream",
          "name": "stderr",
          "text": [
            "\rExtracting test embeddings (orig):  96%|\u2588\u2588\u2588\u2588\u2588\u2588\u2588\u2588\u2588\u258c| 1644/1712 [10:26<00:25,  2.68it/s]"
          ]
        },
        {
          "output_type": "stream",
          "name": "stderr",
          "text": [
            "\rExtracting test embeddings (orig):  96%|\u2588\u2588\u2588\u2588\u2588\u2588\u2588\u2588\u2588\u258c| 1645/1712 [10:26<00:23,  2.80it/s]"
          ]
        },
        {
          "output_type": "stream",
          "name": "stderr",
          "text": [
            "\rExtracting test embeddings (orig):  96%|\u2588\u2588\u2588\u2588\u2588\u2588\u2588\u2588\u2588\u258c| 1646/1712 [10:27<00:22,  2.92it/s]"
          ]
        },
        {
          "output_type": "stream",
          "name": "stderr",
          "text": [
            "\rExtracting test embeddings (orig):  96%|\u2588\u2588\u2588\u2588\u2588\u2588\u2588\u2588\u2588\u258c| 1647/1712 [10:27<00:24,  2.65it/s]"
          ]
        },
        {
          "output_type": "stream",
          "name": "stderr",
          "text": [
            "\rExtracting test embeddings (orig):  96%|\u2588\u2588\u2588\u2588\u2588\u2588\u2588\u2588\u2588\u258b| 1648/1712 [10:27<00:22,  2.80it/s]"
          ]
        },
        {
          "output_type": "stream",
          "name": "stderr",
          "text": [
            "\rExtracting test embeddings (orig):  96%|\u2588\u2588\u2588\u2588\u2588\u2588\u2588\u2588\u2588\u258b| 1649/1712 [10:28<00:21,  2.90it/s]"
          ]
        },
        {
          "output_type": "stream",
          "name": "stderr",
          "text": [
            "\rExtracting test embeddings (orig):  96%|\u2588\u2588\u2588\u2588\u2588\u2588\u2588\u2588\u2588\u258b| 1650/1712 [10:28<00:20,  3.00it/s]"
          ]
        },
        {
          "output_type": "stream",
          "name": "stderr",
          "text": [
            "\rExtracting test embeddings (orig):  96%|\u2588\u2588\u2588\u2588\u2588\u2588\u2588\u2588\u2588\u258b| 1651/1712 [10:28<00:24,  2.50it/s]"
          ]
        },
        {
          "output_type": "stream",
          "name": "stderr",
          "text": [
            "\rExtracting test embeddings (orig):  96%|\u2588\u2588\u2588\u2588\u2588\u2588\u2588\u2588\u2588\u258b| 1652/1712 [10:29<00:22,  2.69it/s]"
          ]
        },
        {
          "output_type": "stream",
          "name": "stderr",
          "text": [
            "\rExtracting test embeddings (orig):  97%|\u2588\u2588\u2588\u2588\u2588\u2588\u2588\u2588\u2588\u258b| 1653/1712 [10:29<00:20,  2.81it/s]"
          ]
        },
        {
          "output_type": "stream",
          "name": "stderr",
          "text": [
            "\rExtracting test embeddings (orig):  97%|\u2588\u2588\u2588\u2588\u2588\u2588\u2588\u2588\u2588\u258b| 1654/1712 [10:29<00:19,  2.93it/s]"
          ]
        },
        {
          "output_type": "stream",
          "name": "stderr",
          "text": [
            "\rExtracting test embeddings (orig):  97%|\u2588\u2588\u2588\u2588\u2588\u2588\u2588\u2588\u2588\u258b| 1655/1712 [10:30<00:23,  2.44it/s]"
          ]
        },
        {
          "output_type": "stream",
          "name": "stderr",
          "text": [
            "\rExtracting test embeddings (orig):  97%|\u2588\u2588\u2588\u2588\u2588\u2588\u2588\u2588\u2588\u258b| 1656/1712 [10:30<00:21,  2.64it/s]"
          ]
        },
        {
          "output_type": "stream",
          "name": "stderr",
          "text": [
            "\rExtracting test embeddings (orig):  97%|\u2588\u2588\u2588\u2588\u2588\u2588\u2588\u2588\u2588\u258b| 1657/1712 [10:31<00:19,  2.76it/s]"
          ]
        },
        {
          "output_type": "stream",
          "name": "stderr",
          "text": [
            "\rExtracting test embeddings (orig):  97%|\u2588\u2588\u2588\u2588\u2588\u2588\u2588\u2588\u2588\u258b| 1658/1712 [10:31<00:18,  2.89it/s]"
          ]
        },
        {
          "output_type": "stream",
          "name": "stderr",
          "text": [
            "\rExtracting test embeddings (orig):  97%|\u2588\u2588\u2588\u2588\u2588\u2588\u2588\u2588\u2588\u258b| 1659/1712 [10:31<00:21,  2.47it/s]"
          ]
        },
        {
          "output_type": "stream",
          "name": "stderr",
          "text": [
            "\rExtracting test embeddings (orig):  97%|\u2588\u2588\u2588\u2588\u2588\u2588\u2588\u2588\u2588\u258b| 1660/1712 [10:32<00:19,  2.67it/s]"
          ]
        },
        {
          "output_type": "stream",
          "name": "stderr",
          "text": [
            "\rExtracting test embeddings (orig):  97%|\u2588\u2588\u2588\u2588\u2588\u2588\u2588\u2588\u2588\u258b| 1661/1712 [10:32<00:18,  2.79it/s]"
          ]
        },
        {
          "output_type": "stream",
          "name": "stderr",
          "text": [
            "\rExtracting test embeddings (orig):  97%|\u2588\u2588\u2588\u2588\u2588\u2588\u2588\u2588\u2588\u258b| 1662/1712 [10:32<00:17,  2.91it/s]"
          ]
        },
        {
          "output_type": "stream",
          "name": "stderr",
          "text": [
            "\rExtracting test embeddings (orig):  97%|\u2588\u2588\u2588\u2588\u2588\u2588\u2588\u2588\u2588\u258b| 1663/1712 [10:33<00:20,  2.44it/s]"
          ]
        },
        {
          "output_type": "stream",
          "name": "stderr",
          "text": [
            "\rExtracting test embeddings (orig):  97%|\u2588\u2588\u2588\u2588\u2588\u2588\u2588\u2588\u2588\u258b| 1664/1712 [10:33<00:18,  2.64it/s]"
          ]
        },
        {
          "output_type": "stream",
          "name": "stderr",
          "text": [
            "\rExtracting test embeddings (orig):  97%|\u2588\u2588\u2588\u2588\u2588\u2588\u2588\u2588\u2588\u258b| 1665/1712 [10:34<00:16,  2.78it/s]"
          ]
        },
        {
          "output_type": "stream",
          "name": "stderr",
          "text": [
            "\rExtracting test embeddings (orig):  97%|\u2588\u2588\u2588\u2588\u2588\u2588\u2588\u2588\u2588\u258b| 1666/1712 [10:34<00:15,  2.91it/s]"
          ]
        },
        {
          "output_type": "stream",
          "name": "stderr",
          "text": [
            "\rExtracting test embeddings (orig):  97%|\u2588\u2588\u2588\u2588\u2588\u2588\u2588\u2588\u2588\u258b| 1667/1712 [10:34<00:17,  2.50it/s]"
          ]
        },
        {
          "output_type": "stream",
          "name": "stderr",
          "text": [
            "\rExtracting test embeddings (orig):  97%|\u2588\u2588\u2588\u2588\u2588\u2588\u2588\u2588\u2588\u258b| 1668/1712 [10:35<00:16,  2.69it/s]"
          ]
        },
        {
          "output_type": "stream",
          "name": "stderr",
          "text": [
            "\rExtracting test embeddings (orig):  97%|\u2588\u2588\u2588\u2588\u2588\u2588\u2588\u2588\u2588\u258b| 1669/1712 [10:35<00:15,  2.81it/s]"
          ]
        },
        {
          "output_type": "stream",
          "name": "stderr",
          "text": [
            "\rExtracting test embeddings (orig):  98%|\u2588\u2588\u2588\u2588\u2588\u2588\u2588\u2588\u2588\u258a| 1670/1712 [10:35<00:14,  2.92it/s]"
          ]
        },
        {
          "output_type": "stream",
          "name": "stderr",
          "text": [
            "\rExtracting test embeddings (orig):  98%|\u2588\u2588\u2588\u2588\u2588\u2588\u2588\u2588\u2588\u258a| 1671/1712 [10:36<00:17,  2.31it/s]"
          ]
        },
        {
          "output_type": "stream",
          "name": "stderr",
          "text": [
            "\rExtracting test embeddings (orig):  98%|\u2588\u2588\u2588\u2588\u2588\u2588\u2588\u2588\u2588\u258a| 1672/1712 [10:36<00:15,  2.54it/s]"
          ]
        },
        {
          "output_type": "stream",
          "name": "stderr",
          "text": [
            "\rExtracting test embeddings (orig):  98%|\u2588\u2588\u2588\u2588\u2588\u2588\u2588\u2588\u2588\u258a| 1673/1712 [10:37<00:14,  2.69it/s]"
          ]
        },
        {
          "output_type": "stream",
          "name": "stderr",
          "text": [
            "\rExtracting test embeddings (orig):  98%|\u2588\u2588\u2588\u2588\u2588\u2588\u2588\u2588\u2588\u258a| 1674/1712 [10:37<00:13,  2.84it/s]"
          ]
        },
        {
          "output_type": "stream",
          "name": "stderr",
          "text": [
            "\rExtracting test embeddings (orig):  98%|\u2588\u2588\u2588\u2588\u2588\u2588\u2588\u2588\u2588\u258a| 1675/1712 [10:37<00:13,  2.65it/s]"
          ]
        },
        {
          "output_type": "stream",
          "name": "stderr",
          "text": [
            "\rExtracting test embeddings (orig):  98%|\u2588\u2588\u2588\u2588\u2588\u2588\u2588\u2588\u2588\u258a| 1676/1712 [10:38<00:12,  2.81it/s]"
          ]
        },
        {
          "output_type": "stream",
          "name": "stderr",
          "text": [
            "\rExtracting test embeddings (orig):  98%|\u2588\u2588\u2588\u2588\u2588\u2588\u2588\u2588\u2588\u258a| 1677/1712 [10:38<00:12,  2.89it/s]"
          ]
        },
        {
          "output_type": "stream",
          "name": "stderr",
          "text": [
            "\rExtracting test embeddings (orig):  98%|\u2588\u2588\u2588\u2588\u2588\u2588\u2588\u2588\u2588\u258a| 1678/1712 [10:38<00:11,  2.99it/s]"
          ]
        },
        {
          "output_type": "stream",
          "name": "stderr",
          "text": [
            "\rExtracting test embeddings (orig):  98%|\u2588\u2588\u2588\u2588\u2588\u2588\u2588\u2588\u2588\u258a| 1679/1712 [10:39<00:13,  2.47it/s]"
          ]
        },
        {
          "output_type": "stream",
          "name": "stderr",
          "text": [
            "\rExtracting test embeddings (orig):  98%|\u2588\u2588\u2588\u2588\u2588\u2588\u2588\u2588\u2588\u258a| 1680/1712 [10:39<00:12,  2.66it/s]"
          ]
        },
        {
          "output_type": "stream",
          "name": "stderr",
          "text": [
            "\rExtracting test embeddings (orig):  98%|\u2588\u2588\u2588\u2588\u2588\u2588\u2588\u2588\u2588\u258a| 1681/1712 [10:39<00:11,  2.79it/s]"
          ]
        },
        {
          "output_type": "stream",
          "name": "stderr",
          "text": [
            "\rExtracting test embeddings (orig):  98%|\u2588\u2588\u2588\u2588\u2588\u2588\u2588\u2588\u2588\u258a| 1682/1712 [10:40<00:10,  2.91it/s]"
          ]
        },
        {
          "output_type": "stream",
          "name": "stderr",
          "text": [
            "\rExtracting test embeddings (orig):  98%|\u2588\u2588\u2588\u2588\u2588\u2588\u2588\u2588\u2588\u258a| 1683/1712 [10:40<00:11,  2.49it/s]"
          ]
        },
        {
          "output_type": "stream",
          "name": "stderr",
          "text": [
            "\rExtracting test embeddings (orig):  98%|\u2588\u2588\u2588\u2588\u2588\u2588\u2588\u2588\u2588\u258a| 1684/1712 [10:41<00:10,  2.69it/s]"
          ]
        },
        {
          "output_type": "stream",
          "name": "stderr",
          "text": [
            "\rExtracting test embeddings (orig):  98%|\u2588\u2588\u2588\u2588\u2588\u2588\u2588\u2588\u2588\u258a| 1685/1712 [10:41<00:09,  2.81it/s]"
          ]
        },
        {
          "output_type": "stream",
          "name": "stderr",
          "text": [
            "\rExtracting test embeddings (orig):  98%|\u2588\u2588\u2588\u2588\u2588\u2588\u2588\u2588\u2588\u258a| 1686/1712 [10:41<00:08,  2.92it/s]"
          ]
        },
        {
          "output_type": "stream",
          "name": "stderr",
          "text": [
            "\rExtracting test embeddings (orig):  99%|\u2588\u2588\u2588\u2588\u2588\u2588\u2588\u2588\u2588\u258a| 1687/1712 [10:42<00:10,  2.50it/s]"
          ]
        },
        {
          "output_type": "stream",
          "name": "stderr",
          "text": [
            "\rExtracting test embeddings (orig):  99%|\u2588\u2588\u2588\u2588\u2588\u2588\u2588\u2588\u2588\u258a| 1688/1712 [10:42<00:08,  2.68it/s]"
          ]
        },
        {
          "output_type": "stream",
          "name": "stderr",
          "text": [
            "\rExtracting test embeddings (orig):  99%|\u2588\u2588\u2588\u2588\u2588\u2588\u2588\u2588\u2588\u258a| 1689/1712 [10:42<00:08,  2.81it/s]"
          ]
        },
        {
          "output_type": "stream",
          "name": "stderr",
          "text": [
            "\rExtracting test embeddings (orig):  99%|\u2588\u2588\u2588\u2588\u2588\u2588\u2588\u2588\u2588\u258a| 1690/1712 [10:43<00:07,  2.93it/s]"
          ]
        },
        {
          "output_type": "stream",
          "name": "stderr",
          "text": [
            "\rExtracting test embeddings (orig):  99%|\u2588\u2588\u2588\u2588\u2588\u2588\u2588\u2588\u2588\u2589| 1691/1712 [10:43<00:09,  2.31it/s]"
          ]
        },
        {
          "output_type": "stream",
          "name": "stderr",
          "text": [
            "\rExtracting test embeddings (orig):  99%|\u2588\u2588\u2588\u2588\u2588\u2588\u2588\u2588\u2588\u2589| 1692/1712 [10:44<00:07,  2.53it/s]"
          ]
        },
        {
          "output_type": "stream",
          "name": "stderr",
          "text": [
            "\rExtracting test embeddings (orig):  99%|\u2588\u2588\u2588\u2588\u2588\u2588\u2588\u2588\u2588\u2589| 1693/1712 [10:44<00:07,  2.68it/s]"
          ]
        },
        {
          "output_type": "stream",
          "name": "stderr",
          "text": [
            "\rExtracting test embeddings (orig):  99%|\u2588\u2588\u2588\u2588\u2588\u2588\u2588\u2588\u2588\u2589| 1694/1712 [10:44<00:06,  2.84it/s]"
          ]
        },
        {
          "output_type": "stream",
          "name": "stderr",
          "text": [
            "\rExtracting test embeddings (orig):  99%|\u2588\u2588\u2588\u2588\u2588\u2588\u2588\u2588\u2588\u2589| 1695/1712 [10:45<00:06,  2.44it/s]"
          ]
        },
        {
          "output_type": "stream",
          "name": "stderr",
          "text": [
            "\rExtracting test embeddings (orig):  99%|\u2588\u2588\u2588\u2588\u2588\u2588\u2588\u2588\u2588\u2589| 1696/1712 [10:45<00:06,  2.65it/s]"
          ]
        },
        {
          "output_type": "stream",
          "name": "stderr",
          "text": [
            "\rExtracting test embeddings (orig):  99%|\u2588\u2588\u2588\u2588\u2588\u2588\u2588\u2588\u2588\u2589| 1697/1712 [10:45<00:05,  2.77it/s]"
          ]
        },
        {
          "output_type": "stream",
          "name": "stderr",
          "text": [
            "\rExtracting test embeddings (orig):  99%|\u2588\u2588\u2588\u2588\u2588\u2588\u2588\u2588\u2588\u2589| 1698/1712 [10:46<00:04,  2.89it/s]"
          ]
        },
        {
          "output_type": "stream",
          "name": "stderr",
          "text": [
            "\rExtracting test embeddings (orig):  99%|\u2588\u2588\u2588\u2588\u2588\u2588\u2588\u2588\u2588\u2589| 1699/1712 [10:46<00:05,  2.47it/s]"
          ]
        },
        {
          "output_type": "stream",
          "name": "stderr",
          "text": [
            "\rExtracting test embeddings (orig):  99%|\u2588\u2588\u2588\u2588\u2588\u2588\u2588\u2588\u2588\u2589| 1700/1712 [10:47<00:04,  2.67it/s]"
          ]
        },
        {
          "output_type": "stream",
          "name": "stderr",
          "text": [
            "\rExtracting test embeddings (orig):  99%|\u2588\u2588\u2588\u2588\u2588\u2588\u2588\u2588\u2588\u2589| 1701/1712 [10:47<00:03,  2.79it/s]"
          ]
        },
        {
          "output_type": "stream",
          "name": "stderr",
          "text": [
            "\rExtracting test embeddings (orig):  99%|\u2588\u2588\u2588\u2588\u2588\u2588\u2588\u2588\u2588\u2589| 1702/1712 [10:47<00:03,  2.91it/s]"
          ]
        },
        {
          "output_type": "stream",
          "name": "stderr",
          "text": [
            "\rExtracting test embeddings (orig):  99%|\u2588\u2588\u2588\u2588\u2588\u2588\u2588\u2588\u2588\u2589| 1703/1712 [10:48<00:03,  2.48it/s]"
          ]
        },
        {
          "output_type": "stream",
          "name": "stderr",
          "text": [
            "\rExtracting test embeddings (orig): 100%|\u2588\u2588\u2588\u2588\u2588\u2588\u2588\u2588\u2588\u2589| 1704/1712 [10:48<00:02,  2.68it/s]"
          ]
        },
        {
          "output_type": "stream",
          "name": "stderr",
          "text": [
            "\rExtracting test embeddings (orig): 100%|\u2588\u2588\u2588\u2588\u2588\u2588\u2588\u2588\u2588\u2589| 1705/1712 [10:48<00:02,  2.81it/s]"
          ]
        },
        {
          "output_type": "stream",
          "name": "stderr",
          "text": [
            "\rExtracting test embeddings (orig): 100%|\u2588\u2588\u2588\u2588\u2588\u2588\u2588\u2588\u2588\u2589| 1706/1712 [10:49<00:02,  2.93it/s]"
          ]
        },
        {
          "output_type": "stream",
          "name": "stderr",
          "text": [
            "\rExtracting test embeddings (orig): 100%|\u2588\u2588\u2588\u2588\u2588\u2588\u2588\u2588\u2588\u2589| 1707/1712 [10:49<00:02,  2.49it/s]"
          ]
        },
        {
          "output_type": "stream",
          "name": "stderr",
          "text": [
            "\rExtracting test embeddings (orig): 100%|\u2588\u2588\u2588\u2588\u2588\u2588\u2588\u2588\u2588\u2589| 1708/1712 [10:50<00:01,  2.68it/s]"
          ]
        },
        {
          "output_type": "stream",
          "name": "stderr",
          "text": [
            "\rExtracting test embeddings (orig): 100%|\u2588\u2588\u2588\u2588\u2588\u2588\u2588\u2588\u2588\u2589| 1709/1712 [10:50<00:01,  2.80it/s]"
          ]
        },
        {
          "output_type": "stream",
          "name": "stderr",
          "text": [
            "\rExtracting test embeddings (orig): 100%|\u2588\u2588\u2588\u2588\u2588\u2588\u2588\u2588\u2588\u2589| 1710/1712 [10:50<00:00,  2.92it/s]"
          ]
        },
        {
          "output_type": "stream",
          "name": "stderr",
          "text": [
            "\rExtracting test embeddings (orig): 100%|\u2588\u2588\u2588\u2588\u2588\u2588\u2588\u2588\u2588\u2589| 1711/1712 [10:51<00:00,  2.50it/s]"
          ]
        },
        {
          "output_type": "stream",
          "name": "stderr",
          "text": [
            "\rExtracting test embeddings (orig): 100%|\u2588\u2588\u2588\u2588\u2588\u2588\u2588\u2588\u2588\u2588| 1712/1712 [10:51<00:00,  2.75it/s]"
          ]
        },
        {
          "output_type": "stream",
          "name": "stderr",
          "text": [
            "\rExtracting test embeddings (orig): 100%|\u2588\u2588\u2588\u2588\u2588\u2588\u2588\u2588\u2588\u2588| 1712/1712 [10:51<00:00,  2.63it/s]"
          ]
        },
        {
          "output_type": "stream",
          "name": "stderr",
          "text": [
            "\n"
          ]
        },
        {
          "output_type": "stream",
          "name": "stdout",
          "text": [
            "Test embeddings shape: (219124, 1280)\n"
          ]
        },
        {
          "output_type": "stream",
          "name": "stderr",
          "text": [
            "\rExtracting test embeddings (flip):   0%|          | 0/1712 [00:00<?, ?it/s]"
          ]
        },
        {
          "output_type": "stream",
          "name": "stderr",
          "text": [
            "\rExtracting test embeddings (flip):   0%|          | 1/1712 [00:02<1:20:59,  2.84s/it]"
          ]
        },
        {
          "output_type": "stream",
          "name": "stderr",
          "text": [
            "\rExtracting test embeddings (flip):   0%|          | 2/1712 [00:03<38:28,  1.35s/it]  "
          ]
        },
        {
          "output_type": "stream",
          "name": "stderr",
          "text": [
            "\rExtracting test embeddings (flip):   0%|          | 3/1712 [00:03<24:59,  1.14it/s]"
          ]
        },
        {
          "output_type": "stream",
          "name": "stderr",
          "text": [
            "\rExtracting test embeddings (flip):   0%|          | 4/1712 [00:03<18:33,  1.53it/s]"
          ]
        },
        {
          "output_type": "stream",
          "name": "stderr",
          "text": [
            "\rExtracting test embeddings (flip):   0%|          | 5/1712 [00:04<18:16,  1.56it/s]"
          ]
        },
        {
          "output_type": "stream",
          "name": "stderr",
          "text": [
            "\rExtracting test embeddings (flip):   0%|          | 6/1712 [00:04<15:02,  1.89it/s]"
          ]
        },
        {
          "output_type": "stream",
          "name": "stderr",
          "text": [
            "\rExtracting test embeddings (flip):   0%|          | 7/1712 [00:05<13:05,  2.17it/s]"
          ]
        },
        {
          "output_type": "stream",
          "name": "stderr",
          "text": [
            "\rExtracting test embeddings (flip):   0%|          | 8/1712 [00:05<11:40,  2.43it/s]"
          ]
        },
        {
          "output_type": "stream",
          "name": "stderr",
          "text": [
            "\rExtracting test embeddings (flip):   1%|          | 9/1712 [00:06<16:58,  1.67it/s]"
          ]
        },
        {
          "output_type": "stream",
          "name": "stderr",
          "text": [
            "\rExtracting test embeddings (flip):   1%|          | 10/1712 [00:06<14:25,  1.97it/s]"
          ]
        },
        {
          "output_type": "stream",
          "name": "stderr",
          "text": [
            "\rExtracting test embeddings (flip):   1%|          | 11/1712 [00:06<12:44,  2.22it/s]"
          ]
        },
        {
          "output_type": "stream",
          "name": "stderr",
          "text": [
            "\rExtracting test embeddings (flip):   1%|          | 12/1712 [00:07<11:30,  2.46it/s]"
          ]
        },
        {
          "output_type": "stream",
          "name": "stderr",
          "text": [
            "\rExtracting test embeddings (flip):   1%|          | 13/1712 [00:07<13:48,  2.05it/s]"
          ]
        },
        {
          "output_type": "stream",
          "name": "stderr",
          "text": [
            "\rExtracting test embeddings (flip):   1%|          | 14/1712 [00:08<12:14,  2.31it/s]"
          ]
        },
        {
          "output_type": "stream",
          "name": "stderr",
          "text": [
            "\rExtracting test embeddings (flip):   1%|          | 15/1712 [00:08<11:15,  2.51it/s]"
          ]
        },
        {
          "output_type": "stream",
          "name": "stderr",
          "text": [
            "\rExtracting test embeddings (flip):   1%|          | 16/1712 [00:08<10:28,  2.70it/s]"
          ]
        },
        {
          "output_type": "stream",
          "name": "stderr",
          "text": [
            "\rExtracting test embeddings (flip):   1%|          | 17/1712 [00:09<13:42,  2.06it/s]"
          ]
        },
        {
          "output_type": "stream",
          "name": "stderr",
          "text": [
            "\rExtracting test embeddings (flip):   1%|          | 18/1712 [00:09<12:09,  2.32it/s]"
          ]
        },
        {
          "output_type": "stream",
          "name": "stderr",
          "text": [
            "\rExtracting test embeddings (flip):   1%|          | 19/1712 [00:10<11:11,  2.52it/s]"
          ]
        },
        {
          "output_type": "stream",
          "name": "stderr",
          "text": [
            "\rExtracting test embeddings (flip):   1%|          | 20/1712 [00:10<10:26,  2.70it/s]"
          ]
        },
        {
          "output_type": "stream",
          "name": "stderr",
          "text": [
            "\rExtracting test embeddings (flip):   1%|          | 21/1712 [00:11<12:13,  2.31it/s]"
          ]
        },
        {
          "output_type": "stream",
          "name": "stderr",
          "text": [
            "\rExtracting test embeddings (flip):   1%|\u258f         | 22/1712 [00:11<11:09,  2.53it/s]"
          ]
        },
        {
          "output_type": "stream",
          "name": "stderr",
          "text": [
            "\rExtracting test embeddings (flip):   1%|\u258f         | 23/1712 [00:11<10:28,  2.69it/s]"
          ]
        },
        {
          "output_type": "stream",
          "name": "stderr",
          "text": [
            "\rExtracting test embeddings (flip):   1%|\u258f         | 24/1712 [00:12<09:54,  2.84it/s]"
          ]
        },
        {
          "output_type": "stream",
          "name": "stderr",
          "text": [
            "\rExtracting test embeddings (flip):   1%|\u258f         | 25/1712 [00:12<12:10,  2.31it/s]"
          ]
        },
        {
          "output_type": "stream",
          "name": "stderr",
          "text": [
            "\rExtracting test embeddings (flip):   2%|\u258f         | 26/1712 [00:12<11:05,  2.53it/s]"
          ]
        },
        {
          "output_type": "stream",
          "name": "stderr",
          "text": [
            "\rExtracting test embeddings (flip):   2%|\u258f         | 27/1712 [00:13<10:29,  2.68it/s]"
          ]
        },
        {
          "output_type": "stream",
          "name": "stderr",
          "text": [
            "\rExtracting test embeddings (flip):   2%|\u258f         | 28/1712 [00:13<09:55,  2.83it/s]"
          ]
        },
        {
          "output_type": "stream",
          "name": "stderr",
          "text": [
            "\rExtracting test embeddings (flip):   2%|\u258f         | 29/1712 [00:14<12:30,  2.24it/s]"
          ]
        },
        {
          "output_type": "stream",
          "name": "stderr",
          "text": [
            "\rExtracting test embeddings (flip):   2%|\u258f         | 30/1712 [00:14<11:19,  2.48it/s]"
          ]
        },
        {
          "output_type": "stream",
          "name": "stderr",
          "text": [
            "\rExtracting test embeddings (flip):   2%|\u258f         | 31/1712 [00:14<10:39,  2.63it/s]"
          ]
        },
        {
          "output_type": "stream",
          "name": "stderr",
          "text": [
            "\rExtracting test embeddings (flip):   2%|\u258f         | 32/1712 [00:15<10:01,  2.79it/s]"
          ]
        },
        {
          "output_type": "stream",
          "name": "stderr",
          "text": [
            "\rExtracting test embeddings (flip):   2%|\u258f         | 33/1712 [00:15<11:56,  2.34it/s]"
          ]
        },
        {
          "output_type": "stream",
          "name": "stderr",
          "text": [
            "\rExtracting test embeddings (flip):   2%|\u258f         | 34/1712 [00:16<10:56,  2.56it/s]"
          ]
        },
        {
          "output_type": "stream",
          "name": "stderr",
          "text": [
            "\rExtracting test embeddings (flip):   2%|\u258f         | 35/1712 [00:16<10:20,  2.70it/s]"
          ]
        },
        {
          "output_type": "stream",
          "name": "stderr",
          "text": [
            "\rExtracting test embeddings (flip):   2%|\u258f         | 36/1712 [00:16<09:47,  2.85it/s]"
          ]
        },
        {
          "output_type": "stream",
          "name": "stderr",
          "text": [
            "\rExtracting test embeddings (flip):   2%|\u258f         | 37/1712 [00:17<12:13,  2.28it/s]"
          ]
        },
        {
          "output_type": "stream",
          "name": "stderr",
          "text": [
            "\rExtracting test embeddings (flip):   2%|\u258f         | 38/1712 [00:17<11:07,  2.51it/s]"
          ]
        },
        {
          "output_type": "stream",
          "name": "stderr",
          "text": [
            "\rExtracting test embeddings (flip):   2%|\u258f         | 39/1712 [00:18<10:29,  2.66it/s]"
          ]
        },
        {
          "output_type": "stream",
          "name": "stderr",
          "text": [
            "\rExtracting test embeddings (flip):   2%|\u258f         | 40/1712 [00:18<09:54,  2.81it/s]"
          ]
        },
        {
          "output_type": "stream",
          "name": "stderr",
          "text": [
            "\rExtracting test embeddings (flip):   2%|\u258f         | 41/1712 [00:18<10:44,  2.59it/s]"
          ]
        },
        {
          "output_type": "stream",
          "name": "stderr",
          "text": [
            "\rExtracting test embeddings (flip):   2%|\u258f         | 42/1712 [00:19<10:02,  2.77it/s]"
          ]
        },
        {
          "output_type": "stream",
          "name": "stderr",
          "text": [
            "\rExtracting test embeddings (flip):   3%|\u258e         | 43/1712 [00:19<09:40,  2.87it/s]"
          ]
        },
        {
          "output_type": "stream",
          "name": "stderr",
          "text": [
            "\rExtracting test embeddings (flip):   3%|\u258e         | 44/1712 [00:19<09:19,  2.98it/s]"
          ]
        },
        {
          "output_type": "stream",
          "name": "stderr",
          "text": [
            "\rExtracting test embeddings (flip):   3%|\u258e         | 45/1712 [00:20<11:28,  2.42it/s]"
          ]
        },
        {
          "output_type": "stream",
          "name": "stderr",
          "text": [
            "\rExtracting test embeddings (flip):   3%|\u258e         | 46/1712 [00:20<10:34,  2.63it/s]"
          ]
        },
        {
          "output_type": "stream",
          "name": "stderr",
          "text": [
            "\rExtracting test embeddings (flip):   3%|\u258e         | 47/1712 [00:20<10:03,  2.76it/s]"
          ]
        },
        {
          "output_type": "stream",
          "name": "stderr",
          "text": [
            "\rExtracting test embeddings (flip):   3%|\u258e         | 48/1712 [00:21<09:36,  2.88it/s]"
          ]
        },
        {
          "output_type": "stream",
          "name": "stderr",
          "text": [
            "\rExtracting test embeddings (flip):   3%|\u258e         | 49/1712 [00:21<11:43,  2.36it/s]"
          ]
        },
        {
          "output_type": "stream",
          "name": "stderr",
          "text": [
            "\rExtracting test embeddings (flip):   3%|\u258e         | 50/1712 [00:22<10:44,  2.58it/s]"
          ]
        },
        {
          "output_type": "stream",
          "name": "stderr",
          "text": [
            "\rExtracting test embeddings (flip):   3%|\u258e         | 51/1712 [00:22<10:08,  2.73it/s]"
          ]
        },
        {
          "output_type": "stream",
          "name": "stderr",
          "text": [
            "\rExtracting test embeddings (flip):   3%|\u258e         | 52/1712 [00:22<09:38,  2.87it/s]"
          ]
        },
        {
          "output_type": "stream",
          "name": "stderr",
          "text": [
            "\rExtracting test embeddings (flip):   3%|\u258e         | 53/1712 [00:23<13:11,  2.10it/s]"
          ]
        },
        {
          "output_type": "stream",
          "name": "stderr",
          "text": [
            "\rExtracting test embeddings (flip):   3%|\u258e         | 54/1712 [00:23<11:46,  2.35it/s]"
          ]
        },
        {
          "output_type": "stream",
          "name": "stderr",
          "text": [
            "\rExtracting test embeddings (flip):   3%|\u258e         | 55/1712 [00:24<10:55,  2.53it/s]"
          ]
        },
        {
          "output_type": "stream",
          "name": "stderr",
          "text": [
            "\rExtracting test embeddings (flip):   3%|\u258e         | 56/1712 [00:24<10:11,  2.71it/s]"
          ]
        },
        {
          "output_type": "stream",
          "name": "stderr",
          "text": [
            "\rExtracting test embeddings (flip):   3%|\u258e         | 57/1712 [00:25<11:45,  2.35it/s]"
          ]
        },
        {
          "output_type": "stream",
          "name": "stderr",
          "text": [
            "\rExtracting test embeddings (flip):   3%|\u258e         | 58/1712 [00:25<10:45,  2.56it/s]"
          ]
        },
        {
          "output_type": "stream",
          "name": "stderr",
          "text": [
            "\rExtracting test embeddings (flip):   3%|\u258e         | 59/1712 [00:25<10:09,  2.71it/s]"
          ]
        },
        {
          "output_type": "stream",
          "name": "stderr",
          "text": [
            "\rExtracting test embeddings (flip):   4%|\u258e         | 60/1712 [00:25<09:40,  2.85it/s]"
          ]
        },
        {
          "output_type": "stream",
          "name": "stderr",
          "text": [
            "\rExtracting test embeddings (flip):   4%|\u258e         | 61/1712 [00:26<11:22,  2.42it/s]"
          ]
        },
        {
          "output_type": "stream",
          "name": "stderr",
          "text": [
            "\rExtracting test embeddings (flip):   4%|\u258e         | 62/1712 [00:26<10:28,  2.62it/s]"
          ]
        },
        {
          "output_type": "stream",
          "name": "stderr",
          "text": [
            "\rExtracting test embeddings (flip):   4%|\u258e         | 63/1712 [00:27<09:56,  2.76it/s]"
          ]
        },
        {
          "output_type": "stream",
          "name": "stderr",
          "text": [
            "\rExtracting test embeddings (flip):   4%|\u258e         | 64/1712 [00:27<09:28,  2.90it/s]"
          ]
        },
        {
          "output_type": "stream",
          "name": "stderr",
          "text": [
            "\rExtracting test embeddings (flip):   4%|\u258d         | 65/1712 [00:28<12:42,  2.16it/s]"
          ]
        },
        {
          "output_type": "stream",
          "name": "stderr",
          "text": [
            "\rExtracting test embeddings (flip):   4%|\u258d         | 66/1712 [00:28<11:24,  2.40it/s]"
          ]
        },
        {
          "output_type": "stream",
          "name": "stderr",
          "text": [
            "\rExtracting test embeddings (flip):   4%|\u258d         | 67/1712 [00:28<10:37,  2.58it/s]"
          ]
        },
        {
          "output_type": "stream",
          "name": "stderr",
          "text": [
            "\rExtracting test embeddings (flip):   4%|\u258d         | 68/1712 [00:29<09:58,  2.75it/s]"
          ]
        },
        {
          "output_type": "stream",
          "name": "stderr",
          "text": [
            "\rExtracting test embeddings (flip):   4%|\u258d         | 69/1712 [00:29<11:39,  2.35it/s]"
          ]
        },
        {
          "output_type": "stream",
          "name": "stderr",
          "text": [
            "\rExtracting test embeddings (flip):   4%|\u258d         | 70/1712 [00:30<10:42,  2.56it/s]"
          ]
        },
        {
          "output_type": "stream",
          "name": "stderr",
          "text": [
            "\rExtracting test embeddings (flip):   4%|\u258d         | 71/1712 [00:30<10:05,  2.71it/s]"
          ]
        },
        {
          "output_type": "stream",
          "name": "stderr",
          "text": [
            "\rExtracting test embeddings (flip):   4%|\u258d         | 72/1712 [00:30<09:34,  2.86it/s]"
          ]
        },
        {
          "output_type": "stream",
          "name": "stderr",
          "text": [
            "\rExtracting test embeddings (flip):   4%|\u258d         | 73/1712 [00:31<11:26,  2.39it/s]"
          ]
        },
        {
          "output_type": "stream",
          "name": "stderr",
          "text": [
            "\rExtracting test embeddings (flip):   4%|\u258d         | 74/1712 [00:31<10:30,  2.60it/s]"
          ]
        },
        {
          "output_type": "stream",
          "name": "stderr",
          "text": [
            "\rExtracting test embeddings (flip):   4%|\u258d         | 75/1712 [00:31<09:59,  2.73it/s]"
          ]
        },
        {
          "output_type": "stream",
          "name": "stderr",
          "text": [
            "\rExtracting test embeddings (flip):   4%|\u258d         | 76/1712 [00:32<09:31,  2.86it/s]"
          ]
        },
        {
          "output_type": "stream",
          "name": "stderr",
          "text": [
            "\rExtracting test embeddings (flip):   4%|\u258d         | 77/1712 [00:32<11:15,  2.42it/s]"
          ]
        },
        {
          "output_type": "stream",
          "name": "stderr",
          "text": [
            "\rExtracting test embeddings (flip):   5%|\u258d         | 78/1712 [00:33<10:22,  2.62it/s]"
          ]
        },
        {
          "output_type": "stream",
          "name": "stderr",
          "text": [
            "\rExtracting test embeddings (flip):   5%|\u258d         | 79/1712 [00:33<09:52,  2.75it/s]"
          ]
        },
        {
          "output_type": "stream",
          "name": "stderr",
          "text": [
            "\rExtracting test embeddings (flip):   5%|\u258d         | 80/1712 [00:33<09:26,  2.88it/s]"
          ]
        },
        {
          "output_type": "stream",
          "name": "stderr",
          "text": [
            "\rExtracting test embeddings (flip):   5%|\u258d         | 81/1712 [00:34<11:22,  2.39it/s]"
          ]
        },
        {
          "output_type": "stream",
          "name": "stderr",
          "text": [
            "\rExtracting test embeddings (flip):   5%|\u258d         | 82/1712 [00:34<10:28,  2.60it/s]"
          ]
        },
        {
          "output_type": "stream",
          "name": "stderr",
          "text": [
            "\rExtracting test embeddings (flip):   5%|\u258d         | 83/1712 [00:34<09:55,  2.73it/s]"
          ]
        },
        {
          "output_type": "stream",
          "name": "stderr",
          "text": [
            "\rExtracting test embeddings (flip):   5%|\u258d         | 84/1712 [00:35<09:27,  2.87it/s]"
          ]
        },
        {
          "output_type": "stream",
          "name": "stderr",
          "text": [
            "\rExtracting test embeddings (flip):   5%|\u258d         | 85/1712 [00:35<12:12,  2.22it/s]"
          ]
        },
        {
          "output_type": "stream",
          "name": "stderr",
          "text": [
            "\rExtracting test embeddings (flip):   5%|\u258c         | 86/1712 [00:36<11:03,  2.45it/s]"
          ]
        },
        {
          "output_type": "stream",
          "name": "stderr",
          "text": [
            "\rExtracting test embeddings (flip):   5%|\u258c         | 87/1712 [00:36<10:17,  2.63it/s]"
          ]
        },
        {
          "output_type": "stream",
          "name": "stderr",
          "text": [
            "\rExtracting test embeddings (flip):   5%|\u258c         | 88/1712 [00:36<09:41,  2.79it/s]"
          ]
        },
        {
          "output_type": "stream",
          "name": "stderr",
          "text": [
            "\rExtracting test embeddings (flip):   5%|\u258c         | 89/1712 [00:37<11:36,  2.33it/s]"
          ]
        },
        {
          "output_type": "stream",
          "name": "stderr",
          "text": [
            "\rExtracting test embeddings (flip):   5%|\u258c         | 90/1712 [00:37<10:35,  2.55it/s]"
          ]
        },
        {
          "output_type": "stream",
          "name": "stderr",
          "text": [
            "\rExtracting test embeddings (flip):   5%|\u258c         | 91/1712 [00:38<10:00,  2.70it/s]"
          ]
        },
        {
          "output_type": "stream",
          "name": "stderr",
          "text": [
            "\rExtracting test embeddings (flip):   5%|\u258c         | 92/1712 [00:38<09:29,  2.85it/s]"
          ]
        },
        {
          "output_type": "stream",
          "name": "stderr",
          "text": [
            "\rExtracting test embeddings (flip):   5%|\u258c         | 93/1712 [00:38<11:06,  2.43it/s]"
          ]
        },
        {
          "output_type": "stream",
          "name": "stderr",
          "text": [
            "\rExtracting test embeddings (flip):   5%|\u258c         | 94/1712 [00:39<10:15,  2.63it/s]"
          ]
        },
        {
          "output_type": "stream",
          "name": "stderr",
          "text": [
            "\rExtracting test embeddings (flip):   6%|\u258c         | 95/1712 [00:39<10:17,  2.62it/s]"
          ]
        },
        {
          "output_type": "stream",
          "name": "stderr",
          "text": [
            "\rExtracting test embeddings (flip):   6%|\u258c         | 96/1712 [00:39<09:40,  2.78it/s]"
          ]
        },
        {
          "output_type": "stream",
          "name": "stderr",
          "text": [
            "\rExtracting test embeddings (flip):   6%|\u258c         | 97/1712 [00:40<11:02,  2.44it/s]"
          ]
        },
        {
          "output_type": "stream",
          "name": "stderr",
          "text": [
            "\rExtracting test embeddings (flip):   6%|\u258c         | 98/1712 [00:40<10:13,  2.63it/s]"
          ]
        },
        {
          "output_type": "stream",
          "name": "stderr",
          "text": [
            "\rExtracting test embeddings (flip):   6%|\u258c         | 99/1712 [00:41<10:27,  2.57it/s]"
          ]
        },
        {
          "output_type": "stream",
          "name": "stderr",
          "text": [
            "\rExtracting test embeddings (flip):   6%|\u258c         | 100/1712 [00:41<09:48,  2.74it/s]"
          ]
        },
        {
          "output_type": "stream",
          "name": "stderr",
          "text": [
            "\rExtracting test embeddings (flip):   6%|\u258c         | 101/1712 [00:42<14:24,  1.86it/s]"
          ]
        },
        {
          "output_type": "stream",
          "name": "stderr",
          "text": [
            "\rExtracting test embeddings (flip):   6%|\u258c         | 102/1712 [00:42<12:31,  2.14it/s]"
          ]
        },
        {
          "output_type": "stream",
          "name": "stderr",
          "text": [
            "\rExtracting test embeddings (flip):   6%|\u258c         | 103/1712 [00:42<11:21,  2.36it/s]"
          ]
        },
        {
          "output_type": "stream",
          "name": "stderr",
          "text": [
            "\rExtracting test embeddings (flip):   6%|\u258c         | 104/1712 [00:43<10:26,  2.57it/s]"
          ]
        },
        {
          "output_type": "stream",
          "name": "stderr",
          "text": [
            "\rExtracting test embeddings (flip):   6%|\u258c         | 105/1712 [00:44<14:08,  1.89it/s]"
          ]
        },
        {
          "output_type": "stream",
          "name": "stderr",
          "text": [
            "\rExtracting test embeddings (flip):   6%|\u258c         | 106/1712 [00:44<12:21,  2.17it/s]"
          ]
        },
        {
          "output_type": "stream",
          "name": "stderr",
          "text": [
            "\rExtracting test embeddings (flip):   6%|\u258b         | 107/1712 [00:44<11:14,  2.38it/s]"
          ]
        },
        {
          "output_type": "stream",
          "name": "stderr",
          "text": [
            "\rExtracting test embeddings (flip):   6%|\u258b         | 108/1712 [00:45<10:19,  2.59it/s]"
          ]
        },
        {
          "output_type": "stream",
          "name": "stderr",
          "text": [
            "\rExtracting test embeddings (flip):   6%|\u258b         | 109/1712 [00:45<12:18,  2.17it/s]"
          ]
        },
        {
          "output_type": "stream",
          "name": "stderr",
          "text": [
            "\rExtracting test embeddings (flip):   6%|\u258b         | 110/1712 [00:46<11:03,  2.41it/s]"
          ]
        },
        {
          "output_type": "stream",
          "name": "stderr",
          "text": [
            "\rExtracting test embeddings (flip):   6%|\u258b         | 111/1712 [00:46<10:17,  2.59it/s]"
          ]
        },
        {
          "output_type": "stream",
          "name": "stderr",
          "text": [
            "\rExtracting test embeddings (flip):   7%|\u258b         | 112/1712 [00:46<09:40,  2.75it/s]"
          ]
        },
        {
          "output_type": "stream",
          "name": "stderr",
          "text": [
            "\rExtracting test embeddings (flip):   7%|\u258b         | 113/1712 [00:47<11:08,  2.39it/s]"
          ]
        },
        {
          "output_type": "stream",
          "name": "stderr",
          "text": [
            "\rExtracting test embeddings (flip):   7%|\u258b         | 114/1712 [00:47<10:13,  2.60it/s]"
          ]
        },
        {
          "output_type": "stream",
          "name": "stderr",
          "text": [
            "\rExtracting test embeddings (flip):   7%|\u258b         | 115/1712 [00:47<09:42,  2.74it/s]"
          ]
        },
        {
          "output_type": "stream",
          "name": "stderr",
          "text": [
            "\rExtracting test embeddings (flip):   7%|\u258b         | 116/1712 [00:48<09:16,  2.87it/s]"
          ]
        },
        {
          "output_type": "stream",
          "name": "stderr",
          "text": [
            "\rExtracting test embeddings (flip):   7%|\u258b         | 117/1712 [00:48<11:00,  2.41it/s]"
          ]
        },
        {
          "output_type": "stream",
          "name": "stderr",
          "text": [
            "\rExtracting test embeddings (flip):   7%|\u258b         | 118/1712 [00:49<10:09,  2.62it/s]"
          ]
        },
        {
          "output_type": "stream",
          "name": "stderr",
          "text": [
            "\rExtracting test embeddings (flip):   7%|\u258b         | 119/1712 [00:49<09:39,  2.75it/s]"
          ]
        },
        {
          "output_type": "stream",
          "name": "stderr",
          "text": [
            "\rExtracting test embeddings (flip):   7%|\u258b         | 120/1712 [00:49<09:12,  2.88it/s]"
          ]
        },
        {
          "output_type": "stream",
          "name": "stderr",
          "text": [
            "\rExtracting test embeddings (flip):   7%|\u258b         | 121/1712 [00:50<11:53,  2.23it/s]"
          ]
        },
        {
          "output_type": "stream",
          "name": "stderr",
          "text": [
            "\rExtracting test embeddings (flip):   7%|\u258b         | 122/1712 [00:50<10:45,  2.46it/s]"
          ]
        },
        {
          "output_type": "stream",
          "name": "stderr",
          "text": [
            "\rExtracting test embeddings (flip):   7%|\u258b         | 123/1712 [00:50<10:03,  2.63it/s]"
          ]
        },
        {
          "output_type": "stream",
          "name": "stderr",
          "text": [
            "\rExtracting test embeddings (flip):   7%|\u258b         | 124/1712 [00:51<09:28,  2.79it/s]"
          ]
        },
        {
          "output_type": "stream",
          "name": "stderr",
          "text": [
            "\rExtracting test embeddings (flip):   7%|\u258b         | 125/1712 [00:52<13:26,  1.97it/s]"
          ]
        },
        {
          "output_type": "stream",
          "name": "stderr",
          "text": [
            "\rExtracting test embeddings (flip):   7%|\u258b         | 126/1712 [00:52<11:48,  2.24it/s]"
          ]
        },
        {
          "output_type": "stream",
          "name": "stderr",
          "text": [
            "\rExtracting test embeddings (flip):   7%|\u258b         | 127/1712 [00:52<10:46,  2.45it/s]"
          ]
        },
        {
          "output_type": "stream",
          "name": "stderr",
          "text": [
            "\rExtracting test embeddings (flip):   7%|\u258b         | 128/1712 [00:53<09:57,  2.65it/s]"
          ]
        },
        {
          "output_type": "stream",
          "name": "stderr",
          "text": [
            "\rExtracting test embeddings (flip):   8%|\u258a         | 129/1712 [00:53<12:47,  2.06it/s]"
          ]
        },
        {
          "output_type": "stream",
          "name": "stderr",
          "text": [
            "\rExtracting test embeddings (flip):   8%|\u258a         | 130/1712 [00:54<11:21,  2.32it/s]"
          ]
        },
        {
          "output_type": "stream",
          "name": "stderr",
          "text": [
            "\rExtracting test embeddings (flip):   8%|\u258a         | 131/1712 [00:54<10:27,  2.52it/s]"
          ]
        },
        {
          "output_type": "stream",
          "name": "stderr",
          "text": [
            "\rExtracting test embeddings (flip):   8%|\u258a         | 132/1712 [00:54<09:44,  2.70it/s]"
          ]
        },
        {
          "output_type": "stream",
          "name": "stderr",
          "text": [
            "\rExtracting test embeddings (flip):   8%|\u258a         | 133/1712 [00:55<11:39,  2.26it/s]"
          ]
        },
        {
          "output_type": "stream",
          "name": "stderr",
          "text": [
            "\rExtracting test embeddings (flip):   8%|\u258a         | 134/1712 [00:55<10:34,  2.49it/s]"
          ]
        },
        {
          "output_type": "stream",
          "name": "stderr",
          "text": [
            "\rExtracting test embeddings (flip):   8%|\u258a         | 135/1712 [00:55<09:55,  2.65it/s]"
          ]
        },
        {
          "output_type": "stream",
          "name": "stderr",
          "text": [
            "\rExtracting test embeddings (flip):   8%|\u258a         | 136/1712 [00:56<09:21,  2.81it/s]"
          ]
        },
        {
          "output_type": "stream",
          "name": "stderr",
          "text": [
            "\rExtracting test embeddings (flip):   8%|\u258a         | 137/1712 [00:56<11:42,  2.24it/s]"
          ]
        },
        {
          "output_type": "stream",
          "name": "stderr",
          "text": [
            "\rExtracting test embeddings (flip):   8%|\u258a         | 138/1712 [00:57<10:35,  2.48it/s]"
          ]
        },
        {
          "output_type": "stream",
          "name": "stderr",
          "text": [
            "\rExtracting test embeddings (flip):   8%|\u258a         | 139/1712 [00:57<09:53,  2.65it/s]"
          ]
        },
        {
          "output_type": "stream",
          "name": "stderr",
          "text": [
            "\rExtracting test embeddings (flip):   8%|\u258a         | 140/1712 [00:57<09:19,  2.81it/s]"
          ]
        },
        {
          "output_type": "stream",
          "name": "stderr",
          "text": [
            "\rExtracting test embeddings (flip):   8%|\u258a         | 141/1712 [00:58<11:22,  2.30it/s]"
          ]
        },
        {
          "output_type": "stream",
          "name": "stderr",
          "text": [
            "\rExtracting test embeddings (flip):   8%|\u258a         | 142/1712 [00:58<10:21,  2.53it/s]"
          ]
        },
        {
          "output_type": "stream",
          "name": "stderr",
          "text": [
            "\rExtracting test embeddings (flip):   8%|\u258a         | 143/1712 [00:59<09:44,  2.69it/s]"
          ]
        },
        {
          "output_type": "stream",
          "name": "stderr",
          "text": [
            "\rExtracting test embeddings (flip):   8%|\u258a         | 144/1712 [00:59<09:12,  2.84it/s]"
          ]
        },
        {
          "output_type": "stream",
          "name": "stderr",
          "text": [
            "\rExtracting test embeddings (flip):   8%|\u258a         | 145/1712 [00:59<10:46,  2.42it/s]"
          ]
        },
        {
          "output_type": "stream",
          "name": "stderr",
          "text": [
            "\rExtracting test embeddings (flip):   9%|\u258a         | 146/1712 [01:00<09:55,  2.63it/s]"
          ]
        },
        {
          "output_type": "stream",
          "name": "stderr",
          "text": [
            "\rExtracting test embeddings (flip):   9%|\u258a         | 147/1712 [01:00<09:27,  2.76it/s]"
          ]
        },
        {
          "output_type": "stream",
          "name": "stderr",
          "text": [
            "\rExtracting test embeddings (flip):   9%|\u258a         | 148/1712 [01:00<09:01,  2.89it/s]"
          ]
        },
        {
          "output_type": "stream",
          "name": "stderr",
          "text": [
            "\rExtracting test embeddings (flip):   9%|\u258a         | 149/1712 [01:01<10:51,  2.40it/s]"
          ]
        },
        {
          "output_type": "stream",
          "name": "stderr",
          "text": [
            "\rExtracting test embeddings (flip):   9%|\u2589         | 150/1712 [01:01<09:58,  2.61it/s]"
          ]
        },
        {
          "output_type": "stream",
          "name": "stderr",
          "text": [
            "\rExtracting test embeddings (flip):   9%|\u2589         | 151/1712 [01:02<09:26,  2.75it/s]"
          ]
        },
        {
          "output_type": "stream",
          "name": "stderr",
          "text": [
            "\rExtracting test embeddings (flip):   9%|\u2589         | 152/1712 [01:02<08:59,  2.89it/s]"
          ]
        },
        {
          "output_type": "stream",
          "name": "stderr",
          "text": [
            "\rExtracting test embeddings (flip):   9%|\u2589         | 153/1712 [01:03<11:01,  2.36it/s]"
          ]
        },
        {
          "output_type": "stream",
          "name": "stderr",
          "text": [
            "\rExtracting test embeddings (flip):   9%|\u2589         | 154/1712 [01:03<10:05,  2.57it/s]"
          ]
        },
        {
          "output_type": "stream",
          "name": "stderr",
          "text": [
            "\rExtracting test embeddings (flip):   9%|\u2589         | 155/1712 [01:03<09:30,  2.73it/s]"
          ]
        },
        {
          "output_type": "stream",
          "name": "stderr",
          "text": [
            "\rExtracting test embeddings (flip):   9%|\u2589         | 156/1712 [01:03<09:02,  2.87it/s]"
          ]
        },
        {
          "output_type": "stream",
          "name": "stderr",
          "text": [
            "\rExtracting test embeddings (flip):   9%|\u2589         | 157/1712 [01:04<11:35,  2.24it/s]"
          ]
        },
        {
          "output_type": "stream",
          "name": "stderr",
          "text": [
            "\rExtracting test embeddings (flip):   9%|\u2589         | 158/1712 [01:04<10:28,  2.47it/s]"
          ]
        },
        {
          "output_type": "stream",
          "name": "stderr",
          "text": [
            "\rExtracting test embeddings (flip):   9%|\u2589         | 159/1712 [01:05<09:47,  2.64it/s]"
          ]
        },
        {
          "output_type": "stream",
          "name": "stderr",
          "text": [
            "\rExtracting test embeddings (flip):   9%|\u2589         | 160/1712 [01:05<09:13,  2.81it/s]"
          ]
        },
        {
          "output_type": "stream",
          "name": "stderr",
          "text": [
            "\rExtracting test embeddings (flip):   9%|\u2589         | 161/1712 [01:06<11:03,  2.34it/s]"
          ]
        },
        {
          "output_type": "stream",
          "name": "stderr",
          "text": [
            "\rExtracting test embeddings (flip):   9%|\u2589         | 162/1712 [01:06<10:05,  2.56it/s]"
          ]
        },
        {
          "output_type": "stream",
          "name": "stderr",
          "text": [
            "\rExtracting test embeddings (flip):  10%|\u2589         | 163/1712 [01:06<09:29,  2.72it/s]"
          ]
        },
        {
          "output_type": "stream",
          "name": "stderr",
          "text": [
            "\rExtracting test embeddings (flip):  10%|\u2589         | 164/1712 [01:07<09:00,  2.86it/s]"
          ]
        },
        {
          "output_type": "stream",
          "name": "stderr",
          "text": [
            "\rExtracting test embeddings (flip):  10%|\u2589         | 165/1712 [01:07<10:46,  2.39it/s]"
          ]
        },
        {
          "output_type": "stream",
          "name": "stderr",
          "text": [
            "\rExtracting test embeddings (flip):  10%|\u2589         | 166/1712 [01:07<09:53,  2.60it/s]"
          ]
        },
        {
          "output_type": "stream",
          "name": "stderr",
          "text": [
            "\rExtracting test embeddings (flip):  10%|\u2589         | 167/1712 [01:08<09:24,  2.74it/s]"
          ]
        },
        {
          "output_type": "stream",
          "name": "stderr",
          "text": [
            "\rExtracting test embeddings (flip):  10%|\u2589         | 168/1712 [01:08<08:57,  2.87it/s]"
          ]
        },
        {
          "output_type": "stream",
          "name": "stderr",
          "text": [
            "\rExtracting test embeddings (flip):  10%|\u2589         | 169/1712 [01:09<10:35,  2.43it/s]"
          ]
        },
        {
          "output_type": "stream",
          "name": "stderr",
          "text": [
            "\rExtracting test embeddings (flip):  10%|\u2589         | 170/1712 [01:09<09:45,  2.64it/s]"
          ]
        },
        {
          "output_type": "stream",
          "name": "stderr",
          "text": [
            "\rExtracting test embeddings (flip):  10%|\u2589         | 171/1712 [01:09<09:15,  2.77it/s]"
          ]
        },
        {
          "output_type": "stream",
          "name": "stderr",
          "text": [
            "\rExtracting test embeddings (flip):  10%|\u2588         | 172/1712 [01:10<08:50,  2.90it/s]"
          ]
        },
        {
          "output_type": "stream",
          "name": "stderr",
          "text": [
            "\rExtracting test embeddings (flip):  10%|\u2588         | 173/1712 [01:10<10:31,  2.44it/s]"
          ]
        },
        {
          "output_type": "stream",
          "name": "stderr",
          "text": [
            "\rExtracting test embeddings (flip):  10%|\u2588         | 174/1712 [01:10<09:43,  2.64it/s]"
          ]
        },
        {
          "output_type": "stream",
          "name": "stderr",
          "text": [
            "\rExtracting test embeddings (flip):  10%|\u2588         | 175/1712 [01:11<09:13,  2.78it/s]"
          ]
        },
        {
          "output_type": "stream",
          "name": "stderr",
          "text": [
            "\rExtracting test embeddings (flip):  10%|\u2588         | 176/1712 [01:11<08:48,  2.91it/s]"
          ]
        },
        {
          "output_type": "stream",
          "name": "stderr",
          "text": [
            "\rExtracting test embeddings (flip):  10%|\u2588         | 177/1712 [01:12<10:28,  2.44it/s]"
          ]
        },
        {
          "output_type": "stream",
          "name": "stderr",
          "text": [
            "\rExtracting test embeddings (flip):  10%|\u2588         | 178/1712 [01:12<09:40,  2.64it/s]"
          ]
        },
        {
          "output_type": "stream",
          "name": "stderr",
          "text": [
            "\rExtracting test embeddings (flip):  10%|\u2588         | 179/1712 [01:12<09:13,  2.77it/s]"
          ]
        },
        {
          "output_type": "stream",
          "name": "stderr",
          "text": [
            "\rExtracting test embeddings (flip):  11%|\u2588         | 180/1712 [01:13<08:49,  2.89it/s]"
          ]
        },
        {
          "output_type": "stream",
          "name": "stderr",
          "text": [
            "\rExtracting test embeddings (flip):  11%|\u2588         | 181/1712 [01:13<10:36,  2.41it/s]"
          ]
        },
        {
          "output_type": "stream",
          "name": "stderr",
          "text": [
            "\rExtracting test embeddings (flip):  11%|\u2588         | 182/1712 [01:13<09:44,  2.62it/s]"
          ]
        },
        {
          "output_type": "stream",
          "name": "stderr",
          "text": [
            "\rExtracting test embeddings (flip):  11%|\u2588         | 183/1712 [01:14<09:14,  2.76it/s]"
          ]
        },
        {
          "output_type": "stream",
          "name": "stderr",
          "text": [
            "\rExtracting test embeddings (flip):  11%|\u2588         | 184/1712 [01:14<08:47,  2.89it/s]"
          ]
        },
        {
          "output_type": "stream",
          "name": "stderr",
          "text": [
            "\rExtracting test embeddings (flip):  11%|\u2588         | 185/1712 [01:15<10:55,  2.33it/s]"
          ]
        },
        {
          "output_type": "stream",
          "name": "stderr",
          "text": [
            "\rExtracting test embeddings (flip):  11%|\u2588         | 186/1712 [01:15<09:59,  2.54it/s]"
          ]
        },
        {
          "output_type": "stream",
          "name": "stderr",
          "text": [
            "\rExtracting test embeddings (flip):  11%|\u2588         | 187/1712 [01:15<09:23,  2.70it/s]"
          ]
        },
        {
          "output_type": "stream",
          "name": "stderr",
          "text": [
            "\rExtracting test embeddings (flip):  11%|\u2588         | 188/1712 [01:16<08:54,  2.85it/s]"
          ]
        },
        {
          "output_type": "stream",
          "name": "stderr",
          "text": [
            "\rExtracting test embeddings (flip):  11%|\u2588         | 189/1712 [01:16<11:06,  2.28it/s]"
          ]
        },
        {
          "output_type": "stream",
          "name": "stderr",
          "text": [
            "\rExtracting test embeddings (flip):  11%|\u2588         | 190/1712 [01:17<10:05,  2.51it/s]"
          ]
        },
        {
          "output_type": "stream",
          "name": "stderr",
          "text": [
            "\rExtracting test embeddings (flip):  11%|\u2588         | 191/1712 [01:17<09:28,  2.67it/s]"
          ]
        },
        {
          "output_type": "stream",
          "name": "stderr",
          "text": [
            "\rExtracting test embeddings (flip):  11%|\u2588         | 192/1712 [01:17<08:58,  2.82it/s]"
          ]
        },
        {
          "output_type": "stream",
          "name": "stderr",
          "text": [
            "\rExtracting test embeddings (flip):  11%|\u2588\u258f        | 193/1712 [01:18<10:35,  2.39it/s]"
          ]
        },
        {
          "output_type": "stream",
          "name": "stderr",
          "text": [
            "\rExtracting test embeddings (flip):  11%|\u2588\u258f        | 194/1712 [01:18<09:43,  2.60it/s]"
          ]
        },
        {
          "output_type": "stream",
          "name": "stderr",
          "text": [
            "\rExtracting test embeddings (flip):  11%|\u2588\u258f        | 195/1712 [01:18<09:13,  2.74it/s]"
          ]
        },
        {
          "output_type": "stream",
          "name": "stderr",
          "text": [
            "\rExtracting test embeddings (flip):  11%|\u2588\u258f        | 196/1712 [01:19<08:46,  2.88it/s]"
          ]
        },
        {
          "output_type": "stream",
          "name": "stderr",
          "text": [
            "\rExtracting test embeddings (flip):  12%|\u2588\u258f        | 197/1712 [01:19<10:37,  2.38it/s]"
          ]
        },
        {
          "output_type": "stream",
          "name": "stderr",
          "text": [
            "\rExtracting test embeddings (flip):  12%|\u2588\u258f        | 198/1712 [01:20<09:44,  2.59it/s]"
          ]
        },
        {
          "output_type": "stream",
          "name": "stderr",
          "text": [
            "\rExtracting test embeddings (flip):  12%|\u2588\u258f        | 199/1712 [01:20<09:14,  2.73it/s]"
          ]
        },
        {
          "output_type": "stream",
          "name": "stderr",
          "text": [
            "\rExtracting test embeddings (flip):  12%|\u2588\u258f        | 200/1712 [01:20<08:47,  2.86it/s]"
          ]
        },
        {
          "output_type": "stream",
          "name": "stderr",
          "text": [
            "\rExtracting test embeddings (flip):  12%|\u2588\u258f        | 201/1712 [01:21<10:31,  2.39it/s]"
          ]
        },
        {
          "output_type": "stream",
          "name": "stderr",
          "text": [
            "\rExtracting test embeddings (flip):  12%|\u2588\u258f        | 202/1712 [01:21<09:39,  2.61it/s]"
          ]
        },
        {
          "output_type": "stream",
          "name": "stderr",
          "text": [
            "\rExtracting test embeddings (flip):  12%|\u2588\u258f        | 203/1712 [01:21<09:08,  2.75it/s]"
          ]
        },
        {
          "output_type": "stream",
          "name": "stderr",
          "text": [
            "\rExtracting test embeddings (flip):  12%|\u2588\u258f        | 204/1712 [01:22<08:41,  2.89it/s]"
          ]
        },
        {
          "output_type": "stream",
          "name": "stderr",
          "text": [
            "\rExtracting test embeddings (flip):  12%|\u2588\u258f        | 205/1712 [01:22<10:18,  2.44it/s]"
          ]
        },
        {
          "output_type": "stream",
          "name": "stderr",
          "text": [
            "\rExtracting test embeddings (flip):  12%|\u2588\u258f        | 206/1712 [01:23<09:30,  2.64it/s]"
          ]
        },
        {
          "output_type": "stream",
          "name": "stderr",
          "text": [
            "\rExtracting test embeddings (flip):  12%|\u2588\u258f        | 207/1712 [01:23<09:05,  2.76it/s]"
          ]
        },
        {
          "output_type": "stream",
          "name": "stderr",
          "text": [
            "\rExtracting test embeddings (flip):  12%|\u2588\u258f        | 208/1712 [01:23<08:39,  2.90it/s]"
          ]
        },
        {
          "output_type": "stream",
          "name": "stderr",
          "text": [
            "\rExtracting test embeddings (flip):  12%|\u2588\u258f        | 209/1712 [01:24<10:26,  2.40it/s]"
          ]
        },
        {
          "output_type": "stream",
          "name": "stderr",
          "text": [
            "\rExtracting test embeddings (flip):  12%|\u2588\u258f        | 210/1712 [01:24<09:35,  2.61it/s]"
          ]
        },
        {
          "output_type": "stream",
          "name": "stderr",
          "text": [
            "\rExtracting test embeddings (flip):  12%|\u2588\u258f        | 211/1712 [01:24<09:08,  2.74it/s]"
          ]
        },
        {
          "output_type": "stream",
          "name": "stderr",
          "text": [
            "\rExtracting test embeddings (flip):  12%|\u2588\u258f        | 212/1712 [01:25<08:42,  2.87it/s]"
          ]
        },
        {
          "output_type": "stream",
          "name": "stderr",
          "text": [
            "\rExtracting test embeddings (flip):  12%|\u2588\u258f        | 213/1712 [01:25<10:31,  2.37it/s]"
          ]
        },
        {
          "output_type": "stream",
          "name": "stderr",
          "text": [
            "\rExtracting test embeddings (flip):  12%|\u2588\u258e        | 214/1712 [01:26<09:39,  2.58it/s]"
          ]
        },
        {
          "output_type": "stream",
          "name": "stderr",
          "text": [
            "\rExtracting test embeddings (flip):  13%|\u2588\u258e        | 215/1712 [01:26<09:05,  2.74it/s]"
          ]
        },
        {
          "output_type": "stream",
          "name": "stderr",
          "text": [
            "\rExtracting test embeddings (flip):  13%|\u2588\u258e        | 216/1712 [01:26<08:40,  2.88it/s]"
          ]
        },
        {
          "output_type": "stream",
          "name": "stderr",
          "text": [
            "\rExtracting test embeddings (flip):  13%|\u2588\u258e        | 217/1712 [01:27<10:39,  2.34it/s]"
          ]
        },
        {
          "output_type": "stream",
          "name": "stderr",
          "text": [
            "\rExtracting test embeddings (flip):  13%|\u2588\u258e        | 218/1712 [01:27<09:43,  2.56it/s]"
          ]
        },
        {
          "output_type": "stream",
          "name": "stderr",
          "text": [
            "\rExtracting test embeddings (flip):  13%|\u2588\u258e        | 219/1712 [01:27<09:08,  2.72it/s]"
          ]
        },
        {
          "output_type": "stream",
          "name": "stderr",
          "text": [
            "\rExtracting test embeddings (flip):  13%|\u2588\u258e        | 220/1712 [01:28<08:41,  2.86it/s]"
          ]
        },
        {
          "output_type": "stream",
          "name": "stderr",
          "text": [
            "\rExtracting test embeddings (flip):  13%|\u2588\u258e        | 221/1712 [01:28<10:24,  2.39it/s]"
          ]
        },
        {
          "output_type": "stream",
          "name": "stderr",
          "text": [
            "\rExtracting test embeddings (flip):  13%|\u2588\u258e        | 222/1712 [01:29<09:32,  2.60it/s]"
          ]
        },
        {
          "output_type": "stream",
          "name": "stderr",
          "text": [
            "\rExtracting test embeddings (flip):  13%|\u2588\u258e        | 223/1712 [01:29<09:05,  2.73it/s]"
          ]
        },
        {
          "output_type": "stream",
          "name": "stderr",
          "text": [
            "\rExtracting test embeddings (flip):  13%|\u2588\u258e        | 224/1712 [01:29<08:39,  2.86it/s]"
          ]
        },
        {
          "output_type": "stream",
          "name": "stderr",
          "text": [
            "\rExtracting test embeddings (flip):  13%|\u2588\u258e        | 225/1712 [01:30<10:13,  2.42it/s]"
          ]
        },
        {
          "output_type": "stream",
          "name": "stderr",
          "text": [
            "\rExtracting test embeddings (flip):  13%|\u2588\u258e        | 226/1712 [01:30<09:24,  2.63it/s]"
          ]
        },
        {
          "output_type": "stream",
          "name": "stderr",
          "text": [
            "\rExtracting test embeddings (flip):  13%|\u2588\u258e        | 227/1712 [01:30<08:55,  2.77it/s]"
          ]
        },
        {
          "output_type": "stream",
          "name": "stderr",
          "text": [
            "\rExtracting test embeddings (flip):  13%|\u2588\u258e        | 228/1712 [01:31<08:31,  2.90it/s]"
          ]
        },
        {
          "output_type": "stream",
          "name": "stderr",
          "text": [
            "\rExtracting test embeddings (flip):  13%|\u2588\u258e        | 229/1712 [01:31<10:15,  2.41it/s]"
          ]
        },
        {
          "output_type": "stream",
          "name": "stderr",
          "text": [
            "\rExtracting test embeddings (flip):  13%|\u2588\u258e        | 230/1712 [01:32<09:26,  2.62it/s]"
          ]
        },
        {
          "output_type": "stream",
          "name": "stderr",
          "text": [
            "\rExtracting test embeddings (flip):  13%|\u2588\u258e        | 231/1712 [01:32<08:59,  2.74it/s]"
          ]
        },
        {
          "output_type": "stream",
          "name": "stderr",
          "text": [
            "\rExtracting test embeddings (flip):  14%|\u2588\u258e        | 232/1712 [01:32<08:33,  2.88it/s]"
          ]
        },
        {
          "output_type": "stream",
          "name": "stderr",
          "text": [
            "\rExtracting test embeddings (flip):  14%|\u2588\u258e        | 233/1712 [01:33<10:15,  2.40it/s]"
          ]
        },
        {
          "output_type": "stream",
          "name": "stderr",
          "text": [
            "\rExtracting test embeddings (flip):  14%|\u2588\u258e        | 234/1712 [01:33<09:25,  2.62it/s]"
          ]
        },
        {
          "output_type": "stream",
          "name": "stderr",
          "text": [
            "\rExtracting test embeddings (flip):  14%|\u2588\u258e        | 235/1712 [01:33<08:55,  2.76it/s]"
          ]
        },
        {
          "output_type": "stream",
          "name": "stderr",
          "text": [
            "\rExtracting test embeddings (flip):  14%|\u2588\u258d        | 236/1712 [01:34<08:30,  2.89it/s]"
          ]
        },
        {
          "output_type": "stream",
          "name": "stderr",
          "text": [
            "\rExtracting test embeddings (flip):  14%|\u2588\u258d        | 237/1712 [01:34<10:42,  2.30it/s]"
          ]
        },
        {
          "output_type": "stream",
          "name": "stderr",
          "text": [
            "\rExtracting test embeddings (flip):  14%|\u2588\u258d        | 238/1712 [01:35<09:45,  2.52it/s]"
          ]
        },
        {
          "output_type": "stream",
          "name": "stderr",
          "text": [
            "\rExtracting test embeddings (flip):  14%|\u2588\u258d        | 239/1712 [01:35<09:08,  2.69it/s]"
          ]
        },
        {
          "output_type": "stream",
          "name": "stderr",
          "text": [
            "\rExtracting test embeddings (flip):  14%|\u2588\u258d        | 240/1712 [01:35<08:39,  2.83it/s]"
          ]
        },
        {
          "output_type": "stream",
          "name": "stderr",
          "text": [
            "\rExtracting test embeddings (flip):  14%|\u2588\u258d        | 241/1712 [01:36<10:35,  2.32it/s]"
          ]
        },
        {
          "output_type": "stream",
          "name": "stderr",
          "text": [
            "\rExtracting test embeddings (flip):  14%|\u2588\u258d        | 242/1712 [01:36<09:38,  2.54it/s]"
          ]
        },
        {
          "output_type": "stream",
          "name": "stderr",
          "text": [
            "\rExtracting test embeddings (flip):  14%|\u2588\u258d        | 243/1712 [01:37<09:03,  2.70it/s]"
          ]
        },
        {
          "output_type": "stream",
          "name": "stderr",
          "text": [
            "\rExtracting test embeddings (flip):  14%|\u2588\u258d        | 244/1712 [01:37<08:34,  2.85it/s]"
          ]
        },
        {
          "output_type": "stream",
          "name": "stderr",
          "text": [
            "\rExtracting test embeddings (flip):  14%|\u2588\u258d        | 245/1712 [01:38<10:40,  2.29it/s]"
          ]
        },
        {
          "output_type": "stream",
          "name": "stderr",
          "text": [
            "\rExtracting test embeddings (flip):  14%|\u2588\u258d        | 246/1712 [01:38<09:41,  2.52it/s]"
          ]
        },
        {
          "output_type": "stream",
          "name": "stderr",
          "text": [
            "\rExtracting test embeddings (flip):  14%|\u2588\u258d        | 247/1712 [01:38<09:05,  2.69it/s]"
          ]
        },
        {
          "output_type": "stream",
          "name": "stderr",
          "text": [
            "\rExtracting test embeddings (flip):  14%|\u2588\u258d        | 248/1712 [01:38<08:35,  2.84it/s]"
          ]
        },
        {
          "output_type": "stream",
          "name": "stderr",
          "text": [
            "\rExtracting test embeddings (flip):  15%|\u2588\u258d        | 249/1712 [01:39<10:39,  2.29it/s]"
          ]
        },
        {
          "output_type": "stream",
          "name": "stderr",
          "text": [
            "\rExtracting test embeddings (flip):  15%|\u2588\u258d        | 250/1712 [01:39<09:41,  2.51it/s]"
          ]
        },
        {
          "output_type": "stream",
          "name": "stderr",
          "text": [
            "\rExtracting test embeddings (flip):  15%|\u2588\u258d        | 251/1712 [01:40<09:05,  2.68it/s]"
          ]
        },
        {
          "output_type": "stream",
          "name": "stderr",
          "text": [
            "\rExtracting test embeddings (flip):  15%|\u2588\u258d        | 252/1712 [01:40<08:35,  2.83it/s]"
          ]
        },
        {
          "output_type": "stream",
          "name": "stderr",
          "text": [
            "\rExtracting test embeddings (flip):  15%|\u2588\u258d        | 253/1712 [01:41<10:20,  2.35it/s]"
          ]
        },
        {
          "output_type": "stream",
          "name": "stderr",
          "text": [
            "\rExtracting test embeddings (flip):  15%|\u2588\u258d        | 254/1712 [01:41<09:27,  2.57it/s]"
          ]
        },
        {
          "output_type": "stream",
          "name": "stderr",
          "text": [
            "\rExtracting test embeddings (flip):  15%|\u2588\u258d        | 255/1712 [01:41<08:55,  2.72it/s]"
          ]
        },
        {
          "output_type": "stream",
          "name": "stderr",
          "text": [
            "\rExtracting test embeddings (flip):  15%|\u2588\u258d        | 256/1712 [01:42<08:28,  2.86it/s]"
          ]
        },
        {
          "output_type": "stream",
          "name": "stderr",
          "text": [
            "\rExtracting test embeddings (flip):  15%|\u2588\u258c        | 257/1712 [01:42<09:58,  2.43it/s]"
          ]
        },
        {
          "output_type": "stream",
          "name": "stderr",
          "text": [
            "\rExtracting test embeddings (flip):  15%|\u2588\u258c        | 258/1712 [01:42<09:11,  2.63it/s]"
          ]
        },
        {
          "output_type": "stream",
          "name": "stderr",
          "text": [
            "\rExtracting test embeddings (flip):  15%|\u2588\u258c        | 259/1712 [01:43<08:46,  2.76it/s]"
          ]
        },
        {
          "output_type": "stream",
          "name": "stderr",
          "text": [
            "\rExtracting test embeddings (flip):  15%|\u2588\u258c        | 260/1712 [01:43<08:22,  2.89it/s]"
          ]
        },
        {
          "output_type": "stream",
          "name": "stderr",
          "text": [
            "\rExtracting test embeddings (flip):  15%|\u2588\u258c        | 261/1712 [01:44<09:59,  2.42it/s]"
          ]
        },
        {
          "output_type": "stream",
          "name": "stderr",
          "text": [
            "\rExtracting test embeddings (flip):  15%|\u2588\u258c        | 262/1712 [01:44<09:13,  2.62it/s]"
          ]
        },
        {
          "output_type": "stream",
          "name": "stderr",
          "text": [
            "\rExtracting test embeddings (flip):  15%|\u2588\u258c        | 263/1712 [01:44<08:43,  2.77it/s]"
          ]
        },
        {
          "output_type": "stream",
          "name": "stderr",
          "text": [
            "\rExtracting test embeddings (flip):  15%|\u2588\u258c        | 264/1712 [01:45<08:19,  2.90it/s]"
          ]
        },
        {
          "output_type": "stream",
          "name": "stderr",
          "text": [
            "\rExtracting test embeddings (flip):  15%|\u2588\u258c        | 265/1712 [01:45<10:08,  2.38it/s]"
          ]
        },
        {
          "output_type": "stream",
          "name": "stderr",
          "text": [
            "\rExtracting test embeddings (flip):  16%|\u2588\u258c        | 266/1712 [01:45<09:18,  2.59it/s]"
          ]
        },
        {
          "output_type": "stream",
          "name": "stderr",
          "text": [
            "\rExtracting test embeddings (flip):  16%|\u2588\u258c        | 267/1712 [01:46<08:47,  2.74it/s]"
          ]
        },
        {
          "output_type": "stream",
          "name": "stderr",
          "text": [
            "\rExtracting test embeddings (flip):  16%|\u2588\u258c        | 268/1712 [01:46<08:21,  2.88it/s]"
          ]
        },
        {
          "output_type": "stream",
          "name": "stderr",
          "text": [
            "\rExtracting test embeddings (flip):  16%|\u2588\u258c        | 269/1712 [01:47<10:41,  2.25it/s]"
          ]
        },
        {
          "output_type": "stream",
          "name": "stderr",
          "text": [
            "\rExtracting test embeddings (flip):  16%|\u2588\u258c        | 270/1712 [01:47<09:40,  2.48it/s]"
          ]
        },
        {
          "output_type": "stream",
          "name": "stderr",
          "text": [
            "\rExtracting test embeddings (flip):  16%|\u2588\u258c        | 271/1712 [01:47<09:02,  2.66it/s]"
          ]
        },
        {
          "output_type": "stream",
          "name": "stderr",
          "text": [
            "\rExtracting test embeddings (flip):  16%|\u2588\u258c        | 272/1712 [01:48<08:31,  2.82it/s]"
          ]
        },
        {
          "output_type": "stream",
          "name": "stderr",
          "text": [
            "\rExtracting test embeddings (flip):  16%|\u2588\u258c        | 273/1712 [01:48<10:06,  2.37it/s]"
          ]
        },
        {
          "output_type": "stream",
          "name": "stderr",
          "text": [
            "\rExtracting test embeddings (flip):  16%|\u2588\u258c        | 274/1712 [01:49<09:16,  2.59it/s]"
          ]
        },
        {
          "output_type": "stream",
          "name": "stderr",
          "text": [
            "\rExtracting test embeddings (flip):  16%|\u2588\u258c        | 275/1712 [01:49<08:45,  2.74it/s]"
          ]
        },
        {
          "output_type": "stream",
          "name": "stderr",
          "text": [
            "\rExtracting test embeddings (flip):  16%|\u2588\u258c        | 276/1712 [01:49<08:18,  2.88it/s]"
          ]
        },
        {
          "output_type": "stream",
          "name": "stderr",
          "text": [
            "\rExtracting test embeddings (flip):  16%|\u2588\u258c        | 277/1712 [01:50<09:47,  2.44it/s]"
          ]
        },
        {
          "output_type": "stream",
          "name": "stderr",
          "text": [
            "\rExtracting test embeddings (flip):  16%|\u2588\u258c        | 278/1712 [01:50<09:01,  2.65it/s]"
          ]
        },
        {
          "output_type": "stream",
          "name": "stderr",
          "text": [
            "\rExtracting test embeddings (flip):  16%|\u2588\u258b        | 279/1712 [01:50<08:34,  2.78it/s]"
          ]
        },
        {
          "output_type": "stream",
          "name": "stderr",
          "text": [
            "\rExtracting test embeddings (flip):  16%|\u2588\u258b        | 280/1712 [01:51<08:10,  2.92it/s]"
          ]
        },
        {
          "output_type": "stream",
          "name": "stderr",
          "text": [
            "\rExtracting test embeddings (flip):  16%|\u2588\u258b        | 281/1712 [01:51<09:45,  2.44it/s]"
          ]
        },
        {
          "output_type": "stream",
          "name": "stderr",
          "text": [
            "\rExtracting test embeddings (flip):  16%|\u2588\u258b        | 282/1712 [01:52<09:01,  2.64it/s]"
          ]
        },
        {
          "output_type": "stream",
          "name": "stderr",
          "text": [
            "\rExtracting test embeddings (flip):  17%|\u2588\u258b        | 283/1712 [01:52<08:34,  2.78it/s]"
          ]
        },
        {
          "output_type": "stream",
          "name": "stderr",
          "text": [
            "\rExtracting test embeddings (flip):  17%|\u2588\u258b        | 284/1712 [01:52<08:11,  2.91it/s]"
          ]
        },
        {
          "output_type": "stream",
          "name": "stderr",
          "text": [
            "\rExtracting test embeddings (flip):  17%|\u2588\u258b        | 285/1712 [01:53<09:43,  2.45it/s]"
          ]
        },
        {
          "output_type": "stream",
          "name": "stderr",
          "text": [
            "\rExtracting test embeddings (flip):  17%|\u2588\u258b        | 286/1712 [01:53<08:57,  2.65it/s]"
          ]
        },
        {
          "output_type": "stream",
          "name": "stderr",
          "text": [
            "\rExtracting test embeddings (flip):  17%|\u2588\u258b        | 287/1712 [01:53<08:30,  2.79it/s]"
          ]
        },
        {
          "output_type": "stream",
          "name": "stderr",
          "text": [
            "\rExtracting test embeddings (flip):  17%|\u2588\u258b        | 288/1712 [01:54<08:07,  2.92it/s]"
          ]
        },
        {
          "output_type": "stream",
          "name": "stderr",
          "text": [
            "\rExtracting test embeddings (flip):  17%|\u2588\u258b        | 289/1712 [01:54<09:38,  2.46it/s]"
          ]
        },
        {
          "output_type": "stream",
          "name": "stderr",
          "text": [
            "\rExtracting test embeddings (flip):  17%|\u2588\u258b        | 290/1712 [01:54<08:54,  2.66it/s]"
          ]
        },
        {
          "output_type": "stream",
          "name": "stderr",
          "text": [
            "\rExtracting test embeddings (flip):  17%|\u2588\u258b        | 291/1712 [01:55<08:27,  2.80it/s]"
          ]
        },
        {
          "output_type": "stream",
          "name": "stderr",
          "text": [
            "\rExtracting test embeddings (flip):  17%|\u2588\u258b        | 292/1712 [01:55<08:04,  2.93it/s]"
          ]
        },
        {
          "output_type": "stream",
          "name": "stderr",
          "text": [
            "\rExtracting test embeddings (flip):  17%|\u2588\u258b        | 293/1712 [01:56<09:38,  2.45it/s]"
          ]
        },
        {
          "output_type": "stream",
          "name": "stderr",
          "text": [
            "\rExtracting test embeddings (flip):  17%|\u2588\u258b        | 294/1712 [01:56<08:54,  2.65it/s]"
          ]
        },
        {
          "output_type": "stream",
          "name": "stderr",
          "text": [
            "\rExtracting test embeddings (flip):  17%|\u2588\u258b        | 295/1712 [01:56<08:30,  2.77it/s]"
          ]
        },
        {
          "output_type": "stream",
          "name": "stderr",
          "text": [
            "\rExtracting test embeddings (flip):  17%|\u2588\u258b        | 296/1712 [01:57<08:08,  2.90it/s]"
          ]
        },
        {
          "output_type": "stream",
          "name": "stderr",
          "text": [
            "\rExtracting test embeddings (flip):  17%|\u2588\u258b        | 297/1712 [01:57<10:04,  2.34it/s]"
          ]
        },
        {
          "output_type": "stream",
          "name": "stderr",
          "text": [
            "\rExtracting test embeddings (flip):  17%|\u2588\u258b        | 298/1712 [01:58<09:11,  2.56it/s]"
          ]
        },
        {
          "output_type": "stream",
          "name": "stderr",
          "text": [
            "\rExtracting test embeddings (flip):  17%|\u2588\u258b        | 299/1712 [01:58<08:39,  2.72it/s]"
          ]
        },
        {
          "output_type": "stream",
          "name": "stderr",
          "text": [
            "\rExtracting test embeddings (flip):  18%|\u2588\u258a        | 300/1712 [01:58<08:13,  2.86it/s]"
          ]
        },
        {
          "output_type": "stream",
          "name": "stderr",
          "text": [
            "\rExtracting test embeddings (flip):  18%|\u2588\u258a        | 301/1712 [01:59<10:16,  2.29it/s]"
          ]
        },
        {
          "output_type": "stream",
          "name": "stderr",
          "text": [
            "\rExtracting test embeddings (flip):  18%|\u2588\u258a        | 302/1712 [01:59<09:20,  2.52it/s]"
          ]
        },
        {
          "output_type": "stream",
          "name": "stderr",
          "text": [
            "\rExtracting test embeddings (flip):  18%|\u2588\u258a        | 303/1712 [01:59<08:47,  2.67it/s]"
          ]
        },
        {
          "output_type": "stream",
          "name": "stderr",
          "text": [
            "\rExtracting test embeddings (flip):  18%|\u2588\u258a        | 304/1712 [02:00<08:18,  2.82it/s]"
          ]
        },
        {
          "output_type": "stream",
          "name": "stderr",
          "text": [
            "\rExtracting test embeddings (flip):  18%|\u2588\u258a        | 305/1712 [02:00<09:52,  2.37it/s]"
          ]
        },
        {
          "output_type": "stream",
          "name": "stderr",
          "text": [
            "\rExtracting test embeddings (flip):  18%|\u2588\u258a        | 306/1712 [02:01<09:02,  2.59it/s]"
          ]
        },
        {
          "output_type": "stream",
          "name": "stderr",
          "text": [
            "\rExtracting test embeddings (flip):  18%|\u2588\u258a        | 307/1712 [02:01<08:32,  2.74it/s]"
          ]
        },
        {
          "output_type": "stream",
          "name": "stderr",
          "text": [
            "\rExtracting test embeddings (flip):  18%|\u2588\u258a        | 308/1712 [02:01<08:07,  2.88it/s]"
          ]
        },
        {
          "output_type": "stream",
          "name": "stderr",
          "text": [
            "\rExtracting test embeddings (flip):  18%|\u2588\u258a        | 309/1712 [02:02<09:37,  2.43it/s]"
          ]
        },
        {
          "output_type": "stream",
          "name": "stderr",
          "text": [
            "\rExtracting test embeddings (flip):  18%|\u2588\u258a        | 310/1712 [02:02<08:52,  2.63it/s]"
          ]
        },
        {
          "output_type": "stream",
          "name": "stderr",
          "text": [
            "\rExtracting test embeddings (flip):  18%|\u2588\u258a        | 311/1712 [02:02<08:27,  2.76it/s]"
          ]
        },
        {
          "output_type": "stream",
          "name": "stderr",
          "text": [
            "\rExtracting test embeddings (flip):  18%|\u2588\u258a        | 312/1712 [02:03<08:04,  2.89it/s]"
          ]
        },
        {
          "output_type": "stream",
          "name": "stderr",
          "text": [
            "\rExtracting test embeddings (flip):  18%|\u2588\u258a        | 313/1712 [02:03<09:33,  2.44it/s]"
          ]
        },
        {
          "output_type": "stream",
          "name": "stderr",
          "text": [
            "\rExtracting test embeddings (flip):  18%|\u2588\u258a        | 314/1712 [02:04<08:48,  2.65it/s]"
          ]
        },
        {
          "output_type": "stream",
          "name": "stderr",
          "text": [
            "\rExtracting test embeddings (flip):  18%|\u2588\u258a        | 315/1712 [02:04<08:21,  2.79it/s]"
          ]
        },
        {
          "output_type": "stream",
          "name": "stderr",
          "text": [
            "\rExtracting test embeddings (flip):  18%|\u2588\u258a        | 316/1712 [02:04<07:58,  2.92it/s]"
          ]
        },
        {
          "output_type": "stream",
          "name": "stderr",
          "text": [
            "\rExtracting test embeddings (flip):  19%|\u2588\u258a        | 317/1712 [02:05<09:47,  2.37it/s]"
          ]
        },
        {
          "output_type": "stream",
          "name": "stderr",
          "text": [
            "\rExtracting test embeddings (flip):  19%|\u2588\u258a        | 318/1712 [02:05<08:59,  2.59it/s]"
          ]
        },
        {
          "output_type": "stream",
          "name": "stderr",
          "text": [
            "\rExtracting test embeddings (flip):  19%|\u2588\u258a        | 319/1712 [02:05<08:31,  2.73it/s]"
          ]
        },
        {
          "output_type": "stream",
          "name": "stderr",
          "text": [
            "\rExtracting test embeddings (flip):  19%|\u2588\u258a        | 320/1712 [02:06<08:05,  2.87it/s]"
          ]
        },
        {
          "output_type": "stream",
          "name": "stderr",
          "text": [
            "\rExtracting test embeddings (flip):  19%|\u2588\u2589        | 321/1712 [02:06<09:45,  2.37it/s]"
          ]
        },
        {
          "output_type": "stream",
          "name": "stderr",
          "text": [
            "\rExtracting test embeddings (flip):  19%|\u2588\u2589        | 322/1712 [02:07<08:58,  2.58it/s]"
          ]
        },
        {
          "output_type": "stream",
          "name": "stderr",
          "text": [
            "\rExtracting test embeddings (flip):  19%|\u2588\u2589        | 323/1712 [02:07<08:26,  2.74it/s]"
          ]
        },
        {
          "output_type": "stream",
          "name": "stderr",
          "text": [
            "\rExtracting test embeddings (flip):  19%|\u2588\u2589        | 324/1712 [02:07<08:02,  2.87it/s]"
          ]
        },
        {
          "output_type": "stream",
          "name": "stderr",
          "text": [
            "\rExtracting test embeddings (flip):  19%|\u2588\u2589        | 325/1712 [02:08<08:58,  2.58it/s]"
          ]
        },
        {
          "output_type": "stream",
          "name": "stderr",
          "text": [
            "\rExtracting test embeddings (flip):  19%|\u2588\u2589        | 326/1712 [02:08<08:22,  2.76it/s]"
          ]
        },
        {
          "output_type": "stream",
          "name": "stderr",
          "text": [
            "\rExtracting test embeddings (flip):  19%|\u2588\u2589        | 327/1712 [02:08<08:03,  2.87it/s]"
          ]
        },
        {
          "output_type": "stream",
          "name": "stderr",
          "text": [
            "\rExtracting test embeddings (flip):  19%|\u2588\u2589        | 328/1712 [02:09<07:45,  2.97it/s]"
          ]
        },
        {
          "output_type": "stream",
          "name": "stderr",
          "text": [
            "\rExtracting test embeddings (flip):  19%|\u2588\u2589        | 329/1712 [02:09<09:22,  2.46it/s]"
          ]
        },
        {
          "output_type": "stream",
          "name": "stderr",
          "text": [
            "\rExtracting test embeddings (flip):  19%|\u2588\u2589        | 330/1712 [02:10<08:39,  2.66it/s]"
          ]
        },
        {
          "output_type": "stream",
          "name": "stderr",
          "text": [
            "\rExtracting test embeddings (flip):  19%|\u2588\u2589        | 331/1712 [02:10<08:14,  2.79it/s]"
          ]
        },
        {
          "output_type": "stream",
          "name": "stderr",
          "text": [
            "\rExtracting test embeddings (flip):  19%|\u2588\u2589        | 332/1712 [02:10<07:52,  2.92it/s]"
          ]
        },
        {
          "output_type": "stream",
          "name": "stderr",
          "text": [
            "\rExtracting test embeddings (flip):  19%|\u2588\u2589        | 333/1712 [02:11<09:51,  2.33it/s]"
          ]
        },
        {
          "output_type": "stream",
          "name": "stderr",
          "text": [
            "\rExtracting test embeddings (flip):  20%|\u2588\u2589        | 334/1712 [02:11<08:59,  2.56it/s]"
          ]
        },
        {
          "output_type": "stream",
          "name": "stderr",
          "text": [
            "\rExtracting test embeddings (flip):  20%|\u2588\u2589        | 335/1712 [02:11<08:27,  2.71it/s]"
          ]
        },
        {
          "output_type": "stream",
          "name": "stderr",
          "text": [
            "\rExtracting test embeddings (flip):  20%|\u2588\u2589        | 336/1712 [02:12<08:00,  2.86it/s]"
          ]
        },
        {
          "output_type": "stream",
          "name": "stderr",
          "text": [
            "\rExtracting test embeddings (flip):  20%|\u2588\u2589        | 337/1712 [02:12<09:44,  2.35it/s]"
          ]
        },
        {
          "output_type": "stream",
          "name": "stderr",
          "text": [
            "\rExtracting test embeddings (flip):  20%|\u2588\u2589        | 338/1712 [02:13<08:53,  2.57it/s]"
          ]
        },
        {
          "output_type": "stream",
          "name": "stderr",
          "text": [
            "\rExtracting test embeddings (flip):  20%|\u2588\u2589        | 339/1712 [02:13<08:25,  2.72it/s]"
          ]
        },
        {
          "output_type": "stream",
          "name": "stderr",
          "text": [
            "\rExtracting test embeddings (flip):  20%|\u2588\u2589        | 340/1712 [02:13<08:01,  2.85it/s]"
          ]
        },
        {
          "output_type": "stream",
          "name": "stderr",
          "text": [
            "\rExtracting test embeddings (flip):  20%|\u2588\u2589        | 341/1712 [02:14<09:49,  2.32it/s]"
          ]
        },
        {
          "output_type": "stream",
          "name": "stderr",
          "text": [
            "\rExtracting test embeddings (flip):  20%|\u2588\u2589        | 342/1712 [02:14<08:58,  2.54it/s]"
          ]
        },
        {
          "output_type": "stream",
          "name": "stderr",
          "text": [
            "\rExtracting test embeddings (flip):  20%|\u2588\u2588        | 343/1712 [02:14<08:25,  2.71it/s]"
          ]
        },
        {
          "output_type": "stream",
          "name": "stderr",
          "text": [
            "\rExtracting test embeddings (flip):  20%|\u2588\u2588        | 344/1712 [02:15<07:59,  2.85it/s]"
          ]
        },
        {
          "output_type": "stream",
          "name": "stderr",
          "text": [
            "\rExtracting test embeddings (flip):  20%|\u2588\u2588        | 345/1712 [02:15<09:44,  2.34it/s]"
          ]
        },
        {
          "output_type": "stream",
          "name": "stderr",
          "text": [
            "\rExtracting test embeddings (flip):  20%|\u2588\u2588        | 346/1712 [02:16<08:53,  2.56it/s]"
          ]
        },
        {
          "output_type": "stream",
          "name": "stderr",
          "text": [
            "\rExtracting test embeddings (flip):  20%|\u2588\u2588        | 347/1712 [02:16<08:24,  2.71it/s]"
          ]
        },
        {
          "output_type": "stream",
          "name": "stderr",
          "text": [
            "\rExtracting test embeddings (flip):  20%|\u2588\u2588        | 348/1712 [02:16<07:58,  2.85it/s]"
          ]
        },
        {
          "output_type": "stream",
          "name": "stderr",
          "text": [
            "\rExtracting test embeddings (flip):  20%|\u2588\u2588        | 349/1712 [02:17<09:38,  2.36it/s]"
          ]
        },
        {
          "output_type": "stream",
          "name": "stderr",
          "text": [
            "\rExtracting test embeddings (flip):  20%|\u2588\u2588        | 350/1712 [02:17<08:49,  2.57it/s]"
          ]
        },
        {
          "output_type": "stream",
          "name": "stderr",
          "text": [
            "\rExtracting test embeddings (flip):  21%|\u2588\u2588        | 351/1712 [02:18<08:17,  2.73it/s]"
          ]
        },
        {
          "output_type": "stream",
          "name": "stderr",
          "text": [
            "\rExtracting test embeddings (flip):  21%|\u2588\u2588        | 352/1712 [02:18<07:53,  2.87it/s]"
          ]
        },
        {
          "output_type": "stream",
          "name": "stderr",
          "text": [
            "\rExtracting test embeddings (flip):  21%|\u2588\u2588        | 353/1712 [02:18<09:27,  2.40it/s]"
          ]
        },
        {
          "output_type": "stream",
          "name": "stderr",
          "text": [
            "\rExtracting test embeddings (flip):  21%|\u2588\u2588        | 354/1712 [02:19<08:40,  2.61it/s]"
          ]
        },
        {
          "output_type": "stream",
          "name": "stderr",
          "text": [
            "\rExtracting test embeddings (flip):  21%|\u2588\u2588        | 355/1712 [02:19<08:11,  2.76it/s]"
          ]
        },
        {
          "output_type": "stream",
          "name": "stderr",
          "text": [
            "\rExtracting test embeddings (flip):  21%|\u2588\u2588        | 356/1712 [02:19<07:48,  2.90it/s]"
          ]
        },
        {
          "output_type": "stream",
          "name": "stderr",
          "text": [
            "\rExtracting test embeddings (flip):  21%|\u2588\u2588        | 357/1712 [02:20<09:32,  2.37it/s]"
          ]
        },
        {
          "output_type": "stream",
          "name": "stderr",
          "text": [
            "\rExtracting test embeddings (flip):  21%|\u2588\u2588        | 358/1712 [02:20<08:44,  2.58it/s]"
          ]
        },
        {
          "output_type": "stream",
          "name": "stderr",
          "text": [
            "\rExtracting test embeddings (flip):  21%|\u2588\u2588        | 359/1712 [02:21<08:16,  2.73it/s]"
          ]
        },
        {
          "output_type": "stream",
          "name": "stderr",
          "text": [
            "\rExtracting test embeddings (flip):  21%|\u2588\u2588        | 360/1712 [02:21<07:52,  2.86it/s]"
          ]
        },
        {
          "output_type": "stream",
          "name": "stderr",
          "text": [
            "\rExtracting test embeddings (flip):  21%|\u2588\u2588        | 361/1712 [02:21<09:19,  2.42it/s]"
          ]
        },
        {
          "output_type": "stream",
          "name": "stderr",
          "text": [
            "\rExtracting test embeddings (flip):  21%|\u2588\u2588        | 362/1712 [02:22<08:35,  2.62it/s]"
          ]
        },
        {
          "output_type": "stream",
          "name": "stderr",
          "text": [
            "\rExtracting test embeddings (flip):  21%|\u2588\u2588        | 363/1712 [02:22<08:08,  2.76it/s]"
          ]
        },
        {
          "output_type": "stream",
          "name": "stderr",
          "text": [
            "\rExtracting test embeddings (flip):  21%|\u2588\u2588\u258f       | 364/1712 [02:22<07:45,  2.89it/s]"
          ]
        },
        {
          "output_type": "stream",
          "name": "stderr",
          "text": [
            "\rExtracting test embeddings (flip):  21%|\u2588\u2588\u258f       | 365/1712 [02:23<09:19,  2.41it/s]"
          ]
        },
        {
          "output_type": "stream",
          "name": "stderr",
          "text": [
            "\rExtracting test embeddings (flip):  21%|\u2588\u2588\u258f       | 366/1712 [02:23<08:35,  2.61it/s]"
          ]
        },
        {
          "output_type": "stream",
          "name": "stderr",
          "text": [
            "\rExtracting test embeddings (flip):  21%|\u2588\u2588\u258f       | 367/1712 [02:24<08:07,  2.76it/s]"
          ]
        },
        {
          "output_type": "stream",
          "name": "stderr",
          "text": [
            "\rExtracting test embeddings (flip):  21%|\u2588\u2588\u258f       | 368/1712 [02:24<07:44,  2.89it/s]"
          ]
        },
        {
          "output_type": "stream",
          "name": "stderr",
          "text": [
            "\rExtracting test embeddings (flip):  22%|\u2588\u2588\u258f       | 369/1712 [02:24<09:07,  2.45it/s]"
          ]
        },
        {
          "output_type": "stream",
          "name": "stderr",
          "text": [
            "\rExtracting test embeddings (flip):  22%|\u2588\u2588\u258f       | 370/1712 [02:25<08:27,  2.64it/s]"
          ]
        },
        {
          "output_type": "stream",
          "name": "stderr",
          "text": [
            "\rExtracting test embeddings (flip):  22%|\u2588\u2588\u258f       | 371/1712 [02:25<08:02,  2.78it/s]"
          ]
        },
        {
          "output_type": "stream",
          "name": "stderr",
          "text": [
            "\rExtracting test embeddings (flip):  22%|\u2588\u2588\u258f       | 372/1712 [02:25<07:40,  2.91it/s]"
          ]
        },
        {
          "output_type": "stream",
          "name": "stderr",
          "text": [
            "\rExtracting test embeddings (flip):  22%|\u2588\u2588\u258f       | 373/1712 [02:26<09:07,  2.45it/s]"
          ]
        },
        {
          "output_type": "stream",
          "name": "stderr",
          "text": [
            "\rExtracting test embeddings (flip):  22%|\u2588\u2588\u258f       | 374/1712 [02:26<08:25,  2.64it/s]"
          ]
        },
        {
          "output_type": "stream",
          "name": "stderr",
          "text": [
            "\rExtracting test embeddings (flip):  22%|\u2588\u2588\u258f       | 375/1712 [02:27<08:01,  2.78it/s]"
          ]
        },
        {
          "output_type": "stream",
          "name": "stderr",
          "text": [
            "\rExtracting test embeddings (flip):  22%|\u2588\u2588\u258f       | 376/1712 [02:27<07:40,  2.90it/s]"
          ]
        },
        {
          "output_type": "stream",
          "name": "stderr",
          "text": [
            "\rExtracting test embeddings (flip):  22%|\u2588\u2588\u258f       | 377/1712 [02:27<09:21,  2.38it/s]"
          ]
        },
        {
          "output_type": "stream",
          "name": "stderr",
          "text": [
            "\rExtracting test embeddings (flip):  22%|\u2588\u2588\u258f       | 378/1712 [02:28<08:35,  2.59it/s]"
          ]
        },
        {
          "output_type": "stream",
          "name": "stderr",
          "text": [
            "\rExtracting test embeddings (flip):  22%|\u2588\u2588\u258f       | 379/1712 [02:28<08:06,  2.74it/s]"
          ]
        },
        {
          "output_type": "stream",
          "name": "stderr",
          "text": [
            "\rExtracting test embeddings (flip):  22%|\u2588\u2588\u258f       | 380/1712 [02:28<07:42,  2.88it/s]"
          ]
        },
        {
          "output_type": "stream",
          "name": "stderr",
          "text": [
            "\rExtracting test embeddings (flip):  22%|\u2588\u2588\u258f       | 381/1712 [02:29<09:11,  2.41it/s]"
          ]
        },
        {
          "output_type": "stream",
          "name": "stderr",
          "text": [
            "\rExtracting test embeddings (flip):  22%|\u2588\u2588\u258f       | 382/1712 [02:29<08:27,  2.62it/s]"
          ]
        },
        {
          "output_type": "stream",
          "name": "stderr",
          "text": [
            "\rExtracting test embeddings (flip):  22%|\u2588\u2588\u258f       | 383/1712 [02:30<08:00,  2.77it/s]"
          ]
        },
        {
          "output_type": "stream",
          "name": "stderr",
          "text": [
            "\rExtracting test embeddings (flip):  22%|\u2588\u2588\u258f       | 384/1712 [02:30<07:37,  2.90it/s]"
          ]
        },
        {
          "output_type": "stream",
          "name": "stderr",
          "text": [
            "\rExtracting test embeddings (flip):  22%|\u2588\u2588\u258f       | 385/1712 [02:30<09:05,  2.43it/s]"
          ]
        },
        {
          "output_type": "stream",
          "name": "stderr",
          "text": [
            "\rExtracting test embeddings (flip):  23%|\u2588\u2588\u258e       | 386/1712 [02:31<08:24,  2.63it/s]"
          ]
        },
        {
          "output_type": "stream",
          "name": "stderr",
          "text": [
            "\rExtracting test embeddings (flip):  23%|\u2588\u2588\u258e       | 387/1712 [02:31<07:58,  2.77it/s]"
          ]
        },
        {
          "output_type": "stream",
          "name": "stderr",
          "text": [
            "\rExtracting test embeddings (flip):  23%|\u2588\u2588\u258e       | 388/1712 [02:31<07:36,  2.90it/s]"
          ]
        },
        {
          "output_type": "stream",
          "name": "stderr",
          "text": [
            "\rExtracting test embeddings (flip):  23%|\u2588\u2588\u258e       | 389/1712 [02:32<09:05,  2.42it/s]"
          ]
        },
        {
          "output_type": "stream",
          "name": "stderr",
          "text": [
            "\rExtracting test embeddings (flip):  23%|\u2588\u2588\u258e       | 390/1712 [02:32<08:24,  2.62it/s]"
          ]
        },
        {
          "output_type": "stream",
          "name": "stderr",
          "text": [
            "\rExtracting test embeddings (flip):  23%|\u2588\u2588\u258e       | 391/1712 [02:33<07:57,  2.77it/s]"
          ]
        },
        {
          "output_type": "stream",
          "name": "stderr",
          "text": [
            "\rExtracting test embeddings (flip):  23%|\u2588\u2588\u258e       | 392/1712 [02:33<07:34,  2.90it/s]"
          ]
        },
        {
          "output_type": "stream",
          "name": "stderr",
          "text": [
            "\rExtracting test embeddings (flip):  23%|\u2588\u2588\u258e       | 393/1712 [02:33<09:07,  2.41it/s]"
          ]
        },
        {
          "output_type": "stream",
          "name": "stderr",
          "text": [
            "\rExtracting test embeddings (flip):  23%|\u2588\u2588\u258e       | 394/1712 [02:34<08:23,  2.62it/s]"
          ]
        },
        {
          "output_type": "stream",
          "name": "stderr",
          "text": [
            "\rExtracting test embeddings (flip):  23%|\u2588\u2588\u258e       | 395/1712 [02:34<07:56,  2.76it/s]"
          ]
        },
        {
          "output_type": "stream",
          "name": "stderr",
          "text": [
            "\rExtracting test embeddings (flip):  23%|\u2588\u2588\u258e       | 396/1712 [02:34<07:34,  2.90it/s]"
          ]
        },
        {
          "output_type": "stream",
          "name": "stderr",
          "text": [
            "\rExtracting test embeddings (flip):  23%|\u2588\u2588\u258e       | 397/1712 [02:35<08:52,  2.47it/s]"
          ]
        },
        {
          "output_type": "stream",
          "name": "stderr",
          "text": [
            "\rExtracting test embeddings (flip):  23%|\u2588\u2588\u258e       | 398/1712 [02:35<08:13,  2.66it/s]"
          ]
        },
        {
          "output_type": "stream",
          "name": "stderr",
          "text": [
            "\rExtracting test embeddings (flip):  23%|\u2588\u2588\u258e       | 399/1712 [02:36<07:49,  2.80it/s]"
          ]
        },
        {
          "output_type": "stream",
          "name": "stderr",
          "text": [
            "\rExtracting test embeddings (flip):  23%|\u2588\u2588\u258e       | 400/1712 [02:36<07:29,  2.92it/s]"
          ]
        },
        {
          "output_type": "stream",
          "name": "stderr",
          "text": [
            "\rExtracting test embeddings (flip):  23%|\u2588\u2588\u258e       | 401/1712 [02:36<09:09,  2.39it/s]"
          ]
        },
        {
          "output_type": "stream",
          "name": "stderr",
          "text": [
            "\rExtracting test embeddings (flip):  23%|\u2588\u2588\u258e       | 402/1712 [02:37<08:23,  2.60it/s]"
          ]
        },
        {
          "output_type": "stream",
          "name": "stderr",
          "text": [
            "\rExtracting test embeddings (flip):  24%|\u2588\u2588\u258e       | 403/1712 [02:37<07:56,  2.75it/s]"
          ]
        },
        {
          "output_type": "stream",
          "name": "stderr",
          "text": [
            "\rExtracting test embeddings (flip):  24%|\u2588\u2588\u258e       | 404/1712 [02:37<07:32,  2.89it/s]"
          ]
        },
        {
          "output_type": "stream",
          "name": "stderr",
          "text": [
            "\rExtracting test embeddings (flip):  24%|\u2588\u2588\u258e       | 405/1712 [02:38<09:05,  2.40it/s]"
          ]
        },
        {
          "output_type": "stream",
          "name": "stderr",
          "text": [
            "\rExtracting test embeddings (flip):  24%|\u2588\u2588\u258e       | 406/1712 [02:38<08:20,  2.61it/s]"
          ]
        },
        {
          "output_type": "stream",
          "name": "stderr",
          "text": [
            "\rExtracting test embeddings (flip):  24%|\u2588\u2588\u258d       | 407/1712 [02:39<07:55,  2.75it/s]"
          ]
        },
        {
          "output_type": "stream",
          "name": "stderr",
          "text": [
            "\rExtracting test embeddings (flip):  24%|\u2588\u2588\u258d       | 408/1712 [02:39<07:33,  2.88it/s]"
          ]
        },
        {
          "output_type": "stream",
          "name": "stderr",
          "text": [
            "\rExtracting test embeddings (flip):  24%|\u2588\u2588\u258d       | 409/1712 [02:40<09:13,  2.35it/s]"
          ]
        },
        {
          "output_type": "stream",
          "name": "stderr",
          "text": [
            "\rExtracting test embeddings (flip):  24%|\u2588\u2588\u258d       | 410/1712 [02:40<08:26,  2.57it/s]"
          ]
        },
        {
          "output_type": "stream",
          "name": "stderr",
          "text": [
            "\rExtracting test embeddings (flip):  24%|\u2588\u2588\u258d       | 411/1712 [02:40<07:58,  2.72it/s]"
          ]
        },
        {
          "output_type": "stream",
          "name": "stderr",
          "text": [
            "\rExtracting test embeddings (flip):  24%|\u2588\u2588\u258d       | 412/1712 [02:40<07:35,  2.86it/s]"
          ]
        },
        {
          "output_type": "stream",
          "name": "stderr",
          "text": [
            "\rExtracting test embeddings (flip):  24%|\u2588\u2588\u258d       | 413/1712 [02:41<09:05,  2.38it/s]"
          ]
        },
        {
          "output_type": "stream",
          "name": "stderr",
          "text": [
            "\rExtracting test embeddings (flip):  24%|\u2588\u2588\u258d       | 414/1712 [02:41<08:20,  2.59it/s]"
          ]
        },
        {
          "output_type": "stream",
          "name": "stderr",
          "text": [
            "\rExtracting test embeddings (flip):  24%|\u2588\u2588\u258d       | 415/1712 [02:42<07:51,  2.75it/s]"
          ]
        },
        {
          "output_type": "stream",
          "name": "stderr",
          "text": [
            "\rExtracting test embeddings (flip):  24%|\u2588\u2588\u258d       | 416/1712 [02:42<07:28,  2.89it/s]"
          ]
        },
        {
          "output_type": "stream",
          "name": "stderr",
          "text": [
            "\rExtracting test embeddings (flip):  24%|\u2588\u2588\u258d       | 417/1712 [02:42<08:43,  2.47it/s]"
          ]
        },
        {
          "output_type": "stream",
          "name": "stderr",
          "text": [
            "\rExtracting test embeddings (flip):  24%|\u2588\u2588\u258d       | 418/1712 [02:43<08:04,  2.67it/s]"
          ]
        },
        {
          "output_type": "stream",
          "name": "stderr",
          "text": [
            "\rExtracting test embeddings (flip):  24%|\u2588\u2588\u258d       | 419/1712 [02:43<07:42,  2.80it/s]"
          ]
        },
        {
          "output_type": "stream",
          "name": "stderr",
          "text": [
            "\rExtracting test embeddings (flip):  25%|\u2588\u2588\u258d       | 420/1712 [02:43<07:22,  2.92it/s]"
          ]
        },
        {
          "output_type": "stream",
          "name": "stderr",
          "text": [
            "\rExtracting test embeddings (flip):  25%|\u2588\u2588\u258d       | 421/1712 [02:44<09:10,  2.34it/s]"
          ]
        },
        {
          "output_type": "stream",
          "name": "stderr",
          "text": [
            "\rExtracting test embeddings (flip):  25%|\u2588\u2588\u258d       | 422/1712 [02:44<08:22,  2.57it/s]"
          ]
        },
        {
          "output_type": "stream",
          "name": "stderr",
          "text": [
            "\rExtracting test embeddings (flip):  25%|\u2588\u2588\u258d       | 423/1712 [02:45<07:52,  2.73it/s]"
          ]
        },
        {
          "output_type": "stream",
          "name": "stderr",
          "text": [
            "\rExtracting test embeddings (flip):  25%|\u2588\u2588\u258d       | 424/1712 [02:45<07:29,  2.87it/s]"
          ]
        },
        {
          "output_type": "stream",
          "name": "stderr",
          "text": [
            "\rExtracting test embeddings (flip):  25%|\u2588\u2588\u258d       | 425/1712 [02:46<08:56,  2.40it/s]"
          ]
        },
        {
          "output_type": "stream",
          "name": "stderr",
          "text": [
            "\rExtracting test embeddings (flip):  25%|\u2588\u2588\u258d       | 426/1712 [02:46<08:12,  2.61it/s]"
          ]
        },
        {
          "output_type": "stream",
          "name": "stderr",
          "text": [
            "\rExtracting test embeddings (flip):  25%|\u2588\u2588\u258d       | 427/1712 [02:46<07:45,  2.76it/s]"
          ]
        },
        {
          "output_type": "stream",
          "name": "stderr",
          "text": [
            "\rExtracting test embeddings (flip):  25%|\u2588\u2588\u258c       | 428/1712 [02:46<07:23,  2.90it/s]"
          ]
        },
        {
          "output_type": "stream",
          "name": "stderr",
          "text": [
            "\rExtracting test embeddings (flip):  25%|\u2588\u2588\u258c       | 429/1712 [02:47<08:52,  2.41it/s]"
          ]
        },
        {
          "output_type": "stream",
          "name": "stderr",
          "text": [
            "\rExtracting test embeddings (flip):  25%|\u2588\u2588\u258c       | 430/1712 [02:47<08:09,  2.62it/s]"
          ]
        },
        {
          "output_type": "stream",
          "name": "stderr",
          "text": [
            "\rExtracting test embeddings (flip):  25%|\u2588\u2588\u258c       | 431/1712 [02:48<07:43,  2.76it/s]"
          ]
        },
        {
          "output_type": "stream",
          "name": "stderr",
          "text": [
            "\rExtracting test embeddings (flip):  25%|\u2588\u2588\u258c       | 432/1712 [02:48<07:21,  2.90it/s]"
          ]
        },
        {
          "output_type": "stream",
          "name": "stderr",
          "text": [
            "\rExtracting test embeddings (flip):  25%|\u2588\u2588\u258c       | 433/1712 [02:49<09:20,  2.28it/s]"
          ]
        },
        {
          "output_type": "stream",
          "name": "stderr",
          "text": [
            "\rExtracting test embeddings (flip):  25%|\u2588\u2588\u258c       | 434/1712 [02:49<08:28,  2.51it/s]"
          ]
        },
        {
          "output_type": "stream",
          "name": "stderr",
          "text": [
            "\rExtracting test embeddings (flip):  25%|\u2588\u2588\u258c       | 435/1712 [02:49<07:56,  2.68it/s]"
          ]
        },
        {
          "output_type": "stream",
          "name": "stderr",
          "text": [
            "\rExtracting test embeddings (flip):  25%|\u2588\u2588\u258c       | 436/1712 [02:50<07:30,  2.83it/s]"
          ]
        },
        {
          "output_type": "stream",
          "name": "stderr",
          "text": [
            "\rExtracting test embeddings (flip):  26%|\u2588\u2588\u258c       | 437/1712 [02:50<08:54,  2.39it/s]"
          ]
        },
        {
          "output_type": "stream",
          "name": "stderr",
          "text": [
            "\rExtracting test embeddings (flip):  26%|\u2588\u2588\u258c       | 438/1712 [02:50<08:09,  2.60it/s]"
          ]
        },
        {
          "output_type": "stream",
          "name": "stderr",
          "text": [
            "\rExtracting test embeddings (flip):  26%|\u2588\u2588\u258c       | 439/1712 [02:51<07:43,  2.75it/s]"
          ]
        },
        {
          "output_type": "stream",
          "name": "stderr",
          "text": [
            "\rExtracting test embeddings (flip):  26%|\u2588\u2588\u258c       | 440/1712 [02:51<07:20,  2.88it/s]"
          ]
        },
        {
          "output_type": "stream",
          "name": "stderr",
          "text": [
            "\rExtracting test embeddings (flip):  26%|\u2588\u2588\u258c       | 441/1712 [02:52<08:41,  2.44it/s]"
          ]
        },
        {
          "output_type": "stream",
          "name": "stderr",
          "text": [
            "\rExtracting test embeddings (flip):  26%|\u2588\u2588\u258c       | 442/1712 [02:52<08:00,  2.64it/s]"
          ]
        },
        {
          "output_type": "stream",
          "name": "stderr",
          "text": [
            "\rExtracting test embeddings (flip):  26%|\u2588\u2588\u258c       | 443/1712 [02:52<07:38,  2.77it/s]"
          ]
        },
        {
          "output_type": "stream",
          "name": "stderr",
          "text": [
            "\rExtracting test embeddings (flip):  26%|\u2588\u2588\u258c       | 444/1712 [02:53<07:18,  2.89it/s]"
          ]
        },
        {
          "output_type": "stream",
          "name": "stderr",
          "text": [
            "\rExtracting test embeddings (flip):  26%|\u2588\u2588\u258c       | 445/1712 [02:53<08:40,  2.44it/s]"
          ]
        },
        {
          "output_type": "stream",
          "name": "stderr",
          "text": [
            "\rExtracting test embeddings (flip):  26%|\u2588\u2588\u258c       | 446/1712 [02:53<07:59,  2.64it/s]"
          ]
        },
        {
          "output_type": "stream",
          "name": "stderr",
          "text": [
            "\rExtracting test embeddings (flip):  26%|\u2588\u2588\u258c       | 447/1712 [02:54<07:35,  2.78it/s]"
          ]
        },
        {
          "output_type": "stream",
          "name": "stderr",
          "text": [
            "\rExtracting test embeddings (flip):  26%|\u2588\u2588\u258c       | 448/1712 [02:54<07:14,  2.91it/s]"
          ]
        },
        {
          "output_type": "stream",
          "name": "stderr",
          "text": [
            "\rExtracting test embeddings (flip):  26%|\u2588\u2588\u258c       | 449/1712 [02:55<08:36,  2.45it/s]"
          ]
        },
        {
          "output_type": "stream",
          "name": "stderr",
          "text": [
            "\rExtracting test embeddings (flip):  26%|\u2588\u2588\u258b       | 450/1712 [02:55<07:57,  2.64it/s]"
          ]
        },
        {
          "output_type": "stream",
          "name": "stderr",
          "text": [
            "\rExtracting test embeddings (flip):  26%|\u2588\u2588\u258b       | 451/1712 [02:55<07:32,  2.79it/s]"
          ]
        },
        {
          "output_type": "stream",
          "name": "stderr",
          "text": [
            "\rExtracting test embeddings (flip):  26%|\u2588\u2588\u258b       | 452/1712 [02:56<07:13,  2.91it/s]"
          ]
        },
        {
          "output_type": "stream",
          "name": "stderr",
          "text": [
            "\rExtracting test embeddings (flip):  26%|\u2588\u2588\u258b       | 453/1712 [02:56<08:44,  2.40it/s]"
          ]
        },
        {
          "output_type": "stream",
          "name": "stderr",
          "text": [
            "\rExtracting test embeddings (flip):  27%|\u2588\u2588\u258b       | 454/1712 [02:56<08:01,  2.61it/s]"
          ]
        },
        {
          "output_type": "stream",
          "name": "stderr",
          "text": [
            "\rExtracting test embeddings (flip):  27%|\u2588\u2588\u258b       | 455/1712 [02:57<07:37,  2.75it/s]"
          ]
        },
        {
          "output_type": "stream",
          "name": "stderr",
          "text": [
            "\rExtracting test embeddings (flip):  27%|\u2588\u2588\u258b       | 456/1712 [02:57<07:15,  2.88it/s]"
          ]
        },
        {
          "output_type": "stream",
          "name": "stderr",
          "text": [
            "\rExtracting test embeddings (flip):  27%|\u2588\u2588\u258b       | 457/1712 [02:58<08:51,  2.36it/s]"
          ]
        },
        {
          "output_type": "stream",
          "name": "stderr",
          "text": [
            "\rExtracting test embeddings (flip):  27%|\u2588\u2588\u258b       | 458/1712 [02:58<08:06,  2.58it/s]"
          ]
        },
        {
          "output_type": "stream",
          "name": "stderr",
          "text": [
            "\rExtracting test embeddings (flip):  27%|\u2588\u2588\u258b       | 459/1712 [02:58<07:38,  2.73it/s]"
          ]
        },
        {
          "output_type": "stream",
          "name": "stderr",
          "text": [
            "\rExtracting test embeddings (flip):  27%|\u2588\u2588\u258b       | 460/1712 [02:59<07:15,  2.87it/s]"
          ]
        },
        {
          "output_type": "stream",
          "name": "stderr",
          "text": [
            "\rExtracting test embeddings (flip):  27%|\u2588\u2588\u258b       | 461/1712 [02:59<08:02,  2.60it/s]"
          ]
        },
        {
          "output_type": "stream",
          "name": "stderr",
          "text": [
            "\rExtracting test embeddings (flip):  27%|\u2588\u2588\u258b       | 462/1712 [02:59<07:30,  2.77it/s]"
          ]
        },
        {
          "output_type": "stream",
          "name": "stderr",
          "text": [
            "\rExtracting test embeddings (flip):  27%|\u2588\u2588\u258b       | 463/1712 [03:00<07:13,  2.88it/s]"
          ]
        },
        {
          "output_type": "stream",
          "name": "stderr",
          "text": [
            "\rExtracting test embeddings (flip):  27%|\u2588\u2588\u258b       | 464/1712 [03:00<06:57,  2.99it/s]"
          ]
        },
        {
          "output_type": "stream",
          "name": "stderr",
          "text": [
            "\rExtracting test embeddings (flip):  27%|\u2588\u2588\u258b       | 465/1712 [03:01<08:27,  2.46it/s]"
          ]
        },
        {
          "output_type": "stream",
          "name": "stderr",
          "text": [
            "\rExtracting test embeddings (flip):  27%|\u2588\u2588\u258b       | 466/1712 [03:01<07:48,  2.66it/s]"
          ]
        },
        {
          "output_type": "stream",
          "name": "stderr",
          "text": [
            "\rExtracting test embeddings (flip):  27%|\u2588\u2588\u258b       | 467/1712 [03:01<07:24,  2.80it/s]"
          ]
        },
        {
          "output_type": "stream",
          "name": "stderr",
          "text": [
            "\rExtracting test embeddings (flip):  27%|\u2588\u2588\u258b       | 468/1712 [03:01<07:05,  2.92it/s]"
          ]
        },
        {
          "output_type": "stream",
          "name": "stderr",
          "text": [
            "\rExtracting test embeddings (flip):  27%|\u2588\u2588\u258b       | 469/1712 [03:02<08:28,  2.44it/s]"
          ]
        },
        {
          "output_type": "stream",
          "name": "stderr",
          "text": [
            "\rExtracting test embeddings (flip):  27%|\u2588\u2588\u258b       | 470/1712 [03:02<07:50,  2.64it/s]"
          ]
        },
        {
          "output_type": "stream",
          "name": "stderr",
          "text": [
            "\rExtracting test embeddings (flip):  28%|\u2588\u2588\u258a       | 471/1712 [03:03<07:26,  2.78it/s]"
          ]
        },
        {
          "output_type": "stream",
          "name": "stderr",
          "text": [
            "\rExtracting test embeddings (flip):  28%|\u2588\u2588\u258a       | 472/1712 [03:03<07:06,  2.91it/s]"
          ]
        },
        {
          "output_type": "stream",
          "name": "stderr",
          "text": [
            "\rExtracting test embeddings (flip):  28%|\u2588\u2588\u258a       | 473/1712 [03:04<08:26,  2.44it/s]"
          ]
        },
        {
          "output_type": "stream",
          "name": "stderr",
          "text": [
            "\rExtracting test embeddings (flip):  28%|\u2588\u2588\u258a       | 474/1712 [03:04<07:47,  2.65it/s]"
          ]
        },
        {
          "output_type": "stream",
          "name": "stderr",
          "text": [
            "\rExtracting test embeddings (flip):  28%|\u2588\u2588\u258a       | 475/1712 [03:04<07:30,  2.75it/s]"
          ]
        },
        {
          "output_type": "stream",
          "name": "stderr",
          "text": [
            "\rExtracting test embeddings (flip):  28%|\u2588\u2588\u258a       | 476/1712 [03:04<07:07,  2.89it/s]"
          ]
        },
        {
          "output_type": "stream",
          "name": "stderr",
          "text": [
            "\rExtracting test embeddings (flip):  28%|\u2588\u2588\u258a       | 477/1712 [03:05<08:30,  2.42it/s]"
          ]
        },
        {
          "output_type": "stream",
          "name": "stderr",
          "text": [
            "\rExtracting test embeddings (flip):  28%|\u2588\u2588\u258a       | 478/1712 [03:05<07:50,  2.62it/s]"
          ]
        },
        {
          "output_type": "stream",
          "name": "stderr",
          "text": [
            "\rExtracting test embeddings (flip):  28%|\u2588\u2588\u258a       | 479/1712 [03:06<07:29,  2.74it/s]"
          ]
        },
        {
          "output_type": "stream",
          "name": "stderr",
          "text": [
            "\rExtracting test embeddings (flip):  28%|\u2588\u2588\u258a       | 480/1712 [03:06<07:08,  2.88it/s]"
          ]
        },
        {
          "output_type": "stream",
          "name": "stderr",
          "text": [
            "\rExtracting test embeddings (flip):  28%|\u2588\u2588\u258a       | 481/1712 [03:07<08:27,  2.42it/s]"
          ]
        },
        {
          "output_type": "stream",
          "name": "stderr",
          "text": [
            "\rExtracting test embeddings (flip):  28%|\u2588\u2588\u258a       | 482/1712 [03:07<07:47,  2.63it/s]"
          ]
        },
        {
          "output_type": "stream",
          "name": "stderr",
          "text": [
            "\rExtracting test embeddings (flip):  28%|\u2588\u2588\u258a       | 483/1712 [03:07<07:37,  2.68it/s]"
          ]
        },
        {
          "output_type": "stream",
          "name": "stderr",
          "text": [
            "\rExtracting test embeddings (flip):  28%|\u2588\u2588\u258a       | 484/1712 [03:08<07:12,  2.84it/s]"
          ]
        },
        {
          "output_type": "stream",
          "name": "stderr",
          "text": [
            "\rExtracting test embeddings (flip):  28%|\u2588\u2588\u258a       | 485/1712 [03:08<08:17,  2.47it/s]"
          ]
        },
        {
          "output_type": "stream",
          "name": "stderr",
          "text": [
            "\rExtracting test embeddings (flip):  28%|\u2588\u2588\u258a       | 486/1712 [03:08<07:40,  2.66it/s]"
          ]
        },
        {
          "output_type": "stream",
          "name": "stderr",
          "text": [
            "\rExtracting test embeddings (flip):  28%|\u2588\u2588\u258a       | 487/1712 [03:09<07:40,  2.66it/s]"
          ]
        },
        {
          "output_type": "stream",
          "name": "stderr",
          "text": [
            "\rExtracting test embeddings (flip):  29%|\u2588\u2588\u258a       | 488/1712 [03:09<07:14,  2.82it/s]"
          ]
        },
        {
          "output_type": "stream",
          "name": "stderr",
          "text": [
            "\rExtracting test embeddings (flip):  29%|\u2588\u2588\u258a       | 489/1712 [03:10<08:46,  2.32it/s]"
          ]
        },
        {
          "output_type": "stream",
          "name": "stderr",
          "text": [
            "\rExtracting test embeddings (flip):  29%|\u2588\u2588\u258a       | 490/1712 [03:10<08:01,  2.54it/s]"
          ]
        },
        {
          "output_type": "stream",
          "name": "stderr",
          "text": [
            "\rExtracting test embeddings (flip):  29%|\u2588\u2588\u258a       | 491/1712 [03:10<07:37,  2.67it/s]"
          ]
        },
        {
          "output_type": "stream",
          "name": "stderr",
          "text": [
            "\rExtracting test embeddings (flip):  29%|\u2588\u2588\u258a       | 492/1712 [03:11<07:12,  2.82it/s]"
          ]
        },
        {
          "output_type": "stream",
          "name": "stderr",
          "text": [
            "\rExtracting test embeddings (flip):  29%|\u2588\u2588\u2589       | 493/1712 [03:11<08:22,  2.42it/s]"
          ]
        },
        {
          "output_type": "stream",
          "name": "stderr",
          "text": [
            "\rExtracting test embeddings (flip):  29%|\u2588\u2588\u2589       | 494/1712 [03:11<07:42,  2.63it/s]"
          ]
        },
        {
          "output_type": "stream",
          "name": "stderr",
          "text": [
            "\rExtracting test embeddings (flip):  29%|\u2588\u2588\u2589       | 495/1712 [03:12<07:33,  2.69it/s]"
          ]
        },
        {
          "output_type": "stream",
          "name": "stderr",
          "text": [
            "\rExtracting test embeddings (flip):  29%|\u2588\u2588\u2589       | 496/1712 [03:12<07:07,  2.84it/s]"
          ]
        },
        {
          "output_type": "stream",
          "name": "stderr",
          "text": [
            "\rExtracting test embeddings (flip):  29%|\u2588\u2588\u2589       | 497/1712 [03:13<08:16,  2.45it/s]"
          ]
        },
        {
          "output_type": "stream",
          "name": "stderr",
          "text": [
            "\rExtracting test embeddings (flip):  29%|\u2588\u2588\u2589       | 498/1712 [03:13<07:38,  2.65it/s]"
          ]
        },
        {
          "output_type": "stream",
          "name": "stderr",
          "text": [
            "\rExtracting test embeddings (flip):  29%|\u2588\u2588\u2589       | 499/1712 [03:13<07:37,  2.65it/s]"
          ]
        },
        {
          "output_type": "stream",
          "name": "stderr",
          "text": [
            "\rExtracting test embeddings (flip):  29%|\u2588\u2588\u2589       | 500/1712 [03:14<07:11,  2.81it/s]"
          ]
        },
        {
          "output_type": "stream",
          "name": "stderr",
          "text": [
            "\rExtracting test embeddings (flip):  29%|\u2588\u2588\u2589       | 501/1712 [03:14<08:00,  2.52it/s]"
          ]
        },
        {
          "output_type": "stream",
          "name": "stderr",
          "text": [
            "\rExtracting test embeddings (flip):  29%|\u2588\u2588\u2589       | 502/1712 [03:14<07:27,  2.70it/s]"
          ]
        },
        {
          "output_type": "stream",
          "name": "stderr",
          "text": [
            "\rExtracting test embeddings (flip):  29%|\u2588\u2588\u2589       | 503/1712 [03:15<07:47,  2.58it/s]"
          ]
        },
        {
          "output_type": "stream",
          "name": "stderr",
          "text": [
            "\rExtracting test embeddings (flip):  29%|\u2588\u2588\u2589       | 504/1712 [03:15<07:17,  2.76it/s]"
          ]
        },
        {
          "output_type": "stream",
          "name": "stderr",
          "text": [
            "\rExtracting test embeddings (flip):  29%|\u2588\u2588\u2589       | 505/1712 [03:16<07:57,  2.53it/s]"
          ]
        },
        {
          "output_type": "stream",
          "name": "stderr",
          "text": [
            "\rExtracting test embeddings (flip):  30%|\u2588\u2588\u2589       | 506/1712 [03:16<07:23,  2.72it/s]"
          ]
        },
        {
          "output_type": "stream",
          "name": "stderr",
          "text": [
            "\rExtracting test embeddings (flip):  30%|\u2588\u2588\u2589       | 507/1712 [03:16<07:44,  2.59it/s]"
          ]
        },
        {
          "output_type": "stream",
          "name": "stderr",
          "text": [
            "\rExtracting test embeddings (flip):  30%|\u2588\u2588\u2589       | 508/1712 [03:17<07:16,  2.76it/s]"
          ]
        },
        {
          "output_type": "stream",
          "name": "stderr",
          "text": [
            "\rExtracting test embeddings (flip):  30%|\u2588\u2588\u2589       | 509/1712 [03:17<07:46,  2.58it/s]"
          ]
        },
        {
          "output_type": "stream",
          "name": "stderr",
          "text": [
            "\rExtracting test embeddings (flip):  30%|\u2588\u2588\u2589       | 510/1712 [03:17<07:16,  2.75it/s]"
          ]
        },
        {
          "output_type": "stream",
          "name": "stderr",
          "text": [
            "\rExtracting test embeddings (flip):  30%|\u2588\u2588\u2589       | 511/1712 [03:18<07:46,  2.58it/s]"
          ]
        },
        {
          "output_type": "stream",
          "name": "stderr",
          "text": [
            "\rExtracting test embeddings (flip):  30%|\u2588\u2588\u2589       | 512/1712 [03:18<07:15,  2.76it/s]"
          ]
        },
        {
          "output_type": "stream",
          "name": "stderr",
          "text": [
            "\rExtracting test embeddings (flip):  30%|\u2588\u2588\u2589       | 513/1712 [03:19<07:46,  2.57it/s]"
          ]
        },
        {
          "output_type": "stream",
          "name": "stderr",
          "text": [
            "\rExtracting test embeddings (flip):  30%|\u2588\u2588\u2588       | 514/1712 [03:19<07:16,  2.75it/s]"
          ]
        },
        {
          "output_type": "stream",
          "name": "stderr",
          "text": [
            "\rExtracting test embeddings (flip):  30%|\u2588\u2588\u2588       | 515/1712 [03:19<07:45,  2.57it/s]"
          ]
        },
        {
          "output_type": "stream",
          "name": "stderr",
          "text": [
            "\rExtracting test embeddings (flip):  30%|\u2588\u2588\u2588       | 516/1712 [03:20<07:15,  2.75it/s]"
          ]
        },
        {
          "output_type": "stream",
          "name": "stderr",
          "text": [
            "\rExtracting test embeddings (flip):  30%|\u2588\u2588\u2588       | 517/1712 [03:20<07:45,  2.57it/s]"
          ]
        },
        {
          "output_type": "stream",
          "name": "stderr",
          "text": [
            "\rExtracting test embeddings (flip):  30%|\u2588\u2588\u2588       | 518/1712 [03:20<07:13,  2.75it/s]"
          ]
        },
        {
          "output_type": "stream",
          "name": "stderr",
          "text": [
            "\rExtracting test embeddings (flip):  30%|\u2588\u2588\u2588       | 519/1712 [03:21<07:44,  2.57it/s]"
          ]
        },
        {
          "output_type": "stream",
          "name": "stderr",
          "text": [
            "\rExtracting test embeddings (flip):  30%|\u2588\u2588\u2588       | 520/1712 [03:21<07:14,  2.74it/s]"
          ]
        },
        {
          "output_type": "stream",
          "name": "stderr",
          "text": [
            "\rExtracting test embeddings (flip):  30%|\u2588\u2588\u2588       | 521/1712 [03:22<07:37,  2.60it/s]"
          ]
        },
        {
          "output_type": "stream",
          "name": "stderr",
          "text": [
            "\rExtracting test embeddings (flip):  30%|\u2588\u2588\u2588       | 522/1712 [03:22<07:09,  2.77it/s]"
          ]
        },
        {
          "output_type": "stream",
          "name": "stderr",
          "text": [
            "\rExtracting test embeddings (flip):  31%|\u2588\u2588\u2588       | 523/1712 [03:22<07:43,  2.57it/s]"
          ]
        },
        {
          "output_type": "stream",
          "name": "stderr",
          "text": [
            "\rExtracting test embeddings (flip):  31%|\u2588\u2588\u2588       | 524/1712 [03:23<07:13,  2.74it/s]"
          ]
        },
        {
          "output_type": "stream",
          "name": "stderr",
          "text": [
            "\rExtracting test embeddings (flip):  31%|\u2588\u2588\u2588       | 525/1712 [03:23<07:38,  2.59it/s]"
          ]
        },
        {
          "output_type": "stream",
          "name": "stderr",
          "text": [
            "\rExtracting test embeddings (flip):  31%|\u2588\u2588\u2588       | 526/1712 [03:23<07:08,  2.77it/s]"
          ]
        },
        {
          "output_type": "stream",
          "name": "stderr",
          "text": [
            "\rExtracting test embeddings (flip):  31%|\u2588\u2588\u2588       | 527/1712 [03:24<07:46,  2.54it/s]"
          ]
        },
        {
          "output_type": "stream",
          "name": "stderr",
          "text": [
            "\rExtracting test embeddings (flip):  31%|\u2588\u2588\u2588       | 528/1712 [03:24<07:15,  2.72it/s]"
          ]
        },
        {
          "output_type": "stream",
          "name": "stderr",
          "text": [
            "\rExtracting test embeddings (flip):  31%|\u2588\u2588\u2588       | 529/1712 [03:25<07:41,  2.56it/s]"
          ]
        },
        {
          "output_type": "stream",
          "name": "stderr",
          "text": [
            "\rExtracting test embeddings (flip):  31%|\u2588\u2588\u2588       | 530/1712 [03:25<07:10,  2.74it/s]"
          ]
        },
        {
          "output_type": "stream",
          "name": "stderr",
          "text": [
            "\rExtracting test embeddings (flip):  31%|\u2588\u2588\u2588       | 531/1712 [03:25<07:36,  2.58it/s]"
          ]
        },
        {
          "output_type": "stream",
          "name": "stderr",
          "text": [
            "\rExtracting test embeddings (flip):  31%|\u2588\u2588\u2588       | 532/1712 [03:26<07:07,  2.76it/s]"
          ]
        },
        {
          "output_type": "stream",
          "name": "stderr",
          "text": [
            "\rExtracting test embeddings (flip):  31%|\u2588\u2588\u2588       | 533/1712 [03:26<07:48,  2.51it/s]"
          ]
        },
        {
          "output_type": "stream",
          "name": "stderr",
          "text": [
            "\rExtracting test embeddings (flip):  31%|\u2588\u2588\u2588       | 534/1712 [03:26<07:16,  2.70it/s]"
          ]
        },
        {
          "output_type": "stream",
          "name": "stderr",
          "text": [
            "\rExtracting test embeddings (flip):  31%|\u2588\u2588\u2588\u258f      | 535/1712 [03:27<07:31,  2.61it/s]"
          ]
        },
        {
          "output_type": "stream",
          "name": "stderr",
          "text": [
            "\rExtracting test embeddings (flip):  31%|\u2588\u2588\u2588\u258f      | 536/1712 [03:27<07:04,  2.77it/s]"
          ]
        },
        {
          "output_type": "stream",
          "name": "stderr",
          "text": [
            "\rExtracting test embeddings (flip):  31%|\u2588\u2588\u2588\u258f      | 537/1712 [03:28<07:46,  2.52it/s]"
          ]
        },
        {
          "output_type": "stream",
          "name": "stderr",
          "text": [
            "\rExtracting test embeddings (flip):  31%|\u2588\u2588\u2588\u258f      | 538/1712 [03:28<07:12,  2.71it/s]"
          ]
        },
        {
          "output_type": "stream",
          "name": "stderr",
          "text": [
            "\rExtracting test embeddings (flip):  31%|\u2588\u2588\u2588\u258f      | 539/1712 [03:28<07:29,  2.61it/s]"
          ]
        },
        {
          "output_type": "stream",
          "name": "stderr",
          "text": [
            "\rExtracting test embeddings (flip):  32%|\u2588\u2588\u2588\u258f      | 540/1712 [03:29<07:01,  2.78it/s]"
          ]
        },
        {
          "output_type": "stream",
          "name": "stderr",
          "text": [
            "\rExtracting test embeddings (flip):  32%|\u2588\u2588\u2588\u258f      | 541/1712 [03:29<07:09,  2.73it/s]"
          ]
        },
        {
          "output_type": "stream",
          "name": "stderr",
          "text": [
            "\rExtracting test embeddings (flip):  32%|\u2588\u2588\u2588\u258f      | 542/1712 [03:29<06:47,  2.87it/s]"
          ]
        },
        {
          "output_type": "stream",
          "name": "stderr",
          "text": [
            "\rExtracting test embeddings (flip):  32%|\u2588\u2588\u2588\u258f      | 543/1712 [03:30<07:42,  2.53it/s]"
          ]
        },
        {
          "output_type": "stream",
          "name": "stderr",
          "text": [
            "\rExtracting test embeddings (flip):  32%|\u2588\u2588\u2588\u258f      | 544/1712 [03:30<07:10,  2.71it/s]"
          ]
        },
        {
          "output_type": "stream",
          "name": "stderr",
          "text": [
            "\rExtracting test embeddings (flip):  32%|\u2588\u2588\u2588\u258f      | 545/1712 [03:31<07:18,  2.66it/s]"
          ]
        },
        {
          "output_type": "stream",
          "name": "stderr",
          "text": [
            "\rExtracting test embeddings (flip):  32%|\u2588\u2588\u2588\u258f      | 546/1712 [03:31<06:52,  2.82it/s]"
          ]
        },
        {
          "output_type": "stream",
          "name": "stderr",
          "text": [
            "\rExtracting test embeddings (flip):  32%|\u2588\u2588\u2588\u258f      | 547/1712 [03:31<07:41,  2.52it/s]"
          ]
        },
        {
          "output_type": "stream",
          "name": "stderr",
          "text": [
            "\rExtracting test embeddings (flip):  32%|\u2588\u2588\u2588\u258f      | 548/1712 [03:32<07:09,  2.71it/s]"
          ]
        },
        {
          "output_type": "stream",
          "name": "stderr",
          "text": [
            "\rExtracting test embeddings (flip):  32%|\u2588\u2588\u2588\u258f      | 549/1712 [03:32<07:19,  2.65it/s]"
          ]
        },
        {
          "output_type": "stream",
          "name": "stderr",
          "text": [
            "\rExtracting test embeddings (flip):  32%|\u2588\u2588\u2588\u258f      | 550/1712 [03:32<06:53,  2.81it/s]"
          ]
        },
        {
          "output_type": "stream",
          "name": "stderr",
          "text": [
            "\rExtracting test embeddings (flip):  32%|\u2588\u2588\u2588\u258f      | 551/1712 [03:33<07:35,  2.55it/s]"
          ]
        },
        {
          "output_type": "stream",
          "name": "stderr",
          "text": [
            "\rExtracting test embeddings (flip):  32%|\u2588\u2588\u2588\u258f      | 552/1712 [03:33<07:04,  2.73it/s]"
          ]
        },
        {
          "output_type": "stream",
          "name": "stderr",
          "text": [
            "\rExtracting test embeddings (flip):  32%|\u2588\u2588\u2588\u258f      | 553/1712 [03:34<07:21,  2.63it/s]"
          ]
        },
        {
          "output_type": "stream",
          "name": "stderr",
          "text": [
            "\rExtracting test embeddings (flip):  32%|\u2588\u2588\u2588\u258f      | 554/1712 [03:34<06:54,  2.80it/s]"
          ]
        },
        {
          "output_type": "stream",
          "name": "stderr",
          "text": [
            "\rExtracting test embeddings (flip):  32%|\u2588\u2588\u2588\u258f      | 555/1712 [03:34<07:43,  2.50it/s]"
          ]
        },
        {
          "output_type": "stream",
          "name": "stderr",
          "text": [
            "\rExtracting test embeddings (flip):  32%|\u2588\u2588\u2588\u258f      | 556/1712 [03:35<07:11,  2.68it/s]"
          ]
        },
        {
          "output_type": "stream",
          "name": "stderr",
          "text": [
            "\rExtracting test embeddings (flip):  33%|\u2588\u2588\u2588\u258e      | 557/1712 [03:35<07:11,  2.68it/s]"
          ]
        },
        {
          "output_type": "stream",
          "name": "stderr",
          "text": [
            "\rExtracting test embeddings (flip):  33%|\u2588\u2588\u2588\u258e      | 558/1712 [03:35<06:48,  2.83it/s]"
          ]
        },
        {
          "output_type": "stream",
          "name": "stderr",
          "text": [
            "\rExtracting test embeddings (flip):  33%|\u2588\u2588\u2588\u258e      | 559/1712 [03:36<07:42,  2.49it/s]"
          ]
        },
        {
          "output_type": "stream",
          "name": "stderr",
          "text": [
            "\rExtracting test embeddings (flip):  33%|\u2588\u2588\u2588\u258e      | 560/1712 [03:36<07:10,  2.68it/s]"
          ]
        },
        {
          "output_type": "stream",
          "name": "stderr",
          "text": [
            "\rExtracting test embeddings (flip):  33%|\u2588\u2588\u2588\u258e      | 561/1712 [03:37<07:08,  2.69it/s]"
          ]
        },
        {
          "output_type": "stream",
          "name": "stderr",
          "text": [
            "\rExtracting test embeddings (flip):  33%|\u2588\u2588\u2588\u258e      | 562/1712 [03:37<06:44,  2.84it/s]"
          ]
        },
        {
          "output_type": "stream",
          "name": "stderr",
          "text": [
            "\rExtracting test embeddings (flip):  33%|\u2588\u2588\u2588\u258e      | 563/1712 [03:37<07:52,  2.43it/s]"
          ]
        },
        {
          "output_type": "stream",
          "name": "stderr",
          "text": [
            "\rExtracting test embeddings (flip):  33%|\u2588\u2588\u2588\u258e      | 564/1712 [03:38<07:15,  2.64it/s]"
          ]
        },
        {
          "output_type": "stream",
          "name": "stderr",
          "text": [
            "\rExtracting test embeddings (flip):  33%|\u2588\u2588\u2588\u258e      | 565/1712 [03:38<07:06,  2.69it/s]"
          ]
        },
        {
          "output_type": "stream",
          "name": "stderr",
          "text": [
            "\rExtracting test embeddings (flip):  33%|\u2588\u2588\u2588\u258e      | 566/1712 [03:38<06:42,  2.85it/s]"
          ]
        },
        {
          "output_type": "stream",
          "name": "stderr",
          "text": [
            "\rExtracting test embeddings (flip):  33%|\u2588\u2588\u2588\u258e      | 567/1712 [03:39<07:58,  2.39it/s]"
          ]
        },
        {
          "output_type": "stream",
          "name": "stderr",
          "text": [
            "\rExtracting test embeddings (flip):  33%|\u2588\u2588\u2588\u258e      | 568/1712 [03:39<07:19,  2.60it/s]"
          ]
        },
        {
          "output_type": "stream",
          "name": "stderr",
          "text": [
            "\rExtracting test embeddings (flip):  33%|\u2588\u2588\u2588\u258e      | 569/1712 [03:40<06:58,  2.73it/s]"
          ]
        },
        {
          "output_type": "stream",
          "name": "stderr",
          "text": [
            "\rExtracting test embeddings (flip):  33%|\u2588\u2588\u2588\u258e      | 570/1712 [03:40<06:38,  2.87it/s]"
          ]
        },
        {
          "output_type": "stream",
          "name": "stderr",
          "text": [
            "\rExtracting test embeddings (flip):  33%|\u2588\u2588\u2588\u258e      | 571/1712 [03:40<07:57,  2.39it/s]"
          ]
        },
        {
          "output_type": "stream",
          "name": "stderr",
          "text": [
            "\rExtracting test embeddings (flip):  33%|\u2588\u2588\u2588\u258e      | 572/1712 [03:41<07:18,  2.60it/s]"
          ]
        },
        {
          "output_type": "stream",
          "name": "stderr",
          "text": [
            "\rExtracting test embeddings (flip):  33%|\u2588\u2588\u2588\u258e      | 573/1712 [03:41<06:59,  2.72it/s]"
          ]
        },
        {
          "output_type": "stream",
          "name": "stderr",
          "text": [
            "\rExtracting test embeddings (flip):  34%|\u2588\u2588\u2588\u258e      | 574/1712 [03:41<06:37,  2.86it/s]"
          ]
        },
        {
          "output_type": "stream",
          "name": "stderr",
          "text": [
            "\rExtracting test embeddings (flip):  34%|\u2588\u2588\u2588\u258e      | 575/1712 [03:42<08:25,  2.25it/s]"
          ]
        },
        {
          "output_type": "stream",
          "name": "stderr",
          "text": [
            "\rExtracting test embeddings (flip):  34%|\u2588\u2588\u2588\u258e      | 576/1712 [03:42<07:38,  2.48it/s]"
          ]
        },
        {
          "output_type": "stream",
          "name": "stderr",
          "text": [
            "\rExtracting test embeddings (flip):  34%|\u2588\u2588\u2588\u258e      | 577/1712 [03:43<07:08,  2.65it/s]"
          ]
        },
        {
          "output_type": "stream",
          "name": "stderr",
          "text": [
            "\rExtracting test embeddings (flip):  34%|\u2588\u2588\u2588\u258d      | 578/1712 [03:43<06:44,  2.81it/s]"
          ]
        },
        {
          "output_type": "stream",
          "name": "stderr",
          "text": [
            "\rExtracting test embeddings (flip):  34%|\u2588\u2588\u2588\u258d      | 579/1712 [03:44<07:53,  2.39it/s]"
          ]
        },
        {
          "output_type": "stream",
          "name": "stderr",
          "text": [
            "\rExtracting test embeddings (flip):  34%|\u2588\u2588\u2588\u258d      | 580/1712 [03:44<07:14,  2.60it/s]"
          ]
        },
        {
          "output_type": "stream",
          "name": "stderr",
          "text": [
            "\rExtracting test embeddings (flip):  34%|\u2588\u2588\u2588\u258d      | 581/1712 [03:44<07:17,  2.58it/s]"
          ]
        },
        {
          "output_type": "stream",
          "name": "stderr",
          "text": [
            "\rExtracting test embeddings (flip):  34%|\u2588\u2588\u2588\u258d      | 582/1712 [03:45<06:49,  2.76it/s]"
          ]
        },
        {
          "output_type": "stream",
          "name": "stderr",
          "text": [
            "\rExtracting test embeddings (flip):  34%|\u2588\u2588\u2588\u258d      | 583/1712 [03:45<07:48,  2.41it/s]"
          ]
        },
        {
          "output_type": "stream",
          "name": "stderr",
          "text": [
            "\rExtracting test embeddings (flip):  34%|\u2588\u2588\u2588\u258d      | 584/1712 [03:45<07:10,  2.62it/s]"
          ]
        },
        {
          "output_type": "stream",
          "name": "stderr",
          "text": [
            "\rExtracting test embeddings (flip):  34%|\u2588\u2588\u2588\u258d      | 585/1712 [03:46<07:03,  2.66it/s]"
          ]
        },
        {
          "output_type": "stream",
          "name": "stderr",
          "text": [
            "\rExtracting test embeddings (flip):  34%|\u2588\u2588\u2588\u258d      | 586/1712 [03:46<06:40,  2.81it/s]"
          ]
        },
        {
          "output_type": "stream",
          "name": "stderr",
          "text": [
            "\rExtracting test embeddings (flip):  34%|\u2588\u2588\u2588\u258d      | 587/1712 [03:47<06:59,  2.68it/s]"
          ]
        },
        {
          "output_type": "stream",
          "name": "stderr",
          "text": [
            "\rExtracting test embeddings (flip):  34%|\u2588\u2588\u2588\u258d      | 588/1712 [03:47<06:37,  2.83it/s]"
          ]
        },
        {
          "output_type": "stream",
          "name": "stderr",
          "text": [
            "\rExtracting test embeddings (flip):  34%|\u2588\u2588\u2588\u258d      | 589/1712 [03:47<07:09,  2.61it/s]"
          ]
        },
        {
          "output_type": "stream",
          "name": "stderr",
          "text": [
            "\rExtracting test embeddings (flip):  34%|\u2588\u2588\u2588\u258d      | 590/1712 [03:48<06:43,  2.78it/s]"
          ]
        },
        {
          "output_type": "stream",
          "name": "stderr",
          "text": [
            "\rExtracting test embeddings (flip):  35%|\u2588\u2588\u2588\u258d      | 591/1712 [03:48<07:07,  2.62it/s]"
          ]
        },
        {
          "output_type": "stream",
          "name": "stderr",
          "text": [
            "\rExtracting test embeddings (flip):  35%|\u2588\u2588\u2588\u258d      | 592/1712 [03:48<06:41,  2.79it/s]"
          ]
        },
        {
          "output_type": "stream",
          "name": "stderr",
          "text": [
            "\rExtracting test embeddings (flip):  35%|\u2588\u2588\u2588\u258d      | 593/1712 [03:49<07:10,  2.60it/s]"
          ]
        },
        {
          "output_type": "stream",
          "name": "stderr",
          "text": [
            "\rExtracting test embeddings (flip):  35%|\u2588\u2588\u2588\u258d      | 594/1712 [03:49<06:42,  2.77it/s]"
          ]
        },
        {
          "output_type": "stream",
          "name": "stderr",
          "text": [
            "\rExtracting test embeddings (flip):  35%|\u2588\u2588\u2588\u258d      | 595/1712 [03:50<07:15,  2.57it/s]"
          ]
        },
        {
          "output_type": "stream",
          "name": "stderr",
          "text": [
            "\rExtracting test embeddings (flip):  35%|\u2588\u2588\u2588\u258d      | 596/1712 [03:50<06:46,  2.75it/s]"
          ]
        },
        {
          "output_type": "stream",
          "name": "stderr",
          "text": [
            "\rExtracting test embeddings (flip):  35%|\u2588\u2588\u2588\u258d      | 597/1712 [03:50<07:10,  2.59it/s]"
          ]
        },
        {
          "output_type": "stream",
          "name": "stderr",
          "text": [
            "\rExtracting test embeddings (flip):  35%|\u2588\u2588\u2588\u258d      | 598/1712 [03:51<06:42,  2.77it/s]"
          ]
        },
        {
          "output_type": "stream",
          "name": "stderr",
          "text": [
            "\rExtracting test embeddings (flip):  35%|\u2588\u2588\u2588\u258d      | 599/1712 [03:51<07:12,  2.58it/s]"
          ]
        },
        {
          "output_type": "stream",
          "name": "stderr",
          "text": [
            "\rExtracting test embeddings (flip):  35%|\u2588\u2588\u2588\u258c      | 600/1712 [03:51<06:43,  2.75it/s]"
          ]
        },
        {
          "output_type": "stream",
          "name": "stderr",
          "text": [
            "\rExtracting test embeddings (flip):  35%|\u2588\u2588\u2588\u258c      | 601/1712 [03:52<07:03,  2.62it/s]"
          ]
        },
        {
          "output_type": "stream",
          "name": "stderr",
          "text": [
            "\rExtracting test embeddings (flip):  35%|\u2588\u2588\u2588\u258c      | 602/1712 [03:52<06:37,  2.79it/s]"
          ]
        },
        {
          "output_type": "stream",
          "name": "stderr",
          "text": [
            "\rExtracting test embeddings (flip):  35%|\u2588\u2588\u2588\u258c      | 603/1712 [03:53<07:08,  2.59it/s]"
          ]
        },
        {
          "output_type": "stream",
          "name": "stderr",
          "text": [
            "\rExtracting test embeddings (flip):  35%|\u2588\u2588\u2588\u258c      | 604/1712 [03:53<06:40,  2.76it/s]"
          ]
        },
        {
          "output_type": "stream",
          "name": "stderr",
          "text": [
            "\rExtracting test embeddings (flip):  35%|\u2588\u2588\u2588\u258c      | 605/1712 [03:53<07:15,  2.54it/s]"
          ]
        },
        {
          "output_type": "stream",
          "name": "stderr",
          "text": [
            "\rExtracting test embeddings (flip):  35%|\u2588\u2588\u2588\u258c      | 606/1712 [03:54<06:46,  2.72it/s]"
          ]
        },
        {
          "output_type": "stream",
          "name": "stderr",
          "text": [
            "\rExtracting test embeddings (flip):  35%|\u2588\u2588\u2588\u258c      | 607/1712 [03:54<07:06,  2.59it/s]"
          ]
        },
        {
          "output_type": "stream",
          "name": "stderr",
          "text": [
            "\rExtracting test embeddings (flip):  36%|\u2588\u2588\u2588\u258c      | 608/1712 [03:54<06:40,  2.76it/s]"
          ]
        },
        {
          "output_type": "stream",
          "name": "stderr",
          "text": [
            "\rExtracting test embeddings (flip):  36%|\u2588\u2588\u2588\u258c      | 609/1712 [03:55<07:07,  2.58it/s]"
          ]
        },
        {
          "output_type": "stream",
          "name": "stderr",
          "text": [
            "\rExtracting test embeddings (flip):  36%|\u2588\u2588\u2588\u258c      | 610/1712 [03:55<06:39,  2.76it/s]"
          ]
        },
        {
          "output_type": "stream",
          "name": "stderr",
          "text": [
            "\rExtracting test embeddings (flip):  36%|\u2588\u2588\u2588\u258c      | 611/1712 [03:56<07:02,  2.61it/s]"
          ]
        },
        {
          "output_type": "stream",
          "name": "stderr",
          "text": [
            "\rExtracting test embeddings (flip):  36%|\u2588\u2588\u2588\u258c      | 612/1712 [03:56<06:35,  2.78it/s]"
          ]
        },
        {
          "output_type": "stream",
          "name": "stderr",
          "text": [
            "\rExtracting test embeddings (flip):  36%|\u2588\u2588\u2588\u258c      | 613/1712 [03:56<07:14,  2.53it/s]"
          ]
        },
        {
          "output_type": "stream",
          "name": "stderr",
          "text": [
            "\rExtracting test embeddings (flip):  36%|\u2588\u2588\u2588\u258c      | 614/1712 [03:57<06:44,  2.72it/s]"
          ]
        },
        {
          "output_type": "stream",
          "name": "stderr",
          "text": [
            "\rExtracting test embeddings (flip):  36%|\u2588\u2588\u2588\u258c      | 615/1712 [03:57<06:58,  2.62it/s]"
          ]
        },
        {
          "output_type": "stream",
          "name": "stderr",
          "text": [
            "\rExtracting test embeddings (flip):  36%|\u2588\u2588\u2588\u258c      | 616/1712 [03:57<06:32,  2.79it/s]"
          ]
        },
        {
          "output_type": "stream",
          "name": "stderr",
          "text": [
            "\rExtracting test embeddings (flip):  36%|\u2588\u2588\u2588\u258c      | 617/1712 [03:58<07:16,  2.51it/s]"
          ]
        },
        {
          "output_type": "stream",
          "name": "stderr",
          "text": [
            "\rExtracting test embeddings (flip):  36%|\u2588\u2588\u2588\u258c      | 618/1712 [03:58<06:45,  2.70it/s]"
          ]
        },
        {
          "output_type": "stream",
          "name": "stderr",
          "text": [
            "\rExtracting test embeddings (flip):  36%|\u2588\u2588\u2588\u258c      | 619/1712 [03:59<06:54,  2.64it/s]"
          ]
        },
        {
          "output_type": "stream",
          "name": "stderr",
          "text": [
            "\rExtracting test embeddings (flip):  36%|\u2588\u2588\u2588\u258c      | 620/1712 [03:59<06:29,  2.80it/s]"
          ]
        },
        {
          "output_type": "stream",
          "name": "stderr",
          "text": [
            "\rExtracting test embeddings (flip):  36%|\u2588\u2588\u2588\u258b      | 621/1712 [03:59<07:13,  2.52it/s]"
          ]
        },
        {
          "output_type": "stream",
          "name": "stderr",
          "text": [
            "\rExtracting test embeddings (flip):  36%|\u2588\u2588\u2588\u258b      | 622/1712 [04:00<06:42,  2.71it/s]"
          ]
        },
        {
          "output_type": "stream",
          "name": "stderr",
          "text": [
            "\rExtracting test embeddings (flip):  36%|\u2588\u2588\u2588\u258b      | 623/1712 [04:00<06:52,  2.64it/s]"
          ]
        },
        {
          "output_type": "stream",
          "name": "stderr",
          "text": [
            "\rExtracting test embeddings (flip):  36%|\u2588\u2588\u2588\u258b      | 624/1712 [04:00<06:27,  2.81it/s]"
          ]
        },
        {
          "output_type": "stream",
          "name": "stderr",
          "text": [
            "\rExtracting test embeddings (flip):  37%|\u2588\u2588\u2588\u258b      | 625/1712 [04:01<06:36,  2.74it/s]"
          ]
        },
        {
          "output_type": "stream",
          "name": "stderr",
          "text": [
            "\rExtracting test embeddings (flip):  37%|\u2588\u2588\u2588\u258b      | 626/1712 [04:01<06:16,  2.88it/s]"
          ]
        },
        {
          "output_type": "stream",
          "name": "stderr",
          "text": [
            "\rExtracting test embeddings (flip):  37%|\u2588\u2588\u2588\u258b      | 627/1712 [04:02<07:04,  2.56it/s]"
          ]
        },
        {
          "output_type": "stream",
          "name": "stderr",
          "text": [
            "\rExtracting test embeddings (flip):  37%|\u2588\u2588\u2588\u258b      | 628/1712 [04:02<06:36,  2.74it/s]"
          ]
        },
        {
          "output_type": "stream",
          "name": "stderr",
          "text": [
            "\rExtracting test embeddings (flip):  37%|\u2588\u2588\u2588\u258b      | 629/1712 [04:02<06:44,  2.68it/s]"
          ]
        },
        {
          "output_type": "stream",
          "name": "stderr",
          "text": [
            "\rExtracting test embeddings (flip):  37%|\u2588\u2588\u2588\u258b      | 630/1712 [04:03<06:22,  2.83it/s]"
          ]
        },
        {
          "output_type": "stream",
          "name": "stderr",
          "text": [
            "\rExtracting test embeddings (flip):  37%|\u2588\u2588\u2588\u258b      | 631/1712 [04:03<07:10,  2.51it/s]"
          ]
        },
        {
          "output_type": "stream",
          "name": "stderr",
          "text": [
            "\rExtracting test embeddings (flip):  37%|\u2588\u2588\u2588\u258b      | 632/1712 [04:03<06:39,  2.70it/s]"
          ]
        },
        {
          "output_type": "stream",
          "name": "stderr",
          "text": [
            "\rExtracting test embeddings (flip):  37%|\u2588\u2588\u2588\u258b      | 633/1712 [04:04<07:15,  2.48it/s]"
          ]
        },
        {
          "output_type": "stream",
          "name": "stderr",
          "text": [
            "\rExtracting test embeddings (flip):  37%|\u2588\u2588\u2588\u258b      | 634/1712 [04:04<06:44,  2.67it/s]"
          ]
        },
        {
          "output_type": "stream",
          "name": "stderr",
          "text": [
            "\rExtracting test embeddings (flip):  37%|\u2588\u2588\u2588\u258b      | 635/1712 [04:05<06:59,  2.57it/s]"
          ]
        },
        {
          "output_type": "stream",
          "name": "stderr",
          "text": [
            "\rExtracting test embeddings (flip):  37%|\u2588\u2588\u2588\u258b      | 636/1712 [04:05<06:31,  2.75it/s]"
          ]
        },
        {
          "output_type": "stream",
          "name": "stderr",
          "text": [
            "\rExtracting test embeddings (flip):  37%|\u2588\u2588\u2588\u258b      | 637/1712 [04:05<07:01,  2.55it/s]"
          ]
        },
        {
          "output_type": "stream",
          "name": "stderr",
          "text": [
            "\rExtracting test embeddings (flip):  37%|\u2588\u2588\u2588\u258b      | 638/1712 [04:06<06:32,  2.74it/s]"
          ]
        },
        {
          "output_type": "stream",
          "name": "stderr",
          "text": [
            "\rExtracting test embeddings (flip):  37%|\u2588\u2588\u2588\u258b      | 639/1712 [04:06<06:52,  2.60it/s]"
          ]
        },
        {
          "output_type": "stream",
          "name": "stderr",
          "text": [
            "\rExtracting test embeddings (flip):  37%|\u2588\u2588\u2588\u258b      | 640/1712 [04:06<06:26,  2.77it/s]"
          ]
        },
        {
          "output_type": "stream",
          "name": "stderr",
          "text": [
            "\rExtracting test embeddings (flip):  37%|\u2588\u2588\u2588\u258b      | 641/1712 [04:07<06:53,  2.59it/s]"
          ]
        },
        {
          "output_type": "stream",
          "name": "stderr",
          "text": [
            "\rExtracting test embeddings (flip):  38%|\u2588\u2588\u2588\u258a      | 642/1712 [04:07<06:27,  2.76it/s]"
          ]
        },
        {
          "output_type": "stream",
          "name": "stderr",
          "text": [
            "\rExtracting test embeddings (flip):  38%|\u2588\u2588\u2588\u258a      | 643/1712 [04:08<07:05,  2.51it/s]"
          ]
        },
        {
          "output_type": "stream",
          "name": "stderr",
          "text": [
            "\rExtracting test embeddings (flip):  38%|\u2588\u2588\u2588\u258a      | 644/1712 [04:08<06:35,  2.70it/s]"
          ]
        },
        {
          "output_type": "stream",
          "name": "stderr",
          "text": [
            "\rExtracting test embeddings (flip):  38%|\u2588\u2588\u2588\u258a      | 645/1712 [04:08<06:44,  2.64it/s]"
          ]
        },
        {
          "output_type": "stream",
          "name": "stderr",
          "text": [
            "\rExtracting test embeddings (flip):  38%|\u2588\u2588\u2588\u258a      | 646/1712 [04:09<06:20,  2.80it/s]"
          ]
        },
        {
          "output_type": "stream",
          "name": "stderr",
          "text": [
            "\rExtracting test embeddings (flip):  38%|\u2588\u2588\u2588\u258a      | 647/1712 [04:09<07:10,  2.47it/s]"
          ]
        },
        {
          "output_type": "stream",
          "name": "stderr",
          "text": [
            "\rExtracting test embeddings (flip):  38%|\u2588\u2588\u2588\u258a      | 648/1712 [04:09<06:38,  2.67it/s]"
          ]
        },
        {
          "output_type": "stream",
          "name": "stderr",
          "text": [
            "\rExtracting test embeddings (flip):  38%|\u2588\u2588\u2588\u258a      | 649/1712 [04:10<06:34,  2.69it/s]"
          ]
        },
        {
          "output_type": "stream",
          "name": "stderr",
          "text": [
            "\rExtracting test embeddings (flip):  38%|\u2588\u2588\u2588\u258a      | 650/1712 [04:10<06:14,  2.84it/s]"
          ]
        },
        {
          "output_type": "stream",
          "name": "stderr",
          "text": [
            "\rExtracting test embeddings (flip):  38%|\u2588\u2588\u2588\u258a      | 651/1712 [04:11<07:03,  2.50it/s]"
          ]
        },
        {
          "output_type": "stream",
          "name": "stderr",
          "text": [
            "\rExtracting test embeddings (flip):  38%|\u2588\u2588\u2588\u258a      | 652/1712 [04:11<06:34,  2.69it/s]"
          ]
        },
        {
          "output_type": "stream",
          "name": "stderr",
          "text": [
            "\rExtracting test embeddings (flip):  38%|\u2588\u2588\u2588\u258a      | 653/1712 [04:11<06:31,  2.70it/s]"
          ]
        },
        {
          "output_type": "stream",
          "name": "stderr",
          "text": [
            "\rExtracting test embeddings (flip):  38%|\u2588\u2588\u2588\u258a      | 654/1712 [04:12<06:10,  2.85it/s]"
          ]
        },
        {
          "output_type": "stream",
          "name": "stderr",
          "text": [
            "\rExtracting test embeddings (flip):  38%|\u2588\u2588\u2588\u258a      | 655/1712 [04:12<07:15,  2.43it/s]"
          ]
        },
        {
          "output_type": "stream",
          "name": "stderr",
          "text": [
            "\rExtracting test embeddings (flip):  38%|\u2588\u2588\u2588\u258a      | 656/1712 [04:12<06:41,  2.63it/s]"
          ]
        },
        {
          "output_type": "stream",
          "name": "stderr",
          "text": [
            "\rExtracting test embeddings (flip):  38%|\u2588\u2588\u2588\u258a      | 657/1712 [04:13<06:22,  2.76it/s]"
          ]
        },
        {
          "output_type": "stream",
          "name": "stderr",
          "text": [
            "\rExtracting test embeddings (flip):  38%|\u2588\u2588\u2588\u258a      | 658/1712 [04:13<06:05,  2.88it/s]"
          ]
        },
        {
          "output_type": "stream",
          "name": "stderr",
          "text": [
            "\rExtracting test embeddings (flip):  38%|\u2588\u2588\u2588\u258a      | 659/1712 [04:14<07:13,  2.43it/s]"
          ]
        },
        {
          "output_type": "stream",
          "name": "stderr",
          "text": [
            "\rExtracting test embeddings (flip):  39%|\u2588\u2588\u2588\u258a      | 660/1712 [04:14<06:39,  2.63it/s]"
          ]
        },
        {
          "output_type": "stream",
          "name": "stderr",
          "text": [
            "\rExtracting test embeddings (flip):  39%|\u2588\u2588\u2588\u258a      | 661/1712 [04:14<06:20,  2.76it/s]"
          ]
        },
        {
          "output_type": "stream",
          "name": "stderr",
          "text": [
            "\rExtracting test embeddings (flip):  39%|\u2588\u2588\u2588\u258a      | 662/1712 [04:15<06:03,  2.89it/s]"
          ]
        },
        {
          "output_type": "stream",
          "name": "stderr",
          "text": [
            "\rExtracting test embeddings (flip):  39%|\u2588\u2588\u2588\u258a      | 663/1712 [04:15<07:12,  2.42it/s]"
          ]
        },
        {
          "output_type": "stream",
          "name": "stderr",
          "text": [
            "\rExtracting test embeddings (flip):  39%|\u2588\u2588\u2588\u2589      | 664/1712 [04:15<06:38,  2.63it/s]"
          ]
        },
        {
          "output_type": "stream",
          "name": "stderr",
          "text": [
            "\rExtracting test embeddings (flip):  39%|\u2588\u2588\u2588\u2589      | 665/1712 [04:16<06:24,  2.72it/s]"
          ]
        },
        {
          "output_type": "stream",
          "name": "stderr",
          "text": [
            "\rExtracting test embeddings (flip):  39%|\u2588\u2588\u2588\u2589      | 666/1712 [04:16<06:05,  2.86it/s]"
          ]
        },
        {
          "output_type": "stream",
          "name": "stderr",
          "text": [
            "\rExtracting test embeddings (flip):  39%|\u2588\u2588\u2588\u2589      | 667/1712 [04:17<07:06,  2.45it/s]"
          ]
        },
        {
          "output_type": "stream",
          "name": "stderr",
          "text": [
            "\rExtracting test embeddings (flip):  39%|\u2588\u2588\u2588\u2589      | 668/1712 [04:17<06:33,  2.65it/s]"
          ]
        },
        {
          "output_type": "stream",
          "name": "stderr",
          "text": [
            "\rExtracting test embeddings (flip):  39%|\u2588\u2588\u2588\u2589      | 669/1712 [04:17<06:25,  2.71it/s]"
          ]
        },
        {
          "output_type": "stream",
          "name": "stderr",
          "text": [
            "\rExtracting test embeddings (flip):  39%|\u2588\u2588\u2588\u2589      | 670/1712 [04:18<06:04,  2.86it/s]"
          ]
        },
        {
          "output_type": "stream",
          "name": "stderr",
          "text": [
            "\rExtracting test embeddings (flip):  39%|\u2588\u2588\u2588\u2589      | 671/1712 [04:18<07:01,  2.47it/s]"
          ]
        },
        {
          "output_type": "stream",
          "name": "stderr",
          "text": [
            "\rExtracting test embeddings (flip):  39%|\u2588\u2588\u2588\u2589      | 672/1712 [04:18<06:29,  2.67it/s]"
          ]
        },
        {
          "output_type": "stream",
          "name": "stderr",
          "text": [
            "\rExtracting test embeddings (flip):  39%|\u2588\u2588\u2588\u2589      | 673/1712 [04:19<06:32,  2.64it/s]"
          ]
        },
        {
          "output_type": "stream",
          "name": "stderr",
          "text": [
            "\rExtracting test embeddings (flip):  39%|\u2588\u2588\u2588\u2589      | 674/1712 [04:19<06:10,  2.81it/s]"
          ]
        },
        {
          "output_type": "stream",
          "name": "stderr",
          "text": [
            "\rExtracting test embeddings (flip):  39%|\u2588\u2588\u2588\u2589      | 675/1712 [04:20<06:52,  2.52it/s]"
          ]
        },
        {
          "output_type": "stream",
          "name": "stderr",
          "text": [
            "\rExtracting test embeddings (flip):  39%|\u2588\u2588\u2588\u2589      | 676/1712 [04:20<06:23,  2.70it/s]"
          ]
        },
        {
          "output_type": "stream",
          "name": "stderr",
          "text": [
            "\rExtracting test embeddings (flip):  40%|\u2588\u2588\u2588\u2589      | 677/1712 [04:20<06:40,  2.59it/s]"
          ]
        },
        {
          "output_type": "stream",
          "name": "stderr",
          "text": [
            "\rExtracting test embeddings (flip):  40%|\u2588\u2588\u2588\u2589      | 678/1712 [04:21<06:14,  2.76it/s]"
          ]
        },
        {
          "output_type": "stream",
          "name": "stderr",
          "text": [
            "\rExtracting test embeddings (flip):  40%|\u2588\u2588\u2588\u2589      | 679/1712 [04:21<06:47,  2.53it/s]"
          ]
        },
        {
          "output_type": "stream",
          "name": "stderr",
          "text": [
            "\rExtracting test embeddings (flip):  40%|\u2588\u2588\u2588\u2589      | 680/1712 [04:21<06:19,  2.72it/s]"
          ]
        },
        {
          "output_type": "stream",
          "name": "stderr",
          "text": [
            "\rExtracting test embeddings (flip):  40%|\u2588\u2588\u2588\u2589      | 681/1712 [04:22<06:41,  2.57it/s]"
          ]
        },
        {
          "output_type": "stream",
          "name": "stderr",
          "text": [
            "\rExtracting test embeddings (flip):  40%|\u2588\u2588\u2588\u2589      | 682/1712 [04:22<06:14,  2.75it/s]"
          ]
        },
        {
          "output_type": "stream",
          "name": "stderr",
          "text": [
            "\rExtracting test embeddings (flip):  40%|\u2588\u2588\u2588\u2589      | 683/1712 [04:23<06:40,  2.57it/s]"
          ]
        },
        {
          "output_type": "stream",
          "name": "stderr",
          "text": [
            "\rExtracting test embeddings (flip):  40%|\u2588\u2588\u2588\u2589      | 684/1712 [04:23<06:15,  2.74it/s]"
          ]
        },
        {
          "output_type": "stream",
          "name": "stderr",
          "text": [
            "\rExtracting test embeddings (flip):  40%|\u2588\u2588\u2588\u2588      | 685/1712 [04:23<06:41,  2.56it/s]"
          ]
        },
        {
          "output_type": "stream",
          "name": "stderr",
          "text": [
            "\rExtracting test embeddings (flip):  40%|\u2588\u2588\u2588\u2588      | 686/1712 [04:24<06:15,  2.73it/s]"
          ]
        },
        {
          "output_type": "stream",
          "name": "stderr",
          "text": [
            "\rExtracting test embeddings (flip):  40%|\u2588\u2588\u2588\u2588      | 687/1712 [04:24<06:36,  2.58it/s]"
          ]
        },
        {
          "output_type": "stream",
          "name": "stderr",
          "text": [
            "\rExtracting test embeddings (flip):  40%|\u2588\u2588\u2588\u2588      | 688/1712 [04:24<06:11,  2.76it/s]"
          ]
        },
        {
          "output_type": "stream",
          "name": "stderr",
          "text": [
            "\rExtracting test embeddings (flip):  40%|\u2588\u2588\u2588\u2588      | 689/1712 [04:25<06:39,  2.56it/s]"
          ]
        },
        {
          "output_type": "stream",
          "name": "stderr",
          "text": [
            "\rExtracting test embeddings (flip):  40%|\u2588\u2588\u2588\u2588      | 690/1712 [04:25<06:12,  2.74it/s]"
          ]
        },
        {
          "output_type": "stream",
          "name": "stderr",
          "text": [
            "\rExtracting test embeddings (flip):  40%|\u2588\u2588\u2588\u2588      | 691/1712 [04:26<06:35,  2.58it/s]"
          ]
        },
        {
          "output_type": "stream",
          "name": "stderr",
          "text": [
            "\rExtracting test embeddings (flip):  40%|\u2588\u2588\u2588\u2588      | 692/1712 [04:26<06:09,  2.76it/s]"
          ]
        },
        {
          "output_type": "stream",
          "name": "stderr",
          "text": [
            "\rExtracting test embeddings (flip):  40%|\u2588\u2588\u2588\u2588      | 693/1712 [04:26<06:33,  2.59it/s]"
          ]
        },
        {
          "output_type": "stream",
          "name": "stderr",
          "text": [
            "\rExtracting test embeddings (flip):  41%|\u2588\u2588\u2588\u2588      | 694/1712 [04:27<06:08,  2.76it/s]"
          ]
        },
        {
          "output_type": "stream",
          "name": "stderr",
          "text": [
            "\rExtracting test embeddings (flip):  41%|\u2588\u2588\u2588\u2588      | 695/1712 [04:27<06:34,  2.58it/s]"
          ]
        },
        {
          "output_type": "stream",
          "name": "stderr",
          "text": [
            "\rExtracting test embeddings (flip):  41%|\u2588\u2588\u2588\u2588      | 696/1712 [04:27<06:08,  2.76it/s]"
          ]
        },
        {
          "output_type": "stream",
          "name": "stderr",
          "text": [
            "\rExtracting test embeddings (flip):  41%|\u2588\u2588\u2588\u2588      | 697/1712 [04:28<06:30,  2.60it/s]"
          ]
        },
        {
          "output_type": "stream",
          "name": "stderr",
          "text": [
            "\rExtracting test embeddings (flip):  41%|\u2588\u2588\u2588\u2588      | 698/1712 [04:28<06:05,  2.77it/s]"
          ]
        },
        {
          "output_type": "stream",
          "name": "stderr",
          "text": [
            "\rExtracting test embeddings (flip):  41%|\u2588\u2588\u2588\u2588      | 699/1712 [04:29<06:29,  2.60it/s]"
          ]
        },
        {
          "output_type": "stream",
          "name": "stderr",
          "text": [
            "\rExtracting test embeddings (flip):  41%|\u2588\u2588\u2588\u2588      | 700/1712 [04:29<06:04,  2.77it/s]"
          ]
        },
        {
          "output_type": "stream",
          "name": "stderr",
          "text": [
            "\rExtracting test embeddings (flip):  41%|\u2588\u2588\u2588\u2588      | 701/1712 [04:29<06:33,  2.57it/s]"
          ]
        },
        {
          "output_type": "stream",
          "name": "stderr",
          "text": [
            "\rExtracting test embeddings (flip):  41%|\u2588\u2588\u2588\u2588      | 702/1712 [04:30<06:07,  2.75it/s]"
          ]
        },
        {
          "output_type": "stream",
          "name": "stderr",
          "text": [
            "\rExtracting test embeddings (flip):  41%|\u2588\u2588\u2588\u2588      | 703/1712 [04:30<06:26,  2.61it/s]"
          ]
        },
        {
          "output_type": "stream",
          "name": "stderr",
          "text": [
            "\rExtracting test embeddings (flip):  41%|\u2588\u2588\u2588\u2588      | 704/1712 [04:30<06:02,  2.78it/s]"
          ]
        },
        {
          "output_type": "stream",
          "name": "stderr",
          "text": [
            "\rExtracting test embeddings (flip):  41%|\u2588\u2588\u2588\u2588      | 705/1712 [04:31<06:31,  2.57it/s]"
          ]
        },
        {
          "output_type": "stream",
          "name": "stderr",
          "text": [
            "\rExtracting test embeddings (flip):  41%|\u2588\u2588\u2588\u2588      | 706/1712 [04:31<06:05,  2.75it/s]"
          ]
        },
        {
          "output_type": "stream",
          "name": "stderr",
          "text": [
            "\rExtracting test embeddings (flip):  41%|\u2588\u2588\u2588\u2588\u258f     | 707/1712 [04:32<06:32,  2.56it/s]"
          ]
        },
        {
          "output_type": "stream",
          "name": "stderr",
          "text": [
            "\rExtracting test embeddings (flip):  41%|\u2588\u2588\u2588\u2588\u258f     | 708/1712 [04:32<06:06,  2.74it/s]"
          ]
        },
        {
          "output_type": "stream",
          "name": "stderr",
          "text": [
            "\rExtracting test embeddings (flip):  41%|\u2588\u2588\u2588\u2588\u258f     | 709/1712 [04:32<06:30,  2.57it/s]"
          ]
        },
        {
          "output_type": "stream",
          "name": "stderr",
          "text": [
            "\rExtracting test embeddings (flip):  41%|\u2588\u2588\u2588\u2588\u258f     | 710/1712 [04:33<06:05,  2.74it/s]"
          ]
        },
        {
          "output_type": "stream",
          "name": "stderr",
          "text": [
            "\rExtracting test embeddings (flip):  42%|\u2588\u2588\u2588\u2588\u258f     | 711/1712 [04:33<06:33,  2.54it/s]"
          ]
        },
        {
          "output_type": "stream",
          "name": "stderr",
          "text": [
            "\rExtracting test embeddings (flip):  42%|\u2588\u2588\u2588\u2588\u258f     | 712/1712 [04:33<06:06,  2.73it/s]"
          ]
        },
        {
          "output_type": "stream",
          "name": "stderr",
          "text": [
            "\rExtracting test embeddings (flip):  42%|\u2588\u2588\u2588\u2588\u258f     | 713/1712 [04:34<06:26,  2.58it/s]"
          ]
        },
        {
          "output_type": "stream",
          "name": "stderr",
          "text": [
            "\rExtracting test embeddings (flip):  42%|\u2588\u2588\u2588\u2588\u258f     | 714/1712 [04:34<06:01,  2.76it/s]"
          ]
        },
        {
          "output_type": "stream",
          "name": "stderr",
          "text": [
            "\rExtracting test embeddings (flip):  42%|\u2588\u2588\u2588\u2588\u258f     | 715/1712 [04:35<06:40,  2.49it/s]"
          ]
        },
        {
          "output_type": "stream",
          "name": "stderr",
          "text": [
            "\rExtracting test embeddings (flip):  42%|\u2588\u2588\u2588\u2588\u258f     | 716/1712 [04:35<06:10,  2.69it/s]"
          ]
        },
        {
          "output_type": "stream",
          "name": "stderr",
          "text": [
            "\rExtracting test embeddings (flip):  42%|\u2588\u2588\u2588\u2588\u258f     | 717/1712 [04:35<06:11,  2.68it/s]"
          ]
        },
        {
          "output_type": "stream",
          "name": "stderr",
          "text": [
            "\rExtracting test embeddings (flip):  42%|\u2588\u2588\u2588\u2588\u258f     | 718/1712 [04:36<05:50,  2.84it/s]"
          ]
        },
        {
          "output_type": "stream",
          "name": "stderr",
          "text": [
            "\rExtracting test embeddings (flip):  42%|\u2588\u2588\u2588\u2588\u258f     | 719/1712 [04:36<06:42,  2.47it/s]"
          ]
        },
        {
          "output_type": "stream",
          "name": "stderr",
          "text": [
            "\rExtracting test embeddings (flip):  42%|\u2588\u2588\u2588\u2588\u258f     | 720/1712 [04:36<06:12,  2.66it/s]"
          ]
        },
        {
          "output_type": "stream",
          "name": "stderr",
          "text": [
            "\rExtracting test embeddings (flip):  42%|\u2588\u2588\u2588\u2588\u258f     | 721/1712 [04:37<06:06,  2.71it/s]"
          ]
        },
        {
          "output_type": "stream",
          "name": "stderr",
          "text": [
            "\rExtracting test embeddings (flip):  42%|\u2588\u2588\u2588\u2588\u258f     | 722/1712 [04:37<05:47,  2.85it/s]"
          ]
        },
        {
          "output_type": "stream",
          "name": "stderr",
          "text": [
            "\rExtracting test embeddings (flip):  42%|\u2588\u2588\u2588\u2588\u258f     | 723/1712 [04:38<06:52,  2.40it/s]"
          ]
        },
        {
          "output_type": "stream",
          "name": "stderr",
          "text": [
            "\rExtracting test embeddings (flip):  42%|\u2588\u2588\u2588\u2588\u258f     | 724/1712 [04:38<06:19,  2.60it/s]"
          ]
        },
        {
          "output_type": "stream",
          "name": "stderr",
          "text": [
            "\rExtracting test embeddings (flip):  42%|\u2588\u2588\u2588\u2588\u258f     | 725/1712 [04:38<06:00,  2.74it/s]"
          ]
        },
        {
          "output_type": "stream",
          "name": "stderr",
          "text": [
            "\rExtracting test embeddings (flip):  42%|\u2588\u2588\u2588\u2588\u258f     | 726/1712 [04:39<05:42,  2.88it/s]"
          ]
        },
        {
          "output_type": "stream",
          "name": "stderr",
          "text": [
            "\rExtracting test embeddings (flip):  42%|\u2588\u2588\u2588\u2588\u258f     | 727/1712 [04:39<06:50,  2.40it/s]"
          ]
        },
        {
          "output_type": "stream",
          "name": "stderr",
          "text": [
            "\rExtracting test embeddings (flip):  43%|\u2588\u2588\u2588\u2588\u258e     | 728/1712 [04:40<06:16,  2.61it/s]"
          ]
        },
        {
          "output_type": "stream",
          "name": "stderr",
          "text": [
            "\rExtracting test embeddings (flip):  43%|\u2588\u2588\u2588\u2588\u258e     | 729/1712 [04:40<06:06,  2.68it/s]"
          ]
        },
        {
          "output_type": "stream",
          "name": "stderr",
          "text": [
            "\rExtracting test embeddings (flip):  43%|\u2588\u2588\u2588\u2588\u258e     | 730/1712 [04:40<05:46,  2.84it/s]"
          ]
        },
        {
          "output_type": "stream",
          "name": "stderr",
          "text": [
            "\rExtracting test embeddings (flip):  43%|\u2588\u2588\u2588\u2588\u258e     | 731/1712 [04:41<06:46,  2.41it/s]"
          ]
        },
        {
          "output_type": "stream",
          "name": "stderr",
          "text": [
            "\rExtracting test embeddings (flip):  43%|\u2588\u2588\u2588\u2588\u258e     | 732/1712 [04:41<06:13,  2.62it/s]"
          ]
        },
        {
          "output_type": "stream",
          "name": "stderr",
          "text": [
            "\rExtracting test embeddings (flip):  43%|\u2588\u2588\u2588\u2588\u258e     | 733/1712 [04:41<05:54,  2.76it/s]"
          ]
        },
        {
          "output_type": "stream",
          "name": "stderr",
          "text": [
            "\rExtracting test embeddings (flip):  43%|\u2588\u2588\u2588\u2588\u258e     | 734/1712 [04:42<05:37,  2.90it/s]"
          ]
        },
        {
          "output_type": "stream",
          "name": "stderr",
          "text": [
            "\rExtracting test embeddings (flip):  43%|\u2588\u2588\u2588\u2588\u258e     | 735/1712 [04:42<06:47,  2.40it/s]"
          ]
        },
        {
          "output_type": "stream",
          "name": "stderr",
          "text": [
            "\rExtracting test embeddings (flip):  43%|\u2588\u2588\u2588\u2588\u258e     | 736/1712 [04:43<06:14,  2.60it/s]"
          ]
        },
        {
          "output_type": "stream",
          "name": "stderr",
          "text": [
            "\rExtracting test embeddings (flip):  43%|\u2588\u2588\u2588\u2588\u258e     | 737/1712 [04:43<05:53,  2.75it/s]"
          ]
        },
        {
          "output_type": "stream",
          "name": "stderr",
          "text": [
            "\rExtracting test embeddings (flip):  43%|\u2588\u2588\u2588\u2588\u258e     | 738/1712 [04:43<05:37,  2.89it/s]"
          ]
        },
        {
          "output_type": "stream",
          "name": "stderr",
          "text": [
            "\rExtracting test embeddings (flip):  43%|\u2588\u2588\u2588\u2588\u258e     | 739/1712 [04:44<06:38,  2.44it/s]"
          ]
        },
        {
          "output_type": "stream",
          "name": "stderr",
          "text": [
            "\rExtracting test embeddings (flip):  43%|\u2588\u2588\u2588\u2588\u258e     | 740/1712 [04:44<06:07,  2.65it/s]"
          ]
        },
        {
          "output_type": "stream",
          "name": "stderr",
          "text": [
            "\rExtracting test embeddings (flip):  43%|\u2588\u2588\u2588\u2588\u258e     | 741/1712 [04:44<05:48,  2.78it/s]"
          ]
        },
        {
          "output_type": "stream",
          "name": "stderr",
          "text": [
            "\rExtracting test embeddings (flip):  43%|\u2588\u2588\u2588\u2588\u258e     | 742/1712 [04:45<05:32,  2.92it/s]"
          ]
        },
        {
          "output_type": "stream",
          "name": "stderr",
          "text": [
            "\rExtracting test embeddings (flip):  43%|\u2588\u2588\u2588\u2588\u258e     | 743/1712 [04:45<06:36,  2.45it/s]"
          ]
        },
        {
          "output_type": "stream",
          "name": "stderr",
          "text": [
            "\rExtracting test embeddings (flip):  43%|\u2588\u2588\u2588\u2588\u258e     | 744/1712 [04:46<06:05,  2.65it/s]"
          ]
        },
        {
          "output_type": "stream",
          "name": "stderr",
          "text": [
            "\rExtracting test embeddings (flip):  44%|\u2588\u2588\u2588\u2588\u258e     | 745/1712 [04:46<05:56,  2.72it/s]"
          ]
        },
        {
          "output_type": "stream",
          "name": "stderr",
          "text": [
            "\rExtracting test embeddings (flip):  44%|\u2588\u2588\u2588\u2588\u258e     | 746/1712 [04:46<05:37,  2.87it/s]"
          ]
        },
        {
          "output_type": "stream",
          "name": "stderr",
          "text": [
            "\rExtracting test embeddings (flip):  44%|\u2588\u2588\u2588\u2588\u258e     | 747/1712 [04:47<06:34,  2.44it/s]"
          ]
        },
        {
          "output_type": "stream",
          "name": "stderr",
          "text": [
            "\rExtracting test embeddings (flip):  44%|\u2588\u2588\u2588\u2588\u258e     | 748/1712 [04:47<06:05,  2.64it/s]"
          ]
        },
        {
          "output_type": "stream",
          "name": "stderr",
          "text": [
            "\rExtracting test embeddings (flip):  44%|\u2588\u2588\u2588\u2588\u258d     | 749/1712 [04:47<05:59,  2.68it/s]"
          ]
        },
        {
          "output_type": "stream",
          "name": "stderr",
          "text": [
            "\rExtracting test embeddings (flip):  44%|\u2588\u2588\u2588\u2588\u258d     | 750/1712 [04:48<05:39,  2.84it/s]"
          ]
        },
        {
          "output_type": "stream",
          "name": "stderr",
          "text": [
            "\rExtracting test embeddings (flip):  44%|\u2588\u2588\u2588\u2588\u258d     | 751/1712 [04:48<06:31,  2.46it/s]"
          ]
        },
        {
          "output_type": "stream",
          "name": "stderr",
          "text": [
            "\rExtracting test embeddings (flip):  44%|\u2588\u2588\u2588\u2588\u258d     | 752/1712 [04:49<06:01,  2.66it/s]"
          ]
        },
        {
          "output_type": "stream",
          "name": "stderr",
          "text": [
            "\rExtracting test embeddings (flip):  44%|\u2588\u2588\u2588\u2588\u258d     | 753/1712 [04:49<06:04,  2.63it/s]"
          ]
        },
        {
          "output_type": "stream",
          "name": "stderr",
          "text": [
            "\rExtracting test embeddings (flip):  44%|\u2588\u2588\u2588\u2588\u258d     | 754/1712 [04:49<05:43,  2.79it/s]"
          ]
        },
        {
          "output_type": "stream",
          "name": "stderr",
          "text": [
            "\rExtracting test embeddings (flip):  44%|\u2588\u2588\u2588\u2588\u258d     | 755/1712 [04:50<06:23,  2.50it/s]"
          ]
        },
        {
          "output_type": "stream",
          "name": "stderr",
          "text": [
            "\rExtracting test embeddings (flip):  44%|\u2588\u2588\u2588\u2588\u258d     | 756/1712 [04:50<05:55,  2.69it/s]"
          ]
        },
        {
          "output_type": "stream",
          "name": "stderr",
          "text": [
            "\rExtracting test embeddings (flip):  44%|\u2588\u2588\u2588\u2588\u258d     | 757/1712 [04:50<06:06,  2.60it/s]"
          ]
        },
        {
          "output_type": "stream",
          "name": "stderr",
          "text": [
            "\rExtracting test embeddings (flip):  44%|\u2588\u2588\u2588\u2588\u258d     | 758/1712 [04:51<05:43,  2.78it/s]"
          ]
        },
        {
          "output_type": "stream",
          "name": "stderr",
          "text": [
            "\rExtracting test embeddings (flip):  44%|\u2588\u2588\u2588\u2588\u258d     | 759/1712 [04:51<06:13,  2.55it/s]"
          ]
        },
        {
          "output_type": "stream",
          "name": "stderr",
          "text": [
            "\rExtracting test embeddings (flip):  44%|\u2588\u2588\u2588\u2588\u258d     | 760/1712 [04:52<05:48,  2.73it/s]"
          ]
        },
        {
          "output_type": "stream",
          "name": "stderr",
          "text": [
            "\rExtracting test embeddings (flip):  44%|\u2588\u2588\u2588\u2588\u258d     | 761/1712 [04:52<06:06,  2.60it/s]"
          ]
        },
        {
          "output_type": "stream",
          "name": "stderr",
          "text": [
            "\rExtracting test embeddings (flip):  45%|\u2588\u2588\u2588\u2588\u258d     | 762/1712 [04:52<05:43,  2.77it/s]"
          ]
        },
        {
          "output_type": "stream",
          "name": "stderr",
          "text": [
            "\rExtracting test embeddings (flip):  45%|\u2588\u2588\u2588\u2588\u258d     | 763/1712 [04:53<06:11,  2.56it/s]"
          ]
        },
        {
          "output_type": "stream",
          "name": "stderr",
          "text": [
            "\rExtracting test embeddings (flip):  45%|\u2588\u2588\u2588\u2588\u258d     | 764/1712 [04:53<05:47,  2.73it/s]"
          ]
        },
        {
          "output_type": "stream",
          "name": "stderr",
          "text": [
            "\rExtracting test embeddings (flip):  45%|\u2588\u2588\u2588\u2588\u258d     | 765/1712 [04:53<06:06,  2.59it/s]"
          ]
        },
        {
          "output_type": "stream",
          "name": "stderr",
          "text": [
            "\rExtracting test embeddings (flip):  45%|\u2588\u2588\u2588\u2588\u258d     | 766/1712 [04:54<05:43,  2.76it/s]"
          ]
        },
        {
          "output_type": "stream",
          "name": "stderr",
          "text": [
            "\rExtracting test embeddings (flip):  45%|\u2588\u2588\u2588\u2588\u258d     | 767/1712 [04:54<06:05,  2.59it/s]"
          ]
        },
        {
          "output_type": "stream",
          "name": "stderr",
          "text": [
            "\rExtracting test embeddings (flip):  45%|\u2588\u2588\u2588\u2588\u258d     | 768/1712 [04:55<05:41,  2.76it/s]"
          ]
        },
        {
          "output_type": "stream",
          "name": "stderr",
          "text": [
            "\rExtracting test embeddings (flip):  45%|\u2588\u2588\u2588\u2588\u258d     | 769/1712 [04:55<06:07,  2.56it/s]"
          ]
        },
        {
          "output_type": "stream",
          "name": "stderr",
          "text": [
            "\rExtracting test embeddings (flip):  45%|\u2588\u2588\u2588\u2588\u258d     | 770/1712 [04:55<05:43,  2.74it/s]"
          ]
        },
        {
          "output_type": "stream",
          "name": "stderr",
          "text": [
            "\rExtracting test embeddings (flip):  45%|\u2588\u2588\u2588\u2588\u258c     | 771/1712 [04:56<06:02,  2.60it/s]"
          ]
        },
        {
          "output_type": "stream",
          "name": "stderr",
          "text": [
            "\rExtracting test embeddings (flip):  45%|\u2588\u2588\u2588\u2588\u258c     | 772/1712 [04:56<05:39,  2.77it/s]"
          ]
        },
        {
          "output_type": "stream",
          "name": "stderr",
          "text": [
            "\rExtracting test embeddings (flip):  45%|\u2588\u2588\u2588\u2588\u258c     | 773/1712 [04:56<06:06,  2.56it/s]"
          ]
        },
        {
          "output_type": "stream",
          "name": "stderr",
          "text": [
            "\rExtracting test embeddings (flip):  45%|\u2588\u2588\u2588\u2588\u258c     | 774/1712 [04:57<05:42,  2.74it/s]"
          ]
        },
        {
          "output_type": "stream",
          "name": "stderr",
          "text": [
            "\rExtracting test embeddings (flip):  45%|\u2588\u2588\u2588\u2588\u258c     | 775/1712 [04:57<05:59,  2.61it/s]"
          ]
        },
        {
          "output_type": "stream",
          "name": "stderr",
          "text": [
            "\rExtracting test embeddings (flip):  45%|\u2588\u2588\u2588\u2588\u258c     | 776/1712 [04:58<05:36,  2.78it/s]"
          ]
        },
        {
          "output_type": "stream",
          "name": "stderr",
          "text": [
            "\rExtracting test embeddings (flip):  45%|\u2588\u2588\u2588\u2588\u258c     | 777/1712 [04:58<06:03,  2.57it/s]"
          ]
        },
        {
          "output_type": "stream",
          "name": "stderr",
          "text": [
            "\rExtracting test embeddings (flip):  45%|\u2588\u2588\u2588\u2588\u258c     | 778/1712 [04:58<05:39,  2.75it/s]"
          ]
        },
        {
          "output_type": "stream",
          "name": "stderr",
          "text": [
            "\rExtracting test embeddings (flip):  46%|\u2588\u2588\u2588\u2588\u258c     | 779/1712 [04:59<06:00,  2.59it/s]"
          ]
        },
        {
          "output_type": "stream",
          "name": "stderr",
          "text": [
            "\rExtracting test embeddings (flip):  46%|\u2588\u2588\u2588\u2588\u258c     | 780/1712 [04:59<05:37,  2.76it/s]"
          ]
        },
        {
          "output_type": "stream",
          "name": "stderr",
          "text": [
            "\rExtracting test embeddings (flip):  46%|\u2588\u2588\u2588\u2588\u258c     | 781/1712 [04:59<06:02,  2.57it/s]"
          ]
        },
        {
          "output_type": "stream",
          "name": "stderr",
          "text": [
            "\rExtracting test embeddings (flip):  46%|\u2588\u2588\u2588\u2588\u258c     | 782/1712 [05:00<05:38,  2.75it/s]"
          ]
        },
        {
          "output_type": "stream",
          "name": "stderr",
          "text": [
            "\rExtracting test embeddings (flip):  46%|\u2588\u2588\u2588\u2588\u258c     | 783/1712 [05:00<06:02,  2.56it/s]"
          ]
        },
        {
          "output_type": "stream",
          "name": "stderr",
          "text": [
            "\rExtracting test embeddings (flip):  46%|\u2588\u2588\u2588\u2588\u258c     | 784/1712 [05:01<05:38,  2.74it/s]"
          ]
        },
        {
          "output_type": "stream",
          "name": "stderr",
          "text": [
            "\rExtracting test embeddings (flip):  46%|\u2588\u2588\u2588\u2588\u258c     | 785/1712 [05:01<05:59,  2.58it/s]"
          ]
        },
        {
          "output_type": "stream",
          "name": "stderr",
          "text": [
            "\rExtracting test embeddings (flip):  46%|\u2588\u2588\u2588\u2588\u258c     | 786/1712 [05:01<05:36,  2.75it/s]"
          ]
        },
        {
          "output_type": "stream",
          "name": "stderr",
          "text": [
            "\rExtracting test embeddings (flip):  46%|\u2588\u2588\u2588\u2588\u258c     | 787/1712 [05:02<06:07,  2.52it/s]"
          ]
        },
        {
          "output_type": "stream",
          "name": "stderr",
          "text": [
            "\rExtracting test embeddings (flip):  46%|\u2588\u2588\u2588\u2588\u258c     | 788/1712 [05:02<05:42,  2.70it/s]"
          ]
        },
        {
          "output_type": "stream",
          "name": "stderr",
          "text": [
            "\rExtracting test embeddings (flip):  46%|\u2588\u2588\u2588\u2588\u258c     | 789/1712 [05:02<05:47,  2.66it/s]"
          ]
        },
        {
          "output_type": "stream",
          "name": "stderr",
          "text": [
            "\rExtracting test embeddings (flip):  46%|\u2588\u2588\u2588\u2588\u258c     | 790/1712 [05:03<05:27,  2.81it/s]"
          ]
        },
        {
          "output_type": "stream",
          "name": "stderr",
          "text": [
            "\rExtracting test embeddings (flip):  46%|\u2588\u2588\u2588\u2588\u258c     | 791/1712 [05:03<06:15,  2.46it/s]"
          ]
        },
        {
          "output_type": "stream",
          "name": "stderr",
          "text": [
            "\rExtracting test embeddings (flip):  46%|\u2588\u2588\u2588\u2588\u258b     | 792/1712 [05:04<05:46,  2.65it/s]"
          ]
        },
        {
          "output_type": "stream",
          "name": "stderr",
          "text": [
            "\rExtracting test embeddings (flip):  46%|\u2588\u2588\u2588\u2588\u258b     | 793/1712 [05:04<05:43,  2.67it/s]"
          ]
        },
        {
          "output_type": "stream",
          "name": "stderr",
          "text": [
            "\rExtracting test embeddings (flip):  46%|\u2588\u2588\u2588\u2588\u258b     | 794/1712 [05:04<05:24,  2.83it/s]"
          ]
        },
        {
          "output_type": "stream",
          "name": "stderr",
          "text": [
            "\rExtracting test embeddings (flip):  46%|\u2588\u2588\u2588\u2588\u258b     | 795/1712 [05:05<06:17,  2.43it/s]"
          ]
        },
        {
          "output_type": "stream",
          "name": "stderr",
          "text": [
            "\rExtracting test embeddings (flip):  46%|\u2588\u2588\u2588\u2588\u258b     | 796/1712 [05:05<05:48,  2.63it/s]"
          ]
        },
        {
          "output_type": "stream",
          "name": "stderr",
          "text": [
            "\rExtracting test embeddings (flip):  47%|\u2588\u2588\u2588\u2588\u258b     | 797/1712 [05:05<05:38,  2.70it/s]"
          ]
        },
        {
          "output_type": "stream",
          "name": "stderr",
          "text": [
            "\rExtracting test embeddings (flip):  47%|\u2588\u2588\u2588\u2588\u258b     | 798/1712 [05:06<05:20,  2.85it/s]"
          ]
        },
        {
          "output_type": "stream",
          "name": "stderr",
          "text": [
            "\rExtracting test embeddings (flip):  47%|\u2588\u2588\u2588\u2588\u258b     | 799/1712 [05:06<06:21,  2.39it/s]"
          ]
        },
        {
          "output_type": "stream",
          "name": "stderr",
          "text": [
            "\rExtracting test embeddings (flip):  47%|\u2588\u2588\u2588\u2588\u258b     | 800/1712 [05:07<05:50,  2.60it/s]"
          ]
        },
        {
          "output_type": "stream",
          "name": "stderr",
          "text": [
            "\rExtracting test embeddings (flip):  47%|\u2588\u2588\u2588\u2588\u258b     | 801/1712 [05:07<05:32,  2.74it/s]"
          ]
        },
        {
          "output_type": "stream",
          "name": "stderr",
          "text": [
            "\rExtracting test embeddings (flip):  47%|\u2588\u2588\u2588\u2588\u258b     | 802/1712 [05:07<05:17,  2.87it/s]"
          ]
        },
        {
          "output_type": "stream",
          "name": "stderr",
          "text": [
            "\rExtracting test embeddings (flip):  47%|\u2588\u2588\u2588\u2588\u258b     | 803/1712 [05:08<06:26,  2.35it/s]"
          ]
        },
        {
          "output_type": "stream",
          "name": "stderr",
          "text": [
            "\rExtracting test embeddings (flip):  47%|\u2588\u2588\u2588\u2588\u258b     | 804/1712 [05:08<05:53,  2.57it/s]"
          ]
        },
        {
          "output_type": "stream",
          "name": "stderr",
          "text": [
            "\rExtracting test embeddings (flip):  47%|\u2588\u2588\u2588\u2588\u258b     | 805/1712 [05:09<05:34,  2.71it/s]"
          ]
        },
        {
          "output_type": "stream",
          "name": "stderr",
          "text": [
            "\rExtracting test embeddings (flip):  47%|\u2588\u2588\u2588\u2588\u258b     | 806/1712 [05:09<05:18,  2.85it/s]"
          ]
        },
        {
          "output_type": "stream",
          "name": "stderr",
          "text": [
            "\rExtracting test embeddings (flip):  47%|\u2588\u2588\u2588\u2588\u258b     | 807/1712 [05:09<06:17,  2.40it/s]"
          ]
        },
        {
          "output_type": "stream",
          "name": "stderr",
          "text": [
            "\rExtracting test embeddings (flip):  47%|\u2588\u2588\u2588\u2588\u258b     | 808/1712 [05:10<05:47,  2.60it/s]"
          ]
        },
        {
          "output_type": "stream",
          "name": "stderr",
          "text": [
            "\rExtracting test embeddings (flip):  47%|\u2588\u2588\u2588\u2588\u258b     | 809/1712 [05:10<05:28,  2.75it/s]"
          ]
        },
        {
          "output_type": "stream",
          "name": "stderr",
          "text": [
            "\rExtracting test embeddings (flip):  47%|\u2588\u2588\u2588\u2588\u258b     | 810/1712 [05:10<05:12,  2.89it/s]"
          ]
        },
        {
          "output_type": "stream",
          "name": "stderr",
          "text": [
            "\rExtracting test embeddings (flip):  47%|\u2588\u2588\u2588\u2588\u258b     | 811/1712 [05:11<06:16,  2.40it/s]"
          ]
        },
        {
          "output_type": "stream",
          "name": "stderr",
          "text": [
            "\rExtracting test embeddings (flip):  47%|\u2588\u2588\u2588\u2588\u258b     | 812/1712 [05:11<05:45,  2.60it/s]"
          ]
        },
        {
          "output_type": "stream",
          "name": "stderr",
          "text": [
            "\rExtracting test embeddings (flip):  47%|\u2588\u2588\u2588\u2588\u258b     | 813/1712 [05:12<05:29,  2.73it/s]"
          ]
        },
        {
          "output_type": "stream",
          "name": "stderr",
          "text": [
            "\rExtracting test embeddings (flip):  48%|\u2588\u2588\u2588\u2588\u258a     | 814/1712 [05:12<05:12,  2.87it/s]"
          ]
        },
        {
          "output_type": "stream",
          "name": "stderr",
          "text": [
            "\rExtracting test embeddings (flip):  48%|\u2588\u2588\u2588\u2588\u258a     | 815/1712 [05:12<06:01,  2.48it/s]"
          ]
        },
        {
          "output_type": "stream",
          "name": "stderr",
          "text": [
            "\rExtracting test embeddings (flip):  48%|\u2588\u2588\u2588\u2588\u258a     | 816/1712 [05:13<05:35,  2.67it/s]"
          ]
        },
        {
          "output_type": "stream",
          "name": "stderr",
          "text": [
            "\rExtracting test embeddings (flip):  48%|\u2588\u2588\u2588\u2588\u258a     | 817/1712 [05:13<05:19,  2.80it/s]"
          ]
        },
        {
          "output_type": "stream",
          "name": "stderr",
          "text": [
            "\rExtracting test embeddings (flip):  48%|\u2588\u2588\u2588\u2588\u258a     | 818/1712 [05:13<05:05,  2.93it/s]"
          ]
        },
        {
          "output_type": "stream",
          "name": "stderr",
          "text": [
            "\rExtracting test embeddings (flip):  48%|\u2588\u2588\u2588\u2588\u258a     | 819/1712 [05:14<06:08,  2.42it/s]"
          ]
        },
        {
          "output_type": "stream",
          "name": "stderr",
          "text": [
            "\rExtracting test embeddings (flip):  48%|\u2588\u2588\u2588\u2588\u258a     | 820/1712 [05:14<05:39,  2.63it/s]"
          ]
        },
        {
          "output_type": "stream",
          "name": "stderr",
          "text": [
            "\rExtracting test embeddings (flip):  48%|\u2588\u2588\u2588\u2588\u258a     | 821/1712 [05:15<05:23,  2.76it/s]"
          ]
        },
        {
          "output_type": "stream",
          "name": "stderr",
          "text": [
            "\rExtracting test embeddings (flip):  48%|\u2588\u2588\u2588\u2588\u258a     | 822/1712 [05:15<05:08,  2.88it/s]"
          ]
        },
        {
          "output_type": "stream",
          "name": "stderr",
          "text": [
            "\rExtracting test embeddings (flip):  48%|\u2588\u2588\u2588\u2588\u258a     | 823/1712 [05:15<06:06,  2.43it/s]"
          ]
        },
        {
          "output_type": "stream",
          "name": "stderr",
          "text": [
            "\rExtracting test embeddings (flip):  48%|\u2588\u2588\u2588\u2588\u258a     | 824/1712 [05:16<05:37,  2.63it/s]"
          ]
        },
        {
          "output_type": "stream",
          "name": "stderr",
          "text": [
            "\rExtracting test embeddings (flip):  48%|\u2588\u2588\u2588\u2588\u258a     | 825/1712 [05:16<05:23,  2.74it/s]"
          ]
        },
        {
          "output_type": "stream",
          "name": "stderr",
          "text": [
            "\rExtracting test embeddings (flip):  48%|\u2588\u2588\u2588\u2588\u258a     | 826/1712 [05:16<05:07,  2.88it/s]"
          ]
        },
        {
          "output_type": "stream",
          "name": "stderr",
          "text": [
            "\rExtracting test embeddings (flip):  48%|\u2588\u2588\u2588\u2588\u258a     | 827/1712 [05:17<06:01,  2.45it/s]"
          ]
        },
        {
          "output_type": "stream",
          "name": "stderr",
          "text": [
            "\rExtracting test embeddings (flip):  48%|\u2588\u2588\u2588\u2588\u258a     | 828/1712 [05:17<05:33,  2.65it/s]"
          ]
        },
        {
          "output_type": "stream",
          "name": "stderr",
          "text": [
            "\rExtracting test embeddings (flip):  48%|\u2588\u2588\u2588\u2588\u258a     | 829/1712 [05:18<05:23,  2.73it/s]"
          ]
        },
        {
          "output_type": "stream",
          "name": "stderr",
          "text": [
            "\rExtracting test embeddings (flip):  48%|\u2588\u2588\u2588\u2588\u258a     | 830/1712 [05:18<05:07,  2.87it/s]"
          ]
        },
        {
          "output_type": "stream",
          "name": "stderr",
          "text": [
            "\rExtracting test embeddings (flip):  49%|\u2588\u2588\u2588\u2588\u258a     | 831/1712 [05:18<05:55,  2.48it/s]"
          ]
        },
        {
          "output_type": "stream",
          "name": "stderr",
          "text": [
            "\rExtracting test embeddings (flip):  49%|\u2588\u2588\u2588\u2588\u258a     | 832/1712 [05:19<05:29,  2.67it/s]"
          ]
        },
        {
          "output_type": "stream",
          "name": "stderr",
          "text": [
            "\rExtracting test embeddings (flip):  49%|\u2588\u2588\u2588\u2588\u258a     | 833/1712 [05:19<05:31,  2.65it/s]"
          ]
        },
        {
          "output_type": "stream",
          "name": "stderr",
          "text": [
            "\rExtracting test embeddings (flip):  49%|\u2588\u2588\u2588\u2588\u258a     | 834/1712 [05:19<05:12,  2.81it/s]"
          ]
        },
        {
          "output_type": "stream",
          "name": "stderr",
          "text": [
            "\rExtracting test embeddings (flip):  49%|\u2588\u2588\u2588\u2588\u2589     | 835/1712 [05:20<05:52,  2.49it/s]"
          ]
        },
        {
          "output_type": "stream",
          "name": "stderr",
          "text": [
            "\rExtracting test embeddings (flip):  49%|\u2588\u2588\u2588\u2588\u2589     | 836/1712 [05:20<05:27,  2.68it/s]"
          ]
        },
        {
          "output_type": "stream",
          "name": "stderr",
          "text": [
            "\rExtracting test embeddings (flip):  49%|\u2588\u2588\u2588\u2588\u2589     | 837/1712 [05:21<05:34,  2.61it/s]"
          ]
        },
        {
          "output_type": "stream",
          "name": "stderr",
          "text": [
            "\rExtracting test embeddings (flip):  49%|\u2588\u2588\u2588\u2588\u2589     | 838/1712 [05:21<05:13,  2.78it/s]"
          ]
        },
        {
          "output_type": "stream",
          "name": "stderr",
          "text": [
            "\rExtracting test embeddings (flip):  49%|\u2588\u2588\u2588\u2588\u2589     | 839/1712 [05:21<05:48,  2.50it/s]"
          ]
        },
        {
          "output_type": "stream",
          "name": "stderr",
          "text": [
            "\rExtracting test embeddings (flip):  49%|\u2588\u2588\u2588\u2588\u2589     | 840/1712 [05:22<05:23,  2.70it/s]"
          ]
        },
        {
          "output_type": "stream",
          "name": "stderr",
          "text": [
            "\rExtracting test embeddings (flip):  49%|\u2588\u2588\u2588\u2588\u2589     | 841/1712 [05:22<05:30,  2.63it/s]"
          ]
        },
        {
          "output_type": "stream",
          "name": "stderr",
          "text": [
            "\rExtracting test embeddings (flip):  49%|\u2588\u2588\u2588\u2588\u2589     | 842/1712 [05:22<05:11,  2.79it/s]"
          ]
        },
        {
          "output_type": "stream",
          "name": "stderr",
          "text": [
            "\rExtracting test embeddings (flip):  49%|\u2588\u2588\u2588\u2588\u2589     | 843/1712 [05:23<05:45,  2.52it/s]"
          ]
        },
        {
          "output_type": "stream",
          "name": "stderr",
          "text": [
            "\rExtracting test embeddings (flip):  49%|\u2588\u2588\u2588\u2588\u2589     | 844/1712 [05:23<05:20,  2.71it/s]"
          ]
        },
        {
          "output_type": "stream",
          "name": "stderr",
          "text": [
            "\rExtracting test embeddings (flip):  49%|\u2588\u2588\u2588\u2588\u2589     | 845/1712 [05:24<05:25,  2.66it/s]"
          ]
        },
        {
          "output_type": "stream",
          "name": "stderr",
          "text": [
            "\rExtracting test embeddings (flip):  49%|\u2588\u2588\u2588\u2588\u2589     | 846/1712 [05:24<05:07,  2.82it/s]"
          ]
        },
        {
          "output_type": "stream",
          "name": "stderr",
          "text": [
            "\rExtracting test embeddings (flip):  49%|\u2588\u2588\u2588\u2588\u2589     | 847/1712 [05:24<05:42,  2.53it/s]"
          ]
        },
        {
          "output_type": "stream",
          "name": "stderr",
          "text": [
            "\rExtracting test embeddings (flip):  50%|\u2588\u2588\u2588\u2588\u2589     | 848/1712 [05:25<05:19,  2.71it/s]"
          ]
        },
        {
          "output_type": "stream",
          "name": "stderr",
          "text": [
            "\rExtracting test embeddings (flip):  50%|\u2588\u2588\u2588\u2588\u2589     | 849/1712 [05:25<05:21,  2.68it/s]"
          ]
        },
        {
          "output_type": "stream",
          "name": "stderr",
          "text": [
            "\rExtracting test embeddings (flip):  50%|\u2588\u2588\u2588\u2588\u2589     | 850/1712 [05:25<05:03,  2.84it/s]"
          ]
        },
        {
          "output_type": "stream",
          "name": "stderr",
          "text": [
            "\rExtracting test embeddings (flip):  50%|\u2588\u2588\u2588\u2588\u2589     | 851/1712 [05:26<05:45,  2.49it/s]"
          ]
        },
        {
          "output_type": "stream",
          "name": "stderr",
          "text": [
            "\rExtracting test embeddings (flip):  50%|\u2588\u2588\u2588\u2588\u2589     | 852/1712 [05:26<05:20,  2.68it/s]"
          ]
        },
        {
          "output_type": "stream",
          "name": "stderr",
          "text": [
            "\rExtracting test embeddings (flip):  50%|\u2588\u2588\u2588\u2588\u2589     | 853/1712 [05:27<05:26,  2.63it/s]"
          ]
        },
        {
          "output_type": "stream",
          "name": "stderr",
          "text": [
            "\rExtracting test embeddings (flip):  50%|\u2588\u2588\u2588\u2588\u2589     | 854/1712 [05:27<05:06,  2.80it/s]"
          ]
        },
        {
          "output_type": "stream",
          "name": "stderr",
          "text": [
            "\rExtracting test embeddings (flip):  50%|\u2588\u2588\u2588\u2588\u2589     | 855/1712 [05:27<05:40,  2.52it/s]"
          ]
        },
        {
          "output_type": "stream",
          "name": "stderr",
          "text": [
            "\rExtracting test embeddings (flip):  50%|\u2588\u2588\u2588\u2588\u2588     | 856/1712 [05:28<05:16,  2.70it/s]"
          ]
        },
        {
          "output_type": "stream",
          "name": "stderr",
          "text": [
            "\rExtracting test embeddings (flip):  50%|\u2588\u2588\u2588\u2588\u2588     | 857/1712 [05:28<05:23,  2.64it/s]"
          ]
        },
        {
          "output_type": "stream",
          "name": "stderr",
          "text": [
            "\rExtracting test embeddings (flip):  50%|\u2588\u2588\u2588\u2588\u2588     | 858/1712 [05:28<05:04,  2.80it/s]"
          ]
        },
        {
          "output_type": "stream",
          "name": "stderr",
          "text": [
            "\rExtracting test embeddings (flip):  50%|\u2588\u2588\u2588\u2588\u2588     | 859/1712 [05:29<05:34,  2.55it/s]"
          ]
        },
        {
          "output_type": "stream",
          "name": "stderr",
          "text": [
            "\rExtracting test embeddings (flip):  50%|\u2588\u2588\u2588\u2588\u2588     | 860/1712 [05:29<05:12,  2.73it/s]"
          ]
        },
        {
          "output_type": "stream",
          "name": "stderr",
          "text": [
            "\rExtracting test embeddings (flip):  50%|\u2588\u2588\u2588\u2588\u2588     | 861/1712 [05:30<05:19,  2.66it/s]"
          ]
        },
        {
          "output_type": "stream",
          "name": "stderr",
          "text": [
            "\rExtracting test embeddings (flip):  50%|\u2588\u2588\u2588\u2588\u2588     | 862/1712 [05:30<05:02,  2.81it/s]"
          ]
        },
        {
          "output_type": "stream",
          "name": "stderr",
          "text": [
            "\rExtracting test embeddings (flip):  50%|\u2588\u2588\u2588\u2588\u2588     | 863/1712 [05:30<05:43,  2.47it/s]"
          ]
        },
        {
          "output_type": "stream",
          "name": "stderr",
          "text": [
            "\rExtracting test embeddings (flip):  50%|\u2588\u2588\u2588\u2588\u2588     | 864/1712 [05:31<05:18,  2.67it/s]"
          ]
        },
        {
          "output_type": "stream",
          "name": "stderr",
          "text": [
            "\rExtracting test embeddings (flip):  51%|\u2588\u2588\u2588\u2588\u2588     | 865/1712 [05:31<05:15,  2.68it/s]"
          ]
        },
        {
          "output_type": "stream",
          "name": "stderr",
          "text": [
            "\rExtracting test embeddings (flip):  51%|\u2588\u2588\u2588\u2588\u2588     | 866/1712 [05:31<04:58,  2.83it/s]"
          ]
        },
        {
          "output_type": "stream",
          "name": "stderr",
          "text": [
            "\rExtracting test embeddings (flip):  51%|\u2588\u2588\u2588\u2588\u2588     | 867/1712 [05:32<05:45,  2.44it/s]"
          ]
        },
        {
          "output_type": "stream",
          "name": "stderr",
          "text": [
            "\rExtracting test embeddings (flip):  51%|\u2588\u2588\u2588\u2588\u2588     | 868/1712 [05:32<05:19,  2.64it/s]"
          ]
        },
        {
          "output_type": "stream",
          "name": "stderr",
          "text": [
            "\rExtracting test embeddings (flip):  51%|\u2588\u2588\u2588\u2588\u2588     | 869/1712 [05:33<05:12,  2.69it/s]"
          ]
        },
        {
          "output_type": "stream",
          "name": "stderr",
          "text": [
            "\rExtracting test embeddings (flip):  51%|\u2588\u2588\u2588\u2588\u2588     | 870/1712 [05:33<04:55,  2.85it/s]"
          ]
        },
        {
          "output_type": "stream",
          "name": "stderr",
          "text": [
            "\rExtracting test embeddings (flip):  51%|\u2588\u2588\u2588\u2588\u2588     | 871/1712 [05:33<05:44,  2.44it/s]"
          ]
        },
        {
          "output_type": "stream",
          "name": "stderr",
          "text": [
            "\rExtracting test embeddings (flip):  51%|\u2588\u2588\u2588\u2588\u2588     | 872/1712 [05:34<05:18,  2.64it/s]"
          ]
        },
        {
          "output_type": "stream",
          "name": "stderr",
          "text": [
            "\rExtracting test embeddings (flip):  51%|\u2588\u2588\u2588\u2588\u2588     | 873/1712 [05:34<05:08,  2.72it/s]"
          ]
        },
        {
          "output_type": "stream",
          "name": "stderr",
          "text": [
            "\rExtracting test embeddings (flip):  51%|\u2588\u2588\u2588\u2588\u2588     | 874/1712 [05:34<04:52,  2.86it/s]"
          ]
        },
        {
          "output_type": "stream",
          "name": "stderr",
          "text": [
            "\rExtracting test embeddings (flip):  51%|\u2588\u2588\u2588\u2588\u2588     | 875/1712 [05:35<05:44,  2.43it/s]"
          ]
        },
        {
          "output_type": "stream",
          "name": "stderr",
          "text": [
            "\rExtracting test embeddings (flip):  51%|\u2588\u2588\u2588\u2588\u2588     | 876/1712 [05:35<05:17,  2.63it/s]"
          ]
        },
        {
          "output_type": "stream",
          "name": "stderr",
          "text": [
            "\rExtracting test embeddings (flip):  51%|\u2588\u2588\u2588\u2588\u2588     | 877/1712 [05:36<05:08,  2.70it/s]"
          ]
        },
        {
          "output_type": "stream",
          "name": "stderr",
          "text": [
            "\rExtracting test embeddings (flip):  51%|\u2588\u2588\u2588\u2588\u2588\u258f    | 878/1712 [05:36<04:52,  2.85it/s]"
          ]
        },
        {
          "output_type": "stream",
          "name": "stderr",
          "text": [
            "\rExtracting test embeddings (flip):  51%|\u2588\u2588\u2588\u2588\u2588\u258f    | 879/1712 [05:36<05:40,  2.44it/s]"
          ]
        },
        {
          "output_type": "stream",
          "name": "stderr",
          "text": [
            "\rExtracting test embeddings (flip):  51%|\u2588\u2588\u2588\u2588\u2588\u258f    | 880/1712 [05:37<05:15,  2.64it/s]"
          ]
        },
        {
          "output_type": "stream",
          "name": "stderr",
          "text": [
            "\rExtracting test embeddings (flip):  51%|\u2588\u2588\u2588\u2588\u2588\u258f    | 881/1712 [05:37<05:05,  2.72it/s]"
          ]
        },
        {
          "output_type": "stream",
          "name": "stderr",
          "text": [
            "\rExtracting test embeddings (flip):  52%|\u2588\u2588\u2588\u2588\u2588\u258f    | 882/1712 [05:37<04:49,  2.87it/s]"
          ]
        },
        {
          "output_type": "stream",
          "name": "stderr",
          "text": [
            "\rExtracting test embeddings (flip):  52%|\u2588\u2588\u2588\u2588\u2588\u258f    | 883/1712 [05:38<05:40,  2.43it/s]"
          ]
        },
        {
          "output_type": "stream",
          "name": "stderr",
          "text": [
            "\rExtracting test embeddings (flip):  52%|\u2588\u2588\u2588\u2588\u2588\u258f    | 884/1712 [05:38<05:14,  2.64it/s]"
          ]
        },
        {
          "output_type": "stream",
          "name": "stderr",
          "text": [
            "\rExtracting test embeddings (flip):  52%|\u2588\u2588\u2588\u2588\u2588\u258f    | 885/1712 [05:39<05:03,  2.72it/s]"
          ]
        },
        {
          "output_type": "stream",
          "name": "stderr",
          "text": [
            "\rExtracting test embeddings (flip):  52%|\u2588\u2588\u2588\u2588\u2588\u258f    | 886/1712 [05:39<04:48,  2.87it/s]"
          ]
        },
        {
          "output_type": "stream",
          "name": "stderr",
          "text": [
            "\rExtracting test embeddings (flip):  52%|\u2588\u2588\u2588\u2588\u2588\u258f    | 887/1712 [05:39<05:37,  2.45it/s]"
          ]
        },
        {
          "output_type": "stream",
          "name": "stderr",
          "text": [
            "\rExtracting test embeddings (flip):  52%|\u2588\u2588\u2588\u2588\u2588\u258f    | 888/1712 [05:40<05:11,  2.65it/s]"
          ]
        },
        {
          "output_type": "stream",
          "name": "stderr",
          "text": [
            "\rExtracting test embeddings (flip):  52%|\u2588\u2588\u2588\u2588\u2588\u258f    | 889/1712 [05:40<05:00,  2.74it/s]"
          ]
        },
        {
          "output_type": "stream",
          "name": "stderr",
          "text": [
            "\rExtracting test embeddings (flip):  52%|\u2588\u2588\u2588\u2588\u2588\u258f    | 890/1712 [05:40<04:45,  2.88it/s]"
          ]
        },
        {
          "output_type": "stream",
          "name": "stderr",
          "text": [
            "\rExtracting test embeddings (flip):  52%|\u2588\u2588\u2588\u2588\u2588\u258f    | 891/1712 [05:41<05:35,  2.45it/s]"
          ]
        },
        {
          "output_type": "stream",
          "name": "stderr",
          "text": [
            "\rExtracting test embeddings (flip):  52%|\u2588\u2588\u2588\u2588\u2588\u258f    | 892/1712 [05:41<05:09,  2.65it/s]"
          ]
        },
        {
          "output_type": "stream",
          "name": "stderr",
          "text": [
            "\rExtracting test embeddings (flip):  52%|\u2588\u2588\u2588\u2588\u2588\u258f    | 893/1712 [05:42<05:00,  2.73it/s]"
          ]
        },
        {
          "output_type": "stream",
          "name": "stderr",
          "text": [
            "\rExtracting test embeddings (flip):  52%|\u2588\u2588\u2588\u2588\u2588\u258f    | 894/1712 [05:42<04:45,  2.87it/s]"
          ]
        },
        {
          "output_type": "stream",
          "name": "stderr",
          "text": [
            "\rExtracting test embeddings (flip):  52%|\u2588\u2588\u2588\u2588\u2588\u258f    | 895/1712 [05:42<05:33,  2.45it/s]"
          ]
        },
        {
          "output_type": "stream",
          "name": "stderr",
          "text": [
            "\rExtracting test embeddings (flip):  52%|\u2588\u2588\u2588\u2588\u2588\u258f    | 896/1712 [05:43<05:07,  2.65it/s]"
          ]
        },
        {
          "output_type": "stream",
          "name": "stderr",
          "text": [
            "\rExtracting test embeddings (flip):  52%|\u2588\u2588\u2588\u2588\u2588\u258f    | 897/1712 [05:43<04:55,  2.75it/s]"
          ]
        },
        {
          "output_type": "stream",
          "name": "stderr",
          "text": [
            "\rExtracting test embeddings (flip):  52%|\u2588\u2588\u2588\u2588\u2588\u258f    | 898/1712 [05:43<04:41,  2.89it/s]"
          ]
        },
        {
          "output_type": "stream",
          "name": "stderr",
          "text": [
            "\rExtracting test embeddings (flip):  53%|\u2588\u2588\u2588\u2588\u2588\u258e    | 899/1712 [05:44<05:29,  2.47it/s]"
          ]
        },
        {
          "output_type": "stream",
          "name": "stderr",
          "text": [
            "\rExtracting test embeddings (flip):  53%|\u2588\u2588\u2588\u2588\u2588\u258e    | 900/1712 [05:44<05:05,  2.66it/s]"
          ]
        },
        {
          "output_type": "stream",
          "name": "stderr",
          "text": [
            "\rExtracting test embeddings (flip):  53%|\u2588\u2588\u2588\u2588\u2588\u258e    | 901/1712 [05:45<05:02,  2.68it/s]"
          ]
        },
        {
          "output_type": "stream",
          "name": "stderr",
          "text": [
            "\rExtracting test embeddings (flip):  53%|\u2588\u2588\u2588\u2588\u2588\u258e    | 902/1712 [05:45<04:45,  2.83it/s]"
          ]
        },
        {
          "output_type": "stream",
          "name": "stderr",
          "text": [
            "\rExtracting test embeddings (flip):  53%|\u2588\u2588\u2588\u2588\u2588\u258e    | 903/1712 [05:45<05:25,  2.48it/s]"
          ]
        },
        {
          "output_type": "stream",
          "name": "stderr",
          "text": [
            "\rExtracting test embeddings (flip):  53%|\u2588\u2588\u2588\u2588\u2588\u258e    | 904/1712 [05:46<05:02,  2.67it/s]"
          ]
        },
        {
          "output_type": "stream",
          "name": "stderr",
          "text": [
            "\rExtracting test embeddings (flip):  53%|\u2588\u2588\u2588\u2588\u2588\u258e    | 905/1712 [05:46<05:00,  2.68it/s]"
          ]
        },
        {
          "output_type": "stream",
          "name": "stderr",
          "text": [
            "\rExtracting test embeddings (flip):  53%|\u2588\u2588\u2588\u2588\u2588\u258e    | 906/1712 [05:46<04:44,  2.83it/s]"
          ]
        },
        {
          "output_type": "stream",
          "name": "stderr",
          "text": [
            "\rExtracting test embeddings (flip):  53%|\u2588\u2588\u2588\u2588\u2588\u258e    | 907/1712 [05:47<05:22,  2.49it/s]"
          ]
        },
        {
          "output_type": "stream",
          "name": "stderr",
          "text": [
            "\rExtracting test embeddings (flip):  53%|\u2588\u2588\u2588\u2588\u2588\u258e    | 908/1712 [05:47<04:59,  2.69it/s]"
          ]
        },
        {
          "output_type": "stream",
          "name": "stderr",
          "text": [
            "\rExtracting test embeddings (flip):  53%|\u2588\u2588\u2588\u2588\u2588\u258e    | 909/1712 [05:48<05:04,  2.64it/s]"
          ]
        },
        {
          "output_type": "stream",
          "name": "stderr",
          "text": [
            "\rExtracting test embeddings (flip):  53%|\u2588\u2588\u2588\u2588\u2588\u258e    | 910/1712 [05:48<04:46,  2.80it/s]"
          ]
        },
        {
          "output_type": "stream",
          "name": "stderr",
          "text": [
            "\rExtracting test embeddings (flip):  53%|\u2588\u2588\u2588\u2588\u2588\u258e    | 911/1712 [05:48<05:14,  2.54it/s]"
          ]
        },
        {
          "output_type": "stream",
          "name": "stderr",
          "text": [
            "\rExtracting test embeddings (flip):  53%|\u2588\u2588\u2588\u2588\u2588\u258e    | 912/1712 [05:49<04:53,  2.73it/s]"
          ]
        },
        {
          "output_type": "stream",
          "name": "stderr",
          "text": [
            "\rExtracting test embeddings (flip):  53%|\u2588\u2588\u2588\u2588\u2588\u258e    | 913/1712 [05:49<05:03,  2.63it/s]"
          ]
        },
        {
          "output_type": "stream",
          "name": "stderr",
          "text": [
            "\rExtracting test embeddings (flip):  53%|\u2588\u2588\u2588\u2588\u2588\u258e    | 914/1712 [05:49<04:45,  2.79it/s]"
          ]
        },
        {
          "output_type": "stream",
          "name": "stderr",
          "text": [
            "\rExtracting test embeddings (flip):  53%|\u2588\u2588\u2588\u2588\u2588\u258e    | 915/1712 [05:50<05:12,  2.55it/s]"
          ]
        },
        {
          "output_type": "stream",
          "name": "stderr",
          "text": [
            "\rExtracting test embeddings (flip):  54%|\u2588\u2588\u2588\u2588\u2588\u258e    | 916/1712 [05:50<04:51,  2.73it/s]"
          ]
        },
        {
          "output_type": "stream",
          "name": "stderr",
          "text": [
            "\rExtracting test embeddings (flip):  54%|\u2588\u2588\u2588\u2588\u2588\u258e    | 917/1712 [05:51<05:02,  2.63it/s]"
          ]
        },
        {
          "output_type": "stream",
          "name": "stderr",
          "text": [
            "\rExtracting test embeddings (flip):  54%|\u2588\u2588\u2588\u2588\u2588\u258e    | 918/1712 [05:51<04:44,  2.79it/s]"
          ]
        },
        {
          "output_type": "stream",
          "name": "stderr",
          "text": [
            "\rExtracting test embeddings (flip):  54%|\u2588\u2588\u2588\u2588\u2588\u258e    | 919/1712 [05:51<05:06,  2.58it/s]"
          ]
        },
        {
          "output_type": "stream",
          "name": "stderr",
          "text": [
            "\rExtracting test embeddings (flip):  54%|\u2588\u2588\u2588\u2588\u2588\u258e    | 920/1712 [05:52<04:47,  2.76it/s]"
          ]
        },
        {
          "output_type": "stream",
          "name": "stderr",
          "text": [
            "\rExtracting test embeddings (flip):  54%|\u2588\u2588\u2588\u2588\u2588\u258d    | 921/1712 [05:52<05:00,  2.63it/s]"
          ]
        },
        {
          "output_type": "stream",
          "name": "stderr",
          "text": [
            "\rExtracting test embeddings (flip):  54%|\u2588\u2588\u2588\u2588\u2588\u258d    | 922/1712 [05:52<04:43,  2.79it/s]"
          ]
        },
        {
          "output_type": "stream",
          "name": "stderr",
          "text": [
            "\rExtracting test embeddings (flip):  54%|\u2588\u2588\u2588\u2588\u2588\u258d    | 923/1712 [05:53<05:07,  2.56it/s]"
          ]
        },
        {
          "output_type": "stream",
          "name": "stderr",
          "text": [
            "\rExtracting test embeddings (flip):  54%|\u2588\u2588\u2588\u2588\u2588\u258d    | 924/1712 [05:53<04:46,  2.75it/s]"
          ]
        },
        {
          "output_type": "stream",
          "name": "stderr",
          "text": [
            "\rExtracting test embeddings (flip):  54%|\u2588\u2588\u2588\u2588\u2588\u258d    | 925/1712 [05:54<05:00,  2.62it/s]"
          ]
        },
        {
          "output_type": "stream",
          "name": "stderr",
          "text": [
            "\rExtracting test embeddings (flip):  54%|\u2588\u2588\u2588\u2588\u2588\u258d    | 926/1712 [05:54<04:42,  2.78it/s]"
          ]
        },
        {
          "output_type": "stream",
          "name": "stderr",
          "text": [
            "\rExtracting test embeddings (flip):  54%|\u2588\u2588\u2588\u2588\u2588\u258d    | 927/1712 [05:54<05:10,  2.53it/s]"
          ]
        },
        {
          "output_type": "stream",
          "name": "stderr",
          "text": [
            "\rExtracting test embeddings (flip):  54%|\u2588\u2588\u2588\u2588\u2588\u258d    | 928/1712 [05:55<04:49,  2.71it/s]"
          ]
        },
        {
          "output_type": "stream",
          "name": "stderr",
          "text": [
            "\rExtracting test embeddings (flip):  54%|\u2588\u2588\u2588\u2588\u2588\u258d    | 929/1712 [05:55<04:53,  2.67it/s]"
          ]
        },
        {
          "output_type": "stream",
          "name": "stderr",
          "text": [
            "\rExtracting test embeddings (flip):  54%|\u2588\u2588\u2588\u2588\u2588\u258d    | 930/1712 [05:55<04:37,  2.82it/s]"
          ]
        },
        {
          "output_type": "stream",
          "name": "stderr",
          "text": [
            "\rExtracting test embeddings (flip):  54%|\u2588\u2588\u2588\u2588\u2588\u258d    | 931/1712 [05:56<05:09,  2.52it/s]"
          ]
        },
        {
          "output_type": "stream",
          "name": "stderr",
          "text": [
            "\rExtracting test embeddings (flip):  54%|\u2588\u2588\u2588\u2588\u2588\u258d    | 932/1712 [05:56<04:49,  2.70it/s]"
          ]
        },
        {
          "output_type": "stream",
          "name": "stderr",
          "text": [
            "\rExtracting test embeddings (flip):  54%|\u2588\u2588\u2588\u2588\u2588\u258d    | 933/1712 [05:57<04:52,  2.67it/s]"
          ]
        },
        {
          "output_type": "stream",
          "name": "stderr",
          "text": [
            "\rExtracting test embeddings (flip):  55%|\u2588\u2588\u2588\u2588\u2588\u258d    | 934/1712 [05:57<04:35,  2.82it/s]"
          ]
        },
        {
          "output_type": "stream",
          "name": "stderr",
          "text": [
            "\rExtracting test embeddings (flip):  55%|\u2588\u2588\u2588\u2588\u2588\u258d    | 935/1712 [05:57<05:03,  2.56it/s]"
          ]
        },
        {
          "output_type": "stream",
          "name": "stderr",
          "text": [
            "\rExtracting test embeddings (flip):  55%|\u2588\u2588\u2588\u2588\u2588\u258d    | 936/1712 [05:58<04:44,  2.73it/s]"
          ]
        },
        {
          "output_type": "stream",
          "name": "stderr",
          "text": [
            "\rExtracting test embeddings (flip):  55%|\u2588\u2588\u2588\u2588\u2588\u258d    | 937/1712 [05:58<04:53,  2.64it/s]"
          ]
        },
        {
          "output_type": "stream",
          "name": "stderr",
          "text": [
            "\rExtracting test embeddings (flip):  55%|\u2588\u2588\u2588\u2588\u2588\u258d    | 938/1712 [05:58<04:35,  2.81it/s]"
          ]
        },
        {
          "output_type": "stream",
          "name": "stderr",
          "text": [
            "\rExtracting test embeddings (flip):  55%|\u2588\u2588\u2588\u2588\u2588\u258d    | 939/1712 [05:59<05:02,  2.56it/s]"
          ]
        },
        {
          "output_type": "stream",
          "name": "stderr",
          "text": [
            "\rExtracting test embeddings (flip):  55%|\u2588\u2588\u2588\u2588\u2588\u258d    | 940/1712 [05:59<04:41,  2.74it/s]"
          ]
        },
        {
          "output_type": "stream",
          "name": "stderr",
          "text": [
            "\rExtracting test embeddings (flip):  55%|\u2588\u2588\u2588\u2588\u2588\u258d    | 941/1712 [06:00<04:50,  2.65it/s]"
          ]
        },
        {
          "output_type": "stream",
          "name": "stderr",
          "text": [
            "\rExtracting test embeddings (flip):  55%|\u2588\u2588\u2588\u2588\u2588\u258c    | 942/1712 [06:00<04:34,  2.80it/s]"
          ]
        },
        {
          "output_type": "stream",
          "name": "stderr",
          "text": [
            "\rExtracting test embeddings (flip):  55%|\u2588\u2588\u2588\u2588\u2588\u258c    | 943/1712 [06:00<05:07,  2.50it/s]"
          ]
        },
        {
          "output_type": "stream",
          "name": "stderr",
          "text": [
            "\rExtracting test embeddings (flip):  55%|\u2588\u2588\u2588\u2588\u2588\u258c    | 944/1712 [06:01<04:45,  2.69it/s]"
          ]
        },
        {
          "output_type": "stream",
          "name": "stderr",
          "text": [
            "\rExtracting test embeddings (flip):  55%|\u2588\u2588\u2588\u2588\u2588\u258c    | 945/1712 [06:01<04:46,  2.68it/s]"
          ]
        },
        {
          "output_type": "stream",
          "name": "stderr",
          "text": [
            "\rExtracting test embeddings (flip):  55%|\u2588\u2588\u2588\u2588\u2588\u258c    | 946/1712 [06:01<04:30,  2.83it/s]"
          ]
        },
        {
          "output_type": "stream",
          "name": "stderr",
          "text": [
            "\rExtracting test embeddings (flip):  55%|\u2588\u2588\u2588\u2588\u2588\u258c    | 947/1712 [06:02<05:09,  2.47it/s]"
          ]
        },
        {
          "output_type": "stream",
          "name": "stderr",
          "text": [
            "\rExtracting test embeddings (flip):  55%|\u2588\u2588\u2588\u2588\u2588\u258c    | 948/1712 [06:02<04:46,  2.66it/s]"
          ]
        },
        {
          "output_type": "stream",
          "name": "stderr",
          "text": [
            "\rExtracting test embeddings (flip):  55%|\u2588\u2588\u2588\u2588\u2588\u258c    | 949/1712 [06:03<04:38,  2.74it/s]"
          ]
        },
        {
          "output_type": "stream",
          "name": "stderr",
          "text": [
            "\rExtracting test embeddings (flip):  55%|\u2588\u2588\u2588\u2588\u2588\u258c    | 950/1712 [06:03<04:24,  2.88it/s]"
          ]
        },
        {
          "output_type": "stream",
          "name": "stderr",
          "text": [
            "\rExtracting test embeddings (flip):  56%|\u2588\u2588\u2588\u2588\u2588\u258c    | 951/1712 [06:03<05:15,  2.41it/s]"
          ]
        },
        {
          "output_type": "stream",
          "name": "stderr",
          "text": [
            "\rExtracting test embeddings (flip):  56%|\u2588\u2588\u2588\u2588\u2588\u258c    | 952/1712 [06:04<04:50,  2.62it/s]"
          ]
        },
        {
          "output_type": "stream",
          "name": "stderr",
          "text": [
            "\rExtracting test embeddings (flip):  56%|\u2588\u2588\u2588\u2588\u2588\u258c    | 953/1712 [06:04<04:36,  2.74it/s]"
          ]
        },
        {
          "output_type": "stream",
          "name": "stderr",
          "text": [
            "\rExtracting test embeddings (flip):  56%|\u2588\u2588\u2588\u2588\u2588\u258c    | 954/1712 [06:04<04:23,  2.87it/s]"
          ]
        },
        {
          "output_type": "stream",
          "name": "stderr",
          "text": [
            "\rExtracting test embeddings (flip):  56%|\u2588\u2588\u2588\u2588\u2588\u258c    | 955/1712 [06:05<05:15,  2.40it/s]"
          ]
        },
        {
          "output_type": "stream",
          "name": "stderr",
          "text": [
            "\rExtracting test embeddings (flip):  56%|\u2588\u2588\u2588\u2588\u2588\u258c    | 956/1712 [06:05<04:49,  2.61it/s]"
          ]
        },
        {
          "output_type": "stream",
          "name": "stderr",
          "text": [
            "\rExtracting test embeddings (flip):  56%|\u2588\u2588\u2588\u2588\u2588\u258c    | 957/1712 [06:06<04:34,  2.75it/s]"
          ]
        },
        {
          "output_type": "stream",
          "name": "stderr",
          "text": [
            "\rExtracting test embeddings (flip):  56%|\u2588\u2588\u2588\u2588\u2588\u258c    | 958/1712 [06:06<04:21,  2.89it/s]"
          ]
        },
        {
          "output_type": "stream",
          "name": "stderr",
          "text": [
            "\rExtracting test embeddings (flip):  56%|\u2588\u2588\u2588\u2588\u2588\u258c    | 959/1712 [06:06<05:16,  2.38it/s]"
          ]
        },
        {
          "output_type": "stream",
          "name": "stderr",
          "text": [
            "\rExtracting test embeddings (flip):  56%|\u2588\u2588\u2588\u2588\u2588\u258c    | 960/1712 [06:07<04:50,  2.59it/s]"
          ]
        },
        {
          "output_type": "stream",
          "name": "stderr",
          "text": [
            "\rExtracting test embeddings (flip):  56%|\u2588\u2588\u2588\u2588\u2588\u258c    | 961/1712 [06:07<04:35,  2.73it/s]"
          ]
        },
        {
          "output_type": "stream",
          "name": "stderr",
          "text": [
            "\rExtracting test embeddings (flip):  56%|\u2588\u2588\u2588\u2588\u2588\u258c    | 962/1712 [06:07<04:21,  2.87it/s]"
          ]
        },
        {
          "output_type": "stream",
          "name": "stderr",
          "text": [
            "\rExtracting test embeddings (flip):  56%|\u2588\u2588\u2588\u2588\u2588\u258b    | 963/1712 [06:08<05:11,  2.40it/s]"
          ]
        },
        {
          "output_type": "stream",
          "name": "stderr",
          "text": [
            "\rExtracting test embeddings (flip):  56%|\u2588\u2588\u2588\u2588\u2588\u258b    | 964/1712 [06:08<04:47,  2.60it/s]"
          ]
        },
        {
          "output_type": "stream",
          "name": "stderr",
          "text": [
            "\rExtracting test embeddings (flip):  56%|\u2588\u2588\u2588\u2588\u2588\u258b    | 965/1712 [06:09<04:32,  2.75it/s]"
          ]
        },
        {
          "output_type": "stream",
          "name": "stderr",
          "text": [
            "\rExtracting test embeddings (flip):  56%|\u2588\u2588\u2588\u2588\u2588\u258b    | 966/1712 [06:09<04:18,  2.88it/s]"
          ]
        },
        {
          "output_type": "stream",
          "name": "stderr",
          "text": [
            "\rExtracting test embeddings (flip):  56%|\u2588\u2588\u2588\u2588\u2588\u258b    | 967/1712 [06:09<05:06,  2.43it/s]"
          ]
        },
        {
          "output_type": "stream",
          "name": "stderr",
          "text": [
            "\rExtracting test embeddings (flip):  57%|\u2588\u2588\u2588\u2588\u2588\u258b    | 968/1712 [06:10<04:42,  2.64it/s]"
          ]
        },
        {
          "output_type": "stream",
          "name": "stderr",
          "text": [
            "\rExtracting test embeddings (flip):  57%|\u2588\u2588\u2588\u2588\u2588\u258b    | 969/1712 [06:10<04:29,  2.76it/s]"
          ]
        },
        {
          "output_type": "stream",
          "name": "stderr",
          "text": [
            "\rExtracting test embeddings (flip):  57%|\u2588\u2588\u2588\u2588\u2588\u258b    | 970/1712 [06:10<04:17,  2.89it/s]"
          ]
        },
        {
          "output_type": "stream",
          "name": "stderr",
          "text": [
            "\rExtracting test embeddings (flip):  57%|\u2588\u2588\u2588\u2588\u2588\u258b    | 971/1712 [06:11<05:04,  2.43it/s]"
          ]
        },
        {
          "output_type": "stream",
          "name": "stderr",
          "text": [
            "\rExtracting test embeddings (flip):  57%|\u2588\u2588\u2588\u2588\u2588\u258b    | 972/1712 [06:11<04:40,  2.64it/s]"
          ]
        },
        {
          "output_type": "stream",
          "name": "stderr",
          "text": [
            "\rExtracting test embeddings (flip):  57%|\u2588\u2588\u2588\u2588\u2588\u258b    | 973/1712 [06:12<04:26,  2.77it/s]"
          ]
        },
        {
          "output_type": "stream",
          "name": "stderr",
          "text": [
            "\rExtracting test embeddings (flip):  57%|\u2588\u2588\u2588\u2588\u2588\u258b    | 974/1712 [06:12<04:14,  2.90it/s]"
          ]
        },
        {
          "output_type": "stream",
          "name": "stderr",
          "text": [
            "\rExtracting test embeddings (flip):  57%|\u2588\u2588\u2588\u2588\u2588\u258b    | 975/1712 [06:12<05:01,  2.44it/s]"
          ]
        },
        {
          "output_type": "stream",
          "name": "stderr",
          "text": [
            "\rExtracting test embeddings (flip):  57%|\u2588\u2588\u2588\u2588\u2588\u258b    | 976/1712 [06:13<04:38,  2.64it/s]"
          ]
        },
        {
          "output_type": "stream",
          "name": "stderr",
          "text": [
            "\rExtracting test embeddings (flip):  57%|\u2588\u2588\u2588\u2588\u2588\u258b    | 977/1712 [06:13<04:24,  2.78it/s]"
          ]
        },
        {
          "output_type": "stream",
          "name": "stderr",
          "text": [
            "\rExtracting test embeddings (flip):  57%|\u2588\u2588\u2588\u2588\u2588\u258b    | 978/1712 [06:13<04:12,  2.91it/s]"
          ]
        },
        {
          "output_type": "stream",
          "name": "stderr",
          "text": [
            "\rExtracting test embeddings (flip):  57%|\u2588\u2588\u2588\u2588\u2588\u258b    | 979/1712 [06:14<04:59,  2.45it/s]"
          ]
        },
        {
          "output_type": "stream",
          "name": "stderr",
          "text": [
            "\rExtracting test embeddings (flip):  57%|\u2588\u2588\u2588\u2588\u2588\u258b    | 980/1712 [06:14<04:35,  2.65it/s]"
          ]
        },
        {
          "output_type": "stream",
          "name": "stderr",
          "text": [
            "\rExtracting test embeddings (flip):  57%|\u2588\u2588\u2588\u2588\u2588\u258b    | 981/1712 [06:15<04:22,  2.78it/s]"
          ]
        },
        {
          "output_type": "stream",
          "name": "stderr",
          "text": [
            "\rExtracting test embeddings (flip):  57%|\u2588\u2588\u2588\u2588\u2588\u258b    | 982/1712 [06:15<04:11,  2.90it/s]"
          ]
        },
        {
          "output_type": "stream",
          "name": "stderr",
          "text": [
            "\rExtracting test embeddings (flip):  57%|\u2588\u2588\u2588\u2588\u2588\u258b    | 983/1712 [06:15<04:59,  2.43it/s]"
          ]
        },
        {
          "output_type": "stream",
          "name": "stderr",
          "text": [
            "\rExtracting test embeddings (flip):  57%|\u2588\u2588\u2588\u2588\u2588\u258b    | 984/1712 [06:16<04:35,  2.64it/s]"
          ]
        },
        {
          "output_type": "stream",
          "name": "stderr",
          "text": [
            "\rExtracting test embeddings (flip):  58%|\u2588\u2588\u2588\u2588\u2588\u258a    | 985/1712 [06:16<04:22,  2.77it/s]"
          ]
        },
        {
          "output_type": "stream",
          "name": "stderr",
          "text": [
            "\rExtracting test embeddings (flip):  58%|\u2588\u2588\u2588\u2588\u2588\u258a    | 986/1712 [06:16<04:10,  2.90it/s]"
          ]
        },
        {
          "output_type": "stream",
          "name": "stderr",
          "text": [
            "\rExtracting test embeddings (flip):  58%|\u2588\u2588\u2588\u2588\u2588\u258a    | 987/1712 [06:17<04:55,  2.45it/s]"
          ]
        },
        {
          "output_type": "stream",
          "name": "stderr",
          "text": [
            "\rExtracting test embeddings (flip):  58%|\u2588\u2588\u2588\u2588\u2588\u258a    | 988/1712 [06:17<04:32,  2.65it/s]"
          ]
        },
        {
          "output_type": "stream",
          "name": "stderr",
          "text": [
            "\rExtracting test embeddings (flip):  58%|\u2588\u2588\u2588\u2588\u2588\u258a    | 989/1712 [06:18<04:20,  2.78it/s]"
          ]
        },
        {
          "output_type": "stream",
          "name": "stderr",
          "text": [
            "\rExtracting test embeddings (flip):  58%|\u2588\u2588\u2588\u2588\u2588\u258a    | 990/1712 [06:18<04:08,  2.90it/s]"
          ]
        },
        {
          "output_type": "stream",
          "name": "stderr",
          "text": [
            "\rExtracting test embeddings (flip):  58%|\u2588\u2588\u2588\u2588\u2588\u258a    | 991/1712 [06:18<04:55,  2.44it/s]"
          ]
        },
        {
          "output_type": "stream",
          "name": "stderr",
          "text": [
            "\rExtracting test embeddings (flip):  58%|\u2588\u2588\u2588\u2588\u2588\u258a    | 992/1712 [06:19<04:32,  2.65it/s]"
          ]
        },
        {
          "output_type": "stream",
          "name": "stderr",
          "text": [
            "\rExtracting test embeddings (flip):  58%|\u2588\u2588\u2588\u2588\u2588\u258a    | 993/1712 [06:19<04:19,  2.77it/s]"
          ]
        },
        {
          "output_type": "stream",
          "name": "stderr",
          "text": [
            "\rExtracting test embeddings (flip):  58%|\u2588\u2588\u2588\u2588\u2588\u258a    | 994/1712 [06:19<04:08,  2.89it/s]"
          ]
        },
        {
          "output_type": "stream",
          "name": "stderr",
          "text": [
            "\rExtracting test embeddings (flip):  58%|\u2588\u2588\u2588\u2588\u2588\u258a    | 995/1712 [06:20<04:52,  2.45it/s]"
          ]
        },
        {
          "output_type": "stream",
          "name": "stderr",
          "text": [
            "\rExtracting test embeddings (flip):  58%|\u2588\u2588\u2588\u2588\u2588\u258a    | 996/1712 [06:20<04:30,  2.65it/s]"
          ]
        },
        {
          "output_type": "stream",
          "name": "stderr",
          "text": [
            "\rExtracting test embeddings (flip):  58%|\u2588\u2588\u2588\u2588\u2588\u258a    | 997/1712 [06:21<04:25,  2.69it/s]"
          ]
        },
        {
          "output_type": "stream",
          "name": "stderr",
          "text": [
            "\rExtracting test embeddings (flip):  58%|\u2588\u2588\u2588\u2588\u2588\u258a    | 998/1712 [06:21<04:11,  2.84it/s]"
          ]
        },
        {
          "output_type": "stream",
          "name": "stderr",
          "text": [
            "\rExtracting test embeddings (flip):  58%|\u2588\u2588\u2588\u2588\u2588\u258a    | 999/1712 [06:21<04:50,  2.45it/s]"
          ]
        },
        {
          "output_type": "stream",
          "name": "stderr",
          "text": [
            "\rExtracting test embeddings (flip):  58%|\u2588\u2588\u2588\u2588\u2588\u258a    | 1000/1712 [06:22<04:28,  2.65it/s]"
          ]
        },
        {
          "output_type": "stream",
          "name": "stderr",
          "text": [
            "\rExtracting test embeddings (flip):  58%|\u2588\u2588\u2588\u2588\u2588\u258a    | 1001/1712 [06:22<04:23,  2.70it/s]"
          ]
        },
        {
          "output_type": "stream",
          "name": "stderr",
          "text": [
            "\rExtracting test embeddings (flip):  59%|\u2588\u2588\u2588\u2588\u2588\u258a    | 1002/1712 [06:22<04:09,  2.85it/s]"
          ]
        },
        {
          "output_type": "stream",
          "name": "stderr",
          "text": [
            "\rExtracting test embeddings (flip):  59%|\u2588\u2588\u2588\u2588\u2588\u258a    | 1003/1712 [06:23<04:47,  2.46it/s]"
          ]
        },
        {
          "output_type": "stream",
          "name": "stderr",
          "text": [
            "\rExtracting test embeddings (flip):  59%|\u2588\u2588\u2588\u2588\u2588\u258a    | 1004/1712 [06:23<04:25,  2.66it/s]"
          ]
        },
        {
          "output_type": "stream",
          "name": "stderr",
          "text": [
            "\rExtracting test embeddings (flip):  59%|\u2588\u2588\u2588\u2588\u2588\u258a    | 1005/1712 [06:24<04:28,  2.64it/s]"
          ]
        },
        {
          "output_type": "stream",
          "name": "stderr",
          "text": [
            "\rExtracting test embeddings (flip):  59%|\u2588\u2588\u2588\u2588\u2588\u2589    | 1006/1712 [06:24<04:12,  2.79it/s]"
          ]
        },
        {
          "output_type": "stream",
          "name": "stderr",
          "text": [
            "\rExtracting test embeddings (flip):  59%|\u2588\u2588\u2588\u2588\u2588\u2589    | 1007/1712 [06:24<04:42,  2.49it/s]"
          ]
        },
        {
          "output_type": "stream",
          "name": "stderr",
          "text": [
            "\rExtracting test embeddings (flip):  59%|\u2588\u2588\u2588\u2588\u2588\u2589    | 1008/1712 [06:25<04:21,  2.69it/s]"
          ]
        },
        {
          "output_type": "stream",
          "name": "stderr",
          "text": [
            "\rExtracting test embeddings (flip):  59%|\u2588\u2588\u2588\u2588\u2588\u2589    | 1009/1712 [06:25<04:23,  2.67it/s]"
          ]
        },
        {
          "output_type": "stream",
          "name": "stderr",
          "text": [
            "\rExtracting test embeddings (flip):  59%|\u2588\u2588\u2588\u2588\u2588\u2589    | 1010/1712 [06:25<04:09,  2.82it/s]"
          ]
        },
        {
          "output_type": "stream",
          "name": "stderr",
          "text": [
            "\rExtracting test embeddings (flip):  59%|\u2588\u2588\u2588\u2588\u2588\u2589    | 1011/1712 [06:26<04:44,  2.47it/s]"
          ]
        },
        {
          "output_type": "stream",
          "name": "stderr",
          "text": [
            "\rExtracting test embeddings (flip):  59%|\u2588\u2588\u2588\u2588\u2588\u2589    | 1012/1712 [06:26<04:22,  2.67it/s]"
          ]
        },
        {
          "output_type": "stream",
          "name": "stderr",
          "text": [
            "\rExtracting test embeddings (flip):  59%|\u2588\u2588\u2588\u2588\u2588\u2589    | 1013/1712 [06:27<04:21,  2.67it/s]"
          ]
        },
        {
          "output_type": "stream",
          "name": "stderr",
          "text": [
            "\rExtracting test embeddings (flip):  59%|\u2588\u2588\u2588\u2588\u2588\u2589    | 1014/1712 [06:27<04:07,  2.83it/s]"
          ]
        },
        {
          "output_type": "stream",
          "name": "stderr",
          "text": [
            "\rExtracting test embeddings (flip):  59%|\u2588\u2588\u2588\u2588\u2588\u2589    | 1015/1712 [06:27<04:40,  2.49it/s]"
          ]
        },
        {
          "output_type": "stream",
          "name": "stderr",
          "text": [
            "\rExtracting test embeddings (flip):  59%|\u2588\u2588\u2588\u2588\u2588\u2589    | 1016/1712 [06:28<04:19,  2.68it/s]"
          ]
        },
        {
          "output_type": "stream",
          "name": "stderr",
          "text": [
            "\rExtracting test embeddings (flip):  59%|\u2588\u2588\u2588\u2588\u2588\u2589    | 1017/1712 [06:28<04:18,  2.69it/s]"
          ]
        },
        {
          "output_type": "stream",
          "name": "stderr",
          "text": [
            "\rExtracting test embeddings (flip):  59%|\u2588\u2588\u2588\u2588\u2588\u2589    | 1018/1712 [06:28<04:04,  2.84it/s]"
          ]
        },
        {
          "output_type": "stream",
          "name": "stderr",
          "text": [
            "\rExtracting test embeddings (flip):  60%|\u2588\u2588\u2588\u2588\u2588\u2589    | 1019/1712 [06:29<04:36,  2.51it/s]"
          ]
        },
        {
          "output_type": "stream",
          "name": "stderr",
          "text": [
            "\rExtracting test embeddings (flip):  60%|\u2588\u2588\u2588\u2588\u2588\u2589    | 1020/1712 [06:29<04:17,  2.69it/s]"
          ]
        },
        {
          "output_type": "stream",
          "name": "stderr",
          "text": [
            "\rExtracting test embeddings (flip):  60%|\u2588\u2588\u2588\u2588\u2588\u2589    | 1021/1712 [06:30<04:16,  2.69it/s]"
          ]
        },
        {
          "output_type": "stream",
          "name": "stderr",
          "text": [
            "\rExtracting test embeddings (flip):  60%|\u2588\u2588\u2588\u2588\u2588\u2589    | 1022/1712 [06:30<04:02,  2.84it/s]"
          ]
        },
        {
          "output_type": "stream",
          "name": "stderr",
          "text": [
            "\rExtracting test embeddings (flip):  60%|\u2588\u2588\u2588\u2588\u2588\u2589    | 1023/1712 [06:30<04:43,  2.43it/s]"
          ]
        },
        {
          "output_type": "stream",
          "name": "stderr",
          "text": [
            "\rExtracting test embeddings (flip):  60%|\u2588\u2588\u2588\u2588\u2588\u2589    | 1024/1712 [06:31<04:20,  2.64it/s]"
          ]
        },
        {
          "output_type": "stream",
          "name": "stderr",
          "text": [
            "\rExtracting test embeddings (flip):  60%|\u2588\u2588\u2588\u2588\u2588\u2589    | 1025/1712 [06:31<04:13,  2.71it/s]"
          ]
        },
        {
          "output_type": "stream",
          "name": "stderr",
          "text": [
            "\rExtracting test embeddings (flip):  60%|\u2588\u2588\u2588\u2588\u2588\u2589    | 1026/1712 [06:31<04:00,  2.85it/s]"
          ]
        },
        {
          "output_type": "stream",
          "name": "stderr",
          "text": [
            "\rExtracting test embeddings (flip):  60%|\u2588\u2588\u2588\u2588\u2588\u2589    | 1027/1712 [06:32<04:42,  2.42it/s]"
          ]
        },
        {
          "output_type": "stream",
          "name": "stderr",
          "text": [
            "\rExtracting test embeddings (flip):  60%|\u2588\u2588\u2588\u2588\u2588\u2588    | 1028/1712 [06:32<04:20,  2.63it/s]"
          ]
        },
        {
          "output_type": "stream",
          "name": "stderr",
          "text": [
            "\rExtracting test embeddings (flip):  60%|\u2588\u2588\u2588\u2588\u2588\u2588    | 1029/1712 [06:33<04:06,  2.77it/s]"
          ]
        },
        {
          "output_type": "stream",
          "name": "stderr",
          "text": [
            "\rExtracting test embeddings (flip):  60%|\u2588\u2588\u2588\u2588\u2588\u2588    | 1030/1712 [06:33<03:55,  2.90it/s]"
          ]
        },
        {
          "output_type": "stream",
          "name": "stderr",
          "text": [
            "\rExtracting test embeddings (flip):  60%|\u2588\u2588\u2588\u2588\u2588\u2588    | 1031/1712 [06:33<04:41,  2.42it/s]"
          ]
        },
        {
          "output_type": "stream",
          "name": "stderr",
          "text": [
            "\rExtracting test embeddings (flip):  60%|\u2588\u2588\u2588\u2588\u2588\u2588    | 1032/1712 [06:34<04:19,  2.62it/s]"
          ]
        },
        {
          "output_type": "stream",
          "name": "stderr",
          "text": [
            "\rExtracting test embeddings (flip):  60%|\u2588\u2588\u2588\u2588\u2588\u2588    | 1033/1712 [06:34<04:06,  2.76it/s]"
          ]
        },
        {
          "output_type": "stream",
          "name": "stderr",
          "text": [
            "\rExtracting test embeddings (flip):  60%|\u2588\u2588\u2588\u2588\u2588\u2588    | 1034/1712 [06:34<03:54,  2.89it/s]"
          ]
        },
        {
          "output_type": "stream",
          "name": "stderr",
          "text": [
            "\rExtracting test embeddings (flip):  60%|\u2588\u2588\u2588\u2588\u2588\u2588    | 1035/1712 [06:35<04:44,  2.38it/s]"
          ]
        },
        {
          "output_type": "stream",
          "name": "stderr",
          "text": [
            "\rExtracting test embeddings (flip):  61%|\u2588\u2588\u2588\u2588\u2588\u2588    | 1036/1712 [06:35<04:21,  2.59it/s]"
          ]
        },
        {
          "output_type": "stream",
          "name": "stderr",
          "text": [
            "\rExtracting test embeddings (flip):  61%|\u2588\u2588\u2588\u2588\u2588\u2588    | 1037/1712 [06:36<04:07,  2.73it/s]"
          ]
        },
        {
          "output_type": "stream",
          "name": "stderr",
          "text": [
            "\rExtracting test embeddings (flip):  61%|\u2588\u2588\u2588\u2588\u2588\u2588    | 1038/1712 [06:36<03:54,  2.87it/s]"
          ]
        },
        {
          "output_type": "stream",
          "name": "stderr",
          "text": [
            "\rExtracting test embeddings (flip):  61%|\u2588\u2588\u2588\u2588\u2588\u2588    | 1039/1712 [06:37<04:45,  2.35it/s]"
          ]
        },
        {
          "output_type": "stream",
          "name": "stderr",
          "text": [
            "\rExtracting test embeddings (flip):  61%|\u2588\u2588\u2588\u2588\u2588\u2588    | 1040/1712 [06:37<04:21,  2.57it/s]"
          ]
        },
        {
          "output_type": "stream",
          "name": "stderr",
          "text": [
            "\rExtracting test embeddings (flip):  61%|\u2588\u2588\u2588\u2588\u2588\u2588    | 1041/1712 [06:37<04:07,  2.71it/s]"
          ]
        },
        {
          "output_type": "stream",
          "name": "stderr",
          "text": [
            "\rExtracting test embeddings (flip):  61%|\u2588\u2588\u2588\u2588\u2588\u2588    | 1042/1712 [06:37<03:55,  2.85it/s]"
          ]
        },
        {
          "output_type": "stream",
          "name": "stderr",
          "text": [
            "\rExtracting test embeddings (flip):  61%|\u2588\u2588\u2588\u2588\u2588\u2588    | 1043/1712 [06:38<04:38,  2.41it/s]"
          ]
        },
        {
          "output_type": "stream",
          "name": "stderr",
          "text": [
            "\rExtracting test embeddings (flip):  61%|\u2588\u2588\u2588\u2588\u2588\u2588    | 1044/1712 [06:38<04:15,  2.61it/s]"
          ]
        },
        {
          "output_type": "stream",
          "name": "stderr",
          "text": [
            "\rExtracting test embeddings (flip):  61%|\u2588\u2588\u2588\u2588\u2588\u2588    | 1045/1712 [06:39<04:03,  2.74it/s]"
          ]
        },
        {
          "output_type": "stream",
          "name": "stderr",
          "text": [
            "\rExtracting test embeddings (flip):  61%|\u2588\u2588\u2588\u2588\u2588\u2588    | 1046/1712 [06:39<03:50,  2.88it/s]"
          ]
        },
        {
          "output_type": "stream",
          "name": "stderr",
          "text": [
            "\rExtracting test embeddings (flip):  61%|\u2588\u2588\u2588\u2588\u2588\u2588    | 1047/1712 [06:40<04:32,  2.44it/s]"
          ]
        },
        {
          "output_type": "stream",
          "name": "stderr",
          "text": [
            "\rExtracting test embeddings (flip):  61%|\u2588\u2588\u2588\u2588\u2588\u2588    | 1048/1712 [06:40<04:11,  2.64it/s]"
          ]
        },
        {
          "output_type": "stream",
          "name": "stderr",
          "text": [
            "\rExtracting test embeddings (flip):  61%|\u2588\u2588\u2588\u2588\u2588\u2588\u258f   | 1049/1712 [06:40<03:58,  2.78it/s]"
          ]
        },
        {
          "output_type": "stream",
          "name": "stderr",
          "text": [
            "\rExtracting test embeddings (flip):  61%|\u2588\u2588\u2588\u2588\u2588\u2588\u258f   | 1050/1712 [06:40<03:47,  2.91it/s]"
          ]
        },
        {
          "output_type": "stream",
          "name": "stderr",
          "text": [
            "\rExtracting test embeddings (flip):  61%|\u2588\u2588\u2588\u2588\u2588\u2588\u258f   | 1051/1712 [06:41<04:54,  2.24it/s]"
          ]
        },
        {
          "output_type": "stream",
          "name": "stderr",
          "text": [
            "\rExtracting test embeddings (flip):  61%|\u2588\u2588\u2588\u2588\u2588\u2588\u258f   | 1052/1712 [06:41<04:27,  2.47it/s]"
          ]
        },
        {
          "output_type": "stream",
          "name": "stderr",
          "text": [
            "\rExtracting test embeddings (flip):  62%|\u2588\u2588\u2588\u2588\u2588\u2588\u258f   | 1053/1712 [06:42<04:09,  2.64it/s]"
          ]
        },
        {
          "output_type": "stream",
          "name": "stderr",
          "text": [
            "\rExtracting test embeddings (flip):  62%|\u2588\u2588\u2588\u2588\u2588\u2588\u258f   | 1054/1712 [06:42<03:55,  2.80it/s]"
          ]
        },
        {
          "output_type": "stream",
          "name": "stderr",
          "text": [
            "\rExtracting test embeddings (flip):  62%|\u2588\u2588\u2588\u2588\u2588\u2588\u258f   | 1055/1712 [06:43<04:33,  2.40it/s]"
          ]
        },
        {
          "output_type": "stream",
          "name": "stderr",
          "text": [
            "\rExtracting test embeddings (flip):  62%|\u2588\u2588\u2588\u2588\u2588\u2588\u258f   | 1056/1712 [06:43<04:11,  2.61it/s]"
          ]
        },
        {
          "output_type": "stream",
          "name": "stderr",
          "text": [
            "\rExtracting test embeddings (flip):  62%|\u2588\u2588\u2588\u2588\u2588\u2588\u258f   | 1057/1712 [06:43<03:58,  2.75it/s]"
          ]
        },
        {
          "output_type": "stream",
          "name": "stderr",
          "text": [
            "\rExtracting test embeddings (flip):  62%|\u2588\u2588\u2588\u2588\u2588\u2588\u258f   | 1058/1712 [06:44<03:47,  2.88it/s]"
          ]
        },
        {
          "output_type": "stream",
          "name": "stderr",
          "text": [
            "\rExtracting test embeddings (flip):  62%|\u2588\u2588\u2588\u2588\u2588\u2588\u258f   | 1059/1712 [06:44<04:29,  2.42it/s]"
          ]
        },
        {
          "output_type": "stream",
          "name": "stderr",
          "text": [
            "\rExtracting test embeddings (flip):  62%|\u2588\u2588\u2588\u2588\u2588\u2588\u258f   | 1060/1712 [06:44<04:08,  2.62it/s]"
          ]
        },
        {
          "output_type": "stream",
          "name": "stderr",
          "text": [
            "\rExtracting test embeddings (flip):  62%|\u2588\u2588\u2588\u2588\u2588\u2588\u258f   | 1061/1712 [06:45<03:56,  2.75it/s]"
          ]
        },
        {
          "output_type": "stream",
          "name": "stderr",
          "text": [
            "\rExtracting test embeddings (flip):  62%|\u2588\u2588\u2588\u2588\u2588\u2588\u258f   | 1062/1712 [06:45<03:45,  2.88it/s]"
          ]
        },
        {
          "output_type": "stream",
          "name": "stderr",
          "text": [
            "\rExtracting test embeddings (flip):  62%|\u2588\u2588\u2588\u2588\u2588\u2588\u258f   | 1063/1712 [06:46<04:26,  2.43it/s]"
          ]
        },
        {
          "output_type": "stream",
          "name": "stderr",
          "text": [
            "\rExtracting test embeddings (flip):  62%|\u2588\u2588\u2588\u2588\u2588\u2588\u258f   | 1064/1712 [06:46<04:05,  2.64it/s]"
          ]
        },
        {
          "output_type": "stream",
          "name": "stderr",
          "text": [
            "\rExtracting test embeddings (flip):  62%|\u2588\u2588\u2588\u2588\u2588\u2588\u258f   | 1065/1712 [06:46<03:54,  2.76it/s]"
          ]
        },
        {
          "output_type": "stream",
          "name": "stderr",
          "text": [
            "\rExtracting test embeddings (flip):  62%|\u2588\u2588\u2588\u2588\u2588\u2588\u258f   | 1066/1712 [06:47<03:44,  2.88it/s]"
          ]
        },
        {
          "output_type": "stream",
          "name": "stderr",
          "text": [
            "\rExtracting test embeddings (flip):  62%|\u2588\u2588\u2588\u2588\u2588\u2588\u258f   | 1067/1712 [06:47<04:03,  2.65it/s]"
          ]
        },
        {
          "output_type": "stream",
          "name": "stderr",
          "text": [
            "\rExtracting test embeddings (flip):  62%|\u2588\u2588\u2588\u2588\u2588\u2588\u258f   | 1068/1712 [06:47<03:49,  2.80it/s]"
          ]
        },
        {
          "output_type": "stream",
          "name": "stderr",
          "text": [
            "\rExtracting test embeddings (flip):  62%|\u2588\u2588\u2588\u2588\u2588\u2588\u258f   | 1069/1712 [06:48<03:42,  2.89it/s]"
          ]
        },
        {
          "output_type": "stream",
          "name": "stderr",
          "text": [
            "\rExtracting test embeddings (flip):  62%|\u2588\u2588\u2588\u2588\u2588\u2588\u258e   | 1070/1712 [06:48<03:34,  3.00it/s]"
          ]
        },
        {
          "output_type": "stream",
          "name": "stderr",
          "text": [
            "\rExtracting test embeddings (flip):  63%|\u2588\u2588\u2588\u2588\u2588\u2588\u258e   | 1071/1712 [06:49<04:18,  2.48it/s]"
          ]
        },
        {
          "output_type": "stream",
          "name": "stderr",
          "text": [
            "\rExtracting test embeddings (flip):  63%|\u2588\u2588\u2588\u2588\u2588\u2588\u258e   | 1072/1712 [06:49<04:00,  2.67it/s]"
          ]
        },
        {
          "output_type": "stream",
          "name": "stderr",
          "text": [
            "\rExtracting test embeddings (flip):  63%|\u2588\u2588\u2588\u2588\u2588\u2588\u258e   | 1073/1712 [06:49<03:49,  2.79it/s]"
          ]
        },
        {
          "output_type": "stream",
          "name": "stderr",
          "text": [
            "\rExtracting test embeddings (flip):  63%|\u2588\u2588\u2588\u2588\u2588\u2588\u258e   | 1074/1712 [06:49<03:38,  2.92it/s]"
          ]
        },
        {
          "output_type": "stream",
          "name": "stderr",
          "text": [
            "\rExtracting test embeddings (flip):  63%|\u2588\u2588\u2588\u2588\u2588\u2588\u258e   | 1075/1712 [06:50<04:22,  2.43it/s]"
          ]
        },
        {
          "output_type": "stream",
          "name": "stderr",
          "text": [
            "\rExtracting test embeddings (flip):  63%|\u2588\u2588\u2588\u2588\u2588\u2588\u258e   | 1076/1712 [06:50<04:01,  2.63it/s]"
          ]
        },
        {
          "output_type": "stream",
          "name": "stderr",
          "text": [
            "\rExtracting test embeddings (flip):  63%|\u2588\u2588\u2588\u2588\u2588\u2588\u258e   | 1077/1712 [06:51<03:49,  2.77it/s]"
          ]
        },
        {
          "output_type": "stream",
          "name": "stderr",
          "text": [
            "\rExtracting test embeddings (flip):  63%|\u2588\u2588\u2588\u2588\u2588\u2588\u258e   | 1078/1712 [06:51<03:38,  2.90it/s]"
          ]
        },
        {
          "output_type": "stream",
          "name": "stderr",
          "text": [
            "\rExtracting test embeddings (flip):  63%|\u2588\u2588\u2588\u2588\u2588\u2588\u258e   | 1079/1712 [06:52<04:18,  2.45it/s]"
          ]
        },
        {
          "output_type": "stream",
          "name": "stderr",
          "text": [
            "\rExtracting test embeddings (flip):  63%|\u2588\u2588\u2588\u2588\u2588\u2588\u258e   | 1080/1712 [06:52<03:58,  2.65it/s]"
          ]
        },
        {
          "output_type": "stream",
          "name": "stderr",
          "text": [
            "\rExtracting test embeddings (flip):  63%|\u2588\u2588\u2588\u2588\u2588\u2588\u258e   | 1081/1712 [06:52<03:47,  2.77it/s]"
          ]
        },
        {
          "output_type": "stream",
          "name": "stderr",
          "text": [
            "\rExtracting test embeddings (flip):  63%|\u2588\u2588\u2588\u2588\u2588\u2588\u258e   | 1082/1712 [06:52<03:37,  2.90it/s]"
          ]
        },
        {
          "output_type": "stream",
          "name": "stderr",
          "text": [
            "\rExtracting test embeddings (flip):  63%|\u2588\u2588\u2588\u2588\u2588\u2588\u258e   | 1083/1712 [06:53<04:19,  2.42it/s]"
          ]
        },
        {
          "output_type": "stream",
          "name": "stderr",
          "text": [
            "\rExtracting test embeddings (flip):  63%|\u2588\u2588\u2588\u2588\u2588\u2588\u258e   | 1084/1712 [06:53<03:59,  2.62it/s]"
          ]
        },
        {
          "output_type": "stream",
          "name": "stderr",
          "text": [
            "\rExtracting test embeddings (flip):  63%|\u2588\u2588\u2588\u2588\u2588\u2588\u258e   | 1085/1712 [06:54<03:47,  2.76it/s]"
          ]
        },
        {
          "output_type": "stream",
          "name": "stderr",
          "text": [
            "\rExtracting test embeddings (flip):  63%|\u2588\u2588\u2588\u2588\u2588\u2588\u258e   | 1086/1712 [06:54<03:36,  2.89it/s]"
          ]
        },
        {
          "output_type": "stream",
          "name": "stderr",
          "text": [
            "\rExtracting test embeddings (flip):  63%|\u2588\u2588\u2588\u2588\u2588\u2588\u258e   | 1087/1712 [06:55<04:21,  2.39it/s]"
          ]
        },
        {
          "output_type": "stream",
          "name": "stderr",
          "text": [
            "\rExtracting test embeddings (flip):  64%|\u2588\u2588\u2588\u2588\u2588\u2588\u258e   | 1088/1712 [06:55<04:00,  2.60it/s]"
          ]
        },
        {
          "output_type": "stream",
          "name": "stderr",
          "text": [
            "\rExtracting test embeddings (flip):  64%|\u2588\u2588\u2588\u2588\u2588\u2588\u258e   | 1089/1712 [06:55<03:47,  2.74it/s]"
          ]
        },
        {
          "output_type": "stream",
          "name": "stderr",
          "text": [
            "\rExtracting test embeddings (flip):  64%|\u2588\u2588\u2588\u2588\u2588\u2588\u258e   | 1090/1712 [06:55<03:36,  2.88it/s]"
          ]
        },
        {
          "output_type": "stream",
          "name": "stderr",
          "text": [
            "\rExtracting test embeddings (flip):  64%|\u2588\u2588\u2588\u2588\u2588\u2588\u258e   | 1091/1712 [06:56<04:17,  2.42it/s]"
          ]
        },
        {
          "output_type": "stream",
          "name": "stderr",
          "text": [
            "\rExtracting test embeddings (flip):  64%|\u2588\u2588\u2588\u2588\u2588\u2588\u258d   | 1092/1712 [06:56<03:56,  2.62it/s]"
          ]
        },
        {
          "output_type": "stream",
          "name": "stderr",
          "text": [
            "\rExtracting test embeddings (flip):  64%|\u2588\u2588\u2588\u2588\u2588\u2588\u258d   | 1093/1712 [06:57<03:44,  2.76it/s]"
          ]
        },
        {
          "output_type": "stream",
          "name": "stderr",
          "text": [
            "\rExtracting test embeddings (flip):  64%|\u2588\u2588\u2588\u2588\u2588\u2588\u258d   | 1094/1712 [06:57<03:33,  2.90it/s]"
          ]
        },
        {
          "output_type": "stream",
          "name": "stderr",
          "text": [
            "\rExtracting test embeddings (flip):  64%|\u2588\u2588\u2588\u2588\u2588\u2588\u258d   | 1095/1712 [06:58<04:21,  2.36it/s]"
          ]
        },
        {
          "output_type": "stream",
          "name": "stderr",
          "text": [
            "\rExtracting test embeddings (flip):  64%|\u2588\u2588\u2588\u2588\u2588\u2588\u258d   | 1096/1712 [06:58<03:59,  2.57it/s]"
          ]
        },
        {
          "output_type": "stream",
          "name": "stderr",
          "text": [
            "\rExtracting test embeddings (flip):  64%|\u2588\u2588\u2588\u2588\u2588\u2588\u258d   | 1097/1712 [06:58<03:46,  2.72it/s]"
          ]
        },
        {
          "output_type": "stream",
          "name": "stderr",
          "text": [
            "\rExtracting test embeddings (flip):  64%|\u2588\u2588\u2588\u2588\u2588\u2588\u258d   | 1098/1712 [06:59<03:34,  2.86it/s]"
          ]
        },
        {
          "output_type": "stream",
          "name": "stderr",
          "text": [
            "\rExtracting test embeddings (flip):  64%|\u2588\u2588\u2588\u2588\u2588\u2588\u258d   | 1099/1712 [06:59<04:14,  2.41it/s]"
          ]
        },
        {
          "output_type": "stream",
          "name": "stderr",
          "text": [
            "\rExtracting test embeddings (flip):  64%|\u2588\u2588\u2588\u2588\u2588\u2588\u258d   | 1100/1712 [06:59<03:54,  2.61it/s]"
          ]
        },
        {
          "output_type": "stream",
          "name": "stderr",
          "text": [
            "\rExtracting test embeddings (flip):  64%|\u2588\u2588\u2588\u2588\u2588\u2588\u258d   | 1101/1712 [07:00<03:41,  2.76it/s]"
          ]
        },
        {
          "output_type": "stream",
          "name": "stderr",
          "text": [
            "\rExtracting test embeddings (flip):  64%|\u2588\u2588\u2588\u2588\u2588\u2588\u258d   | 1102/1712 [07:00<03:30,  2.89it/s]"
          ]
        },
        {
          "output_type": "stream",
          "name": "stderr",
          "text": [
            "\rExtracting test embeddings (flip):  64%|\u2588\u2588\u2588\u2588\u2588\u2588\u258d   | 1103/1712 [07:01<04:16,  2.37it/s]"
          ]
        },
        {
          "output_type": "stream",
          "name": "stderr",
          "text": [
            "\rExtracting test embeddings (flip):  64%|\u2588\u2588\u2588\u2588\u2588\u2588\u258d   | 1104/1712 [07:01<03:55,  2.58it/s]"
          ]
        },
        {
          "output_type": "stream",
          "name": "stderr",
          "text": [
            "\rExtracting test embeddings (flip):  65%|\u2588\u2588\u2588\u2588\u2588\u2588\u258d   | 1105/1712 [07:01<03:43,  2.72it/s]"
          ]
        },
        {
          "output_type": "stream",
          "name": "stderr",
          "text": [
            "\rExtracting test embeddings (flip):  65%|\u2588\u2588\u2588\u2588\u2588\u2588\u258d   | 1106/1712 [07:02<03:32,  2.85it/s]"
          ]
        },
        {
          "output_type": "stream",
          "name": "stderr",
          "text": [
            "\rExtracting test embeddings (flip):  65%|\u2588\u2588\u2588\u2588\u2588\u2588\u258d   | 1107/1712 [07:02<04:14,  2.38it/s]"
          ]
        },
        {
          "output_type": "stream",
          "name": "stderr",
          "text": [
            "\rExtracting test embeddings (flip):  65%|\u2588\u2588\u2588\u2588\u2588\u2588\u258d   | 1108/1712 [07:02<03:52,  2.59it/s]"
          ]
        },
        {
          "output_type": "stream",
          "name": "stderr",
          "text": [
            "\rExtracting test embeddings (flip):  65%|\u2588\u2588\u2588\u2588\u2588\u2588\u258d   | 1109/1712 [07:03<03:41,  2.72it/s]"
          ]
        },
        {
          "output_type": "stream",
          "name": "stderr",
          "text": [
            "\rExtracting test embeddings (flip):  65%|\u2588\u2588\u2588\u2588\u2588\u2588\u258d   | 1110/1712 [07:03<03:30,  2.86it/s]"
          ]
        },
        {
          "output_type": "stream",
          "name": "stderr",
          "text": [
            "\rExtracting test embeddings (flip):  65%|\u2588\u2588\u2588\u2588\u2588\u2588\u258d   | 1111/1712 [07:04<04:09,  2.41it/s]"
          ]
        },
        {
          "output_type": "stream",
          "name": "stderr",
          "text": [
            "\rExtracting test embeddings (flip):  65%|\u2588\u2588\u2588\u2588\u2588\u2588\u258d   | 1112/1712 [07:04<03:50,  2.61it/s]"
          ]
        },
        {
          "output_type": "stream",
          "name": "stderr",
          "text": [
            "\rExtracting test embeddings (flip):  65%|\u2588\u2588\u2588\u2588\u2588\u2588\u258c   | 1113/1712 [07:04<03:38,  2.74it/s]"
          ]
        },
        {
          "output_type": "stream",
          "name": "stderr",
          "text": [
            "\rExtracting test embeddings (flip):  65%|\u2588\u2588\u2588\u2588\u2588\u2588\u258c   | 1114/1712 [07:05<03:27,  2.88it/s]"
          ]
        },
        {
          "output_type": "stream",
          "name": "stderr",
          "text": [
            "\rExtracting test embeddings (flip):  65%|\u2588\u2588\u2588\u2588\u2588\u2588\u258c   | 1115/1712 [07:05<04:26,  2.24it/s]"
          ]
        },
        {
          "output_type": "stream",
          "name": "stderr",
          "text": [
            "\rExtracting test embeddings (flip):  65%|\u2588\u2588\u2588\u2588\u2588\u2588\u258c   | 1116/1712 [07:06<04:00,  2.48it/s]"
          ]
        },
        {
          "output_type": "stream",
          "name": "stderr",
          "text": [
            "\rExtracting test embeddings (flip):  65%|\u2588\u2588\u2588\u2588\u2588\u2588\u258c   | 1117/1712 [07:06<03:46,  2.63it/s]"
          ]
        },
        {
          "output_type": "stream",
          "name": "stderr",
          "text": [
            "\rExtracting test embeddings (flip):  65%|\u2588\u2588\u2588\u2588\u2588\u2588\u258c   | 1118/1712 [07:06<03:32,  2.79it/s]"
          ]
        },
        {
          "output_type": "stream",
          "name": "stderr",
          "text": [
            "\rExtracting test embeddings (flip):  65%|\u2588\u2588\u2588\u2588\u2588\u2588\u258c   | 1119/1712 [07:07<04:08,  2.38it/s]"
          ]
        },
        {
          "output_type": "stream",
          "name": "stderr",
          "text": [
            "\rExtracting test embeddings (flip):  65%|\u2588\u2588\u2588\u2588\u2588\u2588\u258c   | 1120/1712 [07:07<03:48,  2.59it/s]"
          ]
        },
        {
          "output_type": "stream",
          "name": "stderr",
          "text": [
            "\rExtracting test embeddings (flip):  65%|\u2588\u2588\u2588\u2588\u2588\u2588\u258c   | 1121/1712 [07:07<03:36,  2.73it/s]"
          ]
        },
        {
          "output_type": "stream",
          "name": "stderr",
          "text": [
            "\rExtracting test embeddings (flip):  66%|\u2588\u2588\u2588\u2588\u2588\u2588\u258c   | 1122/1712 [07:08<03:25,  2.87it/s]"
          ]
        },
        {
          "output_type": "stream",
          "name": "stderr",
          "text": [
            "\rExtracting test embeddings (flip):  66%|\u2588\u2588\u2588\u2588\u2588\u2588\u258c   | 1123/1712 [07:08<04:02,  2.43it/s]"
          ]
        },
        {
          "output_type": "stream",
          "name": "stderr",
          "text": [
            "\rExtracting test embeddings (flip):  66%|\u2588\u2588\u2588\u2588\u2588\u2588\u258c   | 1124/1712 [07:09<03:43,  2.63it/s]"
          ]
        },
        {
          "output_type": "stream",
          "name": "stderr",
          "text": [
            "\rExtracting test embeddings (flip):  66%|\u2588\u2588\u2588\u2588\u2588\u2588\u258c   | 1125/1712 [07:09<03:32,  2.76it/s]"
          ]
        },
        {
          "output_type": "stream",
          "name": "stderr",
          "text": [
            "\rExtracting test embeddings (flip):  66%|\u2588\u2588\u2588\u2588\u2588\u2588\u258c   | 1126/1712 [07:09<03:22,  2.89it/s]"
          ]
        },
        {
          "output_type": "stream",
          "name": "stderr",
          "text": [
            "\rExtracting test embeddings (flip):  66%|\u2588\u2588\u2588\u2588\u2588\u2588\u258c   | 1127/1712 [07:10<03:56,  2.47it/s]"
          ]
        },
        {
          "output_type": "stream",
          "name": "stderr",
          "text": [
            "\rExtracting test embeddings (flip):  66%|\u2588\u2588\u2588\u2588\u2588\u2588\u258c   | 1128/1712 [07:10<03:39,  2.67it/s]"
          ]
        },
        {
          "output_type": "stream",
          "name": "stderr",
          "text": [
            "\rExtracting test embeddings (flip):  66%|\u2588\u2588\u2588\u2588\u2588\u2588\u258c   | 1129/1712 [07:10<03:28,  2.79it/s]"
          ]
        },
        {
          "output_type": "stream",
          "name": "stderr",
          "text": [
            "\rExtracting test embeddings (flip):  66%|\u2588\u2588\u2588\u2588\u2588\u2588\u258c   | 1130/1712 [07:11<03:19,  2.92it/s]"
          ]
        },
        {
          "output_type": "stream",
          "name": "stderr",
          "text": [
            "\rExtracting test embeddings (flip):  66%|\u2588\u2588\u2588\u2588\u2588\u2588\u258c   | 1131/1712 [07:11<03:43,  2.60it/s]"
          ]
        },
        {
          "output_type": "stream",
          "name": "stderr",
          "text": [
            "\rExtracting test embeddings (flip):  66%|\u2588\u2588\u2588\u2588\u2588\u2588\u258c   | 1132/1712 [07:11<03:29,  2.76it/s]"
          ]
        },
        {
          "output_type": "stream",
          "name": "stderr",
          "text": [
            "\rExtracting test embeddings (flip):  66%|\u2588\u2588\u2588\u2588\u2588\u2588\u258c   | 1133/1712 [07:12<03:22,  2.86it/s]"
          ]
        },
        {
          "output_type": "stream",
          "name": "stderr",
          "text": [
            "\rExtracting test embeddings (flip):  66%|\u2588\u2588\u2588\u2588\u2588\u2588\u258c   | 1134/1712 [07:12<03:14,  2.97it/s]"
          ]
        },
        {
          "output_type": "stream",
          "name": "stderr",
          "text": [
            "\rExtracting test embeddings (flip):  66%|\u2588\u2588\u2588\u2588\u2588\u2588\u258b   | 1135/1712 [07:13<03:51,  2.49it/s]"
          ]
        },
        {
          "output_type": "stream",
          "name": "stderr",
          "text": [
            "\rExtracting test embeddings (flip):  66%|\u2588\u2588\u2588\u2588\u2588\u2588\u258b   | 1136/1712 [07:13<03:34,  2.68it/s]"
          ]
        },
        {
          "output_type": "stream",
          "name": "stderr",
          "text": [
            "\rExtracting test embeddings (flip):  66%|\u2588\u2588\u2588\u2588\u2588\u2588\u258b   | 1137/1712 [07:13<03:25,  2.80it/s]"
          ]
        },
        {
          "output_type": "stream",
          "name": "stderr",
          "text": [
            "\rExtracting test embeddings (flip):  66%|\u2588\u2588\u2588\u2588\u2588\u2588\u258b   | 1138/1712 [07:14<03:16,  2.92it/s]"
          ]
        },
        {
          "output_type": "stream",
          "name": "stderr",
          "text": [
            "\rExtracting test embeddings (flip):  67%|\u2588\u2588\u2588\u2588\u2588\u2588\u258b   | 1139/1712 [07:14<03:52,  2.47it/s]"
          ]
        },
        {
          "output_type": "stream",
          "name": "stderr",
          "text": [
            "\rExtracting test embeddings (flip):  67%|\u2588\u2588\u2588\u2588\u2588\u2588\u258b   | 1140/1712 [07:14<03:34,  2.66it/s]"
          ]
        },
        {
          "output_type": "stream",
          "name": "stderr",
          "text": [
            "\rExtracting test embeddings (flip):  67%|\u2588\u2588\u2588\u2588\u2588\u2588\u258b   | 1141/1712 [07:15<03:25,  2.78it/s]"
          ]
        },
        {
          "output_type": "stream",
          "name": "stderr",
          "text": [
            "\rExtracting test embeddings (flip):  67%|\u2588\u2588\u2588\u2588\u2588\u2588\u258b   | 1142/1712 [07:15<03:15,  2.91it/s]"
          ]
        },
        {
          "output_type": "stream",
          "name": "stderr",
          "text": [
            "\rExtracting test embeddings (flip):  67%|\u2588\u2588\u2588\u2588\u2588\u2588\u258b   | 1143/1712 [07:16<04:12,  2.25it/s]"
          ]
        },
        {
          "output_type": "stream",
          "name": "stderr",
          "text": [
            "\rExtracting test embeddings (flip):  67%|\u2588\u2588\u2588\u2588\u2588\u2588\u258b   | 1144/1712 [07:16<03:48,  2.49it/s]"
          ]
        },
        {
          "output_type": "stream",
          "name": "stderr",
          "text": [
            "\rExtracting test embeddings (flip):  67%|\u2588\u2588\u2588\u2588\u2588\u2588\u258b   | 1145/1712 [07:16<03:34,  2.65it/s]"
          ]
        },
        {
          "output_type": "stream",
          "name": "stderr",
          "text": [
            "\rExtracting test embeddings (flip):  67%|\u2588\u2588\u2588\u2588\u2588\u2588\u258b   | 1146/1712 [07:17<03:22,  2.80it/s]"
          ]
        },
        {
          "output_type": "stream",
          "name": "stderr",
          "text": [
            "\rExtracting test embeddings (flip):  67%|\u2588\u2588\u2588\u2588\u2588\u2588\u258b   | 1147/1712 [07:17<03:55,  2.40it/s]"
          ]
        },
        {
          "output_type": "stream",
          "name": "stderr",
          "text": [
            "\rExtracting test embeddings (flip):  67%|\u2588\u2588\u2588\u2588\u2588\u2588\u258b   | 1148/1712 [07:18<03:36,  2.60it/s]"
          ]
        },
        {
          "output_type": "stream",
          "name": "stderr",
          "text": [
            "\rExtracting test embeddings (flip):  67%|\u2588\u2588\u2588\u2588\u2588\u2588\u258b   | 1149/1712 [07:18<03:25,  2.74it/s]"
          ]
        },
        {
          "output_type": "stream",
          "name": "stderr",
          "text": [
            "\rExtracting test embeddings (flip):  67%|\u2588\u2588\u2588\u2588\u2588\u2588\u258b   | 1150/1712 [07:18<03:15,  2.87it/s]"
          ]
        },
        {
          "output_type": "stream",
          "name": "stderr",
          "text": [
            "\rExtracting test embeddings (flip):  67%|\u2588\u2588\u2588\u2588\u2588\u2588\u258b   | 1151/1712 [07:19<03:32,  2.64it/s]"
          ]
        },
        {
          "output_type": "stream",
          "name": "stderr",
          "text": [
            "\rExtracting test embeddings (flip):  67%|\u2588\u2588\u2588\u2588\u2588\u2588\u258b   | 1152/1712 [07:19<03:20,  2.80it/s]"
          ]
        },
        {
          "output_type": "stream",
          "name": "stderr",
          "text": [
            "\rExtracting test embeddings (flip):  67%|\u2588\u2588\u2588\u2588\u2588\u2588\u258b   | 1153/1712 [07:19<03:16,  2.84it/s]"
          ]
        },
        {
          "output_type": "stream",
          "name": "stderr",
          "text": [
            "\rExtracting test embeddings (flip):  67%|\u2588\u2588\u2588\u2588\u2588\u2588\u258b   | 1154/1712 [07:20<03:09,  2.95it/s]"
          ]
        },
        {
          "output_type": "stream",
          "name": "stderr",
          "text": [
            "\rExtracting test embeddings (flip):  67%|\u2588\u2588\u2588\u2588\u2588\u2588\u258b   | 1155/1712 [07:20<03:40,  2.53it/s]"
          ]
        },
        {
          "output_type": "stream",
          "name": "stderr",
          "text": [
            "\rExtracting test embeddings (flip):  68%|\u2588\u2588\u2588\u2588\u2588\u2588\u258a   | 1156/1712 [07:20<03:24,  2.71it/s]"
          ]
        },
        {
          "output_type": "stream",
          "name": "stderr",
          "text": [
            "\rExtracting test embeddings (flip):  68%|\u2588\u2588\u2588\u2588\u2588\u2588\u258a   | 1157/1712 [07:21<03:26,  2.68it/s]"
          ]
        },
        {
          "output_type": "stream",
          "name": "stderr",
          "text": [
            "\rExtracting test embeddings (flip):  68%|\u2588\u2588\u2588\u2588\u2588\u2588\u258a   | 1158/1712 [07:21<03:15,  2.83it/s]"
          ]
        },
        {
          "output_type": "stream",
          "name": "stderr",
          "text": [
            "\rExtracting test embeddings (flip):  68%|\u2588\u2588\u2588\u2588\u2588\u2588\u258a   | 1159/1712 [07:22<03:41,  2.50it/s]"
          ]
        },
        {
          "output_type": "stream",
          "name": "stderr",
          "text": [
            "\rExtracting test embeddings (flip):  68%|\u2588\u2588\u2588\u2588\u2588\u2588\u258a   | 1160/1712 [07:22<03:25,  2.68it/s]"
          ]
        },
        {
          "output_type": "stream",
          "name": "stderr",
          "text": [
            "\rExtracting test embeddings (flip):  68%|\u2588\u2588\u2588\u2588\u2588\u2588\u258a   | 1161/1712 [07:22<03:27,  2.66it/s]"
          ]
        },
        {
          "output_type": "stream",
          "name": "stderr",
          "text": [
            "\rExtracting test embeddings (flip):  68%|\u2588\u2588\u2588\u2588\u2588\u2588\u258a   | 1162/1712 [07:23<03:15,  2.81it/s]"
          ]
        },
        {
          "output_type": "stream",
          "name": "stderr",
          "text": [
            "\rExtracting test embeddings (flip):  68%|\u2588\u2588\u2588\u2588\u2588\u2588\u258a   | 1163/1712 [07:23<03:38,  2.52it/s]"
          ]
        },
        {
          "output_type": "stream",
          "name": "stderr",
          "text": [
            "\rExtracting test embeddings (flip):  68%|\u2588\u2588\u2588\u2588\u2588\u2588\u258a   | 1164/1712 [07:23<03:22,  2.70it/s]"
          ]
        },
        {
          "output_type": "stream",
          "name": "stderr",
          "text": [
            "\rExtracting test embeddings (flip):  68%|\u2588\u2588\u2588\u2588\u2588\u2588\u258a   | 1165/1712 [07:24<03:31,  2.58it/s]"
          ]
        },
        {
          "output_type": "stream",
          "name": "stderr",
          "text": [
            "\rExtracting test embeddings (flip):  68%|\u2588\u2588\u2588\u2588\u2588\u2588\u258a   | 1166/1712 [07:24<03:17,  2.76it/s]"
          ]
        },
        {
          "output_type": "stream",
          "name": "stderr",
          "text": [
            "\rExtracting test embeddings (flip):  68%|\u2588\u2588\u2588\u2588\u2588\u2588\u258a   | 1167/1712 [07:25<03:39,  2.48it/s]"
          ]
        },
        {
          "output_type": "stream",
          "name": "stderr",
          "text": [
            "\rExtracting test embeddings (flip):  68%|\u2588\u2588\u2588\u2588\u2588\u2588\u258a   | 1168/1712 [07:25<03:23,  2.67it/s]"
          ]
        },
        {
          "output_type": "stream",
          "name": "stderr",
          "text": [
            "\rExtracting test embeddings (flip):  68%|\u2588\u2588\u2588\u2588\u2588\u2588\u258a   | 1169/1712 [07:25<03:27,  2.61it/s]"
          ]
        },
        {
          "output_type": "stream",
          "name": "stderr",
          "text": [
            "\rExtracting test embeddings (flip):  68%|\u2588\u2588\u2588\u2588\u2588\u2588\u258a   | 1170/1712 [07:26<03:15,  2.78it/s]"
          ]
        },
        {
          "output_type": "stream",
          "name": "stderr",
          "text": [
            "\rExtracting test embeddings (flip):  68%|\u2588\u2588\u2588\u2588\u2588\u2588\u258a   | 1171/1712 [07:26<03:42,  2.44it/s]"
          ]
        },
        {
          "output_type": "stream",
          "name": "stderr",
          "text": [
            "\rExtracting test embeddings (flip):  68%|\u2588\u2588\u2588\u2588\u2588\u2588\u258a   | 1172/1712 [07:26<03:25,  2.63it/s]"
          ]
        },
        {
          "output_type": "stream",
          "name": "stderr",
          "text": [
            "\rExtracting test embeddings (flip):  69%|\u2588\u2588\u2588\u2588\u2588\u2588\u258a   | 1173/1712 [07:27<03:22,  2.66it/s]"
          ]
        },
        {
          "output_type": "stream",
          "name": "stderr",
          "text": [
            "\rExtracting test embeddings (flip):  69%|\u2588\u2588\u2588\u2588\u2588\u2588\u258a   | 1174/1712 [07:27<03:11,  2.82it/s]"
          ]
        },
        {
          "output_type": "stream",
          "name": "stderr",
          "text": [
            "\rExtracting test embeddings (flip):  69%|\u2588\u2588\u2588\u2588\u2588\u2588\u258a   | 1175/1712 [07:28<03:39,  2.45it/s]"
          ]
        },
        {
          "output_type": "stream",
          "name": "stderr",
          "text": [
            "\rExtracting test embeddings (flip):  69%|\u2588\u2588\u2588\u2588\u2588\u2588\u258a   | 1176/1712 [07:28<03:22,  2.65it/s]"
          ]
        },
        {
          "output_type": "stream",
          "name": "stderr",
          "text": [
            "\rExtracting test embeddings (flip):  69%|\u2588\u2588\u2588\u2588\u2588\u2588\u2589   | 1177/1712 [07:28<03:17,  2.71it/s]"
          ]
        },
        {
          "output_type": "stream",
          "name": "stderr",
          "text": [
            "\rExtracting test embeddings (flip):  69%|\u2588\u2588\u2588\u2588\u2588\u2588\u2589   | 1178/1712 [07:29<03:06,  2.86it/s]"
          ]
        },
        {
          "output_type": "stream",
          "name": "stderr",
          "text": [
            "\rExtracting test embeddings (flip):  69%|\u2588\u2588\u2588\u2588\u2588\u2588\u2589   | 1179/1712 [07:29<03:41,  2.41it/s]"
          ]
        },
        {
          "output_type": "stream",
          "name": "stderr",
          "text": [
            "\rExtracting test embeddings (flip):  69%|\u2588\u2588\u2588\u2588\u2588\u2588\u2589   | 1180/1712 [07:30<03:23,  2.61it/s]"
          ]
        },
        {
          "output_type": "stream",
          "name": "stderr",
          "text": [
            "\rExtracting test embeddings (flip):  69%|\u2588\u2588\u2588\u2588\u2588\u2588\u2589   | 1181/1712 [07:30<03:14,  2.74it/s]"
          ]
        },
        {
          "output_type": "stream",
          "name": "stderr",
          "text": [
            "\rExtracting test embeddings (flip):  69%|\u2588\u2588\u2588\u2588\u2588\u2588\u2589   | 1182/1712 [07:30<03:04,  2.87it/s]"
          ]
        },
        {
          "output_type": "stream",
          "name": "stderr",
          "text": [
            "\rExtracting test embeddings (flip):  69%|\u2588\u2588\u2588\u2588\u2588\u2588\u2589   | 1183/1712 [07:31<03:39,  2.41it/s]"
          ]
        },
        {
          "output_type": "stream",
          "name": "stderr",
          "text": [
            "\rExtracting test embeddings (flip):  69%|\u2588\u2588\u2588\u2588\u2588\u2588\u2589   | 1184/1712 [07:31<03:22,  2.61it/s]"
          ]
        },
        {
          "output_type": "stream",
          "name": "stderr",
          "text": [
            "\rExtracting test embeddings (flip):  69%|\u2588\u2588\u2588\u2588\u2588\u2588\u2589   | 1185/1712 [07:31<03:13,  2.72it/s]"
          ]
        },
        {
          "output_type": "stream",
          "name": "stderr",
          "text": [
            "\rExtracting test embeddings (flip):  69%|\u2588\u2588\u2588\u2588\u2588\u2588\u2589   | 1186/1712 [07:32<03:04,  2.86it/s]"
          ]
        },
        {
          "output_type": "stream",
          "name": "stderr",
          "text": [
            "\rExtracting test embeddings (flip):  69%|\u2588\u2588\u2588\u2588\u2588\u2588\u2589   | 1187/1712 [07:32<03:35,  2.43it/s]"
          ]
        },
        {
          "output_type": "stream",
          "name": "stderr",
          "text": [
            "\rExtracting test embeddings (flip):  69%|\u2588\u2588\u2588\u2588\u2588\u2588\u2589   | 1188/1712 [07:33<03:19,  2.63it/s]"
          ]
        },
        {
          "output_type": "stream",
          "name": "stderr",
          "text": [
            "\rExtracting test embeddings (flip):  69%|\u2588\u2588\u2588\u2588\u2588\u2588\u2589   | 1189/1712 [07:33<03:11,  2.73it/s]"
          ]
        },
        {
          "output_type": "stream",
          "name": "stderr",
          "text": [
            "\rExtracting test embeddings (flip):  70%|\u2588\u2588\u2588\u2588\u2588\u2588\u2589   | 1190/1712 [07:33<03:02,  2.86it/s]"
          ]
        },
        {
          "output_type": "stream",
          "name": "stderr",
          "text": [
            "\rExtracting test embeddings (flip):  70%|\u2588\u2588\u2588\u2588\u2588\u2588\u2589   | 1191/1712 [07:34<03:34,  2.43it/s]"
          ]
        },
        {
          "output_type": "stream",
          "name": "stderr",
          "text": [
            "\rExtracting test embeddings (flip):  70%|\u2588\u2588\u2588\u2588\u2588\u2588\u2589   | 1192/1712 [07:34<03:17,  2.63it/s]"
          ]
        },
        {
          "output_type": "stream",
          "name": "stderr",
          "text": [
            "\rExtracting test embeddings (flip):  70%|\u2588\u2588\u2588\u2588\u2588\u2588\u2589   | 1193/1712 [07:34<03:08,  2.75it/s]"
          ]
        },
        {
          "output_type": "stream",
          "name": "stderr",
          "text": [
            "\rExtracting test embeddings (flip):  70%|\u2588\u2588\u2588\u2588\u2588\u2588\u2589   | 1194/1712 [07:35<03:00,  2.87it/s]"
          ]
        },
        {
          "output_type": "stream",
          "name": "stderr",
          "text": [
            "\rExtracting test embeddings (flip):  70%|\u2588\u2588\u2588\u2588\u2588\u2588\u2589   | 1195/1712 [07:35<03:32,  2.43it/s]"
          ]
        },
        {
          "output_type": "stream",
          "name": "stderr",
          "text": [
            "\rExtracting test embeddings (flip):  70%|\u2588\u2588\u2588\u2588\u2588\u2588\u2589   | 1196/1712 [07:36<03:16,  2.63it/s]"
          ]
        },
        {
          "output_type": "stream",
          "name": "stderr",
          "text": [
            "\rExtracting test embeddings (flip):  70%|\u2588\u2588\u2588\u2588\u2588\u2588\u2589   | 1197/1712 [07:36<03:07,  2.75it/s]"
          ]
        },
        {
          "output_type": "stream",
          "name": "stderr",
          "text": [
            "\rExtracting test embeddings (flip):  70%|\u2588\u2588\u2588\u2588\u2588\u2588\u2589   | 1198/1712 [07:36<02:58,  2.88it/s]"
          ]
        },
        {
          "output_type": "stream",
          "name": "stderr",
          "text": [
            "\rExtracting test embeddings (flip):  70%|\u2588\u2588\u2588\u2588\u2588\u2588\u2588   | 1199/1712 [07:37<03:34,  2.39it/s]"
          ]
        },
        {
          "output_type": "stream",
          "name": "stderr",
          "text": [
            "\rExtracting test embeddings (flip):  70%|\u2588\u2588\u2588\u2588\u2588\u2588\u2588   | 1200/1712 [07:37<03:16,  2.60it/s]"
          ]
        },
        {
          "output_type": "stream",
          "name": "stderr",
          "text": [
            "\rExtracting test embeddings (flip):  70%|\u2588\u2588\u2588\u2588\u2588\u2588\u2588   | 1201/1712 [07:37<03:06,  2.74it/s]"
          ]
        },
        {
          "output_type": "stream",
          "name": "stderr",
          "text": [
            "\rExtracting test embeddings (flip):  70%|\u2588\u2588\u2588\u2588\u2588\u2588\u2588   | 1202/1712 [07:38<02:57,  2.87it/s]"
          ]
        },
        {
          "output_type": "stream",
          "name": "stderr",
          "text": [
            "\rExtracting test embeddings (flip):  70%|\u2588\u2588\u2588\u2588\u2588\u2588\u2588   | 1203/1712 [07:38<03:51,  2.20it/s]"
          ]
        },
        {
          "output_type": "stream",
          "name": "stderr",
          "text": [
            "\rExtracting test embeddings (flip):  70%|\u2588\u2588\u2588\u2588\u2588\u2588\u2588   | 1204/1712 [07:39<03:28,  2.44it/s]"
          ]
        },
        {
          "output_type": "stream",
          "name": "stderr",
          "text": [
            "\rExtracting test embeddings (flip):  70%|\u2588\u2588\u2588\u2588\u2588\u2588\u2588   | 1205/1712 [07:39<03:14,  2.60it/s]"
          ]
        },
        {
          "output_type": "stream",
          "name": "stderr",
          "text": [
            "\rExtracting test embeddings (flip):  70%|\u2588\u2588\u2588\u2588\u2588\u2588\u2588   | 1206/1712 [07:39<03:02,  2.77it/s]"
          ]
        },
        {
          "output_type": "stream",
          "name": "stderr",
          "text": [
            "\rExtracting test embeddings (flip):  71%|\u2588\u2588\u2588\u2588\u2588\u2588\u2588   | 1207/1712 [07:40<03:15,  2.58it/s]"
          ]
        },
        {
          "output_type": "stream",
          "name": "stderr",
          "text": [
            "\rExtracting test embeddings (flip):  71%|\u2588\u2588\u2588\u2588\u2588\u2588\u2588   | 1208/1712 [07:40<03:03,  2.75it/s]"
          ]
        },
        {
          "output_type": "stream",
          "name": "stderr",
          "text": [
            "\rExtracting test embeddings (flip):  71%|\u2588\u2588\u2588\u2588\u2588\u2588\u2588   | 1209/1712 [07:40<02:56,  2.85it/s]"
          ]
        },
        {
          "output_type": "stream",
          "name": "stderr",
          "text": [
            "\rExtracting test embeddings (flip):  71%|\u2588\u2588\u2588\u2588\u2588\u2588\u2588   | 1210/1712 [07:41<02:49,  2.96it/s]"
          ]
        },
        {
          "output_type": "stream",
          "name": "stderr",
          "text": [
            "\rExtracting test embeddings (flip):  71%|\u2588\u2588\u2588\u2588\u2588\u2588\u2588   | 1211/1712 [07:41<03:22,  2.48it/s]"
          ]
        },
        {
          "output_type": "stream",
          "name": "stderr",
          "text": [
            "\rExtracting test embeddings (flip):  71%|\u2588\u2588\u2588\u2588\u2588\u2588\u2588   | 1212/1712 [07:42<03:07,  2.67it/s]"
          ]
        },
        {
          "output_type": "stream",
          "name": "stderr",
          "text": [
            "\rExtracting test embeddings (flip):  71%|\u2588\u2588\u2588\u2588\u2588\u2588\u2588   | 1213/1712 [07:42<02:59,  2.78it/s]"
          ]
        },
        {
          "output_type": "stream",
          "name": "stderr",
          "text": [
            "\rExtracting test embeddings (flip):  71%|\u2588\u2588\u2588\u2588\u2588\u2588\u2588   | 1214/1712 [07:42<02:50,  2.91it/s]"
          ]
        },
        {
          "output_type": "stream",
          "name": "stderr",
          "text": [
            "\rExtracting test embeddings (flip):  71%|\u2588\u2588\u2588\u2588\u2588\u2588\u2588   | 1215/1712 [07:43<03:24,  2.43it/s]"
          ]
        },
        {
          "output_type": "stream",
          "name": "stderr",
          "text": [
            "\rExtracting test embeddings (flip):  71%|\u2588\u2588\u2588\u2588\u2588\u2588\u2588   | 1216/1712 [07:43<03:08,  2.63it/s]"
          ]
        },
        {
          "output_type": "stream",
          "name": "stderr",
          "text": [
            "\rExtracting test embeddings (flip):  71%|\u2588\u2588\u2588\u2588\u2588\u2588\u2588   | 1217/1712 [07:43<02:58,  2.77it/s]"
          ]
        },
        {
          "output_type": "stream",
          "name": "stderr",
          "text": [
            "\rExtracting test embeddings (flip):  71%|\u2588\u2588\u2588\u2588\u2588\u2588\u2588   | 1218/1712 [07:44<02:50,  2.90it/s]"
          ]
        },
        {
          "output_type": "stream",
          "name": "stderr",
          "text": [
            "\rExtracting test embeddings (flip):  71%|\u2588\u2588\u2588\u2588\u2588\u2588\u2588   | 1219/1712 [07:44<03:36,  2.28it/s]"
          ]
        },
        {
          "output_type": "stream",
          "name": "stderr",
          "text": [
            "\rExtracting test embeddings (flip):  71%|\u2588\u2588\u2588\u2588\u2588\u2588\u2588\u258f  | 1220/1712 [07:45<03:15,  2.51it/s]"
          ]
        },
        {
          "output_type": "stream",
          "name": "stderr",
          "text": [
            "\rExtracting test embeddings (flip):  71%|\u2588\u2588\u2588\u2588\u2588\u2588\u2588\u258f  | 1221/1712 [07:45<03:04,  2.67it/s]"
          ]
        },
        {
          "output_type": "stream",
          "name": "stderr",
          "text": [
            "\rExtracting test embeddings (flip):  71%|\u2588\u2588\u2588\u2588\u2588\u2588\u2588\u258f  | 1222/1712 [07:45<02:53,  2.82it/s]"
          ]
        },
        {
          "output_type": "stream",
          "name": "stderr",
          "text": [
            "\rExtracting test embeddings (flip):  71%|\u2588\u2588\u2588\u2588\u2588\u2588\u2588\u258f  | 1223/1712 [07:46<03:23,  2.40it/s]"
          ]
        },
        {
          "output_type": "stream",
          "name": "stderr",
          "text": [
            "\rExtracting test embeddings (flip):  71%|\u2588\u2588\u2588\u2588\u2588\u2588\u2588\u258f  | 1224/1712 [07:46<03:07,  2.61it/s]"
          ]
        },
        {
          "output_type": "stream",
          "name": "stderr",
          "text": [
            "\rExtracting test embeddings (flip):  72%|\u2588\u2588\u2588\u2588\u2588\u2588\u2588\u258f  | 1225/1712 [07:47<02:57,  2.75it/s]"
          ]
        },
        {
          "output_type": "stream",
          "name": "stderr",
          "text": [
            "\rExtracting test embeddings (flip):  72%|\u2588\u2588\u2588\u2588\u2588\u2588\u2588\u258f  | 1226/1712 [07:47<02:48,  2.89it/s]"
          ]
        },
        {
          "output_type": "stream",
          "name": "stderr",
          "text": [
            "\rExtracting test embeddings (flip):  72%|\u2588\u2588\u2588\u2588\u2588\u2588\u2588\u258f  | 1227/1712 [07:47<03:18,  2.44it/s]"
          ]
        },
        {
          "output_type": "stream",
          "name": "stderr",
          "text": [
            "\rExtracting test embeddings (flip):  72%|\u2588\u2588\u2588\u2588\u2588\u2588\u2588\u258f  | 1228/1712 [07:48<03:03,  2.64it/s]"
          ]
        },
        {
          "output_type": "stream",
          "name": "stderr",
          "text": [
            "\rExtracting test embeddings (flip):  72%|\u2588\u2588\u2588\u2588\u2588\u2588\u2588\u258f  | 1229/1712 [07:48<02:55,  2.76it/s]"
          ]
        },
        {
          "output_type": "stream",
          "name": "stderr",
          "text": [
            "\rExtracting test embeddings (flip):  72%|\u2588\u2588\u2588\u2588\u2588\u2588\u2588\u258f  | 1230/1712 [07:48<02:46,  2.89it/s]"
          ]
        },
        {
          "output_type": "stream",
          "name": "stderr",
          "text": [
            "\rExtracting test embeddings (flip):  72%|\u2588\u2588\u2588\u2588\u2588\u2588\u2588\u258f  | 1231/1712 [07:49<03:16,  2.45it/s]"
          ]
        },
        {
          "output_type": "stream",
          "name": "stderr",
          "text": [
            "\rExtracting test embeddings (flip):  72%|\u2588\u2588\u2588\u2588\u2588\u2588\u2588\u258f  | 1232/1712 [07:49<03:01,  2.65it/s]"
          ]
        },
        {
          "output_type": "stream",
          "name": "stderr",
          "text": [
            "\rExtracting test embeddings (flip):  72%|\u2588\u2588\u2588\u2588\u2588\u2588\u2588\u258f  | 1233/1712 [07:49<02:52,  2.78it/s]"
          ]
        },
        {
          "output_type": "stream",
          "name": "stderr",
          "text": [
            "\rExtracting test embeddings (flip):  72%|\u2588\u2588\u2588\u2588\u2588\u2588\u2588\u258f  | 1234/1712 [07:50<02:44,  2.91it/s]"
          ]
        },
        {
          "output_type": "stream",
          "name": "stderr",
          "text": [
            "\rExtracting test embeddings (flip):  72%|\u2588\u2588\u2588\u2588\u2588\u2588\u2588\u258f  | 1235/1712 [07:50<03:17,  2.42it/s]"
          ]
        },
        {
          "output_type": "stream",
          "name": "stderr",
          "text": [
            "\rExtracting test embeddings (flip):  72%|\u2588\u2588\u2588\u2588\u2588\u2588\u2588\u258f  | 1236/1712 [07:51<03:01,  2.62it/s]"
          ]
        },
        {
          "output_type": "stream",
          "name": "stderr",
          "text": [
            "\rExtracting test embeddings (flip):  72%|\u2588\u2588\u2588\u2588\u2588\u2588\u2588\u258f  | 1237/1712 [07:51<02:54,  2.72it/s]"
          ]
        },
        {
          "output_type": "stream",
          "name": "stderr",
          "text": [
            "\rExtracting test embeddings (flip):  72%|\u2588\u2588\u2588\u2588\u2588\u2588\u2588\u258f  | 1238/1712 [07:51<02:45,  2.86it/s]"
          ]
        },
        {
          "output_type": "stream",
          "name": "stderr",
          "text": [
            "\rExtracting test embeddings (flip):  72%|\u2588\u2588\u2588\u2588\u2588\u2588\u2588\u258f  | 1239/1712 [07:52<03:12,  2.46it/s]"
          ]
        },
        {
          "output_type": "stream",
          "name": "stderr",
          "text": [
            "\rExtracting test embeddings (flip):  72%|\u2588\u2588\u2588\u2588\u2588\u2588\u2588\u258f  | 1240/1712 [07:52<02:57,  2.65it/s]"
          ]
        },
        {
          "output_type": "stream",
          "name": "stderr",
          "text": [
            "\rExtracting test embeddings (flip):  72%|\u2588\u2588\u2588\u2588\u2588\u2588\u2588\u258f  | 1241/1712 [07:53<02:54,  2.71it/s]"
          ]
        },
        {
          "output_type": "stream",
          "name": "stderr",
          "text": [
            "\rExtracting test embeddings (flip):  73%|\u2588\u2588\u2588\u2588\u2588\u2588\u2588\u258e  | 1242/1712 [07:53<02:45,  2.85it/s]"
          ]
        },
        {
          "output_type": "stream",
          "name": "stderr",
          "text": [
            "\rExtracting test embeddings (flip):  73%|\u2588\u2588\u2588\u2588\u2588\u2588\u2588\u258e  | 1243/1712 [07:53<03:09,  2.47it/s]"
          ]
        },
        {
          "output_type": "stream",
          "name": "stderr",
          "text": [
            "\rExtracting test embeddings (flip):  73%|\u2588\u2588\u2588\u2588\u2588\u2588\u2588\u258e  | 1244/1712 [07:54<02:55,  2.66it/s]"
          ]
        },
        {
          "output_type": "stream",
          "name": "stderr",
          "text": [
            "\rExtracting test embeddings (flip):  73%|\u2588\u2588\u2588\u2588\u2588\u2588\u2588\u258e  | 1245/1712 [07:54<02:54,  2.67it/s]"
          ]
        },
        {
          "output_type": "stream",
          "name": "stderr",
          "text": [
            "\rExtracting test embeddings (flip):  73%|\u2588\u2588\u2588\u2588\u2588\u2588\u2588\u258e  | 1246/1712 [07:54<02:44,  2.83it/s]"
          ]
        },
        {
          "output_type": "stream",
          "name": "stderr",
          "text": [
            "\rExtracting test embeddings (flip):  73%|\u2588\u2588\u2588\u2588\u2588\u2588\u2588\u258e  | 1247/1712 [07:55<03:09,  2.46it/s]"
          ]
        },
        {
          "output_type": "stream",
          "name": "stderr",
          "text": [
            "\rExtracting test embeddings (flip):  73%|\u2588\u2588\u2588\u2588\u2588\u2588\u2588\u258e  | 1248/1712 [07:55<02:54,  2.65it/s]"
          ]
        },
        {
          "output_type": "stream",
          "name": "stderr",
          "text": [
            "\rExtracting test embeddings (flip):  73%|\u2588\u2588\u2588\u2588\u2588\u2588\u2588\u258e  | 1249/1712 [07:56<02:55,  2.63it/s]"
          ]
        },
        {
          "output_type": "stream",
          "name": "stderr",
          "text": [
            "\rExtracting test embeddings (flip):  73%|\u2588\u2588\u2588\u2588\u2588\u2588\u2588\u258e  | 1250/1712 [07:56<02:44,  2.80it/s]"
          ]
        },
        {
          "output_type": "stream",
          "name": "stderr",
          "text": [
            "\rExtracting test embeddings (flip):  73%|\u2588\u2588\u2588\u2588\u2588\u2588\u2588\u258e  | 1251/1712 [07:56<03:09,  2.43it/s]"
          ]
        },
        {
          "output_type": "stream",
          "name": "stderr",
          "text": [
            "\rExtracting test embeddings (flip):  73%|\u2588\u2588\u2588\u2588\u2588\u2588\u2588\u258e  | 1252/1712 [07:57<02:54,  2.64it/s]"
          ]
        },
        {
          "output_type": "stream",
          "name": "stderr",
          "text": [
            "\rExtracting test embeddings (flip):  73%|\u2588\u2588\u2588\u2588\u2588\u2588\u2588\u258e  | 1253/1712 [07:57<02:50,  2.69it/s]"
          ]
        },
        {
          "output_type": "stream",
          "name": "stderr",
          "text": [
            "\rExtracting test embeddings (flip):  73%|\u2588\u2588\u2588\u2588\u2588\u2588\u2588\u258e  | 1254/1712 [07:57<02:41,  2.84it/s]"
          ]
        },
        {
          "output_type": "stream",
          "name": "stderr",
          "text": [
            "\rExtracting test embeddings (flip):  73%|\u2588\u2588\u2588\u2588\u2588\u2588\u2588\u258e  | 1255/1712 [07:58<03:06,  2.45it/s]"
          ]
        },
        {
          "output_type": "stream",
          "name": "stderr",
          "text": [
            "\rExtracting test embeddings (flip):  73%|\u2588\u2588\u2588\u2588\u2588\u2588\u2588\u258e  | 1256/1712 [07:58<02:52,  2.64it/s]"
          ]
        },
        {
          "output_type": "stream",
          "name": "stderr",
          "text": [
            "\rExtracting test embeddings (flip):  73%|\u2588\u2588\u2588\u2588\u2588\u2588\u2588\u258e  | 1257/1712 [07:59<02:49,  2.69it/s]"
          ]
        },
        {
          "output_type": "stream",
          "name": "stderr",
          "text": [
            "\rExtracting test embeddings (flip):  73%|\u2588\u2588\u2588\u2588\u2588\u2588\u2588\u258e  | 1258/1712 [07:59<02:40,  2.83it/s]"
          ]
        },
        {
          "output_type": "stream",
          "name": "stderr",
          "text": [
            "\rExtracting test embeddings (flip):  74%|\u2588\u2588\u2588\u2588\u2588\u2588\u2588\u258e  | 1259/1712 [07:59<03:08,  2.41it/s]"
          ]
        },
        {
          "output_type": "stream",
          "name": "stderr",
          "text": [
            "\rExtracting test embeddings (flip):  74%|\u2588\u2588\u2588\u2588\u2588\u2588\u2588\u258e  | 1260/1712 [08:00<02:52,  2.61it/s]"
          ]
        },
        {
          "output_type": "stream",
          "name": "stderr",
          "text": [
            "\rExtracting test embeddings (flip):  74%|\u2588\u2588\u2588\u2588\u2588\u2588\u2588\u258e  | 1261/1712 [08:00<02:45,  2.72it/s]"
          ]
        },
        {
          "output_type": "stream",
          "name": "stderr",
          "text": [
            "\rExtracting test embeddings (flip):  74%|\u2588\u2588\u2588\u2588\u2588\u2588\u2588\u258e  | 1262/1712 [08:00<02:37,  2.86it/s]"
          ]
        },
        {
          "output_type": "stream",
          "name": "stderr",
          "text": [
            "\rExtracting test embeddings (flip):  74%|\u2588\u2588\u2588\u2588\u2588\u2588\u2588\u258d  | 1263/1712 [08:01<03:06,  2.41it/s]"
          ]
        },
        {
          "output_type": "stream",
          "name": "stderr",
          "text": [
            "\rExtracting test embeddings (flip):  74%|\u2588\u2588\u2588\u2588\u2588\u2588\u2588\u258d  | 1264/1712 [08:01<02:51,  2.62it/s]"
          ]
        },
        {
          "output_type": "stream",
          "name": "stderr",
          "text": [
            "\rExtracting test embeddings (flip):  74%|\u2588\u2588\u2588\u2588\u2588\u2588\u2588\u258d  | 1265/1712 [08:02<02:43,  2.74it/s]"
          ]
        },
        {
          "output_type": "stream",
          "name": "stderr",
          "text": [
            "\rExtracting test embeddings (flip):  74%|\u2588\u2588\u2588\u2588\u2588\u2588\u2588\u258d  | 1266/1712 [08:02<02:35,  2.87it/s]"
          ]
        },
        {
          "output_type": "stream",
          "name": "stderr",
          "text": [
            "\rExtracting test embeddings (flip):  74%|\u2588\u2588\u2588\u2588\u2588\u2588\u2588\u258d  | 1267/1712 [08:02<02:53,  2.57it/s]"
          ]
        },
        {
          "output_type": "stream",
          "name": "stderr",
          "text": [
            "\rExtracting test embeddings (flip):  74%|\u2588\u2588\u2588\u2588\u2588\u2588\u2588\u258d  | 1268/1712 [08:03<02:41,  2.75it/s]"
          ]
        },
        {
          "output_type": "stream",
          "name": "stderr",
          "text": [
            "\rExtracting test embeddings (flip):  74%|\u2588\u2588\u2588\u2588\u2588\u2588\u2588\u258d  | 1269/1712 [08:03<02:39,  2.77it/s]"
          ]
        },
        {
          "output_type": "stream",
          "name": "stderr",
          "text": [
            "\rExtracting test embeddings (flip):  74%|\u2588\u2588\u2588\u2588\u2588\u2588\u2588\u258d  | 1270/1712 [08:03<02:32,  2.90it/s]"
          ]
        },
        {
          "output_type": "stream",
          "name": "stderr",
          "text": [
            "\rExtracting test embeddings (flip):  74%|\u2588\u2588\u2588\u2588\u2588\u2588\u2588\u258d  | 1271/1712 [08:04<02:57,  2.49it/s]"
          ]
        },
        {
          "output_type": "stream",
          "name": "stderr",
          "text": [
            "\rExtracting test embeddings (flip):  74%|\u2588\u2588\u2588\u2588\u2588\u2588\u2588\u258d  | 1272/1712 [08:04<02:43,  2.68it/s]"
          ]
        },
        {
          "output_type": "stream",
          "name": "stderr",
          "text": [
            "\rExtracting test embeddings (flip):  74%|\u2588\u2588\u2588\u2588\u2588\u2588\u2588\u258d  | 1273/1712 [08:05<02:41,  2.72it/s]"
          ]
        },
        {
          "output_type": "stream",
          "name": "stderr",
          "text": [
            "\rExtracting test embeddings (flip):  74%|\u2588\u2588\u2588\u2588\u2588\u2588\u2588\u258d  | 1274/1712 [08:05<02:32,  2.86it/s]"
          ]
        },
        {
          "output_type": "stream",
          "name": "stderr",
          "text": [
            "\rExtracting test embeddings (flip):  74%|\u2588\u2588\u2588\u2588\u2588\u2588\u2588\u258d  | 1275/1712 [08:05<02:56,  2.47it/s]"
          ]
        },
        {
          "output_type": "stream",
          "name": "stderr",
          "text": [
            "\rExtracting test embeddings (flip):  75%|\u2588\u2588\u2588\u2588\u2588\u2588\u2588\u258d  | 1276/1712 [08:06<02:43,  2.67it/s]"
          ]
        },
        {
          "output_type": "stream",
          "name": "stderr",
          "text": [
            "\rExtracting test embeddings (flip):  75%|\u2588\u2588\u2588\u2588\u2588\u2588\u2588\u258d  | 1277/1712 [08:06<02:40,  2.72it/s]"
          ]
        },
        {
          "output_type": "stream",
          "name": "stderr",
          "text": [
            "\rExtracting test embeddings (flip):  75%|\u2588\u2588\u2588\u2588\u2588\u2588\u2588\u258d  | 1278/1712 [08:06<02:31,  2.87it/s]"
          ]
        },
        {
          "output_type": "stream",
          "name": "stderr",
          "text": [
            "\rExtracting test embeddings (flip):  75%|\u2588\u2588\u2588\u2588\u2588\u2588\u2588\u258d  | 1279/1712 [08:07<02:53,  2.50it/s]"
          ]
        },
        {
          "output_type": "stream",
          "name": "stderr",
          "text": [
            "\rExtracting test embeddings (flip):  75%|\u2588\u2588\u2588\u2588\u2588\u2588\u2588\u258d  | 1280/1712 [08:07<02:40,  2.69it/s]"
          ]
        },
        {
          "output_type": "stream",
          "name": "stderr",
          "text": [
            "\rExtracting test embeddings (flip):  75%|\u2588\u2588\u2588\u2588\u2588\u2588\u2588\u258d  | 1281/1712 [08:08<02:38,  2.72it/s]"
          ]
        },
        {
          "output_type": "stream",
          "name": "stderr",
          "text": [
            "\rExtracting test embeddings (flip):  75%|\u2588\u2588\u2588\u2588\u2588\u2588\u2588\u258d  | 1282/1712 [08:08<02:30,  2.85it/s]"
          ]
        },
        {
          "output_type": "stream",
          "name": "stderr",
          "text": [
            "\rExtracting test embeddings (flip):  75%|\u2588\u2588\u2588\u2588\u2588\u2588\u2588\u258d  | 1283/1712 [08:08<03:07,  2.28it/s]"
          ]
        },
        {
          "output_type": "stream",
          "name": "stderr",
          "text": [
            "\rExtracting test embeddings (flip):  75%|\u2588\u2588\u2588\u2588\u2588\u2588\u2588\u258c  | 1284/1712 [08:09<02:50,  2.51it/s]"
          ]
        },
        {
          "output_type": "stream",
          "name": "stderr",
          "text": [
            "\rExtracting test embeddings (flip):  75%|\u2588\u2588\u2588\u2588\u2588\u2588\u2588\u258c  | 1285/1712 [08:09<02:39,  2.67it/s]"
          ]
        },
        {
          "output_type": "stream",
          "name": "stderr",
          "text": [
            "\rExtracting test embeddings (flip):  75%|\u2588\u2588\u2588\u2588\u2588\u2588\u2588\u258c  | 1286/1712 [08:09<02:31,  2.82it/s]"
          ]
        },
        {
          "output_type": "stream",
          "name": "stderr",
          "text": [
            "\rExtracting test embeddings (flip):  75%|\u2588\u2588\u2588\u2588\u2588\u2588\u2588\u258c  | 1287/1712 [08:10<02:42,  2.62it/s]"
          ]
        },
        {
          "output_type": "stream",
          "name": "stderr",
          "text": [
            "\rExtracting test embeddings (flip):  75%|\u2588\u2588\u2588\u2588\u2588\u2588\u2588\u258c  | 1288/1712 [08:10<02:32,  2.79it/s]"
          ]
        },
        {
          "output_type": "stream",
          "name": "stderr",
          "text": [
            "\rExtracting test embeddings (flip):  75%|\u2588\u2588\u2588\u2588\u2588\u2588\u2588\u258c  | 1289/1712 [08:11<02:31,  2.79it/s]"
          ]
        },
        {
          "output_type": "stream",
          "name": "stderr",
          "text": [
            "\rExtracting test embeddings (flip):  75%|\u2588\u2588\u2588\u2588\u2588\u2588\u2588\u258c  | 1290/1712 [08:11<02:24,  2.91it/s]"
          ]
        },
        {
          "output_type": "stream",
          "name": "stderr",
          "text": [
            "\rExtracting test embeddings (flip):  75%|\u2588\u2588\u2588\u2588\u2588\u2588\u2588\u258c  | 1291/1712 [08:11<02:49,  2.49it/s]"
          ]
        },
        {
          "output_type": "stream",
          "name": "stderr",
          "text": [
            "\rExtracting test embeddings (flip):  75%|\u2588\u2588\u2588\u2588\u2588\u2588\u2588\u258c  | 1292/1712 [08:12<02:36,  2.68it/s]"
          ]
        },
        {
          "output_type": "stream",
          "name": "stderr",
          "text": [
            "\rExtracting test embeddings (flip):  76%|\u2588\u2588\u2588\u2588\u2588\u2588\u2588\u258c  | 1293/1712 [08:12<02:33,  2.73it/s]"
          ]
        },
        {
          "output_type": "stream",
          "name": "stderr",
          "text": [
            "\rExtracting test embeddings (flip):  76%|\u2588\u2588\u2588\u2588\u2588\u2588\u2588\u258c  | 1294/1712 [08:12<02:25,  2.87it/s]"
          ]
        },
        {
          "output_type": "stream",
          "name": "stderr",
          "text": [
            "\rExtracting test embeddings (flip):  76%|\u2588\u2588\u2588\u2588\u2588\u2588\u2588\u258c  | 1295/1712 [08:13<02:47,  2.49it/s]"
          ]
        },
        {
          "output_type": "stream",
          "name": "stderr",
          "text": [
            "\rExtracting test embeddings (flip):  76%|\u2588\u2588\u2588\u2588\u2588\u2588\u2588\u258c  | 1296/1712 [08:13<02:35,  2.68it/s]"
          ]
        },
        {
          "output_type": "stream",
          "name": "stderr",
          "text": [
            "\rExtracting test embeddings (flip):  76%|\u2588\u2588\u2588\u2588\u2588\u2588\u2588\u258c  | 1297/1712 [08:14<02:34,  2.68it/s]"
          ]
        },
        {
          "output_type": "stream",
          "name": "stderr",
          "text": [
            "\rExtracting test embeddings (flip):  76%|\u2588\u2588\u2588\u2588\u2588\u2588\u2588\u258c  | 1298/1712 [08:14<02:25,  2.84it/s]"
          ]
        },
        {
          "output_type": "stream",
          "name": "stderr",
          "text": [
            "\rExtracting test embeddings (flip):  76%|\u2588\u2588\u2588\u2588\u2588\u2588\u2588\u258c  | 1299/1712 [08:14<02:45,  2.50it/s]"
          ]
        },
        {
          "output_type": "stream",
          "name": "stderr",
          "text": [
            "\rExtracting test embeddings (flip):  76%|\u2588\u2588\u2588\u2588\u2588\u2588\u2588\u258c  | 1300/1712 [08:15<02:33,  2.69it/s]"
          ]
        },
        {
          "output_type": "stream",
          "name": "stderr",
          "text": [
            "\rExtracting test embeddings (flip):  76%|\u2588\u2588\u2588\u2588\u2588\u2588\u2588\u258c  | 1301/1712 [08:15<02:34,  2.66it/s]"
          ]
        },
        {
          "output_type": "stream",
          "name": "stderr",
          "text": [
            "\rExtracting test embeddings (flip):  76%|\u2588\u2588\u2588\u2588\u2588\u2588\u2588\u258c  | 1302/1712 [08:15<02:25,  2.82it/s]"
          ]
        },
        {
          "output_type": "stream",
          "name": "stderr",
          "text": [
            "\rExtracting test embeddings (flip):  76%|\u2588\u2588\u2588\u2588\u2588\u2588\u2588\u258c  | 1303/1712 [08:16<02:41,  2.53it/s]"
          ]
        },
        {
          "output_type": "stream",
          "name": "stderr",
          "text": [
            "\rExtracting test embeddings (flip):  76%|\u2588\u2588\u2588\u2588\u2588\u2588\u2588\u258c  | 1304/1712 [08:16<02:30,  2.72it/s]"
          ]
        },
        {
          "output_type": "stream",
          "name": "stderr",
          "text": [
            "\rExtracting test embeddings (flip):  76%|\u2588\u2588\u2588\u2588\u2588\u2588\u2588\u258c  | 1305/1712 [08:17<02:37,  2.58it/s]"
          ]
        },
        {
          "output_type": "stream",
          "name": "stderr",
          "text": [
            "\rExtracting test embeddings (flip):  76%|\u2588\u2588\u2588\u2588\u2588\u2588\u2588\u258b  | 1306/1712 [08:17<02:27,  2.76it/s]"
          ]
        },
        {
          "output_type": "stream",
          "name": "stderr",
          "text": [
            "\rExtracting test embeddings (flip):  76%|\u2588\u2588\u2588\u2588\u2588\u2588\u2588\u258b  | 1307/1712 [08:17<02:38,  2.56it/s]"
          ]
        },
        {
          "output_type": "stream",
          "name": "stderr",
          "text": [
            "\rExtracting test embeddings (flip):  76%|\u2588\u2588\u2588\u2588\u2588\u2588\u2588\u258b  | 1308/1712 [08:18<02:27,  2.74it/s]"
          ]
        },
        {
          "output_type": "stream",
          "name": "stderr",
          "text": [
            "\rExtracting test embeddings (flip):  76%|\u2588\u2588\u2588\u2588\u2588\u2588\u2588\u258b  | 1309/1712 [08:18<02:36,  2.58it/s]"
          ]
        },
        {
          "output_type": "stream",
          "name": "stderr",
          "text": [
            "\rExtracting test embeddings (flip):  77%|\u2588\u2588\u2588\u2588\u2588\u2588\u2588\u258b  | 1310/1712 [08:18<02:25,  2.76it/s]"
          ]
        },
        {
          "output_type": "stream",
          "name": "stderr",
          "text": [
            "\rExtracting test embeddings (flip):  77%|\u2588\u2588\u2588\u2588\u2588\u2588\u2588\u258b  | 1311/1712 [08:19<02:49,  2.36it/s]"
          ]
        },
        {
          "output_type": "stream",
          "name": "stderr",
          "text": [
            "\rExtracting test embeddings (flip):  77%|\u2588\u2588\u2588\u2588\u2588\u2588\u2588\u258b  | 1312/1712 [08:19<02:35,  2.58it/s]"
          ]
        },
        {
          "output_type": "stream",
          "name": "stderr",
          "text": [
            "\rExtracting test embeddings (flip):  77%|\u2588\u2588\u2588\u2588\u2588\u2588\u2588\u258b  | 1313/1712 [08:20<02:30,  2.65it/s]"
          ]
        },
        {
          "output_type": "stream",
          "name": "stderr",
          "text": [
            "\rExtracting test embeddings (flip):  77%|\u2588\u2588\u2588\u2588\u2588\u2588\u2588\u258b  | 1314/1712 [08:20<02:21,  2.81it/s]"
          ]
        },
        {
          "output_type": "stream",
          "name": "stderr",
          "text": [
            "\rExtracting test embeddings (flip):  77%|\u2588\u2588\u2588\u2588\u2588\u2588\u2588\u258b  | 1315/1712 [08:20<02:42,  2.45it/s]"
          ]
        },
        {
          "output_type": "stream",
          "name": "stderr",
          "text": [
            "\rExtracting test embeddings (flip):  77%|\u2588\u2588\u2588\u2588\u2588\u2588\u2588\u258b  | 1316/1712 [08:21<02:29,  2.64it/s]"
          ]
        },
        {
          "output_type": "stream",
          "name": "stderr",
          "text": [
            "\rExtracting test embeddings (flip):  77%|\u2588\u2588\u2588\u2588\u2588\u2588\u2588\u258b  | 1317/1712 [08:21<02:30,  2.62it/s]"
          ]
        },
        {
          "output_type": "stream",
          "name": "stderr",
          "text": [
            "\rExtracting test embeddings (flip):  77%|\u2588\u2588\u2588\u2588\u2588\u2588\u2588\u258b  | 1318/1712 [08:21<02:21,  2.78it/s]"
          ]
        },
        {
          "output_type": "stream",
          "name": "stderr",
          "text": [
            "\rExtracting test embeddings (flip):  77%|\u2588\u2588\u2588\u2588\u2588\u2588\u2588\u258b  | 1319/1712 [08:22<02:35,  2.52it/s]"
          ]
        },
        {
          "output_type": "stream",
          "name": "stderr",
          "text": [
            "\rExtracting test embeddings (flip):  77%|\u2588\u2588\u2588\u2588\u2588\u2588\u2588\u258b  | 1320/1712 [08:22<02:24,  2.71it/s]"
          ]
        },
        {
          "output_type": "stream",
          "name": "stderr",
          "text": [
            "\rExtracting test embeddings (flip):  77%|\u2588\u2588\u2588\u2588\u2588\u2588\u2588\u258b  | 1321/1712 [08:23<02:29,  2.61it/s]"
          ]
        },
        {
          "output_type": "stream",
          "name": "stderr",
          "text": [
            "\rExtracting test embeddings (flip):  77%|\u2588\u2588\u2588\u2588\u2588\u2588\u2588\u258b  | 1322/1712 [08:23<02:20,  2.78it/s]"
          ]
        },
        {
          "output_type": "stream",
          "name": "stderr",
          "text": [
            "\rExtracting test embeddings (flip):  77%|\u2588\u2588\u2588\u2588\u2588\u2588\u2588\u258b  | 1323/1712 [08:23<02:33,  2.54it/s]"
          ]
        },
        {
          "output_type": "stream",
          "name": "stderr",
          "text": [
            "\rExtracting test embeddings (flip):  77%|\u2588\u2588\u2588\u2588\u2588\u2588\u2588\u258b  | 1324/1712 [08:24<02:22,  2.72it/s]"
          ]
        },
        {
          "output_type": "stream",
          "name": "stderr",
          "text": [
            "\rExtracting test embeddings (flip):  77%|\u2588\u2588\u2588\u2588\u2588\u2588\u2588\u258b  | 1325/1712 [08:24<02:31,  2.56it/s]"
          ]
        },
        {
          "output_type": "stream",
          "name": "stderr",
          "text": [
            "\rExtracting test embeddings (flip):  77%|\u2588\u2588\u2588\u2588\u2588\u2588\u2588\u258b  | 1326/1712 [08:24<02:21,  2.73it/s]"
          ]
        },
        {
          "output_type": "stream",
          "name": "stderr",
          "text": [
            "\rExtracting test embeddings (flip):  78%|\u2588\u2588\u2588\u2588\u2588\u2588\u2588\u258a  | 1327/1712 [08:25<02:31,  2.54it/s]"
          ]
        },
        {
          "output_type": "stream",
          "name": "stderr",
          "text": [
            "\rExtracting test embeddings (flip):  78%|\u2588\u2588\u2588\u2588\u2588\u2588\u2588\u258a  | 1328/1712 [08:25<02:20,  2.73it/s]"
          ]
        },
        {
          "output_type": "stream",
          "name": "stderr",
          "text": [
            "\rExtracting test embeddings (flip):  78%|\u2588\u2588\u2588\u2588\u2588\u2588\u2588\u258a  | 1329/1712 [08:26<02:27,  2.59it/s]"
          ]
        },
        {
          "output_type": "stream",
          "name": "stderr",
          "text": [
            "\rExtracting test embeddings (flip):  78%|\u2588\u2588\u2588\u2588\u2588\u2588\u2588\u258a  | 1330/1712 [08:26<02:18,  2.76it/s]"
          ]
        },
        {
          "output_type": "stream",
          "name": "stderr",
          "text": [
            "\rExtracting test embeddings (flip):  78%|\u2588\u2588\u2588\u2588\u2588\u2588\u2588\u258a  | 1331/1712 [08:26<02:32,  2.50it/s]"
          ]
        },
        {
          "output_type": "stream",
          "name": "stderr",
          "text": [
            "\rExtracting test embeddings (flip):  78%|\u2588\u2588\u2588\u2588\u2588\u2588\u2588\u258a  | 1332/1712 [08:27<02:21,  2.68it/s]"
          ]
        },
        {
          "output_type": "stream",
          "name": "stderr",
          "text": [
            "\rExtracting test embeddings (flip):  78%|\u2588\u2588\u2588\u2588\u2588\u2588\u2588\u258a  | 1333/1712 [08:27<02:26,  2.60it/s]"
          ]
        },
        {
          "output_type": "stream",
          "name": "stderr",
          "text": [
            "\rExtracting test embeddings (flip):  78%|\u2588\u2588\u2588\u2588\u2588\u2588\u2588\u258a  | 1334/1712 [08:28<02:16,  2.76it/s]"
          ]
        },
        {
          "output_type": "stream",
          "name": "stderr",
          "text": [
            "\rExtracting test embeddings (flip):  78%|\u2588\u2588\u2588\u2588\u2588\u2588\u2588\u258a  | 1335/1712 [08:28<02:33,  2.46it/s]"
          ]
        },
        {
          "output_type": "stream",
          "name": "stderr",
          "text": [
            "\rExtracting test embeddings (flip):  78%|\u2588\u2588\u2588\u2588\u2588\u2588\u2588\u258a  | 1336/1712 [08:28<02:21,  2.65it/s]"
          ]
        },
        {
          "output_type": "stream",
          "name": "stderr",
          "text": [
            "\rExtracting test embeddings (flip):  78%|\u2588\u2588\u2588\u2588\u2588\u2588\u2588\u258a  | 1337/1712 [08:29<02:21,  2.65it/s]"
          ]
        },
        {
          "output_type": "stream",
          "name": "stderr",
          "text": [
            "\rExtracting test embeddings (flip):  78%|\u2588\u2588\u2588\u2588\u2588\u2588\u2588\u258a  | 1338/1712 [08:29<02:13,  2.81it/s]"
          ]
        },
        {
          "output_type": "stream",
          "name": "stderr",
          "text": [
            "\rExtracting test embeddings (flip):  78%|\u2588\u2588\u2588\u2588\u2588\u2588\u2588\u258a  | 1339/1712 [08:30<02:30,  2.47it/s]"
          ]
        },
        {
          "output_type": "stream",
          "name": "stderr",
          "text": [
            "\rExtracting test embeddings (flip):  78%|\u2588\u2588\u2588\u2588\u2588\u2588\u2588\u258a  | 1340/1712 [08:30<02:19,  2.67it/s]"
          ]
        },
        {
          "output_type": "stream",
          "name": "stderr",
          "text": [
            "\rExtracting test embeddings (flip):  78%|\u2588\u2588\u2588\u2588\u2588\u2588\u2588\u258a  | 1341/1712 [08:30<02:18,  2.68it/s]"
          ]
        },
        {
          "output_type": "stream",
          "name": "stderr",
          "text": [
            "\rExtracting test embeddings (flip):  78%|\u2588\u2588\u2588\u2588\u2588\u2588\u2588\u258a  | 1342/1712 [08:31<02:10,  2.83it/s]"
          ]
        },
        {
          "output_type": "stream",
          "name": "stderr",
          "text": [
            "\rExtracting test embeddings (flip):  78%|\u2588\u2588\u2588\u2588\u2588\u2588\u2588\u258a  | 1343/1712 [08:31<02:29,  2.47it/s]"
          ]
        },
        {
          "output_type": "stream",
          "name": "stderr",
          "text": [
            "\rExtracting test embeddings (flip):  79%|\u2588\u2588\u2588\u2588\u2588\u2588\u2588\u258a  | 1344/1712 [08:31<02:18,  2.66it/s]"
          ]
        },
        {
          "output_type": "stream",
          "name": "stderr",
          "text": [
            "\rExtracting test embeddings (flip):  79%|\u2588\u2588\u2588\u2588\u2588\u2588\u2588\u258a  | 1345/1712 [08:32<02:14,  2.72it/s]"
          ]
        },
        {
          "output_type": "stream",
          "name": "stderr",
          "text": [
            "\rExtracting test embeddings (flip):  79%|\u2588\u2588\u2588\u2588\u2588\u2588\u2588\u258a  | 1346/1712 [08:32<02:07,  2.86it/s]"
          ]
        },
        {
          "output_type": "stream",
          "name": "stderr",
          "text": [
            "\rExtracting test embeddings (flip):  79%|\u2588\u2588\u2588\u2588\u2588\u2588\u2588\u258a  | 1347/1712 [08:33<02:29,  2.43it/s]"
          ]
        },
        {
          "output_type": "stream",
          "name": "stderr",
          "text": [
            "\rExtracting test embeddings (flip):  79%|\u2588\u2588\u2588\u2588\u2588\u2588\u2588\u258a  | 1348/1712 [08:33<02:18,  2.64it/s]"
          ]
        },
        {
          "output_type": "stream",
          "name": "stderr",
          "text": [
            "\rExtracting test embeddings (flip):  79%|\u2588\u2588\u2588\u2588\u2588\u2588\u2588\u2589  | 1349/1712 [08:33<02:14,  2.71it/s]"
          ]
        },
        {
          "output_type": "stream",
          "name": "stderr",
          "text": [
            "\rExtracting test embeddings (flip):  79%|\u2588\u2588\u2588\u2588\u2588\u2588\u2588\u2589  | 1350/1712 [08:34<02:06,  2.86it/s]"
          ]
        },
        {
          "output_type": "stream",
          "name": "stderr",
          "text": [
            "\rExtracting test embeddings (flip):  79%|\u2588\u2588\u2588\u2588\u2588\u2588\u2588\u2589  | 1351/1712 [08:34<02:29,  2.42it/s]"
          ]
        },
        {
          "output_type": "stream",
          "name": "stderr",
          "text": [
            "\rExtracting test embeddings (flip):  79%|\u2588\u2588\u2588\u2588\u2588\u2588\u2588\u2589  | 1352/1712 [08:34<02:17,  2.62it/s]"
          ]
        },
        {
          "output_type": "stream",
          "name": "stderr",
          "text": [
            "\rExtracting test embeddings (flip):  79%|\u2588\u2588\u2588\u2588\u2588\u2588\u2588\u2589  | 1353/1712 [08:35<02:10,  2.74it/s]"
          ]
        },
        {
          "output_type": "stream",
          "name": "stderr",
          "text": [
            "\rExtracting test embeddings (flip):  79%|\u2588\u2588\u2588\u2588\u2588\u2588\u2588\u2589  | 1354/1712 [08:35<02:04,  2.88it/s]"
          ]
        },
        {
          "output_type": "stream",
          "name": "stderr",
          "text": [
            "\rExtracting test embeddings (flip):  79%|\u2588\u2588\u2588\u2588\u2588\u2588\u2588\u2589  | 1355/1712 [08:36<02:26,  2.43it/s]"
          ]
        },
        {
          "output_type": "stream",
          "name": "stderr",
          "text": [
            "\rExtracting test embeddings (flip):  79%|\u2588\u2588\u2588\u2588\u2588\u2588\u2588\u2589  | 1356/1712 [08:36<02:15,  2.64it/s]"
          ]
        },
        {
          "output_type": "stream",
          "name": "stderr",
          "text": [
            "\rExtracting test embeddings (flip):  79%|\u2588\u2588\u2588\u2588\u2588\u2588\u2588\u2589  | 1357/1712 [08:36<02:10,  2.73it/s]"
          ]
        },
        {
          "output_type": "stream",
          "name": "stderr",
          "text": [
            "\rExtracting test embeddings (flip):  79%|\u2588\u2588\u2588\u2588\u2588\u2588\u2588\u2589  | 1358/1712 [08:37<02:03,  2.87it/s]"
          ]
        },
        {
          "output_type": "stream",
          "name": "stderr",
          "text": [
            "\rExtracting test embeddings (flip):  79%|\u2588\u2588\u2588\u2588\u2588\u2588\u2588\u2589  | 1359/1712 [08:37<02:26,  2.41it/s]"
          ]
        },
        {
          "output_type": "stream",
          "name": "stderr",
          "text": [
            "\rExtracting test embeddings (flip):  79%|\u2588\u2588\u2588\u2588\u2588\u2588\u2588\u2589  | 1360/1712 [08:37<02:14,  2.62it/s]"
          ]
        },
        {
          "output_type": "stream",
          "name": "stderr",
          "text": [
            "\rExtracting test embeddings (flip):  79%|\u2588\u2588\u2588\u2588\u2588\u2588\u2588\u2589  | 1361/1712 [08:38<02:07,  2.76it/s]"
          ]
        },
        {
          "output_type": "stream",
          "name": "stderr",
          "text": [
            "\rExtracting test embeddings (flip):  80%|\u2588\u2588\u2588\u2588\u2588\u2588\u2588\u2589  | 1362/1712 [08:38<02:01,  2.89it/s]"
          ]
        },
        {
          "output_type": "stream",
          "name": "stderr",
          "text": [
            "\rExtracting test embeddings (flip):  80%|\u2588\u2588\u2588\u2588\u2588\u2588\u2588\u2589  | 1363/1712 [08:39<02:22,  2.45it/s]"
          ]
        },
        {
          "output_type": "stream",
          "name": "stderr",
          "text": [
            "\rExtracting test embeddings (flip):  80%|\u2588\u2588\u2588\u2588\u2588\u2588\u2588\u2589  | 1364/1712 [08:39<02:11,  2.65it/s]"
          ]
        },
        {
          "output_type": "stream",
          "name": "stderr",
          "text": [
            "\rExtracting test embeddings (flip):  80%|\u2588\u2588\u2588\u2588\u2588\u2588\u2588\u2589  | 1365/1712 [08:39<02:06,  2.74it/s]"
          ]
        },
        {
          "output_type": "stream",
          "name": "stderr",
          "text": [
            "\rExtracting test embeddings (flip):  80%|\u2588\u2588\u2588\u2588\u2588\u2588\u2588\u2589  | 1366/1712 [08:40<02:00,  2.88it/s]"
          ]
        },
        {
          "output_type": "stream",
          "name": "stderr",
          "text": [
            "\rExtracting test embeddings (flip):  80%|\u2588\u2588\u2588\u2588\u2588\u2588\u2588\u2589  | 1367/1712 [08:40<02:22,  2.42it/s]"
          ]
        },
        {
          "output_type": "stream",
          "name": "stderr",
          "text": [
            "\rExtracting test embeddings (flip):  80%|\u2588\u2588\u2588\u2588\u2588\u2588\u2588\u2589  | 1368/1712 [08:40<02:11,  2.62it/s]"
          ]
        },
        {
          "output_type": "stream",
          "name": "stderr",
          "text": [
            "\rExtracting test embeddings (flip):  80%|\u2588\u2588\u2588\u2588\u2588\u2588\u2588\u2589  | 1369/1712 [08:41<02:05,  2.73it/s]"
          ]
        },
        {
          "output_type": "stream",
          "name": "stderr",
          "text": [
            "\rExtracting test embeddings (flip):  80%|\u2588\u2588\u2588\u2588\u2588\u2588\u2588\u2588  | 1370/1712 [08:41<01:58,  2.88it/s]"
          ]
        },
        {
          "output_type": "stream",
          "name": "stderr",
          "text": [
            "\rExtracting test embeddings (flip):  80%|\u2588\u2588\u2588\u2588\u2588\u2588\u2588\u2588  | 1371/1712 [08:42<02:18,  2.47it/s]"
          ]
        },
        {
          "output_type": "stream",
          "name": "stderr",
          "text": [
            "\rExtracting test embeddings (flip):  80%|\u2588\u2588\u2588\u2588\u2588\u2588\u2588\u2588  | 1372/1712 [08:42<02:07,  2.67it/s]"
          ]
        },
        {
          "output_type": "stream",
          "name": "stderr",
          "text": [
            "\rExtracting test embeddings (flip):  80%|\u2588\u2588\u2588\u2588\u2588\u2588\u2588\u2588  | 1373/1712 [08:42<02:03,  2.74it/s]"
          ]
        },
        {
          "output_type": "stream",
          "name": "stderr",
          "text": [
            "\rExtracting test embeddings (flip):  80%|\u2588\u2588\u2588\u2588\u2588\u2588\u2588\u2588  | 1374/1712 [08:43<01:57,  2.88it/s]"
          ]
        },
        {
          "output_type": "stream",
          "name": "stderr",
          "text": [
            "\rExtracting test embeddings (flip):  80%|\u2588\u2588\u2588\u2588\u2588\u2588\u2588\u2588  | 1375/1712 [08:43<02:16,  2.46it/s]"
          ]
        },
        {
          "output_type": "stream",
          "name": "stderr",
          "text": [
            "\rExtracting test embeddings (flip):  80%|\u2588\u2588\u2588\u2588\u2588\u2588\u2588\u2588  | 1376/1712 [08:43<02:06,  2.66it/s]"
          ]
        },
        {
          "output_type": "stream",
          "name": "stderr",
          "text": [
            "\rExtracting test embeddings (flip):  80%|\u2588\u2588\u2588\u2588\u2588\u2588\u2588\u2588  | 1377/1712 [08:44<02:02,  2.73it/s]"
          ]
        },
        {
          "output_type": "stream",
          "name": "stderr",
          "text": [
            "\rExtracting test embeddings (flip):  80%|\u2588\u2588\u2588\u2588\u2588\u2588\u2588\u2588  | 1378/1712 [08:44<01:56,  2.88it/s]"
          ]
        },
        {
          "output_type": "stream",
          "name": "stderr",
          "text": [
            "\rExtracting test embeddings (flip):  81%|\u2588\u2588\u2588\u2588\u2588\u2588\u2588\u2588  | 1379/1712 [08:45<02:16,  2.45it/s]"
          ]
        },
        {
          "output_type": "stream",
          "name": "stderr",
          "text": [
            "\rExtracting test embeddings (flip):  81%|\u2588\u2588\u2588\u2588\u2588\u2588\u2588\u2588  | 1380/1712 [08:45<02:05,  2.65it/s]"
          ]
        },
        {
          "output_type": "stream",
          "name": "stderr",
          "text": [
            "\rExtracting test embeddings (flip):  81%|\u2588\u2588\u2588\u2588\u2588\u2588\u2588\u2588  | 1381/1712 [08:45<02:02,  2.71it/s]"
          ]
        },
        {
          "output_type": "stream",
          "name": "stderr",
          "text": [
            "\rExtracting test embeddings (flip):  81%|\u2588\u2588\u2588\u2588\u2588\u2588\u2588\u2588  | 1382/1712 [08:46<01:55,  2.86it/s]"
          ]
        },
        {
          "output_type": "stream",
          "name": "stderr",
          "text": [
            "\rExtracting test embeddings (flip):  81%|\u2588\u2588\u2588\u2588\u2588\u2588\u2588\u2588  | 1383/1712 [08:46<02:12,  2.48it/s]"
          ]
        },
        {
          "output_type": "stream",
          "name": "stderr",
          "text": [
            "\rExtracting test embeddings (flip):  81%|\u2588\u2588\u2588\u2588\u2588\u2588\u2588\u2588  | 1384/1712 [08:46<02:03,  2.66it/s]"
          ]
        },
        {
          "output_type": "stream",
          "name": "stderr",
          "text": [
            "\rExtracting test embeddings (flip):  81%|\u2588\u2588\u2588\u2588\u2588\u2588\u2588\u2588  | 1385/1712 [08:47<02:05,  2.61it/s]"
          ]
        },
        {
          "output_type": "stream",
          "name": "stderr",
          "text": [
            "\rExtracting test embeddings (flip):  81%|\u2588\u2588\u2588\u2588\u2588\u2588\u2588\u2588  | 1386/1712 [08:47<01:57,  2.78it/s]"
          ]
        },
        {
          "output_type": "stream",
          "name": "stderr",
          "text": [
            "\rExtracting test embeddings (flip):  81%|\u2588\u2588\u2588\u2588\u2588\u2588\u2588\u2588  | 1387/1712 [08:48<02:09,  2.52it/s]"
          ]
        },
        {
          "output_type": "stream",
          "name": "stderr",
          "text": [
            "\rExtracting test embeddings (flip):  81%|\u2588\u2588\u2588\u2588\u2588\u2588\u2588\u2588  | 1388/1712 [08:48<02:00,  2.70it/s]"
          ]
        },
        {
          "output_type": "stream",
          "name": "stderr",
          "text": [
            "\rExtracting test embeddings (flip):  81%|\u2588\u2588\u2588\u2588\u2588\u2588\u2588\u2588  | 1389/1712 [08:48<02:15,  2.38it/s]"
          ]
        },
        {
          "output_type": "stream",
          "name": "stderr",
          "text": [
            "\rExtracting test embeddings (flip):  81%|\u2588\u2588\u2588\u2588\u2588\u2588\u2588\u2588  | 1390/1712 [08:49<02:04,  2.59it/s]"
          ]
        },
        {
          "output_type": "stream",
          "name": "stderr",
          "text": [
            "\rExtracting test embeddings (flip):  81%|\u2588\u2588\u2588\u2588\u2588\u2588\u2588\u2588\u258f | 1391/1712 [08:49<02:00,  2.66it/s]"
          ]
        },
        {
          "output_type": "stream",
          "name": "stderr",
          "text": [
            "\rExtracting test embeddings (flip):  81%|\u2588\u2588\u2588\u2588\u2588\u2588\u2588\u2588\u258f | 1392/1712 [08:49<01:53,  2.82it/s]"
          ]
        },
        {
          "output_type": "stream",
          "name": "stderr",
          "text": [
            "\rExtracting test embeddings (flip):  81%|\u2588\u2588\u2588\u2588\u2588\u2588\u2588\u2588\u258f | 1393/1712 [08:50<02:10,  2.44it/s]"
          ]
        },
        {
          "output_type": "stream",
          "name": "stderr",
          "text": [
            "\rExtracting test embeddings (flip):  81%|\u2588\u2588\u2588\u2588\u2588\u2588\u2588\u2588\u258f | 1394/1712 [08:50<02:00,  2.64it/s]"
          ]
        },
        {
          "output_type": "stream",
          "name": "stderr",
          "text": [
            "\rExtracting test embeddings (flip):  81%|\u2588\u2588\u2588\u2588\u2588\u2588\u2588\u2588\u258f | 1395/1712 [08:51<01:57,  2.69it/s]"
          ]
        },
        {
          "output_type": "stream",
          "name": "stderr",
          "text": [
            "\rExtracting test embeddings (flip):  82%|\u2588\u2588\u2588\u2588\u2588\u2588\u2588\u2588\u258f | 1396/1712 [08:51<01:51,  2.84it/s]"
          ]
        },
        {
          "output_type": "stream",
          "name": "stderr",
          "text": [
            "\rExtracting test embeddings (flip):  82%|\u2588\u2588\u2588\u2588\u2588\u2588\u2588\u2588\u258f | 1397/1712 [08:51<02:08,  2.46it/s]"
          ]
        },
        {
          "output_type": "stream",
          "name": "stderr",
          "text": [
            "\rExtracting test embeddings (flip):  82%|\u2588\u2588\u2588\u2588\u2588\u2588\u2588\u2588\u258f | 1398/1712 [08:52<01:58,  2.66it/s]"
          ]
        },
        {
          "output_type": "stream",
          "name": "stderr",
          "text": [
            "\rExtracting test embeddings (flip):  82%|\u2588\u2588\u2588\u2588\u2588\u2588\u2588\u2588\u258f | 1399/1712 [08:52<01:57,  2.67it/s]"
          ]
        },
        {
          "output_type": "stream",
          "name": "stderr",
          "text": [
            "\rExtracting test embeddings (flip):  82%|\u2588\u2588\u2588\u2588\u2588\u2588\u2588\u2588\u258f | 1400/1712 [08:52<01:50,  2.83it/s]"
          ]
        },
        {
          "output_type": "stream",
          "name": "stderr",
          "text": [
            "\rExtracting test embeddings (flip):  82%|\u2588\u2588\u2588\u2588\u2588\u2588\u2588\u2588\u258f | 1401/1712 [08:53<02:03,  2.52it/s]"
          ]
        },
        {
          "output_type": "stream",
          "name": "stderr",
          "text": [
            "\rExtracting test embeddings (flip):  82%|\u2588\u2588\u2588\u2588\u2588\u2588\u2588\u2588\u258f | 1402/1712 [08:53<01:54,  2.70it/s]"
          ]
        },
        {
          "output_type": "stream",
          "name": "stderr",
          "text": [
            "\rExtracting test embeddings (flip):  82%|\u2588\u2588\u2588\u2588\u2588\u2588\u2588\u2588\u258f | 1403/1712 [08:54<01:59,  2.59it/s]"
          ]
        },
        {
          "output_type": "stream",
          "name": "stderr",
          "text": [
            "\rExtracting test embeddings (flip):  82%|\u2588\u2588\u2588\u2588\u2588\u2588\u2588\u2588\u258f | 1404/1712 [08:54<01:51,  2.76it/s]"
          ]
        },
        {
          "output_type": "stream",
          "name": "stderr",
          "text": [
            "\rExtracting test embeddings (flip):  82%|\u2588\u2588\u2588\u2588\u2588\u2588\u2588\u2588\u258f | 1405/1712 [08:54<02:00,  2.55it/s]"
          ]
        },
        {
          "output_type": "stream",
          "name": "stderr",
          "text": [
            "\rExtracting test embeddings (flip):  82%|\u2588\u2588\u2588\u2588\u2588\u2588\u2588\u2588\u258f | 1406/1712 [08:55<01:52,  2.73it/s]"
          ]
        },
        {
          "output_type": "stream",
          "name": "stderr",
          "text": [
            "\rExtracting test embeddings (flip):  82%|\u2588\u2588\u2588\u2588\u2588\u2588\u2588\u2588\u258f | 1407/1712 [08:55<01:59,  2.55it/s]"
          ]
        },
        {
          "output_type": "stream",
          "name": "stderr",
          "text": [
            "\rExtracting test embeddings (flip):  82%|\u2588\u2588\u2588\u2588\u2588\u2588\u2588\u2588\u258f | 1408/1712 [08:55<01:51,  2.73it/s]"
          ]
        },
        {
          "output_type": "stream",
          "name": "stderr",
          "text": [
            "\rExtracting test embeddings (flip):  82%|\u2588\u2588\u2588\u2588\u2588\u2588\u2588\u2588\u258f | 1409/1712 [08:56<01:55,  2.62it/s]"
          ]
        },
        {
          "output_type": "stream",
          "name": "stderr",
          "text": [
            "\rExtracting test embeddings (flip):  82%|\u2588\u2588\u2588\u2588\u2588\u2588\u2588\u2588\u258f | 1410/1712 [08:56<01:48,  2.78it/s]"
          ]
        },
        {
          "output_type": "stream",
          "name": "stderr",
          "text": [
            "\rExtracting test embeddings (flip):  82%|\u2588\u2588\u2588\u2588\u2588\u2588\u2588\u2588\u258f | 1411/1712 [08:57<01:49,  2.76it/s]"
          ]
        },
        {
          "output_type": "stream",
          "name": "stderr",
          "text": [
            "\rExtracting test embeddings (flip):  82%|\u2588\u2588\u2588\u2588\u2588\u2588\u2588\u2588\u258f | 1412/1712 [08:57<01:43,  2.89it/s]"
          ]
        },
        {
          "output_type": "stream",
          "name": "stderr",
          "text": [
            "\rExtracting test embeddings (flip):  83%|\u2588\u2588\u2588\u2588\u2588\u2588\u2588\u2588\u258e | 1413/1712 [08:57<01:58,  2.51it/s]"
          ]
        },
        {
          "output_type": "stream",
          "name": "stderr",
          "text": [
            "\rExtracting test embeddings (flip):  83%|\u2588\u2588\u2588\u2588\u2588\u2588\u2588\u2588\u258e | 1414/1712 [08:58<01:50,  2.69it/s]"
          ]
        },
        {
          "output_type": "stream",
          "name": "stderr",
          "text": [
            "\rExtracting test embeddings (flip):  83%|\u2588\u2588\u2588\u2588\u2588\u2588\u2588\u2588\u258e | 1415/1712 [08:58<02:00,  2.46it/s]"
          ]
        },
        {
          "output_type": "stream",
          "name": "stderr",
          "text": [
            "\rExtracting test embeddings (flip):  83%|\u2588\u2588\u2588\u2588\u2588\u2588\u2588\u2588\u258e | 1416/1712 [08:58<01:51,  2.65it/s]"
          ]
        },
        {
          "output_type": "stream",
          "name": "stderr",
          "text": [
            "\rExtracting test embeddings (flip):  83%|\u2588\u2588\u2588\u2588\u2588\u2588\u2588\u2588\u258e | 1417/1712 [08:59<01:52,  2.63it/s]"
          ]
        },
        {
          "output_type": "stream",
          "name": "stderr",
          "text": [
            "\rExtracting test embeddings (flip):  83%|\u2588\u2588\u2588\u2588\u2588\u2588\u2588\u2588\u258e | 1418/1712 [08:59<01:45,  2.79it/s]"
          ]
        },
        {
          "output_type": "stream",
          "name": "stderr",
          "text": [
            "\rExtracting test embeddings (flip):  83%|\u2588\u2588\u2588\u2588\u2588\u2588\u2588\u2588\u258e | 1419/1712 [09:00<01:47,  2.71it/s]"
          ]
        },
        {
          "output_type": "stream",
          "name": "stderr",
          "text": [
            "\rExtracting test embeddings (flip):  83%|\u2588\u2588\u2588\u2588\u2588\u2588\u2588\u2588\u258e | 1420/1712 [09:00<01:42,  2.86it/s]"
          ]
        },
        {
          "output_type": "stream",
          "name": "stderr",
          "text": [
            "\rExtracting test embeddings (flip):  83%|\u2588\u2588\u2588\u2588\u2588\u2588\u2588\u2588\u258e | 1421/1712 [09:00<01:56,  2.50it/s]"
          ]
        },
        {
          "output_type": "stream",
          "name": "stderr",
          "text": [
            "\rExtracting test embeddings (flip):  83%|\u2588\u2588\u2588\u2588\u2588\u2588\u2588\u2588\u258e | 1422/1712 [09:01<01:47,  2.69it/s]"
          ]
        },
        {
          "output_type": "stream",
          "name": "stderr",
          "text": [
            "\rExtracting test embeddings (flip):  83%|\u2588\u2588\u2588\u2588\u2588\u2588\u2588\u2588\u258e | 1423/1712 [09:01<01:48,  2.67it/s]"
          ]
        },
        {
          "output_type": "stream",
          "name": "stderr",
          "text": [
            "\rExtracting test embeddings (flip):  83%|\u2588\u2588\u2588\u2588\u2588\u2588\u2588\u2588\u258e | 1424/1712 [09:01<01:42,  2.82it/s]"
          ]
        },
        {
          "output_type": "stream",
          "name": "stderr",
          "text": [
            "\rExtracting test embeddings (flip):  83%|\u2588\u2588\u2588\u2588\u2588\u2588\u2588\u2588\u258e | 1425/1712 [09:02<01:56,  2.47it/s]"
          ]
        },
        {
          "output_type": "stream",
          "name": "stderr",
          "text": [
            "\rExtracting test embeddings (flip):  83%|\u2588\u2588\u2588\u2588\u2588\u2588\u2588\u2588\u258e | 1426/1712 [09:02<01:47,  2.67it/s]"
          ]
        },
        {
          "output_type": "stream",
          "name": "stderr",
          "text": [
            "\rExtracting test embeddings (flip):  83%|\u2588\u2588\u2588\u2588\u2588\u2588\u2588\u2588\u258e | 1427/1712 [09:03<01:45,  2.69it/s]"
          ]
        },
        {
          "output_type": "stream",
          "name": "stderr",
          "text": [
            "\rExtracting test embeddings (flip):  83%|\u2588\u2588\u2588\u2588\u2588\u2588\u2588\u2588\u258e | 1428/1712 [09:03<01:40,  2.84it/s]"
          ]
        },
        {
          "output_type": "stream",
          "name": "stderr",
          "text": [
            "\rExtracting test embeddings (flip):  83%|\u2588\u2588\u2588\u2588\u2588\u2588\u2588\u2588\u258e | 1429/1712 [09:03<01:54,  2.47it/s]"
          ]
        },
        {
          "output_type": "stream",
          "name": "stderr",
          "text": [
            "\rExtracting test embeddings (flip):  84%|\u2588\u2588\u2588\u2588\u2588\u2588\u2588\u2588\u258e | 1430/1712 [09:04<01:45,  2.67it/s]"
          ]
        },
        {
          "output_type": "stream",
          "name": "stderr",
          "text": [
            "\rExtracting test embeddings (flip):  84%|\u2588\u2588\u2588\u2588\u2588\u2588\u2588\u2588\u258e | 1431/1712 [09:04<01:43,  2.71it/s]"
          ]
        },
        {
          "output_type": "stream",
          "name": "stderr",
          "text": [
            "\rExtracting test embeddings (flip):  84%|\u2588\u2588\u2588\u2588\u2588\u2588\u2588\u2588\u258e | 1432/1712 [09:04<01:37,  2.86it/s]"
          ]
        },
        {
          "output_type": "stream",
          "name": "stderr",
          "text": [
            "\rExtracting test embeddings (flip):  84%|\u2588\u2588\u2588\u2588\u2588\u2588\u2588\u2588\u258e | 1433/1712 [09:05<01:54,  2.44it/s]"
          ]
        },
        {
          "output_type": "stream",
          "name": "stderr",
          "text": [
            "\rExtracting test embeddings (flip):  84%|\u2588\u2588\u2588\u2588\u2588\u2588\u2588\u2588\u258d | 1434/1712 [09:05<01:45,  2.64it/s]"
          ]
        },
        {
          "output_type": "stream",
          "name": "stderr",
          "text": [
            "\rExtracting test embeddings (flip):  84%|\u2588\u2588\u2588\u2588\u2588\u2588\u2588\u2588\u258d | 1435/1712 [09:06<01:41,  2.72it/s]"
          ]
        },
        {
          "output_type": "stream",
          "name": "stderr",
          "text": [
            "\rExtracting test embeddings (flip):  84%|\u2588\u2588\u2588\u2588\u2588\u2588\u2588\u2588\u258d | 1436/1712 [09:06<01:36,  2.86it/s]"
          ]
        },
        {
          "output_type": "stream",
          "name": "stderr",
          "text": [
            "\rExtracting test embeddings (flip):  84%|\u2588\u2588\u2588\u2588\u2588\u2588\u2588\u2588\u258d | 1437/1712 [09:06<01:51,  2.46it/s]"
          ]
        },
        {
          "output_type": "stream",
          "name": "stderr",
          "text": [
            "\rExtracting test embeddings (flip):  84%|\u2588\u2588\u2588\u2588\u2588\u2588\u2588\u2588\u258d | 1438/1712 [09:07<01:43,  2.65it/s]"
          ]
        },
        {
          "output_type": "stream",
          "name": "stderr",
          "text": [
            "\rExtracting test embeddings (flip):  84%|\u2588\u2588\u2588\u2588\u2588\u2588\u2588\u2588\u258d | 1439/1712 [09:07<01:40,  2.73it/s]"
          ]
        },
        {
          "output_type": "stream",
          "name": "stderr",
          "text": [
            "\rExtracting test embeddings (flip):  84%|\u2588\u2588\u2588\u2588\u2588\u2588\u2588\u2588\u258d | 1440/1712 [09:07<01:34,  2.87it/s]"
          ]
        },
        {
          "output_type": "stream",
          "name": "stderr",
          "text": [
            "\rExtracting test embeddings (flip):  84%|\u2588\u2588\u2588\u2588\u2588\u2588\u2588\u2588\u258d | 1441/1712 [09:08<01:50,  2.46it/s]"
          ]
        },
        {
          "output_type": "stream",
          "name": "stderr",
          "text": [
            "\rExtracting test embeddings (flip):  84%|\u2588\u2588\u2588\u2588\u2588\u2588\u2588\u2588\u258d | 1442/1712 [09:08<01:41,  2.65it/s]"
          ]
        },
        {
          "output_type": "stream",
          "name": "stderr",
          "text": [
            "\rExtracting test embeddings (flip):  84%|\u2588\u2588\u2588\u2588\u2588\u2588\u2588\u2588\u258d | 1443/1712 [09:09<01:38,  2.72it/s]"
          ]
        },
        {
          "output_type": "stream",
          "name": "stderr",
          "text": [
            "\rExtracting test embeddings (flip):  84%|\u2588\u2588\u2588\u2588\u2588\u2588\u2588\u2588\u258d | 1444/1712 [09:09<01:33,  2.87it/s]"
          ]
        },
        {
          "output_type": "stream",
          "name": "stderr",
          "text": [
            "\rExtracting test embeddings (flip):  84%|\u2588\u2588\u2588\u2588\u2588\u2588\u2588\u2588\u258d | 1445/1712 [09:09<01:47,  2.48it/s]"
          ]
        },
        {
          "output_type": "stream",
          "name": "stderr",
          "text": [
            "\rExtracting test embeddings (flip):  84%|\u2588\u2588\u2588\u2588\u2588\u2588\u2588\u2588\u258d | 1446/1712 [09:10<01:39,  2.68it/s]"
          ]
        },
        {
          "output_type": "stream",
          "name": "stderr",
          "text": [
            "\rExtracting test embeddings (flip):  85%|\u2588\u2588\u2588\u2588\u2588\u2588\u2588\u2588\u258d | 1447/1712 [09:10<01:38,  2.70it/s]"
          ]
        },
        {
          "output_type": "stream",
          "name": "stderr",
          "text": [
            "\rExtracting test embeddings (flip):  85%|\u2588\u2588\u2588\u2588\u2588\u2588\u2588\u2588\u258d | 1448/1712 [09:10<01:32,  2.85it/s]"
          ]
        },
        {
          "output_type": "stream",
          "name": "stderr",
          "text": [
            "\rExtracting test embeddings (flip):  85%|\u2588\u2588\u2588\u2588\u2588\u2588\u2588\u2588\u258d | 1449/1712 [09:11<01:46,  2.48it/s]"
          ]
        },
        {
          "output_type": "stream",
          "name": "stderr",
          "text": [
            "\rExtracting test embeddings (flip):  85%|\u2588\u2588\u2588\u2588\u2588\u2588\u2588\u2588\u258d | 1450/1712 [09:11<01:37,  2.68it/s]"
          ]
        },
        {
          "output_type": "stream",
          "name": "stderr",
          "text": [
            "\rExtracting test embeddings (flip):  85%|\u2588\u2588\u2588\u2588\u2588\u2588\u2588\u2588\u258d | 1451/1712 [09:12<01:36,  2.70it/s]"
          ]
        },
        {
          "output_type": "stream",
          "name": "stderr",
          "text": [
            "\rExtracting test embeddings (flip):  85%|\u2588\u2588\u2588\u2588\u2588\u2588\u2588\u2588\u258d | 1452/1712 [09:12<01:31,  2.84it/s]"
          ]
        },
        {
          "output_type": "stream",
          "name": "stderr",
          "text": [
            "\rExtracting test embeddings (flip):  85%|\u2588\u2588\u2588\u2588\u2588\u2588\u2588\u2588\u258d | 1453/1712 [09:12<01:42,  2.52it/s]"
          ]
        },
        {
          "output_type": "stream",
          "name": "stderr",
          "text": [
            "\rExtracting test embeddings (flip):  85%|\u2588\u2588\u2588\u2588\u2588\u2588\u2588\u2588\u258d | 1454/1712 [09:13<01:35,  2.71it/s]"
          ]
        },
        {
          "output_type": "stream",
          "name": "stderr",
          "text": [
            "\rExtracting test embeddings (flip):  85%|\u2588\u2588\u2588\u2588\u2588\u2588\u2588\u2588\u258d | 1455/1712 [09:13<01:35,  2.68it/s]"
          ]
        },
        {
          "output_type": "stream",
          "name": "stderr",
          "text": [
            "\rExtracting test embeddings (flip):  85%|\u2588\u2588\u2588\u2588\u2588\u2588\u2588\u2588\u258c | 1456/1712 [09:13<01:30,  2.83it/s]"
          ]
        },
        {
          "output_type": "stream",
          "name": "stderr",
          "text": [
            "\rExtracting test embeddings (flip):  85%|\u2588\u2588\u2588\u2588\u2588\u2588\u2588\u2588\u258c | 1457/1712 [09:14<01:40,  2.54it/s]"
          ]
        },
        {
          "output_type": "stream",
          "name": "stderr",
          "text": [
            "\rExtracting test embeddings (flip):  85%|\u2588\u2588\u2588\u2588\u2588\u2588\u2588\u2588\u258c | 1458/1712 [09:14<01:33,  2.73it/s]"
          ]
        },
        {
          "output_type": "stream",
          "name": "stderr",
          "text": [
            "\rExtracting test embeddings (flip):  85%|\u2588\u2588\u2588\u2588\u2588\u2588\u2588\u2588\u258c | 1459/1712 [09:15<01:36,  2.62it/s]"
          ]
        },
        {
          "output_type": "stream",
          "name": "stderr",
          "text": [
            "\rExtracting test embeddings (flip):  85%|\u2588\u2588\u2588\u2588\u2588\u2588\u2588\u2588\u258c | 1460/1712 [09:15<01:30,  2.79it/s]"
          ]
        },
        {
          "output_type": "stream",
          "name": "stderr",
          "text": [
            "\rExtracting test embeddings (flip):  85%|\u2588\u2588\u2588\u2588\u2588\u2588\u2588\u2588\u258c | 1461/1712 [09:15<01:38,  2.54it/s]"
          ]
        },
        {
          "output_type": "stream",
          "name": "stderr",
          "text": [
            "\rExtracting test embeddings (flip):  85%|\u2588\u2588\u2588\u2588\u2588\u2588\u2588\u2588\u258c | 1462/1712 [09:16<01:31,  2.73it/s]"
          ]
        },
        {
          "output_type": "stream",
          "name": "stderr",
          "text": [
            "\rExtracting test embeddings (flip):  85%|\u2588\u2588\u2588\u2588\u2588\u2588\u2588\u2588\u258c | 1463/1712 [09:16<01:36,  2.59it/s]"
          ]
        },
        {
          "output_type": "stream",
          "name": "stderr",
          "text": [
            "\rExtracting test embeddings (flip):  86%|\u2588\u2588\u2588\u2588\u2588\u2588\u2588\u2588\u258c | 1464/1712 [09:16<01:29,  2.76it/s]"
          ]
        },
        {
          "output_type": "stream",
          "name": "stderr",
          "text": [
            "\rExtracting test embeddings (flip):  86%|\u2588\u2588\u2588\u2588\u2588\u2588\u2588\u2588\u258c | 1465/1712 [09:17<01:35,  2.59it/s]"
          ]
        },
        {
          "output_type": "stream",
          "name": "stderr",
          "text": [
            "\rExtracting test embeddings (flip):  86%|\u2588\u2588\u2588\u2588\u2588\u2588\u2588\u2588\u258c | 1466/1712 [09:17<01:28,  2.77it/s]"
          ]
        },
        {
          "output_type": "stream",
          "name": "stderr",
          "text": [
            "\rExtracting test embeddings (flip):  86%|\u2588\u2588\u2588\u2588\u2588\u2588\u2588\u2588\u258c | 1467/1712 [09:18<01:42,  2.39it/s]"
          ]
        },
        {
          "output_type": "stream",
          "name": "stderr",
          "text": [
            "\rExtracting test embeddings (flip):  86%|\u2588\u2588\u2588\u2588\u2588\u2588\u2588\u2588\u258c | 1468/1712 [09:18<01:33,  2.60it/s]"
          ]
        },
        {
          "output_type": "stream",
          "name": "stderr",
          "text": [
            "\rExtracting test embeddings (flip):  86%|\u2588\u2588\u2588\u2588\u2588\u2588\u2588\u2588\u258c | 1469/1712 [09:18<01:30,  2.68it/s]"
          ]
        },
        {
          "output_type": "stream",
          "name": "stderr",
          "text": [
            "\rExtracting test embeddings (flip):  86%|\u2588\u2588\u2588\u2588\u2588\u2588\u2588\u2588\u258c | 1470/1712 [09:19<01:25,  2.83it/s]"
          ]
        },
        {
          "output_type": "stream",
          "name": "stderr",
          "text": [
            "\rExtracting test embeddings (flip):  86%|\u2588\u2588\u2588\u2588\u2588\u2588\u2588\u2588\u258c | 1471/1712 [09:19<01:39,  2.43it/s]"
          ]
        },
        {
          "output_type": "stream",
          "name": "stderr",
          "text": [
            "\rExtracting test embeddings (flip):  86%|\u2588\u2588\u2588\u2588\u2588\u2588\u2588\u2588\u258c | 1472/1712 [09:20<01:31,  2.63it/s]"
          ]
        },
        {
          "output_type": "stream",
          "name": "stderr",
          "text": [
            "\rExtracting test embeddings (flip):  86%|\u2588\u2588\u2588\u2588\u2588\u2588\u2588\u2588\u258c | 1473/1712 [09:20<01:29,  2.68it/s]"
          ]
        },
        {
          "output_type": "stream",
          "name": "stderr",
          "text": [
            "\rExtracting test embeddings (flip):  86%|\u2588\u2588\u2588\u2588\u2588\u2588\u2588\u2588\u258c | 1474/1712 [09:20<01:24,  2.83it/s]"
          ]
        },
        {
          "output_type": "stream",
          "name": "stderr",
          "text": [
            "\rExtracting test embeddings (flip):  86%|\u2588\u2588\u2588\u2588\u2588\u2588\u2588\u2588\u258c | 1475/1712 [09:21<01:36,  2.46it/s]"
          ]
        },
        {
          "output_type": "stream",
          "name": "stderr",
          "text": [
            "\rExtracting test embeddings (flip):  86%|\u2588\u2588\u2588\u2588\u2588\u2588\u2588\u2588\u258c | 1476/1712 [09:21<01:28,  2.66it/s]"
          ]
        },
        {
          "output_type": "stream",
          "name": "stderr",
          "text": [
            "\rExtracting test embeddings (flip):  86%|\u2588\u2588\u2588\u2588\u2588\u2588\u2588\u2588\u258b | 1477/1712 [09:21<01:29,  2.62it/s]"
          ]
        },
        {
          "output_type": "stream",
          "name": "stderr",
          "text": [
            "\rExtracting test embeddings (flip):  86%|\u2588\u2588\u2588\u2588\u2588\u2588\u2588\u2588\u258b | 1478/1712 [09:22<01:24,  2.79it/s]"
          ]
        },
        {
          "output_type": "stream",
          "name": "stderr",
          "text": [
            "\rExtracting test embeddings (flip):  86%|\u2588\u2588\u2588\u2588\u2588\u2588\u2588\u2588\u258b | 1479/1712 [09:22<01:32,  2.52it/s]"
          ]
        },
        {
          "output_type": "stream",
          "name": "stderr",
          "text": [
            "\rExtracting test embeddings (flip):  86%|\u2588\u2588\u2588\u2588\u2588\u2588\u2588\u2588\u258b | 1480/1712 [09:22<01:25,  2.71it/s]"
          ]
        },
        {
          "output_type": "stream",
          "name": "stderr",
          "text": [
            "\rExtracting test embeddings (flip):  87%|\u2588\u2588\u2588\u2588\u2588\u2588\u2588\u2588\u258b | 1481/1712 [09:23<01:28,  2.60it/s]"
          ]
        },
        {
          "output_type": "stream",
          "name": "stderr",
          "text": [
            "\rExtracting test embeddings (flip):  87%|\u2588\u2588\u2588\u2588\u2588\u2588\u2588\u2588\u258b | 1482/1712 [09:23<01:23,  2.76it/s]"
          ]
        },
        {
          "output_type": "stream",
          "name": "stderr",
          "text": [
            "\rExtracting test embeddings (flip):  87%|\u2588\u2588\u2588\u2588\u2588\u2588\u2588\u2588\u258b | 1483/1712 [09:24<01:32,  2.47it/s]"
          ]
        },
        {
          "output_type": "stream",
          "name": "stderr",
          "text": [
            "\rExtracting test embeddings (flip):  87%|\u2588\u2588\u2588\u2588\u2588\u2588\u2588\u2588\u258b | 1484/1712 [09:24<01:25,  2.67it/s]"
          ]
        },
        {
          "output_type": "stream",
          "name": "stderr",
          "text": [
            "\rExtracting test embeddings (flip):  87%|\u2588\u2588\u2588\u2588\u2588\u2588\u2588\u2588\u258b | 1485/1712 [09:24<01:26,  2.63it/s]"
          ]
        },
        {
          "output_type": "stream",
          "name": "stderr",
          "text": [
            "\rExtracting test embeddings (flip):  87%|\u2588\u2588\u2588\u2588\u2588\u2588\u2588\u2588\u258b | 1486/1712 [09:25<01:20,  2.79it/s]"
          ]
        },
        {
          "output_type": "stream",
          "name": "stderr",
          "text": [
            "\rExtracting test embeddings (flip):  87%|\u2588\u2588\u2588\u2588\u2588\u2588\u2588\u2588\u258b | 1487/1712 [09:25<01:30,  2.50it/s]"
          ]
        },
        {
          "output_type": "stream",
          "name": "stderr",
          "text": [
            "\rExtracting test embeddings (flip):  87%|\u2588\u2588\u2588\u2588\u2588\u2588\u2588\u2588\u258b | 1488/1712 [09:26<01:23,  2.69it/s]"
          ]
        },
        {
          "output_type": "stream",
          "name": "stderr",
          "text": [
            "\rExtracting test embeddings (flip):  87%|\u2588\u2588\u2588\u2588\u2588\u2588\u2588\u2588\u258b | 1489/1712 [09:26<01:24,  2.63it/s]"
          ]
        },
        {
          "output_type": "stream",
          "name": "stderr",
          "text": [
            "\rExtracting test embeddings (flip):  87%|\u2588\u2588\u2588\u2588\u2588\u2588\u2588\u2588\u258b | 1490/1712 [09:26<01:19,  2.80it/s]"
          ]
        },
        {
          "output_type": "stream",
          "name": "stderr",
          "text": [
            "\rExtracting test embeddings (flip):  87%|\u2588\u2588\u2588\u2588\u2588\u2588\u2588\u2588\u258b | 1491/1712 [09:27<01:23,  2.64it/s]"
          ]
        },
        {
          "output_type": "stream",
          "name": "stderr",
          "text": [
            "\rExtracting test embeddings (flip):  87%|\u2588\u2588\u2588\u2588\u2588\u2588\u2588\u2588\u258b | 1492/1712 [09:27<01:18,  2.81it/s]"
          ]
        },
        {
          "output_type": "stream",
          "name": "stderr",
          "text": [
            "\rExtracting test embeddings (flip):  87%|\u2588\u2588\u2588\u2588\u2588\u2588\u2588\u2588\u258b | 1493/1712 [09:27<01:25,  2.58it/s]"
          ]
        },
        {
          "output_type": "stream",
          "name": "stderr",
          "text": [
            "\rExtracting test embeddings (flip):  87%|\u2588\u2588\u2588\u2588\u2588\u2588\u2588\u2588\u258b | 1494/1712 [09:28<01:19,  2.74it/s]"
          ]
        },
        {
          "output_type": "stream",
          "name": "stderr",
          "text": [
            "\rExtracting test embeddings (flip):  87%|\u2588\u2588\u2588\u2588\u2588\u2588\u2588\u2588\u258b | 1495/1712 [09:28<01:24,  2.58it/s]"
          ]
        },
        {
          "output_type": "stream",
          "name": "stderr",
          "text": [
            "\rExtracting test embeddings (flip):  87%|\u2588\u2588\u2588\u2588\u2588\u2588\u2588\u2588\u258b | 1496/1712 [09:28<01:18,  2.75it/s]"
          ]
        },
        {
          "output_type": "stream",
          "name": "stderr",
          "text": [
            "\rExtracting test embeddings (flip):  87%|\u2588\u2588\u2588\u2588\u2588\u2588\u2588\u2588\u258b | 1497/1712 [09:29<01:23,  2.57it/s]"
          ]
        },
        {
          "output_type": "stream",
          "name": "stderr",
          "text": [
            "\rExtracting test embeddings (flip):  88%|\u2588\u2588\u2588\u2588\u2588\u2588\u2588\u2588\u258a | 1498/1712 [09:29<01:17,  2.75it/s]"
          ]
        },
        {
          "output_type": "stream",
          "name": "stderr",
          "text": [
            "\rExtracting test embeddings (flip):  88%|\u2588\u2588\u2588\u2588\u2588\u2588\u2588\u2588\u258a | 1499/1712 [09:30<01:29,  2.38it/s]"
          ]
        },
        {
          "output_type": "stream",
          "name": "stderr",
          "text": [
            "\rExtracting test embeddings (flip):  88%|\u2588\u2588\u2588\u2588\u2588\u2588\u2588\u2588\u258a | 1500/1712 [09:30<01:21,  2.59it/s]"
          ]
        },
        {
          "output_type": "stream",
          "name": "stderr",
          "text": [
            "\rExtracting test embeddings (flip):  88%|\u2588\u2588\u2588\u2588\u2588\u2588\u2588\u2588\u258a | 1501/1712 [09:30<01:17,  2.72it/s]"
          ]
        },
        {
          "output_type": "stream",
          "name": "stderr",
          "text": [
            "\rExtracting test embeddings (flip):  88%|\u2588\u2588\u2588\u2588\u2588\u2588\u2588\u2588\u258a | 1502/1712 [09:31<01:13,  2.86it/s]"
          ]
        },
        {
          "output_type": "stream",
          "name": "stderr",
          "text": [
            "\rExtracting test embeddings (flip):  88%|\u2588\u2588\u2588\u2588\u2588\u2588\u2588\u2588\u258a | 1503/1712 [09:31<01:18,  2.65it/s]"
          ]
        },
        {
          "output_type": "stream",
          "name": "stderr",
          "text": [
            "\rExtracting test embeddings (flip):  88%|\u2588\u2588\u2588\u2588\u2588\u2588\u2588\u2588\u258a | 1504/1712 [09:31<01:14,  2.81it/s]"
          ]
        },
        {
          "output_type": "stream",
          "name": "stderr",
          "text": [
            "\rExtracting test embeddings (flip):  88%|\u2588\u2588\u2588\u2588\u2588\u2588\u2588\u2588\u258a | 1505/1712 [09:32<01:19,  2.61it/s]"
          ]
        },
        {
          "output_type": "stream",
          "name": "stderr",
          "text": [
            "\rExtracting test embeddings (flip):  88%|\u2588\u2588\u2588\u2588\u2588\u2588\u2588\u2588\u258a | 1506/1712 [09:32<01:14,  2.78it/s]"
          ]
        },
        {
          "output_type": "stream",
          "name": "stderr",
          "text": [
            "\rExtracting test embeddings (flip):  88%|\u2588\u2588\u2588\u2588\u2588\u2588\u2588\u2588\u258a | 1507/1712 [09:33<01:19,  2.59it/s]"
          ]
        },
        {
          "output_type": "stream",
          "name": "stderr",
          "text": [
            "\rExtracting test embeddings (flip):  88%|\u2588\u2588\u2588\u2588\u2588\u2588\u2588\u2588\u258a | 1508/1712 [09:33<01:13,  2.77it/s]"
          ]
        },
        {
          "output_type": "stream",
          "name": "stderr",
          "text": [
            "\rExtracting test embeddings (flip):  88%|\u2588\u2588\u2588\u2588\u2588\u2588\u2588\u2588\u258a | 1509/1712 [09:33<01:18,  2.59it/s]"
          ]
        },
        {
          "output_type": "stream",
          "name": "stderr",
          "text": [
            "\rExtracting test embeddings (flip):  88%|\u2588\u2588\u2588\u2588\u2588\u2588\u2588\u2588\u258a | 1510/1712 [09:34<01:13,  2.76it/s]"
          ]
        },
        {
          "output_type": "stream",
          "name": "stderr",
          "text": [
            "\rExtracting test embeddings (flip):  88%|\u2588\u2588\u2588\u2588\u2588\u2588\u2588\u2588\u258a | 1511/1712 [09:34<01:18,  2.57it/s]"
          ]
        },
        {
          "output_type": "stream",
          "name": "stderr",
          "text": [
            "\rExtracting test embeddings (flip):  88%|\u2588\u2588\u2588\u2588\u2588\u2588\u2588\u2588\u258a | 1512/1712 [09:35<01:12,  2.75it/s]"
          ]
        },
        {
          "output_type": "stream",
          "name": "stderr",
          "text": [
            "\rExtracting test embeddings (flip):  88%|\u2588\u2588\u2588\u2588\u2588\u2588\u2588\u2588\u258a | 1513/1712 [09:35<01:15,  2.63it/s]"
          ]
        },
        {
          "output_type": "stream",
          "name": "stderr",
          "text": [
            "\rExtracting test embeddings (flip):  88%|\u2588\u2588\u2588\u2588\u2588\u2588\u2588\u2588\u258a | 1514/1712 [09:35<01:10,  2.79it/s]"
          ]
        },
        {
          "output_type": "stream",
          "name": "stderr",
          "text": [
            "\rExtracting test embeddings (flip):  88%|\u2588\u2588\u2588\u2588\u2588\u2588\u2588\u2588\u258a | 1515/1712 [09:36<01:17,  2.55it/s]"
          ]
        },
        {
          "output_type": "stream",
          "name": "stderr",
          "text": [
            "\rExtracting test embeddings (flip):  89%|\u2588\u2588\u2588\u2588\u2588\u2588\u2588\u2588\u258a | 1516/1712 [09:36<01:12,  2.72it/s]"
          ]
        },
        {
          "output_type": "stream",
          "name": "stderr",
          "text": [
            "\rExtracting test embeddings (flip):  89%|\u2588\u2588\u2588\u2588\u2588\u2588\u2588\u2588\u258a | 1517/1712 [09:36<01:13,  2.64it/s]"
          ]
        },
        {
          "output_type": "stream",
          "name": "stderr",
          "text": [
            "\rExtracting test embeddings (flip):  89%|\u2588\u2588\u2588\u2588\u2588\u2588\u2588\u2588\u258a | 1518/1712 [09:37<01:09,  2.80it/s]"
          ]
        },
        {
          "output_type": "stream",
          "name": "stderr",
          "text": [
            "\rExtracting test embeddings (flip):  89%|\u2588\u2588\u2588\u2588\u2588\u2588\u2588\u2588\u258a | 1519/1712 [09:37<01:15,  2.56it/s]"
          ]
        },
        {
          "output_type": "stream",
          "name": "stderr",
          "text": [
            "\rExtracting test embeddings (flip):  89%|\u2588\u2588\u2588\u2588\u2588\u2588\u2588\u2588\u2589 | 1520/1712 [09:37<01:10,  2.74it/s]"
          ]
        },
        {
          "output_type": "stream",
          "name": "stderr",
          "text": [
            "\rExtracting test embeddings (flip):  89%|\u2588\u2588\u2588\u2588\u2588\u2588\u2588\u2588\u2589 | 1521/1712 [09:38<01:12,  2.63it/s]"
          ]
        },
        {
          "output_type": "stream",
          "name": "stderr",
          "text": [
            "\rExtracting test embeddings (flip):  89%|\u2588\u2588\u2588\u2588\u2588\u2588\u2588\u2588\u2589 | 1522/1712 [09:38<01:07,  2.80it/s]"
          ]
        },
        {
          "output_type": "stream",
          "name": "stderr",
          "text": [
            "\rExtracting test embeddings (flip):  89%|\u2588\u2588\u2588\u2588\u2588\u2588\u2588\u2588\u2589 | 1523/1712 [09:39<01:14,  2.55it/s]"
          ]
        },
        {
          "output_type": "stream",
          "name": "stderr",
          "text": [
            "\rExtracting test embeddings (flip):  89%|\u2588\u2588\u2588\u2588\u2588\u2588\u2588\u2588\u2589 | 1524/1712 [09:39<01:08,  2.73it/s]"
          ]
        },
        {
          "output_type": "stream",
          "name": "stderr",
          "text": [
            "\rExtracting test embeddings (flip):  89%|\u2588\u2588\u2588\u2588\u2588\u2588\u2588\u2588\u2589 | 1525/1712 [09:39<01:11,  2.63it/s]"
          ]
        },
        {
          "output_type": "stream",
          "name": "stderr",
          "text": [
            "\rExtracting test embeddings (flip):  89%|\u2588\u2588\u2588\u2588\u2588\u2588\u2588\u2588\u2589 | 1526/1712 [09:40<01:06,  2.79it/s]"
          ]
        },
        {
          "output_type": "stream",
          "name": "stderr",
          "text": [
            "\rExtracting test embeddings (flip):  89%|\u2588\u2588\u2588\u2588\u2588\u2588\u2588\u2588\u2589 | 1527/1712 [09:40<01:18,  2.36it/s]"
          ]
        },
        {
          "output_type": "stream",
          "name": "stderr",
          "text": [
            "\rExtracting test embeddings (flip):  89%|\u2588\u2588\u2588\u2588\u2588\u2588\u2588\u2588\u2589 | 1528/1712 [09:41<01:11,  2.58it/s]"
          ]
        },
        {
          "output_type": "stream",
          "name": "stderr",
          "text": [
            "\rExtracting test embeddings (flip):  89%|\u2588\u2588\u2588\u2588\u2588\u2588\u2588\u2588\u2589 | 1529/1712 [09:41<01:07,  2.70it/s]"
          ]
        },
        {
          "output_type": "stream",
          "name": "stderr",
          "text": [
            "\rExtracting test embeddings (flip):  89%|\u2588\u2588\u2588\u2588\u2588\u2588\u2588\u2588\u2589 | 1530/1712 [09:41<01:03,  2.85it/s]"
          ]
        },
        {
          "output_type": "stream",
          "name": "stderr",
          "text": [
            "\rExtracting test embeddings (flip):  89%|\u2588\u2588\u2588\u2588\u2588\u2588\u2588\u2588\u2589 | 1531/1712 [09:42<01:14,  2.44it/s]"
          ]
        },
        {
          "output_type": "stream",
          "name": "stderr",
          "text": [
            "\rExtracting test embeddings (flip):  89%|\u2588\u2588\u2588\u2588\u2588\u2588\u2588\u2588\u2589 | 1532/1712 [09:42<01:08,  2.64it/s]"
          ]
        },
        {
          "output_type": "stream",
          "name": "stderr",
          "text": [
            "\rExtracting test embeddings (flip):  90%|\u2588\u2588\u2588\u2588\u2588\u2588\u2588\u2588\u2589 | 1533/1712 [09:42<01:05,  2.73it/s]"
          ]
        },
        {
          "output_type": "stream",
          "name": "stderr",
          "text": [
            "\rExtracting test embeddings (flip):  90%|\u2588\u2588\u2588\u2588\u2588\u2588\u2588\u2588\u2589 | 1534/1712 [09:43<01:02,  2.87it/s]"
          ]
        },
        {
          "output_type": "stream",
          "name": "stderr",
          "text": [
            "\rExtracting test embeddings (flip):  90%|\u2588\u2588\u2588\u2588\u2588\u2588\u2588\u2588\u2589 | 1535/1712 [09:43<01:11,  2.46it/s]"
          ]
        },
        {
          "output_type": "stream",
          "name": "stderr",
          "text": [
            "\rExtracting test embeddings (flip):  90%|\u2588\u2588\u2588\u2588\u2588\u2588\u2588\u2588\u2589 | 1536/1712 [09:44<01:06,  2.66it/s]"
          ]
        },
        {
          "output_type": "stream",
          "name": "stderr",
          "text": [
            "\rExtracting test embeddings (flip):  90%|\u2588\u2588\u2588\u2588\u2588\u2588\u2588\u2588\u2589 | 1537/1712 [09:44<01:04,  2.71it/s]"
          ]
        },
        {
          "output_type": "stream",
          "name": "stderr",
          "text": [
            "\rExtracting test embeddings (flip):  90%|\u2588\u2588\u2588\u2588\u2588\u2588\u2588\u2588\u2589 | 1538/1712 [09:44<01:00,  2.86it/s]"
          ]
        },
        {
          "output_type": "stream",
          "name": "stderr",
          "text": [
            "\rExtracting test embeddings (flip):  90%|\u2588\u2588\u2588\u2588\u2588\u2588\u2588\u2588\u2589 | 1539/1712 [09:45<01:04,  2.68it/s]"
          ]
        },
        {
          "output_type": "stream",
          "name": "stderr",
          "text": [
            "\rExtracting test embeddings (flip):  90%|\u2588\u2588\u2588\u2588\u2588\u2588\u2588\u2588\u2589 | 1540/1712 [09:45<01:00,  2.83it/s]"
          ]
        },
        {
          "output_type": "stream",
          "name": "stderr",
          "text": [
            "\rExtracting test embeddings (flip):  90%|\u2588\u2588\u2588\u2588\u2588\u2588\u2588\u2588\u2588 | 1541/1712 [09:45<01:06,  2.58it/s]"
          ]
        },
        {
          "output_type": "stream",
          "name": "stderr",
          "text": [
            "\rExtracting test embeddings (flip):  90%|\u2588\u2588\u2588\u2588\u2588\u2588\u2588\u2588\u2588 | 1542/1712 [09:46<01:01,  2.76it/s]"
          ]
        },
        {
          "output_type": "stream",
          "name": "stderr",
          "text": [
            "\rExtracting test embeddings (flip):  90%|\u2588\u2588\u2588\u2588\u2588\u2588\u2588\u2588\u2588 | 1543/1712 [09:46<01:04,  2.62it/s]"
          ]
        },
        {
          "output_type": "stream",
          "name": "stderr",
          "text": [
            "\rExtracting test embeddings (flip):  90%|\u2588\u2588\u2588\u2588\u2588\u2588\u2588\u2588\u2588 | 1544/1712 [09:46<01:00,  2.78it/s]"
          ]
        },
        {
          "output_type": "stream",
          "name": "stderr",
          "text": [
            "\rExtracting test embeddings (flip):  90%|\u2588\u2588\u2588\u2588\u2588\u2588\u2588\u2588\u2588 | 1545/1712 [09:47<01:05,  2.55it/s]"
          ]
        },
        {
          "output_type": "stream",
          "name": "stderr",
          "text": [
            "\rExtracting test embeddings (flip):  90%|\u2588\u2588\u2588\u2588\u2588\u2588\u2588\u2588\u2588 | 1546/1712 [09:47<01:00,  2.73it/s]"
          ]
        },
        {
          "output_type": "stream",
          "name": "stderr",
          "text": [
            "\rExtracting test embeddings (flip):  90%|\u2588\u2588\u2588\u2588\u2588\u2588\u2588\u2588\u2588 | 1547/1712 [09:48<01:08,  2.42it/s]"
          ]
        },
        {
          "output_type": "stream",
          "name": "stderr",
          "text": [
            "\rExtracting test embeddings (flip):  90%|\u2588\u2588\u2588\u2588\u2588\u2588\u2588\u2588\u2588 | 1548/1712 [09:48<01:02,  2.63it/s]"
          ]
        },
        {
          "output_type": "stream",
          "name": "stderr",
          "text": [
            "\rExtracting test embeddings (flip):  90%|\u2588\u2588\u2588\u2588\u2588\u2588\u2588\u2588\u2588 | 1549/1712 [09:48<01:02,  2.59it/s]"
          ]
        },
        {
          "output_type": "stream",
          "name": "stderr",
          "text": [
            "\rExtracting test embeddings (flip):  91%|\u2588\u2588\u2588\u2588\u2588\u2588\u2588\u2588\u2588 | 1550/1712 [09:49<00:58,  2.77it/s]"
          ]
        },
        {
          "output_type": "stream",
          "name": "stderr",
          "text": [
            "\rExtracting test embeddings (flip):  91%|\u2588\u2588\u2588\u2588\u2588\u2588\u2588\u2588\u2588 | 1551/1712 [09:49<01:03,  2.52it/s]"
          ]
        },
        {
          "output_type": "stream",
          "name": "stderr",
          "text": [
            "\rExtracting test embeddings (flip):  91%|\u2588\u2588\u2588\u2588\u2588\u2588\u2588\u2588\u2588 | 1552/1712 [09:50<00:59,  2.71it/s]"
          ]
        },
        {
          "output_type": "stream",
          "name": "stderr",
          "text": [
            "\rExtracting test embeddings (flip):  91%|\u2588\u2588\u2588\u2588\u2588\u2588\u2588\u2588\u2588 | 1553/1712 [09:50<01:01,  2.58it/s]"
          ]
        },
        {
          "output_type": "stream",
          "name": "stderr",
          "text": [
            "\rExtracting test embeddings (flip):  91%|\u2588\u2588\u2588\u2588\u2588\u2588\u2588\u2588\u2588 | 1554/1712 [09:50<00:57,  2.76it/s]"
          ]
        },
        {
          "output_type": "stream",
          "name": "stderr",
          "text": [
            "\rExtracting test embeddings (flip):  91%|\u2588\u2588\u2588\u2588\u2588\u2588\u2588\u2588\u2588 | 1555/1712 [09:51<01:01,  2.55it/s]"
          ]
        },
        {
          "output_type": "stream",
          "name": "stderr",
          "text": [
            "\rExtracting test embeddings (flip):  91%|\u2588\u2588\u2588\u2588\u2588\u2588\u2588\u2588\u2588 | 1556/1712 [09:51<00:57,  2.73it/s]"
          ]
        },
        {
          "output_type": "stream",
          "name": "stderr",
          "text": [
            "\rExtracting test embeddings (flip):  91%|\u2588\u2588\u2588\u2588\u2588\u2588\u2588\u2588\u2588 | 1557/1712 [09:52<01:01,  2.50it/s]"
          ]
        },
        {
          "output_type": "stream",
          "name": "stderr",
          "text": [
            "\rExtracting test embeddings (flip):  91%|\u2588\u2588\u2588\u2588\u2588\u2588\u2588\u2588\u2588 | 1558/1712 [09:52<00:57,  2.69it/s]"
          ]
        },
        {
          "output_type": "stream",
          "name": "stderr",
          "text": [
            "\rExtracting test embeddings (flip):  91%|\u2588\u2588\u2588\u2588\u2588\u2588\u2588\u2588\u2588 | 1559/1712 [09:52<00:58,  2.63it/s]"
          ]
        },
        {
          "output_type": "stream",
          "name": "stderr",
          "text": [
            "\rExtracting test embeddings (flip):  91%|\u2588\u2588\u2588\u2588\u2588\u2588\u2588\u2588\u2588 | 1560/1712 [09:53<00:54,  2.80it/s]"
          ]
        },
        {
          "output_type": "stream",
          "name": "stderr",
          "text": [
            "\rExtracting test embeddings (flip):  91%|\u2588\u2588\u2588\u2588\u2588\u2588\u2588\u2588\u2588 | 1561/1712 [09:53<01:01,  2.44it/s]"
          ]
        },
        {
          "output_type": "stream",
          "name": "stderr",
          "text": [
            "\rExtracting test embeddings (flip):  91%|\u2588\u2588\u2588\u2588\u2588\u2588\u2588\u2588\u2588 | 1562/1712 [09:53<00:56,  2.64it/s]"
          ]
        },
        {
          "output_type": "stream",
          "name": "stderr",
          "text": [
            "\rExtracting test embeddings (flip):  91%|\u2588\u2588\u2588\u2588\u2588\u2588\u2588\u2588\u2588\u258f| 1563/1712 [09:54<00:57,  2.60it/s]"
          ]
        },
        {
          "output_type": "stream",
          "name": "stderr",
          "text": [
            "\rExtracting test embeddings (flip):  91%|\u2588\u2588\u2588\u2588\u2588\u2588\u2588\u2588\u2588\u258f| 1564/1712 [09:54<00:53,  2.77it/s]"
          ]
        },
        {
          "output_type": "stream",
          "name": "stderr",
          "text": [
            "\rExtracting test embeddings (flip):  91%|\u2588\u2588\u2588\u2588\u2588\u2588\u2588\u2588\u2588\u258f| 1565/1712 [09:55<00:59,  2.49it/s]"
          ]
        },
        {
          "output_type": "stream",
          "name": "stderr",
          "text": [
            "\rExtracting test embeddings (flip):  91%|\u2588\u2588\u2588\u2588\u2588\u2588\u2588\u2588\u2588\u258f| 1566/1712 [09:55<00:54,  2.68it/s]"
          ]
        },
        {
          "output_type": "stream",
          "name": "stderr",
          "text": [
            "\rExtracting test embeddings (flip):  92%|\u2588\u2588\u2588\u2588\u2588\u2588\u2588\u2588\u2588\u258f| 1567/1712 [09:55<00:55,  2.63it/s]"
          ]
        },
        {
          "output_type": "stream",
          "name": "stderr",
          "text": [
            "\rExtracting test embeddings (flip):  92%|\u2588\u2588\u2588\u2588\u2588\u2588\u2588\u2588\u2588\u258f| 1568/1712 [09:56<00:51,  2.79it/s]"
          ]
        },
        {
          "output_type": "stream",
          "name": "stderr",
          "text": [
            "\rExtracting test embeddings (flip):  92%|\u2588\u2588\u2588\u2588\u2588\u2588\u2588\u2588\u2588\u258f| 1569/1712 [09:56<00:57,  2.48it/s]"
          ]
        },
        {
          "output_type": "stream",
          "name": "stderr",
          "text": [
            "\rExtracting test embeddings (flip):  92%|\u2588\u2588\u2588\u2588\u2588\u2588\u2588\u2588\u2588\u258f| 1570/1712 [09:56<00:53,  2.68it/s]"
          ]
        },
        {
          "output_type": "stream",
          "name": "stderr",
          "text": [
            "\rExtracting test embeddings (flip):  92%|\u2588\u2588\u2588\u2588\u2588\u2588\u2588\u2588\u2588\u258f| 1571/1712 [09:57<00:54,  2.57it/s]"
          ]
        },
        {
          "output_type": "stream",
          "name": "stderr",
          "text": [
            "\rExtracting test embeddings (flip):  92%|\u2588\u2588\u2588\u2588\u2588\u2588\u2588\u2588\u2588\u258f| 1572/1712 [09:57<00:51,  2.74it/s]"
          ]
        },
        {
          "output_type": "stream",
          "name": "stderr",
          "text": [
            "\rExtracting test embeddings (flip):  92%|\u2588\u2588\u2588\u2588\u2588\u2588\u2588\u2588\u2588\u258f| 1573/1712 [09:58<00:54,  2.54it/s]"
          ]
        },
        {
          "output_type": "stream",
          "name": "stderr",
          "text": [
            "\rExtracting test embeddings (flip):  92%|\u2588\u2588\u2588\u2588\u2588\u2588\u2588\u2588\u2588\u258f| 1574/1712 [09:58<00:50,  2.72it/s]"
          ]
        },
        {
          "output_type": "stream",
          "name": "stderr",
          "text": [
            "\rExtracting test embeddings (flip):  92%|\u2588\u2588\u2588\u2588\u2588\u2588\u2588\u2588\u2588\u258f| 1575/1712 [09:58<00:48,  2.84it/s]"
          ]
        },
        {
          "output_type": "stream",
          "name": "stderr",
          "text": [
            "\rExtracting test embeddings (flip):  92%|\u2588\u2588\u2588\u2588\u2588\u2588\u2588\u2588\u2588\u258f| 1576/1712 [09:59<00:46,  2.95it/s]"
          ]
        },
        {
          "output_type": "stream",
          "name": "stderr",
          "text": [
            "\rExtracting test embeddings (flip):  92%|\u2588\u2588\u2588\u2588\u2588\u2588\u2588\u2588\u2588\u258f| 1577/1712 [09:59<00:55,  2.44it/s]"
          ]
        },
        {
          "output_type": "stream",
          "name": "stderr",
          "text": [
            "\rExtracting test embeddings (flip):  92%|\u2588\u2588\u2588\u2588\u2588\u2588\u2588\u2588\u2588\u258f| 1578/1712 [09:59<00:50,  2.64it/s]"
          ]
        },
        {
          "output_type": "stream",
          "name": "stderr",
          "text": [
            "\rExtracting test embeddings (flip):  92%|\u2588\u2588\u2588\u2588\u2588\u2588\u2588\u2588\u2588\u258f| 1579/1712 [10:00<00:48,  2.77it/s]"
          ]
        },
        {
          "output_type": "stream",
          "name": "stderr",
          "text": [
            "\rExtracting test embeddings (flip):  92%|\u2588\u2588\u2588\u2588\u2588\u2588\u2588\u2588\u2588\u258f| 1580/1712 [10:00<00:45,  2.90it/s]"
          ]
        },
        {
          "output_type": "stream",
          "name": "stderr",
          "text": [
            "\rExtracting test embeddings (flip):  92%|\u2588\u2588\u2588\u2588\u2588\u2588\u2588\u2588\u2588\u258f| 1581/1712 [10:01<00:53,  2.43it/s]"
          ]
        },
        {
          "output_type": "stream",
          "name": "stderr",
          "text": [
            "\rExtracting test embeddings (flip):  92%|\u2588\u2588\u2588\u2588\u2588\u2588\u2588\u2588\u2588\u258f| 1582/1712 [10:01<00:49,  2.62it/s]"
          ]
        },
        {
          "output_type": "stream",
          "name": "stderr",
          "text": [
            "\rExtracting test embeddings (flip):  92%|\u2588\u2588\u2588\u2588\u2588\u2588\u2588\u2588\u2588\u258f| 1583/1712 [10:01<00:46,  2.77it/s]"
          ]
        },
        {
          "output_type": "stream",
          "name": "stderr",
          "text": [
            "\rExtracting test embeddings (flip):  93%|\u2588\u2588\u2588\u2588\u2588\u2588\u2588\u2588\u2588\u258e| 1584/1712 [10:02<00:44,  2.90it/s]"
          ]
        },
        {
          "output_type": "stream",
          "name": "stderr",
          "text": [
            "\rExtracting test embeddings (flip):  93%|\u2588\u2588\u2588\u2588\u2588\u2588\u2588\u2588\u2588\u258e| 1585/1712 [10:02<00:52,  2.44it/s]"
          ]
        },
        {
          "output_type": "stream",
          "name": "stderr",
          "text": [
            "\rExtracting test embeddings (flip):  93%|\u2588\u2588\u2588\u2588\u2588\u2588\u2588\u2588\u2588\u258e| 1586/1712 [10:02<00:47,  2.64it/s]"
          ]
        },
        {
          "output_type": "stream",
          "name": "stderr",
          "text": [
            "\rExtracting test embeddings (flip):  93%|\u2588\u2588\u2588\u2588\u2588\u2588\u2588\u2588\u2588\u258e| 1587/1712 [10:03<00:44,  2.78it/s]"
          ]
        },
        {
          "output_type": "stream",
          "name": "stderr",
          "text": [
            "\rExtracting test embeddings (flip):  93%|\u2588\u2588\u2588\u2588\u2588\u2588\u2588\u2588\u2588\u258e| 1588/1712 [10:03<00:42,  2.91it/s]"
          ]
        },
        {
          "output_type": "stream",
          "name": "stderr",
          "text": [
            "\rExtracting test embeddings (flip):  93%|\u2588\u2588\u2588\u2588\u2588\u2588\u2588\u2588\u2588\u258e| 1589/1712 [10:04<00:50,  2.42it/s]"
          ]
        },
        {
          "output_type": "stream",
          "name": "stderr",
          "text": [
            "\rExtracting test embeddings (flip):  93%|\u2588\u2588\u2588\u2588\u2588\u2588\u2588\u2588\u2588\u258e| 1590/1712 [10:04<00:46,  2.63it/s]"
          ]
        },
        {
          "output_type": "stream",
          "name": "stderr",
          "text": [
            "\rExtracting test embeddings (flip):  93%|\u2588\u2588\u2588\u2588\u2588\u2588\u2588\u2588\u2588\u258e| 1591/1712 [10:04<00:43,  2.76it/s]"
          ]
        },
        {
          "output_type": "stream",
          "name": "stderr",
          "text": [
            "\rExtracting test embeddings (flip):  93%|\u2588\u2588\u2588\u2588\u2588\u2588\u2588\u2588\u2588\u258e| 1592/1712 [10:05<00:41,  2.88it/s]"
          ]
        },
        {
          "output_type": "stream",
          "name": "stderr",
          "text": [
            "\rExtracting test embeddings (flip):  93%|\u2588\u2588\u2588\u2588\u2588\u2588\u2588\u2588\u2588\u258e| 1593/1712 [10:05<00:48,  2.45it/s]"
          ]
        },
        {
          "output_type": "stream",
          "name": "stderr",
          "text": [
            "\rExtracting test embeddings (flip):  93%|\u2588\u2588\u2588\u2588\u2588\u2588\u2588\u2588\u2588\u258e| 1594/1712 [10:05<00:44,  2.65it/s]"
          ]
        },
        {
          "output_type": "stream",
          "name": "stderr",
          "text": [
            "\rExtracting test embeddings (flip):  93%|\u2588\u2588\u2588\u2588\u2588\u2588\u2588\u2588\u2588\u258e| 1595/1712 [10:06<00:42,  2.78it/s]"
          ]
        },
        {
          "output_type": "stream",
          "name": "stderr",
          "text": [
            "\rExtracting test embeddings (flip):  93%|\u2588\u2588\u2588\u2588\u2588\u2588\u2588\u2588\u2588\u258e| 1596/1712 [10:06<00:39,  2.91it/s]"
          ]
        },
        {
          "output_type": "stream",
          "name": "stderr",
          "text": [
            "\rExtracting test embeddings (flip):  93%|\u2588\u2588\u2588\u2588\u2588\u2588\u2588\u2588\u2588\u258e| 1597/1712 [10:07<00:46,  2.45it/s]"
          ]
        },
        {
          "output_type": "stream",
          "name": "stderr",
          "text": [
            "\rExtracting test embeddings (flip):  93%|\u2588\u2588\u2588\u2588\u2588\u2588\u2588\u2588\u2588\u258e| 1598/1712 [10:07<00:42,  2.66it/s]"
          ]
        },
        {
          "output_type": "stream",
          "name": "stderr",
          "text": [
            "\rExtracting test embeddings (flip):  93%|\u2588\u2588\u2588\u2588\u2588\u2588\u2588\u2588\u2588\u258e| 1599/1712 [10:07<00:40,  2.80it/s]"
          ]
        },
        {
          "output_type": "stream",
          "name": "stderr",
          "text": [
            "\rExtracting test embeddings (flip):  93%|\u2588\u2588\u2588\u2588\u2588\u2588\u2588\u2588\u2588\u258e| 1600/1712 [10:08<00:38,  2.92it/s]"
          ]
        },
        {
          "output_type": "stream",
          "name": "stderr",
          "text": [
            "\rExtracting test embeddings (flip):  94%|\u2588\u2588\u2588\u2588\u2588\u2588\u2588\u2588\u2588\u258e| 1601/1712 [10:08<00:44,  2.48it/s]"
          ]
        },
        {
          "output_type": "stream",
          "name": "stderr",
          "text": [
            "\rExtracting test embeddings (flip):  94%|\u2588\u2588\u2588\u2588\u2588\u2588\u2588\u2588\u2588\u258e| 1602/1712 [10:08<00:41,  2.67it/s]"
          ]
        },
        {
          "output_type": "stream",
          "name": "stderr",
          "text": [
            "\rExtracting test embeddings (flip):  94%|\u2588\u2588\u2588\u2588\u2588\u2588\u2588\u2588\u2588\u258e| 1603/1712 [10:09<00:38,  2.81it/s]"
          ]
        },
        {
          "output_type": "stream",
          "name": "stderr",
          "text": [
            "\rExtracting test embeddings (flip):  94%|\u2588\u2588\u2588\u2588\u2588\u2588\u2588\u2588\u2588\u258e| 1604/1712 [10:09<00:36,  2.92it/s]"
          ]
        },
        {
          "output_type": "stream",
          "name": "stderr",
          "text": [
            "\rExtracting test embeddings (flip):  94%|\u2588\u2588\u2588\u2588\u2588\u2588\u2588\u2588\u2588\u258d| 1605/1712 [10:10<00:43,  2.48it/s]"
          ]
        },
        {
          "output_type": "stream",
          "name": "stderr",
          "text": [
            "\rExtracting test embeddings (flip):  94%|\u2588\u2588\u2588\u2588\u2588\u2588\u2588\u2588\u2588\u258d| 1606/1712 [10:10<00:39,  2.68it/s]"
          ]
        },
        {
          "output_type": "stream",
          "name": "stderr",
          "text": [
            "\rExtracting test embeddings (flip):  94%|\u2588\u2588\u2588\u2588\u2588\u2588\u2588\u2588\u2588\u258d| 1607/1712 [10:10<00:37,  2.77it/s]"
          ]
        },
        {
          "output_type": "stream",
          "name": "stderr",
          "text": [
            "\rExtracting test embeddings (flip):  94%|\u2588\u2588\u2588\u2588\u2588\u2588\u2588\u2588\u2588\u258d| 1608/1712 [10:10<00:35,  2.91it/s]"
          ]
        },
        {
          "output_type": "stream",
          "name": "stderr",
          "text": [
            "\rExtracting test embeddings (flip):  94%|\u2588\u2588\u2588\u2588\u2588\u2588\u2588\u2588\u2588\u258d| 1609/1712 [10:11<00:41,  2.46it/s]"
          ]
        },
        {
          "output_type": "stream",
          "name": "stderr",
          "text": [
            "\rExtracting test embeddings (flip):  94%|\u2588\u2588\u2588\u2588\u2588\u2588\u2588\u2588\u2588\u258d| 1610/1712 [10:11<00:38,  2.66it/s]"
          ]
        },
        {
          "output_type": "stream",
          "name": "stderr",
          "text": [
            "\rExtracting test embeddings (flip):  94%|\u2588\u2588\u2588\u2588\u2588\u2588\u2588\u2588\u2588\u258d| 1611/1712 [10:12<00:36,  2.76it/s]"
          ]
        },
        {
          "output_type": "stream",
          "name": "stderr",
          "text": [
            "\rExtracting test embeddings (flip):  94%|\u2588\u2588\u2588\u2588\u2588\u2588\u2588\u2588\u2588\u258d| 1612/1712 [10:12<00:34,  2.89it/s]"
          ]
        },
        {
          "output_type": "stream",
          "name": "stderr",
          "text": [
            "\rExtracting test embeddings (flip):  94%|\u2588\u2588\u2588\u2588\u2588\u2588\u2588\u2588\u2588\u258d| 1613/1712 [10:12<00:40,  2.47it/s]"
          ]
        },
        {
          "output_type": "stream",
          "name": "stderr",
          "text": [
            "\rExtracting test embeddings (flip):  94%|\u2588\u2588\u2588\u2588\u2588\u2588\u2588\u2588\u2588\u258d| 1614/1712 [10:13<00:36,  2.67it/s]"
          ]
        },
        {
          "output_type": "stream",
          "name": "stderr",
          "text": [
            "\rExtracting test embeddings (flip):  94%|\u2588\u2588\u2588\u2588\u2588\u2588\u2588\u2588\u2588\u258d| 1615/1712 [10:13<00:35,  2.75it/s]"
          ]
        },
        {
          "output_type": "stream",
          "name": "stderr",
          "text": [
            "\rExtracting test embeddings (flip):  94%|\u2588\u2588\u2588\u2588\u2588\u2588\u2588\u2588\u2588\u258d| 1616/1712 [10:13<00:33,  2.89it/s]"
          ]
        },
        {
          "output_type": "stream",
          "name": "stderr",
          "text": [
            "\rExtracting test embeddings (flip):  94%|\u2588\u2588\u2588\u2588\u2588\u2588\u2588\u2588\u2588\u258d| 1617/1712 [10:14<00:38,  2.49it/s]"
          ]
        },
        {
          "output_type": "stream",
          "name": "stderr",
          "text": [
            "\rExtracting test embeddings (flip):  95%|\u2588\u2588\u2588\u2588\u2588\u2588\u2588\u2588\u2588\u258d| 1618/1712 [10:14<00:35,  2.68it/s]"
          ]
        },
        {
          "output_type": "stream",
          "name": "stderr",
          "text": [
            "\rExtracting test embeddings (flip):  95%|\u2588\u2588\u2588\u2588\u2588\u2588\u2588\u2588\u2588\u258d| 1619/1712 [10:15<00:33,  2.75it/s]"
          ]
        },
        {
          "output_type": "stream",
          "name": "stderr",
          "text": [
            "\rExtracting test embeddings (flip):  95%|\u2588\u2588\u2588\u2588\u2588\u2588\u2588\u2588\u2588\u258d| 1620/1712 [10:15<00:31,  2.88it/s]"
          ]
        },
        {
          "output_type": "stream",
          "name": "stderr",
          "text": [
            "\rExtracting test embeddings (flip):  95%|\u2588\u2588\u2588\u2588\u2588\u2588\u2588\u2588\u2588\u258d| 1621/1712 [10:15<00:36,  2.50it/s]"
          ]
        },
        {
          "output_type": "stream",
          "name": "stderr",
          "text": [
            "\rExtracting test embeddings (flip):  95%|\u2588\u2588\u2588\u2588\u2588\u2588\u2588\u2588\u2588\u258d| 1622/1712 [10:16<00:33,  2.70it/s]"
          ]
        },
        {
          "output_type": "stream",
          "name": "stderr",
          "text": [
            "\rExtracting test embeddings (flip):  95%|\u2588\u2588\u2588\u2588\u2588\u2588\u2588\u2588\u2588\u258d| 1623/1712 [10:16<00:32,  2.73it/s]"
          ]
        },
        {
          "output_type": "stream",
          "name": "stderr",
          "text": [
            "\rExtracting test embeddings (flip):  95%|\u2588\u2588\u2588\u2588\u2588\u2588\u2588\u2588\u2588\u258d| 1624/1712 [10:16<00:30,  2.88it/s]"
          ]
        },
        {
          "output_type": "stream",
          "name": "stderr",
          "text": [
            "\rExtracting test embeddings (flip):  95%|\u2588\u2588\u2588\u2588\u2588\u2588\u2588\u2588\u2588\u258d| 1625/1712 [10:17<00:35,  2.49it/s]"
          ]
        },
        {
          "output_type": "stream",
          "name": "stderr",
          "text": [
            "\rExtracting test embeddings (flip):  95%|\u2588\u2588\u2588\u2588\u2588\u2588\u2588\u2588\u2588\u258d| 1626/1712 [10:17<00:32,  2.68it/s]"
          ]
        },
        {
          "output_type": "stream",
          "name": "stderr",
          "text": [
            "\rExtracting test embeddings (flip):  95%|\u2588\u2588\u2588\u2588\u2588\u2588\u2588\u2588\u2588\u258c| 1627/1712 [10:18<00:31,  2.66it/s]"
          ]
        },
        {
          "output_type": "stream",
          "name": "stderr",
          "text": [
            "\rExtracting test embeddings (flip):  95%|\u2588\u2588\u2588\u2588\u2588\u2588\u2588\u2588\u2588\u258c| 1628/1712 [10:18<00:29,  2.83it/s]"
          ]
        },
        {
          "output_type": "stream",
          "name": "stderr",
          "text": [
            "\rExtracting test embeddings (flip):  95%|\u2588\u2588\u2588\u2588\u2588\u2588\u2588\u2588\u2588\u258c| 1629/1712 [10:18<00:32,  2.54it/s]"
          ]
        },
        {
          "output_type": "stream",
          "name": "stderr",
          "text": [
            "\rExtracting test embeddings (flip):  95%|\u2588\u2588\u2588\u2588\u2588\u2588\u2588\u2588\u2588\u258c| 1630/1712 [10:19<00:30,  2.72it/s]"
          ]
        },
        {
          "output_type": "stream",
          "name": "stderr",
          "text": [
            "\rExtracting test embeddings (flip):  95%|\u2588\u2588\u2588\u2588\u2588\u2588\u2588\u2588\u2588\u258c| 1631/1712 [10:19<00:32,  2.45it/s]"
          ]
        },
        {
          "output_type": "stream",
          "name": "stderr",
          "text": [
            "\rExtracting test embeddings (flip):  95%|\u2588\u2588\u2588\u2588\u2588\u2588\u2588\u2588\u2588\u258c| 1632/1712 [10:20<00:30,  2.66it/s]"
          ]
        },
        {
          "output_type": "stream",
          "name": "stderr",
          "text": [
            "\rExtracting test embeddings (flip):  95%|\u2588\u2588\u2588\u2588\u2588\u2588\u2588\u2588\u2588\u258c| 1633/1712 [10:20<00:29,  2.64it/s]"
          ]
        },
        {
          "output_type": "stream",
          "name": "stderr",
          "text": [
            "\rExtracting test embeddings (flip):  95%|\u2588\u2588\u2588\u2588\u2588\u2588\u2588\u2588\u2588\u258c| 1634/1712 [10:20<00:27,  2.80it/s]"
          ]
        },
        {
          "output_type": "stream",
          "name": "stderr",
          "text": [
            "\rExtracting test embeddings (flip):  96%|\u2588\u2588\u2588\u2588\u2588\u2588\u2588\u2588\u2588\u258c| 1635/1712 [10:21<00:31,  2.48it/s]"
          ]
        },
        {
          "output_type": "stream",
          "name": "stderr",
          "text": [
            "\rExtracting test embeddings (flip):  96%|\u2588\u2588\u2588\u2588\u2588\u2588\u2588\u2588\u2588\u258c| 1636/1712 [10:21<00:28,  2.68it/s]"
          ]
        },
        {
          "output_type": "stream",
          "name": "stderr",
          "text": [
            "\rExtracting test embeddings (flip):  96%|\u2588\u2588\u2588\u2588\u2588\u2588\u2588\u2588\u2588\u258c| 1637/1712 [10:21<00:28,  2.63it/s]"
          ]
        },
        {
          "output_type": "stream",
          "name": "stderr",
          "text": [
            "\rExtracting test embeddings (flip):  96%|\u2588\u2588\u2588\u2588\u2588\u2588\u2588\u2588\u2588\u258c| 1638/1712 [10:22<00:26,  2.80it/s]"
          ]
        },
        {
          "output_type": "stream",
          "name": "stderr",
          "text": [
            "\rExtracting test embeddings (flip):  96%|\u2588\u2588\u2588\u2588\u2588\u2588\u2588\u2588\u2588\u258c| 1639/1712 [10:22<00:29,  2.52it/s]"
          ]
        },
        {
          "output_type": "stream",
          "name": "stderr",
          "text": [
            "\rExtracting test embeddings (flip):  96%|\u2588\u2588\u2588\u2588\u2588\u2588\u2588\u2588\u2588\u258c| 1640/1712 [10:23<00:26,  2.71it/s]"
          ]
        },
        {
          "output_type": "stream",
          "name": "stderr",
          "text": [
            "\rExtracting test embeddings (flip):  96%|\u2588\u2588\u2588\u2588\u2588\u2588\u2588\u2588\u2588\u258c| 1641/1712 [10:23<00:27,  2.60it/s]"
          ]
        },
        {
          "output_type": "stream",
          "name": "stderr",
          "text": [
            "\rExtracting test embeddings (flip):  96%|\u2588\u2588\u2588\u2588\u2588\u2588\u2588\u2588\u2588\u258c| 1642/1712 [10:23<00:25,  2.78it/s]"
          ]
        },
        {
          "output_type": "stream",
          "name": "stderr",
          "text": [
            "\rExtracting test embeddings (flip):  96%|\u2588\u2588\u2588\u2588\u2588\u2588\u2588\u2588\u2588\u258c| 1643/1712 [10:24<00:25,  2.70it/s]"
          ]
        },
        {
          "output_type": "stream",
          "name": "stderr",
          "text": [
            "\rExtracting test embeddings (flip):  96%|\u2588\u2588\u2588\u2588\u2588\u2588\u2588\u2588\u2588\u258c| 1644/1712 [10:24<00:23,  2.85it/s]"
          ]
        },
        {
          "output_type": "stream",
          "name": "stderr",
          "text": [
            "\rExtracting test embeddings (flip):  96%|\u2588\u2588\u2588\u2588\u2588\u2588\u2588\u2588\u2588\u258c| 1645/1712 [10:24<00:26,  2.53it/s]"
          ]
        },
        {
          "output_type": "stream",
          "name": "stderr",
          "text": [
            "\rExtracting test embeddings (flip):  96%|\u2588\u2588\u2588\u2588\u2588\u2588\u2588\u2588\u2588\u258c| 1646/1712 [10:25<00:24,  2.71it/s]"
          ]
        },
        {
          "output_type": "stream",
          "name": "stderr",
          "text": [
            "\rExtracting test embeddings (flip):  96%|\u2588\u2588\u2588\u2588\u2588\u2588\u2588\u2588\u2588\u258c| 1647/1712 [10:25<00:26,  2.47it/s]"
          ]
        },
        {
          "output_type": "stream",
          "name": "stderr",
          "text": [
            "\rExtracting test embeddings (flip):  96%|\u2588\u2588\u2588\u2588\u2588\u2588\u2588\u2588\u2588\u258b| 1648/1712 [10:26<00:23,  2.67it/s]"
          ]
        },
        {
          "output_type": "stream",
          "name": "stderr",
          "text": [
            "\rExtracting test embeddings (flip):  96%|\u2588\u2588\u2588\u2588\u2588\u2588\u2588\u2588\u2588\u258b| 1649/1712 [10:26<00:24,  2.57it/s]"
          ]
        },
        {
          "output_type": "stream",
          "name": "stderr",
          "text": [
            "\rExtracting test embeddings (flip):  96%|\u2588\u2588\u2588\u2588\u2588\u2588\u2588\u2588\u2588\u258b| 1650/1712 [10:26<00:22,  2.74it/s]"
          ]
        },
        {
          "output_type": "stream",
          "name": "stderr",
          "text": [
            "\rExtracting test embeddings (flip):  96%|\u2588\u2588\u2588\u2588\u2588\u2588\u2588\u2588\u2588\u258b| 1651/1712 [10:27<00:22,  2.74it/s]"
          ]
        },
        {
          "output_type": "stream",
          "name": "stderr",
          "text": [
            "\rExtracting test embeddings (flip):  96%|\u2588\u2588\u2588\u2588\u2588\u2588\u2588\u2588\u2588\u258b| 1652/1712 [10:27<00:20,  2.88it/s]"
          ]
        },
        {
          "output_type": "stream",
          "name": "stderr",
          "text": [
            "\rExtracting test embeddings (flip):  97%|\u2588\u2588\u2588\u2588\u2588\u2588\u2588\u2588\u2588\u258b| 1653/1712 [10:27<00:23,  2.51it/s]"
          ]
        },
        {
          "output_type": "stream",
          "name": "stderr",
          "text": [
            "\rExtracting test embeddings (flip):  97%|\u2588\u2588\u2588\u2588\u2588\u2588\u2588\u2588\u2588\u258b| 1654/1712 [10:28<00:21,  2.70it/s]"
          ]
        },
        {
          "output_type": "stream",
          "name": "stderr",
          "text": [
            "\rExtracting test embeddings (flip):  97%|\u2588\u2588\u2588\u2588\u2588\u2588\u2588\u2588\u2588\u258b| 1655/1712 [10:28<00:21,  2.70it/s]"
          ]
        },
        {
          "output_type": "stream",
          "name": "stderr",
          "text": [
            "\rExtracting test embeddings (flip):  97%|\u2588\u2588\u2588\u2588\u2588\u2588\u2588\u2588\u2588\u258b| 1656/1712 [10:28<00:19,  2.85it/s]"
          ]
        },
        {
          "output_type": "stream",
          "name": "stderr",
          "text": [
            "\rExtracting test embeddings (flip):  97%|\u2588\u2588\u2588\u2588\u2588\u2588\u2588\u2588\u2588\u258b| 1657/1712 [10:29<00:22,  2.46it/s]"
          ]
        },
        {
          "output_type": "stream",
          "name": "stderr",
          "text": [
            "\rExtracting test embeddings (flip):  97%|\u2588\u2588\u2588\u2588\u2588\u2588\u2588\u2588\u2588\u258b| 1658/1712 [10:29<00:20,  2.67it/s]"
          ]
        },
        {
          "output_type": "stream",
          "name": "stderr",
          "text": [
            "\rExtracting test embeddings (flip):  97%|\u2588\u2588\u2588\u2588\u2588\u2588\u2588\u2588\u2588\u258b| 1659/1712 [10:30<00:19,  2.72it/s]"
          ]
        },
        {
          "output_type": "stream",
          "name": "stderr",
          "text": [
            "\rExtracting test embeddings (flip):  97%|\u2588\u2588\u2588\u2588\u2588\u2588\u2588\u2588\u2588\u258b| 1660/1712 [10:30<00:18,  2.86it/s]"
          ]
        },
        {
          "output_type": "stream",
          "name": "stderr",
          "text": [
            "\rExtracting test embeddings (flip):  97%|\u2588\u2588\u2588\u2588\u2588\u2588\u2588\u2588\u2588\u258b| 1661/1712 [10:30<00:20,  2.46it/s]"
          ]
        },
        {
          "output_type": "stream",
          "name": "stderr",
          "text": [
            "\rExtracting test embeddings (flip):  97%|\u2588\u2588\u2588\u2588\u2588\u2588\u2588\u2588\u2588\u258b| 1662/1712 [10:31<00:18,  2.66it/s]"
          ]
        },
        {
          "output_type": "stream",
          "name": "stderr",
          "text": [
            "\rExtracting test embeddings (flip):  97%|\u2588\u2588\u2588\u2588\u2588\u2588\u2588\u2588\u2588\u258b| 1663/1712 [10:31<00:17,  2.75it/s]"
          ]
        },
        {
          "output_type": "stream",
          "name": "stderr",
          "text": [
            "\rExtracting test embeddings (flip):  97%|\u2588\u2588\u2588\u2588\u2588\u2588\u2588\u2588\u2588\u258b| 1664/1712 [10:31<00:16,  2.89it/s]"
          ]
        },
        {
          "output_type": "stream",
          "name": "stderr",
          "text": [
            "\rExtracting test embeddings (flip):  97%|\u2588\u2588\u2588\u2588\u2588\u2588\u2588\u2588\u2588\u258b| 1665/1712 [10:32<00:19,  2.47it/s]"
          ]
        },
        {
          "output_type": "stream",
          "name": "stderr",
          "text": [
            "\rExtracting test embeddings (flip):  97%|\u2588\u2588\u2588\u2588\u2588\u2588\u2588\u2588\u2588\u258b| 1666/1712 [10:32<00:17,  2.66it/s]"
          ]
        },
        {
          "output_type": "stream",
          "name": "stderr",
          "text": [
            "\rExtracting test embeddings (flip):  97%|\u2588\u2588\u2588\u2588\u2588\u2588\u2588\u2588\u2588\u258b| 1667/1712 [10:33<00:16,  2.76it/s]"
          ]
        },
        {
          "output_type": "stream",
          "name": "stderr",
          "text": [
            "\rExtracting test embeddings (flip):  97%|\u2588\u2588\u2588\u2588\u2588\u2588\u2588\u2588\u2588\u258b| 1668/1712 [10:33<00:15,  2.89it/s]"
          ]
        },
        {
          "output_type": "stream",
          "name": "stderr",
          "text": [
            "\rExtracting test embeddings (flip):  97%|\u2588\u2588\u2588\u2588\u2588\u2588\u2588\u2588\u2588\u258b| 1669/1712 [10:33<00:17,  2.46it/s]"
          ]
        },
        {
          "output_type": "stream",
          "name": "stderr",
          "text": [
            "\rExtracting test embeddings (flip):  98%|\u2588\u2588\u2588\u2588\u2588\u2588\u2588\u2588\u2588\u258a| 1670/1712 [10:34<00:15,  2.66it/s]"
          ]
        },
        {
          "output_type": "stream",
          "name": "stderr",
          "text": [
            "\rExtracting test embeddings (flip):  98%|\u2588\u2588\u2588\u2588\u2588\u2588\u2588\u2588\u2588\u258a| 1671/1712 [10:34<00:14,  2.75it/s]"
          ]
        },
        {
          "output_type": "stream",
          "name": "stderr",
          "text": [
            "\rExtracting test embeddings (flip):  98%|\u2588\u2588\u2588\u2588\u2588\u2588\u2588\u2588\u2588\u258a| 1672/1712 [10:34<00:13,  2.89it/s]"
          ]
        },
        {
          "output_type": "stream",
          "name": "stderr",
          "text": [
            "\rExtracting test embeddings (flip):  98%|\u2588\u2588\u2588\u2588\u2588\u2588\u2588\u2588\u2588\u258a| 1673/1712 [10:35<00:15,  2.46it/s]"
          ]
        },
        {
          "output_type": "stream",
          "name": "stderr",
          "text": [
            "\rExtracting test embeddings (flip):  98%|\u2588\u2588\u2588\u2588\u2588\u2588\u2588\u2588\u2588\u258a| 1674/1712 [10:35<00:14,  2.66it/s]"
          ]
        },
        {
          "output_type": "stream",
          "name": "stderr",
          "text": [
            "\rExtracting test embeddings (flip):  98%|\u2588\u2588\u2588\u2588\u2588\u2588\u2588\u2588\u2588\u258a| 1675/1712 [10:36<00:13,  2.74it/s]"
          ]
        },
        {
          "output_type": "stream",
          "name": "stderr",
          "text": [
            "\rExtracting test embeddings (flip):  98%|\u2588\u2588\u2588\u2588\u2588\u2588\u2588\u2588\u2588\u258a| 1676/1712 [10:36<00:12,  2.89it/s]"
          ]
        },
        {
          "output_type": "stream",
          "name": "stderr",
          "text": [
            "\rExtracting test embeddings (flip):  98%|\u2588\u2588\u2588\u2588\u2588\u2588\u2588\u2588\u2588\u258a| 1677/1712 [10:36<00:14,  2.44it/s]"
          ]
        },
        {
          "output_type": "stream",
          "name": "stderr",
          "text": [
            "\rExtracting test embeddings (flip):  98%|\u2588\u2588\u2588\u2588\u2588\u2588\u2588\u2588\u2588\u258a| 1678/1712 [10:37<00:12,  2.65it/s]"
          ]
        },
        {
          "output_type": "stream",
          "name": "stderr",
          "text": [
            "\rExtracting test embeddings (flip):  98%|\u2588\u2588\u2588\u2588\u2588\u2588\u2588\u2588\u2588\u258a| 1679/1712 [10:37<00:11,  2.76it/s]"
          ]
        },
        {
          "output_type": "stream",
          "name": "stderr",
          "text": [
            "\rExtracting test embeddings (flip):  98%|\u2588\u2588\u2588\u2588\u2588\u2588\u2588\u2588\u2588\u258a| 1680/1712 [10:37<00:11,  2.89it/s]"
          ]
        },
        {
          "output_type": "stream",
          "name": "stderr",
          "text": [
            "\rExtracting test embeddings (flip):  98%|\u2588\u2588\u2588\u2588\u2588\u2588\u2588\u2588\u2588\u258a| 1681/1712 [10:38<00:12,  2.42it/s]"
          ]
        },
        {
          "output_type": "stream",
          "name": "stderr",
          "text": [
            "\rExtracting test embeddings (flip):  98%|\u2588\u2588\u2588\u2588\u2588\u2588\u2588\u2588\u2588\u258a| 1682/1712 [10:38<00:11,  2.62it/s]"
          ]
        },
        {
          "output_type": "stream",
          "name": "stderr",
          "text": [
            "\rExtracting test embeddings (flip):  98%|\u2588\u2588\u2588\u2588\u2588\u2588\u2588\u2588\u2588\u258a| 1683/1712 [10:39<00:10,  2.76it/s]"
          ]
        },
        {
          "output_type": "stream",
          "name": "stderr",
          "text": [
            "\rExtracting test embeddings (flip):  98%|\u2588\u2588\u2588\u2588\u2588\u2588\u2588\u2588\u2588\u258a| 1684/1712 [10:39<00:09,  2.90it/s]"
          ]
        },
        {
          "output_type": "stream",
          "name": "stderr",
          "text": [
            "\rExtracting test embeddings (flip):  98%|\u2588\u2588\u2588\u2588\u2588\u2588\u2588\u2588\u2588\u258a| 1685/1712 [10:39<00:11,  2.44it/s]"
          ]
        },
        {
          "output_type": "stream",
          "name": "stderr",
          "text": [
            "\rExtracting test embeddings (flip):  98%|\u2588\u2588\u2588\u2588\u2588\u2588\u2588\u2588\u2588\u258a| 1686/1712 [10:40<00:09,  2.64it/s]"
          ]
        },
        {
          "output_type": "stream",
          "name": "stderr",
          "text": [
            "\rExtracting test embeddings (flip):  99%|\u2588\u2588\u2588\u2588\u2588\u2588\u2588\u2588\u2588\u258a| 1687/1712 [10:40<00:09,  2.77it/s]"
          ]
        },
        {
          "output_type": "stream",
          "name": "stderr",
          "text": [
            "\rExtracting test embeddings (flip):  99%|\u2588\u2588\u2588\u2588\u2588\u2588\u2588\u2588\u2588\u258a| 1688/1712 [10:40<00:08,  2.89it/s]"
          ]
        },
        {
          "output_type": "stream",
          "name": "stderr",
          "text": [
            "\rExtracting test embeddings (flip):  99%|\u2588\u2588\u2588\u2588\u2588\u2588\u2588\u2588\u2588\u258a| 1689/1712 [10:41<00:09,  2.44it/s]"
          ]
        },
        {
          "output_type": "stream",
          "name": "stderr",
          "text": [
            "\rExtracting test embeddings (flip):  99%|\u2588\u2588\u2588\u2588\u2588\u2588\u2588\u2588\u2588\u258a| 1690/1712 [10:41<00:08,  2.64it/s]"
          ]
        },
        {
          "output_type": "stream",
          "name": "stderr",
          "text": [
            "\rExtracting test embeddings (flip):  99%|\u2588\u2588\u2588\u2588\u2588\u2588\u2588\u2588\u2588\u2589| 1691/1712 [10:42<00:07,  2.78it/s]"
          ]
        },
        {
          "output_type": "stream",
          "name": "stderr",
          "text": [
            "\rExtracting test embeddings (flip):  99%|\u2588\u2588\u2588\u2588\u2588\u2588\u2588\u2588\u2588\u2589| 1692/1712 [10:42<00:06,  2.92it/s]"
          ]
        },
        {
          "output_type": "stream",
          "name": "stderr",
          "text": [
            "\rExtracting test embeddings (flip):  99%|\u2588\u2588\u2588\u2588\u2588\u2588\u2588\u2588\u2588\u2589| 1693/1712 [10:42<00:07,  2.43it/s]"
          ]
        },
        {
          "output_type": "stream",
          "name": "stderr",
          "text": [
            "\rExtracting test embeddings (flip):  99%|\u2588\u2588\u2588\u2588\u2588\u2588\u2588\u2588\u2588\u2589| 1694/1712 [10:43<00:06,  2.63it/s]"
          ]
        },
        {
          "output_type": "stream",
          "name": "stderr",
          "text": [
            "\rExtracting test embeddings (flip):  99%|\u2588\u2588\u2588\u2588\u2588\u2588\u2588\u2588\u2588\u2589| 1695/1712 [10:43<00:06,  2.78it/s]"
          ]
        },
        {
          "output_type": "stream",
          "name": "stderr",
          "text": [
            "\rExtracting test embeddings (flip):  99%|\u2588\u2588\u2588\u2588\u2588\u2588\u2588\u2588\u2588\u2589| 1696/1712 [10:43<00:05,  2.91it/s]"
          ]
        },
        {
          "output_type": "stream",
          "name": "stderr",
          "text": [
            "\rExtracting test embeddings (flip):  99%|\u2588\u2588\u2588\u2588\u2588\u2588\u2588\u2588\u2588\u2589| 1697/1712 [10:44<00:06,  2.41it/s]"
          ]
        },
        {
          "output_type": "stream",
          "name": "stderr",
          "text": [
            "\rExtracting test embeddings (flip):  99%|\u2588\u2588\u2588\u2588\u2588\u2588\u2588\u2588\u2588\u2589| 1698/1712 [10:44<00:05,  2.62it/s]"
          ]
        },
        {
          "output_type": "stream",
          "name": "stderr",
          "text": [
            "\rExtracting test embeddings (flip):  99%|\u2588\u2588\u2588\u2588\u2588\u2588\u2588\u2588\u2588\u2589| 1699/1712 [10:45<00:04,  2.75it/s]"
          ]
        },
        {
          "output_type": "stream",
          "name": "stderr",
          "text": [
            "\rExtracting test embeddings (flip):  99%|\u2588\u2588\u2588\u2588\u2588\u2588\u2588\u2588\u2588\u2589| 1700/1712 [10:45<00:04,  2.88it/s]"
          ]
        },
        {
          "output_type": "stream",
          "name": "stderr",
          "text": [
            "\rExtracting test embeddings (flip):  99%|\u2588\u2588\u2588\u2588\u2588\u2588\u2588\u2588\u2588\u2589| 1701/1712 [10:45<00:04,  2.41it/s]"
          ]
        },
        {
          "output_type": "stream",
          "name": "stderr",
          "text": [
            "\rExtracting test embeddings (flip):  99%|\u2588\u2588\u2588\u2588\u2588\u2588\u2588\u2588\u2588\u2589| 1702/1712 [10:46<00:03,  2.61it/s]"
          ]
        },
        {
          "output_type": "stream",
          "name": "stderr",
          "text": [
            "\rExtracting test embeddings (flip):  99%|\u2588\u2588\u2588\u2588\u2588\u2588\u2588\u2588\u2588\u2589| 1703/1712 [10:46<00:03,  2.76it/s]"
          ]
        },
        {
          "output_type": "stream",
          "name": "stderr",
          "text": [
            "\rExtracting test embeddings (flip): 100%|\u2588\u2588\u2588\u2588\u2588\u2588\u2588\u2588\u2588\u2589| 1704/1712 [10:46<00:02,  2.89it/s]"
          ]
        },
        {
          "output_type": "stream",
          "name": "stderr",
          "text": [
            "\rExtracting test embeddings (flip): 100%|\u2588\u2588\u2588\u2588\u2588\u2588\u2588\u2588\u2588\u2589| 1705/1712 [10:47<00:02,  2.41it/s]"
          ]
        },
        {
          "output_type": "stream",
          "name": "stderr",
          "text": [
            "\rExtracting test embeddings (flip): 100%|\u2588\u2588\u2588\u2588\u2588\u2588\u2588\u2588\u2588\u2589| 1706/1712 [10:47<00:02,  2.62it/s]"
          ]
        },
        {
          "output_type": "stream",
          "name": "stderr",
          "text": [
            "\rExtracting test embeddings (flip): 100%|\u2588\u2588\u2588\u2588\u2588\u2588\u2588\u2588\u2588\u2589| 1707/1712 [10:48<00:01,  2.75it/s]"
          ]
        },
        {
          "output_type": "stream",
          "name": "stderr",
          "text": [
            "\rExtracting test embeddings (flip): 100%|\u2588\u2588\u2588\u2588\u2588\u2588\u2588\u2588\u2588\u2589| 1708/1712 [10:48<00:01,  2.89it/s]"
          ]
        },
        {
          "output_type": "stream",
          "name": "stderr",
          "text": [
            "\rExtracting test embeddings (flip): 100%|\u2588\u2588\u2588\u2588\u2588\u2588\u2588\u2588\u2588\u2589| 1709/1712 [10:48<00:01,  2.42it/s]"
          ]
        },
        {
          "output_type": "stream",
          "name": "stderr",
          "text": [
            "\rExtracting test embeddings (flip): 100%|\u2588\u2588\u2588\u2588\u2588\u2588\u2588\u2588\u2588\u2589| 1710/1712 [10:49<00:00,  2.63it/s]"
          ]
        },
        {
          "output_type": "stream",
          "name": "stderr",
          "text": [
            "\rExtracting test embeddings (flip): 100%|\u2588\u2588\u2588\u2588\u2588\u2588\u2588\u2588\u2588\u2589| 1711/1712 [10:49<00:00,  2.77it/s]"
          ]
        },
        {
          "output_type": "stream",
          "name": "stderr",
          "text": [
            "\rExtracting test embeddings (flip): 100%|\u2588\u2588\u2588\u2588\u2588\u2588\u2588\u2588\u2588\u2588| 1712/1712 [10:49<00:00,  2.97it/s]"
          ]
        },
        {
          "output_type": "stream",
          "name": "stderr",
          "text": [
            "\rExtracting test embeddings (flip): 100%|\u2588\u2588\u2588\u2588\u2588\u2588\u2588\u2588\u2588\u2588| 1712/1712 [10:50<00:00,  2.63it/s]"
          ]
        },
        {
          "output_type": "stream",
          "name": "stderr",
          "text": [
            "\n"
          ]
        },
        {
          "output_type": "stream",
          "name": "stderr",
          "text": [
            "\rComputing similarities (batched):   0%|          | 0/22 [00:00<?, ?it/s]"
          ]
        },
        {
          "output_type": "stream",
          "name": "stderr",
          "text": [
            "\rComputing similarities (batched):   5%|\u258d         | 1/22 [00:01<00:22,  1.07s/it]"
          ]
        },
        {
          "output_type": "stream",
          "name": "stderr",
          "text": [
            "\rComputing similarities (batched):   9%|\u2589         | 2/22 [00:02<00:22,  1.12s/it]"
          ]
        },
        {
          "output_type": "stream",
          "name": "stderr",
          "text": [
            "\rComputing similarities (batched):  14%|\u2588\u258e        | 3/22 [00:03<00:21,  1.14s/it]"
          ]
        },
        {
          "output_type": "stream",
          "name": "stderr",
          "text": [
            "\rComputing similarities (batched):  18%|\u2588\u258a        | 4/22 [00:04<00:20,  1.15s/it]"
          ]
        },
        {
          "output_type": "stream",
          "name": "stderr",
          "text": [
            "\rComputing similarities (batched):  23%|\u2588\u2588\u258e       | 5/22 [00:05<00:19,  1.16s/it]"
          ]
        },
        {
          "output_type": "stream",
          "name": "stderr",
          "text": [
            "\rComputing similarities (batched):  27%|\u2588\u2588\u258b       | 6/22 [00:06<00:18,  1.17s/it]"
          ]
        },
        {
          "output_type": "stream",
          "name": "stderr",
          "text": [
            "\rComputing similarities (batched):  32%|\u2588\u2588\u2588\u258f      | 7/22 [00:08<00:17,  1.18s/it]"
          ]
        },
        {
          "output_type": "stream",
          "name": "stderr",
          "text": [
            "\rComputing similarities (batched):  36%|\u2588\u2588\u2588\u258b      | 8/22 [00:09<00:16,  1.18s/it]"
          ]
        },
        {
          "output_type": "stream",
          "name": "stderr",
          "text": [
            "\rComputing similarities (batched):  41%|\u2588\u2588\u2588\u2588      | 9/22 [00:10<00:15,  1.20s/it]"
          ]
        },
        {
          "output_type": "stream",
          "name": "stderr",
          "text": [
            "\rComputing similarities (batched):  45%|\u2588\u2588\u2588\u2588\u258c     | 10/22 [00:11<00:14,  1.19s/it]"
          ]
        },
        {
          "output_type": "stream",
          "name": "stderr",
          "text": [
            "\rComputing similarities (batched):  50%|\u2588\u2588\u2588\u2588\u2588     | 11/22 [00:12<00:13,  1.19s/it]"
          ]
        },
        {
          "output_type": "stream",
          "name": "stderr",
          "text": [
            "\rComputing similarities (batched):  55%|\u2588\u2588\u2588\u2588\u2588\u258d    | 12/22 [00:14<00:11,  1.19s/it]"
          ]
        },
        {
          "output_type": "stream",
          "name": "stderr",
          "text": [
            "\rComputing similarities (batched):  59%|\u2588\u2588\u2588\u2588\u2588\u2589    | 13/22 [00:15<00:10,  1.19s/it]"
          ]
        },
        {
          "output_type": "stream",
          "name": "stderr",
          "text": [
            "\rComputing similarities (batched):  64%|\u2588\u2588\u2588\u2588\u2588\u2588\u258e   | 14/22 [00:16<00:09,  1.18s/it]"
          ]
        },
        {
          "output_type": "stream",
          "name": "stderr",
          "text": [
            "\rComputing similarities (batched):  68%|\u2588\u2588\u2588\u2588\u2588\u2588\u258a   | 15/22 [00:17<00:08,  1.19s/it]"
          ]
        },
        {
          "output_type": "stream",
          "name": "stderr",
          "text": [
            "\rComputing similarities (batched):  73%|\u2588\u2588\u2588\u2588\u2588\u2588\u2588\u258e  | 16/22 [00:18<00:07,  1.20s/it]"
          ]
        },
        {
          "output_type": "stream",
          "name": "stderr",
          "text": [
            "\rComputing similarities (batched):  77%|\u2588\u2588\u2588\u2588\u2588\u2588\u2588\u258b  | 17/22 [00:20<00:05,  1.20s/it]"
          ]
        },
        {
          "output_type": "stream",
          "name": "stderr",
          "text": [
            "\rComputing similarities (batched):  82%|\u2588\u2588\u2588\u2588\u2588\u2588\u2588\u2588\u258f | 18/22 [00:21<00:05,  1.27s/it]"
          ]
        },
        {
          "output_type": "stream",
          "name": "stderr",
          "text": [
            "\rComputing similarities (batched):  86%|\u2588\u2588\u2588\u2588\u2588\u2588\u2588\u2588\u258b | 19/22 [00:22<00:03,  1.24s/it]"
          ]
        },
        {
          "output_type": "stream",
          "name": "stderr",
          "text": [
            "\rComputing similarities (batched):  91%|\u2588\u2588\u2588\u2588\u2588\u2588\u2588\u2588\u2588 | 20/22 [00:23<00:02,  1.23s/it]"
          ]
        },
        {
          "output_type": "stream",
          "name": "stderr",
          "text": [
            "\rComputing similarities (batched):  95%|\u2588\u2588\u2588\u2588\u2588\u2588\u2588\u2588\u2588\u258c| 21/22 [00:25<00:01,  1.21s/it]"
          ]
        },
        {
          "output_type": "stream",
          "name": "stderr",
          "text": [
            "\rComputing similarities (batched): 100%|\u2588\u2588\u2588\u2588\u2588\u2588\u2588\u2588\u2588\u2588| 22/22 [00:26<00:00,  1.18s/it]"
          ]
        },
        {
          "output_type": "stream",
          "name": "stderr",
          "text": [
            "\rComputing similarities (batched): 100%|\u2588\u2588\u2588\u2588\u2588\u2588\u2588\u2588\u2588\u2588| 22/22 [00:26<00:00,  1.19s/it]"
          ]
        },
        {
          "output_type": "stream",
          "name": "stderr",
          "text": [
            "\n"
          ]
        },
        {
          "output_type": "stream",
          "name": "stdout",
          "text": [
            "Cosine similarities computed on GPU (batched)\n"
          ]
        },
        {
          "output_type": "stream",
          "name": "stdout",
          "text": [
            "Submission saved as submission_retrieval.csv\n     Id  Predicted\n0     0       5188\n1     1       8152\n2    10      11994\n3   100      14939\n4  1000      26775\nNumber of unique predicted classes: 27507\n"
          ]
        }
      ]
    },
    {
      "id": "b0b3a07f-fb81-4a88-b084-972558c25566",
      "cell_type": "code",
      "metadata": {},
      "source": [
        "# Sanity check: verify image loading with cv2\n",
        "import cv2\n",
        "import os\n",
        "sample_file = train_df['file_name'].iloc[0]\n",
        "sample_path = os.path.join('nybg2020/train', sample_file)\n",
        "img = cv2.imread(sample_path)\n",
        "print('Sample path:', sample_path)\n",
        "print('Image loaded successfully:', img is not None)\n",
        "if img is not None:\n",
        "    print('Image shape (BGR):', img.shape)\n",
        "    # Test tight_crop\n",
        "    cropped = tight_crop(sample_path)\n",
        "    print('Tight crop shape (RGB):', cropped.shape)"
      ],
      "execution_count": 10,
      "outputs": [
        {
          "output_type": "stream",
          "name": "stdout",
          "text": [
            "Sample path: nybg2020/train/images/156/72/124136.jpg\nImage loaded successfully: True\nImage shape (BGR): (1000, 661, 3)\nTight crop shape (RGB): (1000, 661, 3)\n"
          ]
        }
      ]
    },
    {
      "id": "6dd8c49a-76fb-4602-aa33-50f167166b76",
      "cell_type": "code",
      "metadata": {},
      "source": [
        "import pandas as pd\n",
        "\n",
        "# Verification cell for submission_retrieval.csv\n",
        "if os.path.exists('submission_retrieval.csv'):\n",
        "    sub = pd.read_csv('submission_retrieval.csv')\n",
        "    print('Shape:', sub.shape)\n",
        "    print('Columns:', list(sub.columns))\n",
        "    print('Id dtype:', sub['Id'].dtype)\n",
        "    print('Predicted dtype:', sub['Predicted'].dtype)\n",
        "    print('Id min/max:', sub['Id'].min(), sub['Id'].max())\n",
        "    print('Id sorted and complete:', (sub['Id'] == range(len(sub))).all())\n",
        "    print('Unique predicted classes:', sub['Predicted'].nunique())\n",
        "    print('Predicted min/max:', sub['Predicted'].min(), sub['Predicted'].max())\n",
        "    # Check valid range (assuming 0 to 32092)\n",
        "    if 0 <= sub['Predicted'].min() and sub['Predicted'].max() < 32093:\n",
        "        print('Predicted values in valid range: True')\n",
        "    else:\n",
        "        print('Predicted values in valid range: False')\n",
        "    print('\\nFirst few rows:')\n",
        "    print(sub.head())\n",
        "    print('\\nVerification complete.')\n",
        "else:\n",
        "    print('submission_retrieval.csv not found yet.')"
      ],
      "execution_count": 14,
      "outputs": [
        {
          "output_type": "stream",
          "name": "stdout",
          "text": [
            "Shape: (219124, 2)\nColumns: ['Id', 'Predicted']\nId dtype: int64\nPredicted dtype: int64\nId min/max: 0 219123\nId sorted and complete: False\nUnique predicted classes: 27507\nPredicted min/max: 0 32093\nPredicted values in valid range: False\n\nFirst few rows:\n     Id  Predicted\n0     0       5188\n1     1       8152\n2    10      11994\n3   100      14939\n4  1000      26775\n\nVerification complete.\n"
          ]
        }
      ]
    },
    {
      "id": "0361e8f9-1dac-4b78-9ebd-c061a757c305",
      "cell_type": "code",
      "metadata": {},
      "source": [
        "import pandas as pd\n",
        "\n",
        "# Fix submission: sort by Id, ensure valid Predicted range\n",
        "sub = pd.read_csv('submission_retrieval.csv')\n",
        "print('Original shape:', sub.shape)\n",
        "print('Original Id sorted:', (sub['Id'] == range(len(sub))).all())\n",
        "print('Original Predicted max:', sub['Predicted'].max())\n",
        "\n",
        "# Sort by Id\n",
        "sub = sub.sort_values('Id').reset_index(drop=True)\n",
        "\n",
        "# Clip Predicted to valid range 0-32092\n",
        "sub['Predicted'] = sub['Predicted'].clip(0, 32092)\n",
        "\n",
        "# Save as submission.csv\n",
        "sub.to_csv('submission.csv', index=False)\n",
        "print('Fixed submission saved as submission.csv')\n",
        "\n",
        "# Quick verification\n",
        "print('Fixed shape:', sub.shape)\n",
        "print('Fixed Id sorted and complete:', (sub['Id'] == range(len(sub))).all())\n",
        "print('Fixed Predicted min/max:', sub['Predicted'].min(), sub['Predicted'].max())\n",
        "print('Fixed unique classes:', sub['Predicted'].nunique())\n",
        "print('\\nFirst few rows:')\n",
        "print(sub.head())"
      ],
      "execution_count": 15,
      "outputs": [
        {
          "output_type": "stream",
          "name": "stdout",
          "text": [
            "Original shape: (219124, 2)\nOriginal Id sorted: False\nOriginal Predicted max: 32093\nFixed submission saved as submission.csv\nFixed shape: (219124, 2)\nFixed Id sorted and complete: True\nFixed Predicted min/max: 0 32092\nFixed unique classes: 27507\n\nFirst few rows:\n   Id  Predicted\n0   0       5188\n1   1       8152\n2   2         30\n3   3      24381\n4   4      30750\n"
          ]
        }
      ]
    }
  ],
  "metadata": {
    "kernelspec": {
      "display_name": "Python 3",
      "language": "python",
      "name": "python3"
    },
    "language_info": {
      "name": "python",
      "version": "3.11.0rc1"
    }
  },
  "nbformat": 4,
  "nbformat_minor": 5
}