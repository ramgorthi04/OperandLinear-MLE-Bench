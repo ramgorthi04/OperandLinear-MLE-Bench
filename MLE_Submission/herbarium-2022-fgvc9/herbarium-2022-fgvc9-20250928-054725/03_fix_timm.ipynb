{
  "cells": [
    {
      "id": "d56ecfc0-d12c-44ef-9740-75e4a04cf266",
      "cell_type": "code",
      "metadata": {},
      "source": [
        "import sys\n",
        "import os\n",
        "import timm\n",
        "print('timm.__file__ =', getattr(timm, '__file__', None))\n",
        "print('has create_model:', hasattr(timm, 'create_model'))\n",
        "os.system(\"find . -maxdepth 2 -iname 'timm*' -print\")"
      ],
      "execution_count": 1,
      "outputs": [
        {
          "output_type": "stream",
          "name": "stdout",
          "text": [
            "timm.__file__ = None\nhas create_model: False\n"
          ]
        },
        {
          "output_type": "execute_result",
          "data": {
            "text/plain": "0"
          },
          "metadata": {}
        }
      ]
    },
    {
      "id": "ee82dbbf-ef4f-4ab4-8ad1-75c5f5f07ee3",
      "cell_type": "code",
      "metadata": {},
      "source": [
        "%pip uninstall -y -q timm pytorch-image-models\n",
        "%pip cache purge -q\n",
        "%pip install -q --no-deps timm==0.9.16 einops==0.7.0 pyyaml==6.0.1 packaging==24.1\n",
        "print('timm reinstalled with minimal deps. Hard restart next.')"
      ],
      "execution_count": 3,
      "outputs": [
        {
          "output_type": "stream",
          "name": "stderr",
          "text": [
            "WARNING: Skipping timm as it is not installed.\nWARNING: Skipping pytorch-image-models as it is not installed.\n\n"
          ]
        },
        {
          "output_type": "stream",
          "name": "stderr",
          "text": [
            "ERROR: pip cache commands can not function since cache is disabled.\n\n"
          ]
        },
        {
          "output_type": "stream",
          "name": "stdout",
          "text": [
            "\u2705 Package installation completed and import cache refreshed.\ntimm reinstalled with minimal deps. Hard restart next.\n"
          ]
        },
        {
          "output_type": "stream",
          "name": "stderr",
          "text": [
            "WARNING: Target directory /app/.pip-target/einops-0.7.0.dist-info already exists. Specify --upgrade to force replacement.\nWARNING: Target directory /app/.pip-target/einops already exists. Specify --upgrade to force replacement.\nWARNING: Target directory /app/.pip-target/packaging already exists. Specify --upgrade to force replacement.\nWARNING: Target directory /app/.pip-target/_yaml already exists. Specify --upgrade to force replacement.\nWARNING: Target directory /app/.pip-target/yaml already exists. Specify --upgrade to force replacement.\nWARNING: Target directory /app/.pip-target/timm already exists. Specify --upgrade to force replacement.\n\n"
          ]
        }
      ]
    },
    {
      "id": "3125e94b-5242-448e-95c0-f7b6f3c1c25f",
      "cell_type": "code",
      "metadata": {},
      "source": [
        "import os\n",
        "os._exit(0)"
      ],
      "execution_count": 4,
      "outputs": [
        {
          "output_type": "error",
          "ename": "KernelDied",
          "evalue": "Kernel died unexpectedly.",
          "traceback": []
        }
      ]
    },
    {
      "id": "4fb0ff63-7426-41f8-be66-6e1dc0f46cec",
      "cell_type": "code",
      "metadata": {},
      "source": [
        "import torch\n",
        "import timm\n",
        "print('Torch:', torch.__version__, 'CUDA ok:', torch.cuda.is_available())\n",
        "print('GPU:', torch.cuda.get_device_name(0) if torch.cuda.is_available() else 'CPU')\n",
        "print('timm:', timm.__version__, 'file:', timm.__file__)\n",
        "print('create_model:', hasattr(timm, 'create_model'))\n",
        "print('list_models:', hasattr(timm, 'list_models'))\n",
        "try:\n",
        "    test = timm.create_model('convnext_base.fb_in22k_ft_in1k', pretrained=False, num_classes=2)\n",
        "    print('Model creation test passed')\n",
        "except Exception as e:\n",
        "    print('Model creation failed:', e)"
      ],
      "execution_count": 5,
      "outputs": [
        {
          "output_type": "stream",
          "name": "stdout",
          "text": [
            "Torch: 2.4.1+cu121 CUDA ok: True\nGPU: NVIDIA A10-24Q\n"
          ]
        },
        {
          "output_type": "error",
          "ename": "AttributeError",
          "evalue": "module 'timm' has no attribute '__version__'",
          "traceback": [
            "\u001b[31m---------------------------------------------------------------------------\u001b[39m",
            "\u001b[31mAttributeError\u001b[39m                            Traceback (most recent call last)",
            "\u001b[36mCell\u001b[39m\u001b[36m \u001b[39m\u001b[32mIn[1]\u001b[39m\u001b[32m, line 5\u001b[39m\n\u001b[32m      3\u001b[39m \u001b[38;5;28mprint\u001b[39m(\u001b[33m'\u001b[39m\u001b[33mTorch:\u001b[39m\u001b[33m'\u001b[39m, torch.__version__, \u001b[33m'\u001b[39m\u001b[33mCUDA ok:\u001b[39m\u001b[33m'\u001b[39m, torch.cuda.is_available())\n\u001b[32m      4\u001b[39m \u001b[38;5;28mprint\u001b[39m(\u001b[33m'\u001b[39m\u001b[33mGPU:\u001b[39m\u001b[33m'\u001b[39m, torch.cuda.get_device_name(\u001b[32m0\u001b[39m) \u001b[38;5;28;01mif\u001b[39;00m torch.cuda.is_available() \u001b[38;5;28;01melse\u001b[39;00m \u001b[33m'\u001b[39m\u001b[33mCPU\u001b[39m\u001b[33m'\u001b[39m)\n\u001b[32m----> \u001b[39m\u001b[32m5\u001b[39m \u001b[38;5;28mprint\u001b[39m(\u001b[33m'\u001b[39m\u001b[33mtimm:\u001b[39m\u001b[33m'\u001b[39m, \u001b[43mtimm\u001b[49m\u001b[43m.\u001b[49m\u001b[43m__version__\u001b[49m, \u001b[33m'\u001b[39m\u001b[33mfile:\u001b[39m\u001b[33m'\u001b[39m, timm.\u001b[34m__file__\u001b[39m)\n\u001b[32m      6\u001b[39m \u001b[38;5;28mprint\u001b[39m(\u001b[33m'\u001b[39m\u001b[33mcreate_model:\u001b[39m\u001b[33m'\u001b[39m, \u001b[38;5;28mhasattr\u001b[39m(timm, \u001b[33m'\u001b[39m\u001b[33mcreate_model\u001b[39m\u001b[33m'\u001b[39m))\n\u001b[32m      7\u001b[39m \u001b[38;5;28mprint\u001b[39m(\u001b[33m'\u001b[39m\u001b[33mlist_models:\u001b[39m\u001b[33m'\u001b[39m, \u001b[38;5;28mhasattr\u001b[39m(timm, \u001b[33m'\u001b[39m\u001b[33mlist_models\u001b[39m\u001b[33m'\u001b[39m))\n",
            "\u001b[31mAttributeError\u001b[39m: module 'timm' has no attribute '__version__'"
          ]
        }
      ]
    }
  ],
  "metadata": {
    "kernelspec": {
      "display_name": "Python 3",
      "language": "python",
      "name": "python3"
    },
    "language_info": {
      "name": "python",
      "version": "3.11.0rc1"
    }
  },
  "nbformat": 4,
  "nbformat_minor": 5
}