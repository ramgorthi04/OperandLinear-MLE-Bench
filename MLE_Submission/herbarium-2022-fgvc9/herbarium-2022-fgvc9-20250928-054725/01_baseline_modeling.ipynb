{
  "cells": [
    {
      "id": "5b2706d9-e20c-49f8-80ca-4d72f1a3edfb",
      "cell_type": "code",
      "metadata": {},
      "source": [
        "import torch\n",
        "import albumentations as A\n",
        "from albumentations.pytorch import ToTensorV2\n",
        "import cv2\n",
        "import pandas as pd\n",
        "import numpy as np\n",
        "from collections import Counter\n",
        "from sklearn.model_selection import StratifiedShuffleSplit\n",
        "from torch.utils.data import Dataset, DataLoader, WeightedRandomSampler\n",
        "from sklearn.metrics import f1_score\n",
        "import json\n",
        "import time\n",
        "import os\n",
        "cv2.setNumThreads(0)"
      ],
      "execution_count": 1,
      "outputs": []
    },
    {
      "id": "76a0ea3a-b7eb-4930-b76c-f1a49f989727",
      "cell_type": "code",
      "metadata": {},
      "source": [
        "import json\n",
        "import pandas as pd\n",
        "\n",
        "# Load train metadata\n",
        "with open('train_metadata.json', 'r') as f:\n",
        "    train_data = json.load(f)\n",
        "\n",
        "images_df = pd.DataFrame(train_data['images'])\n",
        "annotations_df = pd.DataFrame(train_data['annotations'])\n",
        "train_df = images_df.merge(annotations_df, on='image_id')\n",
        "\n",
        "print(f'Train samples: {len(train_df)}')\n",
        "print(f'Train columns: {train_df.columns.tolist()}')\n",
        "print(f'Unique classes: {train_df[\"category_id\"].nunique()}')\n",
        "\n",
        "# Remap category_id to contiguous 0 to 15500 due to gaps\n",
        "unique_cats = sorted(train_df['category_id'].unique())\n",
        "cat_to_idx = {cat: idx for idx, cat in enumerate(unique_cats)}\n",
        "idx_to_cat = {idx: cat for cat, idx in cat_to_idx.items()}\n",
        "train_df['mapped_label'] = train_df['category_id'].map(cat_to_idx)\n",
        "print(f'Mapping created: {len(cat_to_idx)} classes, max mapped: {train_df[\"mapped_label\"].max()}')\n",
        "\n",
        "# Load test metadata\n",
        "with open('test_metadata.json', 'r') as f:\n",
        "    test_data = json.load(f)\n",
        "\n",
        "test_df = pd.DataFrame(test_data)\n",
        "print(f'Test samples: {len(test_df)}')\n",
        "print(f'Test columns: {test_df.columns.tolist()}')\n",
        "print('Train head:', train_df.head())"
      ],
      "execution_count": 2,
      "outputs": [
        {
          "output_type": "stream",
          "name": "stdout",
          "text": [
            "Train samples: 665720\nTrain columns: ['file_name', 'image_id', 'license', 'category_id', 'genus_id', 'institution_id']\nUnique classes: 15501\nMapping created: 15501 classes, max mapped: 15500\nTest samples: 174052\nTest columns: ['file_name', 'image_id', 'license']\nTrain head:                file_name    image_id  license  category_id  genus_id  \\\n0  000/00/00000__001.jpg  00000__001        0            0         1   \n1  000/00/00000__002.jpg  00000__002        0            0         1   \n2  000/00/00000__003.jpg  00000__003        0            0         1   \n3  000/00/00000__004.jpg  00000__004        0            0         1   \n4  000/00/00000__005.jpg  00000__005        0            0         1   \n\n   institution_id  mapped_label  \n0              52             0  \n1              55             0  \n2              52             0  \n3              52             0  \n4              52             0  \n"
          ]
        }
      ]
    },
    {
      "id": "bd5b1e9b-7562-4f08-928e-7cc652b14205",
      "cell_type": "code",
      "metadata": {},
      "source": [
        "print('Max category_id in train_df:', train_df['category_id'].max())\n",
        "print('Min category_id in train_df:', train_df['category_id'].min())\n",
        "print('Number of unique category_id:', train_df['category_id'].nunique())\n",
        "gaps = set(range(train_df['category_id'].min(), train_df['category_id'].max() + 1)) - set(train_df['category_id'].unique())\n",
        "print('Number of gaps in category_id:', len(gaps))"
      ],
      "execution_count": 3,
      "outputs": [
        {
          "output_type": "stream",
          "name": "stdout",
          "text": [
            "Max category_id in train_df: 15504\nMin category_id in train_df: 0\nNumber of unique category_id: 15501\nNumber of gaps in category_id: 4\n"
          ]
        }
      ]
    },
    {
      "id": "dd9d5627-be8f-4a3e-b4e1-df8167a18e1e",
      "cell_type": "code",
      "metadata": {},
      "source": [
        "from sklearn.model_selection import StratifiedShuffleSplit\n",
        "\n",
        "splitter = StratifiedShuffleSplit(n_splits=1, test_size=0.1, random_state=42)\n",
        "train_idx, val_idx = next(splitter.split(train_df, train_df['mapped_label']))\n",
        "train_split = train_df.iloc[train_idx].reset_index(drop=True)\n",
        "val_split = train_df.iloc[val_idx].reset_index(drop=True)\n",
        "\n",
        "print(f'Train split size: {len(train_split)}')\n",
        "print(f'Val split size: {len(val_split)}')\n",
        "print(f'Val unique classes: {val_split[\"mapped_label\"].nunique()}')"
      ],
      "execution_count": 4,
      "outputs": [
        {
          "output_type": "stream",
          "name": "stdout",
          "text": [
            "Train split size: 599148\nVal split size: 66572\nVal unique classes: 15417\n"
          ]
        }
      ]
    },
    {
      "id": "f820be7e-17ee-49be-9c77-4b6c3e36b5c3",
      "cell_type": "code",
      "metadata": {},
      "source": [
        "# WeightedRandomSampler commented out per expert advice - use shuffle=True + class-weighted loss\n",
        "# class_counts = Counter(train_split['category_id'])\n",
        "# sample_weights = [1.0 / class_counts[cat] for cat in train_split['category_id']]\n",
        "# sampler = WeightedRandomSampler(sample_weights, num_samples=len(sample_weights), replacement=True)\n",
        "# print(f'Sampler stats - mean weight: {np.mean(sample_weights):.4f}, min weight: {np.min(sample_weights):.4f}, max weight: {np.max(sample_weights):.4f}')\n",
        "print('Sampler disabled - using shuffle=True with weighted loss.')"
      ],
      "execution_count": 5,
      "outputs": [
        {
          "output_type": "stream",
          "name": "stdout",
          "text": [
            "Sampler disabled - using shuffle=True with weighted loss.\n"
          ]
        }
      ]
    },
    {
      "id": "e3346e91-4ce8-4e8a-b529-daa81a224213",
      "cell_type": "code",
      "metadata": {},
      "source": [
        "ROOT_TRAIN = 'train_images'\n",
        "class HerbariumDataset(Dataset):\n",
        "    def __init__(self, df, transform=None):\n",
        "        self.df = df.reset_index(drop=True)\n",
        "        self.transform = transform\n",
        "    def __len__(self):\n",
        "        return len(self.df)\n",
        "    def __getitem__(self, idx):\n",
        "        import torch  # Import here for multiprocessing workers\n",
        "        row = self.df.iloc[idx]\n",
        "        img_path = os.path.join(ROOT_TRAIN, row['file_name'])\n",
        "        img = cv2.imread(img_path)\n",
        "        if img is None:\n",
        "            raise ValueError(f'Image not found: {img_path}')\n",
        "        img = cv2.cvtColor(img, cv2.COLOR_BGR2RGB)\n",
        "        label = row['mapped_label']\n",
        "        if self.transform:\n",
        "            augmented = self.transform(image=img)\n",
        "            img = augmented['image']\n",
        "        return img, torch.tensor(label, dtype=torch.long)\n",
        "\n",
        "# Quick check for first image\n",
        "import os\n",
        "first_path = os.path.join(ROOT_TRAIN, train_df.iloc[0]['file_name'])\n",
        "print(f'First image exists: {os.path.exists(first_path)}')\n",
        "\n",
        "print('HerbariumDataset defined with mapped labels and error on missing images.')"
      ],
      "execution_count": 6,
      "outputs": [
        {
          "output_type": "stream",
          "name": "stdout",
          "text": [
            "First image exists: True\nHerbariumDataset defined with mapped labels and error on missing images.\n"
          ]
        }
      ]
    },
    {
      "id": "e6418549-44b4-476d-a640-fcfb7dc6ce78",
      "cell_type": "code",
      "metadata": {},
      "source": [
        "train_transform = A.Compose([\n",
        "    A.LongestMaxSize(max_size=224),\n",
        "    A.PadIfNeeded(min_height=224, min_width=224, border_mode=cv2.BORDER_CONSTANT, value=[0,0,0]),\n",
        "    A.HorizontalFlip(p=0.5),\n",
        "    A.Normalize(mean=[0.485, 0.456, 0.406], std=[0.229, 0.224, 0.225]),\n",
        "    ToTensorV2()\n",
        "])\n",
        "\n",
        "val_transform = A.Compose([\n",
        "    A.LongestMaxSize(max_size=224),\n",
        "    A.PadIfNeeded(min_height=224, min_width=224, border_mode=cv2.BORDER_CONSTANT, value=[0,0,0]),\n",
        "    A.Normalize(mean=[0.485, 0.456, 0.406], std=[0.229, 0.224, 0.225]),\n",
        "    ToTensorV2()\n",
        "])\n",
        "\n",
        "print('Transforms: 224 + Flip + Normalize')"
      ],
      "execution_count": 7,
      "outputs": [
        {
          "output_type": "stream",
          "name": "stdout",
          "text": [
            "Transforms: 224 + Flip + Normalize\n"
          ]
        }
      ]
    },
    {
      "id": "7fb72fdf-946d-4d77-a592-c639af5b8aa1",
      "cell_type": "code",
      "metadata": {},
      "source": [
        "train_ds = HerbariumDataset(train_split, train_transform)\n",
        "val_ds = HerbariumDataset(val_split, val_transform)\n",
        "\n",
        "# Updated for speed: bs=32/64, workers=4, pin=True, prefetch=2\n",
        "train_loader = DataLoader(\n",
        "    train_ds,\n",
        "    batch_size=32,\n",
        "    shuffle=True,\n",
        "    num_workers=4,\n",
        "    pin_memory=True,\n",
        "    persistent_workers=False,\n",
        "    prefetch_factor=2\n",
        ")\n",
        "val_loader = DataLoader(\n",
        "    val_ds,\n",
        "    batch_size=64,\n",
        "    shuffle=False,\n",
        "    num_workers=4,\n",
        "    pin_memory=True,\n",
        "    persistent_workers=False,\n",
        "    prefetch_factor=2\n",
        ")\n",
        "print(f'Train batches: {len(train_loader)}, Val batches: {len(val_loader)}')"
      ],
      "execution_count": 8,
      "outputs": [
        {
          "output_type": "stream",
          "name": "stdout",
          "text": [
            "Train batches: 18724, Val batches: 1041\n"
          ]
        }
      ]
    },
    {
      "id": "6a2c4ace-f915-48c2-ada5-f0286b9d9a1b",
      "cell_type": "code",
      "metadata": {},
      "source": [
        "import torch\n",
        "from torchvision.models import efficientnet_v2_s\n",
        "import torch.nn as nn\n",
        "from collections import Counter\n",
        "import numpy as np\n",
        "import torch.nn.functional as F\n",
        "device = torch.device('cuda' if torch.cuda.is_available() else 'cpu')\n",
        "print('Using device:', device)\n",
        "print(f'Train split size: {len(train_split)}')\n",
        "n_classes = train_df['mapped_label'].nunique()\n",
        "model = efficientnet_v2_s(weights='DEFAULT')\n",
        "print('Classifier type:', type(model.classifier))\n",
        "if isinstance(model.classifier, nn.Sequential):\n",
        "    in_features = model.classifier[-1].in_features\n",
        "    model.classifier = nn.Sequential(\n",
        "        nn.Dropout(p=0.2, inplace=True),\n",
        "        nn.Linear(in_features, n_classes)\n",
        "    )\n",
        "    print('Replaced Sequential classifier with new head')\n",
        "else:\n",
        "    in_features = model.classifier.in_features\n",
        "    model.classifier = nn.Linear(in_features, n_classes)\n",
        "    print('Replaced direct Linear classifier with new head')\n",
        "model = model.to(device)\n",
        "# torch.compile disabled due to compilation error in environment\n",
        "# if hasattr(torch, \"compile\"):\n",
        "#     model = torch.compile(model, mode=\"reduce-overhead\")\n",
        "print(f'GPU allocated: {torch.cuda.memory_allocated()/1024**3:.2f} GB')\n",
        "print(f'GPU reserved:  {torch.cuda.memory_reserved()/1024**3:.2f} GB')\n",
        "torch.backends.cudnn.benchmark = True\n",
        "torch.set_float32_matmul_precision('high')\n",
        "model = model.to(memory_format=torch.channels_last)\n",
        "total_params = sum(p.numel() for p in model.parameters() if p.requires_grad)\n",
        "print(f'Model created: EfficientNet-V2-S with {total_params:,} trainable params')\n",
        "# Balanced Softmax: compute log_freq for logit adjustment\n",
        "counts = np.bincount(train_split['mapped_label'].values, minlength=n_classes).astype(np.float64)\n",
        "log_freq = np.log(counts + 1e-6)\n",
        "log_freq = torch.tensor(log_freq, dtype=torch.float32, device=device)\n",
        "print(f'Log freq mean: {log_freq.mean().item():.4f}, max: {log_freq.max().item():.4f}')\n",
        "criterion = nn.CrossEntropyLoss(label_smoothing=0.05)\n",
        "# Fixed EMA (full decay)\n",
        "class ModelEMA:\n",
        "    def __init__(self, model, decay=0.999):\n",
        "        self.model = model\n",
        "        self.decay = decay\n",
        "        self.shadow = {n: p.data.clone() for n,p in model.named_parameters() if p.requires_grad}\n",
        "        self.backup = {}\n",
        "    @torch.no_grad()\n",
        "    def update(self):\n",
        "        d = self.decay\n",
        "        for n, p in self.model.named_parameters():\n",
        "            if not p.requires_grad: continue\n",
        "            self.shadow[n].mul_(d).add_(p.data, alpha=1.0 - d)\n",
        "    @torch.no_grad()\n",
        "    def apply_shadow(self):\n",
        "        self.backup = {}\n",
        "        for n, p in self.model.named_parameters():\n",
        "            if not p.requires_grad: continue\n",
        "            self.backup[n] = p.data.clone()\n",
        "            p.data.copy_(self.shadow[n])\n",
        "    @torch.no_grad()\n",
        "    def restore(self):\n",
        "        for n, p in self.model.named_parameters():\n",
        "            if not p.requires_grad: continue\n",
        "            p.data.copy_(self.backup[n])\n",
        "ema = ModelEMA(model, decay=0.999)\n",
        "# Optimizer and Scheduler\n",
        "optimizer = torch.optim.AdamW(model.parameters(), lr=3e-4, weight_decay=1e-5)\n",
        "scheduler = torch.optim.lr_scheduler.CosineAnnealingLR(optimizer, T_max=6)\n",
        "scaler = torch.amp.GradScaler('cuda')\n",
        "print('Setup complete: EfficientNet-V2-S, Balanced Softmax CE Loss, EMA (decay=0.999), AdamW, CosineAnnealingLR T_max=6, AMP ready.')\n",
        "print('Weights dtype:', log_freq.dtype)"
      ],
      "execution_count": 9,
      "outputs": [
        {
          "output_type": "stream",
          "name": "stdout",
          "text": [
            "Using device: cuda\nTrain split size: 599148\n"
          ]
        },
        {
          "output_type": "stream",
          "name": "stdout",
          "text": [
            "Classifier type: <class 'torch.nn.modules.container.Sequential'>\nReplaced Sequential classifier with new head\nGPU allocated: 0.34 GB\nGPU reserved:  0.35 GB\nModel created: EfficientNet-V2-S with 40,034,269 trainable params\nLog freq mean: 3.4938, max: 4.0604\nSetup complete: EfficientNet-V2-S, Balanced Softmax CE Loss, EMA (decay=0.999), AdamW, CosineAnnealingLR T_max=6, AMP ready.\nWeights dtype: torch.float32\n"
          ]
        }
      ]
    },
    {
      "id": "1b2a02bc-f883-43a6-ab9a-3cf10b3afead",
      "cell_type": "code",
      "metadata": {},
      "source": [
        "num_epochs = 6  # Full training\n",
        "best_f1 = 0\n",
        "accum_steps = 2  # eff_bs = 32*2 = 64\n",
        "optimizer.zero_grad(set_to_none=True)\n",
        "\n",
        "for epoch in range(num_epochs):\n",
        "    start_time = time.time()\n",
        "    model.train()\n",
        "    train_loss = 0.0\n",
        "    num_batches = 0\n",
        "    epoch_start = time.time()\n",
        "\n",
        "    for batch_idx, (imgs, labels) in enumerate(train_loader):\n",
        "        imgs = imgs.to(device, non_blocking=True).to(memory_format=torch.channels_last)\n",
        "        labels = labels.to(device, non_blocking=True)\n",
        "\n",
        "        mixup_active = epoch > 1\n",
        "        if mixup_active:\n",
        "            lam = np.random.beta(0.2, 0.2)\n",
        "            idx = torch.randperm(imgs.size(0), device=imgs.device)\n",
        "            imgs2, labels2 = imgs[idx], labels[idx]\n",
        "            imgs = lam * imgs + (1 - lam) * imgs2\n",
        "            # For Mixup with Balanced: mixed hard-label CE on adjusted logits\n",
        "            with torch.amp.autocast('cuda'):\n",
        "                outputs = model(imgs)\n",
        "                adjusted = outputs - log_freq.unsqueeze(0)\n",
        "                loss1 = criterion(adjusted, labels)\n",
        "                loss2 = criterion(adjusted, labels2)\n",
        "                loss = lam * loss1 + (1 - lam) * loss2\n",
        "        else:\n",
        "            with torch.amp.autocast('cuda'):\n",
        "                outputs = model(imgs)\n",
        "                adjusted = outputs - log_freq.unsqueeze(0)\n",
        "                loss = criterion(adjusted, labels)\n",
        "\n",
        "        loss = loss / accum_steps\n",
        "        scaler.scale(loss).backward()\n",
        "\n",
        "        if (batch_idx + 1) % accum_steps == 0:\n",
        "            scaler.unscale_(optimizer)\n",
        "            torch.nn.utils.clip_grad_norm_(model.parameters(), max_norm=1.0)\n",
        "            scaler.step(optimizer)\n",
        "            scaler.update()\n",
        "            optimizer.zero_grad(set_to_none=True)\n",
        "            ema.update()\n",
        "\n",
        "        train_loss += loss.item() * accum_steps\n",
        "        num_batches += 1\n",
        "\n",
        "        if batch_idx % 500 == 0:\n",
        "            elapsed = time.time() - epoch_start\n",
        "            imgs_per_sec = ((batch_idx + 1) * train_loader.batch_size) / max(1e-6, elapsed)\n",
        "            eta_min = ((len(train_loader) - batch_idx) * train_loader.batch_size / max(imgs_per_sec,1e-6)) / 60\n",
        "            print(f'Epoch {epoch+1}, Batch {batch_idx}/{len(train_loader)}, Loss: {(loss.item()*accum_steps):.4f}, Img/s: {imgs_per_sec:.1f}, ETA: {eta_min:.1f}min', flush=True)\n",
        "            print(f'GPU Mem Alloc: {torch.cuda.memory_allocated()/1024**3:.2f} GB, Reserved: {torch.cuda.memory_reserved()/1024**3:.2f} GB', flush=True)\n",
        "\n",
        "    # Validation with EMA\n",
        "    ema.apply_shadow()\n",
        "    model.eval()\n",
        "    all_probs, all_labels = [], []\n",
        "    val_loss = 0.0; val_batches = 0; val_start = time.time()\n",
        "    with torch.no_grad():\n",
        "        for batch_idx, (imgs, labels) in enumerate(val_loader):\n",
        "            imgs = imgs.to(device, non_blocking=True).to(memory_format=torch.channels_last)\n",
        "            labels = labels.to(device, non_blocking=True)\n",
        "            with torch.amp.autocast('cuda'):\n",
        "                outputs = model(imgs)\n",
        "                adjusted = outputs - log_freq.unsqueeze(0)\n",
        "                loss = criterion(adjusted, labels)\n",
        "                val_loss += loss.item(); val_batches += 1\n",
        "            probs = torch.softmax(adjusted, dim=1)\n",
        "            all_probs.append(probs.cpu()); all_labels.append(labels.cpu())\n",
        "            if batch_idx % 200 == 0:\n",
        "                print(f'Val Batch {batch_idx}/{len(val_loader)}, Elapsed: {(time.time() - val_start)/60:.1f}min', flush=True)\n",
        "    ema.restore()\n",
        "\n",
        "    avg_train_loss = train_loss / max(num_batches,1)\n",
        "    avg_val_loss = val_loss / max(val_batches,1)\n",
        "    all_probs = torch.cat(all_probs); all_labels = torch.cat(all_labels)\n",
        "    preds = all_probs.argmax(1)\n",
        "    val_f1 = f1_score(all_labels.numpy(), preds.numpy(), average='macro')\n",
        "    top1_acc = (preds == all_labels).float().mean().item()\n",
        "    unique_preds = len(torch.unique(preds))\n",
        "    top5_preds = Counter(preds.numpy()).most_common(5)\n",
        "    epoch_time = time.time() - start_time\n",
        "    print(f'Epoch {epoch+1}: Train Loss {avg_train_loss:.4f}, Val Loss {avg_val_loss:.4f}, Val F1 {val_f1:.4f}, Top1 Acc {top1_acc:.4f}, Unique Pred Classes {unique_preds}, Time {epoch_time/60:.2f}min', flush=True)\n",
        "    print(f'Top 5 pred classes: {top5_preds}', flush=True)\n",
        "\n",
        "    if val_f1 > best_f1:\n",
        "        best_f1 = val_f1\n",
        "        torch.save(model.state_dict(), 'best_model_full.pth')\n",
        "        torch.save({k: v.cpu() for k, v in ema.shadow.items()}, 'best_ema_full.pth')\n",
        "        print(f'New best model saved! Best F1: {best_f1:.4f}')\n",
        "\n",
        "    scheduler.step()\n",
        "\n",
        "print(f'Training completed. Best Val F1: {best_f1:.4f}')"
      ],
      "execution_count": 10,
      "outputs": [
        {
          "output_type": "stream",
          "name": "stdout",
          "text": [
            "Epoch 1, Batch 0/18724, Loss: 10.1303, Img/s: 61.5, ETA: 162.4min\n"
          ]
        },
        {
          "output_type": "stream",
          "name": "stdout",
          "text": [
            "GPU Mem Alloc: 0.66 GB, Reserved: 3.15 GB\n"
          ]
        },
        {
          "output_type": "stream",
          "name": "stdout",
          "text": [
            "Epoch 1, Batch 500/18724, Loss: 9.9542, Img/s: 449.9, ETA: 21.6min\n"
          ]
        },
        {
          "output_type": "stream",
          "name": "stdout",
          "text": [
            "GPU Mem Alloc: 0.96 GB, Reserved: 3.75 GB\n"
          ]
        },
        {
          "output_type": "stream",
          "name": "stdout",
          "text": [
            "Epoch 1, Batch 1000/18724, Loss: 9.5318, Img/s: 458.5, ETA: 20.6min\n"
          ]
        },
        {
          "output_type": "stream",
          "name": "stdout",
          "text": [
            "GPU Mem Alloc: 0.96 GB, Reserved: 3.75 GB\n"
          ]
        },
        {
          "output_type": "stream",
          "name": "stdout",
          "text": [
            "Epoch 1, Batch 1500/18724, Loss: 9.1557, Img/s: 458.8, ETA: 20.0min\n"
          ]
        },
        {
          "output_type": "stream",
          "name": "stdout",
          "text": [
            "GPU Mem Alloc: 0.96 GB, Reserved: 3.75 GB\n"
          ]
        },
        {
          "output_type": "stream",
          "name": "stdout",
          "text": [
            "Epoch 1, Batch 2000/18724, Loss: 9.0601, Img/s: 457.5, ETA: 19.5min\n"
          ]
        },
        {
          "output_type": "stream",
          "name": "stdout",
          "text": [
            "GPU Mem Alloc: 0.96 GB, Reserved: 3.75 GB\n"
          ]
        },
        {
          "output_type": "stream",
          "name": "stdout",
          "text": [
            "Epoch 1, Batch 2500/18724, Loss: 8.3690, Img/s: 458.3, ETA: 18.9min\n"
          ]
        },
        {
          "output_type": "stream",
          "name": "stdout",
          "text": [
            "GPU Mem Alloc: 0.96 GB, Reserved: 3.75 GB\n"
          ]
        },
        {
          "output_type": "stream",
          "name": "stdout",
          "text": [
            "Epoch 1, Batch 3000/18724, Loss: 8.4461, Img/s: 456.3, ETA: 18.4min\n"
          ]
        },
        {
          "output_type": "stream",
          "name": "stdout",
          "text": [
            "GPU Mem Alloc: 0.96 GB, Reserved: 3.75 GB\n"
          ]
        },
        {
          "output_type": "stream",
          "name": "stdout",
          "text": [
            "Epoch 1, Batch 3500/18724, Loss: 7.9829, Img/s: 454.4, ETA: 17.9min\n"
          ]
        },
        {
          "output_type": "stream",
          "name": "stdout",
          "text": [
            "GPU Mem Alloc: 0.96 GB, Reserved: 3.75 GB\n"
          ]
        },
        {
          "output_type": "stream",
          "name": "stdout",
          "text": [
            "Epoch 1, Batch 4000/18724, Loss: 7.5476, Img/s: 452.7, ETA: 17.3min\n"
          ]
        },
        {
          "output_type": "stream",
          "name": "stdout",
          "text": [
            "GPU Mem Alloc: 0.96 GB, Reserved: 3.75 GB\n"
          ]
        },
        {
          "output_type": "stream",
          "name": "stdout",
          "text": [
            "Epoch 1, Batch 4500/18724, Loss: 7.2241, Img/s: 451.1, ETA: 16.8min\n"
          ]
        },
        {
          "output_type": "stream",
          "name": "stdout",
          "text": [
            "GPU Mem Alloc: 0.96 GB, Reserved: 3.75 GB\n"
          ]
        },
        {
          "output_type": "stream",
          "name": "stdout",
          "text": [
            "Epoch 1, Batch 5000/18724, Loss: 7.1243, Img/s: 450.4, ETA: 16.3min\n"
          ]
        },
        {
          "output_type": "stream",
          "name": "stdout",
          "text": [
            "GPU Mem Alloc: 0.96 GB, Reserved: 3.75 GB\n"
          ]
        },
        {
          "output_type": "stream",
          "name": "stdout",
          "text": [
            "Epoch 1, Batch 5500/18724, Loss: 6.6907, Img/s: 450.2, ETA: 15.7min\n"
          ]
        },
        {
          "output_type": "stream",
          "name": "stdout",
          "text": [
            "GPU Mem Alloc: 0.96 GB, Reserved: 3.75 GB\n"
          ]
        },
        {
          "output_type": "stream",
          "name": "stdout",
          "text": [
            "Epoch 1, Batch 6000/18724, Loss: 6.9023, Img/s: 449.7, ETA: 15.1min\n"
          ]
        },
        {
          "output_type": "stream",
          "name": "stdout",
          "text": [
            "GPU Mem Alloc: 0.96 GB, Reserved: 3.75 GB\n"
          ]
        },
        {
          "output_type": "stream",
          "name": "stdout",
          "text": [
            "Epoch 1, Batch 6500/18724, Loss: 6.7272, Img/s: 449.4, ETA: 14.5min\n"
          ]
        },
        {
          "output_type": "stream",
          "name": "stdout",
          "text": [
            "GPU Mem Alloc: 0.96 GB, Reserved: 3.75 GB\n"
          ]
        },
        {
          "output_type": "stream",
          "name": "stdout",
          "text": [
            "Epoch 1, Batch 7000/18724, Loss: 6.3602, Img/s: 448.9, ETA: 13.9min\n"
          ]
        },
        {
          "output_type": "stream",
          "name": "stdout",
          "text": [
            "GPU Mem Alloc: 0.96 GB, Reserved: 3.75 GB\n"
          ]
        },
        {
          "output_type": "stream",
          "name": "stdout",
          "text": [
            "Epoch 1, Batch 7500/18724, Loss: 5.7355, Img/s: 448.4, ETA: 13.4min\n"
          ]
        },
        {
          "output_type": "stream",
          "name": "stdout",
          "text": [
            "GPU Mem Alloc: 0.96 GB, Reserved: 3.75 GB\n"
          ]
        },
        {
          "output_type": "stream",
          "name": "stdout",
          "text": [
            "Epoch 1, Batch 8000/18724, Loss: 6.0801, Img/s: 448.2, ETA: 12.8min\n"
          ]
        },
        {
          "output_type": "stream",
          "name": "stdout",
          "text": [
            "GPU Mem Alloc: 0.96 GB, Reserved: 3.75 GB\n"
          ]
        },
        {
          "output_type": "stream",
          "name": "stdout",
          "text": [
            "Epoch 1, Batch 8500/18724, Loss: 5.9643, Img/s: 448.4, ETA: 12.2min\n"
          ]
        },
        {
          "output_type": "stream",
          "name": "stdout",
          "text": [
            "GPU Mem Alloc: 0.96 GB, Reserved: 3.75 GB\n"
          ]
        },
        {
          "output_type": "stream",
          "name": "stdout",
          "text": [
            "Epoch 1, Batch 9000/18724, Loss: 5.1688, Img/s: 448.1, ETA: 11.6min\n"
          ]
        },
        {
          "output_type": "stream",
          "name": "stdout",
          "text": [
            "GPU Mem Alloc: 0.96 GB, Reserved: 3.75 GB\n"
          ]
        },
        {
          "output_type": "stream",
          "name": "stdout",
          "text": [
            "Epoch 1, Batch 9500/18724, Loss: 5.5277, Img/s: 447.7, ETA: 11.0min\n"
          ]
        },
        {
          "output_type": "stream",
          "name": "stdout",
          "text": [
            "GPU Mem Alloc: 0.96 GB, Reserved: 3.75 GB\n"
          ]
        },
        {
          "output_type": "stream",
          "name": "stdout",
          "text": [
            "Epoch 1, Batch 10000/18724, Loss: 5.3944, Img/s: 447.6, ETA: 10.4min\n"
          ]
        },
        {
          "output_type": "stream",
          "name": "stdout",
          "text": [
            "GPU Mem Alloc: 0.96 GB, Reserved: 3.75 GB\n"
          ]
        },
        {
          "output_type": "stream",
          "name": "stdout",
          "text": [
            "Epoch 1, Batch 10500/18724, Loss: 5.4544, Img/s: 447.3, ETA: 9.8min\n"
          ]
        },
        {
          "output_type": "stream",
          "name": "stdout",
          "text": [
            "GPU Mem Alloc: 0.96 GB, Reserved: 3.75 GB\n"
          ]
        },
        {
          "output_type": "stream",
          "name": "stdout",
          "text": [
            "Epoch 1, Batch 11000/18724, Loss: 4.7844, Img/s: 447.3, ETA: 9.2min\n"
          ]
        },
        {
          "output_type": "stream",
          "name": "stdout",
          "text": [
            "GPU Mem Alloc: 0.96 GB, Reserved: 3.75 GB\n"
          ]
        },
        {
          "output_type": "stream",
          "name": "stdout",
          "text": [
            "Epoch 1, Batch 11500/18724, Loss: 5.1833, Img/s: 447.0, ETA: 8.6min\n"
          ]
        },
        {
          "output_type": "stream",
          "name": "stdout",
          "text": [
            "GPU Mem Alloc: 0.96 GB, Reserved: 3.75 GB\n"
          ]
        },
        {
          "output_type": "stream",
          "name": "stdout",
          "text": [
            "Epoch 1, Batch 12000/18724, Loss: 4.9407, Img/s: 447.0, ETA: 8.0min\n"
          ]
        },
        {
          "output_type": "stream",
          "name": "stdout",
          "text": [
            "GPU Mem Alloc: 0.96 GB, Reserved: 3.75 GB\n"
          ]
        },
        {
          "output_type": "stream",
          "name": "stdout",
          "text": [
            "Epoch 1, Batch 12500/18724, Loss: 5.1914, Img/s: 446.9, ETA: 7.4min\n"
          ]
        },
        {
          "output_type": "stream",
          "name": "stdout",
          "text": [
            "GPU Mem Alloc: 0.96 GB, Reserved: 3.75 GB\n"
          ]
        },
        {
          "output_type": "stream",
          "name": "stdout",
          "text": [
            "Epoch 1, Batch 13000/18724, Loss: 4.4535, Img/s: 446.9, ETA: 6.8min\n"
          ]
        },
        {
          "output_type": "stream",
          "name": "stdout",
          "text": [
            "GPU Mem Alloc: 0.96 GB, Reserved: 3.75 GB\n"
          ]
        },
        {
          "output_type": "stream",
          "name": "stdout",
          "text": [
            "Epoch 1, Batch 13500/18724, Loss: 4.7879, Img/s: 447.0, ETA: 6.2min\n"
          ]
        },
        {
          "output_type": "stream",
          "name": "stdout",
          "text": [
            "GPU Mem Alloc: 0.96 GB, Reserved: 3.75 GB\n"
          ]
        },
        {
          "output_type": "stream",
          "name": "stdout",
          "text": [
            "Epoch 1, Batch 14000/18724, Loss: 4.6714, Img/s: 447.1, ETA: 5.6min\n"
          ]
        },
        {
          "output_type": "stream",
          "name": "stdout",
          "text": [
            "GPU Mem Alloc: 0.96 GB, Reserved: 3.75 GB\n"
          ]
        },
        {
          "output_type": "stream",
          "name": "stdout",
          "text": [
            "Epoch 1, Batch 14500/18724, Loss: 4.0326, Img/s: 447.0, ETA: 5.0min\n"
          ]
        },
        {
          "output_type": "stream",
          "name": "stdout",
          "text": [
            "GPU Mem Alloc: 0.96 GB, Reserved: 3.75 GB\n"
          ]
        },
        {
          "output_type": "stream",
          "name": "stdout",
          "text": [
            "Epoch 1, Batch 15000/18724, Loss: 4.0651, Img/s: 447.6, ETA: 4.4min\n"
          ]
        },
        {
          "output_type": "stream",
          "name": "stdout",
          "text": [
            "GPU Mem Alloc: 0.96 GB, Reserved: 3.75 GB\n"
          ]
        },
        {
          "output_type": "stream",
          "name": "stdout",
          "text": [
            "Epoch 1, Batch 15500/18724, Loss: 4.7953, Img/s: 448.1, ETA: 3.8min\n"
          ]
        },
        {
          "output_type": "stream",
          "name": "stdout",
          "text": [
            "GPU Mem Alloc: 0.96 GB, Reserved: 3.75 GB\n"
          ]
        },
        {
          "output_type": "stream",
          "name": "stdout",
          "text": [
            "Epoch 1, Batch 16000/18724, Loss: 4.6964, Img/s: 448.5, ETA: 3.2min\n"
          ]
        },
        {
          "output_type": "stream",
          "name": "stdout",
          "text": [
            "GPU Mem Alloc: 0.96 GB, Reserved: 3.75 GB\n"
          ]
        },
        {
          "output_type": "stream",
          "name": "stdout",
          "text": [
            "Epoch 1, Batch 16500/18724, Loss: 4.5155, Img/s: 448.8, ETA: 2.6min\n"
          ]
        },
        {
          "output_type": "stream",
          "name": "stdout",
          "text": [
            "GPU Mem Alloc: 0.96 GB, Reserved: 3.75 GB\n"
          ]
        },
        {
          "output_type": "stream",
          "name": "stdout",
          "text": [
            "Epoch 1, Batch 17000/18724, Loss: 4.2953, Img/s: 448.7, ETA: 2.0min\n"
          ]
        },
        {
          "output_type": "stream",
          "name": "stdout",
          "text": [
            "GPU Mem Alloc: 0.96 GB, Reserved: 3.75 GB\n"
          ]
        },
        {
          "output_type": "stream",
          "name": "stdout",
          "text": [
            "Epoch 1, Batch 17500/18724, Loss: 4.2460, Img/s: 449.0, ETA: 1.5min\n"
          ]
        },
        {
          "output_type": "stream",
          "name": "stdout",
          "text": [
            "GPU Mem Alloc: 0.96 GB, Reserved: 3.75 GB\n"
          ]
        },
        {
          "output_type": "stream",
          "name": "stdout",
          "text": [
            "Epoch 1, Batch 18000/18724, Loss: 4.7614, Img/s: 449.2, ETA: 0.9min\n"
          ]
        },
        {
          "output_type": "stream",
          "name": "stdout",
          "text": [
            "GPU Mem Alloc: 0.96 GB, Reserved: 3.75 GB\n"
          ]
        },
        {
          "output_type": "stream",
          "name": "stdout",
          "text": [
            "Epoch 1, Batch 18500/18724, Loss: 3.7257, Img/s: 449.6, ETA: 0.3min\n"
          ]
        },
        {
          "output_type": "stream",
          "name": "stdout",
          "text": [
            "GPU Mem Alloc: 0.96 GB, Reserved: 3.75 GB\n"
          ]
        },
        {
          "output_type": "stream",
          "name": "stdout",
          "text": [
            "Val Batch 0/1041, Elapsed: 0.0min\n"
          ]
        },
        {
          "output_type": "stream",
          "name": "stdout",
          "text": [
            "Val Batch 200/1041, Elapsed: 0.2min\n"
          ]
        },
        {
          "output_type": "stream",
          "name": "stdout",
          "text": [
            "Val Batch 400/1041, Elapsed: 0.4min\n"
          ]
        },
        {
          "output_type": "stream",
          "name": "stdout",
          "text": [
            "Val Batch 600/1041, Elapsed: 0.5min\n"
          ]
        },
        {
          "output_type": "stream",
          "name": "stdout",
          "text": [
            "Val Batch 800/1041, Elapsed: 0.7min\n"
          ]
        },
        {
          "output_type": "stream",
          "name": "stdout",
          "text": [
            "Val Batch 1000/1041, Elapsed: 0.9min\n"
          ]
        },
        {
          "output_type": "stream",
          "name": "stdout",
          "text": [
            "Epoch 1: Train Loss 6.1087, Val Loss 4.1429, Val F1 0.2299, Top1 Acc 0.3028, Unique Pred Classes 10305, Time 23.16min\n"
          ]
        },
        {
          "output_type": "stream",
          "name": "stdout",
          "text": [
            "Top 5 pred classes: [(13959, 149), (6062, 120), (2406, 117), (8063, 106), (7381, 101)]\n"
          ]
        },
        {
          "output_type": "stream",
          "name": "stdout",
          "text": [
            "New best model saved! Best F1: 0.2299\n"
          ]
        },
        {
          "output_type": "stream",
          "name": "stdout",
          "text": [
            "Epoch 2, Batch 0/18724, Loss: 3.2472, Img/s: 46.8, ETA: 213.4min\n"
          ]
        },
        {
          "output_type": "stream",
          "name": "stdout",
          "text": [
            "GPU Mem Alloc: 1.11 GB, Reserved: 3.75 GB\n"
          ]
        },
        {
          "output_type": "stream",
          "name": "stdout",
          "text": [
            "Epoch 2, Batch 500/18724, Loss: 3.6190, Img/s: 454.6, ETA: 21.4min\n"
          ]
        },
        {
          "output_type": "stream",
          "name": "stdout",
          "text": [
            "GPU Mem Alloc: 1.11 GB, Reserved: 3.89 GB\n"
          ]
        },
        {
          "output_type": "stream",
          "name": "stdout",
          "text": [
            "Epoch 2, Batch 1000/18724, Loss: 4.0021, Img/s: 454.9, ETA: 20.8min\n"
          ]
        },
        {
          "output_type": "stream",
          "name": "stdout",
          "text": [
            "GPU Mem Alloc: 1.11 GB, Reserved: 3.89 GB\n"
          ]
        },
        {
          "output_type": "stream",
          "name": "stdout",
          "text": [
            "Epoch 2, Batch 1500/18724, Loss: 3.4121, Img/s: 455.8, ETA: 20.2min\n"
          ]
        },
        {
          "output_type": "stream",
          "name": "stdout",
          "text": [
            "GPU Mem Alloc: 1.11 GB, Reserved: 3.89 GB\n"
          ]
        },
        {
          "output_type": "stream",
          "name": "stdout",
          "text": [
            "Epoch 2, Batch 2000/18724, Loss: 3.5391, Img/s: 455.8, ETA: 19.6min\n"
          ]
        },
        {
          "output_type": "stream",
          "name": "stdout",
          "text": [
            "GPU Mem Alloc: 1.11 GB, Reserved: 3.89 GB\n"
          ]
        },
        {
          "output_type": "stream",
          "name": "stdout",
          "text": [
            "Epoch 2, Batch 2500/18724, Loss: 3.9627, Img/s: 455.3, ETA: 19.0min\n"
          ]
        },
        {
          "output_type": "stream",
          "name": "stdout",
          "text": [
            "GPU Mem Alloc: 1.11 GB, Reserved: 3.89 GB\n"
          ]
        },
        {
          "output_type": "stream",
          "name": "stdout",
          "text": [
            "Epoch 2, Batch 3000/18724, Loss: 3.3713, Img/s: 453.8, ETA: 18.5min\n"
          ]
        },
        {
          "output_type": "stream",
          "name": "stdout",
          "text": [
            "GPU Mem Alloc: 1.11 GB, Reserved: 3.89 GB\n"
          ]
        },
        {
          "output_type": "stream",
          "name": "stdout",
          "text": [
            "Epoch 2, Batch 3500/18724, Loss: 3.8297, Img/s: 452.6, ETA: 17.9min\n"
          ]
        },
        {
          "output_type": "stream",
          "name": "stdout",
          "text": [
            "GPU Mem Alloc: 1.11 GB, Reserved: 3.89 GB\n"
          ]
        },
        {
          "output_type": "stream",
          "name": "stdout",
          "text": [
            "Epoch 2, Batch 4000/18724, Loss: 3.6656, Img/s: 451.8, ETA: 17.4min\n"
          ]
        },
        {
          "output_type": "stream",
          "name": "stdout",
          "text": [
            "GPU Mem Alloc: 1.11 GB, Reserved: 3.89 GB\n"
          ]
        },
        {
          "output_type": "stream",
          "name": "stdout",
          "text": [
            "Epoch 2, Batch 4500/18724, Loss: 3.1034, Img/s: 451.1, ETA: 16.8min\n"
          ]
        },
        {
          "output_type": "stream",
          "name": "stdout",
          "text": [
            "GPU Mem Alloc: 1.11 GB, Reserved: 3.89 GB\n"
          ]
        },
        {
          "output_type": "stream",
          "name": "stdout",
          "text": [
            "Epoch 2, Batch 5000/18724, Loss: 3.2165, Img/s: 450.7, ETA: 16.2min\n"
          ]
        },
        {
          "output_type": "stream",
          "name": "stdout",
          "text": [
            "GPU Mem Alloc: 1.11 GB, Reserved: 3.89 GB\n"
          ]
        },
        {
          "output_type": "stream",
          "name": "stdout",
          "text": [
            "Epoch 2, Batch 5500/18724, Loss: 3.1211, Img/s: 450.2, ETA: 15.7min\n"
          ]
        },
        {
          "output_type": "stream",
          "name": "stdout",
          "text": [
            "GPU Mem Alloc: 1.11 GB, Reserved: 3.89 GB\n"
          ]
        },
        {
          "output_type": "stream",
          "name": "stdout",
          "text": [
            "Epoch 2, Batch 6000/18724, Loss: 3.5364, Img/s: 449.9, ETA: 15.1min\n"
          ]
        },
        {
          "output_type": "stream",
          "name": "stdout",
          "text": [
            "GPU Mem Alloc: 1.11 GB, Reserved: 3.89 GB\n"
          ]
        },
        {
          "output_type": "stream",
          "name": "stdout",
          "text": [
            "Epoch 2, Batch 6500/18724, Loss: 3.3652, Img/s: 450.1, ETA: 14.5min\n"
          ]
        },
        {
          "output_type": "stream",
          "name": "stdout",
          "text": [
            "GPU Mem Alloc: 1.11 GB, Reserved: 3.89 GB\n"
          ]
        },
        {
          "output_type": "stream",
          "name": "stdout",
          "text": [
            "Epoch 2, Batch 7000/18724, Loss: 3.6736, Img/s: 450.2, ETA: 13.9min\n"
          ]
        },
        {
          "output_type": "stream",
          "name": "stdout",
          "text": [
            "GPU Mem Alloc: 1.11 GB, Reserved: 3.89 GB\n"
          ]
        },
        {
          "output_type": "stream",
          "name": "stdout",
          "text": [
            "Epoch 2, Batch 7500/18724, Loss: 3.0510, Img/s: 450.3, ETA: 13.3min\n"
          ]
        },
        {
          "output_type": "stream",
          "name": "stdout",
          "text": [
            "GPU Mem Alloc: 1.11 GB, Reserved: 3.89 GB\n"
          ]
        },
        {
          "output_type": "stream",
          "name": "stdout",
          "text": [
            "Epoch 2, Batch 8000/18724, Loss: 3.4963, Img/s: 450.4, ETA: 12.7min\n"
          ]
        },
        {
          "output_type": "stream",
          "name": "stdout",
          "text": [
            "GPU Mem Alloc: 1.11 GB, Reserved: 3.89 GB\n"
          ]
        },
        {
          "output_type": "stream",
          "name": "stdout",
          "text": [
            "Epoch 2, Batch 8500/18724, Loss: 3.3962, Img/s: 450.6, ETA: 12.1min\n"
          ]
        },
        {
          "output_type": "stream",
          "name": "stdout",
          "text": [
            "GPU Mem Alloc: 1.11 GB, Reserved: 3.89 GB\n"
          ]
        },
        {
          "output_type": "stream",
          "name": "stdout",
          "text": [
            "Epoch 2, Batch 9000/18724, Loss: 2.6211, Img/s: 450.4, ETA: 11.5min\n"
          ]
        },
        {
          "output_type": "stream",
          "name": "stdout",
          "text": [
            "GPU Mem Alloc: 1.11 GB, Reserved: 3.89 GB\n"
          ]
        },
        {
          "output_type": "stream",
          "name": "stdout",
          "text": [
            "Epoch 2, Batch 9500/18724, Loss: 2.9180, Img/s: 450.2, ETA: 10.9min\n"
          ]
        },
        {
          "output_type": "stream",
          "name": "stdout",
          "text": [
            "GPU Mem Alloc: 1.11 GB, Reserved: 3.89 GB\n"
          ]
        },
        {
          "output_type": "stream",
          "name": "stdout",
          "text": [
            "Epoch 2, Batch 10000/18724, Loss: 4.1375, Img/s: 450.2, ETA: 10.3min\n"
          ]
        },
        {
          "output_type": "stream",
          "name": "stdout",
          "text": [
            "GPU Mem Alloc: 1.11 GB, Reserved: 3.89 GB\n"
          ]
        },
        {
          "output_type": "stream",
          "name": "stdout",
          "text": [
            "Epoch 2, Batch 10500/18724, Loss: 2.6077, Img/s: 449.3, ETA: 9.8min\n"
          ]
        },
        {
          "output_type": "stream",
          "name": "stdout",
          "text": [
            "GPU Mem Alloc: 1.11 GB, Reserved: 3.89 GB\n"
          ]
        },
        {
          "output_type": "stream",
          "name": "stdout",
          "text": [
            "Epoch 2, Batch 11000/18724, Loss: 3.2628, Img/s: 449.4, ETA: 9.2min\n"
          ]
        },
        {
          "output_type": "stream",
          "name": "stdout",
          "text": [
            "GPU Mem Alloc: 1.11 GB, Reserved: 3.89 GB\n"
          ]
        },
        {
          "output_type": "stream",
          "name": "stdout",
          "text": [
            "Epoch 2, Batch 11500/18724, Loss: 2.5328, Img/s: 449.4, ETA: 8.6min\n"
          ]
        },
        {
          "output_type": "stream",
          "name": "stdout",
          "text": [
            "GPU Mem Alloc: 1.11 GB, Reserved: 3.89 GB\n"
          ]
        },
        {
          "output_type": "stream",
          "name": "stdout",
          "text": [
            "Epoch 2, Batch 12000/18724, Loss: 2.9364, Img/s: 449.2, ETA: 8.0min\n"
          ]
        },
        {
          "output_type": "stream",
          "name": "stdout",
          "text": [
            "GPU Mem Alloc: 1.11 GB, Reserved: 3.89 GB\n"
          ]
        },
        {
          "output_type": "stream",
          "name": "stdout",
          "text": [
            "Epoch 2, Batch 12500/18724, Loss: 3.6564, Img/s: 449.0, ETA: 7.4min\n"
          ]
        },
        {
          "output_type": "stream",
          "name": "stdout",
          "text": [
            "GPU Mem Alloc: 1.11 GB, Reserved: 3.89 GB\n"
          ]
        },
        {
          "output_type": "stream",
          "name": "stdout",
          "text": [
            "Epoch 2, Batch 13000/18724, Loss: 2.5975, Img/s: 448.9, ETA: 6.8min\n"
          ]
        },
        {
          "output_type": "stream",
          "name": "stdout",
          "text": [
            "GPU Mem Alloc: 1.11 GB, Reserved: 3.89 GB\n"
          ]
        },
        {
          "output_type": "stream",
          "name": "stdout",
          "text": [
            "Epoch 2, Batch 13500/18724, Loss: 2.8859, Img/s: 448.8, ETA: 6.2min\n"
          ]
        },
        {
          "output_type": "stream",
          "name": "stdout",
          "text": [
            "GPU Mem Alloc: 1.11 GB, Reserved: 3.89 GB\n"
          ]
        },
        {
          "output_type": "stream",
          "name": "stdout",
          "text": [
            "Epoch 2, Batch 14000/18724, Loss: 3.1174, Img/s: 448.8, ETA: 5.6min\n"
          ]
        },
        {
          "output_type": "stream",
          "name": "stdout",
          "text": [
            "GPU Mem Alloc: 1.11 GB, Reserved: 3.89 GB\n"
          ]
        },
        {
          "output_type": "stream",
          "name": "stdout",
          "text": [
            "Epoch 2, Batch 14500/18724, Loss: 2.8472, Img/s: 449.0, ETA: 5.0min\n"
          ]
        },
        {
          "output_type": "stream",
          "name": "stdout",
          "text": [
            "GPU Mem Alloc: 1.11 GB, Reserved: 3.89 GB\n"
          ]
        },
        {
          "output_type": "stream",
          "name": "stdout",
          "text": [
            "Epoch 2, Batch 15000/18724, Loss: 2.7035, Img/s: 448.9, ETA: 4.4min\n"
          ]
        },
        {
          "output_type": "stream",
          "name": "stdout",
          "text": [
            "GPU Mem Alloc: 1.11 GB, Reserved: 3.89 GB\n"
          ]
        },
        {
          "output_type": "stream",
          "name": "stdout",
          "text": [
            "Epoch 2, Batch 15500/18724, Loss: 2.3964, Img/s: 448.8, ETA: 3.8min\n"
          ]
        },
        {
          "output_type": "stream",
          "name": "stdout",
          "text": [
            "GPU Mem Alloc: 1.11 GB, Reserved: 3.89 GB\n"
          ]
        },
        {
          "output_type": "stream",
          "name": "stdout",
          "text": [
            "Epoch 2, Batch 16000/18724, Loss: 3.1199, Img/s: 448.6, ETA: 3.2min\n"
          ]
        },
        {
          "output_type": "stream",
          "name": "stdout",
          "text": [
            "GPU Mem Alloc: 1.11 GB, Reserved: 3.89 GB\n"
          ]
        },
        {
          "output_type": "stream",
          "name": "stdout",
          "text": [
            "Epoch 2, Batch 16500/18724, Loss: 2.9992, Img/s: 448.5, ETA: 2.6min\n"
          ]
        },
        {
          "output_type": "stream",
          "name": "stdout",
          "text": [
            "GPU Mem Alloc: 1.11 GB, Reserved: 3.89 GB\n"
          ]
        },
        {
          "output_type": "stream",
          "name": "stdout",
          "text": [
            "Epoch 2, Batch 17000/18724, Loss: 2.5538, Img/s: 448.3, ETA: 2.1min\n"
          ]
        },
        {
          "output_type": "stream",
          "name": "stdout",
          "text": [
            "GPU Mem Alloc: 1.11 GB, Reserved: 3.89 GB\n"
          ]
        },
        {
          "output_type": "stream",
          "name": "stdout",
          "text": [
            "Epoch 2, Batch 17500/18724, Loss: 2.7512, Img/s: 448.2, ETA: 1.5min\n"
          ]
        },
        {
          "output_type": "stream",
          "name": "stdout",
          "text": [
            "GPU Mem Alloc: 1.11 GB, Reserved: 3.89 GB\n"
          ]
        },
        {
          "output_type": "stream",
          "name": "stdout",
          "text": [
            "Epoch 2, Batch 18000/18724, Loss: 2.3612, Img/s: 448.1, ETA: 0.9min\n"
          ]
        },
        {
          "output_type": "stream",
          "name": "stdout",
          "text": [
            "GPU Mem Alloc: 1.11 GB, Reserved: 3.89 GB\n"
          ]
        },
        {
          "output_type": "stream",
          "name": "stdout",
          "text": [
            "Epoch 2, Batch 18500/18724, Loss: 2.4324, Img/s: 448.1, ETA: 0.3min\n"
          ]
        },
        {
          "output_type": "stream",
          "name": "stdout",
          "text": [
            "GPU Mem Alloc: 1.11 GB, Reserved: 3.89 GB\n"
          ]
        },
        {
          "output_type": "stream",
          "name": "stdout",
          "text": [
            "Val Batch 0/1041, Elapsed: 0.0min\n"
          ]
        },
        {
          "output_type": "stream",
          "name": "stdout",
          "text": [
            "Val Batch 200/1041, Elapsed: 0.2min\n"
          ]
        },
        {
          "output_type": "stream",
          "name": "stdout",
          "text": [
            "Val Batch 400/1041, Elapsed: 0.4min\n"
          ]
        },
        {
          "output_type": "stream",
          "name": "stdout",
          "text": [
            "Val Batch 600/1041, Elapsed: 0.5min\n"
          ]
        },
        {
          "output_type": "stream",
          "name": "stdout",
          "text": [
            "Val Batch 800/1041, Elapsed: 0.7min\n"
          ]
        },
        {
          "output_type": "stream",
          "name": "stdout",
          "text": [
            "Val Batch 1000/1041, Elapsed: 0.9min\n"
          ]
        },
        {
          "output_type": "stream",
          "name": "stdout",
          "text": [
            "Epoch 2: Train Loss 3.1218, Val Loss 2.6493, Val F1 0.4854, Top1 Acc 0.5600, Unique Pred Classes 13054, Time 23.25min\n"
          ]
        },
        {
          "output_type": "stream",
          "name": "stdout",
          "text": [
            "Top 5 pred classes: [(15318, 45), (11277, 43), (1743, 37), (2347, 36), (14522, 35)]\n"
          ]
        },
        {
          "output_type": "stream",
          "name": "stdout",
          "text": [
            "New best model saved! Best F1: 0.4854\n"
          ]
        },
        {
          "output_type": "stream",
          "name": "stdout",
          "text": [
            "Epoch 3, Batch 0/18724, Loss: 2.2418, Img/s: 48.0, ETA: 208.3min\n"
          ]
        },
        {
          "output_type": "stream",
          "name": "stdout",
          "text": [
            "GPU Mem Alloc: 1.13 GB, Reserved: 3.89 GB\n"
          ]
        },
        {
          "output_type": "stream",
          "name": "stdout",
          "text": [
            "Epoch 3, Batch 500/18724, Loss: 2.3877, Img/s: 446.3, ETA: 21.8min\n"
          ]
        },
        {
          "output_type": "stream",
          "name": "stdout",
          "text": [
            "GPU Mem Alloc: 1.13 GB, Reserved: 3.89 GB\n"
          ]
        },
        {
          "output_type": "stream",
          "name": "stdout",
          "text": [
            "Epoch 3, Batch 1000/18724, Loss: 2.6534, Img/s: 449.1, ETA: 21.1min\n"
          ]
        },
        {
          "output_type": "stream",
          "name": "stdout",
          "text": [
            "GPU Mem Alloc: 1.13 GB, Reserved: 3.89 GB\n"
          ]
        },
        {
          "output_type": "stream",
          "name": "stdout",
          "text": [
            "Epoch 3, Batch 1500/18724, Loss: 2.0071, Img/s: 445.9, ETA: 20.6min\n"
          ]
        },
        {
          "output_type": "stream",
          "name": "stdout",
          "text": [
            "GPU Mem Alloc: 1.13 GB, Reserved: 3.89 GB\n"
          ]
        },
        {
          "output_type": "stream",
          "name": "stdout",
          "text": [
            "Epoch 3, Batch 2000/18724, Loss: 4.9108, Img/s: 444.8, ETA: 20.1min\n"
          ]
        },
        {
          "output_type": "stream",
          "name": "stdout",
          "text": [
            "GPU Mem Alloc: 1.13 GB, Reserved: 3.89 GB\n"
          ]
        },
        {
          "output_type": "stream",
          "name": "stdout",
          "text": [
            "Epoch 3, Batch 2500/18724, Loss: 4.9009, Img/s: 444.4, ETA: 19.5min\n"
          ]
        },
        {
          "output_type": "stream",
          "name": "stdout",
          "text": [
            "GPU Mem Alloc: 1.13 GB, Reserved: 3.89 GB\n"
          ]
        },
        {
          "output_type": "stream",
          "name": "stdout",
          "text": [
            "Epoch 3, Batch 3000/18724, Loss: 2.8483, Img/s: 445.0, ETA: 18.8min\n"
          ]
        },
        {
          "output_type": "stream",
          "name": "stdout",
          "text": [
            "GPU Mem Alloc: 1.13 GB, Reserved: 3.89 GB\n"
          ]
        },
        {
          "output_type": "stream",
          "name": "stdout",
          "text": [
            "Epoch 3, Batch 3500/18724, Loss: 4.9911, Img/s: 444.7, ETA: 18.3min\n"
          ]
        },
        {
          "output_type": "stream",
          "name": "stdout",
          "text": [
            "GPU Mem Alloc: 1.13 GB, Reserved: 3.89 GB\n"
          ]
        },
        {
          "output_type": "stream",
          "name": "stdout",
          "text": [
            "Epoch 3, Batch 4000/18724, Loss: 2.1532, Img/s: 444.7, ETA: 17.7min\n"
          ]
        },
        {
          "output_type": "stream",
          "name": "stdout",
          "text": [
            "GPU Mem Alloc: 1.13 GB, Reserved: 3.89 GB\n"
          ]
        },
        {
          "output_type": "stream",
          "name": "stdout",
          "text": [
            "Epoch 3, Batch 4500/18724, Loss: 2.8444, Img/s: 444.5, ETA: 17.1min\n"
          ]
        },
        {
          "output_type": "stream",
          "name": "stdout",
          "text": [
            "GPU Mem Alloc: 1.13 GB, Reserved: 3.89 GB\n"
          ]
        },
        {
          "output_type": "stream",
          "name": "stdout",
          "text": [
            "Epoch 3, Batch 5000/18724, Loss: 2.3205, Img/s: 444.6, ETA: 16.5min\n"
          ]
        },
        {
          "output_type": "stream",
          "name": "stdout",
          "text": [
            "GPU Mem Alloc: 1.13 GB, Reserved: 3.89 GB\n"
          ]
        },
        {
          "output_type": "stream",
          "name": "stdout",
          "text": [
            "Epoch 3, Batch 5500/18724, Loss: 2.6094, Img/s: 444.5, ETA: 15.9min\n"
          ]
        },
        {
          "output_type": "stream",
          "name": "stdout",
          "text": [
            "GPU Mem Alloc: 1.13 GB, Reserved: 3.89 GB\n"
          ]
        },
        {
          "output_type": "stream",
          "name": "stdout",
          "text": [
            "Epoch 3, Batch 6000/18724, Loss: 2.7833, Img/s: 444.6, ETA: 15.3min\n"
          ]
        },
        {
          "output_type": "stream",
          "name": "stdout",
          "text": [
            "GPU Mem Alloc: 1.13 GB, Reserved: 3.89 GB\n"
          ]
        },
        {
          "output_type": "stream",
          "name": "stdout",
          "text": [
            "Epoch 3, Batch 6500/18724, Loss: 4.1579, Img/s: 444.1, ETA: 14.7min\n"
          ]
        },
        {
          "output_type": "stream",
          "name": "stdout",
          "text": [
            "GPU Mem Alloc: 1.13 GB, Reserved: 3.89 GB\n"
          ]
        },
        {
          "output_type": "stream",
          "name": "stdout",
          "text": [
            "Epoch 3, Batch 7000/18724, Loss: 2.1327, Img/s: 444.1, ETA: 14.1min\n"
          ]
        },
        {
          "output_type": "stream",
          "name": "stdout",
          "text": [
            "GPU Mem Alloc: 1.13 GB, Reserved: 3.89 GB\n"
          ]
        },
        {
          "output_type": "stream",
          "name": "stdout",
          "text": [
            "Epoch 3, Batch 7500/18724, Loss: 2.7011, Img/s: 444.4, ETA: 13.5min\n"
          ]
        },
        {
          "output_type": "stream",
          "name": "stdout",
          "text": [
            "GPU Mem Alloc: 1.13 GB, Reserved: 3.89 GB\n"
          ]
        },
        {
          "output_type": "stream",
          "name": "stdout",
          "text": [
            "Epoch 3, Batch 8000/18724, Loss: 2.4964, Img/s: 444.4, ETA: 12.9min\n"
          ]
        },
        {
          "output_type": "stream",
          "name": "stdout",
          "text": [
            "GPU Mem Alloc: 1.13 GB, Reserved: 3.89 GB\n"
          ]
        },
        {
          "output_type": "stream",
          "name": "stdout",
          "text": [
            "Epoch 3, Batch 8500/18724, Loss: 2.3448, Img/s: 444.5, ETA: 12.3min\n"
          ]
        },
        {
          "output_type": "stream",
          "name": "stdout",
          "text": [
            "GPU Mem Alloc: 1.13 GB, Reserved: 3.89 GB\n"
          ]
        },
        {
          "output_type": "stream",
          "name": "stdout",
          "text": [
            "Epoch 3, Batch 9000/18724, Loss: 2.4651, Img/s: 444.6, ETA: 11.7min\n"
          ]
        },
        {
          "output_type": "stream",
          "name": "stdout",
          "text": [
            "GPU Mem Alloc: 1.13 GB, Reserved: 3.89 GB\n"
          ]
        },
        {
          "output_type": "stream",
          "name": "stdout",
          "text": [
            "Epoch 3, Batch 9500/18724, Loss: 5.8011, Img/s: 444.7, ETA: 11.1min\n"
          ]
        },
        {
          "output_type": "stream",
          "name": "stdout",
          "text": [
            "GPU Mem Alloc: 1.13 GB, Reserved: 3.89 GB\n"
          ]
        },
        {
          "output_type": "stream",
          "name": "stdout",
          "text": [
            "Epoch 3, Batch 10000/18724, Loss: 2.2459, Img/s: 444.8, ETA: 10.5min\n"
          ]
        },
        {
          "output_type": "stream",
          "name": "stdout",
          "text": [
            "GPU Mem Alloc: 1.13 GB, Reserved: 3.89 GB\n"
          ]
        },
        {
          "output_type": "stream",
          "name": "stdout",
          "text": [
            "Epoch 3, Batch 10500/18724, Loss: 2.6729, Img/s: 444.9, ETA: 9.9min\n"
          ]
        },
        {
          "output_type": "stream",
          "name": "stdout",
          "text": [
            "GPU Mem Alloc: 1.13 GB, Reserved: 3.89 GB\n"
          ]
        },
        {
          "output_type": "stream",
          "name": "stdout",
          "text": [
            "Epoch 3, Batch 11000/18724, Loss: 5.1661, Img/s: 444.9, ETA: 9.3min\n"
          ]
        },
        {
          "output_type": "stream",
          "name": "stdout",
          "text": [
            "GPU Mem Alloc: 1.13 GB, Reserved: 3.89 GB\n"
          ]
        },
        {
          "output_type": "stream",
          "name": "stdout",
          "text": [
            "Epoch 3, Batch 11500/18724, Loss: 2.0450, Img/s: 444.9, ETA: 8.7min\n"
          ]
        },
        {
          "output_type": "stream",
          "name": "stdout",
          "text": [
            "GPU Mem Alloc: 1.13 GB, Reserved: 3.89 GB\n"
          ]
        },
        {
          "output_type": "stream",
          "name": "stdout",
          "text": [
            "Epoch 3, Batch 12000/18724, Loss: 2.3359, Img/s: 444.8, ETA: 8.1min\n"
          ]
        },
        {
          "output_type": "stream",
          "name": "stdout",
          "text": [
            "GPU Mem Alloc: 1.13 GB, Reserved: 3.89 GB\n"
          ]
        },
        {
          "output_type": "stream",
          "name": "stdout",
          "text": [
            "Epoch 3, Batch 12500/18724, Loss: 6.2920, Img/s: 445.0, ETA: 7.5min\n"
          ]
        },
        {
          "output_type": "stream",
          "name": "stdout",
          "text": [
            "GPU Mem Alloc: 1.13 GB, Reserved: 3.89 GB\n"
          ]
        },
        {
          "output_type": "stream",
          "name": "stdout",
          "text": [
            "Epoch 3, Batch 13000/18724, Loss: 2.1561, Img/s: 445.4, ETA: 6.9min\n"
          ]
        },
        {
          "output_type": "stream",
          "name": "stdout",
          "text": [
            "GPU Mem Alloc: 1.13 GB, Reserved: 3.89 GB\n"
          ]
        },
        {
          "output_type": "stream",
          "name": "stdout",
          "text": [
            "Epoch 3, Batch 13500/18724, Loss: 6.8507, Img/s: 445.7, ETA: 6.3min\n"
          ]
        },
        {
          "output_type": "stream",
          "name": "stdout",
          "text": [
            "GPU Mem Alloc: 1.13 GB, Reserved: 3.89 GB\n"
          ]
        },
        {
          "output_type": "stream",
          "name": "stdout",
          "text": [
            "Epoch 3, Batch 14000/18724, Loss: 5.6244, Img/s: 446.0, ETA: 5.6min\n"
          ]
        },
        {
          "output_type": "stream",
          "name": "stdout",
          "text": [
            "GPU Mem Alloc: 1.13 GB, Reserved: 3.89 GB\n"
          ]
        },
        {
          "output_type": "stream",
          "name": "stdout",
          "text": [
            "Epoch 3, Batch 14500/18724, Loss: 2.5097, Img/s: 446.4, ETA: 5.0min\n"
          ]
        },
        {
          "output_type": "stream",
          "name": "stdout",
          "text": [
            "GPU Mem Alloc: 1.13 GB, Reserved: 3.89 GB\n"
          ]
        },
        {
          "output_type": "stream",
          "name": "stdout",
          "text": [
            "Epoch 3, Batch 15000/18724, Loss: 2.7665, Img/s: 446.6, ETA: 4.4min\n"
          ]
        },
        {
          "output_type": "stream",
          "name": "stdout",
          "text": [
            "GPU Mem Alloc: 1.13 GB, Reserved: 3.89 GB\n"
          ]
        },
        {
          "output_type": "stream",
          "name": "stdout",
          "text": [
            "Epoch 3, Batch 15500/18724, Loss: 5.0877, Img/s: 446.8, ETA: 3.8min\n"
          ]
        },
        {
          "output_type": "stream",
          "name": "stdout",
          "text": [
            "GPU Mem Alloc: 1.13 GB, Reserved: 3.89 GB\n"
          ]
        },
        {
          "output_type": "stream",
          "name": "stdout",
          "text": [
            "Epoch 3, Batch 16000/18724, Loss: 3.7610, Img/s: 447.1, ETA: 3.2min\n"
          ]
        },
        {
          "output_type": "stream",
          "name": "stdout",
          "text": [
            "GPU Mem Alloc: 1.13 GB, Reserved: 3.89 GB\n"
          ]
        },
        {
          "output_type": "stream",
          "name": "stdout",
          "text": [
            "Epoch 3, Batch 16500/18724, Loss: 3.9238, Img/s: 447.3, ETA: 2.7min\n"
          ]
        },
        {
          "output_type": "stream",
          "name": "stdout",
          "text": [
            "GPU Mem Alloc: 1.13 GB, Reserved: 3.89 GB\n"
          ]
        },
        {
          "output_type": "stream",
          "name": "stdout",
          "text": [
            "Epoch 3, Batch 17000/18724, Loss: 4.2332, Img/s: 447.8, ETA: 2.1min\n"
          ]
        },
        {
          "output_type": "stream",
          "name": "stdout",
          "text": [
            "GPU Mem Alloc: 1.13 GB, Reserved: 3.89 GB\n"
          ]
        },
        {
          "output_type": "stream",
          "name": "stdout",
          "text": [
            "Epoch 3, Batch 17500/18724, Loss: 6.5969, Img/s: 448.0, ETA: 1.5min\n"
          ]
        },
        {
          "output_type": "stream",
          "name": "stdout",
          "text": [
            "GPU Mem Alloc: 1.13 GB, Reserved: 3.89 GB\n"
          ]
        },
        {
          "output_type": "stream",
          "name": "stdout",
          "text": [
            "Epoch 3, Batch 18000/18724, Loss: 4.8017, Img/s: 448.2, ETA: 0.9min\n"
          ]
        },
        {
          "output_type": "stream",
          "name": "stdout",
          "text": [
            "GPU Mem Alloc: 1.13 GB, Reserved: 3.89 GB\n"
          ]
        },
        {
          "output_type": "stream",
          "name": "stdout",
          "text": [
            "Epoch 3, Batch 18500/18724, Loss: 3.1098, Img/s: 448.3, ETA: 0.3min\n"
          ]
        },
        {
          "output_type": "stream",
          "name": "stdout",
          "text": [
            "GPU Mem Alloc: 1.13 GB, Reserved: 3.89 GB\n"
          ]
        },
        {
          "output_type": "stream",
          "name": "stdout",
          "text": [
            "Val Batch 0/1041, Elapsed: 0.0min\n"
          ]
        },
        {
          "output_type": "stream",
          "name": "stdout",
          "text": [
            "Val Batch 200/1041, Elapsed: 0.2min\n"
          ]
        },
        {
          "output_type": "stream",
          "name": "stdout",
          "text": [
            "Val Batch 400/1041, Elapsed: 0.4min\n"
          ]
        },
        {
          "output_type": "stream",
          "name": "stdout",
          "text": [
            "Val Batch 600/1041, Elapsed: 0.5min\n"
          ]
        },
        {
          "output_type": "stream",
          "name": "stdout",
          "text": [
            "Val Batch 800/1041, Elapsed: 0.7min\n"
          ]
        },
        {
          "output_type": "stream",
          "name": "stdout",
          "text": [
            "Val Batch 1000/1041, Elapsed: 0.9min\n"
          ]
        },
        {
          "output_type": "stream",
          "name": "stdout",
          "text": [
            "Epoch 3: Train Loss 3.3704, Val Loss 2.3492, Val F1 0.5630, Top1 Acc 0.6267, Unique Pred Classes 13728, Time 23.23min\n"
          ]
        },
        {
          "output_type": "stream",
          "name": "stdout",
          "text": [
            "Top 5 pred classes: [(1743, 40), (6639, 27), (13992, 23), (1075, 22), (4059, 20)]\n"
          ]
        },
        {
          "output_type": "stream",
          "name": "stdout",
          "text": [
            "New best model saved! Best F1: 0.5630\n"
          ]
        },
        {
          "output_type": "stream",
          "name": "stdout",
          "text": [
            "Epoch 4, Batch 0/18724, Loss: 6.2726, Img/s: 43.5, ETA: 229.6min\n"
          ]
        },
        {
          "output_type": "stream",
          "name": "stdout",
          "text": [
            "GPU Mem Alloc: 1.13 GB, Reserved: 3.89 GB\n"
          ]
        },
        {
          "output_type": "stream",
          "name": "stdout",
          "text": [
            "Epoch 4, Batch 500/18724, Loss: 5.1178, Img/s: 448.8, ETA: 21.7min\n"
          ]
        },
        {
          "output_type": "stream",
          "name": "stdout",
          "text": [
            "GPU Mem Alloc: 1.13 GB, Reserved: 3.89 GB\n"
          ]
        },
        {
          "output_type": "stream",
          "name": "stdout",
          "text": [
            "Epoch 4, Batch 1000/18724, Loss: 1.9494, Img/s: 451.5, ETA: 20.9min\n"
          ]
        },
        {
          "output_type": "stream",
          "name": "stdout",
          "text": [
            "GPU Mem Alloc: 1.13 GB, Reserved: 3.89 GB\n"
          ]
        },
        {
          "output_type": "stream",
          "name": "stdout",
          "text": [
            "Epoch 4, Batch 1500/18724, Loss: 1.6699, Img/s: 453.8, ETA: 20.2min\n"
          ]
        },
        {
          "output_type": "stream",
          "name": "stdout",
          "text": [
            "GPU Mem Alloc: 1.13 GB, Reserved: 3.89 GB\n"
          ]
        },
        {
          "output_type": "stream",
          "name": "stdout",
          "text": [
            "Epoch 4, Batch 2000/18724, Loss: 2.5359, Img/s: 456.2, ETA: 19.6min\n"
          ]
        },
        {
          "output_type": "stream",
          "name": "stdout",
          "text": [
            "GPU Mem Alloc: 1.13 GB, Reserved: 3.89 GB\n"
          ]
        },
        {
          "output_type": "stream",
          "name": "stdout",
          "text": [
            "Epoch 4, Batch 2500/18724, Loss: 2.6294, Img/s: 453.0, ETA: 19.1min\n"
          ]
        },
        {
          "output_type": "stream",
          "name": "stdout",
          "text": [
            "GPU Mem Alloc: 1.13 GB, Reserved: 3.89 GB\n"
          ]
        },
        {
          "output_type": "stream",
          "name": "stdout",
          "text": [
            "Epoch 4, Batch 3000/18724, Loss: 1.4641, Img/s: 452.6, ETA: 18.5min\n"
          ]
        },
        {
          "output_type": "stream",
          "name": "stdout",
          "text": [
            "GPU Mem Alloc: 1.13 GB, Reserved: 3.89 GB\n"
          ]
        },
        {
          "output_type": "stream",
          "name": "stdout",
          "text": [
            "Epoch 4, Batch 3500/18724, Loss: 1.8648, Img/s: 454.2, ETA: 17.9min\n"
          ]
        },
        {
          "output_type": "stream",
          "name": "stdout",
          "text": [
            "GPU Mem Alloc: 1.13 GB, Reserved: 3.89 GB\n"
          ]
        },
        {
          "output_type": "stream",
          "name": "stdout",
          "text": [
            "Epoch 4, Batch 4000/18724, Loss: 5.9473, Img/s: 455.4, ETA: 17.2min\n"
          ]
        },
        {
          "output_type": "stream",
          "name": "stdout",
          "text": [
            "GPU Mem Alloc: 1.13 GB, Reserved: 3.89 GB\n"
          ]
        },
        {
          "output_type": "stream",
          "name": "stdout",
          "text": [
            "Epoch 4, Batch 4500/18724, Loss: 1.6872, Img/s: 455.7, ETA: 16.6min\n"
          ]
        },
        {
          "output_type": "stream",
          "name": "stdout",
          "text": [
            "GPU Mem Alloc: 1.13 GB, Reserved: 3.89 GB\n"
          ]
        },
        {
          "output_type": "stream",
          "name": "stdout",
          "text": [
            "Epoch 4, Batch 5000/18724, Loss: 2.2372, Img/s: 456.4, ETA: 16.0min\n"
          ]
        },
        {
          "output_type": "stream",
          "name": "stdout",
          "text": [
            "GPU Mem Alloc: 1.13 GB, Reserved: 3.89 GB\n"
          ]
        },
        {
          "output_type": "stream",
          "name": "stdout",
          "text": [
            "Epoch 4, Batch 5500/18724, Loss: 1.7686, Img/s: 456.3, ETA: 15.5min\n"
          ]
        },
        {
          "output_type": "stream",
          "name": "stdout",
          "text": [
            "GPU Mem Alloc: 1.13 GB, Reserved: 3.89 GB\n"
          ]
        },
        {
          "output_type": "stream",
          "name": "stdout",
          "text": [
            "Epoch 4, Batch 6000/18724, Loss: 1.9312, Img/s: 456.3, ETA: 14.9min\n"
          ]
        },
        {
          "output_type": "stream",
          "name": "stdout",
          "text": [
            "GPU Mem Alloc: 1.13 GB, Reserved: 3.89 GB\n"
          ]
        },
        {
          "output_type": "stream",
          "name": "stdout",
          "text": [
            "Epoch 4, Batch 6500/18724, Loss: 3.2460, Img/s: 456.6, ETA: 14.3min\n"
          ]
        },
        {
          "output_type": "stream",
          "name": "stdout",
          "text": [
            "GPU Mem Alloc: 1.13 GB, Reserved: 3.89 GB\n"
          ]
        },
        {
          "output_type": "stream",
          "name": "stdout",
          "text": [
            "Epoch 4, Batch 7000/18724, Loss: 2.3152, Img/s: 456.2, ETA: 13.7min\n"
          ]
        },
        {
          "output_type": "stream",
          "name": "stdout",
          "text": [
            "GPU Mem Alloc: 1.13 GB, Reserved: 3.89 GB\n"
          ]
        },
        {
          "output_type": "stream",
          "name": "stdout",
          "text": [
            "Epoch 4, Batch 7500/18724, Loss: 4.0465, Img/s: 455.4, ETA: 13.1min\n"
          ]
        },
        {
          "output_type": "stream",
          "name": "stdout",
          "text": [
            "GPU Mem Alloc: 1.13 GB, Reserved: 3.89 GB\n"
          ]
        },
        {
          "output_type": "stream",
          "name": "stdout",
          "text": [
            "Epoch 4, Batch 8000/18724, Loss: 4.3559, Img/s: 455.0, ETA: 12.6min\n"
          ]
        },
        {
          "output_type": "stream",
          "name": "stdout",
          "text": [
            "GPU Mem Alloc: 1.13 GB, Reserved: 3.89 GB\n"
          ]
        },
        {
          "output_type": "stream",
          "name": "stdout",
          "text": [
            "Epoch 4, Batch 8500/18724, Loss: 1.7495, Img/s: 454.5, ETA: 12.0min\n"
          ]
        },
        {
          "output_type": "stream",
          "name": "stdout",
          "text": [
            "GPU Mem Alloc: 1.13 GB, Reserved: 3.89 GB\n"
          ]
        },
        {
          "output_type": "stream",
          "name": "stdout",
          "text": [
            "Epoch 4, Batch 9000/18724, Loss: 2.0285, Img/s: 453.9, ETA: 11.4min\n"
          ]
        },
        {
          "output_type": "stream",
          "name": "stdout",
          "text": [
            "GPU Mem Alloc: 1.13 GB, Reserved: 3.89 GB\n"
          ]
        },
        {
          "output_type": "stream",
          "name": "stdout",
          "text": [
            "Epoch 4, Batch 9500/18724, Loss: 6.1102, Img/s: 453.9, ETA: 10.8min\n"
          ]
        },
        {
          "output_type": "stream",
          "name": "stdout",
          "text": [
            "GPU Mem Alloc: 1.13 GB, Reserved: 3.89 GB\n"
          ]
        },
        {
          "output_type": "stream",
          "name": "stdout",
          "text": [
            "Epoch 4, Batch 10000/18724, Loss: 2.2469, Img/s: 453.5, ETA: 10.3min\n"
          ]
        },
        {
          "output_type": "stream",
          "name": "stdout",
          "text": [
            "GPU Mem Alloc: 1.13 GB, Reserved: 3.89 GB\n"
          ]
        },
        {
          "output_type": "stream",
          "name": "stdout",
          "text": [
            "Epoch 4, Batch 10500/18724, Loss: 1.7964, Img/s: 453.3, ETA: 9.7min\n"
          ]
        },
        {
          "output_type": "stream",
          "name": "stdout",
          "text": [
            "GPU Mem Alloc: 1.13 GB, Reserved: 3.89 GB\n"
          ]
        },
        {
          "output_type": "stream",
          "name": "stdout",
          "text": [
            "Epoch 4, Batch 11000/18724, Loss: 2.5809, Img/s: 453.0, ETA: 9.1min\n"
          ]
        },
        {
          "output_type": "stream",
          "name": "stdout",
          "text": [
            "GPU Mem Alloc: 1.13 GB, Reserved: 3.89 GB\n"
          ]
        },
        {
          "output_type": "stream",
          "name": "stdout",
          "text": [
            "Epoch 4, Batch 11500/18724, Loss: 1.8349, Img/s: 452.8, ETA: 8.5min\n"
          ]
        },
        {
          "output_type": "stream",
          "name": "stdout",
          "text": [
            "GPU Mem Alloc: 1.13 GB, Reserved: 3.89 GB\n"
          ]
        },
        {
          "output_type": "stream",
          "name": "stdout",
          "text": [
            "Epoch 4, Batch 12000/18724, Loss: 2.1610, Img/s: 452.5, ETA: 7.9min\n"
          ]
        },
        {
          "output_type": "stream",
          "name": "stdout",
          "text": [
            "GPU Mem Alloc: 1.13 GB, Reserved: 3.89 GB\n"
          ]
        },
        {
          "output_type": "stream",
          "name": "stdout",
          "text": [
            "Epoch 4, Batch 12500/18724, Loss: 4.2993, Img/s: 452.3, ETA: 7.3min\n"
          ]
        },
        {
          "output_type": "stream",
          "name": "stdout",
          "text": [
            "GPU Mem Alloc: 1.13 GB, Reserved: 3.89 GB\n"
          ]
        },
        {
          "output_type": "stream",
          "name": "stdout",
          "text": [
            "Epoch 4, Batch 13000/18724, Loss: 2.1504, Img/s: 452.1, ETA: 6.8min\n"
          ]
        },
        {
          "output_type": "stream",
          "name": "stdout",
          "text": [
            "GPU Mem Alloc: 1.13 GB, Reserved: 3.89 GB\n"
          ]
        },
        {
          "output_type": "stream",
          "name": "stdout",
          "text": [
            "Epoch 4, Batch 13500/18724, Loss: 4.5516, Img/s: 451.7, ETA: 6.2min\n"
          ]
        },
        {
          "output_type": "stream",
          "name": "stdout",
          "text": [
            "GPU Mem Alloc: 1.13 GB, Reserved: 3.89 GB\n"
          ]
        },
        {
          "output_type": "stream",
          "name": "stdout",
          "text": [
            "Epoch 4, Batch 14000/18724, Loss: 1.9122, Img/s: 451.4, ETA: 5.6min\n"
          ]
        },
        {
          "output_type": "stream",
          "name": "stdout",
          "text": [
            "GPU Mem Alloc: 1.13 GB, Reserved: 3.89 GB\n"
          ]
        },
        {
          "output_type": "stream",
          "name": "stdout",
          "text": [
            "Epoch 4, Batch 14500/18724, Loss: 2.0086, Img/s: 451.3, ETA: 5.0min\n"
          ]
        },
        {
          "output_type": "stream",
          "name": "stdout",
          "text": [
            "GPU Mem Alloc: 1.13 GB, Reserved: 3.89 GB\n"
          ]
        },
        {
          "output_type": "stream",
          "name": "stdout",
          "text": [
            "Epoch 4, Batch 15000/18724, Loss: 2.4708, Img/s: 451.1, ETA: 4.4min\n"
          ]
        },
        {
          "output_type": "stream",
          "name": "stdout",
          "text": [
            "GPU Mem Alloc: 1.13 GB, Reserved: 3.89 GB\n"
          ]
        },
        {
          "output_type": "stream",
          "name": "stdout",
          "text": [
            "Epoch 4, Batch 15500/18724, Loss: 1.5187, Img/s: 451.0, ETA: 3.8min\n"
          ]
        },
        {
          "output_type": "stream",
          "name": "stdout",
          "text": [
            "GPU Mem Alloc: 1.13 GB, Reserved: 3.89 GB\n"
          ]
        },
        {
          "output_type": "stream",
          "name": "stdout",
          "text": [
            "Epoch 4, Batch 16000/18724, Loss: 2.1536, Img/s: 450.9, ETA: 3.2min\n"
          ]
        },
        {
          "output_type": "stream",
          "name": "stdout",
          "text": [
            "GPU Mem Alloc: 1.13 GB, Reserved: 3.89 GB\n"
          ]
        },
        {
          "output_type": "stream",
          "name": "stdout",
          "text": [
            "Epoch 4, Batch 16500/18724, Loss: 1.9621, Img/s: 450.7, ETA: 2.6min\n"
          ]
        },
        {
          "output_type": "stream",
          "name": "stdout",
          "text": [
            "GPU Mem Alloc: 1.13 GB, Reserved: 3.89 GB\n"
          ]
        },
        {
          "output_type": "stream",
          "name": "stdout",
          "text": [
            "Epoch 4, Batch 17000/18724, Loss: 1.8961, Img/s: 451.1, ETA: 2.0min\n"
          ]
        },
        {
          "output_type": "stream",
          "name": "stdout",
          "text": [
            "GPU Mem Alloc: 1.13 GB, Reserved: 3.89 GB\n"
          ]
        },
        {
          "output_type": "stream",
          "name": "stdout",
          "text": [
            "Epoch 4, Batch 17500/18724, Loss: 2.1604, Img/s: 450.5, ETA: 1.4min\n"
          ]
        },
        {
          "output_type": "stream",
          "name": "stdout",
          "text": [
            "GPU Mem Alloc: 1.13 GB, Reserved: 3.89 GB\n"
          ]
        },
        {
          "output_type": "stream",
          "name": "stdout",
          "text": [
            "Epoch 4, Batch 18000/18724, Loss: 2.2496, Img/s: 450.4, ETA: 0.9min\n"
          ]
        },
        {
          "output_type": "stream",
          "name": "stdout",
          "text": [
            "GPU Mem Alloc: 1.13 GB, Reserved: 3.89 GB\n"
          ]
        },
        {
          "output_type": "stream",
          "name": "stdout",
          "text": [
            "Epoch 4, Batch 18500/18724, Loss: 1.4924, Img/s: 450.3, ETA: 0.3min\n"
          ]
        },
        {
          "output_type": "stream",
          "name": "stdout",
          "text": [
            "GPU Mem Alloc: 1.13 GB, Reserved: 3.89 GB\n"
          ]
        },
        {
          "output_type": "stream",
          "name": "stdout",
          "text": [
            "Val Batch 0/1041, Elapsed: 0.0min\n"
          ]
        },
        {
          "output_type": "stream",
          "name": "stdout",
          "text": [
            "Val Batch 200/1041, Elapsed: 0.2min\n"
          ]
        },
        {
          "output_type": "stream",
          "name": "stdout",
          "text": [
            "Val Batch 400/1041, Elapsed: 0.4min\n"
          ]
        },
        {
          "output_type": "stream",
          "name": "stdout",
          "text": [
            "Val Batch 600/1041, Elapsed: 0.5min\n"
          ]
        },
        {
          "output_type": "stream",
          "name": "stdout",
          "text": [
            "Val Batch 800/1041, Elapsed: 0.7min\n"
          ]
        },
        {
          "output_type": "stream",
          "name": "stdout",
          "text": [
            "Val Batch 1000/1041, Elapsed: 0.9min\n"
          ]
        },
        {
          "output_type": "stream",
          "name": "stdout",
          "text": [
            "Epoch 4: Train Loss 2.9280, Val Loss 2.1897, Val F1 0.6021, Top1 Acc 0.6583, Unique Pred Classes 14031, Time 23.14min\n"
          ]
        },
        {
          "output_type": "stream",
          "name": "stdout",
          "text": [
            "Top 5 pred classes: [(8209, 41), (4059, 21), (12453, 19), (5835, 19), (11457, 19)]\n"
          ]
        },
        {
          "output_type": "stream",
          "name": "stdout",
          "text": [
            "New best model saved! Best F1: 0.6021\n"
          ]
        },
        {
          "output_type": "stream",
          "name": "stdout",
          "text": [
            "Epoch 5, Batch 0/18724, Loss: 1.9083, Img/s: 45.9, ETA: 217.5min\n"
          ]
        },
        {
          "output_type": "stream",
          "name": "stdout",
          "text": [
            "GPU Mem Alloc: 1.13 GB, Reserved: 3.89 GB\n"
          ]
        },
        {
          "output_type": "stream",
          "name": "stdout",
          "text": [
            "Epoch 5, Batch 500/18724, Loss: 1.3576, Img/s: 436.3, ETA: 22.3min\n"
          ]
        },
        {
          "output_type": "stream",
          "name": "stdout",
          "text": [
            "GPU Mem Alloc: 1.13 GB, Reserved: 3.89 GB\n"
          ]
        },
        {
          "output_type": "stream",
          "name": "stdout",
          "text": [
            "Epoch 5, Batch 1000/18724, Loss: 1.7877, Img/s: 439.9, ETA: 21.5min\n"
          ]
        },
        {
          "output_type": "stream",
          "name": "stdout",
          "text": [
            "GPU Mem Alloc: 1.13 GB, Reserved: 3.89 GB\n"
          ]
        },
        {
          "output_type": "stream",
          "name": "stdout",
          "text": [
            "Epoch 5, Batch 1500/18724, Loss: 1.1478, Img/s: 440.8, ETA: 20.8min\n"
          ]
        },
        {
          "output_type": "stream",
          "name": "stdout",
          "text": [
            "GPU Mem Alloc: 1.13 GB, Reserved: 3.89 GB\n"
          ]
        },
        {
          "output_type": "stream",
          "name": "stdout",
          "text": [
            "Epoch 5, Batch 2000/18724, Loss: 1.9932, Img/s: 441.9, ETA: 20.2min\n"
          ]
        },
        {
          "output_type": "stream",
          "name": "stdout",
          "text": [
            "GPU Mem Alloc: 1.13 GB, Reserved: 3.89 GB\n"
          ]
        },
        {
          "output_type": "stream",
          "name": "stdout",
          "text": [
            "Epoch 5, Batch 2500/18724, Loss: 2.2353, Img/s: 442.2, ETA: 19.6min\n"
          ]
        },
        {
          "output_type": "stream",
          "name": "stdout",
          "text": [
            "GPU Mem Alloc: 1.13 GB, Reserved: 3.89 GB\n"
          ]
        },
        {
          "output_type": "stream",
          "name": "stdout",
          "text": [
            "Epoch 5, Batch 3000/18724, Loss: 3.7391, Img/s: 443.1, ETA: 18.9min\n"
          ]
        },
        {
          "output_type": "stream",
          "name": "stdout",
          "text": [
            "GPU Mem Alloc: 1.13 GB, Reserved: 3.89 GB\n"
          ]
        },
        {
          "output_type": "stream",
          "name": "stdout",
          "text": [
            "Epoch 5, Batch 3500/18724, Loss: 1.6002, Img/s: 444.3, ETA: 18.3min\n"
          ]
        },
        {
          "output_type": "stream",
          "name": "stdout",
          "text": [
            "GPU Mem Alloc: 1.13 GB, Reserved: 3.89 GB\n"
          ]
        },
        {
          "output_type": "stream",
          "name": "stdout",
          "text": [
            "Epoch 5, Batch 4000/18724, Loss: 1.1969, Img/s: 444.7, ETA: 17.7min\n"
          ]
        },
        {
          "output_type": "stream",
          "name": "stdout",
          "text": [
            "GPU Mem Alloc: 1.13 GB, Reserved: 3.89 GB\n"
          ]
        },
        {
          "output_type": "stream",
          "name": "stdout",
          "text": [
            "Epoch 5, Batch 4500/18724, Loss: 1.8491, Img/s: 445.2, ETA: 17.0min\n"
          ]
        },
        {
          "output_type": "stream",
          "name": "stdout",
          "text": [
            "GPU Mem Alloc: 1.13 GB, Reserved: 3.89 GB\n"
          ]
        },
        {
          "output_type": "stream",
          "name": "stdout",
          "text": [
            "Epoch 5, Batch 5000/18724, Loss: 1.9141, Img/s: 445.4, ETA: 16.4min\n"
          ]
        },
        {
          "output_type": "stream",
          "name": "stdout",
          "text": [
            "GPU Mem Alloc: 1.13 GB, Reserved: 3.89 GB\n"
          ]
        },
        {
          "output_type": "stream",
          "name": "stdout",
          "text": [
            "Epoch 5, Batch 5500/18724, Loss: 2.6467, Img/s: 445.2, ETA: 15.8min\n"
          ]
        },
        {
          "output_type": "stream",
          "name": "stdout",
          "text": [
            "GPU Mem Alloc: 1.13 GB, Reserved: 3.89 GB\n"
          ]
        },
        {
          "output_type": "stream",
          "name": "stdout",
          "text": [
            "Epoch 5, Batch 6000/18724, Loss: 2.1856, Img/s: 445.1, ETA: 15.2min\n"
          ]
        },
        {
          "output_type": "stream",
          "name": "stdout",
          "text": [
            "GPU Mem Alloc: 1.13 GB, Reserved: 3.89 GB\n"
          ]
        },
        {
          "output_type": "stream",
          "name": "stdout",
          "text": [
            "Epoch 5, Batch 6500/18724, Loss: 2.4309, Img/s: 445.2, ETA: 14.6min\n"
          ]
        },
        {
          "output_type": "stream",
          "name": "stdout",
          "text": [
            "GPU Mem Alloc: 1.13 GB, Reserved: 3.89 GB\n"
          ]
        },
        {
          "output_type": "stream",
          "name": "stdout",
          "text": [
            "Epoch 5, Batch 7000/18724, Loss: 2.7742, Img/s: 445.3, ETA: 14.0min\n"
          ]
        },
        {
          "output_type": "stream",
          "name": "stdout",
          "text": [
            "GPU Mem Alloc: 1.13 GB, Reserved: 3.89 GB\n"
          ]
        },
        {
          "output_type": "stream",
          "name": "stdout",
          "text": [
            "Epoch 5, Batch 7500/18724, Loss: 3.8332, Img/s: 445.3, ETA: 13.4min\n"
          ]
        },
        {
          "output_type": "stream",
          "name": "stdout",
          "text": [
            "GPU Mem Alloc: 1.13 GB, Reserved: 3.89 GB\n"
          ]
        },
        {
          "output_type": "stream",
          "name": "stdout",
          "text": [
            "Epoch 5, Batch 8000/18724, Loss: 2.9966, Img/s: 445.4, ETA: 12.8min\n"
          ]
        },
        {
          "output_type": "stream",
          "name": "stdout",
          "text": [
            "GPU Mem Alloc: 1.13 GB, Reserved: 3.89 GB\n"
          ]
        },
        {
          "output_type": "stream",
          "name": "stdout",
          "text": [
            "Epoch 5, Batch 8500/18724, Loss: 1.7540, Img/s: 445.3, ETA: 12.2min\n"
          ]
        },
        {
          "output_type": "stream",
          "name": "stdout",
          "text": [
            "GPU Mem Alloc: 1.13 GB, Reserved: 3.89 GB\n"
          ]
        },
        {
          "output_type": "stream",
          "name": "stdout",
          "text": [
            "Epoch 5, Batch 9000/18724, Loss: 4.6213, Img/s: 445.1, ETA: 11.7min\n"
          ]
        },
        {
          "output_type": "stream",
          "name": "stdout",
          "text": [
            "GPU Mem Alloc: 1.13 GB, Reserved: 3.89 GB\n"
          ]
        },
        {
          "output_type": "stream",
          "name": "stdout",
          "text": [
            "Epoch 5, Batch 9500/18724, Loss: 4.9626, Img/s: 444.9, ETA: 11.1min\n"
          ]
        },
        {
          "output_type": "stream",
          "name": "stdout",
          "text": [
            "GPU Mem Alloc: 1.13 GB, Reserved: 3.89 GB\n"
          ]
        },
        {
          "output_type": "stream",
          "name": "stdout",
          "text": [
            "Epoch 5, Batch 10000/18724, Loss: 5.9461, Img/s: 444.8, ETA: 10.5min\n"
          ]
        },
        {
          "output_type": "stream",
          "name": "stdout",
          "text": [
            "GPU Mem Alloc: 1.13 GB, Reserved: 3.89 GB\n"
          ]
        },
        {
          "output_type": "stream",
          "name": "stdout",
          "text": [
            "Epoch 5, Batch 10500/18724, Loss: 1.4883, Img/s: 444.6, ETA: 9.9min\n"
          ]
        },
        {
          "output_type": "stream",
          "name": "stdout",
          "text": [
            "GPU Mem Alloc: 1.13 GB, Reserved: 3.89 GB\n"
          ]
        },
        {
          "output_type": "stream",
          "name": "stdout",
          "text": [
            "Epoch 5, Batch 11000/18724, Loss: 3.0965, Img/s: 444.3, ETA: 9.3min\n"
          ]
        },
        {
          "output_type": "stream",
          "name": "stdout",
          "text": [
            "GPU Mem Alloc: 1.13 GB, Reserved: 3.89 GB\n"
          ]
        },
        {
          "output_type": "stream",
          "name": "stdout",
          "text": [
            "Epoch 5, Batch 11500/18724, Loss: 1.8835, Img/s: 444.2, ETA: 8.7min\n"
          ]
        },
        {
          "output_type": "stream",
          "name": "stdout",
          "text": [
            "GPU Mem Alloc: 1.13 GB, Reserved: 3.89 GB\n"
          ]
        },
        {
          "output_type": "stream",
          "name": "stdout",
          "text": [
            "Epoch 5, Batch 12000/18724, Loss: 1.9423, Img/s: 444.0, ETA: 8.1min\n"
          ]
        },
        {
          "output_type": "stream",
          "name": "stdout",
          "text": [
            "GPU Mem Alloc: 1.13 GB, Reserved: 3.89 GB\n"
          ]
        },
        {
          "output_type": "stream",
          "name": "stdout",
          "text": [
            "Epoch 5, Batch 12500/18724, Loss: 4.1478, Img/s: 444.0, ETA: 7.5min\n"
          ]
        },
        {
          "output_type": "stream",
          "name": "stdout",
          "text": [
            "GPU Mem Alloc: 1.13 GB, Reserved: 3.89 GB\n"
          ]
        },
        {
          "output_type": "stream",
          "name": "stdout",
          "text": [
            "Epoch 5, Batch 13000/18724, Loss: 1.2862, Img/s: 444.0, ETA: 6.9min\n"
          ]
        },
        {
          "output_type": "stream",
          "name": "stdout",
          "text": [
            "GPU Mem Alloc: 1.13 GB, Reserved: 3.89 GB\n"
          ]
        },
        {
          "output_type": "stream",
          "name": "stdout",
          "text": [
            "Epoch 5, Batch 13500/18724, Loss: 2.0857, Img/s: 443.4, ETA: 6.3min\n"
          ]
        },
        {
          "output_type": "stream",
          "name": "stdout",
          "text": [
            "GPU Mem Alloc: 1.13 GB, Reserved: 3.89 GB\n"
          ]
        },
        {
          "output_type": "stream",
          "name": "stdout",
          "text": [
            "Epoch 5, Batch 14000/18724, Loss: 1.5841, Img/s: 443.4, ETA: 5.7min\n"
          ]
        },
        {
          "output_type": "stream",
          "name": "stdout",
          "text": [
            "GPU Mem Alloc: 1.13 GB, Reserved: 3.89 GB\n"
          ]
        },
        {
          "output_type": "stream",
          "name": "stdout",
          "text": [
            "Epoch 5, Batch 14500/18724, Loss: 4.7849, Img/s: 443.4, ETA: 5.1min\n"
          ]
        },
        {
          "output_type": "stream",
          "name": "stdout",
          "text": [
            "GPU Mem Alloc: 1.13 GB, Reserved: 3.89 GB\n"
          ]
        },
        {
          "output_type": "stream",
          "name": "stdout",
          "text": [
            "Epoch 5, Batch 15000/18724, Loss: 1.8564, Img/s: 443.3, ETA: 4.5min\n"
          ]
        },
        {
          "output_type": "stream",
          "name": "stdout",
          "text": [
            "GPU Mem Alloc: 1.13 GB, Reserved: 3.89 GB\n"
          ]
        },
        {
          "output_type": "stream",
          "name": "stdout",
          "text": [
            "Epoch 5, Batch 15500/18724, Loss: 1.2602, Img/s: 443.3, ETA: 3.9min\n"
          ]
        },
        {
          "output_type": "stream",
          "name": "stdout",
          "text": [
            "GPU Mem Alloc: 1.13 GB, Reserved: 3.89 GB\n"
          ]
        },
        {
          "output_type": "stream",
          "name": "stdout",
          "text": [
            "Epoch 5, Batch 16000/18724, Loss: 4.0462, Img/s: 443.4, ETA: 3.3min\n"
          ]
        },
        {
          "output_type": "stream",
          "name": "stdout",
          "text": [
            "GPU Mem Alloc: 1.13 GB, Reserved: 3.89 GB\n"
          ]
        },
        {
          "output_type": "stream",
          "name": "stdout",
          "text": [
            "Epoch 5, Batch 16500/18724, Loss: 1.3918, Img/s: 443.5, ETA: 2.7min\n"
          ]
        },
        {
          "output_type": "stream",
          "name": "stdout",
          "text": [
            "GPU Mem Alloc: 1.13 GB, Reserved: 3.89 GB\n"
          ]
        },
        {
          "output_type": "stream",
          "name": "stdout",
          "text": [
            "Epoch 5, Batch 17000/18724, Loss: 1.6674, Img/s: 443.4, ETA: 2.1min\n"
          ]
        },
        {
          "output_type": "stream",
          "name": "stdout",
          "text": [
            "GPU Mem Alloc: 1.13 GB, Reserved: 3.89 GB\n"
          ]
        },
        {
          "output_type": "stream",
          "name": "stdout",
          "text": [
            "Epoch 5, Batch 17500/18724, Loss: 4.1217, Img/s: 443.4, ETA: 1.5min\n"
          ]
        },
        {
          "output_type": "stream",
          "name": "stdout",
          "text": [
            "GPU Mem Alloc: 1.13 GB, Reserved: 3.89 GB\n"
          ]
        },
        {
          "output_type": "stream",
          "name": "stdout",
          "text": [
            "Epoch 5, Batch 18000/18724, Loss: 1.3841, Img/s: 443.3, ETA: 0.9min\n"
          ]
        },
        {
          "output_type": "stream",
          "name": "stdout",
          "text": [
            "GPU Mem Alloc: 1.13 GB, Reserved: 3.89 GB\n"
          ]
        },
        {
          "output_type": "stream",
          "name": "stdout",
          "text": [
            "Epoch 5, Batch 18500/18724, Loss: 1.4217, Img/s: 443.2, ETA: 0.3min\n"
          ]
        },
        {
          "output_type": "stream",
          "name": "stdout",
          "text": [
            "GPU Mem Alloc: 1.13 GB, Reserved: 3.89 GB\n"
          ]
        },
        {
          "output_type": "stream",
          "name": "stdout",
          "text": [
            "Val Batch 0/1041, Elapsed: 0.0min\n"
          ]
        },
        {
          "output_type": "stream",
          "name": "stdout",
          "text": [
            "Val Batch 200/1041, Elapsed: 0.2min\n"
          ]
        },
        {
          "output_type": "stream",
          "name": "stdout",
          "text": [
            "Val Batch 400/1041, Elapsed: 0.4min\n"
          ]
        },
        {
          "output_type": "stream",
          "name": "stdout",
          "text": [
            "Val Batch 600/1041, Elapsed: 0.5min\n"
          ]
        },
        {
          "output_type": "stream",
          "name": "stdout",
          "text": [
            "Val Batch 800/1041, Elapsed: 0.7min\n"
          ]
        },
        {
          "output_type": "stream",
          "name": "stdout",
          "text": [
            "Val Batch 1000/1041, Elapsed: 0.9min\n"
          ]
        },
        {
          "output_type": "stream",
          "name": "stdout",
          "text": [
            "Epoch 5: Train Loss 2.6140, Val Loss 2.0395, Val F1 0.6367, Top1 Acc 0.6902, Unique Pred Classes 14194, Time 23.49min\n"
          ]
        },
        {
          "output_type": "stream",
          "name": "stdout",
          "text": [
            "Top 5 pred classes: [(13037, 22), (1741, 19), (1743, 18), (13468, 18), (12975, 17)]\n"
          ]
        },
        {
          "output_type": "stream",
          "name": "stdout",
          "text": [
            "New best model saved! Best F1: 0.6367\n"
          ]
        },
        {
          "output_type": "stream",
          "name": "stdout",
          "text": [
            "Epoch 6, Batch 0/18724, Loss: 1.1944, Img/s: 41.8, ETA: 238.7min\n"
          ]
        },
        {
          "output_type": "stream",
          "name": "stdout",
          "text": [
            "GPU Mem Alloc: 1.13 GB, Reserved: 3.89 GB\n"
          ]
        },
        {
          "output_type": "stream",
          "name": "stdout",
          "text": [
            "Epoch 6, Batch 500/18724, Loss: 1.7775, Img/s: 450.1, ETA: 21.6min\n"
          ]
        },
        {
          "output_type": "stream",
          "name": "stdout",
          "text": [
            "GPU Mem Alloc: 1.13 GB, Reserved: 3.89 GB\n"
          ]
        },
        {
          "output_type": "stream",
          "name": "stdout",
          "text": [
            "Epoch 6, Batch 1000/18724, Loss: 1.6774, Img/s: 457.0, ETA: 20.7min\n"
          ]
        },
        {
          "output_type": "stream",
          "name": "stdout",
          "text": [
            "GPU Mem Alloc: 1.13 GB, Reserved: 3.89 GB\n"
          ]
        },
        {
          "output_type": "stream",
          "name": "stdout",
          "text": [
            "Epoch 6, Batch 1500/18724, Loss: 2.0951, Img/s: 454.8, ETA: 20.2min\n"
          ]
        },
        {
          "output_type": "stream",
          "name": "stdout",
          "text": [
            "GPU Mem Alloc: 1.13 GB, Reserved: 3.89 GB\n"
          ]
        },
        {
          "output_type": "stream",
          "name": "stdout",
          "text": [
            "Epoch 6, Batch 2000/18724, Loss: 2.0005, Img/s: 450.9, ETA: 19.8min\n"
          ]
        },
        {
          "output_type": "stream",
          "name": "stdout",
          "text": [
            "GPU Mem Alloc: 1.13 GB, Reserved: 3.89 GB\n"
          ]
        },
        {
          "output_type": "stream",
          "name": "stdout",
          "text": [
            "Epoch 6, Batch 2500/18724, Loss: 1.3355, Img/s: 448.6, ETA: 19.3min\n"
          ]
        },
        {
          "output_type": "stream",
          "name": "stdout",
          "text": [
            "GPU Mem Alloc: 1.13 GB, Reserved: 3.89 GB\n"
          ]
        },
        {
          "output_type": "stream",
          "name": "stdout",
          "text": [
            "Epoch 6, Batch 3000/18724, Loss: 1.3357, Img/s: 447.5, ETA: 18.7min\n"
          ]
        },
        {
          "output_type": "stream",
          "name": "stdout",
          "text": [
            "GPU Mem Alloc: 1.13 GB, Reserved: 3.89 GB\n"
          ]
        },
        {
          "output_type": "stream",
          "name": "stdout",
          "text": [
            "Epoch 6, Batch 3500/18724, Loss: 1.6536, Img/s: 446.2, ETA: 18.2min\n"
          ]
        },
        {
          "output_type": "stream",
          "name": "stdout",
          "text": [
            "GPU Mem Alloc: 1.13 GB, Reserved: 3.89 GB\n"
          ]
        },
        {
          "output_type": "stream",
          "name": "stdout",
          "text": [
            "Epoch 6, Batch 4000/18724, Loss: 4.6408, Img/s: 445.2, ETA: 17.6min\n"
          ]
        },
        {
          "output_type": "stream",
          "name": "stdout",
          "text": [
            "GPU Mem Alloc: 1.13 GB, Reserved: 3.89 GB\n"
          ]
        },
        {
          "output_type": "stream",
          "name": "stdout",
          "text": [
            "Epoch 6, Batch 4500/18724, Loss: 3.4214, Img/s: 444.8, ETA: 17.1min\n"
          ]
        },
        {
          "output_type": "stream",
          "name": "stdout",
          "text": [
            "GPU Mem Alloc: 1.13 GB, Reserved: 3.89 GB\n"
          ]
        },
        {
          "output_type": "stream",
          "name": "stdout",
          "text": [
            "Epoch 6, Batch 5000/18724, Loss: 1.5994, Img/s: 444.4, ETA: 16.5min\n"
          ]
        },
        {
          "output_type": "stream",
          "name": "stdout",
          "text": [
            "GPU Mem Alloc: 1.13 GB, Reserved: 3.89 GB\n"
          ]
        },
        {
          "output_type": "stream",
          "name": "stdout",
          "text": [
            "Epoch 6, Batch 5500/18724, Loss: 1.4762, Img/s: 444.9, ETA: 15.9min\n"
          ]
        },
        {
          "output_type": "stream",
          "name": "stdout",
          "text": [
            "GPU Mem Alloc: 1.13 GB, Reserved: 3.89 GB\n"
          ]
        },
        {
          "output_type": "stream",
          "name": "stdout",
          "text": [
            "Epoch 6, Batch 6000/18724, Loss: 2.0057, Img/s: 444.4, ETA: 15.3min\n"
          ]
        },
        {
          "output_type": "stream",
          "name": "stdout",
          "text": [
            "GPU Mem Alloc: 1.13 GB, Reserved: 3.89 GB\n"
          ]
        },
        {
          "output_type": "stream",
          "name": "stdout",
          "text": [
            "Epoch 6, Batch 6500/18724, Loss: 1.2951, Img/s: 444.1, ETA: 14.7min\n"
          ]
        },
        {
          "output_type": "stream",
          "name": "stdout",
          "text": [
            "GPU Mem Alloc: 1.13 GB, Reserved: 3.89 GB\n"
          ]
        },
        {
          "output_type": "stream",
          "name": "stdout",
          "text": [
            "Epoch 6, Batch 7000/18724, Loss: 1.9144, Img/s: 443.8, ETA: 14.1min\n"
          ]
        },
        {
          "output_type": "stream",
          "name": "stdout",
          "text": [
            "GPU Mem Alloc: 1.13 GB, Reserved: 3.89 GB\n"
          ]
        },
        {
          "output_type": "stream",
          "name": "stdout",
          "text": [
            "Epoch 6, Batch 7500/18724, Loss: 2.3028, Img/s: 444.2, ETA: 13.5min\n"
          ]
        },
        {
          "output_type": "stream",
          "name": "stdout",
          "text": [
            "GPU Mem Alloc: 1.13 GB, Reserved: 3.89 GB\n"
          ]
        },
        {
          "output_type": "stream",
          "name": "stdout",
          "text": [
            "Epoch 6, Batch 8000/18724, Loss: 1.6501, Img/s: 443.9, ETA: 12.9min\n"
          ]
        },
        {
          "output_type": "stream",
          "name": "stdout",
          "text": [
            "GPU Mem Alloc: 1.13 GB, Reserved: 3.89 GB\n"
          ]
        },
        {
          "output_type": "stream",
          "name": "stdout",
          "text": [
            "Epoch 6, Batch 8500/18724, Loss: 1.3771, Img/s: 444.0, ETA: 12.3min\n"
          ]
        },
        {
          "output_type": "stream",
          "name": "stdout",
          "text": [
            "GPU Mem Alloc: 1.13 GB, Reserved: 3.89 GB\n"
          ]
        },
        {
          "output_type": "stream",
          "name": "stdout",
          "text": [
            "Epoch 6, Batch 9000/18724, Loss: 1.3143, Img/s: 444.0, ETA: 11.7min\n"
          ]
        },
        {
          "output_type": "stream",
          "name": "stdout",
          "text": [
            "GPU Mem Alloc: 1.13 GB, Reserved: 3.89 GB\n"
          ]
        },
        {
          "output_type": "stream",
          "name": "stdout",
          "text": [
            "Epoch 6, Batch 9500/18724, Loss: 3.5236, Img/s: 443.2, ETA: 11.1min\n"
          ]
        },
        {
          "output_type": "stream",
          "name": "stdout",
          "text": [
            "GPU Mem Alloc: 1.13 GB, Reserved: 3.89 GB\n"
          ]
        },
        {
          "output_type": "stream",
          "name": "stdout",
          "text": [
            "Epoch 6, Batch 10000/18724, Loss: 1.5831, Img/s: 443.0, ETA: 10.5min\n"
          ]
        },
        {
          "output_type": "stream",
          "name": "stdout",
          "text": [
            "GPU Mem Alloc: 1.13 GB, Reserved: 3.89 GB\n"
          ]
        },
        {
          "output_type": "stream",
          "name": "stdout",
          "text": [
            "Epoch 6, Batch 10500/18724, Loss: 1.1623, Img/s: 442.9, ETA: 9.9min\n"
          ]
        },
        {
          "output_type": "stream",
          "name": "stdout",
          "text": [
            "GPU Mem Alloc: 1.13 GB, Reserved: 3.89 GB\n"
          ]
        },
        {
          "output_type": "stream",
          "name": "stdout",
          "text": [
            "Epoch 6, Batch 11000/18724, Loss: 3.7019, Img/s: 442.7, ETA: 9.3min\n"
          ]
        },
        {
          "output_type": "stream",
          "name": "stdout",
          "text": [
            "GPU Mem Alloc: 1.13 GB, Reserved: 3.89 GB\n"
          ]
        },
        {
          "output_type": "stream",
          "name": "stdout",
          "text": [
            "Epoch 6, Batch 11500/18724, Loss: 3.2145, Img/s: 442.6, ETA: 8.7min\n"
          ]
        },
        {
          "output_type": "stream",
          "name": "stdout",
          "text": [
            "GPU Mem Alloc: 1.13 GB, Reserved: 3.89 GB\n"
          ]
        },
        {
          "output_type": "stream",
          "name": "stdout",
          "text": [
            "Epoch 6, Batch 12000/18724, Loss: 1.3322, Img/s: 442.4, ETA: 8.1min\n"
          ]
        },
        {
          "output_type": "stream",
          "name": "stdout",
          "text": [
            "GPU Mem Alloc: 1.13 GB, Reserved: 3.89 GB\n"
          ]
        },
        {
          "output_type": "stream",
          "name": "stdout",
          "text": [
            "Epoch 6, Batch 12500/18724, Loss: 1.4493, Img/s: 442.3, ETA: 7.5min\n"
          ]
        },
        {
          "output_type": "stream",
          "name": "stdout",
          "text": [
            "GPU Mem Alloc: 1.13 GB, Reserved: 3.89 GB\n"
          ]
        },
        {
          "output_type": "stream",
          "name": "stdout",
          "text": [
            "Epoch 6, Batch 13000/18724, Loss: 1.2368, Img/s: 442.1, ETA: 6.9min\n"
          ]
        },
        {
          "output_type": "stream",
          "name": "stdout",
          "text": [
            "GPU Mem Alloc: 1.13 GB, Reserved: 3.89 GB\n"
          ]
        },
        {
          "output_type": "stream",
          "name": "stdout",
          "text": [
            "Epoch 6, Batch 13500/18724, Loss: 4.0491, Img/s: 442.1, ETA: 6.3min\n"
          ]
        },
        {
          "output_type": "stream",
          "name": "stdout",
          "text": [
            "GPU Mem Alloc: 1.13 GB, Reserved: 3.89 GB\n"
          ]
        },
        {
          "output_type": "stream",
          "name": "stdout",
          "text": [
            "Epoch 6, Batch 14000/18724, Loss: 1.2713, Img/s: 442.0, ETA: 5.7min\n"
          ]
        },
        {
          "output_type": "stream",
          "name": "stdout",
          "text": [
            "GPU Mem Alloc: 1.13 GB, Reserved: 3.89 GB\n"
          ]
        },
        {
          "output_type": "stream",
          "name": "stdout",
          "text": [
            "Epoch 6, Batch 14500/18724, Loss: 1.2303, Img/s: 441.9, ETA: 5.1min\n"
          ]
        },
        {
          "output_type": "stream",
          "name": "stdout",
          "text": [
            "GPU Mem Alloc: 1.13 GB, Reserved: 3.89 GB\n"
          ]
        },
        {
          "output_type": "stream",
          "name": "stdout",
          "text": [
            "Epoch 6, Batch 15000/18724, Loss: 1.6286, Img/s: 442.1, ETA: 4.5min\n"
          ]
        },
        {
          "output_type": "stream",
          "name": "stdout",
          "text": [
            "GPU Mem Alloc: 1.13 GB, Reserved: 3.89 GB\n"
          ]
        },
        {
          "output_type": "stream",
          "name": "stdout",
          "text": [
            "Epoch 6, Batch 15500/18724, Loss: 5.3608, Img/s: 442.5, ETA: 3.9min\n"
          ]
        },
        {
          "output_type": "stream",
          "name": "stdout",
          "text": [
            "GPU Mem Alloc: 1.13 GB, Reserved: 3.89 GB\n"
          ]
        },
        {
          "output_type": "stream",
          "name": "stdout",
          "text": [
            "Epoch 6, Batch 16000/18724, Loss: 3.8029, Img/s: 442.5, ETA: 3.3min\n"
          ]
        },
        {
          "output_type": "stream",
          "name": "stdout",
          "text": [
            "GPU Mem Alloc: 1.13 GB, Reserved: 3.89 GB\n"
          ]
        },
        {
          "output_type": "stream",
          "name": "stdout",
          "text": [
            "Epoch 6, Batch 16500/18724, Loss: 1.5740, Img/s: 442.5, ETA: 2.7min\n"
          ]
        },
        {
          "output_type": "stream",
          "name": "stdout",
          "text": [
            "GPU Mem Alloc: 1.13 GB, Reserved: 3.89 GB\n"
          ]
        },
        {
          "output_type": "stream",
          "name": "stdout",
          "text": [
            "Epoch 6, Batch 17000/18724, Loss: 1.5185, Img/s: 442.5, ETA: 2.1min\n"
          ]
        },
        {
          "output_type": "stream",
          "name": "stdout",
          "text": [
            "GPU Mem Alloc: 1.13 GB, Reserved: 3.89 GB\n"
          ]
        },
        {
          "output_type": "stream",
          "name": "stdout",
          "text": [
            "Epoch 6, Batch 17500/18724, Loss: 1.5557, Img/s: 442.4, ETA: 1.5min\n"
          ]
        },
        {
          "output_type": "stream",
          "name": "stdout",
          "text": [
            "GPU Mem Alloc: 1.13 GB, Reserved: 3.89 GB\n"
          ]
        },
        {
          "output_type": "stream",
          "name": "stdout",
          "text": [
            "Epoch 6, Batch 18000/18724, Loss: 2.8398, Img/s: 442.4, ETA: 0.9min\n"
          ]
        },
        {
          "output_type": "stream",
          "name": "stdout",
          "text": [
            "GPU Mem Alloc: 1.13 GB, Reserved: 3.89 GB\n"
          ]
        },
        {
          "output_type": "stream",
          "name": "stdout",
          "text": [
            "Epoch 6, Batch 18500/18724, Loss: 1.9951, Img/s: 442.4, ETA: 0.3min\n"
          ]
        },
        {
          "output_type": "stream",
          "name": "stdout",
          "text": [
            "GPU Mem Alloc: 1.13 GB, Reserved: 3.89 GB\n"
          ]
        },
        {
          "output_type": "stream",
          "name": "stdout",
          "text": [
            "Val Batch 0/1041, Elapsed: 0.0min\n"
          ]
        },
        {
          "output_type": "stream",
          "name": "stdout",
          "text": [
            "Val Batch 200/1041, Elapsed: 0.2min\n"
          ]
        },
        {
          "output_type": "stream",
          "name": "stdout",
          "text": [
            "Val Batch 400/1041, Elapsed: 0.4min\n"
          ]
        },
        {
          "output_type": "stream",
          "name": "stdout",
          "text": [
            "Val Batch 600/1041, Elapsed: 0.5min\n"
          ]
        },
        {
          "output_type": "stream",
          "name": "stdout",
          "text": [
            "Val Batch 800/1041, Elapsed: 0.7min\n"
          ]
        },
        {
          "output_type": "stream",
          "name": "stdout",
          "text": [
            "Val Batch 1000/1041, Elapsed: 0.9min\n"
          ]
        },
        {
          "output_type": "stream",
          "name": "stdout",
          "text": [
            "Epoch 6: Train Loss 2.4373, Val Loss 2.0241, Val F1 0.6428, Top1 Acc 0.6957, Unique Pred Classes 14169, Time 23.54min\n"
          ]
        },
        {
          "output_type": "stream",
          "name": "stdout",
          "text": [
            "Top 5 pred classes: [(7531, 16), (12975, 16), (14228, 15), (2625, 15), (15321, 15)]\n"
          ]
        },
        {
          "output_type": "stream",
          "name": "stdout",
          "text": [
            "New best model saved! Best F1: 0.6428\nTraining completed. Best Val F1: 0.6428\n"
          ]
        }
      ]
    },
    {
      "id": "5e7136ab-ac0b-4ffd-b674-497386fb9ff6",
      "cell_type": "code",
      "metadata": {},
      "source": [
        "# Test one image load first\n",
        "sample_path = os.path.join('test_images', test_df.iloc[0]['file_name'])\n",
        "img = cv2.imread(sample_path)\n",
        "print(f'Sample test image loaded: shape {img.shape if img is not None else \"None\"}')\n",
        "\n",
        "# Test Inference with TTA\n",
        "import torch.nn.functional as F\n",
        "from torch.utils.data import Dataset, DataLoader\n",
        "import albumentations as A\n",
        "from albumentations.pytorch import ToTensorV2\n",
        "\n",
        "class TestDataset(Dataset):\n",
        "    def __init__(self, df, transform=None, root='test_images'):\n",
        "        self.df = df.reset_index(drop=True)\n",
        "        self.transform = transform\n",
        "        self.root = root\n",
        "    def __len__(self):\n",
        "        return len(self.df)\n",
        "    def __getitem__(self, idx):\n",
        "        row = self.df.iloc[idx]\n",
        "        img_path = os.path.join(self.root, row['file_name'])\n",
        "        img = cv2.imread(img_path)\n",
        "        if img is None:\n",
        "            raise ValueError(f'Test image not found: {img_path}')\n",
        "        img = cv2.cvtColor(img, cv2.COLOR_BGR2RGB)\n",
        "        if self.transform:\n",
        "            augmented = self.transform(image=img)\n",
        "            img = augmented['image']\n",
        "        return img\n",
        "\n",
        "# Common base transforms (without Compose)\n",
        "base_transforms = [\n",
        "    A.LongestMaxSize(max_size=224),\n",
        "    A.PadIfNeeded(min_height=224, min_width=224, border_mode=cv2.BORDER_CONSTANT, value=[0,0,0]),\n",
        "    A.Normalize(mean=[0.485, 0.456, 0.406], std=[0.229, 0.224, 0.225]),\n",
        "    ToTensorV2()\n",
        "]\n",
        "\n",
        "# TTA: 4 views for speed (original, hflip, rot90, rot270) - reduced from 8 to avoid timeout\n",
        "tta_augs = [\n",
        "    [],  # original\n",
        "    [A.HorizontalFlip(p=1)],  # hflip\n",
        "    [A.Rotate(90, p=1)],  # rot90\n",
        "    [A.Rotate(270, p=1)]   # rot270\n",
        "]\n",
        "tta_transforms = [A.Compose(augs + base_transforms) for augs in tta_augs]\n",
        "\n",
        "# Load best EMA model correctly\n",
        "from torchvision.models import efficientnet_v2_s\n",
        "import torch.nn as nn\n",
        "new_model = efficientnet_v2_s(weights=None)\n",
        "if isinstance(new_model.classifier, nn.Sequential):\n",
        "    in_features = new_model.classifier[-1].in_features\n",
        "    new_model.classifier = nn.Sequential(nn.Dropout(p=0.2, inplace=True), nn.Linear(in_features, n_classes))\n",
        "else:\n",
        "    in_features = new_model.classifier.in_features\n",
        "    new_model.classifier = nn.Linear(in_features, n_classes)\n",
        "# Load full base state_dict (includes buffers)\n",
        "base_state = torch.load('best_model_full.pth', weights_only=False)\n",
        "new_model.load_state_dict(base_state)\n",
        "# Load EMA shadows and update parameters only\n",
        "ema_state = torch.load('best_ema_full.pth', weights_only=False)\n",
        "for key, value in ema_state.items():\n",
        "    if key in new_model.state_dict():\n",
        "        new_model.state_dict()[key].copy_(value)\n",
        "new_model.to(device).to(memory_format=torch.channels_last)\n",
        "new_model.eval()\n",
        "print('Model loaded for inference.')\n",
        "\n",
        "# Inference with TTA (reduced to 4x for speed)\n",
        "all_test_probs = torch.zeros(len(test_df), n_classes, device='cpu')  # cpu to save GPU mem\n",
        "num_tta = len(tta_transforms)\n",
        "print(f'Starting TTA inference with {num_tta} views on {len(test_df)} images.')\n",
        "with torch.no_grad():\n",
        "    for tta_idx, tta_trans in enumerate(tta_transforms):\n",
        "        print(f'TTA {tta_idx+1}/{num_tta} starting...')\n",
        "        tta_start = time.time()\n",
        "        tta_ds = TestDataset(test_df, transform=tta_trans)\n",
        "        tta_loader = DataLoader(tta_ds, batch_size=128, shuffle=False, num_workers=2, pin_memory=True, prefetch_factor=2)\n",
        "        tta_probs = torch.zeros(len(test_df), n_classes, device='cpu')\n",
        "        num_batches = len(tta_loader)\n",
        "        for i, imgs in enumerate(tta_loader):\n",
        "            if i == 0:\n",
        "                print(f'First batch loaded successfully, shape: {imgs.shape}')\n",
        "            imgs = imgs.to(device, non_blocking=True).to(memory_format=torch.channels_last)\n",
        "            with torch.amp.autocast('cuda'):\n",
        "                outputs = new_model(imgs)\n",
        "                adjusted = outputs - log_freq.unsqueeze(0)\n",
        "                probs = F.softmax(adjusted, dim=1)\n",
        "            tta_probs[i*128:(i+1)*128] = probs.cpu()\n",
        "            if i % 100 == 0:\n",
        "                elapsed = time.time() - tta_start\n",
        "                eta = (num_batches - i) * (elapsed / max(i, 1)) / 60\n",
        "                print(f'TTA {tta_idx+1}, Batch {i}/{num_batches}, ETA: {eta:.1f}min')\n",
        "        all_test_probs += tta_probs / num_tta\n",
        "        tta_time = time.time() - tta_start\n",
        "        print(f'TTA {tta_idx+1} completed in {tta_time/60:.1f}min')\n",
        "\n",
        "print('All TTA completed. Generating submission...')\n",
        "preds = all_test_probs.argmax(1)\n",
        "category_ids = [idx_to_cat[p.item()] for p in preds]\n",
        "submission = pd.DataFrame({'Id': range(len(test_df)), 'Predicted': category_ids})\n",
        "submission.to_csv('submission.csv', index=False)\n",
        "print('Submission saved with 4x TTA (fixed format: Id, Predicted).')\n",
        "print(f'Sample: {submission.head()}')\n",
        "print(f'Pred class distribution top 5: {Counter(category_ids).most_common(5)}')"
      ],
      "execution_count": null,
      "outputs": [
        {
          "output_type": "stream",
          "name": "stdout",
          "text": [
            "Sample test image loaded: shape (1000, 666, 3)\n"
          ]
        },
        {
          "output_type": "stream",
          "name": "stdout",
          "text": [
            "Model loaded for inference.\nStarting TTA inference with 4 views on 174052 images.\nTTA 1/4 starting...\n"
          ]
        },
        {
          "output_type": "stream",
          "name": "stdout",
          "text": [
            "First batch loaded successfully, shape: torch.Size([128, 3, 224, 224])\nTTA 1, Batch 0/1360, ETA: 36.4min\n"
          ]
        }
      ]
    },
    {
      "id": "61ea4ab3-97e6-402d-8aaf-7ccf26cf5723",
      "cell_type": "code",
      "metadata": {},
      "source": [
        "# Diagnose submission format\n",
        "sample_sub = pd.read_csv('sample_submission.csv')\n",
        "print('Sample submission head:')\n",
        "print(sample_sub.head())\n",
        "print('Sample columns:', sample_sub.columns.tolist())\n",
        "print('Sample image_id dtype:', sample_sub['image_id'].dtype)\n",
        "print('Sample image_id sample:', sample_sub['image_id'].iloc[0], type(sample_sub['image_id'].iloc[0]))\n",
        "\n",
        "current_sub = pd.read_csv('submission.csv')\n",
        "print('\\nCurrent submission head:')\n",
        "print(current_sub.head())\n",
        "print('Current columns:', current_sub.columns.tolist())\n",
        "print('Current image_id dtype:', current_sub['image_id'].dtype)\n",
        "print('Current image_id sample:', current_sub['image_id'].iloc[0], type(current_sub['image_id'].iloc[0]))\n",
        "\n",
        "print('\\nTest_df head:')\n",
        "print(test_df.head())\n",
        "print('Test image_id dtype:', test_df['image_id'].dtype)"
      ],
      "execution_count": 14,
      "outputs": [
        {
          "output_type": "stream",
          "name": "stdout",
          "text": [
            "Sample submission head:\n   Id  Predicted\n0   0         42\n1   1         42\n2   2         42\n3   3         42\n4   4         42\nSample columns: ['Id', 'Predicted']\n"
          ]
        },
        {
          "output_type": "error",
          "ename": "KeyError",
          "evalue": "'image_id'",
          "traceback": [
            "\u001b[31m---------------------------------------------------------------------------\u001b[39m",
            "\u001b[31mKeyError\u001b[39m                                  Traceback (most recent call last)",
            "\u001b[36mFile \u001b[39m\u001b[32m~/.pip-target/pandas/core/indexes/base.py:3812\u001b[39m, in \u001b[36mIndex.get_loc\u001b[39m\u001b[34m(self, key)\u001b[39m\n\u001b[32m   3811\u001b[39m \u001b[38;5;28;01mtry\u001b[39;00m:\n\u001b[32m-> \u001b[39m\u001b[32m3812\u001b[39m     \u001b[38;5;28;01mreturn\u001b[39;00m \u001b[38;5;28;43mself\u001b[39;49m\u001b[43m.\u001b[49m\u001b[43m_engine\u001b[49m\u001b[43m.\u001b[49m\u001b[43mget_loc\u001b[49m\u001b[43m(\u001b[49m\u001b[43mcasted_key\u001b[49m\u001b[43m)\u001b[49m\n\u001b[32m   3813\u001b[39m \u001b[38;5;28;01mexcept\u001b[39;00m \u001b[38;5;167;01mKeyError\u001b[39;00m \u001b[38;5;28;01mas\u001b[39;00m err:\n",
            "\u001b[36mFile \u001b[39m\u001b[32mpandas/_libs/index.pyx:167\u001b[39m, in \u001b[36mpandas._libs.index.IndexEngine.get_loc\u001b[39m\u001b[34m()\u001b[39m\n",
            "\u001b[36mFile \u001b[39m\u001b[32mpandas/_libs/index.pyx:196\u001b[39m, in \u001b[36mpandas._libs.index.IndexEngine.get_loc\u001b[39m\u001b[34m()\u001b[39m\n",
            "\u001b[36mFile \u001b[39m\u001b[32mpandas/_libs/hashtable_class_helper.pxi:7088\u001b[39m, in \u001b[36mpandas._libs.hashtable.PyObjectHashTable.get_item\u001b[39m\u001b[34m()\u001b[39m\n",
            "\u001b[36mFile \u001b[39m\u001b[32mpandas/_libs/hashtable_class_helper.pxi:7096\u001b[39m, in \u001b[36mpandas._libs.hashtable.PyObjectHashTable.get_item\u001b[39m\u001b[34m()\u001b[39m\n",
            "\u001b[31mKeyError\u001b[39m: 'image_id'",
            "\nThe above exception was the direct cause of the following exception:\n",
            "\u001b[31mKeyError\u001b[39m                                  Traceback (most recent call last)",
            "\u001b[36mCell\u001b[39m\u001b[36m \u001b[39m\u001b[32mIn[60]\u001b[39m\u001b[32m, line 6\u001b[39m\n\u001b[32m      4\u001b[39m \u001b[38;5;28mprint\u001b[39m(sample_sub.head())\n\u001b[32m      5\u001b[39m \u001b[38;5;28mprint\u001b[39m(\u001b[33m'\u001b[39m\u001b[33mSample columns:\u001b[39m\u001b[33m'\u001b[39m, sample_sub.columns.tolist())\n\u001b[32m----> \u001b[39m\u001b[32m6\u001b[39m \u001b[38;5;28mprint\u001b[39m(\u001b[33m'\u001b[39m\u001b[33mSample image_id dtype:\u001b[39m\u001b[33m'\u001b[39m, \u001b[43msample_sub\u001b[49m\u001b[43m[\u001b[49m\u001b[33;43m'\u001b[39;49m\u001b[33;43mimage_id\u001b[39;49m\u001b[33;43m'\u001b[39;49m\u001b[43m]\u001b[49m.dtype)\n\u001b[32m      7\u001b[39m \u001b[38;5;28mprint\u001b[39m(\u001b[33m'\u001b[39m\u001b[33mSample image_id sample:\u001b[39m\u001b[33m'\u001b[39m, sample_sub[\u001b[33m'\u001b[39m\u001b[33mimage_id\u001b[39m\u001b[33m'\u001b[39m].iloc[\u001b[32m0\u001b[39m], \u001b[38;5;28mtype\u001b[39m(sample_sub[\u001b[33m'\u001b[39m\u001b[33mimage_id\u001b[39m\u001b[33m'\u001b[39m].iloc[\u001b[32m0\u001b[39m]))\n\u001b[32m      9\u001b[39m current_sub = pd.read_csv(\u001b[33m'\u001b[39m\u001b[33msubmission.csv\u001b[39m\u001b[33m'\u001b[39m)\n",
            "\u001b[36mFile \u001b[39m\u001b[32m~/.pip-target/pandas/core/frame.py:4107\u001b[39m, in \u001b[36mDataFrame.__getitem__\u001b[39m\u001b[34m(self, key)\u001b[39m\n\u001b[32m   4105\u001b[39m \u001b[38;5;28;01mif\u001b[39;00m \u001b[38;5;28mself\u001b[39m.columns.nlevels > \u001b[32m1\u001b[39m:\n\u001b[32m   4106\u001b[39m     \u001b[38;5;28;01mreturn\u001b[39;00m \u001b[38;5;28mself\u001b[39m._getitem_multilevel(key)\n\u001b[32m-> \u001b[39m\u001b[32m4107\u001b[39m indexer = \u001b[38;5;28;43mself\u001b[39;49m\u001b[43m.\u001b[49m\u001b[43mcolumns\u001b[49m\u001b[43m.\u001b[49m\u001b[43mget_loc\u001b[49m\u001b[43m(\u001b[49m\u001b[43mkey\u001b[49m\u001b[43m)\u001b[49m\n\u001b[32m   4108\u001b[39m \u001b[38;5;28;01mif\u001b[39;00m is_integer(indexer):\n\u001b[32m   4109\u001b[39m     indexer = [indexer]\n",
            "\u001b[36mFile \u001b[39m\u001b[32m~/.pip-target/pandas/core/indexes/base.py:3819\u001b[39m, in \u001b[36mIndex.get_loc\u001b[39m\u001b[34m(self, key)\u001b[39m\n\u001b[32m   3814\u001b[39m     \u001b[38;5;28;01mif\u001b[39;00m \u001b[38;5;28misinstance\u001b[39m(casted_key, \u001b[38;5;28mslice\u001b[39m) \u001b[38;5;129;01mor\u001b[39;00m (\n\u001b[32m   3815\u001b[39m         \u001b[38;5;28misinstance\u001b[39m(casted_key, abc.Iterable)\n\u001b[32m   3816\u001b[39m         \u001b[38;5;129;01mand\u001b[39;00m \u001b[38;5;28many\u001b[39m(\u001b[38;5;28misinstance\u001b[39m(x, \u001b[38;5;28mslice\u001b[39m) \u001b[38;5;28;01mfor\u001b[39;00m x \u001b[38;5;129;01min\u001b[39;00m casted_key)\n\u001b[32m   3817\u001b[39m     ):\n\u001b[32m   3818\u001b[39m         \u001b[38;5;28;01mraise\u001b[39;00m InvalidIndexError(key)\n\u001b[32m-> \u001b[39m\u001b[32m3819\u001b[39m     \u001b[38;5;28;01mraise\u001b[39;00m \u001b[38;5;167;01mKeyError\u001b[39;00m(key) \u001b[38;5;28;01mfrom\u001b[39;00m\u001b[38;5;250m \u001b[39m\u001b[34;01merr\u001b[39;00m\n\u001b[32m   3820\u001b[39m \u001b[38;5;28;01mexcept\u001b[39;00m \u001b[38;5;167;01mTypeError\u001b[39;00m:\n\u001b[32m   3821\u001b[39m     \u001b[38;5;66;03m# If we have a listlike key, _check_indexing_error will raise\u001b[39;00m\n\u001b[32m   3822\u001b[39m     \u001b[38;5;66;03m#  InvalidIndexError. Otherwise we fall through and re-raise\u001b[39;00m\n\u001b[32m   3823\u001b[39m     \u001b[38;5;66;03m#  the TypeError.\u001b[39;00m\n\u001b[32m   3824\u001b[39m     \u001b[38;5;28mself\u001b[39m._check_indexing_error(key)\n",
            "\u001b[31mKeyError\u001b[39m: 'image_id'"
          ]
        }
      ]
    }
  ],
  "metadata": {
    "kernelspec": {
      "display_name": "Python 3",
      "language": "python",
      "name": "python3"
    },
    "language_info": {
      "name": "python",
      "version": "3.11.0rc1"
    }
  },
  "nbformat": 4,
  "nbformat_minor": 5
}