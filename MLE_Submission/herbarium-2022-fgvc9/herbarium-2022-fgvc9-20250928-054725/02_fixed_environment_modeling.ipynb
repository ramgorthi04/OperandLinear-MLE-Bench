{
  "cells": [
    {
      "id": "444aebec-150a-48e8-b090-50fc32c7f319",
      "cell_type": "code",
      "metadata": {},
      "source": [
        "%pip uninstall -y -q timm albumentations opencv-python opencv-contrib-python opencv-python-headless torch torchvision torchaudio nvidia-cublas-cu12 nvidia-cuda-nvrtc-cu12 nvidia-cuda-runtime-cu12 nvidia-cudnn-cu12\n",
        "%pip cache purge -q\n",
        "%pip install -q --no-cache-dir --upgrade --index-url https://download.pytorch.org/whl/cu121 torch==2.4.1+cu121 torchvision==0.19.1+cu121 torchaudio==2.4.1+cu121\n",
        "%pip install -q --no-cache-dir --no-deps timm==0.9.16 albumentations==1.4.17 opencv-python-headless==4.10.0.84 numpy==1.26.4 pandas==2.2.2 scikit-learn==1.5.2 scipy==1.13.1 einops==0.7.0\n",
        "from pathlib import Path\n",
        "Path('constraints_fixed.txt').write_text('''torch==2.4.1+cu121\\ntorchvision==0.19.1+cu121\\ntorchaudio==2.4.1+cu121\\ntimm==0.9.16\\nalbumentations==1.4.17\\nopencv-python-headless==4.10.0.84\\nnumpy==1.26.4\\npandas==2.2.2\\nscikit-learn==1.5.2\\nscipy==1.13.1''')\n",
        "print('Installation complete. Restart kernel next.')"
      ],
      "execution_count": null,
      "outputs": []
    },
    {
      "id": "1a353de2-bad8-46b0-8e25-6a17ca442e25",
      "cell_type": "code",
      "metadata": {},
      "source": [
        "import faulthandler\n",
        "faulthandler.enable()\n",
        "import sys\n",
        "import torch\n",
        "import torchvision\n",
        "import timm\n",
        "import albumentations as A\n",
        "import cv2\n",
        "print('Python:', sys.version)\n",
        "print('Torch:', torch.__version__, 'CUDA:', torch.version.cuda, 'Avail:', torch.cuda.is_available())\n",
        "print('GPU:', torch.cuda.get_device_name(0) if torch.cuda.is_available() else 'CPU')\n",
        "try:\n",
        "    print('timm version:', timm.__version__)\n",
        "except AttributeError:\n",
        "    print('timm version: unknown (no __version__ attribute)')\n",
        "print('has convnext fb:', 'convnext_base.fb_in22k_ft_in1k' in timm.list_models(pretrained=True))\n",
        "print('albumentations:', A.__version__, 'cv2:', cv2.__version__)"
      ],
      "execution_count": 2,
      "outputs": [
        {
          "output_type": "stream",
          "name": "stdout",
          "text": [
            "Python: 3.11.0rc1 (main, Aug 12 2022, 10:02:14) [GCC 11.2.0]\nTorch: 2.4.1+cu121 CUDA: 12.1 Avail: True\nGPU: NVIDIA A10-24Q\ntimm version: unknown (no __version__ attribute)\n"
          ]
        },
        {
          "output_type": "error",
          "ename": "AttributeError",
          "evalue": "module 'timm' has no attribute 'list_models'",
          "traceback": [
            "\u001b[31m---------------------------------------------------------------------------\u001b[39m",
            "\u001b[31mAttributeError\u001b[39m                            Traceback (most recent call last)",
            "\u001b[36mCell\u001b[39m\u001b[36m \u001b[39m\u001b[32mIn[4]\u001b[39m\u001b[32m, line 16\u001b[39m\n\u001b[32m     14\u001b[39m \u001b[38;5;28;01mexcept\u001b[39;00m \u001b[38;5;167;01mAttributeError\u001b[39;00m:\n\u001b[32m     15\u001b[39m     \u001b[38;5;28mprint\u001b[39m(\u001b[33m'\u001b[39m\u001b[33mtimm version: unknown (no __version__ attribute)\u001b[39m\u001b[33m'\u001b[39m)\n\u001b[32m---> \u001b[39m\u001b[32m16\u001b[39m \u001b[38;5;28mprint\u001b[39m(\u001b[33m'\u001b[39m\u001b[33mhas convnext fb:\u001b[39m\u001b[33m'\u001b[39m, \u001b[33m'\u001b[39m\u001b[33mconvnext_base.fb_in22k_ft_in1k\u001b[39m\u001b[33m'\u001b[39m \u001b[38;5;129;01min\u001b[39;00m \u001b[43mtimm\u001b[49m\u001b[43m.\u001b[49m\u001b[43mlist_models\u001b[49m(pretrained=\u001b[38;5;28;01mTrue\u001b[39;00m))\n\u001b[32m     17\u001b[39m \u001b[38;5;28mprint\u001b[39m(\u001b[33m'\u001b[39m\u001b[33malbumentations:\u001b[39m\u001b[33m'\u001b[39m, A.__version__, \u001b[33m'\u001b[39m\u001b[33mcv2:\u001b[39m\u001b[33m'\u001b[39m, cv2.__version__)\n",
            "\u001b[31mAttributeError\u001b[39m: module 'timm' has no attribute 'list_models'"
          ]
        }
      ]
    },
    {
      "id": "0d745f51-dceb-41d8-bfdd-da7215a312cd",
      "cell_type": "code",
      "metadata": {},
      "source": [
        "import subprocess\n",
        "import sys\n",
        "subprocess.run([sys.executable, '-m', 'pip', 'uninstall', '-y', 'timm'], check=True)\n",
        "subprocess.run([sys.executable, '-m', 'pip', 'install', '--no-cache-dir', '-c', 'constraints_fixed.txt', 'timm==0.9.16'], check=True)\n",
        "print('timm reinstalled with dependencies via constraints. Restart kernel next to apply.')"
      ],
      "execution_count": 4,
      "outputs": [
        {
          "output_type": "stream",
          "name": "stdout",
          "text": [
            "Found existing installation: timm 0.9.16\nUninstalling timm-0.9.16:\n  Successfully uninstalled timm-0.9.16\n"
          ]
        },
        {
          "output_type": "stream",
          "name": "stdout",
          "text": [
            "Collecting timm==0.9.16\n  Downloading timm-0.9.16-py3-none-any.whl (2.2 MB)\n     \u2501\u2501\u2501\u2501\u2501\u2501\u2501\u2501\u2501\u2501\u2501\u2501\u2501\u2501\u2501\u2501\u2501\u2501\u2501\u2501\u2501\u2501\u2501\u2501\u2501\u2501\u2501\u2501\u2501\u2501\u2501\u2501\u2501\u2501\u2501\u2501\u2501\u2501\u2501\u2501 2.2/2.2 MB 66.3 MB/s eta 0:00:00\nCollecting pyyaml\n  Downloading pyyaml-6.0.3-cp311-cp311-manylinux2014_x86_64.manylinux_2_17_x86_64.manylinux_2_28_x86_64.whl (806 kB)\n     \u2501\u2501\u2501\u2501\u2501\u2501\u2501\u2501\u2501\u2501\u2501\u2501\u2501\u2501\u2501\u2501\u2501\u2501\u2501\u2501\u2501\u2501\u2501\u2501\u2501\u2501\u2501\u2501\u2501\u2501\u2501\u2501\u2501\u2501\u2501\u2501\u2501 806.6/806.6 KB 401.7 MB/s eta 0:00:00\n"
          ]
        },
        {
          "output_type": "stream",
          "name": "stdout",
          "text": [
            "Collecting huggingface_hub\n  Downloading huggingface_hub-0.35.1-py3-none-any.whl (563 kB)\n     \u2501\u2501\u2501\u2501\u2501\u2501\u2501\u2501\u2501\u2501\u2501\u2501\u2501\u2501\u2501\u2501\u2501\u2501\u2501\u2501\u2501\u2501\u2501\u2501\u2501\u2501\u2501\u2501\u2501\u2501\u2501\u2501\u2501\u2501\u2501\u2501\u2501 563.3/563.3 KB 503.8 MB/s eta 0:00:00\n\nThe conflict is caused by:\n    timm 0.9.16 depends on torchvision\n    The user requested (constraint) torchvision==0.19.1+cu121\n\nTo fix this you could try to:\n1. loosen the range of package versions you've specified\n2. remove package versions to allow pip attempt to solve the dependency conflict\n\n"
          ]
        },
        {
          "output_type": "stream",
          "name": "stderr",
          "text": [
            "ERROR: Cannot install timm==0.9.16 because these package versions have conflicting dependencies.\nERROR: ResolutionImpossible: for help visit https://pip.pypa.io/en/latest/topics/dependency-resolution/#dealing-with-dependency-conflicts\n"
          ]
        },
        {
          "output_type": "error",
          "ename": "CalledProcessError",
          "evalue": "Command '['/usr/bin/python3.11', '-m', 'pip', 'install', '--no-cache-dir', '-c', 'constraints_fixed.txt', 'timm==0.9.16']' returned non-zero exit status 1.",
          "traceback": [
            "\u001b[31m---------------------------------------------------------------------------\u001b[39m",
            "\u001b[31mCalledProcessError\u001b[39m                        Traceback (most recent call last)",
            "\u001b[36mCell\u001b[39m\u001b[36m \u001b[39m\u001b[32mIn[6]\u001b[39m\u001b[32m, line 4\u001b[39m\n\u001b[32m      2\u001b[39m \u001b[38;5;28;01mimport\u001b[39;00m\u001b[38;5;250m \u001b[39m\u001b[34;01msys\u001b[39;00m\n\u001b[32m      3\u001b[39m subprocess.run([sys.executable, \u001b[33m'\u001b[39m\u001b[33m-m\u001b[39m\u001b[33m'\u001b[39m, \u001b[33m'\u001b[39m\u001b[33mpip\u001b[39m\u001b[33m'\u001b[39m, \u001b[33m'\u001b[39m\u001b[33muninstall\u001b[39m\u001b[33m'\u001b[39m, \u001b[33m'\u001b[39m\u001b[33m-y\u001b[39m\u001b[33m'\u001b[39m, \u001b[33m'\u001b[39m\u001b[33mtimm\u001b[39m\u001b[33m'\u001b[39m], check=\u001b[38;5;28;01mTrue\u001b[39;00m)\n\u001b[32m----> \u001b[39m\u001b[32m4\u001b[39m \u001b[43msubprocess\u001b[49m\u001b[43m.\u001b[49m\u001b[43mrun\u001b[49m\u001b[43m(\u001b[49m\u001b[43m[\u001b[49m\u001b[43msys\u001b[49m\u001b[43m.\u001b[49m\u001b[43mexecutable\u001b[49m\u001b[43m,\u001b[49m\u001b[43m \u001b[49m\u001b[33;43m'\u001b[39;49m\u001b[33;43m-m\u001b[39;49m\u001b[33;43m'\u001b[39;49m\u001b[43m,\u001b[49m\u001b[43m \u001b[49m\u001b[33;43m'\u001b[39;49m\u001b[33;43mpip\u001b[39;49m\u001b[33;43m'\u001b[39;49m\u001b[43m,\u001b[49m\u001b[43m \u001b[49m\u001b[33;43m'\u001b[39;49m\u001b[33;43minstall\u001b[39;49m\u001b[33;43m'\u001b[39;49m\u001b[43m,\u001b[49m\u001b[43m \u001b[49m\u001b[33;43m'\u001b[39;49m\u001b[33;43m--no-cache-dir\u001b[39;49m\u001b[33;43m'\u001b[39;49m\u001b[43m,\u001b[49m\u001b[43m \u001b[49m\u001b[33;43m'\u001b[39;49m\u001b[33;43m-c\u001b[39;49m\u001b[33;43m'\u001b[39;49m\u001b[43m,\u001b[49m\u001b[43m \u001b[49m\u001b[33;43m'\u001b[39;49m\u001b[33;43mconstraints_fixed.txt\u001b[39;49m\u001b[33;43m'\u001b[39;49m\u001b[43m,\u001b[49m\u001b[43m \u001b[49m\u001b[33;43m'\u001b[39;49m\u001b[33;43mtimm==0.9.16\u001b[39;49m\u001b[33;43m'\u001b[39;49m\u001b[43m]\u001b[49m\u001b[43m,\u001b[49m\u001b[43m \u001b[49m\u001b[43mcheck\u001b[49m\u001b[43m=\u001b[49m\u001b[38;5;28;43;01mTrue\u001b[39;49;00m\u001b[43m)\u001b[49m\n\u001b[32m      5\u001b[39m \u001b[38;5;28mprint\u001b[39m(\u001b[33m'\u001b[39m\u001b[33mtimm reinstalled with dependencies via constraints. Restart kernel next to apply.\u001b[39m\u001b[33m'\u001b[39m)\n",
            "\u001b[36mFile \u001b[39m\u001b[32m/usr/lib/python3.11/subprocess.py:569\u001b[39m, in \u001b[36mrun\u001b[39m\u001b[34m(input, capture_output, timeout, check, *popenargs, **kwargs)\u001b[39m\n\u001b[32m    567\u001b[39m     retcode = process.poll()\n\u001b[32m    568\u001b[39m     \u001b[38;5;28;01mif\u001b[39;00m check \u001b[38;5;129;01mand\u001b[39;00m retcode:\n\u001b[32m--> \u001b[39m\u001b[32m569\u001b[39m         \u001b[38;5;28;01mraise\u001b[39;00m CalledProcessError(retcode, process.args,\n\u001b[32m    570\u001b[39m                                  output=stdout, stderr=stderr)\n\u001b[32m    571\u001b[39m \u001b[38;5;28;01mreturn\u001b[39;00m CompletedProcess(process.args, retcode, stdout, stderr)\n",
            "\u001b[31mCalledProcessError\u001b[39m: Command '['/usr/bin/python3.11', '-m', 'pip', 'install', '--no-cache-dir', '-c', 'constraints_fixed.txt', 'timm==0.9.16']' returned non-zero exit status 1."
          ]
        }
      ]
    }
  ],
  "metadata": {
    "kernelspec": {
      "display_name": "Python 3",
      "language": "python",
      "name": "python3"
    },
    "language_info": {
      "name": "python",
      "version": "3.11.0rc1"
    }
  },
  "nbformat": 4,
  "nbformat_minor": 5
}