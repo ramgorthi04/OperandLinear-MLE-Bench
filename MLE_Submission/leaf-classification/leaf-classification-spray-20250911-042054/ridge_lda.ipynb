{
  "cells": [
    {
      "id": "9a2c4630-6c31-4f52-807a-df07abe81010",
      "cell_type": "code",
      "metadata": {},
      "source": [
        "# RidgeClassifier + Platt scaling and LDA(lsqr, shrinkage) on fixed 6-folds\n",
        "import numpy as np, pandas as pd, json, time\n",
        "from sklearn.preprocessing import StandardScaler, LabelEncoder\n",
        "from sklearn.metrics import log_loss\n",
        "from sklearn.linear_model import RidgeClassifier\n",
        "from sklearn.calibration import CalibratedClassifierCV\n",
        "from sklearn.discriminant_analysis import LinearDiscriminantAnalysis as LDA\n",
        "\n",
        "SEED = 2025\n",
        "np.random.seed(SEED)\n",
        "\n",
        "def clip_norm(P):\n",
        "    P = np.clip(P, 1e-15, 1-1e-15)\n",
        "    return P / P.sum(axis=1, keepdims=True)\n",
        "\n",
        "def save_probs_and_logits(prefix: str, oof: np.ndarray, test_pred: np.ndarray):\n",
        "    np.save(f'oof_{prefix}.npy', oof.astype(np.float32))\n",
        "    np.save(f'test_{prefix}.npy', test_pred.astype(np.float32))\n",
        "    oof_log = np.log(np.clip(oof, 1e-15, 1.0))\n",
        "    test_log = np.log(np.clip(test_pred, 1e-15, 1.0))\n",
        "    np.save(f'oof_{prefix}_logits.npy', oof_log.astype(np.float32))\n",
        "    np.save(f'test_{prefix}_logits.npy', test_log.astype(np.float32))\n",
        "    print(f'Saved oof_{prefix}.npy, test_{prefix}.npy and *_logits.npy', flush=True)\n",
        "\n",
        "# Load data and folds\n",
        "train = pd.read_csv('train.csv')\n",
        "test = pd.read_csv('test.csv')\n",
        "id_col = 'id'; target_col = 'species'\n",
        "feature_cols = [c for c in train.columns if c not in [id_col, target_col]]\n",
        "X = train[feature_cols].values.astype(np.float64, copy=True)\n",
        "X_test = test[feature_cols].values.astype(np.float64, copy=True)\n",
        "le = LabelEncoder()\n",
        "y = le.fit_transform(train[target_col].values)\n",
        "K = len(le.classes_)\n",
        "with open('folds_6.json', 'r') as f:\n",
        "    folds = [(np.array(a, dtype=np.int64), np.array(b, dtype=np.int64)) for a,b in json.load(f)]\n",
        "print('Data ready:', X.shape, X_test.shape, 'Classes:', K, 'Folds:', len(folds), flush=True)\n",
        "\n",
        "def run_ridge_platt(alphas=(0.5,1.0,2.0,5.0)):\n",
        "    print('Running RidgeClassifier + Platt scaling', flush=True)\n",
        "    best = (None, 1e9); best_oof=None; best_test=None\n",
        "    for a in alphas:\n",
        "        t0 = time.time()\n",
        "        oof = np.zeros((len(X), K), dtype=np.float64)\n",
        "        test_pred = np.zeros((len(X_test), K), dtype=np.float64)\n",
        "        for i, (trn_idx, val_idx) in enumerate(folds, 1):\n",
        "            sc = StandardScaler(with_mean=True, with_std=True)\n",
        "            X_tr = sc.fit_transform(X[trn_idx])\n",
        "            X_va = sc.transform(X[val_idx])\n",
        "            X_te = sc.transform(X_test)\n",
        "            clf = RidgeClassifier(alpha=a, tol=1e-6, max_iter=20000)\n",
        "            fstart = time.time()\n",
        "            clf.fit(X_tr, y[trn_idx])\n",
        "            # Calibrate on validation fold\n",
        "            cal = CalibratedClassifierCV(estimator=clf, method='sigmoid', cv='prefit')\n",
        "            cal.fit(X_va, y[val_idx])\n",
        "            P_va = cal.predict_proba(X_va)\n",
        "            P_te = cal.predict_proba(X_te)\n",
        "            oof[val_idx] = P_va\n",
        "            test_pred += P_te / len(folds)\n",
        "            print(f'  [Ridge fold {i}/{len(folds)}] alpha={a} time={time.time()-fstart:.2f}s', flush=True)\n",
        "        ll = log_loss(y, clip_norm(oof), labels=list(range(K)))\n",
        "        print(f'--> Ridge+Platt OOF={ll:.6f} | alpha={a} | time {time.time()-t0:.2f}s', flush=True)\n",
        "        if ll < best[1]:\n",
        "            best = (a, ll); best_oof=oof; best_test=test_pred\n",
        "    print('Best Ridge+Platt:', best, flush=True)\n",
        "    if best_oof is not None:\n",
        "        save_probs_and_logits('ridge_platt', best_oof, best_test)\n",
        "    return best, best_oof, best_test\n",
        "\n",
        "def run_lda_lsqr(shrinkages=('auto',), use_std=False):\n",
        "    print('Running LDA (lsqr) with shrinkage', flush=True)\n",
        "    best = (None, 1e9); best_oof=None; best_test=None\n",
        "    for sh in shrinkages:\n",
        "        t0 = time.time()\n",
        "        oof = np.zeros((len(X), K), dtype=np.float64)\n",
        "        test_pred = np.zeros((len(X_test), K), dtype=np.float64)\n",
        "        for i, (trn_idx, val_idx) in enumerate(folds, 1):\n",
        "            sc = StandardScaler(with_mean=True, with_std=bool(use_std))\n",
        "            X_tr = sc.fit_transform(X[trn_idx])\n",
        "            X_va = sc.transform(X[val_idx])\n",
        "            X_te = sc.transform(X_test)\n",
        "            clf = LDA(solver='lsqr', shrinkage=sh)\n",
        "            fstart = time.time()\n",
        "            clf.fit(X_tr, y[trn_idx])\n",
        "            P_va = clf.predict_proba(X_va)\n",
        "            P_te = clf.predict_proba(X_te)\n",
        "            oof[val_idx] = P_va\n",
        "            test_pred += P_te / len(folds)\n",
        "            print(f'  [LDA fold {i}/{len(folds)}] shrinkage={sh} time={time.time()-fstart:.2f}s', flush=True)\n",
        "        ll = log_loss(y, clip_norm(oof), labels=list(range(K)))\n",
        "        print(f'--> LDA OOF={ll:.6f} | shrinkage={sh} | time {time.time()-t0:.2f}s', flush=True)\n",
        "        if ll < best[1]:\n",
        "            best = (sh, ll); best_oof=oof; best_test=test_pred\n",
        "    print('Best LDA:', best, flush=True)\n",
        "    if best_oof is not None:\n",
        "        save_probs_and_logits('lda_lsqr', best_oof, best_test)\n",
        "    return best, best_oof, best_test\n",
        "\n",
        "# Run both models\n",
        "best_ridge, oof_ridge, test_ridge = run_ridge_platt(alphas=(0.5,1.0,2.0,5.0))\n",
        "best_lda, oof_lda, test_lda = run_lda_lsqr(shrinkages=('auto',), use_std=False)\n",
        "print('Done. Best Ridge:', best_ridge, '| Best LDA:', best_lda)"
      ],
      "execution_count": 2,
      "outputs": [
        {
          "output_type": "stream",
          "name": "stdout",
          "text": [
            "Data ready: (891, 192) (99, 192) Classes: 99 Folds: 6\n"
          ]
        },
        {
          "output_type": "stream",
          "name": "stdout",
          "text": [
            "Running RidgeClassifier + Platt scaling\n"
          ]
        },
        {
          "output_type": "stream",
          "name": "stdout",
          "text": [
            "  [Ridge fold 1/6] alpha=0.5 time=0.22s\n"
          ]
        },
        {
          "output_type": "stream",
          "name": "stdout",
          "text": [
            "  [Ridge fold 2/6] alpha=0.5 time=0.22s\n"
          ]
        },
        {
          "output_type": "stream",
          "name": "stdout",
          "text": [
            "  [Ridge fold 3/6] alpha=0.5 time=0.22s\n"
          ]
        },
        {
          "output_type": "stream",
          "name": "stdout",
          "text": [
            "  [Ridge fold 4/6] alpha=0.5 time=0.21s\n"
          ]
        },
        {
          "output_type": "stream",
          "name": "stdout",
          "text": [
            "  [Ridge fold 5/6] alpha=0.5 time=0.22s\n"
          ]
        },
        {
          "output_type": "stream",
          "name": "stdout",
          "text": [
            "  [Ridge fold 6/6] alpha=0.5 time=0.23s\n"
          ]
        },
        {
          "output_type": "stream",
          "name": "stdout",
          "text": [
            "--> Ridge+Platt OOF=1.080926 | alpha=0.5 | time 1.35s\n"
          ]
        },
        {
          "output_type": "stream",
          "name": "stdout",
          "text": [
            "  [Ridge fold 1/6] alpha=1.0 time=0.21s\n"
          ]
        },
        {
          "output_type": "stream",
          "name": "stdout",
          "text": [
            "  [Ridge fold 2/6] alpha=1.0 time=0.24s\n"
          ]
        },
        {
          "output_type": "stream",
          "name": "stdout",
          "text": [
            "  [Ridge fold 3/6] alpha=1.0 time=0.21s\n"
          ]
        },
        {
          "output_type": "stream",
          "name": "stdout",
          "text": [
            "  [Ridge fold 4/6] alpha=1.0 time=0.21s\n"
          ]
        },
        {
          "output_type": "stream",
          "name": "stdout",
          "text": [
            "  [Ridge fold 5/6] alpha=1.0 time=0.21s\n"
          ]
        },
        {
          "output_type": "stream",
          "name": "stdout",
          "text": [
            "  [Ridge fold 6/6] alpha=1.0 time=0.21s\n"
          ]
        },
        {
          "output_type": "stream",
          "name": "stdout",
          "text": [
            "--> Ridge+Platt OOF=1.069397 | alpha=1.0 | time 1.31s\n"
          ]
        },
        {
          "output_type": "stream",
          "name": "stdout",
          "text": [
            "  [Ridge fold 1/6] alpha=2.0 time=0.22s\n"
          ]
        },
        {
          "output_type": "stream",
          "name": "stdout",
          "text": [
            "  [Ridge fold 2/6] alpha=2.0 time=0.22s\n"
          ]
        },
        {
          "output_type": "stream",
          "name": "stdout",
          "text": [
            "  [Ridge fold 3/6] alpha=2.0 time=0.21s\n"
          ]
        },
        {
          "output_type": "stream",
          "name": "stdout",
          "text": [
            "  [Ridge fold 4/6] alpha=2.0 time=0.20s\n"
          ]
        },
        {
          "output_type": "stream",
          "name": "stdout",
          "text": [
            "  [Ridge fold 5/6] alpha=2.0 time=0.20s\n"
          ]
        },
        {
          "output_type": "stream",
          "name": "stdout",
          "text": [
            "  [Ridge fold 6/6] alpha=2.0 time=0.21s\n"
          ]
        },
        {
          "output_type": "stream",
          "name": "stdout",
          "text": [
            "--> Ridge+Platt OOF=1.058868 | alpha=2.0 | time 1.29s\n"
          ]
        },
        {
          "output_type": "stream",
          "name": "stdout",
          "text": [
            "  [Ridge fold 1/6] alpha=5.0 time=0.20s\n"
          ]
        },
        {
          "output_type": "stream",
          "name": "stdout",
          "text": [
            "  [Ridge fold 2/6] alpha=5.0 time=0.22s\n"
          ]
        },
        {
          "output_type": "stream",
          "name": "stdout",
          "text": [
            "  [Ridge fold 3/6] alpha=5.0 time=0.22s\n"
          ]
        },
        {
          "output_type": "stream",
          "name": "stdout",
          "text": [
            "  [Ridge fold 4/6] alpha=5.0 time=0.22s\n"
          ]
        },
        {
          "output_type": "stream",
          "name": "stdout",
          "text": [
            "  [Ridge fold 5/6] alpha=5.0 time=0.23s\n"
          ]
        },
        {
          "output_type": "stream",
          "name": "stdout",
          "text": [
            "  [Ridge fold 6/6] alpha=5.0 time=0.22s\n"
          ]
        },
        {
          "output_type": "stream",
          "name": "stdout",
          "text": [
            "--> Ridge+Platt OOF=1.046777 | alpha=5.0 | time 1.36s\n"
          ]
        },
        {
          "output_type": "stream",
          "name": "stdout",
          "text": [
            "Best Ridge+Platt: (5.0, 1.0467774535782812)\n"
          ]
        },
        {
          "output_type": "stream",
          "name": "stdout",
          "text": [
            "Saved oof_ridge_platt.npy, test_ridge_platt.npy and *_logits.npy\n"
          ]
        },
        {
          "output_type": "stream",
          "name": "stdout",
          "text": [
            "Running LDA (lsqr) with shrinkage\n"
          ]
        },
        {
          "output_type": "stream",
          "name": "stdout",
          "text": [
            "  [LDA fold 1/6] shrinkage=auto time=0.22s\n"
          ]
        },
        {
          "output_type": "stream",
          "name": "stdout",
          "text": [
            "  [LDA fold 2/6] shrinkage=auto time=0.23s\n"
          ]
        },
        {
          "output_type": "stream",
          "name": "stdout",
          "text": [
            "  [LDA fold 3/6] shrinkage=auto time=0.24s\n"
          ]
        },
        {
          "output_type": "stream",
          "name": "stdout",
          "text": [
            "  [LDA fold 4/6] shrinkage=auto time=0.24s\n"
          ]
        },
        {
          "output_type": "stream",
          "name": "stdout",
          "text": [
            "  [LDA fold 5/6] shrinkage=auto time=0.23s\n"
          ]
        },
        {
          "output_type": "stream",
          "name": "stdout",
          "text": [
            "  [LDA fold 6/6] shrinkage=auto time=0.24s\n"
          ]
        },
        {
          "output_type": "stream",
          "name": "stdout",
          "text": [
            "--> LDA OOF=1.002910 | shrinkage=auto | time 1.45s\n"
          ]
        },
        {
          "output_type": "stream",
          "name": "stdout",
          "text": [
            "Best LDA: ('auto', 1.0029097252880086)\n"
          ]
        },
        {
          "output_type": "stream",
          "name": "stdout",
          "text": [
            "Saved oof_lda_lsqr.npy, test_lda_lsqr.npy and *_logits.npy\n"
          ]
        },
        {
          "output_type": "stream",
          "name": "stdout",
          "text": [
            "Done. Best Ridge: (5.0, 1.0467774535782812) | Best LDA: ('auto', 1.0029097252880086)\n"
          ]
        }
      ]
    }
  ],
  "metadata": {
    "kernelspec": {
      "display_name": "Python 3",
      "language": "python",
      "name": "python3"
    },
    "language_info": {
      "name": "python",
      "version": "3.11.0rc1"
    }
  },
  "nbformat": 4,
  "nbformat_minor": 5
}