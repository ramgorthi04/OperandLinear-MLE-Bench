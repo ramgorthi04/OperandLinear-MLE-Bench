{
  "cells": [
    {
      "id": "4a1905bb-e080-443e-8986-72ecfcaeb7b2",
      "cell_type": "code",
      "metadata": {},
      "source": [
        "# Elastic-Net Logistic Regression (saga) with StandardScaler on fixed 6-folds\n",
        "import numpy as np, pandas as pd, json, time\n",
        "from sklearn.preprocessing import StandardScaler\n",
        "from sklearn.linear_model import LogisticRegression\n",
        "from sklearn.metrics import log_loss\n",
        "\n",
        "SEED = 2025\n",
        "train = pd.read_csv('train.csv')\n",
        "test = pd.read_csv('test.csv')\n",
        "from sklearn.preprocessing import LabelEncoder\n",
        "le = LabelEncoder()\n",
        "y = le.fit_transform(train['species'].values)\n",
        "id_col = 'id'; target_col = 'species'\n",
        "feature_cols = [c for c in train.columns if c not in [id_col, target_col]]\n",
        "X = train[feature_cols].values.astype(np.float64)\n",
        "X_test = test[feature_cols].values.astype(np.float64)\n",
        "K = len(le.classes_)\n",
        "with open('folds_6.json', 'r') as f:\n",
        "    folds = json.load(f)\n",
        "\n",
        "def clip_norm(P):\n",
        "    P = np.clip(P, 1e-15, 1-1e-15)\n",
        "    return P / P.sum(axis=1, keepdims=True)\n",
        "\n",
        "def run_enet_lr(Cs=(15,20,25,30,35,40,50,60,80), l1_ratios=(0.05,0.1)):\n",
        "    best = (None, 1e9); best_oof=None; best_test=None\n",
        "    for l1r in l1_ratios:\n",
        "        for C in Cs:\n",
        "            oof = np.zeros((len(X), K), dtype=np.float64)\n",
        "            test_pred = np.zeros((len(X_test), K), dtype=np.float64)\n",
        "            t0 = time.time()\n",
        "            for i, (trn_idx, val_idx) in enumerate(folds, 1):\n",
        "                trn_idx = np.array(trn_idx); val_idx = np.array(val_idx)\n",
        "                sc = StandardScaler()\n",
        "                X_tr = sc.fit_transform(X[trn_idx])\n",
        "                X_va = sc.transform(X[val_idx])\n",
        "                X_te = sc.transform(X_test)\n",
        "                clf = LogisticRegression(multi_class='multinomial', solver='saga', penalty='elasticnet', l1_ratio=l1r, C=C, max_iter=8000, tol=1e-4, random_state=SEED)\n",
        "                fstart = time.time()\n",
        "                clf.fit(X_tr, y[trn_idx])\n",
        "                P_va = clf.predict_proba(X_va)\n",
        "                oof[val_idx] = P_va\n",
        "                test_pred += clf.predict_proba(X_te) / len(folds)\n",
        "                print(f'[ENet LR fold {i}/{len(folds)}] C={C}, l1r={l1r}, time={time.time()-fstart:.2f}s', flush=True)\n",
        "            ll = log_loss(y, clip_norm(oof), labels=list(range(K)))\n",
        "            print(f'ENet LR OOF: {ll:.6f} | C={C}, l1r={l1r} in {time.time()-t0:.2f}s', flush=True)\n",
        "            if ll < best[1]:\n",
        "                best = ((C, l1r), ll); best_oof=oof; best_test=test_pred\n",
        "    print('Best ENet LR:', best)\n",
        "    return best, best_oof, best_test\n",
        "\n",
        "best_enet, oof_enet, test_enet = run_enet_lr()\n",
        "np.save('oof_enet_lr.npy', oof_enet)\n",
        "np.save('test_enet_lr.npy', test_enet)\n",
        "print('Saved oof_enet_lr.npy and test_enet_lr.npy')"
      ],
      "execution_count": 1,
      "outputs": [
        {
          "output_type": "stream",
          "name": "stderr",
          "text": [
            "/usr/local/lib/python3.11/dist-packages/sklearn/linear_model/_logistic.py:1247: FutureWarning: 'multi_class' was deprecated in version 1.5 and will be removed in 1.7. From then on, it will always use 'multinomial'. Leave it to its default value to avoid this warning.\n  warnings.warn(\n"
          ]
        },
        {
          "output_type": "stream",
          "name": "stdout",
          "text": [
            "[ENet LR fold 1/6] C=15, l1r=0.05, time=189.39s\n"
          ]
        },
        {
          "output_type": "stream",
          "name": "stderr",
          "text": [
            "/usr/local/lib/python3.11/dist-packages/sklearn/linear_model/_logistic.py:1247: FutureWarning: 'multi_class' was deprecated in version 1.5 and will be removed in 1.7. From then on, it will always use 'multinomial'. Leave it to its default value to avoid this warning.\n  warnings.warn(\n"
          ]
        },
        {
          "output_type": "stream",
          "name": "stdout",
          "text": [
            "[ENet LR fold 2/6] C=15, l1r=0.05, time=199.44s\n"
          ]
        },
        {
          "output_type": "stream",
          "name": "stderr",
          "text": [
            "/usr/local/lib/python3.11/dist-packages/sklearn/linear_model/_logistic.py:1247: FutureWarning: 'multi_class' was deprecated in version 1.5 and will be removed in 1.7. From then on, it will always use 'multinomial'. Leave it to its default value to avoid this warning.\n  warnings.warn(\n"
          ]
        }
      ]
    }
  ],
  "metadata": {
    "kernelspec": {
      "display_name": "Python 3",
      "language": "python",
      "name": "python3"
    },
    "language_info": {
      "name": "python",
      "version": "3.11.0rc1"
    }
  },
  "nbformat": 4,
  "nbformat_minor": 5
}