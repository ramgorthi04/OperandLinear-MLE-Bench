{
  "cells": [
    {
      "id": "d5a71d02-4ff5-4cae-bb3f-386b1344280e",
      "cell_type": "code",
      "metadata": {},
      "source": [
        "# Immediate diagnostics for Hellinger pipeline BEFORE any model retraining\n",
        "import numpy as np, pandas as pd, json, time, sys\n",
        "from sklearn.preprocessing import LabelEncoder, normalize\n",
        "from sklearn.metrics import log_loss\n",
        "from sklearn.neighbors import KNeighborsClassifier, NearestNeighbors\n",
        "\n",
        "np.set_printoptions(linewidth=140, suppress=True)\n",
        "SEED = 2025\n",
        "id_col = 'id'; target_col = 'species'\n",
        "\n",
        "# Load data\n",
        "train = pd.read_csv('train.csv')\n",
        "test = pd.read_csv('test.csv')\n",
        "with open('ordered_cols.json', 'r') as f:\n",
        "    ordered_cols = json.load(f)\n",
        "\n",
        "# Assert column equality and order\n",
        "assert list(train[ordered_cols].columns) == ordered_cols, 'Train columns do not match ordered_cols'\n",
        "assert list(test[ordered_cols].columns) == ordered_cols, 'Test columns do not match ordered_cols'\n",
        "\n",
        "feature_cols = ordered_cols\n",
        "X_df = train[feature_cols].copy()\n",
        "X_test_df = test[feature_cols].copy()\n",
        "X = X_df.values.astype(np.float64, copy=True)\n",
        "X_test = X_test_df.values.astype(np.float64, copy=True)\n",
        "le = LabelEncoder()\n",
        "y = le.fit_transform(train[target_col].values)\n",
        "K = len(le.classes_)\n",
        "\n",
        "# Build block indices by prefix\n",
        "def idxs_for_prefix(cols, pref):\n",
        "    return np.array([i for i,c in enumerate(cols) if c.startswith(pref)], dtype=np.int64)\n",
        "\n",
        "blk_idx = {\n",
        "    'margin': idxs_for_prefix(feature_cols, 'margin'),\n",
        "    'shape': idxs_for_prefix(feature_cols, 'shape'),\n",
        "    'texture': idxs_for_prefix(feature_cols, 'texture'),\n",
        "}\n",
        "print('Block lengths:', {k: len(v) for k,v in blk_idx.items()})\n",
        "assert all(len(blk_idx[b])==64 for b in ['margin','shape','texture']), 'Expected 64 dims per block'\n",
        "\n",
        "# Raw data checks\n",
        "print(f'Raw X: min={X.min():.6f}, max={X.max():.6f}, <0: {(X<0).sum()}, =0: {(X==0).sum()}')\n",
        "for b in ['margin','shape','texture']:\n",
        "    Xi = X[:, blk_idx[b]]\n",
        "    print(f'{b}: min={Xi.min():.6f}, max={Xi.max():.6f}, mean={Xi.mean():.6f}')\n",
        "\n",
        "# Hellinger per-block builder with pre-L1/block-sum diagnostics\n",
        "def hellinger_per_block(X_in, blk_idx, eps=0.0, do_gl2=False, verbose=True):\n",
        "    Xh_parts = []\n",
        "    for b in ['margin','shape','texture']:\n",
        "        cols = blk_idx[b]\n",
        "        Xi = X_in[:, cols].copy()\n",
        "        pre_clip_neg = int((Xi < 0).sum())\n",
        "        if eps > 0:\n",
        "            Xi += eps\n",
        "        np.maximum(Xi, 0.0, out=Xi)\n",
        "        s_raw = Xi.sum(axis=1, keepdims=True)\n",
        "        if verbose:\n",
        "            print(f'Block {b}: pre-clip negatives={pre_clip_neg}, sum=0 rows: {int((s_raw[:,0]==0).sum())}, sum<0.1: {int((s_raw[:,0]<0.1).sum())}')\n",
        "        # L1\n",
        "        s = s_raw.copy()\n",
        "        s[s==0] = 1.0\n",
        "        Xi = Xi / s\n",
        "        # sqrt\n",
        "        np.sqrt(Xi, out=Xi)\n",
        "        # each block now has L2 norm = 1 (by construction) if original s>0\n",
        "        Xh_parts.append(Xi)\n",
        "    Xh = np.concatenate(Xh_parts, axis=1)\n",
        "    if do_gl2:\n",
        "        # Global L2 over concatenated vector\n",
        "        norms = np.linalg.norm(Xh, axis=1, keepdims=True)\n",
        "        norms[norms==0] = 1.0\n",
        "        Xh = Xh / norms\n",
        "    return Xh\n",
        "\n",
        "# Build GL2 features for KNN parity sanity\n",
        "Xh_gl2 = hellinger_per_block(X, blk_idx, eps=0.0, do_gl2=True, verbose=True)\n",
        "\n",
        "# KNN parity sanity: cosine vs euclidean on unit-norm data should tie\n",
        "def knn_oof_logloss(Xmat, y, metric='cosine', n_neighbors=5, weights='distance', folds_path='folds_6.json'):\n",
        "    with open(folds_path, 'r') as f:\n",
        "        folds = [(np.array(a, dtype=np.int64), np.array(b, dtype=np.int64)) for a,b in json.load(f)]\n",
        "    oof = np.zeros((len(Xmat), K), dtype=np.float64)\n",
        "    for i, (trn_idx, val_idx) in enumerate(folds, 1):\n",
        "        clf = KNeighborsClassifier(n_neighbors=n_neighbors, metric=metric, weights=weights, algorithm='brute')\n",
        "        t0 = time.time()\n",
        "        clf.fit(Xmat[trn_idx], y[trn_idx])\n",
        "        P = clf.predict_proba(Xmat[val_idx])\n",
        "        oof[val_idx] = P\n",
        "        print(f'[KNN {metric} fold {i}/{len(folds)}] time={time.time()-t0:.2f}s', flush=True)\n",
        "    oof = np.clip(oof, 1e-15, 1-1e-15); oof /= oof.sum(axis=1, keepdims=True)\n",
        "    return log_loss(y, oof, labels=list(range(K)))\n",
        "\n",
        "print('Running KNN parity sanity on GL2 features (should tie):')\n",
        "ll_cos = knn_oof_logloss(Xh_gl2, y, metric='cosine', n_neighbors=5, weights='distance')\n",
        "ll_euc = knn_oof_logloss(Xh_gl2, y, metric='euclidean', n_neighbors=5, weights='distance')\n",
        "print(f'KNN OOF logloss | cosine={ll_cos:.6f} | euclidean={ll_euc:.6f}')\n",
        "\n",
        "# Self-neighbor sanity on 200-row subset (cosine), expect high same-class rate\n",
        "n_check = min(200, Xh_gl2.shape[0])\n",
        "rng = np.random.default_rng(SEED)\n",
        "idx_sub = rng.choice(Xh_gl2.shape[0], size=n_check, replace=False)\n",
        "nn = NearestNeighbors(n_neighbors=2, metric='cosine', algorithm='brute')\n",
        "nn.fit(Xh_gl2)\n",
        "dists, inds = nn.kneighbors(Xh_gl2[idx_sub], n_neighbors=2, return_distance=True)\n",
        "nbrs = inds[:,1]  # exclude self at position 0\n",
        "match = (y[idx_sub] == y[nbrs]).mean()\n",
        "print(f'Self-neighbor sanity (cosine, GL2): match rate over {n_check} subs = {match:.4f} (random ~0.0101)')\n",
        "\n",
        "print('Diagnostics complete.')"
      ],
      "execution_count": 10,
      "outputs": [
        {
          "output_type": "stream",
          "name": "stdout",
          "text": [
            "Block lengths: {'margin': 64, 'shape': 64, 'texture': 64}\nRaw X: min=0.000000, max=0.853520, <0: 0, =0: 35108\nmargin: min=0.000000, max=0.388670, mean=0.015625\nshape: min=0.000022, max=0.003007, mean=0.000607\ntexture: min=0.000000, max=0.853520, mean=0.015625\nBlock margin: pre-clip negatives=0, sum=0 rows: 0, sum<0.1: 0\nBlock shape: pre-clip negatives=0, sum=0 rows: 0, sum<0.1: 886\nBlock texture: pre-clip negatives=0, sum=0 rows: 0, sum<0.1: 0\nRunning KNN parity sanity on GL2 features (should tie):\n[KNN cosine fold 1/6] time=0.01s\n"
          ]
        },
        {
          "output_type": "stream",
          "name": "stdout",
          "text": [
            "[KNN cosine fold 2/6] time=0.01s\n"
          ]
        },
        {
          "output_type": "stream",
          "name": "stdout",
          "text": [
            "[KNN cosine fold 3/6] time=0.01s\n"
          ]
        },
        {
          "output_type": "stream",
          "name": "stdout",
          "text": [
            "[KNN cosine fold 4/6] time=0.01s\n"
          ]
        },
        {
          "output_type": "stream",
          "name": "stdout",
          "text": [
            "[KNN cosine fold 5/6] time=0.01s\n"
          ]
        },
        {
          "output_type": "stream",
          "name": "stdout",
          "text": [
            "[KNN cosine fold 6/6] time=0.01s\n"
          ]
        },
        {
          "output_type": "stream",
          "name": "stdout",
          "text": [
            "[KNN euclidean fold 1/6] time=0.11s\n"
          ]
        },
        {
          "output_type": "stream",
          "name": "stdout",
          "text": [
            "[KNN euclidean fold 2/6] time=0.00s\n"
          ]
        },
        {
          "output_type": "stream",
          "name": "stdout",
          "text": [
            "[KNN euclidean fold 3/6] time=0.01s\n"
          ]
        },
        {
          "output_type": "stream",
          "name": "stdout",
          "text": [
            "[KNN euclidean fold 4/6] time=0.00s\n"
          ]
        },
        {
          "output_type": "stream",
          "name": "stdout",
          "text": [
            "[KNN euclidean fold 5/6] time=0.01s\n"
          ]
        },
        {
          "output_type": "stream",
          "name": "stdout",
          "text": [
            "[KNN euclidean fold 6/6] time=0.01s\n"
          ]
        },
        {
          "output_type": "stream",
          "name": "stdout",
          "text": [
            "KNN OOF logloss | cosine=0.624010 | euclidean=0.641695\nSelf-neighbor sanity (cosine, GL2): match rate over 200 subs = 0.9700 (random ~0.0101)\nDiagnostics complete.\n"
          ]
        }
      ]
    },
    {
      "id": "32927142-180a-4a56-8b76-fd19f8c5fc54",
      "cell_type": "code",
      "metadata": {},
      "source": [
        "# Variant A (FIXED): no global L2, per-fold StandardScaler(mean+std), LR lbfgs multinomial, intercept=True\n",
        "import time, json\n",
        "from sklearn.preprocessing import StandardScaler\n",
        "from sklearn.linear_model import LogisticRegression\n",
        "from sklearn.metrics import log_loss\n",
        "\n",
        "def clip_norm(P):\n",
        "    P = np.clip(P, 1e-15, 1-1e-15)\n",
        "    return P / P.sum(axis=1, keepdims=True)\n",
        "\n",
        "def save_probs_and_logits(prefix: str, oof: np.ndarray, test_pred: np.ndarray):\n",
        "    np.save(f'oof_{prefix}.npy', oof.astype(np.float32))\n",
        "    np.save(f'test_{prefix}.npy', test_pred.astype(np.float32))\n",
        "    oof_log = np.log(np.clip(oof, 1e-15, 1.0))\n",
        "    test_log = np.log(np.clip(test_pred, 1e-15, 1.0))\n",
        "    np.save(f'oof_{prefix}_logits.npy', oof_log.astype(np.float32))\n",
        "    np.save(f'test_{prefix}_logits.npy', test_log.astype(np.float32))\n",
        "    print(f'Saved oof_{prefix}.npy, test_{prefix}.npy and *_logits.npy', flush=True)\n",
        "\n",
        "# Build Hellinger features WITHOUT global L2\n",
        "Xh_nol2 = hellinger_per_block(X, blk_idx, eps=0.0, do_gl2=False, verbose=False)\n",
        "Xh_te_nol2 = hellinger_per_block(X_test, blk_idx, eps=0.0, do_gl2=False, verbose=False)\n",
        "print('Hellinger(no GL2) shapes:', Xh_nol2.shape, Xh_te_nol2.shape, flush=True)\n",
        "\n",
        "# Load fixed 6-folds\n",
        "with open('folds_6.json', 'r') as f:\n",
        "    folds = [(np.array(a, dtype=np.int64), np.array(b, dtype=np.int64)) for a,b in json.load(f)]\n",
        "print('Folds loaded:', len(folds), flush=True)\n",
        "\n",
        "def run_variant_A_fixed(Cs=(20, 30, 50, 80, 120, 200, 300, 500, 1000, 2000, 5000, 10000, 20000), seed=2025):\n",
        "    best = (None, 1e9); best_oof=None; best_test=None\n",
        "    for C in Cs:\n",
        "        t0 = time.time()\n",
        "        oof = np.zeros((len(Xh_nol2), K), dtype=np.float64)\n",
        "        test_pred = np.zeros((len(Xh_te_nol2), K), dtype=np.float64)\n",
        "        for i, (trn_idx, val_idx) in enumerate(folds, 1):\n",
        "            sc = StandardScaler(with_mean=True, with_std=True)\n",
        "            X_tr = sc.fit_transform(Xh_nol2[trn_idx])\n",
        "            X_va = sc.transform(Xh_nol2[val_idx])\n",
        "            X_te = sc.transform(Xh_te_nol2)\n",
        "            clf = LogisticRegression(multi_class='multinomial', solver='lbfgs', penalty='l2', fit_intercept=True, C=C, max_iter=10000, tol=1e-8, random_state=seed)\n",
        "            fstart = time.time()\n",
        "            clf.fit(X_tr, y[trn_idx])\n",
        "            oof[val_idx] = clf.predict_proba(X_va)\n",
        "            test_pred += clf.predict_proba(X_te) / len(folds)\n",
        "            print(f'[VarA-noGL2 fold {i}/{len(folds)}] C={C} time={time.time()-fstart:.2f}s', flush=True)\n",
        "        ll = log_loss(y, clip_norm(oof), labels=list(range(K)))\n",
        "        print(f'--> VarA-noGL2 OOF={ll:.6f} | C={C} | time {time.time()-t0:.2f}s', flush=True)\n",
        "        if ll < best[1]:\n",
        "            best = (C, ll); best_oof=oof; best_test=test_pred\n",
        "    print('Best VarA-noGL2:', best, flush=True)\n",
        "    if best_oof is not None:\n",
        "        save_probs_and_logits('hell_varA_noGL2', best_oof, best_test)\n",
        "    return best, best_oof, best_test\n",
        "\n",
        "print('Variant A (fixed) ready. To run: bestA, oofA, testA = run_variant_A_fixed()')"
      ],
      "execution_count": 11,
      "outputs": [
        {
          "output_type": "stream",
          "name": "stdout",
          "text": [
            "Hellinger(no GL2) shapes: (891, 192) (99, 192)\n"
          ]
        },
        {
          "output_type": "stream",
          "name": "stdout",
          "text": [
            "Folds loaded: 6\n"
          ]
        },
        {
          "output_type": "stream",
          "name": "stdout",
          "text": [
            "Variant A (fixed) ready. To run: bestA, oofA, testA = run_variant_A_fixed()\n"
          ]
        }
      ]
    },
    {
      "id": "7f7fe9fe-3bf9-462b-a987-f16d85c2ac8b",
      "cell_type": "code",
      "metadata": {},
      "source": [
        "# Execute Variant A (fixed) grid search and save outputs\n",
        "bestA, oofA, testA = run_variant_A_fixed()\n",
        "print('BestA:', bestA)"
      ],
      "execution_count": 12,
      "outputs": [
        {
          "output_type": "stream",
          "name": "stderr",
          "text": [
            "/usr/local/lib/python3.11/dist-packages/sklearn/linear_model/_logistic.py:1247: FutureWarning: 'multi_class' was deprecated in version 1.5 and will be removed in 1.7. From then on, it will always use 'multinomial'. Leave it to its default value to avoid this warning.\n  warnings.warn(\n"
          ]
        },
        {
          "output_type": "stream",
          "name": "stdout",
          "text": [
            "[VarA-noGL2 fold 1/6] C=20 time=3.78s\n"
          ]
        },
        {
          "output_type": "stream",
          "name": "stderr",
          "text": [
            "/usr/local/lib/python3.11/dist-packages/sklearn/linear_model/_logistic.py:1247: FutureWarning: 'multi_class' was deprecated in version 1.5 and will be removed in 1.7. From then on, it will always use 'multinomial'. Leave it to its default value to avoid this warning.\n  warnings.warn(\n"
          ]
        },
        {
          "output_type": "stream",
          "name": "stdout",
          "text": [
            "[VarA-noGL2 fold 2/6] C=20 time=3.64s\n"
          ]
        },
        {
          "output_type": "stream",
          "name": "stderr",
          "text": [
            "/usr/local/lib/python3.11/dist-packages/sklearn/linear_model/_logistic.py:1247: FutureWarning: 'multi_class' was deprecated in version 1.5 and will be removed in 1.7. From then on, it will always use 'multinomial'. Leave it to its default value to avoid this warning.\n  warnings.warn(\n"
          ]
        },
        {
          "output_type": "stream",
          "name": "stdout",
          "text": [
            "[VarA-noGL2 fold 3/6] C=20 time=4.62s\n"
          ]
        },
        {
          "output_type": "stream",
          "name": "stderr",
          "text": [
            "/usr/local/lib/python3.11/dist-packages/sklearn/linear_model/_logistic.py:1247: FutureWarning: 'multi_class' was deprecated in version 1.5 and will be removed in 1.7. From then on, it will always use 'multinomial'. Leave it to its default value to avoid this warning.\n  warnings.warn(\n"
          ]
        },
        {
          "output_type": "stream",
          "name": "stdout",
          "text": [
            "[VarA-noGL2 fold 4/6] C=20 time=4.88s\n"
          ]
        },
        {
          "output_type": "stream",
          "name": "stderr",
          "text": [
            "/usr/local/lib/python3.11/dist-packages/sklearn/linear_model/_logistic.py:1247: FutureWarning: 'multi_class' was deprecated in version 1.5 and will be removed in 1.7. From then on, it will always use 'multinomial'. Leave it to its default value to avoid this warning.\n  warnings.warn(\n"
          ]
        },
        {
          "output_type": "stream",
          "name": "stdout",
          "text": [
            "[VarA-noGL2 fold 5/6] C=20 time=4.25s\n"
          ]
        },
        {
          "output_type": "stream",
          "name": "stderr",
          "text": [
            "/usr/local/lib/python3.11/dist-packages/sklearn/linear_model/_logistic.py:1247: FutureWarning: 'multi_class' was deprecated in version 1.5 and will be removed in 1.7. From then on, it will always use 'multinomial'. Leave it to its default value to avoid this warning.\n  warnings.warn(\n"
          ]
        },
        {
          "output_type": "stream",
          "name": "stdout",
          "text": [
            "[VarA-noGL2 fold 6/6] C=20 time=3.39s\n"
          ]
        },
        {
          "output_type": "stream",
          "name": "stdout",
          "text": [
            "--> VarA-noGL2 OOF=0.069888 | C=20 | time 24.62s\n"
          ]
        },
        {
          "output_type": "stream",
          "name": "stderr",
          "text": [
            "/usr/local/lib/python3.11/dist-packages/sklearn/linear_model/_logistic.py:1247: FutureWarning: 'multi_class' was deprecated in version 1.5 and will be removed in 1.7. From then on, it will always use 'multinomial'. Leave it to its default value to avoid this warning.\n  warnings.warn(\n"
          ]
        },
        {
          "output_type": "stream",
          "name": "stdout",
          "text": [
            "[VarA-noGL2 fold 1/6] C=30 time=3.24s\n"
          ]
        },
        {
          "output_type": "stream",
          "name": "stderr",
          "text": [
            "/usr/local/lib/python3.11/dist-packages/sklearn/linear_model/_logistic.py:1247: FutureWarning: 'multi_class' was deprecated in version 1.5 and will be removed in 1.7. From then on, it will always use 'multinomial'. Leave it to its default value to avoid this warning.\n  warnings.warn(\n"
          ]
        },
        {
          "output_type": "stream",
          "name": "stdout",
          "text": [
            "[VarA-noGL2 fold 2/6] C=30 time=2.86s\n"
          ]
        },
        {
          "output_type": "stream",
          "name": "stderr",
          "text": [
            "/usr/local/lib/python3.11/dist-packages/sklearn/linear_model/_logistic.py:1247: FutureWarning: 'multi_class' was deprecated in version 1.5 and will be removed in 1.7. From then on, it will always use 'multinomial'. Leave it to its default value to avoid this warning.\n  warnings.warn(\n"
          ]
        },
        {
          "output_type": "stream",
          "name": "stdout",
          "text": [
            "[VarA-noGL2 fold 3/6] C=30 time=5.06s\n"
          ]
        },
        {
          "output_type": "stream",
          "name": "stderr",
          "text": [
            "/usr/local/lib/python3.11/dist-packages/sklearn/linear_model/_logistic.py:1247: FutureWarning: 'multi_class' was deprecated in version 1.5 and will be removed in 1.7. From then on, it will always use 'multinomial'. Leave it to its default value to avoid this warning.\n  warnings.warn(\n"
          ]
        },
        {
          "output_type": "stream",
          "name": "stdout",
          "text": [
            "[VarA-noGL2 fold 4/6] C=30 time=4.11s\n"
          ]
        },
        {
          "output_type": "stream",
          "name": "stderr",
          "text": [
            "/usr/local/lib/python3.11/dist-packages/sklearn/linear_model/_logistic.py:1247: FutureWarning: 'multi_class' was deprecated in version 1.5 and will be removed in 1.7. From then on, it will always use 'multinomial'. Leave it to its default value to avoid this warning.\n  warnings.warn(\n"
          ]
        },
        {
          "output_type": "stream",
          "name": "stdout",
          "text": [
            "[VarA-noGL2 fold 5/6] C=30 time=4.68s\n"
          ]
        },
        {
          "output_type": "stream",
          "name": "stderr",
          "text": [
            "/usr/local/lib/python3.11/dist-packages/sklearn/linear_model/_logistic.py:1247: FutureWarning: 'multi_class' was deprecated in version 1.5 and will be removed in 1.7. From then on, it will always use 'multinomial'. Leave it to its default value to avoid this warning.\n  warnings.warn(\n"
          ]
        },
        {
          "output_type": "stream",
          "name": "stdout",
          "text": [
            "[VarA-noGL2 fold 6/6] C=30 time=4.45s\n"
          ]
        },
        {
          "output_type": "stream",
          "name": "stdout",
          "text": [
            "--> VarA-noGL2 OOF=0.066339 | C=30 | time 24.46s\n"
          ]
        },
        {
          "output_type": "stream",
          "name": "stderr",
          "text": [
            "/usr/local/lib/python3.11/dist-packages/sklearn/linear_model/_logistic.py:1247: FutureWarning: 'multi_class' was deprecated in version 1.5 and will be removed in 1.7. From then on, it will always use 'multinomial'. Leave it to its default value to avoid this warning.\n  warnings.warn(\n"
          ]
        },
        {
          "output_type": "stream",
          "name": "stdout",
          "text": [
            "[VarA-noGL2 fold 1/6] C=50 time=3.48s\n"
          ]
        },
        {
          "output_type": "stream",
          "name": "stderr",
          "text": [
            "/usr/local/lib/python3.11/dist-packages/sklearn/linear_model/_logistic.py:1247: FutureWarning: 'multi_class' was deprecated in version 1.5 and will be removed in 1.7. From then on, it will always use 'multinomial'. Leave it to its default value to avoid this warning.\n  warnings.warn(\n"
          ]
        },
        {
          "output_type": "stream",
          "name": "stdout",
          "text": [
            "[VarA-noGL2 fold 2/6] C=50 time=3.50s\n"
          ]
        },
        {
          "output_type": "stream",
          "name": "stderr",
          "text": [
            "/usr/local/lib/python3.11/dist-packages/sklearn/linear_model/_logistic.py:1247: FutureWarning: 'multi_class' was deprecated in version 1.5 and will be removed in 1.7. From then on, it will always use 'multinomial'. Leave it to its default value to avoid this warning.\n  warnings.warn(\n"
          ]
        },
        {
          "output_type": "stream",
          "name": "stdout",
          "text": [
            "[VarA-noGL2 fold 3/6] C=50 time=3.94s\n"
          ]
        },
        {
          "output_type": "stream",
          "name": "stderr",
          "text": [
            "/usr/local/lib/python3.11/dist-packages/sklearn/linear_model/_logistic.py:1247: FutureWarning: 'multi_class' was deprecated in version 1.5 and will be removed in 1.7. From then on, it will always use 'multinomial'. Leave it to its default value to avoid this warning.\n  warnings.warn(\n"
          ]
        },
        {
          "output_type": "stream",
          "name": "stdout",
          "text": [
            "[VarA-noGL2 fold 4/6] C=50 time=5.13s\n"
          ]
        },
        {
          "output_type": "stream",
          "name": "stderr",
          "text": [
            "/usr/local/lib/python3.11/dist-packages/sklearn/linear_model/_logistic.py:1247: FutureWarning: 'multi_class' was deprecated in version 1.5 and will be removed in 1.7. From then on, it will always use 'multinomial'. Leave it to its default value to avoid this warning.\n  warnings.warn(\n"
          ]
        },
        {
          "output_type": "stream",
          "name": "stdout",
          "text": [
            "[VarA-noGL2 fold 5/6] C=50 time=4.64s\n"
          ]
        },
        {
          "output_type": "stream",
          "name": "stderr",
          "text": [
            "/usr/local/lib/python3.11/dist-packages/sklearn/linear_model/_logistic.py:1247: FutureWarning: 'multi_class' was deprecated in version 1.5 and will be removed in 1.7. From then on, it will always use 'multinomial'. Leave it to its default value to avoid this warning.\n  warnings.warn(\n"
          ]
        },
        {
          "output_type": "stream",
          "name": "stdout",
          "text": [
            "[VarA-noGL2 fold 6/6] C=50 time=4.97s\n"
          ]
        },
        {
          "output_type": "stream",
          "name": "stdout",
          "text": [
            "--> VarA-noGL2 OOF=0.062823 | C=50 | time 25.73s\n"
          ]
        },
        {
          "output_type": "stream",
          "name": "stderr",
          "text": [
            "/usr/local/lib/python3.11/dist-packages/sklearn/linear_model/_logistic.py:1247: FutureWarning: 'multi_class' was deprecated in version 1.5 and will be removed in 1.7. From then on, it will always use 'multinomial'. Leave it to its default value to avoid this warning.\n  warnings.warn(\n"
          ]
        },
        {
          "output_type": "stream",
          "name": "stdout",
          "text": [
            "[VarA-noGL2 fold 1/6] C=80 time=4.18s\n"
          ]
        },
        {
          "output_type": "stream",
          "name": "stderr",
          "text": [
            "/usr/local/lib/python3.11/dist-packages/sklearn/linear_model/_logistic.py:1247: FutureWarning: 'multi_class' was deprecated in version 1.5 and will be removed in 1.7. From then on, it will always use 'multinomial'. Leave it to its default value to avoid this warning.\n  warnings.warn(\n"
          ]
        },
        {
          "output_type": "stream",
          "name": "stdout",
          "text": [
            "[VarA-noGL2 fold 2/6] C=80 time=3.74s\n"
          ]
        },
        {
          "output_type": "stream",
          "name": "stderr",
          "text": [
            "/usr/local/lib/python3.11/dist-packages/sklearn/linear_model/_logistic.py:1247: FutureWarning: 'multi_class' was deprecated in version 1.5 and will be removed in 1.7. From then on, it will always use 'multinomial'. Leave it to its default value to avoid this warning.\n  warnings.warn(\n"
          ]
        },
        {
          "output_type": "stream",
          "name": "stdout",
          "text": [
            "[VarA-noGL2 fold 3/6] C=80 time=4.40s\n"
          ]
        },
        {
          "output_type": "stream",
          "name": "stderr",
          "text": [
            "/usr/local/lib/python3.11/dist-packages/sklearn/linear_model/_logistic.py:1247: FutureWarning: 'multi_class' was deprecated in version 1.5 and will be removed in 1.7. From then on, it will always use 'multinomial'. Leave it to its default value to avoid this warning.\n  warnings.warn(\n"
          ]
        },
        {
          "output_type": "stream",
          "name": "stdout",
          "text": [
            "[VarA-noGL2 fold 4/6] C=80 time=4.20s\n"
          ]
        },
        {
          "output_type": "stream",
          "name": "stderr",
          "text": [
            "/usr/local/lib/python3.11/dist-packages/sklearn/linear_model/_logistic.py:1247: FutureWarning: 'multi_class' was deprecated in version 1.5 and will be removed in 1.7. From then on, it will always use 'multinomial'. Leave it to its default value to avoid this warning.\n  warnings.warn(\n"
          ]
        },
        {
          "output_type": "stream",
          "name": "stdout",
          "text": [
            "[VarA-noGL2 fold 5/6] C=80 time=4.58s\n"
          ]
        },
        {
          "output_type": "stream",
          "name": "stderr",
          "text": [
            "/usr/local/lib/python3.11/dist-packages/sklearn/linear_model/_logistic.py:1247: FutureWarning: 'multi_class' was deprecated in version 1.5 and will be removed in 1.7. From then on, it will always use 'multinomial'. Leave it to its default value to avoid this warning.\n  warnings.warn(\n"
          ]
        },
        {
          "output_type": "stream",
          "name": "stdout",
          "text": [
            "[VarA-noGL2 fold 6/6] C=80 time=3.96s\n"
          ]
        },
        {
          "output_type": "stream",
          "name": "stdout",
          "text": [
            "--> VarA-noGL2 OOF=0.060320 | C=80 | time 25.12s\n"
          ]
        },
        {
          "output_type": "stream",
          "name": "stderr",
          "text": [
            "/usr/local/lib/python3.11/dist-packages/sklearn/linear_model/_logistic.py:1247: FutureWarning: 'multi_class' was deprecated in version 1.5 and will be removed in 1.7. From then on, it will always use 'multinomial'. Leave it to its default value to avoid this warning.\n  warnings.warn(\n"
          ]
        },
        {
          "output_type": "stream",
          "name": "stdout",
          "text": [
            "[VarA-noGL2 fold 1/6] C=120 time=4.14s\n"
          ]
        },
        {
          "output_type": "stream",
          "name": "stderr",
          "text": [
            "/usr/local/lib/python3.11/dist-packages/sklearn/linear_model/_logistic.py:1247: FutureWarning: 'multi_class' was deprecated in version 1.5 and will be removed in 1.7. From then on, it will always use 'multinomial'. Leave it to its default value to avoid this warning.\n  warnings.warn(\n"
          ]
        },
        {
          "output_type": "stream",
          "name": "stdout",
          "text": [
            "[VarA-noGL2 fold 2/6] C=120 time=4.19s\n"
          ]
        },
        {
          "output_type": "stream",
          "name": "stderr",
          "text": [
            "/usr/local/lib/python3.11/dist-packages/sklearn/linear_model/_logistic.py:1247: FutureWarning: 'multi_class' was deprecated in version 1.5 and will be removed in 1.7. From then on, it will always use 'multinomial'. Leave it to its default value to avoid this warning.\n  warnings.warn(\n"
          ]
        },
        {
          "output_type": "stream",
          "name": "stdout",
          "text": [
            "[VarA-noGL2 fold 3/6] C=120 time=4.49s\n"
          ]
        },
        {
          "output_type": "stream",
          "name": "stderr",
          "text": [
            "/usr/local/lib/python3.11/dist-packages/sklearn/linear_model/_logistic.py:1247: FutureWarning: 'multi_class' was deprecated in version 1.5 and will be removed in 1.7. From then on, it will always use 'multinomial'. Leave it to its default value to avoid this warning.\n  warnings.warn(\n"
          ]
        },
        {
          "output_type": "stream",
          "name": "stdout",
          "text": [
            "[VarA-noGL2 fold 4/6] C=120 time=4.63s\n"
          ]
        },
        {
          "output_type": "stream",
          "name": "stderr",
          "text": [
            "/usr/local/lib/python3.11/dist-packages/sklearn/linear_model/_logistic.py:1247: FutureWarning: 'multi_class' was deprecated in version 1.5 and will be removed in 1.7. From then on, it will always use 'multinomial'. Leave it to its default value to avoid this warning.\n  warnings.warn(\n"
          ]
        },
        {
          "output_type": "stream",
          "name": "stdout",
          "text": [
            "[VarA-noGL2 fold 5/6] C=120 time=3.34s\n"
          ]
        },
        {
          "output_type": "stream",
          "name": "stderr",
          "text": [
            "/usr/local/lib/python3.11/dist-packages/sklearn/linear_model/_logistic.py:1247: FutureWarning: 'multi_class' was deprecated in version 1.5 and will be removed in 1.7. From then on, it will always use 'multinomial'. Leave it to its default value to avoid this warning.\n  warnings.warn(\n"
          ]
        },
        {
          "output_type": "stream",
          "name": "stdout",
          "text": [
            "[VarA-noGL2 fold 6/6] C=120 time=4.12s\n"
          ]
        },
        {
          "output_type": "stream",
          "name": "stdout",
          "text": [
            "--> VarA-noGL2 OOF=0.058641 | C=120 | time 24.99s\n"
          ]
        },
        {
          "output_type": "stream",
          "name": "stderr",
          "text": [
            "/usr/local/lib/python3.11/dist-packages/sklearn/linear_model/_logistic.py:1247: FutureWarning: 'multi_class' was deprecated in version 1.5 and will be removed in 1.7. From then on, it will always use 'multinomial'. Leave it to its default value to avoid this warning.\n  warnings.warn(\n"
          ]
        },
        {
          "output_type": "stream",
          "name": "stdout",
          "text": [
            "[VarA-noGL2 fold 1/6] C=200 time=3.69s\n"
          ]
        },
        {
          "output_type": "stream",
          "name": "stderr",
          "text": [
            "/usr/local/lib/python3.11/dist-packages/sklearn/linear_model/_logistic.py:1247: FutureWarning: 'multi_class' was deprecated in version 1.5 and will be removed in 1.7. From then on, it will always use 'multinomial'. Leave it to its default value to avoid this warning.\n  warnings.warn(\n"
          ]
        },
        {
          "output_type": "stream",
          "name": "stdout",
          "text": [
            "[VarA-noGL2 fold 2/6] C=200 time=4.46s\n"
          ]
        },
        {
          "output_type": "stream",
          "name": "stderr",
          "text": [
            "/usr/local/lib/python3.11/dist-packages/sklearn/linear_model/_logistic.py:1247: FutureWarning: 'multi_class' was deprecated in version 1.5 and will be removed in 1.7. From then on, it will always use 'multinomial'. Leave it to its default value to avoid this warning.\n  warnings.warn(\n"
          ]
        },
        {
          "output_type": "stream",
          "name": "stdout",
          "text": [
            "[VarA-noGL2 fold 3/6] C=200 time=4.51s\n"
          ]
        },
        {
          "output_type": "stream",
          "name": "stderr",
          "text": [
            "/usr/local/lib/python3.11/dist-packages/sklearn/linear_model/_logistic.py:1247: FutureWarning: 'multi_class' was deprecated in version 1.5 and will be removed in 1.7. From then on, it will always use 'multinomial'. Leave it to its default value to avoid this warning.\n  warnings.warn(\n"
          ]
        },
        {
          "output_type": "stream",
          "name": "stdout",
          "text": [
            "[VarA-noGL2 fold 4/6] C=200 time=4.23s\n"
          ]
        },
        {
          "output_type": "stream",
          "name": "stderr",
          "text": [
            "/usr/local/lib/python3.11/dist-packages/sklearn/linear_model/_logistic.py:1247: FutureWarning: 'multi_class' was deprecated in version 1.5 and will be removed in 1.7. From then on, it will always use 'multinomial'. Leave it to its default value to avoid this warning.\n  warnings.warn(\n"
          ]
        },
        {
          "output_type": "stream",
          "name": "stdout",
          "text": [
            "[VarA-noGL2 fold 5/6] C=200 time=4.27s\n"
          ]
        },
        {
          "output_type": "stream",
          "name": "stderr",
          "text": [
            "/usr/local/lib/python3.11/dist-packages/sklearn/linear_model/_logistic.py:1247: FutureWarning: 'multi_class' was deprecated in version 1.5 and will be removed in 1.7. From then on, it will always use 'multinomial'. Leave it to its default value to avoid this warning.\n  warnings.warn(\n"
          ]
        },
        {
          "output_type": "stream",
          "name": "stdout",
          "text": [
            "[VarA-noGL2 fold 6/6] C=200 time=3.67s\n"
          ]
        },
        {
          "output_type": "stream",
          "name": "stdout",
          "text": [
            "--> VarA-noGL2 OOF=0.056990 | C=200 | time 24.89s\n"
          ]
        },
        {
          "output_type": "stream",
          "name": "stderr",
          "text": [
            "/usr/local/lib/python3.11/dist-packages/sklearn/linear_model/_logistic.py:1247: FutureWarning: 'multi_class' was deprecated in version 1.5 and will be removed in 1.7. From then on, it will always use 'multinomial'. Leave it to its default value to avoid this warning.\n  warnings.warn(\n"
          ]
        },
        {
          "output_type": "stream",
          "name": "stdout",
          "text": [
            "[VarA-noGL2 fold 1/6] C=300 time=4.10s\n"
          ]
        },
        {
          "output_type": "stream",
          "name": "stderr",
          "text": [
            "/usr/local/lib/python3.11/dist-packages/sklearn/linear_model/_logistic.py:1247: FutureWarning: 'multi_class' was deprecated in version 1.5 and will be removed in 1.7. From then on, it will always use 'multinomial'. Leave it to its default value to avoid this warning.\n  warnings.warn(\n"
          ]
        },
        {
          "output_type": "stream",
          "name": "stdout",
          "text": [
            "[VarA-noGL2 fold 2/6] C=300 time=3.31s\n"
          ]
        },
        {
          "output_type": "stream",
          "name": "stderr",
          "text": [
            "/usr/local/lib/python3.11/dist-packages/sklearn/linear_model/_logistic.py:1247: FutureWarning: 'multi_class' was deprecated in version 1.5 and will be removed in 1.7. From then on, it will always use 'multinomial'. Leave it to its default value to avoid this warning.\n  warnings.warn(\n"
          ]
        },
        {
          "output_type": "stream",
          "name": "stdout",
          "text": [
            "[VarA-noGL2 fold 3/6] C=300 time=3.81s\n"
          ]
        },
        {
          "output_type": "stream",
          "name": "stderr",
          "text": [
            "/usr/local/lib/python3.11/dist-packages/sklearn/linear_model/_logistic.py:1247: FutureWarning: 'multi_class' was deprecated in version 1.5 and will be removed in 1.7. From then on, it will always use 'multinomial'. Leave it to its default value to avoid this warning.\n  warnings.warn(\n"
          ]
        },
        {
          "output_type": "stream",
          "name": "stdout",
          "text": [
            "[VarA-noGL2 fold 4/6] C=300 time=3.87s\n"
          ]
        },
        {
          "output_type": "stream",
          "name": "stderr",
          "text": [
            "/usr/local/lib/python3.11/dist-packages/sklearn/linear_model/_logistic.py:1247: FutureWarning: 'multi_class' was deprecated in version 1.5 and will be removed in 1.7. From then on, it will always use 'multinomial'. Leave it to its default value to avoid this warning.\n  warnings.warn(\n"
          ]
        },
        {
          "output_type": "stream",
          "name": "stdout",
          "text": [
            "[VarA-noGL2 fold 5/6] C=300 time=3.01s\n"
          ]
        },
        {
          "output_type": "stream",
          "name": "stderr",
          "text": [
            "/usr/local/lib/python3.11/dist-packages/sklearn/linear_model/_logistic.py:1247: FutureWarning: 'multi_class' was deprecated in version 1.5 and will be removed in 1.7. From then on, it will always use 'multinomial'. Leave it to its default value to avoid this warning.\n  warnings.warn(\n"
          ]
        },
        {
          "output_type": "stream",
          "name": "stdout",
          "text": [
            "[VarA-noGL2 fold 6/6] C=300 time=2.43s\n"
          ]
        },
        {
          "output_type": "stream",
          "name": "stdout",
          "text": [
            "--> VarA-noGL2 OOF=0.055990 | C=300 | time 20.60s\n"
          ]
        },
        {
          "output_type": "stream",
          "name": "stderr",
          "text": [
            "/usr/local/lib/python3.11/dist-packages/sklearn/linear_model/_logistic.py:1247: FutureWarning: 'multi_class' was deprecated in version 1.5 and will be removed in 1.7. From then on, it will always use 'multinomial'. Leave it to its default value to avoid this warning.\n  warnings.warn(\n"
          ]
        },
        {
          "output_type": "stream",
          "name": "stdout",
          "text": [
            "[VarA-noGL2 fold 1/6] C=500 time=3.39s\n"
          ]
        },
        {
          "output_type": "stream",
          "name": "stderr",
          "text": [
            "/usr/local/lib/python3.11/dist-packages/sklearn/linear_model/_logistic.py:1247: FutureWarning: 'multi_class' was deprecated in version 1.5 and will be removed in 1.7. From then on, it will always use 'multinomial'. Leave it to its default value to avoid this warning.\n  warnings.warn(\n"
          ]
        },
        {
          "output_type": "stream",
          "name": "stdout",
          "text": [
            "[VarA-noGL2 fold 2/6] C=500 time=3.85s\n"
          ]
        },
        {
          "output_type": "stream",
          "name": "stderr",
          "text": [
            "/usr/local/lib/python3.11/dist-packages/sklearn/linear_model/_logistic.py:1247: FutureWarning: 'multi_class' was deprecated in version 1.5 and will be removed in 1.7. From then on, it will always use 'multinomial'. Leave it to its default value to avoid this warning.\n  warnings.warn(\n"
          ]
        },
        {
          "output_type": "stream",
          "name": "stdout",
          "text": [
            "[VarA-noGL2 fold 3/6] C=500 time=3.52s\n"
          ]
        },
        {
          "output_type": "stream",
          "name": "stderr",
          "text": [
            "/usr/local/lib/python3.11/dist-packages/sklearn/linear_model/_logistic.py:1247: FutureWarning: 'multi_class' was deprecated in version 1.5 and will be removed in 1.7. From then on, it will always use 'multinomial'. Leave it to its default value to avoid this warning.\n  warnings.warn(\n"
          ]
        },
        {
          "output_type": "stream",
          "name": "stdout",
          "text": [
            "[VarA-noGL2 fold 4/6] C=500 time=3.77s\n"
          ]
        },
        {
          "output_type": "stream",
          "name": "stderr",
          "text": [
            "/usr/local/lib/python3.11/dist-packages/sklearn/linear_model/_logistic.py:1247: FutureWarning: 'multi_class' was deprecated in version 1.5 and will be removed in 1.7. From then on, it will always use 'multinomial'. Leave it to its default value to avoid this warning.\n  warnings.warn(\n"
          ]
        },
        {
          "output_type": "stream",
          "name": "stdout",
          "text": [
            "[VarA-noGL2 fold 5/6] C=500 time=3.68s\n"
          ]
        },
        {
          "output_type": "stream",
          "name": "stderr",
          "text": [
            "/usr/local/lib/python3.11/dist-packages/sklearn/linear_model/_logistic.py:1247: FutureWarning: 'multi_class' was deprecated in version 1.5 and will be removed in 1.7. From then on, it will always use 'multinomial'. Leave it to its default value to avoid this warning.\n  warnings.warn(\n"
          ]
        },
        {
          "output_type": "stream",
          "name": "stdout",
          "text": [
            "[VarA-noGL2 fold 6/6] C=500 time=2.86s\n"
          ]
        },
        {
          "output_type": "stream",
          "name": "stdout",
          "text": [
            "--> VarA-noGL2 OOF=0.055161 | C=500 | time 21.13s\n"
          ]
        },
        {
          "output_type": "stream",
          "name": "stderr",
          "text": [
            "/usr/local/lib/python3.11/dist-packages/sklearn/linear_model/_logistic.py:1247: FutureWarning: 'multi_class' was deprecated in version 1.5 and will be removed in 1.7. From then on, it will always use 'multinomial'. Leave it to its default value to avoid this warning.\n  warnings.warn(\n"
          ]
        },
        {
          "output_type": "stream",
          "name": "stdout",
          "text": [
            "[VarA-noGL2 fold 1/6] C=1000 time=2.44s\n"
          ]
        },
        {
          "output_type": "stream",
          "name": "stderr",
          "text": [
            "/usr/local/lib/python3.11/dist-packages/sklearn/linear_model/_logistic.py:1247: FutureWarning: 'multi_class' was deprecated in version 1.5 and will be removed in 1.7. From then on, it will always use 'multinomial'. Leave it to its default value to avoid this warning.\n  warnings.warn(\n"
          ]
        },
        {
          "output_type": "stream",
          "name": "stdout",
          "text": [
            "[VarA-noGL2 fold 2/6] C=1000 time=3.18s\n"
          ]
        },
        {
          "output_type": "stream",
          "name": "stderr",
          "text": [
            "/usr/local/lib/python3.11/dist-packages/sklearn/linear_model/_logistic.py:1247: FutureWarning: 'multi_class' was deprecated in version 1.5 and will be removed in 1.7. From then on, it will always use 'multinomial'. Leave it to its default value to avoid this warning.\n  warnings.warn(\n"
          ]
        },
        {
          "output_type": "stream",
          "name": "stdout",
          "text": [
            "[VarA-noGL2 fold 3/6] C=1000 time=3.16s\n"
          ]
        },
        {
          "output_type": "stream",
          "name": "stderr",
          "text": [
            "/usr/local/lib/python3.11/dist-packages/sklearn/linear_model/_logistic.py:1247: FutureWarning: 'multi_class' was deprecated in version 1.5 and will be removed in 1.7. From then on, it will always use 'multinomial'. Leave it to its default value to avoid this warning.\n  warnings.warn(\n"
          ]
        },
        {
          "output_type": "stream",
          "name": "stdout",
          "text": [
            "[VarA-noGL2 fold 4/6] C=1000 time=3.57s\n"
          ]
        },
        {
          "output_type": "stream",
          "name": "stderr",
          "text": [
            "/usr/local/lib/python3.11/dist-packages/sklearn/linear_model/_logistic.py:1247: FutureWarning: 'multi_class' was deprecated in version 1.5 and will be removed in 1.7. From then on, it will always use 'multinomial'. Leave it to its default value to avoid this warning.\n  warnings.warn(\n"
          ]
        },
        {
          "output_type": "stream",
          "name": "stdout",
          "text": [
            "[VarA-noGL2 fold 5/6] C=1000 time=2.67s\n"
          ]
        },
        {
          "output_type": "stream",
          "name": "stderr",
          "text": [
            "/usr/local/lib/python3.11/dist-packages/sklearn/linear_model/_logistic.py:1247: FutureWarning: 'multi_class' was deprecated in version 1.5 and will be removed in 1.7. From then on, it will always use 'multinomial'. Leave it to its default value to avoid this warning.\n  warnings.warn(\n"
          ]
        },
        {
          "output_type": "stream",
          "name": "stdout",
          "text": [
            "[VarA-noGL2 fold 6/6] C=1000 time=2.47s\n"
          ]
        },
        {
          "output_type": "stream",
          "name": "stdout",
          "text": [
            "--> VarA-noGL2 OOF=0.054402 | C=1000 | time 17.55s\n"
          ]
        },
        {
          "output_type": "stream",
          "name": "stderr",
          "text": [
            "/usr/local/lib/python3.11/dist-packages/sklearn/linear_model/_logistic.py:1247: FutureWarning: 'multi_class' was deprecated in version 1.5 and will be removed in 1.7. From then on, it will always use 'multinomial'. Leave it to its default value to avoid this warning.\n  warnings.warn(\n"
          ]
        },
        {
          "output_type": "stream",
          "name": "stdout",
          "text": [
            "[VarA-noGL2 fold 1/6] C=2000 time=2.67s\n"
          ]
        },
        {
          "output_type": "stream",
          "name": "stderr",
          "text": [
            "/usr/local/lib/python3.11/dist-packages/sklearn/linear_model/_logistic.py:1247: FutureWarning: 'multi_class' was deprecated in version 1.5 and will be removed in 1.7. From then on, it will always use 'multinomial'. Leave it to its default value to avoid this warning.\n  warnings.warn(\n"
          ]
        },
        {
          "output_type": "stream",
          "name": "stdout",
          "text": [
            "[VarA-noGL2 fold 2/6] C=2000 time=2.79s\n"
          ]
        },
        {
          "output_type": "stream",
          "name": "stderr",
          "text": [
            "/usr/local/lib/python3.11/dist-packages/sklearn/linear_model/_logistic.py:1247: FutureWarning: 'multi_class' was deprecated in version 1.5 and will be removed in 1.7. From then on, it will always use 'multinomial'. Leave it to its default value to avoid this warning.\n  warnings.warn(\n"
          ]
        },
        {
          "output_type": "stream",
          "name": "stdout",
          "text": [
            "[VarA-noGL2 fold 3/6] C=2000 time=2.60s\n"
          ]
        },
        {
          "output_type": "stream",
          "name": "stderr",
          "text": [
            "/usr/local/lib/python3.11/dist-packages/sklearn/linear_model/_logistic.py:1247: FutureWarning: 'multi_class' was deprecated in version 1.5 and will be removed in 1.7. From then on, it will always use 'multinomial'. Leave it to its default value to avoid this warning.\n  warnings.warn(\n"
          ]
        },
        {
          "output_type": "stream",
          "name": "stdout",
          "text": [
            "[VarA-noGL2 fold 4/6] C=2000 time=2.04s\n"
          ]
        },
        {
          "output_type": "stream",
          "name": "stderr",
          "text": [
            "/usr/local/lib/python3.11/dist-packages/sklearn/linear_model/_logistic.py:1247: FutureWarning: 'multi_class' was deprecated in version 1.5 and will be removed in 1.7. From then on, it will always use 'multinomial'. Leave it to its default value to avoid this warning.\n  warnings.warn(\n"
          ]
        },
        {
          "output_type": "stream",
          "name": "stdout",
          "text": [
            "[VarA-noGL2 fold 5/6] C=2000 time=3.02s\n"
          ]
        },
        {
          "output_type": "stream",
          "name": "stderr",
          "text": [
            "/usr/local/lib/python3.11/dist-packages/sklearn/linear_model/_logistic.py:1247: FutureWarning: 'multi_class' was deprecated in version 1.5 and will be removed in 1.7. From then on, it will always use 'multinomial'. Leave it to its default value to avoid this warning.\n  warnings.warn(\n"
          ]
        },
        {
          "output_type": "stream",
          "name": "stdout",
          "text": [
            "[VarA-noGL2 fold 6/6] C=2000 time=2.84s\n"
          ]
        },
        {
          "output_type": "stream",
          "name": "stdout",
          "text": [
            "--> VarA-noGL2 OOF=0.053803 | C=2000 | time 16.01s\n"
          ]
        },
        {
          "output_type": "stream",
          "name": "stderr",
          "text": [
            "/usr/local/lib/python3.11/dist-packages/sklearn/linear_model/_logistic.py:1247: FutureWarning: 'multi_class' was deprecated in version 1.5 and will be removed in 1.7. From then on, it will always use 'multinomial'. Leave it to its default value to avoid this warning.\n  warnings.warn(\n"
          ]
        },
        {
          "output_type": "stream",
          "name": "stdout",
          "text": [
            "[VarA-noGL2 fold 1/6] C=5000 time=1.83s\n"
          ]
        },
        {
          "output_type": "stream",
          "name": "stderr",
          "text": [
            "/usr/local/lib/python3.11/dist-packages/sklearn/linear_model/_logistic.py:1247: FutureWarning: 'multi_class' was deprecated in version 1.5 and will be removed in 1.7. From then on, it will always use 'multinomial'. Leave it to its default value to avoid this warning.\n  warnings.warn(\n"
          ]
        },
        {
          "output_type": "stream",
          "name": "stdout",
          "text": [
            "[VarA-noGL2 fold 2/6] C=5000 time=2.18s\n"
          ]
        },
        {
          "output_type": "stream",
          "name": "stderr",
          "text": [
            "/usr/local/lib/python3.11/dist-packages/sklearn/linear_model/_logistic.py:1247: FutureWarning: 'multi_class' was deprecated in version 1.5 and will be removed in 1.7. From then on, it will always use 'multinomial'. Leave it to its default value to avoid this warning.\n  warnings.warn(\n"
          ]
        },
        {
          "output_type": "stream",
          "name": "stdout",
          "text": [
            "[VarA-noGL2 fold 3/6] C=5000 time=2.70s\n"
          ]
        },
        {
          "output_type": "stream",
          "name": "stderr",
          "text": [
            "/usr/local/lib/python3.11/dist-packages/sklearn/linear_model/_logistic.py:1247: FutureWarning: 'multi_class' was deprecated in version 1.5 and will be removed in 1.7. From then on, it will always use 'multinomial'. Leave it to its default value to avoid this warning.\n  warnings.warn(\n"
          ]
        },
        {
          "output_type": "stream",
          "name": "stdout",
          "text": [
            "[VarA-noGL2 fold 4/6] C=5000 time=1.96s\n"
          ]
        },
        {
          "output_type": "stream",
          "name": "stderr",
          "text": [
            "/usr/local/lib/python3.11/dist-packages/sklearn/linear_model/_logistic.py:1247: FutureWarning: 'multi_class' was deprecated in version 1.5 and will be removed in 1.7. From then on, it will always use 'multinomial'. Leave it to its default value to avoid this warning.\n  warnings.warn(\n"
          ]
        },
        {
          "output_type": "stream",
          "name": "stdout",
          "text": [
            "[VarA-noGL2 fold 5/6] C=5000 time=2.20s\n"
          ]
        },
        {
          "output_type": "stream",
          "name": "stderr",
          "text": [
            "/usr/local/lib/python3.11/dist-packages/sklearn/linear_model/_logistic.py:1247: FutureWarning: 'multi_class' was deprecated in version 1.5 and will be removed in 1.7. From then on, it will always use 'multinomial'. Leave it to its default value to avoid this warning.\n  warnings.warn(\n"
          ]
        },
        {
          "output_type": "stream",
          "name": "stdout",
          "text": [
            "[VarA-noGL2 fold 6/6] C=5000 time=2.57s\n"
          ]
        },
        {
          "output_type": "stream",
          "name": "stdout",
          "text": [
            "--> VarA-noGL2 OOF=0.053459 | C=5000 | time 13.52s\n"
          ]
        },
        {
          "output_type": "stream",
          "name": "stderr",
          "text": [
            "/usr/local/lib/python3.11/dist-packages/sklearn/linear_model/_logistic.py:1247: FutureWarning: 'multi_class' was deprecated in version 1.5 and will be removed in 1.7. From then on, it will always use 'multinomial'. Leave it to its default value to avoid this warning.\n  warnings.warn(\n"
          ]
        },
        {
          "output_type": "stream",
          "name": "stdout",
          "text": [
            "[VarA-noGL2 fold 1/6] C=10000 time=1.88s\n"
          ]
        },
        {
          "output_type": "stream",
          "name": "stderr",
          "text": [
            "/usr/local/lib/python3.11/dist-packages/sklearn/linear_model/_logistic.py:1247: FutureWarning: 'multi_class' was deprecated in version 1.5 and will be removed in 1.7. From then on, it will always use 'multinomial'. Leave it to its default value to avoid this warning.\n  warnings.warn(\n"
          ]
        },
        {
          "output_type": "stream",
          "name": "stdout",
          "text": [
            "[VarA-noGL2 fold 2/6] C=10000 time=2.60s\n"
          ]
        },
        {
          "output_type": "stream",
          "name": "stderr",
          "text": [
            "/usr/local/lib/python3.11/dist-packages/sklearn/linear_model/_logistic.py:1247: FutureWarning: 'multi_class' was deprecated in version 1.5 and will be removed in 1.7. From then on, it will always use 'multinomial'. Leave it to its default value to avoid this warning.\n  warnings.warn(\n"
          ]
        },
        {
          "output_type": "stream",
          "name": "stdout",
          "text": [
            "[VarA-noGL2 fold 3/6] C=10000 time=1.90s\n"
          ]
        },
        {
          "output_type": "stream",
          "name": "stderr",
          "text": [
            "/usr/local/lib/python3.11/dist-packages/sklearn/linear_model/_logistic.py:1247: FutureWarning: 'multi_class' was deprecated in version 1.5 and will be removed in 1.7. From then on, it will always use 'multinomial'. Leave it to its default value to avoid this warning.\n  warnings.warn(\n"
          ]
        },
        {
          "output_type": "stream",
          "name": "stdout",
          "text": [
            "[VarA-noGL2 fold 4/6] C=10000 time=1.84s\n"
          ]
        },
        {
          "output_type": "stream",
          "name": "stderr",
          "text": [
            "/usr/local/lib/python3.11/dist-packages/sklearn/linear_model/_logistic.py:1247: FutureWarning: 'multi_class' was deprecated in version 1.5 and will be removed in 1.7. From then on, it will always use 'multinomial'. Leave it to its default value to avoid this warning.\n  warnings.warn(\n"
          ]
        },
        {
          "output_type": "stream",
          "name": "stdout",
          "text": [
            "[VarA-noGL2 fold 5/6] C=10000 time=1.91s\n"
          ]
        },
        {
          "output_type": "stream",
          "name": "stderr",
          "text": [
            "/usr/local/lib/python3.11/dist-packages/sklearn/linear_model/_logistic.py:1247: FutureWarning: 'multi_class' was deprecated in version 1.5 and will be removed in 1.7. From then on, it will always use 'multinomial'. Leave it to its default value to avoid this warning.\n  warnings.warn(\n"
          ]
        },
        {
          "output_type": "stream",
          "name": "stdout",
          "text": [
            "[VarA-noGL2 fold 6/6] C=10000 time=1.86s\n"
          ]
        },
        {
          "output_type": "stream",
          "name": "stdout",
          "text": [
            "--> VarA-noGL2 OOF=0.053533 | C=10000 | time 12.07s\n"
          ]
        },
        {
          "output_type": "stream",
          "name": "stderr",
          "text": [
            "/usr/local/lib/python3.11/dist-packages/sklearn/linear_model/_logistic.py:1247: FutureWarning: 'multi_class' was deprecated in version 1.5 and will be removed in 1.7. From then on, it will always use 'multinomial'. Leave it to its default value to avoid this warning.\n  warnings.warn(\n"
          ]
        },
        {
          "output_type": "stream",
          "name": "stdout",
          "text": [
            "[VarA-noGL2 fold 1/6] C=20000 time=1.53s\n"
          ]
        },
        {
          "output_type": "stream",
          "name": "stderr",
          "text": [
            "/usr/local/lib/python3.11/dist-packages/sklearn/linear_model/_logistic.py:1247: FutureWarning: 'multi_class' was deprecated in version 1.5 and will be removed in 1.7. From then on, it will always use 'multinomial'. Leave it to its default value to avoid this warning.\n  warnings.warn(\n"
          ]
        },
        {
          "output_type": "stream",
          "name": "stdout",
          "text": [
            "[VarA-noGL2 fold 2/6] C=20000 time=1.55s\n"
          ]
        },
        {
          "output_type": "stream",
          "name": "stderr",
          "text": [
            "/usr/local/lib/python3.11/dist-packages/sklearn/linear_model/_logistic.py:1247: FutureWarning: 'multi_class' was deprecated in version 1.5 and will be removed in 1.7. From then on, it will always use 'multinomial'. Leave it to its default value to avoid this warning.\n  warnings.warn(\n"
          ]
        },
        {
          "output_type": "stream",
          "name": "stdout",
          "text": [
            "[VarA-noGL2 fold 3/6] C=20000 time=1.49s\n"
          ]
        },
        {
          "output_type": "stream",
          "name": "stderr",
          "text": [
            "/usr/local/lib/python3.11/dist-packages/sklearn/linear_model/_logistic.py:1247: FutureWarning: 'multi_class' was deprecated in version 1.5 and will be removed in 1.7. From then on, it will always use 'multinomial'. Leave it to its default value to avoid this warning.\n  warnings.warn(\n"
          ]
        },
        {
          "output_type": "stream",
          "name": "stdout",
          "text": [
            "[VarA-noGL2 fold 4/6] C=20000 time=1.62s\n"
          ]
        },
        {
          "output_type": "stream",
          "name": "stderr",
          "text": [
            "/usr/local/lib/python3.11/dist-packages/sklearn/linear_model/_logistic.py:1247: FutureWarning: 'multi_class' was deprecated in version 1.5 and will be removed in 1.7. From then on, it will always use 'multinomial'. Leave it to its default value to avoid this warning.\n  warnings.warn(\n"
          ]
        },
        {
          "output_type": "stream",
          "name": "stdout",
          "text": [
            "[VarA-noGL2 fold 5/6] C=20000 time=1.85s\n"
          ]
        },
        {
          "output_type": "stream",
          "name": "stderr",
          "text": [
            "/usr/local/lib/python3.11/dist-packages/sklearn/linear_model/_logistic.py:1247: FutureWarning: 'multi_class' was deprecated in version 1.5 and will be removed in 1.7. From then on, it will always use 'multinomial'. Leave it to its default value to avoid this warning.\n  warnings.warn(\n"
          ]
        },
        {
          "output_type": "stream",
          "name": "stdout",
          "text": [
            "[VarA-noGL2 fold 6/6] C=20000 time=1.51s\n"
          ]
        },
        {
          "output_type": "stream",
          "name": "stdout",
          "text": [
            "--> VarA-noGL2 OOF=0.054035 | C=20000 | time 9.61s\n"
          ]
        },
        {
          "output_type": "stream",
          "name": "stdout",
          "text": [
            "Best VarA-noGL2: (5000, 0.053458870299620306)\n"
          ]
        },
        {
          "output_type": "stream",
          "name": "stdout",
          "text": [
            "Saved oof_hell_varA_noGL2.npy, test_hell_varA_noGL2.npy and *_logits.npy\n"
          ]
        },
        {
          "output_type": "stream",
          "name": "stdout",
          "text": [
            "BestA: (5000, 0.053458870299620306)\n"
          ]
        }
      ]
    },
    {
      "id": "b5d6b7e7-4732-4476-8120-cbab78d10781",
      "cell_type": "markdown",
      "metadata": {},
      "source": [
        "# Canonical Hellinger Logistic Regression (Variants A & B)\n",
        "\n",
        "Plan:\n",
        "- Data: use train.csv/test.csv with float64; fixed 6-folds from folds_6.json; LabelEncoder target.\n",
        "- Deterministic blocks: ['margin', 'shape', 'texture']; within each, lexicographically sort 64 cols; total 192; persist order for train/test.\n",
        "- Shared per-block transform (applied inside each fold fit):\n",
        "  1) clip to >=0\n",
        "  2) L1 normalize per sample within block with eps=1e-12\n",
        "  3) elementwise sqrt\n",
        "- Variant A (global L2): concat blocks -> global L2 row norm with eps=1e-12; LR(mn, lbfgs, l2, fit_intercept=False, max_iter=5000, tol=1e-8, C in {5,10,20,30,50,80,120,200}).\n",
        "- Variant B (center-only): concat blocks; NO global L2; fold-wise StandardScaler(mean-only) -> LR(fit_intercept=True, same solver, C in {50,100,200,300,500,800,1200}).\n",
        "- Stability: no constants injected; eps only in denominators; assert sums/norms; verify class order.\n",
        "- Outputs: save OOF/test probs and logits:\n",
        "  * oof_hell_canon_gl2.npy / test_hell_canon_gl2.npy\n",
        "  * oof_hell_center_only.npy / test_hell_center_only.npy\n",
        "  * logits saved via np.log(np.clip(P,1e-15,1.0)) for blender.\n",
        "- Expected single-model OOF ~0.035\u20130.065; adds 0.002\u20130.006 in blend.\n",
        "\n",
        "Next cells:\n",
        "1) Imports, IO, folds, label encoding, column ordering utils.\n",
        "2) Hellinger block transformer (pure NumPy, no in-place on views).\n",
        "3) CV trainers for Variant A and B with logging and assertions.\n",
        "4) Execution: run grids, save artifacts."
      ],
      "execution_count": null,
      "outputs": []
    },
    {
      "id": "1779cb4c-dd3d-4831-891b-08c441286901",
      "cell_type": "code",
      "metadata": {},
      "source": [
        "# Setup: imports, IO, folds, label encoding, deterministic block ordering (NATURAL NUMERIC ORDER)\n",
        "import numpy as np, pandas as pd, json, time, os, sys\n",
        "from sklearn.preprocessing import LabelEncoder, StandardScaler\n",
        "from sklearn.linear_model import LogisticRegression\n",
        "from sklearn.metrics import log_loss\n",
        "\n",
        "SEED = 2025\n",
        "np.random.seed(SEED)\n",
        "\n",
        "# Load data\n",
        "train = pd.read_csv('train.csv')\n",
        "test = pd.read_csv('test.csv')\n",
        "id_col = 'id'; target_col = 'species'\n",
        "\n",
        "# Label encode target\n",
        "le = LabelEncoder()\n",
        "y = le.fit_transform(train[target_col].values)\n",
        "K = len(le.classes_)\n",
        "print(f'Classes: {K}', flush=True)\n",
        "\n",
        "# Build deterministic block order with NATURAL numeric order within each block\n",
        "def natural(cols, prefix):\n",
        "    keep = [c for c in cols if c.startswith(prefix)]\n",
        "    def keyfunc(c):\n",
        "        s = c[len(prefix):]\n",
        "        num = ''.join(ch for ch in s if ch.isdigit())\n",
        "        return int(num) if num.isdigit() else 0\n",
        "    return sorted(keep, key=keyfunc)\n",
        "\n",
        "feature_cols_all = [c for c in train.columns if c not in [id_col, target_col]]\n",
        "ordered_cols = natural(feature_cols_all, 'margin') + natural(feature_cols_all, 'shape') + natural(feature_cols_all, 'texture')\n",
        "assert len(ordered_cols) == 192, f'Expected 192 features, got {len(ordered_cols)}'\n",
        "\n",
        "# Sanity: 64 per block; print first/last 5 per block\n",
        "margin_cols = natural(feature_cols_all, 'margin')\n",
        "shape_cols = natural(feature_cols_all, 'shape')\n",
        "texture_cols = natural(feature_cols_all, 'texture')\n",
        "print('Blocks sizes:', len(margin_cols), len(shape_cols), len(texture_cols), flush=True)\n",
        "print('margin head/tail:', margin_cols[:5], margin_cols[-5:], flush=True)\n",
        "print('shape head/tail:', shape_cols[:5], shape_cols[-5:], flush=True)\n",
        "print('texture head/tail:', texture_cols[:5], texture_cols[-5:], flush=True)\n",
        "\n",
        "# Persist ordered columns for reuse (overwrite old if existed)\n",
        "with open('ordered_cols.json', 'w') as f:\n",
        "    json.dump(ordered_cols, f)\n",
        "\n",
        "# Assemble matrices in float64\n",
        "X = train[ordered_cols].values.astype(np.float64, copy=True)\n",
        "X_test = test[ordered_cols].values.astype(np.float64, copy=True)\n",
        "print('Shapes:', X.shape, X_test.shape, flush=True)\n",
        "\n",
        "# Load fixed 6-folds\n",
        "with open('folds_6.json', 'r') as f:\n",
        "    folds = [(np.array(a, dtype=np.int64), np.array(b, dtype=np.int64)) for a, b in json.load(f)]\n",
        "print('Loaded folds:', len(folds), flush=True)"
      ],
      "execution_count": 7,
      "outputs": [
        {
          "output_type": "stream",
          "name": "stdout",
          "text": [
            "Classes: 99\n"
          ]
        },
        {
          "output_type": "stream",
          "name": "stdout",
          "text": [
            "Blocks sizes: 64 64 64\n"
          ]
        },
        {
          "output_type": "stream",
          "name": "stdout",
          "text": [
            "margin head/tail: ['margin1', 'margin2', 'margin3', 'margin4', 'margin5'] ['margin60', 'margin61', 'margin62', 'margin63', 'margin64']\n"
          ]
        },
        {
          "output_type": "stream",
          "name": "stdout",
          "text": [
            "shape head/tail: ['shape1', 'shape2', 'shape3', 'shape4', 'shape5'] ['shape60', 'shape61', 'shape62', 'shape63', 'shape64']\n"
          ]
        },
        {
          "output_type": "stream",
          "name": "stdout",
          "text": [
            "texture head/tail: ['texture1', 'texture2', 'texture3', 'texture4', 'texture5'] ['texture60', 'texture61', 'texture62', 'texture63', 'texture64']\n"
          ]
        },
        {
          "output_type": "stream",
          "name": "stdout",
          "text": [
            "Shapes: (891, 192) (99, 192)\n"
          ]
        },
        {
          "output_type": "stream",
          "name": "stdout",
          "text": [
            "Loaded folds: 6\n"
          ]
        }
      ]
    },
    {
      "id": "663d3421-eeb6-4d87-b257-58768bc1a8ec",
      "cell_type": "code",
      "metadata": {},
      "source": [
        "# Hellinger transforms and CV trainers for Variants A and B\n",
        "from typing import List, Tuple, Dict\n",
        "\n",
        "def get_block_indices(ordered_cols: List[str]) -> Dict[str, np.ndarray]:\n",
        "    blocks = {'margin': [], 'shape': [], 'texture': []}\n",
        "    for i, c in enumerate(ordered_cols):\n",
        "        for b in blocks.keys():\n",
        "            if c.startswith(b):\n",
        "                blocks[b].append(i)\n",
        "                break\n",
        "    for b in blocks:\n",
        "        if len(blocks[b]) == 0:\n",
        "            raise ValueError(f'No columns for block {b}')\n",
        "    # Ensure lexicographic order preserved (already sorted earlier)\n",
        "    return {b: np.array(idx, dtype=np.int64) for b, idx in blocks.items()}\n",
        "\n",
        "blk_idx = get_block_indices(ordered_cols)\n",
        "print({k: len(v) for k,v in blk_idx.items()}, flush=True)\n",
        "\n",
        "def hellinger_per_block(X_in: np.ndarray, blk_idx: Dict[str, np.ndarray], eps: float = 1e-12) -> np.ndarray:\n",
        "    # Returns a new array; no in-place on views\n",
        "    X = X_in.astype(np.float64, copy=True)\n",
        "    out_blocks = []\n",
        "    for b in ['margin', 'shape', 'texture']:\n",
        "        cols = blk_idx[b]\n",
        "        Xi = X[:, cols].copy()\n",
        "        # clip negatives to zero\n",
        "        np.maximum(Xi, 0.0, out=Xi)\n",
        "        # L1 normalize per row\n",
        "        s = Xi.sum(axis=1, keepdims=True)\n",
        "        Xi = Xi / np.maximum(s, eps)\n",
        "        # sqrt\n",
        "        Xi = np.sqrt(Xi, dtype=np.float64)\n",
        "        # Optional assert on sums ~1 before sqrt (not exact after sqrt)\n",
        "        ok = np.all((s.squeeze() >= 0.0))\n",
        "        if not ok:\n",
        "            raise ValueError('Negative sums encountered pre-normalization')\n",
        "        out_blocks.append(Xi)\n",
        "    return np.concatenate(out_blocks, axis=1)\n",
        "\n",
        "def row_l2_normalize(X: np.ndarray, eps: float = 1e-12) -> np.ndarray:\n",
        "    X = X.astype(np.float64, copy=True)\n",
        "    n = np.sqrt((X * X).sum(axis=1, keepdims=True))\n",
        "    X = X / np.maximum(n, eps)\n",
        "    return X\n",
        "\n",
        "def clip_norm(P: np.ndarray) -> np.ndarray:\n",
        "    P = np.clip(P, 1e-15, 1 - 1e-15)\n",
        "    P = P / P.sum(axis=1, keepdims=True)\n",
        "    return P\n",
        "\n",
        "def save_probs_and_logits(prefix: str, oof: np.ndarray, test_pred: np.ndarray):\n",
        "    np.save(f'oof_{prefix}.npy', oof.astype(np.float32))\n",
        "    np.save(f'test_{prefix}.npy', test_pred.astype(np.float32))\n",
        "    oof_log = np.log(np.clip(oof, 1e-15, 1.0))\n",
        "    test_log = np.log(np.clip(test_pred, 1e-15, 1.0))\n",
        "    np.save(f'oof_{prefix}_logits.npy', oof_log.astype(np.float32))\n",
        "    np.save(f'test_{prefix}_logits.npy', test_log.astype(np.float32))\n",
        "    print(f'Saved oof_{prefix}.npy, test_{prefix}.npy and *_logits.npy', flush=True)\n",
        "\n",
        "def run_variant_A(Cs=(5,10,20,30,50,80,120,200)) -> Tuple[Tuple[float, float], np.ndarray, np.ndarray]:\n",
        "    print('Running Variant A (global L2, fit_intercept=False)', flush=True)\n",
        "    best = (None, 1e9)\n",
        "    best_oof = None\n",
        "    best_test = None\n",
        "    X_h = hellinger_per_block(X, blk_idx)\n",
        "    Xh_test = hellinger_per_block(X_test, blk_idx)\n",
        "    # Assertions on per-block L1 prior to sqrt are implicit; do global L2 now\n",
        "    X_h_gl2 = row_l2_normalize(X_h)\n",
        "    Xh_test_gl2 = row_l2_normalize(Xh_test)\n",
        "    # Check norms ~1\n",
        "    n_tr = np.sqrt((X_h_gl2 * X_h_gl2).sum(axis=1))\n",
        "    n_te = np.sqrt((Xh_test_gl2 * Xh_test_gl2).sum(axis=1))\n",
        "    assert np.all(np.isfinite(n_tr)) and np.all(np.isfinite(n_te))\n",
        "    for C in Cs:\n",
        "        t0 = time.time()\n",
        "        oof = np.zeros((len(X_h_gl2), K), dtype=np.float64)\n",
        "        test_pred = np.zeros((len(Xh_test_gl2), K), dtype=np.float64)\n",
        "        for i, (trn_idx, val_idx) in enumerate(folds, 1):\n",
        "            trn_idx = np.array(trn_idx, dtype=np.int64); val_idx = np.array(val_idx, dtype=np.int64)\n",
        "            X_tr = X_h_gl2[trn_idx]\n",
        "            X_va = X_h_gl2[val_idx]\n",
        "            X_te = Xh_test_gl2\n",
        "            clf = LogisticRegression(multi_class='multinomial', solver='lbfgs', penalty='l2', fit_intercept=False, C=C, max_iter=5000, tol=1e-8, n_jobs=None, random_state=SEED)\n",
        "            fstart = time.time()\n",
        "            clf.fit(X_tr, y[trn_idx])\n",
        "            assert np.array_equal(clf.classes_, np.arange(K))\n",
        "            P_va = clf.predict_proba(X_va)\n",
        "            oof[val_idx] = P_va\n",
        "            test_pred += clf.predict_proba(X_te) / len(folds)\n",
        "            print(f'[VarA fold {i}/{len(folds)}] C={C} time={time.time()-fstart:.2f}s', flush=True)\n",
        "        ll = log_loss(y, clip_norm(oof), labels=list(range(K)))\n",
        "        print(f'Variant A OOF: {ll:.6f} (C={C}) in {time.time()-t0:.2f}s', flush=True)\n",
        "        if ll < best[1]:\n",
        "            best = (C, ll); best_oof = oof; best_test = test_pred\n",
        "    print('Best Variant A:', best, flush=True)\n",
        "    if best_oof is not None:\n",
        "        save_probs_and_logits('hell_canon_gl2', best_oof, best_test)\n",
        "    return best, best_oof, best_test\n",
        "\n",
        "def run_variant_B(Cs=(50,100,200,300,500,800,1200)) -> Tuple[Tuple[float, float], np.ndarray, np.ndarray]:\n",
        "    print('Running Variant B (center-only, fit_intercept=True)', flush=True)\n",
        "    best = (None, 1e9)\n",
        "    best_oof = None\n",
        "    best_test = None\n",
        "    X_h = hellinger_per_block(X, blk_idx)\n",
        "    Xh_test = hellinger_per_block(X_test, blk_idx)\n",
        "    for C in Cs:\n",
        "        t0 = time.time()\n",
        "        oof = np.zeros((len(X_h), K), dtype=np.float64)\n",
        "        test_pred_accum = np.zeros((len(Xh_test), K), dtype=np.float64)\n",
        "        for i, (trn_idx, val_idx) in enumerate(folds, 1):\n",
        "            trn_idx = np.array(trn_idx, dtype=np.int64); val_idx = np.array(val_idx, dtype=np.int64)\n",
        "            X_tr = X_h[trn_idx]\n",
        "            X_va = X_h[val_idx]\n",
        "            X_te = Xh_test.copy()\n",
        "            sc = StandardScaler(with_mean=True, with_std=False)\n",
        "            X_tr_c = sc.fit_transform(X_tr)\n",
        "            X_va_c = sc.transform(X_va)\n",
        "            X_te_c = sc.transform(X_te)\n",
        "            clf = LogisticRegression(multi_class='multinomial', solver='lbfgs', penalty='l2', fit_intercept=True, C=C, max_iter=5000, tol=1e-8, n_jobs=None, random_state=SEED)\n",
        "            fstart = time.time()\n",
        "            clf.fit(X_tr_c, y[trn_idx])\n",
        "            assert np.array_equal(clf.classes_, np.arange(K))\n",
        "            P_va = clf.predict_proba(X_va_c)\n",
        "            oof[val_idx] = P_va\n",
        "            test_pred_accum += clf.predict_proba(X_te_c) / len(folds)\n",
        "            print(f'[VarB fold {i}/{len(folds)}] C={C} time={time.time()-fstart:.2f}s', flush=True)\n",
        "        ll = log_loss(y, clip_norm(oof), labels=list(range(K)))\n",
        "        print(f'Variant B OOF: {ll:.6f} (C={C}) in {time.time()-t0:.2f}s', flush=True)\n",
        "        if ll < best[1]:\n",
        "            best = (C, ll); best_oof = oof; best_test = test_pred_accum\n",
        "    print('Best Variant B:', best, flush=True)\n",
        "    if best_oof is not None:\n",
        "        save_probs_and_logits('hell_center_only', best_oof, best_test)\n",
        "    return best, best_oof, best_test\n",
        "\n",
        "print('Functions ready. Next: execute Variant A and B.', flush=True)"
      ],
      "execution_count": 8,
      "outputs": [
        {
          "output_type": "stream",
          "name": "stdout",
          "text": [
            "{'margin': 64, 'shape': 64, 'texture': 64}\n"
          ]
        },
        {
          "output_type": "stream",
          "name": "stdout",
          "text": [
            "Functions ready. Next: execute Variant A and B.\n"
          ]
        }
      ]
    },
    {
      "id": "d39ed919-923c-4dc9-af8b-e3536cf21b85",
      "cell_type": "code",
      "metadata": {},
      "source": [
        "# Execute Variant A (global L2) grid\n",
        "t0 = time.time()\n",
        "bestA, oofA, testA = run_variant_A(Cs=(5,10,20,30,50,80,120,200))\n",
        "print('Variant A done in {:.2f}s | Best:'.format(time.time()-t0), bestA, flush=True)"
      ],
      "execution_count": 3,
      "outputs": [
        {
          "output_type": "stream",
          "name": "stdout",
          "text": [
            "Running Variant A (global L2, fit_intercept=False)\n"
          ]
        },
        {
          "output_type": "stream",
          "name": "stderr",
          "text": [
            "/usr/local/lib/python3.11/dist-packages/sklearn/linear_model/_logistic.py:1247: FutureWarning: 'multi_class' was deprecated in version 1.5 and will be removed in 1.7. From then on, it will always use 'multinomial'. Leave it to its default value to avoid this warning.\n  warnings.warn(\n"
          ]
        },
        {
          "output_type": "stream",
          "name": "stdout",
          "text": [
            "[VarA fold 1/6] C=5 time=0.46s\n"
          ]
        },
        {
          "output_type": "stream",
          "name": "stderr",
          "text": [
            "/usr/local/lib/python3.11/dist-packages/sklearn/linear_model/_logistic.py:1247: FutureWarning: 'multi_class' was deprecated in version 1.5 and will be removed in 1.7. From then on, it will always use 'multinomial'. Leave it to its default value to avoid this warning.\n  warnings.warn(\n"
          ]
        },
        {
          "output_type": "stream",
          "name": "stdout",
          "text": [
            "[VarA fold 2/6] C=5 time=0.59s\n"
          ]
        },
        {
          "output_type": "stream",
          "name": "stderr",
          "text": [
            "/usr/local/lib/python3.11/dist-packages/sklearn/linear_model/_logistic.py:1247: FutureWarning: 'multi_class' was deprecated in version 1.5 and will be removed in 1.7. From then on, it will always use 'multinomial'. Leave it to its default value to avoid this warning.\n  warnings.warn(\n"
          ]
        },
        {
          "output_type": "stream",
          "name": "stdout",
          "text": [
            "[VarA fold 3/6] C=5 time=0.65s\n"
          ]
        },
        {
          "output_type": "stream",
          "name": "stderr",
          "text": [
            "/usr/local/lib/python3.11/dist-packages/sklearn/linear_model/_logistic.py:1247: FutureWarning: 'multi_class' was deprecated in version 1.5 and will be removed in 1.7. From then on, it will always use 'multinomial'. Leave it to its default value to avoid this warning.\n  warnings.warn(\n"
          ]
        },
        {
          "output_type": "stream",
          "name": "stdout",
          "text": [
            "[VarA fold 4/6] C=5 time=0.68s\n"
          ]
        },
        {
          "output_type": "stream",
          "name": "stderr",
          "text": [
            "/usr/local/lib/python3.11/dist-packages/sklearn/linear_model/_logistic.py:1247: FutureWarning: 'multi_class' was deprecated in version 1.5 and will be removed in 1.7. From then on, it will always use 'multinomial'. Leave it to its default value to avoid this warning.\n  warnings.warn(\n"
          ]
        },
        {
          "output_type": "stream",
          "name": "stdout",
          "text": [
            "[VarA fold 5/6] C=5 time=0.54s\n"
          ]
        },
        {
          "output_type": "stream",
          "name": "stderr",
          "text": [
            "/usr/local/lib/python3.11/dist-packages/sklearn/linear_model/_logistic.py:1247: FutureWarning: 'multi_class' was deprecated in version 1.5 and will be removed in 1.7. From then on, it will always use 'multinomial'. Leave it to its default value to avoid this warning.\n  warnings.warn(\n"
          ]
        },
        {
          "output_type": "stream",
          "name": "stdout",
          "text": [
            "[VarA fold 6/6] C=5 time=0.64s\n"
          ]
        },
        {
          "output_type": "stream",
          "name": "stdout",
          "text": [
            "Variant A OOF: 1.761470 (C=5) in 3.59s\n"
          ]
        },
        {
          "output_type": "stream",
          "name": "stderr",
          "text": [
            "/usr/local/lib/python3.11/dist-packages/sklearn/linear_model/_logistic.py:1247: FutureWarning: 'multi_class' was deprecated in version 1.5 and will be removed in 1.7. From then on, it will always use 'multinomial'. Leave it to its default value to avoid this warning.\n  warnings.warn(\n"
          ]
        },
        {
          "output_type": "stream",
          "name": "stdout",
          "text": [
            "[VarA fold 1/6] C=10 time=0.83s\n"
          ]
        },
        {
          "output_type": "stream",
          "name": "stderr",
          "text": [
            "/usr/local/lib/python3.11/dist-packages/sklearn/linear_model/_logistic.py:1247: FutureWarning: 'multi_class' was deprecated in version 1.5 and will be removed in 1.7. From then on, it will always use 'multinomial'. Leave it to its default value to avoid this warning.\n  warnings.warn(\n"
          ]
        },
        {
          "output_type": "stream",
          "name": "stdout",
          "text": [
            "[VarA fold 2/6] C=10 time=0.70s\n"
          ]
        },
        {
          "output_type": "stream",
          "name": "stdout",
          "text": [
            "[VarA fold 3/6] C=10 time=0.79s\n"
          ]
        },
        {
          "output_type": "stream",
          "name": "stderr",
          "text": [
            "/usr/local/lib/python3.11/dist-packages/sklearn/linear_model/_logistic.py:1247: FutureWarning: 'multi_class' was deprecated in version 1.5 and will be removed in 1.7. From then on, it will always use 'multinomial'. Leave it to its default value to avoid this warning.\n  warnings.warn(\n"
          ]
        },
        {
          "output_type": "stream",
          "name": "stdout",
          "text": [
            "[VarA fold 4/6] C=10 time=0.76s\n"
          ]
        },
        {
          "output_type": "stream",
          "name": "stderr",
          "text": [
            "/usr/local/lib/python3.11/dist-packages/sklearn/linear_model/_logistic.py:1247: FutureWarning: 'multi_class' was deprecated in version 1.5 and will be removed in 1.7. From then on, it will always use 'multinomial'. Leave it to its default value to avoid this warning.\n  warnings.warn(\n"
          ]
        },
        {
          "output_type": "stream",
          "name": "stdout",
          "text": [
            "[VarA fold 5/6] C=10 time=0.96s\n"
          ]
        },
        {
          "output_type": "stream",
          "name": "stderr",
          "text": [
            "/usr/local/lib/python3.11/dist-packages/sklearn/linear_model/_logistic.py:1247: FutureWarning: 'multi_class' was deprecated in version 1.5 and will be removed in 1.7. From then on, it will always use 'multinomial'. Leave it to its default value to avoid this warning.\n  warnings.warn(\n"
          ]
        },
        {
          "output_type": "stream",
          "name": "stdout",
          "text": [
            "[VarA fold 6/6] C=10 time=0.87s\n"
          ]
        },
        {
          "output_type": "stream",
          "name": "stdout",
          "text": [
            "Variant A OOF: 1.170059 (C=10) in 4.93s\n"
          ]
        },
        {
          "output_type": "stream",
          "name": "stderr",
          "text": [
            "/usr/local/lib/python3.11/dist-packages/sklearn/linear_model/_logistic.py:1247: FutureWarning: 'multi_class' was deprecated in version 1.5 and will be removed in 1.7. From then on, it will always use 'multinomial'. Leave it to its default value to avoid this warning.\n  warnings.warn(\n"
          ]
        },
        {
          "output_type": "stream",
          "name": "stdout",
          "text": [
            "[VarA fold 1/6] C=20 time=1.01s\n"
          ]
        },
        {
          "output_type": "stream",
          "name": "stderr",
          "text": [
            "/usr/local/lib/python3.11/dist-packages/sklearn/linear_model/_logistic.py:1247: FutureWarning: 'multi_class' was deprecated in version 1.5 and will be removed in 1.7. From then on, it will always use 'multinomial'. Leave it to its default value to avoid this warning.\n  warnings.warn(\n"
          ]
        },
        {
          "output_type": "stream",
          "name": "stdout",
          "text": [
            "[VarA fold 2/6] C=20 time=0.85s\n"
          ]
        },
        {
          "output_type": "stream",
          "name": "stderr",
          "text": [
            "/usr/local/lib/python3.11/dist-packages/sklearn/linear_model/_logistic.py:1247: FutureWarning: 'multi_class' was deprecated in version 1.5 and will be removed in 1.7. From then on, it will always use 'multinomial'. Leave it to its default value to avoid this warning.\n  warnings.warn(\n"
          ]
        },
        {
          "output_type": "stream",
          "name": "stdout",
          "text": [
            "[VarA fold 3/6] C=20 time=0.94s\n"
          ]
        },
        {
          "output_type": "stream",
          "name": "stderr",
          "text": [
            "/usr/local/lib/python3.11/dist-packages/sklearn/linear_model/_logistic.py:1247: FutureWarning: 'multi_class' was deprecated in version 1.5 and will be removed in 1.7. From then on, it will always use 'multinomial'. Leave it to its default value to avoid this warning.\n  warnings.warn(\n"
          ]
        },
        {
          "output_type": "stream",
          "name": "stdout",
          "text": [
            "[VarA fold 4/6] C=20 time=0.96s\n"
          ]
        },
        {
          "output_type": "stream",
          "name": "stderr",
          "text": [
            "/usr/local/lib/python3.11/dist-packages/sklearn/linear_model/_logistic.py:1247: FutureWarning: 'multi_class' was deprecated in version 1.5 and will be removed in 1.7. From then on, it will always use 'multinomial'. Leave it to its default value to avoid this warning.\n  warnings.warn(\n"
          ]
        },
        {
          "output_type": "stream",
          "name": "stdout",
          "text": [
            "[VarA fold 5/6] C=20 time=1.02s\n"
          ]
        },
        {
          "output_type": "stream",
          "name": "stderr",
          "text": [
            "/usr/local/lib/python3.11/dist-packages/sklearn/linear_model/_logistic.py:1247: FutureWarning: 'multi_class' was deprecated in version 1.5 and will be removed in 1.7. From then on, it will always use 'multinomial'. Leave it to its default value to avoid this warning.\n  warnings.warn(\n"
          ]
        },
        {
          "output_type": "stream",
          "name": "stdout",
          "text": [
            "[VarA fold 6/6] C=20 time=1.10s\n"
          ]
        },
        {
          "output_type": "stream",
          "name": "stdout",
          "text": [
            "Variant A OOF: 0.776551 (C=20) in 5.90s\n"
          ]
        },
        {
          "output_type": "stream",
          "name": "stderr",
          "text": [
            "/usr/local/lib/python3.11/dist-packages/sklearn/linear_model/_logistic.py:1247: FutureWarning: 'multi_class' was deprecated in version 1.5 and will be removed in 1.7. From then on, it will always use 'multinomial'. Leave it to its default value to avoid this warning.\n  warnings.warn(\n"
          ]
        },
        {
          "output_type": "stream",
          "name": "stdout",
          "text": [
            "[VarA fold 1/6] C=30 time=0.97s\n"
          ]
        },
        {
          "output_type": "stream",
          "name": "stderr",
          "text": [
            "/usr/local/lib/python3.11/dist-packages/sklearn/linear_model/_logistic.py:1247: FutureWarning: 'multi_class' was deprecated in version 1.5 and will be removed in 1.7. From then on, it will always use 'multinomial'. Leave it to its default value to avoid this warning.\n  warnings.warn(\n"
          ]
        },
        {
          "output_type": "stream",
          "name": "stdout",
          "text": [
            "[VarA fold 2/6] C=30 time=1.11s\n"
          ]
        },
        {
          "output_type": "stream",
          "name": "stderr",
          "text": [
            "/usr/local/lib/python3.11/dist-packages/sklearn/linear_model/_logistic.py:1247: FutureWarning: 'multi_class' was deprecated in version 1.5 and will be removed in 1.7. From then on, it will always use 'multinomial'. Leave it to its default value to avoid this warning.\n  warnings.warn(\n"
          ]
        },
        {
          "output_type": "stream",
          "name": "stdout",
          "text": [
            "[VarA fold 3/6] C=30 time=1.21s\n"
          ]
        },
        {
          "output_type": "stream",
          "name": "stderr",
          "text": [
            "/usr/local/lib/python3.11/dist-packages/sklearn/linear_model/_logistic.py:1247: FutureWarning: 'multi_class' was deprecated in version 1.5 and will be removed in 1.7. From then on, it will always use 'multinomial'. Leave it to its default value to avoid this warning.\n  warnings.warn(\n"
          ]
        },
        {
          "output_type": "stream",
          "name": "stdout",
          "text": [
            "[VarA fold 4/6] C=30 time=1.24s\n"
          ]
        },
        {
          "output_type": "stream",
          "name": "stderr",
          "text": [
            "/usr/local/lib/python3.11/dist-packages/sklearn/linear_model/_logistic.py:1247: FutureWarning: 'multi_class' was deprecated in version 1.5 and will be removed in 1.7. From then on, it will always use 'multinomial'. Leave it to its default value to avoid this warning.\n  warnings.warn(\n"
          ]
        },
        {
          "output_type": "stream",
          "name": "stdout",
          "text": [
            "[VarA fold 5/6] C=30 time=1.22s\n"
          ]
        },
        {
          "output_type": "stream",
          "name": "stderr",
          "text": [
            "/usr/local/lib/python3.11/dist-packages/sklearn/linear_model/_logistic.py:1247: FutureWarning: 'multi_class' was deprecated in version 1.5 and will be removed in 1.7. From then on, it will always use 'multinomial'. Leave it to its default value to avoid this warning.\n  warnings.warn(\n"
          ]
        },
        {
          "output_type": "stream",
          "name": "stdout",
          "text": [
            "[VarA fold 6/6] C=30 time=1.16s\n"
          ]
        },
        {
          "output_type": "stream",
          "name": "stdout",
          "text": [
            "Variant A OOF: 0.617304 (C=30) in 6.94s\n"
          ]
        },
        {
          "output_type": "stream",
          "name": "stderr",
          "text": [
            "/usr/local/lib/python3.11/dist-packages/sklearn/linear_model/_logistic.py:1247: FutureWarning: 'multi_class' was deprecated in version 1.5 and will be removed in 1.7. From then on, it will always use 'multinomial'. Leave it to its default value to avoid this warning.\n  warnings.warn(\n"
          ]
        },
        {
          "output_type": "stream",
          "name": "stdout",
          "text": [
            "[VarA fold 1/6] C=50 time=0.95s\n"
          ]
        },
        {
          "output_type": "stream",
          "name": "stderr",
          "text": [
            "/usr/local/lib/python3.11/dist-packages/sklearn/linear_model/_logistic.py:1247: FutureWarning: 'multi_class' was deprecated in version 1.5 and will be removed in 1.7. From then on, it will always use 'multinomial'. Leave it to its default value to avoid this warning.\n  warnings.warn(\n"
          ]
        },
        {
          "output_type": "stream",
          "name": "stdout",
          "text": [
            "[VarA fold 2/6] C=50 time=0.93s\n"
          ]
        },
        {
          "output_type": "stream",
          "name": "stderr",
          "text": [
            "/usr/local/lib/python3.11/dist-packages/sklearn/linear_model/_logistic.py:1247: FutureWarning: 'multi_class' was deprecated in version 1.5 and will be removed in 1.7. From then on, it will always use 'multinomial'. Leave it to its default value to avoid this warning.\n  warnings.warn(\n"
          ]
        },
        {
          "output_type": "stream",
          "name": "stdout",
          "text": [
            "[VarA fold 3/6] C=50 time=0.82s\n"
          ]
        },
        {
          "output_type": "stream",
          "name": "stderr",
          "text": [
            "/usr/local/lib/python3.11/dist-packages/sklearn/linear_model/_logistic.py:1247: FutureWarning: 'multi_class' was deprecated in version 1.5 and will be removed in 1.7. From then on, it will always use 'multinomial'. Leave it to its default value to avoid this warning.\n  warnings.warn(\n"
          ]
        },
        {
          "output_type": "stream",
          "name": "stdout",
          "text": [
            "[VarA fold 4/6] C=50 time=0.84s\n"
          ]
        },
        {
          "output_type": "stream",
          "name": "stderr",
          "text": [
            "/usr/local/lib/python3.11/dist-packages/sklearn/linear_model/_logistic.py:1247: FutureWarning: 'multi_class' was deprecated in version 1.5 and will be removed in 1.7. From then on, it will always use 'multinomial'. Leave it to its default value to avoid this warning.\n  warnings.warn(\n"
          ]
        },
        {
          "output_type": "stream",
          "name": "stdout",
          "text": [
            "[VarA fold 5/6] C=50 time=1.22s\n"
          ]
        },
        {
          "output_type": "stream",
          "name": "stderr",
          "text": [
            "/usr/local/lib/python3.11/dist-packages/sklearn/linear_model/_logistic.py:1247: FutureWarning: 'multi_class' was deprecated in version 1.5 and will be removed in 1.7. From then on, it will always use 'multinomial'. Leave it to its default value to avoid this warning.\n  warnings.warn(\n"
          ]
        },
        {
          "output_type": "stream",
          "name": "stdout",
          "text": [
            "[VarA fold 6/6] C=50 time=1.27s\n"
          ]
        },
        {
          "output_type": "stream",
          "name": "stdout",
          "text": [
            "Variant A OOF: 0.468983 (C=50) in 6.05s\n"
          ]
        },
        {
          "output_type": "stream",
          "name": "stderr",
          "text": [
            "/usr/local/lib/python3.11/dist-packages/sklearn/linear_model/_logistic.py:1247: FutureWarning: 'multi_class' was deprecated in version 1.5 and will be removed in 1.7. From then on, it will always use 'multinomial'. Leave it to its default value to avoid this warning.\n  warnings.warn(\n"
          ]
        },
        {
          "output_type": "stream",
          "name": "stdout",
          "text": [
            "[VarA fold 1/6] C=80 time=1.71s\n"
          ]
        },
        {
          "output_type": "stream",
          "name": "stderr",
          "text": [
            "/usr/local/lib/python3.11/dist-packages/sklearn/linear_model/_logistic.py:1247: FutureWarning: 'multi_class' was deprecated in version 1.5 and will be removed in 1.7. From then on, it will always use 'multinomial'. Leave it to its default value to avoid this warning.\n  warnings.warn(\n"
          ]
        },
        {
          "output_type": "stream",
          "name": "stdout",
          "text": [
            "[VarA fold 2/6] C=80 time=1.50s\n"
          ]
        },
        {
          "output_type": "stream",
          "name": "stderr",
          "text": [
            "/usr/local/lib/python3.11/dist-packages/sklearn/linear_model/_logistic.py:1247: FutureWarning: 'multi_class' was deprecated in version 1.5 and will be removed in 1.7. From then on, it will always use 'multinomial'. Leave it to its default value to avoid this warning.\n  warnings.warn(\n"
          ]
        },
        {
          "output_type": "stream",
          "name": "stdout",
          "text": [
            "[VarA fold 3/6] C=80 time=1.11s\n"
          ]
        },
        {
          "output_type": "stream",
          "name": "stderr",
          "text": [
            "/usr/local/lib/python3.11/dist-packages/sklearn/linear_model/_logistic.py:1247: FutureWarning: 'multi_class' was deprecated in version 1.5 and will be removed in 1.7. From then on, it will always use 'multinomial'. Leave it to its default value to avoid this warning.\n  warnings.warn(\n"
          ]
        },
        {
          "output_type": "stream",
          "name": "stdout",
          "text": [
            "[VarA fold 4/6] C=80 time=0.91s\n"
          ]
        },
        {
          "output_type": "stream",
          "name": "stderr",
          "text": [
            "/usr/local/lib/python3.11/dist-packages/sklearn/linear_model/_logistic.py:1247: FutureWarning: 'multi_class' was deprecated in version 1.5 and will be removed in 1.7. From then on, it will always use 'multinomial'. Leave it to its default value to avoid this warning.\n  warnings.warn(\n"
          ]
        },
        {
          "output_type": "stream",
          "name": "stdout",
          "text": [
            "[VarA fold 5/6] C=80 time=1.16s\n"
          ]
        },
        {
          "output_type": "stream",
          "name": "stderr",
          "text": [
            "/usr/local/lib/python3.11/dist-packages/sklearn/linear_model/_logistic.py:1247: FutureWarning: 'multi_class' was deprecated in version 1.5 and will be removed in 1.7. From then on, it will always use 'multinomial'. Leave it to its default value to avoid this warning.\n  warnings.warn(\n"
          ]
        },
        {
          "output_type": "stream",
          "name": "stdout",
          "text": [
            "[VarA fold 6/6] C=80 time=1.22s\n"
          ]
        },
        {
          "output_type": "stream",
          "name": "stdout",
          "text": [
            "Variant A OOF: 0.369650 (C=80) in 7.63s\n"
          ]
        },
        {
          "output_type": "stream",
          "name": "stderr",
          "text": [
            "/usr/local/lib/python3.11/dist-packages/sklearn/linear_model/_logistic.py:1247: FutureWarning: 'multi_class' was deprecated in version 1.5 and will be removed in 1.7. From then on, it will always use 'multinomial'. Leave it to its default value to avoid this warning.\n  warnings.warn(\n"
          ]
        },
        {
          "output_type": "stream",
          "name": "stdout",
          "text": [
            "[VarA fold 1/6] C=120 time=1.16s\n"
          ]
        },
        {
          "output_type": "stream",
          "name": "stderr",
          "text": [
            "/usr/local/lib/python3.11/dist-packages/sklearn/linear_model/_logistic.py:1247: FutureWarning: 'multi_class' was deprecated in version 1.5 and will be removed in 1.7. From then on, it will always use 'multinomial'. Leave it to its default value to avoid this warning.\n  warnings.warn(\n"
          ]
        },
        {
          "output_type": "stream",
          "name": "stdout",
          "text": [
            "[VarA fold 2/6] C=120 time=1.09s\n"
          ]
        },
        {
          "output_type": "stream",
          "name": "stderr",
          "text": [
            "/usr/local/lib/python3.11/dist-packages/sklearn/linear_model/_logistic.py:1247: FutureWarning: 'multi_class' was deprecated in version 1.5 and will be removed in 1.7. From then on, it will always use 'multinomial'. Leave it to its default value to avoid this warning.\n  warnings.warn(\n"
          ]
        },
        {
          "output_type": "stream",
          "name": "stdout",
          "text": [
            "[VarA fold 3/6] C=120 time=1.05s\n"
          ]
        },
        {
          "output_type": "stream",
          "name": "stderr",
          "text": [
            "/usr/local/lib/python3.11/dist-packages/sklearn/linear_model/_logistic.py:1247: FutureWarning: 'multi_class' was deprecated in version 1.5 and will be removed in 1.7. From then on, it will always use 'multinomial'. Leave it to its default value to avoid this warning.\n  warnings.warn(\n"
          ]
        }
      ]
    },
    {
      "id": "3e5e1c97-9d2b-4b7d-a81a-735916116ff8",
      "cell_type": "code",
      "metadata": {},
      "source": [
        "# Diagnostic: Variant A with fit_intercept=True at C=80 + sanity checks\n",
        "from numpy.linalg import norm\n",
        "C_try = 80\n",
        "print('Building Hellinger features and global L2...')\n",
        "X_h = hellinger_per_block(X, blk_idx)\n",
        "Xh_test = hellinger_per_block(X_test, blk_idx)\n",
        "\n",
        "# Sanity diagnostics on block norms pre-global L2\n",
        "for b in ['margin','shape','texture']:\n",
        "    idx = blk_idx[b]\n",
        "    l2s = norm(X_h[:, idx], axis=1)\n",
        "    print(f'Block {b}: L2 min/med/max = {l2s.min():.6f}/{np.median(l2s):.6f}/{l2s.max():.6f}')\n",
        "tot_l2 = norm(X_h, axis=1)\n",
        "print('Concat pre-gl2 row L2 min/med/max:', tot_l2.min(), np.median(tot_l2), tot_l2.max())\n",
        "\n",
        "X_h_gl2 = row_l2_normalize(X_h)\n",
        "Xh_test_gl2 = row_l2_normalize(Xh_test)\n",
        "row_l2 = norm(X_h_gl2, axis=1)\n",
        "print('Post-gl2 row L2 min/med/max:', row_l2.min(), np.median(row_l2), row_l2.max())\n",
        "assert np.all(np.isfinite(X_h_gl2)) and np.all(np.isfinite(Xh_test_gl2))\n",
        "\n",
        "# Single trial: fit_intercept=True with C=80\n",
        "oof = np.zeros((len(X_h_gl2), K), dtype=np.float64)\n",
        "test_pred = np.zeros((len(Xh_test_gl2), K), dtype=np.float64)\n",
        "t0 = time.time()\n",
        "for i, (trn_idx, val_idx) in enumerate(folds, 1):\n",
        "    trn_idx = np.array(trn_idx, dtype=np.int64); val_idx = np.array(val_idx, dtype=np.int64)\n",
        "    X_tr = X_h_gl2[trn_idx]\n",
        "    X_va = X_h_gl2[val_idx]\n",
        "    clf = LogisticRegression(multi_class='multinomial', solver='lbfgs', penalty='l2', fit_intercept=True, C=C_try, max_iter=5000, tol=1e-8, random_state=SEED)\n",
        "    fstart = time.time()\n",
        "    clf.fit(X_tr, y[trn_idx])\n",
        "    assert np.array_equal(clf.classes_, np.arange(K))\n",
        "    P_va = clf.predict_proba(X_va)\n",
        "    oof[val_idx] = P_va\n",
        "    test_pred += clf.predict_proba(Xh_test_gl2) / len(folds)\n",
        "    print(f'[Diag VarA fold {i}/{len(folds)}] C={C_try} time={time.time()-fstart:.2f}s')\n",
        "ll = log_loss(y, clip_norm(oof), labels=list(range(K)))\n",
        "print(f'DIAG Variant A (fit_intercept=True) OOF: {ll:.6f} at C={C_try} in {time.time()-t0:.2f}s')"
      ],
      "execution_count": 4,
      "outputs": [
        {
          "output_type": "stream",
          "name": "stdout",
          "text": [
            "Building Hellinger features and global L2...\nBlock margin: L2 min/med/max = 1.000000/1.000000/1.000000\nBlock shape: L2 min/med/max = 1.000000/1.000000/1.000000\nBlock texture: L2 min/med/max = 1.000000/1.000000/1.000000\nConcat pre-gl2 row L2 min/med/max: 1.732050807568877 1.7320508075688772 1.7320508075688776\nPost-gl2 row L2 min/med/max: 0.9999999999999998 1.0 1.0000000000000002\n"
          ]
        },
        {
          "output_type": "stream",
          "name": "stderr",
          "text": [
            "/usr/local/lib/python3.11/dist-packages/sklearn/linear_model/_logistic.py:1247: FutureWarning: 'multi_class' was deprecated in version 1.5 and will be removed in 1.7. From then on, it will always use 'multinomial'. Leave it to its default value to avoid this warning.\n  warnings.warn(\n"
          ]
        },
        {
          "output_type": "stream",
          "name": "stdout",
          "text": [
            "[Diag VarA fold 1/6] C=80 time=2.02s\n"
          ]
        },
        {
          "output_type": "stream",
          "name": "stderr",
          "text": [
            "/usr/local/lib/python3.11/dist-packages/sklearn/linear_model/_logistic.py:1247: FutureWarning: 'multi_class' was deprecated in version 1.5 and will be removed in 1.7. From then on, it will always use 'multinomial'. Leave it to its default value to avoid this warning.\n  warnings.warn(\n"
          ]
        },
        {
          "output_type": "stream",
          "name": "stdout",
          "text": [
            "[Diag VarA fold 2/6] C=80 time=1.62s\n"
          ]
        },
        {
          "output_type": "stream",
          "name": "stderr",
          "text": [
            "/usr/local/lib/python3.11/dist-packages/sklearn/linear_model/_logistic.py:1247: FutureWarning: 'multi_class' was deprecated in version 1.5 and will be removed in 1.7. From then on, it will always use 'multinomial'. Leave it to its default value to avoid this warning.\n  warnings.warn(\n"
          ]
        },
        {
          "output_type": "stream",
          "name": "stdout",
          "text": [
            "[Diag VarA fold 4/6] C=80 time=2.63s\n"
          ]
        },
        {
          "output_type": "stream",
          "name": "stderr",
          "text": [
            "/usr/local/lib/python3.11/dist-packages/sklearn/linear_model/_logistic.py:1247: FutureWarning: 'multi_class' was deprecated in version 1.5 and will be removed in 1.7. From then on, it will always use 'multinomial'. Leave it to its default value to avoid this warning.\n  warnings.warn(\n"
          ]
        },
        {
          "output_type": "stream",
          "name": "stdout",
          "text": [
            "[Diag VarA fold 5/6] C=80 time=2.77s\n"
          ]
        },
        {
          "output_type": "stream",
          "name": "stderr",
          "text": [
            "/usr/local/lib/python3.11/dist-packages/sklearn/linear_model/_logistic.py:1247: FutureWarning: 'multi_class' was deprecated in version 1.5 and will be removed in 1.7. From then on, it will always use 'multinomial'. Leave it to its default value to avoid this warning.\n  warnings.warn(\n"
          ]
        },
        {
          "output_type": "stream",
          "name": "stdout",
          "text": [
            "[Diag VarA fold 6/6] C=80 time=3.20s\nDIAG Variant A (fit_intercept=True) OOF: 0.367674 at C=80 in 14.14s\n"
          ]
        }
      ]
    },
    {
      "id": "07603b14-5786-442c-ba64-8cec99afd5c5",
      "cell_type": "code",
      "metadata": {},
      "source": [
        "# Execute Variant B (center-only) with extended C grid\n",
        "Cs_ext = (50,100,200,300,500,800,1200,2000,4000)\n",
        "t0 = time.time()\n",
        "bestB, oofB, testB = run_variant_B(Cs=Cs_ext)\n",
        "print('Variant B done in {:.2f}s | Best:'.format(time.time()-t0), bestB, flush=True)"
      ],
      "execution_count": 5,
      "outputs": [
        {
          "output_type": "stream",
          "name": "stdout",
          "text": [
            "Running Variant B (center-only, fit_intercept=True)\n"
          ]
        },
        {
          "output_type": "stream",
          "name": "stderr",
          "text": [
            "/usr/local/lib/python3.11/dist-packages/sklearn/linear_model/_logistic.py:1247: FutureWarning: 'multi_class' was deprecated in version 1.5 and will be removed in 1.7. From then on, it will always use 'multinomial'. Leave it to its default value to avoid this warning.\n  warnings.warn(\n"
          ]
        },
        {
          "output_type": "stream",
          "name": "stdout",
          "text": [
            "[VarB fold 1/6] C=50 time=1.42s\n"
          ]
        },
        {
          "output_type": "stream",
          "name": "stderr",
          "text": [
            "/usr/local/lib/python3.11/dist-packages/sklearn/linear_model/_logistic.py:1247: FutureWarning: 'multi_class' was deprecated in version 1.5 and will be removed in 1.7. From then on, it will always use 'multinomial'. Leave it to its default value to avoid this warning.\n  warnings.warn(\n"
          ]
        },
        {
          "output_type": "stream",
          "name": "stdout",
          "text": [
            "[VarB fold 2/6] C=50 time=1.41s\n"
          ]
        },
        {
          "output_type": "stream",
          "name": "stderr",
          "text": [
            "/usr/local/lib/python3.11/dist-packages/sklearn/linear_model/_logistic.py:1247: FutureWarning: 'multi_class' was deprecated in version 1.5 and will be removed in 1.7. From then on, it will always use 'multinomial'. Leave it to its default value to avoid this warning.\n  warnings.warn(\n"
          ]
        },
        {
          "output_type": "stream",
          "name": "stdout",
          "text": [
            "[VarB fold 3/6] C=50 time=1.69s\n"
          ]
        },
        {
          "output_type": "stream",
          "name": "stderr",
          "text": [
            "/usr/local/lib/python3.11/dist-packages/sklearn/linear_model/_logistic.py:1247: FutureWarning: 'multi_class' was deprecated in version 1.5 and will be removed in 1.7. From then on, it will always use 'multinomial'. Leave it to its default value to avoid this warning.\n  warnings.warn(\n"
          ]
        },
        {
          "output_type": "stream",
          "name": "stderr",
          "text": [
            "/usr/local/lib/python3.11/dist-packages/sklearn/linear_model/_logistic.py:1247: FutureWarning: 'multi_class' was deprecated in version 1.5 and will be removed in 1.7. From then on, it will always use 'multinomial'. Leave it to its default value to avoid this warning.\n  warnings.warn(\n"
          ]
        },
        {
          "output_type": "stream",
          "name": "stdout",
          "text": [
            "[VarB fold 5/6] C=50 time=1.13s\n"
          ]
        },
        {
          "output_type": "stream",
          "name": "stderr",
          "text": [
            "/usr/local/lib/python3.11/dist-packages/sklearn/linear_model/_logistic.py:1247: FutureWarning: 'multi_class' was deprecated in version 1.5 and will be removed in 1.7. From then on, it will always use 'multinomial'. Leave it to its default value to avoid this warning.\n  warnings.warn(\n"
          ]
        },
        {
          "output_type": "stream",
          "name": "stdout",
          "text": [
            "[VarB fold 6/6] C=50 time=1.18s\n"
          ]
        },
        {
          "output_type": "stream",
          "name": "stdout",
          "text": [
            "Variant B OOF: 0.273386 (C=50) in 8.19s\n"
          ]
        },
        {
          "output_type": "stream",
          "name": "stderr",
          "text": [
            "/usr/local/lib/python3.11/dist-packages/sklearn/linear_model/_logistic.py:1247: FutureWarning: 'multi_class' was deprecated in version 1.5 and will be removed in 1.7. From then on, it will always use 'multinomial'. Leave it to its default value to avoid this warning.\n  warnings.warn(\n"
          ]
        },
        {
          "output_type": "stream",
          "name": "stdout",
          "text": [
            "[VarB fold 1/6] C=100 time=1.06s\n"
          ]
        },
        {
          "output_type": "stream",
          "name": "stderr",
          "text": [
            "/usr/local/lib/python3.11/dist-packages/sklearn/linear_model/_logistic.py:1247: FutureWarning: 'multi_class' was deprecated in version 1.5 and will be removed in 1.7. From then on, it will always use 'multinomial'. Leave it to its default value to avoid this warning.\n  warnings.warn(\n"
          ]
        },
        {
          "output_type": "stream",
          "name": "stdout",
          "text": [
            "[VarB fold 2/6] C=100 time=0.93s\n"
          ]
        },
        {
          "output_type": "stream",
          "name": "stderr",
          "text": [
            "/usr/local/lib/python3.11/dist-packages/sklearn/linear_model/_logistic.py:1247: FutureWarning: 'multi_class' was deprecated in version 1.5 and will be removed in 1.7. From then on, it will always use 'multinomial'. Leave it to its default value to avoid this warning.\n  warnings.warn(\n"
          ]
        },
        {
          "output_type": "stream",
          "name": "stdout",
          "text": [
            "[VarB fold 3/6] C=100 time=0.93s\n"
          ]
        },
        {
          "output_type": "stream",
          "name": "stderr",
          "text": [
            "/usr/local/lib/python3.11/dist-packages/sklearn/linear_model/_logistic.py:1247: FutureWarning: 'multi_class' was deprecated in version 1.5 and will be removed in 1.7. From then on, it will always use 'multinomial'. Leave it to its default value to avoid this warning.\n  warnings.warn(\n"
          ]
        },
        {
          "output_type": "stream",
          "name": "stdout",
          "text": [
            "[VarB fold 4/6] C=100 time=1.34s\n"
          ]
        },
        {
          "output_type": "stream",
          "name": "stderr",
          "text": [
            "/usr/local/lib/python3.11/dist-packages/sklearn/linear_model/_logistic.py:1247: FutureWarning: 'multi_class' was deprecated in version 1.5 and will be removed in 1.7. From then on, it will always use 'multinomial'. Leave it to its default value to avoid this warning.\n  warnings.warn(\n"
          ]
        },
        {
          "output_type": "stream",
          "name": "stdout",
          "text": [
            "[VarB fold 5/6] C=100 time=1.90s\n"
          ]
        },
        {
          "output_type": "stream",
          "name": "stderr",
          "text": [
            "/usr/local/lib/python3.11/dist-packages/sklearn/linear_model/_logistic.py:1247: FutureWarning: 'multi_class' was deprecated in version 1.5 and will be removed in 1.7. From then on, it will always use 'multinomial'. Leave it to its default value to avoid this warning.\n  warnings.warn(\n"
          ]
        },
        {
          "output_type": "stream",
          "name": "stdout",
          "text": [
            "[VarB fold 6/6] C=100 time=2.00s\n"
          ]
        },
        {
          "output_type": "stream",
          "name": "stdout",
          "text": [
            "Variant B OOF: 0.202988 (C=100) in 8.21s\n"
          ]
        },
        {
          "output_type": "stream",
          "name": "stderr",
          "text": [
            "/usr/local/lib/python3.11/dist-packages/sklearn/linear_model/_logistic.py:1247: FutureWarning: 'multi_class' was deprecated in version 1.5 and will be removed in 1.7. From then on, it will always use 'multinomial'. Leave it to its default value to avoid this warning.\n  warnings.warn(\n"
          ]
        },
        {
          "output_type": "stream",
          "name": "stdout",
          "text": [
            "[VarB fold 1/6] C=200 time=2.11s\n"
          ]
        },
        {
          "output_type": "stream",
          "name": "stderr",
          "text": [
            "/usr/local/lib/python3.11/dist-packages/sklearn/linear_model/_logistic.py:1247: FutureWarning: 'multi_class' was deprecated in version 1.5 and will be removed in 1.7. From then on, it will always use 'multinomial'. Leave it to its default value to avoid this warning.\n  warnings.warn(\n"
          ]
        },
        {
          "output_type": "stream",
          "name": "stdout",
          "text": [
            "[VarB fold 2/6] C=200 time=2.18s\n"
          ]
        },
        {
          "output_type": "stream",
          "name": "stderr",
          "text": [
            "/usr/local/lib/python3.11/dist-packages/sklearn/linear_model/_logistic.py:1247: FutureWarning: 'multi_class' was deprecated in version 1.5 and will be removed in 1.7. From then on, it will always use 'multinomial'. Leave it to its default value to avoid this warning.\n  warnings.warn(\n"
          ]
        },
        {
          "output_type": "stream",
          "name": "stdout",
          "text": [
            "[VarB fold 3/6] C=200 time=1.82s\n"
          ]
        },
        {
          "output_type": "stream",
          "name": "stderr",
          "text": [
            "/usr/local/lib/python3.11/dist-packages/sklearn/linear_model/_logistic.py:1247: FutureWarning: 'multi_class' was deprecated in version 1.5 and will be removed in 1.7. From then on, it will always use 'multinomial'. Leave it to its default value to avoid this warning.\n  warnings.warn(\n"
          ]
        },
        {
          "output_type": "stream",
          "name": "stdout",
          "text": [
            "[VarB fold 4/6] C=200 time=1.70s\n"
          ]
        },
        {
          "output_type": "stream",
          "name": "stderr",
          "text": [
            "/usr/local/lib/python3.11/dist-packages/sklearn/linear_model/_logistic.py:1247: FutureWarning: 'multi_class' was deprecated in version 1.5 and will be removed in 1.7. From then on, it will always use 'multinomial'. Leave it to its default value to avoid this warning.\n  warnings.warn(\n"
          ]
        },
        {
          "output_type": "stream",
          "name": "stdout",
          "text": [
            "[VarB fold 5/6] C=200 time=1.67s\n"
          ]
        },
        {
          "output_type": "stream",
          "name": "stderr",
          "text": [
            "/usr/local/lib/python3.11/dist-packages/sklearn/linear_model/_logistic.py:1247: FutureWarning: 'multi_class' was deprecated in version 1.5 and will be removed in 1.7. From then on, it will always use 'multinomial'. Leave it to its default value to avoid this warning.\n  warnings.warn(\n"
          ]
        },
        {
          "output_type": "stream",
          "name": "stdout",
          "text": [
            "[VarB fold 6/6] C=200 time=1.67s\n"
          ]
        },
        {
          "output_type": "stream",
          "name": "stdout",
          "text": [
            "Variant B OOF: 0.155447 (C=200) in 11.20s\n"
          ]
        },
        {
          "output_type": "stream",
          "name": "stderr",
          "text": [
            "/usr/local/lib/python3.11/dist-packages/sklearn/linear_model/_logistic.py:1247: FutureWarning: 'multi_class' was deprecated in version 1.5 and will be removed in 1.7. From then on, it will always use 'multinomial'. Leave it to its default value to avoid this warning.\n  warnings.warn(\n"
          ]
        },
        {
          "output_type": "stream",
          "name": "stdout",
          "text": [
            "[VarB fold 1/6] C=300 time=2.01s\n"
          ]
        },
        {
          "output_type": "stream",
          "name": "stderr",
          "text": [
            "/usr/local/lib/python3.11/dist-packages/sklearn/linear_model/_logistic.py:1247: FutureWarning: 'multi_class' was deprecated in version 1.5 and will be removed in 1.7. From then on, it will always use 'multinomial'. Leave it to its default value to avoid this warning.\n  warnings.warn(\n"
          ]
        },
        {
          "output_type": "stream",
          "name": "stdout",
          "text": [
            "[VarB fold 2/6] C=300 time=1.94s\n"
          ]
        },
        {
          "output_type": "stream",
          "name": "stderr",
          "text": [
            "/usr/local/lib/python3.11/dist-packages/sklearn/linear_model/_logistic.py:1247: FutureWarning: 'multi_class' was deprecated in version 1.5 and will be removed in 1.7. From then on, it will always use 'multinomial'. Leave it to its default value to avoid this warning.\n  warnings.warn(\n"
          ]
        },
        {
          "output_type": "stream",
          "name": "stdout",
          "text": [
            "[VarB fold 3/6] C=300 time=1.96s\n"
          ]
        },
        {
          "output_type": "stream",
          "name": "stderr",
          "text": [
            "/usr/local/lib/python3.11/dist-packages/sklearn/linear_model/_logistic.py:1247: FutureWarning: 'multi_class' was deprecated in version 1.5 and will be removed in 1.7. From then on, it will always use 'multinomial'. Leave it to its default value to avoid this warning.\n  warnings.warn(\n"
          ]
        },
        {
          "output_type": "stream",
          "name": "stdout",
          "text": [
            "[VarB fold 4/6] C=300 time=1.79s\n"
          ]
        },
        {
          "output_type": "stream",
          "name": "stderr",
          "text": [
            "/usr/local/lib/python3.11/dist-packages/sklearn/linear_model/_logistic.py:1247: FutureWarning: 'multi_class' was deprecated in version 1.5 and will be removed in 1.7. From then on, it will always use 'multinomial'. Leave it to its default value to avoid this warning.\n  warnings.warn(\n"
          ]
        },
        {
          "output_type": "stream",
          "name": "stdout",
          "text": [
            "[VarB fold 5/6] C=300 time=2.09s\n"
          ]
        },
        {
          "output_type": "stream",
          "name": "stderr",
          "text": [
            "/usr/local/lib/python3.11/dist-packages/sklearn/linear_model/_logistic.py:1247: FutureWarning: 'multi_class' was deprecated in version 1.5 and will be removed in 1.7. From then on, it will always use 'multinomial'. Leave it to its default value to avoid this warning.\n  warnings.warn(\n"
          ]
        },
        {
          "output_type": "stream",
          "name": "stdout",
          "text": [
            "[VarB fold 6/6] C=300 time=1.77s\n"
          ]
        },
        {
          "output_type": "stream",
          "name": "stdout",
          "text": [
            "Variant B OOF: 0.134960 (C=300) in 11.61s\n"
          ]
        },
        {
          "output_type": "stream",
          "name": "stderr",
          "text": [
            "/usr/local/lib/python3.11/dist-packages/sklearn/linear_model/_logistic.py:1247: FutureWarning: 'multi_class' was deprecated in version 1.5 and will be removed in 1.7. From then on, it will always use 'multinomial'. Leave it to its default value to avoid this warning.\n  warnings.warn(\n"
          ]
        },
        {
          "output_type": "stream",
          "name": "stdout",
          "text": [
            "[VarB fold 1/6] C=500 time=1.71s\n"
          ]
        },
        {
          "output_type": "stream",
          "name": "stderr",
          "text": [
            "/usr/local/lib/python3.11/dist-packages/sklearn/linear_model/_logistic.py:1247: FutureWarning: 'multi_class' was deprecated in version 1.5 and will be removed in 1.7. From then on, it will always use 'multinomial'. Leave it to its default value to avoid this warning.\n  warnings.warn(\n"
          ]
        },
        {
          "output_type": "stream",
          "name": "stdout",
          "text": [
            "[VarB fold 2/6] C=500 time=1.49s\n"
          ]
        },
        {
          "output_type": "stream",
          "name": "stderr",
          "text": [
            "/usr/local/lib/python3.11/dist-packages/sklearn/linear_model/_logistic.py:1247: FutureWarning: 'multi_class' was deprecated in version 1.5 and will be removed in 1.7. From then on, it will always use 'multinomial'. Leave it to its default value to avoid this warning.\n  warnings.warn(\n"
          ]
        },
        {
          "output_type": "stream",
          "name": "stdout",
          "text": [
            "[VarB fold 3/6] C=500 time=1.39s\n"
          ]
        },
        {
          "output_type": "stream",
          "name": "stderr",
          "text": [
            "/usr/local/lib/python3.11/dist-packages/sklearn/linear_model/_logistic.py:1247: FutureWarning: 'multi_class' was deprecated in version 1.5 and will be removed in 1.7. From then on, it will always use 'multinomial'. Leave it to its default value to avoid this warning.\n  warnings.warn(\n"
          ]
        },
        {
          "output_type": "stream",
          "name": "stdout",
          "text": [
            "[VarB fold 4/6] C=500 time=1.56s\n"
          ]
        },
        {
          "output_type": "stream",
          "name": "stderr",
          "text": [
            "/usr/local/lib/python3.11/dist-packages/sklearn/linear_model/_logistic.py:1247: FutureWarning: 'multi_class' was deprecated in version 1.5 and will be removed in 1.7. From then on, it will always use 'multinomial'. Leave it to its default value to avoid this warning.\n  warnings.warn(\n"
          ]
        },
        {
          "output_type": "stream",
          "name": "stdout",
          "text": [
            "[VarB fold 5/6] C=500 time=1.52s\n"
          ]
        },
        {
          "output_type": "stream",
          "name": "stderr",
          "text": [
            "/usr/local/lib/python3.11/dist-packages/sklearn/linear_model/_logistic.py:1247: FutureWarning: 'multi_class' was deprecated in version 1.5 and will be removed in 1.7. From then on, it will always use 'multinomial'. Leave it to its default value to avoid this warning.\n  warnings.warn(\n"
          ]
        },
        {
          "output_type": "stream",
          "name": "stdout",
          "text": [
            "[VarB fold 6/6] C=500 time=1.44s\n"
          ]
        },
        {
          "output_type": "stream",
          "name": "stdout",
          "text": [
            "Variant B OOF: 0.114764 (C=500) in 9.16s\n"
          ]
        },
        {
          "output_type": "stream",
          "name": "stderr",
          "text": [
            "/usr/local/lib/python3.11/dist-packages/sklearn/linear_model/_logistic.py:1247: FutureWarning: 'multi_class' was deprecated in version 1.5 and will be removed in 1.7. From then on, it will always use 'multinomial'. Leave it to its default value to avoid this warning.\n  warnings.warn(\n"
          ]
        },
        {
          "output_type": "stream",
          "name": "stdout",
          "text": [
            "[VarB fold 1/6] C=800 time=1.41s\n"
          ]
        },
        {
          "output_type": "stream",
          "name": "stderr",
          "text": [
            "/usr/local/lib/python3.11/dist-packages/sklearn/linear_model/_logistic.py:1247: FutureWarning: 'multi_class' was deprecated in version 1.5 and will be removed in 1.7. From then on, it will always use 'multinomial'. Leave it to its default value to avoid this warning.\n  warnings.warn(\n"
          ]
        },
        {
          "output_type": "stream",
          "name": "stdout",
          "text": [
            "[VarB fold 2/6] C=800 time=1.58s\n"
          ]
        },
        {
          "output_type": "stream",
          "name": "stderr",
          "text": [
            "/usr/local/lib/python3.11/dist-packages/sklearn/linear_model/_logistic.py:1247: FutureWarning: 'multi_class' was deprecated in version 1.5 and will be removed in 1.7. From then on, it will always use 'multinomial'. Leave it to its default value to avoid this warning.\n  warnings.warn(\n"
          ]
        },
        {
          "output_type": "stream",
          "name": "stdout",
          "text": [
            "[VarB fold 3/6] C=800 time=1.18s\n"
          ]
        },
        {
          "output_type": "stream",
          "name": "stderr",
          "text": [
            "/usr/local/lib/python3.11/dist-packages/sklearn/linear_model/_logistic.py:1247: FutureWarning: 'multi_class' was deprecated in version 1.5 and will be removed in 1.7. From then on, it will always use 'multinomial'. Leave it to its default value to avoid this warning.\n  warnings.warn(\n"
          ]
        },
        {
          "output_type": "stream",
          "name": "stdout",
          "text": [
            "[VarB fold 4/6] C=800 time=1.25s\n"
          ]
        },
        {
          "output_type": "stream",
          "name": "stderr",
          "text": [
            "/usr/local/lib/python3.11/dist-packages/sklearn/linear_model/_logistic.py:1247: FutureWarning: 'multi_class' was deprecated in version 1.5 and will be removed in 1.7. From then on, it will always use 'multinomial'. Leave it to its default value to avoid this warning.\n  warnings.warn(\n"
          ]
        },
        {
          "output_type": "stream",
          "name": "stdout",
          "text": [
            "[VarB fold 5/6] C=800 time=1.97s\n"
          ]
        },
        {
          "output_type": "stream",
          "name": "stderr",
          "text": [
            "/usr/local/lib/python3.11/dist-packages/sklearn/linear_model/_logistic.py:1247: FutureWarning: 'multi_class' was deprecated in version 1.5 and will be removed in 1.7. From then on, it will always use 'multinomial'. Leave it to its default value to avoid this warning.\n  warnings.warn(\n"
          ]
        },
        {
          "output_type": "stream",
          "name": "stdout",
          "text": [
            "[VarB fold 6/6] C=800 time=1.78s\n"
          ]
        },
        {
          "output_type": "stream",
          "name": "stdout",
          "text": [
            "Variant B OOF: 0.100450 (C=800) in 9.21s\n"
          ]
        },
        {
          "output_type": "stream",
          "name": "stderr",
          "text": [
            "/usr/local/lib/python3.11/dist-packages/sklearn/linear_model/_logistic.py:1247: FutureWarning: 'multi_class' was deprecated in version 1.5 and will be removed in 1.7. From then on, it will always use 'multinomial'. Leave it to its default value to avoid this warning.\n  warnings.warn(\n"
          ]
        },
        {
          "output_type": "stream",
          "name": "stdout",
          "text": [
            "[VarB fold 1/6] C=1200 time=2.04s\n"
          ]
        },
        {
          "output_type": "stream",
          "name": "stderr",
          "text": [
            "/usr/local/lib/python3.11/dist-packages/sklearn/linear_model/_logistic.py:1247: FutureWarning: 'multi_class' was deprecated in version 1.5 and will be removed in 1.7. From then on, it will always use 'multinomial'. Leave it to its default value to avoid this warning.\n  warnings.warn(\n"
          ]
        },
        {
          "output_type": "stream",
          "name": "stdout",
          "text": [
            "[VarB fold 2/6] C=1200 time=2.37s\n"
          ]
        },
        {
          "output_type": "stream",
          "name": "stderr",
          "text": [
            "/usr/local/lib/python3.11/dist-packages/sklearn/linear_model/_logistic.py:1247: FutureWarning: 'multi_class' was deprecated in version 1.5 and will be removed in 1.7. From then on, it will always use 'multinomial'. Leave it to its default value to avoid this warning.\n  warnings.warn(\n"
          ]
        },
        {
          "output_type": "stream",
          "name": "stdout",
          "text": [
            "[VarB fold 3/6] C=1200 time=1.59s\n"
          ]
        },
        {
          "output_type": "stream",
          "name": "stderr",
          "text": [
            "/usr/local/lib/python3.11/dist-packages/sklearn/linear_model/_logistic.py:1247: FutureWarning: 'multi_class' was deprecated in version 1.5 and will be removed in 1.7. From then on, it will always use 'multinomial'. Leave it to its default value to avoid this warning.\n  warnings.warn(\n"
          ]
        },
        {
          "output_type": "stream",
          "name": "stdout",
          "text": [
            "[VarB fold 4/6] C=1200 time=1.58s\n"
          ]
        },
        {
          "output_type": "stream",
          "name": "stderr",
          "text": [
            "/usr/local/lib/python3.11/dist-packages/sklearn/linear_model/_logistic.py:1247: FutureWarning: 'multi_class' was deprecated in version 1.5 and will be removed in 1.7. From then on, it will always use 'multinomial'. Leave it to its default value to avoid this warning.\n  warnings.warn(\n"
          ]
        },
        {
          "output_type": "stream",
          "name": "stdout",
          "text": [
            "[VarB fold 5/6] C=1200 time=1.83s\n"
          ]
        },
        {
          "output_type": "stream",
          "name": "stderr",
          "text": [
            "/usr/local/lib/python3.11/dist-packages/sklearn/linear_model/_logistic.py:1247: FutureWarning: 'multi_class' was deprecated in version 1.5 and will be removed in 1.7. From then on, it will always use 'multinomial'. Leave it to its default value to avoid this warning.\n  warnings.warn(\n"
          ]
        },
        {
          "output_type": "stream",
          "name": "stdout",
          "text": [
            "[VarB fold 6/6] C=1200 time=2.14s\n"
          ]
        },
        {
          "output_type": "stream",
          "name": "stdout",
          "text": [
            "Variant B OOF: 0.090649 (C=1200) in 11.60s\n"
          ]
        },
        {
          "output_type": "stream",
          "name": "stderr",
          "text": [
            "/usr/local/lib/python3.11/dist-packages/sklearn/linear_model/_logistic.py:1247: FutureWarning: 'multi_class' was deprecated in version 1.5 and will be removed in 1.7. From then on, it will always use 'multinomial'. Leave it to its default value to avoid this warning.\n  warnings.warn(\n"
          ]
        },
        {
          "output_type": "stream",
          "name": "stdout",
          "text": [
            "[VarB fold 1/6] C=2000 time=2.00s\n"
          ]
        },
        {
          "output_type": "stream",
          "name": "stderr",
          "text": [
            "/usr/local/lib/python3.11/dist-packages/sklearn/linear_model/_logistic.py:1247: FutureWarning: 'multi_class' was deprecated in version 1.5 and will be removed in 1.7. From then on, it will always use 'multinomial'. Leave it to its default value to avoid this warning.\n  warnings.warn(\n"
          ]
        },
        {
          "output_type": "stream",
          "name": "stdout",
          "text": [
            "[VarB fold 2/6] C=2000 time=1.66s\n"
          ]
        },
        {
          "output_type": "stream",
          "name": "stderr",
          "text": [
            "/usr/local/lib/python3.11/dist-packages/sklearn/linear_model/_logistic.py:1247: FutureWarning: 'multi_class' was deprecated in version 1.5 and will be removed in 1.7. From then on, it will always use 'multinomial'. Leave it to its default value to avoid this warning.\n  warnings.warn(\n"
          ]
        },
        {
          "output_type": "stream",
          "name": "stdout",
          "text": [
            "[VarB fold 3/6] C=2000 time=1.37s\n"
          ]
        },
        {
          "output_type": "stream",
          "name": "stderr",
          "text": [
            "/usr/local/lib/python3.11/dist-packages/sklearn/linear_model/_logistic.py:1247: FutureWarning: 'multi_class' was deprecated in version 1.5 and will be removed in 1.7. From then on, it will always use 'multinomial'. Leave it to its default value to avoid this warning.\n  warnings.warn(\n"
          ]
        },
        {
          "output_type": "stream",
          "name": "stdout",
          "text": [
            "[VarB fold 4/6] C=2000 time=1.57s\n"
          ]
        },
        {
          "output_type": "stream",
          "name": "stderr",
          "text": [
            "/usr/local/lib/python3.11/dist-packages/sklearn/linear_model/_logistic.py:1247: FutureWarning: 'multi_class' was deprecated in version 1.5 and will be removed in 1.7. From then on, it will always use 'multinomial'. Leave it to its default value to avoid this warning.\n  warnings.warn(\n"
          ]
        },
        {
          "output_type": "stream",
          "name": "stdout",
          "text": [
            "[VarB fold 5/6] C=2000 time=1.59s\n"
          ]
        },
        {
          "output_type": "stream",
          "name": "stderr",
          "text": [
            "/usr/local/lib/python3.11/dist-packages/sklearn/linear_model/_logistic.py:1247: FutureWarning: 'multi_class' was deprecated in version 1.5 and will be removed in 1.7. From then on, it will always use 'multinomial'. Leave it to its default value to avoid this warning.\n  warnings.warn(\n"
          ]
        },
        {
          "output_type": "stream",
          "name": "stdout",
          "text": [
            "[VarB fold 6/6] C=2000 time=1.56s\n"
          ]
        },
        {
          "output_type": "stream",
          "name": "stdout",
          "text": [
            "Variant B OOF: 0.080929 (C=2000) in 9.80s\n"
          ]
        },
        {
          "output_type": "stream",
          "name": "stderr",
          "text": [
            "/usr/local/lib/python3.11/dist-packages/sklearn/linear_model/_logistic.py:1247: FutureWarning: 'multi_class' was deprecated in version 1.5 and will be removed in 1.7. From then on, it will always use 'multinomial'. Leave it to its default value to avoid this warning.\n  warnings.warn(\n"
          ]
        },
        {
          "output_type": "stream",
          "name": "stdout",
          "text": [
            "[VarB fold 1/6] C=4000 time=1.86s\n"
          ]
        },
        {
          "output_type": "stream",
          "name": "stderr",
          "text": [
            "/usr/local/lib/python3.11/dist-packages/sklearn/linear_model/_logistic.py:1247: FutureWarning: 'multi_class' was deprecated in version 1.5 and will be removed in 1.7. From then on, it will always use 'multinomial'. Leave it to its default value to avoid this warning.\n  warnings.warn(\n"
          ]
        },
        {
          "output_type": "stream",
          "name": "stdout",
          "text": [
            "[VarB fold 2/6] C=4000 time=2.04s\n"
          ]
        },
        {
          "output_type": "stream",
          "name": "stderr",
          "text": [
            "/usr/local/lib/python3.11/dist-packages/sklearn/linear_model/_logistic.py:1247: FutureWarning: 'multi_class' was deprecated in version 1.5 and will be removed in 1.7. From then on, it will always use 'multinomial'. Leave it to its default value to avoid this warning.\n  warnings.warn(\n"
          ]
        },
        {
          "output_type": "stream",
          "name": "stdout",
          "text": [
            "[VarB fold 3/6] C=4000 time=2.30s\n"
          ]
        },
        {
          "output_type": "stream",
          "name": "stderr",
          "text": [
            "/usr/local/lib/python3.11/dist-packages/sklearn/linear_model/_logistic.py:1247: FutureWarning: 'multi_class' was deprecated in version 1.5 and will be removed in 1.7. From then on, it will always use 'multinomial'. Leave it to its default value to avoid this warning.\n  warnings.warn(\n"
          ]
        },
        {
          "output_type": "stream",
          "name": "stdout",
          "text": [
            "[VarB fold 4/6] C=4000 time=2.24s\n"
          ]
        },
        {
          "output_type": "stream",
          "name": "stderr",
          "text": [
            "/usr/local/lib/python3.11/dist-packages/sklearn/linear_model/_logistic.py:1247: FutureWarning: 'multi_class' was deprecated in version 1.5 and will be removed in 1.7. From then on, it will always use 'multinomial'. Leave it to its default value to avoid this warning.\n  warnings.warn(\n"
          ]
        },
        {
          "output_type": "stream",
          "name": "stdout",
          "text": [
            "[VarB fold 5/6] C=4000 time=1.85s\n"
          ]
        },
        {
          "output_type": "stream",
          "name": "stderr",
          "text": [
            "/usr/local/lib/python3.11/dist-packages/sklearn/linear_model/_logistic.py:1247: FutureWarning: 'multi_class' was deprecated in version 1.5 and will be removed in 1.7. From then on, it will always use 'multinomial'. Leave it to its default value to avoid this warning.\n  warnings.warn(\n"
          ]
        },
        {
          "output_type": "stream",
          "name": "stdout",
          "text": [
            "[VarB fold 6/6] C=4000 time=1.63s\n"
          ]
        },
        {
          "output_type": "stream",
          "name": "stdout",
          "text": [
            "Variant B OOF: 0.071293 (C=4000) in 11.98s\n"
          ]
        },
        {
          "output_type": "stream",
          "name": "stdout",
          "text": [
            "Best Variant B: (4000, 0.07129287335935905)\n"
          ]
        },
        {
          "output_type": "stream",
          "name": "stdout",
          "text": [
            "Saved oof_hell_center_only.npy, test_hell_center_only.npy and *_logits.npy\n"
          ]
        },
        {
          "output_type": "stream",
          "name": "stdout",
          "text": [
            "Variant B done in 91.01s | Best: (4000, 0.07129287335935905)\n"
          ]
        }
      ]
    },
    {
      "id": "9b8f87fb-34ae-42dc-b4dc-987bfa0d095d",
      "cell_type": "code",
      "metadata": {},
      "source": [
        "# Additional model: KNN (cosine) on Hellinger GL2 features\n",
        "from sklearn.neighbors import KNeighborsClassifier\n",
        "\n",
        "def run_knn_cosine_on_gl2(n_neighbors_list=(1, 3, 5), weights='distance'):\n",
        "    print('Running KNN (cosine) on Hellinger GL2 features', flush=True)\n",
        "    X_h = hellinger_per_block(X, blk_idx)\n",
        "    Xh_test = hellinger_per_block(X_test, blk_idx)\n",
        "    X_h_gl2 = row_l2_normalize(X_h)\n",
        "    Xh_test_gl2 = row_l2_normalize(Xh_test)\n",
        "    best = (None, 1e9); best_oof=None; best_test=None\n",
        "    for k in n_neighbors_list:\n",
        "        t0 = time.time()\n",
        "        oof = np.zeros((len(X_h_gl2), K), dtype=np.float64)\n",
        "        test_pred = np.zeros((len(Xh_test_gl2), K), dtype=np.float64)\n",
        "        for i, (trn_idx, val_idx) in enumerate(folds, 1):\n",
        "            trn_idx = np.array(trn_idx, dtype=np.int64); val_idx = np.array(val_idx, dtype=np.int64)\n",
        "            X_tr = X_h_gl2[trn_idx]; y_tr = y[trn_idx]\n",
        "            X_va = X_h_gl2[val_idx]\n",
        "            clf = KNeighborsClassifier(n_neighbors=k, weights=weights, metric='cosine', algorithm='brute', n_jobs=-1)\n",
        "            fstart = time.time()\n",
        "            clf.fit(X_tr, y_tr)\n",
        "            P_va = clf.predict_proba(X_va)\n",
        "            oof[val_idx] = P_va\n",
        "            test_pred += clf.predict_proba(Xh_test_gl2) / len(folds)\n",
        "            print(f'  [KNN fold {i}/{len(folds)}] k={k} time={time.time()-fstart:.2f}s', flush=True)\n",
        "        ll = log_loss(y, clip_norm(oof), labels=list(range(K)))\n",
        "        print(f'--> KNN(cos) OOF={ll:.6f} | k={k} | time {time.time()-t0:.2f}s', flush=True)\n",
        "        if ll < best[1]:\n",
        "            best = (k, ll); best_oof=oof; best_test=test_pred\n",
        "    print('Best KNN(cos) on GL2:', best, flush=True)\n",
        "    if best_oof is not None:\n",
        "        np.save('oof_hell_knn_cos_gl2.npy', best_oof.astype(np.float32))\n",
        "        np.save('test_hell_knn_cos_gl2.npy', best_test.astype(np.float32))\n",
        "        np.save('oof_hell_knn_cos_gl2_logits.npy', np.log(np.clip(best_oof, 1e-15, 1.0)).astype(np.float32))\n",
        "        np.save('test_hell_knn_cos_gl2_logits.npy', np.log(np.clip(best_test, 1e-15, 1.0)).astype(np.float32))\n",
        "        print('Saved KNN cosine GL2 preds/logits')\n",
        "    return best, best_oof, best_test\n",
        "\n",
        "# Execute quick KNN sweep\n",
        "best_knn, oof_knn, test_knn = run_knn_cosine_on_gl2(n_neighbors_list=(1,3,5))\n",
        "print('KNN done. Best:', best_knn)"
      ],
      "execution_count": 9,
      "outputs": [
        {
          "output_type": "stream",
          "name": "stdout",
          "text": [
            "Running KNN (cosine) on Hellinger GL2 features\n"
          ]
        },
        {
          "output_type": "stream",
          "name": "stdout",
          "text": [
            "  [KNN fold 1/6] k=1 time=0.26s\n"
          ]
        },
        {
          "output_type": "stream",
          "name": "stdout",
          "text": [
            "  [KNN fold 2/6] k=1 time=0.18s\n"
          ]
        },
        {
          "output_type": "stream",
          "name": "stdout",
          "text": [
            "  [KNN fold 3/6] k=1 time=0.18s\n"
          ]
        },
        {
          "output_type": "stream",
          "name": "stdout",
          "text": [
            "  [KNN fold 4/6] k=1 time=0.15s\n"
          ]
        },
        {
          "output_type": "stream",
          "name": "stdout",
          "text": [
            "  [KNN fold 5/6] k=1 time=0.15s\n"
          ]
        },
        {
          "output_type": "stream",
          "name": "stdout",
          "text": [
            "  [KNN fold 6/6] k=1 time=0.14s\n"
          ]
        },
        {
          "output_type": "stream",
          "name": "stdout",
          "text": [
            "--> KNN(cos) OOF=1.356742 | k=1 | time 1.09s\n"
          ]
        },
        {
          "output_type": "stream",
          "name": "stdout",
          "text": [
            "  [KNN fold 1/6] k=3 time=0.15s\n"
          ]
        },
        {
          "output_type": "stream",
          "name": "stdout",
          "text": [
            "  [KNN fold 2/6] k=3 time=0.15s\n"
          ]
        },
        {
          "output_type": "stream",
          "name": "stdout",
          "text": [
            "  [KNN fold 3/6] k=3 time=0.14s\n"
          ]
        },
        {
          "output_type": "stream",
          "name": "stdout",
          "text": [
            "  [KNN fold 4/6] k=3 time=0.14s\n"
          ]
        },
        {
          "output_type": "stream",
          "name": "stdout",
          "text": [
            "  [KNN fold 5/6] k=3 time=0.14s\n"
          ]
        },
        {
          "output_type": "stream",
          "name": "stdout",
          "text": [
            "  [KNN fold 6/6] k=3 time=0.14s\n"
          ]
        },
        {
          "output_type": "stream",
          "name": "stdout",
          "text": [
            "--> KNN(cos) OOF=0.700731 | k=3 | time 0.89s\n"
          ]
        },
        {
          "output_type": "stream",
          "name": "stdout",
          "text": [
            "  [KNN fold 1/6] k=5 time=0.14s\n"
          ]
        },
        {
          "output_type": "stream",
          "name": "stdout",
          "text": [
            "  [KNN fold 2/6] k=5 time=0.15s\n"
          ]
        },
        {
          "output_type": "stream",
          "name": "stdout",
          "text": [
            "  [KNN fold 3/6] k=5 time=0.15s\n"
          ]
        },
        {
          "output_type": "stream",
          "name": "stdout",
          "text": [
            "  [KNN fold 4/6] k=5 time=0.15s\n"
          ]
        },
        {
          "output_type": "stream",
          "name": "stdout",
          "text": [
            "  [KNN fold 5/6] k=5 time=0.15s\n"
          ]
        },
        {
          "output_type": "stream",
          "name": "stdout",
          "text": [
            "  [KNN fold 6/6] k=5 time=0.15s\n"
          ]
        },
        {
          "output_type": "stream",
          "name": "stdout",
          "text": [
            "--> KNN(cos) OOF=0.624010 | k=5 | time 0.91s\n"
          ]
        },
        {
          "output_type": "stream",
          "name": "stdout",
          "text": [
            "Best KNN(cos) on GL2: (5, 0.6240103177853032)\n"
          ]
        },
        {
          "output_type": "stream",
          "name": "stdout",
          "text": [
            "Saved KNN cosine GL2 preds/logits\nKNN done. Best: (5, 0.6240103177853032)\n"
          ]
        }
      ]
    },
    {
      "id": "7845d184-c1b0-46df-82d4-ab9eed647679",
      "cell_type": "code",
      "metadata": {},
      "source": [
        "# Re-run Variant A after natural-order fix with extended C grid\n",
        "t0 = time.time()\n",
        "Cs_ext_A = (20, 30, 50, 80, 120, 200, 300, 500, 1000, 2000, 5000)\n",
        "bestA_fix, oofA_fix, testA_fix = run_variant_A(Cs=Cs_ext_A)\n",
        "print('Variant A re-run done in {:.2f}s | Best:'.format(time.time()-t0), bestA_fix, flush=True)"
      ],
      "execution_count": null,
      "outputs": []
    }
  ],
  "metadata": {
    "kernelspec": {
      "display_name": "Python 3",
      "language": "python",
      "name": "python3"
    },
    "language_info": {
      "name": "python",
      "version": "3.11.0rc1"
    }
  },
  "nbformat": 4,
  "nbformat_minor": 5
}