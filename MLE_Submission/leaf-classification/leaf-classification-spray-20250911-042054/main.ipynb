{
  "cells": [
    {
      "id": "feb1d358-51cc-4c91-b184-fc0f882789a9",
      "cell_type": "markdown",
      "metadata": {},
      "source": [
        "# Plan to Win a Medal\n",
        "\n",
        "- Objective: Leaf Classification (99 classes), metric = multiclass log loss.\n",
        "- Strategy:\n",
        "  1) Load data, sanity checks, target distribution, feature types.\n",
        "  2) Baseline CV with strong tabular models: LightGBM/XGBoost + stratified KFold (seeded).\n",
        "  3) Tune key hyperparameters with quick opt (Optuna or manual grid) under time budget.\n",
        "  4) Feature scaling variants and model ensembling (LGBM + XGB + Ridge/LogReg).\n",
        "  5) Calibrate probabilities if needed.\n",
        "  6) Train on full train, predict test, create submission.\n",
        "- Logging: print fold indices, elapsed times, interim scores.\n",
        "- Checkpoints: After EDA and after first CV baseline, request expert review for optimization guidance.\n",
        "\n",
        "Next: Load data and perform quick EDA."
      ],
      "execution_count": null,
      "outputs": []
    },
    {
      "id": "8fd5874a-eb6c-437f-b327-5fa4c8ad40bc",
      "cell_type": "code",
      "metadata": {},
      "source": [
        "import os, sys, time, json, math, random\n",
        "import numpy as np\n",
        "import pandas as pd\n",
        "from collections import Counter\n",
        "from sklearn.preprocessing import LabelEncoder\n",
        "\n",
        "SEED = 2025\n",
        "rng = np.random.RandomState(SEED)\n",
        "pd.set_option('display.max_columns', 200)\n",
        "\n",
        "t0 = time.time()\n",
        "train_path = 'train.csv'\n",
        "test_path = 'test.csv'\n",
        "sample_path = 'sample_submission.csv'\n",
        "print('Loading data...')\n",
        "train = pd.read_csv(train_path)\n",
        "test = pd.read_csv(test_path)\n",
        "sample_sub = pd.read_csv(sample_path)\n",
        "print(f'train shape: {train.shape}, test shape: {test.shape}')\n",
        "print('train columns:', list(train.columns))\n",
        "print('test columns:', list(test.columns))\n",
        "\n",
        "# Identify columns\n",
        "assert 'species' in train.columns, 'Target column species not found'\n",
        "assert 'id' in train.columns and 'id' in test.columns, 'id column missing'\n",
        "target_col = 'species'\n",
        "id_col = 'id'\n",
        "feature_cols = [c for c in train.columns if c not in [id_col, target_col]]\n",
        "print(f'Num features: {len(feature_cols)}')\n",
        "\n",
        "# Missing values\n",
        "missing_train = train[feature_cols].isna().sum().sum()\n",
        "missing_test = test[feature_cols].isna().sum().sum() if set(feature_cols).issubset(test.columns) else test.isna().sum().sum()\n",
        "print(f'Missing values - train features: {missing_train}, test features: {missing_test}')\n",
        "\n",
        "# Basic stats\n",
        "print('Head of features:')\n",
        "print(train[feature_cols].head(3))\n",
        "\n",
        "# Target analysis\n",
        "y = train[target_col].values\n",
        "le = LabelEncoder()\n",
        "y_enc = le.fit_transform(y)\n",
        "num_classes = len(le.classes_)\n",
        "print(f'Num classes: {num_classes}')\n",
        "vc = pd.Series(y).value_counts().sort_values(ascending=False)\n",
        "print('Top-10 class counts:')\n",
        "print(vc.head(10))\n",
        "print('Min/Max class count:', vc.min(), vc.max())\n",
        "\n",
        "# Constant / duplicate features check\n",
        "nunique = train[feature_cols].nunique()\n",
        "const_feats = list(nunique[nunique <= 1].index)\n",
        "dup_feats = []\n",
        "seen = {}\n",
        "for c in feature_cols:\n",
        "    sig = tuple(np.round(train[c].values, 10))\n",
        "    if sig in seen:\n",
        "        dup_feats.append((c, seen[sig]))\n",
        "    else:\n",
        "        seen[sig] = c\n",
        "print(f'Constant features: {len(const_feats)} -> {const_feats[:10]}')\n",
        "print(f'Duplicate feature pairs (first 5): {dup_feats[:5]}')\n",
        "\n",
        "elapsed = time.time() - t0\n",
        "print(f'EDA summary done in {elapsed:.2f}s')"
      ],
      "execution_count": 1,
      "outputs": [
        {
          "output_type": "stream",
          "name": "stdout",
          "text": [
            "Loading data...\ntrain shape: (891, 194), test shape: (99, 193)\ntrain columns: ['id', 'species', 'margin1', 'margin2', 'margin3', 'margin4', 'margin5', 'margin6', 'margin7', 'margin8', 'margin9', 'margin10', 'margin11', 'margin12', 'margin13', 'margin14', 'margin15', 'margin16', 'margin17', 'margin18', 'margin19', 'margin20', 'margin21', 'margin22', 'margin23', 'margin24', 'margin25', 'margin26', 'margin27', 'margin28', 'margin29', 'margin30', 'margin31', 'margin32', 'margin33', 'margin34', 'margin35', 'margin36', 'margin37', 'margin38', 'margin39', 'margin40', 'margin41', 'margin42', 'margin43', 'margin44', 'margin45', 'margin46', 'margin47', 'margin48', 'margin49', 'margin50', 'margin51', 'margin52', 'margin53', 'margin54', 'margin55', 'margin56', 'margin57', 'margin58', 'margin59', 'margin60', 'margin61', 'margin62', 'margin63', 'margin64', 'shape1', 'shape2', 'shape3', 'shape4', 'shape5', 'shape6', 'shape7', 'shape8', 'shape9', 'shape10', 'shape11', 'shape12', 'shape13', 'shape14', 'shape15', 'shape16', 'shape17', 'shape18', 'shape19', 'shape20', 'shape21', 'shape22', 'shape23', 'shape24', 'shape25', 'shape26', 'shape27', 'shape28', 'shape29', 'shape30', 'shape31', 'shape32', 'shape33', 'shape34', 'shape35', 'shape36', 'shape37', 'shape38', 'shape39', 'shape40', 'shape41', 'shape42', 'shape43', 'shape44', 'shape45', 'shape46', 'shape47', 'shape48', 'shape49', 'shape50', 'shape51', 'shape52', 'shape53', 'shape54', 'shape55', 'shape56', 'shape57', 'shape58', 'shape59', 'shape60', 'shape61', 'shape62', 'shape63', 'shape64', 'texture1', 'texture2', 'texture3', 'texture4', 'texture5', 'texture6', 'texture7', 'texture8', 'texture9', 'texture10', 'texture11', 'texture12', 'texture13', 'texture14', 'texture15', 'texture16', 'texture17', 'texture18', 'texture19', 'texture20', 'texture21', 'texture22', 'texture23', 'texture24', 'texture25', 'texture26', 'texture27', 'texture28', 'texture29', 'texture30', 'texture31', 'texture32', 'texture33', 'texture34', 'texture35', 'texture36', 'texture37', 'texture38', 'texture39', 'texture40', 'texture41', 'texture42', 'texture43', 'texture44', 'texture45', 'texture46', 'texture47', 'texture48', 'texture49', 'texture50', 'texture51', 'texture52', 'texture53', 'texture54', 'texture55', 'texture56', 'texture57', 'texture58', 'texture59', 'texture60', 'texture61', 'texture62', 'texture63', 'texture64']\ntest columns: ['id', 'margin1', 'margin2', 'margin3', 'margin4', 'margin5', 'margin6', 'margin7', 'margin8', 'margin9', 'margin10', 'margin11', 'margin12', 'margin13', 'margin14', 'margin15', 'margin16', 'margin17', 'margin18', 'margin19', 'margin20', 'margin21', 'margin22', 'margin23', 'margin24', 'margin25', 'margin26', 'margin27', 'margin28', 'margin29', 'margin30', 'margin31', 'margin32', 'margin33', 'margin34', 'margin35', 'margin36', 'margin37', 'margin38', 'margin39', 'margin40', 'margin41', 'margin42', 'margin43', 'margin44', 'margin45', 'margin46', 'margin47', 'margin48', 'margin49', 'margin50', 'margin51', 'margin52', 'margin53', 'margin54', 'margin55', 'margin56', 'margin57', 'margin58', 'margin59', 'margin60', 'margin61', 'margin62', 'margin63', 'margin64', 'shape1', 'shape2', 'shape3', 'shape4', 'shape5', 'shape6', 'shape7', 'shape8', 'shape9', 'shape10', 'shape11', 'shape12', 'shape13', 'shape14', 'shape15', 'shape16', 'shape17', 'shape18', 'shape19', 'shape20', 'shape21', 'shape22', 'shape23', 'shape24', 'shape25', 'shape26', 'shape27', 'shape28', 'shape29', 'shape30', 'shape31', 'shape32', 'shape33', 'shape34', 'shape35', 'shape36', 'shape37', 'shape38', 'shape39', 'shape40', 'shape41', 'shape42', 'shape43', 'shape44', 'shape45', 'shape46', 'shape47', 'shape48', 'shape49', 'shape50', 'shape51', 'shape52', 'shape53', 'shape54', 'shape55', 'shape56', 'shape57', 'shape58', 'shape59', 'shape60', 'shape61', 'shape62', 'shape63', 'shape64', 'texture1', 'texture2', 'texture3', 'texture4', 'texture5', 'texture6', 'texture7', 'texture8', 'texture9', 'texture10', 'texture11', 'texture12', 'texture13', 'texture14', 'texture15', 'texture16', 'texture17', 'texture18', 'texture19', 'texture20', 'texture21', 'texture22', 'texture23', 'texture24', 'texture25', 'texture26', 'texture27', 'texture28', 'texture29', 'texture30', 'texture31', 'texture32', 'texture33', 'texture34', 'texture35', 'texture36', 'texture37', 'texture38', 'texture39', 'texture40', 'texture41', 'texture42', 'texture43', 'texture44', 'texture45', 'texture46', 'texture47', 'texture48', 'texture49', 'texture50', 'texture51', 'texture52', 'texture53', 'texture54', 'texture55', 'texture56', 'texture57', 'texture58', 'texture59', 'texture60', 'texture61', 'texture62', 'texture63', 'texture64']\nNum features: 192\nMissing values - train features: 0, test features: 0\nHead of features:\n    margin1   margin2   margin3   margin4   margin5   margin6   margin7  \\\n0  0.001953  0.005859  0.039062  0.019531  0.025391  0.001953  0.058594   \n1  0.001953  0.011719  0.023438  0.033203  0.056641  0.003906  0.031250   \n2  0.037109  0.052734  0.031250  0.017578  0.003906  0.111330  0.029297   \n\n   margin8   margin9  margin10  margin11  margin12  margin13  margin14  \\\n0      0.0  0.000000  0.031250  0.015625  0.009766  0.013672  0.000000   \n1      0.0  0.005859  0.035156  0.005859  0.017578  0.007812  0.001953   \n2      0.0  0.000000  0.023438  0.050781  0.001953  0.074219  0.001953   \n\n   margin15  margin16  margin17  margin18  margin19  margin20  margin21  \\\n0  0.021484       0.0  0.023438  0.015625  0.003906  0.017578  0.003906   \n1  0.021484       0.0  0.013672  0.000000  0.003906  0.007812  0.031250   \n2  0.000000       0.0  0.013672  0.035156  0.015625  0.019531  0.000000   \n\n   margin22  margin23  margin24  margin25  margin26  margin27  margin28  \\\n0       0.0       0.0  0.003906  0.001953  0.078125  0.000000  0.035156   \n1       0.0       0.0  0.005859  0.013672  0.033203  0.003906  0.037109   \n2       0.0       0.0  0.000000  0.001953  0.017578  0.000000  0.000000   \n\n   margin29  margin30  margin31  margin32  margin33  margin34  margin35  \\\n0  0.001953  0.046875  0.005859  0.003906  0.021484  0.005859  0.009766   \n1  0.005859  0.037109  0.025391  0.035156  0.007812  0.000000  0.005859   \n2  0.042969  0.009766  0.000000  0.001953  0.041016  0.000000  0.023438   \n\n   margin36  margin37  margin38  margin39  margin40  margin41  margin42  \\\n0  0.011719  0.013672  0.062500  0.039062  0.031250  0.009766  0.000000   \n1  0.003906  0.005859  0.054688  0.031250  0.035156  0.013672  0.000000   \n2  0.023438  0.019531  0.021484  0.007812  0.001953  0.000000  0.011719   \n\n   margin43  margin44  margin45  margin46  margin47  margin48  margin49  \\\n0  0.009766  0.052734  0.005859  0.023438  0.021484  0.001953  0.001953   \n1  0.001953  0.023438  0.003906  0.011719  0.046875  0.037109  0.011719   \n2  0.009766  0.001953  0.019531  0.000000  0.003906  0.000000  0.000000   \n\n   margin50  margin51  margin52  margin53  margin54  margin55  margin56  \\\n0  0.003906  0.001953  0.001953  0.048828  0.023438  0.035156  0.003906   \n1  0.003906  0.017578  0.009766  0.021484  0.021484  0.050781  0.027344   \n2  0.000000  0.035156  0.000000  0.017578  0.000000  0.029297  0.000000   \n\n   margin57  margin58  margin59  margin60  margin61  margin62  margin63  \\\n0  0.031250  0.007812  0.011719  0.000000  0.000000  0.001953  0.017578   \n1  0.011719  0.001953  0.009766  0.003906  0.001953  0.000000  0.011719   \n2  0.015625  0.015625  0.044922  0.005859  0.000000  0.000000  0.052734   \n\n   margin64    shape1    shape2    shape3    shape4    shape5    shape6  \\\n0  0.001953  0.001012  0.000968  0.000938  0.000912  0.000884  0.000859   \n1  0.000000  0.001428  0.001430  0.001390  0.001308  0.001223  0.001146   \n2  0.003906  0.000589  0.000540  0.000494  0.000472  0.000435  0.000404   \n\n     shape7    shape8    shape9   shape10   shape11   shape12   shape13  \\\n0  0.000831  0.000803  0.000774  0.000746  0.000723  0.000696  0.000675   \n1  0.001059  0.000966  0.000889  0.000811  0.000729  0.000663  0.000588   \n2  0.000372  0.000340  0.000316  0.000288  0.000277  0.000245  0.000233   \n\n    shape14   shape15   shape16   shape17   shape18   shape19   shape20  \\\n0  0.000652  0.000641  0.000638  0.000632  0.000635  0.000633  0.000637   \n1  0.000524  0.000473  0.000438  0.000413  0.000427  0.000456  0.000505   \n2  0.000221  0.000222  0.000209  0.000206  0.000239  0.000250  0.000264   \n\n    shape21   shape22   shape23   shape24   shape25   shape26   shape27  \\\n0  0.000645  0.000660  0.000690  0.000720  0.000742  0.000782  0.000817   \n1  0.000560  0.000626  0.000699  0.000775  0.000851  0.000931  0.001013   \n2  0.000296  0.000329  0.000346  0.000380  0.000398  0.000429  0.000451   \n\n    shape28   shape29   shape30   shape31   shape32   shape33   shape34  \\\n0  0.000852  0.000893  0.000944  0.000998  0.001053  0.001025  0.000965   \n1  0.001093  0.001169  0.001232  0.001292  0.001315  0.001356  0.001355   \n2  0.000486  0.000515  0.000559  0.000604  0.000655  0.000659  0.000607   \n\n    shape35   shape36   shape37   shape38   shape39   shape40   shape41  \\\n0  0.000908  0.000861  0.000824  0.000792  0.000760  0.000737  0.000717   \n1  0.001311  0.001256  0.001193  0.001123  0.001041  0.000960  0.000882   \n2  0.000567  0.000528  0.000491  0.000475  0.000451  0.000418  0.000385   \n\n    shape42   shape43   shape44   shape45   shape46   shape47   shape48  \\\n0  0.000692  0.000669  0.000650  0.000643  0.000637  0.000637  0.000634   \n1  0.000797  0.000715  0.000646  0.000580  0.000517  0.000463  0.000432   \n2  0.000355  0.000333  0.000319  0.000294  0.000283  0.000252  0.000234   \n\n    shape49   shape50   shape51   shape52   shape53   shape54   shape55  \\\n0  0.000632  0.000633  0.000654  0.000673  0.000701  0.000727  0.000748   \n1  0.000410  0.000422  0.000450  0.000498  0.000562  0.000627  0.000697   \n2  0.000205  0.000200  0.000220  0.000220  0.000226  0.000246  0.000263   \n\n    shape56   shape57   shape58   shape59   shape60   shape61   shape62  \\\n0  0.000775  0.000801  0.000836  0.000876  0.000908  0.000940  0.001011   \n1  0.000777  0.000862  0.000952  0.001041  0.001121  0.001211  0.001295   \n2  0.000290  0.000323  0.000349  0.000383  0.000416  0.000448  0.000480   \n\n    shape63   shape64  texture1  texture2  texture3  texture4  texture5  \\\n0  0.001086  0.001083  0.012695  0.000000  0.000977  0.017578  0.013672   \n1  0.001355  0.001372  0.002930  0.007812  0.031250  0.011719  0.005859   \n2  0.000505  0.000544  0.019531  0.000000  0.013672  0.004883  0.014648   \n\n   texture6  texture7  texture8  texture9  texture10  texture11  texture12  \\\n0  0.000000  0.017578  0.006836  0.000977   0.020508   0.008789   0.005859   \n1  0.007812  0.003906  0.030273  0.020508   0.005859   0.042969   0.000000   \n2  0.000000  0.005859  0.004883  0.000000   0.028320   0.010742   0.002930   \n\n   texture13  texture14  texture15  texture16  texture17  texture18  \\\n0   0.000977   0.012695    0.00000   0.001953   0.000000   0.000977   \n1   0.005859   0.035156    0.00293   0.000000   0.000977   0.000977   \n2   0.016602   0.002930    0.00000   0.005859   0.000000   0.001953   \n\n   texture19  texture20  texture21  texture22  texture23  texture24  \\\n0   0.049805   0.003906   0.000000   0.016602   0.011719   0.006836   \n1   0.010742   0.029297   0.000000   0.099609   0.000000   0.017578   \n2   0.023438   0.007812   0.026367   0.004883   0.001953   0.015625   \n\n   texture25  texture26  texture27  texture28  texture29  texture30  \\\n0   0.009766   0.005859   0.070312   0.000977   0.011719   0.006836   \n1   0.010742   0.014648   0.001953   0.004883   0.037109   0.017578   \n2   0.019531   0.010742   0.053711   0.016602   0.000000   0.020508   \n\n   texture31  texture32  texture33  texture34  texture35  texture36  \\\n0   0.030273   0.001953   0.001953   0.034180   0.005859   0.000000   \n1   0.023438   0.021484   0.002930   0.005859   0.017578   0.000000   \n2   0.003906   0.002930   0.035156   0.057617   0.022461   0.021484   \n\n   texture37  texture38  texture39  texture40  texture41  texture42  \\\n0   0.000977   0.015625   0.039062   0.045898   0.025391   0.004883   \n1   0.000977   0.028320   0.015625   0.025391   0.002930   0.001953   \n2   0.014648   0.011719   0.030273   0.020508   0.026367   0.024414   \n\n   texture43  texture44  texture45  texture46  texture47  texture48  \\\n0   0.035156   0.171880   0.010742   0.018555   0.010742   0.001953   \n1   0.015625   0.001953   0.005859   0.030273   0.029297   0.002930   \n2   0.014648   0.092773   0.004883   0.044922   0.006836   0.019531   \n\n   texture49  texture50  texture51  texture52  texture53  texture54  \\\n0   0.009766   0.007812   0.000000   0.010742   0.006836   0.040039   \n1   0.023438   0.062500   0.045898   0.009766   0.015625   0.008789   \n2   0.005859   0.000977   0.013672   0.008789   0.003906   0.010742   \n\n   texture55  texture56  texture57  texture58  texture59  texture60  \\\n0   0.101560   0.000000   0.006836   0.000000   0.008789   0.000000   \n1   0.007812   0.003906   0.002930   0.010742   0.046875   0.000977   \n2   0.079102   0.003906   0.002930   0.000977   0.005859   0.000000   \n\n   texture61  texture62  texture63  texture64  \n0    0.00000   0.008789   0.003906   0.023438  \n1    0.00000   0.018555   0.008789   0.040039  \n2    0.03125   0.004883   0.002930   0.035156  \nNum classes: 99\nTop-10 class counts:\nAcer_Saccharinum               10\nQuercus_Infectoria_sub         10\nQuercus_Cerris                 10\nPopulus_Nigra                  10\nGinkgo_Biloba                  10\nQuercus_Suber                  10\nAcer_Opalus                    10\nEucalyptus_Glaucescens         10\nRhododendron_x_Russellianum    10\nQuercus_Vulcanica              10\nName: count, dtype: int64\nMin/Max class count: 6 10\nConstant features: 0 -> []\nDuplicate feature pairs (first 5): []\nEDA summary done in 0.12s\n"
          ]
        }
      ]
    },
    {
      "id": "775f39e0-f68e-4429-be17-faa0f3382d3c",
      "cell_type": "code",
      "metadata": {},
      "source": [
        "# Baseline CV: LDA with StandardScaler + PCA(whiten, retain ~99.7% var)\n",
        "import time\n",
        "from sklearn.model_selection import StratifiedKFold\n",
        "from sklearn.preprocessing import StandardScaler\n",
        "from sklearn.decomposition import PCA\n",
        "from sklearn.discriminant_analysis import LinearDiscriminantAnalysis\n",
        "from sklearn.metrics import log_loss\n",
        "import numpy as np\n",
        "\n",
        "t0 = time.time()\n",
        "X = train[feature_cols].values.astype(np.float64)\n",
        "X_test = test[feature_cols].values.astype(np.float64)\n",
        "y_idx = y_enc  # from previous cell's LabelEncoder\n",
        "num_classes = len(le.classes_)\n",
        "\n",
        "n_splits = 10\n",
        "skf = StratifiedKFold(n_splits=n_splits, shuffle=True, random_state=SEED)\n",
        "\n",
        "oof = np.zeros((len(X), num_classes), dtype=np.float64)\n",
        "test_pred_accum = np.zeros((len(X_test), num_classes), dtype=np.float64)\n",
        "\n",
        "fold_times = []\n",
        "for fold, (trn_idx, val_idx) in enumerate(skf.split(X, y_idx), 1):\n",
        "    fstart = time.time()\n",
        "    X_tr, X_va = X[trn_idx], X[val_idx]\n",
        "    y_tr, y_va = y_idx[trn_idx], y_idx[val_idx]\n",
        "\n",
        "    # Preprocessing inside fold to avoid leakage\n",
        "    scaler = StandardScaler(with_mean=True, with_std=True)\n",
        "    X_tr_s = scaler.fit_transform(X_tr)\n",
        "    X_va_s = scaler.transform(X_va)\n",
        "    X_test_s = scaler.transform(X_test)\n",
        "\n",
        "    pca = PCA(n_components=0.997, whiten=True, random_state=SEED)\n",
        "    X_tr_p = pca.fit_transform(X_tr_s)\n",
        "    X_va_p = pca.transform(X_va_s)\n",
        "    X_test_p = pca.transform(X_test_s)\n",
        "    print(f'[Fold {fold}] PCA comps: {pca.n_components_}', flush=True)\n",
        "\n",
        "    clf = LinearDiscriminantAnalysis(solver='lsqr', shrinkage='auto')\n",
        "    clf.fit(X_tr_p, y_tr)\n",
        "    va_proba = clf.predict_proba(X_va_p)\n",
        "    oof[val_idx] = va_proba\n",
        "    test_pred_accum += clf.predict_proba(X_test_p) / n_splits\n",
        "\n",
        "    fold_ll = log_loss(y_va, np.clip(va_proba, 1e-15, 1-1e-15), labels=list(range(num_classes)))\n",
        "    ftime = time.time() - fstart\n",
        "    fold_times.append(ftime)\n",
        "    print(f'[Fold {fold}/{n_splits}] val_idx range=({val_idx.min()}..{val_idx.max()}), size={len(val_idx)}, logloss={fold_ll:.5f}, time={ftime:.2f}s', flush=True)\n",
        "\n",
        "oof_ll = log_loss(y_idx, np.clip(oof, 1e-15, 1-1e-15), labels=list(range(num_classes)))\n",
        "print(f'LDA OOF logloss: {oof_ll:.6f}')\n",
        "print('Avg fold time: {:.2f}s (total {:.2f}s)'.format(np.mean(fold_times), time.time()-t0))\n",
        "\n",
        "# Save intermediate predictions for reuse\n",
        "np.save('oof_lda.npy', oof)\n",
        "np.save('test_pred_lda.npy', test_pred_accum)\n",
        "\n",
        "# Build submission from LDA as provisional baseline\n",
        "proba = np.clip(test_pred_accum, 1e-15, 1-1e-15)\n",
        "proba = proba / proba.sum(axis=1, keepdims=True)\n",
        "pred_df = pd.DataFrame(proba, columns=list(le.classes_))\n",
        "\n",
        "# Align columns to sample_submission\n",
        "sub_cols = [c for c in sample_sub.columns if c != id_col]\n",
        "if set(sub_cols) != set(le.classes_):\n",
        "    raise ValueError('LabelEncoder classes do not match sample_submission columns')\n",
        "pred_df = pred_df[sub_cols]\n",
        "submission = pd.concat([test[[id_col]].reset_index(drop=True), pred_df.reset_index(drop=True)], axis=1)\n",
        "submission.to_csv('submission.csv', index=False)\n",
        "print('Saved submission.csv with shape', submission.shape)"
      ],
      "execution_count": 3,
      "outputs": [
        {
          "output_type": "stream",
          "name": "stdout",
          "text": [
            "[Fold 1] PCA comps: 133\n"
          ]
        },
        {
          "output_type": "stream",
          "name": "stderr",
          "text": [
            "/usr/local/lib/python3.11/dist-packages/sklearn/model_selection/_split.py:776: UserWarning: The least populated class in y has only 6 members, which is less than n_splits=10.\n  warnings.warn(\n"
          ]
        },
        {
          "output_type": "stream",
          "name": "stdout",
          "text": [
            "[Fold 1/10] val_idx range=(26..869), size=90, logloss=0.38379, time=0.26s\n"
          ]
        },
        {
          "output_type": "stream",
          "name": "stdout",
          "text": [
            "[Fold 2] PCA comps: 133\n"
          ]
        },
        {
          "output_type": "stream",
          "name": "stdout",
          "text": [
            "[Fold 2/10] val_idx range=(0..887), size=89, logloss=0.48600, time=0.26s\n"
          ]
        },
        {
          "output_type": "stream",
          "name": "stdout",
          "text": [
            "[Fold 3] PCA comps: 133\n"
          ]
        },
        {
          "output_type": "stream",
          "name": "stdout",
          "text": [
            "[Fold 3/10] val_idx range=(2..889), size=89, logloss=0.38862, time=0.26s\n"
          ]
        },
        {
          "output_type": "stream",
          "name": "stdout",
          "text": [
            "[Fold 4] PCA comps: 133\n"
          ]
        },
        {
          "output_type": "stream",
          "name": "stdout",
          "text": [
            "[Fold 4/10] val_idx range=(1..884), size=89, logloss=0.44110, time=0.26s\n"
          ]
        },
        {
          "output_type": "stream",
          "name": "stdout",
          "text": [
            "[Fold 5] PCA comps: 133\n"
          ]
        },
        {
          "output_type": "stream",
          "name": "stdout",
          "text": [
            "[Fold 5/10] val_idx range=(13..888), size=89, logloss=0.80862, time=0.27s\n"
          ]
        },
        {
          "output_type": "stream",
          "name": "stdout",
          "text": [
            "[Fold 6] PCA comps: 133\n"
          ]
        },
        {
          "output_type": "stream",
          "name": "stdout",
          "text": [
            "[Fold 6/10] val_idx range=(19..874), size=89, logloss=0.00269, time=0.30s\n"
          ]
        },
        {
          "output_type": "stream",
          "name": "stdout",
          "text": [
            "[Fold 7] PCA comps: 133\n"
          ]
        },
        {
          "output_type": "stream",
          "name": "stdout",
          "text": [
            "[Fold 7/10] val_idx range=(3..883), size=89, logloss=0.74465, time=0.28s\n"
          ]
        },
        {
          "output_type": "stream",
          "name": "stdout",
          "text": [
            "[Fold 8] PCA comps: 133\n"
          ]
        },
        {
          "output_type": "stream",
          "name": "stdout",
          "text": [
            "[Fold 8/10] val_idx range=(4..882), size=89, logloss=0.00627, time=0.26s\n"
          ]
        },
        {
          "output_type": "stream",
          "name": "stdout",
          "text": [
            "[Fold 9] PCA comps: 133\n"
          ]
        },
        {
          "output_type": "stream",
          "name": "stdout",
          "text": [
            "[Fold 9/10] val_idx range=(6..876), size=89, logloss=0.26708, time=0.26s\n"
          ]
        },
        {
          "output_type": "stream",
          "name": "stdout",
          "text": [
            "[Fold 10] PCA comps: 133\n"
          ]
        },
        {
          "output_type": "stream",
          "name": "stdout",
          "text": [
            "[Fold 10/10] val_idx range=(12..890), size=89, logloss=0.00005, time=0.26s\n"
          ]
        },
        {
          "output_type": "stream",
          "name": "stdout",
          "text": [
            "LDA OOF logloss: 0.352922\nAvg fold time: 0.27s (total 2.69s)\nSaved submission.csv with shape (99, 100)\n"
          ]
        }
      ]
    },
    {
      "id": "f2817172-7f13-4054-ad51-57d6e0d31cec",
      "cell_type": "code",
      "metadata": {},
      "source": [
        "# Build stable 6-fold CV and train fast Logistic Regression baseline (with PCA branch)\n",
        "import time, json\n",
        "from sklearn.model_selection import StratifiedKFold\n",
        "from sklearn.preprocessing import StandardScaler\n",
        "from sklearn.decomposition import PCA\n",
        "from sklearn.linear_model import LogisticRegression\n",
        "from sklearn.metrics import log_loss\n",
        "import numpy as np\n",
        "\n",
        "SEED = 2025\n",
        "X = train[feature_cols].values.astype(np.float64)\n",
        "X_test = test[feature_cols].values.astype(np.float64)\n",
        "y_idx = y_enc\n",
        "num_classes = len(le.classes_)\n",
        "\n",
        "# Fix CV to 6 folds and freeze indices for reuse across models\n",
        "n_splits = 6\n",
        "skf6 = StratifiedKFold(n_splits=n_splits, shuffle=True, random_state=SEED)\n",
        "fold_indices = [(trn_idx.tolist(), val_idx.tolist()) for trn_idx, val_idx in skf6.split(X, y_idx)]\n",
        "with open('folds_6.json', 'w') as f:\n",
        "    json.dump(fold_indices, f)\n",
        "print(f'Prepared {n_splits}-fold stratified splits. Example fold sizes:', [len(v) for _, v in fold_indices])\n",
        "\n",
        "# Helper: evaluate a single LogReg setting on fixed folds\n",
        "def run_logreg_cv(use_pca=True, pca_var=0.997, C=10.0):\n",
        "    oof = np.zeros((len(X), num_classes), dtype=np.float64)\n",
        "    test_pred = np.zeros((len(X_test), num_classes), dtype=np.float64)\n",
        "    fold_lls = []\n",
        "    t0 = time.time()\n",
        "    for i, (trn_idx, val_idx) in enumerate(fold_indices, 1):\n",
        "        fstart = time.time()\n",
        "        trn_idx = np.array(trn_idx); val_idx = np.array(val_idx)\n",
        "        X_tr, X_va = X[trn_idx], X[val_idx]\n",
        "        y_tr, y_va = y_idx[trn_idx], y_idx[val_idx]\n",
        "\n",
        "        scaler = StandardScaler()\n",
        "        X_tr_s = scaler.fit_transform(X_tr)\n",
        "        X_va_s = scaler.transform(X_va)\n",
        "        X_te_s = scaler.transform(X_test)\n",
        "\n",
        "        if use_pca:\n",
        "            pca = PCA(n_components=pca_var, whiten=True, random_state=SEED)\n",
        "            X_tr_s = pca.fit_transform(X_tr_s)\n",
        "            X_va_s = pca.transform(X_va_s)\n",
        "            X_te_s = pca.transform(X_te_s)\n",
        "            if i == 1:\n",
        "                print(f'LogReg PCA components: {pca.n_components_}')\n",
        "\n",
        "        clf = LogisticRegression(multi_class='multinomial', solver='lbfgs', max_iter=2000, C=C, n_jobs=None, random_state=SEED)\n",
        "        clf.fit(X_tr_s, y_tr)\n",
        "        va_proba = clf.predict_proba(X_va_s)\n",
        "        oof[val_idx] = va_proba\n",
        "        test_pred += clf.predict_proba(X_te_s) / n_splits\n",
        "        ll = log_loss(y_va, np.clip(va_proba, 1e-15, 1-1e-15), labels=list(range(num_classes)))\n",
        "        fold_lls.append(ll)\n",
        "        print(f'[LogReg fold {i}/{n_splits}] C={C}, use_pca={use_pca}, pca_var={pca_var}, logloss={ll:.5f}, time={time.time()-fstart:.2f}s', flush=True)\n",
        "\n",
        "    oof_ll = log_loss(y_idx, np.clip(oof, 1e-15, 1-1e-15), labels=list(range(num_classes)))\n",
        "    print(f'LogReg OOF logloss (C={C}, use_pca={use_pca}, pca_var={pca_var}): {oof_ll:.6f} | avg fold {np.mean(fold_lls):.6f} in {time.time()-t0:.2f}s')\n",
        "    return oof, test_pred, oof_ll\n",
        "\n",
        "# Small, fast grid for LogReg on PCA branch\n",
        "grid_C = [3.0, 10.0, 30.0]\n",
        "best = (None, 1e9)\n",
        "best_oof = None\n",
        "best_test = None\n",
        "for C in grid_C:\n",
        "    oof_lr, test_lr, oof_ll = run_logreg_cv(use_pca=True, pca_var=0.997, C=C)\n",
        "    if oof_ll < best[1]:\n",
        "        best = ((True, 0.997, C), oof_ll)\n",
        "        best_oof = oof_lr\n",
        "        best_test = test_lr\n",
        "\n",
        "print('Best LogReg setting:', best)\n",
        "np.save('oof_logreg.npy', best_oof)\n",
        "np.save('test_pred_logreg.npy', best_test)\n",
        "\n",
        "# Provisional submission from best LogReg (for quick LB read if needed)\n",
        "proba = np.clip(best_test, 1e-15, 1-1e-15)\n",
        "proba = proba / proba.sum(axis=1, keepdims=True)\n",
        "pred_df = pd.DataFrame(proba, columns=list(le.classes_))\n",
        "sub_cols = [c for c in sample_sub.columns if c != id_col]\n",
        "pred_df = pred_df[sub_cols]\n",
        "submission_lr = pd.concat([test[[id_col]].reset_index(drop=True), pred_df.reset_index(drop=True)], axis=1)\n",
        "submission_lr.to_csv('submission_logreg.csv', index=False)\n",
        "print('Saved submission_logreg.csv with shape', submission_lr.shape)"
      ],
      "execution_count": 4,
      "outputs": [
        {
          "output_type": "stream",
          "name": "stdout",
          "text": [
            "Prepared 6-fold stratified splits. Example fold sizes: [149, 149, 149, 148, 148, 148]\nLogReg PCA components: 133\n"
          ]
        },
        {
          "output_type": "stream",
          "name": "stderr",
          "text": [
            "/usr/local/lib/python3.11/dist-packages/sklearn/linear_model/_logistic.py:1247: FutureWarning: 'multi_class' was deprecated in version 1.5 and will be removed in 1.7. From then on, it will always use 'multinomial'. Leave it to its default value to avoid this warning.\n  warnings.warn(\n"
          ]
        },
        {
          "output_type": "stream",
          "name": "stdout",
          "text": [
            "[LogReg fold 1/6] C=3.0, use_pca=True, pca_var=0.997, logloss=0.25548, time=0.41s\n"
          ]
        },
        {
          "output_type": "stream",
          "name": "stdout",
          "text": [
            "[LogReg fold 2/6] C=3.0, use_pca=True, pca_var=0.997, logloss=0.31293, time=0.22s\n"
          ]
        },
        {
          "output_type": "stream",
          "name": "stderr",
          "text": [
            "/usr/local/lib/python3.11/dist-packages/sklearn/linear_model/_logistic.py:1247: FutureWarning: 'multi_class' was deprecated in version 1.5 and will be removed in 1.7. From then on, it will always use 'multinomial'. Leave it to its default value to avoid this warning.\n  warnings.warn(\n/usr/local/lib/python3.11/dist-packages/sklearn/linear_model/_logistic.py:1247: FutureWarning: 'multi_class' was deprecated in version 1.5 and will be removed in 1.7. From then on, it will always use 'multinomial'. Leave it to its default value to avoid this warning.\n  warnings.warn(\n"
          ]
        },
        {
          "output_type": "stream",
          "name": "stdout",
          "text": [
            "[LogReg fold 3/6] C=3.0, use_pca=True, pca_var=0.997, logloss=0.26569, time=0.21s\n"
          ]
        },
        {
          "output_type": "stream",
          "name": "stderr",
          "text": [
            "/usr/local/lib/python3.11/dist-packages/sklearn/linear_model/_logistic.py:1247: FutureWarning: 'multi_class' was deprecated in version 1.5 and will be removed in 1.7. From then on, it will always use 'multinomial'. Leave it to its default value to avoid this warning.\n  warnings.warn(\n"
          ]
        },
        {
          "output_type": "stream",
          "name": "stdout",
          "text": [
            "[LogReg fold 4/6] C=3.0, use_pca=True, pca_var=0.997, logloss=0.30053, time=0.31s\n"
          ]
        },
        {
          "output_type": "stream",
          "name": "stderr",
          "text": [
            "/usr/local/lib/python3.11/dist-packages/sklearn/linear_model/_logistic.py:1247: FutureWarning: 'multi_class' was deprecated in version 1.5 and will be removed in 1.7. From then on, it will always use 'multinomial'. Leave it to its default value to avoid this warning.\n  warnings.warn(\n"
          ]
        },
        {
          "output_type": "stream",
          "name": "stdout",
          "text": [
            "[LogReg fold 5/6] C=3.0, use_pca=True, pca_var=0.997, logloss=0.26575, time=0.26s\n"
          ]
        },
        {
          "output_type": "stream",
          "name": "stderr",
          "text": [
            "/usr/local/lib/python3.11/dist-packages/sklearn/linear_model/_logistic.py:1247: FutureWarning: 'multi_class' was deprecated in version 1.5 and will be removed in 1.7. From then on, it will always use 'multinomial'. Leave it to its default value to avoid this warning.\n  warnings.warn(\n"
          ]
        },
        {
          "output_type": "stream",
          "name": "stdout",
          "text": [
            "[LogReg fold 6/6] C=3.0, use_pca=True, pca_var=0.997, logloss=0.27298, time=0.34s\n"
          ]
        },
        {
          "output_type": "stream",
          "name": "stdout",
          "text": [
            "LogReg OOF logloss (C=3.0, use_pca=True, pca_var=0.997): 0.278890 | avg fold 0.278893 in 1.77s\nLogReg PCA components: 133\n"
          ]
        },
        {
          "output_type": "stream",
          "name": "stderr",
          "text": [
            "/usr/local/lib/python3.11/dist-packages/sklearn/linear_model/_logistic.py:1247: FutureWarning: 'multi_class' was deprecated in version 1.5 and will be removed in 1.7. From then on, it will always use 'multinomial'. Leave it to its default value to avoid this warning.\n  warnings.warn(\n"
          ]
        },
        {
          "output_type": "stream",
          "name": "stdout",
          "text": [
            "[LogReg fold 1/6] C=10.0, use_pca=True, pca_var=0.997, logloss=0.18178, time=0.31s\n"
          ]
        },
        {
          "output_type": "stream",
          "name": "stdout",
          "text": [
            "[LogReg fold 2/6] C=10.0, use_pca=True, pca_var=0.997, logloss=0.25298, time=0.23s\n"
          ]
        },
        {
          "output_type": "stream",
          "name": "stderr",
          "text": [
            "/usr/local/lib/python3.11/dist-packages/sklearn/linear_model/_logistic.py:1247: FutureWarning: 'multi_class' was deprecated in version 1.5 and will be removed in 1.7. From then on, it will always use 'multinomial'. Leave it to its default value to avoid this warning.\n  warnings.warn(\n"
          ]
        },
        {
          "output_type": "stream",
          "name": "stdout",
          "text": [
            "[LogReg fold 3/6] C=10.0, use_pca=True, pca_var=0.997, logloss=0.22773, time=0.24s\n"
          ]
        },
        {
          "output_type": "stream",
          "name": "stderr",
          "text": [
            "/usr/local/lib/python3.11/dist-packages/sklearn/linear_model/_logistic.py:1247: FutureWarning: 'multi_class' was deprecated in version 1.5 and will be removed in 1.7. From then on, it will always use 'multinomial'. Leave it to its default value to avoid this warning.\n  warnings.warn(\n/usr/local/lib/python3.11/dist-packages/sklearn/linear_model/_logistic.py:1247: FutureWarning: 'multi_class' was deprecated in version 1.5 and will be removed in 1.7. From then on, it will always use 'multinomial'. Leave it to its default value to avoid this warning.\n  warnings.warn(\n"
          ]
        },
        {
          "output_type": "stream",
          "name": "stdout",
          "text": [
            "[LogReg fold 4/6] C=10.0, use_pca=True, pca_var=0.997, logloss=0.22520, time=0.30s\n"
          ]
        },
        {
          "output_type": "stream",
          "name": "stdout",
          "text": [
            "[LogReg fold 5/6] C=10.0, use_pca=True, pca_var=0.997, logloss=0.21709, time=0.24s\n"
          ]
        },
        {
          "output_type": "stream",
          "name": "stderr",
          "text": [
            "/usr/local/lib/python3.11/dist-packages/sklearn/linear_model/_logistic.py:1247: FutureWarning: 'multi_class' was deprecated in version 1.5 and will be removed in 1.7. From then on, it will always use 'multinomial'. Leave it to its default value to avoid this warning.\n  warnings.warn(\n"
          ]
        },
        {
          "output_type": "stream",
          "name": "stdout",
          "text": [
            "[LogReg fold 6/6] C=10.0, use_pca=True, pca_var=0.997, logloss=0.19339, time=0.26s\n"
          ]
        },
        {
          "output_type": "stream",
          "name": "stderr",
          "text": [
            "/usr/local/lib/python3.11/dist-packages/sklearn/linear_model/_logistic.py:1247: FutureWarning: 'multi_class' was deprecated in version 1.5 and will be removed in 1.7. From then on, it will always use 'multinomial'. Leave it to its default value to avoid this warning.\n  warnings.warn(\n"
          ]
        },
        {
          "output_type": "stream",
          "name": "stdout",
          "text": [
            "LogReg OOF logloss (C=10.0, use_pca=True, pca_var=0.997): 0.216377 | avg fold 0.216362 in 1.62s\nLogReg PCA components: 133\n"
          ]
        },
        {
          "output_type": "stream",
          "name": "stdout",
          "text": [
            "[LogReg fold 1/6] C=30.0, use_pca=True, pca_var=0.997, logloss=0.17666, time=0.26s\n"
          ]
        },
        {
          "output_type": "stream",
          "name": "stderr",
          "text": [
            "/usr/local/lib/python3.11/dist-packages/sklearn/linear_model/_logistic.py:1247: FutureWarning: 'multi_class' was deprecated in version 1.5 and will be removed in 1.7. From then on, it will always use 'multinomial'. Leave it to its default value to avoid this warning.\n  warnings.warn(\n"
          ]
        },
        {
          "output_type": "stream",
          "name": "stderr",
          "text": [
            "/usr/local/lib/python3.11/dist-packages/sklearn/linear_model/_logistic.py:1247: FutureWarning: 'multi_class' was deprecated in version 1.5 and will be removed in 1.7. From then on, it will always use 'multinomial'. Leave it to its default value to avoid this warning.\n  warnings.warn(\n"
          ]
        },
        {
          "output_type": "stream",
          "name": "stdout",
          "text": [
            "[LogReg fold 2/6] C=30.0, use_pca=True, pca_var=0.997, logloss=0.23997, time=0.36s\n"
          ]
        },
        {
          "output_type": "stream",
          "name": "stderr",
          "text": [
            "/usr/local/lib/python3.11/dist-packages/sklearn/linear_model/_logistic.py:1247: FutureWarning: 'multi_class' was deprecated in version 1.5 and will be removed in 1.7. From then on, it will always use 'multinomial'. Leave it to its default value to avoid this warning.\n  warnings.warn(\n"
          ]
        },
        {
          "output_type": "stream",
          "name": "stdout",
          "text": [
            "[LogReg fold 3/6] C=30.0, use_pca=True, pca_var=0.997, logloss=0.20855, time=0.32s\n"
          ]
        },
        {
          "output_type": "stream",
          "name": "stderr",
          "text": [
            "/usr/local/lib/python3.11/dist-packages/sklearn/linear_model/_logistic.py:1247: FutureWarning: 'multi_class' was deprecated in version 1.5 and will be removed in 1.7. From then on, it will always use 'multinomial'. Leave it to its default value to avoid this warning.\n  warnings.warn(\n"
          ]
        },
        {
          "output_type": "stream",
          "name": "stdout",
          "text": [
            "[LogReg fold 4/6] C=30.0, use_pca=True, pca_var=0.997, logloss=0.23015, time=0.37s\n"
          ]
        },
        {
          "output_type": "stream",
          "name": "stderr",
          "text": [
            "/usr/local/lib/python3.11/dist-packages/sklearn/linear_model/_logistic.py:1247: FutureWarning: 'multi_class' was deprecated in version 1.5 and will be removed in 1.7. From then on, it will always use 'multinomial'. Leave it to its default value to avoid this warning.\n  warnings.warn(\n"
          ]
        },
        {
          "output_type": "stream",
          "name": "stderr",
          "text": [
            "/usr/local/lib/python3.11/dist-packages/sklearn/linear_model/_logistic.py:1247: FutureWarning: 'multi_class' was deprecated in version 1.5 and will be removed in 1.7. From then on, it will always use 'multinomial'. Leave it to its default value to avoid this warning.\n  warnings.warn(\n"
          ]
        },
        {
          "output_type": "stream",
          "name": "stdout",
          "text": [
            "[LogReg fold 6/6] C=30.0, use_pca=True, pca_var=0.997, logloss=0.18585, time=0.34s\n"
          ]
        },
        {
          "output_type": "stream",
          "name": "stdout",
          "text": [
            "LogReg OOF logloss (C=30.0, use_pca=True, pca_var=0.997): 0.209021 | avg fold 0.209024 in 2.05s\nBest LogReg setting: ((True, 0.997, 30.0), 0.2090214624173086)\nSaved submission_logreg.csv with shape (99, 100)\n"
          ]
        }
      ]
    },
    {
      "id": "43f0cf60-e1fb-4dec-9b07-d64bb7a08cca",
      "cell_type": "code",
      "metadata": {},
      "source": [
        "# SVM RBF on fixed 6-folds: Branch B (Scaler->PCA(whiten)) and Branch A (Scaler only)\n",
        "import time, json\n",
        "from sklearn.svm import SVC\n",
        "from sklearn.preprocessing import StandardScaler\n",
        "from sklearn.decomposition import PCA\n",
        "from sklearn.metrics import log_loss\n",
        "import numpy as np\n",
        "\n",
        "SEED = 2025\n",
        "X = train[feature_cols].values.astype(np.float64)\n",
        "X_test = test[feature_cols].values.astype(np.float64)\n",
        "y_idx = y_enc\n",
        "num_classes = len(le.classes_)\n",
        "\n",
        "# Load fixed 6-fold indices\n",
        "with open('folds_6.json', 'r') as f:\n",
        "    fold_indices = json.load(f)\n",
        "n_splits = len(fold_indices)\n",
        "\n",
        "def run_svm_cv(use_pca=True, pca_var=0.997, C=32.0, gamma='scale'):\n",
        "    oof = np.zeros((len(X), num_classes), dtype=np.float64)\n",
        "    test_pred = np.zeros((len(X_test), num_classes), dtype=np.float64)\n",
        "    fold_lls = []\n",
        "    t0 = time.time()\n",
        "    for i, (trn_idx, val_idx) in enumerate(fold_indices, 1):\n",
        "        fstart = time.time()\n",
        "        trn_idx = np.array(trn_idx); val_idx = np.array(val_idx)\n",
        "        X_tr, X_va = X[trn_idx], X[val_idx]\n",
        "        y_tr, y_va = y_idx[trn_idx], y_idx[val_idx]\n",
        "\n",
        "        scaler = StandardScaler()\n",
        "        X_tr_s = scaler.fit_transform(X_tr)\n",
        "        X_va_s = scaler.transform(X_va)\n",
        "        X_te_s = scaler.transform(X_test)\n",
        "\n",
        "        if use_pca:\n",
        "            pca = PCA(n_components=pca_var, whiten=True, random_state=SEED)\n",
        "            X_tr_s = pca.fit_transform(X_tr_s)\n",
        "            X_va_s = pca.transform(X_va_s)\n",
        "            X_te_s = pca.transform(X_te_s)\n",
        "            if i == 1:\n",
        "                print(f'SVM PCA components: {pca.n_components_}')\n",
        "\n",
        "        clf = SVC(kernel='rbf', C=C, gamma=gamma, probability=True, tol=1e-3, cache_size=1000, random_state=SEED)\n",
        "        clf.fit(X_tr_s, y_tr)\n",
        "        va_proba = clf.predict_proba(X_va_s)\n",
        "        oof[val_idx] = va_proba\n",
        "        test_pred += clf.predict_proba(X_te_s) / n_splits\n",
        "        ll = log_loss(y_va, np.clip(va_proba, 1e-15, 1-1e-15), labels=list(range(num_classes)))\n",
        "        fold_lls.append(ll)\n",
        "        print(f'[SVM fold {i}/{n_splits}] use_pca={use_pca}, pca_var={pca_var}, C={C}, gamma={gamma}, logloss={ll:.5f}, time={time.time()-fstart:.2f}s', flush=True)\n",
        "    oof_ll = log_loss(y_idx, np.clip(oof, 1e-15, 1-1e-15), labels=list(range(num_classes)))\n",
        "    print(f'SVM OOF logloss (use_pca={use_pca}, pca_var={pca_var}, C={C}, gamma={gamma}): {oof_ll:.6f} | avg fold {np.mean(fold_lls):.6f} in {time.time()-t0:.2f}s')\n",
        "    return oof, test_pred, oof_ll\n",
        "\n",
        "# Grid for Branch B (with PCA whiten)\n",
        "pca_vars = [0.995, 0.997, 0.999]\n",
        "Cs = [16.0, 32.0, 64.0]\n",
        "gammas = ['scale', 0.01, 0.02]\n",
        "best_b = (None, 1e9)\n",
        "best_oof_b = None\n",
        "best_test_b = None\n",
        "grid_total = len(pca_vars) * len(Cs) * len(gammas)\n",
        "gcnt = 0\n",
        "t_grid = time.time()\n",
        "for pv in pca_vars:\n",
        "    for C in Cs:\n",
        "        for gm in gammas:\n",
        "            gcnt += 1\n",
        "            print(f'\\n[Grid B {gcnt}/{grid_total}] pv={pv}, C={C}, gamma={gm}', flush=True)\n",
        "            oof_b, test_b, oof_ll_b = run_svm_cv(use_pca=True, pca_var=pv, C=C, gamma=gm)\n",
        "            if oof_ll_b < best_b[1]:\n",
        "                best_b = ((True, pv, C, gm), oof_ll_b)\n",
        "                best_oof_b = oof_b\n",
        "                best_test_b = test_b\n",
        "print('Best SVM Branch B:', best_b, '| grid time {:.2f}s'.format(time.time()-t_grid))\n",
        "if best_oof_b is not None:\n",
        "    np.save('oof_svm_pca.npy', best_oof_b)\n",
        "    np.save('test_pred_svm_pca.npy', best_test_b)\n",
        "    with open('best_svm_pca.json', 'w') as f: json.dump({'use_pca': True, 'params': best_b[0], 'oof_ll': best_b[1]}, f)\n",
        "\n",
        "# Compact Branch A (no PCA) grid\n",
        "Cs_a = [16.0, 32.0, 64.0]\n",
        "gammas_a = ['scale', 0.01, 0.02]\n",
        "best_a = (None, 1e9)\n",
        "best_oof_a = None\n",
        "best_test_a = None\n",
        "grid_total_a = len(Cs_a) * len(gammas_a)\n",
        "gcnt = 0\n",
        "t_grid_a = time.time()\n",
        "for C in Cs_a:\n",
        "    for gm in gammas_a:\n",
        "        gcnt += 1\n",
        "        print(f'\\n[Grid A {gcnt}/{grid_total_a}] C={C}, gamma={gm}', flush=True)\n",
        "        oof_a, test_a, oof_ll_a = run_svm_cv(use_pca=False, pca_var=None, C=C, gamma=gm)\n",
        "        if oof_ll_a < best_a[1]:\n",
        "            best_a = ((False, None, C, gm), oof_ll_a)\n",
        "            best_oof_a = oof_a\n",
        "            best_test_a = test_a\n",
        "print('Best SVM Branch A:', best_a, '| grid time {:.2f}s'.format(time.time()-t_grid_a))\n",
        "if best_oof_a is not None:\n",
        "    np.save('oof_svm_nopca.npy', best_oof_a)\n",
        "    np.save('test_pred_svm_nopca.npy', best_test_a)\n",
        "    with open('best_svm_nopca.json', 'w') as f: json.dump({'use_pca': False, 'params': best_a[0], 'oof_ll': best_a[1]}, f)"
      ],
      "execution_count": 5,
      "outputs": [
        {
          "output_type": "stream",
          "name": "stdout",
          "text": [
            "\n[Grid B 1/27] pv=0.995, C=16.0, gamma=scale\n"
          ]
        },
        {
          "output_type": "stream",
          "name": "stdout",
          "text": [
            "SVM PCA components: 126\n"
          ]
        },
        {
          "output_type": "stream",
          "name": "stdout",
          "text": [
            "[SVM fold 1/6] use_pca=True, pca_var=0.995, C=16.0, gamma=scale, logloss=2.26388, time=1.11s\n"
          ]
        },
        {
          "output_type": "stream",
          "name": "stdout",
          "text": [
            "[SVM fold 2/6] use_pca=True, pca_var=0.995, C=16.0, gamma=scale, logloss=2.28455, time=1.13s\n"
          ]
        },
        {
          "output_type": "stream",
          "name": "stdout",
          "text": [
            "[SVM fold 3/6] use_pca=True, pca_var=0.995, C=16.0, gamma=scale, logloss=2.20680, time=1.12s\n"
          ]
        },
        {
          "output_type": "stream",
          "name": "stdout",
          "text": [
            "[SVM fold 4/6] use_pca=True, pca_var=0.995, C=16.0, gamma=scale, logloss=2.28633, time=1.16s\n"
          ]
        },
        {
          "output_type": "stream",
          "name": "stdout",
          "text": [
            "[SVM fold 6/6] use_pca=True, pca_var=0.995, C=16.0, gamma=scale, logloss=2.31393, time=1.10s\n"
          ]
        },
        {
          "output_type": "stream",
          "name": "stdout",
          "text": [
            "SVM OOF logloss (use_pca=True, pca_var=0.995, C=16.0, gamma=scale): 2.269320 | avg fold 2.269379 in 6.74s\n\n[Grid B 2/27] pv=0.995, C=16.0, gamma=0.01\n"
          ]
        },
        {
          "output_type": "stream",
          "name": "stdout",
          "text": [
            "SVM PCA components: 126\n"
          ]
        },
        {
          "output_type": "stream",
          "name": "stdout",
          "text": [
            "[SVM fold 1/6] use_pca=True, pca_var=0.995, C=16.0, gamma=0.01, logloss=2.28232, time=1.08s\n"
          ]
        },
        {
          "output_type": "stream",
          "name": "stdout",
          "text": [
            "[SVM fold 2/6] use_pca=True, pca_var=0.995, C=16.0, gamma=0.01, logloss=2.29504, time=1.06s\n"
          ]
        },
        {
          "output_type": "stream",
          "name": "stdout",
          "text": [
            "[SVM fold 3/6] use_pca=True, pca_var=0.995, C=16.0, gamma=0.01, logloss=2.22342, time=1.12s\n"
          ]
        },
        {
          "output_type": "stream",
          "name": "stdout",
          "text": [
            "[SVM fold 4/6] use_pca=True, pca_var=0.995, C=16.0, gamma=0.01, logloss=2.30744, time=1.07s\n"
          ]
        },
        {
          "output_type": "stream",
          "name": "stdout",
          "text": [
            "[SVM fold 5/6] use_pca=True, pca_var=0.995, C=16.0, gamma=0.01, logloss=2.28183, time=1.07s\n"
          ]
        },
        {
          "output_type": "stream",
          "name": "stdout",
          "text": [
            "[SVM fold 6/6] use_pca=True, pca_var=0.995, C=16.0, gamma=0.01, logloss=2.32367, time=1.11s\n"
          ]
        },
        {
          "output_type": "stream",
          "name": "stdout",
          "text": [
            "SVM OOF logloss (use_pca=True, pca_var=0.995, C=16.0, gamma=0.01): 2.285556 | avg fold 2.285619 in 6.51s\n\n[Grid B 3/27] pv=0.995, C=16.0, gamma=0.02\n"
          ]
        },
        {
          "output_type": "stream",
          "name": "stdout",
          "text": [
            "SVM PCA components: 126\n"
          ]
        },
        {
          "output_type": "stream",
          "name": "stdout",
          "text": [
            "[SVM fold 1/6] use_pca=True, pca_var=0.995, C=16.0, gamma=0.02, logloss=3.13674, time=1.05s\n"
          ]
        },
        {
          "output_type": "stream",
          "name": "stdout",
          "text": [
            "[SVM fold 2/6] use_pca=True, pca_var=0.995, C=16.0, gamma=0.02, logloss=3.16026, time=1.07s\n"
          ]
        },
        {
          "output_type": "stream",
          "name": "stdout",
          "text": [
            "[SVM fold 3/6] use_pca=True, pca_var=0.995, C=16.0, gamma=0.02, logloss=3.31272, time=1.08s\n"
          ]
        },
        {
          "output_type": "stream",
          "name": "stdout",
          "text": [
            "[SVM fold 4/6] use_pca=True, pca_var=0.995, C=16.0, gamma=0.02, logloss=3.27937, time=1.07s\n"
          ]
        },
        {
          "output_type": "stream",
          "name": "stdout",
          "text": [
            "[SVM fold 5/6] use_pca=True, pca_var=0.995, C=16.0, gamma=0.02, logloss=3.26055, time=1.08s\n"
          ]
        },
        {
          "output_type": "stream",
          "name": "stdout",
          "text": [
            "[SVM fold 6/6] use_pca=True, pca_var=0.995, C=16.0, gamma=0.02, logloss=3.21094, time=1.08s\n"
          ]
        },
        {
          "output_type": "stream",
          "name": "stdout",
          "text": [
            "SVM OOF logloss (use_pca=True, pca_var=0.995, C=16.0, gamma=0.02): 3.226684 | avg fold 3.226763 in 6.45s\n\n[Grid B 4/27] pv=0.995, C=32.0, gamma=scale\n"
          ]
        },
        {
          "output_type": "stream",
          "name": "stdout",
          "text": [
            "SVM PCA components: 126\n"
          ]
        },
        {
          "output_type": "stream",
          "name": "stdout",
          "text": [
            "[SVM fold 1/6] use_pca=True, pca_var=0.995, C=32.0, gamma=scale, logloss=2.26388, time=1.11s\n"
          ]
        },
        {
          "output_type": "stream",
          "name": "stdout",
          "text": [
            "[SVM fold 2/6] use_pca=True, pca_var=0.995, C=32.0, gamma=scale, logloss=2.28455, time=1.09s\n"
          ]
        },
        {
          "output_type": "stream",
          "name": "stdout",
          "text": [
            "[SVM fold 3/6] use_pca=True, pca_var=0.995, C=32.0, gamma=scale, logloss=2.20680, time=1.12s\n"
          ]
        },
        {
          "output_type": "stream",
          "name": "stdout",
          "text": [
            "[SVM fold 4/6] use_pca=True, pca_var=0.995, C=32.0, gamma=scale, logloss=2.28633, time=1.13s\n"
          ]
        },
        {
          "output_type": "stream",
          "name": "stdout",
          "text": [
            "[SVM fold 5/6] use_pca=True, pca_var=0.995, C=32.0, gamma=scale, logloss=2.26078, time=1.10s\n"
          ]
        },
        {
          "output_type": "stream",
          "name": "stdout",
          "text": [
            "[SVM fold 6/6] use_pca=True, pca_var=0.995, C=32.0, gamma=scale, logloss=2.31393, time=1.08s\n"
          ]
        },
        {
          "output_type": "stream",
          "name": "stdout",
          "text": [
            "SVM OOF logloss (use_pca=True, pca_var=0.995, C=32.0, gamma=scale): 2.269320 | avg fold 2.269379 in 6.64s\n\n[Grid B 5/27] pv=0.995, C=32.0, gamma=0.01\n"
          ]
        },
        {
          "output_type": "stream",
          "name": "stdout",
          "text": [
            "SVM PCA components: 126\n"
          ]
        },
        {
          "output_type": "stream",
          "name": "stdout",
          "text": [
            "[SVM fold 1/6] use_pca=True, pca_var=0.995, C=32.0, gamma=0.01, logloss=2.28232, time=1.07s\n"
          ]
        },
        {
          "output_type": "stream",
          "name": "stdout",
          "text": [
            "[SVM fold 2/6] use_pca=True, pca_var=0.995, C=32.0, gamma=0.01, logloss=2.29504, time=1.08s\n"
          ]
        },
        {
          "output_type": "stream",
          "name": "stdout",
          "text": [
            "[SVM fold 3/6] use_pca=True, pca_var=0.995, C=32.0, gamma=0.01, logloss=2.22342, time=1.07s\n"
          ]
        },
        {
          "output_type": "stream",
          "name": "stdout",
          "text": [
            "[SVM fold 4/6] use_pca=True, pca_var=0.995, C=32.0, gamma=0.01, logloss=2.30744, time=1.07s\n"
          ]
        },
        {
          "output_type": "stream",
          "name": "stdout",
          "text": [
            "[SVM fold 5/6] use_pca=True, pca_var=0.995, C=32.0, gamma=0.01, logloss=2.28183, time=1.07s\n"
          ]
        },
        {
          "output_type": "stream",
          "name": "stdout",
          "text": [
            "[SVM fold 6/6] use_pca=True, pca_var=0.995, C=32.0, gamma=0.01, logloss=2.32367, time=1.05s\n"
          ]
        },
        {
          "output_type": "stream",
          "name": "stdout",
          "text": [
            "SVM OOF logloss (use_pca=True, pca_var=0.995, C=32.0, gamma=0.01): 2.285556 | avg fold 2.285619 in 6.42s\n\n[Grid B 6/27] pv=0.995, C=32.0, gamma=0.02\n"
          ]
        },
        {
          "output_type": "stream",
          "name": "stdout",
          "text": [
            "SVM PCA components: 126\n"
          ]
        },
        {
          "output_type": "stream",
          "name": "stdout",
          "text": [
            "[SVM fold 1/6] use_pca=True, pca_var=0.995, C=32.0, gamma=0.02, logloss=3.13674, time=1.05s\n"
          ]
        },
        {
          "output_type": "stream",
          "name": "stdout",
          "text": [
            "[SVM fold 2/6] use_pca=True, pca_var=0.995, C=32.0, gamma=0.02, logloss=3.16026, time=1.09s\n"
          ]
        },
        {
          "output_type": "stream",
          "name": "stdout",
          "text": [
            "[SVM fold 3/6] use_pca=True, pca_var=0.995, C=32.0, gamma=0.02, logloss=3.31272, time=1.06s\n"
          ]
        },
        {
          "output_type": "stream",
          "name": "stdout",
          "text": [
            "[SVM fold 4/6] use_pca=True, pca_var=0.995, C=32.0, gamma=0.02, logloss=3.27937, time=1.08s\n"
          ]
        },
        {
          "output_type": "stream",
          "name": "stdout",
          "text": [
            "[SVM fold 5/6] use_pca=True, pca_var=0.995, C=32.0, gamma=0.02, logloss=3.26055, time=1.06s\n"
          ]
        },
        {
          "output_type": "stream",
          "name": "stdout",
          "text": [
            "[SVM fold 6/6] use_pca=True, pca_var=0.995, C=32.0, gamma=0.02, logloss=3.21094, time=1.08s\n"
          ]
        },
        {
          "output_type": "stream",
          "name": "stdout",
          "text": [
            "SVM OOF logloss (use_pca=True, pca_var=0.995, C=32.0, gamma=0.02): 3.226684 | avg fold 3.226763 in 6.43s\n\n[Grid B 7/27] pv=0.995, C=64.0, gamma=scale\n"
          ]
        },
        {
          "output_type": "stream",
          "name": "stdout",
          "text": [
            "SVM PCA components: 126\n"
          ]
        },
        {
          "output_type": "stream",
          "name": "stdout",
          "text": [
            "[SVM fold 1/6] use_pca=True, pca_var=0.995, C=64.0, gamma=scale, logloss=2.26388, time=1.08s\n"
          ]
        },
        {
          "output_type": "stream",
          "name": "stdout",
          "text": [
            "[SVM fold 2/6] use_pca=True, pca_var=0.995, C=64.0, gamma=scale, logloss=2.28455, time=1.07s\n"
          ]
        },
        {
          "output_type": "stream",
          "name": "stdout",
          "text": [
            "[SVM fold 3/6] use_pca=True, pca_var=0.995, C=64.0, gamma=scale, logloss=2.20680, time=1.09s\n"
          ]
        },
        {
          "output_type": "stream",
          "name": "stdout",
          "text": [
            "[SVM fold 4/6] use_pca=True, pca_var=0.995, C=64.0, gamma=scale, logloss=2.28633, time=1.10s\n"
          ]
        },
        {
          "output_type": "stream",
          "name": "stdout",
          "text": [
            "[SVM fold 5/6] use_pca=True, pca_var=0.995, C=64.0, gamma=scale, logloss=2.26078, time=1.10s\n"
          ]
        },
        {
          "output_type": "stream",
          "name": "stdout",
          "text": [
            "[SVM fold 6/6] use_pca=True, pca_var=0.995, C=64.0, gamma=scale, logloss=2.31393, time=1.10s\n"
          ]
        },
        {
          "output_type": "stream",
          "name": "stdout",
          "text": [
            "SVM OOF logloss (use_pca=True, pca_var=0.995, C=64.0, gamma=scale): 2.269320 | avg fold 2.269379 in 6.54s\n\n[Grid B 8/27] pv=0.995, C=64.0, gamma=0.01\n"
          ]
        },
        {
          "output_type": "stream",
          "name": "stdout",
          "text": [
            "SVM PCA components: 126\n"
          ]
        },
        {
          "output_type": "stream",
          "name": "stdout",
          "text": [
            "[SVM fold 1/6] use_pca=True, pca_var=0.995, C=64.0, gamma=0.01, logloss=2.28232, time=1.06s\n"
          ]
        },
        {
          "output_type": "stream",
          "name": "stdout",
          "text": [
            "[SVM fold 2/6] use_pca=True, pca_var=0.995, C=64.0, gamma=0.01, logloss=2.29504, time=1.07s\n"
          ]
        },
        {
          "output_type": "stream",
          "name": "stdout",
          "text": [
            "[SVM fold 3/6] use_pca=True, pca_var=0.995, C=64.0, gamma=0.01, logloss=2.22342, time=1.07s\n"
          ]
        },
        {
          "output_type": "stream",
          "name": "stdout",
          "text": [
            "[SVM fold 4/6] use_pca=True, pca_var=0.995, C=64.0, gamma=0.01, logloss=2.30744, time=1.06s\n"
          ]
        },
        {
          "output_type": "stream",
          "name": "stdout",
          "text": [
            "[SVM fold 5/6] use_pca=True, pca_var=0.995, C=64.0, gamma=0.01, logloss=2.28183, time=1.07s\n"
          ]
        },
        {
          "output_type": "stream",
          "name": "stdout",
          "text": [
            "[SVM fold 6/6] use_pca=True, pca_var=0.995, C=64.0, gamma=0.01, logloss=2.32367, time=1.07s\n"
          ]
        },
        {
          "output_type": "stream",
          "name": "stdout",
          "text": [
            "SVM OOF logloss (use_pca=True, pca_var=0.995, C=64.0, gamma=0.01): 2.285556 | avg fold 2.285619 in 6.41s\n\n[Grid B 9/27] pv=0.995, C=64.0, gamma=0.02\n"
          ]
        },
        {
          "output_type": "stream",
          "name": "stdout",
          "text": [
            "SVM PCA components: 126\n"
          ]
        },
        {
          "output_type": "stream",
          "name": "stdout",
          "text": [
            "[SVM fold 1/6] use_pca=True, pca_var=0.995, C=64.0, gamma=0.02, logloss=3.13674, time=1.05s\n"
          ]
        },
        {
          "output_type": "stream",
          "name": "stdout",
          "text": [
            "[SVM fold 2/6] use_pca=True, pca_var=0.995, C=64.0, gamma=0.02, logloss=3.16026, time=1.10s\n"
          ]
        },
        {
          "output_type": "stream",
          "name": "stdout",
          "text": [
            "[SVM fold 3/6] use_pca=True, pca_var=0.995, C=64.0, gamma=0.02, logloss=3.31272, time=1.11s\n"
          ]
        },
        {
          "output_type": "stream",
          "name": "stdout",
          "text": [
            "[SVM fold 4/6] use_pca=True, pca_var=0.995, C=64.0, gamma=0.02, logloss=3.27937, time=1.11s\n"
          ]
        },
        {
          "output_type": "stream",
          "name": "stdout",
          "text": [
            "[SVM fold 5/6] use_pca=True, pca_var=0.995, C=64.0, gamma=0.02, logloss=3.26055, time=1.07s\n"
          ]
        },
        {
          "output_type": "stream",
          "name": "stdout",
          "text": [
            "[SVM fold 6/6] use_pca=True, pca_var=0.995, C=64.0, gamma=0.02, logloss=3.21094, time=1.09s\n"
          ]
        },
        {
          "output_type": "stream",
          "name": "stdout",
          "text": [
            "SVM OOF logloss (use_pca=True, pca_var=0.995, C=64.0, gamma=0.02): 3.226684 | avg fold 3.226763 in 6.52s\n\n[Grid B 10/27] pv=0.997, C=16.0, gamma=scale\n"
          ]
        },
        {
          "output_type": "stream",
          "name": "stdout",
          "text": [
            "SVM PCA components: 133\n"
          ]
        },
        {
          "output_type": "stream",
          "name": "stdout",
          "text": [
            "[SVM fold 1/6] use_pca=True, pca_var=0.997, C=16.0, gamma=scale, logloss=2.29183, time=1.11s\n"
          ]
        },
        {
          "output_type": "stream",
          "name": "stdout",
          "text": [
            "[SVM fold 2/6] use_pca=True, pca_var=0.997, C=16.0, gamma=scale, logloss=2.29615, time=1.13s\n"
          ]
        },
        {
          "output_type": "stream",
          "name": "stdout",
          "text": [
            "[SVM fold 3/6] use_pca=True, pca_var=0.997, C=16.0, gamma=scale, logloss=2.23696, time=1.12s\n"
          ]
        },
        {
          "output_type": "stream",
          "name": "stdout",
          "text": [
            "[SVM fold 4/6] use_pca=True, pca_var=0.997, C=16.0, gamma=scale, logloss=2.29198, time=1.11s\n"
          ]
        },
        {
          "output_type": "stream",
          "name": "stdout",
          "text": [
            "[SVM fold 5/6] use_pca=True, pca_var=0.997, C=16.0, gamma=scale, logloss=2.26871, time=1.18s\n"
          ]
        },
        {
          "output_type": "stream",
          "name": "stdout",
          "text": [
            "[SVM fold 6/6] use_pca=True, pca_var=0.997, C=16.0, gamma=scale, logloss=2.32356, time=1.19s\n"
          ]
        },
        {
          "output_type": "stream",
          "name": "stdout",
          "text": [
            "SVM OOF logloss (use_pca=True, pca_var=0.997, C=16.0, gamma=scale): 2.284834 | avg fold 2.284867 in 6.86s\n\n[Grid B 11/27] pv=0.997, C=16.0, gamma=0.01\n"
          ]
        },
        {
          "output_type": "stream",
          "name": "stdout",
          "text": [
            "SVM PCA components: 133\n"
          ]
        },
        {
          "output_type": "stream",
          "name": "stdout",
          "text": [
            "[SVM fold 1/6] use_pca=True, pca_var=0.997, C=16.0, gamma=0.01, logloss=2.33710, time=1.12s\n"
          ]
        },
        {
          "output_type": "stream",
          "name": "stdout",
          "text": [
            "[SVM fold 2/6] use_pca=True, pca_var=0.997, C=16.0, gamma=0.01, logloss=2.32986, time=1.10s\n"
          ]
        },
        {
          "output_type": "stream",
          "name": "stdout",
          "text": [
            "[SVM fold 3/6] use_pca=True, pca_var=0.997, C=16.0, gamma=0.01, logloss=2.29055, time=1.12s\n"
          ]
        },
        {
          "output_type": "stream",
          "name": "stdout",
          "text": [
            "[SVM fold 4/6] use_pca=True, pca_var=0.997, C=16.0, gamma=0.01, logloss=2.33734, time=1.08s\n"
          ]
        },
        {
          "output_type": "stream",
          "name": "stdout",
          "text": [
            "[SVM fold 5/6] use_pca=True, pca_var=0.997, C=16.0, gamma=0.01, logloss=2.31985, time=1.10s\n"
          ]
        },
        {
          "output_type": "stream",
          "name": "stdout",
          "text": [
            "[SVM fold 6/6] use_pca=True, pca_var=0.997, C=16.0, gamma=0.01, logloss=2.36301, time=1.11s\n"
          ]
        },
        {
          "output_type": "stream",
          "name": "stdout",
          "text": [
            "SVM OOF logloss (use_pca=True, pca_var=0.997, C=16.0, gamma=0.01): 2.329584 | avg fold 2.329619 in 6.64s\n\n[Grid B 12/27] pv=0.997, C=16.0, gamma=0.02\n"
          ]
        },
        {
          "output_type": "stream",
          "name": "stdout",
          "text": [
            "SVM PCA components: 133\n"
          ]
        },
        {
          "output_type": "stream",
          "name": "stdout",
          "text": [
            "[SVM fold 1/6] use_pca=True, pca_var=0.997, C=16.0, gamma=0.02, logloss=3.48328, time=1.10s\n"
          ]
        },
        {
          "output_type": "stream",
          "name": "stdout",
          "text": [
            "[SVM fold 2/6] use_pca=True, pca_var=0.997, C=16.0, gamma=0.02, logloss=3.47278, time=1.11s\n"
          ]
        },
        {
          "output_type": "stream",
          "name": "stdout",
          "text": [
            "[SVM fold 3/6] use_pca=True, pca_var=0.997, C=16.0, gamma=0.02, logloss=3.64244, time=1.11s\n"
          ]
        },
        {
          "output_type": "stream",
          "name": "stdout",
          "text": [
            "[SVM fold 4/6] use_pca=True, pca_var=0.997, C=16.0, gamma=0.02, logloss=3.56165, time=1.10s\n"
          ]
        },
        {
          "output_type": "stream",
          "name": "stdout",
          "text": [
            "[SVM fold 5/6] use_pca=True, pca_var=0.997, C=16.0, gamma=0.02, logloss=3.53969, time=1.10s\n"
          ]
        },
        {
          "output_type": "stream",
          "name": "stdout",
          "text": [
            "[SVM fold 6/6] use_pca=True, pca_var=0.997, C=16.0, gamma=0.02, logloss=3.55231, time=1.11s\n"
          ]
        },
        {
          "output_type": "stream",
          "name": "stdout",
          "text": [
            "SVM OOF logloss (use_pca=True, pca_var=0.997, C=16.0, gamma=0.02): 3.541995 | avg fold 3.542026 in 6.64s\n\n[Grid B 13/27] pv=0.997, C=32.0, gamma=scale\n"
          ]
        },
        {
          "output_type": "stream",
          "name": "stdout",
          "text": [
            "SVM PCA components: 133\n"
          ]
        },
        {
          "output_type": "stream",
          "name": "stdout",
          "text": [
            "[SVM fold 1/6] use_pca=True, pca_var=0.997, C=32.0, gamma=scale, logloss=2.29183, time=1.11s\n"
          ]
        },
        {
          "output_type": "stream",
          "name": "stdout",
          "text": [
            "[SVM fold 2/6] use_pca=True, pca_var=0.997, C=32.0, gamma=scale, logloss=2.29615, time=1.10s\n"
          ]
        },
        {
          "output_type": "stream",
          "name": "stdout",
          "text": [
            "[SVM fold 3/6] use_pca=True, pca_var=0.997, C=32.0, gamma=scale, logloss=2.23696, time=1.11s\n"
          ]
        },
        {
          "output_type": "stream",
          "name": "stdout",
          "text": [
            "[SVM fold 4/6] use_pca=True, pca_var=0.997, C=32.0, gamma=scale, logloss=2.29198, time=1.10s\n"
          ]
        },
        {
          "output_type": "stream",
          "name": "stdout",
          "text": [
            "[SVM fold 5/6] use_pca=True, pca_var=0.997, C=32.0, gamma=scale, logloss=2.26871, time=1.13s\n"
          ]
        },
        {
          "output_type": "stream",
          "name": "stdout",
          "text": [
            "[SVM fold 6/6] use_pca=True, pca_var=0.997, C=32.0, gamma=scale, logloss=2.32356, time=1.12s\n"
          ]
        },
        {
          "output_type": "stream",
          "name": "stdout",
          "text": [
            "SVM OOF logloss (use_pca=True, pca_var=0.997, C=32.0, gamma=scale): 2.284834 | avg fold 2.284867 in 6.68s\n\n[Grid B 14/27] pv=0.997, C=32.0, gamma=0.01\n"
          ]
        },
        {
          "output_type": "stream",
          "name": "stdout",
          "text": [
            "SVM PCA components: 133\n"
          ]
        },
        {
          "output_type": "stream",
          "name": "stdout",
          "text": [
            "[SVM fold 1/6] use_pca=True, pca_var=0.997, C=32.0, gamma=0.01, logloss=2.33710, time=1.12s\n"
          ]
        },
        {
          "output_type": "stream",
          "name": "stdout",
          "text": [
            "[SVM fold 2/6] use_pca=True, pca_var=0.997, C=32.0, gamma=0.01, logloss=2.32986, time=1.13s\n"
          ]
        },
        {
          "output_type": "stream",
          "name": "stdout",
          "text": [
            "[SVM fold 3/6] use_pca=True, pca_var=0.997, C=32.0, gamma=0.01, logloss=2.29055, time=1.10s\n"
          ]
        },
        {
          "output_type": "stream",
          "name": "stdout",
          "text": [
            "[SVM fold 4/6] use_pca=True, pca_var=0.997, C=32.0, gamma=0.01, logloss=2.33734, time=1.11s\n"
          ]
        },
        {
          "output_type": "stream",
          "name": "stdout",
          "text": [
            "[SVM fold 5/6] use_pca=True, pca_var=0.997, C=32.0, gamma=0.01, logloss=2.31985, time=1.09s\n"
          ]
        },
        {
          "output_type": "stream",
          "name": "stdout",
          "text": [
            "[SVM fold 6/6] use_pca=True, pca_var=0.997, C=32.0, gamma=0.01, logloss=2.36301, time=1.12s\n"
          ]
        },
        {
          "output_type": "stream",
          "name": "stdout",
          "text": [
            "SVM OOF logloss (use_pca=True, pca_var=0.997, C=32.0, gamma=0.01): 2.329584 | avg fold 2.329619 in 6.68s\n\n[Grid B 15/27] pv=0.997, C=32.0, gamma=0.02\n"
          ]
        },
        {
          "output_type": "stream",
          "name": "stdout",
          "text": [
            "SVM PCA components: 133\n"
          ]
        },
        {
          "output_type": "stream",
          "name": "stdout",
          "text": [
            "[SVM fold 1/6] use_pca=True, pca_var=0.997, C=32.0, gamma=0.02, logloss=3.48328, time=1.10s\n"
          ]
        },
        {
          "output_type": "stream",
          "name": "stdout",
          "text": [
            "[SVM fold 2/6] use_pca=True, pca_var=0.997, C=32.0, gamma=0.02, logloss=3.47278, time=1.09s\n"
          ]
        },
        {
          "output_type": "stream",
          "name": "stdout",
          "text": [
            "[SVM fold 3/6] use_pca=True, pca_var=0.997, C=32.0, gamma=0.02, logloss=3.64244, time=1.12s\n"
          ]
        },
        {
          "output_type": "stream",
          "name": "stdout",
          "text": [
            "[SVM fold 4/6] use_pca=True, pca_var=0.997, C=32.0, gamma=0.02, logloss=3.56165, time=1.09s\n"
          ]
        },
        {
          "output_type": "stream",
          "name": "stdout",
          "text": [
            "[SVM fold 5/6] use_pca=True, pca_var=0.997, C=32.0, gamma=0.02, logloss=3.53969, time=1.08s\n"
          ]
        },
        {
          "output_type": "stream",
          "name": "stdout",
          "text": [
            "[SVM fold 6/6] use_pca=True, pca_var=0.997, C=32.0, gamma=0.02, logloss=3.55231, time=1.10s\n"
          ]
        },
        {
          "output_type": "stream",
          "name": "stdout",
          "text": [
            "SVM OOF logloss (use_pca=True, pca_var=0.997, C=32.0, gamma=0.02): 3.541995 | avg fold 3.542026 in 6.58s\n\n[Grid B 16/27] pv=0.997, C=64.0, gamma=scale\n"
          ]
        },
        {
          "output_type": "stream",
          "name": "stdout",
          "text": [
            "SVM PCA components: 133\n"
          ]
        },
        {
          "output_type": "stream",
          "name": "stdout",
          "text": [
            "[SVM fold 1/6] use_pca=True, pca_var=0.997, C=64.0, gamma=scale, logloss=2.29183, time=1.11s\n"
          ]
        },
        {
          "output_type": "stream",
          "name": "stdout",
          "text": [
            "[SVM fold 2/6] use_pca=True, pca_var=0.997, C=64.0, gamma=scale, logloss=2.29615, time=1.11s\n"
          ]
        },
        {
          "output_type": "stream",
          "name": "stdout",
          "text": [
            "[SVM fold 3/6] use_pca=True, pca_var=0.997, C=64.0, gamma=scale, logloss=2.23696, time=1.09s\n"
          ]
        },
        {
          "output_type": "stream",
          "name": "stdout",
          "text": [
            "[SVM fold 4/6] use_pca=True, pca_var=0.997, C=64.0, gamma=scale, logloss=2.29198, time=1.10s\n"
          ]
        },
        {
          "output_type": "stream",
          "name": "stdout",
          "text": [
            "[SVM fold 5/6] use_pca=True, pca_var=0.997, C=64.0, gamma=scale, logloss=2.26871, time=1.08s\n"
          ]
        },
        {
          "output_type": "stream",
          "name": "stdout",
          "text": [
            "[SVM fold 6/6] use_pca=True, pca_var=0.997, C=64.0, gamma=scale, logloss=2.32356, time=1.12s\n"
          ]
        },
        {
          "output_type": "stream",
          "name": "stdout",
          "text": [
            "SVM OOF logloss (use_pca=True, pca_var=0.997, C=64.0, gamma=scale): 2.284834 | avg fold 2.284867 in 6.63s\n\n[Grid B 17/27] pv=0.997, C=64.0, gamma=0.01\n"
          ]
        },
        {
          "output_type": "stream",
          "name": "stdout",
          "text": [
            "SVM PCA components: 133\n"
          ]
        },
        {
          "output_type": "stream",
          "name": "stdout",
          "text": [
            "[SVM fold 1/6] use_pca=True, pca_var=0.997, C=64.0, gamma=0.01, logloss=2.33710, time=1.13s\n"
          ]
        },
        {
          "output_type": "stream",
          "name": "stdout",
          "text": [
            "[SVM fold 2/6] use_pca=True, pca_var=0.997, C=64.0, gamma=0.01, logloss=2.32986, time=1.10s\n"
          ]
        },
        {
          "output_type": "stream",
          "name": "stdout",
          "text": [
            "[SVM fold 3/6] use_pca=True, pca_var=0.997, C=64.0, gamma=0.01, logloss=2.29055, time=1.10s\n"
          ]
        },
        {
          "output_type": "stream",
          "name": "stdout",
          "text": [
            "[SVM fold 4/6] use_pca=True, pca_var=0.997, C=64.0, gamma=0.01, logloss=2.33734, time=1.08s\n"
          ]
        },
        {
          "output_type": "stream",
          "name": "stdout",
          "text": [
            "[SVM fold 5/6] use_pca=True, pca_var=0.997, C=64.0, gamma=0.01, logloss=2.31985, time=1.12s\n"
          ]
        },
        {
          "output_type": "stream",
          "name": "stdout",
          "text": [
            "[SVM fold 6/6] use_pca=True, pca_var=0.997, C=64.0, gamma=0.01, logloss=2.36301, time=1.10s\n"
          ]
        },
        {
          "output_type": "stream",
          "name": "stdout",
          "text": [
            "SVM OOF logloss (use_pca=True, pca_var=0.997, C=64.0, gamma=0.01): 2.329584 | avg fold 2.329619 in 6.64s\n\n[Grid B 18/27] pv=0.997, C=64.0, gamma=0.02\n"
          ]
        },
        {
          "output_type": "stream",
          "name": "stdout",
          "text": [
            "SVM PCA components: 133\n"
          ]
        },
        {
          "output_type": "stream",
          "name": "stdout",
          "text": [
            "[SVM fold 1/6] use_pca=True, pca_var=0.997, C=64.0, gamma=0.02, logloss=3.48328, time=1.11s\n"
          ]
        },
        {
          "output_type": "stream",
          "name": "stdout",
          "text": [
            "[SVM fold 2/6] use_pca=True, pca_var=0.997, C=64.0, gamma=0.02, logloss=3.47278, time=1.14s\n"
          ]
        },
        {
          "output_type": "stream",
          "name": "stdout",
          "text": [
            "[SVM fold 3/6] use_pca=True, pca_var=0.997, C=64.0, gamma=0.02, logloss=3.64244, time=1.13s\n"
          ]
        },
        {
          "output_type": "stream",
          "name": "stdout",
          "text": [
            "[SVM fold 4/6] use_pca=True, pca_var=0.997, C=64.0, gamma=0.02, logloss=3.56165, time=1.09s\n"
          ]
        },
        {
          "output_type": "stream",
          "name": "stdout",
          "text": [
            "[SVM fold 5/6] use_pca=True, pca_var=0.997, C=64.0, gamma=0.02, logloss=3.53969, time=1.07s\n"
          ]
        },
        {
          "output_type": "stream",
          "name": "stdout",
          "text": [
            "[SVM fold 6/6] use_pca=True, pca_var=0.997, C=64.0, gamma=0.02, logloss=3.55231, time=1.18s\n"
          ]
        },
        {
          "output_type": "stream",
          "name": "stdout",
          "text": [
            "SVM OOF logloss (use_pca=True, pca_var=0.997, C=64.0, gamma=0.02): 3.541995 | avg fold 3.542026 in 6.73s\n\n[Grid B 19/27] pv=0.999, C=16.0, gamma=scale\n"
          ]
        },
        {
          "output_type": "stream",
          "name": "stdout",
          "text": [
            "SVM PCA components: 143\n"
          ]
        },
        {
          "output_type": "stream",
          "name": "stdout",
          "text": [
            "[SVM fold 1/6] use_pca=True, pca_var=0.999, C=16.0, gamma=scale, logloss=2.30949, time=1.24s\n"
          ]
        },
        {
          "output_type": "stream",
          "name": "stdout",
          "text": [
            "[SVM fold 2/6] use_pca=True, pca_var=0.999, C=16.0, gamma=scale, logloss=2.31558, time=1.23s\n"
          ]
        },
        {
          "output_type": "stream",
          "name": "stdout",
          "text": [
            "[SVM fold 3/6] use_pca=True, pca_var=0.999, C=16.0, gamma=scale, logloss=2.25579, time=1.20s\n"
          ]
        },
        {
          "output_type": "stream",
          "name": "stdout",
          "text": [
            "[SVM fold 4/6] use_pca=True, pca_var=0.999, C=16.0, gamma=scale, logloss=2.30617, time=1.22s\n"
          ]
        },
        {
          "output_type": "stream",
          "name": "stdout",
          "text": [
            "[SVM fold 5/6] use_pca=True, pca_var=0.999, C=16.0, gamma=scale, logloss=2.26556, time=1.25s\n"
          ]
        },
        {
          "output_type": "stream",
          "name": "stdout",
          "text": [
            "[SVM fold 6/6] use_pca=True, pca_var=0.999, C=16.0, gamma=scale, logloss=2.31293, time=1.23s\n"
          ]
        },
        {
          "output_type": "stream",
          "name": "stdout",
          "text": [
            "SVM OOF logloss (use_pca=True, pca_var=0.999, C=16.0, gamma=scale): 2.294248 | avg fold 2.294250 in 7.38s\n\n[Grid B 20/27] pv=0.999, C=16.0, gamma=0.01\n"
          ]
        },
        {
          "output_type": "stream",
          "name": "stdout",
          "text": [
            "SVM PCA components: 143\n"
          ]
        },
        {
          "output_type": "stream",
          "name": "stdout",
          "text": [
            "[SVM fold 1/6] use_pca=True, pca_var=0.999, C=16.0, gamma=0.01, logloss=2.41862, time=1.20s\n"
          ]
        },
        {
          "output_type": "stream",
          "name": "stdout",
          "text": [
            "[SVM fold 2/6] use_pca=True, pca_var=0.999, C=16.0, gamma=0.01, logloss=2.41845, time=1.19s\n"
          ]
        },
        {
          "output_type": "stream",
          "name": "stdout",
          "text": [
            "[SVM fold 3/6] use_pca=True, pca_var=0.999, C=16.0, gamma=0.01, logloss=2.39396, time=1.22s\n"
          ]
        },
        {
          "output_type": "stream",
          "name": "stdout",
          "text": [
            "[SVM fold 4/6] use_pca=True, pca_var=0.999, C=16.0, gamma=0.01, logloss=2.43252, time=1.22s\n"
          ]
        },
        {
          "output_type": "stream",
          "name": "stdout",
          "text": [
            "[SVM fold 5/6] use_pca=True, pca_var=0.999, C=16.0, gamma=0.01, logloss=2.40448, time=1.20s\n"
          ]
        },
        {
          "output_type": "stream",
          "name": "stdout",
          "text": [
            "[SVM fold 6/6] use_pca=True, pca_var=0.999, C=16.0, gamma=0.01, logloss=2.42062, time=1.19s\n"
          ]
        },
        {
          "output_type": "stream",
          "name": "stdout",
          "text": [
            "SVM OOF logloss (use_pca=True, pca_var=0.999, C=16.0, gamma=0.01): 2.414758 | avg fold 2.414773 in 7.22s\n\n[Grid B 21/27] pv=0.999, C=16.0, gamma=0.02\n"
          ]
        },
        {
          "output_type": "stream",
          "name": "stdout",
          "text": [
            "SVM PCA components: 143\n"
          ]
        },
        {
          "output_type": "stream",
          "name": "stdout",
          "text": [
            "[SVM fold 1/6] use_pca=True, pca_var=0.999, C=16.0, gamma=0.02, logloss=3.86347, time=1.20s\n"
          ]
        },
        {
          "output_type": "stream",
          "name": "stdout",
          "text": [
            "[SVM fold 2/6] use_pca=True, pca_var=0.999, C=16.0, gamma=0.02, logloss=3.84718, time=1.20s\n"
          ]
        },
        {
          "output_type": "stream",
          "name": "stdout",
          "text": [
            "[SVM fold 3/6] use_pca=True, pca_var=0.999, C=16.0, gamma=0.02, logloss=3.97599, time=1.18s\n"
          ]
        },
        {
          "output_type": "stream",
          "name": "stdout",
          "text": [
            "[SVM fold 4/6] use_pca=True, pca_var=0.999, C=16.0, gamma=0.02, logloss=3.95912, time=1.20s\n"
          ]
        },
        {
          "output_type": "stream",
          "name": "stdout",
          "text": [
            "[SVM fold 5/6] use_pca=True, pca_var=0.999, C=16.0, gamma=0.02, logloss=3.92593, time=1.16s\n"
          ]
        },
        {
          "output_type": "stream",
          "name": "stdout",
          "text": [
            "[SVM fold 6/6] use_pca=True, pca_var=0.999, C=16.0, gamma=0.02, logloss=3.90117, time=1.20s\n"
          ]
        },
        {
          "output_type": "stream",
          "name": "stdout",
          "text": [
            "SVM OOF logloss (use_pca=True, pca_var=0.999, C=16.0, gamma=0.02): 3.912087 | avg fold 3.912143 in 7.14s\n\n[Grid B 22/27] pv=0.999, C=32.0, gamma=scale\n"
          ]
        },
        {
          "output_type": "stream",
          "name": "stdout",
          "text": [
            "SVM PCA components: 143\n"
          ]
        },
        {
          "output_type": "stream",
          "name": "stdout",
          "text": [
            "[SVM fold 1/6] use_pca=True, pca_var=0.999, C=32.0, gamma=scale, logloss=2.30949, time=1.21s\n"
          ]
        },
        {
          "output_type": "stream",
          "name": "stdout",
          "text": [
            "[SVM fold 2/6] use_pca=True, pca_var=0.999, C=32.0, gamma=scale, logloss=2.31558, time=1.20s\n"
          ]
        },
        {
          "output_type": "stream",
          "name": "stdout",
          "text": [
            "[SVM fold 3/6] use_pca=True, pca_var=0.999, C=32.0, gamma=scale, logloss=2.25579, time=1.22s\n"
          ]
        },
        {
          "output_type": "stream",
          "name": "stdout",
          "text": [
            "[SVM fold 4/6] use_pca=True, pca_var=0.999, C=32.0, gamma=scale, logloss=2.30617, time=1.21s\n"
          ]
        },
        {
          "output_type": "stream",
          "name": "stdout",
          "text": [
            "[SVM fold 5/6] use_pca=True, pca_var=0.999, C=32.0, gamma=scale, logloss=2.26556, time=1.22s\n"
          ]
        },
        {
          "output_type": "stream",
          "name": "stdout",
          "text": [
            "[SVM fold 6/6] use_pca=True, pca_var=0.999, C=32.0, gamma=scale, logloss=2.31293, time=1.17s\n"
          ]
        },
        {
          "output_type": "stream",
          "name": "stdout",
          "text": [
            "SVM OOF logloss (use_pca=True, pca_var=0.999, C=32.0, gamma=scale): 2.294248 | avg fold 2.294250 in 7.23s\n\n[Grid B 23/27] pv=0.999, C=32.0, gamma=0.01\n"
          ]
        },
        {
          "output_type": "stream",
          "name": "stdout",
          "text": [
            "SVM PCA components: 143\n"
          ]
        },
        {
          "output_type": "stream",
          "name": "stdout",
          "text": [
            "[SVM fold 1/6] use_pca=True, pca_var=0.999, C=32.0, gamma=0.01, logloss=2.41862, time=1.20s\n"
          ]
        },
        {
          "output_type": "stream",
          "name": "stdout",
          "text": [
            "[SVM fold 2/6] use_pca=True, pca_var=0.999, C=32.0, gamma=0.01, logloss=2.41845, time=1.21s\n"
          ]
        },
        {
          "output_type": "stream",
          "name": "stdout",
          "text": [
            "[SVM fold 3/6] use_pca=True, pca_var=0.999, C=32.0, gamma=0.01, logloss=2.39396, time=1.19s\n"
          ]
        },
        {
          "output_type": "stream",
          "name": "stdout",
          "text": [
            "[SVM fold 4/6] use_pca=True, pca_var=0.999, C=32.0, gamma=0.01, logloss=2.43252, time=1.20s\n"
          ]
        },
        {
          "output_type": "stream",
          "name": "stdout",
          "text": [
            "[SVM fold 5/6] use_pca=True, pca_var=0.999, C=32.0, gamma=0.01, logloss=2.40448, time=1.17s\n"
          ]
        },
        {
          "output_type": "stream",
          "name": "stdout",
          "text": [
            "[SVM fold 6/6] use_pca=True, pca_var=0.999, C=32.0, gamma=0.01, logloss=2.42062, time=1.21s\n"
          ]
        },
        {
          "output_type": "stream",
          "name": "stdout",
          "text": [
            "SVM OOF logloss (use_pca=True, pca_var=0.999, C=32.0, gamma=0.01): 2.414758 | avg fold 2.414773 in 7.19s\n\n[Grid B 24/27] pv=0.999, C=32.0, gamma=0.02\n"
          ]
        },
        {
          "output_type": "stream",
          "name": "stdout",
          "text": [
            "SVM PCA components: 143\n"
          ]
        },
        {
          "output_type": "stream",
          "name": "stdout",
          "text": [
            "[SVM fold 1/6] use_pca=True, pca_var=0.999, C=32.0, gamma=0.02, logloss=3.86347, time=1.20s\n"
          ]
        },
        {
          "output_type": "stream",
          "name": "stdout",
          "text": [
            "[SVM fold 2/6] use_pca=True, pca_var=0.999, C=32.0, gamma=0.02, logloss=3.84718, time=1.18s\n"
          ]
        },
        {
          "output_type": "stream",
          "name": "stdout",
          "text": [
            "[SVM fold 3/6] use_pca=True, pca_var=0.999, C=32.0, gamma=0.02, logloss=3.97599, time=1.19s\n"
          ]
        },
        {
          "output_type": "stream",
          "name": "stdout",
          "text": [
            "[SVM fold 4/6] use_pca=True, pca_var=0.999, C=32.0, gamma=0.02, logloss=3.95912, time=1.20s\n"
          ]
        },
        {
          "output_type": "stream",
          "name": "stdout",
          "text": [
            "[SVM fold 5/6] use_pca=True, pca_var=0.999, C=32.0, gamma=0.02, logloss=3.92593, time=1.21s\n"
          ]
        },
        {
          "output_type": "stream",
          "name": "stdout",
          "text": [
            "[SVM fold 6/6] use_pca=True, pca_var=0.999, C=32.0, gamma=0.02, logloss=3.90117, time=1.20s\n"
          ]
        },
        {
          "output_type": "stream",
          "name": "stdout",
          "text": [
            "SVM OOF logloss (use_pca=True, pca_var=0.999, C=32.0, gamma=0.02): 3.912087 | avg fold 3.912143 in 7.18s\n\n[Grid B 25/27] pv=0.999, C=64.0, gamma=scale\n"
          ]
        },
        {
          "output_type": "stream",
          "name": "stdout",
          "text": [
            "SVM PCA components: 143\n"
          ]
        },
        {
          "output_type": "stream",
          "name": "stdout",
          "text": [
            "[SVM fold 1/6] use_pca=True, pca_var=0.999, C=64.0, gamma=scale, logloss=2.30949, time=1.18s\n"
          ]
        },
        {
          "output_type": "stream",
          "name": "stdout",
          "text": [
            "[SVM fold 2/6] use_pca=True, pca_var=0.999, C=64.0, gamma=scale, logloss=2.31558, time=1.22s\n"
          ]
        },
        {
          "output_type": "stream",
          "name": "stdout",
          "text": [
            "[SVM fold 3/6] use_pca=True, pca_var=0.999, C=64.0, gamma=scale, logloss=2.25579, time=1.20s\n"
          ]
        },
        {
          "output_type": "stream",
          "name": "stdout",
          "text": [
            "[SVM fold 4/6] use_pca=True, pca_var=0.999, C=64.0, gamma=scale, logloss=2.30617, time=1.20s\n"
          ]
        },
        {
          "output_type": "stream",
          "name": "stdout",
          "text": [
            "[SVM fold 5/6] use_pca=True, pca_var=0.999, C=64.0, gamma=scale, logloss=2.26556, time=1.16s\n"
          ]
        },
        {
          "output_type": "stream",
          "name": "stdout",
          "text": [
            "[SVM fold 6/6] use_pca=True, pca_var=0.999, C=64.0, gamma=scale, logloss=2.31293, time=1.19s\n"
          ]
        },
        {
          "output_type": "stream",
          "name": "stdout",
          "text": [
            "SVM OOF logloss (use_pca=True, pca_var=0.999, C=64.0, gamma=scale): 2.294248 | avg fold 2.294250 in 7.15s\n\n[Grid B 26/27] pv=0.999, C=64.0, gamma=0.01\n"
          ]
        },
        {
          "output_type": "stream",
          "name": "stdout",
          "text": [
            "SVM PCA components: 143\n"
          ]
        },
        {
          "output_type": "stream",
          "name": "stdout",
          "text": [
            "[SVM fold 1/6] use_pca=True, pca_var=0.999, C=64.0, gamma=0.01, logloss=2.41862, time=1.20s\n"
          ]
        },
        {
          "output_type": "stream",
          "name": "stdout",
          "text": [
            "[SVM fold 2/6] use_pca=True, pca_var=0.999, C=64.0, gamma=0.01, logloss=2.41845, time=1.20s\n"
          ]
        },
        {
          "output_type": "stream",
          "name": "stdout",
          "text": [
            "[SVM fold 3/6] use_pca=True, pca_var=0.999, C=64.0, gamma=0.01, logloss=2.39396, time=1.20s\n"
          ]
        },
        {
          "output_type": "stream",
          "name": "stdout",
          "text": [
            "[SVM fold 4/6] use_pca=True, pca_var=0.999, C=64.0, gamma=0.01, logloss=2.43252, time=1.21s\n"
          ]
        },
        {
          "output_type": "stream",
          "name": "stdout",
          "text": [
            "[SVM fold 5/6] use_pca=True, pca_var=0.999, C=64.0, gamma=0.01, logloss=2.40448, time=1.17s\n"
          ]
        },
        {
          "output_type": "stream",
          "name": "stdout",
          "text": [
            "[SVM fold 6/6] use_pca=True, pca_var=0.999, C=64.0, gamma=0.01, logloss=2.42062, time=1.18s\n"
          ]
        },
        {
          "output_type": "stream",
          "name": "stdout",
          "text": [
            "SVM OOF logloss (use_pca=True, pca_var=0.999, C=64.0, gamma=0.01): 2.414758 | avg fold 2.414773 in 7.17s\n\n[Grid B 27/27] pv=0.999, C=64.0, gamma=0.02\n"
          ]
        },
        {
          "output_type": "stream",
          "name": "stdout",
          "text": [
            "SVM PCA components: 143\n"
          ]
        },
        {
          "output_type": "stream",
          "name": "stdout",
          "text": [
            "[SVM fold 1/6] use_pca=True, pca_var=0.999, C=64.0, gamma=0.02, logloss=3.86347, time=1.19s\n"
          ]
        },
        {
          "output_type": "stream",
          "name": "stdout",
          "text": [
            "[SVM fold 2/6] use_pca=True, pca_var=0.999, C=64.0, gamma=0.02, logloss=3.84718, time=1.23s\n"
          ]
        },
        {
          "output_type": "stream",
          "name": "stdout",
          "text": [
            "[SVM fold 3/6] use_pca=True, pca_var=0.999, C=64.0, gamma=0.02, logloss=3.97599, time=1.22s\n"
          ]
        },
        {
          "output_type": "stream",
          "name": "stdout",
          "text": [
            "[SVM fold 4/6] use_pca=True, pca_var=0.999, C=64.0, gamma=0.02, logloss=3.95912, time=1.21s\n"
          ]
        },
        {
          "output_type": "stream",
          "name": "stdout",
          "text": [
            "[SVM fold 5/6] use_pca=True, pca_var=0.999, C=64.0, gamma=0.02, logloss=3.92593, time=1.18s\n"
          ]
        },
        {
          "output_type": "stream",
          "name": "stdout",
          "text": [
            "[SVM fold 6/6] use_pca=True, pca_var=0.999, C=64.0, gamma=0.02, logloss=3.90117, time=1.22s\n"
          ]
        },
        {
          "output_type": "stream",
          "name": "stdout",
          "text": [
            "SVM OOF logloss (use_pca=True, pca_var=0.999, C=64.0, gamma=0.02): 3.912087 | avg fold 3.912143 in 7.27s\nBest SVM Branch B: ((True, 0.995, 16.0, 'scale'), 2.2693198809667927) | grid time 183.69s\n\n[Grid A 1/9] C=16.0, gamma=scale\n"
          ]
        },
        {
          "output_type": "stream",
          "name": "stdout",
          "text": [
            "[SVM fold 1/6] use_pca=False, pca_var=None, C=16.0, gamma=scale, logloss=2.47650, time=1.09s\n"
          ]
        },
        {
          "output_type": "stream",
          "name": "stdout",
          "text": [
            "[SVM fold 2/6] use_pca=False, pca_var=None, C=16.0, gamma=scale, logloss=2.44972, time=1.04s\n"
          ]
        },
        {
          "output_type": "stream",
          "name": "stdout",
          "text": [
            "[SVM fold 3/6] use_pca=False, pca_var=None, C=16.0, gamma=scale, logloss=2.40816, time=1.08s\n"
          ]
        },
        {
          "output_type": "stream",
          "name": "stdout",
          "text": [
            "[SVM fold 4/6] use_pca=False, pca_var=None, C=16.0, gamma=scale, logloss=2.44405, time=1.07s\n"
          ]
        },
        {
          "output_type": "stream",
          "name": "stdout",
          "text": [
            "[SVM fold 5/6] use_pca=False, pca_var=None, C=16.0, gamma=scale, logloss=2.46969, time=1.01s\n"
          ]
        },
        {
          "output_type": "stream",
          "name": "stdout",
          "text": [
            "[SVM fold 6/6] use_pca=False, pca_var=None, C=16.0, gamma=scale, logloss=2.45645, time=1.04s\n"
          ]
        },
        {
          "output_type": "stream",
          "name": "stdout",
          "text": [
            "SVM OOF logloss (use_pca=False, pca_var=None, C=16.0, gamma=scale): 2.450742 | avg fold 2.450762 in 6.35s\n\n[Grid A 2/9] C=16.0, gamma=0.01\n"
          ]
        },
        {
          "output_type": "stream",
          "name": "stdout",
          "text": [
            "[SVM fold 1/6] use_pca=False, pca_var=None, C=16.0, gamma=0.01, logloss=2.45812, time=1.13s\n"
          ]
        },
        {
          "output_type": "stream",
          "name": "stdout",
          "text": [
            "[SVM fold 2/6] use_pca=False, pca_var=None, C=16.0, gamma=0.01, logloss=2.42484, time=1.04s\n"
          ]
        },
        {
          "output_type": "stream",
          "name": "stdout",
          "text": [
            "[SVM fold 3/6] use_pca=False, pca_var=None, C=16.0, gamma=0.01, logloss=2.37503, time=1.07s\n"
          ]
        },
        {
          "output_type": "stream",
          "name": "stdout",
          "text": [
            "[SVM fold 4/6] use_pca=False, pca_var=None, C=16.0, gamma=0.01, logloss=2.43501, time=1.04s\n"
          ]
        },
        {
          "output_type": "stream",
          "name": "stdout",
          "text": [
            "[SVM fold 5/6] use_pca=False, pca_var=None, C=16.0, gamma=0.01, logloss=2.45819, time=1.04s\n"
          ]
        },
        {
          "output_type": "stream",
          "name": "stdout",
          "text": [
            "[SVM fold 6/6] use_pca=False, pca_var=None, C=16.0, gamma=0.01, logloss=2.43341, time=1.09s\n"
          ]
        },
        {
          "output_type": "stream",
          "name": "stdout",
          "text": [
            "SVM OOF logloss (use_pca=False, pca_var=None, C=16.0, gamma=0.01): 2.430729 | avg fold 2.430768 in 6.42s\n\n[Grid A 3/9] C=16.0, gamma=0.02\n"
          ]
        },
        {
          "output_type": "stream",
          "name": "stdout",
          "text": [
            "[SVM fold 1/6] use_pca=False, pca_var=None, C=16.0, gamma=0.02, logloss=2.39767, time=1.06s\n"
          ]
        },
        {
          "output_type": "stream",
          "name": "stdout",
          "text": [
            "[SVM fold 2/6] use_pca=False, pca_var=None, C=16.0, gamma=0.02, logloss=2.36219, time=1.05s\n"
          ]
        },
        {
          "output_type": "stream",
          "name": "stdout",
          "text": [
            "[SVM fold 3/6] use_pca=False, pca_var=None, C=16.0, gamma=0.02, logloss=2.29489, time=1.03s\n"
          ]
        },
        {
          "output_type": "stream",
          "name": "stdout",
          "text": [
            "[SVM fold 4/6] use_pca=False, pca_var=None, C=16.0, gamma=0.02, logloss=2.39174, time=1.04s\n"
          ]
        },
        {
          "output_type": "stream",
          "name": "stdout",
          "text": [
            "[SVM fold 5/6] use_pca=False, pca_var=None, C=16.0, gamma=0.02, logloss=2.41681, time=1.06s\n"
          ]
        },
        {
          "output_type": "stream",
          "name": "stdout",
          "text": [
            "[SVM fold 6/6] use_pca=False, pca_var=None, C=16.0, gamma=0.02, logloss=2.36935, time=1.06s\n"
          ]
        },
        {
          "output_type": "stream",
          "name": "stdout",
          "text": [
            "SVM OOF logloss (use_pca=False, pca_var=None, C=16.0, gamma=0.02): 2.372040 | avg fold 2.372109 in 6.31s\n\n[Grid A 4/9] C=32.0, gamma=scale\n"
          ]
        },
        {
          "output_type": "stream",
          "name": "stdout",
          "text": [
            "[SVM fold 1/6] use_pca=False, pca_var=None, C=32.0, gamma=scale, logloss=2.47650, time=1.08s\n"
          ]
        },
        {
          "output_type": "stream",
          "name": "stdout",
          "text": [
            "[SVM fold 2/6] use_pca=False, pca_var=None, C=32.0, gamma=scale, logloss=2.44972, time=1.03s\n"
          ]
        },
        {
          "output_type": "stream",
          "name": "stdout",
          "text": [
            "[SVM fold 3/6] use_pca=False, pca_var=None, C=32.0, gamma=scale, logloss=2.40816, time=1.02s\n"
          ]
        },
        {
          "output_type": "stream",
          "name": "stdout",
          "text": [
            "[SVM fold 4/6] use_pca=False, pca_var=None, C=32.0, gamma=scale, logloss=2.44405, time=1.04s\n"
          ]
        },
        {
          "output_type": "stream",
          "name": "stdout",
          "text": [
            "[SVM fold 5/6] use_pca=False, pca_var=None, C=32.0, gamma=scale, logloss=2.46969, time=1.07s\n"
          ]
        },
        {
          "output_type": "stream",
          "name": "stdout",
          "text": [
            "[SVM fold 6/6] use_pca=False, pca_var=None, C=32.0, gamma=scale, logloss=2.45645, time=1.07s\n"
          ]
        },
        {
          "output_type": "stream",
          "name": "stdout",
          "text": [
            "SVM OOF logloss (use_pca=False, pca_var=None, C=32.0, gamma=scale): 2.450742 | avg fold 2.450762 in 6.32s\n\n[Grid A 5/9] C=32.0, gamma=0.01\n"
          ]
        },
        {
          "output_type": "stream",
          "name": "stdout",
          "text": [
            "[SVM fold 1/6] use_pca=False, pca_var=None, C=32.0, gamma=0.01, logloss=2.45812, time=1.05s\n"
          ]
        },
        {
          "output_type": "stream",
          "name": "stdout",
          "text": [
            "[SVM fold 2/6] use_pca=False, pca_var=None, C=32.0, gamma=0.01, logloss=2.42484, time=1.06s\n"
          ]
        },
        {
          "output_type": "stream",
          "name": "stdout",
          "text": [
            "[SVM fold 3/6] use_pca=False, pca_var=None, C=32.0, gamma=0.01, logloss=2.37503, time=1.06s\n"
          ]
        },
        {
          "output_type": "stream",
          "name": "stdout",
          "text": [
            "[SVM fold 4/6] use_pca=False, pca_var=None, C=32.0, gamma=0.01, logloss=2.43501, time=1.03s\n"
          ]
        },
        {
          "output_type": "stream",
          "name": "stdout",
          "text": [
            "[SVM fold 5/6] use_pca=False, pca_var=None, C=32.0, gamma=0.01, logloss=2.45819, time=1.09s\n"
          ]
        },
        {
          "output_type": "stream",
          "name": "stdout",
          "text": [
            "[SVM fold 6/6] use_pca=False, pca_var=None, C=32.0, gamma=0.01, logloss=2.43341, time=1.11s\n"
          ]
        },
        {
          "output_type": "stream",
          "name": "stdout",
          "text": [
            "SVM OOF logloss (use_pca=False, pca_var=None, C=32.0, gamma=0.01): 2.430729 | avg fold 2.430768 in 6.41s\n\n[Grid A 6/9] C=32.0, gamma=0.02\n"
          ]
        },
        {
          "output_type": "stream",
          "name": "stdout",
          "text": [
            "[SVM fold 1/6] use_pca=False, pca_var=None, C=32.0, gamma=0.02, logloss=2.39767, time=1.05s\n"
          ]
        },
        {
          "output_type": "stream",
          "name": "stdout",
          "text": [
            "[SVM fold 2/6] use_pca=False, pca_var=None, C=32.0, gamma=0.02, logloss=2.36219, time=1.05s\n"
          ]
        },
        {
          "output_type": "stream",
          "name": "stdout",
          "text": [
            "[SVM fold 3/6] use_pca=False, pca_var=None, C=32.0, gamma=0.02, logloss=2.29489, time=1.05s\n"
          ]
        },
        {
          "output_type": "stream",
          "name": "stdout",
          "text": [
            "[SVM fold 4/6] use_pca=False, pca_var=None, C=32.0, gamma=0.02, logloss=2.39174, time=1.07s\n"
          ]
        },
        {
          "output_type": "stream",
          "name": "stdout",
          "text": [
            "[SVM fold 5/6] use_pca=False, pca_var=None, C=32.0, gamma=0.02, logloss=2.41681, time=1.09s\n"
          ]
        },
        {
          "output_type": "stream",
          "name": "stdout",
          "text": [
            "[SVM fold 6/6] use_pca=False, pca_var=None, C=32.0, gamma=0.02, logloss=2.36935, time=1.05s\n"
          ]
        },
        {
          "output_type": "stream",
          "name": "stdout",
          "text": [
            "SVM OOF logloss (use_pca=False, pca_var=None, C=32.0, gamma=0.02): 2.372040 | avg fold 2.372109 in 6.38s\n\n[Grid A 7/9] C=64.0, gamma=scale\n"
          ]
        },
        {
          "output_type": "stream",
          "name": "stdout",
          "text": [
            "[SVM fold 1/6] use_pca=False, pca_var=None, C=64.0, gamma=scale, logloss=2.47650, time=1.05s\n"
          ]
        },
        {
          "output_type": "stream",
          "name": "stdout",
          "text": [
            "[SVM fold 2/6] use_pca=False, pca_var=None, C=64.0, gamma=scale, logloss=2.44972, time=1.02s\n"
          ]
        },
        {
          "output_type": "stream",
          "name": "stdout",
          "text": [
            "[SVM fold 3/6] use_pca=False, pca_var=None, C=64.0, gamma=scale, logloss=2.40816, time=1.01s\n"
          ]
        },
        {
          "output_type": "stream",
          "name": "stdout",
          "text": [
            "[SVM fold 4/6] use_pca=False, pca_var=None, C=64.0, gamma=scale, logloss=2.44405, time=1.07s\n"
          ]
        },
        {
          "output_type": "stream",
          "name": "stdout",
          "text": [
            "[SVM fold 5/6] use_pca=False, pca_var=None, C=64.0, gamma=scale, logloss=2.46969, time=1.07s\n"
          ]
        },
        {
          "output_type": "stream",
          "name": "stdout",
          "text": [
            "[SVM fold 6/6] use_pca=False, pca_var=None, C=64.0, gamma=scale, logloss=2.45645, time=1.05s\n"
          ]
        },
        {
          "output_type": "stream",
          "name": "stdout",
          "text": [
            "SVM OOF logloss (use_pca=False, pca_var=None, C=64.0, gamma=scale): 2.450742 | avg fold 2.450762 in 6.28s\n\n[Grid A 8/9] C=64.0, gamma=0.01\n"
          ]
        },
        {
          "output_type": "stream",
          "name": "stdout",
          "text": [
            "[SVM fold 1/6] use_pca=False, pca_var=None, C=64.0, gamma=0.01, logloss=2.45812, time=1.07s\n"
          ]
        },
        {
          "output_type": "stream",
          "name": "stdout",
          "text": [
            "[SVM fold 2/6] use_pca=False, pca_var=None, C=64.0, gamma=0.01, logloss=2.42484, time=1.05s\n"
          ]
        },
        {
          "output_type": "stream",
          "name": "stdout",
          "text": [
            "[SVM fold 3/6] use_pca=False, pca_var=None, C=64.0, gamma=0.01, logloss=2.37503, time=1.07s\n"
          ]
        },
        {
          "output_type": "stream",
          "name": "stdout",
          "text": [
            "[SVM fold 4/6] use_pca=False, pca_var=None, C=64.0, gamma=0.01, logloss=2.43501, time=1.06s\n"
          ]
        },
        {
          "output_type": "stream",
          "name": "stdout",
          "text": [
            "[SVM fold 5/6] use_pca=False, pca_var=None, C=64.0, gamma=0.01, logloss=2.45819, time=1.05s\n"
          ]
        },
        {
          "output_type": "stream",
          "name": "stdout",
          "text": [
            "[SVM fold 6/6] use_pca=False, pca_var=None, C=64.0, gamma=0.01, logloss=2.43341, time=1.03s\n"
          ]
        },
        {
          "output_type": "stream",
          "name": "stdout",
          "text": [
            "SVM OOF logloss (use_pca=False, pca_var=None, C=64.0, gamma=0.01): 2.430729 | avg fold 2.430768 in 6.34s\n\n[Grid A 9/9] C=64.0, gamma=0.02\n"
          ]
        },
        {
          "output_type": "stream",
          "name": "stdout",
          "text": [
            "[SVM fold 1/6] use_pca=False, pca_var=None, C=64.0, gamma=0.02, logloss=2.39767, time=1.08s\n"
          ]
        },
        {
          "output_type": "stream",
          "name": "stdout",
          "text": [
            "[SVM fold 2/6] use_pca=False, pca_var=None, C=64.0, gamma=0.02, logloss=2.36219, time=1.03s\n"
          ]
        },
        {
          "output_type": "stream",
          "name": "stdout",
          "text": [
            "[SVM fold 3/6] use_pca=False, pca_var=None, C=64.0, gamma=0.02, logloss=2.29489, time=1.03s\n"
          ]
        },
        {
          "output_type": "stream",
          "name": "stdout",
          "text": [
            "[SVM fold 4/6] use_pca=False, pca_var=None, C=64.0, gamma=0.02, logloss=2.39174, time=1.08s\n"
          ]
        },
        {
          "output_type": "stream",
          "name": "stdout",
          "text": [
            "[SVM fold 5/6] use_pca=False, pca_var=None, C=64.0, gamma=0.02, logloss=2.41681, time=1.06s\n"
          ]
        },
        {
          "output_type": "stream",
          "name": "stdout",
          "text": [
            "[SVM fold 6/6] use_pca=False, pca_var=None, C=64.0, gamma=0.02, logloss=2.36935, time=1.08s\n"
          ]
        },
        {
          "output_type": "stream",
          "name": "stdout",
          "text": [
            "SVM OOF logloss (use_pca=False, pca_var=None, C=64.0, gamma=0.02): 2.372040 | avg fold 2.372109 in 6.36s\nBest SVM Branch A: ((False, None, 16.0, 0.02), 2.37203963720527) | grid time 57.18s\n"
          ]
        }
      ]
    },
    {
      "id": "e80e9fd1-0472-4ac0-9676-ff30d1b2b71a",
      "cell_type": "code",
      "metadata": {},
      "source": [
        "# KNN (distance-weighted) on fixed 6-folds with StandardScaler; optional PCA grid\n",
        "import time, json\n",
        "import numpy as np\n",
        "from sklearn.model_selection import StratifiedKFold\n",
        "from sklearn.preprocessing import StandardScaler\n",
        "from sklearn.decomposition import PCA\n",
        "from sklearn.neighbors import KNeighborsClassifier\n",
        "from sklearn.metrics import log_loss\n",
        "\n",
        "SEED = 2025\n",
        "X = train[feature_cols].values.astype(np.float64)\n",
        "X_test = test[feature_cols].values.astype(np.float64)\n",
        "y_idx = y_enc\n",
        "num_classes = len(le.classes_)\n",
        "\n",
        "# Load fixed 6-folds\n",
        "with open('folds_6.json', 'r') as f:\n",
        "    fold_indices = json.load(f)\n",
        "n_splits = len(fold_indices)\n",
        "\n",
        "def run_knn_cv(use_pca=False, pca_var=0.997, n_neighbors=15):\n",
        "    oof = np.zeros((len(X), num_classes), dtype=np.float64)\n",
        "    test_pred = np.zeros((len(X_test), num_classes), dtype=np.float64)\n",
        "    fold_lls = []\n",
        "    t0 = time.time()\n",
        "    for i, (trn_idx, val_idx) in enumerate(fold_indices, 1):\n",
        "        fstart = time.time()\n",
        "        trn_idx = np.array(trn_idx); val_idx = np.array(val_idx)\n",
        "        X_tr, X_va = X[trn_idx], X[val_idx]\n",
        "        y_tr, y_va = y_idx[trn_idx], y_idx[val_idx]\n",
        "\n",
        "        scaler = StandardScaler()\n",
        "        X_tr_s = scaler.fit_transform(X_tr)\n",
        "        X_va_s = scaler.transform(X_va)\n",
        "        X_te_s = scaler.transform(X_test)\n",
        "\n",
        "        if use_pca:\n",
        "            pca = PCA(n_components=pca_var, whiten=False, random_state=SEED)\n",
        "            X_tr_s = pca.fit_transform(X_tr_s)\n",
        "            X_va_s = pca.transform(X_va_s)\n",
        "            X_te_s = pca.transform(X_te_s)\n",
        "            if i == 1:\n",
        "                print(f'KNN PCA components: {pca.n_components_}')\n",
        "\n",
        "        clf = KNeighborsClassifier(n_neighbors=n_neighbors, weights='distance', metric='minkowski', p=2, n_jobs=-1)\n",
        "        clf.fit(X_tr_s, y_tr)\n",
        "        va_proba = clf.predict_proba(X_va_s)\n",
        "        oof[val_idx] = va_proba\n",
        "        test_pred += clf.predict_proba(X_te_s) / n_splits\n",
        "        ll = log_loss(y_va, np.clip(va_proba, 1e-15, 1-1e-15), labels=list(range(num_classes)))\n",
        "        fold_lls.append(ll)\n",
        "        print(f'[KNN fold {i}/{n_splits}] k={n_neighbors}, use_pca={use_pca}, pca_var={pca_var}, logloss={ll:.5f}, time={time.time()-fstart:.2f}s', flush=True)\n",
        "    oof_ll = log_loss(y_idx, np.clip(oof, 1e-15, 1-1e-15), labels=list(range(num_classes)))\n",
        "    print(f'KNN OOF logloss (k={n_neighbors}, use_pca={use_pca}, pca_var={pca_var}): {oof_ll:.6f} | avg fold {np.mean(fold_lls):.6f} in {time.time()-t0:.2f}s')\n",
        "    return oof, test_pred, oof_ll\n",
        "\n",
        "# Small grid for KNN without PCA (often strong here)\n",
        "k_list = [5, 9, 15, 25]\n",
        "best_knn = (None, 1e9)\n",
        "best_oof = None\n",
        "best_test = None\n",
        "for k in k_list:\n",
        "    oof_k, test_k, llk = run_knn_cv(use_pca=False, pca_var=None, n_neighbors=k)\n",
        "    if llk < best_knn[1]:\n",
        "        best_knn = ((False, None, k), llk)\n",
        "        best_oof = oof_k\n",
        "        best_test = test_k\n",
        "\n",
        "print('Best KNN (no PCA):', best_knn)\n",
        "np.save('oof_knn.npy', best_oof)\n",
        "np.save('test_pred_knn.npy', best_test)\n",
        "\n",
        "# Optional quick PCA variant for KNN for diversity\n",
        "pca_try = [0.997]\n",
        "for pv in pca_try:\n",
        "    for k in [9, 15]:\n",
        "        print(f'\\n[Try KNN PCA] pv={pv}, k={k}')\n",
        "        oof_kp, test_kp, llkp = run_knn_cv(use_pca=True, pca_var=pv, n_neighbors=k)\n",
        "        np.save(f'oof_knn_pca_{pv}_{k}.npy', oof_kp)\n",
        "        np.save(f'test_pred_knn_pca_{pv}_{k}.npy', test_kp)"
      ],
      "execution_count": 6,
      "outputs": [
        {
          "output_type": "stream",
          "name": "stdout",
          "text": [
            "[KNN fold 1/6] k=5, use_pca=False, pca_var=None, logloss=0.10828, time=0.06s\n"
          ]
        },
        {
          "output_type": "stream",
          "name": "stdout",
          "text": [
            "[KNN fold 2/6] k=5, use_pca=False, pca_var=None, logloss=0.31725, time=0.01s\n"
          ]
        },
        {
          "output_type": "stream",
          "name": "stdout",
          "text": [
            "[KNN fold 3/6] k=5, use_pca=False, pca_var=None, logloss=0.08952, time=0.01s\n"
          ]
        },
        {
          "output_type": "stream",
          "name": "stdout",
          "text": [
            "[KNN fold 4/6] k=5, use_pca=False, pca_var=None, logloss=0.11775, time=0.01s\n"
          ]
        },
        {
          "output_type": "stream",
          "name": "stdout",
          "text": [
            "[KNN fold 5/6] k=5, use_pca=False, pca_var=None, logloss=0.14734, time=0.01s\n"
          ]
        },
        {
          "output_type": "stream",
          "name": "stdout",
          "text": [
            "[KNN fold 6/6] k=5, use_pca=False, pca_var=None, logloss=0.12534, time=0.01s\n"
          ]
        },
        {
          "output_type": "stream",
          "name": "stdout",
          "text": [
            "KNN OOF logloss (k=5, use_pca=False, pca_var=None): 0.150983 | avg fold 0.150913 in 0.13s\n[KNN fold 1/6] k=9, use_pca=False, pca_var=None, logloss=0.32598, time=0.01s\n"
          ]
        },
        {
          "output_type": "stream",
          "name": "stdout",
          "text": [
            "[KNN fold 2/6] k=9, use_pca=False, pca_var=None, logloss=0.53886, time=0.01s\n"
          ]
        },
        {
          "output_type": "stream",
          "name": "stdout",
          "text": [
            "[KNN fold 3/6] k=9, use_pca=False, pca_var=None, logloss=0.33501, time=0.01s\n"
          ]
        },
        {
          "output_type": "stream",
          "name": "stdout",
          "text": [
            "[KNN fold 4/6] k=9, use_pca=False, pca_var=None, logloss=0.34203, time=0.01s\n"
          ]
        },
        {
          "output_type": "stream",
          "name": "stdout",
          "text": [
            "[KNN fold 5/6] k=9, use_pca=False, pca_var=None, logloss=0.35200, time=0.01s\n"
          ]
        },
        {
          "output_type": "stream",
          "name": "stdout",
          "text": [
            "[KNN fold 6/6] k=9, use_pca=False, pca_var=None, logloss=0.33357, time=0.01s\n"
          ]
        },
        {
          "output_type": "stream",
          "name": "stdout",
          "text": [
            "KNN OOF logloss (k=9, use_pca=False, pca_var=None): 0.371339 | avg fold 0.371243 in 0.09s\n[KNN fold 1/6] k=15, use_pca=False, pca_var=None, logloss=0.66115, time=0.01s\n"
          ]
        },
        {
          "output_type": "stream",
          "name": "stdout",
          "text": [
            "[KNN fold 2/6] k=15, use_pca=False, pca_var=None, logloss=0.88601, time=0.01s\n"
          ]
        },
        {
          "output_type": "stream",
          "name": "stdout",
          "text": [
            "[KNN fold 3/6] k=15, use_pca=False, pca_var=None, logloss=0.67115, time=0.01s\n"
          ]
        },
        {
          "output_type": "stream",
          "name": "stdout",
          "text": [
            "[KNN fold 4/6] k=15, use_pca=False, pca_var=None, logloss=0.68595, time=0.01s\n"
          ]
        },
        {
          "output_type": "stream",
          "name": "stdout",
          "text": [
            "[KNN fold 5/6] k=15, use_pca=False, pca_var=None, logloss=0.70447, time=0.01s\n"
          ]
        },
        {
          "output_type": "stream",
          "name": "stdout",
          "text": [
            "[KNN fold 6/6] k=15, use_pca=False, pca_var=None, logloss=0.68042, time=0.01s\n"
          ]
        },
        {
          "output_type": "stream",
          "name": "stdout",
          "text": [
            "KNN OOF logloss (k=15, use_pca=False, pca_var=None): 0.714942 | avg fold 0.714859 in 0.09s\n"
          ]
        },
        {
          "output_type": "stream",
          "name": "stdout",
          "text": [
            "[KNN fold 1/6] k=25, use_pca=False, pca_var=None, logloss=1.05120, time=0.01s\n"
          ]
        },
        {
          "output_type": "stream",
          "name": "stdout",
          "text": [
            "[KNN fold 2/6] k=25, use_pca=False, pca_var=None, logloss=1.27146, time=0.01s\n"
          ]
        },
        {
          "output_type": "stream",
          "name": "stdout",
          "text": [
            "[KNN fold 3/6] k=25, use_pca=False, pca_var=None, logloss=1.06281, time=0.01s\n"
          ]
        },
        {
          "output_type": "stream",
          "name": "stdout",
          "text": [
            "[KNN fold 4/6] k=25, use_pca=False, pca_var=None, logloss=1.07247, time=0.01s\n"
          ]
        },
        {
          "output_type": "stream",
          "name": "stdout",
          "text": [
            "[KNN fold 5/6] k=25, use_pca=False, pca_var=None, logloss=1.09212, time=0.01s\n"
          ]
        },
        {
          "output_type": "stream",
          "name": "stdout",
          "text": [
            "[KNN fold 6/6] k=25, use_pca=False, pca_var=None, logloss=1.06840, time=0.01s\n"
          ]
        },
        {
          "output_type": "stream",
          "name": "stdout",
          "text": [
            "KNN OOF logloss (k=25, use_pca=False, pca_var=None): 1.103162 | avg fold 1.103076 in 0.09s\nBest KNN (no PCA): ((False, None, 5), 0.1509830363687263)\n\n[Try KNN PCA] pv=0.997, k=9\n"
          ]
        },
        {
          "output_type": "stream",
          "name": "stdout",
          "text": [
            "KNN PCA components: 133\n"
          ]
        },
        {
          "output_type": "stream",
          "name": "stdout",
          "text": [
            "[KNN fold 1/6] k=9, use_pca=True, pca_var=0.997, logloss=0.32426, time=0.19s\n"
          ]
        },
        {
          "output_type": "stream",
          "name": "stdout",
          "text": [
            "[KNN fold 2/6] k=9, use_pca=True, pca_var=0.997, logloss=0.53954, time=0.23s\n"
          ]
        },
        {
          "output_type": "stream",
          "name": "stdout",
          "text": [
            "[KNN fold 3/6] k=9, use_pca=True, pca_var=0.997, logloss=0.33030, time=0.19s\n"
          ]
        },
        {
          "output_type": "stream",
          "name": "stdout",
          "text": [
            "[KNN fold 4/6] k=9, use_pca=True, pca_var=0.997, logloss=0.34314, time=0.23s\n"
          ]
        },
        {
          "output_type": "stream",
          "name": "stdout",
          "text": [
            "[KNN fold 5/6] k=9, use_pca=True, pca_var=0.997, logloss=0.35567, time=0.22s\n"
          ]
        },
        {
          "output_type": "stream",
          "name": "stdout",
          "text": [
            "[KNN fold 6/6] k=9, use_pca=True, pca_var=0.997, logloss=0.33186, time=0.20s\n"
          ]
        },
        {
          "output_type": "stream",
          "name": "stdout",
          "text": [
            "KNN OOF logloss (k=9, use_pca=True, pca_var=0.997): 0.370887 | avg fold 0.370795 in 1.27s\n\n[Try KNN PCA] pv=0.997, k=15\nKNN PCA components: 133\n[KNN fold 1/6] k=15, use_pca=True, pca_var=0.997, logloss=0.65987, time=0.19s\n"
          ]
        },
        {
          "output_type": "stream",
          "name": "stdout",
          "text": [
            "[KNN fold 2/6] k=15, use_pca=True, pca_var=0.997, logloss=0.88477, time=0.21s\n"
          ]
        },
        {
          "output_type": "stream",
          "name": "stdout",
          "text": [
            "[KNN fold 3/6] k=15, use_pca=True, pca_var=0.997, logloss=0.66913, time=0.18s\n"
          ]
        },
        {
          "output_type": "stream",
          "name": "stdout",
          "text": [
            "[KNN fold 4/6] k=15, use_pca=True, pca_var=0.997, logloss=0.68473, time=0.22s\n"
          ]
        },
        {
          "output_type": "stream",
          "name": "stdout",
          "text": [
            "[KNN fold 5/6] k=15, use_pca=True, pca_var=0.997, logloss=0.70467, time=0.20s\n"
          ]
        },
        {
          "output_type": "stream",
          "name": "stdout",
          "text": [
            "[KNN fold 6/6] k=15, use_pca=True, pca_var=0.997, logloss=0.67655, time=0.20s\n"
          ]
        },
        {
          "output_type": "stream",
          "name": "stdout",
          "text": [
            "KNN OOF logloss (k=15, use_pca=True, pca_var=0.997): 0.713370 | avg fold 0.713287 in 1.20s\n"
          ]
        }
      ]
    },
    {
      "id": "7cd5ee7f-68e6-4369-9432-2735188823c3",
      "cell_type": "code",
      "metadata": {},
      "source": [
        "# Blend OOF/test predictions (KNN + LogReg) with weight optimization on OOF\n",
        "import numpy as np, json, time\n",
        "from sklearn.metrics import log_loss\n",
        "\n",
        "SEED = 2025\n",
        "num_classes = len(le.classes_)\n",
        "\n",
        "# Load OOF/test preds\n",
        "oof_knn = np.load('oof_knn.npy')\n",
        "test_knn = np.load('test_pred_knn.npy')\n",
        "oof_lr = np.load('oof_logreg.npy')\n",
        "test_lr = np.load('test_pred_logreg.npy')\n",
        "\n",
        "def clip_norm(p):\n",
        "    p = np.clip(p, 1e-15, 1-1e-15)\n",
        "    p = p / p.sum(axis=1, keepdims=True)\n",
        "    return p\n",
        "\n",
        "# Grid-search weights for two-model blend: P = w*KNN + (1-w)*LogReg\n",
        "best = (None, 1e9)\n",
        "grid = np.linspace(0.0, 1.0, 101)\n",
        "t0 = time.time()\n",
        "for w in grid:\n",
        "    oof_blend = clip_norm(w * oof_knn + (1-w) * oof_lr)\n",
        "    ll = log_loss(y_enc, oof_blend, labels=list(range(num_classes)))\n",
        "    if ll < best[1]:\n",
        "        best = (w, ll)\n",
        "print(f'Best blend weight w(KNN): {best[0]:.4f}, OOF logloss: {best[1]:.6f}, searched {len(grid)} weights in {time.time()-t0:.2f}s')\n",
        "\n",
        "# Build blended submission\n",
        "w = best[0]\n",
        "test_blend = clip_norm(w * test_knn + (1-w) * test_lr)\n",
        "pred_df = pd.DataFrame(test_blend, columns=list(le.classes_))\n",
        "sub_cols = [c for c in sample_sub.columns if c != id_col]\n",
        "pred_df = pred_df[sub_cols]\n",
        "submission_blend = pd.concat([test[[id_col]].reset_index(drop=True), pred_df.reset_index(drop=True)], axis=1)\n",
        "submission_blend.to_csv('submission.csv', index=False)\n",
        "submission_blend.to_csv('submission_blend_knn_logreg.csv', index=False)\n",
        "print('Saved submission.csv and submission_blend_knn_logreg.csv with shape', submission_blend.shape)"
      ],
      "execution_count": 7,
      "outputs": [
        {
          "output_type": "stream",
          "name": "stdout",
          "text": [
            "Best blend weight w(KNN): 0.8900, OOF logloss: 0.115757, searched 101 weights in 0.25s\nSaved submission.csv and submission_blend_knn_logreg.csv with shape (99, 100)\n"
          ]
        }
      ]
    },
    {
      "id": "083db9a7-3890-42ae-b799-c8701bcc3f61",
      "cell_type": "code",
      "metadata": {},
      "source": [
        "# Extend KNN (k in [1,3,5,7,11]), add LogReg (no PCA), add QDA (reg), then re-blend\n",
        "import time, json, itertools\n",
        "import numpy as np\n",
        "import pandas as pd\n",
        "from sklearn.preprocessing import StandardScaler\n",
        "from sklearn.decomposition import PCA\n",
        "from sklearn.neighbors import KNeighborsClassifier\n",
        "from sklearn.linear_model import LogisticRegression\n",
        "from sklearn.discriminant_analysis import QuadraticDiscriminantAnalysis\n",
        "from sklearn.metrics import log_loss\n",
        "\n",
        "SEED = 2025\n",
        "X = train[feature_cols].values.astype(np.float64)\n",
        "X_test = test[feature_cols].values.astype(np.float64)\n",
        "y_idx = y_enc\n",
        "num_classes = len(le.classes_)\n",
        "with open('folds_6.json', 'r') as f:\n",
        "    fold_indices = json.load(f)\n",
        "n_splits = len(fold_indices)\n",
        "\n",
        "def clip_norm(p):\n",
        "    p = np.clip(p, 1e-15, 1-1e-15)\n",
        "    p = p / p.sum(axis=1, keepdims=True)\n",
        "    return p\n",
        "\n",
        "def run_knn_cv(n_neighbors=5, weights='distance'):\n",
        "    oof = np.zeros((len(X), num_classes), dtype=np.float64)\n",
        "    test_pred = np.zeros((len(X_test), num_classes), dtype=np.float64)\n",
        "    fold_lls = []\n",
        "    for i, (trn_idx, val_idx) in enumerate(fold_indices, 1):\n",
        "        trn_idx = np.array(trn_idx); val_idx = np.array(val_idx)\n",
        "        X_tr, X_va = X[trn_idx], X[val_idx]\n",
        "        y_tr, y_va = y_idx[trn_idx], y_idx[val_idx]\n",
        "        scaler = StandardScaler()\n",
        "        X_tr_s = scaler.fit_transform(X_tr)\n",
        "        X_va_s = scaler.transform(X_va)\n",
        "        X_te_s = scaler.transform(X_test)\n",
        "        clf = KNeighborsClassifier(n_neighbors=n_neighbors, weights=weights, metric='minkowski', p=2, n_jobs=-1)\n",
        "        clf.fit(X_tr_s, y_tr)\n",
        "        va_proba = clf.predict_proba(X_va_s)\n",
        "        oof[val_idx] = va_proba\n",
        "        test_pred += clf.predict_proba(X_te_s) / n_splits\n",
        "        ll = log_loss(y_va, clip_norm(va_proba), labels=list(range(num_classes)))\n",
        "        fold_lls.append(ll)\n",
        "    oof_ll = log_loss(y_idx, clip_norm(oof), labels=list(range(num_classes)))\n",
        "    print(f'KNN OOF (k={n_neighbors}, weights={weights}): {oof_ll:.6f}')\n",
        "    return oof, test_pred, oof_ll\n",
        "\n",
        "def run_logreg_cv(use_pca=False, pca_var=0.999, C=10.0):\n",
        "    oof = np.zeros((len(X), num_classes), dtype=np.float64)\n",
        "    test_pred = np.zeros((len(X_test), num_classes), dtype=np.float64)\n",
        "    for i, (trn_idx, val_idx) in enumerate(fold_indices, 1):\n",
        "        trn_idx = np.array(trn_idx); val_idx = np.array(val_idx)\n",
        "        X_tr, X_va = X[trn_idx], X[val_idx]\n",
        "        y_tr, y_va = y_idx[trn_idx], y_idx[val_idx]\n",
        "        scaler = StandardScaler()\n",
        "        X_tr_s = scaler.fit_transform(X_tr)\n",
        "        X_va_s = scaler.transform(X_va)\n",
        "        X_te_s = scaler.transform(X_test)\n",
        "        if use_pca:\n",
        "            pca = PCA(n_components=pca_var, whiten=True, random_state=SEED)\n",
        "            X_tr_s = pca.fit_transform(X_tr_s)\n",
        "            X_va_s = pca.transform(X_va_s)\n",
        "            X_te_s = pca.transform(X_te_s)\n",
        "        clf = LogisticRegression(multi_class='multinomial', solver='lbfgs', max_iter=2000, C=C, random_state=SEED)\n",
        "        clf.fit(X_tr_s, y_tr)\n",
        "        va_proba = clf.predict_proba(X_va_s)\n",
        "        oof[val_idx] = va_proba\n",
        "        test_pred += clf.predict_proba(X_te_s) / n_splits\n",
        "    oof_ll = log_loss(y_idx, clip_norm(oof), labels=list(range(num_classes)))\n",
        "    print(f'LogReg OOF (use_pca={use_pca}, C={C}): {oof_ll:.6f}')\n",
        "    return oof, test_pred, oof_ll\n",
        "\n",
        "def run_qda_cv(reg_param=0.1, use_pca=False, pca_var=0.999):\n",
        "    oof = np.zeros((len(X), num_classes), dtype=np.float64)\n",
        "    test_pred = np.zeros((len(X_test), num_classes), dtype=np.float64)\n",
        "    for i, (trn_idx, val_idx) in enumerate(fold_indices, 1):\n",
        "        trn_idx = np.array(trn_idx); val_idx = np.array(val_idx)\n",
        "        X_tr, X_va = X[trn_idx], X[val_idx]\n",
        "        y_tr, y_va = y_idx[trn_idx], y_idx[val_idx]\n",
        "        scaler = StandardScaler()\n",
        "        X_tr_s = scaler.fit_transform(X_tr)\n",
        "        X_va_s = scaler.transform(X_va)\n",
        "        X_te_s = scaler.transform(X_test)\n",
        "        if use_pca:\n",
        "            pca = PCA(n_components=pca_var, whiten=False, random_state=SEED)\n",
        "            X_tr_s = pca.fit_transform(X_tr_s)\n",
        "            X_va_s = pca.transform(X_va_s)\n",
        "            X_te_s = pca.transform(X_te_s)\n",
        "        clf = QuadraticDiscriminantAnalysis(reg_param=reg_param)\n",
        "        clf.fit(X_tr_s, y_tr)\n",
        "        va_proba = clf.predict_proba(X_va_s)\n",
        "        oof[val_idx] = va_proba\n",
        "        test_pred += clf.predict_proba(X_te_s) / n_splits\n",
        "    oof_ll = log_loss(y_idx, clip_norm(oof), labels=list(range(num_classes)))\n",
        "    print(f'QDA OOF (reg={reg_param}, use_pca={use_pca}): {oof_ll:.6f}')\n",
        "    return oof, test_pred, oof_ll\n",
        "\n",
        "# 1) Extend KNN search\n",
        "knn_candidates = []\n",
        "for k in [1,3,5,7,11]:\n",
        "    for w in ['distance','uniform']:\n",
        "        oof_k, test_k, llk = run_knn_cv(n_neighbors=k, weights=w)\n",
        "        knn_candidates.append(((k,w), llk, oof_k, test_k))\n",
        "knn_candidates.sort(key=lambda x: x[1])\n",
        "best_knn = knn_candidates[0]\n",
        "print('Best KNN:', best_knn[0], 'OOF:', best_knn[1])\n",
        "np.save('oof_knn.npy', best_knn[2])\n",
        "np.save('test_pred_knn.npy', best_knn[3])\n",
        "\n",
        "# 2) LogReg no-PCA small grid\n",
        "lr_candidates = []\n",
        "for C in [1.0, 3.0, 10.0, 30.0, 100.0]:\n",
        "    oof_lr_np, test_lr_np, llr_np = run_logreg_cv(use_pca=False, C=C)\n",
        "    lr_candidates.append(((False, C), llr_np, oof_lr_np, test_lr_np))\n",
        "lr_candidates.sort(key=lambda x: x[1])\n",
        "best_lr_np = lr_candidates[0]\n",
        "print('Best LogReg (no PCA):', best_lr_np[0], 'OOF:', best_lr_np[1])\n",
        "np.save('oof_logreg_nopca.npy', best_lr_np[2])\n",
        "np.save('test_pred_logreg_nopca.npy', best_lr_np[3])\n",
        "\n",
        "# 3) QDA reg grid\n",
        "qda_candidates = []\n",
        "for reg in [0.0, 0.02, 0.05, 0.1, 0.2]:\n",
        "    try:\n",
        "        oof_q, test_q, llq = run_qda_cv(reg_param=reg, use_pca=False)\n",
        "        qda_candidates.append(((reg, False), llq, oof_q, test_q))\n",
        "    except Exception as e:\n",
        "        print('QDA failed for reg', reg, '->', e)\n",
        "qda_candidates.sort(key=lambda x: x[1])\n",
        "best_qda = qda_candidates[0] if qda_candidates else None\n",
        "if best_qda:\n",
        "    print('Best QDA:', best_qda[0], 'OOF:', best_qda[1])\n",
        "    np.save('oof_qda.npy', best_qda[2])\n",
        "    np.save('test_pred_qda.npy', best_qda[3])\n",
        "\n",
        "# 4) Blend: use best KNN + best LogReg (PCA one from earlier) + best LogReg no-PCA + optional QDA\n",
        "oof_knn = np.load('oof_knn.npy')\n",
        "test_knn = np.load('test_pred_knn.npy')\n",
        "oof_lr_pca = np.load('oof_logreg.npy')\n",
        "test_lr_pca = np.load('test_pred_logreg.npy')\n",
        "oof_lr_np = np.load('oof_logreg_nopca.npy')\n",
        "test_lr_np = np.load('test_pred_logreg_nopca.npy')\n",
        "models = [\n",
        "    ('knn', oof_knn, test_knn),\n",
        "    ('lr_pca', oof_lr_pca, test_lr_pca),\n",
        "    ('lr_np', oof_lr_np, test_lr_np)\n",
        "]\n",
        "if best_qda:\n",
        "    models.append(('qda', best_qda[2], best_qda[3]))\n",
        "\n",
        "# Coarse grid weights that sum to 1 in steps of 0.1 for up to 4 models\n",
        "names = [m[0] for m in models]\n",
        "oofs = [m[1] for m in models]\n",
        "tests = [m[2] for m in models]\n",
        "steps = [i/10.0 for i in range(11)]\n",
        "best = (None, 1e9)\n",
        "def evaluate_weights(w):\n",
        "    P = np.zeros_like(oofs[0])\n",
        "    for wi, Pi in zip(w, oofs):\n",
        "        P += wi * Pi\n",
        "    return log_loss(y_idx, clip_norm(P), labels=list(range(num_classes)))\n",
        "\n",
        "if len(models) <= 3:\n",
        "    for w1 in steps:\n",
        "        for w2 in steps:\n",
        "            w3 = 1.0 - w1 - w2\n",
        "            if w3 < 0 or w3 > 1:\n",
        "                continue\n",
        "            w = [w1, w2, w3][:len(models)]\n",
        "            ll = evaluate_weights(w)\n",
        "            if ll < best[1]:\n",
        "                best = (w, ll)\n",
        "else:\n",
        "    for w1 in steps:\n",
        "        for w2 in steps:\n",
        "            for w3 in steps:\n",
        "                w4 = 1.0 - w1 - w2 - w3\n",
        "                if w4 < 0 or w4 > 1:\n",
        "                    continue\n",
        "                w = [w1, w2, w3, w4]\n",
        "                ll = evaluate_weights(w)\n",
        "                if ll < best[1]:\n",
        "                    best = (w, ll)\n",
        "\n",
        "print('Best blend on OOF:', dict(zip(names, best[0])), 'OOF:', best[1])\n",
        "\n",
        "# Build final blended submission.csv using best weights\n",
        "w = best[0]\n",
        "Ptest = np.zeros_like(tests[0])\n",
        "for wi, Ti in zip(w, tests):\n",
        "    Ptest += wi * Ti\n",
        "Ptest = clip_norm(Ptest)\n",
        "pred_df = pd.DataFrame(Ptest, columns=list(le.classes_))\n",
        "sub_cols = [c for c in sample_sub.columns if c != id_col]\n",
        "pred_df = pred_df[sub_cols]\n",
        "submission_final = pd.concat([test[[id_col]].reset_index(drop=True), pred_df.reset_index(drop=True)], axis=1)\n",
        "submission_final.to_csv('submission.csv', index=False)\n",
        "print('Saved submission.csv (blended) with shape', submission_final.shape)"
      ],
      "execution_count": 8,
      "outputs": [
        {
          "output_type": "stream",
          "name": "stdout",
          "text": [
            "KNN OOF (k=1, weights=distance): 0.697753\nKNN OOF (k=1, weights=uniform): 0.697753\nKNN OOF (k=3, weights=distance): 0.211137\n"
          ]
        },
        {
          "output_type": "stream",
          "name": "stdout",
          "text": [
            "KNN OOF (k=3, weights=uniform): 0.216371\nKNN OOF (k=5, weights=distance): 0.150983\nKNN OOF (k=5, weights=uniform): 0.163544\n"
          ]
        },
        {
          "output_type": "stream",
          "name": "stdout",
          "text": [
            "KNN OOF (k=7, weights=distance): 0.237886\nKNN OOF (k=7, weights=uniform): 0.267618\nKNN OOF (k=11, weights=distance): 0.502239\n"
          ]
        },
        {
          "output_type": "stream",
          "name": "stdout",
          "text": [
            "KNN OOF (k=11, weights=uniform): 0.601040\nBest KNN: (5, 'distance') OOF: 0.15098303636882396\n"
          ]
        },
        {
          "output_type": "stream",
          "name": "stderr",
          "text": [
            "/usr/local/lib/python3.11/dist-packages/sklearn/linear_model/_logistic.py:1247: FutureWarning: 'multi_class' was deprecated in version 1.5 and will be removed in 1.7. From then on, it will always use 'multinomial'. Leave it to its default value to avoid this warning.\n  warnings.warn(\n"
          ]
        },
        {
          "output_type": "stream",
          "name": "stderr",
          "text": [
            "/usr/local/lib/python3.11/dist-packages/sklearn/linear_model/_logistic.py:1247: FutureWarning: 'multi_class' was deprecated in version 1.5 and will be removed in 1.7. From then on, it will always use 'multinomial'. Leave it to its default value to avoid this warning.\n  warnings.warn(\n"
          ]
        },
        {
          "output_type": "stream",
          "name": "stderr",
          "text": [
            "/usr/local/lib/python3.11/dist-packages/sklearn/linear_model/_logistic.py:1247: FutureWarning: 'multi_class' was deprecated in version 1.5 and will be removed in 1.7. From then on, it will always use 'multinomial'. Leave it to its default value to avoid this warning.\n  warnings.warn(\n"
          ]
        },
        {
          "output_type": "stream",
          "name": "stderr",
          "text": [
            "/usr/local/lib/python3.11/dist-packages/sklearn/linear_model/_logistic.py:1247: FutureWarning: 'multi_class' was deprecated in version 1.5 and will be removed in 1.7. From then on, it will always use 'multinomial'. Leave it to its default value to avoid this warning.\n  warnings.warn(\n"
          ]
        },
        {
          "output_type": "stream",
          "name": "stderr",
          "text": [
            "/usr/local/lib/python3.11/dist-packages/sklearn/linear_model/_logistic.py:1247: FutureWarning: 'multi_class' was deprecated in version 1.5 and will be removed in 1.7. From then on, it will always use 'multinomial'. Leave it to its default value to avoid this warning.\n  warnings.warn(\n"
          ]
        },
        {
          "output_type": "stream",
          "name": "stderr",
          "text": [
            "/usr/local/lib/python3.11/dist-packages/sklearn/linear_model/_logistic.py:1247: FutureWarning: 'multi_class' was deprecated in version 1.5 and will be removed in 1.7. From then on, it will always use 'multinomial'. Leave it to its default value to avoid this warning.\n  warnings.warn(\n"
          ]
        },
        {
          "output_type": "stream",
          "name": "stdout",
          "text": [
            "LogReg OOF (use_pca=False, C=1.0): 0.115043\n"
          ]
        },
        {
          "output_type": "stream",
          "name": "stderr",
          "text": [
            "/usr/local/lib/python3.11/dist-packages/sklearn/linear_model/_logistic.py:1247: FutureWarning: 'multi_class' was deprecated in version 1.5 and will be removed in 1.7. From then on, it will always use 'multinomial'. Leave it to its default value to avoid this warning.\n  warnings.warn(\n"
          ]
        },
        {
          "output_type": "stream",
          "name": "stderr",
          "text": [
            "/usr/local/lib/python3.11/dist-packages/sklearn/linear_model/_logistic.py:1247: FutureWarning: 'multi_class' was deprecated in version 1.5 and will be removed in 1.7. From then on, it will always use 'multinomial'. Leave it to its default value to avoid this warning.\n  warnings.warn(\n"
          ]
        },
        {
          "output_type": "stream",
          "name": "stderr",
          "text": [
            "/usr/local/lib/python3.11/dist-packages/sklearn/linear_model/_logistic.py:1247: FutureWarning: 'multi_class' was deprecated in version 1.5 and will be removed in 1.7. From then on, it will always use 'multinomial'. Leave it to its default value to avoid this warning.\n  warnings.warn(\n"
          ]
        },
        {
          "output_type": "stream",
          "name": "stderr",
          "text": [
            "/usr/local/lib/python3.11/dist-packages/sklearn/linear_model/_logistic.py:1247: FutureWarning: 'multi_class' was deprecated in version 1.5 and will be removed in 1.7. From then on, it will always use 'multinomial'. Leave it to its default value to avoid this warning.\n  warnings.warn(\n"
          ]
        },
        {
          "output_type": "stream",
          "name": "stderr",
          "text": [
            "/usr/local/lib/python3.11/dist-packages/sklearn/linear_model/_logistic.py:1247: FutureWarning: 'multi_class' was deprecated in version 1.5 and will be removed in 1.7. From then on, it will always use 'multinomial'. Leave it to its default value to avoid this warning.\n  warnings.warn(\n"
          ]
        },
        {
          "output_type": "stream",
          "name": "stderr",
          "text": [
            "/usr/local/lib/python3.11/dist-packages/sklearn/linear_model/_logistic.py:1247: FutureWarning: 'multi_class' was deprecated in version 1.5 and will be removed in 1.7. From then on, it will always use 'multinomial'. Leave it to its default value to avoid this warning.\n  warnings.warn(\n"
          ]
        },
        {
          "output_type": "stream",
          "name": "stdout",
          "text": [
            "LogReg OOF (use_pca=False, C=3.0): 0.078270\n"
          ]
        },
        {
          "output_type": "stream",
          "name": "stderr",
          "text": [
            "/usr/local/lib/python3.11/dist-packages/sklearn/linear_model/_logistic.py:1247: FutureWarning: 'multi_class' was deprecated in version 1.5 and will be removed in 1.7. From then on, it will always use 'multinomial'. Leave it to its default value to avoid this warning.\n  warnings.warn(\n"
          ]
        },
        {
          "output_type": "stream",
          "name": "stderr",
          "text": [
            "/usr/local/lib/python3.11/dist-packages/sklearn/linear_model/_logistic.py:1247: FutureWarning: 'multi_class' was deprecated in version 1.5 and will be removed in 1.7. From then on, it will always use 'multinomial'. Leave it to its default value to avoid this warning.\n  warnings.warn(\n"
          ]
        },
        {
          "output_type": "stream",
          "name": "stderr",
          "text": [
            "/usr/local/lib/python3.11/dist-packages/sklearn/linear_model/_logistic.py:1247: FutureWarning: 'multi_class' was deprecated in version 1.5 and will be removed in 1.7. From then on, it will always use 'multinomial'. Leave it to its default value to avoid this warning.\n  warnings.warn(\n"
          ]
        },
        {
          "output_type": "stream",
          "name": "stderr",
          "text": [
            "/usr/local/lib/python3.11/dist-packages/sklearn/linear_model/_logistic.py:1247: FutureWarning: 'multi_class' was deprecated in version 1.5 and will be removed in 1.7. From then on, it will always use 'multinomial'. Leave it to its default value to avoid this warning.\n  warnings.warn(\n"
          ]
        },
        {
          "output_type": "stream",
          "name": "stderr",
          "text": [
            "/usr/local/lib/python3.11/dist-packages/sklearn/linear_model/_logistic.py:1247: FutureWarning: 'multi_class' was deprecated in version 1.5 and will be removed in 1.7. From then on, it will always use 'multinomial'. Leave it to its default value to avoid this warning.\n  warnings.warn(\n"
          ]
        },
        {
          "output_type": "stream",
          "name": "stderr",
          "text": [
            "/usr/local/lib/python3.11/dist-packages/sklearn/linear_model/_logistic.py:1247: FutureWarning: 'multi_class' was deprecated in version 1.5 and will be removed in 1.7. From then on, it will always use 'multinomial'. Leave it to its default value to avoid this warning.\n  warnings.warn(\n"
          ]
        },
        {
          "output_type": "stream",
          "name": "stdout",
          "text": [
            "LogReg OOF (use_pca=False, C=10.0): 0.058210\n"
          ]
        },
        {
          "output_type": "stream",
          "name": "stderr",
          "text": [
            "/usr/local/lib/python3.11/dist-packages/sklearn/linear_model/_logistic.py:1247: FutureWarning: 'multi_class' was deprecated in version 1.5 and will be removed in 1.7. From then on, it will always use 'multinomial'. Leave it to its default value to avoid this warning.\n  warnings.warn(\n"
          ]
        },
        {
          "output_type": "stream",
          "name": "stderr",
          "text": [
            "/usr/local/lib/python3.11/dist-packages/sklearn/linear_model/_logistic.py:1247: FutureWarning: 'multi_class' was deprecated in version 1.5 and will be removed in 1.7. From then on, it will always use 'multinomial'. Leave it to its default value to avoid this warning.\n  warnings.warn(\n"
          ]
        },
        {
          "output_type": "stream",
          "name": "stderr",
          "text": [
            "/usr/local/lib/python3.11/dist-packages/sklearn/linear_model/_logistic.py:1247: FutureWarning: 'multi_class' was deprecated in version 1.5 and will be removed in 1.7. From then on, it will always use 'multinomial'. Leave it to its default value to avoid this warning.\n  warnings.warn(\n/usr/local/lib/python3.11/dist-packages/sklearn/linear_model/_logistic.py:1247: FutureWarning: 'multi_class' was deprecated in version 1.5 and will be removed in 1.7. From then on, it will always use 'multinomial'. Leave it to its default value to avoid this warning.\n  warnings.warn(\n"
          ]
        },
        {
          "output_type": "stream",
          "name": "stderr",
          "text": [
            "/usr/local/lib/python3.11/dist-packages/sklearn/linear_model/_logistic.py:1247: FutureWarning: 'multi_class' was deprecated in version 1.5 and will be removed in 1.7. From then on, it will always use 'multinomial'. Leave it to its default value to avoid this warning.\n  warnings.warn(\n"
          ]
        },
        {
          "output_type": "stream",
          "name": "stderr",
          "text": [
            "/usr/local/lib/python3.11/dist-packages/sklearn/linear_model/_logistic.py:1247: FutureWarning: 'multi_class' was deprecated in version 1.5 and will be removed in 1.7. From then on, it will always use 'multinomial'. Leave it to its default value to avoid this warning.\n  warnings.warn(\n"
          ]
        },
        {
          "output_type": "stream",
          "name": "stdout",
          "text": [
            "LogReg OOF (use_pca=False, C=30.0): 0.048535\n"
          ]
        },
        {
          "output_type": "stream",
          "name": "stderr",
          "text": [
            "/usr/local/lib/python3.11/dist-packages/sklearn/linear_model/_logistic.py:1247: FutureWarning: 'multi_class' was deprecated in version 1.5 and will be removed in 1.7. From then on, it will always use 'multinomial'. Leave it to its default value to avoid this warning.\n  warnings.warn(\n"
          ]
        },
        {
          "output_type": "stream",
          "name": "stderr",
          "text": [
            "/usr/local/lib/python3.11/dist-packages/sklearn/linear_model/_logistic.py:1247: FutureWarning: 'multi_class' was deprecated in version 1.5 and will be removed in 1.7. From then on, it will always use 'multinomial'. Leave it to its default value to avoid this warning.\n  warnings.warn(\n/usr/local/lib/python3.11/dist-packages/sklearn/linear_model/_logistic.py:1247: FutureWarning: 'multi_class' was deprecated in version 1.5 and will be removed in 1.7. From then on, it will always use 'multinomial'. Leave it to its default value to avoid this warning.\n  warnings.warn(\n"
          ]
        },
        {
          "output_type": "stream",
          "name": "stderr",
          "text": [
            "/usr/local/lib/python3.11/dist-packages/sklearn/linear_model/_logistic.py:1247: FutureWarning: 'multi_class' was deprecated in version 1.5 and will be removed in 1.7. From then on, it will always use 'multinomial'. Leave it to its default value to avoid this warning.\n  warnings.warn(\n/usr/local/lib/python3.11/dist-packages/sklearn/linear_model/_logistic.py:1247: FutureWarning: 'multi_class' was deprecated in version 1.5 and will be removed in 1.7. From then on, it will always use 'multinomial'. Leave it to its default value to avoid this warning.\n  warnings.warn(\n"
          ]
        },
        {
          "output_type": "stream",
          "name": "stderr",
          "text": [
            "/usr/local/lib/python3.11/dist-packages/sklearn/linear_model/_logistic.py:1247: FutureWarning: 'multi_class' was deprecated in version 1.5 and will be removed in 1.7. From then on, it will always use 'multinomial'. Leave it to its default value to avoid this warning.\n  warnings.warn(\n"
          ]
        },
        {
          "output_type": "stream",
          "name": "stdout",
          "text": [
            "LogReg OOF (use_pca=False, C=100.0): 0.052654\nBest LogReg (no PCA): (False, 30.0) OOF: 0.048534560563282744\n"
          ]
        },
        {
          "output_type": "stream",
          "name": "stderr",
          "text": [
            "/usr/local/lib/python3.11/dist-packages/sklearn/discriminant_analysis.py:947: UserWarning: Variables are collinear\n  warnings.warn(\"Variables are collinear\")\n/usr/local/lib/python3.11/dist-packages/sklearn/discriminant_analysis.py:947: UserWarning: Variables are collinear\n  warnings.warn(\"Variables are collinear\")\n/usr/local/lib/python3.11/dist-packages/sklearn/discriminant_analysis.py:947: UserWarning: Variables are collinear\n  warnings.warn(\"Variables are collinear\")\n/usr/local/lib/python3.11/dist-packages/sklearn/discriminant_analysis.py:947: UserWarning: Variables are collinear\n  warnings.warn(\"Variables are collinear\")\n/usr/local/lib/python3.11/dist-packages/sklearn/discriminant_analysis.py:947: UserWarning: Variables are collinear\n  warnings.warn(\"Variables are collinear\")\n"
          ]
        },
        {
          "output_type": "stream",
          "name": "stderr",
          "text": [
            "/usr/local/lib/python3.11/dist-packages/sklearn/discriminant_analysis.py:947: UserWarning: Variables are collinear\n  warnings.warn(\"Variables are collinear\")\n/usr/local/lib/python3.11/dist-packages/sklearn/discriminant_analysis.py:947: UserWarning: Variables are collinear\n  warnings.warn(\"Variables are collinear\")\n/usr/local/lib/python3.11/dist-packages/sklearn/discriminant_analysis.py:947: UserWarning: Variables are collinear\n  warnings.warn(\"Variables are collinear\")\n/usr/local/lib/python3.11/dist-packages/sklearn/discriminant_analysis.py:947: UserWarning: Variables are collinear\n  warnings.warn(\"Variables are collinear\")\n/usr/local/lib/python3.11/dist-packages/sklearn/discriminant_analysis.py:947: UserWarning: Variables are collinear\n  warnings.warn(\"Variables are collinear\")\n/usr/local/lib/python3.11/dist-packages/sklearn/discriminant_analysis.py:947: UserWarning: Variables are collinear\n  warnings.warn(\"Variables are collinear\")\n"
          ]
        },
        {
          "output_type": "stream",
          "name": "stdout",
          "text": [
            "QDA OOF (reg=0.0, use_pca=False): 33.647203\n"
          ]
        },
        {
          "output_type": "stream",
          "name": "stderr",
          "text": [
            "/usr/local/lib/python3.11/dist-packages/sklearn/discriminant_analysis.py:947: UserWarning: Variables are collinear\n  warnings.warn(\"Variables are collinear\")\n/usr/local/lib/python3.11/dist-packages/sklearn/discriminant_analysis.py:947: UserWarning: Variables are collinear\n  warnings.warn(\"Variables are collinear\")\n/usr/local/lib/python3.11/dist-packages/sklearn/discriminant_analysis.py:947: UserWarning: Variables are collinear\n  warnings.warn(\"Variables are collinear\")\n/usr/local/lib/python3.11/dist-packages/sklearn/discriminant_analysis.py:947: UserWarning: Variables are collinear\n  warnings.warn(\"Variables are collinear\")\n/usr/local/lib/python3.11/dist-packages/sklearn/discriminant_analysis.py:947: UserWarning: Variables are collinear\n  warnings.warn(\"Variables are collinear\")\n/usr/local/lib/python3.11/dist-packages/sklearn/discriminant_analysis.py:947: UserWarning: Variables are collinear\n  warnings.warn(\"Variables are collinear\")\n"
          ]
        },
        {
          "output_type": "stream",
          "name": "stdout",
          "text": [
            "QDA OOF (reg=0.02, use_pca=False): 9.651246\n"
          ]
        },
        {
          "output_type": "stream",
          "name": "stderr",
          "text": [
            "/usr/local/lib/python3.11/dist-packages/sklearn/discriminant_analysis.py:947: UserWarning: Variables are collinear\n  warnings.warn(\"Variables are collinear\")\n/usr/local/lib/python3.11/dist-packages/sklearn/discriminant_analysis.py:947: UserWarning: Variables are collinear\n  warnings.warn(\"Variables are collinear\")\n/usr/local/lib/python3.11/dist-packages/sklearn/discriminant_analysis.py:947: UserWarning: Variables are collinear\n  warnings.warn(\"Variables are collinear\")\n/usr/local/lib/python3.11/dist-packages/sklearn/discriminant_analysis.py:947: UserWarning: Variables are collinear\n  warnings.warn(\"Variables are collinear\")\n/usr/local/lib/python3.11/dist-packages/sklearn/discriminant_analysis.py:947: UserWarning: Variables are collinear\n  warnings.warn(\"Variables are collinear\")\n/usr/local/lib/python3.11/dist-packages/sklearn/discriminant_analysis.py:947: UserWarning: Variables are collinear\n  warnings.warn(\"Variables are collinear\")\n"
          ]
        },
        {
          "output_type": "stream",
          "name": "stdout",
          "text": [
            "QDA OOF (reg=0.05, use_pca=False): 5.737604\n"
          ]
        },
        {
          "output_type": "stream",
          "name": "stderr",
          "text": [
            "/usr/local/lib/python3.11/dist-packages/sklearn/discriminant_analysis.py:947: UserWarning: Variables are collinear\n  warnings.warn(\"Variables are collinear\")\n/usr/local/lib/python3.11/dist-packages/sklearn/discriminant_analysis.py:947: UserWarning: Variables are collinear\n  warnings.warn(\"Variables are collinear\")\n/usr/local/lib/python3.11/dist-packages/sklearn/discriminant_analysis.py:947: UserWarning: Variables are collinear\n  warnings.warn(\"Variables are collinear\")\n/usr/local/lib/python3.11/dist-packages/sklearn/discriminant_analysis.py:947: UserWarning: Variables are collinear\n  warnings.warn(\"Variables are collinear\")\n/usr/local/lib/python3.11/dist-packages/sklearn/discriminant_analysis.py:947: UserWarning: Variables are collinear\n  warnings.warn(\"Variables are collinear\")\n/usr/local/lib/python3.11/dist-packages/sklearn/discriminant_analysis.py:947: UserWarning: Variables are collinear\n  warnings.warn(\"Variables are collinear\")\n"
          ]
        },
        {
          "output_type": "stream",
          "name": "stdout",
          "text": [
            "QDA OOF (reg=0.1, use_pca=False): 4.217850\n"
          ]
        },
        {
          "output_type": "stream",
          "name": "stderr",
          "text": [
            "/usr/local/lib/python3.11/dist-packages/sklearn/discriminant_analysis.py:947: UserWarning: Variables are collinear\n  warnings.warn(\"Variables are collinear\")\n"
          ]
        },
        {
          "output_type": "stream",
          "name": "stdout",
          "text": [
            "QDA OOF (reg=0.2, use_pca=False): 3.510059\nBest QDA: (0.2, False) OOF: 3.5100591944994273\n"
          ]
        },
        {
          "output_type": "stream",
          "name": "stdout",
          "text": [
            "Best blend on OOF: {'knn': 0.0, 'lr_pca': 0.0, 'lr_np': 1.0, 'qda': 0.0} OOF: 0.048534560563282744\nSaved submission.csv (blended) with shape (99, 100)\n"
          ]
        }
      ]
    },
    {
      "id": "05dbd522-1575-4e4e-91b7-9e9c9008d0de",
      "cell_type": "code",
      "metadata": {},
      "source": [
        "# Expanded Logistic Regression (no PCA) tuning: solvers, C sweep, scaler on/off\n",
        "import time, json\n",
        "import numpy as np\n",
        "import pandas as pd\n",
        "from sklearn.preprocessing import StandardScaler\n",
        "from sklearn.linear_model import LogisticRegression\n",
        "from sklearn.metrics import log_loss\n",
        "\n",
        "SEED = 2025\n",
        "X = train[feature_cols].values.astype(np.float64)\n",
        "X_test = test[feature_cols].values.astype(np.float64)\n",
        "y_idx = y_enc\n",
        "num_classes = len(le.classes_)\n",
        "with open('folds_6.json', 'r') as f:\n",
        "    fold_indices = json.load(f)\n",
        "n_splits = len(fold_indices)\n",
        "\n",
        "def clip_norm(p):\n",
        "    p = np.clip(p, 1e-15, 1-1e-15)\n",
        "    p = p / p.sum(axis=1, keepdims=True)\n",
        "    return p\n",
        "\n",
        "def run_logreg_nopca_cv(C=100.0, solver='lbfgs', use_scaler=True):\n",
        "    oof = np.zeros((len(X), num_classes), dtype=np.float64)\n",
        "    test_pred = np.zeros((len(X_test), num_classes), dtype=np.float64)\n",
        "    t0 = time.time()\n",
        "    for i, (trn_idx, val_idx) in enumerate(fold_indices, 1):\n",
        "        trn_idx = np.array(trn_idx); val_idx = np.array(val_idx)\n",
        "        X_tr, X_va = X[trn_idx], X[val_idx]\n",
        "        y_tr, y_va = y_idx[trn_idx], y_idx[val_idx]\n",
        "        if use_scaler:\n",
        "            scaler = StandardScaler()\n",
        "            X_tr = scaler.fit_transform(X_tr)\n",
        "            X_va = scaler.transform(X_va)\n",
        "            X_te = scaler.transform(X_test)\n",
        "        else:\n",
        "            X_te = X_test\n",
        "        clf = LogisticRegression(multi_class='multinomial', solver=solver, penalty='l2', C=C, max_iter=5000, random_state=SEED, n_jobs=None if solver!='saga' else None)\n",
        "        clf.fit(X_tr, y_tr)\n",
        "        va_proba = clf.predict_proba(X_va)\n",
        "        oof[val_idx] = va_proba\n",
        "        test_pred += clf.predict_proba(X_te) / n_splits\n",
        "    oof_ll = log_loss(y_idx, clip_norm(oof), labels=list(range(num_classes)))\n",
        "    print(f'LogReg no-PCA OOF: {oof_ll:.6f} | C={C}, solver={solver}, scaler={use_scaler} in {time.time()-t0:.2f}s')\n",
        "    return oof, test_pred, oof_ll\n",
        "\n",
        "Cs = [20, 30, 40, 50, 60, 80, 100, 120, 150, 200, 300, 500, 800, 1000, 1500, 2000]\n",
        "solvers = ['lbfgs', 'saga']  # both support multinomial + l2\n",
        "scaler_opts = [True, False]\n",
        "best = (None, 1e9)\n",
        "best_oof = None\n",
        "best_test = None\n",
        "grid_total = len(Cs)*len(solvers)*len(scaler_opts)\n",
        "gcnt = 0\n",
        "for C in Cs:\n",
        "    for solver in solvers:\n",
        "        for use_scaler in scaler_opts:\n",
        "            gcnt += 1\n",
        "            print(f'\\n[LogReg grid {gcnt}/{grid_total}] C={C}, solver={solver}, scaler={use_scaler}')\n",
        "            try:\n",
        "                oof_lr, test_lr, oof_ll = run_logreg_nopca_cv(C=C, solver=solver, use_scaler=use_scaler)\n",
        "                if oof_ll < best[1]:\n",
        "                    best = ((C, solver, use_scaler), oof_ll)\n",
        "                    best_oof = oof_lr\n",
        "                    best_test = test_lr\n",
        "            except Exception as e:\n",
        "                print('Config failed:', C, solver, use_scaler, '->', e)\n",
        "\n",
        "print('Best LogReg no-PCA:', best)\n",
        "if best_oof is not None:\n",
        "    np.save('oof_logreg_nopca.npy', best_oof)\n",
        "    np.save('test_pred_logreg_nopca.npy', best_test)\n",
        "\n",
        "# Update submission.csv using best LogReg no-PCA\n",
        "Ptest = clip_norm(best_test)\n",
        "pred_df = pd.DataFrame(Ptest, columns=list(le.classes_))\n",
        "sub_cols = [c for c in sample_sub.columns if c != id_col]\n",
        "pred_df = pred_df[sub_cols]\n",
        "submission_lr_np = pd.concat([test[[id_col]].reset_index(drop=True), pred_df.reset_index(drop=True)], axis=1)\n",
        "submission_lr_np.to_csv('submission.csv', index=False)\n",
        "print('Saved submission.csv (best LogReg no-PCA) with shape', submission_lr_np.shape)"
      ],
      "execution_count": 9,
      "outputs": [
        {
          "output_type": "stream",
          "name": "stdout",
          "text": [
            "\n[LogReg grid 1/64] C=20, solver=lbfgs, scaler=True\n"
          ]
        },
        {
          "output_type": "stream",
          "name": "stderr",
          "text": [
            "/usr/local/lib/python3.11/dist-packages/sklearn/linear_model/_logistic.py:1247: FutureWarning: 'multi_class' was deprecated in version 1.5 and will be removed in 1.7. From then on, it will always use 'multinomial'. Leave it to its default value to avoid this warning.\n  warnings.warn(\n"
          ]
        },
        {
          "output_type": "stream",
          "name": "stderr",
          "text": [
            "/usr/local/lib/python3.11/dist-packages/sklearn/linear_model/_logistic.py:1247: FutureWarning: 'multi_class' was deprecated in version 1.5 and will be removed in 1.7. From then on, it will always use 'multinomial'. Leave it to its default value to avoid this warning.\n  warnings.warn(\n"
          ]
        },
        {
          "output_type": "stream",
          "name": "stderr",
          "text": [
            "/usr/local/lib/python3.11/dist-packages/sklearn/linear_model/_logistic.py:1247: FutureWarning: 'multi_class' was deprecated in version 1.5 and will be removed in 1.7. From then on, it will always use 'multinomial'. Leave it to its default value to avoid this warning.\n  warnings.warn(\n/usr/local/lib/python3.11/dist-packages/sklearn/linear_model/_logistic.py:1247: FutureWarning: 'multi_class' was deprecated in version 1.5 and will be removed in 1.7. From then on, it will always use 'multinomial'. Leave it to its default value to avoid this warning.\n  warnings.warn(\n"
          ]
        },
        {
          "output_type": "stream",
          "name": "stderr",
          "text": [
            "/usr/local/lib/python3.11/dist-packages/sklearn/linear_model/_logistic.py:1247: FutureWarning: 'multi_class' was deprecated in version 1.5 and will be removed in 1.7. From then on, it will always use 'multinomial'. Leave it to its default value to avoid this warning.\n  warnings.warn(\n"
          ]
        },
        {
          "output_type": "stream",
          "name": "stderr",
          "text": [
            "/usr/local/lib/python3.11/dist-packages/sklearn/linear_model/_logistic.py:1247: FutureWarning: 'multi_class' was deprecated in version 1.5 and will be removed in 1.7. From then on, it will always use 'multinomial'. Leave it to its default value to avoid this warning.\n  warnings.warn(\n"
          ]
        },
        {
          "output_type": "stream",
          "name": "stdout",
          "text": [
            "LogReg no-PCA OOF: 0.048727 | C=20, solver=lbfgs, scaler=True in 1.56s\n\n[LogReg grid 2/64] C=20, solver=lbfgs, scaler=False\n"
          ]
        },
        {
          "output_type": "stream",
          "name": "stderr",
          "text": [
            "/usr/local/lib/python3.11/dist-packages/sklearn/linear_model/_logistic.py:1247: FutureWarning: 'multi_class' was deprecated in version 1.5 and will be removed in 1.7. From then on, it will always use 'multinomial'. Leave it to its default value to avoid this warning.\n  warnings.warn(\n"
          ]
        },
        {
          "output_type": "stream",
          "name": "stderr",
          "text": [
            "/usr/local/lib/python3.11/dist-packages/sklearn/linear_model/_logistic.py:1247: FutureWarning: 'multi_class' was deprecated in version 1.5 and will be removed in 1.7. From then on, it will always use 'multinomial'. Leave it to its default value to avoid this warning.\n  warnings.warn(\n"
          ]
        },
        {
          "output_type": "stream",
          "name": "stderr",
          "text": [
            "/usr/local/lib/python3.11/dist-packages/sklearn/linear_model/_logistic.py:1247: FutureWarning: 'multi_class' was deprecated in version 1.5 and will be removed in 1.7. From then on, it will always use 'multinomial'. Leave it to its default value to avoid this warning.\n  warnings.warn(\n"
          ]
        },
        {
          "output_type": "stream",
          "name": "stderr",
          "text": [
            "/usr/local/lib/python3.11/dist-packages/sklearn/linear_model/_logistic.py:1247: FutureWarning: 'multi_class' was deprecated in version 1.5 and will be removed in 1.7. From then on, it will always use 'multinomial'. Leave it to its default value to avoid this warning.\n  warnings.warn(\n"
          ]
        },
        {
          "output_type": "stream",
          "name": "stderr",
          "text": [
            "/usr/local/lib/python3.11/dist-packages/sklearn/linear_model/_logistic.py:1247: FutureWarning: 'multi_class' was deprecated in version 1.5 and will be removed in 1.7. From then on, it will always use 'multinomial'. Leave it to its default value to avoid this warning.\n  warnings.warn(\n"
          ]
        },
        {
          "output_type": "stream",
          "name": "stderr",
          "text": [
            "/usr/local/lib/python3.11/dist-packages/sklearn/linear_model/_logistic.py:1247: FutureWarning: 'multi_class' was deprecated in version 1.5 and will be removed in 1.7. From then on, it will always use 'multinomial'. Leave it to its default value to avoid this warning.\n  warnings.warn(\n"
          ]
        },
        {
          "output_type": "stream",
          "name": "stdout",
          "text": [
            "LogReg no-PCA OOF: 1.814009 | C=20, solver=lbfgs, scaler=False in 2.80s\n\n[LogReg grid 3/64] C=20, solver=saga, scaler=True\n"
          ]
        },
        {
          "output_type": "stream",
          "name": "stderr",
          "text": [
            "/usr/local/lib/python3.11/dist-packages/sklearn/linear_model/_logistic.py:1247: FutureWarning: 'multi_class' was deprecated in version 1.5 and will be removed in 1.7. From then on, it will always use 'multinomial'. Leave it to its default value to avoid this warning.\n  warnings.warn(\n"
          ]
        },
        {
          "output_type": "stream",
          "name": "stderr",
          "text": [
            "/usr/local/lib/python3.11/dist-packages/sklearn/linear_model/_logistic.py:1247: FutureWarning: 'multi_class' was deprecated in version 1.5 and will be removed in 1.7. From then on, it will always use 'multinomial'. Leave it to its default value to avoid this warning.\n  warnings.warn(\n"
          ]
        },
        {
          "output_type": "stream",
          "name": "stderr",
          "text": [
            "/usr/local/lib/python3.11/dist-packages/sklearn/linear_model/_logistic.py:1247: FutureWarning: 'multi_class' was deprecated in version 1.5 and will be removed in 1.7. From then on, it will always use 'multinomial'. Leave it to its default value to avoid this warning.\n  warnings.warn(\n"
          ]
        },
        {
          "output_type": "stream",
          "name": "stderr",
          "text": [
            "/usr/local/lib/python3.11/dist-packages/sklearn/linear_model/_logistic.py:1247: FutureWarning: 'multi_class' was deprecated in version 1.5 and will be removed in 1.7. From then on, it will always use 'multinomial'. Leave it to its default value to avoid this warning.\n  warnings.warn(\n"
          ]
        },
        {
          "output_type": "stream",
          "name": "stderr",
          "text": [
            "/usr/local/lib/python3.11/dist-packages/sklearn/linear_model/_logistic.py:1247: FutureWarning: 'multi_class' was deprecated in version 1.5 and will be removed in 1.7. From then on, it will always use 'multinomial'. Leave it to its default value to avoid this warning.\n  warnings.warn(\n"
          ]
        },
        {
          "output_type": "stream",
          "name": "stderr",
          "text": [
            "/usr/local/lib/python3.11/dist-packages/sklearn/linear_model/_logistic.py:1247: FutureWarning: 'multi_class' was deprecated in version 1.5 and will be removed in 1.7. From then on, it will always use 'multinomial'. Leave it to its default value to avoid this warning.\n  warnings.warn(\n"
          ]
        },
        {
          "output_type": "stream",
          "name": "stdout",
          "text": [
            "LogReg no-PCA OOF: 0.059831 | C=20, solver=saga, scaler=True in 238.44s\n\n[LogReg grid 4/64] C=20, solver=saga, scaler=False\n"
          ]
        },
        {
          "output_type": "stream",
          "name": "stderr",
          "text": [
            "/usr/local/lib/python3.11/dist-packages/sklearn/linear_model/_logistic.py:1247: FutureWarning: 'multi_class' was deprecated in version 1.5 and will be removed in 1.7. From then on, it will always use 'multinomial'. Leave it to its default value to avoid this warning.\n  warnings.warn(\n"
          ]
        },
        {
          "output_type": "stream",
          "name": "stderr",
          "text": [
            "/usr/local/lib/python3.11/dist-packages/sklearn/linear_model/_logistic.py:1247: FutureWarning: 'multi_class' was deprecated in version 1.5 and will be removed in 1.7. From then on, it will always use 'multinomial'. Leave it to its default value to avoid this warning.\n  warnings.warn(\n"
          ]
        },
        {
          "output_type": "stream",
          "name": "stderr",
          "text": [
            "/usr/local/lib/python3.11/dist-packages/sklearn/linear_model/_logistic.py:1247: FutureWarning: 'multi_class' was deprecated in version 1.5 and will be removed in 1.7. From then on, it will always use 'multinomial'. Leave it to its default value to avoid this warning.\n  warnings.warn(\n"
          ]
        },
        {
          "output_type": "stream",
          "name": "stderr",
          "text": [
            "/usr/local/lib/python3.11/dist-packages/sklearn/linear_model/_logistic.py:1247: FutureWarning: 'multi_class' was deprecated in version 1.5 and will be removed in 1.7. From then on, it will always use 'multinomial'. Leave it to its default value to avoid this warning.\n  warnings.warn(\n"
          ]
        },
        {
          "output_type": "stream",
          "name": "stderr",
          "text": [
            "/usr/local/lib/python3.11/dist-packages/sklearn/linear_model/_logistic.py:1247: FutureWarning: 'multi_class' was deprecated in version 1.5 and will be removed in 1.7. From then on, it will always use 'multinomial'. Leave it to its default value to avoid this warning.\n  warnings.warn(\n"
          ]
        },
        {
          "output_type": "stream",
          "name": "stderr",
          "text": [
            "/usr/local/lib/python3.11/dist-packages/sklearn/linear_model/_logistic.py:1247: FutureWarning: 'multi_class' was deprecated in version 1.5 and will be removed in 1.7. From then on, it will always use 'multinomial'. Leave it to its default value to avoid this warning.\n  warnings.warn(\n"
          ]
        },
        {
          "output_type": "stream",
          "name": "stdout",
          "text": [
            "LogReg no-PCA OOF: 1.815281 | C=20, solver=saga, scaler=False in 21.96s\n\n[LogReg grid 5/64] C=30, solver=lbfgs, scaler=True\n"
          ]
        },
        {
          "output_type": "stream",
          "name": "stderr",
          "text": [
            "/usr/local/lib/python3.11/dist-packages/sklearn/linear_model/_logistic.py:1247: FutureWarning: 'multi_class' was deprecated in version 1.5 and will be removed in 1.7. From then on, it will always use 'multinomial'. Leave it to its default value to avoid this warning.\n  warnings.warn(\n"
          ]
        },
        {
          "output_type": "stream",
          "name": "stderr",
          "text": [
            "/usr/local/lib/python3.11/dist-packages/sklearn/linear_model/_logistic.py:1247: FutureWarning: 'multi_class' was deprecated in version 1.5 and will be removed in 1.7. From then on, it will always use 'multinomial'. Leave it to its default value to avoid this warning.\n  warnings.warn(\n/usr/local/lib/python3.11/dist-packages/sklearn/linear_model/_logistic.py:1247: FutureWarning: 'multi_class' was deprecated in version 1.5 and will be removed in 1.7. From then on, it will always use 'multinomial'. Leave it to its default value to avoid this warning.\n  warnings.warn(\n"
          ]
        },
        {
          "output_type": "stream",
          "name": "stderr",
          "text": [
            "/usr/local/lib/python3.11/dist-packages/sklearn/linear_model/_logistic.py:1247: FutureWarning: 'multi_class' was deprecated in version 1.5 and will be removed in 1.7. From then on, it will always use 'multinomial'. Leave it to its default value to avoid this warning.\n  warnings.warn(\n/usr/local/lib/python3.11/dist-packages/sklearn/linear_model/_logistic.py:1247: FutureWarning: 'multi_class' was deprecated in version 1.5 and will be removed in 1.7. From then on, it will always use 'multinomial'. Leave it to its default value to avoid this warning.\n  warnings.warn(\n"
          ]
        },
        {
          "output_type": "stream",
          "name": "stderr",
          "text": [
            "/usr/local/lib/python3.11/dist-packages/sklearn/linear_model/_logistic.py:1247: FutureWarning: 'multi_class' was deprecated in version 1.5 and will be removed in 1.7. From then on, it will always use 'multinomial'. Leave it to its default value to avoid this warning.\n  warnings.warn(\n"
          ]
        },
        {
          "output_type": "stream",
          "name": "stdout",
          "text": [
            "LogReg no-PCA OOF: 0.048535 | C=30, solver=lbfgs, scaler=True in 1.47s\n\n[LogReg grid 6/64] C=30, solver=lbfgs, scaler=False\n"
          ]
        },
        {
          "output_type": "stream",
          "name": "stderr",
          "text": [
            "/usr/local/lib/python3.11/dist-packages/sklearn/linear_model/_logistic.py:1247: FutureWarning: 'multi_class' was deprecated in version 1.5 and will be removed in 1.7. From then on, it will always use 'multinomial'. Leave it to its default value to avoid this warning.\n  warnings.warn(\n"
          ]
        },
        {
          "output_type": "stream",
          "name": "stderr",
          "text": [
            "/usr/local/lib/python3.11/dist-packages/sklearn/linear_model/_logistic.py:1247: FutureWarning: 'multi_class' was deprecated in version 1.5 and will be removed in 1.7. From then on, it will always use 'multinomial'. Leave it to its default value to avoid this warning.\n  warnings.warn(\n"
          ]
        },
        {
          "output_type": "stream",
          "name": "stderr",
          "text": [
            "/usr/local/lib/python3.11/dist-packages/sklearn/linear_model/_logistic.py:1247: FutureWarning: 'multi_class' was deprecated in version 1.5 and will be removed in 1.7. From then on, it will always use 'multinomial'. Leave it to its default value to avoid this warning.\n  warnings.warn(\n"
          ]
        },
        {
          "output_type": "stream",
          "name": "stderr",
          "text": [
            "/usr/local/lib/python3.11/dist-packages/sklearn/linear_model/_logistic.py:1247: FutureWarning: 'multi_class' was deprecated in version 1.5 and will be removed in 1.7. From then on, it will always use 'multinomial'. Leave it to its default value to avoid this warning.\n  warnings.warn(\n"
          ]
        },
        {
          "output_type": "stream",
          "name": "stderr",
          "text": [
            "/usr/local/lib/python3.11/dist-packages/sklearn/linear_model/_logistic.py:1247: FutureWarning: 'multi_class' was deprecated in version 1.5 and will be removed in 1.7. From then on, it will always use 'multinomial'. Leave it to its default value to avoid this warning.\n  warnings.warn(\n"
          ]
        },
        {
          "output_type": "stream",
          "name": "stderr",
          "text": [
            "/usr/local/lib/python3.11/dist-packages/sklearn/linear_model/_logistic.py:1247: FutureWarning: 'multi_class' was deprecated in version 1.5 and will be removed in 1.7. From then on, it will always use 'multinomial'. Leave it to its default value to avoid this warning.\n  warnings.warn(\n"
          ]
        },
        {
          "output_type": "stream",
          "name": "stdout",
          "text": [
            "LogReg no-PCA OOF: 1.472730 | C=30, solver=lbfgs, scaler=False in 3.34s\n\n[LogReg grid 7/64] C=30, solver=saga, scaler=True\n"
          ]
        },
        {
          "output_type": "stream",
          "name": "stderr",
          "text": [
            "/usr/local/lib/python3.11/dist-packages/sklearn/linear_model/_logistic.py:1247: FutureWarning: 'multi_class' was deprecated in version 1.5 and will be removed in 1.7. From then on, it will always use 'multinomial'. Leave it to its default value to avoid this warning.\n  warnings.warn(\n"
          ]
        },
        {
          "output_type": "stream",
          "name": "stderr",
          "text": [
            "/usr/local/lib/python3.11/dist-packages/sklearn/linear_model/_logistic.py:1247: FutureWarning: 'multi_class' was deprecated in version 1.5 and will be removed in 1.7. From then on, it will always use 'multinomial'. Leave it to its default value to avoid this warning.\n  warnings.warn(\n"
          ]
        }
      ]
    },
    {
      "id": "fe97b56c-0475-493a-8d75-3a6d2cde1245",
      "cell_type": "code",
      "metadata": {},
      "source": [
        "# Exact and near-duplicate overrides on top of best LR(no-PCA) predictions\n",
        "import numpy as np, json, time\n",
        "from sklearn.neighbors import KNeighborsClassifier\n",
        "from sklearn.metrics import log_loss\n",
        "\n",
        "X = train[feature_cols].values.astype(np.float64)\n",
        "X_test = test[feature_cols].values.astype(np.float64)\n",
        "y_idx = y_enc\n",
        "num_classes = len(le.classes_)\n",
        "\n",
        "# Load fixed folds and base LR(no-PCA) preds\n",
        "with open('folds_6.json', 'r') as f:\n",
        "    fold_indices = json.load(f)\n",
        "base_oof = np.load('oof_logreg_nopca.npy')\n",
        "base_test = np.load('test_pred_logreg_nopca.npy')\n",
        "\n",
        "def onehot(idx, K):\n",
        "    v = np.zeros(K, dtype=np.float64)\n",
        "    v[idx] = 1.0\n",
        "    return v\n",
        "\n",
        "def clip_norm(p):\n",
        "    p = np.clip(p, 1e-15, 1-1e-15)\n",
        "    p = p / p.sum(axis=1, keepdims=True)\n",
        "    return p\n",
        "\n",
        "# Parameters from expert guidance\n",
        "HARD_SIM = 0.9995\n",
        "SOFT_SIM = 0.997\n",
        "ALPHA = 0.8  # blend weight for NN onehot in soft override\n",
        "\n",
        "# 1) Exact duplicate overrides\n",
        "def build_exact_map(X_tr, y_tr):\n",
        "    m = {}\n",
        "    for r, yi in zip(X_tr, y_tr):\n",
        "        key = tuple(np.round(r, 12))\n",
        "        if key not in m:\n",
        "            m[key] = yi\n",
        "    return m\n",
        "\n",
        "# Apply to OOF via folds\n",
        "adj_oof = base_oof.copy()\n",
        "exact_oof_cnt = 0\n",
        "soft_oof_cnt = 0\n",
        "hard_oof_cnt = 0\n",
        "t0 = time.time()\n",
        "for i, (trn_idx, val_idx) in enumerate(fold_indices, 1):\n",
        "    trn_idx = np.array(trn_idx); val_idx = np.array(val_idx)\n",
        "    X_tr, X_va = X[trn_idx], X[val_idx]\n",
        "    y_tr = y_idx[trn_idx]\n",
        "    # Exact\n",
        "    emap = build_exact_map(X_tr, y_tr)\n",
        "    for j, r in zip(val_idx, X_va):\n",
        "        key = tuple(np.round(r, 12))\n",
        "        if key in emap:\n",
        "            adj_oof[j] = onehot(emap[key], num_classes)\n",
        "            exact_oof_cnt += 1\n",
        "    # Near-duplicate via 1-NN cosine\n",
        "    knn = KNeighborsClassifier(n_neighbors=1, metric='cosine')\n",
        "    knn.fit(X_tr, y_tr)\n",
        "    dists, nbrs = knn.kneighbors(X_va, n_neighbors=1, return_distance=True)\n",
        "    sims = 1.0 - dists.ravel()\n",
        "    nn_cls = y_tr[nbrs.ravel()]\n",
        "    for idx_loc, j in enumerate(val_idx):\n",
        "        if tuple(np.round(X_va[idx_loc],12)) in emap:\n",
        "            continue  # already exact\n",
        "        s = sims[idx_loc]\n",
        "        if s >= HARD_SIM:\n",
        "            adj_oof[j] = onehot(nn_cls[idx_loc], num_classes)\n",
        "            hard_oof_cnt += 1\n",
        "        elif s >= SOFT_SIM:\n",
        "            oh = onehot(nn_cls[idx_loc], num_classes)\n",
        "            adj_oof[j] = clip_norm(ALPHA*oh + (1-ALPHA)*adj_oof[j])\n",
        "            soft_oof_cnt += 1\n",
        "print(f'OOF overrides -> exact:{exact_oof_cnt}, hard:{hard_oof_cnt}, soft:{soft_oof_cnt} in {time.time()-t0:.2f}s')\n",
        "\n",
        "oof_ll_before = log_loss(y_idx, clip_norm(base_oof), labels=list(range(num_classes)))\n",
        "oof_ll_after = log_loss(y_idx, clip_norm(adj_oof), labels=list(range(num_classes)))\n",
        "print(f'OOF logloss before: {oof_ll_before:.6f} | after overrides: {oof_ll_after:.6f}')\n",
        "\n",
        "# 2) Apply to TEST using full train as reference\n",
        "adj_test = base_test.copy()\n",
        "emap_full = build_exact_map(X, y_idx)\n",
        "exact_test_cnt = 0\n",
        "soft_test_cnt = 0\n",
        "hard_test_cnt = 0\n",
        "# Exact matches\n",
        "for i, r in enumerate(X_test):\n",
        "    key = tuple(np.round(r, 12))\n",
        "    if key in emap_full:\n",
        "        adj_test[i] = onehot(emap_full[key], num_classes)\n",
        "        exact_test_cnt += 1\n",
        "# Near-duplicates\n",
        "knn_full = KNeighborsClassifier(n_neighbors=1, metric='cosine')\n",
        "knn_full.fit(X, y_idx)\n",
        "dists_t, nbrs_t = knn_full.kneighbors(X_test, n_neighbors=1, return_distance=True)\n",
        "sims_t = 1.0 - dists_t.ravel()\n",
        "nn_cls_t = y_idx[nbrs_t.ravel()]\n",
        "for i in range(len(X_test)):\n",
        "    key = tuple(np.round(X_test[i],12))\n",
        "    if key in emap_full:\n",
        "        continue\n",
        "    s = sims_t[i]\n",
        "    if s >= HARD_SIM:\n",
        "        adj_test[i] = onehot(nn_cls_t[i], num_classes)\n",
        "        hard_test_cnt += 1\n",
        "    elif s >= SOFT_SIM:\n",
        "        oh = onehot(nn_cls_t[i], num_classes)\n",
        "        adj_test[i] = clip_norm(ALPHA*oh + (1-ALPHA)*adj_test[i])\n",
        "        soft_test_cnt += 1\n",
        "print(f'TEST overrides -> exact:{exact_test_cnt}, hard:{hard_test_cnt}, soft:{soft_test_cnt}')\n",
        "\n",
        "# 3) Save adjusted predictions and write submission\n",
        "np.save('oof_lr_nopca_overridden.npy', adj_oof)\n",
        "np.save('test_lr_nopca_overridden.npy', adj_test)\n",
        "proba = clip_norm(adj_test)\n",
        "pred_df = pd.DataFrame(proba, columns=list(le.classes_))\n",
        "sub_cols = [c for c in sample_sub.columns if c != id_col]\n",
        "pred_df = pred_df[sub_cols]\n",
        "submission_override = pd.concat([test[[id_col]].reset_index(drop=True), pred_df.reset_index(drop=True)], axis=1)\n",
        "submission_override.to_csv('submission.csv', index=False)\n",
        "print('Saved submission.csv (overrides applied) with shape', submission_override.shape)"
      ],
      "execution_count": 10,
      "outputs": [
        {
          "output_type": "stream",
          "name": "stdout",
          "text": [
            "OOF overrides -> exact:0, hard:0, soft:0 in 0.51s\nOOF logloss before: 0.048535 | after overrides: 0.048535\nTEST overrides -> exact:0, hard:0, soft:0\nSaved submission.csv (overrides applied) with shape (99, 100)\n"
          ]
        }
      ]
    },
    {
      "id": "b424b2ca-b636-43cc-93c4-f9d1b57be2fb",
      "cell_type": "code",
      "metadata": {},
      "source": [
        "# Hellinger and Quantile transforms + LR; KNN cosine; then blend with best LR(no-PCA)\n",
        "import numpy as np, json, time\n",
        "import pandas as pd\n",
        "from sklearn.preprocessing import normalize, QuantileTransformer, StandardScaler\n",
        "from sklearn.linear_model import LogisticRegression\n",
        "from sklearn.neighbors import KNeighborsClassifier\n",
        "from sklearn.metrics import log_loss\n",
        "\n",
        "SEED = 2025\n",
        "X = train[feature_cols].values.astype(np.float64)\n",
        "X_test = test[feature_cols].values.astype(np.float64)\n",
        "y_idx = y_enc\n",
        "num_classes = len(le.classes_)\n",
        "with open('folds_6.json', 'r') as f:\n",
        "    fold_indices = json.load(f)\n",
        "n_splits = len(fold_indices)\n",
        "\n",
        "def clip_norm(p):\n",
        "    p = np.clip(p, 1e-15, 1-1e-15)\n",
        "    p = p / p.sum(axis=1, keepdims=True)\n",
        "    return p\n",
        "\n",
        "# 1) Hellinger transform branch: sqrt(clip) -> row L2 normalize -> LR\n",
        "def hellinger_transform(A):\n",
        "    A2 = np.sqrt(np.clip(A, 0, None))\n",
        "    return normalize(A2, norm='l2', axis=1, copy=False)\n",
        "\n",
        "def run_lr_hellinger(C=20.0):\n",
        "    oof = np.zeros((len(X), num_classes), dtype=np.float64)\n",
        "    test_pred = np.zeros((len(X_test), num_classes), dtype=np.float64)\n",
        "    for i, (trn_idx, val_idx) in enumerate(fold_indices, 1):\n",
        "        trn_idx = np.array(trn_idx); val_idx = np.array(val_idx)\n",
        "        X_tr, X_va = X[trn_idx], X[val_idx]\n",
        "        y_tr, y_va = y_idx[trn_idx], y_idx[val_idx]\n",
        "        X_tr_h = hellinger_transform(X_tr.copy())\n",
        "        X_va_h = hellinger_transform(X_va.copy())\n",
        "        X_te_h = hellinger_transform(X_test.copy())\n",
        "        clf = LogisticRegression(multi_class='multinomial', solver='lbfgs', C=C, max_iter=3000, random_state=SEED)\n",
        "        clf.fit(X_tr_h, y_tr)\n",
        "        va_proba = clf.predict_proba(X_va_h)\n",
        "        oof[val_idx] = va_proba\n",
        "        test_pred += clf.predict_proba(X_te_h) / n_splits\n",
        "    oof_ll = log_loss(y_idx, clip_norm(oof), labels=list(range(num_classes)))\n",
        "    print(f'LR-Hellinger OOF: {oof_ll:.6f} | C={C}')\n",
        "    return oof, test_pred, oof_ll\n",
        "\n",
        "hell_Cs = [8.0, 12.0, 20.0, 30.0, 50.0]\n",
        "best_hell = (None, 1e9); best_hell_oof=None; best_hell_test=None\n",
        "for C in hell_Cs:\n",
        "    oof_h, test_h, llh = run_lr_hellinger(C=C)\n",
        "    if llh < best_hell[1]:\n",
        "        best_hell = ((C,), llh); best_hell_oof=oof_h; best_hell_test=test_h\n",
        "print('Best LR-Hellinger:', best_hell)\n",
        "np.save('oof_lr_hell.npy', best_hell_oof)\n",
        "np.save('test_pred_lr_hell.npy', best_hell_test)\n",
        "\n",
        "# 2) QuantileTransformer to normal -> LR\n",
        "def run_lr_quantile(C=30.0):\n",
        "    oof = np.zeros((len(X), num_classes), dtype=np.float64)\n",
        "    test_pred = np.zeros((len(X_test), num_classes), dtype=np.float64)\n",
        "    for i, (trn_idx, val_idx) in enumerate(fold_indices, 1):\n",
        "        trn_idx = np.array(trn_idx); val_idx = np.array(val_idx)\n",
        "        X_tr, X_va = X[trn_idx], X[val_idx]\n",
        "        y_tr, y_va = y_idx[trn_idx], y_idx[val_idx]\n",
        "        qt = QuantileTransformer(n_quantiles=min(1000, X_tr.shape[0]), output_distribution='normal', random_state=SEED, subsample=1_000_000, copy=True)\n",
        "        X_tr_q = qt.fit_transform(X_tr)\n",
        "        X_va_q = qt.transform(X_va)\n",
        "        X_te_q = qt.transform(X_test)\n",
        "        # Scale after quantile to stabilize LR\n",
        "        scaler = StandardScaler()\n",
        "        X_tr_q = scaler.fit_transform(X_tr_q)\n",
        "        X_va_q = scaler.transform(X_va_q)\n",
        "        X_te_q = scaler.transform(X_te_q)\n",
        "        clf = LogisticRegression(multi_class='multinomial', solver='lbfgs', C=C, max_iter=3000, random_state=SEED)\n",
        "        clf.fit(X_tr_q, y_tr)\n",
        "        va_proba = clf.predict_proba(X_va_q)\n",
        "        oof[val_idx] = va_proba\n",
        "        test_pred += clf.predict_proba(X_te_q) / n_splits\n",
        "    oof_ll = log_loss(y_idx, clip_norm(oof), labels=list(range(num_classes)))\n",
        "    print(f'LR-Quantile OOF: {oof_ll:.6f} | C={C}')\n",
        "    return oof, test_pred, oof_ll\n",
        "\n",
        "q_Cs = [10.0, 30.0, 60.0, 100.0]\n",
        "best_q = (None, 1e9); best_q_oof=None; best_q_test=None\n",
        "for C in q_Cs:\n",
        "    oof_q, test_q, llq = run_lr_quantile(C=C)\n",
        "    if llq < best_q[1]:\n",
        "        best_q = ((C,), llq); best_q_oof=oof_q; best_q_test=test_q\n",
        "print('Best LR-Quantile:', best_q)\n",
        "np.save('oof_lr_quant.npy', best_q_oof)\n",
        "np.save('test_pred_lr_quant.npy', best_q_test)\n",
        "\n",
        "# 3) KNN cosine (as a model for diversity)\n",
        "def run_knn_cosine(k=3, weights='distance'):\n",
        "    oof = np.zeros((len(X), num_classes), dtype=np.float64)\n",
        "    test_pred = np.zeros((len(X_test), num_classes), dtype=np.float64)\n",
        "    for i, (trn_idx, val_idx) in enumerate(fold_indices, 1):\n",
        "        trn_idx = np.array(trn_idx); val_idx = np.array(val_idx)\n",
        "        X_tr, X_va = X[trn_idx], X[val_idx]\n",
        "        y_tr, y_va = y_idx[trn_idx], y_idx[val_idx]\n",
        "        clf = KNeighborsClassifier(n_neighbors=k, metric='cosine', weights=weights)\n",
        "        clf.fit(X_tr, y_tr)\n",
        "        va_proba = clf.predict_proba(X_va)\n",
        "        oof[val_idx] = va_proba\n",
        "        test_pred += clf.predict_proba(X_test) / n_splits\n",
        "    oof_ll = log_loss(y_idx, clip_norm(oof), labels=list(range(num_classes)))\n",
        "    print(f'KNN-cosine OOF: {oof_ll:.6f} | k={k}, weights={weights}')\n",
        "    return oof, test_pred, oof_ll\n",
        "\n",
        "best_knn_c = (None, 1e9); best_knn_c_oof=None; best_knn_c_test=None\n",
        "for k in [1,3,5,7]:\n",
        "    for w in ['distance','uniform']:\n",
        "        oof_c, test_c, llc = run_knn_cosine(k=k, weights=w)\n",
        "        if llc < best_knn_c[1]:\n",
        "            best_knn_c=((k,w), llc); best_knn_c_oof=oof_c; best_knn_c_test=test_c\n",
        "print('Best KNN-cosine:', best_knn_c)\n",
        "np.save('oof_knn_cos.npy', best_knn_c_oof)\n",
        "np.save('test_pred_knn_cos.npy', best_knn_c_test)\n",
        "\n",
        "# 4) Blend top models: LR(no-PCA best), LR-Hellinger, LR-Quantile, KNN-cosine\n",
        "base_lr_oof = np.load('oof_logreg_nopca.npy')\n",
        "base_lr_test = np.load('test_pred_logreg_nopca.npy')\n",
        "oofs = [base_lr_oof, best_hell_oof, best_q_oof, best_knn_c_oof]\n",
        "tests = [base_lr_test, best_hell_test, best_q_test, best_knn_c_test]\n",
        "names = ['lr_base','lr_hell','lr_quant','knn_cos']\n",
        "\n",
        "# Coarse grid weights (step 0.1) summing to 1 for 4 models\n",
        "steps = [i/10.0 for i in range(11)]\n",
        "best = (None, 1e9)\n",
        "cnt=0\n",
        "for w1 in steps:\n",
        "    for w2 in steps:\n",
        "        for w3 in steps:\n",
        "            w4 = 1.0 - w1 - w2 - w3\n",
        "            if w4 < 0 or w4 > 1:\n",
        "                continue\n",
        "            cnt += 1\n",
        "            w = np.array([w1,w2,w3,w4])\n",
        "            P = np.zeros_like(oofs[0])\n",
        "            for wi, Pi in zip(w, oofs):\n",
        "                P += wi * Pi\n",
        "            ll = log_loss(y_idx, clip_norm(P), labels=list(range(num_classes)))\n",
        "            if ll < best[1]:\n",
        "                best = (w, ll)\n",
        "print(f'Blend search tried {cnt} combos. Best OOF {best[1]:.6f} with weights:', dict(zip(names, best[0])))\n",
        "\n",
        "# Build final blended submission\n",
        "w = best[0]\n",
        "Ptest = np.zeros_like(tests[0])\n",
        "for wi, Ti in zip(w, tests):\n",
        "    Ptest += wi * Ti\n",
        "Ptest = clip_norm(Ptest)\n",
        "pred_df = pd.DataFrame(Ptest, columns=list(le.classes_))\n",
        "sub_cols = [c for c in sample_sub.columns if c != id_col]\n",
        "pred_df = pred_df[sub_cols]\n",
        "submission_final2 = pd.concat([test[[id_col]].reset_index(drop=True), pred_df.reset_index(drop=True)], axis=1)\n",
        "submission_final2.to_csv('submission.csv', index=False)\n",
        "print('Saved submission.csv (enhanced blend) with shape', submission_final2.shape)"
      ],
      "execution_count": 11,
      "outputs": [
        {
          "output_type": "stream",
          "name": "stderr",
          "text": [
            "/usr/local/lib/python3.11/dist-packages/sklearn/linear_model/_logistic.py:1247: FutureWarning: 'multi_class' was deprecated in version 1.5 and will be removed in 1.7. From then on, it will always use 'multinomial'. Leave it to its default value to avoid this warning.\n  warnings.warn(\n"
          ]
        },
        {
          "output_type": "stream",
          "name": "stderr",
          "text": [
            "/usr/local/lib/python3.11/dist-packages/sklearn/linear_model/_logistic.py:1247: FutureWarning: 'multi_class' was deprecated in version 1.5 and will be removed in 1.7. From then on, it will always use 'multinomial'. Leave it to its default value to avoid this warning.\n  warnings.warn(\n"
          ]
        },
        {
          "output_type": "stream",
          "name": "stderr",
          "text": [
            "/usr/local/lib/python3.11/dist-packages/sklearn/linear_model/_logistic.py:1247: FutureWarning: 'multi_class' was deprecated in version 1.5 and will be removed in 1.7. From then on, it will always use 'multinomial'. Leave it to its default value to avoid this warning.\n  warnings.warn(\n"
          ]
        },
        {
          "output_type": "stream",
          "name": "stderr",
          "text": [
            "/usr/local/lib/python3.11/dist-packages/sklearn/linear_model/_logistic.py:1247: FutureWarning: 'multi_class' was deprecated in version 1.5 and will be removed in 1.7. From then on, it will always use 'multinomial'. Leave it to its default value to avoid this warning.\n  warnings.warn(\n"
          ]
        },
        {
          "output_type": "stream",
          "name": "stderr",
          "text": [
            "/usr/local/lib/python3.11/dist-packages/sklearn/linear_model/_logistic.py:1247: FutureWarning: 'multi_class' was deprecated in version 1.5 and will be removed in 1.7. From then on, it will always use 'multinomial'. Leave it to its default value to avoid this warning.\n  warnings.warn(\n"
          ]
        },
        {
          "output_type": "stream",
          "name": "stderr",
          "text": [
            "/usr/local/lib/python3.11/dist-packages/sklearn/linear_model/_logistic.py:1247: FutureWarning: 'multi_class' was deprecated in version 1.5 and will be removed in 1.7. From then on, it will always use 'multinomial'. Leave it to its default value to avoid this warning.\n  warnings.warn(\n"
          ]
        },
        {
          "output_type": "stream",
          "name": "stdout",
          "text": [
            "LR-Hellinger OOF: 1.100540 | C=8.0\n"
          ]
        },
        {
          "output_type": "stream",
          "name": "stderr",
          "text": [
            "/usr/local/lib/python3.11/dist-packages/sklearn/linear_model/_logistic.py:1247: FutureWarning: 'multi_class' was deprecated in version 1.5 and will be removed in 1.7. From then on, it will always use 'multinomial'. Leave it to its default value to avoid this warning.\n  warnings.warn(\n"
          ]
        },
        {
          "output_type": "stream",
          "name": "stderr",
          "text": [
            "/usr/local/lib/python3.11/dist-packages/sklearn/linear_model/_logistic.py:1247: FutureWarning: 'multi_class' was deprecated in version 1.5 and will be removed in 1.7. From then on, it will always use 'multinomial'. Leave it to its default value to avoid this warning.\n  warnings.warn(\n"
          ]
        },
        {
          "output_type": "stream",
          "name": "stderr",
          "text": [
            "/usr/local/lib/python3.11/dist-packages/sklearn/linear_model/_logistic.py:1247: FutureWarning: 'multi_class' was deprecated in version 1.5 and will be removed in 1.7. From then on, it will always use 'multinomial'. Leave it to its default value to avoid this warning.\n  warnings.warn(\n"
          ]
        },
        {
          "output_type": "stream",
          "name": "stderr",
          "text": [
            "/usr/local/lib/python3.11/dist-packages/sklearn/linear_model/_logistic.py:1247: FutureWarning: 'multi_class' was deprecated in version 1.5 and will be removed in 1.7. From then on, it will always use 'multinomial'. Leave it to its default value to avoid this warning.\n  warnings.warn(\n"
          ]
        },
        {
          "output_type": "stream",
          "name": "stderr",
          "text": [
            "/usr/local/lib/python3.11/dist-packages/sklearn/linear_model/_logistic.py:1247: FutureWarning: 'multi_class' was deprecated in version 1.5 and will be removed in 1.7. From then on, it will always use 'multinomial'. Leave it to its default value to avoid this warning.\n  warnings.warn(\n"
          ]
        },
        {
          "output_type": "stream",
          "name": "stderr",
          "text": [
            "/usr/local/lib/python3.11/dist-packages/sklearn/linear_model/_logistic.py:1247: FutureWarning: 'multi_class' was deprecated in version 1.5 and will be removed in 1.7. From then on, it will always use 'multinomial'. Leave it to its default value to avoid this warning.\n  warnings.warn(\n"
          ]
        },
        {
          "output_type": "stream",
          "name": "stdout",
          "text": [
            "LR-Hellinger OOF: 0.870645 | C=12.0\n"
          ]
        },
        {
          "output_type": "stream",
          "name": "stderr",
          "text": [
            "/usr/local/lib/python3.11/dist-packages/sklearn/linear_model/_logistic.py:1247: FutureWarning: 'multi_class' was deprecated in version 1.5 and will be removed in 1.7. From then on, it will always use 'multinomial'. Leave it to its default value to avoid this warning.\n  warnings.warn(\n"
          ]
        },
        {
          "output_type": "stream",
          "name": "stderr",
          "text": [
            "/usr/local/lib/python3.11/dist-packages/sklearn/linear_model/_logistic.py:1247: FutureWarning: 'multi_class' was deprecated in version 1.5 and will be removed in 1.7. From then on, it will always use 'multinomial'. Leave it to its default value to avoid this warning.\n  warnings.warn(\n"
          ]
        },
        {
          "output_type": "stream",
          "name": "stderr",
          "text": [
            "/usr/local/lib/python3.11/dist-packages/sklearn/linear_model/_logistic.py:1247: FutureWarning: 'multi_class' was deprecated in version 1.5 and will be removed in 1.7. From then on, it will always use 'multinomial'. Leave it to its default value to avoid this warning.\n  warnings.warn(\n"
          ]
        },
        {
          "output_type": "stream",
          "name": "stderr",
          "text": [
            "/usr/local/lib/python3.11/dist-packages/sklearn/linear_model/_logistic.py:1247: FutureWarning: 'multi_class' was deprecated in version 1.5 and will be removed in 1.7. From then on, it will always use 'multinomial'. Leave it to its default value to avoid this warning.\n  warnings.warn(\n"
          ]
        },
        {
          "output_type": "stream",
          "name": "stderr",
          "text": [
            "/usr/local/lib/python3.11/dist-packages/sklearn/linear_model/_logistic.py:1247: FutureWarning: 'multi_class' was deprecated in version 1.5 and will be removed in 1.7. From then on, it will always use 'multinomial'. Leave it to its default value to avoid this warning.\n  warnings.warn(\n"
          ]
        },
        {
          "output_type": "stream",
          "name": "stderr",
          "text": [
            "/usr/local/lib/python3.11/dist-packages/sklearn/linear_model/_logistic.py:1247: FutureWarning: 'multi_class' was deprecated in version 1.5 and will be removed in 1.7. From then on, it will always use 'multinomial'. Leave it to its default value to avoid this warning.\n  warnings.warn(\n"
          ]
        },
        {
          "output_type": "stream",
          "name": "stdout",
          "text": [
            "LR-Hellinger OOF: 0.655639 | C=20.0\n"
          ]
        },
        {
          "output_type": "stream",
          "name": "stderr",
          "text": [
            "/usr/local/lib/python3.11/dist-packages/sklearn/linear_model/_logistic.py:1247: FutureWarning: 'multi_class' was deprecated in version 1.5 and will be removed in 1.7. From then on, it will always use 'multinomial'. Leave it to its default value to avoid this warning.\n  warnings.warn(\n"
          ]
        },
        {
          "output_type": "stream",
          "name": "stderr",
          "text": [
            "/usr/local/lib/python3.11/dist-packages/sklearn/linear_model/_logistic.py:1247: FutureWarning: 'multi_class' was deprecated in version 1.5 and will be removed in 1.7. From then on, it will always use 'multinomial'. Leave it to its default value to avoid this warning.\n  warnings.warn(\n"
          ]
        },
        {
          "output_type": "stream",
          "name": "stderr",
          "text": [
            "/usr/local/lib/python3.11/dist-packages/sklearn/linear_model/_logistic.py:1247: FutureWarning: 'multi_class' was deprecated in version 1.5 and will be removed in 1.7. From then on, it will always use 'multinomial'. Leave it to its default value to avoid this warning.\n  warnings.warn(\n"
          ]
        },
        {
          "output_type": "stream",
          "name": "stderr",
          "text": [
            "/usr/local/lib/python3.11/dist-packages/sklearn/linear_model/_logistic.py:1247: FutureWarning: 'multi_class' was deprecated in version 1.5 and will be removed in 1.7. From then on, it will always use 'multinomial'. Leave it to its default value to avoid this warning.\n  warnings.warn(\n"
          ]
        },
        {
          "output_type": "stream",
          "name": "stderr",
          "text": [
            "/usr/local/lib/python3.11/dist-packages/sklearn/linear_model/_logistic.py:1247: FutureWarning: 'multi_class' was deprecated in version 1.5 and will be removed in 1.7. From then on, it will always use 'multinomial'. Leave it to its default value to avoid this warning.\n  warnings.warn(\n"
          ]
        },
        {
          "output_type": "stream",
          "name": "stderr",
          "text": [
            "/usr/local/lib/python3.11/dist-packages/sklearn/linear_model/_logistic.py:1247: FutureWarning: 'multi_class' was deprecated in version 1.5 and will be removed in 1.7. From then on, it will always use 'multinomial'. Leave it to its default value to avoid this warning.\n  warnings.warn(\n"
          ]
        },
        {
          "output_type": "stream",
          "name": "stdout",
          "text": [
            "LR-Hellinger OOF: 0.526478 | C=30.0\n"
          ]
        },
        {
          "output_type": "stream",
          "name": "stderr",
          "text": [
            "/usr/local/lib/python3.11/dist-packages/sklearn/linear_model/_logistic.py:1247: FutureWarning: 'multi_class' was deprecated in version 1.5 and will be removed in 1.7. From then on, it will always use 'multinomial'. Leave it to its default value to avoid this warning.\n  warnings.warn(\n"
          ]
        },
        {
          "output_type": "stream",
          "name": "stderr",
          "text": [
            "/usr/local/lib/python3.11/dist-packages/sklearn/linear_model/_logistic.py:1247: FutureWarning: 'multi_class' was deprecated in version 1.5 and will be removed in 1.7. From then on, it will always use 'multinomial'. Leave it to its default value to avoid this warning.\n  warnings.warn(\n"
          ]
        },
        {
          "output_type": "stream",
          "name": "stderr",
          "text": [
            "/usr/local/lib/python3.11/dist-packages/sklearn/linear_model/_logistic.py:1247: FutureWarning: 'multi_class' was deprecated in version 1.5 and will be removed in 1.7. From then on, it will always use 'multinomial'. Leave it to its default value to avoid this warning.\n  warnings.warn(\n"
          ]
        },
        {
          "output_type": "stream",
          "name": "stderr",
          "text": [
            "/usr/local/lib/python3.11/dist-packages/sklearn/linear_model/_logistic.py:1247: FutureWarning: 'multi_class' was deprecated in version 1.5 and will be removed in 1.7. From then on, it will always use 'multinomial'. Leave it to its default value to avoid this warning.\n  warnings.warn(\n"
          ]
        },
        {
          "output_type": "stream",
          "name": "stderr",
          "text": [
            "/usr/local/lib/python3.11/dist-packages/sklearn/linear_model/_logistic.py:1247: FutureWarning: 'multi_class' was deprecated in version 1.5 and will be removed in 1.7. From then on, it will always use 'multinomial'. Leave it to its default value to avoid this warning.\n  warnings.warn(\n"
          ]
        },
        {
          "output_type": "stream",
          "name": "stderr",
          "text": [
            "/usr/local/lib/python3.11/dist-packages/sklearn/linear_model/_logistic.py:1247: FutureWarning: 'multi_class' was deprecated in version 1.5 and will be removed in 1.7. From then on, it will always use 'multinomial'. Leave it to its default value to avoid this warning.\n  warnings.warn(\n"
          ]
        },
        {
          "output_type": "stream",
          "name": "stdout",
          "text": [
            "LR-Hellinger OOF: 0.410351 | C=50.0\nBest LR-Hellinger: ((50.0,), 0.4103505254965633)\n"
          ]
        },
        {
          "output_type": "stream",
          "name": "stderr",
          "text": [
            "/usr/local/lib/python3.11/dist-packages/sklearn/linear_model/_logistic.py:1247: FutureWarning: 'multi_class' was deprecated in version 1.5 and will be removed in 1.7. From then on, it will always use 'multinomial'. Leave it to its default value to avoid this warning.\n  warnings.warn(\n"
          ]
        },
        {
          "output_type": "stream",
          "name": "stderr",
          "text": [
            "/usr/local/lib/python3.11/dist-packages/sklearn/linear_model/_logistic.py:1247: FutureWarning: 'multi_class' was deprecated in version 1.5 and will be removed in 1.7. From then on, it will always use 'multinomial'. Leave it to its default value to avoid this warning.\n  warnings.warn(\n"
          ]
        },
        {
          "output_type": "stream",
          "name": "stderr",
          "text": [
            "/usr/local/lib/python3.11/dist-packages/sklearn/linear_model/_logistic.py:1247: FutureWarning: 'multi_class' was deprecated in version 1.5 and will be removed in 1.7. From then on, it will always use 'multinomial'. Leave it to its default value to avoid this warning.\n  warnings.warn(\n"
          ]
        },
        {
          "output_type": "stream",
          "name": "stderr",
          "text": [
            "/usr/local/lib/python3.11/dist-packages/sklearn/linear_model/_logistic.py:1247: FutureWarning: 'multi_class' was deprecated in version 1.5 and will be removed in 1.7. From then on, it will always use 'multinomial'. Leave it to its default value to avoid this warning.\n  warnings.warn(\n"
          ]
        },
        {
          "output_type": "stream",
          "name": "stderr",
          "text": [
            "/usr/local/lib/python3.11/dist-packages/sklearn/linear_model/_logistic.py:1247: FutureWarning: 'multi_class' was deprecated in version 1.5 and will be removed in 1.7. From then on, it will always use 'multinomial'. Leave it to its default value to avoid this warning.\n  warnings.warn(\n"
          ]
        },
        {
          "output_type": "stream",
          "name": "stderr",
          "text": [
            "/usr/local/lib/python3.11/dist-packages/sklearn/linear_model/_logistic.py:1247: FutureWarning: 'multi_class' was deprecated in version 1.5 and will be removed in 1.7. From then on, it will always use 'multinomial'. Leave it to its default value to avoid this warning.\n  warnings.warn(\n"
          ]
        },
        {
          "output_type": "stream",
          "name": "stdout",
          "text": [
            "LR-Quantile OOF: 0.111609 | C=10.0\n"
          ]
        },
        {
          "output_type": "stream",
          "name": "stderr",
          "text": [
            "/usr/local/lib/python3.11/dist-packages/sklearn/linear_model/_logistic.py:1247: FutureWarning: 'multi_class' was deprecated in version 1.5 and will be removed in 1.7. From then on, it will always use 'multinomial'. Leave it to its default value to avoid this warning.\n  warnings.warn(\n"
          ]
        },
        {
          "output_type": "stream",
          "name": "stderr",
          "text": [
            "/usr/local/lib/python3.11/dist-packages/sklearn/linear_model/_logistic.py:1247: FutureWarning: 'multi_class' was deprecated in version 1.5 and will be removed in 1.7. From then on, it will always use 'multinomial'. Leave it to its default value to avoid this warning.\n  warnings.warn(\n"
          ]
        },
        {
          "output_type": "stream",
          "name": "stderr",
          "text": [
            "/usr/local/lib/python3.11/dist-packages/sklearn/linear_model/_logistic.py:1247: FutureWarning: 'multi_class' was deprecated in version 1.5 and will be removed in 1.7. From then on, it will always use 'multinomial'. Leave it to its default value to avoid this warning.\n  warnings.warn(\n"
          ]
        },
        {
          "output_type": "stream",
          "name": "stderr",
          "text": [
            "/usr/local/lib/python3.11/dist-packages/sklearn/linear_model/_logistic.py:1247: FutureWarning: 'multi_class' was deprecated in version 1.5 and will be removed in 1.7. From then on, it will always use 'multinomial'. Leave it to its default value to avoid this warning.\n  warnings.warn(\n"
          ]
        },
        {
          "output_type": "stream",
          "name": "stderr",
          "text": [
            "/usr/local/lib/python3.11/dist-packages/sklearn/linear_model/_logistic.py:1247: FutureWarning: 'multi_class' was deprecated in version 1.5 and will be removed in 1.7. From then on, it will always use 'multinomial'. Leave it to its default value to avoid this warning.\n  warnings.warn(\n"
          ]
        },
        {
          "output_type": "stream",
          "name": "stderr",
          "text": [
            "/usr/local/lib/python3.11/dist-packages/sklearn/linear_model/_logistic.py:1247: FutureWarning: 'multi_class' was deprecated in version 1.5 and will be removed in 1.7. From then on, it will always use 'multinomial'. Leave it to its default value to avoid this warning.\n  warnings.warn(\n"
          ]
        },
        {
          "output_type": "stream",
          "name": "stdout",
          "text": [
            "LR-Quantile OOF: 0.096319 | C=30.0\n"
          ]
        },
        {
          "output_type": "stream",
          "name": "stderr",
          "text": [
            "/usr/local/lib/python3.11/dist-packages/sklearn/linear_model/_logistic.py:1247: FutureWarning: 'multi_class' was deprecated in version 1.5 and will be removed in 1.7. From then on, it will always use 'multinomial'. Leave it to its default value to avoid this warning.\n  warnings.warn(\n"
          ]
        },
        {
          "output_type": "stream",
          "name": "stderr",
          "text": [
            "/usr/local/lib/python3.11/dist-packages/sklearn/linear_model/_logistic.py:1247: FutureWarning: 'multi_class' was deprecated in version 1.5 and will be removed in 1.7. From then on, it will always use 'multinomial'. Leave it to its default value to avoid this warning.\n  warnings.warn(\n"
          ]
        },
        {
          "output_type": "stream",
          "name": "stderr",
          "text": [
            "/usr/local/lib/python3.11/dist-packages/sklearn/linear_model/_logistic.py:1247: FutureWarning: 'multi_class' was deprecated in version 1.5 and will be removed in 1.7. From then on, it will always use 'multinomial'. Leave it to its default value to avoid this warning.\n  warnings.warn(\n"
          ]
        },
        {
          "output_type": "stream",
          "name": "stderr",
          "text": [
            "/usr/local/lib/python3.11/dist-packages/sklearn/linear_model/_logistic.py:1247: FutureWarning: 'multi_class' was deprecated in version 1.5 and will be removed in 1.7. From then on, it will always use 'multinomial'. Leave it to its default value to avoid this warning.\n  warnings.warn(\n"
          ]
        },
        {
          "output_type": "stream",
          "name": "stderr",
          "text": [
            "/usr/local/lib/python3.11/dist-packages/sklearn/linear_model/_logistic.py:1247: FutureWarning: 'multi_class' was deprecated in version 1.5 and will be removed in 1.7. From then on, it will always use 'multinomial'. Leave it to its default value to avoid this warning.\n  warnings.warn(\n"
          ]
        },
        {
          "output_type": "stream",
          "name": "stderr",
          "text": [
            "/usr/local/lib/python3.11/dist-packages/sklearn/linear_model/_logistic.py:1247: FutureWarning: 'multi_class' was deprecated in version 1.5 and will be removed in 1.7. From then on, it will always use 'multinomial'. Leave it to its default value to avoid this warning.\n  warnings.warn(\n"
          ]
        },
        {
          "output_type": "stream",
          "name": "stdout",
          "text": [
            "LR-Quantile OOF: 0.092994 | C=60.0\n"
          ]
        },
        {
          "output_type": "stream",
          "name": "stderr",
          "text": [
            "/usr/local/lib/python3.11/dist-packages/sklearn/linear_model/_logistic.py:1247: FutureWarning: 'multi_class' was deprecated in version 1.5 and will be removed in 1.7. From then on, it will always use 'multinomial'. Leave it to its default value to avoid this warning.\n  warnings.warn(\n"
          ]
        },
        {
          "output_type": "stream",
          "name": "stderr",
          "text": [
            "/usr/local/lib/python3.11/dist-packages/sklearn/linear_model/_logistic.py:1247: FutureWarning: 'multi_class' was deprecated in version 1.5 and will be removed in 1.7. From then on, it will always use 'multinomial'. Leave it to its default value to avoid this warning.\n  warnings.warn(\n"
          ]
        },
        {
          "output_type": "stream",
          "name": "stderr",
          "text": [
            "/usr/local/lib/python3.11/dist-packages/sklearn/linear_model/_logistic.py:1247: FutureWarning: 'multi_class' was deprecated in version 1.5 and will be removed in 1.7. From then on, it will always use 'multinomial'. Leave it to its default value to avoid this warning.\n  warnings.warn(\n"
          ]
        },
        {
          "output_type": "stream",
          "name": "stderr",
          "text": [
            "/usr/local/lib/python3.11/dist-packages/sklearn/linear_model/_logistic.py:1247: FutureWarning: 'multi_class' was deprecated in version 1.5 and will be removed in 1.7. From then on, it will always use 'multinomial'. Leave it to its default value to avoid this warning.\n  warnings.warn(\n"
          ]
        },
        {
          "output_type": "stream",
          "name": "stderr",
          "text": [
            "/usr/local/lib/python3.11/dist-packages/sklearn/linear_model/_logistic.py:1247: FutureWarning: 'multi_class' was deprecated in version 1.5 and will be removed in 1.7. From then on, it will always use 'multinomial'. Leave it to its default value to avoid this warning.\n  warnings.warn(\n"
          ]
        },
        {
          "output_type": "stream",
          "name": "stderr",
          "text": [
            "/usr/local/lib/python3.11/dist-packages/sklearn/linear_model/_logistic.py:1247: FutureWarning: 'multi_class' was deprecated in version 1.5 and will be removed in 1.7. From then on, it will always use 'multinomial'. Leave it to its default value to avoid this warning.\n  warnings.warn(\n"
          ]
        },
        {
          "output_type": "stream",
          "name": "stdout",
          "text": [
            "LR-Quantile OOF: 0.092544 | C=100.0\nBest LR-Quantile: ((100.0,), 0.09254423017942547)\nKNN-cosine OOF: 3.333709 | k=1, weights=distance\n"
          ]
        },
        {
          "output_type": "stream",
          "name": "stdout",
          "text": [
            "KNN-cosine OOF: 3.333709 | k=1, weights=uniform\nKNN-cosine OOF: 1.741756 | k=3, weights=distance\nKNN-cosine OOF: 1.772478 | k=3, weights=uniform\n"
          ]
        },
        {
          "output_type": "stream",
          "name": "stdout",
          "text": [
            "KNN-cosine OOF: 1.404837 | k=5, weights=distance\nKNN-cosine OOF: 1.476497 | k=5, weights=uniform\nKNN-cosine OOF: 1.364209 | k=7, weights=distance\n"
          ]
        },
        {
          "output_type": "stream",
          "name": "stdout",
          "text": [
            "KNN-cosine OOF: 1.480876 | k=7, weights=uniform\nBest KNN-cosine: ((7, 'distance'), 1.3642091332998065)\n"
          ]
        },
        {
          "output_type": "stream",
          "name": "stdout",
          "text": [
            "Blend search tried 269 combos. Best OOF 0.048535 with weights: {'lr_base': 1.0, 'lr_hell': 0.0, 'lr_quant': 0.0, 'knn_cos': 0.0}\nSaved submission.csv (enhanced blend) with shape (99, 100)\n"
          ]
        }
      ]
    },
    {
      "id": "7dd821eb-c15a-4bd8-af10-1c609a9029f9",
      "cell_type": "code",
      "metadata": {},
      "source": [
        "# LightGBM multiclass (regularized) with 6-fold CV, then blend with LR(no-PCA)\n",
        "import time, json, sys, subprocess, importlib\n",
        "import numpy as np\n",
        "import pandas as pd\n",
        "from sklearn.metrics import log_loss\n",
        "\n",
        "def ensure_lightgbm():\n",
        "    try:\n",
        "        import lightgbm as lgb\n",
        "        return lgb\n",
        "    except Exception:\n",
        "        print('Installing lightgbm...')\n",
        "        subprocess.run([sys.executable, '-m', 'pip', 'install', '-q', 'lightgbm'], check=True)\n",
        "        import lightgbm as lgb\n",
        "        return lgb\n",
        "\n",
        "lgb = ensure_lightgbm()\n",
        "\n",
        "SEED = 2025\n",
        "X = train[feature_cols].values.astype(np.float32)\n",
        "X_test = test[feature_cols].values.astype(np.float32)\n",
        "y_idx = y_enc.astype(np.int32)\n",
        "num_classes = len(le.classes_)\n",
        "with open('folds_6.json', 'r') as f:\n",
        "    fold_indices = json.load(f)\n",
        "n_splits = len(fold_indices)\n",
        "\n",
        "params = {\n",
        "    'objective': 'multiclass',\n",
        "    'num_class': num_classes,\n",
        "    'metric': 'multi_logloss',\n",
        "    'learning_rate': 0.05,\n",
        "    'num_leaves': 12,\n",
        "    'max_depth': 4,\n",
        "    'min_data_in_leaf': 50,\n",
        "    'feature_fraction': 0.8,\n",
        "    'bagging_fraction': 0.8,\n",
        "    'bagging_freq': 1,\n",
        "    'lambda_l2': 3.0,\n",
        "    'verbosity': -1,\n",
        "    'seed': SEED,\n",
        "}\n",
        "\n",
        "oof = np.zeros((len(X), num_classes), dtype=np.float32)\n",
        "test_pred = np.zeros((len(X_test), num_classes), dtype=np.float32)\n",
        "fold_times = []\n",
        "t0 = time.time()\n",
        "for i, (trn_idx, val_idx) in enumerate(fold_indices, 1):\n",
        "    fstart = time.time()\n",
        "    trn_idx = np.array(trn_idx); val_idx = np.array(val_idx)\n",
        "    X_tr, X_va = X[trn_idx], X[val_idx]\n",
        "    y_tr, y_va = y_idx[trn_idx], y_idx[val_idx]\n",
        "    dtrain = lgb.Dataset(X_tr, label=y_tr, free_raw_data=True)\n",
        "    dvalid = lgb.Dataset(X_va, label=y_va, free_raw_data=True)\n",
        "    clf = lgb.train(\n",
        "        params,\n",
        "        dtrain,\n",
        "        num_boost_round=4000,\n",
        "        valid_sets=[dvalid],\n",
        "        valid_names=['valid'],\n",
        "        callbacks=[\n",
        "            lgb.early_stopping(stopping_rounds=100, verbose=False),\n",
        "            lgb.log_evaluation(period=100)\n",
        "        ]\n",
        "    )\n",
        "    va_proba = clf.predict(X_va, num_iteration=clf.best_iteration)\n",
        "    oof[val_idx] = va_proba\n",
        "    test_pred += clf.predict(X_test, num_iteration=clf.best_iteration) / n_splits\n",
        "    ll = log_loss(y_va, np.clip(va_proba, 1e-15, 1-1e-15), labels=list(range(num_classes)))\n",
        "    et = time.time()-fstart; fold_times.append(et)\n",
        "    print(f'[LGBM fold {i}/{n_splits}] best_iter={clf.best_iteration}, val logloss={ll:.6f}, time={et:.2f}s', flush=True)\n",
        "\n",
        "oof_ll = log_loss(y_idx, np.clip(oof, 1e-15, 1-1e-15), labels=list(range(num_classes)))\n",
        "print(f'LGBM OOF logloss: {oof_ll:.6f}; avg fold time {np.mean(fold_times):.2f}s; total {time.time()-t0:.2f}s')\n",
        "np.save('oof_lgbm.npy', oof)\n",
        "np.save('test_pred_lgbm.npy', test_pred)\n",
        "\n",
        "# Blend LR(no-PCA) + LGBM\n",
        "base_lr_oof = np.load('oof_logreg_nopca.npy')\n",
        "base_lr_test = np.load('test_pred_logreg_nopca.npy')\n",
        "\n",
        "def clip_norm(p):\n",
        "    p = np.clip(p, 1e-15, 1-1e-15)\n",
        "    p = p / p.sum(axis=1, keepdims=True)\n",
        "    return p\n",
        "\n",
        "best = (None, 1e9)\n",
        "for w in np.linspace(0.0, 1.0, 101):\n",
        "    P = clip_norm(w*oof + (1-w)*base_lr_oof)\n",
        "    ll = log_loss(y_idx, P, labels=list(range(num_classes)))\n",
        "    if ll < best[1]:\n",
        "        best = (w, ll)\n",
        "print(f'Best LR/LGBM blend w(LGBM)={best[0]:.2f}, OOF={best[1]:.6f}')\n",
        "\n",
        "w = best[0]\n",
        "Ptest = clip_norm(w*test_pred + (1-w)*base_lr_test)\n",
        "pred_df = pd.DataFrame(Ptest, columns=list(le.classes_))\n",
        "sub_cols = [c for c in sample_sub.columns if c != id_col]\n",
        "pred_df = pred_df[sub_cols]\n",
        "submission_lgb_blend = pd.concat([test[[id_col]].reset_index(drop=True), pred_df.reset_index(drop=True)], axis=1)\n",
        "submission_lgb_blend.to_csv('submission.csv', index=False)\n",
        "print('Saved submission.csv (LR/LGBM blend) with shape', submission_lgb_blend.shape)"
      ],
      "execution_count": 13,
      "outputs": [
        {
          "output_type": "stream",
          "name": "stdout",
          "text": [
            "[100]\tvalid's multi_logloss: 1.21609\n"
          ]
        },
        {
          "output_type": "stream",
          "name": "stdout",
          "text": [
            "[200]\tvalid's multi_logloss: 0.801358\n"
          ]
        },
        {
          "output_type": "stream",
          "name": "stdout",
          "text": [
            "[300]\tvalid's multi_logloss: 0.670667\n"
          ]
        },
        {
          "output_type": "stream",
          "name": "stdout",
          "text": [
            "[400]\tvalid's multi_logloss: 0.601268\n"
          ]
        },
        {
          "output_type": "stream",
          "name": "stdout",
          "text": [
            "[500]\tvalid's multi_logloss: 0.559564\n"
          ]
        },
        {
          "output_type": "stream",
          "name": "stdout",
          "text": [
            "[600]\tvalid's multi_logloss: 0.529244\n"
          ]
        },
        {
          "output_type": "stream",
          "name": "stdout",
          "text": [
            "[700]\tvalid's multi_logloss: 0.506776\n"
          ]
        },
        {
          "output_type": "stream",
          "name": "stdout",
          "text": [
            "[800]\tvalid's multi_logloss: 0.488946\n"
          ]
        },
        {
          "output_type": "stream",
          "name": "stdout",
          "text": [
            "[900]\tvalid's multi_logloss: 0.473848\n"
          ]
        },
        {
          "output_type": "stream",
          "name": "stdout",
          "text": [
            "[1000]\tvalid's multi_logloss: 0.461656\n"
          ]
        },
        {
          "output_type": "stream",
          "name": "stdout",
          "text": [
            "[1100]\tvalid's multi_logloss: 0.452044\n"
          ]
        },
        {
          "output_type": "stream",
          "name": "stdout",
          "text": [
            "[1200]\tvalid's multi_logloss: 0.442789\n"
          ]
        },
        {
          "output_type": "stream",
          "name": "stdout",
          "text": [
            "[1300]\tvalid's multi_logloss: 0.434797\n"
          ]
        },
        {
          "output_type": "stream",
          "name": "stdout",
          "text": [
            "[1400]\tvalid's multi_logloss: 0.427845\n"
          ]
        },
        {
          "output_type": "stream",
          "name": "stdout",
          "text": [
            "[1500]\tvalid's multi_logloss: 0.421372\n"
          ]
        },
        {
          "output_type": "stream",
          "name": "stdout",
          "text": [
            "[1600]\tvalid's multi_logloss: 0.415434\n"
          ]
        },
        {
          "output_type": "stream",
          "name": "stdout",
          "text": [
            "[1700]\tvalid's multi_logloss: 0.410062\n"
          ]
        },
        {
          "output_type": "stream",
          "name": "stdout",
          "text": [
            "[1800]\tvalid's multi_logloss: 0.405123\n"
          ]
        },
        {
          "output_type": "stream",
          "name": "stdout",
          "text": [
            "[1900]\tvalid's multi_logloss: 0.400388\n"
          ]
        },
        {
          "output_type": "stream",
          "name": "stdout",
          "text": [
            "[2000]\tvalid's multi_logloss: 0.396088\n"
          ]
        },
        {
          "output_type": "stream",
          "name": "stdout",
          "text": [
            "[2100]\tvalid's multi_logloss: 0.392144\n"
          ]
        },
        {
          "output_type": "stream",
          "name": "stdout",
          "text": [
            "[2200]\tvalid's multi_logloss: 0.388636\n"
          ]
        },
        {
          "output_type": "stream",
          "name": "stdout",
          "text": [
            "[2300]\tvalid's multi_logloss: 0.38532\n"
          ]
        },
        {
          "output_type": "stream",
          "name": "stdout",
          "text": [
            "[2400]\tvalid's multi_logloss: 0.38199\n"
          ]
        },
        {
          "output_type": "stream",
          "name": "stdout",
          "text": [
            "[2500]\tvalid's multi_logloss: 0.378917\n"
          ]
        },
        {
          "output_type": "stream",
          "name": "stdout",
          "text": [
            "[2600]\tvalid's multi_logloss: 0.376092\n"
          ]
        },
        {
          "output_type": "stream",
          "name": "stdout",
          "text": [
            "[2700]\tvalid's multi_logloss: 0.373402\n"
          ]
        },
        {
          "output_type": "stream",
          "name": "stdout",
          "text": [
            "[2800]\tvalid's multi_logloss: 0.370764\n"
          ]
        },
        {
          "output_type": "stream",
          "name": "stdout",
          "text": [
            "[2900]\tvalid's multi_logloss: 0.368411\n"
          ]
        },
        {
          "output_type": "stream",
          "name": "stdout",
          "text": [
            "[3000]\tvalid's multi_logloss: 0.366098\n"
          ]
        },
        {
          "output_type": "stream",
          "name": "stdout",
          "text": [
            "[3100]\tvalid's multi_logloss: 0.363995\n"
          ]
        },
        {
          "output_type": "stream",
          "name": "stdout",
          "text": [
            "[3200]\tvalid's multi_logloss: 0.36185\n"
          ]
        },
        {
          "output_type": "stream",
          "name": "stdout",
          "text": [
            "[3300]\tvalid's multi_logloss: 0.35975\n"
          ]
        },
        {
          "output_type": "stream",
          "name": "stdout",
          "text": [
            "[3400]\tvalid's multi_logloss: 0.357711\n"
          ]
        },
        {
          "output_type": "stream",
          "name": "stdout",
          "text": [
            "[3500]\tvalid's multi_logloss: 0.355862\n"
          ]
        },
        {
          "output_type": "stream",
          "name": "stdout",
          "text": [
            "[3600]\tvalid's multi_logloss: 0.354061\n"
          ]
        },
        {
          "output_type": "stream",
          "name": "stdout",
          "text": [
            "[3700]\tvalid's multi_logloss: 0.352326\n"
          ]
        },
        {
          "output_type": "stream",
          "name": "stdout",
          "text": [
            "[3800]\tvalid's multi_logloss: 0.350745\n"
          ]
        },
        {
          "output_type": "stream",
          "name": "stdout",
          "text": [
            "[3900]\tvalid's multi_logloss: 0.349163\n"
          ]
        },
        {
          "output_type": "stream",
          "name": "stdout",
          "text": [
            "[4000]\tvalid's multi_logloss: 0.347698\n"
          ]
        },
        {
          "output_type": "stream",
          "name": "stdout",
          "text": [
            "[LGBM fold 1/6] best_iter=4000, val logloss=0.347698, time=98.88s\n"
          ]
        },
        {
          "output_type": "stream",
          "name": "stdout",
          "text": [
            "[100]\tvalid's multi_logloss: 1.14827\n"
          ]
        },
        {
          "output_type": "stream",
          "name": "stdout",
          "text": [
            "[200]\tvalid's multi_logloss: 0.716298\n"
          ]
        },
        {
          "output_type": "stream",
          "name": "stdout",
          "text": [
            "[300]\tvalid's multi_logloss: 0.58098\n"
          ]
        },
        {
          "output_type": "stream",
          "name": "stdout",
          "text": [
            "[400]\tvalid's multi_logloss: 0.509943\n"
          ]
        },
        {
          "output_type": "stream",
          "name": "stdout",
          "text": [
            "[500]\tvalid's multi_logloss: 0.465258\n"
          ]
        },
        {
          "output_type": "stream",
          "name": "stdout",
          "text": [
            "[600]\tvalid's multi_logloss: 0.433126\n"
          ]
        },
        {
          "output_type": "stream",
          "name": "stdout",
          "text": [
            "[700]\tvalid's multi_logloss: 0.409655\n"
          ]
        },
        {
          "output_type": "stream",
          "name": "stdout",
          "text": [
            "[800]\tvalid's multi_logloss: 0.391581\n"
          ]
        },
        {
          "output_type": "stream",
          "name": "stdout",
          "text": [
            "[900]\tvalid's multi_logloss: 0.376572\n"
          ]
        },
        {
          "output_type": "stream",
          "name": "stdout",
          "text": [
            "[1000]\tvalid's multi_logloss: 0.3638\n"
          ]
        },
        {
          "output_type": "stream",
          "name": "stdout",
          "text": [
            "[1100]\tvalid's multi_logloss: 0.352584\n"
          ]
        },
        {
          "output_type": "stream",
          "name": "stdout",
          "text": [
            "[1200]\tvalid's multi_logloss: 0.342951\n"
          ]
        },
        {
          "output_type": "stream",
          "name": "stdout",
          "text": [
            "[1300]\tvalid's multi_logloss: 0.334788\n"
          ]
        },
        {
          "output_type": "stream",
          "name": "stdout",
          "text": [
            "[1400]\tvalid's multi_logloss: 0.327118\n"
          ]
        },
        {
          "output_type": "stream",
          "name": "stdout",
          "text": [
            "[1500]\tvalid's multi_logloss: 0.320596\n"
          ]
        },
        {
          "output_type": "stream",
          "name": "stdout",
          "text": [
            "[1600]\tvalid's multi_logloss: 0.314665\n"
          ]
        },
        {
          "output_type": "stream",
          "name": "stdout",
          "text": [
            "[1700]\tvalid's multi_logloss: 0.309208\n"
          ]
        },
        {
          "output_type": "stream",
          "name": "stdout",
          "text": [
            "[1800]\tvalid's multi_logloss: 0.304119\n"
          ]
        },
        {
          "output_type": "stream",
          "name": "stdout",
          "text": [
            "[1900]\tvalid's multi_logloss: 0.299458\n"
          ]
        },
        {
          "output_type": "stream",
          "name": "stdout",
          "text": [
            "[2000]\tvalid's multi_logloss: 0.295145\n"
          ]
        },
        {
          "output_type": "stream",
          "name": "stdout",
          "text": [
            "[2100]\tvalid's multi_logloss: 0.291122\n"
          ]
        },
        {
          "output_type": "stream",
          "name": "stdout",
          "text": [
            "[2200]\tvalid's multi_logloss: 0.287328\n"
          ]
        },
        {
          "output_type": "stream",
          "name": "stdout",
          "text": [
            "[2300]\tvalid's multi_logloss: 0.283812\n"
          ]
        },
        {
          "output_type": "stream",
          "name": "stdout",
          "text": [
            "[2400]\tvalid's multi_logloss: 0.280413\n"
          ]
        },
        {
          "output_type": "stream",
          "name": "stdout",
          "text": [
            "[2500]\tvalid's multi_logloss: 0.277331\n"
          ]
        },
        {
          "output_type": "stream",
          "name": "stdout",
          "text": [
            "[2600]\tvalid's multi_logloss: 0.274425\n"
          ]
        },
        {
          "output_type": "stream",
          "name": "stdout",
          "text": [
            "[2700]\tvalid's multi_logloss: 0.271634\n"
          ]
        },
        {
          "output_type": "stream",
          "name": "stdout",
          "text": [
            "[2800]\tvalid's multi_logloss: 0.269012\n"
          ]
        },
        {
          "output_type": "stream",
          "name": "stdout",
          "text": [
            "[2900]\tvalid's multi_logloss: 0.266499\n"
          ]
        },
        {
          "output_type": "stream",
          "name": "stdout",
          "text": [
            "[3000]\tvalid's multi_logloss: 0.264164\n"
          ]
        },
        {
          "output_type": "stream",
          "name": "stdout",
          "text": [
            "[3100]\tvalid's multi_logloss: 0.261873\n"
          ]
        },
        {
          "output_type": "stream",
          "name": "stdout",
          "text": [
            "[3200]\tvalid's multi_logloss: 0.259677\n"
          ]
        },
        {
          "output_type": "stream",
          "name": "stdout",
          "text": [
            "[3300]\tvalid's multi_logloss: 0.257541\n"
          ]
        },
        {
          "output_type": "stream",
          "name": "stdout",
          "text": [
            "[3400]\tvalid's multi_logloss: 0.255571\n"
          ]
        },
        {
          "output_type": "stream",
          "name": "stdout",
          "text": [
            "[3500]\tvalid's multi_logloss: 0.253628\n"
          ]
        },
        {
          "output_type": "stream",
          "name": "stdout",
          "text": [
            "[3600]\tvalid's multi_logloss: 0.251786\n"
          ]
        },
        {
          "output_type": "stream",
          "name": "stdout",
          "text": [
            "[3700]\tvalid's multi_logloss: 0.250052\n"
          ]
        },
        {
          "output_type": "stream",
          "name": "stdout",
          "text": [
            "[3800]\tvalid's multi_logloss: 0.248423\n"
          ]
        },
        {
          "output_type": "stream",
          "name": "stdout",
          "text": [
            "[3900]\tvalid's multi_logloss: 0.246806\n"
          ]
        },
        {
          "output_type": "stream",
          "name": "stdout",
          "text": [
            "[4000]\tvalid's multi_logloss: 0.245272\n"
          ]
        },
        {
          "output_type": "stream",
          "name": "stdout",
          "text": [
            "[LGBM fold 2/6] best_iter=4000, val logloss=0.245272, time=95.48s\n"
          ]
        },
        {
          "output_type": "stream",
          "name": "stdout",
          "text": [
            "[100]\tvalid's multi_logloss: 1.10158\n"
          ]
        },
        {
          "output_type": "stream",
          "name": "stdout",
          "text": [
            "[200]\tvalid's multi_logloss: 0.684183\n"
          ]
        },
        {
          "output_type": "stream",
          "name": "stdout",
          "text": [
            "[300]\tvalid's multi_logloss: 0.555501\n"
          ]
        },
        {
          "output_type": "stream",
          "name": "stdout",
          "text": [
            "[400]\tvalid's multi_logloss: 0.486956\n"
          ]
        },
        {
          "output_type": "stream",
          "name": "stdout",
          "text": [
            "[500]\tvalid's multi_logloss: 0.446293\n"
          ]
        },
        {
          "output_type": "stream",
          "name": "stdout",
          "text": [
            "[600]\tvalid's multi_logloss: 0.417326\n"
          ]
        },
        {
          "output_type": "stream",
          "name": "stdout",
          "text": [
            "[700]\tvalid's multi_logloss: 0.395126\n"
          ]
        },
        {
          "output_type": "stream",
          "name": "stdout",
          "text": [
            "[800]\tvalid's multi_logloss: 0.377282\n"
          ]
        },
        {
          "output_type": "stream",
          "name": "stdout",
          "text": [
            "[900]\tvalid's multi_logloss: 0.362949\n"
          ]
        },
        {
          "output_type": "stream",
          "name": "stdout",
          "text": [
            "[1000]\tvalid's multi_logloss: 0.351115\n"
          ]
        },
        {
          "output_type": "stream",
          "name": "stdout",
          "text": [
            "[1100]\tvalid's multi_logloss: 0.340995\n"
          ]
        },
        {
          "output_type": "stream",
          "name": "stdout",
          "text": [
            "[1200]\tvalid's multi_logloss: 0.33245\n"
          ]
        },
        {
          "output_type": "stream",
          "name": "stdout",
          "text": [
            "[1300]\tvalid's multi_logloss: 0.325045\n"
          ]
        },
        {
          "output_type": "stream",
          "name": "stdout",
          "text": [
            "[1400]\tvalid's multi_logloss: 0.317979\n"
          ]
        },
        {
          "output_type": "stream",
          "name": "stdout",
          "text": [
            "[1500]\tvalid's multi_logloss: 0.311878\n"
          ]
        },
        {
          "output_type": "stream",
          "name": "stdout",
          "text": [
            "[1600]\tvalid's multi_logloss: 0.306247\n"
          ]
        },
        {
          "output_type": "stream",
          "name": "stdout",
          "text": [
            "[1700]\tvalid's multi_logloss: 0.30127\n"
          ]
        },
        {
          "output_type": "stream",
          "name": "stdout",
          "text": [
            "[1800]\tvalid's multi_logloss: 0.296726\n"
          ]
        },
        {
          "output_type": "stream",
          "name": "stdout",
          "text": [
            "[1900]\tvalid's multi_logloss: 0.292552\n"
          ]
        },
        {
          "output_type": "stream",
          "name": "stdout",
          "text": [
            "[2000]\tvalid's multi_logloss: 0.288671\n"
          ]
        },
        {
          "output_type": "stream",
          "name": "stdout",
          "text": [
            "[2100]\tvalid's multi_logloss: 0.284986\n"
          ]
        },
        {
          "output_type": "stream",
          "name": "stdout",
          "text": [
            "[2200]\tvalid's multi_logloss: 0.281553\n"
          ]
        },
        {
          "output_type": "stream",
          "name": "stdout",
          "text": [
            "[2300]\tvalid's multi_logloss: 0.278249\n"
          ]
        },
        {
          "output_type": "stream",
          "name": "stdout",
          "text": [
            "[2400]\tvalid's multi_logloss: 0.275178\n"
          ]
        },
        {
          "output_type": "stream",
          "name": "stdout",
          "text": [
            "[2500]\tvalid's multi_logloss: 0.272471\n"
          ]
        },
        {
          "output_type": "stream",
          "name": "stdout",
          "text": [
            "[2600]\tvalid's multi_logloss: 0.269799\n"
          ]
        },
        {
          "output_type": "stream",
          "name": "stdout",
          "text": [
            "[2700]\tvalid's multi_logloss: 0.267115\n"
          ]
        },
        {
          "output_type": "stream",
          "name": "stdout",
          "text": [
            "[2800]\tvalid's multi_logloss: 0.264637\n"
          ]
        },
        {
          "output_type": "stream",
          "name": "stdout",
          "text": [
            "[2900]\tvalid's multi_logloss: 0.26238\n"
          ]
        },
        {
          "output_type": "stream",
          "name": "stdout",
          "text": [
            "[3000]\tvalid's multi_logloss: 0.260268\n"
          ]
        }
      ]
    },
    {
      "id": "fc1fcafe-37d5-48b4-8dbc-1f3c97511ffa",
      "cell_type": "code",
      "metadata": {},
      "source": [
        "# Block-wise L1 -> sqrt (Hellinger) + LR, and AdditiveChi2Sampler + LinearSVC (calibrated) / LR\n",
        "import time, json, numpy as np, pandas as pd\n",
        "from sklearn.metrics import log_loss\n",
        "from sklearn.linear_model import LogisticRegression\n",
        "from sklearn.preprocessing import StandardScaler, MinMaxScaler\n",
        "from sklearn.svm import LinearSVC\n",
        "from sklearn.calibration import CalibratedClassifierCV\n",
        "from sklearn.kernel_approximation import AdditiveChi2Sampler\n",
        "\n",
        "SEED = 2025\n",
        "X_full = train[feature_cols].values.astype(np.float64)\n",
        "X_test_full = test[feature_cols].values.astype(np.float64)\n",
        "y_idx = y_enc.astype(int)\n",
        "num_classes = len(le.classes_)\n",
        "with open('folds_6.json', 'r') as f:\n",
        "    fold_indices = json.load(f)\n",
        "n_splits = len(fold_indices)\n",
        "\n",
        "# Define block indices (64 each): margin, shape, texture\n",
        "def get_blocks(cols):\n",
        "    margin_cols = [c for c in cols if c.startswith('margin')]\n",
        "    shape_cols = [c for c in cols if c.startswith('shape')]\n",
        "    texture_cols = [c for c in cols if c.startswith('texture')]\n",
        "    assert len(margin_cols)==64 and len(shape_cols)==64 and len(texture_cols)==64, 'Expected 64 cols per block'\n",
        "    m_idx = np.array([cols.index(c) for c in margin_cols])\n",
        "    s_idx = np.array([cols.index(c) for c in shape_cols])\n",
        "    t_idx = np.array([cols.index(c) for c in texture_cols])\n",
        "    return m_idx, s_idx, t_idx\n",
        "\n",
        "m_idx, s_idx, t_idx = get_blocks(feature_cols)\n",
        "\n",
        "def block_l1_sqrt(A):\n",
        "    A = np.clip(A, 0, None)\n",
        "    out = np.empty_like(A)\n",
        "    for idx in (m_idx, s_idx, t_idx):\n",
        "        B = A[:, idx]\n",
        "        denom = B.sum(axis=1, keepdims=True) + 1e-12\n",
        "        Bn = B / denom\n",
        "        out[:, idx] = np.sqrt(Bn)\n",
        "    return out\n",
        "\n",
        "def block_l1_only(A):\n",
        "    A = np.clip(A, 0, None)\n",
        "    out = np.empty_like(A)\n",
        "    for idx in (m_idx, s_idx, t_idx):\n",
        "        B = A[:, idx]\n",
        "        denom = B.sum(axis=1, keepdims=True) + 1e-12\n",
        "        out[:, idx] = B / denom\n",
        "    return out\n",
        "\n",
        "def clip_norm(p):\n",
        "    p = np.clip(p, 1e-15, 1-1e-15)\n",
        "    return p / p.sum(axis=1, keepdims=True)\n",
        "\n",
        "# A) Block-wise L1->sqrt (Hellinger) + optional per-block StandardScaler -> LogisticRegression\n",
        "def run_block_hell_lr(Cs=(10.0, 30.0, 100.0), use_block_scaler=False):\n",
        "    Xh = block_l1_sqrt(X_full)\n",
        "    Xh_test = block_l1_sqrt(X_test_full)\n",
        "    # If block scaler, standardize each block separately within folds\n",
        "    best = (None, 1e9); best_oof=None; best_test=None\n",
        "    for C in Cs:\n",
        "        oof = np.zeros((len(Xh), num_classes), dtype=np.float64)\n",
        "        test_pred = np.zeros((len(Xh_test), num_classes), dtype=np.float64)\n",
        "        t0 = time.time()\n",
        "        for i, (trn_idx, val_idx) in enumerate(fold_indices, 1):\n",
        "            trn_idx = np.array(trn_idx); val_idx = np.array(val_idx)\n",
        "            X_tr, X_va = Xh[trn_idx], Xh[val_idx]\n",
        "            X_te = Xh_test.copy()\n",
        "            if use_block_scaler:\n",
        "                for idx in (m_idx, s_idx, t_idx):\n",
        "                    sc = StandardScaler(with_mean=True, with_std=True)\n",
        "                    X_tr[:, idx] = sc.fit_transform(X_tr[:, idx])\n",
        "                    X_va[:, idx] = sc.transform(X_va[:, idx])\n",
        "                    X_te[:, idx] = sc.transform(X_te[:, idx])\n",
        "            clf = LogisticRegression(multi_class='multinomial', solver='lbfgs', C=C, max_iter=4000, random_state=SEED)\n",
        "            clf.fit(X_tr, y_idx[trn_idx])\n",
        "            va_proba = clf.predict_proba(X_va)\n",
        "            oof[val_idx] = va_proba\n",
        "            test_pred += clf.predict_proba(X_te) / n_splits\n",
        "            print(f'[BlkHell LR fold {i}/{n_splits}] C={C}, scaler={use_block_scaler}', flush=True)\n",
        "        oof_ll = log_loss(y_idx, clip_norm(oof), labels=list(range(num_classes)))\n",
        "        print(f'BlkHell LR OOF: {oof_ll:.6f} | C={C}, scaler={use_block_scaler} in {time.time()-t0:.2f}s', flush=True)\n",
        "        if oof_ll < best[1]:\n",
        "            best = ((C, use_block_scaler), oof_ll); best_oof=oof; best_test=test_pred\n",
        "    np.save('oof_block_hell_lr.npy', best_oof)\n",
        "    np.save('test_block_hell_lr.npy', best_test)\n",
        "    print('Best Block-Hellinger LR:', best)\n",
        "\n",
        "# B) AdditiveChi2Sampler pipeline -> StandardScaler(with_mean=False) -> LinearSVC + Platt scaling (sigmoid) with stronger optimization\n",
        "def run_chi2_linsvc(sample_steps=2, Cs=(0.5,1,2,4,8)):\n",
        "    Xn = block_l1_only(X_full)  # ensure histograms per block\n",
        "    Xn_test = block_l1_only(X_test_full)\n",
        "    Xn = np.clip(Xn, 0, None); Xn_test = np.clip(Xn_test, 0, None)\n",
        "    best = (None, 1e9); best_oof=None; best_test=None\n",
        "    for C in Cs:\n",
        "        oof = np.zeros((len(Xn), num_classes), dtype=np.float64)\n",
        "        test_pred = np.zeros((len(Xn_test), num_classes), dtype=np.float64)\n",
        "        t0 = time.time()\n",
        "        for i, (trn_idx, val_idx) in enumerate(fold_indices, 1):\n",
        "            trn_idx = np.array(trn_idx); val_idx = np.array(val_idx)\n",
        "            X_tr, X_va = Xn[trn_idx], Xn[val_idx]\n",
        "            chi2_fold = AdditiveChi2Sampler(sample_steps=sample_steps)\n",
        "            X_tr_c = chi2_fold.fit_transform(X_tr)\n",
        "            X_va_c = chi2_fold.transform(X_va)\n",
        "            X_te_c = chi2_fold.transform(Xn_test)\n",
        "            sc = StandardScaler(with_mean=False)\n",
        "            X_tr_c = sc.fit_transform(X_tr_c)\n",
        "            X_va_c = sc.transform(X_va_c)\n",
        "            X_te_c = sc.transform(X_te_c)\n",
        "            base = LinearSVC(C=C, dual='auto', max_iter=20000, tol=1e-4, random_state=SEED)\n",
        "            clf = CalibratedClassifierCV(base, method='sigmoid', cv=5)\n",
        "            clf.fit(X_tr_c, y_idx[trn_idx])\n",
        "            va_proba = clf.predict_proba(X_va_c)\n",
        "            oof[val_idx] = va_proba\n",
        "            test_pred += clf.predict_proba(X_te_c) / n_splits\n",
        "            print(f'[Chi2-LinSVC fold {i}/{n_splits}] C={C}, steps={sample_steps}', flush=True)\n",
        "        oof_ll = log_loss(y_idx, clip_norm(oof), labels=list(range(num_classes)))\n",
        "        print(f'Chi2-LinSVC OOF: {oof_ll:.6f} | C={C}, steps={sample_steps} in {time.time()-t0:.2f}s', flush=True)\n",
        "        if oof_ll < best[1]:\n",
        "            best = ((C, sample_steps), oof_ll); best_oof=oof; best_test=test_pred\n",
        "    np.save('oof_chi2_linsvc_cal.npy', best_oof)\n",
        "    np.save('test_chi2_linsvc_cal.npy', best_test)\n",
        "    print('Best Chi2-LinSVC:', best)\n",
        "\n",
        "# C) AdditiveChi2 features + LogisticRegression for diversity\n",
        "def run_chi2_lr(sample_steps=2, Cs=(50,100,200,500)):\n",
        "    Xn = block_l1_only(X_full)\n",
        "    Xn_test = block_l1_only(X_test_full)\n",
        "    Xn = np.clip(Xn, 0, None); Xn_test = np.clip(Xn_test, 0, None)\n",
        "    best = (None, 1e9); best_oof=None; best_test=None\n",
        "    for C in Cs:\n",
        "        oof = np.zeros((len(Xn), num_classes), dtype=np.float64)\n",
        "        test_pred = np.zeros((len(Xn_test), num_classes), dtype=np.float64)\n",
        "        t0 = time.time()\n",
        "        for i, (trn_idx, val_idx) in enumerate(fold_indices, 1):\n",
        "            trn_idx = np.array(trn_idx); val_idx = np.array(val_idx)\n",
        "            X_tr, X_va = Xn[trn_idx], Xn[val_idx]\n",
        "            chi2_fold = AdditiveChi2Sampler(sample_steps=sample_steps)\n",
        "            X_tr_c = chi2_fold.fit_transform(X_tr)\n",
        "            X_va_c = chi2_fold.transform(X_va)\n",
        "            X_te_c = chi2_fold.transform(Xn_test)\n",
        "            sc = StandardScaler(with_mean=False)\n",
        "            X_tr_c = sc.fit_transform(X_tr_c)\n",
        "            X_va_c = sc.transform(X_va_c)\n",
        "            X_te_c = sc.transform(X_te_c)\n",
        "            clf = LogisticRegression(multi_class='multinomial', solver='lbfgs', C=C, max_iter=4000, random_state=SEED)\n",
        "            clf.fit(X_tr_c, y_idx[trn_idx])\n",
        "            va_proba = clf.predict_proba(X_va_c)\n",
        "            oof[val_idx] = va_proba\n",
        "            test_pred += clf.predict_proba(X_te_c) / n_splits\n",
        "            print(f'[Chi2-LR fold {i}/{n_splits}] C={C}, steps={sample_steps}', flush=True)\n",
        "        oof_ll = log_loss(y_idx, clip_norm(oof), labels=list(range(num_classes)))\n",
        "        print(f'Chi2-LR OOF: {oof_ll:.6f} | C={C}, steps={sample_steps} in {time.time()-t0:.2f}s', flush=True)\n",
        "        if oof_ll < best[1]:\n",
        "            best = ((C, sample_steps), oof_ll); best_oof=oof; best_test=test_pred\n",
        "    np.save('oof_chi2_lr.npy', best_oof)\n",
        "    np.save('test_chi2_lr.npy', best_test)\n",
        "    print('Best Chi2-LR:', best)\n",
        "\n",
        "print('Prepared block-wise and Chi2 pipelines. Execute:')\n",
        "print('- run_block_hell_lr(Cs=(10.0,30.0,100.0), use_block_scaler=False)')\n",
        "print('- run_block_hell_lr(Cs=(10.0,30.0,100.0), use_block_scaler=True)')\n",
        "print('- run_chi2_linsvc(sample_steps=2, Cs=(0.5,1,2,4,8))')\n",
        "print('- run_chi2_linsvc(sample_steps=3, Cs=(0.5,1,2,4,8))')\n",
        "print('- run_chi2_lr(sample_steps=2, Cs=(50,100,200,500))')"
      ],
      "execution_count": 14,
      "outputs": [
        {
          "output_type": "stream",
          "name": "stdout",
          "text": [
            "Prepared block-wise and Chi2 pipelines. Execute:\n- run_block_hell_lr(Cs=(10.0,30.0,100.0), use_block_scaler=False)\n- run_block_hell_lr(Cs=(10.0,30.0,100.0), use_block_scaler=True)\n- run_chi2_linsvc(sample_steps=2, Cs=(0.5,1,2,4,8))\n- run_chi2_linsvc(sample_steps=3, Cs=(0.5,1,2,4,8))\n- run_chi2_lr(sample_steps=2, Cs=(50,100,200,500))\n"
          ]
        }
      ]
    },
    {
      "id": "cf9c59d3-9015-4428-a72a-a4fc9d5e1888",
      "cell_type": "code",
      "metadata": {},
      "source": [
        "# Execute histogram-aware models: Block Hellinger LR, Chi2 + LinearSVC (cal), Chi2 + LR\n",
        "import time, numpy as np\n",
        "\n",
        "t0 = time.time()\n",
        "print('Running Block-wise Hellinger LR (no scaler)...', flush=True)\n",
        "run_block_hell_lr(Cs=(10.0,30.0,100.0), use_block_scaler=False)\n",
        "print('Running Block-wise Hellinger LR (with per-block scaler)...', flush=True)\n",
        "run_block_hell_lr(Cs=(10.0,30.0,100.0), use_block_scaler=True)\n",
        "\n",
        "print('Running AdditiveChi2 + LinearSVC (isotonic calib), sample_steps=2 ...', flush=True)\n",
        "run_chi2_linsvc(sample_steps=2, Cs=(0.5,1,2,4,8))\n",
        "print('Running AdditiveChi2 + LinearSVC (isotonic calib), sample_steps=3 ...', flush=True)\n",
        "run_chi2_linsvc(sample_steps=3, Cs=(0.5,1,2,4,8))\n",
        "\n",
        "print('Running AdditiveChi2 + LogisticRegression, sample_steps=2 ...', flush=True)\n",
        "run_chi2_lr(sample_steps=2, Cs=(50,100,200,500))\n",
        "\n",
        "print(f'All histogram-aware runs finished in {time.time()-t0:.2f}s', flush=True)"
      ],
      "execution_count": 15,
      "outputs": [
        {
          "output_type": "stream",
          "name": "stdout",
          "text": [
            "Running Block-wise Hellinger LR (no scaler)...\n"
          ]
        },
        {
          "output_type": "stream",
          "name": "stderr",
          "text": [
            "/usr/local/lib/python3.11/dist-packages/sklearn/linear_model/_logistic.py:1247: FutureWarning: 'multi_class' was deprecated in version 1.5 and will be removed in 1.7. From then on, it will always use 'multinomial'. Leave it to its default value to avoid this warning.\n  warnings.warn(\n"
          ]
        },
        {
          "output_type": "stream",
          "name": "stdout",
          "text": [
            "[BlkHell LR fold 1/6] C=10.0, scaler=False\n"
          ]
        },
        {
          "output_type": "stream",
          "name": "stderr",
          "text": [
            "/usr/local/lib/python3.11/dist-packages/sklearn/linear_model/_logistic.py:1247: FutureWarning: 'multi_class' was deprecated in version 1.5 and will be removed in 1.7. From then on, it will always use 'multinomial'. Leave it to its default value to avoid this warning.\n  warnings.warn(\n"
          ]
        },
        {
          "output_type": "stream",
          "name": "stdout",
          "text": [
            "[BlkHell LR fold 2/6] C=10.0, scaler=False\n"
          ]
        },
        {
          "output_type": "stream",
          "name": "stderr",
          "text": [
            "/usr/local/lib/python3.11/dist-packages/sklearn/linear_model/_logistic.py:1247: FutureWarning: 'multi_class' was deprecated in version 1.5 and will be removed in 1.7. From then on, it will always use 'multinomial'. Leave it to its default value to avoid this warning.\n  warnings.warn(\n"
          ]
        },
        {
          "output_type": "stream",
          "name": "stdout",
          "text": [
            "[BlkHell LR fold 3/6] C=10.0, scaler=False\n"
          ]
        },
        {
          "output_type": "stream",
          "name": "stderr",
          "text": [
            "/usr/local/lib/python3.11/dist-packages/sklearn/linear_model/_logistic.py:1247: FutureWarning: 'multi_class' was deprecated in version 1.5 and will be removed in 1.7. From then on, it will always use 'multinomial'. Leave it to its default value to avoid this warning.\n  warnings.warn(\n"
          ]
        },
        {
          "output_type": "stream",
          "name": "stdout",
          "text": [
            "[BlkHell LR fold 4/6] C=10.0, scaler=False\n"
          ]
        },
        {
          "output_type": "stream",
          "name": "stderr",
          "text": [
            "/usr/local/lib/python3.11/dist-packages/sklearn/linear_model/_logistic.py:1247: FutureWarning: 'multi_class' was deprecated in version 1.5 and will be removed in 1.7. From then on, it will always use 'multinomial'. Leave it to its default value to avoid this warning.\n  warnings.warn(\n"
          ]
        },
        {
          "output_type": "stream",
          "name": "stdout",
          "text": [
            "[BlkHell LR fold 5/6] C=10.0, scaler=False\n"
          ]
        },
        {
          "output_type": "stream",
          "name": "stderr",
          "text": [
            "/usr/local/lib/python3.11/dist-packages/sklearn/linear_model/_logistic.py:1247: FutureWarning: 'multi_class' was deprecated in version 1.5 and will be removed in 1.7. From then on, it will always use 'multinomial'. Leave it to its default value to avoid this warning.\n  warnings.warn(\n"
          ]
        },
        {
          "output_type": "stream",
          "name": "stdout",
          "text": [
            "[BlkHell LR fold 6/6] C=10.0, scaler=False\n"
          ]
        },
        {
          "output_type": "stream",
          "name": "stdout",
          "text": [
            "BlkHell LR OOF: 0.613177 | C=10.0, scaler=False in 4.35s\n"
          ]
        },
        {
          "output_type": "stream",
          "name": "stderr",
          "text": [
            "/usr/local/lib/python3.11/dist-packages/sklearn/linear_model/_logistic.py:1247: FutureWarning: 'multi_class' was deprecated in version 1.5 and will be removed in 1.7. From then on, it will always use 'multinomial'. Leave it to its default value to avoid this warning.\n  warnings.warn(\n"
          ]
        },
        {
          "output_type": "stream",
          "name": "stdout",
          "text": [
            "[BlkHell LR fold 1/6] C=30.0, scaler=False\n"
          ]
        },
        {
          "output_type": "stream",
          "name": "stdout",
          "text": [
            "[BlkHell LR fold 2/6] C=30.0, scaler=False\n"
          ]
        },
        {
          "output_type": "stream",
          "name": "stderr",
          "text": [
            "/usr/local/lib/python3.11/dist-packages/sklearn/linear_model/_logistic.py:1247: FutureWarning: 'multi_class' was deprecated in version 1.5 and will be removed in 1.7. From then on, it will always use 'multinomial'. Leave it to its default value to avoid this warning.\n  warnings.warn(\n"
          ]
        },
        {
          "output_type": "stream",
          "name": "stdout",
          "text": [
            "[BlkHell LR fold 3/6] C=30.0, scaler=False\n"
          ]
        },
        {
          "output_type": "stream",
          "name": "stderr",
          "text": [
            "/usr/local/lib/python3.11/dist-packages/sklearn/linear_model/_logistic.py:1247: FutureWarning: 'multi_class' was deprecated in version 1.5 and will be removed in 1.7. From then on, it will always use 'multinomial'. Leave it to its default value to avoid this warning.\n  warnings.warn(\n"
          ]
        },
        {
          "output_type": "stream",
          "name": "stdout",
          "text": [
            "[BlkHell LR fold 4/6] C=30.0, scaler=False\n"
          ]
        },
        {
          "output_type": "stream",
          "name": "stderr",
          "text": [
            "/usr/local/lib/python3.11/dist-packages/sklearn/linear_model/_logistic.py:1247: FutureWarning: 'multi_class' was deprecated in version 1.5 and will be removed in 1.7. From then on, it will always use 'multinomial'. Leave it to its default value to avoid this warning.\n  warnings.warn(\n"
          ]
        },
        {
          "output_type": "stream",
          "name": "stdout",
          "text": [
            "[BlkHell LR fold 5/6] C=30.0, scaler=False\n"
          ]
        },
        {
          "output_type": "stream",
          "name": "stderr",
          "text": [
            "/usr/local/lib/python3.11/dist-packages/sklearn/linear_model/_logistic.py:1247: FutureWarning: 'multi_class' was deprecated in version 1.5 and will be removed in 1.7. From then on, it will always use 'multinomial'. Leave it to its default value to avoid this warning.\n  warnings.warn(\n"
          ]
        },
        {
          "output_type": "stream",
          "name": "stdout",
          "text": [
            "[BlkHell LR fold 6/6] C=30.0, scaler=False\n"
          ]
        },
        {
          "output_type": "stream",
          "name": "stdout",
          "text": [
            "BlkHell LR OOF: 0.346896 | C=30.0, scaler=False in 4.61s\n"
          ]
        },
        {
          "output_type": "stream",
          "name": "stderr",
          "text": [
            "/usr/local/lib/python3.11/dist-packages/sklearn/linear_model/_logistic.py:1247: FutureWarning: 'multi_class' was deprecated in version 1.5 and will be removed in 1.7. From then on, it will always use 'multinomial'. Leave it to its default value to avoid this warning.\n  warnings.warn(\n"
          ]
        },
        {
          "output_type": "stream",
          "name": "stdout",
          "text": [
            "[BlkHell LR fold 1/6] C=100.0, scaler=False\n"
          ]
        },
        {
          "output_type": "stream",
          "name": "stderr",
          "text": [
            "/usr/local/lib/python3.11/dist-packages/sklearn/linear_model/_logistic.py:1247: FutureWarning: 'multi_class' was deprecated in version 1.5 and will be removed in 1.7. From then on, it will always use 'multinomial'. Leave it to its default value to avoid this warning.\n  warnings.warn(\n"
          ]
        },
        {
          "output_type": "stream",
          "name": "stdout",
          "text": [
            "[BlkHell LR fold 2/6] C=100.0, scaler=False\n"
          ]
        },
        {
          "output_type": "stream",
          "name": "stderr",
          "text": [
            "/usr/local/lib/python3.11/dist-packages/sklearn/linear_model/_logistic.py:1247: FutureWarning: 'multi_class' was deprecated in version 1.5 and will be removed in 1.7. From then on, it will always use 'multinomial'. Leave it to its default value to avoid this warning.\n  warnings.warn(\n"
          ]
        },
        {
          "output_type": "stream",
          "name": "stdout",
          "text": [
            "[BlkHell LR fold 3/6] C=100.0, scaler=False\n"
          ]
        },
        {
          "output_type": "stream",
          "name": "stderr",
          "text": [
            "/usr/local/lib/python3.11/dist-packages/sklearn/linear_model/_logistic.py:1247: FutureWarning: 'multi_class' was deprecated in version 1.5 and will be removed in 1.7. From then on, it will always use 'multinomial'. Leave it to its default value to avoid this warning.\n  warnings.warn(\n"
          ]
        },
        {
          "output_type": "stream",
          "name": "stdout",
          "text": [
            "[BlkHell LR fold 4/6] C=100.0, scaler=False\n"
          ]
        },
        {
          "output_type": "stream",
          "name": "stderr",
          "text": [
            "/usr/local/lib/python3.11/dist-packages/sklearn/linear_model/_logistic.py:1247: FutureWarning: 'multi_class' was deprecated in version 1.5 and will be removed in 1.7. From then on, it will always use 'multinomial'. Leave it to its default value to avoid this warning.\n  warnings.warn(\n"
          ]
        },
        {
          "output_type": "stream",
          "name": "stdout",
          "text": [
            "[BlkHell LR fold 5/6] C=100.0, scaler=False\n"
          ]
        },
        {
          "output_type": "stream",
          "name": "stderr",
          "text": [
            "/usr/local/lib/python3.11/dist-packages/sklearn/linear_model/_logistic.py:1247: FutureWarning: 'multi_class' was deprecated in version 1.5 and will be removed in 1.7. From then on, it will always use 'multinomial'. Leave it to its default value to avoid this warning.\n  warnings.warn(\n"
          ]
        },
        {
          "output_type": "stream",
          "name": "stdout",
          "text": [
            "[BlkHell LR fold 6/6] C=100.0, scaler=False\n"
          ]
        },
        {
          "output_type": "stream",
          "name": "stdout",
          "text": [
            "BlkHell LR OOF: 0.202787 | C=100.0, scaler=False in 4.20s\n"
          ]
        },
        {
          "output_type": "stream",
          "name": "stdout",
          "text": [
            "Best Block-Hellinger LR: ((100.0, False), 0.20278724684007093)\nRunning Block-wise Hellinger LR (with per-block scaler)...\n"
          ]
        },
        {
          "output_type": "stream",
          "name": "stderr",
          "text": [
            "/usr/local/lib/python3.11/dist-packages/sklearn/linear_model/_logistic.py:1247: FutureWarning: 'multi_class' was deprecated in version 1.5 and will be removed in 1.7. From then on, it will always use 'multinomial'. Leave it to its default value to avoid this warning.\n  warnings.warn(\n"
          ]
        },
        {
          "output_type": "stream",
          "name": "stdout",
          "text": [
            "[BlkHell LR fold 1/6] C=10.0, scaler=True\n"
          ]
        },
        {
          "output_type": "stream",
          "name": "stderr",
          "text": [
            "/usr/local/lib/python3.11/dist-packages/sklearn/linear_model/_logistic.py:1247: FutureWarning: 'multi_class' was deprecated in version 1.5 and will be removed in 1.7. From then on, it will always use 'multinomial'. Leave it to its default value to avoid this warning.\n  warnings.warn(\n"
          ]
        },
        {
          "output_type": "stream",
          "name": "stdout",
          "text": [
            "[BlkHell LR fold 2/6] C=10.0, scaler=True\n"
          ]
        },
        {
          "output_type": "stream",
          "name": "stderr",
          "text": [
            "/usr/local/lib/python3.11/dist-packages/sklearn/linear_model/_logistic.py:1247: FutureWarning: 'multi_class' was deprecated in version 1.5 and will be removed in 1.7. From then on, it will always use 'multinomial'. Leave it to its default value to avoid this warning.\n  warnings.warn(\n"
          ]
        },
        {
          "output_type": "stream",
          "name": "stdout",
          "text": [
            "[BlkHell LR fold 3/6] C=10.0, scaler=True\n"
          ]
        },
        {
          "output_type": "stream",
          "name": "stderr",
          "text": [
            "/usr/local/lib/python3.11/dist-packages/sklearn/linear_model/_logistic.py:1247: FutureWarning: 'multi_class' was deprecated in version 1.5 and will be removed in 1.7. From then on, it will always use 'multinomial'. Leave it to its default value to avoid this warning.\n  warnings.warn(\n"
          ]
        },
        {
          "output_type": "stream",
          "name": "stdout",
          "text": [
            "[BlkHell LR fold 4/6] C=10.0, scaler=True\n"
          ]
        },
        {
          "output_type": "stream",
          "name": "stderr",
          "text": [
            "/usr/local/lib/python3.11/dist-packages/sklearn/linear_model/_logistic.py:1247: FutureWarning: 'multi_class' was deprecated in version 1.5 and will be removed in 1.7. From then on, it will always use 'multinomial'. Leave it to its default value to avoid this warning.\n  warnings.warn(\n"
          ]
        },
        {
          "output_type": "stream",
          "name": "stdout",
          "text": [
            "[BlkHell LR fold 5/6] C=10.0, scaler=True\n"
          ]
        },
        {
          "output_type": "stream",
          "name": "stderr",
          "text": [
            "/usr/local/lib/python3.11/dist-packages/sklearn/linear_model/_logistic.py:1247: FutureWarning: 'multi_class' was deprecated in version 1.5 and will be removed in 1.7. From then on, it will always use 'multinomial'. Leave it to its default value to avoid this warning.\n  warnings.warn(\n"
          ]
        },
        {
          "output_type": "stream",
          "name": "stdout",
          "text": [
            "[BlkHell LR fold 6/6] C=10.0, scaler=True\n"
          ]
        },
        {
          "output_type": "stream",
          "name": "stdout",
          "text": [
            "BlkHell LR OOF: 0.081535 | C=10.0, scaler=True in 2.41s\n"
          ]
        },
        {
          "output_type": "stream",
          "name": "stderr",
          "text": [
            "/usr/local/lib/python3.11/dist-packages/sklearn/linear_model/_logistic.py:1247: FutureWarning: 'multi_class' was deprecated in version 1.5 and will be removed in 1.7. From then on, it will always use 'multinomial'. Leave it to its default value to avoid this warning.\n  warnings.warn(\n"
          ]
        },
        {
          "output_type": "stream",
          "name": "stdout",
          "text": [
            "[BlkHell LR fold 1/6] C=30.0, scaler=True\n"
          ]
        },
        {
          "output_type": "stream",
          "name": "stderr",
          "text": [
            "/usr/local/lib/python3.11/dist-packages/sklearn/linear_model/_logistic.py:1247: FutureWarning: 'multi_class' was deprecated in version 1.5 and will be removed in 1.7. From then on, it will always use 'multinomial'. Leave it to its default value to avoid this warning.\n  warnings.warn(\n"
          ]
        },
        {
          "output_type": "stream",
          "name": "stdout",
          "text": [
            "[BlkHell LR fold 2/6] C=30.0, scaler=True\n"
          ]
        },
        {
          "output_type": "stream",
          "name": "stderr",
          "text": [
            "/usr/local/lib/python3.11/dist-packages/sklearn/linear_model/_logistic.py:1247: FutureWarning: 'multi_class' was deprecated in version 1.5 and will be removed in 1.7. From then on, it will always use 'multinomial'. Leave it to its default value to avoid this warning.\n  warnings.warn(\n"
          ]
        },
        {
          "output_type": "stream",
          "name": "stdout",
          "text": [
            "[BlkHell LR fold 3/6] C=30.0, scaler=True\n"
          ]
        },
        {
          "output_type": "stream",
          "name": "stderr",
          "text": [
            "/usr/local/lib/python3.11/dist-packages/sklearn/linear_model/_logistic.py:1247: FutureWarning: 'multi_class' was deprecated in version 1.5 and will be removed in 1.7. From then on, it will always use 'multinomial'. Leave it to its default value to avoid this warning.\n  warnings.warn(\n"
          ]
        },
        {
          "output_type": "stream",
          "name": "stdout",
          "text": [
            "[BlkHell LR fold 4/6] C=30.0, scaler=True\n"
          ]
        },
        {
          "output_type": "stream",
          "name": "stderr",
          "text": [
            "/usr/local/lib/python3.11/dist-packages/sklearn/linear_model/_logistic.py:1247: FutureWarning: 'multi_class' was deprecated in version 1.5 and will be removed in 1.7. From then on, it will always use 'multinomial'. Leave it to its default value to avoid this warning.\n  warnings.warn(\n"
          ]
        },
        {
          "output_type": "stream",
          "name": "stdout",
          "text": [
            "[BlkHell LR fold 5/6] C=30.0, scaler=True\n"
          ]
        },
        {
          "output_type": "stream",
          "name": "stderr",
          "text": [
            "/usr/local/lib/python3.11/dist-packages/sklearn/linear_model/_logistic.py:1247: FutureWarning: 'multi_class' was deprecated in version 1.5 and will be removed in 1.7. From then on, it will always use 'multinomial'. Leave it to its default value to avoid this warning.\n  warnings.warn(\n"
          ]
        },
        {
          "output_type": "stream",
          "name": "stdout",
          "text": [
            "[BlkHell LR fold 6/6] C=30.0, scaler=True\n"
          ]
        },
        {
          "output_type": "stream",
          "name": "stdout",
          "text": [
            "BlkHell LR OOF: 0.074199 | C=30.0, scaler=True in 2.03s\n"
          ]
        },
        {
          "output_type": "stream",
          "name": "stderr",
          "text": [
            "/usr/local/lib/python3.11/dist-packages/sklearn/linear_model/_logistic.py:1247: FutureWarning: 'multi_class' was deprecated in version 1.5 and will be removed in 1.7. From then on, it will always use 'multinomial'. Leave it to its default value to avoid this warning.\n  warnings.warn(\n"
          ]
        },
        {
          "output_type": "stream",
          "name": "stdout",
          "text": [
            "[BlkHell LR fold 1/6] C=100.0, scaler=True\n"
          ]
        },
        {
          "output_type": "stream",
          "name": "stderr",
          "text": [
            "/usr/local/lib/python3.11/dist-packages/sklearn/linear_model/_logistic.py:1247: FutureWarning: 'multi_class' was deprecated in version 1.5 and will be removed in 1.7. From then on, it will always use 'multinomial'. Leave it to its default value to avoid this warning.\n  warnings.warn(\n"
          ]
        },
        {
          "output_type": "stream",
          "name": "stdout",
          "text": [
            "[BlkHell LR fold 2/6] C=100.0, scaler=True\n"
          ]
        },
        {
          "output_type": "stream",
          "name": "stderr",
          "text": [
            "/usr/local/lib/python3.11/dist-packages/sklearn/linear_model/_logistic.py:1247: FutureWarning: 'multi_class' was deprecated in version 1.5 and will be removed in 1.7. From then on, it will always use 'multinomial'. Leave it to its default value to avoid this warning.\n  warnings.warn(\n"
          ]
        },
        {
          "output_type": "stream",
          "name": "stdout",
          "text": [
            "[BlkHell LR fold 3/6] C=100.0, scaler=True\n"
          ]
        },
        {
          "output_type": "stream",
          "name": "stderr",
          "text": [
            "/usr/local/lib/python3.11/dist-packages/sklearn/linear_model/_logistic.py:1247: FutureWarning: 'multi_class' was deprecated in version 1.5 and will be removed in 1.7. From then on, it will always use 'multinomial'. Leave it to its default value to avoid this warning.\n  warnings.warn(\n"
          ]
        },
        {
          "output_type": "stream",
          "name": "stdout",
          "text": [
            "[BlkHell LR fold 4/6] C=100.0, scaler=True\n"
          ]
        },
        {
          "output_type": "stream",
          "name": "stderr",
          "text": [
            "/usr/local/lib/python3.11/dist-packages/sklearn/linear_model/_logistic.py:1247: FutureWarning: 'multi_class' was deprecated in version 1.5 and will be removed in 1.7. From then on, it will always use 'multinomial'. Leave it to its default value to avoid this warning.\n  warnings.warn(\n"
          ]
        },
        {
          "output_type": "stream",
          "name": "stdout",
          "text": [
            "[BlkHell LR fold 5/6] C=100.0, scaler=True\n"
          ]
        },
        {
          "output_type": "stream",
          "name": "stderr",
          "text": [
            "/usr/local/lib/python3.11/dist-packages/sklearn/linear_model/_logistic.py:1247: FutureWarning: 'multi_class' was deprecated in version 1.5 and will be removed in 1.7. From then on, it will always use 'multinomial'. Leave it to its default value to avoid this warning.\n  warnings.warn(\n"
          ]
        },
        {
          "output_type": "stream",
          "name": "stdout",
          "text": [
            "[BlkHell LR fold 6/6] C=100.0, scaler=True\n"
          ]
        },
        {
          "output_type": "stream",
          "name": "stdout",
          "text": [
            "BlkHell LR OOF: 0.072853 | C=100.0, scaler=True in 2.01s\n"
          ]
        },
        {
          "output_type": "stream",
          "name": "stdout",
          "text": [
            "Best Block-Hellinger LR: ((100.0, True), 0.07285271495962396)\nRunning AdditiveChi2 + LinearSVC (isotonic calib), sample_steps=2 ...\n"
          ]
        }
      ]
    },
    {
      "id": "eacee49e-b81d-4f96-8cb9-06a7a6773f2e",
      "cell_type": "code",
      "metadata": {},
      "source": [
        "# Streamlined run: AdditiveChi2 + LinearSVC (isotonic calib) with tight grid\n",
        "print('Running streamlined Chi2-LinSVC (isotonic calib), steps=2, Cs=(1,2,4)...', flush=True)\n",
        "run_chi2_linsvc(sample_steps=2, Cs=(1,2,4))"
      ],
      "execution_count": 16,
      "outputs": [
        {
          "output_type": "stream",
          "name": "stdout",
          "text": [
            "Running streamlined Chi2-LinSVC (isotonic calib), steps=2, Cs=(1,2,4)...\n"
          ]
        },
        {
          "output_type": "stream",
          "name": "stderr",
          "text": [
            "/usr/local/lib/python3.11/dist-packages/sklearn/svm/_base.py:1235: ConvergenceWarning: Liblinear failed to converge, increase the number of iterations.\n  warnings.warn(\n"
          ]
        },
        {
          "output_type": "stream",
          "name": "stderr",
          "text": [
            "/usr/local/lib/python3.11/dist-packages/sklearn/svm/_base.py:1235: ConvergenceWarning: Liblinear failed to converge, increase the number of iterations.\n  warnings.warn(\n"
          ]
        },
        {
          "output_type": "stream",
          "name": "stderr",
          "text": [
            "/usr/local/lib/python3.11/dist-packages/sklearn/svm/_base.py:1235: ConvergenceWarning: Liblinear failed to converge, increase the number of iterations.\n  warnings.warn(\n"
          ]
        },
        {
          "output_type": "stream",
          "name": "stdout",
          "text": [
            "[Chi2-LinSVC fold 1/6] C=1, steps=2\n"
          ]
        },
        {
          "output_type": "stream",
          "name": "stderr",
          "text": [
            "/usr/local/lib/python3.11/dist-packages/sklearn/svm/_base.py:1235: ConvergenceWarning: Liblinear failed to converge, increase the number of iterations.\n  warnings.warn(\n"
          ]
        },
        {
          "output_type": "stream",
          "name": "stderr",
          "text": [
            "/usr/local/lib/python3.11/dist-packages/sklearn/svm/_base.py:1235: ConvergenceWarning: Liblinear failed to converge, increase the number of iterations.\n  warnings.warn(\n"
          ]
        },
        {
          "output_type": "stream",
          "name": "stderr",
          "text": [
            "/usr/local/lib/python3.11/dist-packages/sklearn/svm/_base.py:1235: ConvergenceWarning: Liblinear failed to converge, increase the number of iterations.\n  warnings.warn(\n"
          ]
        },
        {
          "output_type": "stream",
          "name": "stdout",
          "text": [
            "[Chi2-LinSVC fold 2/6] C=1, steps=2\n"
          ]
        },
        {
          "output_type": "stream",
          "name": "stderr",
          "text": [
            "/usr/local/lib/python3.11/dist-packages/sklearn/svm/_base.py:1235: ConvergenceWarning: Liblinear failed to converge, increase the number of iterations.\n  warnings.warn(\n"
          ]
        },
        {
          "output_type": "stream",
          "name": "stderr",
          "text": [
            "/usr/local/lib/python3.11/dist-packages/sklearn/svm/_base.py:1235: ConvergenceWarning: Liblinear failed to converge, increase the number of iterations.\n  warnings.warn(\n"
          ]
        },
        {
          "output_type": "stream",
          "name": "stderr",
          "text": [
            "/usr/local/lib/python3.11/dist-packages/sklearn/svm/_base.py:1235: ConvergenceWarning: Liblinear failed to converge, increase the number of iterations.\n  warnings.warn(\n"
          ]
        },
        {
          "output_type": "stream",
          "name": "stdout",
          "text": [
            "[Chi2-LinSVC fold 3/6] C=1, steps=2\n"
          ]
        },
        {
          "output_type": "stream",
          "name": "stderr",
          "text": [
            "/usr/local/lib/python3.11/dist-packages/sklearn/svm/_base.py:1235: ConvergenceWarning: Liblinear failed to converge, increase the number of iterations.\n  warnings.warn(\n"
          ]
        },
        {
          "output_type": "stream",
          "name": "stderr",
          "text": [
            "/usr/local/lib/python3.11/dist-packages/sklearn/svm/_base.py:1235: ConvergenceWarning: Liblinear failed to converge, increase the number of iterations.\n  warnings.warn(\n"
          ]
        },
        {
          "output_type": "stream",
          "name": "stdout",
          "text": [
            "[Chi2-LinSVC fold 4/6] C=1, steps=2\n"
          ]
        },
        {
          "output_type": "stream",
          "name": "stderr",
          "text": [
            "/usr/local/lib/python3.11/dist-packages/sklearn/svm/_base.py:1235: ConvergenceWarning: Liblinear failed to converge, increase the number of iterations.\n  warnings.warn(\n"
          ]
        },
        {
          "output_type": "stream",
          "name": "stderr",
          "text": [
            "/usr/local/lib/python3.11/dist-packages/sklearn/svm/_base.py:1235: ConvergenceWarning: Liblinear failed to converge, increase the number of iterations.\n  warnings.warn(\n"
          ]
        },
        {
          "output_type": "stream",
          "name": "stdout",
          "text": [
            "[Chi2-LinSVC fold 5/6] C=1, steps=2\n"
          ]
        },
        {
          "output_type": "stream",
          "name": "stderr",
          "text": [
            "/usr/local/lib/python3.11/dist-packages/sklearn/svm/_base.py:1235: ConvergenceWarning: Liblinear failed to converge, increase the number of iterations.\n  warnings.warn(\n"
          ]
        },
        {
          "output_type": "stream",
          "name": "stderr",
          "text": [
            "/usr/local/lib/python3.11/dist-packages/sklearn/svm/_base.py:1235: ConvergenceWarning: Liblinear failed to converge, increase the number of iterations.\n  warnings.warn(\n"
          ]
        },
        {
          "output_type": "stream",
          "name": "stderr",
          "text": [
            "/usr/local/lib/python3.11/dist-packages/sklearn/svm/_base.py:1235: ConvergenceWarning: Liblinear failed to converge, increase the number of iterations.\n  warnings.warn(\n"
          ]
        },
        {
          "output_type": "stream",
          "name": "stdout",
          "text": [
            "[Chi2-LinSVC fold 6/6] C=1, steps=2\n"
          ]
        },
        {
          "output_type": "stream",
          "name": "stdout",
          "text": [
            "Chi2-LinSVC OOF: 0.155785 | C=1, steps=2 in 156.16s\n"
          ]
        },
        {
          "output_type": "stream",
          "name": "stderr",
          "text": [
            "/usr/local/lib/python3.11/dist-packages/sklearn/svm/_base.py:1235: ConvergenceWarning: Liblinear failed to converge, increase the number of iterations.\n  warnings.warn(\n"
          ]
        },
        {
          "output_type": "stream",
          "name": "stderr",
          "text": [
            "/usr/local/lib/python3.11/dist-packages/sklearn/svm/_base.py:1235: ConvergenceWarning: Liblinear failed to converge, increase the number of iterations.\n  warnings.warn(\n"
          ]
        },
        {
          "output_type": "stream",
          "name": "stdout",
          "text": [
            "[Chi2-LinSVC fold 1/6] C=2, steps=2\n"
          ]
        },
        {
          "output_type": "stream",
          "name": "stderr",
          "text": [
            "/usr/local/lib/python3.11/dist-packages/sklearn/svm/_base.py:1235: ConvergenceWarning: Liblinear failed to converge, increase the number of iterations.\n  warnings.warn(\n"
          ]
        },
        {
          "output_type": "stream",
          "name": "stderr",
          "text": [
            "/usr/local/lib/python3.11/dist-packages/sklearn/svm/_base.py:1235: ConvergenceWarning: Liblinear failed to converge, increase the number of iterations.\n  warnings.warn(\n"
          ]
        },
        {
          "output_type": "stream",
          "name": "stderr",
          "text": [
            "/usr/local/lib/python3.11/dist-packages/sklearn/svm/_base.py:1235: ConvergenceWarning: Liblinear failed to converge, increase the number of iterations.\n  warnings.warn(\n"
          ]
        },
        {
          "output_type": "stream",
          "name": "stdout",
          "text": [
            "[Chi2-LinSVC fold 2/6] C=2, steps=2\n"
          ]
        },
        {
          "output_type": "stream",
          "name": "stderr",
          "text": [
            "/usr/local/lib/python3.11/dist-packages/sklearn/svm/_base.py:1235: ConvergenceWarning: Liblinear failed to converge, increase the number of iterations.\n  warnings.warn(\n"
          ]
        },
        {
          "output_type": "stream",
          "name": "stderr",
          "text": [
            "/usr/local/lib/python3.11/dist-packages/sklearn/svm/_base.py:1235: ConvergenceWarning: Liblinear failed to converge, increase the number of iterations.\n  warnings.warn(\n"
          ]
        },
        {
          "output_type": "stream",
          "name": "stderr",
          "text": [
            "/usr/local/lib/python3.11/dist-packages/sklearn/svm/_base.py:1235: ConvergenceWarning: Liblinear failed to converge, increase the number of iterations.\n  warnings.warn(\n"
          ]
        },
        {
          "output_type": "stream",
          "name": "stdout",
          "text": [
            "[Chi2-LinSVC fold 3/6] C=2, steps=2\n"
          ]
        },
        {
          "output_type": "stream",
          "name": "stderr",
          "text": [
            "/usr/local/lib/python3.11/dist-packages/sklearn/svm/_base.py:1235: ConvergenceWarning: Liblinear failed to converge, increase the number of iterations.\n  warnings.warn(\n"
          ]
        },
        {
          "output_type": "stream",
          "name": "stderr",
          "text": [
            "/usr/local/lib/python3.11/dist-packages/sklearn/svm/_base.py:1235: ConvergenceWarning: Liblinear failed to converge, increase the number of iterations.\n  warnings.warn(\n"
          ]
        },
        {
          "output_type": "stream",
          "name": "stderr",
          "text": [
            "/usr/local/lib/python3.11/dist-packages/sklearn/svm/_base.py:1235: ConvergenceWarning: Liblinear failed to converge, increase the number of iterations.\n  warnings.warn(\n"
          ]
        },
        {
          "output_type": "stream",
          "name": "stdout",
          "text": [
            "[Chi2-LinSVC fold 4/6] C=2, steps=2\n"
          ]
        },
        {
          "output_type": "stream",
          "name": "stderr",
          "text": [
            "/usr/local/lib/python3.11/dist-packages/sklearn/svm/_base.py:1235: ConvergenceWarning: Liblinear failed to converge, increase the number of iterations.\n  warnings.warn(\n"
          ]
        },
        {
          "output_type": "stream",
          "name": "stderr",
          "text": [
            "/usr/local/lib/python3.11/dist-packages/sklearn/svm/_base.py:1235: ConvergenceWarning: Liblinear failed to converge, increase the number of iterations.\n  warnings.warn(\n"
          ]
        },
        {
          "output_type": "stream",
          "name": "stderr",
          "text": [
            "/usr/local/lib/python3.11/dist-packages/sklearn/svm/_base.py:1235: ConvergenceWarning: Liblinear failed to converge, increase the number of iterations.\n  warnings.warn(\n"
          ]
        },
        {
          "output_type": "stream",
          "name": "stdout",
          "text": [
            "[Chi2-LinSVC fold 5/6] C=2, steps=2\n"
          ]
        },
        {
          "output_type": "stream",
          "name": "stderr",
          "text": [
            "/usr/local/lib/python3.11/dist-packages/sklearn/svm/_base.py:1235: ConvergenceWarning: Liblinear failed to converge, increase the number of iterations.\n  warnings.warn(\n"
          ]
        },
        {
          "output_type": "stream",
          "name": "stderr",
          "text": [
            "/usr/local/lib/python3.11/dist-packages/sklearn/svm/_base.py:1235: ConvergenceWarning: Liblinear failed to converge, increase the number of iterations.\n  warnings.warn(\n"
          ]
        },
        {
          "output_type": "stream",
          "name": "stdout",
          "text": [
            "[Chi2-LinSVC fold 6/6] C=2, steps=2\n"
          ]
        },
        {
          "output_type": "stream",
          "name": "stdout",
          "text": [
            "Chi2-LinSVC OOF: 0.155897 | C=2, steps=2 in 156.56s\n"
          ]
        },
        {
          "output_type": "stream",
          "name": "stderr",
          "text": [
            "/usr/local/lib/python3.11/dist-packages/sklearn/svm/_base.py:1235: ConvergenceWarning: Liblinear failed to converge, increase the number of iterations.\n  warnings.warn(\n"
          ]
        },
        {
          "output_type": "stream",
          "name": "stderr",
          "text": [
            "/usr/local/lib/python3.11/dist-packages/sklearn/svm/_base.py:1235: ConvergenceWarning: Liblinear failed to converge, increase the number of iterations.\n  warnings.warn(\n"
          ]
        },
        {
          "output_type": "stream",
          "name": "stderr",
          "text": [
            "/usr/local/lib/python3.11/dist-packages/sklearn/svm/_base.py:1235: ConvergenceWarning: Liblinear failed to converge, increase the number of iterations.\n  warnings.warn(\n"
          ]
        },
        {
          "output_type": "stream",
          "name": "stdout",
          "text": [
            "[Chi2-LinSVC fold 1/6] C=4, steps=2\n"
          ]
        },
        {
          "output_type": "stream",
          "name": "stderr",
          "text": [
            "/usr/local/lib/python3.11/dist-packages/sklearn/svm/_base.py:1235: ConvergenceWarning: Liblinear failed to converge, increase the number of iterations.\n  warnings.warn(\n"
          ]
        },
        {
          "output_type": "stream",
          "name": "stderr",
          "text": [
            "/usr/local/lib/python3.11/dist-packages/sklearn/svm/_base.py:1235: ConvergenceWarning: Liblinear failed to converge, increase the number of iterations.\n  warnings.warn(\n"
          ]
        },
        {
          "output_type": "stream",
          "name": "stderr",
          "text": [
            "/usr/local/lib/python3.11/dist-packages/sklearn/svm/_base.py:1235: ConvergenceWarning: Liblinear failed to converge, increase the number of iterations.\n  warnings.warn(\n"
          ]
        },
        {
          "output_type": "stream",
          "name": "stdout",
          "text": [
            "[Chi2-LinSVC fold 2/6] C=4, steps=2\n"
          ]
        },
        {
          "output_type": "stream",
          "name": "stderr",
          "text": [
            "/usr/local/lib/python3.11/dist-packages/sklearn/svm/_base.py:1235: ConvergenceWarning: Liblinear failed to converge, increase the number of iterations.\n  warnings.warn(\n"
          ]
        }
      ]
    },
    {
      "id": "41415e0f-ba22-4e3b-94a7-72917bba5d37",
      "cell_type": "code",
      "metadata": {},
      "source": [
        "# Temperature scaling of LR(no-PCA) probabilities + Hungarian assignment post-process\n",
        "import numpy as np, time, sys, subprocess\n",
        "import pandas as pd\n",
        "from sklearn.metrics import log_loss\n",
        "\n",
        "def ensure_scipy():\n",
        "    try:\n",
        "        from scipy.optimize import linear_sum_assignment  # noqa: F401\n",
        "        import scipy  # noqa: F401\n",
        "        return True\n",
        "    except Exception:\n",
        "        print('Installing scipy for Hungarian assignment...')\n",
        "        subprocess.run([sys.executable, '-m', 'pip', 'install', '-q', 'scipy'], check=True)\n",
        "        return True\n",
        "\n",
        "def clip_norm(P):\n",
        "    P = np.clip(P, 1e-15, 1-1e-15)\n",
        "    return P / P.sum(axis=1, keepdims=True)\n",
        "\n",
        "# Load base LR(no-PCA)\n",
        "oof_lr = np.load('oof_logreg_nopca.npy')\n",
        "test_lr = np.load('test_pred_logreg_nopca.npy')\n",
        "K = oof_lr.shape[1]\n",
        "\n",
        "# Temperature scaling via alpha on probabilities: p' = normalize(p**alpha)\n",
        "def temp_scale(P, alpha):\n",
        "    Ps = np.power(np.clip(P, 1e-15, 1-1e-15), float(alpha))\n",
        "    return Ps / Ps.sum(axis=1, keepdims=True)\n",
        "\n",
        "# Grid search alpha on OOF\n",
        "alphas = np.linspace(0.5, 3.0, 251)\n",
        "best = (1.0, 1e9)\n",
        "t0 = time.time()\n",
        "for a in alphas:\n",
        "    Po = temp_scale(oof_lr, a)\n",
        "    ll = log_loss(y_enc, clip_norm(Po), labels=list(range(K)))\n",
        "    if ll < best[1]:\n",
        "        best = (float(a), float(ll))\n",
        "print(f'Temperature scaling: best alpha={best[0]:.4f}, OOF logloss={best[1]:.6f} (grid {len(alphas)} in {time.time()-t0:.2f}s)')\n",
        "\n",
        "alpha_opt = best[0]\n",
        "oof_cal = temp_scale(oof_lr, alpha_opt)\n",
        "test_cal = temp_scale(test_lr, alpha_opt)\n",
        "np.save('oof_lr_nopca_calibrated.npy', oof_cal)\n",
        "np.save('test_lr_nopca_calibrated.npy', test_cal)\n",
        "\n",
        "# Build calibrated submission (soft)\n",
        "pred_df_soft = pd.DataFrame(clip_norm(test_cal), columns=list(le.classes_))\n",
        "sub_cols = [c for c in sample_sub.columns if c != id_col]\n",
        "pred_df_soft = pred_df_soft[sub_cols]\n",
        "submission_soft = pd.concat([test[[id_col]].reset_index(drop=True), pred_df_soft.reset_index(drop=True)], axis=1)\n",
        "submission_soft.to_csv('submission_soft_calibrated.csv', index=False)\n",
        "print('Wrote submission_soft_calibrated.csv', submission_soft.shape)\n",
        "\n",
        "# Hungarian assignment to enforce 1-per-class in test\n",
        "ensure_scipy()\n",
        "from scipy.optimize import linear_sum_assignment\n",
        "cost = -np.log(np.clip(test_cal, 1e-15, 1-1e-15))\n",
        "row_ind, col_ind = linear_sum_assignment(cost)\n",
        "assign = np.zeros_like(test_cal)\n",
        "assign[row_ind, col_ind] = 1.0\n",
        "\n",
        "# Build hard-assigned submission\n",
        "pred_df_hard = pd.DataFrame(assign, columns=list(le.classes_))\n",
        "pred_df_hard = pred_df_hard[sub_cols]\n",
        "submission_hard = pd.concat([test[[id_col]].reset_index(drop=True), pred_df_hard.reset_index(drop=True)], axis=1)\n",
        "submission_hard.to_csv('submission.csv', index=False)\n",
        "print('Saved submission.csv (Hungarian-assigned, calibrated) with shape', submission_hard.shape)"
      ],
      "execution_count": 17,
      "outputs": [
        {
          "output_type": "stream",
          "name": "stdout",
          "text": [
            "Temperature scaling: best alpha=1.4900, OOF logloss=0.039986 (grid 251 in 1.11s)\nWrote submission_soft_calibrated.csv (99, 100)\nSaved submission.csv (Hungarian-assigned, calibrated) with shape (99, 100)\n"
          ]
        }
      ]
    },
    {
      "id": "a1cece28-ec02-4659-b6d8-4de6b2ace8e5",
      "cell_type": "code",
      "metadata": {},
      "source": [
        "# Run AdditiveChi2Sampler + LogisticRegression with specified grids\n",
        "print('Running Chi2 + LogisticRegression: steps=2, Cs=(100,200,300,500,1000)...', flush=True)\n",
        "run_chi2_lr(sample_steps=2, Cs=(100,200,300,500,1000))"
      ],
      "execution_count": 18,
      "outputs": [
        {
          "output_type": "stream",
          "name": "stdout",
          "text": [
            "Running Chi2 + LogisticRegression: steps=2, Cs=(100,200,300,500,1000)...\n"
          ]
        },
        {
          "output_type": "stream",
          "name": "stderr",
          "text": [
            "/usr/local/lib/python3.11/dist-packages/sklearn/linear_model/_logistic.py:1247: FutureWarning: 'multi_class' was deprecated in version 1.5 and will be removed in 1.7. From then on, it will always use 'multinomial'. Leave it to its default value to avoid this warning.\n  warnings.warn(\n"
          ]
        },
        {
          "output_type": "stream",
          "name": "stdout",
          "text": [
            "[Chi2-LR fold 1/6] C=100, steps=2\n"
          ]
        },
        {
          "output_type": "stream",
          "name": "stderr",
          "text": [
            "/usr/local/lib/python3.11/dist-packages/sklearn/linear_model/_logistic.py:1247: FutureWarning: 'multi_class' was deprecated in version 1.5 and will be removed in 1.7. From then on, it will always use 'multinomial'. Leave it to its default value to avoid this warning.\n  warnings.warn(\n"
          ]
        },
        {
          "output_type": "stream",
          "name": "stdout",
          "text": [
            "[Chi2-LR fold 2/6] C=100, steps=2\n"
          ]
        },
        {
          "output_type": "stream",
          "name": "stderr",
          "text": [
            "/usr/local/lib/python3.11/dist-packages/sklearn/linear_model/_logistic.py:1247: FutureWarning: 'multi_class' was deprecated in version 1.5 and will be removed in 1.7. From then on, it will always use 'multinomial'. Leave it to its default value to avoid this warning.\n  warnings.warn(\n"
          ]
        },
        {
          "output_type": "stream",
          "name": "stdout",
          "text": [
            "[Chi2-LR fold 3/6] C=100, steps=2\n"
          ]
        },
        {
          "output_type": "stream",
          "name": "stderr",
          "text": [
            "/usr/local/lib/python3.11/dist-packages/sklearn/linear_model/_logistic.py:1247: FutureWarning: 'multi_class' was deprecated in version 1.5 and will be removed in 1.7. From then on, it will always use 'multinomial'. Leave it to its default value to avoid this warning.\n  warnings.warn(\n"
          ]
        },
        {
          "output_type": "stream",
          "name": "stdout",
          "text": [
            "[Chi2-LR fold 4/6] C=100, steps=2\n"
          ]
        },
        {
          "output_type": "stream",
          "name": "stderr",
          "text": [
            "/usr/local/lib/python3.11/dist-packages/sklearn/linear_model/_logistic.py:1247: FutureWarning: 'multi_class' was deprecated in version 1.5 and will be removed in 1.7. From then on, it will always use 'multinomial'. Leave it to its default value to avoid this warning.\n  warnings.warn(\n"
          ]
        },
        {
          "output_type": "stream",
          "name": "stdout",
          "text": [
            "[Chi2-LR fold 5/6] C=100, steps=2\n"
          ]
        },
        {
          "output_type": "stream",
          "name": "stderr",
          "text": [
            "/usr/local/lib/python3.11/dist-packages/sklearn/linear_model/_logistic.py:1247: FutureWarning: 'multi_class' was deprecated in version 1.5 and will be removed in 1.7. From then on, it will always use 'multinomial'. Leave it to its default value to avoid this warning.\n  warnings.warn(\n"
          ]
        },
        {
          "output_type": "stream",
          "name": "stdout",
          "text": [
            "[Chi2-LR fold 6/6] C=100, steps=2\n"
          ]
        },
        {
          "output_type": "stream",
          "name": "stdout",
          "text": [
            "Chi2-LR OOF: 0.109878 | C=100, steps=2 in 13.01s\n"
          ]
        },
        {
          "output_type": "stream",
          "name": "stderr",
          "text": [
            "/usr/local/lib/python3.11/dist-packages/sklearn/linear_model/_logistic.py:1247: FutureWarning: 'multi_class' was deprecated in version 1.5 and will be removed in 1.7. From then on, it will always use 'multinomial'. Leave it to its default value to avoid this warning.\n  warnings.warn(\n"
          ]
        },
        {
          "output_type": "stream",
          "name": "stdout",
          "text": [
            "[Chi2-LR fold 1/6] C=200, steps=2\n"
          ]
        },
        {
          "output_type": "stream",
          "name": "stderr",
          "text": [
            "/usr/local/lib/python3.11/dist-packages/sklearn/linear_model/_logistic.py:1247: FutureWarning: 'multi_class' was deprecated in version 1.5 and will be removed in 1.7. From then on, it will always use 'multinomial'. Leave it to its default value to avoid this warning.\n  warnings.warn(\n"
          ]
        },
        {
          "output_type": "stream",
          "name": "stdout",
          "text": [
            "[Chi2-LR fold 2/6] C=200, steps=2\n"
          ]
        },
        {
          "output_type": "stream",
          "name": "stderr",
          "text": [
            "/usr/local/lib/python3.11/dist-packages/sklearn/linear_model/_logistic.py:1247: FutureWarning: 'multi_class' was deprecated in version 1.5 and will be removed in 1.7. From then on, it will always use 'multinomial'. Leave it to its default value to avoid this warning.\n  warnings.warn(\n"
          ]
        },
        {
          "output_type": "stream",
          "name": "stdout",
          "text": [
            "[Chi2-LR fold 3/6] C=200, steps=2\n"
          ]
        },
        {
          "output_type": "stream",
          "name": "stderr",
          "text": [
            "/usr/local/lib/python3.11/dist-packages/sklearn/linear_model/_logistic.py:1247: FutureWarning: 'multi_class' was deprecated in version 1.5 and will be removed in 1.7. From then on, it will always use 'multinomial'. Leave it to its default value to avoid this warning.\n  warnings.warn(\n"
          ]
        },
        {
          "output_type": "stream",
          "name": "stdout",
          "text": [
            "[Chi2-LR fold 4/6] C=200, steps=2\n"
          ]
        },
        {
          "output_type": "stream",
          "name": "stderr",
          "text": [
            "/usr/local/lib/python3.11/dist-packages/sklearn/linear_model/_logistic.py:1247: FutureWarning: 'multi_class' was deprecated in version 1.5 and will be removed in 1.7. From then on, it will always use 'multinomial'. Leave it to its default value to avoid this warning.\n  warnings.warn(\n"
          ]
        },
        {
          "output_type": "stream",
          "name": "stdout",
          "text": [
            "[Chi2-LR fold 5/6] C=200, steps=2\n"
          ]
        },
        {
          "output_type": "stream",
          "name": "stderr",
          "text": [
            "/usr/local/lib/python3.11/dist-packages/sklearn/linear_model/_logistic.py:1247: FutureWarning: 'multi_class' was deprecated in version 1.5 and will be removed in 1.7. From then on, it will always use 'multinomial'. Leave it to its default value to avoid this warning.\n  warnings.warn(\n"
          ]
        },
        {
          "output_type": "stream",
          "name": "stdout",
          "text": [
            "[Chi2-LR fold 6/6] C=200, steps=2\n"
          ]
        },
        {
          "output_type": "stream",
          "name": "stdout",
          "text": [
            "Chi2-LR OOF: 0.134782 | C=200, steps=2 in 11.19s\n"
          ]
        },
        {
          "output_type": "stream",
          "name": "stderr",
          "text": [
            "/usr/local/lib/python3.11/dist-packages/sklearn/linear_model/_logistic.py:1247: FutureWarning: 'multi_class' was deprecated in version 1.5 and will be removed in 1.7. From then on, it will always use 'multinomial'. Leave it to its default value to avoid this warning.\n  warnings.warn(\n"
          ]
        },
        {
          "output_type": "stream",
          "name": "stdout",
          "text": [
            "[Chi2-LR fold 1/6] C=300, steps=2\n"
          ]
        },
        {
          "output_type": "stream",
          "name": "stderr",
          "text": [
            "/usr/local/lib/python3.11/dist-packages/sklearn/linear_model/_logistic.py:1247: FutureWarning: 'multi_class' was deprecated in version 1.5 and will be removed in 1.7. From then on, it will always use 'multinomial'. Leave it to its default value to avoid this warning.\n  warnings.warn(\n"
          ]
        },
        {
          "output_type": "stream",
          "name": "stdout",
          "text": [
            "[Chi2-LR fold 2/6] C=300, steps=2\n"
          ]
        },
        {
          "output_type": "stream",
          "name": "stderr",
          "text": [
            "/usr/local/lib/python3.11/dist-packages/sklearn/linear_model/_logistic.py:1247: FutureWarning: 'multi_class' was deprecated in version 1.5 and will be removed in 1.7. From then on, it will always use 'multinomial'. Leave it to its default value to avoid this warning.\n  warnings.warn(\n"
          ]
        },
        {
          "output_type": "stream",
          "name": "stdout",
          "text": [
            "[Chi2-LR fold 3/6] C=300, steps=2\n"
          ]
        },
        {
          "output_type": "stream",
          "name": "stderr",
          "text": [
            "/usr/local/lib/python3.11/dist-packages/sklearn/linear_model/_logistic.py:1247: FutureWarning: 'multi_class' was deprecated in version 1.5 and will be removed in 1.7. From then on, it will always use 'multinomial'. Leave it to its default value to avoid this warning.\n  warnings.warn(\n"
          ]
        },
        {
          "output_type": "stream",
          "name": "stdout",
          "text": [
            "[Chi2-LR fold 4/6] C=300, steps=2\n"
          ]
        },
        {
          "output_type": "stream",
          "name": "stderr",
          "text": [
            "/usr/local/lib/python3.11/dist-packages/sklearn/linear_model/_logistic.py:1247: FutureWarning: 'multi_class' was deprecated in version 1.5 and will be removed in 1.7. From then on, it will always use 'multinomial'. Leave it to its default value to avoid this warning.\n  warnings.warn(\n"
          ]
        },
        {
          "output_type": "stream",
          "name": "stdout",
          "text": [
            "[Chi2-LR fold 5/6] C=300, steps=2\n"
          ]
        },
        {
          "output_type": "stream",
          "name": "stderr",
          "text": [
            "/usr/local/lib/python3.11/dist-packages/sklearn/linear_model/_logistic.py:1247: FutureWarning: 'multi_class' was deprecated in version 1.5 and will be removed in 1.7. From then on, it will always use 'multinomial'. Leave it to its default value to avoid this warning.\n  warnings.warn(\n"
          ]
        },
        {
          "output_type": "stream",
          "name": "stdout",
          "text": [
            "[Chi2-LR fold 6/6] C=300, steps=2\n"
          ]
        },
        {
          "output_type": "stream",
          "name": "stdout",
          "text": [
            "Chi2-LR OOF: 0.152987 | C=300, steps=2 in 10.02s\n"
          ]
        },
        {
          "output_type": "stream",
          "name": "stderr",
          "text": [
            "/usr/local/lib/python3.11/dist-packages/sklearn/linear_model/_logistic.py:1247: FutureWarning: 'multi_class' was deprecated in version 1.5 and will be removed in 1.7. From then on, it will always use 'multinomial'. Leave it to its default value to avoid this warning.\n  warnings.warn(\n"
          ]
        },
        {
          "output_type": "stream",
          "name": "stdout",
          "text": [
            "[Chi2-LR fold 1/6] C=500, steps=2\n"
          ]
        },
        {
          "output_type": "stream",
          "name": "stderr",
          "text": [
            "/usr/local/lib/python3.11/dist-packages/sklearn/linear_model/_logistic.py:1247: FutureWarning: 'multi_class' was deprecated in version 1.5 and will be removed in 1.7. From then on, it will always use 'multinomial'. Leave it to its default value to avoid this warning.\n  warnings.warn(\n"
          ]
        },
        {
          "output_type": "stream",
          "name": "stdout",
          "text": [
            "[Chi2-LR fold 2/6] C=500, steps=2\n"
          ]
        },
        {
          "output_type": "stream",
          "name": "stderr",
          "text": [
            "/usr/local/lib/python3.11/dist-packages/sklearn/linear_model/_logistic.py:1247: FutureWarning: 'multi_class' was deprecated in version 1.5 and will be removed in 1.7. From then on, it will always use 'multinomial'. Leave it to its default value to avoid this warning.\n  warnings.warn(\n"
          ]
        },
        {
          "output_type": "stream",
          "name": "stdout",
          "text": [
            "[Chi2-LR fold 3/6] C=500, steps=2\n"
          ]
        },
        {
          "output_type": "stream",
          "name": "stderr",
          "text": [
            "/usr/local/lib/python3.11/dist-packages/sklearn/linear_model/_logistic.py:1247: FutureWarning: 'multi_class' was deprecated in version 1.5 and will be removed in 1.7. From then on, it will always use 'multinomial'. Leave it to its default value to avoid this warning.\n  warnings.warn(\n"
          ]
        },
        {
          "output_type": "stream",
          "name": "stdout",
          "text": [
            "[Chi2-LR fold 4/6] C=500, steps=2\n"
          ]
        },
        {
          "output_type": "stream",
          "name": "stderr",
          "text": [
            "/usr/local/lib/python3.11/dist-packages/sklearn/linear_model/_logistic.py:1247: FutureWarning: 'multi_class' was deprecated in version 1.5 and will be removed in 1.7. From then on, it will always use 'multinomial'. Leave it to its default value to avoid this warning.\n  warnings.warn(\n"
          ]
        },
        {
          "output_type": "stream",
          "name": "stdout",
          "text": [
            "[Chi2-LR fold 5/6] C=500, steps=2\n"
          ]
        },
        {
          "output_type": "stream",
          "name": "stderr",
          "text": [
            "/usr/local/lib/python3.11/dist-packages/sklearn/linear_model/_logistic.py:1247: FutureWarning: 'multi_class' was deprecated in version 1.5 and will be removed in 1.7. From then on, it will always use 'multinomial'. Leave it to its default value to avoid this warning.\n  warnings.warn(\n"
          ]
        },
        {
          "output_type": "stream",
          "name": "stdout",
          "text": [
            "[Chi2-LR fold 6/6] C=500, steps=2\n"
          ]
        },
        {
          "output_type": "stream",
          "name": "stdout",
          "text": [
            "Chi2-LR OOF: 0.172753 | C=500, steps=2 in 8.31s\n"
          ]
        },
        {
          "output_type": "stream",
          "name": "stderr",
          "text": [
            "/usr/local/lib/python3.11/dist-packages/sklearn/linear_model/_logistic.py:1247: FutureWarning: 'multi_class' was deprecated in version 1.5 and will be removed in 1.7. From then on, it will always use 'multinomial'. Leave it to its default value to avoid this warning.\n  warnings.warn(\n"
          ]
        },
        {
          "output_type": "stream",
          "name": "stdout",
          "text": [
            "[Chi2-LR fold 1/6] C=1000, steps=2\n"
          ]
        },
        {
          "output_type": "stream",
          "name": "stderr",
          "text": [
            "/usr/local/lib/python3.11/dist-packages/sklearn/linear_model/_logistic.py:1247: FutureWarning: 'multi_class' was deprecated in version 1.5 and will be removed in 1.7. From then on, it will always use 'multinomial'. Leave it to its default value to avoid this warning.\n  warnings.warn(\n"
          ]
        },
        {
          "output_type": "stream",
          "name": "stdout",
          "text": [
            "[Chi2-LR fold 2/6] C=1000, steps=2\n"
          ]
        },
        {
          "output_type": "stream",
          "name": "stderr",
          "text": [
            "/usr/local/lib/python3.11/dist-packages/sklearn/linear_model/_logistic.py:1247: FutureWarning: 'multi_class' was deprecated in version 1.5 and will be removed in 1.7. From then on, it will always use 'multinomial'. Leave it to its default value to avoid this warning.\n  warnings.warn(\n"
          ]
        },
        {
          "output_type": "stream",
          "name": "stdout",
          "text": [
            "[Chi2-LR fold 3/6] C=1000, steps=2\n"
          ]
        },
        {
          "output_type": "stream",
          "name": "stderr",
          "text": [
            "/usr/local/lib/python3.11/dist-packages/sklearn/linear_model/_logistic.py:1247: FutureWarning: 'multi_class' was deprecated in version 1.5 and will be removed in 1.7. From then on, it will always use 'multinomial'. Leave it to its default value to avoid this warning.\n  warnings.warn(\n"
          ]
        },
        {
          "output_type": "stream",
          "name": "stdout",
          "text": [
            "[Chi2-LR fold 4/6] C=1000, steps=2\n"
          ]
        },
        {
          "output_type": "stream",
          "name": "stderr",
          "text": [
            "/usr/local/lib/python3.11/dist-packages/sklearn/linear_model/_logistic.py:1247: FutureWarning: 'multi_class' was deprecated in version 1.5 and will be removed in 1.7. From then on, it will always use 'multinomial'. Leave it to its default value to avoid this warning.\n  warnings.warn(\n"
          ]
        },
        {
          "output_type": "stream",
          "name": "stdout",
          "text": [
            "[Chi2-LR fold 5/6] C=1000, steps=2\n"
          ]
        },
        {
          "output_type": "stream",
          "name": "stderr",
          "text": [
            "/usr/local/lib/python3.11/dist-packages/sklearn/linear_model/_logistic.py:1247: FutureWarning: 'multi_class' was deprecated in version 1.5 and will be removed in 1.7. From then on, it will always use 'multinomial'. Leave it to its default value to avoid this warning.\n  warnings.warn(\n"
          ]
        },
        {
          "output_type": "stream",
          "name": "stdout",
          "text": [
            "[Chi2-LR fold 6/6] C=1000, steps=2\n"
          ]
        },
        {
          "output_type": "stream",
          "name": "stdout",
          "text": [
            "Chi2-LR OOF: 0.237121 | C=1000, steps=2 in 7.56s\n"
          ]
        },
        {
          "output_type": "stream",
          "name": "stdout",
          "text": [
            "Best Chi2-LR: ((100, 2), 0.10987776938474948)\n"
          ]
        }
      ]
    },
    {
      "id": "1a45df51-4d5e-4e20-a23f-59f620f61e60",
      "cell_type": "code",
      "metadata": {},
      "source": [
        "# SLSQP blend: lr_base, chi2_lr, block_hell_lr, lgbm(if exists) -> temp scale -> Hungarian\n",
        "import numpy as np, pandas as pd, sys, subprocess, time, os\n",
        "from sklearn.metrics import log_loss\n",
        "\n",
        "def ensure_scipy():\n",
        "    try:\n",
        "        import scipy  # noqa: F401\n",
        "        from scipy.optimize import minimize, linear_sum_assignment  # noqa: F401\n",
        "        return True\n",
        "    except Exception:\n",
        "        print('Installing scipy...')\n",
        "        subprocess.run([sys.executable, '-m', 'pip', 'install', '-q', 'scipy'], check=True)\n",
        "        return True\n",
        "\n",
        "ensure_scipy()\n",
        "from scipy.optimize import minimize\n",
        "from scipy.optimize import linear_sum_assignment\n",
        "\n",
        "def clip_norm(P):\n",
        "    P = np.clip(P, 1e-15, 1-1e-15)\n",
        "    return P / P.sum(axis=1, keepdims=True)\n",
        "\n",
        "# Load candidates\n",
        "cands = []  # (name, oof, test)\n",
        "try:\n",
        "    oof_lr = np.load('oof_logreg_nopca.npy'); test_lr = np.load('test_pred_logreg_nopca.npy')\n",
        "    cands.append(('lr_base', oof_lr, test_lr))\n",
        "except Exception as e:\n",
        "    print('Missing lr_base:', e)\n",
        "try:\n",
        "    oof_c2 = np.load('oof_chi2_lr.npy'); test_c2 = np.load('test_chi2_lr.npy')\n",
        "    cands.append(('chi2_lr', oof_c2, test_c2))\n",
        "except Exception as e:\n",
        "    print('Missing chi2_lr:', e)\n",
        "try:\n",
        "    oof_bh = np.load('oof_block_hell_lr.npy'); test_bh = np.load('test_block_hell_lr.npy')\n",
        "    cands.append(('block_hell_lr', oof_bh, test_bh))\n",
        "except Exception as e:\n",
        "    print('Missing block_hell_lr:', e)\n",
        "try:\n",
        "    oof_lgb = np.load('oof_lgbm.npy'); test_lgb = np.load('test_pred_lgbm.npy')\n",
        "    cands.append(('lgbm', oof_lgb, test_lgb))\n",
        "except Exception as e:\n",
        "    print('Missing lgbm (skipping):', e)\n",
        "\n",
        "assert len(cands) >= 2, 'Need at least two candidates for a meaningful blend'\n",
        "names = [n for n,_,_ in cands]\n",
        "oofs = [o for _,o,_ in cands]\n",
        "tests = [t for _,_,t in cands]\n",
        "K = oofs[0].shape[1]\n",
        "\n",
        "# Build SLSQP optimization with constraints: w>=0, sum(w)=1\n",
        "def blend_from_w(weights, mats):\n",
        "    P = np.zeros_like(mats[0])\n",
        "    for wi, Pi in zip(weights, mats):\n",
        "        P += wi * Pi\n",
        "    return clip_norm(P)\n",
        "\n",
        "def objective(w):\n",
        "    P = blend_from_w(w, oofs)\n",
        "    return log_loss(y_enc, P, labels=list(range(K)))\n",
        "\n",
        "m = len(cands)\n",
        "w0 = np.ones(m, dtype=np.float64) / m\n",
        "bounds = [(0.0, 1.0)] * m\n",
        "cons = ({'type': 'eq', 'fun': lambda w: np.sum(w) - 1.0},)\n",
        "t0 = time.time()\n",
        "res = minimize(objective, w0, method='SLSQP', bounds=bounds, constraints=cons, options={'maxiter': 500, 'ftol': 1e-9, 'disp': False})\n",
        "print('SLSQP success:', res.success, 'status:', res.status, 'message:', res.message, 'time:', f'{time.time()-t0:.2f}s')\n",
        "w_opt = res.x if res.success else w0\n",
        "w_opt = np.maximum(w_opt, 0); w_opt = w_opt / w_opt.sum()\n",
        "print('Weights:', dict(zip(names, np.round(w_opt, 4))))\n",
        "oof_blend = blend_from_w(w_opt, oofs)\n",
        "test_blend = blend_from_w(w_opt, tests)\n",
        "oof_ll = log_loss(y_enc, oof_blend, labels=list(range(K)))\n",
        "print(f'Blended OOF logloss: {oof_ll:.6f}')\n",
        "\n",
        "# Temperature scaling on blended probs: p' = normalize(p**alpha)\n",
        "def temp_scale(P, alpha):\n",
        "    Ps = np.power(np.clip(P, 1e-15, 1-1e-15), float(alpha))\n",
        "    return Ps / Ps.sum(axis=1, keepdims=True)\n",
        "\n",
        "alphas = np.linspace(0.6, 2.2, 161)\n",
        "best = (1.0, 1e9)\n",
        "for a in alphas:\n",
        "    ll = log_loss(y_enc, temp_scale(oof_blend, a), labels=list(range(K)))\n",
        "    if ll < best[1]:\n",
        "        best = (float(a), float(ll))\n",
        "print(f'Temp scaling on blend: alpha={best[0]:.4f}, OOF={best[1]:.6f}')\n",
        "alpha_opt = best[0]\n",
        "oof_cal = temp_scale(oof_blend, alpha_opt)\n",
        "test_cal = temp_scale(test_blend, alpha_opt)\n",
        "\n",
        "# Soft calibrated submission (for sanity check if needed)\n",
        "pred_df_soft = pd.DataFrame(test_cal, columns=list(le.classes_))\n",
        "sub_cols = [c for c in sample_sub.columns if c != id_col]\n",
        "pred_df_soft = pred_df_soft[sub_cols]\n",
        "submission_soft = pd.concat([test[[id_col]].reset_index(drop=True), pred_df_soft.reset_index(drop=True)], axis=1)\n",
        "submission_soft.to_csv('submission_soft_blend_calibrated.csv', index=False)\n",
        "print('Wrote submission_soft_blend_calibrated.csv', submission_soft.shape)\n",
        "\n",
        "# Hungarian assignment on calibrated blend\n",
        "cost = -np.log(np.clip(test_cal, 1e-15, 1-1e-15))\n",
        "row_ind, col_ind = linear_sum_assignment(cost)\n",
        "assign = np.zeros_like(test_cal)\n",
        "assign[row_ind, col_ind] = 1.0\n",
        "pred_df_hard = pd.DataFrame(assign, columns=list(le.classes_))\n",
        "pred_df_hard = pred_df_hard[sub_cols]\n",
        "submission_hard = pd.concat([test[[id_col]].reset_index(drop=True), pred_df_hard.reset_index(drop=True)], axis=1)\n",
        "submission_hard.to_csv('submission.csv', index=False)\n",
        "print('Saved submission.csv (Hungarian on calibrated blend). Shape:', submission_hard.shape)"
      ],
      "execution_count": 19,
      "outputs": [
        {
          "output_type": "stream",
          "name": "stdout",
          "text": [
            "Missing lgbm (skipping): [Errno 2] No such file or directory: 'oof_lgbm.npy'\nSLSQP success: True status: 0 message: Optimization terminated successfully time: 0.14s\nWeights: {'lr_base': 0.5687, 'chi2_lr': 0.4313, 'block_hell_lr': 0.0}\nBlended OOF logloss: 0.043800\n"
          ]
        },
        {
          "output_type": "stream",
          "name": "stdout",
          "text": [
            "Temp scaling on blend: alpha=1.8500, OOF=0.031028\nWrote submission_soft_blend_calibrated.csv (99, 100)\nSaved submission.csv (Hungarian on calibrated blend). Shape: (99, 100)\n"
          ]
        }
      ]
    },
    {
      "id": "ebc5e146-ec5d-4526-96bb-253b387fabb5",
      "cell_type": "code",
      "metadata": {},
      "source": [
        "# Run improved Chi2 + LinearSVC (Platt) with tight grid per expert advice\n",
        "print('Running Chi2-LinSVC (Platt), steps=2, Cs=(1,2,4)...', flush=True)\n",
        "run_chi2_linsvc(sample_steps=2, Cs=(1,2,4))"
      ],
      "execution_count": 20,
      "outputs": [
        {
          "output_type": "stream",
          "name": "stdout",
          "text": [
            "Running Chi2-LinSVC (Platt), steps=2, Cs=(1,2,4)...\n"
          ]
        },
        {
          "output_type": "stream",
          "name": "stderr",
          "text": [
            "/usr/local/lib/python3.11/dist-packages/sklearn/svm/_base.py:1235: ConvergenceWarning: Liblinear failed to converge, increase the number of iterations.\n  warnings.warn(\n"
          ]
        },
        {
          "output_type": "stream",
          "name": "stderr",
          "text": [
            "/usr/local/lib/python3.11/dist-packages/sklearn/svm/_base.py:1235: ConvergenceWarning: Liblinear failed to converge, increase the number of iterations.\n  warnings.warn(\n"
          ]
        },
        {
          "output_type": "stream",
          "name": "stderr",
          "text": [
            "/usr/local/lib/python3.11/dist-packages/sklearn/svm/_base.py:1235: ConvergenceWarning: Liblinear failed to converge, increase the number of iterations.\n  warnings.warn(\n"
          ]
        },
        {
          "output_type": "stream",
          "name": "stdout",
          "text": [
            "[Chi2-LinSVC fold 1/6] C=1, steps=2\n"
          ]
        },
        {
          "output_type": "stream",
          "name": "stderr",
          "text": [
            "/usr/local/lib/python3.11/dist-packages/sklearn/svm/_base.py:1235: ConvergenceWarning: Liblinear failed to converge, increase the number of iterations.\n  warnings.warn(\n"
          ]
        },
        {
          "output_type": "stream",
          "name": "stderr",
          "text": [
            "/usr/local/lib/python3.11/dist-packages/sklearn/svm/_base.py:1235: ConvergenceWarning: Liblinear failed to converge, increase the number of iterations.\n  warnings.warn(\n"
          ]
        },
        {
          "output_type": "stream",
          "name": "stdout",
          "text": [
            "[Chi2-LinSVC fold 2/6] C=1, steps=2\n"
          ]
        },
        {
          "output_type": "stream",
          "name": "stderr",
          "text": [
            "/usr/local/lib/python3.11/dist-packages/sklearn/svm/_base.py:1235: ConvergenceWarning: Liblinear failed to converge, increase the number of iterations.\n  warnings.warn(\n"
          ]
        },
        {
          "output_type": "stream",
          "name": "stderr",
          "text": [
            "/usr/local/lib/python3.11/dist-packages/sklearn/svm/_base.py:1235: ConvergenceWarning: Liblinear failed to converge, increase the number of iterations.\n  warnings.warn(\n"
          ]
        },
        {
          "output_type": "stream",
          "name": "stderr",
          "text": [
            "/usr/local/lib/python3.11/dist-packages/sklearn/svm/_base.py:1235: ConvergenceWarning: Liblinear failed to converge, increase the number of iterations.\n  warnings.warn(\n"
          ]
        },
        {
          "output_type": "stream",
          "name": "stdout",
          "text": [
            "[Chi2-LinSVC fold 3/6] C=1, steps=2\n"
          ]
        },
        {
          "output_type": "stream",
          "name": "stderr",
          "text": [
            "/usr/local/lib/python3.11/dist-packages/sklearn/svm/_base.py:1235: ConvergenceWarning: Liblinear failed to converge, increase the number of iterations.\n  warnings.warn(\n"
          ]
        },
        {
          "output_type": "stream",
          "name": "stderr",
          "text": [
            "/usr/local/lib/python3.11/dist-packages/sklearn/svm/_base.py:1235: ConvergenceWarning: Liblinear failed to converge, increase the number of iterations.\n  warnings.warn(\n"
          ]
        },
        {
          "output_type": "stream",
          "name": "stderr",
          "text": [
            "/usr/local/lib/python3.11/dist-packages/sklearn/svm/_base.py:1235: ConvergenceWarning: Liblinear failed to converge, increase the number of iterations.\n  warnings.warn(\n"
          ]
        },
        {
          "output_type": "stream",
          "name": "stdout",
          "text": [
            "[Chi2-LinSVC fold 4/6] C=1, steps=2\n"
          ]
        },
        {
          "output_type": "stream",
          "name": "stderr",
          "text": [
            "/usr/local/lib/python3.11/dist-packages/sklearn/svm/_base.py:1235: ConvergenceWarning: Liblinear failed to converge, increase the number of iterations.\n  warnings.warn(\n"
          ]
        },
        {
          "output_type": "stream",
          "name": "stderr",
          "text": [
            "/usr/local/lib/python3.11/dist-packages/sklearn/svm/_base.py:1235: ConvergenceWarning: Liblinear failed to converge, increase the number of iterations.\n  warnings.warn(\n"
          ]
        },
        {
          "output_type": "stream",
          "name": "stdout",
          "text": [
            "[Chi2-LinSVC fold 5/6] C=1, steps=2\n"
          ]
        },
        {
          "output_type": "stream",
          "name": "stderr",
          "text": [
            "/usr/local/lib/python3.11/dist-packages/sklearn/svm/_base.py:1235: ConvergenceWarning: Liblinear failed to converge, increase the number of iterations.\n  warnings.warn(\n"
          ]
        },
        {
          "output_type": "stream",
          "name": "stderr",
          "text": [
            "/usr/local/lib/python3.11/dist-packages/sklearn/svm/_base.py:1235: ConvergenceWarning: Liblinear failed to converge, increase the number of iterations.\n  warnings.warn(\n"
          ]
        },
        {
          "output_type": "stream",
          "name": "stdout",
          "text": [
            "[Chi2-LinSVC fold 6/6] C=1, steps=2\n"
          ]
        },
        {
          "output_type": "stream",
          "name": "stdout",
          "text": [
            "Chi2-LinSVC OOF: 0.155785 | C=1, steps=2 in 155.42s\n"
          ]
        },
        {
          "output_type": "stream",
          "name": "stderr",
          "text": [
            "/usr/local/lib/python3.11/dist-packages/sklearn/svm/_base.py:1235: ConvergenceWarning: Liblinear failed to converge, increase the number of iterations.\n  warnings.warn(\n"
          ]
        },
        {
          "output_type": "stream",
          "name": "stderr",
          "text": [
            "/usr/local/lib/python3.11/dist-packages/sklearn/svm/_base.py:1235: ConvergenceWarning: Liblinear failed to converge, increase the number of iterations.\n  warnings.warn(\n"
          ]
        },
        {
          "output_type": "stream",
          "name": "stderr",
          "text": [
            "/usr/local/lib/python3.11/dist-packages/sklearn/svm/_base.py:1235: ConvergenceWarning: Liblinear failed to converge, increase the number of iterations.\n  warnings.warn(\n"
          ]
        },
        {
          "output_type": "stream",
          "name": "stdout",
          "text": [
            "[Chi2-LinSVC fold 1/6] C=2, steps=2\n"
          ]
        },
        {
          "output_type": "stream",
          "name": "stderr",
          "text": [
            "/usr/local/lib/python3.11/dist-packages/sklearn/svm/_base.py:1235: ConvergenceWarning: Liblinear failed to converge, increase the number of iterations.\n  warnings.warn(\n"
          ]
        },
        {
          "output_type": "stream",
          "name": "stderr",
          "text": [
            "/usr/local/lib/python3.11/dist-packages/sklearn/svm/_base.py:1235: ConvergenceWarning: Liblinear failed to converge, increase the number of iterations.\n  warnings.warn(\n"
          ]
        },
        {
          "output_type": "stream",
          "name": "stdout",
          "text": [
            "[Chi2-LinSVC fold 2/6] C=2, steps=2\n"
          ]
        },
        {
          "output_type": "stream",
          "name": "stderr",
          "text": [
            "/usr/local/lib/python3.11/dist-packages/sklearn/svm/_base.py:1235: ConvergenceWarning: Liblinear failed to converge, increase the number of iterations.\n  warnings.warn(\n"
          ]
        },
        {
          "output_type": "stream",
          "name": "stderr",
          "text": [
            "/usr/local/lib/python3.11/dist-packages/sklearn/svm/_base.py:1235: ConvergenceWarning: Liblinear failed to converge, increase the number of iterations.\n  warnings.warn(\n"
          ]
        },
        {
          "output_type": "stream",
          "name": "stderr",
          "text": [
            "/usr/local/lib/python3.11/dist-packages/sklearn/svm/_base.py:1235: ConvergenceWarning: Liblinear failed to converge, increase the number of iterations.\n  warnings.warn(\n"
          ]
        },
        {
          "output_type": "stream",
          "name": "stdout",
          "text": [
            "[Chi2-LinSVC fold 3/6] C=2, steps=2\n"
          ]
        },
        {
          "output_type": "stream",
          "name": "stderr",
          "text": [
            "/usr/local/lib/python3.11/dist-packages/sklearn/svm/_base.py:1235: ConvergenceWarning: Liblinear failed to converge, increase the number of iterations.\n  warnings.warn(\n"
          ]
        },
        {
          "output_type": "stream",
          "name": "stderr",
          "text": [
            "/usr/local/lib/python3.11/dist-packages/sklearn/svm/_base.py:1235: ConvergenceWarning: Liblinear failed to converge, increase the number of iterations.\n  warnings.warn(\n"
          ]
        },
        {
          "output_type": "stream",
          "name": "stderr",
          "text": [
            "/usr/local/lib/python3.11/dist-packages/sklearn/svm/_base.py:1235: ConvergenceWarning: Liblinear failed to converge, increase the number of iterations.\n  warnings.warn(\n"
          ]
        },
        {
          "output_type": "stream",
          "name": "stdout",
          "text": [
            "[Chi2-LinSVC fold 4/6] C=2, steps=2\n"
          ]
        },
        {
          "output_type": "stream",
          "name": "stderr",
          "text": [
            "/usr/local/lib/python3.11/dist-packages/sklearn/svm/_base.py:1235: ConvergenceWarning: Liblinear failed to converge, increase the number of iterations.\n  warnings.warn(\n"
          ]
        },
        {
          "output_type": "stream",
          "name": "stderr",
          "text": [
            "/usr/local/lib/python3.11/dist-packages/sklearn/svm/_base.py:1235: ConvergenceWarning: Liblinear failed to converge, increase the number of iterations.\n  warnings.warn(\n"
          ]
        },
        {
          "output_type": "stream",
          "name": "stderr",
          "text": [
            "/usr/local/lib/python3.11/dist-packages/sklearn/svm/_base.py:1235: ConvergenceWarning: Liblinear failed to converge, increase the number of iterations.\n  warnings.warn(\n"
          ]
        },
        {
          "output_type": "stream",
          "name": "stdout",
          "text": [
            "[Chi2-LinSVC fold 5/6] C=2, steps=2\n"
          ]
        },
        {
          "output_type": "stream",
          "name": "stderr",
          "text": [
            "/usr/local/lib/python3.11/dist-packages/sklearn/svm/_base.py:1235: ConvergenceWarning: Liblinear failed to converge, increase the number of iterations.\n  warnings.warn(\n"
          ]
        },
        {
          "output_type": "stream",
          "name": "stderr",
          "text": [
            "/usr/local/lib/python3.11/dist-packages/sklearn/svm/_base.py:1235: ConvergenceWarning: Liblinear failed to converge, increase the number of iterations.\n  warnings.warn(\n"
          ]
        },
        {
          "output_type": "stream",
          "name": "stderr",
          "text": [
            "/usr/local/lib/python3.11/dist-packages/sklearn/svm/_base.py:1235: ConvergenceWarning: Liblinear failed to converge, increase the number of iterations.\n  warnings.warn(\n"
          ]
        },
        {
          "output_type": "stream",
          "name": "stdout",
          "text": [
            "[Chi2-LinSVC fold 6/6] C=2, steps=2\n"
          ]
        },
        {
          "output_type": "stream",
          "name": "stdout",
          "text": [
            "Chi2-LinSVC OOF: 0.155897 | C=2, steps=2 in 155.99s\n"
          ]
        },
        {
          "output_type": "stream",
          "name": "stderr",
          "text": [
            "/usr/local/lib/python3.11/dist-packages/sklearn/svm/_base.py:1235: ConvergenceWarning: Liblinear failed to converge, increase the number of iterations.\n  warnings.warn(\n"
          ]
        },
        {
          "output_type": "stream",
          "name": "stderr",
          "text": [
            "/usr/local/lib/python3.11/dist-packages/sklearn/svm/_base.py:1235: ConvergenceWarning: Liblinear failed to converge, increase the number of iterations.\n  warnings.warn(\n"
          ]
        },
        {
          "output_type": "stream",
          "name": "stderr",
          "text": [
            "/usr/local/lib/python3.11/dist-packages/sklearn/svm/_base.py:1235: ConvergenceWarning: Liblinear failed to converge, increase the number of iterations.\n  warnings.warn(\n"
          ]
        },
        {
          "output_type": "stream",
          "name": "stdout",
          "text": [
            "[Chi2-LinSVC fold 1/6] C=4, steps=2\n"
          ]
        },
        {
          "output_type": "stream",
          "name": "stderr",
          "text": [
            "/usr/local/lib/python3.11/dist-packages/sklearn/svm/_base.py:1235: ConvergenceWarning: Liblinear failed to converge, increase the number of iterations.\n  warnings.warn(\n"
          ]
        },
        {
          "output_type": "stream",
          "name": "stderr",
          "text": [
            "/usr/local/lib/python3.11/dist-packages/sklearn/svm/_base.py:1235: ConvergenceWarning: Liblinear failed to converge, increase the number of iterations.\n  warnings.warn(\n"
          ]
        },
        {
          "output_type": "stream",
          "name": "stderr",
          "text": [
            "/usr/local/lib/python3.11/dist-packages/sklearn/svm/_base.py:1235: ConvergenceWarning: Liblinear failed to converge, increase the number of iterations.\n  warnings.warn(\n"
          ]
        },
        {
          "output_type": "stream",
          "name": "stdout",
          "text": [
            "[Chi2-LinSVC fold 2/6] C=4, steps=2\n"
          ]
        },
        {
          "output_type": "stream",
          "name": "stderr",
          "text": [
            "/usr/local/lib/python3.11/dist-packages/sklearn/svm/_base.py:1235: ConvergenceWarning: Liblinear failed to converge, increase the number of iterations.\n  warnings.warn(\n"
          ]
        },
        {
          "output_type": "stream",
          "name": "stderr",
          "text": [
            "/usr/local/lib/python3.11/dist-packages/sklearn/svm/_base.py:1235: ConvergenceWarning: Liblinear failed to converge, increase the number of iterations.\n  warnings.warn(\n"
          ]
        },
        {
          "output_type": "stream",
          "name": "stderr",
          "text": [
            "/usr/local/lib/python3.11/dist-packages/sklearn/svm/_base.py:1235: ConvergenceWarning: Liblinear failed to converge, increase the number of iterations.\n  warnings.warn(\n"
          ]
        },
        {
          "output_type": "stream",
          "name": "stdout",
          "text": [
            "[Chi2-LinSVC fold 3/6] C=4, steps=2\n"
          ]
        },
        {
          "output_type": "stream",
          "name": "stderr",
          "text": [
            "/usr/local/lib/python3.11/dist-packages/sklearn/svm/_base.py:1235: ConvergenceWarning: Liblinear failed to converge, increase the number of iterations.\n  warnings.warn(\n"
          ]
        },
        {
          "output_type": "stream",
          "name": "stderr",
          "text": [
            "/usr/local/lib/python3.11/dist-packages/sklearn/svm/_base.py:1235: ConvergenceWarning: Liblinear failed to converge, increase the number of iterations.\n  warnings.warn(\n"
          ]
        }
      ]
    },
    {
      "id": "e81c565f-6acb-49e1-9d69-f511d58a1251",
      "cell_type": "code",
      "metadata": {},
      "source": [
        "# Overwrite submission.csv with soft calibrated blend (no Hungarian)\n",
        "import pandas as pd\n",
        "soft_path = 'submission_soft_blend_calibrated.csv'\n",
        "df = pd.read_csv(soft_path)\n",
        "df.to_csv('submission.csv', index=False)\n",
        "print('submission.csv overwritten with soft calibrated blend:', df.shape)"
      ],
      "execution_count": 21,
      "outputs": [
        {
          "output_type": "stream",
          "name": "stdout",
          "text": [
            "submission.csv overwritten with soft calibrated blend: (99, 100)\n"
          ]
        }
      ]
    },
    {
      "id": "e31c507d-856e-454f-a18f-8a4887bf05b4",
      "cell_type": "code",
      "metadata": {},
      "source": [
        "# Stacking meta-learner on OOF probabilities -> temp scale -> write soft and Hungarian submissions\n",
        "import numpy as np, pandas as pd, json, time, sys, subprocess\n",
        "from sklearn.linear_model import LogisticRegression\n",
        "from sklearn.metrics import log_loss\n",
        "\n",
        "def ensure_scipy():\n",
        "    try:\n",
        "        from scipy.optimize import linear_sum_assignment  # noqa: F401\n",
        "        import scipy  # noqa: F401\n",
        "        return True\n",
        "    except Exception:\n",
        "        subprocess.run([sys.executable, '-m', 'pip', 'install', '-q', 'scipy'], check=True)\n",
        "        return True\n",
        "\n",
        "def clip_norm(P):\n",
        "    P = np.clip(P, 1e-15, 1-1e-15)\n",
        "    return P / P.sum(axis=1, keepdims=True)\n",
        "\n",
        "# Load candidates (ensure at least LR base + Chi2 LR)\n",
        "cands = []\n",
        "names = []\n",
        "try:\n",
        "    oof_lr = np.load('oof_logreg_nopca.npy'); test_lr = np.load('test_pred_logreg_nopca.npy')\n",
        "    cands.append((oof_lr, test_lr)); names.append('lr_base')\n",
        "except Exception as e:\n",
        "    print('Missing lr_base:', e)\n",
        "try:\n",
        "    oof_c2 = np.load('oof_chi2_lr.npy'); test_c2 = np.load('test_chi2_lr.npy')\n",
        "    cands.append((oof_c2, test_c2)); names.append('chi2_lr')\n",
        "except Exception as e:\n",
        "    print('Missing chi2_lr:', e)\n",
        "try:\n",
        "    oof_bh = np.load('oof_block_hell_lr.npy'); test_bh = np.load('test_block_hell_lr.npy')\n",
        "    cands.append((oof_bh, test_bh)); names.append('block_hell_lr')\n",
        "except Exception as e:\n",
        "    print('Missing block_hell_lr:', e)\n",
        "try:\n",
        "    oof_lgb = np.load('oof_lgbm.npy'); test_lgb = np.load('test_pred_lgbm.npy')\n",
        "    cands.append((oof_lgb, test_lgb)); names.append('lgbm')\n",
        "except Exception as e:\n",
        "    print('Missing lgbm:', e)\n",
        "\n",
        "assert len(cands) >= 2, 'Need at least two base models for stacking'\n",
        "num_classes = cands[0][0].shape[1]\n",
        "n_train = cands[0][0].shape[0]\n",
        "n_test = cands[0][1].shape[0]\n",
        "\n",
        "# Build stacked features by concatenating probabilities\n",
        "X_meta_oof = np.concatenate([o for o, _ in cands], axis=1)\n",
        "X_meta_test_all = np.concatenate([t for _, t in cands], axis=1)\n",
        "\n",
        "# Use same 6-fold indices to avoid leakage\n",
        "with open('folds_6.json', 'r') as f:\n",
        "    fold_indices = json.load(f)\n",
        "y_idx = y_enc.astype(int)\n",
        "\n",
        "oof_stack = np.zeros((n_train, num_classes), dtype=np.float64)\n",
        "test_stack = np.zeros((n_test, num_classes), dtype=np.float64)\n",
        "\n",
        "t0 = time.time()\n",
        "for i, (trn_idx, val_idx) in enumerate(fold_indices, 1):\n",
        "    trn_idx = np.array(trn_idx); val_idx = np.array(val_idx)\n",
        "    X_tr = X_meta_oof[trn_idx]\n",
        "    X_va = X_meta_oof[val_idx]\n",
        "    # Train multinomial LR as meta-learner\n",
        "    clf = LogisticRegression(multi_class='multinomial', solver='lbfgs', C=1.0, max_iter=2000, random_state=2025)\n",
        "    clf.fit(X_tr, y_idx[trn_idx])\n",
        "    P_va = clf.predict_proba(X_va)\n",
        "    oof_stack[val_idx] = P_va\n",
        "    # Predict on test per fold and average\n",
        "    test_stack += clf.predict_proba(X_meta_test_all) / len(fold_indices)\n",
        "    ll = log_loss(y_idx[val_idx], clip_norm(P_va), labels=list(range(num_classes)))\n",
        "    print(f'[Stack fold {i}/{len(fold_indices)}] val logloss={ll:.6f}', flush=True)\n",
        "\n",
        "oof_ll = log_loss(y_idx, clip_norm(oof_stack), labels=list(range(num_classes)))\n",
        "print(f'Stack meta OOF logloss: {oof_ll:.6f} in {time.time()-t0:.2f}s')\n",
        "\n",
        "# Temperature scaling on stacked probs\n",
        "def temp_scale(P, alpha):\n",
        "    Ps = np.power(np.clip(P, 1e-15, 1-1e-15), float(alpha))\n",
        "    return Ps / Ps.sum(axis=1, keepdims=True)\n",
        "\n",
        "alphas = np.linspace(0.6, 2.2, 161)\n",
        "best = (1.0, 1e9)\n",
        "for a in alphas:\n",
        "    ll = log_loss(y_idx, temp_scale(oof_stack, a), labels=list(range(num_classes)))\n",
        "    if ll < best[1]:\n",
        "        best = (float(a), float(ll))\n",
        "print(f'Stack temp scaling: alpha={best[0]:.4f}, OOF={best[1]:.6f}')\n",
        "alpha_opt = best[0]\n",
        "oof_cal = temp_scale(oof_stack, alpha_opt)\n",
        "test_cal = temp_scale(test_stack, alpha_opt)\n",
        "\n",
        "# Save for reuse\n",
        "np.save('oof_stack.npy', oof_stack)\n",
        "np.save('test_stack.npy', test_stack)\n",
        "np.save('oof_stack_calibrated.npy', oof_cal)\n",
        "np.save('test_stack_calibrated.npy', test_cal)\n",
        "\n",
        "# Soft submission from stacked calibrated\n",
        "pred_df_soft = pd.DataFrame(clip_norm(test_cal), columns=list(le.classes_))\n",
        "sub_cols = [c for c in sample_sub.columns if c != id_col]\n",
        "pred_df_soft = pred_df_soft[sub_cols]\n",
        "submission_soft = pd.concat([test[[id_col]].reset_index(drop=True), pred_df_soft.reset_index(drop=True)], axis=1)\n",
        "submission_soft.to_csv('submission_soft_stacked_calibrated.csv', index=False)\n",
        "print('Wrote submission_soft_stacked_calibrated.csv', submission_soft.shape)\n",
        "\n",
        "# Hungarian assignment on stacked calibrated\n",
        "ensure_scipy()\n",
        "from scipy.optimize import linear_sum_assignment\n",
        "cost = -np.log(np.clip(test_cal, 1e-15, 1-1e-15))\n",
        "row_ind, col_ind = linear_sum_assignment(cost)\n",
        "assign = np.zeros_like(test_cal)\n",
        "assign[row_ind, col_ind] = 1.0\n",
        "pred_df_hard = pd.DataFrame(assign, columns=list(le.classes_))\n",
        "pred_df_hard = pred_df_hard[sub_cols]\n",
        "submission_hard = pd.concat([test[[id_col]].reset_index(drop=True), pred_df_hard.reset_index(drop=True)], axis=1)\n",
        "submission_hard.to_csv('submission.csv', index=False)\n",
        "print('Saved submission.csv (Hungarian on stacked calibrated). Shape:', submission_hard.shape)"
      ],
      "execution_count": 22,
      "outputs": [
        {
          "output_type": "stream",
          "name": "stdout",
          "text": [
            "Missing lgbm: [Errno 2] No such file or directory: 'oof_lgbm.npy'\n"
          ]
        },
        {
          "output_type": "stream",
          "name": "stderr",
          "text": [
            "/usr/local/lib/python3.11/dist-packages/sklearn/linear_model/_logistic.py:1247: FutureWarning: 'multi_class' was deprecated in version 1.5 and will be removed in 1.7. From then on, it will always use 'multinomial'. Leave it to its default value to avoid this warning.\n  warnings.warn(\n"
          ]
        },
        {
          "output_type": "stream",
          "name": "stdout",
          "text": [
            "[Stack fold 1/6] val logloss=0.374331\n"
          ]
        },
        {
          "output_type": "stream",
          "name": "stderr",
          "text": [
            "/usr/local/lib/python3.11/dist-packages/sklearn/linear_model/_logistic.py:1247: FutureWarning: 'multi_class' was deprecated in version 1.5 and will be removed in 1.7. From then on, it will always use 'multinomial'. Leave it to its default value to avoid this warning.\n  warnings.warn(\n"
          ]
        },
        {
          "output_type": "stream",
          "name": "stdout",
          "text": [
            "[Stack fold 2/6] val logloss=0.401676\n"
          ]
        },
        {
          "output_type": "stream",
          "name": "stderr",
          "text": [
            "/usr/local/lib/python3.11/dist-packages/sklearn/linear_model/_logistic.py:1247: FutureWarning: 'multi_class' was deprecated in version 1.5 and will be removed in 1.7. From then on, it will always use 'multinomial'. Leave it to its default value to avoid this warning.\n  warnings.warn(\n"
          ]
        },
        {
          "output_type": "stream",
          "name": "stdout",
          "text": [
            "[Stack fold 3/6] val logloss=0.331341\n"
          ]
        },
        {
          "output_type": "stream",
          "name": "stderr",
          "text": [
            "/usr/local/lib/python3.11/dist-packages/sklearn/linear_model/_logistic.py:1247: FutureWarning: 'multi_class' was deprecated in version 1.5 and will be removed in 1.7. From then on, it will always use 'multinomial'. Leave it to its default value to avoid this warning.\n  warnings.warn(\n"
          ]
        },
        {
          "output_type": "stream",
          "name": "stdout",
          "text": [
            "[Stack fold 4/6] val logloss=0.388734\n"
          ]
        },
        {
          "output_type": "stream",
          "name": "stderr",
          "text": [
            "/usr/local/lib/python3.11/dist-packages/sklearn/linear_model/_logistic.py:1247: FutureWarning: 'multi_class' was deprecated in version 1.5 and will be removed in 1.7. From then on, it will always use 'multinomial'. Leave it to its default value to avoid this warning.\n  warnings.warn(\n"
          ]
        },
        {
          "output_type": "stream",
          "name": "stdout",
          "text": [
            "[Stack fold 5/6] val logloss=0.360118\n"
          ]
        },
        {
          "output_type": "stream",
          "name": "stderr",
          "text": [
            "/usr/local/lib/python3.11/dist-packages/sklearn/linear_model/_logistic.py:1247: FutureWarning: 'multi_class' was deprecated in version 1.5 and will be removed in 1.7. From then on, it will always use 'multinomial'. Leave it to its default value to avoid this warning.\n  warnings.warn(\n"
          ]
        },
        {
          "output_type": "stream",
          "name": "stdout",
          "text": [
            "[Stack fold 6/6] val logloss=0.361753\n"
          ]
        },
        {
          "output_type": "stream",
          "name": "stdout",
          "text": [
            "Stack meta OOF logloss: 0.369657 in 2.16s\n"
          ]
        },
        {
          "output_type": "stream",
          "name": "stdout",
          "text": [
            "Stack temp scaling: alpha=2.1600, OOF=0.041972\nWrote submission_soft_stacked_calibrated.csv (99, 100)\nSaved submission.csv (Hungarian on stacked calibrated). Shape: (99, 100)\n"
          ]
        }
      ]
    },
    {
      "id": "c3f2b28b-163e-4079-a044-af019063db6f",
      "cell_type": "code",
      "metadata": {},
      "source": [
        "# Try Chi2 + LogisticRegression with sample_steps=3 as per expert fallback\n",
        "print('Running Chi2 + LogisticRegression: steps=3, Cs=(200,400,800)...', flush=True)\n",
        "run_chi2_lr(sample_steps=3, Cs=(200,400,800))"
      ],
      "execution_count": 23,
      "outputs": [
        {
          "output_type": "stream",
          "name": "stdout",
          "text": [
            "Running Chi2 + LogisticRegression: steps=3, Cs=(200,400,800)...\n"
          ]
        },
        {
          "output_type": "stream",
          "name": "stderr",
          "text": [
            "/usr/local/lib/python3.11/dist-packages/sklearn/linear_model/_logistic.py:1247: FutureWarning: 'multi_class' was deprecated in version 1.5 and will be removed in 1.7. From then on, it will always use 'multinomial'. Leave it to its default value to avoid this warning.\n  warnings.warn(\n"
          ]
        },
        {
          "output_type": "stream",
          "name": "stdout",
          "text": [
            "[Chi2-LR fold 1/6] C=200, steps=3\n"
          ]
        },
        {
          "output_type": "stream",
          "name": "stderr",
          "text": [
            "/usr/local/lib/python3.11/dist-packages/sklearn/linear_model/_logistic.py:1247: FutureWarning: 'multi_class' was deprecated in version 1.5 and will be removed in 1.7. From then on, it will always use 'multinomial'. Leave it to its default value to avoid this warning.\n  warnings.warn(\n"
          ]
        },
        {
          "output_type": "stream",
          "name": "stdout",
          "text": [
            "[Chi2-LR fold 2/6] C=200, steps=3\n"
          ]
        },
        {
          "output_type": "stream",
          "name": "stderr",
          "text": [
            "/usr/local/lib/python3.11/dist-packages/sklearn/linear_model/_logistic.py:1247: FutureWarning: 'multi_class' was deprecated in version 1.5 and will be removed in 1.7. From then on, it will always use 'multinomial'. Leave it to its default value to avoid this warning.\n  warnings.warn(\n"
          ]
        },
        {
          "output_type": "stream",
          "name": "stdout",
          "text": [
            "[Chi2-LR fold 3/6] C=200, steps=3\n"
          ]
        },
        {
          "output_type": "stream",
          "name": "stderr",
          "text": [
            "/usr/local/lib/python3.11/dist-packages/sklearn/linear_model/_logistic.py:1247: FutureWarning: 'multi_class' was deprecated in version 1.5 and will be removed in 1.7. From then on, it will always use 'multinomial'. Leave it to its default value to avoid this warning.\n  warnings.warn(\n"
          ]
        },
        {
          "output_type": "stream",
          "name": "stderr",
          "text": [
            "/usr/local/lib/python3.11/dist-packages/sklearn/linear_model/_logistic.py:1247: FutureWarning: 'multi_class' was deprecated in version 1.5 and will be removed in 1.7. From then on, it will always use 'multinomial'. Leave it to its default value to avoid this warning.\n  warnings.warn(\n"
          ]
        },
        {
          "output_type": "stream",
          "name": "stdout",
          "text": [
            "[Chi2-LR fold 5/6] C=200, steps=3\n"
          ]
        },
        {
          "output_type": "stream",
          "name": "stderr",
          "text": [
            "/usr/local/lib/python3.11/dist-packages/sklearn/linear_model/_logistic.py:1247: FutureWarning: 'multi_class' was deprecated in version 1.5 and will be removed in 1.7. From then on, it will always use 'multinomial'. Leave it to its default value to avoid this warning.\n  warnings.warn(\n"
          ]
        },
        {
          "output_type": "stream",
          "name": "stdout",
          "text": [
            "[Chi2-LR fold 6/6] C=200, steps=3\n"
          ]
        },
        {
          "output_type": "stream",
          "name": "stdout",
          "text": [
            "Chi2-LR OOF: 0.154042 | C=200, steps=3 in 8.41s\n"
          ]
        },
        {
          "output_type": "stream",
          "name": "stderr",
          "text": [
            "/usr/local/lib/python3.11/dist-packages/sklearn/linear_model/_logistic.py:1247: FutureWarning: 'multi_class' was deprecated in version 1.5 and will be removed in 1.7. From then on, it will always use 'multinomial'. Leave it to its default value to avoid this warning.\n  warnings.warn(\n"
          ]
        },
        {
          "output_type": "stream",
          "name": "stdout",
          "text": [
            "[Chi2-LR fold 1/6] C=400, steps=3\n"
          ]
        },
        {
          "output_type": "stream",
          "name": "stderr",
          "text": [
            "/usr/local/lib/python3.11/dist-packages/sklearn/linear_model/_logistic.py:1247: FutureWarning: 'multi_class' was deprecated in version 1.5 and will be removed in 1.7. From then on, it will always use 'multinomial'. Leave it to its default value to avoid this warning.\n  warnings.warn(\n"
          ]
        },
        {
          "output_type": "stream",
          "name": "stdout",
          "text": [
            "[Chi2-LR fold 2/6] C=400, steps=3\n"
          ]
        },
        {
          "output_type": "stream",
          "name": "stderr",
          "text": [
            "/usr/local/lib/python3.11/dist-packages/sklearn/linear_model/_logistic.py:1247: FutureWarning: 'multi_class' was deprecated in version 1.5 and will be removed in 1.7. From then on, it will always use 'multinomial'. Leave it to its default value to avoid this warning.\n  warnings.warn(\n"
          ]
        },
        {
          "output_type": "stream",
          "name": "stdout",
          "text": [
            "[Chi2-LR fold 3/6] C=400, steps=3\n"
          ]
        },
        {
          "output_type": "stream",
          "name": "stderr",
          "text": [
            "/usr/local/lib/python3.11/dist-packages/sklearn/linear_model/_logistic.py:1247: FutureWarning: 'multi_class' was deprecated in version 1.5 and will be removed in 1.7. From then on, it will always use 'multinomial'. Leave it to its default value to avoid this warning.\n  warnings.warn(\n"
          ]
        },
        {
          "output_type": "stream",
          "name": "stdout",
          "text": [
            "[Chi2-LR fold 4/6] C=400, steps=3\n"
          ]
        },
        {
          "output_type": "stream",
          "name": "stderr",
          "text": [
            "/usr/local/lib/python3.11/dist-packages/sklearn/linear_model/_logistic.py:1247: FutureWarning: 'multi_class' was deprecated in version 1.5 and will be removed in 1.7. From then on, it will always use 'multinomial'. Leave it to its default value to avoid this warning.\n  warnings.warn(\n"
          ]
        },
        {
          "output_type": "stream",
          "name": "stdout",
          "text": [
            "[Chi2-LR fold 5/6] C=400, steps=3\n"
          ]
        },
        {
          "output_type": "stream",
          "name": "stderr",
          "text": [
            "/usr/local/lib/python3.11/dist-packages/sklearn/linear_model/_logistic.py:1247: FutureWarning: 'multi_class' was deprecated in version 1.5 and will be removed in 1.7. From then on, it will always use 'multinomial'. Leave it to its default value to avoid this warning.\n  warnings.warn(\n"
          ]
        },
        {
          "output_type": "stream",
          "name": "stdout",
          "text": [
            "[Chi2-LR fold 6/6] C=400, steps=3\n"
          ]
        },
        {
          "output_type": "stream",
          "name": "stdout",
          "text": [
            "Chi2-LR OOF: 0.166020 | C=400, steps=3 in 7.56s\n"
          ]
        },
        {
          "output_type": "stream",
          "name": "stderr",
          "text": [
            "/usr/local/lib/python3.11/dist-packages/sklearn/linear_model/_logistic.py:1247: FutureWarning: 'multi_class' was deprecated in version 1.5 and will be removed in 1.7. From then on, it will always use 'multinomial'. Leave it to its default value to avoid this warning.\n  warnings.warn(\n"
          ]
        },
        {
          "output_type": "stream",
          "name": "stdout",
          "text": [
            "[Chi2-LR fold 1/6] C=800, steps=3\n"
          ]
        },
        {
          "output_type": "stream",
          "name": "stderr",
          "text": [
            "/usr/local/lib/python3.11/dist-packages/sklearn/linear_model/_logistic.py:1247: FutureWarning: 'multi_class' was deprecated in version 1.5 and will be removed in 1.7. From then on, it will always use 'multinomial'. Leave it to its default value to avoid this warning.\n  warnings.warn(\n"
          ]
        },
        {
          "output_type": "stream",
          "name": "stdout",
          "text": [
            "[Chi2-LR fold 2/6] C=800, steps=3\n"
          ]
        },
        {
          "output_type": "stream",
          "name": "stderr",
          "text": [
            "/usr/local/lib/python3.11/dist-packages/sklearn/linear_model/_logistic.py:1247: FutureWarning: 'multi_class' was deprecated in version 1.5 and will be removed in 1.7. From then on, it will always use 'multinomial'. Leave it to its default value to avoid this warning.\n  warnings.warn(\n"
          ]
        },
        {
          "output_type": "stream",
          "name": "stdout",
          "text": [
            "[Chi2-LR fold 3/6] C=800, steps=3\n"
          ]
        },
        {
          "output_type": "stream",
          "name": "stderr",
          "text": [
            "/usr/local/lib/python3.11/dist-packages/sklearn/linear_model/_logistic.py:1247: FutureWarning: 'multi_class' was deprecated in version 1.5 and will be removed in 1.7. From then on, it will always use 'multinomial'. Leave it to its default value to avoid this warning.\n  warnings.warn(\n"
          ]
        },
        {
          "output_type": "stream",
          "name": "stdout",
          "text": [
            "[Chi2-LR fold 4/6] C=800, steps=3\n"
          ]
        },
        {
          "output_type": "stream",
          "name": "stderr",
          "text": [
            "/usr/local/lib/python3.11/dist-packages/sklearn/linear_model/_logistic.py:1247: FutureWarning: 'multi_class' was deprecated in version 1.5 and will be removed in 1.7. From then on, it will always use 'multinomial'. Leave it to its default value to avoid this warning.\n  warnings.warn(\n"
          ]
        },
        {
          "output_type": "stream",
          "name": "stdout",
          "text": [
            "[Chi2-LR fold 5/6] C=800, steps=3\n"
          ]
        },
        {
          "output_type": "stream",
          "name": "stderr",
          "text": [
            "/usr/local/lib/python3.11/dist-packages/sklearn/linear_model/_logistic.py:1247: FutureWarning: 'multi_class' was deprecated in version 1.5 and will be removed in 1.7. From then on, it will always use 'multinomial'. Leave it to its default value to avoid this warning.\n  warnings.warn(\n"
          ]
        },
        {
          "output_type": "stream",
          "name": "stdout",
          "text": [
            "[Chi2-LR fold 6/6] C=800, steps=3\n"
          ]
        },
        {
          "output_type": "stream",
          "name": "stdout",
          "text": [
            "Chi2-LR OOF: 0.173514 | C=800, steps=3 in 7.76s\n"
          ]
        },
        {
          "output_type": "stream",
          "name": "stdout",
          "text": [
            "Best Chi2-LR: ((200, 3), 0.1540423627481536)\n"
          ]
        }
      ]
    },
    {
      "id": "defbe38a-ce65-467d-be8c-03eed73acbe2",
      "cell_type": "code",
      "metadata": {},
      "source": [
        "# Block-wise L1-only + per-block StandardScaler + LogisticRegression (no sqrt); save under block_hell filenames for blending reuse\n",
        "import numpy as np, time, json\n",
        "from sklearn.preprocessing import StandardScaler\n",
        "from sklearn.linear_model import LogisticRegression\n",
        "from sklearn.metrics import log_loss\n",
        "\n",
        "SEED = 2025\n",
        "X_full = train[feature_cols].values.astype(np.float64)\n",
        "X_test_full = test[feature_cols].values.astype(np.float64)\n",
        "y_idx = y_enc.astype(int)\n",
        "num_classes = len(le.classes_)\n",
        "with open('folds_6.json', 'r') as f:\n",
        "    fold_indices = json.load(f)\n",
        "\n",
        "# Reuse block indices from cell 12 if present; otherwise define\n",
        "def get_blocks(cols):\n",
        "    margin_cols = [c for c in cols if c.startswith('margin')]\n",
        "    shape_cols = [c for c in cols if c.startswith('shape')]\n",
        "    texture_cols = [c for c in cols if c.startswith('texture')]\n",
        "    m_idx = np.array([cols.index(c) for c in margin_cols])\n",
        "    s_idx = np.array([cols.index(c) for c in shape_cols])\n",
        "    t_idx = np.array([cols.index(c) for c in texture_cols])\n",
        "    return m_idx, s_idx, t_idx\n",
        "try:\n",
        "    m_idx, s_idx, t_idx\n",
        "except NameError:\n",
        "    m_idx, s_idx, t_idx = get_blocks(feature_cols)\n",
        "\n",
        "def block_l1_only(A):\n",
        "    A = np.clip(A, 0, None)\n",
        "    out = np.empty_like(A)\n",
        "    for idx in (m_idx, s_idx, t_idx):\n",
        "        B = A[:, idx]\n",
        "        denom = B.sum(axis=1, keepdims=True) + 1e-12\n",
        "        out[:, idx] = B / denom\n",
        "    return out\n",
        "\n",
        "def clip_norm(P):\n",
        "    P = np.clip(P, 1e-15, 1-1e-15)\n",
        "    return P / P.sum(axis=1, keepdims=True)\n",
        "\n",
        "Xn = block_l1_only(X_full)\n",
        "Xn_test = block_l1_only(X_test_full)\n",
        "\n",
        "best = (None, 1e9)\n",
        "best_oof = None\n",
        "best_test = None\n",
        "for C in (10.0, 20.0, 30.0, 60.0, 100.0):\n",
        "    oof = np.zeros((len(Xn), num_classes), dtype=np.float64)\n",
        "    test_pred = np.zeros((len(Xn_test), num_classes), dtype=np.float64)\n",
        "    t0 = time.time()\n",
        "    for i, (trn_idx, val_idx) in enumerate(fold_indices, 1):\n",
        "        trn_idx = np.array(trn_idx); val_idx = np.array(val_idx)\n",
        "        X_tr, X_va = Xn[trn_idx].copy(), Xn[val_idx].copy()\n",
        "        X_te = Xn_test.copy()\n",
        "        # Per-block StandardScaler\n",
        "        for idx in (m_idx, s_idx, t_idx):\n",
        "            sc = StandardScaler(with_mean=True, with_std=True)\n",
        "            X_tr[:, idx] = sc.fit_transform(X_tr[:, idx])\n",
        "            X_va[:, idx] = sc.transform(X_va[:, idx])\n",
        "            X_te[:, idx] = sc.transform(X_te[:, idx])\n",
        "        clf = LogisticRegression(multi_class='multinomial', solver='lbfgs', C=C, max_iter=4000, random_state=SEED)\n",
        "        clf.fit(X_tr, y_idx[trn_idx])\n",
        "        va_proba = clf.predict_proba(X_va)\n",
        "        oof[val_idx] = va_proba\n",
        "        test_pred += clf.predict_proba(X_te) / len(fold_indices)\n",
        "        print(f'[BlkL1 LR fold {i}/{len(fold_indices)}] C={C}', flush=True)\n",
        "    oof_ll = log_loss(y_idx, clip_norm(oof), labels=list(range(num_classes)))\n",
        "    print(f'BlkL1 LR OOF: {oof_ll:.6f} | C={C} in {time.time()-t0:.2f}s', flush=True)\n",
        "    if oof_ll < best[1]:\n",
        "        best = (C, oof_ll); best_oof = oof; best_test = test_pred\n",
        "\n",
        "# Save using block_hell filenames so existing blend cell picks it up\n",
        "np.save('oof_block_hell_lr.npy', best_oof)\n",
        "np.save('test_block_hell_lr.npy', best_test)\n",
        "print('Best Block-L1 LR (saved as block_hell):', best)"
      ],
      "execution_count": 24,
      "outputs": [
        {
          "output_type": "stream",
          "name": "stdout",
          "text": [
            "[BlkL1 LR fold 1/6] C=10.0\n"
          ]
        },
        {
          "output_type": "stream",
          "name": "stderr",
          "text": [
            "/usr/local/lib/python3.11/dist-packages/sklearn/linear_model/_logistic.py:1247: FutureWarning: 'multi_class' was deprecated in version 1.5 and will be removed in 1.7. From then on, it will always use 'multinomial'. Leave it to its default value to avoid this warning.\n  warnings.warn(\n/usr/local/lib/python3.11/dist-packages/sklearn/linear_model/_logistic.py:1247: FutureWarning: 'multi_class' was deprecated in version 1.5 and will be removed in 1.7. From then on, it will always use 'multinomial'. Leave it to its default value to avoid this warning.\n  warnings.warn(\n"
          ]
        },
        {
          "output_type": "stream",
          "name": "stdout",
          "text": [
            "[BlkL1 LR fold 2/6] C=10.0\n"
          ]
        },
        {
          "output_type": "stream",
          "name": "stderr",
          "text": [
            "/usr/local/lib/python3.11/dist-packages/sklearn/linear_model/_logistic.py:1247: FutureWarning: 'multi_class' was deprecated in version 1.5 and will be removed in 1.7. From then on, it will always use 'multinomial'. Leave it to its default value to avoid this warning.\n  warnings.warn(\n"
          ]
        },
        {
          "output_type": "stream",
          "name": "stdout",
          "text": [
            "[BlkL1 LR fold 3/6] C=10.0\n"
          ]
        },
        {
          "output_type": "stream",
          "name": "stderr",
          "text": [
            "/usr/local/lib/python3.11/dist-packages/sklearn/linear_model/_logistic.py:1247: FutureWarning: 'multi_class' was deprecated in version 1.5 and will be removed in 1.7. From then on, it will always use 'multinomial'. Leave it to its default value to avoid this warning.\n  warnings.warn(\n"
          ]
        },
        {
          "output_type": "stream",
          "name": "stdout",
          "text": [
            "[BlkL1 LR fold 4/6] C=10.0\n"
          ]
        },
        {
          "output_type": "stream",
          "name": "stderr",
          "text": [
            "/usr/local/lib/python3.11/dist-packages/sklearn/linear_model/_logistic.py:1247: FutureWarning: 'multi_class' was deprecated in version 1.5 and will be removed in 1.7. From then on, it will always use 'multinomial'. Leave it to its default value to avoid this warning.\n  warnings.warn(\n"
          ]
        },
        {
          "output_type": "stream",
          "name": "stdout",
          "text": [
            "[BlkL1 LR fold 5/6] C=10.0\n"
          ]
        },
        {
          "output_type": "stream",
          "name": "stderr",
          "text": [
            "/usr/local/lib/python3.11/dist-packages/sklearn/linear_model/_logistic.py:1247: FutureWarning: 'multi_class' was deprecated in version 1.5 and will be removed in 1.7. From then on, it will always use 'multinomial'. Leave it to its default value to avoid this warning.\n  warnings.warn(\n"
          ]
        },
        {
          "output_type": "stream",
          "name": "stdout",
          "text": [
            "[BlkL1 LR fold 6/6] C=10.0\n"
          ]
        },
        {
          "output_type": "stream",
          "name": "stdout",
          "text": [
            "BlkL1 LR OOF: 0.093609 | C=10.0 in 1.78s\n"
          ]
        },
        {
          "output_type": "stream",
          "name": "stderr",
          "text": [
            "/usr/local/lib/python3.11/dist-packages/sklearn/linear_model/_logistic.py:1247: FutureWarning: 'multi_class' was deprecated in version 1.5 and will be removed in 1.7. From then on, it will always use 'multinomial'. Leave it to its default value to avoid this warning.\n  warnings.warn(\n"
          ]
        },
        {
          "output_type": "stream",
          "name": "stdout",
          "text": [
            "[BlkL1 LR fold 1/6] C=20.0\n"
          ]
        },
        {
          "output_type": "stream",
          "name": "stderr",
          "text": [
            "/usr/local/lib/python3.11/dist-packages/sklearn/linear_model/_logistic.py:1247: FutureWarning: 'multi_class' was deprecated in version 1.5 and will be removed in 1.7. From then on, it will always use 'multinomial'. Leave it to its default value to avoid this warning.\n  warnings.warn(\n"
          ]
        },
        {
          "output_type": "stream",
          "name": "stdout",
          "text": [
            "[BlkL1 LR fold 2/6] C=20.0\n"
          ]
        },
        {
          "output_type": "stream",
          "name": "stderr",
          "text": [
            "/usr/local/lib/python3.11/dist-packages/sklearn/linear_model/_logistic.py:1247: FutureWarning: 'multi_class' was deprecated in version 1.5 and will be removed in 1.7. From then on, it will always use 'multinomial'. Leave it to its default value to avoid this warning.\n  warnings.warn(\n"
          ]
        },
        {
          "output_type": "stream",
          "name": "stdout",
          "text": [
            "[BlkL1 LR fold 3/6] C=20.0\n"
          ]
        },
        {
          "output_type": "stream",
          "name": "stderr",
          "text": [
            "/usr/local/lib/python3.11/dist-packages/sklearn/linear_model/_logistic.py:1247: FutureWarning: 'multi_class' was deprecated in version 1.5 and will be removed in 1.7. From then on, it will always use 'multinomial'. Leave it to its default value to avoid this warning.\n  warnings.warn(\n"
          ]
        },
        {
          "output_type": "stream",
          "name": "stdout",
          "text": [
            "[BlkL1 LR fold 4/6] C=20.0\n"
          ]
        },
        {
          "output_type": "stream",
          "name": "stderr",
          "text": [
            "/usr/local/lib/python3.11/dist-packages/sklearn/linear_model/_logistic.py:1247: FutureWarning: 'multi_class' was deprecated in version 1.5 and will be removed in 1.7. From then on, it will always use 'multinomial'. Leave it to its default value to avoid this warning.\n  warnings.warn(\n"
          ]
        },
        {
          "output_type": "stream",
          "name": "stdout",
          "text": [
            "[BlkL1 LR fold 5/6] C=20.0\n"
          ]
        },
        {
          "output_type": "stream",
          "name": "stderr",
          "text": [
            "/usr/local/lib/python3.11/dist-packages/sklearn/linear_model/_logistic.py:1247: FutureWarning: 'multi_class' was deprecated in version 1.5 and will be removed in 1.7. From then on, it will always use 'multinomial'. Leave it to its default value to avoid this warning.\n  warnings.warn(\n"
          ]
        },
        {
          "output_type": "stream",
          "name": "stdout",
          "text": [
            "[BlkL1 LR fold 6/6] C=20.0\n"
          ]
        },
        {
          "output_type": "stream",
          "name": "stdout",
          "text": [
            "BlkL1 LR OOF: 0.089698 | C=20.0 in 1.98s\n"
          ]
        },
        {
          "output_type": "stream",
          "name": "stderr",
          "text": [
            "/usr/local/lib/python3.11/dist-packages/sklearn/linear_model/_logistic.py:1247: FutureWarning: 'multi_class' was deprecated in version 1.5 and will be removed in 1.7. From then on, it will always use 'multinomial'. Leave it to its default value to avoid this warning.\n  warnings.warn(\n"
          ]
        },
        {
          "output_type": "stream",
          "name": "stdout",
          "text": [
            "[BlkL1 LR fold 1/6] C=30.0\n"
          ]
        },
        {
          "output_type": "stream",
          "name": "stderr",
          "text": [
            "/usr/local/lib/python3.11/dist-packages/sklearn/linear_model/_logistic.py:1247: FutureWarning: 'multi_class' was deprecated in version 1.5 and will be removed in 1.7. From then on, it will always use 'multinomial'. Leave it to its default value to avoid this warning.\n  warnings.warn(\n"
          ]
        },
        {
          "output_type": "stream",
          "name": "stdout",
          "text": [
            "[BlkL1 LR fold 2/6] C=30.0\n"
          ]
        },
        {
          "output_type": "stream",
          "name": "stderr",
          "text": [
            "/usr/local/lib/python3.11/dist-packages/sklearn/linear_model/_logistic.py:1247: FutureWarning: 'multi_class' was deprecated in version 1.5 and will be removed in 1.7. From then on, it will always use 'multinomial'. Leave it to its default value to avoid this warning.\n  warnings.warn(\n"
          ]
        },
        {
          "output_type": "stream",
          "name": "stdout",
          "text": [
            "[BlkL1 LR fold 3/6] C=30.0\n"
          ]
        },
        {
          "output_type": "stream",
          "name": "stderr",
          "text": [
            "/usr/local/lib/python3.11/dist-packages/sklearn/linear_model/_logistic.py:1247: FutureWarning: 'multi_class' was deprecated in version 1.5 and will be removed in 1.7. From then on, it will always use 'multinomial'. Leave it to its default value to avoid this warning.\n  warnings.warn(\n"
          ]
        },
        {
          "output_type": "stream",
          "name": "stderr",
          "text": [
            "/usr/local/lib/python3.11/dist-packages/sklearn/linear_model/_logistic.py:1247: FutureWarning: 'multi_class' was deprecated in version 1.5 and will be removed in 1.7. From then on, it will always use 'multinomial'. Leave it to its default value to avoid this warning.\n  warnings.warn(\n"
          ]
        },
        {
          "output_type": "stream",
          "name": "stdout",
          "text": [
            "[BlkL1 LR fold 5/6] C=30.0\n"
          ]
        },
        {
          "output_type": "stream",
          "name": "stderr",
          "text": [
            "/usr/local/lib/python3.11/dist-packages/sklearn/linear_model/_logistic.py:1247: FutureWarning: 'multi_class' was deprecated in version 1.5 and will be removed in 1.7. From then on, it will always use 'multinomial'. Leave it to its default value to avoid this warning.\n  warnings.warn(\n"
          ]
        },
        {
          "output_type": "stream",
          "name": "stdout",
          "text": [
            "[BlkL1 LR fold 6/6] C=30.0\n"
          ]
        },
        {
          "output_type": "stream",
          "name": "stdout",
          "text": [
            "BlkL1 LR OOF: 0.088921 | C=30.0 in 2.14s\n"
          ]
        },
        {
          "output_type": "stream",
          "name": "stderr",
          "text": [
            "/usr/local/lib/python3.11/dist-packages/sklearn/linear_model/_logistic.py:1247: FutureWarning: 'multi_class' was deprecated in version 1.5 and will be removed in 1.7. From then on, it will always use 'multinomial'. Leave it to its default value to avoid this warning.\n  warnings.warn(\n"
          ]
        },
        {
          "output_type": "stream",
          "name": "stdout",
          "text": [
            "[BlkL1 LR fold 1/6] C=60.0\n"
          ]
        },
        {
          "output_type": "stream",
          "name": "stderr",
          "text": [
            "/usr/local/lib/python3.11/dist-packages/sklearn/linear_model/_logistic.py:1247: FutureWarning: 'multi_class' was deprecated in version 1.5 and will be removed in 1.7. From then on, it will always use 'multinomial'. Leave it to its default value to avoid this warning.\n  warnings.warn(\n"
          ]
        },
        {
          "output_type": "stream",
          "name": "stdout",
          "text": [
            "[BlkL1 LR fold 2/6] C=60.0\n"
          ]
        },
        {
          "output_type": "stream",
          "name": "stderr",
          "text": [
            "/usr/local/lib/python3.11/dist-packages/sklearn/linear_model/_logistic.py:1247: FutureWarning: 'multi_class' was deprecated in version 1.5 and will be removed in 1.7. From then on, it will always use 'multinomial'. Leave it to its default value to avoid this warning.\n  warnings.warn(\n"
          ]
        },
        {
          "output_type": "stream",
          "name": "stdout",
          "text": [
            "[BlkL1 LR fold 3/6] C=60.0\n"
          ]
        },
        {
          "output_type": "stream",
          "name": "stderr",
          "text": [
            "/usr/local/lib/python3.11/dist-packages/sklearn/linear_model/_logistic.py:1247: FutureWarning: 'multi_class' was deprecated in version 1.5 and will be removed in 1.7. From then on, it will always use 'multinomial'. Leave it to its default value to avoid this warning.\n  warnings.warn(\n"
          ]
        },
        {
          "output_type": "stream",
          "name": "stdout",
          "text": [
            "[BlkL1 LR fold 4/6] C=60.0\n"
          ]
        },
        {
          "output_type": "stream",
          "name": "stderr",
          "text": [
            "/usr/local/lib/python3.11/dist-packages/sklearn/linear_model/_logistic.py:1247: FutureWarning: 'multi_class' was deprecated in version 1.5 and will be removed in 1.7. From then on, it will always use 'multinomial'. Leave it to its default value to avoid this warning.\n  warnings.warn(\n"
          ]
        },
        {
          "output_type": "stream",
          "name": "stdout",
          "text": [
            "[BlkL1 LR fold 5/6] C=60.0\n"
          ]
        },
        {
          "output_type": "stream",
          "name": "stderr",
          "text": [
            "/usr/local/lib/python3.11/dist-packages/sklearn/linear_model/_logistic.py:1247: FutureWarning: 'multi_class' was deprecated in version 1.5 and will be removed in 1.7. From then on, it will always use 'multinomial'. Leave it to its default value to avoid this warning.\n  warnings.warn(\n"
          ]
        },
        {
          "output_type": "stream",
          "name": "stdout",
          "text": [
            "[BlkL1 LR fold 6/6] C=60.0\n"
          ]
        },
        {
          "output_type": "stream",
          "name": "stdout",
          "text": [
            "BlkL1 LR OOF: 0.089946 | C=60.0 in 2.39s\n"
          ]
        },
        {
          "output_type": "stream",
          "name": "stderr",
          "text": [
            "/usr/local/lib/python3.11/dist-packages/sklearn/linear_model/_logistic.py:1247: FutureWarning: 'multi_class' was deprecated in version 1.5 and will be removed in 1.7. From then on, it will always use 'multinomial'. Leave it to its default value to avoid this warning.\n  warnings.warn(\n"
          ]
        },
        {
          "output_type": "stream",
          "name": "stdout",
          "text": [
            "[BlkL1 LR fold 1/6] C=100.0\n"
          ]
        },
        {
          "output_type": "stream",
          "name": "stderr",
          "text": [
            "/usr/local/lib/python3.11/dist-packages/sklearn/linear_model/_logistic.py:1247: FutureWarning: 'multi_class' was deprecated in version 1.5 and will be removed in 1.7. From then on, it will always use 'multinomial'. Leave it to its default value to avoid this warning.\n  warnings.warn(\n"
          ]
        },
        {
          "output_type": "stream",
          "name": "stdout",
          "text": [
            "[BlkL1 LR fold 2/6] C=100.0\n"
          ]
        },
        {
          "output_type": "stream",
          "name": "stderr",
          "text": [
            "/usr/local/lib/python3.11/dist-packages/sklearn/linear_model/_logistic.py:1247: FutureWarning: 'multi_class' was deprecated in version 1.5 and will be removed in 1.7. From then on, it will always use 'multinomial'. Leave it to its default value to avoid this warning.\n  warnings.warn(\n"
          ]
        },
        {
          "output_type": "stream",
          "name": "stdout",
          "text": [
            "[BlkL1 LR fold 3/6] C=100.0\n"
          ]
        },
        {
          "output_type": "stream",
          "name": "stderr",
          "text": [
            "/usr/local/lib/python3.11/dist-packages/sklearn/linear_model/_logistic.py:1247: FutureWarning: 'multi_class' was deprecated in version 1.5 and will be removed in 1.7. From then on, it will always use 'multinomial'. Leave it to its default value to avoid this warning.\n  warnings.warn(\n"
          ]
        },
        {
          "output_type": "stream",
          "name": "stdout",
          "text": [
            "[BlkL1 LR fold 4/6] C=100.0\n"
          ]
        },
        {
          "output_type": "stream",
          "name": "stderr",
          "text": [
            "/usr/local/lib/python3.11/dist-packages/sklearn/linear_model/_logistic.py:1247: FutureWarning: 'multi_class' was deprecated in version 1.5 and will be removed in 1.7. From then on, it will always use 'multinomial'. Leave it to its default value to avoid this warning.\n  warnings.warn(\n"
          ]
        },
        {
          "output_type": "stream",
          "name": "stdout",
          "text": [
            "[BlkL1 LR fold 5/6] C=100.0\n"
          ]
        },
        {
          "output_type": "stream",
          "name": "stderr",
          "text": [
            "/usr/local/lib/python3.11/dist-packages/sklearn/linear_model/_logistic.py:1247: FutureWarning: 'multi_class' was deprecated in version 1.5 and will be removed in 1.7. From then on, it will always use 'multinomial'. Leave it to its default value to avoid this warning.\n  warnings.warn(\n"
          ]
        },
        {
          "output_type": "stream",
          "name": "stdout",
          "text": [
            "[BlkL1 LR fold 6/6] C=100.0\n"
          ]
        },
        {
          "output_type": "stream",
          "name": "stdout",
          "text": [
            "BlkL1 LR OOF: 0.090940 | C=100.0 in 2.23s\n"
          ]
        },
        {
          "output_type": "stream",
          "name": "stdout",
          "text": [
            "Best Block-L1 LR (saved as block_hell): (30.0, 0.08892056812827395)\n"
          ]
        }
      ]
    },
    {
      "id": "c3b3caba-5594-4839-9b1e-925254e615da",
      "cell_type": "code",
      "metadata": {},
      "source": [
        "# Canonical Block-Hellinger (per-block L1 -> sqrt) + Global row L2 -> LR (no scaler)\n",
        "import numpy as np, json, time\n",
        "from sklearn.linear_model import LogisticRegression\n",
        "from sklearn.metrics import log_loss\n",
        "\n",
        "SEED = 2025\n",
        "X_raw = train[feature_cols].values.astype(np.float64)\n",
        "X_test_raw = test[feature_cols].values.astype(np.float64)\n",
        "y_idx = y_enc.astype(int)\n",
        "num_classes = len(le.classes_)\n",
        "\n",
        "# Build block indices (64 each for margin/shape/texture)\n",
        "def get_blocks(cols):\n",
        "    margin_cols = [c for c in cols if c.startswith('margin')]\n",
        "    shape_cols = [c for c in cols if c.startswith('shape')]\n",
        "    texture_cols = [c for c in cols if c.startswith('texture')]\n",
        "    assert len(margin_cols)==64 and len(shape_cols)==64 and len(texture_cols)==64, 'Expected 64 per block'\n",
        "    m_idx = np.array([cols.index(c) for c in margin_cols])\n",
        "    s_idx = np.array([cols.index(c) for c in shape_cols])\n",
        "    t_idx = np.array([cols.index(c) for c in texture_cols])\n",
        "    return m_idx, s_idx, t_idx\n",
        "\n",
        "m_idx, s_idx, t_idx = get_blocks(feature_cols)\n",
        "\n",
        "def block_hellinger_global_l2(A, m_idx, s_idx, t_idx):\n",
        "    A = np.clip(A, 0, None).astype(np.float64, copy=False)\n",
        "    out = np.empty_like(A)\n",
        "    for idx in (m_idx, s_idx, t_idx):\n",
        "        B = A[:, idx]\n",
        "        B = B / (B.sum(axis=1, keepdims=True) + 1e-12)\n",
        "        out[:, idx] = np.sqrt(B)\n",
        "    out = out / (np.linalg.norm(out, axis=1, keepdims=True) + 1e-12)\n",
        "    return out\n",
        "\n",
        "# Fixed 6-fold splits\n",
        "with open('folds_6.json', 'r') as f:\n",
        "    fold_indices = json.load(f)\n",
        "n_splits = len(fold_indices)\n",
        "\n",
        "def clip_norm(P):\n",
        "    P = np.clip(P, 1e-15, 1-1e-15)\n",
        "    return P / P.sum(axis=1, keepdims=True)\n",
        "\n",
        "# Precompute transformed features (row-wise ops only; no leakage)\n",
        "X_h = block_hellinger_global_l2(X_raw, m_idx, s_idx, t_idx)\n",
        "X_test_h = block_hellinger_global_l2(X_test_raw, m_idx, s_idx, t_idx)\n",
        "\n",
        "Cs = [30.0, 50.0, 80.0, 100.0, 150.0]\n",
        "best = (None, 1e9)\n",
        "best_oof = None\n",
        "best_test = None\n",
        "t_all = time.time()\n",
        "for C in Cs:\n",
        "    oof = np.zeros((len(X_h), num_classes), dtype=np.float64)\n",
        "    test_pred = np.zeros((len(X_test_h), num_classes), dtype=np.float64)\n",
        "    t0 = time.time()\n",
        "    for i, (trn_idx, val_idx) in enumerate(fold_indices, 1):\n",
        "        trn_idx = np.array(trn_idx); val_idx = np.array(val_idx)\n",
        "        X_tr, X_va = X_h[trn_idx], X_h[val_idx]\n",
        "        clf = LogisticRegression(multi_class='multinomial', solver='lbfgs', C=C, max_iter=5000, random_state=SEED)\n",
        "        fstart = time.time()\n",
        "        clf.fit(X_tr, y_idx[trn_idx])\n",
        "        va_proba = clf.predict_proba(X_va)\n",
        "        oof[val_idx] = va_proba\n",
        "        test_pred += clf.predict_proba(X_test_h) / n_splits\n",
        "        print(f'[Hellinger+L2 LR fold {i}/{n_splits}] C={C}, time={time.time()-fstart:.2f}s', flush=True)\n",
        "    oof_ll = log_loss(y_idx, clip_norm(oof), labels=list(range(num_classes)))\n",
        "    print(f'Hellinger+L2 LR OOF: {oof_ll:.6f} | C={C} in {time.time()-t0:.2f}s', flush=True)\n",
        "    if oof_ll < best[1]:\n",
        "        best = (C, oof_ll); best_oof = oof; best_test = test_pred\n",
        "\n",
        "print('Best Hellinger+L2 LR:', best, '| total {:.2f}s'.format(time.time()-t_all))\n",
        "\n",
        "# Save under dedicated and blend-compatible filenames\n",
        "np.save('oof_hellinger_lr.npy', best_oof)\n",
        "np.save('test_hellinger_lr.npy', best_test)\n",
        "np.save('oof_block_hell_lr.npy', best_oof)  # for existing blend cell compatibility\n",
        "np.save('test_block_hell_lr.npy', best_test)\n",
        "print('Saved oof_hellinger_lr.npy/test_hellinger_lr.npy and updated block_hell files')"
      ],
      "execution_count": 25,
      "outputs": [
        {
          "output_type": "stream",
          "name": "stderr",
          "text": [
            "/usr/local/lib/python3.11/dist-packages/sklearn/linear_model/_logistic.py:1247: FutureWarning: 'multi_class' was deprecated in version 1.5 and will be removed in 1.7. From then on, it will always use 'multinomial'. Leave it to its default value to avoid this warning.\n  warnings.warn(\n"
          ]
        },
        {
          "output_type": "stream",
          "name": "stdout",
          "text": [
            "[Hellinger+L2 LR fold 1/6] C=30.0, time=0.46s\n"
          ]
        },
        {
          "output_type": "stream",
          "name": "stderr",
          "text": [
            "/usr/local/lib/python3.11/dist-packages/sklearn/linear_model/_logistic.py:1247: FutureWarning: 'multi_class' was deprecated in version 1.5 and will be removed in 1.7. From then on, it will always use 'multinomial'. Leave it to its default value to avoid this warning.\n  warnings.warn(\n"
          ]
        },
        {
          "output_type": "stream",
          "name": "stdout",
          "text": [
            "[Hellinger+L2 LR fold 2/6] C=30.0, time=0.67s\n"
          ]
        },
        {
          "output_type": "stream",
          "name": "stderr",
          "text": [
            "/usr/local/lib/python3.11/dist-packages/sklearn/linear_model/_logistic.py:1247: FutureWarning: 'multi_class' was deprecated in version 1.5 and will be removed in 1.7. From then on, it will always use 'multinomial'. Leave it to its default value to avoid this warning.\n  warnings.warn(\n"
          ]
        },
        {
          "output_type": "stream",
          "name": "stdout",
          "text": [
            "[Hellinger+L2 LR fold 3/6] C=30.0, time=0.63s\n"
          ]
        },
        {
          "output_type": "stream",
          "name": "stderr",
          "text": [
            "/usr/local/lib/python3.11/dist-packages/sklearn/linear_model/_logistic.py:1247: FutureWarning: 'multi_class' was deprecated in version 1.5 and will be removed in 1.7. From then on, it will always use 'multinomial'. Leave it to its default value to avoid this warning.\n  warnings.warn(\n"
          ]
        },
        {
          "output_type": "stream",
          "name": "stdout",
          "text": [
            "[Hellinger+L2 LR fold 4/6] C=30.0, time=0.62s\n"
          ]
        },
        {
          "output_type": "stream",
          "name": "stderr",
          "text": [
            "/usr/local/lib/python3.11/dist-packages/sklearn/linear_model/_logistic.py:1247: FutureWarning: 'multi_class' was deprecated in version 1.5 and will be removed in 1.7. From then on, it will always use 'multinomial'. Leave it to its default value to avoid this warning.\n  warnings.warn(\n"
          ]
        },
        {
          "output_type": "stream",
          "name": "stdout",
          "text": [
            "[Hellinger+L2 LR fold 5/6] C=30.0, time=0.62s\n"
          ]
        },
        {
          "output_type": "stream",
          "name": "stderr",
          "text": [
            "/usr/local/lib/python3.11/dist-packages/sklearn/linear_model/_logistic.py:1247: FutureWarning: 'multi_class' was deprecated in version 1.5 and will be removed in 1.7. From then on, it will always use 'multinomial'. Leave it to its default value to avoid this warning.\n  warnings.warn(\n"
          ]
        },
        {
          "output_type": "stream",
          "name": "stdout",
          "text": [
            "[Hellinger+L2 LR fold 6/6] C=30.0, time=0.47s\n"
          ]
        },
        {
          "output_type": "stream",
          "name": "stdout",
          "text": [
            "Hellinger+L2 LR OOF: 0.613632 | C=30.0 in 3.51s\n"
          ]
        },
        {
          "output_type": "stream",
          "name": "stderr",
          "text": [
            "/usr/local/lib/python3.11/dist-packages/sklearn/linear_model/_logistic.py:1247: FutureWarning: 'multi_class' was deprecated in version 1.5 and will be removed in 1.7. From then on, it will always use 'multinomial'. Leave it to its default value to avoid this warning.\n  warnings.warn(\n"
          ]
        },
        {
          "output_type": "stream",
          "name": "stdout",
          "text": [
            "[Hellinger+L2 LR fold 1/6] C=50.0, time=0.73s\n"
          ]
        },
        {
          "output_type": "stream",
          "name": "stderr",
          "text": [
            "/usr/local/lib/python3.11/dist-packages/sklearn/linear_model/_logistic.py:1247: FutureWarning: 'multi_class' was deprecated in version 1.5 and will be removed in 1.7. From then on, it will always use 'multinomial'. Leave it to its default value to avoid this warning.\n  warnings.warn(\n"
          ]
        },
        {
          "output_type": "stream",
          "name": "stdout",
          "text": [
            "[Hellinger+L2 LR fold 2/6] C=50.0, time=0.90s\n"
          ]
        },
        {
          "output_type": "stream",
          "name": "stdout",
          "text": [
            "[Hellinger+L2 LR fold 3/6] C=50.0, time=0.67s\n"
          ]
        },
        {
          "output_type": "stream",
          "name": "stderr",
          "text": [
            "/usr/local/lib/python3.11/dist-packages/sklearn/linear_model/_logistic.py:1247: FutureWarning: 'multi_class' was deprecated in version 1.5 and will be removed in 1.7. From then on, it will always use 'multinomial'. Leave it to its default value to avoid this warning.\n  warnings.warn(\n"
          ]
        },
        {
          "output_type": "stream",
          "name": "stdout",
          "text": [
            "[Hellinger+L2 LR fold 4/6] C=50.0, time=0.71s\n"
          ]
        },
        {
          "output_type": "stream",
          "name": "stderr",
          "text": [
            "/usr/local/lib/python3.11/dist-packages/sklearn/linear_model/_logistic.py:1247: FutureWarning: 'multi_class' was deprecated in version 1.5 and will be removed in 1.7. From then on, it will always use 'multinomial'. Leave it to its default value to avoid this warning.\n  warnings.warn(\n"
          ]
        },
        {
          "output_type": "stream",
          "name": "stdout",
          "text": [
            "[Hellinger+L2 LR fold 5/6] C=50.0, time=0.83s\n"
          ]
        },
        {
          "output_type": "stream",
          "name": "stderr",
          "text": [
            "/usr/local/lib/python3.11/dist-packages/sklearn/linear_model/_logistic.py:1247: FutureWarning: 'multi_class' was deprecated in version 1.5 and will be removed in 1.7. From then on, it will always use 'multinomial'. Leave it to its default value to avoid this warning.\n  warnings.warn(\n"
          ]
        },
        {
          "output_type": "stream",
          "name": "stdout",
          "text": [
            "[Hellinger+L2 LR fold 6/6] C=50.0, time=0.96s\n"
          ]
        },
        {
          "output_type": "stream",
          "name": "stdout",
          "text": [
            "Hellinger+L2 LR OOF: 0.464014 | C=50.0 in 4.84s\n"
          ]
        },
        {
          "output_type": "stream",
          "name": "stderr",
          "text": [
            "/usr/local/lib/python3.11/dist-packages/sklearn/linear_model/_logistic.py:1247: FutureWarning: 'multi_class' was deprecated in version 1.5 and will be removed in 1.7. From then on, it will always use 'multinomial'. Leave it to its default value to avoid this warning.\n  warnings.warn(\n"
          ]
        },
        {
          "output_type": "stream",
          "name": "stdout",
          "text": [
            "[Hellinger+L2 LR fold 1/6] C=80.0, time=1.03s\n"
          ]
        },
        {
          "output_type": "stream",
          "name": "stderr",
          "text": [
            "/usr/local/lib/python3.11/dist-packages/sklearn/linear_model/_logistic.py:1247: FutureWarning: 'multi_class' was deprecated in version 1.5 and will be removed in 1.7. From then on, it will always use 'multinomial'. Leave it to its default value to avoid this warning.\n  warnings.warn(\n"
          ]
        },
        {
          "output_type": "stream",
          "name": "stdout",
          "text": [
            "[Hellinger+L2 LR fold 2/6] C=80.0, time=1.11s\n"
          ]
        },
        {
          "output_type": "stream",
          "name": "stderr",
          "text": [
            "/usr/local/lib/python3.11/dist-packages/sklearn/linear_model/_logistic.py:1247: FutureWarning: 'multi_class' was deprecated in version 1.5 and will be removed in 1.7. From then on, it will always use 'multinomial'. Leave it to its default value to avoid this warning.\n  warnings.warn(\n"
          ]
        },
        {
          "output_type": "stream",
          "name": "stdout",
          "text": [
            "[Hellinger+L2 LR fold 3/6] C=80.0, time=0.99s\n"
          ]
        },
        {
          "output_type": "stream",
          "name": "stderr",
          "text": [
            "/usr/local/lib/python3.11/dist-packages/sklearn/linear_model/_logistic.py:1247: FutureWarning: 'multi_class' was deprecated in version 1.5 and will be removed in 1.7. From then on, it will always use 'multinomial'. Leave it to its default value to avoid this warning.\n  warnings.warn(\n"
          ]
        },
        {
          "output_type": "stream",
          "name": "stdout",
          "text": [
            "[Hellinger+L2 LR fold 4/6] C=80.0, time=0.93s\n"
          ]
        },
        {
          "output_type": "stream",
          "name": "stderr",
          "text": [
            "/usr/local/lib/python3.11/dist-packages/sklearn/linear_model/_logistic.py:1247: FutureWarning: 'multi_class' was deprecated in version 1.5 and will be removed in 1.7. From then on, it will always use 'multinomial'. Leave it to its default value to avoid this warning.\n  warnings.warn(\n"
          ]
        },
        {
          "output_type": "stream",
          "name": "stdout",
          "text": [
            "[Hellinger+L2 LR fold 5/6] C=80.0, time=0.97s\n"
          ]
        },
        {
          "output_type": "stream",
          "name": "stderr",
          "text": [
            "/usr/local/lib/python3.11/dist-packages/sklearn/linear_model/_logistic.py:1247: FutureWarning: 'multi_class' was deprecated in version 1.5 and will be removed in 1.7. From then on, it will always use 'multinomial'. Leave it to its default value to avoid this warning.\n  warnings.warn(\n"
          ]
        },
        {
          "output_type": "stream",
          "name": "stdout",
          "text": [
            "[Hellinger+L2 LR fold 6/6] C=80.0, time=0.96s\n"
          ]
        },
        {
          "output_type": "stream",
          "name": "stdout",
          "text": [
            "Hellinger+L2 LR OOF: 0.366182 | C=80.0 in 6.04s\n"
          ]
        },
        {
          "output_type": "stream",
          "name": "stderr",
          "text": [
            "/usr/local/lib/python3.11/dist-packages/sklearn/linear_model/_logistic.py:1247: FutureWarning: 'multi_class' was deprecated in version 1.5 and will be removed in 1.7. From then on, it will always use 'multinomial'. Leave it to its default value to avoid this warning.\n  warnings.warn(\n"
          ]
        },
        {
          "output_type": "stream",
          "name": "stdout",
          "text": [
            "[Hellinger+L2 LR fold 1/6] C=100.0, time=0.95s\n"
          ]
        },
        {
          "output_type": "stream",
          "name": "stderr",
          "text": [
            "/usr/local/lib/python3.11/dist-packages/sklearn/linear_model/_logistic.py:1247: FutureWarning: 'multi_class' was deprecated in version 1.5 and will be removed in 1.7. From then on, it will always use 'multinomial'. Leave it to its default value to avoid this warning.\n  warnings.warn(\n"
          ]
        },
        {
          "output_type": "stream",
          "name": "stdout",
          "text": [
            "[Hellinger+L2 LR fold 2/6] C=100.0, time=1.05s\n"
          ]
        },
        {
          "output_type": "stream",
          "name": "stderr",
          "text": [
            "/usr/local/lib/python3.11/dist-packages/sklearn/linear_model/_logistic.py:1247: FutureWarning: 'multi_class' was deprecated in version 1.5 and will be removed in 1.7. From then on, it will always use 'multinomial'. Leave it to its default value to avoid this warning.\n  warnings.warn(\n"
          ]
        },
        {
          "output_type": "stream",
          "name": "stdout",
          "text": [
            "[Hellinger+L2 LR fold 3/6] C=100.0, time=0.98s\n"
          ]
        },
        {
          "output_type": "stream",
          "name": "stderr",
          "text": [
            "/usr/local/lib/python3.11/dist-packages/sklearn/linear_model/_logistic.py:1247: FutureWarning: 'multi_class' was deprecated in version 1.5 and will be removed in 1.7. From then on, it will always use 'multinomial'. Leave it to its default value to avoid this warning.\n  warnings.warn(\n"
          ]
        },
        {
          "output_type": "stream",
          "name": "stdout",
          "text": [
            "[Hellinger+L2 LR fold 4/6] C=100.0, time=0.91s\n"
          ]
        },
        {
          "output_type": "stream",
          "name": "stderr",
          "text": [
            "/usr/local/lib/python3.11/dist-packages/sklearn/linear_model/_logistic.py:1247: FutureWarning: 'multi_class' was deprecated in version 1.5 and will be removed in 1.7. From then on, it will always use 'multinomial'. Leave it to its default value to avoid this warning.\n  warnings.warn(\n"
          ]
        },
        {
          "output_type": "stream",
          "name": "stdout",
          "text": [
            "[Hellinger+L2 LR fold 5/6] C=100.0, time=0.80s\n"
          ]
        },
        {
          "output_type": "stream",
          "name": "stderr",
          "text": [
            "/usr/local/lib/python3.11/dist-packages/sklearn/linear_model/_logistic.py:1247: FutureWarning: 'multi_class' was deprecated in version 1.5 and will be removed in 1.7. From then on, it will always use 'multinomial'. Leave it to its default value to avoid this warning.\n  warnings.warn(\n"
          ]
        },
        {
          "output_type": "stream",
          "name": "stdout",
          "text": [
            "[Hellinger+L2 LR fold 6/6] C=100.0, time=0.75s\n"
          ]
        },
        {
          "output_type": "stream",
          "name": "stdout",
          "text": [
            "Hellinger+L2 LR OOF: 0.328459 | C=100.0 in 5.47s\n"
          ]
        },
        {
          "output_type": "stream",
          "name": "stderr",
          "text": [
            "/usr/local/lib/python3.11/dist-packages/sklearn/linear_model/_logistic.py:1247: FutureWarning: 'multi_class' was deprecated in version 1.5 and will be removed in 1.7. From then on, it will always use 'multinomial'. Leave it to its default value to avoid this warning.\n  warnings.warn(\n"
          ]
        },
        {
          "output_type": "stream",
          "name": "stdout",
          "text": [
            "[Hellinger+L2 LR fold 1/6] C=150.0, time=0.59s\n"
          ]
        },
        {
          "output_type": "stream",
          "name": "stderr",
          "text": [
            "/usr/local/lib/python3.11/dist-packages/sklearn/linear_model/_logistic.py:1247: FutureWarning: 'multi_class' was deprecated in version 1.5 and will be removed in 1.7. From then on, it will always use 'multinomial'. Leave it to its default value to avoid this warning.\n  warnings.warn(\n"
          ]
        },
        {
          "output_type": "stream",
          "name": "stdout",
          "text": [
            "[Hellinger+L2 LR fold 2/6] C=150.0, time=0.47s\n"
          ]
        },
        {
          "output_type": "stream",
          "name": "stderr",
          "text": [
            "/usr/local/lib/python3.11/dist-packages/sklearn/linear_model/_logistic.py:1247: FutureWarning: 'multi_class' was deprecated in version 1.5 and will be removed in 1.7. From then on, it will always use 'multinomial'. Leave it to its default value to avoid this warning.\n  warnings.warn(\n"
          ]
        },
        {
          "output_type": "stream",
          "name": "stdout",
          "text": [
            "[Hellinger+L2 LR fold 3/6] C=150.0, time=0.44s\n"
          ]
        },
        {
          "output_type": "stream",
          "name": "stderr",
          "text": [
            "/usr/local/lib/python3.11/dist-packages/sklearn/linear_model/_logistic.py:1247: FutureWarning: 'multi_class' was deprecated in version 1.5 and will be removed in 1.7. From then on, it will always use 'multinomial'. Leave it to its default value to avoid this warning.\n  warnings.warn(\n"
          ]
        },
        {
          "output_type": "stream",
          "name": "stdout",
          "text": [
            "[Hellinger+L2 LR fold 4/6] C=150.0, time=0.45s\n"
          ]
        },
        {
          "output_type": "stream",
          "name": "stderr",
          "text": [
            "/usr/local/lib/python3.11/dist-packages/sklearn/linear_model/_logistic.py:1247: FutureWarning: 'multi_class' was deprecated in version 1.5 and will be removed in 1.7. From then on, it will always use 'multinomial'. Leave it to its default value to avoid this warning.\n  warnings.warn(\n"
          ]
        },
        {
          "output_type": "stream",
          "name": "stdout",
          "text": [
            "[Hellinger+L2 LR fold 5/6] C=150.0, time=0.53s\n"
          ]
        },
        {
          "output_type": "stream",
          "name": "stderr",
          "text": [
            "/usr/local/lib/python3.11/dist-packages/sklearn/linear_model/_logistic.py:1247: FutureWarning: 'multi_class' was deprecated in version 1.5 and will be removed in 1.7. From then on, it will always use 'multinomial'. Leave it to its default value to avoid this warning.\n  warnings.warn(\n"
          ]
        },
        {
          "output_type": "stream",
          "name": "stdout",
          "text": [
            "[Hellinger+L2 LR fold 6/6] C=150.0, time=0.50s\n"
          ]
        },
        {
          "output_type": "stream",
          "name": "stdout",
          "text": [
            "Hellinger+L2 LR OOF: 0.272277 | C=150.0 in 3.01s\n"
          ]
        },
        {
          "output_type": "stream",
          "name": "stdout",
          "text": [
            "Best Hellinger+L2 LR: (150.0, 0.2722767605852533) | total 22.87s\nSaved oof_hellinger_lr.npy/test_hellinger_lr.npy and updated block_hell files\n"
          ]
        }
      ]
    },
    {
      "id": "51d02890-d1c7-4dce-9efb-c00a39cf847a",
      "cell_type": "code",
      "metadata": {},
      "source": [
        "# LightGBM (regularized) and NearestCentroid on corrected Hellinger features\n",
        "import numpy as np, pandas as pd, json, time, sys, subprocess, importlib\n",
        "from sklearn.metrics import log_loss\n",
        "\n",
        "SEED = 2025\n",
        "X = train[feature_cols].values.astype(np.float32)\n",
        "X_test = test[feature_cols].values.astype(np.float32)\n",
        "y_idx = y_enc.astype(int)\n",
        "num_classes = len(le.classes_)\n",
        "with open('folds_6.json', 'r') as f:\n",
        "    fold_indices = json.load(f)\n",
        "n_splits = len(fold_indices)\n",
        "\n",
        "def ensure_lightgbm():\n",
        "    try:\n",
        "        import lightgbm as lgb\n",
        "        return lgb\n",
        "    except Exception:\n",
        "        print('Installing lightgbm...')\n",
        "        subprocess.run([sys.executable, '-m', 'pip', 'install', '-q', 'lightgbm'], check=True)\n",
        "        import lightgbm as lgb\n",
        "        return lgb\n",
        "\n",
        "def clip_norm(P):\n",
        "    P = np.clip(P, 1e-15, 1-1e-15)\n",
        "    return P / P.sum(axis=1, keepdims=True)\n",
        "\n",
        "# 1) LightGBM with provided regularized params\n",
        "print('Running LightGBM (regularized) 6-fold CV...', flush=True)\n",
        "lgb = ensure_lightgbm()\n",
        "params = {\n",
        "    'objective': 'multiclass',\n",
        "    'num_class': num_classes,\n",
        "    'metric': 'multi_logloss',\n",
        "    'learning_rate': 0.03,\n",
        "    'num_leaves': 10,\n",
        "    'max_depth': 4,\n",
        "    'min_data_in_leaf': 50,\n",
        "    'feature_fraction': 0.7,\n",
        "    'bagging_fraction': 0.7,\n",
        "    'bagging_freq': 1,\n",
        "    'lambda_l2': 5.0,\n",
        "    'verbosity': -1,\n",
        "    'seed': SEED,\n",
        "}\n",
        "oof_lgb = np.zeros((len(X), num_classes), dtype=np.float32)\n",
        "test_lgb = np.zeros((len(X_test), num_classes), dtype=np.float32)\n",
        "t0 = time.time()\n",
        "for i, (trn_idx, val_idx) in enumerate(fold_indices, 1):\n",
        "    trn_idx = np.array(trn_idx); val_idx = np.array(val_idx)\n",
        "    dtrain = lgb.Dataset(X[trn_idx], label=y_idx[trn_idx], free_raw_data=True)\n",
        "    dvalid = lgb.Dataset(X[val_idx], label=y_idx[val_idx], free_raw_data=True)\n",
        "    start = time.time()\n",
        "    model = lgb.train(\n",
        "        params,\n",
        "        dtrain,\n",
        "        num_boost_round=4000,\n",
        "        valid_sets=[dvalid],\n",
        "        valid_names=['valid'],\n",
        "        callbacks=[\n",
        "            lgb.early_stopping(stopping_rounds=100, verbose=False),\n",
        "            lgb.log_evaluation(period=200)\n",
        "        ]\n",
        "    )\n",
        "    P_va = model.predict(X[val_idx], num_iteration=model.best_iteration)\n",
        "    oof_lgb[val_idx] = P_va\n",
        "    test_lgb += model.predict(X_test, num_iteration=model.best_iteration) / n_splits\n",
        "    ll = log_loss(y_idx[val_idx], clip_norm(P_va), labels=list(range(num_classes)))\n",
        "    print(f'[LGBM fold {i}/{n_splits}] best_iter={model.best_iteration}, val logloss={ll:.6f}, time={time.time()-start:.1f}s', flush=True)\n",
        "oof_ll = log_loss(y_idx, clip_norm(oof_lgb), labels=list(range(num_classes)))\n",
        "print(f'LGBM OOF logloss: {oof_ll:.6f} | total {time.time()-t0:.1f}s', flush=True)\n",
        "np.save('oof_lgbm.npy', oof_lgb)\n",
        "np.save('test_pred_lgbm.npy', test_lgb)\n",
        "\n",
        "# 2) NearestCentroid in corrected Hellinger space with cosine-softmax scoring\n",
        "print('Running NearestCentroid (Hellinger + global L2) ...', flush=True)\n",
        "# Reuse the canonical transform from cell 23 if defined; else define here\n",
        "try:\n",
        "    block_hellinger_global_l2\n",
        "except NameError:\n",
        "    def get_blocks(cols):\n",
        "        margin_cols = [c for c in cols if c.startswith('margin')]\n",
        "        shape_cols = [c for c in cols if c.startswith('shape')]\n",
        "        texture_cols = [c for c in cols if c.startswith('texture')]\n",
        "        m_idx = np.array([cols.index(c) for c in margin_cols])\n",
        "        s_idx = np.array([cols.index(c) for c in shape_cols])\n",
        "        t_idx = np.array([cols.index(c) for c in texture_cols])\n",
        "        return m_idx, s_idx, t_idx\n",
        "    m_idx, s_idx, t_idx = get_blocks(feature_cols)\n",
        "    def block_hellinger_global_l2(A, m_idx, s_idx, t_idx):\n",
        "        A = np.clip(A, 0, None).astype(np.float64, copy=False)\n",
        "        out = np.empty_like(A, dtype=np.float64)\n",
        "        for idx in (m_idx, s_idx, t_idx):\n",
        "            B = A[:, idx]\n",
        "            B = B / (B.sum(axis=1, keepdims=True) + 1e-12)\n",
        "            out[:, idx] = np.sqrt(B)\n",
        "        out = out / (np.linalg.norm(out, axis=1, keepdims=True) + 1e-12)\n",
        "        return out\n",
        "X_h = block_hellinger_global_l2(train[feature_cols].values, m_idx, s_idx, t_idx).astype(np.float32)\n",
        "X_test_h = block_hellinger_global_l2(test[feature_cols].values, m_idx, s_idx, t_idx).astype(np.float32)\n",
        "\n",
        "def softmax_rowwise(Z):\n",
        "    Z = Z - Z.max(axis=1, keepdims=True)\n",
        "    P = np.exp(Z)\n",
        "    return P / P.sum(axis=1, keepdims=True)\n",
        "\n",
        "taus = [20.0, 50.0, 80.0]\n",
        "# Pick first fold for tau selection\n",
        "trn_idx_sel, val_idx_sel = np.array(fold_indices[0][0]), np.array(fold_indices[0][1])\n",
        "best_tau = None; best_ll = 1e9\n",
        "for tau in taus:\n",
        "    # Compute centroids on train part\n",
        "    Cmeans = np.zeros((num_classes, X_h.shape[1]), dtype=np.float32)\n",
        "    for c in range(num_classes):\n",
        "        Cmeans[c] = X_h[trn_idx_sel][y_idx[trn_idx_sel]==c].mean(axis=0)\n",
        "    # Normalize centroids to unit length\n",
        "    Cmeans /= (np.linalg.norm(Cmeans, axis=1, keepdims=True) + 1e-12)\n",
        "    sims = X_h[val_idx_sel] @ Cmeans.T  # cosine in L2-normalized space\n",
        "    P = softmax_rowwise(sims * tau)\n",
        "    ll = log_loss(y_idx[val_idx_sel], clip_norm(P), labels=list(range(num_classes)))\n",
        "    print(f'[NC tau search] tau={tau}, fold1 val logloss={ll:.6f}')\n",
        "    if ll < best_ll:\n",
        "        best_ll = ll; best_tau = tau\n",
        "print('NearestCentroid selected tau:', best_tau)\n",
        "\n",
        "# Full 6-fold OOF/Test with chosen tau\n",
        "oof_nc = np.zeros((len(X_h), num_classes), dtype=np.float32)\n",
        "test_nc = np.zeros((len(X_test_h), num_classes), dtype=np.float32)\n",
        "for i, (trn_idx, val_idx) in enumerate(fold_indices, 1):\n",
        "    trn_idx = np.array(trn_idx); val_idx = np.array(val_idx)\n",
        "    Cmeans = np.zeros((num_classes, X_h.shape[1]), dtype=np.float32)\n",
        "    for c in range(num_classes):\n",
        "        Cmeans[c] = X_h[trn_idx][y_idx[trn_idx]==c].mean(axis=0)\n",
        "    Cmeans /= (np.linalg.norm(Cmeans, axis=1, keepdims=True) + 1e-12)\n",
        "    sims_val = X_h[val_idx] @ Cmeans.T\n",
        "    oof_nc[val_idx] = softmax_rowwise(sims_val * best_tau)\n",
        "    sims_test = X_test_h @ Cmeans.T\n",
        "    test_nc += softmax_rowwise(sims_test * best_tau) / n_splits\n",
        "    ll = log_loss(y_idx[val_idx], clip_norm(oof_nc[val_idx]), labels=list(range(num_classes)))\n",
        "    print(f'[NC fold {i}/{n_splits}] tau={best_tau}, val logloss={ll:.6f}', flush=True)\n",
        "oof_ll_nc = log_loss(y_idx, clip_norm(oof_nc), labels=list(range(num_classes)))\n",
        "print(f'NearestCentroid OOF logloss: {oof_ll_nc:.6f}')\n",
        "np.save('oof_nc_hell.npy', oof_nc)\n",
        "np.save('test_nc_hell.npy', test_nc)\n",
        "print('Saved oof_nc_hell.npy and test_nc_hell.npy')"
      ],
      "execution_count": 26,
      "outputs": [
        {
          "output_type": "stream",
          "name": "stdout",
          "text": [
            "Running LightGBM (regularized) 6-fold CV...\n"
          ]
        },
        {
          "output_type": "stream",
          "name": "stdout",
          "text": [
            "[200]\tvalid's multi_logloss: 1.4887\n"
          ]
        },
        {
          "output_type": "stream",
          "name": "stdout",
          "text": [
            "[400]\tvalid's multi_logloss: 0.94224\n"
          ]
        },
        {
          "output_type": "stream",
          "name": "stdout",
          "text": [
            "[600]\tvalid's multi_logloss: 0.766715\n"
          ]
        },
        {
          "output_type": "stream",
          "name": "stdout",
          "text": [
            "[800]\tvalid's multi_logloss: 0.678883\n"
          ]
        },
        {
          "output_type": "stream",
          "name": "stdout",
          "text": [
            "[1000]\tvalid's multi_logloss: 0.622631\n"
          ]
        },
        {
          "output_type": "stream",
          "name": "stdout",
          "text": [
            "[1200]\tvalid's multi_logloss: 0.584721\n"
          ]
        },
        {
          "output_type": "stream",
          "name": "stdout",
          "text": [
            "[1400]\tvalid's multi_logloss: 0.555998\n"
          ]
        },
        {
          "output_type": "stream",
          "name": "stdout",
          "text": [
            "[1600]\tvalid's multi_logloss: 0.533277\n"
          ]
        },
        {
          "output_type": "stream",
          "name": "stdout",
          "text": [
            "[1800]\tvalid's multi_logloss: 0.514901\n"
          ]
        },
        {
          "output_type": "stream",
          "name": "stdout",
          "text": [
            "[2000]\tvalid's multi_logloss: 0.499235\n"
          ]
        },
        {
          "output_type": "stream",
          "name": "stdout",
          "text": [
            "[2200]\tvalid's multi_logloss: 0.485937\n"
          ]
        },
        {
          "output_type": "stream",
          "name": "stdout",
          "text": [
            "[2400]\tvalid's multi_logloss: 0.474692\n"
          ]
        },
        {
          "output_type": "stream",
          "name": "stdout",
          "text": [
            "[2600]\tvalid's multi_logloss: 0.464547\n"
          ]
        },
        {
          "output_type": "stream",
          "name": "stdout",
          "text": [
            "[2800]\tvalid's multi_logloss: 0.455674\n"
          ]
        },
        {
          "output_type": "stream",
          "name": "stdout",
          "text": [
            "[3000]\tvalid's multi_logloss: 0.448144\n"
          ]
        },
        {
          "output_type": "stream",
          "name": "stdout",
          "text": [
            "[3200]\tvalid's multi_logloss: 0.441088\n"
          ]
        },
        {
          "output_type": "stream",
          "name": "stdout",
          "text": [
            "[3400]\tvalid's multi_logloss: 0.434512\n"
          ]
        },
        {
          "output_type": "stream",
          "name": "stdout",
          "text": [
            "[3600]\tvalid's multi_logloss: 0.428373\n"
          ]
        },
        {
          "output_type": "stream",
          "name": "stdout",
          "text": [
            "[3800]\tvalid's multi_logloss: 0.422992\n"
          ]
        },
        {
          "output_type": "stream",
          "name": "stdout",
          "text": [
            "[4000]\tvalid's multi_logloss: 0.417916\n"
          ]
        },
        {
          "output_type": "stream",
          "name": "stdout",
          "text": [
            "[LGBM fold 1/6] best_iter=4000, val logloss=0.417916, time=92.2s\n"
          ]
        },
        {
          "output_type": "stream",
          "name": "stdout",
          "text": [
            "[200]\tvalid's multi_logloss: 1.40441\n"
          ]
        },
        {
          "output_type": "stream",
          "name": "stdout",
          "text": [
            "[400]\tvalid's multi_logloss: 0.834817\n"
          ]
        },
        {
          "output_type": "stream",
          "name": "stdout",
          "text": [
            "[600]\tvalid's multi_logloss: 0.654397\n"
          ]
        },
        {
          "output_type": "stream",
          "name": "stdout",
          "text": [
            "[800]\tvalid's multi_logloss: 0.564319\n"
          ]
        },
        {
          "output_type": "stream",
          "name": "stdout",
          "text": [
            "[1000]\tvalid's multi_logloss: 0.509355\n"
          ]
        },
        {
          "output_type": "stream",
          "name": "stdout",
          "text": [
            "[1200]\tvalid's multi_logloss: 0.471447\n"
          ]
        },
        {
          "output_type": "stream",
          "name": "stdout",
          "text": [
            "[1400]\tvalid's multi_logloss: 0.442914\n"
          ]
        },
        {
          "output_type": "stream",
          "name": "stdout",
          "text": [
            "[1600]\tvalid's multi_logloss: 0.420887\n"
          ]
        },
        {
          "output_type": "stream",
          "name": "stdout",
          "text": [
            "[1800]\tvalid's multi_logloss: 0.40281\n"
          ]
        },
        {
          "output_type": "stream",
          "name": "stdout",
          "text": [
            "[2000]\tvalid's multi_logloss: 0.38712\n"
          ]
        },
        {
          "output_type": "stream",
          "name": "stdout",
          "text": [
            "[2200]\tvalid's multi_logloss: 0.374391\n"
          ]
        },
        {
          "output_type": "stream",
          "name": "stdout",
          "text": [
            "[2400]\tvalid's multi_logloss: 0.362784\n"
          ]
        },
        {
          "output_type": "stream",
          "name": "stdout",
          "text": [
            "[2600]\tvalid's multi_logloss: 0.352999\n"
          ]
        },
        {
          "output_type": "stream",
          "name": "stdout",
          "text": [
            "[2800]\tvalid's multi_logloss: 0.344034\n"
          ]
        },
        {
          "output_type": "stream",
          "name": "stdout",
          "text": [
            "[3000]\tvalid's multi_logloss: 0.336016\n"
          ]
        },
        {
          "output_type": "stream",
          "name": "stdout",
          "text": [
            "[3200]\tvalid's multi_logloss: 0.329071\n"
          ]
        },
        {
          "output_type": "stream",
          "name": "stdout",
          "text": [
            "[3400]\tvalid's multi_logloss: 0.322511\n"
          ]
        },
        {
          "output_type": "stream",
          "name": "stdout",
          "text": [
            "[3600]\tvalid's multi_logloss: 0.316594\n"
          ]
        },
        {
          "output_type": "stream",
          "name": "stdout",
          "text": [
            "[3800]\tvalid's multi_logloss: 0.311256\n"
          ]
        },
        {
          "output_type": "stream",
          "name": "stdout",
          "text": [
            "[4000]\tvalid's multi_logloss: 0.306367\n"
          ]
        },
        {
          "output_type": "stream",
          "name": "stdout",
          "text": [
            "[LGBM fold 2/6] best_iter=4000, val logloss=0.306367, time=92.6s\n"
          ]
        },
        {
          "output_type": "stream",
          "name": "stdout",
          "text": [
            "[200]\tvalid's multi_logloss: 1.37654\n"
          ]
        },
        {
          "output_type": "stream",
          "name": "stdout",
          "text": [
            "[400]\tvalid's multi_logloss: 0.813199\n"
          ]
        },
        {
          "output_type": "stream",
          "name": "stdout",
          "text": [
            "[600]\tvalid's multi_logloss: 0.638713\n"
          ]
        },
        {
          "output_type": "stream",
          "name": "stdout",
          "text": [
            "[800]\tvalid's multi_logloss: 0.552334\n"
          ]
        },
        {
          "output_type": "stream",
          "name": "stdout",
          "text": [
            "[1000]\tvalid's multi_logloss: 0.500231\n"
          ]
        },
        {
          "output_type": "stream",
          "name": "stdout",
          "text": [
            "[1200]\tvalid's multi_logloss: 0.463989\n"
          ]
        },
        {
          "output_type": "stream",
          "name": "stdout",
          "text": [
            "[1400]\tvalid's multi_logloss: 0.437159\n"
          ]
        },
        {
          "output_type": "stream",
          "name": "stdout",
          "text": [
            "[1600]\tvalid's multi_logloss: 0.415951\n"
          ]
        },
        {
          "output_type": "stream",
          "name": "stdout",
          "text": [
            "[1800]\tvalid's multi_logloss: 0.398593\n"
          ]
        },
        {
          "output_type": "stream",
          "name": "stdout",
          "text": [
            "[2000]\tvalid's multi_logloss: 0.384883\n"
          ]
        },
        {
          "output_type": "stream",
          "name": "stdout",
          "text": [
            "[2200]\tvalid's multi_logloss: 0.372694\n"
          ]
        },
        {
          "output_type": "stream",
          "name": "stdout",
          "text": [
            "[2400]\tvalid's multi_logloss: 0.362415\n"
          ]
        },
        {
          "output_type": "stream",
          "name": "stdout",
          "text": [
            "[2600]\tvalid's multi_logloss: 0.353298\n"
          ]
        },
        {
          "output_type": "stream",
          "name": "stdout",
          "text": [
            "[2800]\tvalid's multi_logloss: 0.345191\n"
          ]
        },
        {
          "output_type": "stream",
          "name": "stdout",
          "text": [
            "[3000]\tvalid's multi_logloss: 0.337896\n"
          ]
        },
        {
          "output_type": "stream",
          "name": "stdout",
          "text": [
            "[3200]\tvalid's multi_logloss: 0.331394\n"
          ]
        },
        {
          "output_type": "stream",
          "name": "stdout",
          "text": [
            "[3400]\tvalid's multi_logloss: 0.325505\n"
          ]
        },
        {
          "output_type": "stream",
          "name": "stdout",
          "text": [
            "[3600]\tvalid's multi_logloss: 0.32015\n"
          ]
        },
        {
          "output_type": "stream",
          "name": "stdout",
          "text": [
            "[3800]\tvalid's multi_logloss: 0.315084\n"
          ]
        },
        {
          "output_type": "stream",
          "name": "stdout",
          "text": [
            "[4000]\tvalid's multi_logloss: 0.310566\n"
          ]
        },
        {
          "output_type": "stream",
          "name": "stdout",
          "text": [
            "[LGBM fold 3/6] best_iter=4000, val logloss=0.310566, time=91.8s\n"
          ]
        },
        {
          "output_type": "stream",
          "name": "stdout",
          "text": [
            "[200]\tvalid's multi_logloss: 1.50034\n"
          ]
        },
        {
          "output_type": "stream",
          "name": "stdout",
          "text": [
            "[400]\tvalid's multi_logloss: 0.956768\n"
          ]
        },
        {
          "output_type": "stream",
          "name": "stdout",
          "text": [
            "[600]\tvalid's multi_logloss: 0.788039\n"
          ]
        },
        {
          "output_type": "stream",
          "name": "stdout",
          "text": [
            "[800]\tvalid's multi_logloss: 0.700572\n"
          ]
        },
        {
          "output_type": "stream",
          "name": "stdout",
          "text": [
            "[1000]\tvalid's multi_logloss: 0.649272\n"
          ]
        },
        {
          "output_type": "stream",
          "name": "stdout",
          "text": [
            "[1200]\tvalid's multi_logloss: 0.611201\n"
          ]
        },
        {
          "output_type": "stream",
          "name": "stdout",
          "text": [
            "[1400]\tvalid's multi_logloss: 0.583912\n"
          ]
        },
        {
          "output_type": "stream",
          "name": "stdout",
          "text": [
            "[1600]\tvalid's multi_logloss: 0.562915\n"
          ]
        },
        {
          "output_type": "stream",
          "name": "stdout",
          "text": [
            "[1800]\tvalid's multi_logloss: 0.544832\n"
          ]
        },
        {
          "output_type": "stream",
          "name": "stdout",
          "text": [
            "[2000]\tvalid's multi_logloss: 0.52989\n"
          ]
        },
        {
          "output_type": "stream",
          "name": "stdout",
          "text": [
            "[2200]\tvalid's multi_logloss: 0.517432\n"
          ]
        },
        {
          "output_type": "stream",
          "name": "stdout",
          "text": [
            "[2400]\tvalid's multi_logloss: 0.506255\n"
          ]
        },
        {
          "output_type": "stream",
          "name": "stdout",
          "text": [
            "[2600]\tvalid's multi_logloss: 0.496326\n"
          ]
        },
        {
          "output_type": "stream",
          "name": "stdout",
          "text": [
            "[2800]\tvalid's multi_logloss: 0.487666\n"
          ]
        },
        {
          "output_type": "stream",
          "name": "stdout",
          "text": [
            "[3000]\tvalid's multi_logloss: 0.479794\n"
          ]
        },
        {
          "output_type": "stream",
          "name": "stdout",
          "text": [
            "[3200]\tvalid's multi_logloss: 0.472743\n"
          ]
        },
        {
          "output_type": "stream",
          "name": "stdout",
          "text": [
            "[3400]\tvalid's multi_logloss: 0.466276\n"
          ]
        },
        {
          "output_type": "stream",
          "name": "stdout",
          "text": [
            "[3600]\tvalid's multi_logloss: 0.460309\n"
          ]
        },
        {
          "output_type": "stream",
          "name": "stdout",
          "text": [
            "[3800]\tvalid's multi_logloss: 0.454844\n"
          ]
        },
        {
          "output_type": "stream",
          "name": "stdout",
          "text": [
            "[4000]\tvalid's multi_logloss: 0.449809\n"
          ]
        },
        {
          "output_type": "stream",
          "name": "stdout",
          "text": [
            "[LGBM fold 4/6] best_iter=4000, val logloss=0.449809, time=95.6s\n"
          ]
        },
        {
          "output_type": "stream",
          "name": "stdout",
          "text": [
            "[200]\tvalid's multi_logloss: 1.36315\n"
          ]
        },
        {
          "output_type": "stream",
          "name": "stdout",
          "text": [
            "[400]\tvalid's multi_logloss: 0.795145\n"
          ]
        },
        {
          "output_type": "stream",
          "name": "stdout",
          "text": [
            "[600]\tvalid's multi_logloss: 0.624357\n"
          ]
        },
        {
          "output_type": "stream",
          "name": "stdout",
          "text": [
            "[800]\tvalid's multi_logloss: 0.53861\n"
          ]
        },
        {
          "output_type": "stream",
          "name": "stdout",
          "text": [
            "[1000]\tvalid's multi_logloss: 0.487209\n"
          ]
        },
        {
          "output_type": "stream",
          "name": "stdout",
          "text": [
            "[1200]\tvalid's multi_logloss: 0.451141\n"
          ]
        },
        {
          "output_type": "stream",
          "name": "stdout",
          "text": [
            "[1400]\tvalid's multi_logloss: 0.424653\n"
          ]
        },
        {
          "output_type": "stream",
          "name": "stdout",
          "text": [
            "[1600]\tvalid's multi_logloss: 0.403339\n"
          ]
        },
        {
          "output_type": "stream",
          "name": "stdout",
          "text": [
            "[1800]\tvalid's multi_logloss: 0.386437\n"
          ]
        },
        {
          "output_type": "stream",
          "name": "stdout",
          "text": [
            "[2000]\tvalid's multi_logloss: 0.372527\n"
          ]
        },
        {
          "output_type": "stream",
          "name": "stdout",
          "text": [
            "[2200]\tvalid's multi_logloss: 0.360417\n"
          ]
        },
        {
          "output_type": "stream",
          "name": "stdout",
          "text": [
            "[2400]\tvalid's multi_logloss: 0.350206\n"
          ]
        },
        {
          "output_type": "stream",
          "name": "stdout",
          "text": [
            "[2600]\tvalid's multi_logloss: 0.341021\n"
          ]
        },
        {
          "output_type": "stream",
          "name": "stdout",
          "text": [
            "[2800]\tvalid's multi_logloss: 0.33332\n"
          ]
        },
        {
          "output_type": "stream",
          "name": "stdout",
          "text": [
            "[3000]\tvalid's multi_logloss: 0.326058\n"
          ]
        },
        {
          "output_type": "stream",
          "name": "stdout",
          "text": [
            "[3200]\tvalid's multi_logloss: 0.319995\n"
          ]
        },
        {
          "output_type": "stream",
          "name": "stdout",
          "text": [
            "[3400]\tvalid's multi_logloss: 0.314318\n"
          ]
        },
        {
          "output_type": "stream",
          "name": "stdout",
          "text": [
            "[3600]\tvalid's multi_logloss: 0.309061\n"
          ]
        },
        {
          "output_type": "stream",
          "name": "stdout",
          "text": [
            "[3800]\tvalid's multi_logloss: 0.304143\n"
          ]
        },
        {
          "output_type": "stream",
          "name": "stdout",
          "text": [
            "[4000]\tvalid's multi_logloss: 0.29978\n"
          ]
        },
        {
          "output_type": "stream",
          "name": "stdout",
          "text": [
            "[LGBM fold 5/6] best_iter=4000, val logloss=0.299780, time=91.6s\n"
          ]
        },
        {
          "output_type": "stream",
          "name": "stdout",
          "text": [
            "[200]\tvalid's multi_logloss: 1.41695\n"
          ]
        },
        {
          "output_type": "stream",
          "name": "stdout",
          "text": [
            "[400]\tvalid's multi_logloss: 0.861829\n"
          ]
        },
        {
          "output_type": "stream",
          "name": "stdout",
          "text": [
            "[600]\tvalid's multi_logloss: 0.692759\n"
          ]
        },
        {
          "output_type": "stream",
          "name": "stdout",
          "text": [
            "[800]\tvalid's multi_logloss: 0.605658\n"
          ]
        },
        {
          "output_type": "stream",
          "name": "stdout",
          "text": [
            "[1000]\tvalid's multi_logloss: 0.552552\n"
          ]
        },
        {
          "output_type": "stream",
          "name": "stdout",
          "text": [
            "[1200]\tvalid's multi_logloss: 0.515327\n"
          ]
        },
        {
          "output_type": "stream",
          "name": "stdout",
          "text": [
            "[1400]\tvalid's multi_logloss: 0.487793\n"
          ]
        },
        {
          "output_type": "stream",
          "name": "stdout",
          "text": [
            "[1600]\tvalid's multi_logloss: 0.466015\n"
          ]
        },
        {
          "output_type": "stream",
          "name": "stdout",
          "text": [
            "[1800]\tvalid's multi_logloss: 0.448195\n"
          ]
        },
        {
          "output_type": "stream",
          "name": "stdout",
          "text": [
            "[2000]\tvalid's multi_logloss: 0.433157\n"
          ]
        },
        {
          "output_type": "stream",
          "name": "stdout",
          "text": [
            "[2200]\tvalid's multi_logloss: 0.420257\n"
          ]
        },
        {
          "output_type": "stream",
          "name": "stdout",
          "text": [
            "[2400]\tvalid's multi_logloss: 0.409449\n"
          ]
        },
        {
          "output_type": "stream",
          "name": "stdout",
          "text": [
            "[2600]\tvalid's multi_logloss: 0.40005\n"
          ]
        },
        {
          "output_type": "stream",
          "name": "stdout",
          "text": [
            "[2800]\tvalid's multi_logloss: 0.391441\n"
          ]
        },
        {
          "output_type": "stream",
          "name": "stdout",
          "text": [
            "[3000]\tvalid's multi_logloss: 0.383675\n"
          ]
        },
        {
          "output_type": "stream",
          "name": "stdout",
          "text": [
            "[3200]\tvalid's multi_logloss: 0.377006\n"
          ]
        },
        {
          "output_type": "stream",
          "name": "stdout",
          "text": [
            "[3400]\tvalid's multi_logloss: 0.37073\n"
          ]
        },
        {
          "output_type": "stream",
          "name": "stdout",
          "text": [
            "[3600]\tvalid's multi_logloss: 0.364899\n"
          ]
        },
        {
          "output_type": "stream",
          "name": "stdout",
          "text": [
            "[3800]\tvalid's multi_logloss: 0.359596\n"
          ]
        },
        {
          "output_type": "stream",
          "name": "stdout",
          "text": [
            "[4000]\tvalid's multi_logloss: 0.354726\n"
          ]
        },
        {
          "output_type": "stream",
          "name": "stdout",
          "text": [
            "[LGBM fold 6/6] best_iter=4000, val logloss=0.354726, time=92.4s\n"
          ]
        },
        {
          "output_type": "stream",
          "name": "stdout",
          "text": [
            "LGBM OOF logloss: 0.356488 | total 556.3s\n"
          ]
        },
        {
          "output_type": "stream",
          "name": "stdout",
          "text": [
            "Running NearestCentroid (Hellinger + global L2) ...\n"
          ]
        },
        {
          "output_type": "stream",
          "name": "stdout",
          "text": [
            "[NC tau search] tau=20.0, fold1 val logloss=1.733510\n[NC tau search] tau=50.0, fold1 val logloss=0.556484\n[NC tau search] tau=80.0, fold1 val logloss=0.350640\nNearestCentroid selected tau: 80.0\n[NC fold 1/6] tau=80.0, val logloss=0.350640\n"
          ]
        },
        {
          "output_type": "stream",
          "name": "stdout",
          "text": [
            "[NC fold 2/6] tau=80.0, val logloss=0.243507\n"
          ]
        },
        {
          "output_type": "stream",
          "name": "stdout",
          "text": [
            "[NC fold 3/6] tau=80.0, val logloss=0.309216\n"
          ]
        },
        {
          "output_type": "stream",
          "name": "stdout",
          "text": [
            "[NC fold 4/6] tau=80.0, val logloss=0.403777\n"
          ]
        },
        {
          "output_type": "stream",
          "name": "stdout",
          "text": [
            "[NC fold 5/6] tau=80.0, val logloss=0.437795\n"
          ]
        },
        {
          "output_type": "stream",
          "name": "stdout",
          "text": [
            "[NC fold 6/6] tau=80.0, val logloss=0.397755\n"
          ]
        },
        {
          "output_type": "stream",
          "name": "stdout",
          "text": [
            "NearestCentroid OOF logloss: 0.356926\nSaved oof_nc_hell.npy and test_nc_hell.npy\n"
          ]
        }
      ]
    },
    {
      "id": "456e9f1d-e35d-480b-8c8c-6b3e5d26d386",
      "cell_type": "code",
      "metadata": {},
      "source": [
        "# SLSQP blend v2: lr_base + chi2_lr + lgbm + nearest_centroid -> temperature scaling -> soft submission\n",
        "import numpy as np, pandas as pd, time, sys, subprocess\n",
        "from sklearn.metrics import log_loss\n",
        "\n",
        "def clip_norm(P):\n",
        "    P = np.clip(P, 1e-15, 1-1e-15)\n",
        "    return P / P.sum(axis=1, keepdims=True)\n",
        "\n",
        "def ensure_scipy():\n",
        "    try:\n",
        "        import scipy  # noqa: F401\n",
        "        from scipy.optimize import minimize  # noqa: F401\n",
        "        return True\n",
        "    except Exception:\n",
        "        subprocess.run([sys.executable, '-m', 'pip', 'install', '-q', 'scipy'], check=True)\n",
        "        return True\n",
        "\n",
        "ensure_scipy()\n",
        "from scipy.optimize import minimize\n",
        "\n",
        "# Load candidates (require lr_base + chi2 + lgbm; nc optional if exists)\n",
        "cands = []\n",
        "names = []\n",
        "try:\n",
        "    oof_lr = np.load('oof_logreg_nopca.npy'); test_lr = np.load('test_pred_logreg_nopca.npy')\n",
        "    cands.append((oof_lr, test_lr)); names.append('lr_base')\n",
        "except Exception as e:\n",
        "    raise RuntimeError('Missing lr_base predictions')\n",
        "try:\n",
        "    oof_c2 = np.load('oof_chi2_lr.npy'); test_c2 = np.load('test_chi2_lr.npy')\n",
        "    cands.append((oof_c2, test_c2)); names.append('chi2_lr')\n",
        "except Exception as e:\n",
        "    print('Missing chi2_lr, continuing without it:', e)\n",
        "try:\n",
        "    oof_lgb = np.load('oof_lgbm.npy'); test_lgb = np.load('test_pred_lgbm.npy')\n",
        "    cands.append((oof_lgb, test_lgb)); names.append('lgbm')\n",
        "except Exception as e:\n",
        "    print('Missing lgbm (run cell 24 first), continuing without it:', e)\n",
        "try:\n",
        "    oof_nc = np.load('oof_nc_hell.npy'); test_nc = np.load('test_nc_hell.npy')\n",
        "    cands.append((oof_nc, test_nc)); names.append('nc_hell')\n",
        "except Exception as e:\n",
        "    print('Missing nearest centroid (will be available after cell 24), continuing without it:', e)\n",
        "\n",
        "assert len(cands) >= 2, 'Need at least two models to blend'\n",
        "num_classes = cands[0][0].shape[1]\n",
        "y_idx = y_enc.astype(int)\n",
        "\n",
        "oofs = [o for o, _ in cands]\n",
        "tests = [t for _, t in cands]\n",
        "\n",
        "def blend_from_w(weights, mats):\n",
        "    P = np.zeros_like(mats[0])\n",
        "    for wi, Pi in zip(weights, mats):\n",
        "        P += wi * Pi\n",
        "    return clip_norm(P)\n",
        "\n",
        "def objective(w):\n",
        "    P = blend_from_w(w, oofs)\n",
        "    return log_loss(y_idx, P, labels=list(range(num_classes)))\n",
        "\n",
        "m = len(cands)\n",
        "w0 = np.ones(m, dtype=np.float64) / m\n",
        "bounds = [(0.0, 1.0)] * m\n",
        "cons = ({'type': 'eq', 'fun': lambda w: np.sum(w) - 1.0},)\n",
        "t0 = time.time()\n",
        "res = minimize(objective, w0, method='SLSQP', bounds=bounds, constraints=cons, options={'maxiter': 500, 'ftol': 1e-9, 'disp': False})\n",
        "w_opt = res.x if res.success else w0\n",
        "w_opt = np.maximum(w_opt, 0); w_opt = w_opt / w_opt.sum()\n",
        "print('SLSQP success:', res.success, '| OOF:', objective(w_opt), '| Weights:', dict(zip(names, np.round(w_opt, 4))), '| time {:.2f}s'.format(time.time()-t0))\n",
        "\n",
        "oof_blend = blend_from_w(w_opt, oofs)\n",
        "test_blend = blend_from_w(w_opt, tests)\n",
        "oof_ll = log_loss(y_idx, oof_blend, labels=list(range(num_classes)))\n",
        "print(f'Blended OOF logloss (pre-calibration): {oof_ll:.6f}')\n",
        "\n",
        "# Temperature scaling on blended probs\n",
        "def temp_scale(P, alpha):\n",
        "    Ps = np.power(np.clip(P, 1e-15, 1-1e-15), float(alpha))\n",
        "    return Ps / Ps.sum(axis=1, keepdims=True)\n",
        "\n",
        "alphas = np.linspace(0.6, 2.2, 161)\n",
        "best = (1.0, 1e9)\n",
        "for a in alphas:\n",
        "    ll = log_loss(y_idx, temp_scale(oof_blend, a), labels=list(range(num_classes)))\n",
        "    if ll < best[1]:\n",
        "        best = (float(a), float(ll))\n",
        "print(f'Temp scaling on blend: alpha={best[0]:.4f}, OOF={best[1]:.6f}')\n",
        "alpha_opt = best[0]\n",
        "test_cal = temp_scale(test_blend, alpha_opt)\n",
        "\n",
        "# Build soft submission only (no Hungarian)\n",
        "pred_df = pd.DataFrame(test_cal, columns=list(le.classes_))\n",
        "sub_cols = [c for c in sample_sub.columns if c != id_col]\n",
        "pred_df = pred_df[sub_cols]\n",
        "submission = pd.concat([test[[id_col]].reset_index(drop=True), pred_df.reset_index(drop=True)], axis=1)\n",
        "submission.to_csv('submission_soft_blend_calibrated_v2.csv', index=False)\n",
        "submission.to_csv('submission.csv', index=False)\n",
        "print('Saved submission_soft_blend_calibrated_v2.csv and submission.csv:', submission.shape)"
      ],
      "execution_count": 27,
      "outputs": [
        {
          "output_type": "stream",
          "name": "stdout",
          "text": [
            "SLSQP success: True | OOF: 0.04631740493480847 | Weights: {'lr_base': 0.751, 'chi2_lr': 0.249, 'lgbm': 0.0, 'nc_hell': 0.0} | time 0.12s\nBlended OOF logloss (pre-calibration): 0.046317\n"
          ]
        },
        {
          "output_type": "stream",
          "name": "stdout",
          "text": [
            "Temp scaling on blend: alpha=1.8000, OOF=0.033411\nSaved submission_soft_blend_calibrated_v2.csv and submission.csv: (99, 100)\n"
          ]
        }
      ]
    },
    {
      "id": "fa655ba1-8255-4096-94a3-7ec5d8b3e70d",
      "cell_type": "code",
      "metadata": {},
      "source": [
        "# Concatenate Raw(StandardScaler) + Block-Hellinger(global L2) -> LR (diversity model)\n",
        "import numpy as np, json, time\n",
        "from sklearn.preprocessing import StandardScaler\n",
        "from sklearn.linear_model import LogisticRegression\n",
        "from sklearn.metrics import log_loss\n",
        "\n",
        "SEED = 2025\n",
        "X_raw = train[feature_cols].values.astype(np.float64)\n",
        "X_test_raw = test[feature_cols].values.astype(np.float64)\n",
        "y_idx = y_enc.astype(int)\n",
        "num_classes = len(le.classes_)\n",
        "\n",
        "# Reuse block_hellinger_global_l2 from cell 23; define if missing\n",
        "try:\n",
        "    block_hellinger_global_l2\n",
        "except NameError:\n",
        "    def get_blocks(cols):\n",
        "        margin_cols = [c for c in cols if c.startswith('margin')]\n",
        "        shape_cols = [c for c in cols if c.startswith('shape')]\n",
        "        texture_cols = [c for c in cols if c.startswith('texture')]\n",
        "        m_idx = np.array([cols.index(c) for c in margin_cols])\n",
        "        s_idx = np.array([cols.index(c) for c in shape_cols])\n",
        "        t_idx = np.array([cols.index(c) for c in texture_cols])\n",
        "        return m_idx, s_idx, t_idx\n",
        "    m_idx, s_idx, t_idx = get_blocks(feature_cols)\n",
        "    def block_hellinger_global_l2(A, m_idx, s_idx, t_idx):\n",
        "        A = np.clip(A, 0, None).astype(np.float64, copy=False)\n",
        "        out = np.empty_like(A)\n",
        "        for idx in (m_idx, s_idx, t_idx):\n",
        "            B = A[:, idx]\n",
        "            B = B / (B.sum(axis=1, keepdims=True) + 1e-12)\n",
        "            out[:, idx] = np.sqrt(B)\n",
        "        out = out / (np.linalg.norm(out, axis=1, keepdims=True) + 1e-12)\n",
        "        return out\n",
        "\n",
        "X_hell = block_hellinger_global_l2(X_raw, m_idx, s_idx, t_idx)\n",
        "X_test_hell = block_hellinger_global_l2(X_test_raw, m_idx, s_idx, t_idx)\n",
        "\n",
        "with open('folds_6.json', 'r') as f:\n",
        "    fold_indices = json.load(f)\n",
        "n_splits = len(fold_indices)\n",
        "\n",
        "def clip_norm(P):\n",
        "    P = np.clip(P, 1e-15, 1-1e-15)\n",
        "    return P / P.sum(axis=1, keepdims=True)\n",
        "\n",
        "Cs = [10.0, 30.0, 60.0, 100.0, 150.0, 200.0]\n",
        "best = (None, 1e9)\n",
        "best_oof = None\n",
        "best_test = None\n",
        "t_all = time.time()\n",
        "for C in Cs:\n",
        "    oof = np.zeros((len(X_raw), num_classes), dtype=np.float64)\n",
        "    test_pred = np.zeros((len(X_test_raw), num_classes), dtype=np.float64)\n",
        "    t0 = time.time()\n",
        "    for i, (trn_idx, val_idx) in enumerate(fold_indices, 1):\n",
        "        trn_idx = np.array(trn_idx); val_idx = np.array(val_idx)\n",
        "        # Standardize raw features within fold\n",
        "        sc = StandardScaler()\n",
        "        X_tr_raw = sc.fit_transform(X_raw[trn_idx])\n",
        "        X_va_raw = sc.transform(X_raw[val_idx])\n",
        "        X_te_raw = sc.transform(X_test_raw)\n",
        "        # Hellinger part is precomputed (fitless, row-ops only)\n",
        "        X_tr = np.hstack([X_tr_raw, X_hell[trn_idx]])\n",
        "        X_va = np.hstack([X_va_raw, X_hell[val_idx]])\n",
        "        X_te = np.hstack([X_te_raw, X_test_hell])\n",
        "        clf = LogisticRegression(multi_class='multinomial', solver='lbfgs', C=C, max_iter=5000, random_state=SEED)\n",
        "        fstart = time.time()\n",
        "        clf.fit(X_tr, y_idx[trn_idx])\n",
        "        va_proba = clf.predict_proba(X_va)\n",
        "        oof[val_idx] = va_proba\n",
        "        test_pred += clf.predict_proba(X_te) / n_splits\n",
        "        print(f'[Concat Raw+Hell LR fold {i}/{n_splits}] C={C}, time={time.time()-fstart:.2f}s', flush=True)\n",
        "    oof_ll = log_loss(y_idx, clip_norm(oof), labels=list(range(num_classes)))\n",
        "    print(f'Concat Raw+Hell LR OOF: {oof_ll:.6f} | C={C} in {time.time()-t0:.2f}s', flush=True)\n",
        "    if oof_ll < best[1]:\n",
        "        best = (C, oof_ll); best_oof = oof; best_test = test_pred\n",
        "\n",
        "print('Best Concat Raw+Hell LR:', best, '| total {:.2f}s'.format(time.time()-t_all))\n",
        "np.save('oof_concat_lr.npy', best_oof)\n",
        "np.save('test_concat_lr.npy', best_test)\n",
        "print('Saved oof_concat_lr.npy and test_concat_lr.npy')"
      ],
      "execution_count": 28,
      "outputs": [
        {
          "output_type": "stream",
          "name": "stderr",
          "text": [
            "/usr/local/lib/python3.11/dist-packages/sklearn/linear_model/_logistic.py:1247: FutureWarning: 'multi_class' was deprecated in version 1.5 and will be removed in 1.7. From then on, it will always use 'multinomial'. Leave it to its default value to avoid this warning.\n  warnings.warn(\n"
          ]
        },
        {
          "output_type": "stream",
          "name": "stdout",
          "text": [
            "[Concat Raw+Hell LR fold 1/6] C=10.0, time=0.81s\n"
          ]
        },
        {
          "output_type": "stream",
          "name": "stderr",
          "text": [
            "/usr/local/lib/python3.11/dist-packages/sklearn/linear_model/_logistic.py:1247: FutureWarning: 'multi_class' was deprecated in version 1.5 and will be removed in 1.7. From then on, it will always use 'multinomial'. Leave it to its default value to avoid this warning.\n  warnings.warn(\n"
          ]
        },
        {
          "output_type": "stream",
          "name": "stdout",
          "text": [
            "[Concat Raw+Hell LR fold 2/6] C=10.0, time=0.42s\n"
          ]
        },
        {
          "output_type": "stream",
          "name": "stderr",
          "text": [
            "/usr/local/lib/python3.11/dist-packages/sklearn/linear_model/_logistic.py:1247: FutureWarning: 'multi_class' was deprecated in version 1.5 and will be removed in 1.7. From then on, it will always use 'multinomial'. Leave it to its default value to avoid this warning.\n  warnings.warn(\n"
          ]
        },
        {
          "output_type": "stream",
          "name": "stdout",
          "text": [
            "[Concat Raw+Hell LR fold 3/6] C=10.0, time=0.52s\n"
          ]
        },
        {
          "output_type": "stream",
          "name": "stderr",
          "text": [
            "/usr/local/lib/python3.11/dist-packages/sklearn/linear_model/_logistic.py:1247: FutureWarning: 'multi_class' was deprecated in version 1.5 and will be removed in 1.7. From then on, it will always use 'multinomial'. Leave it to its default value to avoid this warning.\n  warnings.warn(\n"
          ]
        },
        {
          "output_type": "stream",
          "name": "stdout",
          "text": [
            "[Concat Raw+Hell LR fold 4/6] C=10.0, time=0.61s\n"
          ]
        },
        {
          "output_type": "stream",
          "name": "stderr",
          "text": [
            "/usr/local/lib/python3.11/dist-packages/sklearn/linear_model/_logistic.py:1247: FutureWarning: 'multi_class' was deprecated in version 1.5 and will be removed in 1.7. From then on, it will always use 'multinomial'. Leave it to its default value to avoid this warning.\n  warnings.warn(\n"
          ]
        },
        {
          "output_type": "stream",
          "name": "stdout",
          "text": [
            "[Concat Raw+Hell LR fold 5/6] C=10.0, time=0.59s\n"
          ]
        },
        {
          "output_type": "stream",
          "name": "stderr",
          "text": [
            "/usr/local/lib/python3.11/dist-packages/sklearn/linear_model/_logistic.py:1247: FutureWarning: 'multi_class' was deprecated in version 1.5 and will be removed in 1.7. From then on, it will always use 'multinomial'. Leave it to its default value to avoid this warning.\n  warnings.warn(\n"
          ]
        },
        {
          "output_type": "stream",
          "name": "stdout",
          "text": [
            "[Concat Raw+Hell LR fold 6/6] C=10.0, time=0.40s\n"
          ]
        },
        {
          "output_type": "stream",
          "name": "stdout",
          "text": [
            "Concat Raw+Hell LR OOF: 0.057777 | C=10.0 in 3.44s\n"
          ]
        },
        {
          "output_type": "stream",
          "name": "stderr",
          "text": [
            "/usr/local/lib/python3.11/dist-packages/sklearn/linear_model/_logistic.py:1247: FutureWarning: 'multi_class' was deprecated in version 1.5 and will be removed in 1.7. From then on, it will always use 'multinomial'. Leave it to its default value to avoid this warning.\n  warnings.warn(\n"
          ]
        },
        {
          "output_type": "stream",
          "name": "stdout",
          "text": [
            "[Concat Raw+Hell LR fold 1/6] C=30.0, time=0.36s\n"
          ]
        },
        {
          "output_type": "stream",
          "name": "stderr",
          "text": [
            "/usr/local/lib/python3.11/dist-packages/sklearn/linear_model/_logistic.py:1247: FutureWarning: 'multi_class' was deprecated in version 1.5 and will be removed in 1.7. From then on, it will always use 'multinomial'. Leave it to its default value to avoid this warning.\n  warnings.warn(\n"
          ]
        },
        {
          "output_type": "stream",
          "name": "stdout",
          "text": [
            "[Concat Raw+Hell LR fold 2/6] C=30.0, time=0.53s\n"
          ]
        },
        {
          "output_type": "stream",
          "name": "stderr",
          "text": [
            "/usr/local/lib/python3.11/dist-packages/sklearn/linear_model/_logistic.py:1247: FutureWarning: 'multi_class' was deprecated in version 1.5 and will be removed in 1.7. From then on, it will always use 'multinomial'. Leave it to its default value to avoid this warning.\n  warnings.warn(\n"
          ]
        },
        {
          "output_type": "stream",
          "name": "stdout",
          "text": [
            "[Concat Raw+Hell LR fold 3/6] C=30.0, time=0.47s\n"
          ]
        },
        {
          "output_type": "stream",
          "name": "stderr",
          "text": [
            "/usr/local/lib/python3.11/dist-packages/sklearn/linear_model/_logistic.py:1247: FutureWarning: 'multi_class' was deprecated in version 1.5 and will be removed in 1.7. From then on, it will always use 'multinomial'. Leave it to its default value to avoid this warning.\n  warnings.warn(\n"
          ]
        },
        {
          "output_type": "stream",
          "name": "stdout",
          "text": [
            "[Concat Raw+Hell LR fold 4/6] C=30.0, time=0.66s\n"
          ]
        },
        {
          "output_type": "stream",
          "name": "stderr",
          "text": [
            "/usr/local/lib/python3.11/dist-packages/sklearn/linear_model/_logistic.py:1247: FutureWarning: 'multi_class' was deprecated in version 1.5 and will be removed in 1.7. From then on, it will always use 'multinomial'. Leave it to its default value to avoid this warning.\n  warnings.warn(\n"
          ]
        },
        {
          "output_type": "stream",
          "name": "stdout",
          "text": [
            "[Concat Raw+Hell LR fold 5/6] C=30.0, time=0.71s\n"
          ]
        },
        {
          "output_type": "stream",
          "name": "stderr",
          "text": [
            "/usr/local/lib/python3.11/dist-packages/sklearn/linear_model/_logistic.py:1247: FutureWarning: 'multi_class' was deprecated in version 1.5 and will be removed in 1.7. From then on, it will always use 'multinomial'. Leave it to its default value to avoid this warning.\n  warnings.warn(\n"
          ]
        },
        {
          "output_type": "stream",
          "name": "stdout",
          "text": [
            "[Concat Raw+Hell LR fold 6/6] C=30.0, time=0.71s\n"
          ]
        },
        {
          "output_type": "stream",
          "name": "stdout",
          "text": [
            "Concat Raw+Hell LR OOF: 0.051296 | C=30.0 in 3.60s\n"
          ]
        },
        {
          "output_type": "stream",
          "name": "stderr",
          "text": [
            "/usr/local/lib/python3.11/dist-packages/sklearn/linear_model/_logistic.py:1247: FutureWarning: 'multi_class' was deprecated in version 1.5 and will be removed in 1.7. From then on, it will always use 'multinomial'. Leave it to its default value to avoid this warning.\n  warnings.warn(\n"
          ]
        },
        {
          "output_type": "stream",
          "name": "stdout",
          "text": [
            "[Concat Raw+Hell LR fold 1/6] C=60.0, time=0.41s\n"
          ]
        },
        {
          "output_type": "stream",
          "name": "stderr",
          "text": [
            "/usr/local/lib/python3.11/dist-packages/sklearn/linear_model/_logistic.py:1247: FutureWarning: 'multi_class' was deprecated in version 1.5 and will be removed in 1.7. From then on, it will always use 'multinomial'. Leave it to its default value to avoid this warning.\n  warnings.warn(\n"
          ]
        },
        {
          "output_type": "stream",
          "name": "stdout",
          "text": [
            "[Concat Raw+Hell LR fold 2/6] C=60.0, time=0.52s\n"
          ]
        },
        {
          "output_type": "stream",
          "name": "stderr",
          "text": [
            "/usr/local/lib/python3.11/dist-packages/sklearn/linear_model/_logistic.py:1247: FutureWarning: 'multi_class' was deprecated in version 1.5 and will be removed in 1.7. From then on, it will always use 'multinomial'. Leave it to its default value to avoid this warning.\n  warnings.warn(\n"
          ]
        },
        {
          "output_type": "stream",
          "name": "stdout",
          "text": [
            "[Concat Raw+Hell LR fold 3/6] C=60.0, time=0.60s\n"
          ]
        },
        {
          "output_type": "stream",
          "name": "stderr",
          "text": [
            "/usr/local/lib/python3.11/dist-packages/sklearn/linear_model/_logistic.py:1247: FutureWarning: 'multi_class' was deprecated in version 1.5 and will be removed in 1.7. From then on, it will always use 'multinomial'. Leave it to its default value to avoid this warning.\n  warnings.warn(\n"
          ]
        },
        {
          "output_type": "stream",
          "name": "stdout",
          "text": [
            "[Concat Raw+Hell LR fold 4/6] C=60.0, time=0.50s\n"
          ]
        },
        {
          "output_type": "stream",
          "name": "stderr",
          "text": [
            "/usr/local/lib/python3.11/dist-packages/sklearn/linear_model/_logistic.py:1247: FutureWarning: 'multi_class' was deprecated in version 1.5 and will be removed in 1.7. From then on, it will always use 'multinomial'. Leave it to its default value to avoid this warning.\n  warnings.warn(\n"
          ]
        },
        {
          "output_type": "stream",
          "name": "stdout",
          "text": [
            "[Concat Raw+Hell LR fold 5/6] C=60.0, time=0.45s\n"
          ]
        },
        {
          "output_type": "stream",
          "name": "stderr",
          "text": [
            "/usr/local/lib/python3.11/dist-packages/sklearn/linear_model/_logistic.py:1247: FutureWarning: 'multi_class' was deprecated in version 1.5 and will be removed in 1.7. From then on, it will always use 'multinomial'. Leave it to its default value to avoid this warning.\n  warnings.warn(\n"
          ]
        },
        {
          "output_type": "stream",
          "name": "stdout",
          "text": [
            "[Concat Raw+Hell LR fold 6/6] C=60.0, time=0.48s\n"
          ]
        },
        {
          "output_type": "stream",
          "name": "stdout",
          "text": [
            "Concat Raw+Hell LR OOF: 0.052601 | C=60.0 in 3.08s\n"
          ]
        },
        {
          "output_type": "stream",
          "name": "stderr",
          "text": [
            "/usr/local/lib/python3.11/dist-packages/sklearn/linear_model/_logistic.py:1247: FutureWarning: 'multi_class' was deprecated in version 1.5 and will be removed in 1.7. From then on, it will always use 'multinomial'. Leave it to its default value to avoid this warning.\n  warnings.warn(\n"
          ]
        },
        {
          "output_type": "stream",
          "name": "stdout",
          "text": [
            "[Concat Raw+Hell LR fold 1/6] C=100.0, time=0.42s\n"
          ]
        },
        {
          "output_type": "stream",
          "name": "stderr",
          "text": [
            "/usr/local/lib/python3.11/dist-packages/sklearn/linear_model/_logistic.py:1247: FutureWarning: 'multi_class' was deprecated in version 1.5 and will be removed in 1.7. From then on, it will always use 'multinomial'. Leave it to its default value to avoid this warning.\n  warnings.warn(\n"
          ]
        },
        {
          "output_type": "stream",
          "name": "stdout",
          "text": [
            "[Concat Raw+Hell LR fold 2/6] C=100.0, time=0.49s\n"
          ]
        },
        {
          "output_type": "stream",
          "name": "stderr",
          "text": [
            "/usr/local/lib/python3.11/dist-packages/sklearn/linear_model/_logistic.py:1247: FutureWarning: 'multi_class' was deprecated in version 1.5 and will be removed in 1.7. From then on, it will always use 'multinomial'. Leave it to its default value to avoid this warning.\n  warnings.warn(\n"
          ]
        },
        {
          "output_type": "stream",
          "name": "stdout",
          "text": [
            "[Concat Raw+Hell LR fold 3/6] C=100.0, time=0.43s\n"
          ]
        },
        {
          "output_type": "stream",
          "name": "stderr",
          "text": [
            "/usr/local/lib/python3.11/dist-packages/sklearn/linear_model/_logistic.py:1247: FutureWarning: 'multi_class' was deprecated in version 1.5 and will be removed in 1.7. From then on, it will always use 'multinomial'. Leave it to its default value to avoid this warning.\n  warnings.warn(\n"
          ]
        },
        {
          "output_type": "stream",
          "name": "stdout",
          "text": [
            "[Concat Raw+Hell LR fold 4/6] C=100.0, time=0.54s\n"
          ]
        },
        {
          "output_type": "stream",
          "name": "stderr",
          "text": [
            "/usr/local/lib/python3.11/dist-packages/sklearn/linear_model/_logistic.py:1247: FutureWarning: 'multi_class' was deprecated in version 1.5 and will be removed in 1.7. From then on, it will always use 'multinomial'. Leave it to its default value to avoid this warning.\n  warnings.warn(\n"
          ]
        },
        {
          "output_type": "stream",
          "name": "stdout",
          "text": [
            "[Concat Raw+Hell LR fold 5/6] C=100.0, time=0.51s\n"
          ]
        },
        {
          "output_type": "stream",
          "name": "stderr",
          "text": [
            "/usr/local/lib/python3.11/dist-packages/sklearn/linear_model/_logistic.py:1247: FutureWarning: 'multi_class' was deprecated in version 1.5 and will be removed in 1.7. From then on, it will always use 'multinomial'. Leave it to its default value to avoid this warning.\n  warnings.warn(\n"
          ]
        },
        {
          "output_type": "stream",
          "name": "stdout",
          "text": [
            "[Concat Raw+Hell LR fold 6/6] C=100.0, time=0.36s\n"
          ]
        },
        {
          "output_type": "stream",
          "name": "stdout",
          "text": [
            "Concat Raw+Hell LR OOF: 0.051889 | C=100.0 in 2.89s\n"
          ]
        },
        {
          "output_type": "stream",
          "name": "stderr",
          "text": [
            "/usr/local/lib/python3.11/dist-packages/sklearn/linear_model/_logistic.py:1247: FutureWarning: 'multi_class' was deprecated in version 1.5 and will be removed in 1.7. From then on, it will always use 'multinomial'. Leave it to its default value to avoid this warning.\n  warnings.warn(\n"
          ]
        },
        {
          "output_type": "stream",
          "name": "stdout",
          "text": [
            "[Concat Raw+Hell LR fold 1/6] C=150.0, time=0.32s\n"
          ]
        },
        {
          "output_type": "stream",
          "name": "stderr",
          "text": [
            "/usr/local/lib/python3.11/dist-packages/sklearn/linear_model/_logistic.py:1247: FutureWarning: 'multi_class' was deprecated in version 1.5 and will be removed in 1.7. From then on, it will always use 'multinomial'. Leave it to its default value to avoid this warning.\n  warnings.warn(\n"
          ]
        },
        {
          "output_type": "stream",
          "name": "stdout",
          "text": [
            "[Concat Raw+Hell LR fold 2/6] C=150.0, time=0.49s\n"
          ]
        },
        {
          "output_type": "stream",
          "name": "stderr",
          "text": [
            "/usr/local/lib/python3.11/dist-packages/sklearn/linear_model/_logistic.py:1247: FutureWarning: 'multi_class' was deprecated in version 1.5 and will be removed in 1.7. From then on, it will always use 'multinomial'. Leave it to its default value to avoid this warning.\n  warnings.warn(\n"
          ]
        },
        {
          "output_type": "stream",
          "name": "stdout",
          "text": [
            "[Concat Raw+Hell LR fold 3/6] C=150.0, time=0.45s\n"
          ]
        },
        {
          "output_type": "stream",
          "name": "stderr",
          "text": [
            "/usr/local/lib/python3.11/dist-packages/sklearn/linear_model/_logistic.py:1247: FutureWarning: 'multi_class' was deprecated in version 1.5 and will be removed in 1.7. From then on, it will always use 'multinomial'. Leave it to its default value to avoid this warning.\n  warnings.warn(\n"
          ]
        },
        {
          "output_type": "stream",
          "name": "stdout",
          "text": [
            "[Concat Raw+Hell LR fold 4/6] C=150.0, time=0.43s\n"
          ]
        },
        {
          "output_type": "stream",
          "name": "stderr",
          "text": [
            "/usr/local/lib/python3.11/dist-packages/sklearn/linear_model/_logistic.py:1247: FutureWarning: 'multi_class' was deprecated in version 1.5 and will be removed in 1.7. From then on, it will always use 'multinomial'. Leave it to its default value to avoid this warning.\n  warnings.warn(\n"
          ]
        },
        {
          "output_type": "stream",
          "name": "stdout",
          "text": [
            "[Concat Raw+Hell LR fold 5/6] C=150.0, time=0.44s\n"
          ]
        },
        {
          "output_type": "stream",
          "name": "stderr",
          "text": [
            "/usr/local/lib/python3.11/dist-packages/sklearn/linear_model/_logistic.py:1247: FutureWarning: 'multi_class' was deprecated in version 1.5 and will be removed in 1.7. From then on, it will always use 'multinomial'. Leave it to its default value to avoid this warning.\n  warnings.warn(\n"
          ]
        },
        {
          "output_type": "stream",
          "name": "stdout",
          "text": [
            "[Concat Raw+Hell LR fold 6/6] C=150.0, time=0.38s\n"
          ]
        },
        {
          "output_type": "stream",
          "name": "stdout",
          "text": [
            "Concat Raw+Hell LR OOF: 0.051803 | C=150.0 in 2.60s\n"
          ]
        },
        {
          "output_type": "stream",
          "name": "stderr",
          "text": [
            "/usr/local/lib/python3.11/dist-packages/sklearn/linear_model/_logistic.py:1247: FutureWarning: 'multi_class' was deprecated in version 1.5 and will be removed in 1.7. From then on, it will always use 'multinomial'. Leave it to its default value to avoid this warning.\n  warnings.warn(\n"
          ]
        },
        {
          "output_type": "stream",
          "name": "stdout",
          "text": [
            "[Concat Raw+Hell LR fold 1/6] C=200.0, time=0.32s\n"
          ]
        },
        {
          "output_type": "stream",
          "name": "stderr",
          "text": [
            "/usr/local/lib/python3.11/dist-packages/sklearn/linear_model/_logistic.py:1247: FutureWarning: 'multi_class' was deprecated in version 1.5 and will be removed in 1.7. From then on, it will always use 'multinomial'. Leave it to its default value to avoid this warning.\n  warnings.warn(\n"
          ]
        },
        {
          "output_type": "stream",
          "name": "stdout",
          "text": [
            "[Concat Raw+Hell LR fold 2/6] C=200.0, time=0.38s\n"
          ]
        },
        {
          "output_type": "stream",
          "name": "stderr",
          "text": [
            "/usr/local/lib/python3.11/dist-packages/sklearn/linear_model/_logistic.py:1247: FutureWarning: 'multi_class' was deprecated in version 1.5 and will be removed in 1.7. From then on, it will always use 'multinomial'. Leave it to its default value to avoid this warning.\n  warnings.warn(\n"
          ]
        },
        {
          "output_type": "stream",
          "name": "stdout",
          "text": [
            "[Concat Raw+Hell LR fold 3/6] C=200.0, time=0.41s\n"
          ]
        },
        {
          "output_type": "stream",
          "name": "stderr",
          "text": [
            "/usr/local/lib/python3.11/dist-packages/sklearn/linear_model/_logistic.py:1247: FutureWarning: 'multi_class' was deprecated in version 1.5 and will be removed in 1.7. From then on, it will always use 'multinomial'. Leave it to its default value to avoid this warning.\n  warnings.warn(\n"
          ]
        },
        {
          "output_type": "stream",
          "name": "stdout",
          "text": [
            "[Concat Raw+Hell LR fold 4/6] C=200.0, time=0.42s\n"
          ]
        },
        {
          "output_type": "stream",
          "name": "stderr",
          "text": [
            "/usr/local/lib/python3.11/dist-packages/sklearn/linear_model/_logistic.py:1247: FutureWarning: 'multi_class' was deprecated in version 1.5 and will be removed in 1.7. From then on, it will always use 'multinomial'. Leave it to its default value to avoid this warning.\n  warnings.warn(\n"
          ]
        },
        {
          "output_type": "stream",
          "name": "stdout",
          "text": [
            "[Concat Raw+Hell LR fold 5/6] C=200.0, time=0.35s\n"
          ]
        },
        {
          "output_type": "stream",
          "name": "stderr",
          "text": [
            "/usr/local/lib/python3.11/dist-packages/sklearn/linear_model/_logistic.py:1247: FutureWarning: 'multi_class' was deprecated in version 1.5 and will be removed in 1.7. From then on, it will always use 'multinomial'. Leave it to its default value to avoid this warning.\n  warnings.warn(\n"
          ]
        },
        {
          "output_type": "stream",
          "name": "stdout",
          "text": [
            "[Concat Raw+Hell LR fold 6/6] C=200.0, time=0.30s\n"
          ]
        },
        {
          "output_type": "stream",
          "name": "stdout",
          "text": [
            "Concat Raw+Hell LR OOF: 0.051748 | C=200.0 in 2.27s\n"
          ]
        },
        {
          "output_type": "stream",
          "name": "stdout",
          "text": [
            "Best Concat Raw+Hell LR: (30.0, 0.05129633843739897) | total 17.89s\nSaved oof_concat_lr.npy and test_concat_lr.npy\n"
          ]
        }
      ]
    },
    {
      "id": "3f18bd05-5cae-47ef-8348-6b2c8cc93029",
      "cell_type": "code",
      "metadata": {},
      "source": [
        "# FIXED Hellinger pipeline: sorted blocks + proper eps + smaller C grid; no scaler/centering\n",
        "import re, json, time, numpy as np\n",
        "from sklearn.linear_model import LogisticRegression\n",
        "from sklearn.metrics import log_loss\n",
        "\n",
        "SEED = 2025\n",
        "eps = 1e-9\n",
        "X_raw = train[feature_cols].values.astype(np.float64)\n",
        "X_test_raw = test[feature_cols].values.astype(np.float64)\n",
        "y_idx = y_enc.astype(int)\n",
        "K = len(le.classes_)\n",
        "\n",
        "def get_blocks_sorted(cols):\n",
        "    patt_cache = {}\n",
        "    def sort_keys(prefix):\n",
        "        patt = patt_cache.get(prefix)\n",
        "        if patt is None:\n",
        "            patt = re.compile(r'^'+re.escape(prefix)+r'(\\d+)$')\n",
        "            patt_cache[prefix] = patt\n",
        "        items = []\n",
        "        for c in cols:\n",
        "            m = patt.match(c)\n",
        "            if m:\n",
        "                items.append((int(m.group(1)), c))\n",
        "        items.sort(key=lambda x: x[0])\n",
        "        return [c for _, c in items]\n",
        "    margin = sort_keys('margin')\n",
        "    shape = sort_keys('shape')\n",
        "    texture = sort_keys('texture')\n",
        "    assert len(margin)==len(shape)==len(texture)==64, (len(margin), len(shape), len(texture))\n",
        "    idx = {c:i for i,c in enumerate(cols)}\n",
        "    m_idx = np.array([idx[c] for c in margin])\n",
        "    s_idx = np.array([idx[c] for c in shape])\n",
        "    t_idx = np.array([idx[c] for c in texture])\n",
        "    return m_idx, s_idx, t_idx, margin, shape, texture\n",
        "\n",
        "m_idx_s, s_idx_s, t_idx_s, m_names, s_names, t_names = get_blocks_sorted(feature_cols)\n",
        "\n",
        "# Sanity print of ordering\n",
        "print('Margin first/last 5:', m_names[:5], m_names[-5:])\n",
        "print('Shape  first/last 5:', s_names[:5], s_names[-5:])\n",
        "print('Texture first/last 5:', t_names[:5], t_names[-5:])\n",
        "\n",
        "def make_hell(A, m_idx, s_idx, t_idx, eps=1e-9, do_global_l2=True):\n",
        "    X = np.clip(A.astype(np.float64, copy=False), 0, None).copy()\n",
        "    # per-block L1 then sqrt; IMPORTANT: assign back since advanced indexing returns a copy\n",
        "    for idx in (m_idx, s_idx, t_idx):\n",
        "        B = X[:, idx].copy()\n",
        "        B /= (B.sum(axis=1, keepdims=True) + eps)\n",
        "        np.sqrt(B, out=B)\n",
        "        X[:, idx] = B\n",
        "    if do_global_l2:\n",
        "        X /= (np.linalg.norm(X, axis=1, keepdims=True) + eps)\n",
        "    return X\n",
        "\n",
        "# Quick sanity on sums and norms\n",
        "X_tmp = make_hell(X_raw[:5].copy(), m_idx_s, s_idx_s, t_idx_s, eps=eps, do_global_l2=False)\n",
        "print('Block L1 sums before sqrt (raw sums):',\n",
        "      X_raw[:3, m_idx_s].sum(axis=1), X_raw[:3, s_idx_s].sum(axis=1), X_raw[:3, t_idx_s].sum(axis=1))\n",
        "print('After L1, sum of squares per block (should be ~1):',\n",
        "      (X_tmp[:3, m_idx_s]**2).sum(axis=1), (X_tmp[:3, s_idx_s]**2).sum(axis=1), (X_tmp[:3, t_idx_s]**2).sum(axis=1))\n",
        "\n",
        "# Precompute transforms (row-wise only, no fit) with and without global L2\n",
        "X_h_l2 = make_hell(X_raw, m_idx_s, s_idx_s, t_idx_s, eps=eps, do_global_l2=True)\n",
        "X_te_h_l2 = make_hell(X_test_raw, m_idx_s, s_idx_s, t_idx_s, eps=eps, do_global_l2=True)\n",
        "row_norms = np.linalg.norm(X_h_l2[:5], axis=1)\n",
        "print('Row L2 norms after global L2 (should be ~1):', row_norms)\n",
        "\n",
        "X_h_nol2 = make_hell(X_raw, m_idx_s, s_idx_s, t_idx_s, eps=eps, do_global_l2=False)\n",
        "X_te_h_nol2 = make_hell(X_test_raw, m_idx_s, s_idx_s, t_idx_s, eps=eps, do_global_l2=False)\n",
        "\n",
        "with open('folds_6.json', 'r') as f:\n",
        "    folds = json.load(f)\n",
        "n_splits = len(folds)\n",
        "\n",
        "def clip_norm(P):\n",
        "    P = np.clip(P, 1e-15, 1-1e-15)\n",
        "    return P / P.sum(axis=1, keepdims=True)\n",
        "\n",
        "def run_lr_on_feats(Xf, Xtf, Cs, tag):\n",
        "    best = (None, 1e9); best_oof=None; best_test=None\n",
        "    t_all = time.time()\n",
        "    for C in Cs:\n",
        "        oof = np.zeros((len(Xf), K), dtype=np.float64)\n",
        "        test_pred = np.zeros((len(Xtf), K), dtype=np.float64)\n",
        "        t0 = time.time()\n",
        "        for i, (trn_idx, val_idx) in enumerate(folds, 1):\n",
        "            trn_idx = np.array(trn_idx); val_idx = np.array(val_idx)\n",
        "            clf = LogisticRegression(multi_class='multinomial', solver='lbfgs', penalty='l2', C=C, fit_intercept=True, max_iter=5000, random_state=SEED)\n",
        "            fstart = time.time()\n",
        "            clf.fit(Xf[trn_idx], y_idx[trn_idx])\n",
        "            P_va = clf.predict_proba(Xf[val_idx])\n",
        "            oof[val_idx] = P_va\n",
        "            test_pred += clf.predict_proba(Xtf) / n_splits\n",
        "            print(f'[{tag} fold {i}/{n_splits}] C={C}, time={time.time()-fstart:.2f}s', flush=True)\n",
        "        ll = log_loss(y_idx, clip_norm(oof), labels=list(range(K)))\n",
        "        print(f'{tag} OOF: {ll:.6f} | C={C} in {time.time()-t0:.2f}s', flush=True)\n",
        "        if ll < best[1]:\n",
        "            best = (C, ll); best_oof=oof; best_test=test_pred\n",
        "    print('Best', tag, ':', best, '| total {:.2f}s'.format(time.time()-t_all))\n",
        "    return best, best_oof, best_test\n",
        "\n",
        "# 1) With global L2\n",
        "Cs_main = [1.0, 3.0, 5.0, 8.0, 12.0]\n",
        "best_l2, oof_l2, test_l2 = run_lr_on_feats(X_h_l2, X_te_h_l2, Cs_main, tag='Hell+L2 LR')\n",
        "np.save('oof_hellinger_lr.npy', oof_l2); np.save('test_hellinger_lr.npy', test_l2)\n",
        "print('Saved oof_hellinger_lr.npy/test_hellinger_lr.npy')\n",
        "\n",
        "# 2) Without global L2 (variant) - smaller sweep\n",
        "Cs_nol2 = [1.0, 3.0, 10.0, 30.0]\n",
        "best_nol2, oof_nol2, test_nol2 = run_lr_on_feats(X_h_nol2, X_te_h_nol2, Cs_nol2, tag='Hell(noL2) LR')\n",
        "np.save('oof_hellinger_nol2_lr.npy', oof_nol2); np.save('test_hellinger_nol2_lr.npy', test_nol2)\n",
        "print('Saved oof_hellinger_nol2_lr.npy/test_hellinger_nol2_lr.npy')\n",
        "\n",
        "# For blending convenience, keep best of the two under block_hell files\n",
        "if best_l2[1] <= best_nol2[1]:\n",
        "    np.save('oof_block_hell_lr.npy', oof_l2); np.save('test_block_hell_lr.npy', test_l2)\n",
        "    print('Block-hell files updated from Hell+L2 LR:', best_l2)\n",
        "else:\n",
        "    np.save('oof_block_hell_lr.npy', oof_nol2); np.save('test_block_hell_lr.npy', test_nol2)\n",
        "    print('Block-hell files updated from Hell(noL2) LR:', best_nol2)"
      ],
      "execution_count": 30,
      "outputs": [
        {
          "output_type": "stream",
          "name": "stdout",
          "text": [
            "Margin first/last 5: ['margin1', 'margin2', 'margin3', 'margin4', 'margin5'] ['margin60', 'margin61', 'margin62', 'margin63', 'margin64']\nShape  first/last 5: ['shape1', 'shape2', 'shape3', 'shape4', 'shape5'] ['shape60', 'shape61', 'shape62', 'shape63', 'shape64']\nTexture first/last 5: ['texture1', 'texture2', 'texture3', 'texture4', 'texture5'] ['texture60', 'texture61', 'texture62', 'texture63', 'texture64']\nBlock L1 sums before sqrt (raw sums): [0.999996 0.999995 1.      ] [0.05032049 0.05670366 0.02403151] [1.000003 0.999998 0.999998]\nAfter L1, sum of squares per block (should be ~1): [1. 1. 1.] [0.99999998 0.99999998 0.99999996] [1. 1. 1.]\nRow L2 norms after global L2 (should be ~1): [1. 1. 1. 1. 1.]\n[Hell+L2 LR fold 1/6] C=1.0, time=0.12s\n"
          ]
        },
        {
          "output_type": "stream",
          "name": "stderr",
          "text": [
            "/usr/local/lib/python3.11/dist-packages/sklearn/linear_model/_logistic.py:1247: FutureWarning: 'multi_class' was deprecated in version 1.5 and will be removed in 1.7. From then on, it will always use 'multinomial'. Leave it to its default value to avoid this warning.\n  warnings.warn(\n/usr/local/lib/python3.11/dist-packages/sklearn/linear_model/_logistic.py:1247: FutureWarning: 'multi_class' was deprecated in version 1.5 and will be removed in 1.7. From then on, it will always use 'multinomial'. Leave it to its default value to avoid this warning.\n  warnings.warn(\n"
          ]
        },
        {
          "output_type": "stream",
          "name": "stdout",
          "text": [
            "[Hell+L2 LR fold 2/6] C=1.0, time=0.22s\n"
          ]
        },
        {
          "output_type": "stream",
          "name": "stdout",
          "text": [
            "[Hell+L2 LR fold 3/6] C=1.0, time=0.16s\n"
          ]
        },
        {
          "output_type": "stream",
          "name": "stderr",
          "text": [
            "/usr/local/lib/python3.11/dist-packages/sklearn/linear_model/_logistic.py:1247: FutureWarning: 'multi_class' was deprecated in version 1.5 and will be removed in 1.7. From then on, it will always use 'multinomial'. Leave it to its default value to avoid this warning.\n  warnings.warn(\n/usr/local/lib/python3.11/dist-packages/sklearn/linear_model/_logistic.py:1247: FutureWarning: 'multi_class' was deprecated in version 1.5 and will be removed in 1.7. From then on, it will always use 'multinomial'. Leave it to its default value to avoid this warning.\n  warnings.warn(\n"
          ]
        },
        {
          "output_type": "stream",
          "name": "stdout",
          "text": [
            "[Hell+L2 LR fold 4/6] C=1.0, time=0.16s\n"
          ]
        },
        {
          "output_type": "stream",
          "name": "stderr",
          "text": [
            "/usr/local/lib/python3.11/dist-packages/sklearn/linear_model/_logistic.py:1247: FutureWarning: 'multi_class' was deprecated in version 1.5 and will be removed in 1.7. From then on, it will always use 'multinomial'. Leave it to its default value to avoid this warning.\n  warnings.warn(\n"
          ]
        },
        {
          "output_type": "stream",
          "name": "stdout",
          "text": [
            "[Hell+L2 LR fold 5/6] C=1.0, time=0.34s\n"
          ]
        },
        {
          "output_type": "stream",
          "name": "stdout",
          "text": [
            "[Hell+L2 LR fold 6/6] C=1.0, time=0.18s\n"
          ]
        },
        {
          "output_type": "stream",
          "name": "stdout",
          "text": [
            "Hell+L2 LR OOF: 3.463161 | C=1.0 in 1.19s\n"
          ]
        },
        {
          "output_type": "stream",
          "name": "stderr",
          "text": [
            "/usr/local/lib/python3.11/dist-packages/sklearn/linear_model/_logistic.py:1247: FutureWarning: 'multi_class' was deprecated in version 1.5 and will be removed in 1.7. From then on, it will always use 'multinomial'. Leave it to its default value to avoid this warning.\n  warnings.warn(\n/usr/local/lib/python3.11/dist-packages/sklearn/linear_model/_logistic.py:1247: FutureWarning: 'multi_class' was deprecated in version 1.5 and will be removed in 1.7. From then on, it will always use 'multinomial'. Leave it to its default value to avoid this warning.\n  warnings.warn(\n"
          ]
        },
        {
          "output_type": "stream",
          "name": "stdout",
          "text": [
            "[Hell+L2 LR fold 1/6] C=3.0, time=0.39s\n"
          ]
        },
        {
          "output_type": "stream",
          "name": "stderr",
          "text": [
            "/usr/local/lib/python3.11/dist-packages/sklearn/linear_model/_logistic.py:1247: FutureWarning: 'multi_class' was deprecated in version 1.5 and will be removed in 1.7. From then on, it will always use 'multinomial'. Leave it to its default value to avoid this warning.\n  warnings.warn(\n"
          ]
        },
        {
          "output_type": "stream",
          "name": "stdout",
          "text": [
            "[Hell+L2 LR fold 2/6] C=3.0, time=0.47s\n"
          ]
        },
        {
          "output_type": "stream",
          "name": "stderr",
          "text": [
            "/usr/local/lib/python3.11/dist-packages/sklearn/linear_model/_logistic.py:1247: FutureWarning: 'multi_class' was deprecated in version 1.5 and will be removed in 1.7. From then on, it will always use 'multinomial'. Leave it to its default value to avoid this warning.\n  warnings.warn(\n"
          ]
        },
        {
          "output_type": "stream",
          "name": "stdout",
          "text": [
            "[Hell+L2 LR fold 3/6] C=3.0, time=0.42s\n"
          ]
        },
        {
          "output_type": "stream",
          "name": "stderr",
          "text": [
            "/usr/local/lib/python3.11/dist-packages/sklearn/linear_model/_logistic.py:1247: FutureWarning: 'multi_class' was deprecated in version 1.5 and will be removed in 1.7. From then on, it will always use 'multinomial'. Leave it to its default value to avoid this warning.\n  warnings.warn(\n"
          ]
        },
        {
          "output_type": "stream",
          "name": "stdout",
          "text": [
            "[Hell+L2 LR fold 4/6] C=3.0, time=0.38s\n"
          ]
        },
        {
          "output_type": "stream",
          "name": "stderr",
          "text": [
            "/usr/local/lib/python3.11/dist-packages/sklearn/linear_model/_logistic.py:1247: FutureWarning: 'multi_class' was deprecated in version 1.5 and will be removed in 1.7. From then on, it will always use 'multinomial'. Leave it to its default value to avoid this warning.\n  warnings.warn(\n"
          ]
        },
        {
          "output_type": "stream",
          "name": "stdout",
          "text": [
            "[Hell+L2 LR fold 5/6] C=3.0, time=0.46s\n"
          ]
        },
        {
          "output_type": "stream",
          "name": "stderr",
          "text": [
            "/usr/local/lib/python3.11/dist-packages/sklearn/linear_model/_logistic.py:1247: FutureWarning: 'multi_class' was deprecated in version 1.5 and will be removed in 1.7. From then on, it will always use 'multinomial'. Leave it to its default value to avoid this warning.\n  warnings.warn(\n"
          ]
        },
        {
          "output_type": "stream",
          "name": "stdout",
          "text": [
            "[Hell+L2 LR fold 6/6] C=3.0, time=0.40s\n"
          ]
        },
        {
          "output_type": "stream",
          "name": "stdout",
          "text": [
            "Hell+L2 LR OOF: 2.304122 | C=3.0 in 2.54s\n"
          ]
        },
        {
          "output_type": "stream",
          "name": "stderr",
          "text": [
            "/usr/local/lib/python3.11/dist-packages/sklearn/linear_model/_logistic.py:1247: FutureWarning: 'multi_class' was deprecated in version 1.5 and will be removed in 1.7. From then on, it will always use 'multinomial'. Leave it to its default value to avoid this warning.\n  warnings.warn(\n"
          ]
        },
        {
          "output_type": "stream",
          "name": "stdout",
          "text": [
            "[Hell+L2 LR fold 1/6] C=5.0, time=0.37s\n"
          ]
        },
        {
          "output_type": "stream",
          "name": "stderr",
          "text": [
            "/usr/local/lib/python3.11/dist-packages/sklearn/linear_model/_logistic.py:1247: FutureWarning: 'multi_class' was deprecated in version 1.5 and will be removed in 1.7. From then on, it will always use 'multinomial'. Leave it to its default value to avoid this warning.\n  warnings.warn(\n"
          ]
        },
        {
          "output_type": "stream",
          "name": "stdout",
          "text": [
            "[Hell+L2 LR fold 2/6] C=5.0, time=0.51s\n"
          ]
        },
        {
          "output_type": "stream",
          "name": "stderr",
          "text": [
            "/usr/local/lib/python3.11/dist-packages/sklearn/linear_model/_logistic.py:1247: FutureWarning: 'multi_class' was deprecated in version 1.5 and will be removed in 1.7. From then on, it will always use 'multinomial'. Leave it to its default value to avoid this warning.\n  warnings.warn(\n"
          ]
        },
        {
          "output_type": "stream",
          "name": "stdout",
          "text": [
            "[Hell+L2 LR fold 3/6] C=5.0, time=0.38s\n"
          ]
        },
        {
          "output_type": "stream",
          "name": "stdout",
          "text": [
            "[Hell+L2 LR fold 4/6] C=5.0, time=0.40s\n"
          ]
        },
        {
          "output_type": "stream",
          "name": "stderr",
          "text": [
            "/usr/local/lib/python3.11/dist-packages/sklearn/linear_model/_logistic.py:1247: FutureWarning: 'multi_class' was deprecated in version 1.5 and will be removed in 1.7. From then on, it will always use 'multinomial'. Leave it to its default value to avoid this warning.\n  warnings.warn(\n"
          ]
        },
        {
          "output_type": "stream",
          "name": "stdout",
          "text": [
            "[Hell+L2 LR fold 5/6] C=5.0, time=0.42s\n"
          ]
        },
        {
          "output_type": "stream",
          "name": "stderr",
          "text": [
            "/usr/local/lib/python3.11/dist-packages/sklearn/linear_model/_logistic.py:1247: FutureWarning: 'multi_class' was deprecated in version 1.5 and will be removed in 1.7. From then on, it will always use 'multinomial'. Leave it to its default value to avoid this warning.\n  warnings.warn(\n"
          ]
        },
        {
          "output_type": "stream",
          "name": "stdout",
          "text": [
            "[Hell+L2 LR fold 6/6] C=5.0, time=0.61s\n"
          ]
        },
        {
          "output_type": "stream",
          "name": "stdout",
          "text": [
            "Hell+L2 LR OOF: 1.755846 | C=5.0 in 2.72s\n"
          ]
        },
        {
          "output_type": "stream",
          "name": "stderr",
          "text": [
            "/usr/local/lib/python3.11/dist-packages/sklearn/linear_model/_logistic.py:1247: FutureWarning: 'multi_class' was deprecated in version 1.5 and will be removed in 1.7. From then on, it will always use 'multinomial'. Leave it to its default value to avoid this warning.\n  warnings.warn(\n"
          ]
        },
        {
          "output_type": "stream",
          "name": "stdout",
          "text": [
            "[Hell+L2 LR fold 1/6] C=8.0, time=0.49s\n"
          ]
        },
        {
          "output_type": "stream",
          "name": "stderr",
          "text": [
            "/usr/local/lib/python3.11/dist-packages/sklearn/linear_model/_logistic.py:1247: FutureWarning: 'multi_class' was deprecated in version 1.5 and will be removed in 1.7. From then on, it will always use 'multinomial'. Leave it to its default value to avoid this warning.\n  warnings.warn(\n"
          ]
        },
        {
          "output_type": "stream",
          "name": "stdout",
          "text": [
            "[Hell+L2 LR fold 2/6] C=8.0, time=0.57s\n"
          ]
        },
        {
          "output_type": "stream",
          "name": "stderr",
          "text": [
            "/usr/local/lib/python3.11/dist-packages/sklearn/linear_model/_logistic.py:1247: FutureWarning: 'multi_class' was deprecated in version 1.5 and will be removed in 1.7. From then on, it will always use 'multinomial'. Leave it to its default value to avoid this warning.\n  warnings.warn(\n"
          ]
        },
        {
          "output_type": "stream",
          "name": "stdout",
          "text": [
            "[Hell+L2 LR fold 3/6] C=8.0, time=0.55s\n"
          ]
        },
        {
          "output_type": "stream",
          "name": "stderr",
          "text": [
            "/usr/local/lib/python3.11/dist-packages/sklearn/linear_model/_logistic.py:1247: FutureWarning: 'multi_class' was deprecated in version 1.5 and will be removed in 1.7. From then on, it will always use 'multinomial'. Leave it to its default value to avoid this warning.\n  warnings.warn(\n"
          ]
        },
        {
          "output_type": "stream",
          "name": "stdout",
          "text": [
            "[Hell+L2 LR fold 4/6] C=8.0, time=0.42s\n"
          ]
        },
        {
          "output_type": "stream",
          "name": "stderr",
          "text": [
            "/usr/local/lib/python3.11/dist-packages/sklearn/linear_model/_logistic.py:1247: FutureWarning: 'multi_class' was deprecated in version 1.5 and will be removed in 1.7. From then on, it will always use 'multinomial'. Leave it to its default value to avoid this warning.\n  warnings.warn(\n"
          ]
        },
        {
          "output_type": "stream",
          "name": "stdout",
          "text": [
            "[Hell+L2 LR fold 5/6] C=8.0, time=0.68s\n"
          ]
        },
        {
          "output_type": "stream",
          "name": "stderr",
          "text": [
            "/usr/local/lib/python3.11/dist-packages/sklearn/linear_model/_logistic.py:1247: FutureWarning: 'multi_class' was deprecated in version 1.5 and will be removed in 1.7. From then on, it will always use 'multinomial'. Leave it to its default value to avoid this warning.\n  warnings.warn(\n"
          ]
        },
        {
          "output_type": "stream",
          "name": "stdout",
          "text": [
            "[Hell+L2 LR fold 6/6] C=8.0, time=0.60s\n"
          ]
        },
        {
          "output_type": "stream",
          "name": "stdout",
          "text": [
            "Hell+L2 LR OOF: 1.329043 | C=8.0 in 3.34s\n"
          ]
        },
        {
          "output_type": "stream",
          "name": "stderr",
          "text": [
            "/usr/local/lib/python3.11/dist-packages/sklearn/linear_model/_logistic.py:1247: FutureWarning: 'multi_class' was deprecated in version 1.5 and will be removed in 1.7. From then on, it will always use 'multinomial'. Leave it to its default value to avoid this warning.\n  warnings.warn(\n"
          ]
        },
        {
          "output_type": "stream",
          "name": "stdout",
          "text": [
            "[Hell+L2 LR fold 1/6] C=12.0, time=0.69s\n"
          ]
        },
        {
          "output_type": "stream",
          "name": "stderr",
          "text": [
            "/usr/local/lib/python3.11/dist-packages/sklearn/linear_model/_logistic.py:1247: FutureWarning: 'multi_class' was deprecated in version 1.5 and will be removed in 1.7. From then on, it will always use 'multinomial'. Leave it to its default value to avoid this warning.\n  warnings.warn(\n"
          ]
        },
        {
          "output_type": "stream",
          "name": "stdout",
          "text": [
            "[Hell+L2 LR fold 2/6] C=12.0, time=0.83s\n"
          ]
        },
        {
          "output_type": "stream",
          "name": "stderr",
          "text": [
            "/usr/local/lib/python3.11/dist-packages/sklearn/linear_model/_logistic.py:1247: FutureWarning: 'multi_class' was deprecated in version 1.5 and will be removed in 1.7. From then on, it will always use 'multinomial'. Leave it to its default value to avoid this warning.\n  warnings.warn(\n"
          ]
        },
        {
          "output_type": "stream",
          "name": "stdout",
          "text": [
            "[Hell+L2 LR fold 3/6] C=12.0, time=0.69s\n"
          ]
        },
        {
          "output_type": "stream",
          "name": "stderr",
          "text": [
            "/usr/local/lib/python3.11/dist-packages/sklearn/linear_model/_logistic.py:1247: FutureWarning: 'multi_class' was deprecated in version 1.5 and will be removed in 1.7. From then on, it will always use 'multinomial'. Leave it to its default value to avoid this warning.\n  warnings.warn(\n"
          ]
        },
        {
          "output_type": "stream",
          "name": "stdout",
          "text": [
            "[Hell+L2 LR fold 4/6] C=12.0, time=0.57s\n"
          ]
        },
        {
          "output_type": "stream",
          "name": "stderr",
          "text": [
            "/usr/local/lib/python3.11/dist-packages/sklearn/linear_model/_logistic.py:1247: FutureWarning: 'multi_class' was deprecated in version 1.5 and will be removed in 1.7. From then on, it will always use 'multinomial'. Leave it to its default value to avoid this warning.\n  warnings.warn(\n"
          ]
        },
        {
          "output_type": "stream",
          "name": "stdout",
          "text": [
            "[Hell+L2 LR fold 5/6] C=12.0, time=0.42s\n"
          ]
        },
        {
          "output_type": "stream",
          "name": "stderr",
          "text": [
            "/usr/local/lib/python3.11/dist-packages/sklearn/linear_model/_logistic.py:1247: FutureWarning: 'multi_class' was deprecated in version 1.5 and will be removed in 1.7. From then on, it will always use 'multinomial'. Leave it to its default value to avoid this warning.\n  warnings.warn(\n"
          ]
        },
        {
          "output_type": "stream",
          "name": "stdout",
          "text": [
            "[Hell+L2 LR fold 6/6] C=12.0, time=0.37s\n"
          ]
        },
        {
          "output_type": "stream",
          "name": "stdout",
          "text": [
            "Hell+L2 LR OOF: 1.044082 | C=12.0 in 3.60s\n"
          ]
        },
        {
          "output_type": "stream",
          "name": "stdout",
          "text": [
            "Best Hell+L2 LR : (12.0, 1.0440822959332978) | total 13.42s\nSaved oof_hellinger_lr.npy/test_hellinger_lr.npy\n"
          ]
        },
        {
          "output_type": "stream",
          "name": "stderr",
          "text": [
            "/usr/local/lib/python3.11/dist-packages/sklearn/linear_model/_logistic.py:1247: FutureWarning: 'multi_class' was deprecated in version 1.5 and will be removed in 1.7. From then on, it will always use 'multinomial'. Leave it to its default value to avoid this warning.\n  warnings.warn(\n"
          ]
        },
        {
          "output_type": "stream",
          "name": "stdout",
          "text": [
            "[Hell(noL2) LR fold 1/6] C=1.0, time=0.34s\n"
          ]
        },
        {
          "output_type": "stream",
          "name": "stderr",
          "text": [
            "/usr/local/lib/python3.11/dist-packages/sklearn/linear_model/_logistic.py:1247: FutureWarning: 'multi_class' was deprecated in version 1.5 and will be removed in 1.7. From then on, it will always use 'multinomial'. Leave it to its default value to avoid this warning.\n  warnings.warn(\n"
          ]
        },
        {
          "output_type": "stream",
          "name": "stdout",
          "text": [
            "[Hell(noL2) LR fold 2/6] C=1.0, time=0.52s\n"
          ]
        },
        {
          "output_type": "stream",
          "name": "stderr",
          "text": [
            "/usr/local/lib/python3.11/dist-packages/sklearn/linear_model/_logistic.py:1247: FutureWarning: 'multi_class' was deprecated in version 1.5 and will be removed in 1.7. From then on, it will always use 'multinomial'. Leave it to its default value to avoid this warning.\n  warnings.warn(\n"
          ]
        },
        {
          "output_type": "stream",
          "name": "stdout",
          "text": [
            "[Hell(noL2) LR fold 3/6] C=1.0, time=0.48s\n"
          ]
        },
        {
          "output_type": "stream",
          "name": "stderr",
          "text": [
            "/usr/local/lib/python3.11/dist-packages/sklearn/linear_model/_logistic.py:1247: FutureWarning: 'multi_class' was deprecated in version 1.5 and will be removed in 1.7. From then on, it will always use 'multinomial'. Leave it to its default value to avoid this warning.\n  warnings.warn(\n"
          ]
        },
        {
          "output_type": "stream",
          "name": "stdout",
          "text": [
            "[Hell(noL2) LR fold 4/6] C=1.0, time=0.47s\n"
          ]
        },
        {
          "output_type": "stream",
          "name": "stderr",
          "text": [
            "/usr/local/lib/python3.11/dist-packages/sklearn/linear_model/_logistic.py:1247: FutureWarning: 'multi_class' was deprecated in version 1.5 and will be removed in 1.7. From then on, it will always use 'multinomial'. Leave it to its default value to avoid this warning.\n  warnings.warn(\n"
          ]
        },
        {
          "output_type": "stream",
          "name": "stdout",
          "text": [
            "[Hell(noL2) LR fold 5/6] C=1.0, time=0.47s\n"
          ]
        },
        {
          "output_type": "stream",
          "name": "stderr",
          "text": [
            "/usr/local/lib/python3.11/dist-packages/sklearn/linear_model/_logistic.py:1247: FutureWarning: 'multi_class' was deprecated in version 1.5 and will be removed in 1.7. From then on, it will always use 'multinomial'. Leave it to its default value to avoid this warning.\n  warnings.warn(\n"
          ]
        },
        {
          "output_type": "stream",
          "name": "stdout",
          "text": [
            "[Hell(noL2) LR fold 6/6] C=1.0, time=0.47s\n"
          ]
        },
        {
          "output_type": "stream",
          "name": "stdout",
          "text": [
            "Hell(noL2) LR OOF: 2.305619 | C=1.0 in 2.78s\n"
          ]
        },
        {
          "output_type": "stream",
          "name": "stderr",
          "text": [
            "/usr/local/lib/python3.11/dist-packages/sklearn/linear_model/_logistic.py:1247: FutureWarning: 'multi_class' was deprecated in version 1.5 and will be removed in 1.7. From then on, it will always use 'multinomial'. Leave it to its default value to avoid this warning.\n  warnings.warn(\n"
          ]
        },
        {
          "output_type": "stream",
          "name": "stdout",
          "text": [
            "[Hell(noL2) LR fold 1/6] C=3.0, time=0.57s\n"
          ]
        },
        {
          "output_type": "stream",
          "name": "stderr",
          "text": [
            "/usr/local/lib/python3.11/dist-packages/sklearn/linear_model/_logistic.py:1247: FutureWarning: 'multi_class' was deprecated in version 1.5 and will be removed in 1.7. From then on, it will always use 'multinomial'. Leave it to its default value to avoid this warning.\n  warnings.warn(\n"
          ]
        },
        {
          "output_type": "stream",
          "name": "stdout",
          "text": [
            "[Hell(noL2) LR fold 2/6] C=3.0, time=0.52s\n"
          ]
        },
        {
          "output_type": "stream",
          "name": "stderr",
          "text": [
            "/usr/local/lib/python3.11/dist-packages/sklearn/linear_model/_logistic.py:1247: FutureWarning: 'multi_class' was deprecated in version 1.5 and will be removed in 1.7. From then on, it will always use 'multinomial'. Leave it to its default value to avoid this warning.\n  warnings.warn(\n"
          ]
        },
        {
          "output_type": "stream",
          "name": "stdout",
          "text": [
            "[Hell(noL2) LR fold 3/6] C=3.0, time=0.75s\n"
          ]
        },
        {
          "output_type": "stream",
          "name": "stderr",
          "text": [
            "/usr/local/lib/python3.11/dist-packages/sklearn/linear_model/_logistic.py:1247: FutureWarning: 'multi_class' was deprecated in version 1.5 and will be removed in 1.7. From then on, it will always use 'multinomial'. Leave it to its default value to avoid this warning.\n  warnings.warn(\n"
          ]
        },
        {
          "output_type": "stream",
          "name": "stdout",
          "text": [
            "[Hell(noL2) LR fold 4/6] C=3.0, time=0.66s\n"
          ]
        },
        {
          "output_type": "stream",
          "name": "stderr",
          "text": [
            "/usr/local/lib/python3.11/dist-packages/sklearn/linear_model/_logistic.py:1247: FutureWarning: 'multi_class' was deprecated in version 1.5 and will be removed in 1.7. From then on, it will always use 'multinomial'. Leave it to its default value to avoid this warning.\n  warnings.warn(\n"
          ]
        },
        {
          "output_type": "stream",
          "name": "stdout",
          "text": [
            "[Hell(noL2) LR fold 5/6] C=3.0, time=0.59s\n"
          ]
        },
        {
          "output_type": "stream",
          "name": "stderr",
          "text": [
            "/usr/local/lib/python3.11/dist-packages/sklearn/linear_model/_logistic.py:1247: FutureWarning: 'multi_class' was deprecated in version 1.5 and will be removed in 1.7. From then on, it will always use 'multinomial'. Leave it to its default value to avoid this warning.\n  warnings.warn(\n"
          ]
        },
        {
          "output_type": "stream",
          "name": "stdout",
          "text": [
            "[Hell(noL2) LR fold 6/6] C=3.0, time=0.60s\n"
          ]
        },
        {
          "output_type": "stream",
          "name": "stdout",
          "text": [
            "Hell(noL2) LR OOF: 1.242183 | C=3.0 in 3.71s\n"
          ]
        },
        {
          "output_type": "stream",
          "name": "stderr",
          "text": [
            "/usr/local/lib/python3.11/dist-packages/sklearn/linear_model/_logistic.py:1247: FutureWarning: 'multi_class' was deprecated in version 1.5 and will be removed in 1.7. From then on, it will always use 'multinomial'. Leave it to its default value to avoid this warning.\n  warnings.warn(\n"
          ]
        },
        {
          "output_type": "stream",
          "name": "stdout",
          "text": [
            "[Hell(noL2) LR fold 1/6] C=10.0, time=0.64s\n"
          ]
        },
        {
          "output_type": "stream",
          "name": "stderr",
          "text": [
            "/usr/local/lib/python3.11/dist-packages/sklearn/linear_model/_logistic.py:1247: FutureWarning: 'multi_class' was deprecated in version 1.5 and will be removed in 1.7. From then on, it will always use 'multinomial'. Leave it to its default value to avoid this warning.\n  warnings.warn(\n"
          ]
        },
        {
          "output_type": "stream",
          "name": "stdout",
          "text": [
            "[Hell(noL2) LR fold 2/6] C=10.0, time=0.73s\n"
          ]
        },
        {
          "output_type": "stream",
          "name": "stderr",
          "text": [
            "/usr/local/lib/python3.11/dist-packages/sklearn/linear_model/_logistic.py:1247: FutureWarning: 'multi_class' was deprecated in version 1.5 and will be removed in 1.7. From then on, it will always use 'multinomial'. Leave it to its default value to avoid this warning.\n  warnings.warn(\n"
          ]
        },
        {
          "output_type": "stream",
          "name": "stdout",
          "text": [
            "[Hell(noL2) LR fold 3/6] C=10.0, time=0.59s\n"
          ]
        },
        {
          "output_type": "stream",
          "name": "stderr",
          "text": [
            "/usr/local/lib/python3.11/dist-packages/sklearn/linear_model/_logistic.py:1247: FutureWarning: 'multi_class' was deprecated in version 1.5 and will be removed in 1.7. From then on, it will always use 'multinomial'. Leave it to its default value to avoid this warning.\n  warnings.warn(\n"
          ]
        },
        {
          "output_type": "stream",
          "name": "stdout",
          "text": [
            "[Hell(noL2) LR fold 4/6] C=10.0, time=0.73s\n"
          ]
        },
        {
          "output_type": "stream",
          "name": "stderr",
          "text": [
            "/usr/local/lib/python3.11/dist-packages/sklearn/linear_model/_logistic.py:1247: FutureWarning: 'multi_class' was deprecated in version 1.5 and will be removed in 1.7. From then on, it will always use 'multinomial'. Leave it to its default value to avoid this warning.\n  warnings.warn(\n"
          ]
        },
        {
          "output_type": "stream",
          "name": "stdout",
          "text": [
            "[Hell(noL2) LR fold 5/6] C=10.0, time=0.59s\n"
          ]
        },
        {
          "output_type": "stream",
          "name": "stderr",
          "text": [
            "/usr/local/lib/python3.11/dist-packages/sklearn/linear_model/_logistic.py:1247: FutureWarning: 'multi_class' was deprecated in version 1.5 and will be removed in 1.7. From then on, it will always use 'multinomial'. Leave it to its default value to avoid this warning.\n  warnings.warn(\n"
          ]
        },
        {
          "output_type": "stream",
          "name": "stdout",
          "text": [
            "[Hell(noL2) LR fold 6/6] C=10.0, time=0.43s\n"
          ]
        },
        {
          "output_type": "stream",
          "name": "stdout",
          "text": [
            "Hell(noL2) LR OOF: 0.613177 | C=10.0 in 3.73s\n"
          ]
        },
        {
          "output_type": "stream",
          "name": "stderr",
          "text": [
            "/usr/local/lib/python3.11/dist-packages/sklearn/linear_model/_logistic.py:1247: FutureWarning: 'multi_class' was deprecated in version 1.5 and will be removed in 1.7. From then on, it will always use 'multinomial'. Leave it to its default value to avoid this warning.\n  warnings.warn(\n"
          ]
        },
        {
          "output_type": "stream",
          "name": "stdout",
          "text": [
            "[Hell(noL2) LR fold 1/6] C=30.0, time=0.60s\n"
          ]
        },
        {
          "output_type": "stream",
          "name": "stderr",
          "text": [
            "/usr/local/lib/python3.11/dist-packages/sklearn/linear_model/_logistic.py:1247: FutureWarning: 'multi_class' was deprecated in version 1.5 and will be removed in 1.7. From then on, it will always use 'multinomial'. Leave it to its default value to avoid this warning.\n  warnings.warn(\n"
          ]
        },
        {
          "output_type": "stream",
          "name": "stdout",
          "text": [
            "[Hell(noL2) LR fold 2/6] C=30.0, time=0.49s\n"
          ]
        },
        {
          "output_type": "stream",
          "name": "stderr",
          "text": [
            "/usr/local/lib/python3.11/dist-packages/sklearn/linear_model/_logistic.py:1247: FutureWarning: 'multi_class' was deprecated in version 1.5 and will be removed in 1.7. From then on, it will always use 'multinomial'. Leave it to its default value to avoid this warning.\n  warnings.warn(\n"
          ]
        },
        {
          "output_type": "stream",
          "name": "stdout",
          "text": [
            "[Hell(noL2) LR fold 3/6] C=30.0, time=0.65s\n"
          ]
        },
        {
          "output_type": "stream",
          "name": "stderr",
          "text": [
            "/usr/local/lib/python3.11/dist-packages/sklearn/linear_model/_logistic.py:1247: FutureWarning: 'multi_class' was deprecated in version 1.5 and will be removed in 1.7. From then on, it will always use 'multinomial'. Leave it to its default value to avoid this warning.\n  warnings.warn(\n"
          ]
        },
        {
          "output_type": "stream",
          "name": "stdout",
          "text": [
            "[Hell(noL2) LR fold 4/6] C=30.0, time=0.55s\n"
          ]
        },
        {
          "output_type": "stream",
          "name": "stderr",
          "text": [
            "/usr/local/lib/python3.11/dist-packages/sklearn/linear_model/_logistic.py:1247: FutureWarning: 'multi_class' was deprecated in version 1.5 and will be removed in 1.7. From then on, it will always use 'multinomial'. Leave it to its default value to avoid this warning.\n  warnings.warn(\n"
          ]
        },
        {
          "output_type": "stream",
          "name": "stdout",
          "text": [
            "[Hell(noL2) LR fold 5/6] C=30.0, time=0.68s\n"
          ]
        },
        {
          "output_type": "stream",
          "name": "stderr",
          "text": [
            "/usr/local/lib/python3.11/dist-packages/sklearn/linear_model/_logistic.py:1247: FutureWarning: 'multi_class' was deprecated in version 1.5 and will be removed in 1.7. From then on, it will always use 'multinomial'. Leave it to its default value to avoid this warning.\n  warnings.warn(\n"
          ]
        },
        {
          "output_type": "stream",
          "name": "stdout",
          "text": [
            "[Hell(noL2) LR fold 6/6] C=30.0, time=0.63s\n"
          ]
        },
        {
          "output_type": "stream",
          "name": "stdout",
          "text": [
            "Hell(noL2) LR OOF: 0.346896 | C=30.0 in 3.62s\n"
          ]
        },
        {
          "output_type": "stream",
          "name": "stdout",
          "text": [
            "Best Hell(noL2) LR : (30.0, 0.34689602431619043) | total 13.86s\nSaved oof_hellinger_nol2_lr.npy/test_hellinger_nol2_lr.npy\nBlock-hell files updated from Hell(noL2) LR: (30.0, 0.34689602431619043)\n"
          ]
        }
      ]
    },
    {
      "id": "b0daaab5-0fa6-4a4b-9dad-7396dcf8bfca",
      "cell_type": "code",
      "metadata": {},
      "source": [
        "# Hellinger+global L2 with fold-centering (with_mean=True, with_std=False) -> LR; wide C sweep\n",
        "import numpy as np, time, json\n",
        "from sklearn.preprocessing import StandardScaler\n",
        "from sklearn.linear_model import LogisticRegression\n",
        "from sklearn.metrics import log_loss\n",
        "\n",
        "SEED = 2025\n",
        "\n",
        "# Reuse precomputed Hellinger+L2 from cell 27\n",
        "try:\n",
        "    X_h_l2, X_te_h_l2\n",
        "except NameError:\n",
        "    raise RuntimeError('Run cell 27 first to build X_h_l2/X_te_h_l2')\n",
        "\n",
        "with open('folds_6.json', 'r') as f:\n",
        "    folds = json.load(f)\n",
        "y_idx = y_enc.astype(int)\n",
        "K = len(le.classes_)\n",
        "\n",
        "def clip_norm(P):\n",
        "    P = np.clip(P, 1e-15, 1-1e-15)\n",
        "    return P / P.sum(axis=1, keepdims=True)\n",
        "\n",
        "def pctiles_maxprob(P):\n",
        "    mx = P.max(axis=1)\n",
        "    qs = np.percentile(mx, [5,25,50,75,95])\n",
        "    return np.round(qs, 4)\n",
        "\n",
        "def run_hell_centered(Cs, solver='lbfgs', fit_intercept=True):\n",
        "    best = (None, 1e9); best_oof=None; best_test=None\n",
        "    t_all = time.time()\n",
        "    for C in Cs:\n",
        "        oof = np.zeros((len(X_h_l2), K), dtype=np.float64)\n",
        "        test_pred = np.zeros((len(X_te_h_l2), K), dtype=np.float64)\n",
        "        t0 = time.time()\n",
        "        for i, (trn_idx, val_idx) in enumerate(folds, 1):\n",
        "            trn_idx = np.array(trn_idx); val_idx = np.array(val_idx)\n",
        "            sc = StandardScaler(with_mean=True, with_std=False)\n",
        "            X_tr = sc.fit_transform(X_h_l2[trn_idx])\n",
        "            X_va = sc.transform(X_h_l2[val_idx])\n",
        "            X_te = sc.transform(X_te_h_l2)\n",
        "            clf = LogisticRegression(multi_class='multinomial', solver=solver, penalty='l2', C=C, fit_intercept=fit_intercept, max_iter=5000, random_state=SEED)\n",
        "            fstart = time.time()\n",
        "            clf.fit(X_tr, y_idx[trn_idx])\n",
        "            P_va = clf.predict_proba(X_va)\n",
        "            oof[val_idx] = P_va\n",
        "            test_pred += clf.predict_proba(X_te) / len(folds)\n",
        "            print(f'[Hell+L2 Center fold {i}/{len(folds)}] C={C}, time={time.time()-fstart:.2f}s', flush=True)\n",
        "        ll = log_loss(y_idx, clip_norm(oof), labels=list(range(K)))\n",
        "        print(f'Hell+L2 Center OOF: {ll:.6f} | C={C} in {time.time()-t0:.2f}s | maxprob pctiles {pctiles_maxprob(oof)}', flush=True)\n",
        "        if ll < best[1]:\n",
        "            best = (C, ll); best_oof=oof; best_test=test_pred\n",
        "    print('Best Hell+L2 Center:', best, '| total {:.2f}s'.format(time.time()-t_all))\n",
        "    return best, best_oof, best_test\n",
        "\n",
        "# Primary sweep (moderate C)\n",
        "Cs_main = [20.0, 30.0, 50.0, 80.0, 100.0]\n",
        "best_main, oof_main, test_main = run_hell_centered(Cs_main, solver='lbfgs', fit_intercept=True)\n",
        "\n",
        "# Extended large-C sweep\n",
        "Cs_big = [150.0, 300.0, 500.0, 1000.0, 2000.0]\n",
        "best_big, oof_big, test_big = run_hell_centered(Cs_big, solver='lbfgs', fit_intercept=True)\n",
        "\n",
        "# Select overall best and save\n",
        "if best_main[1] <= best_big[1]:\n",
        "    oof_best, test_best, best_desc = oof_main, test_main, best_main\n",
        "else:\n",
        "    oof_best, test_best, best_desc = oof_big, test_big, best_big\n",
        "print('Selected Hell+L2 Center best:', best_desc)\n",
        "np.save('oof_hellinger_lr.npy', oof_best)\n",
        "np.save('test_hellinger_lr.npy', test_best)\n",
        "np.save('oof_block_hell_lr.npy', oof_best)  # for existing blend compatibility\n",
        "np.save('test_block_hell_lr.npy', test_best)\n",
        "print('Saved oof_hellinger_lr.npy/test_hellinger_lr.npy and block_hell files')"
      ],
      "execution_count": 31,
      "outputs": [
        {
          "output_type": "stream",
          "name": "stderr",
          "text": [
            "/usr/local/lib/python3.11/dist-packages/sklearn/linear_model/_logistic.py:1247: FutureWarning: 'multi_class' was deprecated in version 1.5 and will be removed in 1.7. From then on, it will always use 'multinomial'. Leave it to its default value to avoid this warning.\n  warnings.warn(\n"
          ]
        },
        {
          "output_type": "stream",
          "name": "stdout",
          "text": [
            "[Hell+L2 Center fold 1/6] C=20.0, time=0.34s\n"
          ]
        },
        {
          "output_type": "stream",
          "name": "stderr",
          "text": [
            "/usr/local/lib/python3.11/dist-packages/sklearn/linear_model/_logistic.py:1247: FutureWarning: 'multi_class' was deprecated in version 1.5 and will be removed in 1.7. From then on, it will always use 'multinomial'. Leave it to its default value to avoid this warning.\n  warnings.warn(\n"
          ]
        },
        {
          "output_type": "stream",
          "name": "stdout",
          "text": [
            "[Hell+L2 Center fold 2/6] C=20.0, time=0.40s\n"
          ]
        },
        {
          "output_type": "stream",
          "name": "stderr",
          "text": [
            "/usr/local/lib/python3.11/dist-packages/sklearn/linear_model/_logistic.py:1247: FutureWarning: 'multi_class' was deprecated in version 1.5 and will be removed in 1.7. From then on, it will always use 'multinomial'. Leave it to its default value to avoid this warning.\n  warnings.warn(\n"
          ]
        },
        {
          "output_type": "stream",
          "name": "stdout",
          "text": [
            "[Hell+L2 Center fold 3/6] C=20.0, time=0.36s\n"
          ]
        },
        {
          "output_type": "stream",
          "name": "stderr",
          "text": [
            "/usr/local/lib/python3.11/dist-packages/sklearn/linear_model/_logistic.py:1247: FutureWarning: 'multi_class' was deprecated in version 1.5 and will be removed in 1.7. From then on, it will always use 'multinomial'. Leave it to its default value to avoid this warning.\n  warnings.warn(\n"
          ]
        },
        {
          "output_type": "stream",
          "name": "stdout",
          "text": [
            "[Hell+L2 Center fold 4/6] C=20.0, time=0.35s\n"
          ]
        },
        {
          "output_type": "stream",
          "name": "stderr",
          "text": [
            "/usr/local/lib/python3.11/dist-packages/sklearn/linear_model/_logistic.py:1247: FutureWarning: 'multi_class' was deprecated in version 1.5 and will be removed in 1.7. From then on, it will always use 'multinomial'. Leave it to its default value to avoid this warning.\n  warnings.warn(\n"
          ]
        },
        {
          "output_type": "stream",
          "name": "stdout",
          "text": [
            "[Hell+L2 Center fold 5/6] C=20.0, time=0.39s\n"
          ]
        },
        {
          "output_type": "stream",
          "name": "stderr",
          "text": [
            "/usr/local/lib/python3.11/dist-packages/sklearn/linear_model/_logistic.py:1247: FutureWarning: 'multi_class' was deprecated in version 1.5 and will be removed in 1.7. From then on, it will always use 'multinomial'. Leave it to its default value to avoid this warning.\n  warnings.warn(\n"
          ]
        },
        {
          "output_type": "stream",
          "name": "stdout",
          "text": [
            "[Hell+L2 Center fold 6/6] C=20.0, time=0.43s\n"
          ]
        },
        {
          "output_type": "stream",
          "name": "stdout",
          "text": [
            "Hell+L2 Center OOF: 0.774308 | C=20.0 in 2.32s | maxprob pctiles [0.2112 0.3784 0.5096 0.6363 0.7947]\n"
          ]
        },
        {
          "output_type": "stream",
          "name": "stderr",
          "text": [
            "/usr/local/lib/python3.11/dist-packages/sklearn/linear_model/_logistic.py:1247: FutureWarning: 'multi_class' was deprecated in version 1.5 and will be removed in 1.7. From then on, it will always use 'multinomial'. Leave it to its default value to avoid this warning.\n  warnings.warn(\n"
          ]
        },
        {
          "output_type": "stream",
          "name": "stdout",
          "text": [
            "[Hell+L2 Center fold 1/6] C=30.0, time=0.41s\n"
          ]
        },
        {
          "output_type": "stream",
          "name": "stderr",
          "text": [
            "/usr/local/lib/python3.11/dist-packages/sklearn/linear_model/_logistic.py:1247: FutureWarning: 'multi_class' was deprecated in version 1.5 and will be removed in 1.7. From then on, it will always use 'multinomial'. Leave it to its default value to avoid this warning.\n  warnings.warn(\n"
          ]
        },
        {
          "output_type": "stream",
          "name": "stdout",
          "text": [
            "[Hell+L2 Center fold 2/6] C=30.0, time=0.52s\n"
          ]
        },
        {
          "output_type": "stream",
          "name": "stderr",
          "text": [
            "/usr/local/lib/python3.11/dist-packages/sklearn/linear_model/_logistic.py:1247: FutureWarning: 'multi_class' was deprecated in version 1.5 and will be removed in 1.7. From then on, it will always use 'multinomial'. Leave it to its default value to avoid this warning.\n  warnings.warn(\n"
          ]
        },
        {
          "output_type": "stream",
          "name": "stdout",
          "text": [
            "[Hell+L2 Center fold 3/6] C=30.0, time=0.57s\n"
          ]
        },
        {
          "output_type": "stream",
          "name": "stderr",
          "text": [
            "/usr/local/lib/python3.11/dist-packages/sklearn/linear_model/_logistic.py:1247: FutureWarning: 'multi_class' was deprecated in version 1.5 and will be removed in 1.7. From then on, it will always use 'multinomial'. Leave it to its default value to avoid this warning.\n  warnings.warn(\n"
          ]
        },
        {
          "output_type": "stream",
          "name": "stdout",
          "text": [
            "[Hell+L2 Center fold 4/6] C=30.0, time=0.56s\n"
          ]
        },
        {
          "output_type": "stream",
          "name": "stderr",
          "text": [
            "/usr/local/lib/python3.11/dist-packages/sklearn/linear_model/_logistic.py:1247: FutureWarning: 'multi_class' was deprecated in version 1.5 and will be removed in 1.7. From then on, it will always use 'multinomial'. Leave it to its default value to avoid this warning.\n  warnings.warn(\n"
          ]
        },
        {
          "output_type": "stream",
          "name": "stdout",
          "text": [
            "[Hell+L2 Center fold 5/6] C=30.0, time=0.54s\n"
          ]
        },
        {
          "output_type": "stream",
          "name": "stderr",
          "text": [
            "/usr/local/lib/python3.11/dist-packages/sklearn/linear_model/_logistic.py:1247: FutureWarning: 'multi_class' was deprecated in version 1.5 and will be removed in 1.7. From then on, it will always use 'multinomial'. Leave it to its default value to avoid this warning.\n  warnings.warn(\n"
          ]
        },
        {
          "output_type": "stream",
          "name": "stderr",
          "text": [
            "/usr/local/lib/python3.11/dist-packages/sklearn/linear_model/_logistic.py:1247: FutureWarning: 'multi_class' was deprecated in version 1.5 and will be removed in 1.7. From then on, it will always use 'multinomial'. Leave it to its default value to avoid this warning.\n  warnings.warn(\n"
          ]
        },
        {
          "output_type": "stream",
          "name": "stdout",
          "text": [
            "[Hell+L2 Center fold 1/6] C=50.0, time=0.64s\n"
          ]
        },
        {
          "output_type": "stream",
          "name": "stderr",
          "text": [
            "/usr/local/lib/python3.11/dist-packages/sklearn/linear_model/_logistic.py:1247: FutureWarning: 'multi_class' was deprecated in version 1.5 and will be removed in 1.7. From then on, it will always use 'multinomial'. Leave it to its default value to avoid this warning.\n  warnings.warn(\n"
          ]
        },
        {
          "output_type": "stream",
          "name": "stdout",
          "text": [
            "[Hell+L2 Center fold 2/6] C=50.0, time=0.62s\n"
          ]
        },
        {
          "output_type": "stream",
          "name": "stderr",
          "text": [
            "/usr/local/lib/python3.11/dist-packages/sklearn/linear_model/_logistic.py:1247: FutureWarning: 'multi_class' was deprecated in version 1.5 and will be removed in 1.7. From then on, it will always use 'multinomial'. Leave it to its default value to avoid this warning.\n  warnings.warn(\n"
          ]
        },
        {
          "output_type": "stream",
          "name": "stdout",
          "text": [
            "[Hell+L2 Center fold 3/6] C=50.0, time=0.63s\n"
          ]
        },
        {
          "output_type": "stream",
          "name": "stderr",
          "text": [
            "/usr/local/lib/python3.11/dist-packages/sklearn/linear_model/_logistic.py:1247: FutureWarning: 'multi_class' was deprecated in version 1.5 and will be removed in 1.7. From then on, it will always use 'multinomial'. Leave it to its default value to avoid this warning.\n  warnings.warn(\n"
          ]
        },
        {
          "output_type": "stream",
          "name": "stdout",
          "text": [
            "[Hell+L2 Center fold 4/6] C=50.0, time=0.80s\n"
          ]
        },
        {
          "output_type": "stream",
          "name": "stderr",
          "text": [
            "/usr/local/lib/python3.11/dist-packages/sklearn/linear_model/_logistic.py:1247: FutureWarning: 'multi_class' was deprecated in version 1.5 and will be removed in 1.7. From then on, it will always use 'multinomial'. Leave it to its default value to avoid this warning.\n  warnings.warn(\n"
          ]
        },
        {
          "output_type": "stream",
          "name": "stdout",
          "text": [
            "[Hell+L2 Center fold 5/6] C=50.0, time=0.89s\n"
          ]
        },
        {
          "output_type": "stream",
          "name": "stderr",
          "text": [
            "/usr/local/lib/python3.11/dist-packages/sklearn/linear_model/_logistic.py:1247: FutureWarning: 'multi_class' was deprecated in version 1.5 and will be removed in 1.7. From then on, it will always use 'multinomial'. Leave it to its default value to avoid this warning.\n  warnings.warn(\n"
          ]
        },
        {
          "output_type": "stream",
          "name": "stdout",
          "text": [
            "[Hell+L2 Center fold 6/6] C=50.0, time=0.90s\n"
          ]
        },
        {
          "output_type": "stream",
          "name": "stdout",
          "text": [
            "Hell+L2 Center OOF: 0.466748 | C=50.0 in 4.55s | maxprob pctiles [0.3211 0.5608 0.7007 0.8084 0.9065]\n"
          ]
        },
        {
          "output_type": "stream",
          "name": "stderr",
          "text": [
            "/usr/local/lib/python3.11/dist-packages/sklearn/linear_model/_logistic.py:1247: FutureWarning: 'multi_class' was deprecated in version 1.5 and will be removed in 1.7. From then on, it will always use 'multinomial'. Leave it to its default value to avoid this warning.\n  warnings.warn(\n"
          ]
        },
        {
          "output_type": "stream",
          "name": "stdout",
          "text": [
            "[Hell+L2 Center fold 1/6] C=80.0, time=0.55s\n"
          ]
        },
        {
          "output_type": "stream",
          "name": "stderr",
          "text": [
            "/usr/local/lib/python3.11/dist-packages/sklearn/linear_model/_logistic.py:1247: FutureWarning: 'multi_class' was deprecated in version 1.5 and will be removed in 1.7. From then on, it will always use 'multinomial'. Leave it to its default value to avoid this warning.\n  warnings.warn(\n"
          ]
        },
        {
          "output_type": "stream",
          "name": "stdout",
          "text": [
            "[Hell+L2 Center fold 2/6] C=80.0, time=0.82s\n"
          ]
        },
        {
          "output_type": "stream",
          "name": "stderr",
          "text": [
            "/usr/local/lib/python3.11/dist-packages/sklearn/linear_model/_logistic.py:1247: FutureWarning: 'multi_class' was deprecated in version 1.5 and will be removed in 1.7. From then on, it will always use 'multinomial'. Leave it to its default value to avoid this warning.\n  warnings.warn(\n"
          ]
        },
        {
          "output_type": "stream",
          "name": "stdout",
          "text": [
            "[Hell+L2 Center fold 3/6] C=80.0, time=1.01s\n"
          ]
        },
        {
          "output_type": "stream",
          "name": "stderr",
          "text": [
            "/usr/local/lib/python3.11/dist-packages/sklearn/linear_model/_logistic.py:1247: FutureWarning: 'multi_class' was deprecated in version 1.5 and will be removed in 1.7. From then on, it will always use 'multinomial'. Leave it to its default value to avoid this warning.\n  warnings.warn(\n"
          ]
        },
        {
          "output_type": "stream",
          "name": "stdout",
          "text": [
            "[Hell+L2 Center fold 4/6] C=80.0, time=0.86s\n"
          ]
        },
        {
          "output_type": "stream",
          "name": "stderr",
          "text": [
            "/usr/local/lib/python3.11/dist-packages/sklearn/linear_model/_logistic.py:1247: FutureWarning: 'multi_class' was deprecated in version 1.5 and will be removed in 1.7. From then on, it will always use 'multinomial'. Leave it to its default value to avoid this warning.\n  warnings.warn(\n"
          ]
        },
        {
          "output_type": "stream",
          "name": "stdout",
          "text": [
            "[Hell+L2 Center fold 5/6] C=80.0, time=0.62s\n"
          ]
        },
        {
          "output_type": "stream",
          "name": "stderr",
          "text": [
            "/usr/local/lib/python3.11/dist-packages/sklearn/linear_model/_logistic.py:1247: FutureWarning: 'multi_class' was deprecated in version 1.5 and will be removed in 1.7. From then on, it will always use 'multinomial'. Leave it to its default value to avoid this warning.\n  warnings.warn(\n"
          ]
        },
        {
          "output_type": "stream",
          "name": "stdout",
          "text": [
            "[Hell+L2 Center fold 6/6] C=80.0, time=0.72s\n"
          ]
        },
        {
          "output_type": "stream",
          "name": "stdout",
          "text": [
            "Hell+L2 Center OOF: 0.365167 | C=80.0 in 4.66s | maxprob pctiles [0.377  0.6369 0.7751 0.8669 0.9393]\n"
          ]
        },
        {
          "output_type": "stream",
          "name": "stderr",
          "text": [
            "/usr/local/lib/python3.11/dist-packages/sklearn/linear_model/_logistic.py:1247: FutureWarning: 'multi_class' was deprecated in version 1.5 and will be removed in 1.7. From then on, it will always use 'multinomial'. Leave it to its default value to avoid this warning.\n  warnings.warn(\n"
          ]
        },
        {
          "output_type": "stream",
          "name": "stdout",
          "text": [
            "[Hell+L2 Center fold 1/6] C=100.0, time=0.60s\n"
          ]
        },
        {
          "output_type": "stream",
          "name": "stderr",
          "text": [
            "/usr/local/lib/python3.11/dist-packages/sklearn/linear_model/_logistic.py:1247: FutureWarning: 'multi_class' was deprecated in version 1.5 and will be removed in 1.7. From then on, it will always use 'multinomial'. Leave it to its default value to avoid this warning.\n  warnings.warn(\n"
          ]
        },
        {
          "output_type": "stream",
          "name": "stdout",
          "text": [
            "[Hell+L2 Center fold 2/6] C=100.0, time=0.67s\n"
          ]
        },
        {
          "output_type": "stream",
          "name": "stderr",
          "text": [
            "/usr/local/lib/python3.11/dist-packages/sklearn/linear_model/_logistic.py:1247: FutureWarning: 'multi_class' was deprecated in version 1.5 and will be removed in 1.7. From then on, it will always use 'multinomial'. Leave it to its default value to avoid this warning.\n  warnings.warn(\n"
          ]
        },
        {
          "output_type": "stream",
          "name": "stdout",
          "text": [
            "[Hell+L2 Center fold 3/6] C=100.0, time=0.76s\n"
          ]
        },
        {
          "output_type": "stream",
          "name": "stderr",
          "text": [
            "/usr/local/lib/python3.11/dist-packages/sklearn/linear_model/_logistic.py:1247: FutureWarning: 'multi_class' was deprecated in version 1.5 and will be removed in 1.7. From then on, it will always use 'multinomial'. Leave it to its default value to avoid this warning.\n  warnings.warn(\n"
          ]
        },
        {
          "output_type": "stream",
          "name": "stdout",
          "text": [
            "[Hell+L2 Center fold 4/6] C=100.0, time=0.74s\n"
          ]
        },
        {
          "output_type": "stream",
          "name": "stderr",
          "text": [
            "/usr/local/lib/python3.11/dist-packages/sklearn/linear_model/_logistic.py:1247: FutureWarning: 'multi_class' was deprecated in version 1.5 and will be removed in 1.7. From then on, it will always use 'multinomial'. Leave it to its default value to avoid this warning.\n  warnings.warn(\n"
          ]
        },
        {
          "output_type": "stream",
          "name": "stdout",
          "text": [
            "[Hell+L2 Center fold 5/6] C=100.0, time=0.77s\n"
          ]
        },
        {
          "output_type": "stream",
          "name": "stderr",
          "text": [
            "/usr/local/lib/python3.11/dist-packages/sklearn/linear_model/_logistic.py:1247: FutureWarning: 'multi_class' was deprecated in version 1.5 and will be removed in 1.7. From then on, it will always use 'multinomial'. Leave it to its default value to avoid this warning.\n  warnings.warn(\n"
          ]
        },
        {
          "output_type": "stream",
          "name": "stdout",
          "text": [
            "[Hell+L2 Center fold 6/6] C=100.0, time=0.90s\n"
          ]
        },
        {
          "output_type": "stream",
          "name": "stdout",
          "text": [
            "Hell+L2 Center OOF: 0.327276 | C=100.0 in 4.51s | maxprob pctiles [0.3999 0.6673 0.8055 0.8879 0.9492]\n"
          ]
        },
        {
          "output_type": "stream",
          "name": "stdout",
          "text": [
            "Best Hell+L2 Center: (100.0, 0.32727622600064116) | total 19.29s\n"
          ]
        },
        {
          "output_type": "stream",
          "name": "stderr",
          "text": [
            "/usr/local/lib/python3.11/dist-packages/sklearn/linear_model/_logistic.py:1247: FutureWarning: 'multi_class' was deprecated in version 1.5 and will be removed in 1.7. From then on, it will always use 'multinomial'. Leave it to its default value to avoid this warning.\n  warnings.warn(\n"
          ]
        },
        {
          "output_type": "stream",
          "name": "stdout",
          "text": [
            "[Hell+L2 Center fold 1/6] C=150.0, time=0.72s\n"
          ]
        },
        {
          "output_type": "stream",
          "name": "stderr",
          "text": [
            "/usr/local/lib/python3.11/dist-packages/sklearn/linear_model/_logistic.py:1247: FutureWarning: 'multi_class' was deprecated in version 1.5 and will be removed in 1.7. From then on, it will always use 'multinomial'. Leave it to its default value to avoid this warning.\n  warnings.warn(\n"
          ]
        },
        {
          "output_type": "stream",
          "name": "stdout",
          "text": [
            "[Hell+L2 Center fold 2/6] C=150.0, time=0.78s\n"
          ]
        },
        {
          "output_type": "stream",
          "name": "stderr",
          "text": [
            "/usr/local/lib/python3.11/dist-packages/sklearn/linear_model/_logistic.py:1247: FutureWarning: 'multi_class' was deprecated in version 1.5 and will be removed in 1.7. From then on, it will always use 'multinomial'. Leave it to its default value to avoid this warning.\n  warnings.warn(\n"
          ]
        },
        {
          "output_type": "stream",
          "name": "stdout",
          "text": [
            "[Hell+L2 Center fold 3/6] C=150.0, time=0.74s\n"
          ]
        },
        {
          "output_type": "stream",
          "name": "stderr",
          "text": [
            "/usr/local/lib/python3.11/dist-packages/sklearn/linear_model/_logistic.py:1247: FutureWarning: 'multi_class' was deprecated in version 1.5 and will be removed in 1.7. From then on, it will always use 'multinomial'. Leave it to its default value to avoid this warning.\n  warnings.warn(\n"
          ]
        },
        {
          "output_type": "stream",
          "name": "stdout",
          "text": [
            "[Hell+L2 Center fold 4/6] C=150.0, time=0.62s\n"
          ]
        },
        {
          "output_type": "stream",
          "name": "stderr",
          "text": [
            "/usr/local/lib/python3.11/dist-packages/sklearn/linear_model/_logistic.py:1247: FutureWarning: 'multi_class' was deprecated in version 1.5 and will be removed in 1.7. From then on, it will always use 'multinomial'. Leave it to its default value to avoid this warning.\n  warnings.warn(\n"
          ]
        },
        {
          "output_type": "stream",
          "name": "stdout",
          "text": [
            "[Hell+L2 Center fold 5/6] C=150.0, time=0.75s\n"
          ]
        },
        {
          "output_type": "stream",
          "name": "stderr",
          "text": [
            "/usr/local/lib/python3.11/dist-packages/sklearn/linear_model/_logistic.py:1247: FutureWarning: 'multi_class' was deprecated in version 1.5 and will be removed in 1.7. From then on, it will always use 'multinomial'. Leave it to its default value to avoid this warning.\n  warnings.warn(\n"
          ]
        },
        {
          "output_type": "stream",
          "name": "stdout",
          "text": [
            "[Hell+L2 Center fold 6/6] C=150.0, time=0.63s\n"
          ]
        },
        {
          "output_type": "stream",
          "name": "stdout",
          "text": [
            "Hell+L2 Center OOF: 0.271632 | C=150.0 in 4.30s | maxprob pctiles [0.4372 0.7222 0.8501 0.9172 0.965 ]\n"
          ]
        },
        {
          "output_type": "stream",
          "name": "stderr",
          "text": [
            "/usr/local/lib/python3.11/dist-packages/sklearn/linear_model/_logistic.py:1247: FutureWarning: 'multi_class' was deprecated in version 1.5 and will be removed in 1.7. From then on, it will always use 'multinomial'. Leave it to its default value to avoid this warning.\n  warnings.warn(\n"
          ]
        },
        {
          "output_type": "stream",
          "name": "stdout",
          "text": [
            "[Hell+L2 Center fold 1/6] C=300.0, time=0.60s\n"
          ]
        },
        {
          "output_type": "stream",
          "name": "stderr",
          "text": [
            "/usr/local/lib/python3.11/dist-packages/sklearn/linear_model/_logistic.py:1247: FutureWarning: 'multi_class' was deprecated in version 1.5 and will be removed in 1.7. From then on, it will always use 'multinomial'. Leave it to its default value to avoid this warning.\n  warnings.warn(\n"
          ]
        },
        {
          "output_type": "stream",
          "name": "stdout",
          "text": [
            "[Hell+L2 Center fold 2/6] C=300.0, time=0.64s\n"
          ]
        },
        {
          "output_type": "stream",
          "name": "stderr",
          "text": [
            "/usr/local/lib/python3.11/dist-packages/sklearn/linear_model/_logistic.py:1247: FutureWarning: 'multi_class' was deprecated in version 1.5 and will be removed in 1.7. From then on, it will always use 'multinomial'. Leave it to its default value to avoid this warning.\n  warnings.warn(\n"
          ]
        },
        {
          "output_type": "stream",
          "name": "stdout",
          "text": [
            "[Hell+L2 Center fold 3/6] C=300.0, time=0.47s\n"
          ]
        },
        {
          "output_type": "stream",
          "name": "stderr",
          "text": [
            "/usr/local/lib/python3.11/dist-packages/sklearn/linear_model/_logistic.py:1247: FutureWarning: 'multi_class' was deprecated in version 1.5 and will be removed in 1.7. From then on, it will always use 'multinomial'. Leave it to its default value to avoid this warning.\n  warnings.warn(\n"
          ]
        },
        {
          "output_type": "stream",
          "name": "stdout",
          "text": [
            "[Hell+L2 Center fold 4/6] C=300.0, time=0.61s\n"
          ]
        },
        {
          "output_type": "stream",
          "name": "stderr",
          "text": [
            "/usr/local/lib/python3.11/dist-packages/sklearn/linear_model/_logistic.py:1247: FutureWarning: 'multi_class' was deprecated in version 1.5 and will be removed in 1.7. From then on, it will always use 'multinomial'. Leave it to its default value to avoid this warning.\n  warnings.warn(\n"
          ]
        },
        {
          "output_type": "stream",
          "name": "stdout",
          "text": [
            "[Hell+L2 Center fold 5/6] C=300.0, time=0.49s\n"
          ]
        },
        {
          "output_type": "stream",
          "name": "stderr",
          "text": [
            "/usr/local/lib/python3.11/dist-packages/sklearn/linear_model/_logistic.py:1247: FutureWarning: 'multi_class' was deprecated in version 1.5 and will be removed in 1.7. From then on, it will always use 'multinomial'. Leave it to its default value to avoid this warning.\n  warnings.warn(\n"
          ]
        },
        {
          "output_type": "stream",
          "name": "stdout",
          "text": [
            "[Hell+L2 Center fold 6/6] C=300.0, time=0.73s\n"
          ]
        },
        {
          "output_type": "stream",
          "name": "stdout",
          "text": [
            "Hell+L2 Center OOF: 0.200695 | C=300.0 in 3.60s | maxprob pctiles [0.5029 0.7942 0.9069 0.9529 0.9813]\n"
          ]
        },
        {
          "output_type": "stream",
          "name": "stderr",
          "text": [
            "/usr/local/lib/python3.11/dist-packages/sklearn/linear_model/_logistic.py:1247: FutureWarning: 'multi_class' was deprecated in version 1.5 and will be removed in 1.7. From then on, it will always use 'multinomial'. Leave it to its default value to avoid this warning.\n  warnings.warn(\n"
          ]
        },
        {
          "output_type": "stream",
          "name": "stdout",
          "text": [
            "[Hell+L2 Center fold 1/6] C=500.0, time=0.57s\n"
          ]
        },
        {
          "output_type": "stream",
          "name": "stderr",
          "text": [
            "/usr/local/lib/python3.11/dist-packages/sklearn/linear_model/_logistic.py:1247: FutureWarning: 'multi_class' was deprecated in version 1.5 and will be removed in 1.7. From then on, it will always use 'multinomial'. Leave it to its default value to avoid this warning.\n  warnings.warn(\n"
          ]
        },
        {
          "output_type": "stream",
          "name": "stdout",
          "text": [
            "[Hell+L2 Center fold 2/6] C=500.0, time=0.68s\n"
          ]
        },
        {
          "output_type": "stream",
          "name": "stderr",
          "text": [
            "/usr/local/lib/python3.11/dist-packages/sklearn/linear_model/_logistic.py:1247: FutureWarning: 'multi_class' was deprecated in version 1.5 and will be removed in 1.7. From then on, it will always use 'multinomial'. Leave it to its default value to avoid this warning.\n  warnings.warn(\n"
          ]
        },
        {
          "output_type": "stream",
          "name": "stdout",
          "text": [
            "[Hell+L2 Center fold 3/6] C=500.0, time=0.79s\n"
          ]
        },
        {
          "output_type": "stream",
          "name": "stderr",
          "text": [
            "/usr/local/lib/python3.11/dist-packages/sklearn/linear_model/_logistic.py:1247: FutureWarning: 'multi_class' was deprecated in version 1.5 and will be removed in 1.7. From then on, it will always use 'multinomial'. Leave it to its default value to avoid this warning.\n  warnings.warn(\n"
          ]
        },
        {
          "output_type": "stream",
          "name": "stdout",
          "text": [
            "[Hell+L2 Center fold 4/6] C=500.0, time=0.69s\n"
          ]
        },
        {
          "output_type": "stream",
          "name": "stderr",
          "text": [
            "/usr/local/lib/python3.11/dist-packages/sklearn/linear_model/_logistic.py:1247: FutureWarning: 'multi_class' was deprecated in version 1.5 and will be removed in 1.7. From then on, it will always use 'multinomial'. Leave it to its default value to avoid this warning.\n  warnings.warn(\n"
          ]
        },
        {
          "output_type": "stream",
          "name": "stdout",
          "text": [
            "[Hell+L2 Center fold 5/6] C=500.0, time=0.66s\n"
          ]
        },
        {
          "output_type": "stream",
          "name": "stderr",
          "text": [
            "/usr/local/lib/python3.11/dist-packages/sklearn/linear_model/_logistic.py:1247: FutureWarning: 'multi_class' was deprecated in version 1.5 and will be removed in 1.7. From then on, it will always use 'multinomial'. Leave it to its default value to avoid this warning.\n  warnings.warn(\n"
          ]
        },
        {
          "output_type": "stream",
          "name": "stdout",
          "text": [
            "[Hell+L2 Center fold 6/6] C=500.0, time=0.44s\n"
          ]
        },
        {
          "output_type": "stream",
          "name": "stdout",
          "text": [
            "Hell+L2 Center OOF: 0.162227 | C=500.0 in 3.88s | maxprob pctiles [0.5526 0.8422 0.9371 0.9692 0.9878]\n"
          ]
        },
        {
          "output_type": "stream",
          "name": "stderr",
          "text": [
            "/usr/local/lib/python3.11/dist-packages/sklearn/linear_model/_logistic.py:1247: FutureWarning: 'multi_class' was deprecated in version 1.5 and will be removed in 1.7. From then on, it will always use 'multinomial'. Leave it to its default value to avoid this warning.\n  warnings.warn(\n"
          ]
        },
        {
          "output_type": "stream",
          "name": "stdout",
          "text": [
            "[Hell+L2 Center fold 1/6] C=1000.0, time=0.36s\n"
          ]
        },
        {
          "output_type": "stream",
          "name": "stderr",
          "text": [
            "/usr/local/lib/python3.11/dist-packages/sklearn/linear_model/_logistic.py:1247: FutureWarning: 'multi_class' was deprecated in version 1.5 and will be removed in 1.7. From then on, it will always use 'multinomial'. Leave it to its default value to avoid this warning.\n  warnings.warn(\n"
          ]
        },
        {
          "output_type": "stream",
          "name": "stdout",
          "text": [
            "[Hell+L2 Center fold 2/6] C=1000.0, time=0.41s\n"
          ]
        },
        {
          "output_type": "stream",
          "name": "stderr",
          "text": [
            "/usr/local/lib/python3.11/dist-packages/sklearn/linear_model/_logistic.py:1247: FutureWarning: 'multi_class' was deprecated in version 1.5 and will be removed in 1.7. From then on, it will always use 'multinomial'. Leave it to its default value to avoid this warning.\n  warnings.warn(\n"
          ]
        },
        {
          "output_type": "stream",
          "name": "stdout",
          "text": [
            "[Hell+L2 Center fold 3/6] C=1000.0, time=0.36s\n"
          ]
        },
        {
          "output_type": "stream",
          "name": "stderr",
          "text": [
            "/usr/local/lib/python3.11/dist-packages/sklearn/linear_model/_logistic.py:1247: FutureWarning: 'multi_class' was deprecated in version 1.5 and will be removed in 1.7. From then on, it will always use 'multinomial'. Leave it to its default value to avoid this warning.\n  warnings.warn(\n"
          ]
        },
        {
          "output_type": "stream",
          "name": "stdout",
          "text": [
            "[Hell+L2 Center fold 4/6] C=1000.0, time=0.39s\n"
          ]
        },
        {
          "output_type": "stream",
          "name": "stderr",
          "text": [
            "/usr/local/lib/python3.11/dist-packages/sklearn/linear_model/_logistic.py:1247: FutureWarning: 'multi_class' was deprecated in version 1.5 and will be removed in 1.7. From then on, it will always use 'multinomial'. Leave it to its default value to avoid this warning.\n  warnings.warn(\n"
          ]
        },
        {
          "output_type": "stream",
          "name": "stdout",
          "text": [
            "[Hell+L2 Center fold 5/6] C=1000.0, time=0.53s\n"
          ]
        },
        {
          "output_type": "stream",
          "name": "stderr",
          "text": [
            "/usr/local/lib/python3.11/dist-packages/sklearn/linear_model/_logistic.py:1247: FutureWarning: 'multi_class' was deprecated in version 1.5 and will be removed in 1.7. From then on, it will always use 'multinomial'. Leave it to its default value to avoid this warning.\n  warnings.warn(\n"
          ]
        },
        {
          "output_type": "stream",
          "name": "stdout",
          "text": [
            "[Hell+L2 Center fold 6/6] C=1000.0, time=0.41s\n"
          ]
        },
        {
          "output_type": "stream",
          "name": "stdout",
          "text": [
            "Hell+L2 Center OOF: 0.135602 | C=1000.0 in 2.49s | maxprob pctiles [0.5851 0.8884 0.9582 0.9823 0.9936]\n"
          ]
        },
        {
          "output_type": "stream",
          "name": "stderr",
          "text": [
            "/usr/local/lib/python3.11/dist-packages/sklearn/linear_model/_logistic.py:1247: FutureWarning: 'multi_class' was deprecated in version 1.5 and will be removed in 1.7. From then on, it will always use 'multinomial'. Leave it to its default value to avoid this warning.\n  warnings.warn(\n"
          ]
        },
        {
          "output_type": "stream",
          "name": "stdout",
          "text": [
            "[Hell+L2 Center fold 1/6] C=2000.0, time=0.39s\n"
          ]
        },
        {
          "output_type": "stream",
          "name": "stderr",
          "text": [
            "/usr/local/lib/python3.11/dist-packages/sklearn/linear_model/_logistic.py:1247: FutureWarning: 'multi_class' was deprecated in version 1.5 and will be removed in 1.7. From then on, it will always use 'multinomial'. Leave it to its default value to avoid this warning.\n  warnings.warn(\n"
          ]
        },
        {
          "output_type": "stream",
          "name": "stdout",
          "text": [
            "[Hell+L2 Center fold 2/6] C=2000.0, time=0.39s\n"
          ]
        },
        {
          "output_type": "stream",
          "name": "stderr",
          "text": [
            "/usr/local/lib/python3.11/dist-packages/sklearn/linear_model/_logistic.py:1247: FutureWarning: 'multi_class' was deprecated in version 1.5 and will be removed in 1.7. From then on, it will always use 'multinomial'. Leave it to its default value to avoid this warning.\n  warnings.warn(\n"
          ]
        },
        {
          "output_type": "stream",
          "name": "stdout",
          "text": [
            "[Hell+L2 Center fold 3/6] C=2000.0, time=0.38s\n"
          ]
        },
        {
          "output_type": "stream",
          "name": "stderr",
          "text": [
            "/usr/local/lib/python3.11/dist-packages/sklearn/linear_model/_logistic.py:1247: FutureWarning: 'multi_class' was deprecated in version 1.5 and will be removed in 1.7. From then on, it will always use 'multinomial'. Leave it to its default value to avoid this warning.\n  warnings.warn(\n"
          ]
        },
        {
          "output_type": "stream",
          "name": "stdout",
          "text": [
            "[Hell+L2 Center fold 4/6] C=2000.0, time=0.34s\n"
          ]
        },
        {
          "output_type": "stream",
          "name": "stderr",
          "text": [
            "/usr/local/lib/python3.11/dist-packages/sklearn/linear_model/_logistic.py:1247: FutureWarning: 'multi_class' was deprecated in version 1.5 and will be removed in 1.7. From then on, it will always use 'multinomial'. Leave it to its default value to avoid this warning.\n  warnings.warn(\n"
          ]
        },
        {
          "output_type": "stream",
          "name": "stdout",
          "text": [
            "[Hell+L2 Center fold 5/6] C=2000.0, time=0.63s\n"
          ]
        },
        {
          "output_type": "stream",
          "name": "stderr",
          "text": [
            "/usr/local/lib/python3.11/dist-packages/sklearn/linear_model/_logistic.py:1247: FutureWarning: 'multi_class' was deprecated in version 1.5 and will be removed in 1.7. From then on, it will always use 'multinomial'. Leave it to its default value to avoid this warning.\n  warnings.warn(\n"
          ]
        },
        {
          "output_type": "stream",
          "name": "stdout",
          "text": [
            "[Hell+L2 Center fold 6/6] C=2000.0, time=0.53s\n"
          ]
        },
        {
          "output_type": "stream",
          "name": "stdout",
          "text": [
            "Hell+L2 Center OOF: 0.116258 | C=2000.0 in 2.69s | maxprob pctiles [0.644  0.9155 0.9725 0.9892 0.997 ]\n"
          ]
        },
        {
          "output_type": "stream",
          "name": "stdout",
          "text": [
            "Best Hell+L2 Center: (2000.0, 0.11625779469622119) | total 16.97s\nSelected Hell+L2 Center best: (2000.0, 0.11625779469622119)\nSaved oof_hellinger_lr.npy/test_hellinger_lr.npy and block_hell files\n"
          ]
        }
      ]
    },
    {
      "id": "7f33d09f-7b74-45d5-927f-a26f8e4ecc06",
      "cell_type": "code",
      "metadata": {},
      "source": [
        "# SLSQP blend v3: lr_base + concat_lr + chi2_lr (+ optional quantile, blockL1) -> temp scale -> soft submission\n",
        "import numpy as np, pandas as pd, time, sys, subprocess\n",
        "from sklearn.metrics import log_loss\n",
        "\n",
        "def clip_norm(P):\n",
        "    P = np.clip(P, 1e-15, 1-1e-15)\n",
        "    return P / P.sum(axis=1, keepdims=True)\n",
        "\n",
        "def ensure_scipy():\n",
        "    try:\n",
        "        import scipy  # noqa: F401\n",
        "        from scipy.optimize import minimize  # noqa: F401\n",
        "        return True\n",
        "    except Exception:\n",
        "        subprocess.run([sys.executable, '-m', 'pip', 'install', '-q', 'scipy'], check=True)\n",
        "        return True\n",
        "\n",
        "ensure_scipy()\n",
        "from scipy.optimize import minimize\n",
        "\n",
        "# Load candidates\n",
        "cands = []\n",
        "names = []\n",
        "y_idx = y_enc.astype(int)\n",
        "num_classes = len(le.classes_)\n",
        "\n",
        "try:\n",
        "    oof_lr = np.load('oof_logreg_nopca.npy'); test_lr = np.load('test_pred_logreg_nopca.npy')\n",
        "    cands.append((oof_lr, test_lr)); names.append('lr_base')\n",
        "except Exception as e:\n",
        "    raise RuntimeError('Missing lr_base predictions')\n",
        "try:\n",
        "    oof_concat = np.load('oof_concat_lr.npy'); test_concat = np.load('test_concat_lr.npy')\n",
        "    cands.append((oof_concat, test_concat)); names.append('concat_lr')\n",
        "except Exception as e:\n",
        "    print('Missing concat_lr, skipping:', e)\n",
        "try:\n",
        "    oof_c2 = np.load('oof_chi2_lr.npy'); test_c2 = np.load('test_chi2_lr.npy')\n",
        "    cands.append((oof_c2, test_c2)); names.append('chi2_lr')\n",
        "except Exception as e:\n",
        "    print('Missing chi2_lr, skipping:', e)\n",
        "try:\n",
        "    oof_q = np.load('oof_lr_quant.npy'); test_q = np.load('test_pred_lr_quant.npy')\n",
        "    cands.append((oof_q, test_q)); names.append('lr_quant')\n",
        "except Exception as e:\n",
        "    print('Missing lr_quant, skipping:', e)\n",
        "try:\n",
        "    oof_blkL1 = np.load('oof_block_hell_lr.npy'); test_blkL1 = np.load('test_block_hell_lr.npy')\n",
        "    cands.append((oof_blkL1, test_blkL1)); names.append('blockL1_lr')\n",
        "except Exception as e:\n",
        "    print('Missing blockL1/hell files, skipping:', e)\n",
        "\n",
        "assert len(cands) >= 2, 'Need at least two models to blend'\n",
        "\n",
        "oofs = [o for o, _ in cands]\n",
        "tests = [t for _, t in cands]\n",
        "\n",
        "def blend_from_w(weights, mats):\n",
        "    P = np.zeros_like(mats[0])\n",
        "    for wi, Pi in zip(weights, mats):\n",
        "        P += wi * Pi\n",
        "    return clip_norm(P)\n",
        "\n",
        "def objective(w):\n",
        "    P = blend_from_w(w, oofs)\n",
        "    return log_loss(y_idx, P, labels=list(range(num_classes)))\n",
        "\n",
        "m = len(cands)\n",
        "w0 = np.ones(m, dtype=np.float64) / m\n",
        "bounds = [(0.0, 1.0)] * m\n",
        "cons = ({'type': 'eq', 'fun': lambda w: np.sum(w) - 1.0},)\n",
        "t0 = time.time()\n",
        "res = minimize(objective, w0, method='SLSQP', bounds=bounds, constraints=cons, options={'maxiter': 800, 'ftol': 1e-10, 'disp': False})\n",
        "w_opt = res.x if res.success else w0\n",
        "w_opt = np.maximum(w_opt, 0); w_opt = w_opt / w_opt.sum()\n",
        "print('SLSQP success:', res.success, '| OOF:', objective(w_opt), '| Weights:', dict(zip(names, np.round(w_opt, 4))), '| time {:.2f}s'.format(time.time()-t0))\n",
        "\n",
        "oof_blend = blend_from_w(w_opt, oofs)\n",
        "test_blend = blend_from_w(w_opt, tests)\n",
        "oof_ll = log_loss(y_idx, oof_blend, labels=list(range(num_classes)))\n",
        "print(f'Blended OOF logloss (pre-calibration): {oof_ll:.6f}')\n",
        "\n",
        "# Temperature scaling\n",
        "def temp_scale(P, alpha):\n",
        "    Ps = np.power(np.clip(P, 1e-15, 1-1e-15), float(alpha))\n",
        "    return Ps / Ps.sum(axis=1, keepdims=True)\n",
        "\n",
        "alphas = np.linspace(0.6, 2.2, 161)\n",
        "best = (1.0, 1e9)\n",
        "for a in alphas:\n",
        "    ll = log_loss(y_idx, temp_scale(oof_blend, a), labels=list(range(num_classes)))\n",
        "    if ll < best[1]:\n",
        "        best = (float(a), float(ll))\n",
        "print(f'Temp scaling on blend: alpha={best[0]:.4f}, OOF={best[1]:.6f}')\n",
        "alpha_opt = best[0]\n",
        "test_cal = temp_scale(test_blend, alpha_opt)\n",
        "\n",
        "# Write soft submission only\n",
        "pred_df = pd.DataFrame(test_cal, columns=list(le.classes_))\n",
        "sub_cols = [c for c in sample_sub.columns if c != id_col]\n",
        "pred_df = pred_df[sub_cols]\n",
        "submission = pd.concat([test[[id_col]].reset_index(drop=True), pred_df.reset_index(drop=True)], axis=1)\n",
        "submission.to_csv('submission.csv', index=False)\n",
        "submission.to_csv('submission_soft_blend_calibrated_v3.csv', index=False)\n",
        "print('Saved submission.csv and submission_soft_blend_calibrated_v3.csv:', submission.shape)"
      ],
      "execution_count": 32,
      "outputs": [
        {
          "output_type": "stream",
          "name": "stdout",
          "text": [
            "SLSQP success: True | OOF: 0.04579940680457917 | Weights: {'lr_base': 0.1945, 'concat_lr': 0.524, 'chi2_lr': 0.2636, 'lr_quant': 0.0, 'blockL1_lr': 0.0179} | time 0.53s\nBlended OOF logloss (pre-calibration): 0.045799\n"
          ]
        },
        {
          "output_type": "stream",
          "name": "stdout",
          "text": [
            "Temp scaling on blend: alpha=1.9800, OOF=0.030103\nSaved submission.csv and submission_soft_blend_calibrated_v3.csv: (99, 100)\n"
          ]
        }
      ]
    },
    {
      "id": "80e84bc5-5b0d-4848-a0a2-f9079feb0ff3",
      "cell_type": "code",
      "metadata": {},
      "source": [
        "# Chi^2 1-NN (tau-softmax) and Naive Bayes (Multinomial/Complement) on block L1 histograms\n",
        "import numpy as np, json, time\n",
        "from sklearn.metrics import log_loss\n",
        "from sklearn.naive_bayes import MultinomialNB, ComplementNB\n",
        "\n",
        "SEED = 2025\n",
        "eps = 1e-9\n",
        "X_full = train[feature_cols].values.astype(np.float64)\n",
        "X_test_full = test[feature_cols].values.astype(np.float64)\n",
        "y_idx = y_enc.astype(int)\n",
        "K = len(le.classes_)\n",
        "with open('folds_6.json', 'r') as f:\n",
        "    folds = json.load(f)\n",
        "\n",
        "# Reuse sorted block indices from cell 27 if available; else define\n",
        "try:\n",
        "    m_idx_s, s_idx_s, t_idx_s\n",
        "except NameError:\n",
        "    import re\n",
        "    def get_blocks_sorted(cols):\n",
        "        def sort_keys(prefix):\n",
        "            patt = re.compile(r'^'+re.escape(prefix)+r'(\\d+)$')\n",
        "            items = [(int(m.group(1)), c) for c in cols for m in [patt.match(c)] if m]\n",
        "            items.sort(key=lambda x: x[0])\n",
        "            return [c for _, c in items]\n",
        "        margin = sort_keys('margin'); shape = sort_keys('shape'); texture = sort_keys('texture')\n",
        "        idx = {c:i for i,c in enumerate(cols)}\n",
        "        return (np.array([idx[c] for c in margin]),\n",
        "                np.array([idx[c] for c in shape]),\n",
        "                np.array([idx[c] for c in texture]))\n",
        "    m_idx_s, s_idx_s, t_idx_s = get_blocks_sorted(feature_cols)\n",
        "\n",
        "def block_l1_only(A, eps=1e-9):\n",
        "    X = np.clip(A.astype(np.float64, copy=False), 0, None).copy()\n",
        "    for idx in (m_idx_s, s_idx_s, t_idx_s):\n",
        "        B = X[:, idx].copy()\n",
        "        B /= (B.sum(axis=1, keepdims=True) + eps)\n",
        "        X[:, idx] = B\n",
        "    return X\n",
        "\n",
        "def clip_norm(P):\n",
        "    P = np.clip(P, 1e-15, 1-1e-15)\n",
        "    return P / P.sum(axis=1, keepdims=True)\n",
        "\n",
        "# 1) Chi-square 1-NN with tau-softmax\n",
        "def chi2_distance_matrix(A, B, eps=1e-9):\n",
        "    # returns pairwise chi2 distances between rows of A and rows of B\n",
        "    # D_ij = 0.5 * sum_k (a_k - b_k)^2 / (a_k + b_k + eps)\n",
        "    # compute efficiently by broadcasting in chunks to limit memory\n",
        "    nA, nB = A.shape[0], B.shape[0]\n",
        "    D = np.empty((nA, nB), dtype=np.float64)\n",
        "    chunk = 512\n",
        "    for i0 in range(0, nA, chunk):\n",
        "        i1 = min(i0+chunk, nA)\n",
        "        Aa = A[i0:i1, :][:, None, :]\n",
        "        Bb = B[None, :, :]\n",
        "        num = (Aa - Bb)**2\n",
        "        den = (Aa + Bb + eps)\n",
        "        D[i0:i1] = 0.5 * (num / den).sum(axis=2)\n",
        "    return D\n",
        "\n",
        "def softmax_rowwise(Z):\n",
        "    Z = Z - Z.max(axis=1, keepdims=True)\n",
        "    P = np.exp(Z)\n",
        "    return P / P.sum(axis=1, keepdims=True)\n",
        "\n",
        "X_l1 = block_l1_only(X_full, eps=eps)\n",
        "X_te_l1 = block_l1_only(X_test_full, eps=eps)\n",
        "\n",
        "# Tau selection on first fold\n",
        "taus = [10.0, 20.0, 30.0, 50.0, 80.0]\n",
        "trn_sel, val_sel = np.array(folds[0][0]), np.array(folds[0][1])\n",
        "D_val = chi2_distance_matrix(X_l1[val_sel], X_l1[trn_sel], eps=eps)\n",
        "nbrs = D_val.argmin(axis=1)\n",
        "dmin = D_val[np.arange(len(val_sel)), nbrs]\n",
        "Y_trn_sel = y_idx[trn_sel]\n",
        "best_tau = None; best_ll = 1e9\n",
        "for tau in taus:\n",
        "    # softmax over classes using nearest neighbor distance as similarity\n",
        "    # Convert distances to similarities: sim = -d\n",
        "    # We build a per-class score using the 1-NN class only\n",
        "    S = np.full((len(val_sel), K), -1e9, dtype=np.float64)\n",
        "    S[np.arange(len(val_sel)), Y_trn_sel[nbrs]] = -dmin * tau\n",
        "    P = softmax_rowwise(S)\n",
        "    ll = log_loss(y_idx[val_sel], clip_norm(P), labels=list(range(K)))\n",
        "    print(f'[Chi2-1NN tau search] tau={tau}, fold1 val logloss={ll:.6f}')\n",
        "    if ll < best_ll:\n",
        "        best_ll = ll; best_tau = tau\n",
        "print('Chi2-1NN selected tau:', best_tau)\n",
        "\n",
        "# Full 6-fold OOF/Test\n",
        "oof_chi1 = np.zeros((len(X_l1), K), dtype=np.float64)\n",
        "test_chi1 = np.zeros((len(X_te_l1), K), dtype=np.float64)\n",
        "for i, (trn_idx, val_idx) in enumerate(folds, 1):\n",
        "    trn_idx = np.array(trn_idx); val_idx = np.array(val_idx)\n",
        "    D = chi2_distance_matrix(X_l1[val_idx], X_l1[trn_idx], eps=eps)\n",
        "    nbr = D.argmin(axis=1)\n",
        "    dmin = D[np.arange(len(val_idx)), nbr]\n",
        "    cls = y_idx[trn_idx][nbr]\n",
        "    S = np.full((len(val_idx), K), -1e9, dtype=np.float64)\n",
        "    S[np.arange(len(val_idx)), cls] = -dmin * best_tau\n",
        "    oof_chi1[val_idx] = softmax_rowwise(S)\n",
        "    # test: use full train as reference\n",
        "    Dt = chi2_distance_matrix(X_te_l1, X_l1[trn_idx], eps=eps)\n",
        "    nbr_t = Dt.argmin(axis=1)\n",
        "    dmin_t = Dt[np.arange(len(X_te_l1)), nbr_t]\n",
        "    cls_t = y_idx[trn_idx][nbr_t]\n",
        "    St = np.full((len(X_te_l1), K), -1e9, dtype=np.float64)\n",
        "    St[np.arange(len(X_te_l1)), cls_t] = -dmin_t * best_tau\n",
        "    test_chi1 += softmax_rowwise(St) / len(folds)\n",
        "    ll = log_loss(y_idx[val_idx], clip_norm(oof_chi1[val_idx]), labels=list(range(K)))\n",
        "    print(f'[Chi2-1NN fold {i}/{len(folds)}] val logloss={ll:.6f}', flush=True)\n",
        "oof_ll_chi1 = log_loss(y_idx, clip_norm(oof_chi1), labels=list(range(K)))\n",
        "print(f'Chi2-1NN OOF logloss: {oof_ll_chi1:.6f}')\n",
        "np.save('oof_chi2_1nn.npy', oof_chi1)\n",
        "np.save('test_chi2_1nn.npy', test_chi1)\n",
        "\n",
        "# 2) Naive Bayes on block L1 histograms\n",
        "def run_nb(model_name='mnb', alphas=(0.05, 0.1, 0.2, 0.5, 1.0), scale=1000.0):\n",
        "    best = (None, 1e9); best_oof=None; best_test=None\n",
        "    Xs = X_l1 * scale; Xts = X_te_l1 * scale\n",
        "    for a in alphas:\n",
        "        oof = np.zeros((len(Xs), K), dtype=np.float64)\n",
        "        test_pred = np.zeros((len(Xts), K), dtype=np.float64)\n",
        "        for i, (trn_idx, val_idx) in enumerate(folds, 1):\n",
        "            trn_idx = np.array(trn_idx); val_idx = np.array(val_idx)\n",
        "            if model_name == 'mnb':\n",
        "                clf = MultinomialNB(alpha=a)\n",
        "            else:\n",
        "                clf = ComplementNB(alpha=a)\n",
        "            clf.fit(Xs[trn_idx], y_idx[trn_idx])\n",
        "            P_va = clf.predict_proba(Xs[val_idx])\n",
        "            oof[val_idx] = P_va\n",
        "            test_pred += clf.predict_proba(Xts) / len(folds)\n",
        "        ll = log_loss(y_idx, clip_norm(oof), labels=list(range(K)))\n",
        "        print(f'NB({model_name}) OOF: {ll:.6f} | alpha={a}')\n",
        "        if ll < best[1]:\n",
        "            best = (a, ll); best_oof=oof; best_test=test_pred\n",
        "    print(f'Best NB({model_name}):', best)\n",
        "    return best, best_oof, best_test\n",
        "\n",
        "best_mnb, oof_mnb, test_mnb = run_nb('mnb', alphas=(0.05,0.1,0.2,0.5,1.0), scale=1000.0)\n",
        "np.save('oof_mnb.npy', oof_mnb); np.save('test_mnb.npy', test_mnb)\n",
        "best_cnb, oof_cnb, test_cnb = run_nb('cnb', alphas=(0.05,0.1,0.2,0.5,1.0), scale=1000.0)\n",
        "np.save('oof_cnb.npy', oof_cnb); np.save('test_cnb.npy', test_cnb)\n",
        "print('Saved NB predictions (MNB/CNB) and Chi2-1NN for blending.')"
      ],
      "execution_count": 33,
      "outputs": [
        {
          "output_type": "stream",
          "name": "stdout",
          "text": [
            "[Chi2-1NN tau search] tau=10.0, fold1 val logloss=1.159019\n[Chi2-1NN tau search] tau=20.0, fold1 val logloss=1.159019\n[Chi2-1NN tau search] tau=30.0, fold1 val logloss=1.159019\n[Chi2-1NN tau search] tau=50.0, fold1 val logloss=1.159019\n[Chi2-1NN tau search] tau=80.0, fold1 val logloss=1.159019\nChi2-1NN selected tau: 10.0\n"
          ]
        },
        {
          "output_type": "stream",
          "name": "stdout",
          "text": [
            "[Chi2-1NN fold 1/6] val logloss=1.159019\n"
          ]
        },
        {
          "output_type": "stream",
          "name": "stdout",
          "text": [
            "[Chi2-1NN fold 2/6] val logloss=0.463608\n"
          ]
        },
        {
          "output_type": "stream",
          "name": "stdout",
          "text": [
            "[Chi2-1NN fold 3/6] val logloss=1.854431\n"
          ]
        },
        {
          "output_type": "stream",
          "name": "stdout",
          "text": [
            "[Chi2-1NN fold 4/6] val logloss=1.633591\n"
          ]
        },
        {
          "output_type": "stream",
          "name": "stdout",
          "text": [
            "[Chi2-1NN fold 5/6] val logloss=2.100331\n"
          ]
        },
        {
          "output_type": "stream",
          "name": "stdout",
          "text": [
            "[Chi2-1NN fold 6/6] val logloss=1.400221\n"
          ]
        },
        {
          "output_type": "stream",
          "name": "stdout",
          "text": [
            "Chi2-1NN OOF logloss: 1.434270\nNB(mnb) OOF: 2.304240 | alpha=0.05\nNB(mnb) OOF: 2.305690 | alpha=0.1\nNB(mnb) OOF: 2.309454 | alpha=0.2\n"
          ]
        },
        {
          "output_type": "stream",
          "name": "stdout",
          "text": [
            "NB(mnb) OOF: 2.337020 | alpha=0.5\nNB(mnb) OOF: 2.417183 | alpha=1.0\nBest NB(mnb): (0.05, 2.3042400378627694)\nNB(cnb) OOF: 4.261315 | alpha=0.05\nNB(cnb) OOF: 4.261317 | alpha=0.1\n"
          ]
        },
        {
          "output_type": "stream",
          "name": "stdout",
          "text": [
            "NB(cnb) OOF: 4.261323 | alpha=0.2\nNB(cnb) OOF: 4.261337 | alpha=0.5\nNB(cnb) OOF: 4.261355 | alpha=1.0\nBest NB(cnb): (0.05, 4.261314818396908)\nSaved NB predictions (MNB/CNB) and Chi2-1NN for blending.\n"
          ]
        }
      ]
    },
    {
      "id": "14a892c6-4d5a-4655-b54f-b3a867acc4fa",
      "cell_type": "code",
      "metadata": {},
      "source": [
        "# LR(no-PCA) ensemble over Cs and seeds -> average probs; save for blending\n",
        "import numpy as np, json, time\n",
        "from sklearn.preprocessing import StandardScaler\n",
        "from sklearn.linear_model import LogisticRegression\n",
        "from sklearn.metrics import log_loss\n",
        "\n",
        "SEED = 2025\n",
        "X = train[feature_cols].values.astype(np.float64)\n",
        "X_test = test[feature_cols].values.astype(np.float64)\n",
        "y_idx = y_enc.astype(int)\n",
        "K = len(le.classes_)\n",
        "with open('folds_6.json', 'r') as f:\n",
        "    folds = json.load(f)\n",
        "\n",
        "def clip_norm(P):\n",
        "    P = np.clip(P, 1e-15, 1-1e-15)\n",
        "    return P / P.sum(axis=1, keepdims=True)\n",
        "\n",
        "Cs = [20.0, 30.0, 40.0, 60.0, 80.0, 100.0]\n",
        "seeds = [2023, 2024, 2025, 2026]\n",
        "oof_list = []\n",
        "test_list = []\n",
        "t_all = time.time()\n",
        "grid_total = len(Cs)*len(seeds)\n",
        "g = 0\n",
        "for C in Cs:\n",
        "    for sd in seeds:\n",
        "        g += 1\n",
        "        oof = np.zeros((len(X), K), dtype=np.float64)\n",
        "        test_pred = np.zeros((len(X_test), K), dtype=np.float64)\n",
        "        t0 = time.time()\n",
        "        for i, (trn_idx, val_idx) in enumerate(folds, 1):\n",
        "            trn_idx = np.array(trn_idx); val_idx = np.array(val_idx)\n",
        "            sc = StandardScaler()\n",
        "            X_tr = sc.fit_transform(X[trn_idx])\n",
        "            X_va = sc.transform(X[val_idx])\n",
        "            X_te = sc.transform(X_test)\n",
        "            clf = LogisticRegression(multi_class='multinomial', solver='lbfgs', penalty='l2', C=C, max_iter=5000, random_state=sd)\n",
        "            clf.fit(X_tr, y_idx[trn_idx])\n",
        "            P_va = clf.predict_proba(X_va)\n",
        "            oof[val_idx] = P_va\n",
        "            test_pred += clf.predict_proba(X_te) / len(folds)\n",
        "        ll = log_loss(y_idx, clip_norm(oof), labels=list(range(K)))\n",
        "        print(f'[LR ens {g}/{grid_total}] C={C}, seed={sd}, OOF={ll:.6f} in {time.time()-t0:.2f}s', flush=True)\n",
        "        oof_list.append(oof); test_list.append(test_pred)\n",
        "\n",
        "oof_ens = np.mean(np.stack(oof_list, axis=0), axis=0)\n",
        "test_ens = np.mean(np.stack(test_list, axis=0), axis=0)\n",
        "oof_ll = log_loss(y_idx, clip_norm(oof_ens), labels=list(range(K)))\n",
        "print(f'LR ensemble OOF: {oof_ll:.6f} | built from {len(oof_list)} models in {time.time()-t_all:.2f}s')\n",
        "np.save('oof_lr_ens.npy', oof_ens)\n",
        "np.save('test_lr_ens.npy', test_ens)\n",
        "print('Saved oof_lr_ens.npy and test_lr_ens.npy for blending')"
      ],
      "execution_count": 34,
      "outputs": [
        {
          "output_type": "stream",
          "name": "stderr",
          "text": [
            "/usr/local/lib/python3.11/dist-packages/sklearn/linear_model/_logistic.py:1247: FutureWarning: 'multi_class' was deprecated in version 1.5 and will be removed in 1.7. From then on, it will always use 'multinomial'. Leave it to its default value to avoid this warning.\n  warnings.warn(\n"
          ]
        },
        {
          "output_type": "stream",
          "name": "stderr",
          "text": [
            "/usr/local/lib/python3.11/dist-packages/sklearn/linear_model/_logistic.py:1247: FutureWarning: 'multi_class' was deprecated in version 1.5 and will be removed in 1.7. From then on, it will always use 'multinomial'. Leave it to its default value to avoid this warning.\n  warnings.warn(\n"
          ]
        },
        {
          "output_type": "stream",
          "name": "stderr",
          "text": [
            "/usr/local/lib/python3.11/dist-packages/sklearn/linear_model/_logistic.py:1247: FutureWarning: 'multi_class' was deprecated in version 1.5 and will be removed in 1.7. From then on, it will always use 'multinomial'. Leave it to its default value to avoid this warning.\n  warnings.warn(\n"
          ]
        },
        {
          "output_type": "stream",
          "name": "stderr",
          "text": [
            "/usr/local/lib/python3.11/dist-packages/sklearn/linear_model/_logistic.py:1247: FutureWarning: 'multi_class' was deprecated in version 1.5 and will be removed in 1.7. From then on, it will always use 'multinomial'. Leave it to its default value to avoid this warning.\n  warnings.warn(\n"
          ]
        },
        {
          "output_type": "stream",
          "name": "stderr",
          "text": [
            "/usr/local/lib/python3.11/dist-packages/sklearn/linear_model/_logistic.py:1247: FutureWarning: 'multi_class' was deprecated in version 1.5 and will be removed in 1.7. From then on, it will always use 'multinomial'. Leave it to its default value to avoid this warning.\n  warnings.warn(\n"
          ]
        },
        {
          "output_type": "stream",
          "name": "stderr",
          "text": [
            "/usr/local/lib/python3.11/dist-packages/sklearn/linear_model/_logistic.py:1247: FutureWarning: 'multi_class' was deprecated in version 1.5 and will be removed in 1.7. From then on, it will always use 'multinomial'. Leave it to its default value to avoid this warning.\n  warnings.warn(\n"
          ]
        },
        {
          "output_type": "stream",
          "name": "stdout",
          "text": [
            "[LR ens 1/24] C=20.0, seed=2023, OOF=0.048727 in 2.59s\n"
          ]
        },
        {
          "output_type": "stream",
          "name": "stderr",
          "text": [
            "/usr/local/lib/python3.11/dist-packages/sklearn/linear_model/_logistic.py:1247: FutureWarning: 'multi_class' was deprecated in version 1.5 and will be removed in 1.7. From then on, it will always use 'multinomial'. Leave it to its default value to avoid this warning.\n  warnings.warn(\n"
          ]
        },
        {
          "output_type": "stream",
          "name": "stderr",
          "text": [
            "/usr/local/lib/python3.11/dist-packages/sklearn/linear_model/_logistic.py:1247: FutureWarning: 'multi_class' was deprecated in version 1.5 and will be removed in 1.7. From then on, it will always use 'multinomial'. Leave it to its default value to avoid this warning.\n  warnings.warn(\n"
          ]
        },
        {
          "output_type": "stream",
          "name": "stderr",
          "text": [
            "/usr/local/lib/python3.11/dist-packages/sklearn/linear_model/_logistic.py:1247: FutureWarning: 'multi_class' was deprecated in version 1.5 and will be removed in 1.7. From then on, it will always use 'multinomial'. Leave it to its default value to avoid this warning.\n  warnings.warn(\n"
          ]
        },
        {
          "output_type": "stream",
          "name": "stderr",
          "text": [
            "/usr/local/lib/python3.11/dist-packages/sklearn/linear_model/_logistic.py:1247: FutureWarning: 'multi_class' was deprecated in version 1.5 and will be removed in 1.7. From then on, it will always use 'multinomial'. Leave it to its default value to avoid this warning.\n  warnings.warn(\n"
          ]
        },
        {
          "output_type": "stream",
          "name": "stderr",
          "text": [
            "/usr/local/lib/python3.11/dist-packages/sklearn/linear_model/_logistic.py:1247: FutureWarning: 'multi_class' was deprecated in version 1.5 and will be removed in 1.7. From then on, it will always use 'multinomial'. Leave it to its default value to avoid this warning.\n  warnings.warn(\n"
          ]
        },
        {
          "output_type": "stream",
          "name": "stderr",
          "text": [
            "/usr/local/lib/python3.11/dist-packages/sklearn/linear_model/_logistic.py:1247: FutureWarning: 'multi_class' was deprecated in version 1.5 and will be removed in 1.7. From then on, it will always use 'multinomial'. Leave it to its default value to avoid this warning.\n  warnings.warn(\n"
          ]
        },
        {
          "output_type": "stream",
          "name": "stdout",
          "text": [
            "[LR ens 2/24] C=20.0, seed=2024, OOF=0.048727 in 2.15s\n"
          ]
        },
        {
          "output_type": "stream",
          "name": "stderr",
          "text": [
            "/usr/local/lib/python3.11/dist-packages/sklearn/linear_model/_logistic.py:1247: FutureWarning: 'multi_class' was deprecated in version 1.5 and will be removed in 1.7. From then on, it will always use 'multinomial'. Leave it to its default value to avoid this warning.\n  warnings.warn(\n"
          ]
        },
        {
          "output_type": "stream",
          "name": "stderr",
          "text": [
            "/usr/local/lib/python3.11/dist-packages/sklearn/linear_model/_logistic.py:1247: FutureWarning: 'multi_class' was deprecated in version 1.5 and will be removed in 1.7. From then on, it will always use 'multinomial'. Leave it to its default value to avoid this warning.\n  warnings.warn(\n"
          ]
        },
        {
          "output_type": "stream",
          "name": "stderr",
          "text": [
            "/usr/local/lib/python3.11/dist-packages/sklearn/linear_model/_logistic.py:1247: FutureWarning: 'multi_class' was deprecated in version 1.5 and will be removed in 1.7. From then on, it will always use 'multinomial'. Leave it to its default value to avoid this warning.\n  warnings.warn(\n"
          ]
        },
        {
          "output_type": "stream",
          "name": "stderr",
          "text": [
            "/usr/local/lib/python3.11/dist-packages/sklearn/linear_model/_logistic.py:1247: FutureWarning: 'multi_class' was deprecated in version 1.5 and will be removed in 1.7. From then on, it will always use 'multinomial'. Leave it to its default value to avoid this warning.\n  warnings.warn(\n"
          ]
        },
        {
          "output_type": "stream",
          "name": "stderr",
          "text": [
            "/usr/local/lib/python3.11/dist-packages/sklearn/linear_model/_logistic.py:1247: FutureWarning: 'multi_class' was deprecated in version 1.5 and will be removed in 1.7. From then on, it will always use 'multinomial'. Leave it to its default value to avoid this warning.\n  warnings.warn(\n"
          ]
        },
        {
          "output_type": "stream",
          "name": "stderr",
          "text": [
            "/usr/local/lib/python3.11/dist-packages/sklearn/linear_model/_logistic.py:1247: FutureWarning: 'multi_class' was deprecated in version 1.5 and will be removed in 1.7. From then on, it will always use 'multinomial'. Leave it to its default value to avoid this warning.\n  warnings.warn(\n"
          ]
        },
        {
          "output_type": "stream",
          "name": "stdout",
          "text": [
            "[LR ens 3/24] C=20.0, seed=2025, OOF=0.048727 in 2.70s\n"
          ]
        },
        {
          "output_type": "stream",
          "name": "stderr",
          "text": [
            "/usr/local/lib/python3.11/dist-packages/sklearn/linear_model/_logistic.py:1247: FutureWarning: 'multi_class' was deprecated in version 1.5 and will be removed in 1.7. From then on, it will always use 'multinomial'. Leave it to its default value to avoid this warning.\n  warnings.warn(\n"
          ]
        },
        {
          "output_type": "stream",
          "name": "stderr",
          "text": [
            "/usr/local/lib/python3.11/dist-packages/sklearn/linear_model/_logistic.py:1247: FutureWarning: 'multi_class' was deprecated in version 1.5 and will be removed in 1.7. From then on, it will always use 'multinomial'. Leave it to its default value to avoid this warning.\n  warnings.warn(\n"
          ]
        },
        {
          "output_type": "stream",
          "name": "stderr",
          "text": [
            "/usr/local/lib/python3.11/dist-packages/sklearn/linear_model/_logistic.py:1247: FutureWarning: 'multi_class' was deprecated in version 1.5 and will be removed in 1.7. From then on, it will always use 'multinomial'. Leave it to its default value to avoid this warning.\n  warnings.warn(\n"
          ]
        },
        {
          "output_type": "stream",
          "name": "stderr",
          "text": [
            "/usr/local/lib/python3.11/dist-packages/sklearn/linear_model/_logistic.py:1247: FutureWarning: 'multi_class' was deprecated in version 1.5 and will be removed in 1.7. From then on, it will always use 'multinomial'. Leave it to its default value to avoid this warning.\n  warnings.warn(\n"
          ]
        },
        {
          "output_type": "stream",
          "name": "stderr",
          "text": [
            "/usr/local/lib/python3.11/dist-packages/sklearn/linear_model/_logistic.py:1247: FutureWarning: 'multi_class' was deprecated in version 1.5 and will be removed in 1.7. From then on, it will always use 'multinomial'. Leave it to its default value to avoid this warning.\n  warnings.warn(\n"
          ]
        },
        {
          "output_type": "stream",
          "name": "stderr",
          "text": [
            "/usr/local/lib/python3.11/dist-packages/sklearn/linear_model/_logistic.py:1247: FutureWarning: 'multi_class' was deprecated in version 1.5 and will be removed in 1.7. From then on, it will always use 'multinomial'. Leave it to its default value to avoid this warning.\n  warnings.warn(\n"
          ]
        },
        {
          "output_type": "stream",
          "name": "stdout",
          "text": [
            "[LR ens 4/24] C=20.0, seed=2026, OOF=0.048727 in 2.21s\n"
          ]
        },
        {
          "output_type": "stream",
          "name": "stderr",
          "text": [
            "/usr/local/lib/python3.11/dist-packages/sklearn/linear_model/_logistic.py:1247: FutureWarning: 'multi_class' was deprecated in version 1.5 and will be removed in 1.7. From then on, it will always use 'multinomial'. Leave it to its default value to avoid this warning.\n  warnings.warn(\n"
          ]
        },
        {
          "output_type": "stream",
          "name": "stderr",
          "text": [
            "/usr/local/lib/python3.11/dist-packages/sklearn/linear_model/_logistic.py:1247: FutureWarning: 'multi_class' was deprecated in version 1.5 and will be removed in 1.7. From then on, it will always use 'multinomial'. Leave it to its default value to avoid this warning.\n  warnings.warn(\n"
          ]
        },
        {
          "output_type": "stream",
          "name": "stderr",
          "text": [
            "/usr/local/lib/python3.11/dist-packages/sklearn/linear_model/_logistic.py:1247: FutureWarning: 'multi_class' was deprecated in version 1.5 and will be removed in 1.7. From then on, it will always use 'multinomial'. Leave it to its default value to avoid this warning.\n  warnings.warn(\n"
          ]
        },
        {
          "output_type": "stream",
          "name": "stderr",
          "text": [
            "/usr/local/lib/python3.11/dist-packages/sklearn/linear_model/_logistic.py:1247: FutureWarning: 'multi_class' was deprecated in version 1.5 and will be removed in 1.7. From then on, it will always use 'multinomial'. Leave it to its default value to avoid this warning.\n  warnings.warn(\n/usr/local/lib/python3.11/dist-packages/sklearn/linear_model/_logistic.py:1247: FutureWarning: 'multi_class' was deprecated in version 1.5 and will be removed in 1.7. From then on, it will always use 'multinomial'. Leave it to its default value to avoid this warning.\n  warnings.warn(\n"
          ]
        },
        {
          "output_type": "stream",
          "name": "stderr",
          "text": [
            "/usr/local/lib/python3.11/dist-packages/sklearn/linear_model/_logistic.py:1247: FutureWarning: 'multi_class' was deprecated in version 1.5 and will be removed in 1.7. From then on, it will always use 'multinomial'. Leave it to its default value to avoid this warning.\n  warnings.warn(\n"
          ]
        },
        {
          "output_type": "stream",
          "name": "stdout",
          "text": [
            "[LR ens 5/24] C=30.0, seed=2023, OOF=0.048535 in 1.59s\n"
          ]
        },
        {
          "output_type": "stream",
          "name": "stderr",
          "text": [
            "/usr/local/lib/python3.11/dist-packages/sklearn/linear_model/_logistic.py:1247: FutureWarning: 'multi_class' was deprecated in version 1.5 and will be removed in 1.7. From then on, it will always use 'multinomial'. Leave it to its default value to avoid this warning.\n  warnings.warn(\n"
          ]
        },
        {
          "output_type": "stream",
          "name": "stderr",
          "text": [
            "/usr/local/lib/python3.11/dist-packages/sklearn/linear_model/_logistic.py:1247: FutureWarning: 'multi_class' was deprecated in version 1.5 and will be removed in 1.7. From then on, it will always use 'multinomial'. Leave it to its default value to avoid this warning.\n  warnings.warn(\n"
          ]
        },
        {
          "output_type": "stream",
          "name": "stderr",
          "text": [
            "/usr/local/lib/python3.11/dist-packages/sklearn/linear_model/_logistic.py:1247: FutureWarning: 'multi_class' was deprecated in version 1.5 and will be removed in 1.7. From then on, it will always use 'multinomial'. Leave it to its default value to avoid this warning.\n  warnings.warn(\n/usr/local/lib/python3.11/dist-packages/sklearn/linear_model/_logistic.py:1247: FutureWarning: 'multi_class' was deprecated in version 1.5 and will be removed in 1.7. From then on, it will always use 'multinomial'. Leave it to its default value to avoid this warning.\n  warnings.warn(\n"
          ]
        },
        {
          "output_type": "stream",
          "name": "stderr",
          "text": [
            "/usr/local/lib/python3.11/dist-packages/sklearn/linear_model/_logistic.py:1247: FutureWarning: 'multi_class' was deprecated in version 1.5 and will be removed in 1.7. From then on, it will always use 'multinomial'. Leave it to its default value to avoid this warning.\n  warnings.warn(\n"
          ]
        },
        {
          "output_type": "stream",
          "name": "stderr",
          "text": [
            "/usr/local/lib/python3.11/dist-packages/sklearn/linear_model/_logistic.py:1247: FutureWarning: 'multi_class' was deprecated in version 1.5 and will be removed in 1.7. From then on, it will always use 'multinomial'. Leave it to its default value to avoid this warning.\n  warnings.warn(\n"
          ]
        },
        {
          "output_type": "stream",
          "name": "stdout",
          "text": [
            "[LR ens 6/24] C=30.0, seed=2024, OOF=0.048535 in 1.76s\n"
          ]
        },
        {
          "output_type": "stream",
          "name": "stderr",
          "text": [
            "/usr/local/lib/python3.11/dist-packages/sklearn/linear_model/_logistic.py:1247: FutureWarning: 'multi_class' was deprecated in version 1.5 and will be removed in 1.7. From then on, it will always use 'multinomial'. Leave it to its default value to avoid this warning.\n  warnings.warn(\n"
          ]
        },
        {
          "output_type": "stream",
          "name": "stderr",
          "text": [
            "/usr/local/lib/python3.11/dist-packages/sklearn/linear_model/_logistic.py:1247: FutureWarning: 'multi_class' was deprecated in version 1.5 and will be removed in 1.7. From then on, it will always use 'multinomial'. Leave it to its default value to avoid this warning.\n  warnings.warn(\n"
          ]
        },
        {
          "output_type": "stream",
          "name": "stderr",
          "text": [
            "/usr/local/lib/python3.11/dist-packages/sklearn/linear_model/_logistic.py:1247: FutureWarning: 'multi_class' was deprecated in version 1.5 and will be removed in 1.7. From then on, it will always use 'multinomial'. Leave it to its default value to avoid this warning.\n  warnings.warn(\n"
          ]
        },
        {
          "output_type": "stream",
          "name": "stderr",
          "text": [
            "/usr/local/lib/python3.11/dist-packages/sklearn/linear_model/_logistic.py:1247: FutureWarning: 'multi_class' was deprecated in version 1.5 and will be removed in 1.7. From then on, it will always use 'multinomial'. Leave it to its default value to avoid this warning.\n  warnings.warn(\n"
          ]
        },
        {
          "output_type": "stream",
          "name": "stderr",
          "text": [
            "/usr/local/lib/python3.11/dist-packages/sklearn/linear_model/_logistic.py:1247: FutureWarning: 'multi_class' was deprecated in version 1.5 and will be removed in 1.7. From then on, it will always use 'multinomial'. Leave it to its default value to avoid this warning.\n  warnings.warn(\n"
          ]
        },
        {
          "output_type": "stream",
          "name": "stderr",
          "text": [
            "/usr/local/lib/python3.11/dist-packages/sklearn/linear_model/_logistic.py:1247: FutureWarning: 'multi_class' was deprecated in version 1.5 and will be removed in 1.7. From then on, it will always use 'multinomial'. Leave it to its default value to avoid this warning.\n  warnings.warn(\n"
          ]
        },
        {
          "output_type": "stream",
          "name": "stdout",
          "text": [
            "[LR ens 7/24] C=30.0, seed=2025, OOF=0.048535 in 2.16s\n"
          ]
        },
        {
          "output_type": "stream",
          "name": "stderr",
          "text": [
            "/usr/local/lib/python3.11/dist-packages/sklearn/linear_model/_logistic.py:1247: FutureWarning: 'multi_class' was deprecated in version 1.5 and will be removed in 1.7. From then on, it will always use 'multinomial'. Leave it to its default value to avoid this warning.\n  warnings.warn(\n"
          ]
        },
        {
          "output_type": "stream",
          "name": "stderr",
          "text": [
            "/usr/local/lib/python3.11/dist-packages/sklearn/linear_model/_logistic.py:1247: FutureWarning: 'multi_class' was deprecated in version 1.5 and will be removed in 1.7. From then on, it will always use 'multinomial'. Leave it to its default value to avoid this warning.\n  warnings.warn(\n"
          ]
        },
        {
          "output_type": "stream",
          "name": "stderr",
          "text": [
            "/usr/local/lib/python3.11/dist-packages/sklearn/linear_model/_logistic.py:1247: FutureWarning: 'multi_class' was deprecated in version 1.5 and will be removed in 1.7. From then on, it will always use 'multinomial'. Leave it to its default value to avoid this warning.\n  warnings.warn(\n"
          ]
        },
        {
          "output_type": "stream",
          "name": "stderr",
          "text": [
            "/usr/local/lib/python3.11/dist-packages/sklearn/linear_model/_logistic.py:1247: FutureWarning: 'multi_class' was deprecated in version 1.5 and will be removed in 1.7. From then on, it will always use 'multinomial'. Leave it to its default value to avoid this warning.\n  warnings.warn(\n"
          ]
        },
        {
          "output_type": "stream",
          "name": "stderr",
          "text": [
            "/usr/local/lib/python3.11/dist-packages/sklearn/linear_model/_logistic.py:1247: FutureWarning: 'multi_class' was deprecated in version 1.5 and will be removed in 1.7. From then on, it will always use 'multinomial'. Leave it to its default value to avoid this warning.\n  warnings.warn(\n"
          ]
        },
        {
          "output_type": "stream",
          "name": "stderr",
          "text": [
            "/usr/local/lib/python3.11/dist-packages/sklearn/linear_model/_logistic.py:1247: FutureWarning: 'multi_class' was deprecated in version 1.5 and will be removed in 1.7. From then on, it will always use 'multinomial'. Leave it to its default value to avoid this warning.\n  warnings.warn(\n"
          ]
        },
        {
          "output_type": "stream",
          "name": "stdout",
          "text": [
            "[LR ens 8/24] C=30.0, seed=2026, OOF=0.048535 in 1.96s\n"
          ]
        },
        {
          "output_type": "stream",
          "name": "stderr",
          "text": [
            "/usr/local/lib/python3.11/dist-packages/sklearn/linear_model/_logistic.py:1247: FutureWarning: 'multi_class' was deprecated in version 1.5 and will be removed in 1.7. From then on, it will always use 'multinomial'. Leave it to its default value to avoid this warning.\n  warnings.warn(\n"
          ]
        },
        {
          "output_type": "stream",
          "name": "stderr",
          "text": [
            "/usr/local/lib/python3.11/dist-packages/sklearn/linear_model/_logistic.py:1247: FutureWarning: 'multi_class' was deprecated in version 1.5 and will be removed in 1.7. From then on, it will always use 'multinomial'. Leave it to its default value to avoid this warning.\n  warnings.warn(\n"
          ]
        },
        {
          "output_type": "stream",
          "name": "stderr",
          "text": [
            "/usr/local/lib/python3.11/dist-packages/sklearn/linear_model/_logistic.py:1247: FutureWarning: 'multi_class' was deprecated in version 1.5 and will be removed in 1.7. From then on, it will always use 'multinomial'. Leave it to its default value to avoid this warning.\n  warnings.warn(\n"
          ]
        },
        {
          "output_type": "stream",
          "name": "stderr",
          "text": [
            "/usr/local/lib/python3.11/dist-packages/sklearn/linear_model/_logistic.py:1247: FutureWarning: 'multi_class' was deprecated in version 1.5 and will be removed in 1.7. From then on, it will always use 'multinomial'. Leave it to its default value to avoid this warning.\n  warnings.warn(\n"
          ]
        },
        {
          "output_type": "stream",
          "name": "stderr",
          "text": [
            "/usr/local/lib/python3.11/dist-packages/sklearn/linear_model/_logistic.py:1247: FutureWarning: 'multi_class' was deprecated in version 1.5 and will be removed in 1.7. From then on, it will always use 'multinomial'. Leave it to its default value to avoid this warning.\n  warnings.warn(\n"
          ]
        },
        {
          "output_type": "stream",
          "name": "stderr",
          "text": [
            "/usr/local/lib/python3.11/dist-packages/sklearn/linear_model/_logistic.py:1247: FutureWarning: 'multi_class' was deprecated in version 1.5 and will be removed in 1.7. From then on, it will always use 'multinomial'. Leave it to its default value to avoid this warning.\n  warnings.warn(\n"
          ]
        },
        {
          "output_type": "stream",
          "name": "stdout",
          "text": [
            "[LR ens 9/24] C=40.0, seed=2023, OOF=0.045635 in 2.30s\n"
          ]
        },
        {
          "output_type": "stream",
          "name": "stderr",
          "text": [
            "/usr/local/lib/python3.11/dist-packages/sklearn/linear_model/_logistic.py:1247: FutureWarning: 'multi_class' was deprecated in version 1.5 and will be removed in 1.7. From then on, it will always use 'multinomial'. Leave it to its default value to avoid this warning.\n  warnings.warn(\n"
          ]
        },
        {
          "output_type": "stream",
          "name": "stderr",
          "text": [
            "/usr/local/lib/python3.11/dist-packages/sklearn/linear_model/_logistic.py:1247: FutureWarning: 'multi_class' was deprecated in version 1.5 and will be removed in 1.7. From then on, it will always use 'multinomial'. Leave it to its default value to avoid this warning.\n  warnings.warn(\n"
          ]
        },
        {
          "output_type": "stream",
          "name": "stderr",
          "text": [
            "/usr/local/lib/python3.11/dist-packages/sklearn/linear_model/_logistic.py:1247: FutureWarning: 'multi_class' was deprecated in version 1.5 and will be removed in 1.7. From then on, it will always use 'multinomial'. Leave it to its default value to avoid this warning.\n  warnings.warn(\n"
          ]
        },
        {
          "output_type": "stream",
          "name": "stderr",
          "text": [
            "/usr/local/lib/python3.11/dist-packages/sklearn/linear_model/_logistic.py:1247: FutureWarning: 'multi_class' was deprecated in version 1.5 and will be removed in 1.7. From then on, it will always use 'multinomial'. Leave it to its default value to avoid this warning.\n  warnings.warn(\n"
          ]
        },
        {
          "output_type": "stream",
          "name": "stderr",
          "text": [
            "/usr/local/lib/python3.11/dist-packages/sklearn/linear_model/_logistic.py:1247: FutureWarning: 'multi_class' was deprecated in version 1.5 and will be removed in 1.7. From then on, it will always use 'multinomial'. Leave it to its default value to avoid this warning.\n  warnings.warn(\n"
          ]
        },
        {
          "output_type": "stream",
          "name": "stderr",
          "text": [
            "/usr/local/lib/python3.11/dist-packages/sklearn/linear_model/_logistic.py:1247: FutureWarning: 'multi_class' was deprecated in version 1.5 and will be removed in 1.7. From then on, it will always use 'multinomial'. Leave it to its default value to avoid this warning.\n  warnings.warn(\n"
          ]
        },
        {
          "output_type": "stream",
          "name": "stdout",
          "text": [
            "[LR ens 10/24] C=40.0, seed=2024, OOF=0.045635 in 2.42s\n"
          ]
        },
        {
          "output_type": "stream",
          "name": "stderr",
          "text": [
            "/usr/local/lib/python3.11/dist-packages/sklearn/linear_model/_logistic.py:1247: FutureWarning: 'multi_class' was deprecated in version 1.5 and will be removed in 1.7. From then on, it will always use 'multinomial'. Leave it to its default value to avoid this warning.\n  warnings.warn(\n"
          ]
        },
        {
          "output_type": "stream",
          "name": "stderr",
          "text": [
            "/usr/local/lib/python3.11/dist-packages/sklearn/linear_model/_logistic.py:1247: FutureWarning: 'multi_class' was deprecated in version 1.5 and will be removed in 1.7. From then on, it will always use 'multinomial'. Leave it to its default value to avoid this warning.\n  warnings.warn(\n"
          ]
        },
        {
          "output_type": "stream",
          "name": "stderr",
          "text": [
            "/usr/local/lib/python3.11/dist-packages/sklearn/linear_model/_logistic.py:1247: FutureWarning: 'multi_class' was deprecated in version 1.5 and will be removed in 1.7. From then on, it will always use 'multinomial'. Leave it to its default value to avoid this warning.\n  warnings.warn(\n"
          ]
        },
        {
          "output_type": "stream",
          "name": "stderr",
          "text": [
            "/usr/local/lib/python3.11/dist-packages/sklearn/linear_model/_logistic.py:1247: FutureWarning: 'multi_class' was deprecated in version 1.5 and will be removed in 1.7. From then on, it will always use 'multinomial'. Leave it to its default value to avoid this warning.\n  warnings.warn(\n"
          ]
        },
        {
          "output_type": "stream",
          "name": "stderr",
          "text": [
            "/usr/local/lib/python3.11/dist-packages/sklearn/linear_model/_logistic.py:1247: FutureWarning: 'multi_class' was deprecated in version 1.5 and will be removed in 1.7. From then on, it will always use 'multinomial'. Leave it to its default value to avoid this warning.\n  warnings.warn(\n"
          ]
        },
        {
          "output_type": "stream",
          "name": "stderr",
          "text": [
            "/usr/local/lib/python3.11/dist-packages/sklearn/linear_model/_logistic.py:1247: FutureWarning: 'multi_class' was deprecated in version 1.5 and will be removed in 1.7. From then on, it will always use 'multinomial'. Leave it to its default value to avoid this warning.\n  warnings.warn(\n"
          ]
        },
        {
          "output_type": "stream",
          "name": "stdout",
          "text": [
            "[LR ens 11/24] C=40.0, seed=2025, OOF=0.045635 in 1.89s\n"
          ]
        },
        {
          "output_type": "stream",
          "name": "stderr",
          "text": [
            "/usr/local/lib/python3.11/dist-packages/sklearn/linear_model/_logistic.py:1247: FutureWarning: 'multi_class' was deprecated in version 1.5 and will be removed in 1.7. From then on, it will always use 'multinomial'. Leave it to its default value to avoid this warning.\n  warnings.warn(\n"
          ]
        },
        {
          "output_type": "stream",
          "name": "stderr",
          "text": [
            "/usr/local/lib/python3.11/dist-packages/sklearn/linear_model/_logistic.py:1247: FutureWarning: 'multi_class' was deprecated in version 1.5 and will be removed in 1.7. From then on, it will always use 'multinomial'. Leave it to its default value to avoid this warning.\n  warnings.warn(\n"
          ]
        },
        {
          "output_type": "stream",
          "name": "stderr",
          "text": [
            "/usr/local/lib/python3.11/dist-packages/sklearn/linear_model/_logistic.py:1247: FutureWarning: 'multi_class' was deprecated in version 1.5 and will be removed in 1.7. From then on, it will always use 'multinomial'. Leave it to its default value to avoid this warning.\n  warnings.warn(\n"
          ]
        },
        {
          "output_type": "stream",
          "name": "stderr",
          "text": [
            "/usr/local/lib/python3.11/dist-packages/sklearn/linear_model/_logistic.py:1247: FutureWarning: 'multi_class' was deprecated in version 1.5 and will be removed in 1.7. From then on, it will always use 'multinomial'. Leave it to its default value to avoid this warning.\n  warnings.warn(\n"
          ]
        },
        {
          "output_type": "stream",
          "name": "stderr",
          "text": [
            "/usr/local/lib/python3.11/dist-packages/sklearn/linear_model/_logistic.py:1247: FutureWarning: 'multi_class' was deprecated in version 1.5 and will be removed in 1.7. From then on, it will always use 'multinomial'. Leave it to its default value to avoid this warning.\n  warnings.warn(\n"
          ]
        },
        {
          "output_type": "stream",
          "name": "stderr",
          "text": [
            "/usr/local/lib/python3.11/dist-packages/sklearn/linear_model/_logistic.py:1247: FutureWarning: 'multi_class' was deprecated in version 1.5 and will be removed in 1.7. From then on, it will always use 'multinomial'. Leave it to its default value to avoid this warning.\n  warnings.warn(\n"
          ]
        },
        {
          "output_type": "stream",
          "name": "stdout",
          "text": [
            "[LR ens 12/24] C=40.0, seed=2026, OOF=0.045635 in 2.54s\n"
          ]
        },
        {
          "output_type": "stream",
          "name": "stderr",
          "text": [
            "/usr/local/lib/python3.11/dist-packages/sklearn/linear_model/_logistic.py:1247: FutureWarning: 'multi_class' was deprecated in version 1.5 and will be removed in 1.7. From then on, it will always use 'multinomial'. Leave it to its default value to avoid this warning.\n  warnings.warn(\n"
          ]
        },
        {
          "output_type": "stream",
          "name": "stderr",
          "text": [
            "/usr/local/lib/python3.11/dist-packages/sklearn/linear_model/_logistic.py:1247: FutureWarning: 'multi_class' was deprecated in version 1.5 and will be removed in 1.7. From then on, it will always use 'multinomial'. Leave it to its default value to avoid this warning.\n  warnings.warn(\n"
          ]
        },
        {
          "output_type": "stream",
          "name": "stderr",
          "text": [
            "/usr/local/lib/python3.11/dist-packages/sklearn/linear_model/_logistic.py:1247: FutureWarning: 'multi_class' was deprecated in version 1.5 and will be removed in 1.7. From then on, it will always use 'multinomial'. Leave it to its default value to avoid this warning.\n  warnings.warn(\n"
          ]
        },
        {
          "output_type": "stream",
          "name": "stderr",
          "text": [
            "/usr/local/lib/python3.11/dist-packages/sklearn/linear_model/_logistic.py:1247: FutureWarning: 'multi_class' was deprecated in version 1.5 and will be removed in 1.7. From then on, it will always use 'multinomial'. Leave it to its default value to avoid this warning.\n  warnings.warn(\n"
          ]
        },
        {
          "output_type": "stream",
          "name": "stderr",
          "text": [
            "/usr/local/lib/python3.11/dist-packages/sklearn/linear_model/_logistic.py:1247: FutureWarning: 'multi_class' was deprecated in version 1.5 and will be removed in 1.7. From then on, it will always use 'multinomial'. Leave it to its default value to avoid this warning.\n  warnings.warn(\n"
          ]
        },
        {
          "output_type": "stream",
          "name": "stderr",
          "text": [
            "/usr/local/lib/python3.11/dist-packages/sklearn/linear_model/_logistic.py:1247: FutureWarning: 'multi_class' was deprecated in version 1.5 and will be removed in 1.7. From then on, it will always use 'multinomial'. Leave it to its default value to avoid this warning.\n  warnings.warn(\n"
          ]
        },
        {
          "output_type": "stream",
          "name": "stdout",
          "text": [
            "[LR ens 13/24] C=60.0, seed=2023, OOF=0.052977 in 2.69s\n"
          ]
        },
        {
          "output_type": "stream",
          "name": "stderr",
          "text": [
            "/usr/local/lib/python3.11/dist-packages/sklearn/linear_model/_logistic.py:1247: FutureWarning: 'multi_class' was deprecated in version 1.5 and will be removed in 1.7. From then on, it will always use 'multinomial'. Leave it to its default value to avoid this warning.\n  warnings.warn(\n"
          ]
        },
        {
          "output_type": "stream",
          "name": "stderr",
          "text": [
            "/usr/local/lib/python3.11/dist-packages/sklearn/linear_model/_logistic.py:1247: FutureWarning: 'multi_class' was deprecated in version 1.5 and will be removed in 1.7. From then on, it will always use 'multinomial'. Leave it to its default value to avoid this warning.\n  warnings.warn(\n"
          ]
        },
        {
          "output_type": "stream",
          "name": "stderr",
          "text": [
            "/usr/local/lib/python3.11/dist-packages/sklearn/linear_model/_logistic.py:1247: FutureWarning: 'multi_class' was deprecated in version 1.5 and will be removed in 1.7. From then on, it will always use 'multinomial'. Leave it to its default value to avoid this warning.\n  warnings.warn(\n"
          ]
        },
        {
          "output_type": "stream",
          "name": "stderr",
          "text": [
            "/usr/local/lib/python3.11/dist-packages/sklearn/linear_model/_logistic.py:1247: FutureWarning: 'multi_class' was deprecated in version 1.5 and will be removed in 1.7. From then on, it will always use 'multinomial'. Leave it to its default value to avoid this warning.\n  warnings.warn(\n"
          ]
        },
        {
          "output_type": "stream",
          "name": "stderr",
          "text": [
            "/usr/local/lib/python3.11/dist-packages/sklearn/linear_model/_logistic.py:1247: FutureWarning: 'multi_class' was deprecated in version 1.5 and will be removed in 1.7. From then on, it will always use 'multinomial'. Leave it to its default value to avoid this warning.\n  warnings.warn(\n"
          ]
        },
        {
          "output_type": "stream",
          "name": "stderr",
          "text": [
            "/usr/local/lib/python3.11/dist-packages/sklearn/linear_model/_logistic.py:1247: FutureWarning: 'multi_class' was deprecated in version 1.5 and will be removed in 1.7. From then on, it will always use 'multinomial'. Leave it to its default value to avoid this warning.\n  warnings.warn(\n"
          ]
        },
        {
          "output_type": "stream",
          "name": "stdout",
          "text": [
            "[LR ens 14/24] C=60.0, seed=2024, OOF=0.052977 in 2.74s\n"
          ]
        },
        {
          "output_type": "stream",
          "name": "stderr",
          "text": [
            "/usr/local/lib/python3.11/dist-packages/sklearn/linear_model/_logistic.py:1247: FutureWarning: 'multi_class' was deprecated in version 1.5 and will be removed in 1.7. From then on, it will always use 'multinomial'. Leave it to its default value to avoid this warning.\n  warnings.warn(\n"
          ]
        },
        {
          "output_type": "stream",
          "name": "stderr",
          "text": [
            "/usr/local/lib/python3.11/dist-packages/sklearn/linear_model/_logistic.py:1247: FutureWarning: 'multi_class' was deprecated in version 1.5 and will be removed in 1.7. From then on, it will always use 'multinomial'. Leave it to its default value to avoid this warning.\n  warnings.warn(\n"
          ]
        },
        {
          "output_type": "stream",
          "name": "stderr",
          "text": [
            "/usr/local/lib/python3.11/dist-packages/sklearn/linear_model/_logistic.py:1247: FutureWarning: 'multi_class' was deprecated in version 1.5 and will be removed in 1.7. From then on, it will always use 'multinomial'. Leave it to its default value to avoid this warning.\n  warnings.warn(\n"
          ]
        },
        {
          "output_type": "stream",
          "name": "stderr",
          "text": [
            "/usr/local/lib/python3.11/dist-packages/sklearn/linear_model/_logistic.py:1247: FutureWarning: 'multi_class' was deprecated in version 1.5 and will be removed in 1.7. From then on, it will always use 'multinomial'. Leave it to its default value to avoid this warning.\n  warnings.warn(\n"
          ]
        },
        {
          "output_type": "stream",
          "name": "stderr",
          "text": [
            "/usr/local/lib/python3.11/dist-packages/sklearn/linear_model/_logistic.py:1247: FutureWarning: 'multi_class' was deprecated in version 1.5 and will be removed in 1.7. From then on, it will always use 'multinomial'. Leave it to its default value to avoid this warning.\n  warnings.warn(\n"
          ]
        },
        {
          "output_type": "stream",
          "name": "stderr",
          "text": [
            "/usr/local/lib/python3.11/dist-packages/sklearn/linear_model/_logistic.py:1247: FutureWarning: 'multi_class' was deprecated in version 1.5 and will be removed in 1.7. From then on, it will always use 'multinomial'. Leave it to its default value to avoid this warning.\n  warnings.warn(\n"
          ]
        },
        {
          "output_type": "stream",
          "name": "stdout",
          "text": [
            "[LR ens 15/24] C=60.0, seed=2025, OOF=0.052977 in 2.29s\n"
          ]
        },
        {
          "output_type": "stream",
          "name": "stderr",
          "text": [
            "/usr/local/lib/python3.11/dist-packages/sklearn/linear_model/_logistic.py:1247: FutureWarning: 'multi_class' was deprecated in version 1.5 and will be removed in 1.7. From then on, it will always use 'multinomial'. Leave it to its default value to avoid this warning.\n  warnings.warn(\n"
          ]
        },
        {
          "output_type": "stream",
          "name": "stderr",
          "text": [
            "/usr/local/lib/python3.11/dist-packages/sklearn/linear_model/_logistic.py:1247: FutureWarning: 'multi_class' was deprecated in version 1.5 and will be removed in 1.7. From then on, it will always use 'multinomial'. Leave it to its default value to avoid this warning.\n  warnings.warn(\n"
          ]
        },
        {
          "output_type": "stream",
          "name": "stderr",
          "text": [
            "/usr/local/lib/python3.11/dist-packages/sklearn/linear_model/_logistic.py:1247: FutureWarning: 'multi_class' was deprecated in version 1.5 and will be removed in 1.7. From then on, it will always use 'multinomial'. Leave it to its default value to avoid this warning.\n  warnings.warn(\n"
          ]
        },
        {
          "output_type": "stream",
          "name": "stderr",
          "text": [
            "/usr/local/lib/python3.11/dist-packages/sklearn/linear_model/_logistic.py:1247: FutureWarning: 'multi_class' was deprecated in version 1.5 and will be removed in 1.7. From then on, it will always use 'multinomial'. Leave it to its default value to avoid this warning.\n  warnings.warn(\n"
          ]
        },
        {
          "output_type": "stream",
          "name": "stderr",
          "text": [
            "/usr/local/lib/python3.11/dist-packages/sklearn/linear_model/_logistic.py:1247: FutureWarning: 'multi_class' was deprecated in version 1.5 and will be removed in 1.7. From then on, it will always use 'multinomial'. Leave it to its default value to avoid this warning.\n  warnings.warn(\n"
          ]
        },
        {
          "output_type": "stream",
          "name": "stderr",
          "text": [
            "/usr/local/lib/python3.11/dist-packages/sklearn/linear_model/_logistic.py:1247: FutureWarning: 'multi_class' was deprecated in version 1.5 and will be removed in 1.7. From then on, it will always use 'multinomial'. Leave it to its default value to avoid this warning.\n  warnings.warn(\n"
          ]
        },
        {
          "output_type": "stream",
          "name": "stdout",
          "text": [
            "[LR ens 16/24] C=60.0, seed=2026, OOF=0.052977 in 2.29s\n"
          ]
        },
        {
          "output_type": "stream",
          "name": "stderr",
          "text": [
            "/usr/local/lib/python3.11/dist-packages/sklearn/linear_model/_logistic.py:1247: FutureWarning: 'multi_class' was deprecated in version 1.5 and will be removed in 1.7. From then on, it will always use 'multinomial'. Leave it to its default value to avoid this warning.\n  warnings.warn(\n"
          ]
        },
        {
          "output_type": "stream",
          "name": "stderr",
          "text": [
            "/usr/local/lib/python3.11/dist-packages/sklearn/linear_model/_logistic.py:1247: FutureWarning: 'multi_class' was deprecated in version 1.5 and will be removed in 1.7. From then on, it will always use 'multinomial'. Leave it to its default value to avoid this warning.\n  warnings.warn(\n"
          ]
        },
        {
          "output_type": "stream",
          "name": "stderr",
          "text": [
            "/usr/local/lib/python3.11/dist-packages/sklearn/linear_model/_logistic.py:1247: FutureWarning: 'multi_class' was deprecated in version 1.5 and will be removed in 1.7. From then on, it will always use 'multinomial'. Leave it to its default value to avoid this warning.\n  warnings.warn(\n"
          ]
        },
        {
          "output_type": "stream",
          "name": "stderr",
          "text": [
            "/usr/local/lib/python3.11/dist-packages/sklearn/linear_model/_logistic.py:1247: FutureWarning: 'multi_class' was deprecated in version 1.5 and will be removed in 1.7. From then on, it will always use 'multinomial'. Leave it to its default value to avoid this warning.\n  warnings.warn(\n"
          ]
        },
        {
          "output_type": "stream",
          "name": "stderr",
          "text": [
            "/usr/local/lib/python3.11/dist-packages/sklearn/linear_model/_logistic.py:1247: FutureWarning: 'multi_class' was deprecated in version 1.5 and will be removed in 1.7. From then on, it will always use 'multinomial'. Leave it to its default value to avoid this warning.\n  warnings.warn(\n"
          ]
        },
        {
          "output_type": "stream",
          "name": "stderr",
          "text": [
            "/usr/local/lib/python3.11/dist-packages/sklearn/linear_model/_logistic.py:1247: FutureWarning: 'multi_class' was deprecated in version 1.5 and will be removed in 1.7. From then on, it will always use 'multinomial'. Leave it to its default value to avoid this warning.\n  warnings.warn(\n"
          ]
        },
        {
          "output_type": "stream",
          "name": "stdout",
          "text": [
            "[LR ens 17/24] C=80.0, seed=2023, OOF=0.053087 in 2.40s\n"
          ]
        },
        {
          "output_type": "stream",
          "name": "stderr",
          "text": [
            "/usr/local/lib/python3.11/dist-packages/sklearn/linear_model/_logistic.py:1247: FutureWarning: 'multi_class' was deprecated in version 1.5 and will be removed in 1.7. From then on, it will always use 'multinomial'. Leave it to its default value to avoid this warning.\n  warnings.warn(\n"
          ]
        },
        {
          "output_type": "stream",
          "name": "stderr",
          "text": [
            "/usr/local/lib/python3.11/dist-packages/sklearn/linear_model/_logistic.py:1247: FutureWarning: 'multi_class' was deprecated in version 1.5 and will be removed in 1.7. From then on, it will always use 'multinomial'. Leave it to its default value to avoid this warning.\n  warnings.warn(\n"
          ]
        },
        {
          "output_type": "stream",
          "name": "stderr",
          "text": [
            "/usr/local/lib/python3.11/dist-packages/sklearn/linear_model/_logistic.py:1247: FutureWarning: 'multi_class' was deprecated in version 1.5 and will be removed in 1.7. From then on, it will always use 'multinomial'. Leave it to its default value to avoid this warning.\n  warnings.warn(\n"
          ]
        },
        {
          "output_type": "stream",
          "name": "stderr",
          "text": [
            "/usr/local/lib/python3.11/dist-packages/sklearn/linear_model/_logistic.py:1247: FutureWarning: 'multi_class' was deprecated in version 1.5 and will be removed in 1.7. From then on, it will always use 'multinomial'. Leave it to its default value to avoid this warning.\n  warnings.warn(\n"
          ]
        },
        {
          "output_type": "stream",
          "name": "stderr",
          "text": [
            "/usr/local/lib/python3.11/dist-packages/sklearn/linear_model/_logistic.py:1247: FutureWarning: 'multi_class' was deprecated in version 1.5 and will be removed in 1.7. From then on, it will always use 'multinomial'. Leave it to its default value to avoid this warning.\n  warnings.warn(\n"
          ]
        },
        {
          "output_type": "stream",
          "name": "stderr",
          "text": [
            "/usr/local/lib/python3.11/dist-packages/sklearn/linear_model/_logistic.py:1247: FutureWarning: 'multi_class' was deprecated in version 1.5 and will be removed in 1.7. From then on, it will always use 'multinomial'. Leave it to its default value to avoid this warning.\n  warnings.warn(\n"
          ]
        },
        {
          "output_type": "stream",
          "name": "stdout",
          "text": [
            "[LR ens 18/24] C=80.0, seed=2024, OOF=0.053087 in 2.32s\n"
          ]
        },
        {
          "output_type": "stream",
          "name": "stderr",
          "text": [
            "/usr/local/lib/python3.11/dist-packages/sklearn/linear_model/_logistic.py:1247: FutureWarning: 'multi_class' was deprecated in version 1.5 and will be removed in 1.7. From then on, it will always use 'multinomial'. Leave it to its default value to avoid this warning.\n  warnings.warn(\n"
          ]
        },
        {
          "output_type": "stream",
          "name": "stderr",
          "text": [
            "/usr/local/lib/python3.11/dist-packages/sklearn/linear_model/_logistic.py:1247: FutureWarning: 'multi_class' was deprecated in version 1.5 and will be removed in 1.7. From then on, it will always use 'multinomial'. Leave it to its default value to avoid this warning.\n  warnings.warn(\n"
          ]
        },
        {
          "output_type": "stream",
          "name": "stderr",
          "text": [
            "/usr/local/lib/python3.11/dist-packages/sklearn/linear_model/_logistic.py:1247: FutureWarning: 'multi_class' was deprecated in version 1.5 and will be removed in 1.7. From then on, it will always use 'multinomial'. Leave it to its default value to avoid this warning.\n  warnings.warn(\n"
          ]
        },
        {
          "output_type": "stream",
          "name": "stderr",
          "text": [
            "/usr/local/lib/python3.11/dist-packages/sklearn/linear_model/_logistic.py:1247: FutureWarning: 'multi_class' was deprecated in version 1.5 and will be removed in 1.7. From then on, it will always use 'multinomial'. Leave it to its default value to avoid this warning.\n  warnings.warn(\n"
          ]
        },
        {
          "output_type": "stream",
          "name": "stderr",
          "text": [
            "/usr/local/lib/python3.11/dist-packages/sklearn/linear_model/_logistic.py:1247: FutureWarning: 'multi_class' was deprecated in version 1.5 and will be removed in 1.7. From then on, it will always use 'multinomial'. Leave it to its default value to avoid this warning.\n  warnings.warn(\n"
          ]
        },
        {
          "output_type": "stream",
          "name": "stderr",
          "text": [
            "/usr/local/lib/python3.11/dist-packages/sklearn/linear_model/_logistic.py:1247: FutureWarning: 'multi_class' was deprecated in version 1.5 and will be removed in 1.7. From then on, it will always use 'multinomial'. Leave it to its default value to avoid this warning.\n  warnings.warn(\n"
          ]
        },
        {
          "output_type": "stream",
          "name": "stdout",
          "text": [
            "[LR ens 19/24] C=80.0, seed=2025, OOF=0.053087 in 2.44s\n"
          ]
        },
        {
          "output_type": "stream",
          "name": "stderr",
          "text": [
            "/usr/local/lib/python3.11/dist-packages/sklearn/linear_model/_logistic.py:1247: FutureWarning: 'multi_class' was deprecated in version 1.5 and will be removed in 1.7. From then on, it will always use 'multinomial'. Leave it to its default value to avoid this warning.\n  warnings.warn(\n"
          ]
        },
        {
          "output_type": "stream",
          "name": "stderr",
          "text": [
            "/usr/local/lib/python3.11/dist-packages/sklearn/linear_model/_logistic.py:1247: FutureWarning: 'multi_class' was deprecated in version 1.5 and will be removed in 1.7. From then on, it will always use 'multinomial'. Leave it to its default value to avoid this warning.\n  warnings.warn(\n"
          ]
        },
        {
          "output_type": "stream",
          "name": "stderr",
          "text": [
            "/usr/local/lib/python3.11/dist-packages/sklearn/linear_model/_logistic.py:1247: FutureWarning: 'multi_class' was deprecated in version 1.5 and will be removed in 1.7. From then on, it will always use 'multinomial'. Leave it to its default value to avoid this warning.\n  warnings.warn(\n"
          ]
        },
        {
          "output_type": "stream",
          "name": "stderr",
          "text": [
            "/usr/local/lib/python3.11/dist-packages/sklearn/linear_model/_logistic.py:1247: FutureWarning: 'multi_class' was deprecated in version 1.5 and will be removed in 1.7. From then on, it will always use 'multinomial'. Leave it to its default value to avoid this warning.\n  warnings.warn(\n"
          ]
        },
        {
          "output_type": "stream",
          "name": "stderr",
          "text": [
            "/usr/local/lib/python3.11/dist-packages/sklearn/linear_model/_logistic.py:1247: FutureWarning: 'multi_class' was deprecated in version 1.5 and will be removed in 1.7. From then on, it will always use 'multinomial'. Leave it to its default value to avoid this warning.\n  warnings.warn(\n"
          ]
        },
        {
          "output_type": "stream",
          "name": "stderr",
          "text": [
            "/usr/local/lib/python3.11/dist-packages/sklearn/linear_model/_logistic.py:1247: FutureWarning: 'multi_class' was deprecated in version 1.5 and will be removed in 1.7. From then on, it will always use 'multinomial'. Leave it to its default value to avoid this warning.\n  warnings.warn(\n"
          ]
        },
        {
          "output_type": "stream",
          "name": "stdout",
          "text": [
            "[LR ens 20/24] C=80.0, seed=2026, OOF=0.053087 in 2.26s\n"
          ]
        },
        {
          "output_type": "stream",
          "name": "stderr",
          "text": [
            "/usr/local/lib/python3.11/dist-packages/sklearn/linear_model/_logistic.py:1247: FutureWarning: 'multi_class' was deprecated in version 1.5 and will be removed in 1.7. From then on, it will always use 'multinomial'. Leave it to its default value to avoid this warning.\n  warnings.warn(\n"
          ]
        },
        {
          "output_type": "stream",
          "name": "stderr",
          "text": [
            "/usr/local/lib/python3.11/dist-packages/sklearn/linear_model/_logistic.py:1247: FutureWarning: 'multi_class' was deprecated in version 1.5 and will be removed in 1.7. From then on, it will always use 'multinomial'. Leave it to its default value to avoid this warning.\n  warnings.warn(\n"
          ]
        },
        {
          "output_type": "stream",
          "name": "stderr",
          "text": [
            "/usr/local/lib/python3.11/dist-packages/sklearn/linear_model/_logistic.py:1247: FutureWarning: 'multi_class' was deprecated in version 1.5 and will be removed in 1.7. From then on, it will always use 'multinomial'. Leave it to its default value to avoid this warning.\n  warnings.warn(\n"
          ]
        },
        {
          "output_type": "stream",
          "name": "stderr",
          "text": [
            "/usr/local/lib/python3.11/dist-packages/sklearn/linear_model/_logistic.py:1247: FutureWarning: 'multi_class' was deprecated in version 1.5 and will be removed in 1.7. From then on, it will always use 'multinomial'. Leave it to its default value to avoid this warning.\n  warnings.warn(\n"
          ]
        },
        {
          "output_type": "stream",
          "name": "stderr",
          "text": [
            "/usr/local/lib/python3.11/dist-packages/sklearn/linear_model/_logistic.py:1247: FutureWarning: 'multi_class' was deprecated in version 1.5 and will be removed in 1.7. From then on, it will always use 'multinomial'. Leave it to its default value to avoid this warning.\n  warnings.warn(\n"
          ]
        },
        {
          "output_type": "stream",
          "name": "stderr",
          "text": [
            "/usr/local/lib/python3.11/dist-packages/sklearn/linear_model/_logistic.py:1247: FutureWarning: 'multi_class' was deprecated in version 1.5 and will be removed in 1.7. From then on, it will always use 'multinomial'. Leave it to its default value to avoid this warning.\n  warnings.warn(\n"
          ]
        },
        {
          "output_type": "stream",
          "name": "stdout",
          "text": [
            "[LR ens 21/24] C=100.0, seed=2023, OOF=0.052654 in 2.13s\n"
          ]
        },
        {
          "output_type": "stream",
          "name": "stderr",
          "text": [
            "/usr/local/lib/python3.11/dist-packages/sklearn/linear_model/_logistic.py:1247: FutureWarning: 'multi_class' was deprecated in version 1.5 and will be removed in 1.7. From then on, it will always use 'multinomial'. Leave it to its default value to avoid this warning.\n  warnings.warn(\n"
          ]
        },
        {
          "output_type": "stream",
          "name": "stderr",
          "text": [
            "/usr/local/lib/python3.11/dist-packages/sklearn/linear_model/_logistic.py:1247: FutureWarning: 'multi_class' was deprecated in version 1.5 and will be removed in 1.7. From then on, it will always use 'multinomial'. Leave it to its default value to avoid this warning.\n  warnings.warn(\n"
          ]
        },
        {
          "output_type": "stream",
          "name": "stderr",
          "text": [
            "/usr/local/lib/python3.11/dist-packages/sklearn/linear_model/_logistic.py:1247: FutureWarning: 'multi_class' was deprecated in version 1.5 and will be removed in 1.7. From then on, it will always use 'multinomial'. Leave it to its default value to avoid this warning.\n  warnings.warn(\n"
          ]
        },
        {
          "output_type": "stream",
          "name": "stderr",
          "text": [
            "/usr/local/lib/python3.11/dist-packages/sklearn/linear_model/_logistic.py:1247: FutureWarning: 'multi_class' was deprecated in version 1.5 and will be removed in 1.7. From then on, it will always use 'multinomial'. Leave it to its default value to avoid this warning.\n  warnings.warn(\n"
          ]
        },
        {
          "output_type": "stream",
          "name": "stderr",
          "text": [
            "/usr/local/lib/python3.11/dist-packages/sklearn/linear_model/_logistic.py:1247: FutureWarning: 'multi_class' was deprecated in version 1.5 and will be removed in 1.7. From then on, it will always use 'multinomial'. Leave it to its default value to avoid this warning.\n  warnings.warn(\n"
          ]
        },
        {
          "output_type": "stream",
          "name": "stderr",
          "text": [
            "/usr/local/lib/python3.11/dist-packages/sklearn/linear_model/_logistic.py:1247: FutureWarning: 'multi_class' was deprecated in version 1.5 and will be removed in 1.7. From then on, it will always use 'multinomial'. Leave it to its default value to avoid this warning.\n  warnings.warn(\n"
          ]
        },
        {
          "output_type": "stream",
          "name": "stdout",
          "text": [
            "[LR ens 22/24] C=100.0, seed=2024, OOF=0.052654 in 2.16s\n"
          ]
        },
        {
          "output_type": "stream",
          "name": "stderr",
          "text": [
            "/usr/local/lib/python3.11/dist-packages/sklearn/linear_model/_logistic.py:1247: FutureWarning: 'multi_class' was deprecated in version 1.5 and will be removed in 1.7. From then on, it will always use 'multinomial'. Leave it to its default value to avoid this warning.\n  warnings.warn(\n"
          ]
        },
        {
          "output_type": "stream",
          "name": "stderr",
          "text": [
            "/usr/local/lib/python3.11/dist-packages/sklearn/linear_model/_logistic.py:1247: FutureWarning: 'multi_class' was deprecated in version 1.5 and will be removed in 1.7. From then on, it will always use 'multinomial'. Leave it to its default value to avoid this warning.\n  warnings.warn(\n"
          ]
        },
        {
          "output_type": "stream",
          "name": "stderr",
          "text": [
            "/usr/local/lib/python3.11/dist-packages/sklearn/linear_model/_logistic.py:1247: FutureWarning: 'multi_class' was deprecated in version 1.5 and will be removed in 1.7. From then on, it will always use 'multinomial'. Leave it to its default value to avoid this warning.\n  warnings.warn(\n"
          ]
        },
        {
          "output_type": "stream",
          "name": "stderr",
          "text": [
            "/usr/local/lib/python3.11/dist-packages/sklearn/linear_model/_logistic.py:1247: FutureWarning: 'multi_class' was deprecated in version 1.5 and will be removed in 1.7. From then on, it will always use 'multinomial'. Leave it to its default value to avoid this warning.\n  warnings.warn(\n"
          ]
        },
        {
          "output_type": "stream",
          "name": "stderr",
          "text": [
            "/usr/local/lib/python3.11/dist-packages/sklearn/linear_model/_logistic.py:1247: FutureWarning: 'multi_class' was deprecated in version 1.5 and will be removed in 1.7. From then on, it will always use 'multinomial'. Leave it to its default value to avoid this warning.\n  warnings.warn(\n"
          ]
        },
        {
          "output_type": "stream",
          "name": "stderr",
          "text": [
            "/usr/local/lib/python3.11/dist-packages/sklearn/linear_model/_logistic.py:1247: FutureWarning: 'multi_class' was deprecated in version 1.5 and will be removed in 1.7. From then on, it will always use 'multinomial'. Leave it to its default value to avoid this warning.\n  warnings.warn(\n"
          ]
        },
        {
          "output_type": "stream",
          "name": "stdout",
          "text": [
            "[LR ens 23/24] C=100.0, seed=2025, OOF=0.052654 in 2.65s\n"
          ]
        },
        {
          "output_type": "stream",
          "name": "stderr",
          "text": [
            "/usr/local/lib/python3.11/dist-packages/sklearn/linear_model/_logistic.py:1247: FutureWarning: 'multi_class' was deprecated in version 1.5 and will be removed in 1.7. From then on, it will always use 'multinomial'. Leave it to its default value to avoid this warning.\n  warnings.warn(\n"
          ]
        },
        {
          "output_type": "stream",
          "name": "stderr",
          "text": [
            "/usr/local/lib/python3.11/dist-packages/sklearn/linear_model/_logistic.py:1247: FutureWarning: 'multi_class' was deprecated in version 1.5 and will be removed in 1.7. From then on, it will always use 'multinomial'. Leave it to its default value to avoid this warning.\n  warnings.warn(\n"
          ]
        },
        {
          "output_type": "stream",
          "name": "stderr",
          "text": [
            "/usr/local/lib/python3.11/dist-packages/sklearn/linear_model/_logistic.py:1247: FutureWarning: 'multi_class' was deprecated in version 1.5 and will be removed in 1.7. From then on, it will always use 'multinomial'. Leave it to its default value to avoid this warning.\n  warnings.warn(\n"
          ]
        },
        {
          "output_type": "stream",
          "name": "stderr",
          "text": [
            "/usr/local/lib/python3.11/dist-packages/sklearn/linear_model/_logistic.py:1247: FutureWarning: 'multi_class' was deprecated in version 1.5 and will be removed in 1.7. From then on, it will always use 'multinomial'. Leave it to its default value to avoid this warning.\n  warnings.warn(\n"
          ]
        },
        {
          "output_type": "stream",
          "name": "stderr",
          "text": [
            "/usr/local/lib/python3.11/dist-packages/sklearn/linear_model/_logistic.py:1247: FutureWarning: 'multi_class' was deprecated in version 1.5 and will be removed in 1.7. From then on, it will always use 'multinomial'. Leave it to its default value to avoid this warning.\n  warnings.warn(\n"
          ]
        },
        {
          "output_type": "stream",
          "name": "stderr",
          "text": [
            "/usr/local/lib/python3.11/dist-packages/sklearn/linear_model/_logistic.py:1247: FutureWarning: 'multi_class' was deprecated in version 1.5 and will be removed in 1.7. From then on, it will always use 'multinomial'. Leave it to its default value to avoid this warning.\n  warnings.warn(\n"
          ]
        },
        {
          "output_type": "stream",
          "name": "stdout",
          "text": [
            "[LR ens 24/24] C=100.0, seed=2026, OOF=0.052654 in 2.29s\n"
          ]
        },
        {
          "output_type": "stream",
          "name": "stdout",
          "text": [
            "LR ensemble OOF: 0.047906 | built from 24 models in 55.18s\nSaved oof_lr_ens.npy and test_lr_ens.npy for blending\n"
          ]
        }
      ]
    },
    {
      "id": "7f8e6c24-a81b-4a21-8dfa-bc64d655af16",
      "cell_type": "code",
      "metadata": {},
      "source": [
        "# Calibrated LinearSVC on raw StandardScaled features (per expert advice)\n",
        "import numpy as np, json, time\n",
        "from sklearn.preprocessing import StandardScaler\n",
        "from sklearn.svm import LinearSVC\n",
        "from sklearn.calibration import CalibratedClassifierCV\n",
        "from sklearn.metrics import log_loss\n",
        "\n",
        "SEED = 2025\n",
        "X = train[feature_cols].values.astype(np.float64)\n",
        "X_test = test[feature_cols].values.astype(np.float64)\n",
        "y_idx = y_enc.astype(int)\n",
        "K = len(le.classes_)\n",
        "with open('folds_6.json', 'r') as f:\n",
        "    folds = json.load(f)\n",
        "\n",
        "def clip_norm(P):\n",
        "    P = np.clip(P, 1e-15, 1-1e-15)\n",
        "    return P / P.sum(axis=1, keepdims=True)\n",
        "\n",
        "def run_linsvc_cal(Cs=(0.5, 1.0, 2.0, 4.0)):\n",
        "    best = (None, 1e9); best_oof=None; best_test=None\n",
        "    for C in Cs:\n",
        "        oof = np.zeros((len(X), K), dtype=np.float64)\n",
        "        test_pred = np.zeros((len(X_test), K), dtype=np.float64)\n",
        "        t0 = time.time()\n",
        "        for i, (trn_idx, val_idx) in enumerate(folds, 1):\n",
        "            trn_idx = np.array(trn_idx); val_idx = np.array(val_idx)\n",
        "            sc = StandardScaler()\n",
        "            X_tr = sc.fit_transform(X[trn_idx])\n",
        "            X_va = sc.transform(X[val_idx])\n",
        "            X_te = sc.transform(X_test)\n",
        "            base = LinearSVC(dual='auto', C=C, max_iter=20000, tol=1e-4, random_state=SEED)\n",
        "            # sklearn >=1.6 uses 'estimator' instead of 'base_estimator'\n",
        "            clf = CalibratedClassifierCV(estimator=base, method='sigmoid', cv=5)\n",
        "            fstart = time.time()\n",
        "            clf.fit(X_tr, y_idx[trn_idx])\n",
        "            P_va = clf.predict_proba(X_va)\n",
        "            oof[val_idx] = P_va\n",
        "            test_pred += clf.predict_proba(X_te) / len(folds)\n",
        "            print(f'[LinSVC Cal fold {i}/{len(folds)}] C={C}, time={time.time()-fstart:.2f}s', flush=True)\n",
        "        ll = log_loss(y_idx, clip_norm(oof), labels=list(range(K)))\n",
        "        print(f'LinSVC Cal OOF: {ll:.6f} | C={C} in {time.time()-t0:.2f}s', flush=True)\n",
        "        if ll < best[1]:\n",
        "            best = (C, ll); best_oof=oof; best_test=test_pred\n",
        "    print('Best LinSVC Cal:', best)\n",
        "    return best, best_oof, best_test\n",
        "\n",
        "best_lsvc, oof_lsvc, test_lsvc = run_linsvc_cal(Cs=(0.5, 1.0, 2.0, 4.0))\n",
        "np.save('oof_linsvc_cal.npy', oof_lsvc)\n",
        "np.save('test_linsvc_cal.npy', test_lsvc)\n",
        "print('Saved oof_linsvc_cal.npy and test_linsvc_cal.npy')"
      ],
      "execution_count": 36,
      "outputs": [
        {
          "output_type": "stream",
          "name": "stdout",
          "text": [
            "[LinSVC Cal fold 1/6] C=0.5, time=21.44s\n"
          ]
        },
        {
          "output_type": "stream",
          "name": "stdout",
          "text": [
            "[LinSVC Cal fold 2/6] C=0.5, time=22.07s\n"
          ]
        },
        {
          "output_type": "stream",
          "name": "stdout",
          "text": [
            "[LinSVC Cal fold 3/6] C=0.5, time=21.50s\n"
          ]
        },
        {
          "output_type": "stream",
          "name": "stdout",
          "text": [
            "[LinSVC Cal fold 4/6] C=0.5, time=20.84s\n"
          ]
        },
        {
          "output_type": "stream",
          "name": "stdout",
          "text": [
            "[LinSVC Cal fold 5/6] C=0.5, time=21.06s\n"
          ]
        },
        {
          "output_type": "stream",
          "name": "stdout",
          "text": [
            "[LinSVC Cal fold 6/6] C=0.5, time=21.43s\n"
          ]
        },
        {
          "output_type": "stream",
          "name": "stdout",
          "text": [
            "LinSVC Cal OOF: 1.140908 | C=0.5 in 128.36s\n"
          ]
        },
        {
          "output_type": "stream",
          "name": "stdout",
          "text": [
            "[LinSVC Cal fold 1/6] C=1.0, time=48.78s\n"
          ]
        },
        {
          "output_type": "stream",
          "name": "stdout",
          "text": [
            "[LinSVC Cal fold 2/6] C=1.0, time=49.86s\n"
          ]
        },
        {
          "output_type": "stream",
          "name": "stdout",
          "text": [
            "[LinSVC Cal fold 3/6] C=1.0, time=50.63s\n"
          ]
        }
      ]
    },
    {
      "id": "d884a909-f791-4352-b06d-6014623f7eb3",
      "cell_type": "code",
      "metadata": {},
      "source": [
        "# SLSQP blend v4: USE lr_ens (replace lr_base) + concat_lr + chi2_lr + optional blockL1 -> temp scale -> soft submission\n",
        "import numpy as np, pandas as pd, time, sys, subprocess\n",
        "from sklearn.metrics import log_loss\n",
        "\n",
        "def ensure_scipy():\n",
        "    try:\n",
        "        import scipy  # noqa: F401\n",
        "        from scipy.optimize import minimize  # noqa: F401\n",
        "        return True\n",
        "    except Exception:\n",
        "        subprocess.run([sys.executable, '-m', 'pip', 'install', '-q', 'scipy'], check=True)\n",
        "        return True\n",
        "\n",
        "def clip_norm(P):\n",
        "    P = np.clip(P, 1e-15, 1-1e-15)\n",
        "    return P / P.sum(axis=1, keepdims=True)\n",
        "\n",
        "ensure_scipy()\n",
        "from scipy.optimize import minimize\n",
        "\n",
        "# Load candidates (replace lr_base with lr_ens)\n",
        "cands = []\n",
        "names = []\n",
        "y_idx = y_enc.astype(int)\n",
        "num_classes = len(le.classes_)\n",
        "\n",
        "oof_lr = np.load('oof_lr_ens.npy'); test_lr = np.load('test_lr_ens.npy')\n",
        "cands.append((oof_lr, test_lr)); names.append('lr_ens')\n",
        "try:\n",
        "    oof_concat = np.load('oof_concat_lr.npy'); test_concat = np.load('test_concat_lr.npy')\n",
        "    cands.append((oof_concat, test_concat)); names.append('concat_lr')\n",
        "except Exception as e:\n",
        "    print('Missing concat_lr, continuing without it:', e)\n",
        "try:\n",
        "    oof_c2 = np.load('oof_chi2_lr.npy'); test_c2 = np.load('test_chi2_lr.npy')\n",
        "    cands.append((oof_c2, test_c2)); names.append('chi2_lr')\n",
        "except Exception as e:\n",
        "    print('Missing chi2_lr, continuing without it:', e)\n",
        "try:\n",
        "    oof_blk = np.load('oof_block_hell_lr.npy'); test_blk = np.load('test_block_hell_lr.npy')\n",
        "    cands.append((oof_blk, test_blk)); names.append('blockL1_lr')\n",
        "except Exception as e:\n",
        "    print('Missing blockL1_lr, continuing without it:', e)\n",
        "\n",
        "assert len(cands) >= 2, 'Need at least two models to blend'\n",
        "oofs = [o for o,_ in cands]\n",
        "tests = [t for _,t in cands]\n",
        "\n",
        "def blend_from_w(weights, mats):\n",
        "    P = np.zeros_like(mats[0])\n",
        "    for wi, Pi in zip(weights, mats):\n",
        "        P += wi * Pi\n",
        "    return clip_norm(P)\n",
        "\n",
        "def objective(w):\n",
        "    P = blend_from_w(w, oofs)\n",
        "    return log_loss(y_idx, P, labels=list(range(num_classes)))\n",
        "\n",
        "m = len(cands)\n",
        "w0 = np.ones(m, dtype=np.float64) / m\n",
        "bounds = [(0.0, 1.0)] * m\n",
        "cons = ({'type': 'eq', 'fun': lambda w: np.sum(w) - 1.0},)\n",
        "t0 = time.time()\n",
        "res = minimize(objective, w0, method='SLSQP', bounds=bounds, constraints=cons, options={'maxiter': 800, 'ftol': 1e-10, 'disp': False})\n",
        "w_opt = res.x if res.success else w0\n",
        "w_opt = np.maximum(w_opt, 0); w_opt = w_opt / w_opt.sum()\n",
        "oof_blend = blend_from_w(w_opt, oofs)\n",
        "test_blend = blend_from_w(w_opt, tests)\n",
        "oof_ll = log_loss(y_idx, oof_blend, labels=list(range(num_classes)))\n",
        "print('SLSQP success:', res.success, '| OOF(pre-cal):', oof_ll, '| Weights:', dict(zip(names, np.round(w_opt, 4))), '| time {:.2f}s'.format(time.time()-t0))\n",
        "\n",
        "# Single global temperature scaling on blended probabilities\n",
        "def temp_scale(P, alpha):\n",
        "    Ps = np.power(np.clip(P, 1e-15, 1-1e-15), float(alpha))\n",
        "    return Ps / Ps.sum(axis=1, keepdims=True)\n",
        "\n",
        "alphas = np.linspace(0.6, 2.4, 181)\n",
        "best = (1.0, 1e9)\n",
        "for a in alphas:\n",
        "    ll = log_loss(y_idx, temp_scale(oof_blend, a), labels=list(range(num_classes)))\n",
        "    if ll < best[1]:\n",
        "        best = (float(a), float(ll))\n",
        "print(f'Temp scaling on blend: alpha={best[0]:.4f}, OOF={best[1]:.6f}')\n",
        "alpha_opt = best[0]\n",
        "test_cal = temp_scale(test_blend, alpha_opt)\n",
        "\n",
        "# Write soft submission only (per production guidance)\n",
        "pred_df = pd.DataFrame(test_cal, columns=list(le.classes_))\n",
        "sub_cols = [c for c in sample_sub.columns if c != id_col]\n",
        "pred_df = pred_df[sub_cols]\n",
        "submission = pd.concat([test[[id_col]].reset_index(drop=True), pred_df.reset_index(drop=True)], axis=1)\n",
        "submission.to_csv('submission.csv', index=False)\n",
        "submission.to_csv('submission_lrENS_soft_blend_calibrated.csv', index=False)\n",
        "print('Saved submission.csv and submission_lrENS_soft_blend_calibrated.csv:', submission.shape)"
      ],
      "execution_count": 37,
      "outputs": [
        {
          "output_type": "stream",
          "name": "stdout",
          "text": [
            "SLSQP success: True | OOF(pre-cal): 0.04546574498885025 | Weights: {'lr_ens': 0.5194, 'concat_lr': 0.2301, 'chi2_lr': 0.2342, 'blockL1_lr': 0.0163} | time 0.34s\n"
          ]
        },
        {
          "output_type": "stream",
          "name": "stdout",
          "text": [
            "Temp scaling on blend: alpha=1.8500, OOF=0.031526\nSaved submission.csv and submission_lrENS_soft_blend_calibrated.csv: (99, 100)\n"
          ]
        }
      ]
    }
  ],
  "metadata": {
    "kernelspec": {
      "display_name": "Python 3",
      "language": "python",
      "name": "python3"
    },
    "language_info": {
      "name": "python",
      "version": "3.11.0rc1"
    }
  },
  "nbformat": 4,
  "nbformat_minor": 5
}